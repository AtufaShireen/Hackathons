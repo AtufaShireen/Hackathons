{
  "cells": [
    {
      "cell_type": "code",
      "execution_count": 152,
      "metadata": {
        "id": "_dI_IWgnEbK-"
      },
      "outputs": [],
      "source": [
        "import pandas as pd\n",
        "import seaborn as sns\n",
        "import numpy as np\n",
        "from tensorflow.keras.models import Sequential\n",
        "from tensorflow.keras.layers import LSTM,Bidirectional,BatchNormalization\n",
        "from tensorflow.keras.layers import Dense, Dropout\n",
        "from tensorflow.keras.models import load_model\n",
        "import pandas as pd\n",
        "from matplotlib import pyplot as plt\n",
        "from sklearn.preprocessing import StandardScaler\n",
        "import seaborn as sns\n"
      ]
    },
    {
      "cell_type": "code",
      "execution_count": 153,
      "metadata": {
        "id": "GmqJ9qUbH7Qv"
      },
      "outputs": [],
      "source": [
        "base_path = r'C:\\projects\\digit_prediction\\tredence'\n",
        "train_path = r'C:\\projects\\digit_prediction\\tredence\\data\\train.csv'\n",
        "test_path = r'C:\\projects\\digit_prediction\\tredence\\data\\test.csv'"
      ]
    },
    {
      "cell_type": "code",
      "execution_count": 154,
      "metadata": {
        "colab": {
          "base_uri": "https://localhost:8080/"
        },
        "id": "-qGlqUANJjmA",
        "outputId": "7349ebb7-01e4-4453-f257-51d70e8a2bfd"
      },
      "outputs": [
        {
          "name": "stdout",
          "output_type": "stream",
          "text": [
            "(16644, 12)\n"
          ]
        }
      ],
      "source": [
        "train_df = pd.read_csv(train_path)\n",
        "print(train_df.shape)"
      ]
    },
    {
      "cell_type": "code",
      "execution_count": 155,
      "metadata": {},
      "outputs": [],
      "source": [
        "train_df = train_df[~( (train_df['date'] >= '2017-01-01') & (train_df['date'] < '2019-01-01') )]"
      ]
    },
    {
      "cell_type": "code",
      "execution_count": 156,
      "metadata": {
        "colab": {
          "base_uri": "https://localhost:8080/"
        },
        "id": "2xWAjD69bbO3",
        "outputId": "0e468371-aa38-4b82-cf43-3d4b0d72bc19"
      },
      "outputs": [
        {
          "data": {
            "text/plain": [
              "array(['WH_0x3e9', 'WH_0x3ea', 'WH_0x3eb', 'WH_0x3ec', 'WH_0x3ed',\n",
              "       'WH_0x3ee', 'WH_0x3ef', 'WH_0x3f1', 'WH_0x3f0', 'WH_0x3f2'],\n",
              "      dtype=object)"
            ]
          },
          "execution_count": 156,
          "metadata": {},
          "output_type": "execute_result"
        }
      ],
      "source": [
        "train_df['warehouse_ID'].unique()"
      ]
    },
    {
      "cell_type": "markdown",
      "metadata": {
        "id": "LyCn90Bqa82J"
      },
      "source": [
        "## preprocessing"
      ]
    },
    {
      "cell_type": "code",
      "execution_count": 157,
      "metadata": {
        "id": "7xnuOcfVO3j3"
      },
      "outputs": [],
      "source": [
        "train_df['date'] = pd.to_datetime(train_df['date'],format='%Y-%m-%d')"
      ]
    },
    {
      "cell_type": "code",
      "execution_count": 158,
      "metadata": {
        "id": "ggHobUFyPQ6t"
      },
      "outputs": [],
      "source": [
        "train_df['is_weekend'] = train_df['date'].dt.weekday.apply(lambda x: 'Yes' if x >= 6 else 'No')\n"
      ]
    },
    {
      "cell_type": "code",
      "execution_count": 159,
      "metadata": {},
      "outputs": [],
      "source": [
        "train_df.to_csv('tredence_non_null.csv',index=False)"
      ]
    },
    {
      "cell_type": "code",
      "execution_count": 160,
      "metadata": {
        "id": "KbXClteOjvZW"
      },
      "outputs": [],
      "source": [
        "def checkout(x):\n",
        "    if x =='Yes':\n",
        "        return 1.0\n",
        "    elif x =='No':\n",
        "        return 0.0\n",
        "    else:\n",
        "        return x\n",
        "train_df['is_warehouse_closed'] = train_df['is_warehouse_closed'].apply(lambda x: checkout(x))\n",
        "train_df['is_weekend'] = train_df['is_weekend'].apply(lambda x: checkout(x))\n",
        "train_df['Product_Type'] = train_df['Product_Type'].apply(lambda x: 1 if x=='Type_A' else 0)\n",
        "train_df['is_warehouse_closed'] = train_df['daily_dispatch_count'].apply(lambda x: 1 if x > 0.0 else 0)"
      ]
    },
    {
      "cell_type": "markdown",
      "metadata": {},
      "source": [
        " ## Analysis"
      ]
    },
    {
      "cell_type": "code",
      "execution_count": 82,
      "metadata": {},
      "outputs": [
        {
          "data": {
            "text/plain": [
              "<AxesSubplot:xlabel='date'>"
            ]
          },
          "execution_count": 82,
          "metadata": {},
          "output_type": "execute_result"
        },
        {
          "data": {
            "image/png": "[encoded data removed]",
            "text/plain": [
              "<Figure size 432x288 with 1 Axes>"
            ]
          },
          "metadata": {
            "needs_background": "light"
          },
          "output_type": "display_data"
        }
      ],
      "source": [
        "k = train_df['daily_dispatch_count']\n",
        "k.index = train_df['date']\n",
        "k.plot()"
      ]
    },
    {
      "cell_type": "markdown",
      "metadata": {},
      "source": [
        "* For the pre pandemic years, the daily dispatch count used to be between 2.5~ 17.5\n",
        "* Covid effect can be seen from june of 2020, where the range for warehouse became ~ 0-12.5"
      ]
    },
    {
      "cell_type": "code",
      "execution_count": 83,
      "metadata": {},
      "outputs": [
        {
          "data": {
            "text/plain": [
              "warehouse_ID\n",
              "WH_0x3e9   2019-01-01\n",
              "WH_0x3ea   2019-01-01\n",
              "WH_0x3eb   2019-01-01\n",
              "WH_0x3ec   2019-01-01\n",
              "WH_0x3ed   2019-01-02\n",
              "WH_0x3ee   2019-05-02\n",
              "WH_0x3ef   2020-01-02\n",
              "WH_0x3f0   2020-05-02\n",
              "WH_0x3f1   2020-02-02\n",
              "WH_0x3f2   2020-06-02\n",
              "Name: date, dtype: datetime64[ns]"
            ]
          },
          "execution_count": 83,
          "metadata": {},
          "output_type": "execute_result"
        }
      ],
      "source": [
        "train_df.groupby(['warehouse_ID'])['date'].min()"
      ]
    },
    {
      "cell_type": "code",
      "execution_count": 84,
      "metadata": {},
      "outputs": [
        {
          "data": {
            "text/plain": [
              "<AxesSubplot:xlabel='year', ylabel='count'>"
            ]
          },
          "execution_count": 84,
          "metadata": {},
          "output_type": "execute_result"
        },
        {
          "data": {
            "image/png": "[encoded data removed]",
            "text/plain": [
              "<Figure size 432x288 with 1 Axes>"
            ]
          },
          "metadata": {
            "needs_background": "light"
          },
          "output_type": "display_data"
        }
      ],
      "source": [
        "sns.countplot(x = train_df['year'],hue = train_df['warehouse_ID'])"
      ]
    },
    {
      "cell_type": "markdown",
      "metadata": {},
      "source": [
        "* We can see addition of two new warehouses every year, i.e. in jan and may or june"
      ]
    },
    {
      "cell_type": "code",
      "execution_count": 85,
      "metadata": {},
      "outputs": [
        {
          "data": {
            "image/png": "[encoded data removed]",
            "text/plain": [
              "<Figure size 1656x720 with 1 Axes>"
            ]
          },
          "metadata": {
            "needs_background": "light"
          },
          "output_type": "display_data"
        }
      ],
      "source": [
        "g = train_df.groupby(['warehouse_ID','year'], as_index=False)['daily_dispatch_count'].sum()\n",
        "\n",
        "import matplotlib.pyplot as plt\n",
        "import seaborn as sns\n",
        "\n",
        "plt.figure(figsize=(23,10))\n",
        "sns.lineplot(x=g['year'], y= g['daily_dispatch_count'], hue = g['warehouse_ID'],estimator='sum',legend='full',sort=True)\n",
        "plt.show()"
      ]
    },
    {
      "cell_type": "markdown",
      "metadata": {},
      "source": [
        "* warehouse e9 can be seen to have the highest daily_dispatch_count, then eb and ec since they joined earlier.\n",
        "* A drastic decrease in the daily dispatch count can be seen after 2019.\n",
        "* Until the 2021, all the warehouses can be seen to have equal dispatch rates post the begining of 2020.\n"
      ]
    },
    {
      "cell_type": "code",
      "execution_count": 86,
      "metadata": {},
      "outputs": [
        {
          "name": "stdout",
          "output_type": "stream",
          "text": [
            "nan\n",
            "nan\n",
            "nan\n",
            "nan\n",
            "nan\n",
            "nan\n"
          ]
        }
      ],
      "source": [
        "q = train_df[(train_df['warehouse_ID'] == 'WH_0x3e9') & (train_df['year'] == 2019)]\n",
        "\n",
        "print(np.mean(q[q['is_weekend']=='Yes']['daily_dispatch_count']))\n",
        "print(np.mean(q[q['is_weekend']=='No']['daily_dispatch_count']))\n",
        "\n",
        "q = train_df[(train_df['warehouse_ID'] == 'WH_0x3e9') & (train_df['year'] == 2020)]\n",
        "\n",
        "print(np.mean(q[q['is_weekend']=='Yes']['daily_dispatch_count']))\n",
        "print(np.mean(q[q['is_weekend']=='No']['daily_dispatch_count']))\n",
        "\n",
        "q = train_df[(train_df['warehouse_ID'] == 'WH_0x3e9') & (train_df['year'] == 2021)]\n",
        "\n",
        "print(np.mean(q[q['is_weekend']=='Yes']['daily_dispatch_count']))\n",
        "print(np.mean(q[q['is_weekend']=='No']['daily_dispatch_count']))"
      ]
    },
    {
      "cell_type": "code",
      "execution_count": 87,
      "metadata": {},
      "outputs": [
        {
          "data": {
            "image/png": "[encoded data removed]",
            "text/plain": [
              "<Figure size 1440x720 with 2 Axes>"
            ]
          },
          "metadata": {
            "needs_background": "light"
          },
          "output_type": "display_data"
        }
      ],
      "source": [
        "q = train_df[(train_df['warehouse_ID'] == 'WH_0x3e9')]\n",
        "fig, (ax1, ax2) = plt.subplots(1, 2,figsize=(20,10))\n",
        "\n",
        "fig.suptitle(' dispatch sum on weekends vs count of weekends')\n",
        "sns.barplot(y = q['daily_dispatch_count'], x=q['is_weekend'],estimator=np.mean, hue=q['year'],ax=ax1)\n",
        "sns.countplot(x = q['is_weekend'],ax=ax2)\n",
        "plt.show()"
      ]
    },
    {
      "cell_type": "markdown",
      "metadata": {},
      "source": [
        "* Although there are less weekends altogether in years, the average dispatch count on weekends and weekdays is same."
      ]
    },
    {
      "cell_type": "code",
      "execution_count": 88,
      "metadata": {},
      "outputs": [
        {
          "data": {
            "text/html": [
              "<div>\n",
              "<style scoped>\n",
              "    .dataframe tbody tr th:only-of-type {\n",
              "        vertical-align: middle;\n",
              "    }\n",
              "\n",
              "    .dataframe tbody tr th {\n",
              "        vertical-align: top;\n",
              "    }\n",
              "\n",
              "    .dataframe thead th {\n",
              "        text-align: right;\n",
              "    }\n",
              "</style>\n",
              "<table border=\"1\" class=\"dataframe\">\n",
              "  <thead>\n",
              "    <tr style=\"text-align: right;\">\n",
              "      <th></th>\n",
              "      <th>ID</th>\n",
              "      <th>date</th>\n",
              "      <th>warehouse_ID</th>\n",
              "      <th>Latitude</th>\n",
              "      <th>Longitude</th>\n",
              "      <th>Product_Type</th>\n",
              "      <th>year</th>\n",
              "      <th>month</th>\n",
              "      <th>is_weekend</th>\n",
              "      <th>is_warehouse_closed</th>\n",
              "      <th>daily_dispatch_count</th>\n",
              "      <th>weekly_dispatch_count</th>\n",
              "    </tr>\n",
              "  </thead>\n",
              "  <tbody>\n",
              "    <tr>\n",
              "      <th>3404</th>\n",
              "      <td>0x2b56</td>\n",
              "      <td>2019-01-01</td>\n",
              "      <td>WH_0x3e9</td>\n",
              "      <td>41.681471</td>\n",
              "      <td>-72.794746</td>\n",
              "      <td>1</td>\n",
              "      <td>2019</td>\n",
              "      <td>January</td>\n",
              "      <td>0.0</td>\n",
              "      <td>1</td>\n",
              "      <td>5.7</td>\n",
              "      <td>NaN</td>\n",
              "    </tr>\n",
              "    <tr>\n",
              "      <th>3405</th>\n",
              "      <td>0x2b57</td>\n",
              "      <td>2019-01-01</td>\n",
              "      <td>WH_0x3e9</td>\n",
              "      <td>41.681471</td>\n",
              "      <td>-72.794746</td>\n",
              "      <td>0</td>\n",
              "      <td>2019</td>\n",
              "      <td>January</td>\n",
              "      <td>0.0</td>\n",
              "      <td>1</td>\n",
              "      <td>2.9</td>\n",
              "      <td>NaN</td>\n",
              "    </tr>\n",
              "  </tbody>\n",
              "</table>\n",
              "</div>"
            ],
            "text/plain": [
              "          ID       date warehouse_ID   Latitude  Longitude  Product_Type  \\\n",
              "3404  0x2b56 2019-01-01  WH_0x3e9     41.681471 -72.794746  1              \n",
              "3405  0x2b57 2019-01-01  WH_0x3e9     41.681471 -72.794746  0              \n",
              "\n",
              "      year    month  is_weekend  is_warehouse_closed  daily_dispatch_count  \\\n",
              "3404  2019  January  0.0         1                    5.7                    \n",
              "3405  2019  January  0.0         1                    2.9                    \n",
              "\n",
              "      weekly_dispatch_count  \n",
              "3404 NaN                     \n",
              "3405 NaN                     "
            ]
          },
          "execution_count": 88,
          "metadata": {},
          "output_type": "execute_result"
        }
      ],
      "source": [
        "q.head(n=2)"
      ]
    },
    {
      "cell_type": "markdown",
      "metadata": {},
      "source": [
        "## Regression Analysis"
      ]
    },
    {
      "cell_type": "code",
      "execution_count": 89,
      "metadata": {},
      "outputs": [],
      "source": [
        "q = train_df[train_df['warehouse_ID'] == 'WH_0x3e9']"
      ]
    },
    {
      "cell_type": "code",
      "execution_count": 90,
      "metadata": {},
      "outputs": [
        {
          "name": "stdout",
          "output_type": "stream",
          "text": [
            "Degress of freedom = 1\n",
            "probability=0.950, critical=3.841, stat=0.000\n",
            "Independent (We fail to reject H0)\n",
            "significance=0.050, p=1.000\n",
            "Independent (We fail to reject H0)\n"
          ]
        }
      ],
      "source": [
        "import pandas as pd\n",
        "from scipy.stats import chi2_contingency\n",
        "from scipy.stats import chi2\n",
        "crosstab = pd.crosstab(q['Product_Type'], q['is_weekend'])\n",
        "stat, p, dof, expected = chi2_contingency(crosstab)\n",
        "print('Degress of freedom = %d' % dof)\n",
        "# print(expected)\n",
        "prob = 0.95\n",
        "critical = chi2.ppf(prob, dof)\n",
        "print('probability=%.3f, critical=%.3f, stat=%.3f' % (prob, critical, stat))\n",
        "\n",
        "if abs(stat) >= critical:\n",
        "\tprint('Dependent (We reject H0)')\n",
        "else:\n",
        "\tprint('Independent (We fail to reject H0)')\n",
        "alpha = 1.0 - prob\n",
        "print('significance=%.3f, p=%.3f' % (alpha, p))\n",
        "if p <= alpha:\n",
        "\tprint('Dependent (We reject H0)')\n",
        "else:\n",
        "\tprint('Independent (We fail to reject H0)')\n"
      ]
    },
    {
      "cell_type": "markdown",
      "metadata": {},
      "source": [
        "* Product Type and is_weekend are not related."
      ]
    },
    {
      "cell_type": "code",
      "execution_count": 91,
      "metadata": {},
      "outputs": [
        {
          "name": "stdout",
          "output_type": "stream",
          "text": [
            "Degress of freedom = 11\n",
            "probability=0.950, critical=19.675, stat=0.000\n",
            "Independent (We fail to reject H0)\n",
            "significance=0.050, p=1.000\n",
            "Independent (We fail to reject H0)\n"
          ]
        }
      ],
      "source": [
        "import pandas as pd\n",
        "from scipy.stats import chi2_contingency\n",
        "from scipy.stats import chi2\n",
        "crosstab = pd.crosstab(q['Product_Type'], q['month'])\n",
        "stat, p, dof, expected = chi2_contingency(crosstab)\n",
        "print('Degress of freedom = %d' % dof)\n",
        "# print(expected)\n",
        "prob = 0.95\n",
        "critical = chi2.ppf(prob, dof)\n",
        "print('probability=%.3f, critical=%.3f, stat=%.3f' % (prob, critical, stat))\n",
        "\n",
        "if abs(stat) >= critical:\n",
        "\tprint('Dependent (We reject H0)')\n",
        "else:\n",
        "\tprint('Independent (We fail to reject H0)')\n",
        "alpha = 1.0 - prob\n",
        "print('significance=%.3f, p=%.3f' % (alpha, p))\n",
        "if p <= alpha:\n",
        "\tprint('Dependent (We reject H0)')\n",
        "else:\n",
        "\tprint('Independent (We fail to reject H0)')\n"
      ]
    },
    {
      "cell_type": "markdown",
      "metadata": {},
      "source": [
        "* Product Type and month are not related"
      ]
    },
    {
      "cell_type": "code",
      "execution_count": 92,
      "metadata": {},
      "outputs": [
        {
          "name": "stdout",
          "output_type": "stream",
          "text": [
            "                             OLS Regression Results                             \n",
            "================================================================================\n",
            "Dep. Variable:     daily_dispatch_count   R-squared:                       0.683\n",
            "Model:                              OLS   Adj. R-squared:                  0.680\n",
            "Method:                   Least Squares   F-statistic:                     259.4\n",
            "Date:                  Mon, 02 May 2022   Prob (F-statistic):               0.00\n",
            "Time:                          23:37:16   Log-Likelihood:                -3191.0\n",
            "No. Observations:                  1702   AIC:                             6412.\n",
            "Df Residuals:                      1687   BIC:                             6494.\n",
            "Df Model:                            14                                         \n",
            "Covariance Type:              nonrobust                                         \n",
            "================================================================================\n",
            "                   coef    std err          t      P>|t|      [0.025      0.975]\n",
            "--------------------------------------------------------------------------------\n",
            "Product_Type     3.5274      0.077     45.917      0.000       3.377       3.678\n",
            "year            -2.0120      0.059    -34.187      0.000      -2.127      -1.897\n",
            "is_weekend      -0.3477      0.110     -3.161      0.002      -0.563      -0.132\n",
            "April         4066.9832    118.882     34.210      0.000    3833.812    4300.154\n",
            "August        4066.4143    118.852     34.214      0.000    3833.301    4299.527\n",
            "December      4064.9555    118.852     34.202      0.000    3831.842    4298.069\n",
            "February      4066.4354    118.882     34.206      0.000    3833.265    4299.606\n",
            "January       4066.1884    118.882     34.204      0.000    3833.018    4299.359\n",
            "July          4067.2692    118.852     34.221      0.000    3834.156    4300.382\n",
            "June          4066.8466    118.852     34.218      0.000    3833.733    4299.960\n",
            "March         4066.2889    118.882     34.205      0.000    3833.118    4299.460\n",
            "May           4066.9748    118.852     34.219      0.000    3833.862    4300.088\n",
            "November      4066.2683    118.852     34.213      0.000    3833.155    4299.381\n",
            "October       4066.1289    118.852     34.212      0.000    3833.016    4299.242\n",
            "September     4066.3775    118.852     34.214      0.000    3833.264    4299.491\n",
            "==============================================================================\n",
            "Omnibus:                       26.622   Durbin-Watson:                   1.827\n",
            "Prob(Omnibus):                  0.000   Jarque-Bera (JB):               41.064\n",
            "Skew:                          -0.141   Prob(JB):                     1.21e-09\n",
            "Kurtosis:                       3.707   Cond. No.                     2.17e+07\n",
            "==============================================================================\n",
            "\n",
            "Notes:\n",
            "[1] Standard Errors assume that the covariance matrix of the errors is correctly specified.\n",
            "[2] The condition number is large, 2.17e+07. This might indicate that there are\n",
            "strong multicollinearity or other numerical problems.\n"
          ]
        }
      ],
      "source": [
        "\n",
        "import statsmodels.api as sm\n",
        "q = train_df[train_df['warehouse_ID'] == 'WH_0x3e9']\n",
        "q = q.drop(['ID','date','Latitude','Longitude','is_warehouse_closed','weekly_dispatch_count','warehouse_ID'],axis=1)\n",
        "month = pd.get_dummies(q['month'])\n",
        "q.drop(['month'], axis=1,inplace=True)\n",
        "q = pd.concat([q,month], axis=1)\n",
        "x = q.drop(['daily_dispatch_count'], axis=1)\n",
        "y = q['daily_dispatch_count']\n",
        "mod = sm.OLS(y, x)\n",
        "res = mod.fit()\n",
        "print(res.summary())"
      ]
    },
    {
      "cell_type": "markdown",
      "metadata": {},
      "source": [
        "\n",
        "* The model was able to explain ~68% of the observations.\n",
        "* The p-values <0.05, indicates that we can reject Ho, i.e., the coefficient of the feature is could not equal to 0.0 or that the feature is related to dependent variable.\n",
        "* The CI for year and weekend contains 0, i.e., these features could have negative effect on daily dispatch count, with an increase in year."
      ]
    },
    {
      "cell_type": "code",
      "execution_count": 93,
      "metadata": {},
      "outputs": [
        {
          "data": {
            "text/plain": [
              "<AxesSubplot:xlabel='year', ylabel='daily_dispatch_count'>"
            ]
          },
          "execution_count": 93,
          "metadata": {},
          "output_type": "execute_result"
        },
        {
          "data": {
            "image/png": "[encoded data removed]",
            "text/plain": [
              "<Figure size 432x288 with 1 Axes>"
            ]
          },
          "metadata": {
            "needs_background": "light"
          },
          "output_type": "display_data"
        }
      ],
      "source": [
        "sns.lineplot(x = q['year'], y = q['daily_dispatch_count'], estimator=np.sum)"
      ]
    },
    {
      "cell_type": "code",
      "execution_count": 94,
      "metadata": {},
      "outputs": [
        {
          "name": "stdout",
          "output_type": "stream",
          "text": [
            "0.9915380477905273 2.380832242465658e-08\n"
          ]
        },
        {
          "name": "stderr",
          "output_type": "stream",
          "text": [
            "c:\\projects\\digit_prediction\\venv\\lib\\site-packages\\seaborn\\distributions.py:2619: FutureWarning: `distplot` is a deprecated function and will be removed in a future version. Please adapt your code to use either `displot` (a figure-level function with similar flexibility) or `histplot` (an axes-level function for histograms).\n",
            "  warnings.warn(msg, FutureWarning)\n"
          ]
        },
        {
          "data": {
            "text/plain": [
              "<AxesSubplot:ylabel='Density'>"
            ]
          },
          "execution_count": 94,
          "metadata": {},
          "output_type": "execute_result"
        },
        {
          "data": {
            "image/png": "[encoded data removed]",
            "text/plain": [
              "<Figure size 432x288 with 1 Axes>"
            ]
          },
          "metadata": {
            "needs_background": "light"
          },
          "output_type": "display_data"
        }
      ],
      "source": [
        "# sns.distplot(q['daily_dispatch_count'])\n",
        "\n",
        "import scipy.stats as stats\n",
        "w, pvalue = stats.shapiro(res.resid)\n",
        "print(w, pvalue)\n",
        "sns.distplot(res.resid)"
      ]
    },
    {
      "cell_type": "markdown",
      "metadata": {},
      "source": [
        "* The normality of residuals shows the correctness or significance of model and CIs.\n"
      ]
    },
    {
      "cell_type": "markdown",
      "metadata": {},
      "source": [
        "### Problem with Linear Regression\n",
        "* The Linear regression correctly understood the pattern of decrease in disaptch count, increase an increase in year.\n",
        "* However, this was due to increase in number of warehouses and covid effect.\n",
        "* likely in future , the number of warehouses might or might not increase, but linear regression will keep reducing the dispatch count.\n",
        "* Therefore, Linear regression helped in understanding current patterns of the data for further decision and deriving insights.\n",
        "* It indicated that Product_Type and month can be useful for predictions and is_weekend likely not much useful.\n"
      ]
    },
    {
      "cell_type": "code",
      "execution_count": 95,
      "metadata": {},
      "outputs": [
        {
          "name": "stdout",
          "output_type": "stream",
          "text": [
            "Warning: Maximum number of iterations has been exceeded.\n",
            "         Current function value: 0.148250\n",
            "         Iterations: 35\n",
            "                            Logit Regression Results                           \n",
            "===============================================================================\n",
            "Dep. Variable:     is_warehouse_closed   No. Observations:                 1702\n",
            "Model:                           Logit   Df Residuals:                     1687\n",
            "Method:                            MLE   Df Model:                           14\n",
            "Date:                 Mon, 02 May 2022   Pseudo R-squ.:                  0.4253\n",
            "Time:                         23:37:17   Log-Likelihood:                -252.32\n",
            "converged:                       False   LL-Null:                       -439.05\n",
            "Covariance Type:             nonrobust   LLR p-value:                 4.863e-71\n",
            "================================================================================\n",
            "                   coef    std err          z      P>|z|      [0.025      0.975]\n",
            "--------------------------------------------------------------------------------\n",
            "Product_Type     1.2372      0.235      5.256      0.000       0.776       1.699\n",
            "year           -14.3689     92.629     -0.155      0.877    -195.918     167.180\n",
            "is_weekend      -0.1578      0.313     -0.504      0.614      -0.772       0.456\n",
            "April         2.904e+04   1.87e+05      0.155      0.877   -3.38e+05    3.96e+05\n",
            "August        2.903e+04   1.87e+05      0.155      0.877   -3.38e+05    3.96e+05\n",
            "December      2.903e+04   1.87e+05      0.155      0.877   -3.38e+05    3.96e+05\n",
            "February      2.904e+04   1.87e+05      0.155      0.877   -3.38e+05    3.96e+05\n",
            "January       2.904e+04   1.87e+05      0.155      0.877   -3.38e+05    3.96e+05\n",
            "July          2.903e+04   1.87e+05      0.155      0.877   -3.38e+05    3.96e+05\n",
            "June          2.903e+04   1.87e+05      0.155      0.877   -3.38e+05    3.96e+05\n",
            "March         2.904e+04   1.87e+05      0.155      0.877   -3.38e+05    3.96e+05\n",
            "May           2.905e+04   1.87e+05      0.155      0.877   -3.38e+05    3.96e+05\n",
            "November      2.903e+04   1.87e+05      0.155      0.877   -3.38e+05    3.96e+05\n",
            "October       2.903e+04   1.87e+05      0.155      0.877   -3.38e+05    3.96e+05\n",
            "September     2.903e+04   1.87e+05      0.155      0.877   -3.38e+05    3.96e+05\n",
            "================================================================================\n",
            "\n",
            "Possibly complete quasi-separation: A fraction 0.61 of observations can be\n",
            "perfectly predicted. This might indicate that there is complete\n",
            "quasi-separation. In this case some parameters will not be identified.\n"
          ]
        },
        {
          "name": "stderr",
          "output_type": "stream",
          "text": [
            "c:\\projects\\digit_prediction\\venv\\lib\\site-packages\\statsmodels\\base\\model.py:606: ConvergenceWarning: Maximum Likelihood optimization failed to converge. Check mle_retvals\n",
            "  ConvergenceWarning)\n"
          ]
        }
      ],
      "source": [
        "q = train_df[train_df['warehouse_ID'] == 'WH_0x3e9']\n",
        "q = q.drop(['ID','date','Latitude','Longitude','daily_dispatch_count','weekly_dispatch_count','warehouse_ID'],axis=1)\n",
        "month = pd.get_dummies(q['month'])\n",
        "q.drop(['month'], axis=1,inplace=True)\n",
        "q = pd.concat([q,month], axis=1)\n",
        "x = q.drop(['is_warehouse_closed'], axis=1)\n",
        "y = q['is_warehouse_closed']\n",
        "import statsmodels.api as sm\n",
        "log_reg = sm.Logit(y, x).fit()\n",
        "print(log_reg.summary())"
      ]
    },
    {
      "cell_type": "code",
      "execution_count": 96,
      "metadata": {},
      "outputs": [
        {
          "name": "stderr",
          "output_type": "stream",
          "text": [
            "c:\\projects\\digit_prediction\\venv\\lib\\site-packages\\ipykernel_launcher.py:2: FutureWarning: Passing a negative integer is deprecated in version 1.0 and will not be supported in future version. Instead, use None to not limit the column width.\n",
            "  \n"
          ]
        }
      ],
      "source": [
        "pd.options.display.max_rows\n",
        "pd.set_option('display.max_colwidth', -1)"
      ]
    },
    {
      "cell_type": "code",
      "execution_count": 97,
      "metadata": {},
      "outputs": [
        {
          "name": "stdout",
          "output_type": "stream",
          "text": [
            "                        5%           95%    Odds Ratio\n",
            "Product_Type  2.172438e+00  5.465789e+00  3.445880e+00\n",
            "year          8.200055e-86  4.032092e+72  5.750076e-07\n",
            "is_weekend    4.623113e-01  1.577514e+00  8.539921e-01\n",
            "April         0.000000e+00  inf           inf         \n",
            "August        0.000000e+00  inf           inf         \n",
            "December      0.000000e+00  inf           inf         \n",
            "February      0.000000e+00  inf           inf         \n",
            "January       0.000000e+00  inf           inf         \n",
            "July          0.000000e+00  inf           inf         \n",
            "June          0.000000e+00  inf           inf         \n",
            "March         0.000000e+00  inf           inf         \n",
            "May           0.000000e+00  inf           inf         \n",
            "November      0.000000e+00  inf           inf         \n",
            "October       0.000000e+00  inf           inf         \n",
            "September     0.000000e+00  inf           inf         \n"
          ]
        }
      ],
      "source": [
        "import numpy as np\n",
        "params = log_reg.params\n",
        "conf = log_reg.conf_int()\n",
        "conf['Odds Ratio'] = params\n",
        "conf.columns = ['5%', '95%', 'Odds Ratio']\n",
        "print(np.exp(conf))"
      ]
    },
    {
      "cell_type": "markdown",
      "metadata": {},
      "source": [
        "* The positive odds ratio indicates, that an increase in that feature(=1) leads to icrease in the dependent variable (warehouse_closed=1).\n",
        "* Also, the p-values > 0.05 indicates failure to reject H0, i.e., the features doesnot have effect on independent variable.\n",
        "* The inf odds ratio indicates multicollinearity.\n",
        "* Logistic regression also indicates the significance of Product Type with positive Odds ratio and decrease in dependent variable with increase in year with negative odds ratio."
      ]
    },
    {
      "cell_type": "code",
      "execution_count": 98,
      "metadata": {},
      "outputs": [
        {
          "name": "stderr",
          "output_type": "stream",
          "text": [
            "c:\\projects\\digit_prediction\\venv\\lib\\site-packages\\sklearn\\manifold\\_t_sne.py:783: FutureWarning: The default initialization in TSNE will change from 'random' to 'pca' in 1.2.\n",
            "  FutureWarning,\n",
            "c:\\projects\\digit_prediction\\venv\\lib\\site-packages\\sklearn\\manifold\\_t_sne.py:793: FutureWarning: The default learning rate in TSNE will change from 200.0 to 'auto' in 1.2.\n",
            "  FutureWarning,\n",
            "c:\\projects\\digit_prediction\\venv\\lib\\site-packages\\seaborn\\axisgrid.py:337: UserWarning: The `size` parameter has been renamed to `height`; please update your code.\n",
            "  warnings.warn(msg, UserWarning)\n"
          ]
        },
        {
          "data": {
            "image/png": "[encoded data removed]",
            "text/plain": [
              "<Figure size 483.875x432 with 1 Axes>"
            ]
          },
          "metadata": {
            "needs_background": "light"
          },
          "output_type": "display_data"
        }
      ],
      "source": [
        "# TSNE\n",
        "from sklearn.manifold import TSNE\n",
        "model = TSNE(n_components = 2, random_state = 0)\n",
        "tsne_data = model.fit_transform(x)\n",
        " \n",
        "# creating a new data frame which\n",
        "# help us in ploting the result data\n",
        "tsne_data = np.vstack((tsne_data.T, y)).T\n",
        "tsne_df = pd.DataFrame(data = tsne_data,\n",
        "     columns =(\"Dim_1\", \"Dim_2\", \"label\"))\n",
        " \n",
        "# Ploting the result of tsne\n",
        "sns.FacetGrid(tsne_df, hue =\"label\", size = 6).map(\n",
        "       plt.scatter, 'Dim_1', 'Dim_2').add_legend()\n",
        " \n",
        "plt.show()"
      ]
    },
    {
      "cell_type": "markdown",
      "metadata": {},
      "source": [
        "* Data not possibly classified by tsne."
      ]
    },
    {
      "cell_type": "code",
      "execution_count": 99,
      "metadata": {},
      "outputs": [
        {
          "data": {
            "text/plain": [
              "<AxesSubplot:>"
            ]
          },
          "execution_count": 99,
          "metadata": {},
          "output_type": "execute_result"
        },
        {
          "data": {
            "image/png": "[encoded data removed]",
            "text/plain": [
              "<Figure size 432x288 with 2 Axes>"
            ]
          },
          "metadata": {
            "needs_background": "light"
          },
          "output_type": "display_data"
        }
      ],
      "source": [
        "sns.heatmap(q.corr())"
      ]
    },
    {
      "cell_type": "markdown",
      "metadata": {},
      "source": [
        "* We can remove either of year, is_warehouse_closed for reducing multicollinearity."
      ]
    },
    {
      "cell_type": "code",
      "execution_count": null,
      "metadata": {},
      "outputs": [],
      "source": []
    },
    {
      "cell_type": "code",
      "execution_count": 100,
      "metadata": {},
      "outputs": [
        {
          "data": {
            "text/plain": [
              "array(['WH_0x3e9', 'WH_0x3ea', 'WH_0x3eb', 'WH_0x3ec', 'WH_0x3ed',\n",
              "       'WH_0x3ee', 'WH_0x3ef', 'WH_0x3f1', 'WH_0x3f0', 'WH_0x3f2'],\n",
              "      dtype=object)"
            ]
          },
          "execution_count": 100,
          "metadata": {},
          "output_type": "execute_result"
        }
      ],
      "source": [
        "train_df['warehouse_ID'].unique()"
      ]
    },
    {
      "cell_type": "code",
      "execution_count": 101,
      "metadata": {},
      "outputs": [
        {
          "name": "stderr",
          "output_type": "stream",
          "text": [
            "c:\\projects\\digit_prediction\\venv\\lib\\site-packages\\statsmodels\\graphics\\tsaplots.py:353: FutureWarning: The default method 'yw' can produce PACF values outside of the [-1,1] interval. After 0.13, the default will change tounadjusted Yule-Walker ('ywm'). You can use this method now by setting method='ywm'.\n",
            "  FutureWarning,\n"
          ]
        },
        {
          "data": {
            "image/png": "[encoded data removed]",
            "text/plain": [
              "<Figure size 1440x360 with 2 Axes>"
            ]
          },
          "metadata": {
            "needs_background": "light"
          },
          "output_type": "display_data"
        }
      ],
      "source": [
        "from statsmodels.graphics.tsaplots import plot_acf,plot_pacf\n",
        "fig, (ax1,ax2) = plt.subplots(1,2, figsize=(20,5))\n",
        "q = train_df[train_df['warehouse_ID'] == 'WH_0x3e9']\n",
        "plot_acf(q['daily_dispatch_count'], lags = 50,ax=ax1)\n",
        "plot_pacf(q['daily_dispatch_count'],lags=50,ax=ax2)\n",
        "plt.show()\n"
      ]
    },
    {
      "cell_type": "code",
      "execution_count": 102,
      "metadata": {},
      "outputs": [
        {
          "name": "stderr",
          "output_type": "stream",
          "text": [
            "c:\\projects\\digit_prediction\\venv\\lib\\site-packages\\statsmodels\\graphics\\tsaplots.py:353: FutureWarning: The default method 'yw' can produce PACF values outside of the [-1,1] interval. After 0.13, the default will change tounadjusted Yule-Walker ('ywm'). You can use this method now by setting method='ywm'.\n",
            "  FutureWarning,\n"
          ]
        },
        {
          "data": {
            "image/png": "[encoded data removed]",
            "text/plain": [
              "<Figure size 1440x360 with 2 Axes>"
            ]
          },
          "metadata": {
            "needs_background": "light"
          },
          "output_type": "display_data"
        }
      ],
      "source": [
        "fig, (ax1,ax2) = plt.subplots(1,2, figsize=(20,5))\n",
        "q = train_df[train_df['warehouse_ID'] == 'WH_0x3f2']\n",
        "plot_acf(q['daily_dispatch_count'], lags = 50,ax=ax1)\n",
        "plot_pacf(q['daily_dispatch_count'],lags=50,ax=ax2)\n",
        "plt.show()\n"
      ]
    },
    {
      "cell_type": "markdown",
      "metadata": {},
      "source": [
        "* ACF shows the correlation coeffecient for the dispatch_count with past n data or lags with complete consideration of time series components.\n",
        "* PACF explains the correlation coefficient for residuals.\n",
        "* We can see partial auto coreelation in most of the series (warehouses) after 15 lags.\n",
        "* For simplification, i will use 16 previous records for predicting the next dispatch value.\n"
      ]
    },
    {
      "cell_type": "markdown",
      "metadata": {},
      "source": [
        "## data preprocessing"
      ]
    },
    {
      "cell_type": "code",
      "execution_count": 161,
      "metadata": {
        "id": "HxEYocy_owsV"
      },
      "outputs": [],
      "source": [
        "month = pd.get_dummies(train_df['month'])\n",
        "train_df.drop(['month'], axis=1,inplace=True)\n",
        "train_df = pd.concat([train_df,month], axis=1)\n",
        "train_df.drop(['Latitude','Longitude','ID','year', 'is_weekend', ],axis=1,inplace=True)"
      ]
    },
    {
      "cell_type": "markdown",
      "metadata": {
        "id": "c3O_myOXRk2d"
      },
      "source": [
        "## submission preprocessing"
      ]
    },
    {
      "cell_type": "code",
      "execution_count": 162,
      "metadata": {
        "colab": {
          "base_uri": "https://localhost:8080/"
        },
        "id": "qF76ixukXp1w",
        "outputId": "f4ca7b17-0b5d-4816-b410-5e0448245fd2"
      },
      "outputs": [
        {
          "name": "stdout",
          "output_type": "stream",
          "text": [
            "(4900, 10)\n"
          ]
        }
      ],
      "source": [
        "test_df = pd.read_csv(test_path)\n",
        "print(test_df.shape)"
      ]
    },
    {
      "cell_type": "code",
      "execution_count": 163,
      "metadata": {
        "id": "H6KbeKEBRmbc"
      },
      "outputs": [],
      "source": [
        "test_df['is_warehouse_closed'] = test_df['is_warehouse_closed'].apply(lambda x: checkout(x))\n",
        "test_df['is_weekend'] = test_df['is_weekend'].apply(lambda x: checkout(x))\n",
        "test_df['Product_Type'] = test_df['Product_Type'].apply(lambda x: 1 if x=='Type_A' else 0)"
      ]
    },
    {
      "cell_type": "code",
      "execution_count": 164,
      "metadata": {
        "colab": {
          "base_uri": "https://localhost:8080/"
        },
        "id": "knvPuFlUSMRS",
        "outputId": "90892f19-44d4-4c31-f36b-26db27d15cc6"
      },
      "outputs": [
        {
          "name": "stdout",
          "output_type": "stream",
          "text": [
            "Degress of freedom = 1\n",
            "probability=0.950, critical=3.841, stat=0.023\n",
            "Independent (We fail to reject H0)\n",
            "significance=0.050, p=0.880\n",
            "Independent (We fail to reject H0)\n",
            "Degress of freedom = 7\n",
            "probability=0.950, critical=14.067, stat=0.000\n",
            "Independent (We fail to reject H0)\n",
            "significance=0.050, p=1.000\n",
            "Independent (We fail to reject H0)\n"
          ]
        }
      ],
      "source": [
        "crosstab = pd.crosstab(test_df['Product_Type'], test_df['is_weekend'])\n",
        "stat, p, dof, expected = chi2_contingency(crosstab)\n",
        "print('Degress of freedom = %d' % dof)\n",
        "# print(expected)\n",
        "prob = 0.95\n",
        "critical = chi2.ppf(prob, dof)\n",
        "print('probability=%.3f, critical=%.3f, stat=%.3f' % (prob, critical, stat))\n",
        "\n",
        "if abs(stat) >= critical:\n",
        "\tprint('Dependent (We reject H0)')\n",
        "else:\n",
        "\tprint('Independent (We fail to reject H0)')\n",
        "alpha = 1.0 - prob\n",
        "print('significance=%.3f, p=%.3f' % (alpha, p))\n",
        "if p <= alpha:\n",
        "\tprint('Dependent (We reject H0)')\n",
        "else:\n",
        "\tprint('Independent (We fail to reject H0)')\n",
        " \n",
        "crosstab = pd.crosstab(test_df['Product_Type'], test_df['month'])\n",
        "stat, p, dof, expected = chi2_contingency(crosstab)\n",
        "print('Degress of freedom = %d' % dof)\n",
        "# print(expected)\n",
        "prob = 0.95\n",
        "critical = chi2.ppf(prob, dof)\n",
        "print('probability=%.3f, critical=%.3f, stat=%.3f' % (prob, critical, stat))\n",
        "\n",
        "if abs(stat) >= critical:\n",
        "\tprint('Dependent (We reject H0)')\n",
        "else:\n",
        "\tprint('Independent (We fail to reject H0)')\n",
        "alpha = 1.0 - prob\n",
        "print('significance=%.3f, p=%.3f' % (alpha, p))\n",
        "if p <= alpha:\n",
        "\tprint('Dependent (We reject H0)')\n",
        "else:\n",
        "\tprint('Independent (We fail to reject H0)')\n",
        "test_df.drop(['Latitude','Longitude','ID','year'],axis=1,inplace=True)\n",
        "month = pd.get_dummies(test_df['month'])\n",
        "test_df.drop(['month'], axis=1,inplace=True)\n",
        "test_df = pd.concat([test_df,month], axis=1)\n"
      ]
    },
    {
      "cell_type": "markdown",
      "metadata": {},
      "source": [
        "## Model Training"
      ]
    },
    {
      "cell_type": "markdown",
      "metadata": {},
      "source": [
        "* There are 10 unique warehouses, and 10 different models will be trained for warehouses respectively.\n",
        "* LSTM will be used within neural networks, since they can help remebering the patterns of the data.\n",
        "* By the partial auto correlation, i will use 16 previous records for predicting the next dispatch value.\n"
      ]
    },
    {
      "cell_type": "markdown",
      "metadata": {
        "id": "NswiuFhia_2l"
      },
      "source": [
        "## ware1 train (WH_0x3ea)"
      ]
    },
    {
      "cell_type": "code",
      "execution_count": 165,
      "metadata": {
        "id": "75mg3Gzfp3yE"
      },
      "outputs": [],
      "source": [
        "ware1 = train_df[train_df['warehouse_ID'] == 'WH_0x3ea'].drop(['warehouse_ID','date'],axis=1)\n",
        "ware1.drop(['weekly_dispatch_count'],axis=1,inplace=True)\n",
        "ware1 = ware1.drop(['is_warehouse_closed'],axis=1)\n",
        "# ware1 = ware1[['Product_Type','daily_dispatch_count']]\n",
        "n = len(ware1)\n",
        "train_ware1 = ware1[0:int(n*0.90)]\n",
        "val_ware1 = ware1[int(n*0.90):]\n",
        "from sklearn.preprocessing import StandardScaler, StandardScaler,PowerTransformer,Normalizer\n",
        "scaler = StandardScaler()\n",
        "X = train_ware1.drop(['daily_dispatch_count'], axis=1)\n",
        "y = train_ware1[['daily_dispatch_count']]\n",
        "scaled_w1 = scaler.fit_transform(X)\n",
        "y_scaler = StandardScaler()\n",
        "scaled_y1  = y_scaler.fit_transform(y)\n",
        "import numpy as np\n",
        "trainX = []\n",
        "trainY = []\n",
        "n_future = 1\n",
        "n_past = 16\n",
        "for i in range(n_past, len(scaled_w1) - n_future+1):\n",
        "    trainX.append(scaled_w1[i - n_past: i,0:scaled_w1.shape[1]])\n",
        "    trainY.append(scaled_y1[i + n_future - 1:i + n_future])\n",
        "trainX, trainY = np.array(trainX), np.array(trainY)\n",
        "valx = val_ware1.drop(['daily_dispatch_count'], axis=1)\n",
        "valy = val_ware1[['daily_dispatch_count']]\n",
        "scaled_valx = scaler.transform(valx)\n",
        "scaled_valy = y_scaler.transform(valy)\n",
        "import numpy as np\n",
        "valX = []\n",
        "valY = []\n",
        "n_future = 1\n",
        "n_past = 16\n",
        "\n",
        "for i in range(n_past, len(scaled_valx) - n_future+1):\n",
        "    valX.append(scaled_valx[i - n_past: i,0:scaled_valx.shape[1]])\n",
        "    valY.append(scaled_valy[i + n_future - 1:i + n_future])\n",
        "valX, valY = np.array(valX), np.array(valY)\n",
        "\n",
        "model = Sequential()\n",
        "# # model.add(LSTM(500, activation='tanh', input_shape=(15, 13), return_sequences=True))\n",
        "# model.add(LSTM(250, activation='tanh', input_shape=(16, 13),return_sequences=True))\n",
        "# # model.add(Dropout(0.2))\n",
        "# model.add(LSTM(120, activation='tanh', return_sequences=False))\n",
        "# model.add(Dense(60,activation='relu'))\n",
        "# model.add(Dense(1))\n",
        "# model.compile(optimizer='rmsprop', loss='mse',metrics='mse')\n",
        "# model.summary()\n",
        "\n",
        "model.add(Bidirectional(LSTM(800, activation='tanh', input_shape=(16, 13),return_sequences=False)))\n",
        "# model.add(BatchNormalization())\n",
        "# model.add(Bidirectional(LSTM(200, activation='tanh', return_sequences=False)))\n",
        "model.add(Dropout(0.25))\n",
        "# model.add(Dense(100,activation='relu'))\n",
        "model.add(Dense(80,activation='relu'))\n",
        "model.add(Dense(1))\n",
        "model.compile(optimizer='rmsprop', loss='mse',metrics='mse')"
      ]
    },
    {
      "cell_type": "code",
      "execution_count": 108,
      "metadata": {},
      "outputs": [
        {
          "name": "stdout",
          "output_type": "stream",
          "text": [
            "Epoch 1/80\n",
            "48/48 [==============================] - 67s 56ms/step - loss: 0.9448 - mse: 0.9448 - val_loss: 1.3146 - val_mse: 1.3146\n",
            "Epoch 2/80\n",
            "48/48 [==============================] - 1s 19ms/step - loss: 0.9097 - mse: 0.9097 - val_loss: 1.2326 - val_mse: 1.2326\n",
            "Epoch 3/80\n",
            "48/48 [==============================] - 1s 17ms/step - loss: 0.8589 - mse: 0.8589 - val_loss: 1.2398 - val_mse: 1.2398\n",
            "Epoch 4/80\n",
            "48/48 [==============================] - 1s 16ms/step - loss: 0.8302 - mse: 0.8302 - val_loss: 1.0876 - val_mse: 1.0876\n",
            "Epoch 5/80\n",
            "48/48 [==============================] - 1s 16ms/step - loss: 0.6028 - mse: 0.6028 - val_loss: 0.4790 - val_mse: 0.4790\n",
            "Epoch 6/80\n",
            "48/48 [==============================] - 1s 16ms/step - loss: 0.3002 - mse: 0.3002 - val_loss: 0.4995 - val_mse: 0.4995\n",
            "Epoch 7/80\n",
            "48/48 [==============================] - 1s 17ms/step - loss: 0.2396 - mse: 0.2396 - val_loss: 0.4962 - val_mse: 0.4962\n",
            "Epoch 8/80\n",
            "48/48 [==============================] - 1s 16ms/step - loss: 0.2458 - mse: 0.2458 - val_loss: 0.4680 - val_mse: 0.4680\n",
            "Epoch 9/80\n",
            "48/48 [==============================] - 1s 16ms/step - loss: 0.2469 - mse: 0.2469 - val_loss: 0.5532 - val_mse: 0.5532\n",
            "Epoch 10/80\n",
            "48/48 [==============================] - 1s 16ms/step - loss: 0.2423 - mse: 0.2423 - val_loss: 0.4545 - val_mse: 0.4545\n",
            "Epoch 11/80\n",
            "48/48 [==============================] - 1s 17ms/step - loss: 0.3349 - mse: 0.3349 - val_loss: 0.4450 - val_mse: 0.4450\n",
            "Epoch 12/80\n",
            "48/48 [==============================] - 1s 17ms/step - loss: 0.2487 - mse: 0.2487 - val_loss: 0.6312 - val_mse: 0.6312\n",
            "Epoch 13/80\n",
            "48/48 [==============================] - 1s 16ms/step - loss: 0.2510 - mse: 0.2510 - val_loss: 0.5072 - val_mse: 0.5072\n",
            "Epoch 14/80\n",
            "48/48 [==============================] - 1s 16ms/step - loss: 0.2861 - mse: 0.2861 - val_loss: 0.5977 - val_mse: 0.5977\n",
            "Epoch 15/80\n",
            "48/48 [==============================] - 1s 15ms/step - loss: 0.3210 - mse: 0.3210 - val_loss: 0.6879 - val_mse: 0.6879\n",
            "Epoch 16/80\n",
            "48/48 [==============================] - 1s 13ms/step - loss: 0.2629 - mse: 0.2629 - val_loss: 0.6574 - val_mse: 0.6574\n",
            "Epoch 17/80\n",
            "48/48 [==============================] - 1s 12ms/step - loss: 0.2750 - mse: 0.2750 - val_loss: 0.6679 - val_mse: 0.6679\n",
            "Epoch 18/80\n",
            "48/48 [==============================] - 1s 12ms/step - loss: 0.2922 - mse: 0.2922 - val_loss: 0.5550 - val_mse: 0.5550\n",
            "Epoch 19/80\n",
            "48/48 [==============================] - 1s 12ms/step - loss: 0.2532 - mse: 0.2532 - val_loss: 0.4377 - val_mse: 0.4377\n",
            "Epoch 20/80\n",
            "48/48 [==============================] - 1s 12ms/step - loss: 0.2531 - mse: 0.2531 - val_loss: 0.6460 - val_mse: 0.6460\n",
            "Epoch 21/80\n",
            "48/48 [==============================] - 1s 12ms/step - loss: 0.2435 - mse: 0.2435 - val_loss: 0.6715 - val_mse: 0.6715\n",
            "Epoch 22/80\n",
            "48/48 [==============================] - 1s 12ms/step - loss: 0.2326 - mse: 0.2326 - val_loss: 0.5548 - val_mse: 0.5548\n",
            "Epoch 23/80\n",
            "48/48 [==============================] - 1s 12ms/step - loss: 0.2248 - mse: 0.2248 - val_loss: 0.5460 - val_mse: 0.5460\n",
            "Epoch 24/80\n",
            "48/48 [==============================] - 1s 12ms/step - loss: 0.2274 - mse: 0.2274 - val_loss: 0.4870 - val_mse: 0.4870\n",
            "Epoch 25/80\n",
            "48/48 [==============================] - 1s 12ms/step - loss: 0.2415 - mse: 0.2415 - val_loss: 0.6463 - val_mse: 0.6463\n",
            "Epoch 26/80\n",
            "48/48 [==============================] - 1s 12ms/step - loss: 0.2696 - mse: 0.2696 - val_loss: 0.5523 - val_mse: 0.5523\n",
            "Epoch 27/80\n",
            "48/48 [==============================] - 1s 12ms/step - loss: 0.3146 - mse: 0.3146 - val_loss: 0.6007 - val_mse: 0.6007\n",
            "Epoch 28/80\n",
            "48/48 [==============================] - 1s 12ms/step - loss: 0.2360 - mse: 0.2360 - val_loss: 0.5266 - val_mse: 0.5266\n",
            "Epoch 29/80\n",
            "48/48 [==============================] - 1s 13ms/step - loss: 0.2298 - mse: 0.2298 - val_loss: 0.5279 - val_mse: 0.5279\n",
            "Epoch 30/80\n",
            "48/48 [==============================] - 1s 12ms/step - loss: 0.2248 - mse: 0.2248 - val_loss: 0.4986 - val_mse: 0.4986\n",
            "Epoch 31/80\n",
            "48/48 [==============================] - 1s 12ms/step - loss: 0.2241 - mse: 0.2241 - val_loss: 0.4936 - val_mse: 0.4936\n",
            "Epoch 32/80\n",
            "48/48 [==============================] - 1s 12ms/step - loss: 0.2260 - mse: 0.2260 - val_loss: 0.5148 - val_mse: 0.5148\n",
            "Epoch 33/80\n",
            "48/48 [==============================] - 1s 12ms/step - loss: 0.2221 - mse: 0.2221 - val_loss: 0.5058 - val_mse: 0.5058\n",
            "Epoch 34/80\n",
            "48/48 [==============================] - 1s 12ms/step - loss: 0.2198 - mse: 0.2198 - val_loss: 0.5064 - val_mse: 0.5064\n",
            "Epoch 35/80\n",
            "48/48 [==============================] - 1s 12ms/step - loss: 0.2187 - mse: 0.2187 - val_loss: 0.5125 - val_mse: 0.5125\n",
            "Epoch 36/80\n",
            "48/48 [==============================] - 1s 12ms/step - loss: 0.2175 - mse: 0.2175 - val_loss: 0.5449 - val_mse: 0.5449\n",
            "Epoch 37/80\n",
            "48/48 [==============================] - 1s 12ms/step - loss: 0.2200 - mse: 0.2200 - val_loss: 0.5288 - val_mse: 0.5288\n",
            "Epoch 38/80\n",
            "48/48 [==============================] - 1s 12ms/step - loss: 0.2126 - mse: 0.2126 - val_loss: 0.5362 - val_mse: 0.5362\n",
            "Epoch 39/80\n",
            "48/48 [==============================] - 1s 12ms/step - loss: 0.2117 - mse: 0.2117 - val_loss: 0.5243 - val_mse: 0.5243\n",
            "Epoch 40/80\n",
            "48/48 [==============================] - 1s 12ms/step - loss: 0.2147 - mse: 0.2147 - val_loss: 0.4922 - val_mse: 0.4922\n",
            "Epoch 41/80\n",
            "48/48 [==============================] - 1s 12ms/step - loss: 0.2158 - mse: 0.2158 - val_loss: 0.4952 - val_mse: 0.4952\n",
            "Epoch 42/80\n",
            "48/48 [==============================] - 1s 12ms/step - loss: 0.2173 - mse: 0.2173 - val_loss: 0.4569 - val_mse: 0.4569\n",
            "Epoch 43/80\n",
            "48/48 [==============================] - 1s 12ms/step - loss: 0.2187 - mse: 0.2187 - val_loss: 0.4855 - val_mse: 0.4855\n",
            "Epoch 44/80\n",
            "48/48 [==============================] - 1s 12ms/step - loss: 0.2165 - mse: 0.2165 - val_loss: 0.4780 - val_mse: 0.4780\n",
            "Epoch 45/80\n",
            "48/48 [==============================] - 1s 12ms/step - loss: 0.2156 - mse: 0.2156 - val_loss: 0.4899 - val_mse: 0.4899\n",
            "Epoch 46/80\n",
            "48/48 [==============================] - 1s 12ms/step - loss: 0.2157 - mse: 0.2157 - val_loss: 0.5176 - val_mse: 0.5176\n",
            "Epoch 47/80\n",
            "48/48 [==============================] - 1s 12ms/step - loss: 0.2133 - mse: 0.2133 - val_loss: 0.4993 - val_mse: 0.4993\n",
            "Epoch 48/80\n",
            "48/48 [==============================] - 1s 12ms/step - loss: 0.2156 - mse: 0.2156 - val_loss: 0.5048 - val_mse: 0.5048\n",
            "Epoch 49/80\n",
            "48/48 [==============================] - 1s 12ms/step - loss: 0.2170 - mse: 0.2170 - val_loss: 0.4624 - val_mse: 0.4624\n",
            "Epoch 50/80\n",
            "48/48 [==============================] - 1s 12ms/step - loss: 0.2158 - mse: 0.2158 - val_loss: 0.5238 - val_mse: 0.5238\n",
            "Epoch 51/80\n",
            "48/48 [==============================] - 1s 12ms/step - loss: 0.2163 - mse: 0.2163 - val_loss: 0.4786 - val_mse: 0.4786\n",
            "Epoch 52/80\n",
            "48/48 [==============================] - 1s 13ms/step - loss: 0.2147 - mse: 0.2147 - val_loss: 0.5146 - val_mse: 0.5146\n",
            "Epoch 53/80\n",
            "48/48 [==============================] - 1s 12ms/step - loss: 0.2134 - mse: 0.2134 - val_loss: 0.4972 - val_mse: 0.4972\n",
            "Epoch 54/80\n",
            "48/48 [==============================] - 1s 12ms/step - loss: 0.2091 - mse: 0.2091 - val_loss: 0.5118 - val_mse: 0.5118\n",
            "Epoch 55/80\n",
            "48/48 [==============================] - 1s 12ms/step - loss: 0.2102 - mse: 0.2102 - val_loss: 0.4572 - val_mse: 0.4572\n",
            "Epoch 56/80\n",
            "48/48 [==============================] - 1s 12ms/step - loss: 0.2101 - mse: 0.2101 - val_loss: 0.5143 - val_mse: 0.5143\n",
            "Epoch 57/80\n",
            "48/48 [==============================] - 1s 12ms/step - loss: 0.2100 - mse: 0.2100 - val_loss: 0.4757 - val_mse: 0.4757\n",
            "Epoch 58/80\n",
            "48/48 [==============================] - 1s 12ms/step - loss: 0.2230 - mse: 0.2230 - val_loss: 0.4890 - val_mse: 0.4890\n",
            "Epoch 59/80\n",
            "48/48 [==============================] - 1s 12ms/step - loss: 0.2129 - mse: 0.2129 - val_loss: 0.4802 - val_mse: 0.4802\n",
            "Epoch 60/80\n",
            "48/48 [==============================] - 1s 12ms/step - loss: 0.2139 - mse: 0.2139 - val_loss: 0.4753 - val_mse: 0.4753\n",
            "Epoch 61/80\n",
            "48/48 [==============================] - 1s 14ms/step - loss: 0.2193 - mse: 0.2193 - val_loss: 0.4808 - val_mse: 0.4808\n",
            "Epoch 62/80\n",
            "48/48 [==============================] - 1s 12ms/step - loss: 0.2122 - mse: 0.2122 - val_loss: 0.4846 - val_mse: 0.4846\n",
            "Epoch 63/80\n",
            "48/48 [==============================] - 1s 12ms/step - loss: 0.2120 - mse: 0.2120 - val_loss: 0.5534 - val_mse: 0.5534\n",
            "Epoch 64/80\n",
            "48/48 [==============================] - 1s 12ms/step - loss: 0.2089 - mse: 0.2089 - val_loss: 0.4817 - val_mse: 0.4817\n",
            "Epoch 65/80\n",
            "48/48 [==============================] - 1s 12ms/step - loss: 0.2177 - mse: 0.2177 - val_loss: 0.5027 - val_mse: 0.5027\n",
            "Epoch 66/80\n",
            "48/48 [==============================] - 1s 12ms/step - loss: 0.2155 - mse: 0.2155 - val_loss: 0.6495 - val_mse: 0.6495\n",
            "Epoch 67/80\n",
            "48/48 [==============================] - 1s 12ms/step - loss: 0.2017 - mse: 0.2017 - val_loss: 0.4464 - val_mse: 0.4464\n",
            "Epoch 68/80\n",
            "48/48 [==============================] - 1s 12ms/step - loss: 0.2146 - mse: 0.2146 - val_loss: 0.5413 - val_mse: 0.5413\n",
            "Epoch 69/80\n",
            "48/48 [==============================] - 1s 12ms/step - loss: 0.2183 - mse: 0.2183 - val_loss: 0.4886 - val_mse: 0.4886\n",
            "Epoch 70/80\n",
            "48/48 [==============================] - 1s 12ms/step - loss: 0.2159 - mse: 0.2159 - val_loss: 0.5859 - val_mse: 0.5859\n",
            "Epoch 71/80\n",
            "48/48 [==============================] - 1s 12ms/step - loss: 0.2122 - mse: 0.2122 - val_loss: 0.5222 - val_mse: 0.5222\n",
            "Epoch 72/80\n",
            "48/48 [==============================] - 1s 12ms/step - loss: 0.2132 - mse: 0.2132 - val_loss: 0.5268 - val_mse: 0.5268\n",
            "Epoch 73/80\n",
            "48/48 [==============================] - 1s 12ms/step - loss: 0.2127 - mse: 0.2127 - val_loss: 0.5851 - val_mse: 0.5851\n",
            "Epoch 74/80\n",
            "48/48 [==============================] - 1s 12ms/step - loss: 0.2108 - mse: 0.2108 - val_loss: 0.5331 - val_mse: 0.5331\n",
            "Epoch 75/80\n",
            "48/48 [==============================] - 1s 12ms/step - loss: 0.2146 - mse: 0.2146 - val_loss: 0.5357 - val_mse: 0.5357\n",
            "Epoch 76/80\n",
            "48/48 [==============================] - 1s 14ms/step - loss: 0.2116 - mse: 0.2116 - val_loss: 0.5198 - val_mse: 0.5198\n",
            "Epoch 77/80\n",
            "48/48 [==============================] - 1s 12ms/step - loss: 0.2075 - mse: 0.2075 - val_loss: 0.4602 - val_mse: 0.4602\n",
            "Epoch 78/80\n",
            "48/48 [==============================] - 1s 12ms/step - loss: 0.2266 - mse: 0.2266 - val_loss: 0.5558 - val_mse: 0.5558\n",
            "Epoch 79/80\n",
            "48/48 [==============================] - 1s 12ms/step - loss: 0.2114 - mse: 0.2114 - val_loss: 0.5153 - val_mse: 0.5153\n",
            "Epoch 80/80\n",
            "48/48 [==============================] - 1s 12ms/step - loss: 0.2081 - mse: 0.2081 - val_loss: 0.4671 - val_mse: 0.4671\n",
            "2.5046832505002583\n"
          ]
        }
      ],
      "source": [
        "history = model.fit(trainX,trainY, epochs=80, verbose=1 ,shuffle=False,validation_data=(valX,valY))\n",
        "# \n",
        "ypred = model.predict(valX)\n",
        "y_val = y_scaler.inverse_transform(valY.reshape(-1,1))  \n",
        "ypred = y_scaler.inverse_transform(ypred.reshape(-1,1))\n",
        "\n",
        "from sklearn.metrics import mean_squared_error\n",
        "print(mean_squared_error(y_val,ypred,squared=False))\n"
      ]
    },
    {
      "cell_type": "code",
      "execution_count": 166,
      "metadata": {},
      "outputs": [
        {
          "name": "stdout",
          "output_type": "stream",
          "text": [
            "2.6741656904403697\n"
          ]
        }
      ],
      "source": [
        "\n",
        "from sklearn.metrics import mean_squared_error\n",
        "print(mean_squared_error(y_val,ypred,squared=False))"
      ]
    },
    {
      "cell_type": "markdown",
      "metadata": {},
      "source": [
        "*2.8 for minmax minmax 60epochs \n",
        "*2.7 fro standard minmax 80 epochs"
      ]
    },
    {
      "cell_type": "code",
      "execution_count": 110,
      "metadata": {
        "colab": {
          "base_uri": "https://localhost:8080/"
        },
        "id": "ZQ3b3bA4_9pr",
        "outputId": "2cf6fff8-8505-424d-93da-fc322ef516d1"
      },
      "outputs": [],
      "source": [
        "# g = pd.DataFrame(ypred).describe()\n",
        "# f = pd.DataFrame(y_val).describe()\n",
        "# np.hstack([g,f])"
      ]
    },
    {
      "cell_type": "code",
      "execution_count": null,
      "metadata": {
        "id": "FRpy-3HXgxAM"
      },
      "outputs": [],
      "source": [
        "import os\n",
        "model_path = 'warehouses/ware1/models/model.h5'\n",
        "model1path = os.path.join(base_path,model_path)\n",
        "model.save(model1path)"
      ]
    },
    {
      "cell_type": "markdown",
      "metadata": {
        "id": "s4A9yuUSXuNo"
      },
      "source": [
        "## ware 1 submission"
      ]
    },
    {
      "cell_type": "code",
      "execution_count": 112,
      "metadata": {
        "colab": {
          "base_uri": "https://localhost:8080/",
          "height": 0
        },
        "id": "2Gy2KwdeYvQJ",
        "outputId": "608cb442-fc55-4d89-c7ba-0f1b56aa1eaa"
      },
      "outputs": [
        {
          "name": "stdout",
          "output_type": "stream",
          "text": [
            "(490, 13)\n"
          ]
        },
        {
          "data": {
            "text/html": [
              "<div>\n",
              "<style scoped>\n",
              "    .dataframe tbody tr th:only-of-type {\n",
              "        vertical-align: middle;\n",
              "    }\n",
              "\n",
              "    .dataframe tbody tr th {\n",
              "        vertical-align: top;\n",
              "    }\n",
              "\n",
              "    .dataframe thead th {\n",
              "        text-align: right;\n",
              "    }\n",
              "</style>\n",
              "<table border=\"1\" class=\"dataframe\">\n",
              "  <thead>\n",
              "    <tr style=\"text-align: right;\">\n",
              "      <th></th>\n",
              "      <th>daily_dispatch_count</th>\n",
              "      <th>warehouse_ID</th>\n",
              "    </tr>\n",
              "  </thead>\n",
              "  <tbody>\n",
              "    <tr>\n",
              "      <th>2</th>\n",
              "      <td>6.707429</td>\n",
              "      <td>WH_0x3ea</td>\n",
              "    </tr>\n",
              "    <tr>\n",
              "      <th>3</th>\n",
              "      <td>2.350477</td>\n",
              "      <td>WH_0x3ea</td>\n",
              "    </tr>\n",
              "    <tr>\n",
              "      <th>22</th>\n",
              "      <td>6.508402</td>\n",
              "      <td>WH_0x3ea</td>\n",
              "    </tr>\n",
              "    <tr>\n",
              "      <th>23</th>\n",
              "      <td>2.040584</td>\n",
              "      <td>WH_0x3ea</td>\n",
              "    </tr>\n",
              "    <tr>\n",
              "      <th>42</th>\n",
              "      <td>6.224710</td>\n",
              "      <td>WH_0x3ea</td>\n",
              "    </tr>\n",
              "  </tbody>\n",
              "</table>\n",
              "</div>"
            ],
            "text/plain": [
              "    daily_dispatch_count warehouse_ID\n",
              "2   6.707429              WH_0x3ea   \n",
              "3   2.350477              WH_0x3ea   \n",
              "22  6.508402              WH_0x3ea   \n",
              "23  2.040584              WH_0x3ea   \n",
              "42  6.224710              WH_0x3ea   "
            ]
          },
          "execution_count": 112,
          "metadata": {},
          "output_type": "execute_result"
        }
      ],
      "source": [
        "print(test_df[test_df['warehouse_ID'] == 'WH_0x3ea'].shape)\n",
        "# test_df[test_df['warehouse_ID'] == 'WH_0x3ea'].head()\n",
        "ware1_test = test_df[test_df['warehouse_ID'] == 'WH_0x3ea'].drop(['warehouse_ID','date'],axis=1)\n",
        "ware1testindex= ware1_test.index\n",
        "ware1_test.drop([ 'is_weekend','is_warehouse_closed'],axis=1,inplace=True)\n",
        "ware1_test[['April', 'February', 'January', 'March', 'daily_dispatch_count']] = 0\n",
        "ware1_test = ware1_test[train_ware1.columns]\n",
        "prev1 = train_df[train_df['warehouse_ID'] == 'WH_0x3ea'].tail(16).drop(['warehouse_ID','date','is_warehouse_closed','daily_dispatch_count','weekly_dispatch_count'],axis=1)\n",
        "prev1['daily_dispatch_count'] = 0\n",
        "prev1 = prev1[train_ware1.columns]\n",
        "ware1_test = pd.concat([prev1,ware1_test],axis=0,)\n",
        "x = ware1_test.drop(['daily_dispatch_count'], axis=1)\n",
        "scaled_test1 = scaler.transform(x)\n",
        "import numpy as np\n",
        "testx1 = []\n",
        "n_future = 1\n",
        "n_past = 16\n",
        "for i in range(n_past, len(scaled_test1) - n_future+1):\n",
        "    testx1.append(scaled_test1[i - n_past: i,0:scaled_test1.shape[1]])\n",
        "testX1 = np.array(testx1)\n",
        "model1 = load_model(model1path)\n",
        "\n",
        "ware1_dispatch = y_scaler.inverse_transform(model1.predict(testX1))\n",
        "len(ware1_dispatch)\n",
        "sub1 = pd.DataFrame(data = {\n",
        "    \"daily_dispatch_count\":ware1_dispatch.flatten(),\n",
        "    \"warehouse_ID\": ['WH_0x3ea'] * len(ware1_dispatch),\n",
        "    \n",
        "},index= ware1testindex)\n",
        "sub1.head()\n"
      ]
    },
    {
      "cell_type": "code",
      "execution_count": 113,
      "metadata": {
        "colab": {
          "base_uri": "https://localhost:8080/",
          "height": 0
        },
        "id": "j1LIUV2ucRTx",
        "outputId": "70010475-3426-45aa-8610-d28dd160f5c2"
      },
      "outputs": [],
      "source": [
        "pred_path = 'warehouses\\ware1\\preds\\ware1.csv'\n",
        "predpath1= os.path.join(base_path,pred_path)\n",
        "sub1.to_csv(predpath1,index=True)"
      ]
    },
    {
      "cell_type": "markdown",
      "metadata": {
        "id": "sJxAcuHXbV6m"
      },
      "source": [
        "## ware2 train (WH_0x3eb)"
      ]
    },
    {
      "cell_type": "code",
      "execution_count": 114,
      "metadata": {
        "id": "D_RbffRWbXrT"
      },
      "outputs": [
        {
          "name": "stdout",
          "output_type": "stream",
          "text": [
            "Model: \"sequential_3\"\n",
            "_________________________________________________________________\n",
            " Layer (type)                Output Shape              Param #   \n",
            "=================================================================\n",
            " lstm_6 (LSTM)               (None, 16, 250)           264000    \n",
            "                                                                 \n",
            " lstm_7 (LSTM)               (None, 120)               178080    \n",
            "                                                                 \n",
            " dense_6 (Dense)             (None, 60)                7260      \n",
            "                                                                 \n",
            " dense_7 (Dense)             (None, 1)                 61        \n",
            "                                                                 \n",
            "=================================================================\n",
            "Total params: 449,401\n",
            "Trainable params: 449,401\n",
            "Non-trainable params: 0\n",
            "_________________________________________________________________\n"
          ]
        },
        {
          "data": {
            "image/png": "[encoded data removed]",
            "text/plain": [
              "<Figure size 432x288 with 1 Axes>"
            ]
          },
          "metadata": {
            "needs_background": "light"
          },
          "output_type": "display_data"
        }
      ],
      "source": [
        "ware2 = train_df[train_df['warehouse_ID'] == 'WH_0x3eb'].drop(['warehouse_ID','date'],axis=1)\n",
        "ware2.drop(['weekly_dispatch_count'],axis=1,inplace=True)\n",
        "ware2 = ware2.drop(['is_warehouse_closed'],axis=1)\n",
        "ware2['daily_dispatch_count'].plot()\n",
        "n = len(ware2)\n",
        "train_ware2 = ware2[0:int(n*0.90)]\n",
        "val_ware2 = ware2[int(n*0.90):]\n",
        "from sklearn.preprocessing import StandardScaler, StandardScaler\n",
        "scaler2 = StandardScaler()\n",
        "X = train_ware2.drop(['daily_dispatch_count'], axis=1)\n",
        "y = train_ware2[['daily_dispatch_count']]\n",
        "scaled_w2 = scaler2.fit_transform(X)\n",
        "y_scaler2 = StandardScaler()\n",
        "scaled_y2  = y_scaler2.fit_transform(y)\n",
        "import numpy as np\n",
        "trainX = []\n",
        "trainY = []\n",
        "n_future = 1\n",
        "n_past = 16\n",
        "for i in range(n_past, len(scaled_w2) - n_future+1):\n",
        "    trainX.append(scaled_w2[i - n_past: i,0:scaled_w2.shape[1]])\n",
        "    trainY.append(scaled_y2[i + n_future - 1:i + n_future])\n",
        "trainX, trainY = np.array(trainX), np.array(trainY)\n",
        "valx = val_ware2.drop(['daily_dispatch_count'], axis=1)\n",
        "valy = val_ware2[['daily_dispatch_count']]\n",
        "scaled_valx = scaler2.transform(valx)\n",
        "scaled_valy = y_scaler2.transform(valy)\n",
        "import numpy as np\n",
        "valX = []\n",
        "valY = []\n",
        "n_future = 1\n",
        "n_past = 16\n",
        "\n",
        "for i in range(n_past, len(scaled_valx) - n_future+1):\n",
        "    valX.append(scaled_valx[i - n_past: i,0:scaled_valx.shape[1]])\n",
        "    valY.append(scaled_valy[i + n_future - 1:i + n_future])\n",
        "valX, valY = np.array(valX), np.array(valY)\n",
        "\n",
        "# model = Sequential()\n",
        "# model.add(Bidirectional(LSTM(800, activation='tanh', input_shape=(16, 13),return_sequences=False)))\n",
        "# # model.add(BatchNormalization())\n",
        "# # model.add(Bidirectional(LSTM(200, activation='tanh', return_sequences=False)))\n",
        "# model.add(Dropout(0.25))\n",
        "# # model.add(Dense(100,activation='relu'))\n",
        "# model.add(Dense(60,activation='relu'))\n",
        "# model.add(Dense(1))\n",
        "# model.compile(optimizer='rmsprop', loss='mse',metrics='mse')\n",
        "\n",
        "\n",
        "model = Sequential()\n",
        "# model.add(LSTM(500, activation='tanh', input_shape=(15, 13), return_sequences=True))\n",
        "model.add(LSTM(250, activation='tanh', input_shape=(16, 13),return_sequences=True))\n",
        "# model.add(Dropout(0.2))\n",
        "model.add(LSTM(120, activation='tanh', return_sequences=False))\n",
        "model.add(Dense(60,activation='relu'))\n",
        "model.add(Dense(1))\n",
        "model.compile(optimizer='rmsprop', loss='mse',metrics='mse')\n",
        "model.summary()\n"
      ]
    },
    {
      "cell_type": "code",
      "execution_count": 115,
      "metadata": {
        "colab": {
          "base_uri": "https://localhost:8080/"
        },
        "id": "cl8TV9IWcEBW",
        "outputId": "6c18a7e1-a5e4-47b9-8073-5ef203d86cfc"
      },
      "outputs": [
        {
          "name": "stdout",
          "output_type": "stream",
          "text": [
            "2.219470444981455\n"
          ]
        }
      ],
      "source": [
        "history = model.fit(trainX,trainY, epochs=80, verbose=0,shuffle=False)\n",
        "ypred = model.predict(valX)\n",
        "y_val = y_scaler2.inverse_transform(valY.reshape(-1,1))\n",
        "ypred = y_scaler2.inverse_transform(ypred.reshape(-1,1))\n",
        "\n",
        "from sklearn.metrics import mean_squared_error\n",
        "print(mean_squared_error(y_val,ypred,squared=False))"
      ]
    },
    {
      "cell_type": "markdown",
      "metadata": {},
      "source": [
        "* 2.7 for 85% \n",
        "* 2.9 for 90%\n",
        "* 2.4 for prev"
      ]
    },
    {
      "cell_type": "code",
      "execution_count": 116,
      "metadata": {
        "colab": {
          "base_uri": "https://localhost:8080/"
        },
        "id": "7ZHRNyB6cTKK",
        "outputId": "e82424ef-0c3a-4c0a-85b7-49d23dd51db3"
      },
      "outputs": [
        {
          "data": {
            "text/plain": [
              "array([[155.        , 155.        ],\n",
              "       [  3.53420329,   3.28451613],\n",
              "       [  2.2375133 ,   3.02659515],\n",
              "       [  0.93131113,   0.        ],\n",
              "       [  1.61282253,   0.45      ],\n",
              "       [  1.78718805,   2.6       ],\n",
              "       [  5.88254428,   5.65      ],\n",
              "       [  6.40875387,  10.7       ]])"
            ]
          },
          "execution_count": 116,
          "metadata": {},
          "output_type": "execute_result"
        }
      ],
      "source": [
        "g = pd.DataFrame(ypred).describe()\n",
        "f = pd.DataFrame(y_val).describe()\n",
        "np.hstack([g,f])"
      ]
    },
    {
      "cell_type": "code",
      "execution_count": 117,
      "metadata": {
        "id": "dgXG3gkXpYf2"
      },
      "outputs": [],
      "source": [
        "import os\n",
        "model_path = 'warehouses/ware2/models/model.h5'\n",
        "model2path = os.path.join(base_path,model_path)\n",
        "model.save(model2path)"
      ]
    },
    {
      "cell_type": "markdown",
      "metadata": {
        "id": "audR_wXzdnYW"
      },
      "source": [
        "## ware 2 submission"
      ]
    },
    {
      "cell_type": "code",
      "execution_count": 118,
      "metadata": {
        "colab": {
          "base_uri": "https://localhost:8080/",
          "height": 206
        },
        "id": "B-RUBLHCdnYW",
        "outputId": "33c2c1ab-12f3-4e19-9734-0ff6598e6901"
      },
      "outputs": [
        {
          "name": "stdout",
          "output_type": "stream",
          "text": [
            "(490, 13)\n"
          ]
        },
        {
          "data": {
            "text/html": [
              "<div>\n",
              "<style scoped>\n",
              "    .dataframe tbody tr th:only-of-type {\n",
              "        vertical-align: middle;\n",
              "    }\n",
              "\n",
              "    .dataframe tbody tr th {\n",
              "        vertical-align: top;\n",
              "    }\n",
              "\n",
              "    .dataframe thead th {\n",
              "        text-align: right;\n",
              "    }\n",
              "</style>\n",
              "<table border=\"1\" class=\"dataframe\">\n",
              "  <thead>\n",
              "    <tr style=\"text-align: right;\">\n",
              "      <th></th>\n",
              "      <th>daily_dispatch_count</th>\n",
              "      <th>warehouse_ID</th>\n",
              "    </tr>\n",
              "  </thead>\n",
              "  <tbody>\n",
              "    <tr>\n",
              "      <th>4</th>\n",
              "      <td>6.408754</td>\n",
              "      <td>WH_0x3eb</td>\n",
              "    </tr>\n",
              "    <tr>\n",
              "      <th>5</th>\n",
              "      <td>1.807917</td>\n",
              "      <td>WH_0x3eb</td>\n",
              "    </tr>\n",
              "    <tr>\n",
              "      <th>24</th>\n",
              "      <td>6.456815</td>\n",
              "      <td>WH_0x3eb</td>\n",
              "    </tr>\n",
              "    <tr>\n",
              "      <th>25</th>\n",
              "      <td>1.786963</td>\n",
              "      <td>WH_0x3eb</td>\n",
              "    </tr>\n",
              "    <tr>\n",
              "      <th>44</th>\n",
              "      <td>6.558316</td>\n",
              "      <td>WH_0x3eb</td>\n",
              "    </tr>\n",
              "  </tbody>\n",
              "</table>\n",
              "</div>"
            ],
            "text/plain": [
              "    daily_dispatch_count warehouse_ID\n",
              "4   6.408754              WH_0x3eb   \n",
              "5   1.807917              WH_0x3eb   \n",
              "24  6.456815              WH_0x3eb   \n",
              "25  1.786963              WH_0x3eb   \n",
              "44  6.558316              WH_0x3eb   "
            ]
          },
          "execution_count": 118,
          "metadata": {},
          "output_type": "execute_result"
        }
      ],
      "source": [
        "print(test_df[test_df['warehouse_ID'] == 'WH_0x3eb'].shape)\n",
        "test_df[test_df['warehouse_ID'] == 'WH_0x3eb'].head()\n",
        "ware2_test = test_df[test_df['warehouse_ID'] == 'WH_0x3eb'].drop(['warehouse_ID','date'],axis=1)\n",
        "ware2testindex= ware2_test.index\n",
        "ware2_test.drop([ 'is_weekend','is_warehouse_closed'],axis=1,inplace=True)\n",
        "ware2_test[['April', 'February', 'January', 'March', 'daily_dispatch_count']] = 0\n",
        "ware2_test = ware2_test[train_ware2.columns]\n",
        "prev2 = train_df[train_df['warehouse_ID'] == 'WH_0x3eb'].tail(16).drop(['warehouse_ID','date','is_warehouse_closed','daily_dispatch_count','weekly_dispatch_count'],axis=1)\n",
        "prev2['daily_dispatch_count'] = 0\n",
        "prev2 = prev2[train_ware2.columns]\n",
        "ware2_test = pd.concat([prev2,ware2_test],axis=0,)\n",
        "x = ware2_test.drop(['daily_dispatch_count'], axis=1)\n",
        "scaled_test2 = scaler2.transform(x)\n",
        "import numpy as np\n",
        "testx2 = []\n",
        "n_future = 1\n",
        "n_past = 16\n",
        "for i in range(n_past, len(scaled_test2) - n_future+1):\n",
        "    testx2.append(scaled_test2[i - n_past: i,0:scaled_test2.shape[1]])\n",
        "testX2 = np.array(testx2)\n",
        "model = load_model(model2path)\n",
        "ware2_dispatch = y_scaler2.inverse_transform(model.predict(testX2))\n",
        "len(ware2_dispatch)\n",
        "sub2 = pd.DataFrame(data = {\n",
        "    \"daily_dispatch_count\":ware2_dispatch.flatten(),\n",
        "    \"warehouse_ID\": ['WH_0x3eb'] * len(ware2_dispatch),\n",
        "    \n",
        "},index= ware2testindex)\n",
        "sub2.head()\n"
      ]
    },
    {
      "cell_type": "code",
      "execution_count": 119,
      "metadata": {},
      "outputs": [],
      "source": [
        "pred_path = 'warehouses\\ware2\\preds\\ware2.csv'\n",
        "predpath2= os.path.join(base_path,pred_path)\n",
        "sub2.to_csv(predpath2,index=True)"
      ]
    },
    {
      "cell_type": "markdown",
      "metadata": {
        "id": "rYd0mFR1qQW_"
      },
      "source": [
        "## ware3 train (WH_0x3ec)"
      ]
    },
    {
      "cell_type": "code",
      "execution_count": 120,
      "metadata": {
        "id": "h3KSlSMmqQW_"
      },
      "outputs": [
        {
          "name": "stdout",
          "output_type": "stream",
          "text": [
            "Model: \"sequential_4\"\n",
            "_________________________________________________________________\n",
            " Layer (type)                Output Shape              Param #   \n",
            "=================================================================\n",
            " lstm_8 (LSTM)               (None, 16, 250)           264000    \n",
            "                                                                 \n",
            " lstm_9 (LSTM)               (None, 120)               178080    \n",
            "                                                                 \n",
            " dense_8 (Dense)             (None, 60)                7260      \n",
            "                                                                 \n",
            " dense_9 (Dense)             (None, 1)                 61        \n",
            "                                                                 \n",
            "=================================================================\n",
            "Total params: 449,401\n",
            "Trainable params: 449,401\n",
            "Non-trainable params: 0\n",
            "_________________________________________________________________\n"
          ]
        },
        {
          "data": {
            "image/png": "[encoded data removed]",
            "text/plain": [
              "<Figure size 432x288 with 1 Axes>"
            ]
          },
          "metadata": {
            "needs_background": "light"
          },
          "output_type": "display_data"
        }
      ],
      "source": [
        "ware3 = train_df[train_df['warehouse_ID'] == 'WH_0x3ec'].drop(['warehouse_ID','date'],axis=1)\n",
        "ware3.drop(['weekly_dispatch_count'],axis=1,inplace=True)\n",
        "ware3 = ware3.drop(['is_warehouse_closed'],axis=1)\n",
        "ware3['daily_dispatch_count'].plot()\n",
        "n = len(ware3)\n",
        "train_ware3 = ware3[0:int(n*0.90)]\n",
        "val_ware3 = ware3[int(n*0.90):]\n",
        "from sklearn.preprocessing import StandardScaler, StandardScaler\n",
        "scaler3 = StandardScaler()\n",
        "X = train_ware3.drop(['daily_dispatch_count'], axis=1)\n",
        "y = train_ware3[['daily_dispatch_count']]\n",
        "scaled_w3 = scaler3.fit_transform(X)\n",
        "y_scaler3 = StandardScaler()\n",
        "scaled_y3  = y_scaler3.fit_transform(y)\n",
        "import numpy as np\n",
        "trainX = []\n",
        "trainY = []\n",
        "n_future = 1\n",
        "n_past = 16\n",
        "for i in range(n_past, len(scaled_w3) - n_future+1):\n",
        "    trainX.append(scaled_w3[i - n_past: i,0:scaled_w3.shape[1]])\n",
        "    trainY.append(scaled_y3[i + n_future - 1:i + n_future])\n",
        "trainX, trainY = np.array(trainX), np.array(trainY)\n",
        "valx = val_ware3.drop(['daily_dispatch_count'], axis=1)\n",
        "valy = val_ware3[['daily_dispatch_count']]\n",
        "scaled_valx = scaler3.transform(valx)\n",
        "scaled_valy = y_scaler3.transform(valy)\n",
        "import numpy as np\n",
        "valX = []\n",
        "valY = []\n",
        "n_future = 1\n",
        "n_past = 16\n",
        "\n",
        "for i in range(n_past, len(scaled_valx) - n_future+1):\n",
        "    valX.append(scaled_valx[i - n_past: i,0:scaled_valx.shape[1]])\n",
        "    valY.append(scaled_valy[i + n_future - 1:i + n_future])\n",
        "valX, valY = np.array(valX), np.array(valY)\n",
        "\n",
        "model = Sequential()\n",
        "# model.add(LSTM(500, activation='tanh', input_shape=(15, 13), return_sequences=True))\n",
        "model.add(LSTM(250, activation='tanh', input_shape=(16, 13),return_sequences=True))\n",
        "# model.add(Dropout(0.2))\n",
        "model.add(LSTM(120, activation='tanh', return_sequences=False))\n",
        "model.add(Dense(60,activation='relu'))\n",
        "model.add(Dense(1))\n",
        "model.compile(optimizer='rmsprop', loss='mse',metrics='mse')\n",
        "model.summary()"
      ]
    },
    {
      "cell_type": "code",
      "execution_count": 121,
      "metadata": {
        "id": "MWuY42-qqQXA"
      },
      "outputs": [
        {
          "name": "stdout",
          "output_type": "stream",
          "text": [
            "Epoch 1/80\n",
            "48/48 [==============================] - 4s 14ms/step - loss: 0.9318 - mse: 0.9318\n",
            "Epoch 2/80\n",
            "48/48 [==============================] - 1s 12ms/step - loss: 1.0209 - mse: 1.0209\n",
            "Epoch 3/80\n",
            "48/48 [==============================] - 1s 11ms/step - loss: 0.9540 - mse: 0.9540\n",
            "Epoch 4/80\n",
            "48/48 [==============================] - 1s 11ms/step - loss: 0.9037 - mse: 0.9037\n",
            "Epoch 5/80\n",
            "48/48 [==============================] - 1s 11ms/step - loss: 0.9330 - mse: 0.9330\n",
            "Epoch 6/80\n",
            "48/48 [==============================] - 1s 11ms/step - loss: 0.8996 - mse: 0.8996\n",
            "Epoch 7/80\n",
            "48/48 [==============================] - 1s 11ms/step - loss: 0.6866 - mse: 0.6866\n",
            "Epoch 8/80\n",
            "48/48 [==============================] - 1s 11ms/step - loss: 0.4148 - mse: 0.4148\n",
            "Epoch 9/80\n",
            "48/48 [==============================] - 1s 11ms/step - loss: 0.4062 - mse: 0.4062\n",
            "Epoch 10/80\n",
            "48/48 [==============================] - 1s 11ms/step - loss: 0.4496 - mse: 0.4496\n",
            "Epoch 11/80\n",
            "48/48 [==============================] - 1s 11ms/step - loss: 0.4259 - mse: 0.4259\n",
            "Epoch 12/80\n",
            "48/48 [==============================] - 1s 11ms/step - loss: 0.3856 - mse: 0.3856\n",
            "Epoch 13/80\n",
            "48/48 [==============================] - 1s 11ms/step - loss: 0.3477 - mse: 0.3477\n",
            "Epoch 14/80\n",
            "48/48 [==============================] - 1s 13ms/step - loss: 0.3519 - mse: 0.3519\n",
            "Epoch 15/80\n",
            "48/48 [==============================] - 1s 11ms/step - loss: 0.3613 - mse: 0.3613\n",
            "Epoch 16/80\n",
            "48/48 [==============================] - 1s 11ms/step - loss: 0.3534 - mse: 0.3534\n",
            "Epoch 17/80\n",
            "48/48 [==============================] - 1s 11ms/step - loss: 0.3372 - mse: 0.3372\n",
            "Epoch 18/80\n",
            "48/48 [==============================] - 1s 11ms/step - loss: 0.3575 - mse: 0.3575\n",
            "Epoch 19/80\n",
            "48/48 [==============================] - 1s 11ms/step - loss: 0.3610 - mse: 0.3610\n",
            "Epoch 20/80\n",
            "48/48 [==============================] - 1s 11ms/step - loss: 0.3829 - mse: 0.3829\n",
            "Epoch 21/80\n",
            "48/48 [==============================] - 1s 11ms/step - loss: 0.4215 - mse: 0.4215\n",
            "Epoch 22/80\n",
            "48/48 [==============================] - 1s 11ms/step - loss: 0.3623 - mse: 0.3623\n",
            "Epoch 23/80\n",
            "48/48 [==============================] - 1s 11ms/step - loss: 0.3682 - mse: 0.3682\n",
            "Epoch 24/80\n",
            "48/48 [==============================] - 1s 11ms/step - loss: 0.3582 - mse: 0.3582\n",
            "Epoch 25/80\n",
            "48/48 [==============================] - 1s 11ms/step - loss: 0.3576 - mse: 0.3576\n",
            "Epoch 26/80\n",
            "48/48 [==============================] - 1s 11ms/step - loss: 0.3574 - mse: 0.3574\n",
            "Epoch 27/80\n",
            "48/48 [==============================] - 1s 11ms/step - loss: 0.3778 - mse: 0.3778\n",
            "Epoch 28/80\n",
            "48/48 [==============================] - 1s 11ms/step - loss: 0.4092 - mse: 0.4092\n",
            "Epoch 29/80\n",
            "48/48 [==============================] - 1s 11ms/step - loss: 0.3436 - mse: 0.3436\n",
            "Epoch 30/80\n",
            "48/48 [==============================] - 1s 11ms/step - loss: 0.3606 - mse: 0.3606\n",
            "Epoch 31/80\n",
            "48/48 [==============================] - 1s 11ms/step - loss: 0.3728 - mse: 0.3728\n",
            "Epoch 32/80\n",
            "48/48 [==============================] - 1s 11ms/step - loss: 0.3536 - mse: 0.3536\n",
            "Epoch 33/80\n",
            "48/48 [==============================] - 1s 11ms/step - loss: 0.3456 - mse: 0.3456\n",
            "Epoch 34/80\n",
            "48/48 [==============================] - 1s 11ms/step - loss: 0.3750 - mse: 0.3750\n",
            "Epoch 35/80\n",
            "48/48 [==============================] - 1s 11ms/step - loss: 0.3549 - mse: 0.3549\n",
            "Epoch 36/80\n",
            "48/48 [==============================] - 1s 11ms/step - loss: 0.3355 - mse: 0.3355\n",
            "Epoch 37/80\n",
            "48/48 [==============================] - 1s 11ms/step - loss: 0.3588 - mse: 0.3588\n",
            "Epoch 38/80\n",
            "48/48 [==============================] - 1s 11ms/step - loss: 0.3510 - mse: 0.3510\n",
            "Epoch 39/80\n",
            "48/48 [==============================] - 1s 13ms/step - loss: 0.3519 - mse: 0.3519\n",
            "Epoch 40/80\n",
            "48/48 [==============================] - 1s 11ms/step - loss: 0.3702 - mse: 0.3702\n",
            "Epoch 41/80\n",
            "48/48 [==============================] - 1s 11ms/step - loss: 0.3391 - mse: 0.3391\n",
            "Epoch 42/80\n",
            "48/48 [==============================] - 1s 11ms/step - loss: 0.3504 - mse: 0.3504\n",
            "Epoch 43/80\n",
            "48/48 [==============================] - 1s 11ms/step - loss: 0.3746 - mse: 0.3746\n",
            "Epoch 44/80\n",
            "48/48 [==============================] - 1s 11ms/step - loss: 0.3510 - mse: 0.3510\n",
            "Epoch 45/80\n",
            "48/48 [==============================] - 1s 11ms/step - loss: 0.3560 - mse: 0.3560\n",
            "Epoch 46/80\n",
            "48/48 [==============================] - 1s 11ms/step - loss: 0.3441 - mse: 0.3441\n",
            "Epoch 47/80\n",
            "48/48 [==============================] - 1s 11ms/step - loss: 0.3553 - mse: 0.3553\n",
            "Epoch 48/80\n",
            "48/48 [==============================] - 1s 11ms/step - loss: 0.3590 - mse: 0.3590\n",
            "Epoch 49/80\n",
            "48/48 [==============================] - 1s 11ms/step - loss: 0.3422 - mse: 0.3422\n",
            "Epoch 50/80\n",
            "48/48 [==============================] - 1s 11ms/step - loss: 0.3351 - mse: 0.3351\n",
            "Epoch 51/80\n",
            "48/48 [==============================] - 1s 11ms/step - loss: 0.3618 - mse: 0.3618\n",
            "Epoch 52/80\n",
            "48/48 [==============================] - 1s 11ms/step - loss: 0.3255 - mse: 0.3255\n",
            "Epoch 53/80\n",
            "48/48 [==============================] - 1s 11ms/step - loss: 0.3473 - mse: 0.3473\n",
            "Epoch 54/80\n",
            "48/48 [==============================] - 1s 11ms/step - loss: 0.3443 - mse: 0.3443\n",
            "Epoch 55/80\n",
            "48/48 [==============================] - 1s 11ms/step - loss: 0.3461 - mse: 0.3461\n",
            "Epoch 56/80\n",
            "48/48 [==============================] - 1s 11ms/step - loss: 0.3527 - mse: 0.3527\n",
            "Epoch 57/80\n",
            "48/48 [==============================] - 1s 11ms/step - loss: 0.3469 - mse: 0.3469\n",
            "Epoch 58/80\n",
            "48/48 [==============================] - 1s 11ms/step - loss: 0.3422 - mse: 0.3422\n",
            "Epoch 59/80\n",
            "48/48 [==============================] - 1s 11ms/step - loss: 0.3394 - mse: 0.3394\n",
            "Epoch 60/80\n",
            "48/48 [==============================] - 1s 11ms/step - loss: 0.3286 - mse: 0.3286\n",
            "Epoch 61/80\n",
            "48/48 [==============================] - 1s 11ms/step - loss: 0.3289 - mse: 0.3289\n",
            "Epoch 62/80\n",
            "48/48 [==============================] - 1s 11ms/step - loss: 0.3348 - mse: 0.3348\n",
            "Epoch 63/80\n",
            "48/48 [==============================] - 1s 13ms/step - loss: 0.3568 - mse: 0.3568\n",
            "Epoch 64/80\n",
            "48/48 [==============================] - 1s 11ms/step - loss: 0.3432 - mse: 0.3432\n",
            "Epoch 65/80\n",
            "48/48 [==============================] - 1s 11ms/step - loss: 0.3356 - mse: 0.3356\n",
            "Epoch 66/80\n",
            "48/48 [==============================] - 1s 11ms/step - loss: 0.3351 - mse: 0.3351\n",
            "Epoch 67/80\n",
            "48/48 [==============================] - 1s 11ms/step - loss: 0.3327 - mse: 0.3327\n",
            "Epoch 68/80\n",
            "48/48 [==============================] - 1s 11ms/step - loss: 0.3009 - mse: 0.3009\n",
            "Epoch 69/80\n",
            "48/48 [==============================] - 1s 11ms/step - loss: 0.3250 - mse: 0.3250\n",
            "Epoch 70/80\n",
            "48/48 [==============================] - 1s 11ms/step - loss: 0.3183 - mse: 0.3183\n",
            "Epoch 71/80\n",
            "48/48 [==============================] - 1s 11ms/step - loss: 0.3213 - mse: 0.3213\n",
            "Epoch 72/80\n",
            "48/48 [==============================] - 1s 11ms/step - loss: 0.3219 - mse: 0.3219\n",
            "Epoch 73/80\n",
            "48/48 [==============================] - 1s 11ms/step - loss: 0.3170 - mse: 0.3170\n",
            "Epoch 74/80\n",
            "48/48 [==============================] - 1s 11ms/step - loss: 0.3204 - mse: 0.3204\n",
            "Epoch 75/80\n",
            "48/48 [==============================] - 1s 11ms/step - loss: 0.3068 - mse: 0.3068\n",
            "Epoch 76/80\n",
            "48/48 [==============================] - 1s 11ms/step - loss: 0.3135 - mse: 0.3135\n",
            "Epoch 77/80\n",
            "48/48 [==============================] - 1s 11ms/step - loss: 0.3062 - mse: 0.3062\n",
            "Epoch 78/80\n",
            "48/48 [==============================] - 1s 11ms/step - loss: 0.3141 - mse: 0.3141\n",
            "Epoch 79/80\n",
            "48/48 [==============================] - 1s 11ms/step - loss: 0.3207 - mse: 0.3207\n",
            "Epoch 80/80\n",
            "48/48 [==============================] - 1s 11ms/step - loss: 0.3169 - mse: 0.3169\n",
            "2.055468470916965\n"
          ]
        }
      ],
      "source": [
        "history = model.fit(trainX,trainY, epochs=80, verbose=1,shuffle=False)\n",
        "ypred = model.predict(valX)\n",
        "y_val = y_scaler3.inverse_transform(valY.reshape(-1,1))\n",
        "ypred = y_scaler3.inverse_transform(ypred.reshape(-1,1))\n",
        "\n",
        "from sklearn.metrics import mean_squared_error\n",
        "print(mean_squared_error(y_val,ypred,squared=False))"
      ]
    },
    {
      "cell_type": "markdown",
      "metadata": {},
      "source": [
        "*2.2 before \n",
        "*2.28 for 100 epochs\n",
        "*2.428 for 15\n",
        "*2.4 for 80 epochs and 90%"
      ]
    },
    {
      "cell_type": "code",
      "execution_count": 122,
      "metadata": {
        "id": "olPMFwITqQXA"
      },
      "outputs": [],
      "source": [
        "import os\n",
        "model_path = 'warehouses/ware3/models/model.h5'\n",
        "model3path = os.path.join(base_path,model_path)\n",
        "model.save(model3path)"
      ]
    },
    {
      "cell_type": "markdown",
      "metadata": {
        "id": "ZLZEFAPOqUSH"
      },
      "source": [
        "## ware 3 submission"
      ]
    },
    {
      "cell_type": "code",
      "execution_count": 123,
      "metadata": {
        "colab": {
          "base_uri": "https://localhost:8080/",
          "height": 223
        },
        "id": "ZYL8oYPRqUSI",
        "outputId": "66af2745-f455-4f65-de8a-8811f9177472"
      },
      "outputs": [
        {
          "name": "stdout",
          "output_type": "stream",
          "text": [
            "(490, 13)\n"
          ]
        }
      ],
      "source": [
        "print(test_df[test_df['warehouse_ID'] == 'WH_0x3ec'].shape)\n",
        "test_df[test_df['warehouse_ID'] == 'WH_0x3ec'].head()\n",
        "ware3_test = test_df[test_df['warehouse_ID'] == 'WH_0x3ec'].drop(['warehouse_ID','date'],axis=1)\n",
        "ware3testindex= ware3_test.index\n",
        "ware3_test.drop([ 'is_weekend','is_warehouse_closed'],axis=1,inplace=True)\n",
        "ware3_test[['April', 'February', 'January', 'March', 'daily_dispatch_count']] = 0\n",
        "ware3_test = ware3_test[train_ware3.columns]\n",
        "prev3 = train_df[train_df['warehouse_ID'] == 'WH_0x3ec'].tail(16).drop(['warehouse_ID','date','is_warehouse_closed','daily_dispatch_count','weekly_dispatch_count'],axis=1)\n",
        "prev3['daily_dispatch_count'] = 0\n",
        "prev3 = prev3[train_ware3.columns]\n",
        "ware3_test = pd.concat([prev3,ware3_test],axis=0,)\n",
        "x = ware3_test.drop(['daily_dispatch_count'], axis=1)\n",
        "scaled_test3 = scaler3.transform(x)\n",
        "import numpy as np\n",
        "testx3 = []\n",
        "n_future = 1\n",
        "n_past = 16\n",
        "for i in range(n_past, len(scaled_test3) - n_future+1):\n",
        "    testx3.append(scaled_test3[i - n_past: i,0:scaled_test3.shape[1]])\n",
        "testX3 = np.array(testx3)\n",
        "model = load_model(model3path)\n",
        "ware3_dispatch = y_scaler3.inverse_transform(model.predict(testX3))\n",
        "len(ware3_dispatch)\n",
        "sub3 = pd.DataFrame(data = {\n",
        "    \"daily_dispatch_count\":ware3_dispatch.flatten(),\n",
        "    \"warehouse_ID\": ['WH_0x3ec'] * len(ware3_dispatch),\n",
        "    \n",
        "},index= ware3testindex)\n",
        "sub3.head()\n",
        "pred_path = 'warehouses\\ware3\\preds\\ware3.csv'\n",
        "predpath3= os.path.join(base_path,pred_path)\n",
        "sub3.to_csv(predpath3,index=True)\n"
      ]
    },
    {
      "cell_type": "markdown",
      "metadata": {
        "id": "2oNpOhODsMNu"
      },
      "source": [
        "## ware4 train (WH_0x3ed)"
      ]
    },
    {
      "cell_type": "code",
      "execution_count": 124,
      "metadata": {
        "id": "SVjdPbLrsMNu"
      },
      "outputs": [
        {
          "name": "stdout",
          "output_type": "stream",
          "text": [
            "Model: \"sequential_5\"\n",
            "_________________________________________________________________\n",
            " Layer (type)                Output Shape              Param #   \n",
            "=================================================================\n",
            " lstm_10 (LSTM)              (None, 16, 250)           264000    \n",
            "                                                                 \n",
            " lstm_11 (LSTM)              (None, 120)               178080    \n",
            "                                                                 \n",
            " dense_10 (Dense)            (None, 60)                7260      \n",
            "                                                                 \n",
            " dense_11 (Dense)            (None, 1)                 61        \n",
            "                                                                 \n",
            "=================================================================\n",
            "Total params: 449,401\n",
            "Trainable params: 449,401\n",
            "Non-trainable params: 0\n",
            "_________________________________________________________________\n",
            "2.370619534049691\n"
          ]
        },
        {
          "data": {
            "image/png": "[encoded data removed]",
            "text/plain": [
              "<Figure size 432x288 with 1 Axes>"
            ]
          },
          "metadata": {
            "needs_background": "light"
          },
          "output_type": "display_data"
        }
      ],
      "source": [
        "ware4 = train_df[train_df['warehouse_ID'] == 'WH_0x3ed'].drop(['warehouse_ID','date'],axis=1)\n",
        "ware4.drop(['weekly_dispatch_count'],axis=1,inplace=True)\n",
        "ware4 = ware4.drop(['is_warehouse_closed'],axis=1)\n",
        "ware4['daily_dispatch_count'].plot()\n",
        "n = len(ware4)\n",
        "train_ware4 = ware4[0:int(n*0.90\n",
        ")]\n",
        "val_ware4 = ware4[int(n*0.90\n",
        "):]\n",
        "from sklearn.preprocessing import StandardScaler, StandardScaler\n",
        "scaler4 = StandardScaler()\n",
        "X = train_ware4.drop(['daily_dispatch_count'], axis=1)\n",
        "y = train_ware4[['daily_dispatch_count']]\n",
        "scaled_w4 = scaler4.fit_transform(X)\n",
        "y_scaler4 = StandardScaler()\n",
        "scaled_y4  = y_scaler4.fit_transform(y)\n",
        "import numpy as np\n",
        "trainX = []\n",
        "trainY = []\n",
        "n_future = 1\n",
        "n_past = 16\n",
        "for i in range(n_past, len(scaled_w4) - n_future+1):\n",
        "    trainX.append(scaled_w4[i - n_past: i,0:scaled_w4.shape[1]])\n",
        "    trainY.append(scaled_y4[i + n_future - 1:i + n_future])\n",
        "trainX, trainY = np.array(trainX), np.array(trainY)\n",
        "valx = val_ware4.drop(['daily_dispatch_count'], axis=1)\n",
        "valy = val_ware4[['daily_dispatch_count']]\n",
        "scaled_valx = scaler4.transform(valx)\n",
        "scaled_valy = y_scaler4.transform(valy)\n",
        "import numpy as np\n",
        "valX = []\n",
        "valY = []\n",
        "n_future = 1\n",
        "n_past = 16\n",
        "\n",
        "for i in range(n_past, len(scaled_valx) - n_future+1):\n",
        "    valX.append(scaled_valx[i - n_past: i,0:scaled_valx.shape[1]])\n",
        "    valY.append(scaled_valy[i + n_future - 1:i + n_future])\n",
        "valX, valY = np.array(valX), np.array(valY)\n",
        "\n",
        "model = Sequential()\n",
        "# model.add(LSTM(500, activation='tanh', input_shape=(15, 13), return_sequences=True))\n",
        "model.add(LSTM(250, activation='tanh', input_shape=(16, 13),return_sequences=True))\n",
        "# model.add(Dropout(0.2))\n",
        "model.add(LSTM(120, activation='tanh', return_sequences=False))\n",
        "model.add(Dense(60,activation='relu'))\n",
        "model.add(Dense(1))\n",
        "model.compile(optimizer='rmsprop', loss='mse',metrics='mse')\n",
        "model.summary()\n",
        "\n",
        "history = model.fit(trainX,trainY, epochs=80, verbose=0,shuffle=False)\n",
        "ypred = model.predict(valX)\n",
        "y_val = y_scaler4.inverse_transform(valY.reshape(-1,1))\n",
        "ypred = y_scaler4.inverse_transform(ypred.reshape(-1,1))\n",
        "\n",
        "from sklearn.metrics import mean_squared_error\n",
        "print(mean_squared_error(y_val,ypred,squared=False))"
      ]
    },
    {
      "cell_type": "code",
      "execution_count": 125,
      "metadata": {
        "id": "H_zAyVn0sMNv"
      },
      "outputs": [],
      "source": [
        "import os\n",
        "model_path = 'warehouses/ware4/models/model.h5'\n",
        "model4path = os.path.join(base_path,model_path)\n",
        "model.save(model4path)"
      ]
    },
    {
      "cell_type": "markdown",
      "metadata": {
        "id": "wU35oo5IsSez"
      },
      "source": [
        "## ware 4 submission"
      ]
    },
    {
      "cell_type": "code",
      "execution_count": 126,
      "metadata": {
        "colab": {
          "base_uri": "https://localhost:8080/",
          "height": 223
        },
        "id": "iTlCGSCZsSez",
        "outputId": "f4b1fe66-1016-4ef5-d811-8fa4df5d323f"
      },
      "outputs": [
        {
          "name": "stdout",
          "output_type": "stream",
          "text": [
            "(490, 13)\n"
          ]
        }
      ],
      "source": [
        "print(test_df[test_df['warehouse_ID'] == 'WH_0x3ed'].shape)\n",
        "test_df[test_df['warehouse_ID'] == 'WH_0x3ed'].head()\n",
        "ware4_test = test_df[test_df['warehouse_ID'] == 'WH_0x3ed'].drop(['warehouse_ID','date'],axis=1)\n",
        "ware4testindex= ware4_test.index\n",
        "ware4_test.drop([ 'is_weekend','is_warehouse_closed'],axis=1,inplace=True)\n",
        "ware4_test[['April', 'February', 'January', 'March', 'daily_dispatch_count']] = 0\n",
        "ware4_test = ware4_test[train_ware4.columns]\n",
        "prev4 = train_df[train_df['warehouse_ID'] == 'WH_0x3ed'].tail(15).drop(['warehouse_ID','date','is_warehouse_closed','daily_dispatch_count','weekly_dispatch_count'],axis=1)\n",
        "prev4['daily_dispatch_count'] = 0\n",
        "prev4 = prev4[train_ware4.columns]\n",
        "ware3_test = pd.concat([prev4,ware4_test],axis=0,)\n",
        "x = ware4_test.drop(['daily_dispatch_count'], axis=1)\n",
        "scaled_test4 = scaler4.transform(x)\n",
        "import numpy as np\n",
        "testx4 = []\n",
        "n_future = 1\n",
        "n_past = 15\n",
        "for i in range(n_past, len(scaled_test4) - n_future+1):\n",
        "    testx4.append(scaled_test4[i - n_past: i,0:scaled_test4.shape[1]])\n",
        "testX4 = np.array(testx4)\n",
        "model = load_model(model4path)\n",
        "ware4_dispatch = y_scaler4.inverse_transform(model.predict(testX3))\n",
        "len(ware4_dispatch)\n",
        "sub4 = pd.DataFrame(data = {\n",
        "    \"daily_dispatch_count\":ware4_dispatch.flatten(),\n",
        "    \"warehouse_ID\": ['WH_0x3ed'] * len(ware4_dispatch),\n",
        "    \n",
        "},index= ware4testindex)\n",
        "sub4.head()\n",
        "pred_path = 'warehouses\\ware4\\preds\\ware4.csv'\n",
        "predpath4= os.path.join(base_path,pred_path)\n",
        "sub4.to_csv(predpath4,index=True)"
      ]
    },
    {
      "cell_type": "markdown",
      "metadata": {},
      "source": [
        "# ware5 "
      ]
    },
    {
      "cell_type": "code",
      "execution_count": 127,
      "metadata": {},
      "outputs": [
        {
          "name": "stdout",
          "output_type": "stream",
          "text": [
            "Model: \"sequential_6\"\n",
            "_________________________________________________________________\n",
            " Layer (type)                Output Shape              Param #   \n",
            "=================================================================\n",
            " lstm_12 (LSTM)              (None, 16, 250)           264000    \n",
            "                                                                 \n",
            " lstm_13 (LSTM)              (None, 120)               178080    \n",
            "                                                                 \n",
            " dense_12 (Dense)            (None, 60)                7260      \n",
            "                                                                 \n",
            " dense_13 (Dense)            (None, 1)                 61        \n",
            "                                                                 \n",
            "=================================================================\n",
            "Total params: 449,401\n",
            "Trainable params: 449,401\n",
            "Non-trainable params: 0\n",
            "_________________________________________________________________\n",
            "3.196602996930644\n",
            "(490, 13)\n"
          ]
        },
        {
          "data": {
            "image/png": "[encoded data removed]",
            "text/plain": [
              "<Figure size 432x288 with 1 Axes>"
            ]
          },
          "metadata": {
            "needs_background": "light"
          },
          "output_type": "display_data"
        }
      ],
      "source": [
        "## ware5 train (WH_0x3ee)\n",
        "ware5 = train_df[train_df['warehouse_ID'] == 'WH_0x3ee'].drop(['warehouse_ID','date'],axis=1)\n",
        "ware5.drop(['weekly_dispatch_count'],axis=1,inplace=True)\n",
        "ware5 = ware5.drop(['is_warehouse_closed'],axis=1)\n",
        "ware5['daily_dispatch_count'].plot()\n",
        "n = len(ware5)\n",
        "train_ware5 = ware5[0:int(n*0.90)]\n",
        "val_ware5 = ware5[int(n*0.90):]\n",
        "\n",
        "from sklearn.preprocessing import StandardScaler, StandardScaler\n",
        "scaler5 = StandardScaler()\n",
        "X = train_ware5.drop(['daily_dispatch_count'], axis=1)\n",
        "y = train_ware5[['daily_dispatch_count']]\n",
        "scaled_w5 = scaler5.fit_transform(X)\n",
        "y_scaler5 = StandardScaler()\n",
        "scaled_y5  = y_scaler5.fit_transform(y)\n",
        "import numpy as np\n",
        "trainX = []\n",
        "trainY = []\n",
        "n_future = 1\n",
        "n_past = 16\n",
        "for i in range(n_past, len(scaled_w5) - n_future+1):\n",
        "    trainX.append(scaled_w5[i - n_past: i,0:scaled_w5.shape[1]])\n",
        "    trainY.append(scaled_y5[i + n_future - 1:i + n_future])\n",
        "trainX, trainY = np.array(trainX), np.array(trainY)\n",
        "valx = val_ware5.drop(['daily_dispatch_count'], axis=1)\n",
        "valy = val_ware5[['daily_dispatch_count']]\n",
        "scaled_valx = scaler5.transform(valx)\n",
        "scaled_valy = y_scaler5.transform(valy)\n",
        "import numpy as np\n",
        "valX = []\n",
        "valY = []\n",
        "n_future = 1\n",
        "n_past = 16\n",
        "\n",
        "for i in range(n_past, len(scaled_valx) - n_future+1):\n",
        "    valX.append(scaled_valx[i - n_past: i,0:scaled_valx.shape[1]])\n",
        "    valY.append(scaled_valy[i + n_future - 1:i + n_future])\n",
        "valX, valY = np.array(valX), np.array(valY)\n",
        "\n",
        "model = Sequential()\n",
        "# model.add(LSTM(500, activation='tanh', input_shape=(15, 13), return_sequences=True))\n",
        "model.add(LSTM(250, activation='tanh', input_shape=(16, 13),return_sequences=True))\n",
        "# model.add(Dropout(0.2))\n",
        "model.add(LSTM(120, activation='tanh', return_sequences=False))\n",
        "model.add(Dense(60,activation='relu'))\n",
        "model.add(Dense(1))\n",
        "model.compile(optimizer='rmsprop', loss='mse',metrics='mse')\n",
        "model.summary()\n",
        "\n",
        "ypred = model.predict(valX)\n",
        "y_val = y_scaler5.inverse_transform(valY.reshape(-1,1))\n",
        "ypred = y_scaler5.inverse_transform(ypred.reshape(-1,1))\n",
        "\n",
        "from sklearn.metrics import mean_squared_error\n",
        "print(mean_squared_error(y_val,ypred,squared=False))\n",
        "g = pd.DataFrame(ypred).describe()\n",
        "f = pd.DataFrame(y_val).describe()\n",
        "np.hstack([g,f])\n",
        "\n",
        "import os\n",
        "model_path = 'warehouses/ware5/models/model.h5'\n",
        "model5path = os.path.join(base_path,model_path)\n",
        "model.save(model5path)\n",
        "\n",
        "## ware 3 submission\n",
        "print(test_df[test_df['warehouse_ID'] == 'WH_0x3ee'].shape)\n",
        "test_df[test_df['warehouse_ID'] == 'WH_0x3ee'].head()\n",
        "ware5_test = test_df[test_df['warehouse_ID'] == 'WH_0x3ee'].drop(['warehouse_ID','date'],axis=1)\n",
        "ware5testindex= ware5_test.index\n",
        "ware5_test.drop([ 'is_weekend','is_warehouse_closed'],axis=1,inplace=True)\n",
        "ware5_test[['April', 'February', 'January', 'March', 'daily_dispatch_count']] = 0\n",
        "ware5_test = ware5_test[train_ware5.columns]\n",
        "\n",
        "prev5 = train_df[train_df['warehouse_ID'] == 'WH_0x3ee'].tail(16).drop(['warehouse_ID','date','is_warehouse_closed','daily_dispatch_count','weekly_dispatch_count'],axis=1)\n",
        "prev5['daily_dispatch_count'] = 0\n",
        "prev5 = prev5[train_ware5.columns]\n",
        "ware5_test = pd.concat([prev5,ware5_test],axis=0,)\n",
        "x = ware5_test.drop(['daily_dispatch_count'], axis=1)\n",
        "scaled_test5 = scaler5.transform(x)\n",
        "import numpy as np\n",
        "testx5 = []\n",
        "n_future = 1\n",
        "n_past = 16\n",
        "for i in range(n_past, len(scaled_test5) - n_future+1):\n",
        "    testx5.append(scaled_test5[i - n_past: i,0:scaled_test5.shape[1]])\n",
        "testX5 = np.array(testx5)\n",
        "model = load_model(model5path)\n",
        "ware5_dispatch = y_scaler5.inverse_transform(model.predict(testX5))\n",
        "len(ware5_dispatch)\n",
        "sub5 = pd.DataFrame(data = {\n",
        "    \"daily_dispatch_count\":ware5_dispatch.flatten(),\n",
        "    \"warehouse_ID\": ['WH_0x3ee'] * len(ware5_dispatch),\n",
        "    \n",
        "},index= ware5testindex)\n",
        "sub5.head()\n",
        "pred_path = 'warehouses\\ware5\\preds\\ware5.csv'\n",
        "predpath5= os.path.join(base_path,pred_path)\n",
        "sub5.to_csv(predpath5,index=True)"
      ]
    },
    {
      "cell_type": "markdown",
      "metadata": {},
      "source": [
        "# ware6"
      ]
    },
    {
      "cell_type": "code",
      "execution_count": 128,
      "metadata": {},
      "outputs": [
        {
          "name": "stdout",
          "output_type": "stream",
          "text": [
            "Model: \"sequential_7\"\n",
            "_________________________________________________________________\n",
            " Layer (type)                Output Shape              Param #   \n",
            "=================================================================\n",
            " lstm_14 (LSTM)              (None, 16, 250)           264000    \n",
            "                                                                 \n",
            " lstm_15 (LSTM)              (None, 120)               178080    \n",
            "                                                                 \n",
            " dense_14 (Dense)            (None, 60)                7260      \n",
            "                                                                 \n",
            " dense_15 (Dense)            (None, 1)                 61        \n",
            "                                                                 \n",
            "=================================================================\n",
            "Total params: 449,401\n",
            "Trainable params: 449,401\n",
            "Non-trainable params: 0\n",
            "_________________________________________________________________\n",
            "1.9914771819046446\n",
            "(490, 13)\n"
          ]
        },
        {
          "data": {
            "image/png": "[encoded data removed]",
            "text/plain": [
              "<Figure size 432x288 with 1 Axes>"
            ]
          },
          "metadata": {
            "needs_background": "light"
          },
          "output_type": "display_data"
        }
      ],
      "source": [
        "## ware6 train (WH_0x3ef)\n",
        "ware6 = train_df[train_df['warehouse_ID'] == 'WH_0x3ef'].drop(['warehouse_ID','date'],axis=1)\n",
        "ware6.drop(['weekly_dispatch_count'],axis=1,inplace=True)\n",
        "ware6 = ware6.drop(['is_warehouse_closed'],axis=1)\n",
        "ware6['daily_dispatch_count'].plot()\n",
        "n = len(ware6)\n",
        "train_ware6 = ware6[0:int(n*0.90)]\n",
        "val_ware6 = ware6[int(n*0.90):]\n",
        "\n",
        "from sklearn.preprocessing import StandardScaler, StandardScaler\n",
        "scaler6 = StandardScaler()\n",
        "X = train_ware6.drop(['daily_dispatch_count'], axis=1)\n",
        "y = train_ware6[['daily_dispatch_count']]\n",
        "scaled_w6 = scaler6.fit_transform(X)\n",
        "y_scaler6 = StandardScaler()\n",
        "scaled_y5  = y_scaler6.fit_transform(y)\n",
        "import numpy as np\n",
        "trainX = []\n",
        "trainY = []\n",
        "n_future = 1\n",
        "n_past = 16\n",
        "for i in range(n_past, len(scaled_w6) - n_future+1):\n",
        "    trainX.append(scaled_w6[i - n_past: i,0:scaled_w6.shape[1]])\n",
        "    trainY.append(scaled_y5[i + n_future - 1:i + n_future])\n",
        "trainX, trainY = np.array(trainX), np.array(trainY)\n",
        "valx = val_ware6.drop(['daily_dispatch_count'], axis=1)\n",
        "valy = val_ware6[['daily_dispatch_count']]\n",
        "scaled_valx = scaler6.transform(valx)\n",
        "scaled_valy = y_scaler6.transform(valy)\n",
        "import numpy as np\n",
        "valX = []\n",
        "valY = []\n",
        "n_future = 1\n",
        "n_past = 16\n",
        "\n",
        "for i in range(n_past, len(scaled_valx) - n_future+1):\n",
        "    valX.append(scaled_valx[i - n_past: i,0:scaled_valx.shape[1]])\n",
        "    valY.append(scaled_valy[i + n_future - 1:i + n_future])\n",
        "valX, valY = np.array(valX), np.array(valY)\n",
        "model = Sequential()\n",
        "# model.add(LSTM(500, activation='tanh', input_shape=(15, 13), return_sequences=True))\n",
        "model.add(LSTM(250, activation='tanh', input_shape=(16, 13),return_sequences=True))\n",
        "# model.add(Dropout(0.2))\n",
        "model.add(LSTM(120, activation='tanh', return_sequences=False))\n",
        "model.add(Dense(60,activation='relu'))\n",
        "model.add(Dense(1))\n",
        "model.compile(optimizer='rmsprop', loss='mse',metrics='mse')\n",
        "model.summary()\n",
        "\n",
        "ypred = model.predict(valX)\n",
        "y_val = y_scaler6.inverse_transform(valY.reshape(-1,1))\n",
        "ypred = y_scaler6.inverse_transform(ypred.reshape(-1,1))\n",
        "\n",
        "from sklearn.metrics import mean_squared_error\n",
        "print(mean_squared_error(y_val,ypred,squared=False))\n",
        "g = pd.DataFrame(ypred).describe()\n",
        "f = pd.DataFrame(y_val).describe()\n",
        "np.hstack([g,f])\n",
        "import os\n",
        "model_path = 'warehouses/ware6/models/model.h5'\n",
        "model6path = os.path.join(base_path,model_path)\n",
        "model.save(model6path)\n",
        "## ware 3 submission\n",
        "print(test_df[test_df['warehouse_ID'] == 'WH_0x3ef'].shape)\n",
        "test_df[test_df['warehouse_ID'] == 'WH_0x3ef'].head()\n",
        "ware6_test = test_df[test_df['warehouse_ID'] == 'WH_0x3ef'].drop(['warehouse_ID','date'],axis=1)\n",
        "ware6testindex= ware6_test.index\n",
        "ware6_test.drop([ 'is_weekend','is_warehouse_closed'],axis=1,inplace=True)\n",
        "ware6_test[['April', 'February', 'January', 'March', 'daily_dispatch_count']] = 0\n",
        "ware6_test = ware6_test[train_ware6.columns]\n",
        "\n",
        "prev6 = train_df[train_df['warehouse_ID'] == 'WH_0x3ef'].tail(16).drop(['warehouse_ID','date','is_warehouse_closed','daily_dispatch_count','weekly_dispatch_count'],axis=1)\n",
        "prev6['daily_dispatch_count'] = 0\n",
        "prev6 = prev6[train_ware6.columns]\n",
        "ware6_test = pd.concat([prev6,ware6_test],axis=0,)\n",
        "x = ware6_test.drop(['daily_dispatch_count'], axis=1)\n",
        "scaled_test6 = scaler6.transform(x)\n",
        "import numpy as np\n",
        "testx6 = []\n",
        "n_future = 1\n",
        "n_past = 16\n",
        "for i in range(n_past, len(scaled_test6) - n_future+1):\n",
        "    testx6.append(scaled_test6[i - n_past: i,0:scaled_test6.shape[1]])\n",
        "testX6 = np.array(testx6)\n",
        "model = load_model(model6path)\n",
        "ware6_dispatch = y_scaler6.inverse_transform(model.predict(testX6))\n",
        "len(ware6_dispatch)\n",
        "sub6 = pd.DataFrame(data = {\n",
        "    \"daily_dispatch_count\":ware6_dispatch.flatten(),\n",
        "    \"warehouse_ID\": ['WH_0x3ef'] * len(ware6_dispatch),\n",
        "    \n",
        "},index= ware6testindex)\n",
        "sub6.head()\n",
        "pred_path = 'warehouses\\ware6\\preds\\ware6.csv'\n",
        "predpath6= os.path.join(base_path,pred_path)\n",
        "sub6.to_csv(predpath6,index=True)"
      ]
    },
    {
      "cell_type": "code",
      "execution_count": null,
      "metadata": {},
      "outputs": [],
      "source": []
    },
    {
      "cell_type": "markdown",
      "metadata": {},
      "source": [
        "# ware 7"
      ]
    },
    {
      "cell_type": "code",
      "execution_count": 129,
      "metadata": {},
      "outputs": [
        {
          "name": "stdout",
          "output_type": "stream",
          "text": [
            "Model: \"sequential_8\"\n",
            "_________________________________________________________________\n",
            " Layer (type)                Output Shape              Param #   \n",
            "=================================================================\n",
            " lstm_16 (LSTM)              (None, 16, 250)           264000    \n",
            "                                                                 \n",
            " lstm_17 (LSTM)              (None, 120)               178080    \n",
            "                                                                 \n",
            " dense_16 (Dense)            (None, 60)                7260      \n",
            "                                                                 \n",
            " dense_17 (Dense)            (None, 1)                 61        \n",
            "                                                                 \n",
            "=================================================================\n",
            "Total params: 449,401\n",
            "Trainable params: 449,401\n",
            "Non-trainable params: 0\n",
            "_________________________________________________________________\n",
            "3.1781461543450664\n",
            "(490, 13)\n"
          ]
        },
        {
          "data": {
            "image/png": "[encoded data removed]",
            "text/plain": [
              "<Figure size 432x288 with 1 Axes>"
            ]
          },
          "metadata": {
            "needs_background": "light"
          },
          "output_type": "display_data"
        }
      ],
      "source": [
        "## ware7 train (WH_0x3f1)\n",
        "ware7 = train_df[train_df['warehouse_ID'] == 'WH_0x3f1'].drop(['warehouse_ID','date'],axis=1)\n",
        "ware7.drop(['weekly_dispatch_count'],axis=1,inplace=True)\n",
        "ware7 = ware7.drop(['is_warehouse_closed'],axis=1)\n",
        "ware7['daily_dispatch_count'].plot()\n",
        "n = len(ware7)\n",
        "train_ware7 = ware7[0:int(n*0.90)]  \n",
        "val_ware7 = ware7[int(n*0.90):]\n",
        "\n",
        "from sklearn.preprocessing import StandardScaler, StandardScaler\n",
        "scaler7 = StandardScaler()\n",
        "X = train_ware7.drop(['daily_dispatch_count'], axis=1)\n",
        "y = train_ware7[['daily_dispatch_count']]\n",
        "scaled_w7 = scaler7.fit_transform(X)\n",
        "y_scaler7 = StandardScaler()\n",
        "scaled_y5  = y_scaler7.fit_transform(y)\n",
        "import numpy as np\n",
        "trainX = []\n",
        "trainY = []\n",
        "n_future = 1\n",
        "n_past = 16\n",
        "for i in range(n_past, len(scaled_w7) - n_future+1):\n",
        "    trainX.append(scaled_w7[i - n_past: i,0:scaled_w7.shape[1]])\n",
        "    trainY.append(scaled_y5[i + n_future - 1:i + n_future])\n",
        "trainX, trainY = np.array(trainX), np.array(trainY)\n",
        "valx = val_ware7.drop(['daily_dispatch_count'], axis=1)\n",
        "valy = val_ware7[['daily_dispatch_count']]\n",
        "scaled_valx = scaler7.transform(valx)\n",
        "scaled_valy = y_scaler7.transform(valy)\n",
        "import numpy as np\n",
        "valX = []\n",
        "valY = []\n",
        "n_future = 1\n",
        "n_past = 16\n",
        "\n",
        "for i in range(n_past, len(scaled_valx) - n_future+1):\n",
        "    valX.append(scaled_valx[i - n_past: i,0:scaled_valx.shape[1]])\n",
        "    valY.append(scaled_valy[i + n_future - 1:i + n_future])\n",
        "valX, valY = np.array(valX), np.array(valY)\n",
        "model = Sequential()\n",
        "# model.add(LSTM(500, activation='tanh', input_shape=(15, 13), return_sequences=True))\n",
        "model.add(LSTM(250, activation='tanh', input_shape=(16, 13),return_sequences=True))\n",
        "# model.add(Dropout(0.2))\n",
        "model.add(LSTM(120, activation='tanh', return_sequences=False))\n",
        "model.add(Dense(60,activation='relu'))\n",
        "model.add(Dense(1))\n",
        "model.compile(optimizer='rmsprop', loss='mse',metrics='mse')\n",
        "model.summary()\n",
        "\n",
        "ypred = model.predict(valX)\n",
        "y_val = y_scaler7.inverse_transform(valY.reshape(-1,1))\n",
        "ypred = y_scaler7.inverse_transform(ypred.reshape(-1,1))\n",
        "\n",
        "from sklearn.metrics import mean_squared_error\n",
        "print(mean_squared_error(y_val,ypred,squared=False))\n",
        "g = pd.DataFrame(ypred).describe()\n",
        "f = pd.DataFrame(y_val).describe()\n",
        "np.hstack([g,f])\n",
        "import os\n",
        "model_path = 'warehouses/ware7/models/model.h5'\n",
        "model7path = os.path.join(base_path,model_path)\n",
        "model.save(model7path)\n",
        "## ware 3 submission\n",
        "print(test_df[test_df['warehouse_ID'] == 'WH_0x3f1'].shape)\n",
        "test_df[test_df['warehouse_ID'] == 'WH_0x3f1'].head()\n",
        "ware7_test = test_df[test_df['warehouse_ID'] == 'WH_0x3f1'].drop(['warehouse_ID','date'],axis=1)\n",
        "ware7testindex= ware7_test.index\n",
        "ware7_test.drop([ 'is_weekend','is_warehouse_closed'],axis=1,inplace=True)\n",
        "ware7_test[['April', 'February', 'January', 'March', 'daily_dispatch_count']] = 0\n",
        "ware7_test = ware7_test[train_ware7.columns]\n",
        "\n",
        "prev7 = train_df[train_df['warehouse_ID'] == 'WH_0x3f1'].tail(16).drop(['warehouse_ID','date','is_warehouse_closed','daily_dispatch_count','weekly_dispatch_count'],axis=1)\n",
        "prev7['daily_dispatch_count'] = 0\n",
        "prev7 = prev7[train_ware7.columns]\n",
        "ware7_test = pd.concat([prev7,ware7_test],axis=0,)\n",
        "x = ware7_test.drop(['daily_dispatch_count'], axis=1)\n",
        "scaled_test7 = scaler7.transform(x)\n",
        "import numpy as np\n",
        "testx7 = []\n",
        "n_future = 1\n",
        "n_past = 16\n",
        "for i in range(n_past, len(scaled_test7) - n_future+1):\n",
        "    testx7.append(scaled_test7[i - n_past: i,0:scaled_test7.shape[1]])\n",
        "testX7 = np.array(testx7)\n",
        "model = load_model(model7path)\n",
        "ware7_dispatch = y_scaler7.inverse_transform(model.predict(testX7))\n",
        "len(ware7_dispatch)\n",
        "sub7 = pd.DataFrame(data = {\n",
        "    \"daily_dispatch_count\":ware7_dispatch.flatten(),\n",
        "    \"warehouse_ID\": ['WH_0x3f1'] * len(ware7_dispatch),\n",
        "    \n",
        "},index= ware7testindex)\n",
        "sub7.head()\n",
        "pred_path = 'warehouses\\ware7\\preds\\ware7.csv'\n",
        "predpath7= os.path.join(base_path,pred_path)\n",
        "sub7.to_csv(predpath7,index=True)"
      ]
    },
    {
      "cell_type": "markdown",
      "metadata": {},
      "source": [
        "# ware 8"
      ]
    },
    {
      "cell_type": "code",
      "execution_count": 130,
      "metadata": {},
      "outputs": [
        {
          "name": "stdout",
          "output_type": "stream",
          "text": [
            "Model: \"sequential_9\"\n",
            "_________________________________________________________________\n",
            " Layer (type)                Output Shape              Param #   \n",
            "=================================================================\n",
            " lstm_18 (LSTM)              (None, 16, 250)           264000    \n",
            "                                                                 \n",
            " lstm_19 (LSTM)              (None, 120)               178080    \n",
            "                                                                 \n",
            " dense_18 (Dense)            (None, 60)                7260      \n",
            "                                                                 \n",
            " dense_19 (Dense)            (None, 1)                 61        \n",
            "                                                                 \n",
            "=================================================================\n",
            "Total params: 449,401\n",
            "Trainable params: 449,401\n",
            "Non-trainable params: 0\n",
            "_________________________________________________________________\n",
            "3.4122032462384744\n",
            "(490, 13)\n"
          ]
        },
        {
          "data": {
            "image/png": "[encoded data removed]",
            "text/plain": [
              "<Figure size 432x288 with 1 Axes>"
            ]
          },
          "metadata": {
            "needs_background": "light"
          },
          "output_type": "display_data"
        }
      ],
      "source": [
        "## ware8 train (WH_0x3f0)\n",
        "ware8 = train_df[train_df['warehouse_ID'] == 'WH_0x3f0'].drop(['warehouse_ID','date'],axis=1)\n",
        "ware8.drop(['weekly_dispatch_count'],axis=1,inplace=True)\n",
        "ware8 = ware8.drop(['is_warehouse_closed'],axis=1)\n",
        "ware8['daily_dispatch_count'].plot()\n",
        "n = len(ware8)\n",
        "train_ware8 = ware8[0:int(n*0.90)]\n",
        "val_ware8 = ware8[int(n*0.90):]\n",
        "\n",
        "from sklearn.preprocessing import StandardScaler, StandardScaler\n",
        "scaler8 = StandardScaler()\n",
        "X = train_ware8.drop(['daily_dispatch_count'], axis=1)\n",
        "y = train_ware8[['daily_dispatch_count']]\n",
        "scaled_w8 = scaler8.fit_transform(X)\n",
        "y_scaler8 = StandardScaler()\n",
        "scaled_y8  = y_scaler8.fit_transform(y)\n",
        "import numpy as np\n",
        "trainX = []\n",
        "trainY = []\n",
        "n_future = 1\n",
        "n_past = 16\n",
        "for i in range(n_past, len(scaled_w8) - n_future+1):\n",
        "    trainX.append(scaled_w8[i - n_past: i,0:scaled_w8.shape[1]])\n",
        "    trainY.append(scaled_y8[i + n_future - 1:i + n_future])\n",
        "trainX, trainY = np.array(trainX), np.array(trainY)\n",
        "valx = val_ware8.drop(['daily_dispatch_count'], axis=1)\n",
        "valy = val_ware8[['daily_dispatch_count']]\n",
        "scaled_valx = scaler8.transform(valx)\n",
        "scaled_valy = y_scaler8.transform(valy)\n",
        "import numpy as np\n",
        "valX = []\n",
        "valY = []\n",
        "n_future = 1\n",
        "n_past = 16\n",
        "\n",
        "for i in range(n_past, len(scaled_valx) - n_future+1):\n",
        "    valX.append(scaled_valx[i - n_past: i,0:scaled_valx.shape[1]])\n",
        "    valY.append(scaled_valy[i + n_future - 1:i + n_future])\n",
        "valX, valY = np.array(valX), np.array(valY)\n",
        "model = Sequential()\n",
        "# model.add(LSTM(500, activation='tanh', input_shape=(15, 13), return_sequences=True))\n",
        "model.add(LSTM(250, activation='tanh', input_shape=(16, 13),return_sequences=True))\n",
        "# model.add(Dropout(0.2))\n",
        "model.add(LSTM(120, activation='tanh', return_sequences=False))\n",
        "model.add(Dense(60,activation='relu'))\n",
        "model.add(Dense(1))\n",
        "model.compile(optimizer='rmsprop', loss='mse',metrics='mse')\n",
        "model.summary()\n",
        "\n",
        "ypred = model.predict(valX)\n",
        "y_val = y_scaler8.inverse_transform(valY.reshape(-1,1))\n",
        "ypred = y_scaler8.inverse_transform(ypred.reshape(-1,1))\n",
        "\n",
        "from sklearn.metrics import mean_squared_error\n",
        "print(mean_squared_error(y_val,ypred,squared=False))\n",
        "g = pd.DataFrame(ypred).describe()\n",
        "f = pd.DataFrame(y_val).describe()\n",
        "np.hstack([g,f])\n",
        "model_path = 'warehouses/ware8/models/model.h5'\n",
        "model8path = os.path.join(base_path,model_path)\n",
        "model.save(model8path)\n",
        "## ware 3 submission\n",
        "print(test_df[test_df['warehouse_ID'] == 'WH_0x3f0'].shape)\n",
        "test_df[test_df['warehouse_ID'] == 'WH_0x3f0'].head()\n",
        "ware8_test = test_df[test_df['warehouse_ID'] == 'WH_0x3f0'].drop(['warehouse_ID','date'],axis=1)\n",
        "ware8testindex= ware8_test.index\n",
        "ware8_test.drop([ 'is_weekend','is_warehouse_closed'],axis=1,inplace=True)\n",
        "ware8_test[['April', 'February', 'January', 'March', 'daily_dispatch_count']] = 0\n",
        "ware8_test = ware8_test[train_ware8.columns]\n",
        "\n",
        "prev8 = train_df[train_df['warehouse_ID'] == 'WH_0x3f0'].tail(16).drop(['warehouse_ID','date','is_warehouse_closed','daily_dispatch_count','weekly_dispatch_count'],axis=1)\n",
        "prev8['daily_dispatch_count'] = 0\n",
        "prev8 = prev8[train_ware8.columns]\n",
        "ware8_test = pd.concat([prev8,ware8_test],axis=0,)\n",
        "x = ware8_test.drop(['daily_dispatch_count'], axis=1)\n",
        "scaled_test8 = scaler8.transform(x)\n",
        "import numpy as np\n",
        "testx8 = []\n",
        "n_future = 1\n",
        "n_past = 16\n",
        "for i in range(n_past, len(scaled_test8) - n_future+1):\n",
        "    testx8.append(scaled_test8[i - n_past: i,0:scaled_test8.shape[1]])\n",
        "testX8 = np.array(testx8)\n",
        "model = load_model(model8path)\n",
        "ware8_dispatch = y_scaler8.inverse_transform(model.predict(testX8))\n",
        "len(ware8_dispatch)\n",
        "sub8 = pd.DataFrame(data = {\n",
        "    \"daily_dispatch_count\":ware8_dispatch.flatten(),\n",
        "    \"warehouse_ID\": ['WH_0x3f0'] * len(ware8_dispatch),\n",
        "    \n",
        "},index= ware8testindex)\n",
        "sub8.head()\n",
        "pred_path = 'warehouses\\ware8\\preds\\ware8.csv'\n",
        "predpath8= os.path.join(base_path,pred_path)\n",
        "sub8.to_csv(predpath8,index=True)"
      ]
    },
    {
      "cell_type": "markdown",
      "metadata": {},
      "source": [
        "# ware 9"
      ]
    },
    {
      "cell_type": "code",
      "execution_count": 131,
      "metadata": {},
      "outputs": [
        {
          "name": "stdout",
          "output_type": "stream",
          "text": [
            "Model: \"sequential_10\"\n",
            "_________________________________________________________________\n",
            " Layer (type)                Output Shape              Param #   \n",
            "=================================================================\n",
            " lstm_20 (LSTM)              (None, 16, 250)           264000    \n",
            "                                                                 \n",
            " lstm_21 (LSTM)              (None, 120)               178080    \n",
            "                                                                 \n",
            " dense_20 (Dense)            (None, 60)                7260      \n",
            "                                                                 \n",
            " dense_21 (Dense)            (None, 1)                 61        \n",
            "                                                                 \n",
            "=================================================================\n",
            "Total params: 449,401\n",
            "Trainable params: 449,401\n",
            "Non-trainable params: 0\n",
            "_________________________________________________________________\n",
            "2.537298140399346\n",
            "(490, 13)\n"
          ]
        },
        {
          "data": {
            "image/png": "[encoded data removed]",
            "text/plain": [
              "<Figure size 432x288 with 1 Axes>"
            ]
          },
          "metadata": {
            "needs_background": "light"
          },
          "output_type": "display_data"
        }
      ],
      "source": [
        "## ware9 train (WH_0x3f2)\n",
        "ware9 = train_df[train_df['warehouse_ID'] == 'WH_0x3f2'].drop(['warehouse_ID','date'],axis=1)\n",
        "ware9.drop(['weekly_dispatch_count'],axis=1,inplace=True)\n",
        "ware9 = ware9.drop(['is_warehouse_closed'],axis=1)\n",
        "ware9['daily_dispatch_count'].plot()\n",
        "n = len(ware9)\n",
        "train_ware9 = ware9[0:int(n*0.90)]\n",
        "val_ware9 = ware9[int(n*0.90):]\n",
        "\n",
        "from sklearn.preprocessing import StandardScaler, StandardScaler\n",
        "scaler9 = StandardScaler()\n",
        "X = train_ware9.drop(['daily_dispatch_count'], axis=1)\n",
        "y = train_ware9[['daily_dispatch_count']]\n",
        "scaled_w9 = scaler9.fit_transform(X)\n",
        "y_scaler9 = StandardScaler()\n",
        "scaled_y9  = y_scaler9.fit_transform(y)\n",
        "import numpy as np\n",
        "trainX = []\n",
        "trainY = []\n",
        "n_future = 1\n",
        "n_past = 16\n",
        "for i in range(n_past, len(scaled_w9) - n_future+1):\n",
        "    trainX.append(scaled_w9[i - n_past: i,0:scaled_w9.shape[1]])\n",
        "    trainY.append(scaled_y9[i + n_future - 1:i + n_future])\n",
        "trainX, trainY = np.array(trainX), np.array(trainY)\n",
        "valx = val_ware9.drop(['daily_dispatch_count'], axis=1)\n",
        "valy = val_ware9[['daily_dispatch_count']]\n",
        "scaled_valx = scaler9.transform(valx)\n",
        "scaled_valy = y_scaler9.transform(valy)\n",
        "import numpy as np\n",
        "valX = []\n",
        "valY = []\n",
        "n_future = 1\n",
        "n_past = 16\n",
        "\n",
        "for i in range(n_past, len(scaled_valx) - n_future+1):\n",
        "    valX.append(scaled_valx[i - n_past: i,0:scaled_valx.shape[1]])\n",
        "    valY.append(scaled_valy[i + n_future - 1:i + n_future])\n",
        "valX, valY = np.array(valX), np.array(valY)\n",
        "\n",
        "model = Sequential()\n",
        "# model.add(LSTM(500, activation='tanh', input_shape=(15, 13), return_sequences=True))\n",
        "model.add(LSTM(250, activation='tanh', input_shape=(16, 13),return_sequences=True))\n",
        "# model.add(Dropout(0.2))\n",
        "model.add(LSTM(120, activation='tanh', return_sequences=False))\n",
        "model.add(Dense(60,activation='relu'))\n",
        "model.add(Dense(1))\n",
        "model.compile(optimizer='rmsprop', loss='mse',metrics='mse')\n",
        "model.summary()\n",
        "history = model.fit(trainX,trainY, epochs=80, verbose=0,shuffle=False)\n",
        "\n",
        "ypred = model.predict(valX)\n",
        "y_val = y_scaler9.inverse_transform(valY.reshape(-1,1))\n",
        "ypred = y_scaler9.inverse_transform(ypred.reshape(-1,1))\n",
        "\n",
        "from sklearn.metrics import mean_squared_error\n",
        "print(mean_squared_error(y_val,ypred,squared=False))\n",
        "g = pd.DataFrame(ypred).describe()\n",
        "f = pd.DataFrame(y_val).describe()\n",
        "np.hstack([g,f])\n",
        "import os\n",
        "model_path = 'warehouses/ware9/models/model.h5'\n",
        "model9path = os.path.join(base_path,model_path)\n",
        "model.save(model9path)\n",
        "## ware 3 submission\n",
        "print(test_df[test_df['warehouse_ID'] == 'WH_0x3f2'].shape)\n",
        "test_df[test_df['warehouse_ID'] == 'WH_0x3f2'].head()\n",
        "ware9_test = test_df[test_df['warehouse_ID'] == 'WH_0x3f2'].drop(['warehouse_ID','date'],axis=1)\n",
        "ware9testindex= ware9_test.index\n",
        "ware9_test.drop([ 'is_weekend','is_warehouse_closed'],axis=1,inplace=True)\n",
        "ware9_test[['April', 'February', 'January', 'March', 'daily_dispatch_count']] = 0\n",
        "ware9_test = ware9_test[train_ware9.columns]\n",
        "\n",
        "prev9 = train_df[train_df['warehouse_ID'] == 'WH_0x3f2'].tail(16).drop(['warehouse_ID','date','is_warehouse_closed','daily_dispatch_count','weekly_dispatch_count'],axis=1)\n",
        "prev9['daily_dispatch_count'] = 0\n",
        "prev9 = prev9[train_ware9.columns]\n",
        "ware9_test = pd.concat([prev9,ware9_test],axis=0,)\n",
        "x = ware9_test.drop(['daily_dispatch_count'], axis=1)\n",
        "scaled_test9 = scaler9.transform(x)\n",
        "import numpy as np\n",
        "testx9 = []\n",
        "n_future = 1\n",
        "n_past = 16\n",
        "for i in range(n_past, len(scaled_test9) - n_future+1):\n",
        "    testx9.append(scaled_test9[i - n_past: i,0:scaled_test9.shape[1]])\n",
        "testX9 = np.array(testx9)\n",
        "model = load_model(model9path)\n",
        "ware9_dispatch = y_scaler9.inverse_transform(model.predict(testX9))\n",
        "len(ware9_dispatch)\n",
        "sub9 = pd.DataFrame(data = {\n",
        "    \"daily_dispatch_count\":ware9_dispatch.flatten(),\n",
        "    \"warehouse_ID\": ['WH_0x3f2'] * len(ware9_dispatch),\n",
        "    \n",
        "},index= ware9testindex)\n",
        "sub9.head()\n",
        "pred_path = 'warehouses\\ware9\\preds\\ware9.csv'\n",
        "predpath9= os.path.join(base_path,pred_path)\n",
        "sub9.to_csv(predpath9,index=True)"
      ]
    },
    {
      "cell_type": "markdown",
      "metadata": {},
      "source": [
        "# ware 10"
      ]
    },
    {
      "cell_type": "code",
      "execution_count": 132,
      "metadata": {},
      "outputs": [
        {
          "name": "stdout",
          "output_type": "stream",
          "text": [
            "Model: \"sequential_11\"\n",
            "_________________________________________________________________\n",
            " Layer (type)                Output Shape              Param #   \n",
            "=================================================================\n",
            " lstm_22 (LSTM)              (None, 16, 250)           264000    \n",
            "                                                                 \n",
            " lstm_23 (LSTM)              (None, 120)               178080    \n",
            "                                                                 \n",
            " dense_22 (Dense)            (None, 60)                7260      \n",
            "                                                                 \n",
            " dense_23 (Dense)            (None, 1)                 61        \n",
            "                                                                 \n",
            "=================================================================\n",
            "Total params: 449,401\n",
            "Trainable params: 449,401\n",
            "Non-trainable params: 0\n",
            "_________________________________________________________________\n",
            "Epoch 1/80\n",
            "48/48 [==============================] - 3s 12ms/step - loss: 0.9756 - mse: 0.9756\n",
            "Epoch 2/80\n",
            "48/48 [==============================] - 1s 11ms/step - loss: 0.9392 - mse: 0.9392\n",
            "Epoch 3/80\n",
            "48/48 [==============================] - 1s 11ms/step - loss: 0.9007 - mse: 0.9007\n",
            "Epoch 4/80\n",
            "48/48 [==============================] - 1s 11ms/step - loss: 0.8950 - mse: 0.8950\n",
            "Epoch 5/80\n",
            "48/48 [==============================] - 1s 11ms/step - loss: 0.8575 - mse: 0.8575\n",
            "Epoch 6/80\n",
            "48/48 [==============================] - 1s 11ms/step - loss: 0.8004 - mse: 0.8004\n",
            "Epoch 7/80\n",
            "48/48 [==============================] - 1s 13ms/step - loss: 0.5404 - mse: 0.5404\n",
            "Epoch 8/80\n",
            "48/48 [==============================] - 1s 11ms/step - loss: 0.4222 - mse: 0.4222\n",
            "Epoch 9/80\n",
            "48/48 [==============================] - 1s 11ms/step - loss: 0.4065 - mse: 0.4065\n",
            "Epoch 10/80\n",
            "48/48 [==============================] - 1s 11ms/step - loss: 0.3813 - mse: 0.3813\n",
            "Epoch 11/80\n",
            "48/48 [==============================] - 1s 11ms/step - loss: 0.3746 - mse: 0.3746\n",
            "Epoch 12/80\n",
            "48/48 [==============================] - 1s 11ms/step - loss: 0.3471 - mse: 0.3471\n",
            "Epoch 13/80\n",
            "48/48 [==============================] - 1s 11ms/step - loss: 0.3404 - mse: 0.3404\n",
            "Epoch 14/80\n",
            "48/48 [==============================] - 1s 11ms/step - loss: 0.3598 - mse: 0.3598\n",
            "Epoch 15/80\n",
            "48/48 [==============================] - 1s 11ms/step - loss: 0.3501 - mse: 0.3501\n",
            "Epoch 16/80\n",
            "48/48 [==============================] - 1s 11ms/step - loss: 0.3605 - mse: 0.3605\n",
            "Epoch 17/80\n",
            "48/48 [==============================] - 1s 11ms/step - loss: 0.3552 - mse: 0.3552\n",
            "Epoch 18/80\n",
            "48/48 [==============================] - 1s 11ms/step - loss: 0.3454 - mse: 0.3454\n",
            "Epoch 19/80\n",
            "48/48 [==============================] - 1s 11ms/step - loss: 0.3549 - mse: 0.3549\n",
            "Epoch 20/80\n",
            "48/48 [==============================] - 1s 11ms/step - loss: 0.3555 - mse: 0.3555\n",
            "Epoch 21/80\n",
            "48/48 [==============================] - 1s 11ms/step - loss: 0.3703 - mse: 0.3703\n",
            "Epoch 22/80\n",
            "48/48 [==============================] - 1s 11ms/step - loss: 0.3386 - mse: 0.3386\n",
            "Epoch 23/80\n",
            "48/48 [==============================] - 1s 11ms/step - loss: 0.3491 - mse: 0.3491\n",
            "Epoch 24/80\n",
            "48/48 [==============================] - 1s 11ms/step - loss: 0.3701 - mse: 0.3701\n",
            "Epoch 25/80\n",
            "48/48 [==============================] - 1s 11ms/step - loss: 0.4212 - mse: 0.4212\n",
            "Epoch 26/80\n",
            "48/48 [==============================] - 1s 11ms/step - loss: 0.3923 - mse: 0.3923\n",
            "Epoch 27/80\n",
            "48/48 [==============================] - 1s 11ms/step - loss: 0.3636 - mse: 0.3636\n",
            "Epoch 28/80\n",
            "48/48 [==============================] - 1s 11ms/step - loss: 0.3613 - mse: 0.3613\n",
            "Epoch 29/80\n",
            "48/48 [==============================] - 1s 11ms/step - loss: 0.3731 - mse: 0.3731\n",
            "Epoch 30/80\n",
            "48/48 [==============================] - 1s 11ms/step - loss: 0.3496 - mse: 0.3496\n",
            "Epoch 31/80\n",
            "48/48 [==============================] - 1s 13ms/step - loss: 0.3421 - mse: 0.3421\n",
            "Epoch 32/80\n",
            "48/48 [==============================] - 1s 11ms/step - loss: 0.3485 - mse: 0.3485\n",
            "Epoch 33/80\n",
            "48/48 [==============================] - 1s 11ms/step - loss: 0.3552 - mse: 0.3552\n",
            "Epoch 34/80\n",
            "48/48 [==============================] - 1s 11ms/step - loss: 0.3561 - mse: 0.3561\n",
            "Epoch 35/80\n",
            "48/48 [==============================] - 1s 11ms/step - loss: 0.3376 - mse: 0.3376\n",
            "Epoch 36/80\n",
            "48/48 [==============================] - 1s 11ms/step - loss: 0.3417 - mse: 0.3417\n",
            "Epoch 37/80\n",
            "48/48 [==============================] - 1s 11ms/step - loss: 0.3496 - mse: 0.3496\n",
            "Epoch 38/80\n",
            "48/48 [==============================] - 1s 11ms/step - loss: 0.3567 - mse: 0.3567\n",
            "Epoch 39/80\n",
            "48/48 [==============================] - 1s 11ms/step - loss: 0.3515 - mse: 0.3515\n",
            "Epoch 40/80\n",
            "48/48 [==============================] - 1s 11ms/step - loss: 0.3673 - mse: 0.3673\n",
            "Epoch 41/80\n",
            "48/48 [==============================] - 1s 11ms/step - loss: 0.3793 - mse: 0.3793\n",
            "Epoch 42/80\n",
            "48/48 [==============================] - 1s 11ms/step - loss: 0.4018 - mse: 0.4018\n",
            "Epoch 43/80\n",
            "48/48 [==============================] - 1s 11ms/step - loss: 0.4156 - mse: 0.4156\n",
            "Epoch 44/80\n",
            "48/48 [==============================] - 1s 11ms/step - loss: 0.4018 - mse: 0.4018\n",
            "Epoch 45/80\n",
            "48/48 [==============================] - 1s 11ms/step - loss: 0.3769 - mse: 0.3769\n",
            "Epoch 46/80\n",
            "48/48 [==============================] - 1s 11ms/step - loss: 0.3717 - mse: 0.3717\n",
            "Epoch 47/80\n",
            "48/48 [==============================] - 1s 11ms/step - loss: 0.3730 - mse: 0.3730\n",
            "Epoch 48/80\n",
            "48/48 [==============================] - 1s 11ms/step - loss: 0.3842 - mse: 0.3842\n",
            "Epoch 49/80\n",
            "48/48 [==============================] - 1s 11ms/step - loss: 0.3614 - mse: 0.3614\n",
            "Epoch 50/80\n",
            "48/48 [==============================] - 1s 11ms/step - loss: 0.3513 - mse: 0.3513\n",
            "Epoch 51/80\n",
            "48/48 [==============================] - 1s 11ms/step - loss: 0.3585 - mse: 0.3585\n",
            "Epoch 52/80\n",
            "48/48 [==============================] - 1s 11ms/step - loss: 0.3615 - mse: 0.3615\n",
            "Epoch 53/80\n",
            "48/48 [==============================] - 1s 11ms/step - loss: 0.3537 - mse: 0.3537\n",
            "Epoch 54/80\n",
            "48/48 [==============================] - 1s 11ms/step - loss: 0.4258 - mse: 0.4258\n",
            "Epoch 55/80\n",
            "48/48 [==============================] - 1s 12ms/step - loss: 0.4266 - mse: 0.4266\n",
            "Epoch 56/80\n",
            "48/48 [==============================] - 1s 12ms/step - loss: 0.4007 - mse: 0.4007\n",
            "Epoch 57/80\n",
            "48/48 [==============================] - 1s 11ms/step - loss: 0.3641 - mse: 0.3641\n",
            "Epoch 58/80\n",
            "48/48 [==============================] - 1s 11ms/step - loss: 0.3374 - mse: 0.3374\n",
            "Epoch 59/80\n",
            "48/48 [==============================] - 1s 11ms/step - loss: 0.3371 - mse: 0.3371\n",
            "Epoch 60/80\n",
            "48/48 [==============================] - 1s 11ms/step - loss: 0.3342 - mse: 0.3342\n",
            "Epoch 61/80\n",
            "48/48 [==============================] - 1s 11ms/step - loss: 0.3305 - mse: 0.3305\n",
            "Epoch 62/80\n",
            "48/48 [==============================] - 1s 11ms/step - loss: 0.3333 - mse: 0.3333\n",
            "Epoch 63/80\n",
            "48/48 [==============================] - 1s 11ms/step - loss: 0.3312 - mse: 0.3312\n",
            "Epoch 64/80\n",
            "48/48 [==============================] - 1s 11ms/step - loss: 0.3646 - mse: 0.3646\n",
            "Epoch 65/80\n",
            "48/48 [==============================] - 1s 11ms/step - loss: 0.4177 - mse: 0.4177\n",
            "Epoch 66/80\n",
            "48/48 [==============================] - 1s 11ms/step - loss: 0.3814 - mse: 0.3814\n",
            "Epoch 67/80\n",
            "48/48 [==============================] - 1s 11ms/step - loss: 0.3850 - mse: 0.3850\n",
            "Epoch 68/80\n",
            "48/48 [==============================] - 1s 11ms/step - loss: 0.3777 - mse: 0.3777\n",
            "Epoch 69/80\n",
            "48/48 [==============================] - 1s 11ms/step - loss: 0.3827 - mse: 0.3827\n",
            "Epoch 70/80\n",
            "48/48 [==============================] - 1s 11ms/step - loss: 0.3881 - mse: 0.3881\n",
            "Epoch 71/80\n",
            "48/48 [==============================] - 1s 11ms/step - loss: 0.3592 - mse: 0.3592\n",
            "Epoch 72/80\n",
            "48/48 [==============================] - 1s 11ms/step - loss: 0.3636 - mse: 0.3636\n",
            "Epoch 73/80\n",
            "48/48 [==============================] - 1s 11ms/step - loss: 0.3581 - mse: 0.3581\n",
            "Epoch 74/80\n",
            "48/48 [==============================] - 1s 11ms/step - loss: 0.3582 - mse: 0.3582\n",
            "Epoch 75/80\n",
            "48/48 [==============================] - 1s 11ms/step - loss: 0.3570 - mse: 0.3570\n",
            "Epoch 76/80\n",
            "48/48 [==============================] - 1s 11ms/step - loss: 0.3646 - mse: 0.3646\n",
            "Epoch 77/80\n",
            "48/48 [==============================] - 1s 11ms/step - loss: 0.3605 - mse: 0.3605\n",
            "Epoch 78/80\n",
            "48/48 [==============================] - 1s 11ms/step - loss: 0.3385 - mse: 0.3385\n",
            "Epoch 79/80\n",
            "48/48 [==============================] - 1s 11ms/step - loss: 0.3240 - mse: 0.3240\n",
            "Epoch 80/80\n",
            "48/48 [==============================] - 1s 11ms/step - loss: 0.3169 - mse: 0.3169\n",
            "2.6741656904403697\n",
            "(490, 13)\n"
          ]
        },
        {
          "data": {
            "image/png": "[encoded data removed]",
            "text/plain": [
              "<Figure size 432x288 with 1 Axes>"
            ]
          },
          "metadata": {
            "needs_background": "light"
          },
          "output_type": "display_data"
        }
      ],
      "source": [
        "## ware10 train (WH_0x3e9)\n",
        "ware10 = train_df[train_df['warehouse_ID'] == 'WH_0x3e9'].drop(['warehouse_ID','date'],axis=1)\n",
        "ware10.drop(['weekly_dispatch_count'],axis=1,inplace=True)\n",
        "ware10 = ware10.drop(['is_warehouse_closed'],axis=1)\n",
        "ware10['daily_dispatch_count'].plot()\n",
        "n = len(ware10)\n",
        "train_ware10 = ware10[0:int(n*0.90)]\n",
        "val_ware10 = ware10[int(n*0.90):]\n",
        "\n",
        "from sklearn.preprocessing import StandardScaler, StandardScaler\n",
        "scaler10 = StandardScaler()\n",
        "X = train_ware10.drop(['daily_dispatch_count'], axis=1)\n",
        "y = train_ware10[['daily_dispatch_count']]\n",
        "scaled_w10 = scaler10.fit_transform(X)\n",
        "y_scaler10 = StandardScaler()\n",
        "scaled_y10  = y_scaler10.fit_transform(y)\n",
        "import numpy as np\n",
        "trainX = []\n",
        "trainY = []\n",
        "n_future = 1\n",
        "n_past = 16\n",
        "for i in range(n_past, len(scaled_w10) - n_future+1):\n",
        "    trainX.append(scaled_w10[i - n_past: i,0:scaled_w10.shape[1]])\n",
        "    trainY.append(scaled_y10[i + n_future - 1:i + n_future])\n",
        "trainX, trainY = np.array(trainX), np.array(trainY)\n",
        "valx = val_ware10.drop(['daily_dispatch_count'], axis=1)\n",
        "valy = val_ware10[['daily_dispatch_count']]\n",
        "scaled_valx = scaler10.transform(valx)\n",
        "scaled_valy = y_scaler10.transform(valy)\n",
        "import numpy as np\n",
        "valX = []\n",
        "valY = []\n",
        "n_future = 1\n",
        "n_past = 16\n",
        "\n",
        "for i in range(n_past, len(scaled_valx) - n_future+1):\n",
        "    valX.append(scaled_valx[i - n_past: i,0:scaled_valx.shape[1]])\n",
        "    valY.append(scaled_valy[i + n_future - 1:i + n_future])\n",
        "valX, valY = np.array(valX), np.array(valY)\n",
        "\n",
        "model = Sequential()\n",
        "# model.add(LSTM(500, activation='tanh', input_shape=(15, 13), return_sequences=True))\n",
        "model.add(LSTM(250, activation='tanh', input_shape=(16, 13),return_sequences=True))\n",
        "# model.add(Dropout(0.2))\n",
        "model.add(LSTM(120, activation='tanh', return_sequences=False))\n",
        "model.add(Dense(60,activation='relu'))\n",
        "model.add(Dense(1))\n",
        "model.compile(optimizer='rmsprop', loss='mse',metrics='mse')\n",
        "model.summary()\n",
        "history = model.fit(trainX,trainY, epochs=80, verbose=1,shuffle=False)\n",
        "\n",
        "ypred = model.predict(valX)\n",
        "y_val = y_scaler10.inverse_transform(valY.reshape(-1,1))\n",
        "ypred = y_scaler10.inverse_transform(ypred.reshape(-1,1))\n",
        "\n",
        "from sklearn.metrics import mean_squared_error\n",
        "print(mean_squared_error(y_val,ypred,squared=False))\n",
        "g = pd.DataFrame(ypred).describe()\n",
        "f = pd.DataFrame(y_val).describe()\n",
        "np.hstack([g,f])\n",
        "\n",
        "import os\n",
        "model_path = 'warehouses/ware10/models/model.h5'\n",
        "model10path = os.path.join(base_path,model_path)\n",
        "model.save(model10path)\n",
        "\n",
        "## ware 3 submission\n",
        "print(test_df[test_df['warehouse_ID'] == 'WH_0x3e9'].shape)\n",
        "test_df[test_df['warehouse_ID'] == 'WH_0x3e9'].head()\n",
        "ware10_test = test_df[test_df['warehouse_ID'] == 'WH_0x3e9'].drop(['warehouse_ID','date'],axis=1)\n",
        "ware10testindex= ware10_test.index\n",
        "ware10_test.drop([ 'is_weekend','is_warehouse_closed'],axis=1,inplace=True)\n",
        "ware10_test[['April', 'February', 'January', 'March', 'daily_dispatch_count']] = 0\n",
        "ware10_test = ware10_test[train_ware10.columns]\n",
        "\n",
        "prev10 = train_df[train_df['warehouse_ID'] == 'WH_0x3e9'].tail(16).drop(['warehouse_ID','date','is_warehouse_closed','daily_dispatch_count','weekly_dispatch_count'],axis=1)\n",
        "prev10['daily_dispatch_count'] = 0\n",
        "prev10 = prev10[train_ware10.columns]\n",
        "ware10_test = pd.concat([prev10,ware10_test],axis=0,)\n",
        "x = ware10_test.drop(['daily_dispatch_count'], axis=1)\n",
        "scaled_test10 = scaler10.transform(x)\n",
        "import numpy as np\n",
        "testx10 = []\n",
        "n_future = 1\n",
        "n_past = 16\n",
        "for i in range(n_past, len(scaled_test10) - n_future+1):\n",
        "    testx10.append(scaled_test10[i - n_past: i,0:scaled_test10.shape[1]])\n",
        "testX10 = np.array(testx10)\n",
        "model = load_model(model10path)\n",
        "ware10_dispatch = y_scaler10.inverse_transform(model.predict(testX10))\n",
        "len(ware10_dispatch)\n",
        "sub10 = pd.DataFrame(data = {\n",
        "    \"daily_dispatch_count\":ware10_dispatch.flatten(),\n",
        "    \"warehouse_ID\": ['WH_0x3e9'] * len(ware10_dispatch),\n",
        "    \n",
        "},index= ware10testindex)\n",
        "sub10.head()\n",
        "pred_path = 'warehouses\\ware10\\preds\\ware10.csv'\n",
        "predpath10= os.path.join(base_path,pred_path)\n",
        "sub10.to_csv(predpath10,index=True)"
      ]
    },
    {
      "cell_type": "markdown",
      "metadata": {},
      "source": [
        "# submission aggregation"
      ]
    },
    {
      "cell_type": "code",
      "execution_count": 133,
      "metadata": {},
      "outputs": [
        {
          "data": {
            "text/plain": [
              "'c:\\\\projects\\\\digit_prediction\\\\tredence\\\\notebook'"
            ]
          },
          "execution_count": 133,
          "metadata": {},
          "output_type": "execute_result"
        }
      ],
      "source": [
        "pwd"
      ]
    },
    {
      "cell_type": "code",
      "execution_count": 134,
      "metadata": {},
      "outputs": [],
      "source": [
        "f = 'C:/projects/digit_prediction/tredence'\n",
        "sub1= pd.read_csv('C:/projects/digit_prediction/tredence/warehouses/ware1/preds/ware1.csv',index_col='Unnamed: 0')\n",
        "sub2= pd.read_csv('C:/projects/digit_prediction/tredence/warehouses/ware2/preds/ware2.csv',index_col='Unnamed: 0')\n",
        "sub3= pd.read_csv('C:/projects/digit_prediction/tredence/warehouses/ware3/preds/ware3.csv',index_col='Unnamed: 0')\n",
        "sub4= pd.read_csv('C:/projects/digit_prediction/tredence/warehouses/ware4/preds/ware4.csv',index_col='Unnamed: 0')\n",
        "sub5= pd.read_csv('C:/projects/digit_prediction/tredence/warehouses/ware5/preds/ware5.csv',index_col='Unnamed: 0')\n",
        "sub6= pd.read_csv('C:/projects/digit_prediction/tredence/warehouses/ware6/preds/ware6.csv',index_col='Unnamed: 0')\n",
        "sub7= pd.read_csv('C:/projects/digit_prediction/tredence/warehouses/ware7/preds/ware7.csv',index_col='Unnamed: 0')\n",
        "sub8= pd.read_csv('C:/projects/digit_prediction/tredence/warehouses/ware8/preds/ware8.csv',index_col='Unnamed: 0')\n",
        "sub9= pd.read_csv('C:/projects/digit_prediction/tredence/warehouses/ware9/preds/ware9.csv',index_col='Unnamed: 0')\n",
        "sub10= pd.read_csv('C:/projects/digit_prediction/tredence/warehouses/ware10/preds/ware10.csv',index_col='Unnamed: 0')"
      ]
    },
    {
      "cell_type": "code",
      "execution_count": 146,
      "metadata": {},
      "outputs": [
        {
          "data": {
            "text/plain": [
              "<AxesSubplot:>"
            ]
          },
          "execution_count": 146,
          "metadata": {},
          "output_type": "execute_result"
        },
        {
          "data": {
            "image/png": "[encoded data removed]",
            "text/plain": [
              "<Figure size 432x288 with 1 Axes>"
            ]
          },
          "metadata": {
            "needs_background": "light"
          },
          "output_type": "display_data"
        }
      ],
      "source": [
        "# date cannot be added right now\n",
        "sub1['daily_dispatch_count'].plot()"
      ]
    },
    {
      "cell_type": "code",
      "execution_count": 149,
      "metadata": {},
      "outputs": [
        {
          "data": {
            "text/plain": [
              "(count    490.000000\n",
              " mean     4.214926  \n",
              " std      3.047922  \n",
              " min     -1.014838  \n",
              " 25%      1.744457  \n",
              " 50%      2.371296  \n",
              " 75%      7.141868  \n",
              " max      10.290265 \n",
              " Name: daily_dispatch_count, dtype: float64,\n",
              " count    1702.000000\n",
              " mean     6.212926   \n",
              " std      3.742868   \n",
              " min      0.000000   \n",
              " 25%      3.600000   \n",
              " 50%      5.150000   \n",
              " 75%      9.200000   \n",
              " max      17.900000  \n",
              " Name: daily_dispatch_count, dtype: float64)"
            ]
          },
          "execution_count": 149,
          "metadata": {},
          "output_type": "execute_result"
        }
      ],
      "source": [
        "sub1['daily_dispatch_count'].describe(), ware1['daily_dispatch_count'].describe()"
      ]
    },
    {
      "cell_type": "markdown",
      "metadata": {},
      "source": [
        "* The predictions shows that dispatch count for this warehouse can go till 17.9 and could also have 0 in between."
      ]
    },
    {
      "cell_type": "code",
      "execution_count": 135,
      "metadata": {},
      "outputs": [],
      "source": [
        "sub_main = pd.concat([sub1,sub2,sub3,sub4,sub5,sub6,sub7,sub8,sub9,sub10], axis=0).sort_index()\n",
        "test_df = pd.read_csv(test_path)\n",
        "train_df = pd.read_csv(train_path)"
      ]
    },
    {
      "cell_type": "code",
      "execution_count": 136,
      "metadata": {},
      "outputs": [],
      "source": [
        "sub_main['warehouse_ID'] = test_df['warehouse_ID'] \n",
        "sub_main['date'] = test_df['date']\n",
        "sub_main['ID'] = test_df['ID']\n",
        "sub_main['Product_Type'] = test_df['Product_Type']"
      ]
    },
    {
      "cell_type": "code",
      "execution_count": 137,
      "metadata": {},
      "outputs": [
        {
          "data": {
            "text/html": [
              "<div>\n",
              "<style scoped>\n",
              "    .dataframe tbody tr th:only-of-type {\n",
              "        vertical-align: middle;\n",
              "    }\n",
              "\n",
              "    .dataframe tbody tr th {\n",
              "        vertical-align: top;\n",
              "    }\n",
              "\n",
              "    .dataframe thead th {\n",
              "        text-align: right;\n",
              "    }\n",
              "</style>\n",
              "<table border=\"1\" class=\"dataframe\">\n",
              "  <thead>\n",
              "    <tr style=\"text-align: right;\">\n",
              "      <th></th>\n",
              "      <th>daily_dispatch_count</th>\n",
              "      <th>warehouse_ID</th>\n",
              "      <th>date</th>\n",
              "      <th>ID</th>\n",
              "      <th>Product_Type</th>\n",
              "    </tr>\n",
              "  </thead>\n",
              "  <tbody>\n",
              "    <tr>\n",
              "      <th>0</th>\n",
              "      <td>4.091804</td>\n",
              "      <td>WH_0x3e9</td>\n",
              "      <td>2021-05-01</td>\n",
              "      <td>0x31fc</td>\n",
              "      <td>Type_A</td>\n",
              "    </tr>\n",
              "    <tr>\n",
              "      <th>1</th>\n",
              "      <td>0.579612</td>\n",
              "      <td>WH_0x3e9</td>\n",
              "      <td>2021-05-01</td>\n",
              "      <td>0x31fd</td>\n",
              "      <td>Type_B</td>\n",
              "    </tr>\n",
              "    <tr>\n",
              "      <th>2</th>\n",
              "      <td>6.707429</td>\n",
              "      <td>WH_0x3ea</td>\n",
              "      <td>2021-05-01</td>\n",
              "      <td>0x3ed2</td>\n",
              "      <td>Type_A</td>\n",
              "    </tr>\n",
              "    <tr>\n",
              "      <th>3</th>\n",
              "      <td>2.350477</td>\n",
              "      <td>WH_0x3ea</td>\n",
              "      <td>2021-05-01</td>\n",
              "      <td>0x3ed3</td>\n",
              "      <td>Type_B</td>\n",
              "    </tr>\n",
              "    <tr>\n",
              "      <th>4</th>\n",
              "      <td>6.408754</td>\n",
              "      <td>WH_0x3eb</td>\n",
              "      <td>2021-05-01</td>\n",
              "      <td>0x4a3a</td>\n",
              "      <td>Type_A</td>\n",
              "    </tr>\n",
              "  </tbody>\n",
              "</table>\n",
              "</div>"
            ],
            "text/plain": [
              "   daily_dispatch_count warehouse_ID        date      ID Product_Type\n",
              "0  4.091804              WH_0x3e9     2021-05-01  0x31fc  Type_A     \n",
              "1  0.579612              WH_0x3e9     2021-05-01  0x31fd  Type_B     \n",
              "2  6.707429              WH_0x3ea     2021-05-01  0x3ed2  Type_A     \n",
              "3  2.350477              WH_0x3ea     2021-05-01  0x3ed3  Type_B     \n",
              "4  6.408754              WH_0x3eb     2021-05-01  0x4a3a  Type_A     "
            ]
          },
          "execution_count": 137,
          "metadata": {},
          "output_type": "execute_result"
        }
      ],
      "source": [
        "sub_main.head()"
      ]
    },
    {
      "cell_type": "code",
      "execution_count": 138,
      "metadata": {},
      "outputs": [
        {
          "data": {
            "text/plain": [
              "date\n",
              "2021-05-01    75.316556\n",
              "2021-05-02    74.745688\n",
              "2021-05-03    75.324288\n",
              "2021-05-04    76.022494\n",
              "2021-05-05    77.832138\n",
              "                ...    \n",
              "2021-12-27    47.231114\n",
              "2021-12-28    47.231114\n",
              "2021-12-29    47.231114\n",
              "2021-12-30    47.231114\n",
              "2021-12-31    47.231114\n",
              "Name: daily_dispatch_count, Length: 245, dtype: float64"
            ]
          },
          "execution_count": 138,
          "metadata": {},
          "output_type": "execute_result"
        }
      ],
      "source": [
        "sub_main.groupby('date')['daily_dispatch_count'].sum()"
      ]
    },
    {
      "cell_type": "code",
      "execution_count": 139,
      "metadata": {},
      "outputs": [],
      "source": [
        "train_df['is_weekend'] = pd.to_datetime(train_df['date'],format = '%Y-%m-%d').dt.weekday.apply(lambda x: 'Yes' if x == 6 else 'No')\n",
        "sub_main['is_weekend'] = pd.to_datetime(sub_main['date'],format = '%Y-%m-%d').dt.weekday.apply(lambda x: 'Yes' if x == 6 else 'No')"
      ]
    },
    {
      "cell_type": "code",
      "execution_count": 140,
      "metadata": {},
      "outputs": [
        {
          "data": {
            "text/plain": [
              "(700, 6)"
            ]
          },
          "execution_count": 140,
          "metadata": {},
          "output_type": "execute_result"
        }
      ],
      "source": [
        "sub_main[sub_main['is_weekend'] == 'Yes'].shape"
      ]
    },
    {
      "cell_type": "code",
      "execution_count": 141,
      "metadata": {},
      "outputs": [
        {
          "name": "stdout",
          "output_type": "stream",
          "text": [
            "(700, 2)\n"
          ]
        }
      ],
      "source": [
        "sub = pd.read_csv('C:/projects/digit_prediction/tredence/data/submission_weekly.csv')\n",
        "print(sub.shape)"
      ]
    },
    {
      "cell_type": "markdown",
      "metadata": {},
      "source": [
        "## Weekly_dispatch_count logic"
      ]
    },
    {
      "cell_type": "code",
      "execution_count": 142,
      "metadata": {},
      "outputs": [
        {
          "data": {
            "text/html": [
              "<div>\n",
              "<style scoped>\n",
              "    .dataframe tbody tr th:only-of-type {\n",
              "        vertical-align: middle;\n",
              "    }\n",
              "\n",
              "    .dataframe tbody tr th {\n",
              "        vertical-align: top;\n",
              "    }\n",
              "\n",
              "    .dataframe thead th {\n",
              "        text-align: right;\n",
              "    }\n",
              "</style>\n",
              "<table border=\"1\" class=\"dataframe\">\n",
              "  <thead>\n",
              "    <tr style=\"text-align: right;\">\n",
              "      <th></th>\n",
              "      <th>daily_dispatch_count</th>\n",
              "      <th>warehouse_ID</th>\n",
              "      <th>date</th>\n",
              "      <th>ID</th>\n",
              "      <th>Product_Type</th>\n",
              "      <th>is_weekend</th>\n",
              "    </tr>\n",
              "  </thead>\n",
              "  <tbody>\n",
              "    <tr>\n",
              "      <th>0</th>\n",
              "      <td>0.0</td>\n",
              "      <td>WH_0x3e9</td>\n",
              "      <td>2021-04-26</td>\n",
              "      <td>0x31f2</td>\n",
              "      <td>Type_A</td>\n",
              "      <td>No</td>\n",
              "    </tr>\n",
              "    <tr>\n",
              "      <th>1</th>\n",
              "      <td>0.0</td>\n",
              "      <td>WH_0x3e9</td>\n",
              "      <td>2021-04-26</td>\n",
              "      <td>0x31f3</td>\n",
              "      <td>Type_B</td>\n",
              "      <td>No</td>\n",
              "    </tr>\n",
              "    <tr>\n",
              "      <th>2</th>\n",
              "      <td>3.6</td>\n",
              "      <td>WH_0x3ea</td>\n",
              "      <td>2021-04-26</td>\n",
              "      <td>0x3ec8</td>\n",
              "      <td>Type_A</td>\n",
              "      <td>No</td>\n",
              "    </tr>\n",
              "    <tr>\n",
              "      <th>3</th>\n",
              "      <td>4.8</td>\n",
              "      <td>WH_0x3ea</td>\n",
              "      <td>2021-04-26</td>\n",
              "      <td>0x3ec9</td>\n",
              "      <td>Type_B</td>\n",
              "      <td>No</td>\n",
              "    </tr>\n",
              "    <tr>\n",
              "      <th>4</th>\n",
              "      <td>3.1</td>\n",
              "      <td>WH_0x3eb</td>\n",
              "      <td>2021-04-26</td>\n",
              "      <td>0x4a30</td>\n",
              "      <td>Type_A</td>\n",
              "      <td>No</td>\n",
              "    </tr>\n",
              "  </tbody>\n",
              "</table>\n",
              "</div>"
            ],
            "text/plain": [
              "   daily_dispatch_count warehouse_ID        date      ID Product_Type  \\\n",
              "0  0.0                   WH_0x3e9     2021-04-26  0x31f2  Type_A        \n",
              "1  0.0                   WH_0x3e9     2021-04-26  0x31f3  Type_B        \n",
              "2  3.6                   WH_0x3ea     2021-04-26  0x3ec8  Type_A        \n",
              "3  4.8                   WH_0x3ea     2021-04-26  0x3ec9  Type_B        \n",
              "4  3.1                   WH_0x3eb     2021-04-26  0x4a30  Type_A        \n",
              "\n",
              "  is_weekend  \n",
              "0  No         \n",
              "1  No         \n",
              "2  No         \n",
              "3  No         \n",
              "4  No         "
            ]
          },
          "execution_count": 142,
          "metadata": {},
          "output_type": "execute_result"
        }
      ],
      "source": [
        "prevdf = train_df[train_df['date']> '2021-04-25'][sub_main.columns]\n",
        "subdf = pd.concat([prevdf,sub_main], axis=0).reset_index(drop=True)\n",
        "subdf.head()"
      ]
    },
    {
      "cell_type": "code",
      "execution_count": 143,
      "metadata": {},
      "outputs": [],
      "source": [
        "# subdf[subdf['date']=='2017-01-08']\n",
        "subss = []\n",
        "weekdays =  subdf[subdf['is_weekend']=='Yes']['date'].unique()\n",
        "neweek = pd.Series(data = [None]*(subdf.shape[0]))\n",
        "# pre_index = 0\n",
        "# for i in range(len(weekdays)):\n",
        "i = 0\n",
        "while i <  len(weekdays) :\n",
        "    if i == 0:\n",
        "        df = subdf[(subdf['date'] <= weekdays[i])]\n",
        "\n",
        "    # elif i == len(weekdays) -1:\n",
        "    #     df = subdf[(subdf['date'] <= weekdays[i]) & (subdf['date'] > weekdays[i-1])]\n",
        "    else:\n",
        "        df = subdf[(subdf['date'] <= weekdays[i]) & (subdf['date'] > weekdays[i-1])]\n",
        "    # print(df['date'].unique())\n",
        "    # print(df)\n",
        "    # print('df shape',df.shape)\n",
        "    # n_rows = df.shape[1]\n",
        "    # index = df[df['is_weekend'] == 'Yes'].index\n",
        "    \n",
        "    dispatch_ = df.groupby(['warehouse_ID','Product_Type'])['daily_dispatch_count'].sum()\n",
        "    dispatch = dispatch_.values\n",
        "    # print('dispatches',len(dispatch), dispatch_)\n",
        "    # print(dispatch)\n",
        "    # neweek.iloc[index] = dispatch\n",
        "    subss.append(dispatch)\n",
        "    # neweek[pre_index: pre_index+n_rows] =  dispatch\n",
        "    # pre_index += n_rows \n",
        "    i+=1\n"
      ]
    },
    {
      "cell_type": "code",
      "execution_count": 144,
      "metadata": {},
      "outputs": [
        {
          "data": {
            "text/plain": [
              "(700,)"
            ]
          },
          "execution_count": 144,
          "metadata": {},
          "output_type": "execute_result"
        }
      ],
      "source": [
        "serw  = np.concatenate([x.ravel() for x in subss])\n",
        "serw.shape"
      ]
    },
    {
      "cell_type": "markdown",
      "metadata": {},
      "source": [
        "## test submission main"
      ]
    },
    {
      "cell_type": "code",
      "execution_count": 145,
      "metadata": {},
      "outputs": [],
      "source": [
        "sub_ = sub.copy()\n",
        "sub_['weekly_dispatch_count'] = pd.Series(serw)\n",
        "sub_\n",
        "sub_.fillna(0,inplace=True)\n",
        "sub_.to_csv('submission13.csv',index=False)"
      ]
    }
  ],
  "metadata": {
    "accelerator": "GPU",
    "colab": {
      "collapsed_sections": [],
      "name": "tredence_hack",
      "provenance": []
    },
    "kernelspec": {
      "display_name": "Python 3",
      "name": "python3"
    },
    "language_info": {
      "codemirror_mode": {
        "name": "ipython",
        "version": 3
      },
      "file_extension": ".py",
      "mimetype": "text/x-python",
      "name": "python",
      "nbconvert_exporter": "python",
      "pygments_lexer": "ipython3",
      "version": "3.7.9"
    }
  },
  "nbformat": 4,
  "nbformat_minor": 0
}
