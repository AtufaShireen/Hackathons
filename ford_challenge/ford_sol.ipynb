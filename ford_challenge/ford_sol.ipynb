{
  "cells": [
    {
      "cell_type": "code",
      "source": [
        "!unzip /content/drive/MyDrive/Ford_Motoras/f0b108a2507d11ed.zip -d dataset_2"
      ],
      "metadata": {
        "id": "LQnRYAZwI382"
      },
      "execution_count": null,
      "outputs": []
    },
    {
      "cell_type": "code",
      "execution_count": null,
      "metadata": {
        "id": "QNWyc5I9IiiT"
      },
      "outputs": [],
      "source": [
        "import os, re\n",
        "from tensorflow.keras.preprocessing.text import Tokenizer\n",
        "import pandas as pd\n",
        "from tensorflow.keras.preprocessing.sequence import pad_sequences\n",
        "import numpy as np\n",
        "import sys\n",
        "from nltk.stem import WordNetLemmatizer\n",
        "np.set_printoptions(threshold=sys.maxsize)\n",
        "from sklearn.metrics import f1_score\n",
        "from bs4 import BeautifulSoup\n",
        "from sklearn.preprocessing import LabelBinarizer"
      ]
    },
    {
      "cell_type": "code",
      "source": [
        "# from google.colab import drive\n",
        "# drive.mount('/content/drive')"
      ],
      "metadata": {
        "id": "PKoNWOXyKc2D"
      },
      "execution_count": null,
      "outputs": []
    },
    {
      "cell_type": "code",
      "execution_count": null,
      "metadata": {
        "id": "y81mi0I3IiiV"
      },
      "outputs": [],
      "source": [
        "files = os.listdir('./dataset_2/dataset/train/')\n",
        "train_files = files[:int(len(files)*0.8)]\n",
        "valid_files = files[int(len(files)*0.8):]"
      ]
    },
    {
      "cell_type": "code",
      "source": [
        "# from google.colab import drive\n",
        "# drive.mount('/content/drive')"
      ],
      "metadata": {
        "colab": {
          "base_uri": "https://localhost:8080/"
        },
        "id": "EW80ljW_Irbx",
        "outputId": "fb8c7549-3a26-4aaf-d1fb-b1132488ef6d"
      },
      "execution_count": null,
      "outputs": [
        {
          "output_type": "stream",
          "name": "stdout",
          "text": [
            "Mounted at /content/drive\n"
          ]
        }
      ]
    },
    {
      "cell_type": "code",
      "execution_count": null,
      "metadata": {
        "id": "LeNrOSoeIiiW"
      },
      "outputs": [],
      "source": [
        "df = pd.read_csv('./dataset_2/dataset/train.csv')\n",
        "df.head()\n",
        "dict(df['Product'].value_counts())\n",
        "file_cat = dict(df[['File_Name','Product']].values)\n",
        "\n",
        "classes = {'AI': 0,\n",
        " 'allopathy': 1,\n",
        " 'Truck': 2,\n",
        " 'Bike': 3,\n",
        " 'Medical devices': 4,\n",
        " 'Organicfood': 5,\n",
        " 'Kids toys': 6,\n",
        " 'Gaming hardware': 7,\n",
        " 'Solar': 8,\n",
        " 'Fuel': 9,\n",
        " 'antivirus-security': 10,\n",
        " 'Hydro': 11,\n",
        " 'charcoal': 12}\n",
        "df2 = pd.DataFrame({'filename':train_files,'class':None})\n",
        "df2['class'] = df2['filename'].apply(lambda x: file_cat[x])\n",
        "df2['class'].value_counts()\n",
        "df2['class'] = df2['class'].apply(lambda x: classes[x])\n",
        "\n",
        "\n",
        "biner = LabelBinarizer()\n",
        "y_true = biner.fit_transform(df2['class'])"
      ]
    },
    {
      "cell_type": "code",
      "execution_count": null,
      "metadata": {
        "colab": {
          "base_uri": "https://localhost:8080/"
        },
        "id": "weJMX5C0IiiW",
        "outputId": "2c80ae74-19a9-43d7-d525-6a1d684cf28f"
      },
      "outputs": [
        {
          "output_type": "execute_result",
          "data": {
            "text/plain": [
              "(2691, 10761)"
            ]
          },
          "metadata": {},
          "execution_count": 8
        }
      ],
      "source": [
        "len(valid_files), len(train_files)"
      ]
    },
    {
      "cell_type": "code",
      "execution_count": null,
      "metadata": {
        "id": "5ugW-24cIiiX"
      },
      "outputs": [],
      "source": [
        "tokener = Tokenizer(oov_token='<OOV>')\n",
        "lemmatizer = WordNetLemmatizer()"
      ]
    },
    {
      "cell_type": "code",
      "execution_count": null,
      "metadata": {
        "id": "vD4C1nwdIiiX"
      },
      "outputs": [],
      "source": [
        "def clean_text(\n",
        "    string: str, \n",
        "    punctuations=r'''!()-[]{};:'\"\\,<>./?@#$%^&*_~''',) -> str:\n",
        "    \"\"\"\n",
        "    A method to clean text \n",
        "    \"\"\"\n",
        "    stop_words = {'ourselves', 'hers', 'between', 'yourself', 'but', 'again', 'there', 'about', 'once', 'during',\n",
        "     'out', 'very', 'having', 'with', 'they', 'own', 'an', 'be', 'some', 'for', 'do', 'its', 'yours', 'such', 'into',\n",
        "      'of', 'most', 'itself', 'other', 'off', 'is', 's', 'am', 'or', 'who', 'as', 'from', 'him', 'each', 'the', 'themselves',\n",
        "       'until', 'below', 'are', 'we', 'these', 'your', 'his', 'through', 'don', 'nor', 'me', 'were', 'her', 'more', 'himself', \n",
        "       'this', 'down', 'should', 'our', 'their', 'while', 'above', 'both', 'up', 'to', 'ours', 'had', 'she', 'all', 'no', 'when', \n",
        "       'at', 'any', 'before', 'them', 'same', 'and', 'been', 'have', 'in', 'will', 'on', 'does', 'yourselves', 'then', 'that', 'because',\n",
        "        'what', 'over', 'why', 'so', 'can', 'did', 'not', 'now', 'under', 'he', 'you', 'herself', 'has', 'just', 'where', 'too', 'only',\n",
        "         'myself', 'which', 'those', 'i', 'after', 'few', 'whom', 't', 'being', 'if', 'theirs', 'my', 'against', 'a', 'by', 'doing',\n",
        "          'it', 'how', 'further', 'was', 'here', 'than',''} \n",
        "    # Cleaning the urls\n",
        "    string = re.sub(r'https?://\\S+|www\\.\\S+', '', string)\n",
        "\n",
        "    # Cleaning the html elements\n",
        "    string = re.sub(r'<.*?>', '', string)\n",
        "    string = re.sub(r'\\S*\\d+\\S*', '', string)\n",
        "\n",
        "    # Removing the punctuations\n",
        "    for x in string.lower(): \n",
        "        if x in punctuations: \n",
        "            string = string.replace(x, \"\") \n",
        "\n",
        "    # Converting the text to lower\n",
        "    string = string.lower()\n",
        "    \n",
        "    # Removing stop words\n",
        "    string = ' '.join([lemmatizer.lemmatize(word) for word in string.split() if ((word not in stop_words) and len(word)>2)])\n",
        "\n",
        "    # Cleaning the whitespaces\n",
        "    string = re.sub(r'\\s+', ' ', string).strip()\n",
        "\n",
        "    return string      \n"
      ]
    },
    {
      "cell_type": "code",
      "source": [
        "import nltk\n",
        "nltk.download('wordnet')\n",
        "nltk.download('omw-1.4')"
      ],
      "metadata": {
        "colab": {
          "base_uri": "https://localhost:8080/"
        },
        "id": "fB-N13QEK14q",
        "outputId": "a05eec87-f32b-4c2f-be48-132eb7812809"
      },
      "execution_count": null,
      "outputs": [
        {
          "output_type": "stream",
          "name": "stderr",
          "text": [
            "[nltk_data] Downloading package omw-1.4 to /root/nltk_data...\n"
          ]
        },
        {
          "output_type": "execute_result",
          "data": {
            "text/plain": [
              "True"
            ]
          },
          "metadata": {},
          "execution_count": 15
        }
      ]
    },
    {
      "cell_type": "code",
      "execution_count": null,
      "metadata": {
        "id": "FnVFEty0IiiY"
      },
      "outputs": [],
      "source": [
        "X_train = []\n",
        "for i in range(len(train_files)): #len(train_files)\n",
        "    with open(f\"./dataset_2/dataset/train/{train_files[i]}\",'r') as f:\n",
        "        text1 = f.read()\n",
        "        soup = BeautifulSoup(text1,'lxml')\n",
        "        text1 = soup.find(lambda tag:tag.name==\"p\" and \"Company background\" in tag.text).find_next('p')\n",
        "\n",
        "        text1 = clean_text(text1.text).split(' ') \n",
        "        # print(text1)       \n",
        "        tokener.fit_on_texts(text1)\n",
        "        X_train.append(text1)\n",
        "        "
      ]
    },
    {
      "cell_type": "code",
      "execution_count": null,
      "metadata": {
        "colab": {
          "base_uri": "https://localhost:8080/"
        },
        "id": "3Q6dKOPmIiiZ",
        "outputId": "2fde5e0a-3f79-401c-eff1-3122d85e2951"
      },
      "outputs": [
        {
          "output_type": "stream",
          "name": "stdout",
          "text": [
            "183\n"
          ]
        }
      ],
      "source": [
        "max_len = np.max([len(i) for i in X_train])\n",
        "print(max_len)"
      ]
    },
    {
      "cell_type": "code",
      "execution_count": null,
      "metadata": {
        "id": "Wei0f6e4IiiZ"
      },
      "outputs": [],
      "source": [
        "# Creating the padded matrices\n",
        "X_train_NN = tokener.texts_to_sequences(X_train)\n",
        "X_train_NN = pad_sequences(X_train_NN, maxlen=max_len,padding='post', truncating='post')"
      ]
    },
    {
      "cell_type": "code",
      "execution_count": null,
      "metadata": {
        "colab": {
          "base_uri": "https://localhost:8080/"
        },
        "id": "jKxNkuJ4Iiia",
        "outputId": "de087980-5898-4e34-e1b1-4407e9a1f88b"
      },
      "outputs": [
        {
          "output_type": "execute_result",
          "data": {
            "text/plain": [
              "(10761, 183)"
            ]
          },
          "metadata": {},
          "execution_count": 19
        }
      ],
      "source": [
        "X_train_NN.shape"
      ]
    },
    {
      "cell_type": "code",
      "execution_count": null,
      "metadata": {
        "colab": {
          "base_uri": "https://localhost:8080/"
        },
        "id": "oe5LCb2qIiia",
        "outputId": "e5081e3e-ecbc-4447-967d-6ab4078740bf"
      },
      "outputs": [
        {
          "output_type": "stream",
          "name": "stdout",
          "text": [
            "9174\n"
          ]
        }
      ],
      "source": [
        "unique_count = len(tokener.word_counts)\n",
        "print(unique_count)"
      ]
    },
    {
      "cell_type": "code",
      "execution_count": null,
      "metadata": {
        "id": "p4gK1OtuIiia"
      },
      "outputs": [],
      "source": [
        "# from tensorflow.keras.models import Sequential\n",
        "# from tensorflow.keras.layers import Embedding, LSTM, Dense, Bidirectional ,Flatten\n",
        "\n",
        "# embed_dim = 128\n",
        "# model = Sequential()\n",
        "# model.add(Embedding(\n",
        "#   input_dim=unique_count+2, \n",
        "#   output_dim=embed_dim, \n",
        "#   input_length=X_train_NN.shape[1]))\n",
        "# model.add(Bidirectional(LSTM(256,return_sequences=True)))\n",
        "# model.add(Bidirectional(LSTM(128,return_sequences=False)))\n",
        "# model.add(Flatten())\n",
        "# model.add(Dense(64,activation='relu'))\n",
        "# model.add(Dense(13,activation='softmax'))"
      ]
    },
    {
      "cell_type": "code",
      "source": [
        "from tensorflow.keras.models import Sequential\n",
        "from tensorflow.keras.layers import Embedding, LSTM, Dense, Bidirectional ,Flatten\n",
        "\n",
        "embed_dim = 128\n",
        "model = Sequential()\n",
        "model.add(Embedding(\n",
        "  input_dim=unique_count+1, \n",
        "  output_dim=embed_dim, \n",
        "  input_length=X_train_NN.shape[1]))\n",
        "model.add(Bidirectional(LSTM(256,return_sequences=True)))\n",
        "model.add(Bidirectional(LSTM(128,return_sequences=True)))\n",
        "model.add(Bidirectional(LSTM(72,return_sequences=False)))\n",
        "model.add(Flatten())\n",
        "model.add(Dense(100,activation='relu'))\n",
        "model.add(Dense(50,activation='relu'))\n",
        "model.add(Dense(13,activation='softmax'))"
      ],
      "metadata": {
        "id": "sU5XUf_dXSOb"
      },
      "execution_count": null,
      "outputs": []
    },
    {
      "cell_type": "code",
      "source": [
        "from tensorflow.keras.optimizers import Adam"
      ],
      "metadata": {
        "id": "6WhCRxnqLq24"
      },
      "execution_count": null,
      "outputs": []
    },
    {
      "cell_type": "code",
      "execution_count": null,
      "metadata": {
        "id": "vWtW9ff_Iiia"
      },
      "outputs": [],
      "source": [
        "optimzer = Adam(learning_rate=0.001)\n",
        "model.compile(loss = 'categorical_crossentropy', optimizer=optimzer)"
      ]
    },
    {
      "cell_type": "code",
      "source": [
        "from sklearn.utils.class_weight import compute_class_weight"
      ],
      "metadata": {
        "id": "wv_IIbD4MSB-"
      },
      "execution_count": null,
      "outputs": []
    },
    {
      "cell_type": "code",
      "source": [
        "class_labels=[0,1,2,3,4,5,6,7,8,9,10,11,12]\n",
        "weights = compute_class_weight(class_weight='balanced', classes=class_labels, y=df2['class'])"
      ],
      "metadata": {
        "id": "J3bTh2kGMYpW"
      },
      "execution_count": null,
      "outputs": []
    },
    {
      "cell_type": "code",
      "source": [
        "class_weights = dict(zip(class_labels,weights))"
      ],
      "metadata": {
        "id": "XeL6dzaMMaBR"
      },
      "execution_count": null,
      "outputs": []
    },
    {
      "cell_type": "markdown",
      "source": [
        "15+ 20 + 10+20+25+35"
      ],
      "metadata": {
        "id": "E0xD9MgaNdZh"
      }
    },
    {
      "cell_type": "code",
      "source": [
        "class_weights"
      ],
      "metadata": {
        "colab": {
          "base_uri": "https://localhost:8080/"
        },
        "id": "THCa9WcaSBo8",
        "outputId": "e0103f23-a5fb-4d3e-d4b8-78c7dfb95765"
      },
      "execution_count": null,
      "outputs": [
        {
          "output_type": "execute_result",
          "data": {
            "text/plain": [
              "{0: 0.7064846416382252,\n",
              " 1: 0.7961538461538461,\n",
              " 2: 0.7638376383763837,\n",
              " 3: 0.8313253012048193,\n",
              " 4: 0.9672897196261683,\n",
              " 5: 1.0247524752475248,\n",
              " 6: 1.2034883720930232,\n",
              " 7: 1.0952380952380953,\n",
              " 8: 1.2621951219512195,\n",
              " 9: 1.2248520710059172,\n",
              " 10: 1.2105263157894737,\n",
              " 11: 1.1965317919075145,\n",
              " 12: 1.2621951219512195}"
            ]
          },
          "metadata": {},
          "execution_count": 147
        }
      ]
    },
    {
      "cell_type": "code",
      "source": [
        "model.fit(x = X_train_NN,y = y_true,epochs=45)"
      ],
      "metadata": {
        "colab": {
          "base_uri": "https://localhost:8080/"
        },
        "id": "2U57BMo0Mbi2",
        "outputId": "e8895f3c-776a-48f4-cadf-09a69755ee26"
      },
      "execution_count": null,
      "outputs": [
        {
          "output_type": "stream",
          "name": "stdout",
          "text": [
            "Epoch 1/45\n",
            "337/337 [==============================] - 27s 59ms/step - loss: 1.2953\n",
            "Epoch 2/45\n",
            "337/337 [==============================] - 20s 60ms/step - loss: 0.6947\n",
            "Epoch 3/45\n",
            "337/337 [==============================] - 20s 58ms/step - loss: 0.5689\n",
            "Epoch 4/45\n",
            "337/337 [==============================] - 19s 57ms/step - loss: 0.5117\n",
            "Epoch 5/45\n",
            "337/337 [==============================] - 21s 63ms/step - loss: 0.4982\n",
            "Epoch 6/45\n",
            "337/337 [==============================] - 18s 55ms/step - loss: 0.4684\n",
            "Epoch 7/45\n",
            "337/337 [==============================] - 19s 56ms/step - loss: 0.4544\n",
            "Epoch 8/45\n",
            "337/337 [==============================] - 20s 58ms/step - loss: 0.4392\n",
            "Epoch 9/45\n",
            "337/337 [==============================] - 21s 62ms/step - loss: 0.4259\n",
            "Epoch 10/45\n",
            "337/337 [==============================] - 21s 63ms/step - loss: 0.4234\n",
            "Epoch 11/45\n",
            "337/337 [==============================] - 22s 66ms/step - loss: 0.4059\n",
            "Epoch 12/45\n",
            "337/337 [==============================] - 21s 62ms/step - loss: 0.4002\n",
            "Epoch 13/45\n",
            "337/337 [==============================] - 19s 55ms/step - loss: 0.3955\n",
            "Epoch 14/45\n",
            "337/337 [==============================] - 20s 58ms/step - loss: 0.3822\n",
            "Epoch 15/45\n",
            "337/337 [==============================] - 18s 55ms/step - loss: 0.3769\n",
            "Epoch 16/45\n",
            "337/337 [==============================] - 19s 55ms/step - loss: 0.3532\n",
            "Epoch 17/45\n",
            "337/337 [==============================] - 20s 59ms/step - loss: 0.3515\n",
            "Epoch 18/45\n",
            "337/337 [==============================] - 19s 55ms/step - loss: 0.3240\n",
            "Epoch 19/45\n",
            "337/337 [==============================] - 19s 55ms/step - loss: 0.3251\n",
            "Epoch 20/45\n",
            "337/337 [==============================] - 20s 58ms/step - loss: 0.3070\n",
            "Epoch 21/45\n",
            "337/337 [==============================] - 18s 55ms/step - loss: 0.2892\n",
            "Epoch 22/45\n",
            "337/337 [==============================] - 20s 58ms/step - loss: 0.2792\n",
            "Epoch 23/45\n",
            "337/337 [==============================] - 20s 58ms/step - loss: 0.2676\n",
            "Epoch 24/45\n",
            "337/337 [==============================] - 19s 55ms/step - loss: 0.2539\n",
            "Epoch 25/45\n",
            "337/337 [==============================] - 19s 55ms/step - loss: 0.2404\n",
            "Epoch 26/45\n",
            "337/337 [==============================] - 20s 59ms/step - loss: 0.2316\n",
            "Epoch 27/45\n",
            "337/337 [==============================] - 19s 55ms/step - loss: 0.2326\n",
            "Epoch 28/45\n",
            "337/337 [==============================] - 18s 55ms/step - loss: 0.2291\n",
            "Epoch 29/45\n",
            "337/337 [==============================] - 20s 58ms/step - loss: 0.2020\n",
            "Epoch 30/45\n",
            "337/337 [==============================] - 19s 55ms/step - loss: 0.1873\n",
            "Epoch 31/45\n",
            "337/337 [==============================] - 18s 55ms/step - loss: 0.2002\n",
            "Epoch 32/45\n",
            "337/337 [==============================] - 19s 58ms/step - loss: 0.1794\n",
            "Epoch 33/45\n",
            "337/337 [==============================] - 19s 56ms/step - loss: 0.1668\n",
            "Epoch 34/45\n",
            "337/337 [==============================] - 19s 55ms/step - loss: 0.1557\n",
            "Epoch 35/45\n",
            "337/337 [==============================] - 20s 60ms/step - loss: 0.1662\n",
            "Epoch 36/45\n",
            "337/337 [==============================] - 19s 57ms/step - loss: 0.1672\n",
            "Epoch 37/45\n",
            "337/337 [==============================] - 18s 55ms/step - loss: 0.1362\n",
            "Epoch 38/45\n",
            "337/337 [==============================] - 19s 55ms/step - loss: 0.1401\n",
            "Epoch 39/45\n",
            "337/337 [==============================] - 20s 58ms/step - loss: 0.1289\n",
            "Epoch 40/45\n",
            "337/337 [==============================] - 18s 55ms/step - loss: 0.1234\n",
            "Epoch 41/45\n",
            "337/337 [==============================] - 19s 55ms/step - loss: 0.1261\n",
            "Epoch 42/45\n",
            "337/337 [==============================] - 20s 59ms/step - loss: 0.1193\n",
            "Epoch 43/45\n",
            "337/337 [==============================] - 19s 56ms/step - loss: 0.1206\n",
            "Epoch 44/45\n",
            "337/337 [==============================] - 19s 55ms/step - loss: 0.1076\n",
            "Epoch 45/45\n",
            "337/337 [==============================] - 20s 58ms/step - loss: 0.1089\n"
          ]
        },
        {
          "output_type": "execute_result",
          "data": {
            "text/plain": [
              "<keras.callbacks.History at 0x7fbff5aff790>"
            ]
          },
          "metadata": {},
          "execution_count": 148
        }
      ]
    },
    {
      "cell_type": "code",
      "source": [
        "model.save('model1.h5')"
      ],
      "metadata": {
        "id": "zMUJrnLzMe1W"
      },
      "execution_count": null,
      "outputs": []
    },
    {
      "cell_type": "code",
      "source": [
        "df = pd.read_csv('./dataset_2/dataset/train.csv')\n",
        "df.head()\n",
        "file_cat = dict(df[['File_Name','Product']].values)\n",
        "classes = {'AI': 0,\n",
        " 'allopathy': 1,\n",
        " 'Truck': 2,\n",
        " 'Bike': 3,\n",
        " 'Medical devices': 4,\n",
        " 'Organicfood': 5,\n",
        " 'Kids toys': 6,\n",
        " 'Gaming hardware': 7,\n",
        " 'Solar': 8,\n",
        " 'Fuel': 9,\n",
        " 'antivirus-security': 10,\n",
        " 'Hydro': 11,\n",
        " 'charcoal': 12}\n",
        "\n",
        "df2 = pd.DataFrame({'filename':valid_files,'class':None})\n",
        "df2['class'] = df2['filename'].apply(lambda x: file_cat[x])\n",
        "df2['class'].value_counts()\n",
        "df2['class'] = df2['class'].apply(lambda x: classes[x])\n",
        "y_valid = biner.transform(df2['class'])"
      ],
      "metadata": {
        "id": "tiEj2hwdMiIA"
      },
      "execution_count": null,
      "outputs": []
    },
    {
      "cell_type": "code",
      "source": [
        "X_valid = []\n",
        "for i in range(len(valid_files)): #len(train_files)\n",
        "    with open(f\"./dataset_2/dataset/train/{valid_files[i]}\",'r') as f:\n",
        "        text = f.read()\n",
        "        text = clean_text(text).split(' ')        \n",
        "        # tokener.fit_on_texts(text)\n",
        "        X_valid.append(text)"
      ],
      "metadata": {
        "id": "HwF_QVEPMk1B"
      },
      "execution_count": null,
      "outputs": []
    },
    {
      "cell_type": "code",
      "source": [
        "# Creating the padded matrices\n",
        "X_valid_NN = tokener.texts_to_sequences(X_valid)\n",
        "X_valid_NN = pad_sequences(X_valid_NN, maxlen=max_len)\n",
        "output_array = model.predict(X_valid_NN)"
      ],
      "metadata": {
        "colab": {
          "base_uri": "https://localhost:8080/"
        },
        "id": "pgYrdkaeMrxh",
        "outputId": "96a9582d-a3e5-4b54-eec5-879784747c8e"
      },
      "execution_count": null,
      "outputs": [
        {
          "output_type": "stream",
          "name": "stdout",
          "text": [
            "85/85 [==============================] - 2s 28ms/step\n"
          ]
        }
      ]
    },
    {
      "cell_type": "code",
      "source": [
        "out = biner.inverse_transform(output_array)\n",
        "act = biner.inverse_transform(y_valid)\n",
        "f1_score(out,act,average = 'weighted') * 100"
      ],
      "metadata": {
        "colab": {
          "base_uri": "https://localhost:8080/"
        },
        "id": "XNbQpD3JMsrp",
        "outputId": "47476ef0-5709-462a-86ea-c72f52c00abe"
      },
      "execution_count": null,
      "outputs": [
        {
          "output_type": "execute_result",
          "data": {
            "text/plain": [
              "19.37881399770392"
            ]
          },
          "metadata": {},
          "execution_count": 153
        }
      ]
    },
    {
      "cell_type": "markdown",
      "metadata": {
        "id": "7QuUvCG3MQaG"
      },
      "source": [
        "## Testing"
      ]
    },
    {
      "cell_type": "code",
      "execution_count": null,
      "metadata": {
        "id": "nNlHbvTsMQaG"
      },
      "outputs": [],
      "source": [
        "test_files = pd.read_csv('./dataset_2/dataset/test.csv')['File_Name'].tolist()"
      ]
    },
    {
      "cell_type": "code",
      "execution_count": null,
      "metadata": {
        "id": "4q9GA4v9MQaH"
      },
      "outputs": [],
      "source": [
        "X_test = []\n",
        "for i in range(len(test_files)): #len(train_files)\n",
        "    with open(f\"./dataset_2/dataset//test/{test_files[i]}\",'r') as f:\n",
        "        text = f.read()\n",
        "        text = clean_text(text).split(' ')        \n",
        "        # tokener.fit_on_texts(text)\n",
        "        X_test.append(text)\n",
        "# Creating the padded matrices\n",
        "X_test_NN = tokener.texts_to_sequences(X_test)\n",
        "X_test_NN = pad_sequences(X_test_NN, maxlen=max_len)\n"
      ]
    },
    {
      "cell_type": "code",
      "execution_count": null,
      "metadata": {
        "id": "YW1HGgxiMQaH",
        "outputId": "c47b8ebf-89f6-40e3-8ec1-9529cca24232",
        "colab": {
          "base_uri": "https://localhost:8080/"
        }
      },
      "outputs": [
        {
          "output_type": "stream",
          "name": "stdout",
          "text": [
            "75/75 [==============================] - 1s 19ms/step\n"
          ]
        }
      ],
      "source": [
        "output_array = model.predict(X_test_NN)\n",
        "out = biner.inverse_transform(output_array)"
      ]
    },
    {
      "cell_type": "code",
      "execution_count": null,
      "metadata": {
        "id": "Mx9y-uqmMQaI",
        "outputId": "4ee314fd-3b44-4a50-8db9-cb7dfd15914a",
        "colab": {
          "base_uri": "https://localhost:8080/",
          "height": 206
        }
      },
      "outputs": [
        {
          "output_type": "execute_result",
          "data": {
            "text/plain": [
              "         File_Name  Product\n",
              "0   PROJ0x6c6.html        0\n",
              "1  PROJ0x6606.html        0\n",
              "2  PROJ0x86d0.html        0\n",
              "3  PROJ0x93b4.html        7\n",
              "4  PROJ0x2cd6.html        0"
            ],
            "text/html": [
              "\n",
              "  <div id=\"df-ff43a62b-6171-40c0-aeb5-449be057029a\">\n",
              "    <div class=\"colab-df-container\">\n",
              "      <div>\n",
              "<style scoped>\n",
              "    .dataframe tbody tr th:only-of-type {\n",
              "        vertical-align: middle;\n",
              "    }\n",
              "\n",
              "    .dataframe tbody tr th {\n",
              "        vertical-align: top;\n",
              "    }\n",
              "\n",
              "    .dataframe thead th {\n",
              "        text-align: right;\n",
              "    }\n",
              "</style>\n",
              "<table border=\"1\" class=\"dataframe\">\n",
              "  <thead>\n",
              "    <tr style=\"text-align: right;\">\n",
              "      <th></th>\n",
              "      <th>File_Name</th>\n",
              "      <th>Product</th>\n",
              "    </tr>\n",
              "  </thead>\n",
              "  <tbody>\n",
              "    <tr>\n",
              "      <th>0</th>\n",
              "      <td>PROJ0x6c6.html</td>\n",
              "      <td>0</td>\n",
              "    </tr>\n",
              "    <tr>\n",
              "      <th>1</th>\n",
              "      <td>PROJ0x6606.html</td>\n",
              "      <td>0</td>\n",
              "    </tr>\n",
              "    <tr>\n",
              "      <th>2</th>\n",
              "      <td>PROJ0x86d0.html</td>\n",
              "      <td>0</td>\n",
              "    </tr>\n",
              "    <tr>\n",
              "      <th>3</th>\n",
              "      <td>PROJ0x93b4.html</td>\n",
              "      <td>7</td>\n",
              "    </tr>\n",
              "    <tr>\n",
              "      <th>4</th>\n",
              "      <td>PROJ0x2cd6.html</td>\n",
              "      <td>0</td>\n",
              "    </tr>\n",
              "  </tbody>\n",
              "</table>\n",
              "</div>\n",
              "      <button class=\"colab-df-convert\" onclick=\"convertToInteractive('df-ff43a62b-6171-40c0-aeb5-449be057029a')\"\n",
              "              title=\"Convert this dataframe to an interactive table.\"\n",
              "              style=\"display:none;\">\n",
              "        \n",
              "  <svg xmlns=\"http://www.w3.org/2000/svg\" height=\"24px\"viewBox=\"0 0 24 24\"\n",
              "       width=\"24px\">\n",
              "    <path d=\"M0 0h24v24H0V0z\" fill=\"none\"/>\n",
              "    <path d=\"M18.56 5.44l.94 2.06.94-2.06 2.06-.94-2.06-.94-.94-2.06-.94 2.06-2.06.94zm-11 1L8.5 8.5l.94-2.06 2.06-.94-2.06-.94L8.5 2.5l-.94 2.06-2.06.94zm10 10l.94 2.06.94-2.06 2.06-.94-2.06-.94-.94-2.06-.94 2.06-2.06.94z\"/><path d=\"M17.41 7.96l-1.37-1.37c-.4-.4-.92-.59-1.43-.59-.52 0-1.04.2-1.43.59L10.3 9.45l-7.72 7.72c-.78.78-.78 2.05 0 2.83L4 21.41c.39.39.9.59 1.41.59.51 0 1.02-.2 1.41-.59l7.78-7.78 2.81-2.81c.8-.78.8-2.07 0-2.86zM5.41 20L4 18.59l7.72-7.72 1.47 1.35L5.41 20z\"/>\n",
              "  </svg>\n",
              "      </button>\n",
              "      \n",
              "  <style>\n",
              "    .colab-df-container {\n",
              "      display:flex;\n",
              "      flex-wrap:wrap;\n",
              "      gap: 12px;\n",
              "    }\n",
              "\n",
              "    .colab-df-convert {\n",
              "      background-color: #E8F0FE;\n",
              "      border: none;\n",
              "      border-radius: 50%;\n",
              "      cursor: pointer;\n",
              "      display: none;\n",
              "      fill: #1967D2;\n",
              "      height: 32px;\n",
              "      padding: 0 0 0 0;\n",
              "      width: 32px;\n",
              "    }\n",
              "\n",
              "    .colab-df-convert:hover {\n",
              "      background-color: #E2EBFA;\n",
              "      box-shadow: 0px 1px 2px rgba(60, 64, 67, 0.3), 0px 1px 3px 1px rgba(60, 64, 67, 0.15);\n",
              "      fill: #174EA6;\n",
              "    }\n",
              "\n",
              "    [theme=dark] .colab-df-convert {\n",
              "      background-color: #3B4455;\n",
              "      fill: #D2E3FC;\n",
              "    }\n",
              "\n",
              "    [theme=dark] .colab-df-convert:hover {\n",
              "      background-color: #434B5C;\n",
              "      box-shadow: 0px 1px 3px 1px rgba(0, 0, 0, 0.15);\n",
              "      filter: drop-shadow(0px 1px 2px rgba(0, 0, 0, 0.3));\n",
              "      fill: #FFFFFF;\n",
              "    }\n",
              "  </style>\n",
              "\n",
              "      <script>\n",
              "        const buttonEl =\n",
              "          document.querySelector('#df-ff43a62b-6171-40c0-aeb5-449be057029a button.colab-df-convert');\n",
              "        buttonEl.style.display =\n",
              "          google.colab.kernel.accessAllowed ? 'block' : 'none';\n",
              "\n",
              "        async function convertToInteractive(key) {\n",
              "          const element = document.querySelector('#df-ff43a62b-6171-40c0-aeb5-449be057029a');\n",
              "          const dataTable =\n",
              "            await google.colab.kernel.invokeFunction('convertToInteractive',\n",
              "                                                     [key], {});\n",
              "          if (!dataTable) return;\n",
              "\n",
              "          const docLinkHtml = 'Like what you see? Visit the ' +\n",
              "            '<a target=\"_blank\" href=https://colab.research.google.com/notebooks/data_table.ipynb>data table notebook</a>'\n",
              "            + ' to learn more about interactive tables.';\n",
              "          element.innerHTML = '';\n",
              "          dataTable['output_type'] = 'display_data';\n",
              "          await google.colab.output.renderOutput(dataTable, element);\n",
              "          const docLink = document.createElement('div');\n",
              "          docLink.innerHTML = docLinkHtml;\n",
              "          element.appendChild(docLink);\n",
              "        }\n",
              "      </script>\n",
              "    </div>\n",
              "  </div>\n",
              "  "
            ]
          },
          "metadata": {},
          "execution_count": 109
        }
      ],
      "source": [
        "sub = pd.DataFrame({'File_Name':test_files,'Product':out})\n",
        "sub.head()"
      ]
    },
    {
      "cell_type": "code",
      "execution_count": null,
      "metadata": {
        "id": "gfJhdLEdMQaJ"
      },
      "outputs": [],
      "source": [
        "classes_ = {0:'AI',\n",
        " 1:'allopathy',\n",
        " 2:'Truck',\n",
        " 3:'Bike',\n",
        " 4:'Medical devices',\n",
        " 5:'Organicfood',\n",
        " 6:'Kids toys',\n",
        " 7:'Gaming hardware',\n",
        " 8:'Solar',\n",
        " 9:'Fuel',\n",
        " 10:'antivirus-security',\n",
        " 11:'Hydro',\n",
        " 12:'charcoal'\n",
        " }\n",
        "sub['Product'] = sub['Product'].apply(lambda x: classes_[x])\n",
        "sub.to_csv('sub1_7.csv',index=False)"
      ]
    },
    {
      "cell_type": "code",
      "execution_count": null,
      "metadata": {
        "id": "0p4wv4VQMQaJ"
      },
      "outputs": [],
      "source": []
    }
  ],
  "metadata": {
    "kernelspec": {
      "display_name": "Python 3.8.9 ('venv': venv)",
      "language": "python",
      "name": "python3"
    },
    "language_info": {
      "codemirror_mode": {
        "name": "ipython",
        "version": 3
      },
      "file_extension": ".py",
      "mimetype": "text/x-python",
      "name": "python",
      "nbconvert_exporter": "python",
      "pygments_lexer": "ipython3",
      "version": "3.8.9"
    },
    "orig_nbformat": 4,
    "vscode": {
      "interpreter": {
        "hash": "c6a9e1fbfddc2fd44ae8e6fae8df045fa1c3997b97938e29030fac26ca3f4751"
      }
    },
    "colab": {
      "provenance": []
    },
    "accelerator": "GPU",
    "gpuClass": "standard"
  },
  "nbformat": 4,
  "nbformat_minor": 0
}