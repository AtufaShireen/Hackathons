{
  "cells": [
    {
      "cell_type": "markdown",
      "source": [
        "# Imports"
      ],
      "metadata": {
        "id": "6A2SD9QSXah0"
      }
    },
    {
      "cell_type": "code",
      "execution_count": null,
      "metadata": {
        "colab": {
          "base_uri": "https://localhost:8080/"
        },
        "id": "h0XHn-iVvL3L",
        "outputId": "e577addb-d2fa-439b-a0f5-0ebaac2a6d88"
      },
      "outputs": [
        {
          "output_type": "stream",
          "name": "stdout",
          "text": [
            "fatal: destination path 'yolov5' already exists and is not an empty directory.\n",
            "mv: cannot stat 'yolov5/*': No such file or directory\n"
          ]
        }
      ],
      "source": [
        "!git clone https://github.com/ultralytics/yolov5\n",
        "!mv yolov5/* ./"
      ]
    },
    {
      "cell_type": "code",
      "execution_count": null,
      "metadata": {
        "colab": {
          "base_uri": "https://localhost:8080/"
        },
        "id": "TnrjoOF2vN9j",
        "outputId": "19a3f056-4485-4fc5-efe1-cd94e00b5006"
      },
      "outputs": [
        {
          "output_type": "stream",
          "name": "stdout",
          "text": [
            "Looking in indexes: https://pypi.org/simple, https://us-python.pkg.dev/colab-wheels/public/simple/\n",
            "Requirement already satisfied: gitpython in /usr/local/lib/python3.8/dist-packages (from -r requirements.txt (line 5)) (3.1.30)\n",
            "Requirement already satisfied: ipython in /usr/local/lib/python3.8/dist-packages (from -r requirements.txt (line 6)) (7.9.0)\n",
            "Requirement already satisfied: matplotlib>=3.2.2 in /usr/local/lib/python3.8/dist-packages (from -r requirements.txt (line 7)) (3.2.2)\n",
            "Requirement already satisfied: numpy>=1.18.5 in /usr/local/lib/python3.8/dist-packages (from -r requirements.txt (line 8)) (1.21.6)\n",
            "Requirement already satisfied: opencv-python>=4.1.1 in /usr/local/lib/python3.8/dist-packages (from -r requirements.txt (line 9)) (4.6.0.66)\n",
            "Requirement already satisfied: Pillow>=7.1.2 in /usr/local/lib/python3.8/dist-packages (from -r requirements.txt (line 10)) (7.1.2)\n",
            "Requirement already satisfied: psutil in /usr/local/lib/python3.8/dist-packages (from -r requirements.txt (line 11)) (5.4.8)\n",
            "Requirement already satisfied: PyYAML>=5.3.1 in /usr/local/lib/python3.8/dist-packages (from -r requirements.txt (line 12)) (6.0)\n",
            "Requirement already satisfied: requests>=2.23.0 in /usr/local/lib/python3.8/dist-packages (from -r requirements.txt (line 13)) (2.25.1)\n",
            "Requirement already satisfied: scipy>=1.4.1 in /usr/local/lib/python3.8/dist-packages (from -r requirements.txt (line 14)) (1.7.3)\n",
            "Requirement already satisfied: thop>=0.1.1 in /usr/local/lib/python3.8/dist-packages (from -r requirements.txt (line 15)) (0.1.1.post2209072238)\n",
            "Requirement already satisfied: torch>=1.7.0 in /usr/local/lib/python3.8/dist-packages (from -r requirements.txt (line 16)) (1.13.0+cu116)\n",
            "Requirement already satisfied: torchvision>=0.8.1 in /usr/local/lib/python3.8/dist-packages (from -r requirements.txt (line 17)) (0.14.0+cu116)\n",
            "Requirement already satisfied: tqdm>=4.64.0 in /usr/local/lib/python3.8/dist-packages (from -r requirements.txt (line 18)) (4.64.1)\n",
            "Requirement already satisfied: tensorboard>=2.4.1 in /usr/local/lib/python3.8/dist-packages (from -r requirements.txt (line 22)) (2.9.1)\n",
            "Requirement already satisfied: pandas>=1.1.4 in /usr/local/lib/python3.8/dist-packages (from -r requirements.txt (line 27)) (1.3.5)\n",
            "Requirement already satisfied: seaborn>=0.11.0 in /usr/local/lib/python3.8/dist-packages (from -r requirements.txt (line 28)) (0.11.2)\n",
            "Requirement already satisfied: gitdb<5,>=4.0.1 in /usr/local/lib/python3.8/dist-packages (from gitpython->-r requirements.txt (line 5)) (4.0.10)\n",
            "Requirement already satisfied: decorator in /usr/local/lib/python3.8/dist-packages (from ipython->-r requirements.txt (line 6)) (4.4.2)\n",
            "Requirement already satisfied: pickleshare in /usr/local/lib/python3.8/dist-packages (from ipython->-r requirements.txt (line 6)) (0.7.5)\n",
            "Requirement already satisfied: prompt-toolkit<2.1.0,>=2.0.0 in /usr/local/lib/python3.8/dist-packages (from ipython->-r requirements.txt (line 6)) (2.0.10)\n",
            "Requirement already satisfied: jedi>=0.10 in /usr/local/lib/python3.8/dist-packages (from ipython->-r requirements.txt (line 6)) (0.18.2)\n",
            "Requirement already satisfied: backcall in /usr/local/lib/python3.8/dist-packages (from ipython->-r requirements.txt (line 6)) (0.2.0)\n",
            "Requirement already satisfied: setuptools>=18.5 in /usr/local/lib/python3.8/dist-packages (from ipython->-r requirements.txt (line 6)) (57.4.0)\n",
            "Requirement already satisfied: pygments in /usr/local/lib/python3.8/dist-packages (from ipython->-r requirements.txt (line 6)) (2.6.1)\n",
            "Requirement already satisfied: pexpect in /usr/local/lib/python3.8/dist-packages (from ipython->-r requirements.txt (line 6)) (4.8.0)\n",
            "Requirement already satisfied: traitlets>=4.2 in /usr/local/lib/python3.8/dist-packages (from ipython->-r requirements.txt (line 6)) (5.7.1)\n",
            "Requirement already satisfied: kiwisolver>=1.0.1 in /usr/local/lib/python3.8/dist-packages (from matplotlib>=3.2.2->-r requirements.txt (line 7)) (1.4.4)\n",
            "Requirement already satisfied: pyparsing!=2.0.4,!=2.1.2,!=2.1.6,>=2.0.1 in /usr/local/lib/python3.8/dist-packages (from matplotlib>=3.2.2->-r requirements.txt (line 7)) (3.0.9)\n",
            "Requirement already satisfied: cycler>=0.10 in /usr/local/lib/python3.8/dist-packages (from matplotlib>=3.2.2->-r requirements.txt (line 7)) (0.11.0)\n",
            "Requirement already satisfied: python-dateutil>=2.1 in /usr/local/lib/python3.8/dist-packages (from matplotlib>=3.2.2->-r requirements.txt (line 7)) (2.8.2)\n",
            "Requirement already satisfied: urllib3<1.27,>=1.21.1 in /usr/local/lib/python3.8/dist-packages (from requests>=2.23.0->-r requirements.txt (line 13)) (1.24.3)\n",
            "Requirement already satisfied: idna<3,>=2.5 in /usr/local/lib/python3.8/dist-packages (from requests>=2.23.0->-r requirements.txt (line 13)) (2.10)\n",
            "Requirement already satisfied: chardet<5,>=3.0.2 in /usr/local/lib/python3.8/dist-packages (from requests>=2.23.0->-r requirements.txt (line 13)) (4.0.0)\n",
            "Requirement already satisfied: certifi>=2017.4.17 in /usr/local/lib/python3.8/dist-packages (from requests>=2.23.0->-r requirements.txt (line 13)) (2022.12.7)\n",
            "Requirement already satisfied: typing-extensions in /usr/local/lib/python3.8/dist-packages (from torch>=1.7.0->-r requirements.txt (line 16)) (4.4.0)\n",
            "Requirement already satisfied: protobuf<3.20,>=3.9.2 in /usr/local/lib/python3.8/dist-packages (from tensorboard>=2.4.1->-r requirements.txt (line 22)) (3.19.6)\n",
            "Requirement already satisfied: werkzeug>=1.0.1 in /usr/local/lib/python3.8/dist-packages (from tensorboard>=2.4.1->-r requirements.txt (line 22)) (1.0.1)\n",
            "Requirement already satisfied: wheel>=0.26 in /usr/local/lib/python3.8/dist-packages (from tensorboard>=2.4.1->-r requirements.txt (line 22)) (0.38.4)\n",
            "Requirement already satisfied: tensorboard-data-server<0.7.0,>=0.6.0 in /usr/local/lib/python3.8/dist-packages (from tensorboard>=2.4.1->-r requirements.txt (line 22)) (0.6.1)\n",
            "Requirement already satisfied: google-auth<3,>=1.6.3 in /usr/local/lib/python3.8/dist-packages (from tensorboard>=2.4.1->-r requirements.txt (line 22)) (2.15.0)\n",
            "Requirement already satisfied: google-auth-oauthlib<0.5,>=0.4.1 in /usr/local/lib/python3.8/dist-packages (from tensorboard>=2.4.1->-r requirements.txt (line 22)) (0.4.6)\n",
            "Requirement already satisfied: absl-py>=0.4 in /usr/local/lib/python3.8/dist-packages (from tensorboard>=2.4.1->-r requirements.txt (line 22)) (1.3.0)\n",
            "Requirement already satisfied: tensorboard-plugin-wit>=1.6.0 in /usr/local/lib/python3.8/dist-packages (from tensorboard>=2.4.1->-r requirements.txt (line 22)) (1.8.1)\n",
            "Requirement already satisfied: markdown>=2.6.8 in /usr/local/lib/python3.8/dist-packages (from tensorboard>=2.4.1->-r requirements.txt (line 22)) (3.4.1)\n",
            "Requirement already satisfied: grpcio>=1.24.3 in /usr/local/lib/python3.8/dist-packages (from tensorboard>=2.4.1->-r requirements.txt (line 22)) (1.51.1)\n",
            "Requirement already satisfied: pytz>=2017.3 in /usr/local/lib/python3.8/dist-packages (from pandas>=1.1.4->-r requirements.txt (line 27)) (2022.7)\n",
            "Requirement already satisfied: smmap<6,>=3.0.1 in /usr/local/lib/python3.8/dist-packages (from gitdb<5,>=4.0.1->gitpython->-r requirements.txt (line 5)) (5.0.0)\n",
            "Requirement already satisfied: pyasn1-modules>=0.2.1 in /usr/local/lib/python3.8/dist-packages (from google-auth<3,>=1.6.3->tensorboard>=2.4.1->-r requirements.txt (line 22)) (0.2.8)\n",
            "Requirement already satisfied: six>=1.9.0 in /usr/local/lib/python3.8/dist-packages (from google-auth<3,>=1.6.3->tensorboard>=2.4.1->-r requirements.txt (line 22)) (1.15.0)\n",
            "Requirement already satisfied: cachetools<6.0,>=2.0.0 in /usr/local/lib/python3.8/dist-packages (from google-auth<3,>=1.6.3->tensorboard>=2.4.1->-r requirements.txt (line 22)) (5.2.0)\n",
            "Requirement already satisfied: rsa<5,>=3.1.4 in /usr/local/lib/python3.8/dist-packages (from google-auth<3,>=1.6.3->tensorboard>=2.4.1->-r requirements.txt (line 22)) (4.9)\n",
            "Requirement already satisfied: requests-oauthlib>=0.7.0 in /usr/local/lib/python3.8/dist-packages (from google-auth-oauthlib<0.5,>=0.4.1->tensorboard>=2.4.1->-r requirements.txt (line 22)) (1.3.1)\n",
            "Requirement already satisfied: parso<0.9.0,>=0.8.0 in /usr/local/lib/python3.8/dist-packages (from jedi>=0.10->ipython->-r requirements.txt (line 6)) (0.8.3)\n",
            "Requirement already satisfied: importlib-metadata>=4.4 in /usr/local/lib/python3.8/dist-packages (from markdown>=2.6.8->tensorboard>=2.4.1->-r requirements.txt (line 22)) (6.0.0)\n",
            "Requirement already satisfied: wcwidth in /usr/local/lib/python3.8/dist-packages (from prompt-toolkit<2.1.0,>=2.0.0->ipython->-r requirements.txt (line 6)) (0.2.5)\n",
            "Requirement already satisfied: ptyprocess>=0.5 in /usr/local/lib/python3.8/dist-packages (from pexpect->ipython->-r requirements.txt (line 6)) (0.7.0)\n",
            "Requirement already satisfied: zipp>=0.5 in /usr/local/lib/python3.8/dist-packages (from importlib-metadata>=4.4->markdown>=2.6.8->tensorboard>=2.4.1->-r requirements.txt (line 22)) (3.11.0)\n",
            "Requirement already satisfied: pyasn1<0.5.0,>=0.4.6 in /usr/local/lib/python3.8/dist-packages (from pyasn1-modules>=0.2.1->google-auth<3,>=1.6.3->tensorboard>=2.4.1->-r requirements.txt (line 22)) (0.4.8)\n",
            "Requirement already satisfied: oauthlib>=3.0.0 in /usr/local/lib/python3.8/dist-packages (from requests-oauthlib>=0.7.0->google-auth-oauthlib<0.5,>=0.4.1->tensorboard>=2.4.1->-r requirements.txt (line 22)) (3.2.2)\n"
          ]
        }
      ],
      "source": [
        "!pip install -r requirements.txt"
      ]
    },
    {
      "cell_type": "code",
      "source": [
        "from google.colab import drive\n",
        "drive.mount('/content/drive')"
      ],
      "metadata": {
        "colab": {
          "base_uri": "https://localhost:8080/"
        },
        "id": "lg9_5pdu4ssQ",
        "outputId": "b2d6933a-892c-42b7-c7c3-3d4c2d6683be"
      },
      "execution_count": null,
      "outputs": [
        {
          "output_type": "stream",
          "name": "stdout",
          "text": [
            "Mounted at /content/drive\n"
          ]
        }
      ]
    },
    {
      "cell_type": "code",
      "source": [
        "mkdir fulltrain"
      ],
      "metadata": {
        "colab": {
          "base_uri": "https://localhost:8080/"
        },
        "id": "zctz-PfP5EgR",
        "outputId": "fa410023-4283-4aca-8867-b5cb62833409"
      },
      "execution_count": null,
      "outputs": [
        {
          "output_type": "stream",
          "name": "stdout",
          "text": [
            "mkdir: cannot create directory ‘fulltrain’: File exists\n"
          ]
        }
      ]
    },
    {
      "cell_type": "code",
      "source": [
        "mkdir fulltrain/dataset"
      ],
      "metadata": {
        "colab": {
          "base_uri": "https://localhost:8080/"
        },
        "id": "PIR0zuw25Gz7",
        "outputId": "d700766f-22ac-4bdd-e4de-f77ca309999b"
      },
      "execution_count": null,
      "outputs": [
        {
          "output_type": "stream",
          "name": "stdout",
          "text": [
            "mkdir: cannot create directory ‘fulltrain/dataset’: File exists\n"
          ]
        }
      ]
    },
    {
      "cell_type": "code",
      "execution_count": null,
      "metadata": {
        "id": "hg77rV13vKLX"
      },
      "outputs": [],
      "source": [
        "!unzip /content/drive/MyDrive/SDAIA/images2.zip -d fulltrain/dataset/images2"
      ]
    },
    {
      "cell_type": "code",
      "execution_count": null,
      "metadata": {
        "id": "rDZzD60UvAu-"
      },
      "outputs": [],
      "source": [
        "import torch\n",
        "from matplotlib import pyplot as plt\n",
        "import pandas as pd\n",
        "import numpy as np\n",
        "import os\n",
        "import cv2"
      ]
    },
    {
      "cell_type": "markdown",
      "metadata": {
        "id": "GZnYhD2EvAvB"
      },
      "source": [
        "## getting image shapes"
      ]
    },
    {
      "cell_type": "code",
      "execution_count": null,
      "metadata": {
        "id": "F66usd3qvAvD"
      },
      "outputs": [],
      "source": [
        "heights = []\n",
        "widths = []\n",
        "\n",
        "for i in os.listdir('./dataset/images/'):\n",
        "    sh  = cv2.imread(f\"./dataset/images/{i}\").shape\n",
        "    if sh[0] not in heights:\n",
        "        heights.append(sh[0])\n",
        "    if sh[1] not in widths:\n",
        "        widths.append(sh[1])\n",
        "\n",
        "print(len(heights),heights)\n",
        "print(len(widths),widths)"
      ]
    },
    {
      "cell_type": "markdown",
      "metadata": {
        "id": "oUCYA4YevAvE"
      },
      "source": [
        "* all images have the same shape"
      ]
    },
    {
      "cell_type": "markdown",
      "metadata": {
        "id": "0GWfZAJmvAvF"
      },
      "source": [
        "## resizing images"
      ]
    },
    {
      "cell_type": "code",
      "execution_count": null,
      "metadata": {
        "id": "KHtZvxICvAvF"
      },
      "outputs": [],
      "source": [
        "df = pd.read_csv('./fulltrain/dataset/train.csv')\n",
        "df.head()"
      ]
    },
    {
      "cell_type": "code",
      "execution_count": null,
      "metadata": {
        "id": "jc3ljJaYvAvG"
      },
      "outputs": [],
      "source": [
        "img = cv2.imread(f'./dataset/images/{df.iloc[0][\"image_path\"]}')\n",
        "cv2.rectangle(img,(int(df.iloc[0]['xmin']*2),int(df.iloc[0]['ymin']*2)),(int(df.iloc[0]['xmax']*2),int(df.iloc[0]['ymax']*2)), (0,0,0), 2)\n",
        "cv2.rectangle(img,(int(df.iloc[1]['xmin']*2),int(df.iloc[1]['ymin']*2)),(int(df.iloc[1]['xmax']*2),int(df.iloc[1]['ymax']*2)), (0,0,0), 2)\n",
        "cv2.rectangle(img,(int(df.iloc[2]['xmin']*2),int(df.iloc[2]['ymin']*2)),(int(df.iloc[2]['xmax']*2),int(df.iloc[2]['ymax']*2)), (0,0,0), 2)\n",
        "plt.imshow(img)\n",
        "print(img.shape)\n",
        "ky = 640/1080\n",
        "kx = 640/1920\n",
        "img2 = cv2.resize(img, (640,640))\n",
        "\n",
        "cv2.rectangle(img2,(int(df.iloc[0]['xmin']*2*kx),int(df.iloc[0]['ymin']*2*ky)),(int(df.iloc[0]['xmax']*2*kx),int(df.iloc[0]['ymax']*2*ky)), (0,0,0), 2)\n",
        "cv2.rectangle(img2,(int(df.iloc[1]['xmin']*2*kx),int(df.iloc[1]['ymin']*2*ky)),(int(df.iloc[1]['xmax']*2*kx),int(df.iloc[1]['ymax']*2*ky)), (0,0,0), 2)\n",
        "cv2.rectangle(img2,(int(df.iloc[2]['xmin']*2*kx),int(df.iloc[2]['ymin']*2*ky)),(int(df.iloc[2]['xmax']*2*kx),int(df.iloc[2]['ymax']*2*ky)), (0,0,0), 2)\n",
        "plt.imshow(img2)"
      ]
    },
    {
      "cell_type": "code",
      "execution_count": null,
      "metadata": {
        "id": "g-FB1NKcvAvH"
      },
      "outputs": [],
      "source": [
        "def resize_image(path,xmin,ymin,xmax,ymax):\n",
        "    img = cv2.imread(f'./fulltrain/dataset/images/{path}')\n",
        "    ky = 640/1080\n",
        "    kx = 640/1920\n",
        "    img2 = cv2.resize(img, (640,640))\n",
        "    cv2.imwrite(f\"./fulltrain/dataset/images2/{path}\",img2)\n",
        "    return xmin*kx*2,ymin*ky*2,xmax*kx*2,ymax*ky*2\n"
      ]
    },
    {
      "cell_type": "code",
      "execution_count": null,
      "metadata": {
        "id": "gVf6x1MFvAvI"
      },
      "outputs": [],
      "source": [
        "imgs = []\n",
        "xmins = []\n",
        "ymins = []\n",
        "xmaxs = []\n",
        "ymaxs = []\n",
        "classes = []\n",
        "test_imgs = []\n",
        "images = os.listdir('./fulltrain/dataset/images/')\n",
        "for i in range(len(images)):\n",
        "    im = df[df['image_path'] == images[i]]\n",
        "    if len(im)>0:\n",
        "        for j in range(len(im)):\n",
        "            xmin,ymin,xmax,ymax = resize_image(im.iloc[j]['image_path'],im.iloc[j]['xmin'],im.iloc[j]['ymin'],im.iloc[j]['xmax'],im.iloc[j]['ymax'])\n",
        "            xmins.append(xmin)\n",
        "            xmaxs.append(xmax)\n",
        "            ymins.append(ymin)\n",
        "            ymaxs.append(ymax)\n",
        "            imgs.append(im.iloc[j]['image_path'])\n",
        "            classes.append(im.iloc[j]['class'])\n",
        "    else:\n",
        "        test_imgs.append(images[i])"
      ]
    },
    {
      "cell_type": "code",
      "execution_count": null,
      "metadata": {
        "id": "DFD88s44vAvJ"
      },
      "outputs": [],
      "source": [
        "test_df = pd.read_csv('./fulltrain/dataset/test.csv')['image_path']\n",
        "set(test_df).difference(set(test_imgs))"
      ]
    },
    {
      "cell_type": "code",
      "execution_count": null,
      "metadata": {
        "id": "6VA_xGzlvAvJ"
      },
      "outputs": [],
      "source": [
        "df2 = pd.DataFrame({'class':classes,'image_path':imgs,'xmin':xmins,'ymin':ymins,'xmax':xmaxs,'ymax':ymaxs})"
      ]
    },
    {
      "cell_type": "code",
      "execution_count": null,
      "metadata": {
        "id": "kht4XgNDvAvK"
      },
      "outputs": [],
      "source": [
        "df2['class'].value_counts()"
      ]
    },
    {
      "cell_type": "code",
      "execution_count": null,
      "metadata": {
        "id": "MQh2DS7hvAvK"
      },
      "outputs": [],
      "source": [
        "df2.to_csv('./fulltrain/dataset/train2.csv')"
      ]
    },
    {
      "cell_type": "markdown",
      "metadata": {
        "id": "WQ-wYGXyvAvK"
      },
      "source": [
        "## augmentation"
      ]
    },
    {
      "cell_type": "code",
      "execution_count": null,
      "metadata": {
        "id": "zusflwoz06FZ"
      },
      "outputs": [],
      "source": [
        "del imgs,xmins,ymins,xmaxs,ymaxs,classes,test_imgs,df2"
      ]
    },
    {
      "cell_type": "markdown",
      "metadata": {
        "id": "61HDoe6hvAvL"
      },
      "source": [
        "## pascal to yolo"
      ]
    },
    {
      "cell_type": "code",
      "execution_count": null,
      "metadata": {
        "id": "_wZgnZm3vAvL"
      },
      "outputs": [],
      "source": [
        "df = pd.read_csv('/content/drive/MyDrive/SDAIA/train2.csv')\n",
        "img_width = 640\n",
        "img_height =  640\n",
        "df['x_center'] = (df['xmin'] + df['xmax']) / (2*img_width)\n",
        "df['y_center'] = (df['ymin'] + df['ymax']) / (2*img_height)\n",
        "df['width'] = (df['xmax'] - df['xmin']) / (2*img_width)\n",
        "df['height'] = (df['ymax'] - df['ymin']) / (2*img_height)"
      ]
    },
    {
      "cell_type": "code",
      "source": [
        "df =df[['image_path','x_center','y_center','width','height','class']]"
      ],
      "metadata": {
        "id": "fSetu-duqZpt"
      },
      "execution_count": null,
      "outputs": []
    },
    {
      "cell_type": "code",
      "execution_count": null,
      "metadata": {
        "colab": {
          "base_uri": "https://localhost:8080/",
          "height": 206
        },
        "id": "EwYY67XYvAvL",
        "outputId": "6e9b4426-7e56-4280-ef6f-51e7d27bb105"
      },
      "outputs": [
        {
          "output_type": "execute_result",
          "data": {
            "text/plain": [
              "                             image_path  x_center  y_center     width  \\\n",
              "0  dbc81b50db7a67e60f7ed517ff5ac88d.jpg  0.078125  0.403841  0.041319   \n",
              "1  dbc81b50db7a67e60f7ed517ff5ac88d.jpg  0.029514  0.411523  0.025347   \n",
              "2  499f60c6f967c7a8961a2ec34cb03f72.jpg  0.125347  0.539918  0.028819   \n",
              "3  499f60c6f967c7a8961a2ec34cb03f72.jpg  0.024653  0.603567  0.028125   \n",
              "4  d8f7ca47e6629ab30c6dffd908187f2d.jpg  0.563194  0.121811  0.058333   \n",
              "\n",
              "     height  class  \n",
              "0  0.089986    7.0  \n",
              "1  0.073525    7.0  \n",
              "2  0.063649    3.0  \n",
              "3  0.070233    3.0  \n",
              "4  0.124005    7.0  "
            ],
            "text/html": [
              "\n",
              "  <div id=\"df-b535c317-4c6e-412b-bc85-f9830df71500\">\n",
              "    <div class=\"colab-df-container\">\n",
              "      <div>\n",
              "<style scoped>\n",
              "    .dataframe tbody tr th:only-of-type {\n",
              "        vertical-align: middle;\n",
              "    }\n",
              "\n",
              "    .dataframe tbody tr th {\n",
              "        vertical-align: top;\n",
              "    }\n",
              "\n",
              "    .dataframe thead th {\n",
              "        text-align: right;\n",
              "    }\n",
              "</style>\n",
              "<table border=\"1\" class=\"dataframe\">\n",
              "  <thead>\n",
              "    <tr style=\"text-align: right;\">\n",
              "      <th></th>\n",
              "      <th>image_path</th>\n",
              "      <th>x_center</th>\n",
              "      <th>y_center</th>\n",
              "      <th>width</th>\n",
              "      <th>height</th>\n",
              "      <th>class</th>\n",
              "    </tr>\n",
              "  </thead>\n",
              "  <tbody>\n",
              "    <tr>\n",
              "      <th>0</th>\n",
              "      <td>dbc81b50db7a67e60f7ed517ff5ac88d.jpg</td>\n",
              "      <td>0.078125</td>\n",
              "      <td>0.403841</td>\n",
              "      <td>0.041319</td>\n",
              "      <td>0.089986</td>\n",
              "      <td>7.0</td>\n",
              "    </tr>\n",
              "    <tr>\n",
              "      <th>1</th>\n",
              "      <td>dbc81b50db7a67e60f7ed517ff5ac88d.jpg</td>\n",
              "      <td>0.029514</td>\n",
              "      <td>0.411523</td>\n",
              "      <td>0.025347</td>\n",
              "      <td>0.073525</td>\n",
              "      <td>7.0</td>\n",
              "    </tr>\n",
              "    <tr>\n",
              "      <th>2</th>\n",
              "      <td>499f60c6f967c7a8961a2ec34cb03f72.jpg</td>\n",
              "      <td>0.125347</td>\n",
              "      <td>0.539918</td>\n",
              "      <td>0.028819</td>\n",
              "      <td>0.063649</td>\n",
              "      <td>3.0</td>\n",
              "    </tr>\n",
              "    <tr>\n",
              "      <th>3</th>\n",
              "      <td>499f60c6f967c7a8961a2ec34cb03f72.jpg</td>\n",
              "      <td>0.024653</td>\n",
              "      <td>0.603567</td>\n",
              "      <td>0.028125</td>\n",
              "      <td>0.070233</td>\n",
              "      <td>3.0</td>\n",
              "    </tr>\n",
              "    <tr>\n",
              "      <th>4</th>\n",
              "      <td>d8f7ca47e6629ab30c6dffd908187f2d.jpg</td>\n",
              "      <td>0.563194</td>\n",
              "      <td>0.121811</td>\n",
              "      <td>0.058333</td>\n",
              "      <td>0.124005</td>\n",
              "      <td>7.0</td>\n",
              "    </tr>\n",
              "  </tbody>\n",
              "</table>\n",
              "</div>\n",
              "      <button class=\"colab-df-convert\" onclick=\"convertToInteractive('df-b535c317-4c6e-412b-bc85-f9830df71500')\"\n",
              "              title=\"Convert this dataframe to an interactive table.\"\n",
              "              style=\"display:none;\">\n",
              "        \n",
              "  <svg xmlns=\"http://www.w3.org/2000/svg\" height=\"24px\"viewBox=\"0 0 24 24\"\n",
              "       width=\"24px\">\n",
              "    <path d=\"M0 0h24v24H0V0z\" fill=\"none\"/>\n",
              "    <path d=\"M18.56 5.44l.94 2.06.94-2.06 2.06-.94-2.06-.94-.94-2.06-.94 2.06-2.06.94zm-11 1L8.5 8.5l.94-2.06 2.06-.94-2.06-.94L8.5 2.5l-.94 2.06-2.06.94zm10 10l.94 2.06.94-2.06 2.06-.94-2.06-.94-.94-2.06-.94 2.06-2.06.94z\"/><path d=\"M17.41 7.96l-1.37-1.37c-.4-.4-.92-.59-1.43-.59-.52 0-1.04.2-1.43.59L10.3 9.45l-7.72 7.72c-.78.78-.78 2.05 0 2.83L4 21.41c.39.39.9.59 1.41.59.51 0 1.02-.2 1.41-.59l7.78-7.78 2.81-2.81c.8-.78.8-2.07 0-2.86zM5.41 20L4 18.59l7.72-7.72 1.47 1.35L5.41 20z\"/>\n",
              "  </svg>\n",
              "      </button>\n",
              "      \n",
              "  <style>\n",
              "    .colab-df-container {\n",
              "      display:flex;\n",
              "      flex-wrap:wrap;\n",
              "      gap: 12px;\n",
              "    }\n",
              "\n",
              "    .colab-df-convert {\n",
              "      background-color: #E8F0FE;\n",
              "      border: none;\n",
              "      border-radius: 50%;\n",
              "      cursor: pointer;\n",
              "      display: none;\n",
              "      fill: #1967D2;\n",
              "      height: 32px;\n",
              "      padding: 0 0 0 0;\n",
              "      width: 32px;\n",
              "    }\n",
              "\n",
              "    .colab-df-convert:hover {\n",
              "      background-color: #E2EBFA;\n",
              "      box-shadow: 0px 1px 2px rgba(60, 64, 67, 0.3), 0px 1px 3px 1px rgba(60, 64, 67, 0.15);\n",
              "      fill: #174EA6;\n",
              "    }\n",
              "\n",
              "    [theme=dark] .colab-df-convert {\n",
              "      background-color: #3B4455;\n",
              "      fill: #D2E3FC;\n",
              "    }\n",
              "\n",
              "    [theme=dark] .colab-df-convert:hover {\n",
              "      background-color: #434B5C;\n",
              "      box-shadow: 0px 1px 3px 1px rgba(0, 0, 0, 0.15);\n",
              "      filter: drop-shadow(0px 1px 2px rgba(0, 0, 0, 0.3));\n",
              "      fill: #FFFFFF;\n",
              "    }\n",
              "  </style>\n",
              "\n",
              "      <script>\n",
              "        const buttonEl =\n",
              "          document.querySelector('#df-b535c317-4c6e-412b-bc85-f9830df71500 button.colab-df-convert');\n",
              "        buttonEl.style.display =\n",
              "          google.colab.kernel.accessAllowed ? 'block' : 'none';\n",
              "\n",
              "        async function convertToInteractive(key) {\n",
              "          const element = document.querySelector('#df-b535c317-4c6e-412b-bc85-f9830df71500');\n",
              "          const dataTable =\n",
              "            await google.colab.kernel.invokeFunction('convertToInteractive',\n",
              "                                                     [key], {});\n",
              "          if (!dataTable) return;\n",
              "\n",
              "          const docLinkHtml = 'Like what you see? Visit the ' +\n",
              "            '<a target=\"_blank\" href=https://colab.research.google.com/notebooks/data_table.ipynb>data table notebook</a>'\n",
              "            + ' to learn more about interactive tables.';\n",
              "          element.innerHTML = '';\n",
              "          dataTable['output_type'] = 'display_data';\n",
              "          await google.colab.output.renderOutput(dataTable, element);\n",
              "          const docLink = document.createElement('div');\n",
              "          docLink.innerHTML = docLinkHtml;\n",
              "          element.appendChild(docLink);\n",
              "        }\n",
              "      </script>\n",
              "    </div>\n",
              "  </div>\n",
              "  "
            ]
          },
          "metadata": {},
          "execution_count": 47
        }
      ],
      "source": [
        "df.head()"
      ]
    },
    {
      "cell_type": "code",
      "source": [
        "df.describe()"
      ],
      "metadata": {
        "colab": {
          "base_uri": "https://localhost:8080/",
          "height": 300
        },
        "id": "-XVpWimkoGiE",
        "outputId": "e4d2f032-ec64-4986-cdf9-0278fd3d559a"
      },
      "execution_count": null,
      "outputs": [
        {
          "output_type": "execute_result",
          "data": {
            "text/plain": [
              "           x_center      y_center         width        height         class\n",
              "count  19950.000000  19950.000000  19950.000000  19950.000000  19950.000000\n",
              "mean       0.324733      0.565945      0.073054      0.123663      4.055388\n",
              "std        0.172769      0.187616      0.062048      0.086871      2.502491\n",
              "min        0.007639      0.016461      0.000694      0.001097      0.000000\n",
              "25%        0.172917      0.441152      0.031597      0.068038      3.000000\n",
              "50%        0.322222      0.542112      0.050000      0.096571      3.000000\n",
              "75%        0.473611      0.678189      0.090972      0.150343      4.000000\n",
              "max        0.658333      1.150069      0.609722      0.813169     10.000000"
            ],
            "text/html": [
              "\n",
              "  <div id=\"df-ac414075-30ba-4d9e-b87a-7d8b7a25e0bf\">\n",
              "    <div class=\"colab-df-container\">\n",
              "      <div>\n",
              "<style scoped>\n",
              "    .dataframe tbody tr th:only-of-type {\n",
              "        vertical-align: middle;\n",
              "    }\n",
              "\n",
              "    .dataframe tbody tr th {\n",
              "        vertical-align: top;\n",
              "    }\n",
              "\n",
              "    .dataframe thead th {\n",
              "        text-align: right;\n",
              "    }\n",
              "</style>\n",
              "<table border=\"1\" class=\"dataframe\">\n",
              "  <thead>\n",
              "    <tr style=\"text-align: right;\">\n",
              "      <th></th>\n",
              "      <th>x_center</th>\n",
              "      <th>y_center</th>\n",
              "      <th>width</th>\n",
              "      <th>height</th>\n",
              "      <th>class</th>\n",
              "    </tr>\n",
              "  </thead>\n",
              "  <tbody>\n",
              "    <tr>\n",
              "      <th>count</th>\n",
              "      <td>19950.000000</td>\n",
              "      <td>19950.000000</td>\n",
              "      <td>19950.000000</td>\n",
              "      <td>19950.000000</td>\n",
              "      <td>19950.000000</td>\n",
              "    </tr>\n",
              "    <tr>\n",
              "      <th>mean</th>\n",
              "      <td>0.324733</td>\n",
              "      <td>0.565945</td>\n",
              "      <td>0.073054</td>\n",
              "      <td>0.123663</td>\n",
              "      <td>4.055388</td>\n",
              "    </tr>\n",
              "    <tr>\n",
              "      <th>std</th>\n",
              "      <td>0.172769</td>\n",
              "      <td>0.187616</td>\n",
              "      <td>0.062048</td>\n",
              "      <td>0.086871</td>\n",
              "      <td>2.502491</td>\n",
              "    </tr>\n",
              "    <tr>\n",
              "      <th>min</th>\n",
              "      <td>0.007639</td>\n",
              "      <td>0.016461</td>\n",
              "      <td>0.000694</td>\n",
              "      <td>0.001097</td>\n",
              "      <td>0.000000</td>\n",
              "    </tr>\n",
              "    <tr>\n",
              "      <th>25%</th>\n",
              "      <td>0.172917</td>\n",
              "      <td>0.441152</td>\n",
              "      <td>0.031597</td>\n",
              "      <td>0.068038</td>\n",
              "      <td>3.000000</td>\n",
              "    </tr>\n",
              "    <tr>\n",
              "      <th>50%</th>\n",
              "      <td>0.322222</td>\n",
              "      <td>0.542112</td>\n",
              "      <td>0.050000</td>\n",
              "      <td>0.096571</td>\n",
              "      <td>3.000000</td>\n",
              "    </tr>\n",
              "    <tr>\n",
              "      <th>75%</th>\n",
              "      <td>0.473611</td>\n",
              "      <td>0.678189</td>\n",
              "      <td>0.090972</td>\n",
              "      <td>0.150343</td>\n",
              "      <td>4.000000</td>\n",
              "    </tr>\n",
              "    <tr>\n",
              "      <th>max</th>\n",
              "      <td>0.658333</td>\n",
              "      <td>1.150069</td>\n",
              "      <td>0.609722</td>\n",
              "      <td>0.813169</td>\n",
              "      <td>10.000000</td>\n",
              "    </tr>\n",
              "  </tbody>\n",
              "</table>\n",
              "</div>\n",
              "      <button class=\"colab-df-convert\" onclick=\"convertToInteractive('df-ac414075-30ba-4d9e-b87a-7d8b7a25e0bf')\"\n",
              "              title=\"Convert this dataframe to an interactive table.\"\n",
              "              style=\"display:none;\">\n",
              "        \n",
              "  <svg xmlns=\"http://www.w3.org/2000/svg\" height=\"24px\"viewBox=\"0 0 24 24\"\n",
              "       width=\"24px\">\n",
              "    <path d=\"M0 0h24v24H0V0z\" fill=\"none\"/>\n",
              "    <path d=\"M18.56 5.44l.94 2.06.94-2.06 2.06-.94-2.06-.94-.94-2.06-.94 2.06-2.06.94zm-11 1L8.5 8.5l.94-2.06 2.06-.94-2.06-.94L8.5 2.5l-.94 2.06-2.06.94zm10 10l.94 2.06.94-2.06 2.06-.94-2.06-.94-.94-2.06-.94 2.06-2.06.94z\"/><path d=\"M17.41 7.96l-1.37-1.37c-.4-.4-.92-.59-1.43-.59-.52 0-1.04.2-1.43.59L10.3 9.45l-7.72 7.72c-.78.78-.78 2.05 0 2.83L4 21.41c.39.39.9.59 1.41.59.51 0 1.02-.2 1.41-.59l7.78-7.78 2.81-2.81c.8-.78.8-2.07 0-2.86zM5.41 20L4 18.59l7.72-7.72 1.47 1.35L5.41 20z\"/>\n",
              "  </svg>\n",
              "      </button>\n",
              "      \n",
              "  <style>\n",
              "    .colab-df-container {\n",
              "      display:flex;\n",
              "      flex-wrap:wrap;\n",
              "      gap: 12px;\n",
              "    }\n",
              "\n",
              "    .colab-df-convert {\n",
              "      background-color: #E8F0FE;\n",
              "      border: none;\n",
              "      border-radius: 50%;\n",
              "      cursor: pointer;\n",
              "      display: none;\n",
              "      fill: #1967D2;\n",
              "      height: 32px;\n",
              "      padding: 0 0 0 0;\n",
              "      width: 32px;\n",
              "    }\n",
              "\n",
              "    .colab-df-convert:hover {\n",
              "      background-color: #E2EBFA;\n",
              "      box-shadow: 0px 1px 2px rgba(60, 64, 67, 0.3), 0px 1px 3px 1px rgba(60, 64, 67, 0.15);\n",
              "      fill: #174EA6;\n",
              "    }\n",
              "\n",
              "    [theme=dark] .colab-df-convert {\n",
              "      background-color: #3B4455;\n",
              "      fill: #D2E3FC;\n",
              "    }\n",
              "\n",
              "    [theme=dark] .colab-df-convert:hover {\n",
              "      background-color: #434B5C;\n",
              "      box-shadow: 0px 1px 3px 1px rgba(0, 0, 0, 0.15);\n",
              "      filter: drop-shadow(0px 1px 2px rgba(0, 0, 0, 0.3));\n",
              "      fill: #FFFFFF;\n",
              "    }\n",
              "  </style>\n",
              "\n",
              "      <script>\n",
              "        const buttonEl =\n",
              "          document.querySelector('#df-ac414075-30ba-4d9e-b87a-7d8b7a25e0bf button.colab-df-convert');\n",
              "        buttonEl.style.display =\n",
              "          google.colab.kernel.accessAllowed ? 'block' : 'none';\n",
              "\n",
              "        async function convertToInteractive(key) {\n",
              "          const element = document.querySelector('#df-ac414075-30ba-4d9e-b87a-7d8b7a25e0bf');\n",
              "          const dataTable =\n",
              "            await google.colab.kernel.invokeFunction('convertToInteractive',\n",
              "                                                     [key], {});\n",
              "          if (!dataTable) return;\n",
              "\n",
              "          const docLinkHtml = 'Like what you see? Visit the ' +\n",
              "            '<a target=\"_blank\" href=https://colab.research.google.com/notebooks/data_table.ipynb>data table notebook</a>'\n",
              "            + ' to learn more about interactive tables.';\n",
              "          element.innerHTML = '';\n",
              "          dataTable['output_type'] = 'display_data';\n",
              "          await google.colab.output.renderOutput(dataTable, element);\n",
              "          const docLink = document.createElement('div');\n",
              "          docLink.innerHTML = docLinkHtml;\n",
              "          element.appendChild(docLink);\n",
              "        }\n",
              "      </script>\n",
              "    </div>\n",
              "  </div>\n",
              "  "
            ]
          },
          "metadata": {},
          "execution_count": 48
        }
      ]
    },
    {
      "cell_type": "markdown",
      "metadata": {
        "id": "stVkr6C4vAvM"
      },
      "source": [
        "## training"
      ]
    },
    {
      "cell_type": "markdown",
      "source": [
        "### train/val split"
      ],
      "metadata": {
        "id": "RyO6080lXxF4"
      }
    },
    {
      "cell_type": "code",
      "source": [
        "# index = list(set(df.image_path))\n",
        "# print(len(index)) # stratify\n",
        "# fold=0\n",
        "# val_index = index[len(index)*fold//5:len(index)*(fold+1)//35]\n",
        "# print(len(val_index))\n",
        "# val_index"
      ],
      "metadata": {
        "id": "v0xSfbqrolSS"
      },
      "execution_count": null,
      "outputs": []
    },
    {
      "cell_type": "code",
      "source": [
        "# !rm -r ./convertor"
      ],
      "metadata": {
        "id": "3LAb6Bgzp9uM"
      },
      "execution_count": null,
      "outputs": []
    },
    {
      "cell_type": "code",
      "execution_count": null,
      "metadata": {
        "colab": {
          "base_uri": "https://localhost:8080/",
          "height": 49,
          "referenced_widgets": [
            "f8a35ef3a9b044b4815a3a7d3a5ac9cc",
            "84e41f7a57314844bdd9566d9741e9ab",
            "658513257f814a0e9b84e2c3fce4c57b",
            "f6bd3c6eaf0b4614b3b958b37c7ec8fa",
            "de78ab98571f4bb9875e7e349d85ae1b",
            "3925b6743fa94d7194d19ac6c46645e0",
            "4bd7c22af1244a458345baf83f8d80d2",
            "b954fbeee7d347ada3376c0e68157c88",
            "5000ccc0f757402e944d91744b5fe9c3",
            "33156b6ccd7b4234b9b5d8370e18f4c9",
            "72a7cab1bfdb408db641be6c3912f99f"
          ]
        },
        "id": "95f0ljITvAvM",
        "outputId": "7fdffcc8-618d-4941-946f-956bc5214b93"
      },
      "outputs": [
        {
          "output_type": "display_data",
          "data": {
            "text/plain": [
              "  0%|          | 0/7874 [00:00<?, ?it/s]"
            ],
            "application/vnd.jupyter.widget-view+json": {
              "version_major": 2,
              "version_minor": 0,
              "model_id": "f8a35ef3a9b044b4815a3a7d3a5ac9cc"
            }
          },
          "metadata": {}
        }
      ],
      "source": [
        "from tqdm.auto import tqdm\n",
        "import shutil as sh\n",
        "\n",
        "index = list(set(df.image_path))\n",
        "len(index)\n",
        "\n",
        "source = 'train'\n",
        "if True:\n",
        "    for fold in [0]:\n",
        "        val_index = index[len(index)*fold//5:len(index)*(fold+1)//35]\n",
        "        for name,mini in tqdm(df.groupby('image_path')):\n",
        "            if name in val_index:\n",
        "                path2save = 'val2017/'\n",
        "            else:\n",
        "                path2save = 'train2017/'\n",
        "            if not os.path.exists('convertor/fold{}/labels/'.format(fold)+path2save):\n",
        "                os.makedirs('convertor/fold{}/labels/'.format(fold)+path2save)\n",
        "            with open('convertor/fold{}/labels/'.format(fold)+path2save+name.split('.')[0]+\".txt\", 'w+') as f:\n",
        "                row = mini[['class','x_center','y_center','width','height']].astype(float).values\n",
        "                # row = row/1024\n",
        "                row = row.astype(str)\n",
        "                for j in range(len(row)):\n",
        "                    text = ' '.join(row[j])\n",
        "                    f.write(text)\n",
        "                    f.write(\"\\n\")\n",
        "            if not os.path.exists('convertor/fold{}/images/{}'.format(fold,path2save)):\n",
        "                os.makedirs('convertor/fold{}/images/{}'.format(fold,path2save))\n",
        "            sh.copy(\"./fulltrain/dataset/images2/images2/{}\".format(name),'convertor/fold{}/images/{}/{}'.format(fold,path2save,name))"
      ]
    },
    {
      "cell_type": "code",
      "execution_count": null,
      "metadata": {
        "colab": {
          "base_uri": "https://localhost:8080/"
        },
        "id": "0srJ7YBevAvM",
        "outputId": "5edc957b-8312-4173-fbf3-ab57b9136e67"
      },
      "outputs": [
        {
          "output_type": "stream",
          "name": "stdout",
          "text": [
            "Overwriting ./convertor/wheat0.yaml\n"
          ]
        }
      ],
      "source": [
        "%%writefile ./convertor/wheat0.yaml\n",
        "\n",
        "# COCO 2017 dataset http://cocodataset.org - first 128 training images\n",
        "# Download command:  python -c \"from yolov5.utils.google_utils import gdrive_download; gdrive_download('1n_oKgR81BJtqk75b00eAjdv03qVCQn2f','coco128.zip')\"\n",
        "# Train command: python train.py --data ./data/coco128.yaml\n",
        "# Dataset should be placed next to yolov5 folder:\n",
        "#   /parent_folder\n",
        "#     /coco128\n",
        "#     /yolov5\n",
        "\n",
        "\n",
        "# train and val datasets (image directory or *.txt file with image paths)\n",
        "train: ./convertor/fold0/images/train2017/\n",
        "val: ./convertor/fold0/images/val2017/\n",
        "\n",
        "# number of classes\n",
        "nc: 11\n",
        "\n",
        "# class names\n",
        "# names: ['graffiti', 'faded_signage', 'potholes', 'garbage', 'construction_road', 'broken_signage', 'bad_streetlight', 'bad_billboard', 'sand_on_road', 'clutter_sidewalk', 'unkept_facade']\n",
        "names: ['0.0','1.0','2.0','3.0','4.0','5.0','6.0','7.0','8.0','9.0','10.0']"
      ]
    },
    {
      "cell_type": "code",
      "execution_count": null,
      "metadata": {
        "colab": {
          "base_uri": "https://localhost:8080/"
        },
        "id": "YQZwtxaIvAvM",
        "outputId": "7016465c-8342-4e1b-b635-4ea40cf5a083"
      },
      "outputs": [
        {
          "output_type": "stream",
          "name": "stdout",
          "text": [
            "Overwriting ./convertor/yolov5x.yaml\n"
          ]
        }
      ],
      "source": [
        "%%writefile ./convertor/yolov5x.yaml\n",
        "nc: 11\n",
        "depth_multiple: 0.33\n",
        "width_multiple: 0.50\n",
        "anchors:\n",
        "  - [10,13, 16,30, 33,23] \n",
        "  - [30,61, 62,45, 59,119]\n",
        "  - [116,90, 156,198, 373,326]\n",
        "backbone:\n",
        "  [[-1, 1, Focus, [64, 3]],\n",
        "   [-1, 1, Conv, [128, 3, 2]],\n",
        "   [-1, 3, Bottleneck, [128]],\n",
        "   [-1, 1, Conv, [256, 3, 2]],\n",
        "   [-1, 9, BottleneckCSP, [256]],\n",
        "   [-1, 1, Conv, [512, 3, 2]], \n",
        "   [-1, 9, BottleneckCSP, [512]],\n",
        "   [-1, 1, Conv, [1024, 3, 2]],\n",
        "   [-1, 1, SPP, [1024, [5, 9, 13]]],\n",
        "   [-1, 6, BottleneckCSP, [1024]],\n",
        "  ]\n",
        "head:\n",
        "  [[-1, 3, BottleneckCSP, [1024, False]],\n",
        "   [-1, 1, nn.Conv2d, [na * (nc + 5), 1, 1, 0]],\n",
        "   [-2, 1, nn.Upsample, [None, 2, \"nearest\"]],\n",
        "   [[-1, 6], 1, Concat, [1]],\n",
        "   [-1, 1, Conv, [512, 1, 1]],\n",
        "   [-1, 3, BottleneckCSP, [512, False]],\n",
        "   [-1, 1, nn.Conv2d, [na * (nc + 5), 1, 1, 0]],\n",
        "   [-2, 1, nn.Upsample, [None, 2, \"nearest\"]],\n",
        "   [[-1, 4], 1, Concat, [1]],\n",
        "   [-1, 1, Conv, [256, 1, 1]],\n",
        "   [-1, 3, BottleneckCSP, [256, False]],\n",
        "   [-1, 1, nn.Conv2d, [na * (nc + 5), 1, 1, 0]],\n",
        "[[], 1, Detect, [nc, anchors]],\n",
        "  ]"
      ]
    },
    {
      "cell_type": "code",
      "execution_count": null,
      "metadata": {
        "id": "ieQTMITSvAvN"
      },
      "outputs": [],
      "source": [
        "!python train.py --img 640 --batch 16 --epochs 10 --data convertor/wheat0.yaml --name yolov5x_fold0 --weights '/content/yolov5s.pt'"
      ]
    },
    {
      "cell_type": "code",
      "source": [
        "# rm -r './content/fulltrain/'"
      ],
      "metadata": {
        "id": "xfLGVyoSk-ae"
      },
      "execution_count": null,
      "outputs": []
    },
    {
      "cell_type": "markdown",
      "source": [
        "### save weights"
      ],
      "metadata": {
        "id": "YjqoLz7rX1__"
      }
    },
    {
      "cell_type": "code",
      "source": [
        "import shutil\n",
        "shutil.copy(\"./runs/train/yolov5x_fold0/weights/best.pt\", \"/content/drive/MyDrive/SDAIA/weights/best2.pt\")"
      ],
      "metadata": {
        "colab": {
          "base_uri": "https://localhost:8080/",
          "height": 35
        },
        "id": "iFx67HVyAXSy",
        "outputId": "dbb53f53-f850-44d2-ee7d-ec921c5a58b6"
      },
      "execution_count": null,
      "outputs": [
        {
          "output_type": "execute_result",
          "data": {
            "text/plain": [
              "'/content/drive/MyDrive/SDAIA/weights/best2.pt'"
            ],
            "application/vnd.google.colaboratory.intrinsic+json": {
              "type": "string"
            }
          },
          "metadata": {},
          "execution_count": 18
        }
      ]
    },
    {
      "cell_type": "markdown",
      "source": [
        "# detection"
      ],
      "metadata": {
        "id": "euxB0msu_kvG"
      }
    },
    {
      "cell_type": "code",
      "source": [
        "# !unzip /content/drive/MyDrive/SDAIA/test_images.zip -d fulltrain/dataset/test_images"
      ],
      "metadata": {
        "id": "_7jadDpeGMlc"
      },
      "execution_count": null,
      "outputs": []
    },
    {
      "cell_type": "code",
      "source": [
        "dff = pd.DataFrame({'image':[],'xmin':[],'ymin':[],'xmax':[],'ymax':[],'name':[]})"
      ],
      "metadata": {
        "id": "VhO_llPzPFeP"
      },
      "execution_count": null,
      "outputs": []
    },
    {
      "cell_type": "code",
      "source": [
        "model = torch.hub.load('/content/', 'custom', path='/content/drive/MyDrive/SDAIA/weights/best2.pt', source='local')  # local repo"
      ],
      "metadata": {
        "colab": {
          "base_uri": "https://localhost:8080/"
        },
        "id": "ZYiuFx-JPrM3",
        "outputId": "0328d1e9-d898-4de7-cf89-af2a4e8ca90d"
      },
      "execution_count": null,
      "outputs": [
        {
          "output_type": "stream",
          "name": "stderr",
          "text": [
            "YOLOv5 🚀 2023-1-17 Python-3.8.16 torch-1.13.0+cu116 CUDA:0 (Tesla T4, 15110MiB)\n",
            "\n",
            "Fusing layers... \n",
            "Model summary: 157 layers, 7039792 parameters, 0 gradients, 15.8 GFLOPs\n",
            "Adding AutoShape... \n"
          ]
        }
      ]
    },
    {
      "cell_type": "code",
      "source": [
        "#Model\n",
        "# Images\n",
        "images = os.listdir('./fulltrain/dataset/test_images/test_images/')\n",
        "for i in images:\n",
        "  img = cv2.imread(f'./fulltrain/dataset/test_images/test_images/{i}')\n",
        "  # Inference\n",
        "  results = model(img, size=640)  # includes NMS\n",
        "  # infs.append()  # img1 predictions (tensor)\n",
        "  try:\n",
        "    results = results.pandas().xyxy[0].iloc[0]\n",
        "    df = pd.DataFrame({'image':[i],'xmin':[results['xmin']],'ymin':[results['ymin']],'xmax':[results['xmax']],'ymax':[results['ymax']],'name':[results['name']]})\n",
        "    dff = pd.concat([dff,df],axis=0)\n",
        "  except Exception as e:\n",
        "    df = pd.DataFrame({'image':[i],'xmin':[0],'ymin':[0],'xmax':[0],'ymax':[0],'name':[None]})\n",
        "    dff = pd.concat([dff,df],axis=0)\n",
        "  "
      ],
      "metadata": {
        "id": "AWPZ1N2eLSov"
      },
      "execution_count": null,
      "outputs": []
    },
    {
      "cell_type": "code",
      "source": [
        "dff.head()"
      ],
      "metadata": {
        "colab": {
          "base_uri": "https://localhost:8080/",
          "height": 206
        },
        "id": "hn8p67BDRouG",
        "outputId": "b49f6bac-86cf-440a-bdb2-383febbc9164"
      },
      "execution_count": null,
      "outputs": [
        {
          "output_type": "execute_result",
          "data": {
            "text/plain": [
              "                                  image       xmin        ymin        xmax  \\\n",
              "0  8b2c77725e46f1fc311225138275db82.jpg   5.516815  156.495422  142.050217   \n",
              "0  e846938b21e4aba9419da248044cb4d3.jpg   0.000000    0.000000    0.000000   \n",
              "0  a4022e05023a8c4469cae024e4a77957.jpg   0.000000  218.669189  149.684174   \n",
              "0  dbfc319364fdc777df4e97e1a6e0d4a6.jpg   0.000000    0.000000    0.000000   \n",
              "0  758e9f1cc7aa08b5027e5614029da39f.jpg  10.766762  231.999680  138.862183   \n",
              "\n",
              "         ymax  name  \n",
              "0  442.031555   4.0  \n",
              "0    0.000000  None  \n",
              "0  450.843872   4.0  \n",
              "0    0.000000  None  \n",
              "0  390.966309   4.0  "
            ],
            "text/html": [
              "\n",
              "  <div id=\"df-70b5ccef-a497-4eb4-97d6-f0a0d1ea2e5c\">\n",
              "    <div class=\"colab-df-container\">\n",
              "      <div>\n",
              "<style scoped>\n",
              "    .dataframe tbody tr th:only-of-type {\n",
              "        vertical-align: middle;\n",
              "    }\n",
              "\n",
              "    .dataframe tbody tr th {\n",
              "        vertical-align: top;\n",
              "    }\n",
              "\n",
              "    .dataframe thead th {\n",
              "        text-align: right;\n",
              "    }\n",
              "</style>\n",
              "<table border=\"1\" class=\"dataframe\">\n",
              "  <thead>\n",
              "    <tr style=\"text-align: right;\">\n",
              "      <th></th>\n",
              "      <th>image</th>\n",
              "      <th>xmin</th>\n",
              "      <th>ymin</th>\n",
              "      <th>xmax</th>\n",
              "      <th>ymax</th>\n",
              "      <th>name</th>\n",
              "    </tr>\n",
              "  </thead>\n",
              "  <tbody>\n",
              "    <tr>\n",
              "      <th>0</th>\n",
              "      <td>8b2c77725e46f1fc311225138275db82.jpg</td>\n",
              "      <td>5.516815</td>\n",
              "      <td>156.495422</td>\n",
              "      <td>142.050217</td>\n",
              "      <td>442.031555</td>\n",
              "      <td>4.0</td>\n",
              "    </tr>\n",
              "    <tr>\n",
              "      <th>0</th>\n",
              "      <td>e846938b21e4aba9419da248044cb4d3.jpg</td>\n",
              "      <td>0.000000</td>\n",
              "      <td>0.000000</td>\n",
              "      <td>0.000000</td>\n",
              "      <td>0.000000</td>\n",
              "      <td>None</td>\n",
              "    </tr>\n",
              "    <tr>\n",
              "      <th>0</th>\n",
              "      <td>a4022e05023a8c4469cae024e4a77957.jpg</td>\n",
              "      <td>0.000000</td>\n",
              "      <td>218.669189</td>\n",
              "      <td>149.684174</td>\n",
              "      <td>450.843872</td>\n",
              "      <td>4.0</td>\n",
              "    </tr>\n",
              "    <tr>\n",
              "      <th>0</th>\n",
              "      <td>dbfc319364fdc777df4e97e1a6e0d4a6.jpg</td>\n",
              "      <td>0.000000</td>\n",
              "      <td>0.000000</td>\n",
              "      <td>0.000000</td>\n",
              "      <td>0.000000</td>\n",
              "      <td>None</td>\n",
              "    </tr>\n",
              "    <tr>\n",
              "      <th>0</th>\n",
              "      <td>758e9f1cc7aa08b5027e5614029da39f.jpg</td>\n",
              "      <td>10.766762</td>\n",
              "      <td>231.999680</td>\n",
              "      <td>138.862183</td>\n",
              "      <td>390.966309</td>\n",
              "      <td>4.0</td>\n",
              "    </tr>\n",
              "  </tbody>\n",
              "</table>\n",
              "</div>\n",
              "      <button class=\"colab-df-convert\" onclick=\"convertToInteractive('df-70b5ccef-a497-4eb4-97d6-f0a0d1ea2e5c')\"\n",
              "              title=\"Convert this dataframe to an interactive table.\"\n",
              "              style=\"display:none;\">\n",
              "        \n",
              "  <svg xmlns=\"http://www.w3.org/2000/svg\" height=\"24px\"viewBox=\"0 0 24 24\"\n",
              "       width=\"24px\">\n",
              "    <path d=\"M0 0h24v24H0V0z\" fill=\"none\"/>\n",
              "    <path d=\"M18.56 5.44l.94 2.06.94-2.06 2.06-.94-2.06-.94-.94-2.06-.94 2.06-2.06.94zm-11 1L8.5 8.5l.94-2.06 2.06-.94-2.06-.94L8.5 2.5l-.94 2.06-2.06.94zm10 10l.94 2.06.94-2.06 2.06-.94-2.06-.94-.94-2.06-.94 2.06-2.06.94z\"/><path d=\"M17.41 7.96l-1.37-1.37c-.4-.4-.92-.59-1.43-.59-.52 0-1.04.2-1.43.59L10.3 9.45l-7.72 7.72c-.78.78-.78 2.05 0 2.83L4 21.41c.39.39.9.59 1.41.59.51 0 1.02-.2 1.41-.59l7.78-7.78 2.81-2.81c.8-.78.8-2.07 0-2.86zM5.41 20L4 18.59l7.72-7.72 1.47 1.35L5.41 20z\"/>\n",
              "  </svg>\n",
              "      </button>\n",
              "      \n",
              "  <style>\n",
              "    .colab-df-container {\n",
              "      display:flex;\n",
              "      flex-wrap:wrap;\n",
              "      gap: 12px;\n",
              "    }\n",
              "\n",
              "    .colab-df-convert {\n",
              "      background-color: #E8F0FE;\n",
              "      border: none;\n",
              "      border-radius: 50%;\n",
              "      cursor: pointer;\n",
              "      display: none;\n",
              "      fill: #1967D2;\n",
              "      height: 32px;\n",
              "      padding: 0 0 0 0;\n",
              "      width: 32px;\n",
              "    }\n",
              "\n",
              "    .colab-df-convert:hover {\n",
              "      background-color: #E2EBFA;\n",
              "      box-shadow: 0px 1px 2px rgba(60, 64, 67, 0.3), 0px 1px 3px 1px rgba(60, 64, 67, 0.15);\n",
              "      fill: #174EA6;\n",
              "    }\n",
              "\n",
              "    [theme=dark] .colab-df-convert {\n",
              "      background-color: #3B4455;\n",
              "      fill: #D2E3FC;\n",
              "    }\n",
              "\n",
              "    [theme=dark] .colab-df-convert:hover {\n",
              "      background-color: #434B5C;\n",
              "      box-shadow: 0px 1px 3px 1px rgba(0, 0, 0, 0.15);\n",
              "      filter: drop-shadow(0px 1px 2px rgba(0, 0, 0, 0.3));\n",
              "      fill: #FFFFFF;\n",
              "    }\n",
              "  </style>\n",
              "\n",
              "      <script>\n",
              "        const buttonEl =\n",
              "          document.querySelector('#df-70b5ccef-a497-4eb4-97d6-f0a0d1ea2e5c button.colab-df-convert');\n",
              "        buttonEl.style.display =\n",
              "          google.colab.kernel.accessAllowed ? 'block' : 'none';\n",
              "\n",
              "        async function convertToInteractive(key) {\n",
              "          const element = document.querySelector('#df-70b5ccef-a497-4eb4-97d6-f0a0d1ea2e5c');\n",
              "          const dataTable =\n",
              "            await google.colab.kernel.invokeFunction('convertToInteractive',\n",
              "                                                     [key], {});\n",
              "          if (!dataTable) return;\n",
              "\n",
              "          const docLinkHtml = 'Like what you see? Visit the ' +\n",
              "            '<a target=\"_blank\" href=https://colab.research.google.com/notebooks/data_table.ipynb>data table notebook</a>'\n",
              "            + ' to learn more about interactive tables.';\n",
              "          element.innerHTML = '';\n",
              "          dataTable['output_type'] = 'display_data';\n",
              "          await google.colab.output.renderOutput(dataTable, element);\n",
              "          const docLink = document.createElement('div');\n",
              "          docLink.innerHTML = docLinkHtml;\n",
              "          element.appendChild(docLink);\n",
              "        }\n",
              "      </script>\n",
              "    </div>\n",
              "  </div>\n",
              "  "
            ]
          },
          "metadata": {},
          "execution_count": 23
        }
      ]
    },
    {
      "cell_type": "code",
      "source": [
        "dff['name'].value_counts()"
      ],
      "metadata": {
        "colab": {
          "base_uri": "https://localhost:8080/"
        },
        "id": "1OnM14ull7TV",
        "outputId": "ea5fbfc3-7603-431c-e536-25352379bdb1"
      },
      "execution_count": null,
      "outputs": [
        {
          "output_type": "execute_result",
          "data": {
            "text/plain": [
              "4.0    141\n",
              "3.0     13\n",
              "Name: name, dtype: int64"
            ]
          },
          "metadata": {},
          "execution_count": 24
        }
      ]
    },
    {
      "cell_type": "code",
      "source": [
        "dff['name'].value_counts()"
      ],
      "metadata": {
        "colab": {
          "base_uri": "https://localhost:8080/"
        },
        "id": "9Q2j8598TH_i",
        "outputId": "65fdc973-6ea8-4991-d347-477e28d9a19d"
      },
      "execution_count": null,
      "outputs": [
        {
          "output_type": "execute_result",
          "data": {
            "text/plain": [
              "4.0    141\n",
              "3.0     13\n",
              "Name: name, dtype: int64"
            ]
          },
          "metadata": {},
          "execution_count": 25
        }
      ]
    },
    {
      "cell_type": "code",
      "execution_count": null,
      "metadata": {
        "id": "1SrPCJ4uyo7T"
      },
      "outputs": [],
      "source": [
        "clas_name = {'0.0':'GRAFFITI',\n",
        "        '1.0':'FADED_SIGNAGE',\n",
        "        '2.0':'POTHOLES',\n",
        "        '3.0':'GARBAGE',\n",
        "        '4.0':'CONSTRUCTION_ROAD',\n",
        "        '5.0':'BROKEN_SIGNAGE',\n",
        "        '6.0':'BAD_STREETLIGHT',\n",
        "        '7.0':'BAD_BILLBOARD',\n",
        "        '8.0':'SAND_ON_ROAD',\n",
        "        '9.0':'CLUTTER_SIDEWALK',\n",
        "        '10.0':'UNKEPT_FACADE',\n",
        "        'None':'GARBAGE'}\n",
        "\n",
        "# inv_map = {v: k for k, v in my_map.items()}\n",
        "name_clas = {'GRAFFITI':'0.0',\n",
        "        'FADED_SIGNAGE':'1.0',\n",
        "        'POTHOLES':'2.0',\n",
        "        'GARBAGE':'3.0',\n",
        "        'CONSTRUCTION_ROAD':'4.0',\n",
        "        'BROKEN_SIGNAGE':'5.0',\n",
        "        'BAD_STREETLIGHT':'6.0',\n",
        "        'BAD_BILLBOARD':'7.0',\n",
        "        'SAND_ON_ROAD':'8.0',\n",
        "        'CLUTTER_SIDEWALK':'9.0',\n",
        "        'UNKEPT_FACADE':'10.0',}"
      ]
    },
    {
      "cell_type": "code",
      "source": [
        "dff['name'] = dff['name'].apply(lambda x: clas_name[str(x)])"
      ],
      "metadata": {
        "id": "kKUWDPq1STxJ"
      },
      "execution_count": null,
      "outputs": []
    },
    {
      "cell_type": "code",
      "source": [
        "dff['class'] = dff['name'].apply(lambda x: name_clas[str(x)])"
      ],
      "metadata": {
        "id": "EgC0rJKTUEVd"
      },
      "execution_count": null,
      "outputs": []
    },
    {
      "cell_type": "code",
      "source": [
        "dff.head()"
      ],
      "metadata": {
        "colab": {
          "base_uri": "https://localhost:8080/",
          "height": 206
        },
        "id": "lwXKa8oDTnJ3",
        "outputId": "15414c46-99a9-4b04-fd36-fab3e7e9f8fd"
      },
      "execution_count": null,
      "outputs": [
        {
          "output_type": "execute_result",
          "data": {
            "text/plain": [
              "                                  image       xmin        ymin        xmax  \\\n",
              "0  8b2c77725e46f1fc311225138275db82.jpg   5.516815  156.495422  142.050217   \n",
              "0  e846938b21e4aba9419da248044cb4d3.jpg   0.000000    0.000000    0.000000   \n",
              "0  a4022e05023a8c4469cae024e4a77957.jpg   0.000000  218.669189  149.684174   \n",
              "0  dbfc319364fdc777df4e97e1a6e0d4a6.jpg   0.000000    0.000000    0.000000   \n",
              "0  758e9f1cc7aa08b5027e5614029da39f.jpg  10.766762  231.999680  138.862183   \n",
              "\n",
              "         ymax               name class  \n",
              "0  442.031555  CONSTRUCTION_ROAD   4.0  \n",
              "0    0.000000            GARBAGE   3.0  \n",
              "0  450.843872  CONSTRUCTION_ROAD   4.0  \n",
              "0    0.000000            GARBAGE   3.0  \n",
              "0  390.966309  CONSTRUCTION_ROAD   4.0  "
            ],
            "text/html": [
              "\n",
              "  <div id=\"df-436d8159-2fdf-4772-8c6c-d0c8d0d22ac6\">\n",
              "    <div class=\"colab-df-container\">\n",
              "      <div>\n",
              "<style scoped>\n",
              "    .dataframe tbody tr th:only-of-type {\n",
              "        vertical-align: middle;\n",
              "    }\n",
              "\n",
              "    .dataframe tbody tr th {\n",
              "        vertical-align: top;\n",
              "    }\n",
              "\n",
              "    .dataframe thead th {\n",
              "        text-align: right;\n",
              "    }\n",
              "</style>\n",
              "<table border=\"1\" class=\"dataframe\">\n",
              "  <thead>\n",
              "    <tr style=\"text-align: right;\">\n",
              "      <th></th>\n",
              "      <th>image</th>\n",
              "      <th>xmin</th>\n",
              "      <th>ymin</th>\n",
              "      <th>xmax</th>\n",
              "      <th>ymax</th>\n",
              "      <th>name</th>\n",
              "      <th>class</th>\n",
              "    </tr>\n",
              "  </thead>\n",
              "  <tbody>\n",
              "    <tr>\n",
              "      <th>0</th>\n",
              "      <td>8b2c77725e46f1fc311225138275db82.jpg</td>\n",
              "      <td>5.516815</td>\n",
              "      <td>156.495422</td>\n",
              "      <td>142.050217</td>\n",
              "      <td>442.031555</td>\n",
              "      <td>CONSTRUCTION_ROAD</td>\n",
              "      <td>4.0</td>\n",
              "    </tr>\n",
              "    <tr>\n",
              "      <th>0</th>\n",
              "      <td>e846938b21e4aba9419da248044cb4d3.jpg</td>\n",
              "      <td>0.000000</td>\n",
              "      <td>0.000000</td>\n",
              "      <td>0.000000</td>\n",
              "      <td>0.000000</td>\n",
              "      <td>GARBAGE</td>\n",
              "      <td>3.0</td>\n",
              "    </tr>\n",
              "    <tr>\n",
              "      <th>0</th>\n",
              "      <td>a4022e05023a8c4469cae024e4a77957.jpg</td>\n",
              "      <td>0.000000</td>\n",
              "      <td>218.669189</td>\n",
              "      <td>149.684174</td>\n",
              "      <td>450.843872</td>\n",
              "      <td>CONSTRUCTION_ROAD</td>\n",
              "      <td>4.0</td>\n",
              "    </tr>\n",
              "    <tr>\n",
              "      <th>0</th>\n",
              "      <td>dbfc319364fdc777df4e97e1a6e0d4a6.jpg</td>\n",
              "      <td>0.000000</td>\n",
              "      <td>0.000000</td>\n",
              "      <td>0.000000</td>\n",
              "      <td>0.000000</td>\n",
              "      <td>GARBAGE</td>\n",
              "      <td>3.0</td>\n",
              "    </tr>\n",
              "    <tr>\n",
              "      <th>0</th>\n",
              "      <td>758e9f1cc7aa08b5027e5614029da39f.jpg</td>\n",
              "      <td>10.766762</td>\n",
              "      <td>231.999680</td>\n",
              "      <td>138.862183</td>\n",
              "      <td>390.966309</td>\n",
              "      <td>CONSTRUCTION_ROAD</td>\n",
              "      <td>4.0</td>\n",
              "    </tr>\n",
              "  </tbody>\n",
              "</table>\n",
              "</div>\n",
              "      <button class=\"colab-df-convert\" onclick=\"convertToInteractive('df-436d8159-2fdf-4772-8c6c-d0c8d0d22ac6')\"\n",
              "              title=\"Convert this dataframe to an interactive table.\"\n",
              "              style=\"display:none;\">\n",
              "        \n",
              "  <svg xmlns=\"http://www.w3.org/2000/svg\" height=\"24px\"viewBox=\"0 0 24 24\"\n",
              "       width=\"24px\">\n",
              "    <path d=\"M0 0h24v24H0V0z\" fill=\"none\"/>\n",
              "    <path d=\"M18.56 5.44l.94 2.06.94-2.06 2.06-.94-2.06-.94-.94-2.06-.94 2.06-2.06.94zm-11 1L8.5 8.5l.94-2.06 2.06-.94-2.06-.94L8.5 2.5l-.94 2.06-2.06.94zm10 10l.94 2.06.94-2.06 2.06-.94-2.06-.94-.94-2.06-.94 2.06-2.06.94z\"/><path d=\"M17.41 7.96l-1.37-1.37c-.4-.4-.92-.59-1.43-.59-.52 0-1.04.2-1.43.59L10.3 9.45l-7.72 7.72c-.78.78-.78 2.05 0 2.83L4 21.41c.39.39.9.59 1.41.59.51 0 1.02-.2 1.41-.59l7.78-7.78 2.81-2.81c.8-.78.8-2.07 0-2.86zM5.41 20L4 18.59l7.72-7.72 1.47 1.35L5.41 20z\"/>\n",
              "  </svg>\n",
              "      </button>\n",
              "      \n",
              "  <style>\n",
              "    .colab-df-container {\n",
              "      display:flex;\n",
              "      flex-wrap:wrap;\n",
              "      gap: 12px;\n",
              "    }\n",
              "\n",
              "    .colab-df-convert {\n",
              "      background-color: #E8F0FE;\n",
              "      border: none;\n",
              "      border-radius: 50%;\n",
              "      cursor: pointer;\n",
              "      display: none;\n",
              "      fill: #1967D2;\n",
              "      height: 32px;\n",
              "      padding: 0 0 0 0;\n",
              "      width: 32px;\n",
              "    }\n",
              "\n",
              "    .colab-df-convert:hover {\n",
              "      background-color: #E2EBFA;\n",
              "      box-shadow: 0px 1px 2px rgba(60, 64, 67, 0.3), 0px 1px 3px 1px rgba(60, 64, 67, 0.15);\n",
              "      fill: #174EA6;\n",
              "    }\n",
              "\n",
              "    [theme=dark] .colab-df-convert {\n",
              "      background-color: #3B4455;\n",
              "      fill: #D2E3FC;\n",
              "    }\n",
              "\n",
              "    [theme=dark] .colab-df-convert:hover {\n",
              "      background-color: #434B5C;\n",
              "      box-shadow: 0px 1px 3px 1px rgba(0, 0, 0, 0.15);\n",
              "      filter: drop-shadow(0px 1px 2px rgba(0, 0, 0, 0.3));\n",
              "      fill: #FFFFFF;\n",
              "    }\n",
              "  </style>\n",
              "\n",
              "      <script>\n",
              "        const buttonEl =\n",
              "          document.querySelector('#df-436d8159-2fdf-4772-8c6c-d0c8d0d22ac6 button.colab-df-convert');\n",
              "        buttonEl.style.display =\n",
              "          google.colab.kernel.accessAllowed ? 'block' : 'none';\n",
              "\n",
              "        async function convertToInteractive(key) {\n",
              "          const element = document.querySelector('#df-436d8159-2fdf-4772-8c6c-d0c8d0d22ac6');\n",
              "          const dataTable =\n",
              "            await google.colab.kernel.invokeFunction('convertToInteractive',\n",
              "                                                     [key], {});\n",
              "          if (!dataTable) return;\n",
              "\n",
              "          const docLinkHtml = 'Like what you see? Visit the ' +\n",
              "            '<a target=\"_blank\" href=https://colab.research.google.com/notebooks/data_table.ipynb>data table notebook</a>'\n",
              "            + ' to learn more about interactive tables.';\n",
              "          element.innerHTML = '';\n",
              "          dataTable['output_type'] = 'display_data';\n",
              "          await google.colab.output.renderOutput(dataTable, element);\n",
              "          const docLink = document.createElement('div');\n",
              "          docLink.innerHTML = docLinkHtml;\n",
              "          element.appendChild(docLink);\n",
              "        }\n",
              "      </script>\n",
              "    </div>\n",
              "  </div>\n",
              "  "
            ]
          },
          "metadata": {},
          "execution_count": 29
        }
      ]
    },
    {
      "cell_type": "code",
      "source": [
        "dff = dff[['class', 'image', 'name', 'xmax', 'xmin','ymax','ymin']]"
      ],
      "metadata": {
        "id": "JHfI9YTmToTs"
      },
      "execution_count": null,
      "outputs": []
    },
    {
      "cell_type": "code",
      "source": [
        "dff.rename(columns = {'image':'image_path'}, inplace = True)"
      ],
      "metadata": {
        "id": "Wlui-Y5AVF3M"
      },
      "execution_count": null,
      "outputs": []
    },
    {
      "cell_type": "code",
      "source": [
        "dff.head()"
      ],
      "metadata": {
        "colab": {
          "base_uri": "https://localhost:8080/",
          "height": 206
        },
        "id": "7A-0PwjZVQ41",
        "outputId": "6484de49-61ef-4e69-acd1-90839b42bdeb"
      },
      "execution_count": null,
      "outputs": [
        {
          "output_type": "execute_result",
          "data": {
            "text/plain": [
              "  class                            image_path               name        xmax  \\\n",
              "0   4.0  8b2c77725e46f1fc311225138275db82.jpg  CONSTRUCTION_ROAD  142.050217   \n",
              "0   3.0  e846938b21e4aba9419da248044cb4d3.jpg            GARBAGE    0.000000   \n",
              "0   4.0  a4022e05023a8c4469cae024e4a77957.jpg  CONSTRUCTION_ROAD  149.684174   \n",
              "0   3.0  dbfc319364fdc777df4e97e1a6e0d4a6.jpg            GARBAGE    0.000000   \n",
              "0   4.0  758e9f1cc7aa08b5027e5614029da39f.jpg  CONSTRUCTION_ROAD  138.862183   \n",
              "\n",
              "        xmin        ymax        ymin  \n",
              "0   5.516815  442.031555  156.495422  \n",
              "0   0.000000    0.000000    0.000000  \n",
              "0   0.000000  450.843872  218.669189  \n",
              "0   0.000000    0.000000    0.000000  \n",
              "0  10.766762  390.966309  231.999680  "
            ],
            "text/html": [
              "\n",
              "  <div id=\"df-cb3a314b-6a6c-4bb4-95bd-a96c69fcf786\">\n",
              "    <div class=\"colab-df-container\">\n",
              "      <div>\n",
              "<style scoped>\n",
              "    .dataframe tbody tr th:only-of-type {\n",
              "        vertical-align: middle;\n",
              "    }\n",
              "\n",
              "    .dataframe tbody tr th {\n",
              "        vertical-align: top;\n",
              "    }\n",
              "\n",
              "    .dataframe thead th {\n",
              "        text-align: right;\n",
              "    }\n",
              "</style>\n",
              "<table border=\"1\" class=\"dataframe\">\n",
              "  <thead>\n",
              "    <tr style=\"text-align: right;\">\n",
              "      <th></th>\n",
              "      <th>class</th>\n",
              "      <th>image_path</th>\n",
              "      <th>name</th>\n",
              "      <th>xmax</th>\n",
              "      <th>xmin</th>\n",
              "      <th>ymax</th>\n",
              "      <th>ymin</th>\n",
              "    </tr>\n",
              "  </thead>\n",
              "  <tbody>\n",
              "    <tr>\n",
              "      <th>0</th>\n",
              "      <td>4.0</td>\n",
              "      <td>8b2c77725e46f1fc311225138275db82.jpg</td>\n",
              "      <td>CONSTRUCTION_ROAD</td>\n",
              "      <td>142.050217</td>\n",
              "      <td>5.516815</td>\n",
              "      <td>442.031555</td>\n",
              "      <td>156.495422</td>\n",
              "    </tr>\n",
              "    <tr>\n",
              "      <th>0</th>\n",
              "      <td>3.0</td>\n",
              "      <td>e846938b21e4aba9419da248044cb4d3.jpg</td>\n",
              "      <td>GARBAGE</td>\n",
              "      <td>0.000000</td>\n",
              "      <td>0.000000</td>\n",
              "      <td>0.000000</td>\n",
              "      <td>0.000000</td>\n",
              "    </tr>\n",
              "    <tr>\n",
              "      <th>0</th>\n",
              "      <td>4.0</td>\n",
              "      <td>a4022e05023a8c4469cae024e4a77957.jpg</td>\n",
              "      <td>CONSTRUCTION_ROAD</td>\n",
              "      <td>149.684174</td>\n",
              "      <td>0.000000</td>\n",
              "      <td>450.843872</td>\n",
              "      <td>218.669189</td>\n",
              "    </tr>\n",
              "    <tr>\n",
              "      <th>0</th>\n",
              "      <td>3.0</td>\n",
              "      <td>dbfc319364fdc777df4e97e1a6e0d4a6.jpg</td>\n",
              "      <td>GARBAGE</td>\n",
              "      <td>0.000000</td>\n",
              "      <td>0.000000</td>\n",
              "      <td>0.000000</td>\n",
              "      <td>0.000000</td>\n",
              "    </tr>\n",
              "    <tr>\n",
              "      <th>0</th>\n",
              "      <td>4.0</td>\n",
              "      <td>758e9f1cc7aa08b5027e5614029da39f.jpg</td>\n",
              "      <td>CONSTRUCTION_ROAD</td>\n",
              "      <td>138.862183</td>\n",
              "      <td>10.766762</td>\n",
              "      <td>390.966309</td>\n",
              "      <td>231.999680</td>\n",
              "    </tr>\n",
              "  </tbody>\n",
              "</table>\n",
              "</div>\n",
              "      <button class=\"colab-df-convert\" onclick=\"convertToInteractive('df-cb3a314b-6a6c-4bb4-95bd-a96c69fcf786')\"\n",
              "              title=\"Convert this dataframe to an interactive table.\"\n",
              "              style=\"display:none;\">\n",
              "        \n",
              "  <svg xmlns=\"http://www.w3.org/2000/svg\" height=\"24px\"viewBox=\"0 0 24 24\"\n",
              "       width=\"24px\">\n",
              "    <path d=\"M0 0h24v24H0V0z\" fill=\"none\"/>\n",
              "    <path d=\"M18.56 5.44l.94 2.06.94-2.06 2.06-.94-2.06-.94-.94-2.06-.94 2.06-2.06.94zm-11 1L8.5 8.5l.94-2.06 2.06-.94-2.06-.94L8.5 2.5l-.94 2.06-2.06.94zm10 10l.94 2.06.94-2.06 2.06-.94-2.06-.94-.94-2.06-.94 2.06-2.06.94z\"/><path d=\"M17.41 7.96l-1.37-1.37c-.4-.4-.92-.59-1.43-.59-.52 0-1.04.2-1.43.59L10.3 9.45l-7.72 7.72c-.78.78-.78 2.05 0 2.83L4 21.41c.39.39.9.59 1.41.59.51 0 1.02-.2 1.41-.59l7.78-7.78 2.81-2.81c.8-.78.8-2.07 0-2.86zM5.41 20L4 18.59l7.72-7.72 1.47 1.35L5.41 20z\"/>\n",
              "  </svg>\n",
              "      </button>\n",
              "      \n",
              "  <style>\n",
              "    .colab-df-container {\n",
              "      display:flex;\n",
              "      flex-wrap:wrap;\n",
              "      gap: 12px;\n",
              "    }\n",
              "\n",
              "    .colab-df-convert {\n",
              "      background-color: #E8F0FE;\n",
              "      border: none;\n",
              "      border-radius: 50%;\n",
              "      cursor: pointer;\n",
              "      display: none;\n",
              "      fill: #1967D2;\n",
              "      height: 32px;\n",
              "      padding: 0 0 0 0;\n",
              "      width: 32px;\n",
              "    }\n",
              "\n",
              "    .colab-df-convert:hover {\n",
              "      background-color: #E2EBFA;\n",
              "      box-shadow: 0px 1px 2px rgba(60, 64, 67, 0.3), 0px 1px 3px 1px rgba(60, 64, 67, 0.15);\n",
              "      fill: #174EA6;\n",
              "    }\n",
              "\n",
              "    [theme=dark] .colab-df-convert {\n",
              "      background-color: #3B4455;\n",
              "      fill: #D2E3FC;\n",
              "    }\n",
              "\n",
              "    [theme=dark] .colab-df-convert:hover {\n",
              "      background-color: #434B5C;\n",
              "      box-shadow: 0px 1px 3px 1px rgba(0, 0, 0, 0.15);\n",
              "      filter: drop-shadow(0px 1px 2px rgba(0, 0, 0, 0.3));\n",
              "      fill: #FFFFFF;\n",
              "    }\n",
              "  </style>\n",
              "\n",
              "      <script>\n",
              "        const buttonEl =\n",
              "          document.querySelector('#df-cb3a314b-6a6c-4bb4-95bd-a96c69fcf786 button.colab-df-convert');\n",
              "        buttonEl.style.display =\n",
              "          google.colab.kernel.accessAllowed ? 'block' : 'none';\n",
              "\n",
              "        async function convertToInteractive(key) {\n",
              "          const element = document.querySelector('#df-cb3a314b-6a6c-4bb4-95bd-a96c69fcf786');\n",
              "          const dataTable =\n",
              "            await google.colab.kernel.invokeFunction('convertToInteractive',\n",
              "                                                     [key], {});\n",
              "          if (!dataTable) return;\n",
              "\n",
              "          const docLinkHtml = 'Like what you see? Visit the ' +\n",
              "            '<a target=\"_blank\" href=https://colab.research.google.com/notebooks/data_table.ipynb>data table notebook</a>'\n",
              "            + ' to learn more about interactive tables.';\n",
              "          element.innerHTML = '';\n",
              "          dataTable['output_type'] = 'display_data';\n",
              "          await google.colab.output.renderOutput(dataTable, element);\n",
              "          const docLink = document.createElement('div');\n",
              "          docLink.innerHTML = docLinkHtml;\n",
              "          element.appendChild(docLink);\n",
              "        }\n",
              "      </script>\n",
              "    </div>\n",
              "  </div>\n",
              "  "
            ]
          },
          "metadata": {},
          "execution_count": 32
        }
      ]
    },
    {
      "cell_type": "markdown",
      "source": [
        "# resize to 960"
      ],
      "metadata": {
        "id": "FnoGnhXTVfQm"
      }
    },
    {
      "cell_type": "code",
      "source": [
        "def resize_image(path,xmin,ymin,xmax,ymax):\n",
        "    img = cv2.imread(f'./dataset/images/{path}')\n",
        "    ky = 640/1080\n",
        "    kx = 640/1920\n",
        "    img2 = cv2.resize(img, (640,640))\n",
        "    cv2.imwrite(f\"./dataset/images2/{path}\",img2)\n",
        "    return xmin*kx*2,ymin*ky*2,xmax*kx*2,ymax*ky*2\n"
      ],
      "metadata": {
        "id": "6Wxs70ZKVW-F"
      },
      "execution_count": null,
      "outputs": []
    },
    {
      "cell_type": "code",
      "source": [
        "kx = 960/640\n",
        "ky = 960/640\n",
        "print(kx,ky)"
      ],
      "metadata": {
        "colab": {
          "base_uri": "https://localhost:8080/"
        },
        "id": "IYXg4HZKWv3s",
        "outputId": "b70cb6ac-0976-4866-f4cb-10a3b08410ee"
      },
      "execution_count": null,
      "outputs": [
        {
          "output_type": "stream",
          "name": "stdout",
          "text": [
            "1.5 1.5\n"
          ]
        }
      ]
    },
    {
      "cell_type": "code",
      "source": [
        "dff['xmax'] = dff['xmax']*kx\n",
        "dff['xmin'] = dff['xmin']*kx\n",
        "dff['ymax'] = dff['ymax']*ky\n",
        "dff['ymin'] = dff['ymin']*ky"
      ],
      "metadata": {
        "id": "GK4ktvI0W4lU"
      },
      "execution_count": null,
      "outputs": []
    },
    {
      "cell_type": "code",
      "source": [
        "dff.head()"
      ],
      "metadata": {
        "colab": {
          "base_uri": "https://localhost:8080/",
          "height": 206
        },
        "id": "DBHfWcHyXOwn",
        "outputId": "0045ec1b-4e8f-4f1d-ece3-46a1e23f26d5"
      },
      "execution_count": null,
      "outputs": [
        {
          "output_type": "execute_result",
          "data": {
            "text/plain": [
              "  class                            image_path               name        xmax  \\\n",
              "0   4.0  8b2c77725e46f1fc311225138275db82.jpg  CONSTRUCTION_ROAD  213.075325   \n",
              "0   3.0  e846938b21e4aba9419da248044cb4d3.jpg            GARBAGE    0.000000   \n",
              "0   4.0  a4022e05023a8c4469cae024e4a77957.jpg  CONSTRUCTION_ROAD  224.526260   \n",
              "0   3.0  dbfc319364fdc777df4e97e1a6e0d4a6.jpg            GARBAGE    0.000000   \n",
              "0   4.0  758e9f1cc7aa08b5027e5614029da39f.jpg  CONSTRUCTION_ROAD  208.293274   \n",
              "\n",
              "        xmin        ymax        ymin  \n",
              "0   8.275223  663.047333  234.743134  \n",
              "0   0.000000    0.000000    0.000000  \n",
              "0   0.000000  676.265808  328.003784  \n",
              "0   0.000000    0.000000    0.000000  \n",
              "0  16.150143  586.449463  347.999519  "
            ],
            "text/html": [
              "\n",
              "  <div id=\"df-3a272085-6f1d-4410-b81e-ba154b2c98e8\">\n",
              "    <div class=\"colab-df-container\">\n",
              "      <div>\n",
              "<style scoped>\n",
              "    .dataframe tbody tr th:only-of-type {\n",
              "        vertical-align: middle;\n",
              "    }\n",
              "\n",
              "    .dataframe tbody tr th {\n",
              "        vertical-align: top;\n",
              "    }\n",
              "\n",
              "    .dataframe thead th {\n",
              "        text-align: right;\n",
              "    }\n",
              "</style>\n",
              "<table border=\"1\" class=\"dataframe\">\n",
              "  <thead>\n",
              "    <tr style=\"text-align: right;\">\n",
              "      <th></th>\n",
              "      <th>class</th>\n",
              "      <th>image_path</th>\n",
              "      <th>name</th>\n",
              "      <th>xmax</th>\n",
              "      <th>xmin</th>\n",
              "      <th>ymax</th>\n",
              "      <th>ymin</th>\n",
              "    </tr>\n",
              "  </thead>\n",
              "  <tbody>\n",
              "    <tr>\n",
              "      <th>0</th>\n",
              "      <td>4.0</td>\n",
              "      <td>8b2c77725e46f1fc311225138275db82.jpg</td>\n",
              "      <td>CONSTRUCTION_ROAD</td>\n",
              "      <td>213.075325</td>\n",
              "      <td>8.275223</td>\n",
              "      <td>663.047333</td>\n",
              "      <td>234.743134</td>\n",
              "    </tr>\n",
              "    <tr>\n",
              "      <th>0</th>\n",
              "      <td>3.0</td>\n",
              "      <td>e846938b21e4aba9419da248044cb4d3.jpg</td>\n",
              "      <td>GARBAGE</td>\n",
              "      <td>0.000000</td>\n",
              "      <td>0.000000</td>\n",
              "      <td>0.000000</td>\n",
              "      <td>0.000000</td>\n",
              "    </tr>\n",
              "    <tr>\n",
              "      <th>0</th>\n",
              "      <td>4.0</td>\n",
              "      <td>a4022e05023a8c4469cae024e4a77957.jpg</td>\n",
              "      <td>CONSTRUCTION_ROAD</td>\n",
              "      <td>224.526260</td>\n",
              "      <td>0.000000</td>\n",
              "      <td>676.265808</td>\n",
              "      <td>328.003784</td>\n",
              "    </tr>\n",
              "    <tr>\n",
              "      <th>0</th>\n",
              "      <td>3.0</td>\n",
              "      <td>dbfc319364fdc777df4e97e1a6e0d4a6.jpg</td>\n",
              "      <td>GARBAGE</td>\n",
              "      <td>0.000000</td>\n",
              "      <td>0.000000</td>\n",
              "      <td>0.000000</td>\n",
              "      <td>0.000000</td>\n",
              "    </tr>\n",
              "    <tr>\n",
              "      <th>0</th>\n",
              "      <td>4.0</td>\n",
              "      <td>758e9f1cc7aa08b5027e5614029da39f.jpg</td>\n",
              "      <td>CONSTRUCTION_ROAD</td>\n",
              "      <td>208.293274</td>\n",
              "      <td>16.150143</td>\n",
              "      <td>586.449463</td>\n",
              "      <td>347.999519</td>\n",
              "    </tr>\n",
              "  </tbody>\n",
              "</table>\n",
              "</div>\n",
              "      <button class=\"colab-df-convert\" onclick=\"convertToInteractive('df-3a272085-6f1d-4410-b81e-ba154b2c98e8')\"\n",
              "              title=\"Convert this dataframe to an interactive table.\"\n",
              "              style=\"display:none;\">\n",
              "        \n",
              "  <svg xmlns=\"http://www.w3.org/2000/svg\" height=\"24px\"viewBox=\"0 0 24 24\"\n",
              "       width=\"24px\">\n",
              "    <path d=\"M0 0h24v24H0V0z\" fill=\"none\"/>\n",
              "    <path d=\"M18.56 5.44l.94 2.06.94-2.06 2.06-.94-2.06-.94-.94-2.06-.94 2.06-2.06.94zm-11 1L8.5 8.5l.94-2.06 2.06-.94-2.06-.94L8.5 2.5l-.94 2.06-2.06.94zm10 10l.94 2.06.94-2.06 2.06-.94-2.06-.94-.94-2.06-.94 2.06-2.06.94z\"/><path d=\"M17.41 7.96l-1.37-1.37c-.4-.4-.92-.59-1.43-.59-.52 0-1.04.2-1.43.59L10.3 9.45l-7.72 7.72c-.78.78-.78 2.05 0 2.83L4 21.41c.39.39.9.59 1.41.59.51 0 1.02-.2 1.41-.59l7.78-7.78 2.81-2.81c.8-.78.8-2.07 0-2.86zM5.41 20L4 18.59l7.72-7.72 1.47 1.35L5.41 20z\"/>\n",
              "  </svg>\n",
              "      </button>\n",
              "      \n",
              "  <style>\n",
              "    .colab-df-container {\n",
              "      display:flex;\n",
              "      flex-wrap:wrap;\n",
              "      gap: 12px;\n",
              "    }\n",
              "\n",
              "    .colab-df-convert {\n",
              "      background-color: #E8F0FE;\n",
              "      border: none;\n",
              "      border-radius: 50%;\n",
              "      cursor: pointer;\n",
              "      display: none;\n",
              "      fill: #1967D2;\n",
              "      height: 32px;\n",
              "      padding: 0 0 0 0;\n",
              "      width: 32px;\n",
              "    }\n",
              "\n",
              "    .colab-df-convert:hover {\n",
              "      background-color: #E2EBFA;\n",
              "      box-shadow: 0px 1px 2px rgba(60, 64, 67, 0.3), 0px 1px 3px 1px rgba(60, 64, 67, 0.15);\n",
              "      fill: #174EA6;\n",
              "    }\n",
              "\n",
              "    [theme=dark] .colab-df-convert {\n",
              "      background-color: #3B4455;\n",
              "      fill: #D2E3FC;\n",
              "    }\n",
              "\n",
              "    [theme=dark] .colab-df-convert:hover {\n",
              "      background-color: #434B5C;\n",
              "      box-shadow: 0px 1px 3px 1px rgba(0, 0, 0, 0.15);\n",
              "      filter: drop-shadow(0px 1px 2px rgba(0, 0, 0, 0.3));\n",
              "      fill: #FFFFFF;\n",
              "    }\n",
              "  </style>\n",
              "\n",
              "      <script>\n",
              "        const buttonEl =\n",
              "          document.querySelector('#df-3a272085-6f1d-4410-b81e-ba154b2c98e8 button.colab-df-convert');\n",
              "        buttonEl.style.display =\n",
              "          google.colab.kernel.accessAllowed ? 'block' : 'none';\n",
              "\n",
              "        async function convertToInteractive(key) {\n",
              "          const element = document.querySelector('#df-3a272085-6f1d-4410-b81e-ba154b2c98e8');\n",
              "          const dataTable =\n",
              "            await google.colab.kernel.invokeFunction('convertToInteractive',\n",
              "                                                     [key], {});\n",
              "          if (!dataTable) return;\n",
              "\n",
              "          const docLinkHtml = 'Like what you see? Visit the ' +\n",
              "            '<a target=\"_blank\" href=https://colab.research.google.com/notebooks/data_table.ipynb>data table notebook</a>'\n",
              "            + ' to learn more about interactive tables.';\n",
              "          element.innerHTML = '';\n",
              "          dataTable['output_type'] = 'display_data';\n",
              "          await google.colab.output.renderOutput(dataTable, element);\n",
              "          const docLink = document.createElement('div');\n",
              "          docLink.innerHTML = docLinkHtml;\n",
              "          element.appendChild(docLink);\n",
              "        }\n",
              "      </script>\n",
              "    </div>\n",
              "  </div>\n",
              "  "
            ]
          },
          "metadata": {},
          "execution_count": 36
        }
      ]
    },
    {
      "cell_type": "code",
      "source": [
        "dff.to_csv('./drive/MyDrive/SDAIA/inference2.csv',index=False)"
      ],
      "metadata": {
        "id": "euuLOlctXN6N"
      },
      "execution_count": null,
      "outputs": []
    },
    {
      "cell_type": "code",
      "source": [],
      "metadata": {
        "id": "OTWP8IgPpaz0"
      },
      "execution_count": null,
      "outputs": []
    }
  ],
  "metadata": {
    "accelerator": "GPU",
    "colab": {
      "provenance": []
    },
    "gpuClass": "standard",
    "kernelspec": {
      "display_name": "sdaias",
      "language": "python",
      "name": "python3"
    },
    "language_info": {
      "codemirror_mode": {
        "name": "ipython",
        "version": 3
      },
      "file_extension": ".py",
      "mimetype": "text/x-python",
      "name": "python",
      "nbconvert_exporter": "python",
      "pygments_lexer": "ipython3",
      "version": "3.8.10"
    },
    "vscode": {
      "interpreter": {
        "hash": "299e6c3e4f235a5230244ac200b1ee16967888d1c8c9320fa2c46ecfbd2f32d2"
      }
    },
    "widgets": {
      "application/vnd.jupyter.widget-state+json": {
        "f8a35ef3a9b044b4815a3a7d3a5ac9cc": {
          "model_module": "@jupyter-widgets/controls",
          "model_name": "HBoxModel",
          "model_module_version": "1.5.0",
          "state": {
            "_dom_classes": [],
            "_model_module": "@jupyter-widgets/controls",
            "_model_module_version": "1.5.0",
            "_model_name": "HBoxModel",
            "_view_count": null,
            "_view_module": "@jupyter-widgets/controls",
            "_view_module_version": "1.5.0",
            "_view_name": "HBoxView",
            "box_style": "",
            "children": [
              "IPY_MODEL_84e41f7a57314844bdd9566d9741e9ab",
              "IPY_MODEL_658513257f814a0e9b84e2c3fce4c57b",
              "IPY_MODEL_f6bd3c6eaf0b4614b3b958b37c7ec8fa"
            ],
            "layout": "IPY_MODEL_de78ab98571f4bb9875e7e349d85ae1b"
          }
        },
        "84e41f7a57314844bdd9566d9741e9ab": {
          "model_module": "@jupyter-widgets/controls",
          "model_name": "HTMLModel",
          "model_module_version": "1.5.0",
          "state": {
            "_dom_classes": [],
            "_model_module": "@jupyter-widgets/controls",
            "_model_module_version": "1.5.0",
            "_model_name": "HTMLModel",
            "_view_count": null,
            "_view_module": "@jupyter-widgets/controls",
            "_view_module_version": "1.5.0",
            "_view_name": "HTMLView",
            "description": "",
            "description_tooltip": null,
            "layout": "IPY_MODEL_3925b6743fa94d7194d19ac6c46645e0",
            "placeholder": "​",
            "style": "IPY_MODEL_4bd7c22af1244a458345baf83f8d80d2",
            "value": "100%"
          }
        },
        "658513257f814a0e9b84e2c3fce4c57b": {
          "model_module": "@jupyter-widgets/controls",
          "model_name": "FloatProgressModel",
          "model_module_version": "1.5.0",
          "state": {
            "_dom_classes": [],
            "_model_module": "@jupyter-widgets/controls",
            "_model_module_version": "1.5.0",
            "_model_name": "FloatProgressModel",
            "_view_count": null,
            "_view_module": "@jupyter-widgets/controls",
            "_view_module_version": "1.5.0",
            "_view_name": "ProgressView",
            "bar_style": "success",
            "description": "",
            "description_tooltip": null,
            "layout": "IPY_MODEL_b954fbeee7d347ada3376c0e68157c88",
            "max": 7874,
            "min": 0,
            "orientation": "horizontal",
            "style": "IPY_MODEL_5000ccc0f757402e944d91744b5fe9c3",
            "value": 7874
          }
        },
        "f6bd3c6eaf0b4614b3b958b37c7ec8fa": {
          "model_module": "@jupyter-widgets/controls",
          "model_name": "HTMLModel",
          "model_module_version": "1.5.0",
          "state": {
            "_dom_classes": [],
            "_model_module": "@jupyter-widgets/controls",
            "_model_module_version": "1.5.0",
            "_model_name": "HTMLModel",
            "_view_count": null,
            "_view_module": "@jupyter-widgets/controls",
            "_view_module_version": "1.5.0",
            "_view_name": "HTMLView",
            "description": "",
            "description_tooltip": null,
            "layout": "IPY_MODEL_33156b6ccd7b4234b9b5d8370e18f4c9",
            "placeholder": "​",
            "style": "IPY_MODEL_72a7cab1bfdb408db641be6c3912f99f",
            "value": " 7874/7874 [00:22&lt;00:00, 589.20it/s]"
          }
        },
        "de78ab98571f4bb9875e7e349d85ae1b": {
          "model_module": "@jupyter-widgets/base",
          "model_name": "LayoutModel",
          "model_module_version": "1.2.0",
          "state": {
            "_model_module": "@jupyter-widgets/base",
            "_model_module_version": "1.2.0",
            "_model_name": "LayoutModel",
            "_view_count": null,
            "_view_module": "@jupyter-widgets/base",
            "_view_module_version": "1.2.0",
            "_view_name": "LayoutView",
            "align_content": null,
            "align_items": null,
            "align_self": null,
            "border": null,
            "bottom": null,
            "display": null,
            "flex": null,
            "flex_flow": null,
            "grid_area": null,
            "grid_auto_columns": null,
            "grid_auto_flow": null,
            "grid_auto_rows": null,
            "grid_column": null,
            "grid_gap": null,
            "grid_row": null,
            "grid_template_areas": null,
            "grid_template_columns": null,
            "grid_template_rows": null,
            "height": null,
            "justify_content": null,
            "justify_items": null,
            "left": null,
            "margin": null,
            "max_height": null,
            "max_width": null,
            "min_height": null,
            "min_width": null,
            "object_fit": null,
            "object_position": null,
            "order": null,
            "overflow": null,
            "overflow_x": null,
            "overflow_y": null,
            "padding": null,
            "right": null,
            "top": null,
            "visibility": null,
            "width": null
          }
        },
        "3925b6743fa94d7194d19ac6c46645e0": {
          "model_module": "@jupyter-widgets/base",
          "model_name": "LayoutModel",
          "model_module_version": "1.2.0",
          "state": {
            "_model_module": "@jupyter-widgets/base",
            "_model_module_version": "1.2.0",
            "_model_name": "LayoutModel",
            "_view_count": null,
            "_view_module": "@jupyter-widgets/base",
            "_view_module_version": "1.2.0",
            "_view_name": "LayoutView",
            "align_content": null,
            "align_items": null,
            "align_self": null,
            "border": null,
            "bottom": null,
            "display": null,
            "flex": null,
            "flex_flow": null,
            "grid_area": null,
            "grid_auto_columns": null,
            "grid_auto_flow": null,
            "grid_auto_rows": null,
            "grid_column": null,
            "grid_gap": null,
            "grid_row": null,
            "grid_template_areas": null,
            "grid_template_columns": null,
            "grid_template_rows": null,
            "height": null,
            "justify_content": null,
            "justify_items": null,
            "left": null,
            "margin": null,
            "max_height": null,
            "max_width": null,
            "min_height": null,
            "min_width": null,
            "object_fit": null,
            "object_position": null,
            "order": null,
            "overflow": null,
            "overflow_x": null,
            "overflow_y": null,
            "padding": null,
            "right": null,
            "top": null,
            "visibility": null,
            "width": null
          }
        },
        "4bd7c22af1244a458345baf83f8d80d2": {
          "model_module": "@jupyter-widgets/controls",
          "model_name": "DescriptionStyleModel",
          "model_module_version": "1.5.0",
          "state": {
            "_model_module": "@jupyter-widgets/controls",
            "_model_module_version": "1.5.0",
            "_model_name": "DescriptionStyleModel",
            "_view_count": null,
            "_view_module": "@jupyter-widgets/base",
            "_view_module_version": "1.2.0",
            "_view_name": "StyleView",
            "description_width": ""
          }
        },
        "b954fbeee7d347ada3376c0e68157c88": {
          "model_module": "@jupyter-widgets/base",
          "model_name": "LayoutModel",
          "model_module_version": "1.2.0",
          "state": {
            "_model_module": "@jupyter-widgets/base",
            "_model_module_version": "1.2.0",
            "_model_name": "LayoutModel",
            "_view_count": null,
            "_view_module": "@jupyter-widgets/base",
            "_view_module_version": "1.2.0",
            "_view_name": "LayoutView",
            "align_content": null,
            "align_items": null,
            "align_self": null,
            "border": null,
            "bottom": null,
            "display": null,
            "flex": null,
            "flex_flow": null,
            "grid_area": null,
            "grid_auto_columns": null,
            "grid_auto_flow": null,
            "grid_auto_rows": null,
            "grid_column": null,
            "grid_gap": null,
            "grid_row": null,
            "grid_template_areas": null,
            "grid_template_columns": null,
            "grid_template_rows": null,
            "height": null,
            "justify_content": null,
            "justify_items": null,
            "left": null,
            "margin": null,
            "max_height": null,
            "max_width": null,
            "min_height": null,
            "min_width": null,
            "object_fit": null,
            "object_position": null,
            "order": null,
            "overflow": null,
            "overflow_x": null,
            "overflow_y": null,
            "padding": null,
            "right": null,
            "top": null,
            "visibility": null,
            "width": null
          }
        },
        "5000ccc0f757402e944d91744b5fe9c3": {
          "model_module": "@jupyter-widgets/controls",
          "model_name": "ProgressStyleModel",
          "model_module_version": "1.5.0",
          "state": {
            "_model_module": "@jupyter-widgets/controls",
            "_model_module_version": "1.5.0",
            "_model_name": "ProgressStyleModel",
            "_view_count": null,
            "_view_module": "@jupyter-widgets/base",
            "_view_module_version": "1.2.0",
            "_view_name": "StyleView",
            "bar_color": null,
            "description_width": ""
          }
        },
        "33156b6ccd7b4234b9b5d8370e18f4c9": {
          "model_module": "@jupyter-widgets/base",
          "model_name": "LayoutModel",
          "model_module_version": "1.2.0",
          "state": {
            "_model_module": "@jupyter-widgets/base",
            "_model_module_version": "1.2.0",
            "_model_name": "LayoutModel",
            "_view_count": null,
            "_view_module": "@jupyter-widgets/base",
            "_view_module_version": "1.2.0",
            "_view_name": "LayoutView",
            "align_content": null,
            "align_items": null,
            "align_self": null,
            "border": null,
            "bottom": null,
            "display": null,
            "flex": null,
            "flex_flow": null,
            "grid_area": null,
            "grid_auto_columns": null,
            "grid_auto_flow": null,
            "grid_auto_rows": null,
            "grid_column": null,
            "grid_gap": null,
            "grid_row": null,
            "grid_template_areas": null,
            "grid_template_columns": null,
            "grid_template_rows": null,
            "height": null,
            "justify_content": null,
            "justify_items": null,
            "left": null,
            "margin": null,
            "max_height": null,
            "max_width": null,
            "min_height": null,
            "min_width": null,
            "object_fit": null,
            "object_position": null,
            "order": null,
            "overflow": null,
            "overflow_x": null,
            "overflow_y": null,
            "padding": null,
            "right": null,
            "top": null,
            "visibility": null,
            "width": null
          }
        },
        "72a7cab1bfdb408db641be6c3912f99f": {
          "model_module": "@jupyter-widgets/controls",
          "model_name": "DescriptionStyleModel",
          "model_module_version": "1.5.0",
          "state": {
            "_model_module": "@jupyter-widgets/controls",
            "_model_module_version": "1.5.0",
            "_model_name": "DescriptionStyleModel",
            "_view_count": null,
            "_view_module": "@jupyter-widgets/base",
            "_view_module_version": "1.2.0",
            "_view_name": "StyleView",
            "description_width": ""
          }
        }
      }
    }
  },
  "nbformat": 4,
  "nbformat_minor": 0
}