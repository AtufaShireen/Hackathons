{
 "cells": [
  {
   "cell_type": "code",
   "execution_count": 16,
   "metadata": {},
   "outputs": [],
   "source": [
    "import numpy as np\n",
    "import pickle\n",
    "import cv2\n",
    "from os import listdir\n",
    "from sklearn.preprocessing import LabelBinarizer,LabelEncoder\n",
    "from keras.models import Sequential\n",
    "from keras.layers import BatchNormalization\n",
    "from keras.layers.convolutional import Conv2D\n",
    "from keras.layers.convolutional import MaxPooling2D\n",
    "from keras.layers.core import Activation, Flatten, Dropout, Dense\n",
    "from keras import backend as K\n",
    "\n",
    "from keras.preprocessing.image import ImageDataGenerator\n",
    "# from keras.optimizer_v1 import Adam\n",
    "# from keras.preprocessing import image\n",
    "# from keras.preprocessing.image import img_to_array2\n",
    "from sklearn.preprocessing import MultiLabelBinarizer\n",
    "from sklearn.model_selection import train_test_split\n",
    "import matplotlib.pyplot as plt\n",
    "import os"
   ]
  },
  {
   "cell_type": "code",
   "execution_count": 17,
   "metadata": {},
   "outputs": [],
   "source": [
    "\n",
    "from numpy.random import seed\n",
    "seed(1)\n",
    "import tensorflow\n",
    "tensorflow.random.set_seed(2)"
   ]
  },
  {
   "cell_type": "code",
   "execution_count": 18,
   "metadata": {},
   "outputs": [],
   "source": [
    "# from keras.optimizers import adam_v2\n",
    "from tensorflow.keras.optimizers import Adam,SGD\n",
    "from PIL import Image"
   ]
  },
  {
   "cell_type": "code",
   "execution_count": 19,
   "metadata": {},
   "outputs": [
    {
     "data": {
      "text/plain": [
       "array([0, 0, 0, ..., 3, 3, 3], dtype=int64)"
      ]
     },
     "execution_count": 19,
     "metadata": {},
     "output_type": "execute_result"
    }
   ],
   "source": [
    "image_labels"
   ]
  },
  {
   "cell_type": "code",
   "execution_count": 20,
   "metadata": {},
   "outputs": [],
   "source": [
    "default_image_size = (60,60)\n",
    "def convert_image_to_array(image_dir):\n",
    "    # if image_dir.split('.')[-1]=='gif':\n",
    "    #     images=Image.open(image_dir).convert('RGB')\n",
    "    #     images = np.asarray(images)\n",
    "    # elif image_dir.split('.')[-1]=='jpg' or image_dir.split('.')[-1]=='JPG' \\\n",
    "    # or image_dir.split('.')[-1]=='png' or image_dir.split('.')[-1]=='jpeg' or image_dir.split('.')[-1]=='jfif':\n",
    "    images=Image.open(image_dir).convert('RGB')\n",
    "    images = np.asarray(images)\n",
    "        # images = cv2.imread(image_dir)\n",
    "    # else:\n",
    "    #     print('Error!')\n",
    "    if images is not None :\n",
    "        images = cv2.resize(images, default_image_size) \n",
    "        images = images / 225.0  \n",
    "        return images\n",
    "    else :\n",
    "        print('Error')\n",
    "        \n",
    "        return np.array([])"
   ]
  },
  {
   "cell_type": "code",
   "execution_count": 21,
   "metadata": {},
   "outputs": [
    {
     "name": "stdout",
     "output_type": "stream",
     "text": [
      "548\n",
      "712\n",
      "712\n",
      "591\n"
     ]
    }
   ],
   "source": [
    "print(len(os.listdir(r'C:\\projects\\digit_prediction\\vision_verse\\data\\train\\train\\crownandrootrot')))\n",
    "print(len(os.listdir(r'C:\\projects\\digit_prediction\\vision_verse\\data\\train\\train\\healthywheat')))\n",
    "print(len(os.listdir(r'C:\\projects\\digit_prediction\\vision_verse\\data\\train\\train\\leafrust')))\n",
    "print(len(os.listdir(r'C:\\projects\\digit_prediction\\vision_verse\\data\\train\\train\\wheatloosesmut')))"
   ]
  },
  {
   "cell_type": "code",
   "execution_count": 22,
   "metadata": {},
   "outputs": [
    {
     "name": "stdout",
     "output_type": "stream",
     "text": [
      "[INFO] Loading images ...\n",
      "[INFO] Processing crownandrootrot ...\n"
     ]
    },
    {
     "name": "stderr",
     "output_type": "stream",
     "text": [
      "c:\\projects\\digit_prediction\\venv\\lib\\site-packages\\PIL\\Image.py:993: UserWarning: Palette images with Transparency expressed in bytes should be converted to RGBA images\n",
      "  \"Palette images with Transparency expressed in bytes should be \"\n"
     ]
    },
    {
     "name": "stdout",
     "output_type": "stream",
     "text": [
      "[INFO] Processing healthywheat ...\n",
      "[INFO] Processing leafrust ...\n",
      "[INFO] Processing wheatloosesmut ...\n",
      "[INFO] Image loading completed\n"
     ]
    }
   ],
   "source": [
    "\n",
    "basepath = r'C:\\projects\\digit_prediction\\vision_verse\\data\\train\\train'\n",
    "image_list, label_list = [], []\n",
    "\n",
    "print(\"[INFO] Loading images ...\")\n",
    "root_dir = listdir(basepath)\n",
    "\n",
    "for plant_disease_folder in root_dir:\n",
    "    print(f\"[INFO] Processing {plant_disease_folder} ...\")\n",
    "    plant_disease_image_list = listdir(os.path.join(basepath,plant_disease_folder))\n",
    "\n",
    "    for images in plant_disease_image_list:\n",
    "        image_directory = os.path.join(basepath,plant_disease_folder,images)\n",
    "        image_list.append(convert_image_to_array(image_directory))\n",
    "        label_list.append(plant_disease_folder)\n",
    "print(\"[INFO] Image loading completed\")  \n"
   ]
  },
  {
   "cell_type": "code",
   "execution_count": 23,
   "metadata": {},
   "outputs": [
    {
     "name": "stdout",
     "output_type": "stream",
     "text": [
      "['crownandrootrot' 'healthywheat' 'leafrust' 'wheatloosesmut']\n"
     ]
    }
   ],
   "source": [
    "label_binarizer = LabelEncoder()\n",
    "image_labels = label_binarizer.fit_transform(label_list)\n",
    "# pickle.dump(label_binarizer,open('label_transform.pkl', 'wb'))\n",
    "n_classes = len(label_binarizer.classes_)\n",
    "print(label_binarizer.classes_)"
   ]
  },
  {
   "cell_type": "code",
   "execution_count": 24,
   "metadata": {},
   "outputs": [],
   "source": [
    "image_list = np.array(image_list)"
   ]
  },
  {
   "cell_type": "code",
   "execution_count": 25,
   "metadata": {},
   "outputs": [],
   "source": [
    "from sklearn.model_selection import train_test_split"
   ]
  },
  {
   "cell_type": "code",
   "execution_count": 26,
   "metadata": {},
   "outputs": [
    {
     "name": "stdout",
     "output_type": "stream",
     "text": [
      "[INFO] Spliting data to train, test\n"
     ]
    }
   ],
   "source": [
    "print(\"[INFO] Spliting data to train, test\")\n",
    "x_train, x_test, y_train, y_test = train_test_split(image_list, image_labels,stratify=image_labels, test_size=0.2, random_state = 42) "
   ]
  },
  {
   "cell_type": "code",
   "execution_count": 13,
   "metadata": {},
   "outputs": [],
   "source": [
    "# augment = ImageDataGenerator(rotation_range=25, width_shift_range=0.1,\n",
    "#                              height_shift_range=0.1, shear_range=0.2, \n",
    "#                              zoom_range=0.2, horizontal_flip=True, \n",
    "#                              fill_mode=\"nearest\")"
   ]
  },
  {
   "cell_type": "code",
   "execution_count": 14,
   "metadata": {},
   "outputs": [],
   "source": [
    "model = Sequential()\n",
    "model.add(Conv2D(input_shape=(60,60,3),filters=64,kernel_size=(3,3),padding=\"same\", activation=\"relu\"))\n",
    "model.add(Conv2D(filters=32,kernel_size=(3,3),padding=\"same\", activation=\"relu\"))\n",
    "model.add(MaxPooling2D(pool_size=(2,2),strides=(2,2)))\n",
    "model.add(Conv2D(filters=32, kernel_size=(3,3), padding=\"same\", activation=\"relu\"))\n",
    "model.add(Conv2D(filters=32, kernel_size=(3,3), padding=\"same\", activation=\"relu\"))\n",
    "model.add(MaxPooling2D(pool_size=(2,2),strides=(2,2)))\n",
    "model.add(Conv2D(filters=64, kernel_size=(3,3), padding=\"same\", activation=\"relu\"))\n",
    "model.add(Conv2D(filters=64, kernel_size=(3,3), padding=\"same\", activation=\"relu\"))\n",
    "model.add(Conv2D(filters=64, kernel_size=(3,3), padding=\"same\", activation=\"relu\"))\n",
    "model.add(MaxPooling2D(pool_size=(2,2),strides=(2,2)))\n",
    "model.add(Conv2D(filters=128, kernel_size=(3,3), padding=\"same\", activation=\"relu\"))\n",
    "model.add(Conv2D(filters=128, kernel_size=(3,3), padding=\"same\", activation=\"relu\"))\n",
    "model.add(Conv2D(filters=128, kernel_size=(3,3), padding=\"same\", activation=\"relu\"))\n",
    "model.add(MaxPooling2D(pool_size=(2,2),strides=(2,2)))\n",
    "model.add(Flatten())\n",
    "model.add(Dense(units=1000,activation=\"relu\"))\n",
    "model.add(Dense(units=500,activation=\"relu\"))\n",
    "model.add(Dense(units=250,activation=\"relu\"))\n",
    "model.add(Dense(units=50,activation=\"relu\"))\n",
    "model.add(Dense(units=4, activation=\"softmax\"))"
   ]
  },
  {
   "cell_type": "code",
   "execution_count": 15,
   "metadata": {},
   "outputs": [
    {
     "name": "stdout",
     "output_type": "stream",
     "text": [
      "Epoch 1/20\n",
      "81/81 [==============================] - 67s 174ms/step - loss: 1.3755 - accuracy: 0.3059 - val_loss: 1.3817 - val_accuracy: 0.2768\n",
      "Epoch 2/20\n",
      "81/81 [==============================] - 6s 72ms/step - loss: 1.3735 - accuracy: 0.2996 - val_loss: 1.8798 - val_accuracy: 0.4074\n",
      "Epoch 3/20\n",
      "81/81 [==============================] - 6s 72ms/step - loss: 1.3228 - accuracy: 0.3921 - val_loss: 1.1882 - val_accuracy: 0.5010\n",
      "Epoch 4/20\n",
      "81/81 [==============================] - 6s 72ms/step - loss: 1.1823 - accuracy: 0.4764 - val_loss: 1.1230 - val_accuracy: 0.4854\n",
      "Epoch 5/20\n",
      "81/81 [==============================] - 6s 72ms/step - loss: 1.1523 - accuracy: 0.4940 - val_loss: 1.0822 - val_accuracy: 0.5302\n",
      "Epoch 6/20\n",
      "81/81 [==============================] - 6s 72ms/step - loss: 1.0865 - accuracy: 0.5271 - val_loss: 1.0290 - val_accuracy: 0.5556\n",
      "Epoch 7/20\n",
      "81/81 [==============================] - 6s 72ms/step - loss: 1.0701 - accuracy: 0.5349 - val_loss: 1.0283 - val_accuracy: 0.6199\n",
      "Epoch 8/20\n",
      "81/81 [==============================] - 6s 73ms/step - loss: 1.0028 - accuracy: 0.5794 - val_loss: 0.9603 - val_accuracy: 0.6062\n",
      "Epoch 9/20\n",
      "81/81 [==============================] - 6s 73ms/step - loss: 0.9325 - accuracy: 0.6130 - val_loss: 0.8144 - val_accuracy: 0.6803\n",
      "Epoch 10/20\n",
      "81/81 [==============================] - 6s 73ms/step - loss: 0.8517 - accuracy: 0.6625 - val_loss: 0.7913 - val_accuracy: 0.6959\n",
      "Epoch 11/20\n",
      "81/81 [==============================] - 6s 72ms/step - loss: 0.7192 - accuracy: 0.7288 - val_loss: 0.6548 - val_accuracy: 0.7544\n",
      "Epoch 12/20\n",
      "81/81 [==============================] - 6s 72ms/step - loss: 0.5598 - accuracy: 0.7944 - val_loss: 0.4390 - val_accuracy: 0.8460\n",
      "Epoch 13/20\n",
      "81/81 [==============================] - 6s 73ms/step - loss: 0.5107 - accuracy: 0.8096 - val_loss: 0.3756 - val_accuracy: 0.8694\n",
      "Epoch 14/20\n",
      "81/81 [==============================] - 6s 72ms/step - loss: 0.3832 - accuracy: 0.8670 - val_loss: 0.2868 - val_accuracy: 0.9045\n",
      "Epoch 15/20\n",
      "81/81 [==============================] - 6s 72ms/step - loss: 0.3099 - accuracy: 0.8935 - val_loss: 0.2899 - val_accuracy: 0.8947\n",
      "Epoch 16/20\n",
      "81/81 [==============================] - 6s 73ms/step - loss: 0.3206 - accuracy: 0.8974 - val_loss: 0.4673 - val_accuracy: 0.8265\n",
      "Epoch 17/20\n",
      "81/81 [==============================] - 6s 72ms/step - loss: 0.2812 - accuracy: 0.9118 - val_loss: 0.1613 - val_accuracy: 0.9493\n",
      "Epoch 18/20\n",
      "81/81 [==============================] - 6s 72ms/step - loss: 0.1598 - accuracy: 0.9473 - val_loss: 0.1393 - val_accuracy: 0.9513\n",
      "Epoch 19/20\n",
      "81/81 [==============================] - 6s 72ms/step - loss: 0.1325 - accuracy: 0.9555 - val_loss: 0.0812 - val_accuracy: 0.9786\n",
      "Epoch 20/20\n",
      "81/81 [==============================] - 6s 72ms/step - loss: 0.1061 - accuracy: 0.9696 - val_loss: 0.1081 - val_accuracy: 0.9688\n"
     ]
    }
   ],
   "source": [
    "\n",
    "opt =Adam(learning_rate=0.001)\n",
    "model.compile(optimizer=opt, loss='sparse_categorical_crossentropy', metrics=['accuracy'])\n",
    "hist = model.fit(image_list,image_labels,epochs=20,verbose=1,validation_data=(x_test,y_test))\n"
   ]
  },
  {
   "cell_type": "code",
   "execution_count": null,
   "metadata": {},
   "outputs": [
    {
     "name": "stdout",
     "output_type": "stream",
     "text": [
      "0.9941530129804808\n"
     ]
    }
   ],
   "source": [
    "# print(cnn.evaluate(x_test,y_test))\n",
    "# cnn.fit(x_train, y_train, epochs=50,verbose=1,validation_data=(x_test,y_test))\n",
    "y_pred = model.predict(x_test)\n",
    "y_classes = [np.argmax(element) for element in y_pred]\n",
    "from sklearn.metrics import f1_score\n",
    "print(f1_score(y_test,y_classes,average='weighted'))"
   ]
  },
  {
   "cell_type": "markdown",
   "metadata": {},
   "source": [
    "* 0.902479156153312\n",
    "* 0.924073726300525\n",
    "* 0.978598125154676\n",
    "* 0.9941530129804808"
   ]
  },
  {
   "cell_type": "code",
   "execution_count": 57,
   "metadata": {},
   "outputs": [
    {
     "name": "stdout",
     "output_type": "stream",
     "text": [
      "Classification Report: \n",
      "               precision    recall  f1-score   support\n",
      "\n",
      "           0       0.96      0.99      0.97       110\n",
      "           1       0.97      0.97      0.97       143\n",
      "           2       1.00      0.99      0.99       142\n",
      "           3       0.98      0.97      0.97       118\n",
      "\n",
      "    accuracy                           0.98       513\n",
      "   macro avg       0.98      0.98      0.98       513\n",
      "weighted avg       0.98      0.98      0.98       513\n",
      "\n"
     ]
    }
   ],
   "source": [
    "from sklearn.metrics import classification_report\n",
    "print(\"Classification Report: \\n\", classification_report(y_test, y_classes))"
   ]
  },
  {
   "cell_type": "code",
   "execution_count": 400,
   "metadata": {},
   "outputs": [
    {
     "name": "stderr",
     "output_type": "stream",
     "text": [
      "Clipping input data to the valid range for imshow with RGB data ([0..1] for floats or [0..255] for integers).\n"
     ]
    },
    {
     "data": {
      "text/plain": [
       "<matplotlib.image.AxesImage at 0x27b93fb8788>"
      ]
     },
     "execution_count": 400,
     "metadata": {},
     "output_type": "execute_result"
    },
    {
     "data": {
      "image/png": "[encoded data removed]",
      "text/plain": [
       "<Figure size 432x288 with 1 Axes>"
      ]
     },
     "metadata": {
      "needs_background": "light"
     },
     "output_type": "display_data"
    }
   ],
   "source": [
    "plt.imshow(x_test[2])"
   ]
  },
  {
   "cell_type": "code",
   "execution_count": 304,
   "metadata": {},
   "outputs": [],
   "source": [
    "# cnn.save('models')"
   ]
  },
  {
   "cell_type": "markdown",
   "metadata": {},
   "source": [
    "Test"
   ]
  },
  {
   "cell_type": "code",
   "execution_count": 34,
   "metadata": {},
   "outputs": [
    {
     "name": "stdout",
     "output_type": "stream",
     "text": [
      "[INFO] Loading images ...\n",
      "[INFO] Image loading completed\n"
     ]
    }
   ],
   "source": [
    "\n",
    "basepath = r'C:\\projects\\digit_prediction\\vision_verse\\data\\test'\n",
    "timage_list, tlabel_list = [], []\n",
    "\n",
    "print(\"[INFO] Loading images ...\")\n",
    "root_dir = listdir(basepath)\n",
    "\n",
    "for images in root_dir:\n",
    "    image_directory = os.path.join(basepath,images)\n",
    "    timage_list.append(convert_image_to_array(image_directory))\n",
    "print(\"[INFO] Image loading completed\")"
   ]
  },
  {
   "cell_type": "code",
   "execution_count": 35,
   "metadata": {},
   "outputs": [
    {
     "data": {
      "text/plain": [
       "1101"
      ]
     },
     "execution_count": 35,
     "metadata": {},
     "output_type": "execute_result"
    }
   ],
   "source": [
    "len(timage_list)"
   ]
  },
  {
   "cell_type": "code",
   "execution_count": 36,
   "metadata": {},
   "outputs": [],
   "source": [
    "timage_list = np.array(timage_list)"
   ]
  },
  {
   "cell_type": "code",
   "execution_count": 79,
   "metadata": {},
   "outputs": [],
   "source": [
    "preds = cnn.predict(timage_list)"
   ]
  },
  {
   "cell_type": "code",
   "execution_count": 80,
   "metadata": {},
   "outputs": [],
   "source": [
    "yclasses = [np.argmax(element) for element in preds]"
   ]
  },
  {
   "cell_type": "code",
   "execution_count": 81,
   "metadata": {},
   "outputs": [],
   "source": [
    "import pandas as pd\n",
    "classes = label_binarizer.inverse_transform(yclasses)\n",
    "sub = pd.DataFrame(data={\n",
    "    'path':os.listdir(basepath),\n",
    "    'label':classes\n",
    "})"
   ]
  },
  {
   "cell_type": "code",
   "execution_count": 82,
   "metadata": {},
   "outputs": [
    {
     "data": {
      "text/html": [
       "<div>\n",
       "<style scoped>\n",
       "    .dataframe tbody tr th:only-of-type {\n",
       "        vertical-align: middle;\n",
       "    }\n",
       "\n",
       "    .dataframe tbody tr th {\n",
       "        vertical-align: top;\n",
       "    }\n",
       "\n",
       "    .dataframe thead th {\n",
       "        text-align: right;\n",
       "    }\n",
       "</style>\n",
       "<table border=\"1\" class=\"dataframe\">\n",
       "  <thead>\n",
       "    <tr style=\"text-align: right;\">\n",
       "      <th></th>\n",
       "      <th>path</th>\n",
       "      <th>label</th>\n",
       "    </tr>\n",
       "  </thead>\n",
       "  <tbody>\n",
       "    <tr>\n",
       "      <th>0</th>\n",
       "      <td>0000.jpg</td>\n",
       "      <td>crownandrootrot</td>\n",
       "    </tr>\n",
       "    <tr>\n",
       "      <th>1</th>\n",
       "      <td>0001.jpg</td>\n",
       "      <td>crownandrootrot</td>\n",
       "    </tr>\n",
       "    <tr>\n",
       "      <th>2</th>\n",
       "      <td>00010.jpg</td>\n",
       "      <td>crownandrootrot</td>\n",
       "    </tr>\n",
       "    <tr>\n",
       "      <th>3</th>\n",
       "      <td>000100.jpg</td>\n",
       "      <td>crownandrootrot</td>\n",
       "    </tr>\n",
       "    <tr>\n",
       "      <th>4</th>\n",
       "      <td>0001000.jpg</td>\n",
       "      <td>wheatloosesmut</td>\n",
       "    </tr>\n",
       "  </tbody>\n",
       "</table>\n",
       "</div>"
      ],
      "text/plain": [
       "          path            label\n",
       "0     0000.jpg  crownandrootrot\n",
       "1     0001.jpg  crownandrootrot\n",
       "2    00010.jpg  crownandrootrot\n",
       "3   000100.jpg  crownandrootrot\n",
       "4  0001000.jpg   wheatloosesmut"
      ]
     },
     "execution_count": 82,
     "metadata": {},
     "output_type": "execute_result"
    }
   ],
   "source": [
    "sub.head()"
   ]
  },
  {
   "cell_type": "code",
   "execution_count": 83,
   "metadata": {},
   "outputs": [],
   "source": [
    "sub['path'] = sub['path'].apply(lambda x: f\"data/test/{x}\")"
   ]
  },
  {
   "cell_type": "code",
   "execution_count": 84,
   "metadata": {},
   "outputs": [
    {
     "data": {
      "text/html": [
       "<div>\n",
       "<style scoped>\n",
       "    .dataframe tbody tr th:only-of-type {\n",
       "        vertical-align: middle;\n",
       "    }\n",
       "\n",
       "    .dataframe tbody tr th {\n",
       "        vertical-align: top;\n",
       "    }\n",
       "\n",
       "    .dataframe thead th {\n",
       "        text-align: right;\n",
       "    }\n",
       "</style>\n",
       "<table border=\"1\" class=\"dataframe\">\n",
       "  <thead>\n",
       "    <tr style=\"text-align: right;\">\n",
       "      <th></th>\n",
       "      <th>path</th>\n",
       "      <th>label</th>\n",
       "    </tr>\n",
       "  </thead>\n",
       "  <tbody>\n",
       "    <tr>\n",
       "      <th>0</th>\n",
       "      <td>data/test/0000.jpg</td>\n",
       "      <td>crownandrootrot</td>\n",
       "    </tr>\n",
       "    <tr>\n",
       "      <th>1</th>\n",
       "      <td>data/test/0001.jpg</td>\n",
       "      <td>crownandrootrot</td>\n",
       "    </tr>\n",
       "    <tr>\n",
       "      <th>2</th>\n",
       "      <td>data/test/00010.jpg</td>\n",
       "      <td>crownandrootrot</td>\n",
       "    </tr>\n",
       "    <tr>\n",
       "      <th>3</th>\n",
       "      <td>data/test/000100.jpg</td>\n",
       "      <td>crownandrootrot</td>\n",
       "    </tr>\n",
       "    <tr>\n",
       "      <th>4</th>\n",
       "      <td>data/test/0001000.jpg</td>\n",
       "      <td>wheatloosesmut</td>\n",
       "    </tr>\n",
       "  </tbody>\n",
       "</table>\n",
       "</div>"
      ],
      "text/plain": [
       "                    path            label\n",
       "0     data/test/0000.jpg  crownandrootrot\n",
       "1     data/test/0001.jpg  crownandrootrot\n",
       "2    data/test/00010.jpg  crownandrootrot\n",
       "3   data/test/000100.jpg  crownandrootrot\n",
       "4  data/test/0001000.jpg   wheatloosesmut"
      ]
     },
     "execution_count": 84,
     "metadata": {},
     "output_type": "execute_result"
    }
   ],
   "source": [
    "sub.head()"
   ]
  },
  {
   "cell_type": "code",
   "execution_count": 85,
   "metadata": {},
   "outputs": [],
   "source": [
    "sub.to_csv(r'C:\\projects\\digit_prediction\\vision_verse\\submissions\\sub10.csv',index=False)"
   ]
  },
  {
   "cell_type": "code",
   "execution_count": 65,
   "metadata": {},
   "outputs": [
    {
     "data": {
      "text/plain": [
       "leafrust           304\n",
       "healthywheat       289\n",
       "crownandrootrot    274\n",
       "wheatloosesmut     234\n",
       "Name: label, dtype: int64"
      ]
     },
     "execution_count": 65,
     "metadata": {},
     "output_type": "execute_result"
    }
   ],
   "source": [
    "sub['label'].value_counts()"
   ]
  },
  {
   "cell_type": "code",
   "execution_count": null,
   "metadata": {},
   "outputs": [],
   "source": []
  }
 ],
 "metadata": {
  "interpreter": {
   "hash": "f863957d7900215f0188833c8951c85aa5ce4efd5a05e0f4333c2cff58019422"
  },
  "kernelspec": {
   "display_name": "Python 3.7.9 ('venv': venv)",
   "language": "python",
   "name": "python3"
  },
  "language_info": {
   "codemirror_mode": {
    "name": "ipython",
    "version": 3
   },
   "file_extension": ".py",
   "mimetype": "text/x-python",
   "name": "python",
   "nbconvert_exporter": "python",
   "pygments_lexer": "ipython3",
   "version": "3.7.9"
  },
  "orig_nbformat": 4
 },
 "nbformat": 4,
 "nbformat_minor": 2
}
