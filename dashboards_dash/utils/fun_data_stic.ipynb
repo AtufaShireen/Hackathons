{
  "nbformat": 4,
  "nbformat_minor": 0,
  "metadata": {
    "colab": {
      "name": "fun-data-stic",
      "provenance": [],
      "collapsed_sections": []
    },
    "kernelspec": {
      "name": "python3",
      "display_name": "Python 3"
    },
    "language_info": {
      "name": "python"
    }
  },
  "cells": [
    {
      "cell_type": "code",
      "execution_count": null,
      "metadata": {
        "id": "kHFWLEZvCaII"
      },
      "outputs": [],
      "source": [
        "import pandas as pd \n",
        "import matplotlib.pyplot as plt\n",
        "import numpy as np"
      ]
    },
    {
      "cell_type": "code",
      "source": [
        "df = pd.read_csv('/content/drive/MyDrive/fundatastats/Suicides_in_India.csv.csv')"
      ],
      "metadata": {
        "id": "niEWpoImCy7D"
      },
      "execution_count": null,
      "outputs": []
    },
    {
      "cell_type": "code",
      "source": [
        "df.info()"
      ],
      "metadata": {
        "colab": {
          "base_uri": "https://localhost:8080/"
        },
        "id": "3urL6HYLC8oX",
        "outputId": "29d5eb59-d9ab-4fb2-d85f-27ae4dfe3944"
      },
      "execution_count": null,
      "outputs": [
        {
          "output_type": "stream",
          "name": "stdout",
          "text": [
            "<class 'pandas.core.frame.DataFrame'>\n",
            "RangeIndex: 237519 entries, 0 to 237518\n",
            "Data columns (total 7 columns):\n",
            " #   Column     Non-Null Count   Dtype \n",
            "---  ------     --------------   ----- \n",
            " 0   State      237519 non-null  object\n",
            " 1   Year       237519 non-null  int64 \n",
            " 2   Type_code  237519 non-null  object\n",
            " 3   Type       237519 non-null  object\n",
            " 4   Gender     237519 non-null  object\n",
            " 5   Age_group  237519 non-null  object\n",
            " 6   Total      237519 non-null  int64 \n",
            "dtypes: int64(2), object(5)\n",
            "memory usage: 12.7+ MB\n"
          ]
        }
      ]
    },
    {
      "cell_type": "code",
      "source": [
        "df.head()"
      ],
      "metadata": {
        "colab": {
          "base_uri": "https://localhost:8080/",
          "height": 206
        },
        "id": "kba7K4ofESR1",
        "outputId": "b50f6f2b-ddd7-4270-9c30-33be85bcae61"
      },
      "execution_count": null,
      "outputs": [
        {
          "output_type": "execute_result",
          "data": {
            "text/plain": [
              "           State  Year Type_code                                 Type  Gender  \\\n",
              "0  A & N ISLANDS  2001    Causes                               Cancer    Male   \n",
              "1  A & N ISLANDS  2001    Causes                              Divorce    Male   \n",
              "2  A & N ISLANDS  2001    Causes                        Dowry Dispute  Female   \n",
              "3  A & N ISLANDS  2001    Causes  Ideological Causes/Hero Worshipping  Female   \n",
              "4  A & N ISLANDS  2001    Causes                   Illness (Aids/STD)  Female   \n",
              "\n",
              "  Age_group  Total  \n",
              "0     15-29      0  \n",
              "1       60+      0  \n",
              "2       60+      0  \n",
              "3       60+      0  \n",
              "4      0-14      0  "
            ],
            "text/html": [
              "\n",
              "  <div id=\"df-8eea8aba-f390-4c54-a432-36a035d6b4be\">\n",
              "    <div class=\"colab-df-container\">\n",
              "      <div>\n",
              "<style scoped>\n",
              "    .dataframe tbody tr th:only-of-type {\n",
              "        vertical-align: middle;\n",
              "    }\n",
              "\n",
              "    .dataframe tbody tr th {\n",
              "        vertical-align: top;\n",
              "    }\n",
              "\n",
              "    .dataframe thead th {\n",
              "        text-align: right;\n",
              "    }\n",
              "</style>\n",
              "<table border=\"1\" class=\"dataframe\">\n",
              "  <thead>\n",
              "    <tr style=\"text-align: right;\">\n",
              "      <th></th>\n",
              "      <th>State</th>\n",
              "      <th>Year</th>\n",
              "      <th>Type_code</th>\n",
              "      <th>Type</th>\n",
              "      <th>Gender</th>\n",
              "      <th>Age_group</th>\n",
              "      <th>Total</th>\n",
              "    </tr>\n",
              "  </thead>\n",
              "  <tbody>\n",
              "    <tr>\n",
              "      <th>0</th>\n",
              "      <td>A &amp; N ISLANDS</td>\n",
              "      <td>2001</td>\n",
              "      <td>Causes</td>\n",
              "      <td>Cancer</td>\n",
              "      <td>Male</td>\n",
              "      <td>15-29</td>\n",
              "      <td>0</td>\n",
              "    </tr>\n",
              "    <tr>\n",
              "      <th>1</th>\n",
              "      <td>A &amp; N ISLANDS</td>\n",
              "      <td>2001</td>\n",
              "      <td>Causes</td>\n",
              "      <td>Divorce</td>\n",
              "      <td>Male</td>\n",
              "      <td>60+</td>\n",
              "      <td>0</td>\n",
              "    </tr>\n",
              "    <tr>\n",
              "      <th>2</th>\n",
              "      <td>A &amp; N ISLANDS</td>\n",
              "      <td>2001</td>\n",
              "      <td>Causes</td>\n",
              "      <td>Dowry Dispute</td>\n",
              "      <td>Female</td>\n",
              "      <td>60+</td>\n",
              "      <td>0</td>\n",
              "    </tr>\n",
              "    <tr>\n",
              "      <th>3</th>\n",
              "      <td>A &amp; N ISLANDS</td>\n",
              "      <td>2001</td>\n",
              "      <td>Causes</td>\n",
              "      <td>Ideological Causes/Hero Worshipping</td>\n",
              "      <td>Female</td>\n",
              "      <td>60+</td>\n",
              "      <td>0</td>\n",
              "    </tr>\n",
              "    <tr>\n",
              "      <th>4</th>\n",
              "      <td>A &amp; N ISLANDS</td>\n",
              "      <td>2001</td>\n",
              "      <td>Causes</td>\n",
              "      <td>Illness (Aids/STD)</td>\n",
              "      <td>Female</td>\n",
              "      <td>0-14</td>\n",
              "      <td>0</td>\n",
              "    </tr>\n",
              "  </tbody>\n",
              "</table>\n",
              "</div>\n",
              "      <button class=\"colab-df-convert\" onclick=\"convertToInteractive('df-8eea8aba-f390-4c54-a432-36a035d6b4be')\"\n",
              "              title=\"Convert this dataframe to an interactive table.\"\n",
              "              style=\"display:none;\">\n",
              "        \n",
              "  <svg xmlns=\"http://www.w3.org/2000/svg\" height=\"24px\"viewBox=\"0 0 24 24\"\n",
              "       width=\"24px\">\n",
              "    <path d=\"M0 0h24v24H0V0z\" fill=\"none\"/>\n",
              "    <path d=\"M18.56 5.44l.94 2.06.94-2.06 2.06-.94-2.06-.94-.94-2.06-.94 2.06-2.06.94zm-11 1L8.5 8.5l.94-2.06 2.06-.94-2.06-.94L8.5 2.5l-.94 2.06-2.06.94zm10 10l.94 2.06.94-2.06 2.06-.94-2.06-.94-.94-2.06-.94 2.06-2.06.94z\"/><path d=\"M17.41 7.96l-1.37-1.37c-.4-.4-.92-.59-1.43-.59-.52 0-1.04.2-1.43.59L10.3 9.45l-7.72 7.72c-.78.78-.78 2.05 0 2.83L4 21.41c.39.39.9.59 1.41.59.51 0 1.02-.2 1.41-.59l7.78-7.78 2.81-2.81c.8-.78.8-2.07 0-2.86zM5.41 20L4 18.59l7.72-7.72 1.47 1.35L5.41 20z\"/>\n",
              "  </svg>\n",
              "      </button>\n",
              "      \n",
              "  <style>\n",
              "    .colab-df-container {\n",
              "      display:flex;\n",
              "      flex-wrap:wrap;\n",
              "      gap: 12px;\n",
              "    }\n",
              "\n",
              "    .colab-df-convert {\n",
              "      background-color: #E8F0FE;\n",
              "      border: none;\n",
              "      border-radius: 50%;\n",
              "      cursor: pointer;\n",
              "      display: none;\n",
              "      fill: #1967D2;\n",
              "      height: 32px;\n",
              "      padding: 0 0 0 0;\n",
              "      width: 32px;\n",
              "    }\n",
              "\n",
              "    .colab-df-convert:hover {\n",
              "      background-color: #E2EBFA;\n",
              "      box-shadow: 0px 1px 2px rgba(60, 64, 67, 0.3), 0px 1px 3px 1px rgba(60, 64, 67, 0.15);\n",
              "      fill: #174EA6;\n",
              "    }\n",
              "\n",
              "    [theme=dark] .colab-df-convert {\n",
              "      background-color: #3B4455;\n",
              "      fill: #D2E3FC;\n",
              "    }\n",
              "\n",
              "    [theme=dark] .colab-df-convert:hover {\n",
              "      background-color: #434B5C;\n",
              "      box-shadow: 0px 1px 3px 1px rgba(0, 0, 0, 0.15);\n",
              "      filter: drop-shadow(0px 1px 2px rgba(0, 0, 0, 0.3));\n",
              "      fill: #FFFFFF;\n",
              "    }\n",
              "  </style>\n",
              "\n",
              "      <script>\n",
              "        const buttonEl =\n",
              "          document.querySelector('#df-8eea8aba-f390-4c54-a432-36a035d6b4be button.colab-df-convert');\n",
              "        buttonEl.style.display =\n",
              "          google.colab.kernel.accessAllowed ? 'block' : 'none';\n",
              "\n",
              "        async function convertToInteractive(key) {\n",
              "          const element = document.querySelector('#df-8eea8aba-f390-4c54-a432-36a035d6b4be');\n",
              "          const dataTable =\n",
              "            await google.colab.kernel.invokeFunction('convertToInteractive',\n",
              "                                                     [key], {});\n",
              "          if (!dataTable) return;\n",
              "\n",
              "          const docLinkHtml = 'Like what you see? Visit the ' +\n",
              "            '<a target=\"_blank\" href=https://colab.research.google.com/notebooks/data_table.ipynb>data table notebook</a>'\n",
              "            + ' to learn more about interactive tables.';\n",
              "          element.innerHTML = '';\n",
              "          dataTable['output_type'] = 'display_data';\n",
              "          await google.colab.output.renderOutput(dataTable, element);\n",
              "          const docLink = document.createElement('div');\n",
              "          docLink.innerHTML = docLinkHtml;\n",
              "          element.appendChild(docLink);\n",
              "        }\n",
              "      </script>\n",
              "    </div>\n",
              "  </div>\n",
              "  "
            ]
          },
          "metadata": {},
          "execution_count": 4
        }
      ]
    },
    {
      "cell_type": "code",
      "source": [
        "df.tail()"
      ],
      "metadata": {
        "colab": {
          "base_uri": "https://localhost:8080/",
          "height": 206
        },
        "id": "Xx_uAYN8JMCg",
        "outputId": "4b7da669-8aa6-4604-af14-2ab307c724af"
      },
      "execution_count": null,
      "outputs": [
        {
          "output_type": "execute_result",
          "data": {
            "text/plain": [
              "              State  Year             Type_code  \\\n",
              "237514  WEST BENGAL  2012  Professional_Profile   \n",
              "237515  WEST BENGAL  2012  Professional_Profile   \n",
              "237516  WEST BENGAL  2012  Professional_Profile   \n",
              "237517  WEST BENGAL  2012  Professional_Profile   \n",
              "237518  WEST BENGAL  2012         Social_Status   \n",
              "\n",
              "                                     Type Gender Age_group  Total  \n",
              "237514              Professional Activity   Male       60+      0  \n",
              "237515  Self-employed (Business activity)   Male      0-14      0  \n",
              "237516               Service (Government)   Male     15-29      0  \n",
              "237517               Service (Government)   Male       60+      0  \n",
              "237518                      Never Married   Male    0-100+   2658  "
            ],
            "text/html": [
              "\n",
              "  <div id=\"df-6aad8c7c-6204-440e-b350-82a7899bff61\">\n",
              "    <div class=\"colab-df-container\">\n",
              "      <div>\n",
              "<style scoped>\n",
              "    .dataframe tbody tr th:only-of-type {\n",
              "        vertical-align: middle;\n",
              "    }\n",
              "\n",
              "    .dataframe tbody tr th {\n",
              "        vertical-align: top;\n",
              "    }\n",
              "\n",
              "    .dataframe thead th {\n",
              "        text-align: right;\n",
              "    }\n",
              "</style>\n",
              "<table border=\"1\" class=\"dataframe\">\n",
              "  <thead>\n",
              "    <tr style=\"text-align: right;\">\n",
              "      <th></th>\n",
              "      <th>State</th>\n",
              "      <th>Year</th>\n",
              "      <th>Type_code</th>\n",
              "      <th>Type</th>\n",
              "      <th>Gender</th>\n",
              "      <th>Age_group</th>\n",
              "      <th>Total</th>\n",
              "    </tr>\n",
              "  </thead>\n",
              "  <tbody>\n",
              "    <tr>\n",
              "      <th>237514</th>\n",
              "      <td>WEST BENGAL</td>\n",
              "      <td>2012</td>\n",
              "      <td>Professional_Profile</td>\n",
              "      <td>Professional Activity</td>\n",
              "      <td>Male</td>\n",
              "      <td>60+</td>\n",
              "      <td>0</td>\n",
              "    </tr>\n",
              "    <tr>\n",
              "      <th>237515</th>\n",
              "      <td>WEST BENGAL</td>\n",
              "      <td>2012</td>\n",
              "      <td>Professional_Profile</td>\n",
              "      <td>Self-employed (Business activity)</td>\n",
              "      <td>Male</td>\n",
              "      <td>0-14</td>\n",
              "      <td>0</td>\n",
              "    </tr>\n",
              "    <tr>\n",
              "      <th>237516</th>\n",
              "      <td>WEST BENGAL</td>\n",
              "      <td>2012</td>\n",
              "      <td>Professional_Profile</td>\n",
              "      <td>Service (Government)</td>\n",
              "      <td>Male</td>\n",
              "      <td>15-29</td>\n",
              "      <td>0</td>\n",
              "    </tr>\n",
              "    <tr>\n",
              "      <th>237517</th>\n",
              "      <td>WEST BENGAL</td>\n",
              "      <td>2012</td>\n",
              "      <td>Professional_Profile</td>\n",
              "      <td>Service (Government)</td>\n",
              "      <td>Male</td>\n",
              "      <td>60+</td>\n",
              "      <td>0</td>\n",
              "    </tr>\n",
              "    <tr>\n",
              "      <th>237518</th>\n",
              "      <td>WEST BENGAL</td>\n",
              "      <td>2012</td>\n",
              "      <td>Social_Status</td>\n",
              "      <td>Never Married</td>\n",
              "      <td>Male</td>\n",
              "      <td>0-100+</td>\n",
              "      <td>2658</td>\n",
              "    </tr>\n",
              "  </tbody>\n",
              "</table>\n",
              "</div>\n",
              "      <button class=\"colab-df-convert\" onclick=\"convertToInteractive('df-6aad8c7c-6204-440e-b350-82a7899bff61')\"\n",
              "              title=\"Convert this dataframe to an interactive table.\"\n",
              "              style=\"display:none;\">\n",
              "        \n",
              "  <svg xmlns=\"http://www.w3.org/2000/svg\" height=\"24px\"viewBox=\"0 0 24 24\"\n",
              "       width=\"24px\">\n",
              "    <path d=\"M0 0h24v24H0V0z\" fill=\"none\"/>\n",
              "    <path d=\"M18.56 5.44l.94 2.06.94-2.06 2.06-.94-2.06-.94-.94-2.06-.94 2.06-2.06.94zm-11 1L8.5 8.5l.94-2.06 2.06-.94-2.06-.94L8.5 2.5l-.94 2.06-2.06.94zm10 10l.94 2.06.94-2.06 2.06-.94-2.06-.94-.94-2.06-.94 2.06-2.06.94z\"/><path d=\"M17.41 7.96l-1.37-1.37c-.4-.4-.92-.59-1.43-.59-.52 0-1.04.2-1.43.59L10.3 9.45l-7.72 7.72c-.78.78-.78 2.05 0 2.83L4 21.41c.39.39.9.59 1.41.59.51 0 1.02-.2 1.41-.59l7.78-7.78 2.81-2.81c.8-.78.8-2.07 0-2.86zM5.41 20L4 18.59l7.72-7.72 1.47 1.35L5.41 20z\"/>\n",
              "  </svg>\n",
              "      </button>\n",
              "      \n",
              "  <style>\n",
              "    .colab-df-container {\n",
              "      display:flex;\n",
              "      flex-wrap:wrap;\n",
              "      gap: 12px;\n",
              "    }\n",
              "\n",
              "    .colab-df-convert {\n",
              "      background-color: #E8F0FE;\n",
              "      border: none;\n",
              "      border-radius: 50%;\n",
              "      cursor: pointer;\n",
              "      display: none;\n",
              "      fill: #1967D2;\n",
              "      height: 32px;\n",
              "      padding: 0 0 0 0;\n",
              "      width: 32px;\n",
              "    }\n",
              "\n",
              "    .colab-df-convert:hover {\n",
              "      background-color: #E2EBFA;\n",
              "      box-shadow: 0px 1px 2px rgba(60, 64, 67, 0.3), 0px 1px 3px 1px rgba(60, 64, 67, 0.15);\n",
              "      fill: #174EA6;\n",
              "    }\n",
              "\n",
              "    [theme=dark] .colab-df-convert {\n",
              "      background-color: #3B4455;\n",
              "      fill: #D2E3FC;\n",
              "    }\n",
              "\n",
              "    [theme=dark] .colab-df-convert:hover {\n",
              "      background-color: #434B5C;\n",
              "      box-shadow: 0px 1px 3px 1px rgba(0, 0, 0, 0.15);\n",
              "      filter: drop-shadow(0px 1px 2px rgba(0, 0, 0, 0.3));\n",
              "      fill: #FFFFFF;\n",
              "    }\n",
              "  </style>\n",
              "\n",
              "      <script>\n",
              "        const buttonEl =\n",
              "          document.querySelector('#df-6aad8c7c-6204-440e-b350-82a7899bff61 button.colab-df-convert');\n",
              "        buttonEl.style.display =\n",
              "          google.colab.kernel.accessAllowed ? 'block' : 'none';\n",
              "\n",
              "        async function convertToInteractive(key) {\n",
              "          const element = document.querySelector('#df-6aad8c7c-6204-440e-b350-82a7899bff61');\n",
              "          const dataTable =\n",
              "            await google.colab.kernel.invokeFunction('convertToInteractive',\n",
              "                                                     [key], {});\n",
              "          if (!dataTable) return;\n",
              "\n",
              "          const docLinkHtml = 'Like what you see? Visit the ' +\n",
              "            '<a target=\"_blank\" href=https://colab.research.google.com/notebooks/data_table.ipynb>data table notebook</a>'\n",
              "            + ' to learn more about interactive tables.';\n",
              "          element.innerHTML = '';\n",
              "          dataTable['output_type'] = 'display_data';\n",
              "          await google.colab.output.renderOutput(dataTable, element);\n",
              "          const docLink = document.createElement('div');\n",
              "          docLink.innerHTML = docLinkHtml;\n",
              "          element.appendChild(docLink);\n",
              "        }\n",
              "      </script>\n",
              "    </div>\n",
              "  </div>\n",
              "  "
            ]
          },
          "metadata": {},
          "execution_count": 5
        }
      ]
    },
    {
      "cell_type": "code",
      "source": [
        "df.isnull().sum()"
      ],
      "metadata": {
        "colab": {
          "base_uri": "https://localhost:8080/"
        },
        "id": "Md2QP9yxETxE",
        "outputId": "795c70da-4189-4afe-ffc4-5ca6413e2bce"
      },
      "execution_count": null,
      "outputs": [
        {
          "output_type": "execute_result",
          "data": {
            "text/plain": [
              "State        0\n",
              "Year         0\n",
              "Type_code    0\n",
              "Type         0\n",
              "Gender       0\n",
              "Age_group    0\n",
              "Total        0\n",
              "dtype: int64"
            ]
          },
          "metadata": {},
          "execution_count": 6
        }
      ]
    },
    {
      "cell_type": "code",
      "source": [
        "a = df[df['State'] != 'TOTAL (ALL INDIA)']\n",
        "a.iloc[a['Total'].idxmax()]"
      ],
      "metadata": {
        "colab": {
          "base_uri": "https://localhost:8080/"
        },
        "id": "C6-qG1H7EVgC",
        "outputId": "bceb0667-56dd-410a-e9ae-6c27939f0700"
      },
      "execution_count": null,
      "outputs": [
        {
          "output_type": "execute_result",
          "data": {
            "text/plain": [
              "State            RAJASTHAN\n",
              "Year                  2009\n",
              "Type_code    Means_adopted\n",
              "Type           By Drowning\n",
              "Gender              Female\n",
              "Age_group             0-14\n",
              "Total                   18\n",
              "Name: 212815, dtype: object"
            ]
          },
          "metadata": {},
          "execution_count": 7
        }
      ]
    },
    {
      "cell_type": "code",
      "source": [
        "df['State'].value_counts()"
      ],
      "metadata": {
        "colab": {
          "base_uri": "https://localhost:8080/"
        },
        "id": "IYKbtVAoMAqA",
        "outputId": "2131ad95-f8e3-4e0d-de0f-88c878607c10"
      },
      "execution_count": null,
      "outputs": [
        {
          "output_type": "execute_result",
          "data": {
            "text/plain": [
              "MADHYA PRADESH       6792\n",
              "MAHARASHTRA          6792\n",
              "KARNATAKA            6792\n",
              "ODISHA               6791\n",
              "ANDHRA PRADESH       6791\n",
              "RAJASTHAN            6791\n",
              "BIHAR                6790\n",
              "CHHATTISGARH         6790\n",
              "HARYANA              6790\n",
              "KERALA               6788\n",
              "UTTAR PRADESH        6787\n",
              "ASSAM                6786\n",
              "TAMIL NADU           6786\n",
              "GUJARAT              6786\n",
              "JHARKHAND            6785\n",
              "TRIPURA              6782\n",
              "DELHI (UT)           6782\n",
              "WEST BENGAL          6780\n",
              "PUNJAB               6779\n",
              "HIMACHAL PRADESH     6774\n",
              "JAMMU & KASHMIR      6761\n",
              "GOA                  6759\n",
              "UTTARAKHAND          6758\n",
              "SIKKIM               6742\n",
              "MIZORAM              6737\n",
              "MEGHALAYA            6733\n",
              "PUDUCHERRY           6730\n",
              "CHANDIGARH           6717\n",
              "A & N ISLANDS        6712\n",
              "DAMAN & DIU          6710\n",
              "ARUNACHAL PRADESH    6707\n",
              "NAGALAND             6705\n",
              "D & N HAVELI         6704\n",
              "MANIPUR              6700\n",
              "LAKSHADWEEP          6674\n",
              "TOTAL (ALL INDIA)     312\n",
              "TOTAL (STATES)        312\n",
              "TOTAL (UTs)           312\n",
              "Name: State, dtype: int64"
            ]
          },
          "metadata": {},
          "execution_count": 8
        }
      ]
    },
    {
      "cell_type": "code",
      "source": [
        "state  = {\n",
        "    'A & N ISLANDS':'AN',\n",
        "    'ANDHRA PRADESH':'AP',\n",
        "    'ARUNACHAL PRADESH': 'AR',\n",
        "    'ASSAM':'AS',\n",
        "    'BIHAR': 'BR',\n",
        "    'CHANDIGARH':'CH',\n",
        "    'CHHATTISGARH': 'CT',\n",
        "    'D & N HAVELI': 'DN',\n",
        "    'DAMAN & DIU': 'DD',\n",
        "    'DELHI (UT)':'DL',\n",
        "    'GOA':'GA',\n",
        "    'GUJARAT':'GJ',\n",
        "    'HARYANA':'HR',\n",
        "    'HIMACHAL PRADESH':'HP',\n",
        "    'JAMMU & KASHMIR':'JK',\n",
        "    'JHARKHAND':'JH',\n",
        "     'KARNATAKA':'KA',\n",
        "       'KERALA':'KL',\n",
        "        'LAKSHADWEEP':'LD',\n",
        "         'MADHYA PRADESH':'MP',\n",
        "          'MAHARASHTRA':'MH',\n",
        "       'MANIPUR':'MN',\n",
        "        'MEGHALAYA':'ML',\n",
        "         'MIZORAM':'MZ',\n",
        "          'NAGALAND':'NL', \n",
        "          'ODISHA':'OR',\n",
        "       'PUDUCHERRY':'PY',\n",
        "        'PUNJAB':'PB', \n",
        "        'RAJASTHAN':'RJ',\n",
        "         'SIKKIM':'SK',\n",
        "          'TAMIL NADU':'TN',\n",
        "       'TOTAL (STATES)':'TOTAL (STATES)',\n",
        "        'TOTAL (UTs)':'TOTAL (UTs)',\n",
        "         'TRIPURA':'TR',\n",
        "          'UTTAR PRADESH':'UP',\n",
        "       'UTTARAKHAND':'UT',\n",
        "        'WEST BENGAL':'WB',\n",
        "        'TOTAL (ALL INDIA)':'TOTAL (ALL INDIA)'\n",
        "}"
      ],
      "metadata": {
        "id": "v0nopeW3MyDI"
      },
      "execution_count": null,
      "outputs": []
    },
    {
      "cell_type": "code",
      "source": [
        "new_df = df.copy()"
      ],
      "metadata": {
        "id": "NNvGwMQIo6xx"
      },
      "execution_count": null,
      "outputs": []
    },
    {
      "cell_type": "code",
      "source": [
        "new_df['new_state'] = new_df['State'].apply(lambda x: state[x])\n",
        "new_df.head()"
      ],
      "metadata": {
        "colab": {
          "base_uri": "https://localhost:8080/",
          "height": 206
        },
        "id": "4C6UWHJSo9EG",
        "outputId": "9acfa6c3-331c-4366-a768-73b8f8b8dbbb"
      },
      "execution_count": null,
      "outputs": [
        {
          "output_type": "execute_result",
          "data": {
            "text/plain": [
              "           State  Year Type_code                                 Type  Gender  \\\n",
              "0  A & N ISLANDS  2001    Causes                               Cancer    Male   \n",
              "1  A & N ISLANDS  2001    Causes                              Divorce    Male   \n",
              "2  A & N ISLANDS  2001    Causes                        Dowry Dispute  Female   \n",
              "3  A & N ISLANDS  2001    Causes  Ideological Causes/Hero Worshipping  Female   \n",
              "4  A & N ISLANDS  2001    Causes                   Illness (Aids/STD)  Female   \n",
              "\n",
              "  Age_group  Total new_state  \n",
              "0     15-29      0        AN  \n",
              "1       60+      0        AN  \n",
              "2       60+      0        AN  \n",
              "3       60+      0        AN  \n",
              "4      0-14      0        AN  "
            ],
            "text/html": [
              "\n",
              "  <div id=\"df-27198369-1334-4880-8772-4dcf9f0d980e\">\n",
              "    <div class=\"colab-df-container\">\n",
              "      <div>\n",
              "<style scoped>\n",
              "    .dataframe tbody tr th:only-of-type {\n",
              "        vertical-align: middle;\n",
              "    }\n",
              "\n",
              "    .dataframe tbody tr th {\n",
              "        vertical-align: top;\n",
              "    }\n",
              "\n",
              "    .dataframe thead th {\n",
              "        text-align: right;\n",
              "    }\n",
              "</style>\n",
              "<table border=\"1\" class=\"dataframe\">\n",
              "  <thead>\n",
              "    <tr style=\"text-align: right;\">\n",
              "      <th></th>\n",
              "      <th>State</th>\n",
              "      <th>Year</th>\n",
              "      <th>Type_code</th>\n",
              "      <th>Type</th>\n",
              "      <th>Gender</th>\n",
              "      <th>Age_group</th>\n",
              "      <th>Total</th>\n",
              "      <th>new_state</th>\n",
              "    </tr>\n",
              "  </thead>\n",
              "  <tbody>\n",
              "    <tr>\n",
              "      <th>0</th>\n",
              "      <td>A &amp; N ISLANDS</td>\n",
              "      <td>2001</td>\n",
              "      <td>Causes</td>\n",
              "      <td>Cancer</td>\n",
              "      <td>Male</td>\n",
              "      <td>15-29</td>\n",
              "      <td>0</td>\n",
              "      <td>AN</td>\n",
              "    </tr>\n",
              "    <tr>\n",
              "      <th>1</th>\n",
              "      <td>A &amp; N ISLANDS</td>\n",
              "      <td>2001</td>\n",
              "      <td>Causes</td>\n",
              "      <td>Divorce</td>\n",
              "      <td>Male</td>\n",
              "      <td>60+</td>\n",
              "      <td>0</td>\n",
              "      <td>AN</td>\n",
              "    </tr>\n",
              "    <tr>\n",
              "      <th>2</th>\n",
              "      <td>A &amp; N ISLANDS</td>\n",
              "      <td>2001</td>\n",
              "      <td>Causes</td>\n",
              "      <td>Dowry Dispute</td>\n",
              "      <td>Female</td>\n",
              "      <td>60+</td>\n",
              "      <td>0</td>\n",
              "      <td>AN</td>\n",
              "    </tr>\n",
              "    <tr>\n",
              "      <th>3</th>\n",
              "      <td>A &amp; N ISLANDS</td>\n",
              "      <td>2001</td>\n",
              "      <td>Causes</td>\n",
              "      <td>Ideological Causes/Hero Worshipping</td>\n",
              "      <td>Female</td>\n",
              "      <td>60+</td>\n",
              "      <td>0</td>\n",
              "      <td>AN</td>\n",
              "    </tr>\n",
              "    <tr>\n",
              "      <th>4</th>\n",
              "      <td>A &amp; N ISLANDS</td>\n",
              "      <td>2001</td>\n",
              "      <td>Causes</td>\n",
              "      <td>Illness (Aids/STD)</td>\n",
              "      <td>Female</td>\n",
              "      <td>0-14</td>\n",
              "      <td>0</td>\n",
              "      <td>AN</td>\n",
              "    </tr>\n",
              "  </tbody>\n",
              "</table>\n",
              "</div>\n",
              "      <button class=\"colab-df-convert\" onclick=\"convertToInteractive('df-27198369-1334-4880-8772-4dcf9f0d980e')\"\n",
              "              title=\"Convert this dataframe to an interactive table.\"\n",
              "              style=\"display:none;\">\n",
              "        \n",
              "  <svg xmlns=\"http://www.w3.org/2000/svg\" height=\"24px\"viewBox=\"0 0 24 24\"\n",
              "       width=\"24px\">\n",
              "    <path d=\"M0 0h24v24H0V0z\" fill=\"none\"/>\n",
              "    <path d=\"M18.56 5.44l.94 2.06.94-2.06 2.06-.94-2.06-.94-.94-2.06-.94 2.06-2.06.94zm-11 1L8.5 8.5l.94-2.06 2.06-.94-2.06-.94L8.5 2.5l-.94 2.06-2.06.94zm10 10l.94 2.06.94-2.06 2.06-.94-2.06-.94-.94-2.06-.94 2.06-2.06.94z\"/><path d=\"M17.41 7.96l-1.37-1.37c-.4-.4-.92-.59-1.43-.59-.52 0-1.04.2-1.43.59L10.3 9.45l-7.72 7.72c-.78.78-.78 2.05 0 2.83L4 21.41c.39.39.9.59 1.41.59.51 0 1.02-.2 1.41-.59l7.78-7.78 2.81-2.81c.8-.78.8-2.07 0-2.86zM5.41 20L4 18.59l7.72-7.72 1.47 1.35L5.41 20z\"/>\n",
              "  </svg>\n",
              "      </button>\n",
              "      \n",
              "  <style>\n",
              "    .colab-df-container {\n",
              "      display:flex;\n",
              "      flex-wrap:wrap;\n",
              "      gap: 12px;\n",
              "    }\n",
              "\n",
              "    .colab-df-convert {\n",
              "      background-color: #E8F0FE;\n",
              "      border: none;\n",
              "      border-radius: 50%;\n",
              "      cursor: pointer;\n",
              "      display: none;\n",
              "      fill: #1967D2;\n",
              "      height: 32px;\n",
              "      padding: 0 0 0 0;\n",
              "      width: 32px;\n",
              "    }\n",
              "\n",
              "    .colab-df-convert:hover {\n",
              "      background-color: #E2EBFA;\n",
              "      box-shadow: 0px 1px 2px rgba(60, 64, 67, 0.3), 0px 1px 3px 1px rgba(60, 64, 67, 0.15);\n",
              "      fill: #174EA6;\n",
              "    }\n",
              "\n",
              "    [theme=dark] .colab-df-convert {\n",
              "      background-color: #3B4455;\n",
              "      fill: #D2E3FC;\n",
              "    }\n",
              "\n",
              "    [theme=dark] .colab-df-convert:hover {\n",
              "      background-color: #434B5C;\n",
              "      box-shadow: 0px 1px 3px 1px rgba(0, 0, 0, 0.15);\n",
              "      filter: drop-shadow(0px 1px 2px rgba(0, 0, 0, 0.3));\n",
              "      fill: #FFFFFF;\n",
              "    }\n",
              "  </style>\n",
              "\n",
              "      <script>\n",
              "        const buttonEl =\n",
              "          document.querySelector('#df-27198369-1334-4880-8772-4dcf9f0d980e button.colab-df-convert');\n",
              "        buttonEl.style.display =\n",
              "          google.colab.kernel.accessAllowed ? 'block' : 'none';\n",
              "\n",
              "        async function convertToInteractive(key) {\n",
              "          const element = document.querySelector('#df-27198369-1334-4880-8772-4dcf9f0d980e');\n",
              "          const dataTable =\n",
              "            await google.colab.kernel.invokeFunction('convertToInteractive',\n",
              "                                                     [key], {});\n",
              "          if (!dataTable) return;\n",
              "\n",
              "          const docLinkHtml = 'Like what you see? Visit the ' +\n",
              "            '<a target=\"_blank\" href=https://colab.research.google.com/notebooks/data_table.ipynb>data table notebook</a>'\n",
              "            + ' to learn more about interactive tables.';\n",
              "          element.innerHTML = '';\n",
              "          dataTable['output_type'] = 'display_data';\n",
              "          await google.colab.output.renderOutput(dataTable, element);\n",
              "          const docLink = document.createElement('div');\n",
              "          docLink.innerHTML = docLinkHtml;\n",
              "          element.appendChild(docLink);\n",
              "        }\n",
              "      </script>\n",
              "    </div>\n",
              "  </div>\n",
              "  "
            ]
          },
          "metadata": {},
          "execution_count": 11
        }
      ]
    },
    {
      "cell_type": "code",
      "source": [
        "\n",
        "new_df.drop('State',axis=1,inplace=True)"
      ],
      "metadata": {
        "id": "ZZM2IsDJqXBK"
      },
      "execution_count": null,
      "outputs": []
    },
    {
      "cell_type": "code",
      "source": [
        "a = {\n",
        "    'Hr. Secondary/Intermediate/Pre-Universit': 'pre-uni',\n",
        "     'Middle': 'Middle',\n",
        "     'Diploma':'Diploma',\n",
        "     'Matriculate/Secondary':'Secondary',\n",
        "     'No Education':'No Education',\n",
        "      'Post Graduate and Above':'PG',\n",
        "       'Primary':'Primary', \n",
        "     'Graduate':'Graduate',\n",
        "     'Divorcee':'Divorcee',\n",
        "     'Married':'Married',\n",
        "     'Seperated':'Divorcee',\n",
        "     'Widowed/Widower':'Divorcee',\n",
        "     'Never Married':'Never Married' ,\n",
        "    'By Consuming Insecticides':'Insecticides',\n",
        "     'By Consuming Other Poison':'Poison',\n",
        "       'By Drowning':'Drowning',\n",
        "      'By Fire-Arms':'Fire-Arms'\n",
        "      , 'By Fire/Self Immolation':'Fire Immolation',\n",
        "       'By Hanging':'By Hanging',\n",
        "      'By Jumping from (Building)':'Jump Building',\n",
        "       'By Jumping from (Other sites)':'Jump Other sites',\n",
        "       'By Jumping off Moving Vehicles/Trains':'Jump Moving Vehicles',\n",
        "      'By Machine':'By Machine',\n",
        "       'By Other means':'Other means',\n",
        "      'By Other means (please specify)':'Other means',\n",
        "       'By Over Alcoholism':'Over Alcoholism',\n",
        "      'By Overdose of sleeping pills':'sleeping pills',\n",
        "       'By Self Infliction of injury':'Self Infliction',\n",
        "       'By coming under running vehicles/trains':'under running vehicles',\n",
        "       'By touching electric wires':'electric wires',\n",
        "     'Ideological Causes/Hero Worshipping':'Hero Worship',\n",
        "     'Self-employed (Business activity)':'Business activity',\n",
        "     'Illness (Aids/STD)':'illness',\n",
        "     'Bankruptcy or Sudden change in Economic Status':'Economic Status change',\n",
        "     'Suspected/Illicit Relation':'Illicit Relation',\n",
        "     'Professional/Career Problem':'Professional problem'}\n",
        "\n",
        "def convert_type(x):\n",
        "    try:\n",
        "        return a[x]\n",
        "    except:\n",
        "        return x\n",
        "\n",
        "new_df['Type'] = new_df['Type'].apply(lambda x: convert_type(x))"
      ],
      "metadata": {
        "id": "VtNjgUtlpa2h"
      },
      "execution_count": null,
      "outputs": []
    },
    {
      "cell_type": "code",
      "source": [
        "new_df['Type']"
      ],
      "metadata": {
        "colab": {
          "base_uri": "https://localhost:8080/"
        },
        "id": "rB3GXWs0qelC",
        "outputId": "e70d4fba-d181-4101-ccdb-9d136f4f1b60"
      },
      "execution_count": null,
      "outputs": [
        {
          "output_type": "execute_result",
          "data": {
            "text/plain": [
              "0                        Cancer\n",
              "1                       Divorce\n",
              "2                 Dowry Dispute\n",
              "3                  Hero Worship\n",
              "4                       illness\n",
              "                  ...          \n",
              "237514    Professional Activity\n",
              "237515        Business activity\n",
              "237516     Service (Government)\n",
              "237517     Service (Government)\n",
              "237518            Never Married\n",
              "Name: Type, Length: 237519, dtype: object"
            ]
          },
          "metadata": {},
          "execution_count": 14
        }
      ]
    },
    {
      "cell_type": "code",
      "source": [
        "print(len(a),new_df['Type'].nunique())"
      ],
      "metadata": {
        "colab": {
          "base_uri": "https://localhost:8080/"
        },
        "id": "UxDyN3pWpaws",
        "outputId": "778d50e7-0898-4b88-e314-a786acc5754e"
      },
      "execution_count": null,
      "outputs": [
        {
          "output_type": "stream",
          "name": "stdout",
          "text": [
            "36 66\n"
          ]
        }
      ]
    },
    {
      "cell_type": "code",
      "source": [
        "new_df.to_csv(\"suicides_preprocessed.csv\",index=False)"
      ],
      "metadata": {
        "id": "nhOp5okDpUVM"
      },
      "execution_count": null,
      "outputs": []
    },
    {
      "cell_type": "code",
      "source": [
        "new_df['Year'].value_counts()"
      ],
      "metadata": {
        "colab": {
          "base_uri": "https://localhost:8080/"
        },
        "id": "OU-zPPJJsXe-",
        "outputId": "8a4033cf-d6f3-465a-e32e-78ca1ee9032b"
      },
      "execution_count": null,
      "outputs": [
        {
          "output_type": "execute_result",
          "data": {
            "text/plain": [
              "2011    19806\n",
              "2005    19803\n",
              "2012    19799\n",
              "2001    19797\n",
              "2008    19797\n",
              "2007    19794\n",
              "2010    19792\n",
              "2002    19790\n",
              "2003    19786\n",
              "2006    19786\n",
              "2009    19786\n",
              "2004    19783\n",
              "Name: Year, dtype: int64"
            ]
          },
          "metadata": {},
          "execution_count": 17
        }
      ]
    },
    {
      "cell_type": "code",
      "source": [
        "a = new_df[(new_df['new_state'] != 'TOTAL (ALL INDIA)')& (new_df['new_state'] != 'TOTAL (STATES)') & (new_df['new_state'] != 'TOTAL (UTs)')]\n",
        "a = a.groupby('new_state',as_index=False)['Total'].agg('sum')\n",
        "a.iloc[a['Total'].idxmax()]\n",
        "import seaborn as sns\n",
        "sns.set(style=\"whitegrid\")\n",
        "plt.figure(figsize=(20,10))\n",
        "plt.title('No. Of Suicides For 12 Years')\n",
        "sns.barplot(x = a['new_state'],y = a['Total'])"
      ],
      "metadata": {
        "colab": {
          "base_uri": "https://localhost:8080/",
          "height": 602
        },
        "id": "YD3sBcFTLoAv",
        "outputId": "15781fc1-7469-4a7d-fcab-66dc95438e4b"
      },
      "execution_count": null,
      "outputs": [
        {
          "output_type": "execute_result",
          "data": {
            "text/plain": [
              "<matplotlib.axes._subplots.AxesSubplot at 0x7feb44c7ed10>"
            ]
          },
          "metadata": {},
          "execution_count": 18
        },
        {
          "output_type": "display_data",
          "data": {
            "text/plain": [
              "<Figure size 1440x720 with 1 Axes>"
            ],
            "image/png": "[encoded data removed]"
          },
          "metadata": {}
        }
      ]
    },
    {
      "cell_type": "code",
      "source": [
        "a.sort_values('Total',ascending=False)"
      ],
      "metadata": {
        "colab": {
          "base_uri": "https://localhost:8080/",
          "height": 1000
        },
        "id": "MK6Wc4-2dbcm",
        "outputId": "e68a011a-248c-4fda-dd87-d50650a0aaf4"
      },
      "execution_count": null,
      "outputs": [
        {
          "output_type": "execute_result",
          "data": {
            "text/plain": [
              "   new_state   Total\n",
              "19        MH  901945\n",
              "34        WB  849936\n",
              "30        TN  818691\n",
              "1         AP  814059\n",
              "16        KA  734825\n",
              "17        KL  538946\n",
              "22        MP  451535\n",
              "11        GJ  330858\n",
              "6         CT  302354\n",
              "25        OR  267234\n",
              "28        RJ  255134\n",
              "32        UP  233352\n",
              "3         AS  172276\n",
              "13        HR  147176\n",
              "8         DL   84272\n",
              "14        JH   49720\n",
              "26        PB   46350\n",
              "4         BR   46214\n",
              "31        TR   45965\n",
              "27        PY   32144\n",
              "12        HP   26562\n",
              "33        UT   18496\n",
              "10        GA   17363\n",
              "15        JK   14821\n",
              "29        SK    9606\n",
              "0         AN    8109\n",
              "2         AR    6633\n",
              "20        ML    5415\n",
              "5         CH    5164\n",
              "23        MZ    4154\n",
              "9         DN    3430\n",
              "21        MN    2102\n",
              "24        NL    1728\n",
              "7         DD    1391\n",
              "18        LD      50"
            ],
            "text/html": [
              "\n",
              "  <div id=\"df-d9fe5599-48e6-4497-b0c3-078242224620\">\n",
              "    <div class=\"colab-df-container\">\n",
              "      <div>\n",
              "<style scoped>\n",
              "    .dataframe tbody tr th:only-of-type {\n",
              "        vertical-align: middle;\n",
              "    }\n",
              "\n",
              "    .dataframe tbody tr th {\n",
              "        vertical-align: top;\n",
              "    }\n",
              "\n",
              "    .dataframe thead th {\n",
              "        text-align: right;\n",
              "    }\n",
              "</style>\n",
              "<table border=\"1\" class=\"dataframe\">\n",
              "  <thead>\n",
              "    <tr style=\"text-align: right;\">\n",
              "      <th></th>\n",
              "      <th>new_state</th>\n",
              "      <th>Total</th>\n",
              "    </tr>\n",
              "  </thead>\n",
              "  <tbody>\n",
              "    <tr>\n",
              "      <th>19</th>\n",
              "      <td>MH</td>\n",
              "      <td>901945</td>\n",
              "    </tr>\n",
              "    <tr>\n",
              "      <th>34</th>\n",
              "      <td>WB</td>\n",
              "      <td>849936</td>\n",
              "    </tr>\n",
              "    <tr>\n",
              "      <th>30</th>\n",
              "      <td>TN</td>\n",
              "      <td>818691</td>\n",
              "    </tr>\n",
              "    <tr>\n",
              "      <th>1</th>\n",
              "      <td>AP</td>\n",
              "      <td>814059</td>\n",
              "    </tr>\n",
              "    <tr>\n",
              "      <th>16</th>\n",
              "      <td>KA</td>\n",
              "      <td>734825</td>\n",
              "    </tr>\n",
              "    <tr>\n",
              "      <th>17</th>\n",
              "      <td>KL</td>\n",
              "      <td>538946</td>\n",
              "    </tr>\n",
              "    <tr>\n",
              "      <th>22</th>\n",
              "      <td>MP</td>\n",
              "      <td>451535</td>\n",
              "    </tr>\n",
              "    <tr>\n",
              "      <th>11</th>\n",
              "      <td>GJ</td>\n",
              "      <td>330858</td>\n",
              "    </tr>\n",
              "    <tr>\n",
              "      <th>6</th>\n",
              "      <td>CT</td>\n",
              "      <td>302354</td>\n",
              "    </tr>\n",
              "    <tr>\n",
              "      <th>25</th>\n",
              "      <td>OR</td>\n",
              "      <td>267234</td>\n",
              "    </tr>\n",
              "    <tr>\n",
              "      <th>28</th>\n",
              "      <td>RJ</td>\n",
              "      <td>255134</td>\n",
              "    </tr>\n",
              "    <tr>\n",
              "      <th>32</th>\n",
              "      <td>UP</td>\n",
              "      <td>233352</td>\n",
              "    </tr>\n",
              "    <tr>\n",
              "      <th>3</th>\n",
              "      <td>AS</td>\n",
              "      <td>172276</td>\n",
              "    </tr>\n",
              "    <tr>\n",
              "      <th>13</th>\n",
              "      <td>HR</td>\n",
              "      <td>147176</td>\n",
              "    </tr>\n",
              "    <tr>\n",
              "      <th>8</th>\n",
              "      <td>DL</td>\n",
              "      <td>84272</td>\n",
              "    </tr>\n",
              "    <tr>\n",
              "      <th>14</th>\n",
              "      <td>JH</td>\n",
              "      <td>49720</td>\n",
              "    </tr>\n",
              "    <tr>\n",
              "      <th>26</th>\n",
              "      <td>PB</td>\n",
              "      <td>46350</td>\n",
              "    </tr>\n",
              "    <tr>\n",
              "      <th>4</th>\n",
              "      <td>BR</td>\n",
              "      <td>46214</td>\n",
              "    </tr>\n",
              "    <tr>\n",
              "      <th>31</th>\n",
              "      <td>TR</td>\n",
              "      <td>45965</td>\n",
              "    </tr>\n",
              "    <tr>\n",
              "      <th>27</th>\n",
              "      <td>PY</td>\n",
              "      <td>32144</td>\n",
              "    </tr>\n",
              "    <tr>\n",
              "      <th>12</th>\n",
              "      <td>HP</td>\n",
              "      <td>26562</td>\n",
              "    </tr>\n",
              "    <tr>\n",
              "      <th>33</th>\n",
              "      <td>UT</td>\n",
              "      <td>18496</td>\n",
              "    </tr>\n",
              "    <tr>\n",
              "      <th>10</th>\n",
              "      <td>GA</td>\n",
              "      <td>17363</td>\n",
              "    </tr>\n",
              "    <tr>\n",
              "      <th>15</th>\n",
              "      <td>JK</td>\n",
              "      <td>14821</td>\n",
              "    </tr>\n",
              "    <tr>\n",
              "      <th>29</th>\n",
              "      <td>SK</td>\n",
              "      <td>9606</td>\n",
              "    </tr>\n",
              "    <tr>\n",
              "      <th>0</th>\n",
              "      <td>AN</td>\n",
              "      <td>8109</td>\n",
              "    </tr>\n",
              "    <tr>\n",
              "      <th>2</th>\n",
              "      <td>AR</td>\n",
              "      <td>6633</td>\n",
              "    </tr>\n",
              "    <tr>\n",
              "      <th>20</th>\n",
              "      <td>ML</td>\n",
              "      <td>5415</td>\n",
              "    </tr>\n",
              "    <tr>\n",
              "      <th>5</th>\n",
              "      <td>CH</td>\n",
              "      <td>5164</td>\n",
              "    </tr>\n",
              "    <tr>\n",
              "      <th>23</th>\n",
              "      <td>MZ</td>\n",
              "      <td>4154</td>\n",
              "    </tr>\n",
              "    <tr>\n",
              "      <th>9</th>\n",
              "      <td>DN</td>\n",
              "      <td>3430</td>\n",
              "    </tr>\n",
              "    <tr>\n",
              "      <th>21</th>\n",
              "      <td>MN</td>\n",
              "      <td>2102</td>\n",
              "    </tr>\n",
              "    <tr>\n",
              "      <th>24</th>\n",
              "      <td>NL</td>\n",
              "      <td>1728</td>\n",
              "    </tr>\n",
              "    <tr>\n",
              "      <th>7</th>\n",
              "      <td>DD</td>\n",
              "      <td>1391</td>\n",
              "    </tr>\n",
              "    <tr>\n",
              "      <th>18</th>\n",
              "      <td>LD</td>\n",
              "      <td>50</td>\n",
              "    </tr>\n",
              "  </tbody>\n",
              "</table>\n",
              "</div>\n",
              "      <button class=\"colab-df-convert\" onclick=\"convertToInteractive('df-d9fe5599-48e6-4497-b0c3-078242224620')\"\n",
              "              title=\"Convert this dataframe to an interactive table.\"\n",
              "              style=\"display:none;\">\n",
              "        \n",
              "  <svg xmlns=\"http://www.w3.org/2000/svg\" height=\"24px\"viewBox=\"0 0 24 24\"\n",
              "       width=\"24px\">\n",
              "    <path d=\"M0 0h24v24H0V0z\" fill=\"none\"/>\n",
              "    <path d=\"M18.56 5.44l.94 2.06.94-2.06 2.06-.94-2.06-.94-.94-2.06-.94 2.06-2.06.94zm-11 1L8.5 8.5l.94-2.06 2.06-.94-2.06-.94L8.5 2.5l-.94 2.06-2.06.94zm10 10l.94 2.06.94-2.06 2.06-.94-2.06-.94-.94-2.06-.94 2.06-2.06.94z\"/><path d=\"M17.41 7.96l-1.37-1.37c-.4-.4-.92-.59-1.43-.59-.52 0-1.04.2-1.43.59L10.3 9.45l-7.72 7.72c-.78.78-.78 2.05 0 2.83L4 21.41c.39.39.9.59 1.41.59.51 0 1.02-.2 1.41-.59l7.78-7.78 2.81-2.81c.8-.78.8-2.07 0-2.86zM5.41 20L4 18.59l7.72-7.72 1.47 1.35L5.41 20z\"/>\n",
              "  </svg>\n",
              "      </button>\n",
              "      \n",
              "  <style>\n",
              "    .colab-df-container {\n",
              "      display:flex;\n",
              "      flex-wrap:wrap;\n",
              "      gap: 12px;\n",
              "    }\n",
              "\n",
              "    .colab-df-convert {\n",
              "      background-color: #E8F0FE;\n",
              "      border: none;\n",
              "      border-radius: 50%;\n",
              "      cursor: pointer;\n",
              "      display: none;\n",
              "      fill: #1967D2;\n",
              "      height: 32px;\n",
              "      padding: 0 0 0 0;\n",
              "      width: 32px;\n",
              "    }\n",
              "\n",
              "    .colab-df-convert:hover {\n",
              "      background-color: #E2EBFA;\n",
              "      box-shadow: 0px 1px 2px rgba(60, 64, 67, 0.3), 0px 1px 3px 1px rgba(60, 64, 67, 0.15);\n",
              "      fill: #174EA6;\n",
              "    }\n",
              "\n",
              "    [theme=dark] .colab-df-convert {\n",
              "      background-color: #3B4455;\n",
              "      fill: #D2E3FC;\n",
              "    }\n",
              "\n",
              "    [theme=dark] .colab-df-convert:hover {\n",
              "      background-color: #434B5C;\n",
              "      box-shadow: 0px 1px 3px 1px rgba(0, 0, 0, 0.15);\n",
              "      filter: drop-shadow(0px 1px 2px rgba(0, 0, 0, 0.3));\n",
              "      fill: #FFFFFF;\n",
              "    }\n",
              "  </style>\n",
              "\n",
              "      <script>\n",
              "        const buttonEl =\n",
              "          document.querySelector('#df-d9fe5599-48e6-4497-b0c3-078242224620 button.colab-df-convert');\n",
              "        buttonEl.style.display =\n",
              "          google.colab.kernel.accessAllowed ? 'block' : 'none';\n",
              "\n",
              "        async function convertToInteractive(key) {\n",
              "          const element = document.querySelector('#df-d9fe5599-48e6-4497-b0c3-078242224620');\n",
              "          const dataTable =\n",
              "            await google.colab.kernel.invokeFunction('convertToInteractive',\n",
              "                                                     [key], {});\n",
              "          if (!dataTable) return;\n",
              "\n",
              "          const docLinkHtml = 'Like what you see? Visit the ' +\n",
              "            '<a target=\"_blank\" href=https://colab.research.google.com/notebooks/data_table.ipynb>data table notebook</a>'\n",
              "            + ' to learn more about interactive tables.';\n",
              "          element.innerHTML = '';\n",
              "          dataTable['output_type'] = 'display_data';\n",
              "          await google.colab.output.renderOutput(dataTable, element);\n",
              "          const docLink = document.createElement('div');\n",
              "          docLink.innerHTML = docLinkHtml;\n",
              "          element.appendChild(docLink);\n",
              "        }\n",
              "      </script>\n",
              "    </div>\n",
              "  </div>\n",
              "  "
            ]
          },
          "metadata": {},
          "execution_count": 19
        }
      ]
    },
    {
      "cell_type": "code",
      "source": [
        "q = new_df[new_df['new_state'] == 'MH']\n",
        "q = q.groupby('Year',as_index=False)['Total'].agg('sum')\n",
        "plt.title('Suicides In Maharashtra')\n",
        "sns.lineplot(x = q['Year'],y=q['Total'])"
      ],
      "metadata": {
        "colab": {
          "base_uri": "https://localhost:8080/",
          "height": 318
        },
        "id": "oFr6VsaJq5ft",
        "outputId": "f34de4a0-bda3-4d8c-e2b0-8423116f67c5"
      },
      "execution_count": null,
      "outputs": [
        {
          "output_type": "execute_result",
          "data": {
            "text/plain": [
              "<matplotlib.axes._subplots.AxesSubplot at 0x7feb52f5b290>"
            ]
          },
          "metadata": {},
          "execution_count": 20
        },
        {
          "output_type": "display_data",
          "data": {
            "text/plain": [
              "<Figure size 432x288 with 1 Axes>"
            ],
            "image/png": "[encoded data removed]"
          },
          "metadata": {}
        }
      ]
    },
    {
      "cell_type": "code",
      "source": [
        "q = new_df[new_df['new_state'] == 'AP']\n",
        "q = q.groupby('Year',as_index=False)['Total'].agg('sum')\n",
        "plt.title('Suicides In Andhra Pradesh')\n",
        "sns.lineplot(x = q['Year'],y=q['Total'])"
      ],
      "metadata": {
        "colab": {
          "base_uri": "https://localhost:8080/",
          "height": 318
        },
        "id": "ut-u4whZux1g",
        "outputId": "2297fcb6-8507-4ef5-ce23-3419c4a63b8f"
      },
      "execution_count": null,
      "outputs": [
        {
          "output_type": "execute_result",
          "data": {
            "text/plain": [
              "<matplotlib.axes._subplots.AxesSubplot at 0x7feb43e72e50>"
            ]
          },
          "metadata": {},
          "execution_count": 21
        },
        {
          "output_type": "display_data",
          "data": {
            "text/plain": [
              "<Figure size 432x288 with 1 Axes>"
            ],
            "image/png": "[encoded data removed]"
          },
          "metadata": {}
        }
      ]
    },
    {
      "cell_type": "code",
      "source": [
        "q.sort_values('Total')"
      ],
      "metadata": {
        "colab": {
          "base_uri": "https://localhost:8080/",
          "height": 426
        },
        "id": "B_clopDWyQj0",
        "outputId": "32c2dfeb-04c4-4fe7-dd9d-fb9e8b1c9e18"
      },
      "execution_count": null,
      "outputs": [
        {
          "output_type": "execute_result",
          "data": {
            "text/plain": [
              "    Year  Total\n",
              "0   2001  52610\n",
              "2   2003  57045\n",
              "1   2002  58465\n",
              "5   2006  66380\n",
              "4   2005  67210\n",
              "3   2004  67630\n",
              "11  2012  71190\n",
              "7   2008  71729\n",
              "8   2009  72500\n",
              "6   2007  74410\n",
              "10  2011  75385\n",
              "9   2010  79505"
            ],
            "text/html": [
              "\n",
              "  <div id=\"df-88f3d5d2-6604-43ae-82e4-fbbf142b1e52\">\n",
              "    <div class=\"colab-df-container\">\n",
              "      <div>\n",
              "<style scoped>\n",
              "    .dataframe tbody tr th:only-of-type {\n",
              "        vertical-align: middle;\n",
              "    }\n",
              "\n",
              "    .dataframe tbody tr th {\n",
              "        vertical-align: top;\n",
              "    }\n",
              "\n",
              "    .dataframe thead th {\n",
              "        text-align: right;\n",
              "    }\n",
              "</style>\n",
              "<table border=\"1\" class=\"dataframe\">\n",
              "  <thead>\n",
              "    <tr style=\"text-align: right;\">\n",
              "      <th></th>\n",
              "      <th>Year</th>\n",
              "      <th>Total</th>\n",
              "    </tr>\n",
              "  </thead>\n",
              "  <tbody>\n",
              "    <tr>\n",
              "      <th>0</th>\n",
              "      <td>2001</td>\n",
              "      <td>52610</td>\n",
              "    </tr>\n",
              "    <tr>\n",
              "      <th>2</th>\n",
              "      <td>2003</td>\n",
              "      <td>57045</td>\n",
              "    </tr>\n",
              "    <tr>\n",
              "      <th>1</th>\n",
              "      <td>2002</td>\n",
              "      <td>58465</td>\n",
              "    </tr>\n",
              "    <tr>\n",
              "      <th>5</th>\n",
              "      <td>2006</td>\n",
              "      <td>66380</td>\n",
              "    </tr>\n",
              "    <tr>\n",
              "      <th>4</th>\n",
              "      <td>2005</td>\n",
              "      <td>67210</td>\n",
              "    </tr>\n",
              "    <tr>\n",
              "      <th>3</th>\n",
              "      <td>2004</td>\n",
              "      <td>67630</td>\n",
              "    </tr>\n",
              "    <tr>\n",
              "      <th>11</th>\n",
              "      <td>2012</td>\n",
              "      <td>71190</td>\n",
              "    </tr>\n",
              "    <tr>\n",
              "      <th>7</th>\n",
              "      <td>2008</td>\n",
              "      <td>71729</td>\n",
              "    </tr>\n",
              "    <tr>\n",
              "      <th>8</th>\n",
              "      <td>2009</td>\n",
              "      <td>72500</td>\n",
              "    </tr>\n",
              "    <tr>\n",
              "      <th>6</th>\n",
              "      <td>2007</td>\n",
              "      <td>74410</td>\n",
              "    </tr>\n",
              "    <tr>\n",
              "      <th>10</th>\n",
              "      <td>2011</td>\n",
              "      <td>75385</td>\n",
              "    </tr>\n",
              "    <tr>\n",
              "      <th>9</th>\n",
              "      <td>2010</td>\n",
              "      <td>79505</td>\n",
              "    </tr>\n",
              "  </tbody>\n",
              "</table>\n",
              "</div>\n",
              "      <button class=\"colab-df-convert\" onclick=\"convertToInteractive('df-88f3d5d2-6604-43ae-82e4-fbbf142b1e52')\"\n",
              "              title=\"Convert this dataframe to an interactive table.\"\n",
              "              style=\"display:none;\">\n",
              "        \n",
              "  <svg xmlns=\"http://www.w3.org/2000/svg\" height=\"24px\"viewBox=\"0 0 24 24\"\n",
              "       width=\"24px\">\n",
              "    <path d=\"M0 0h24v24H0V0z\" fill=\"none\"/>\n",
              "    <path d=\"M18.56 5.44l.94 2.06.94-2.06 2.06-.94-2.06-.94-.94-2.06-.94 2.06-2.06.94zm-11 1L8.5 8.5l.94-2.06 2.06-.94-2.06-.94L8.5 2.5l-.94 2.06-2.06.94zm10 10l.94 2.06.94-2.06 2.06-.94-2.06-.94-.94-2.06-.94 2.06-2.06.94z\"/><path d=\"M17.41 7.96l-1.37-1.37c-.4-.4-.92-.59-1.43-.59-.52 0-1.04.2-1.43.59L10.3 9.45l-7.72 7.72c-.78.78-.78 2.05 0 2.83L4 21.41c.39.39.9.59 1.41.59.51 0 1.02-.2 1.41-.59l7.78-7.78 2.81-2.81c.8-.78.8-2.07 0-2.86zM5.41 20L4 18.59l7.72-7.72 1.47 1.35L5.41 20z\"/>\n",
              "  </svg>\n",
              "      </button>\n",
              "      \n",
              "  <style>\n",
              "    .colab-df-container {\n",
              "      display:flex;\n",
              "      flex-wrap:wrap;\n",
              "      gap: 12px;\n",
              "    }\n",
              "\n",
              "    .colab-df-convert {\n",
              "      background-color: #E8F0FE;\n",
              "      border: none;\n",
              "      border-radius: 50%;\n",
              "      cursor: pointer;\n",
              "      display: none;\n",
              "      fill: #1967D2;\n",
              "      height: 32px;\n",
              "      padding: 0 0 0 0;\n",
              "      width: 32px;\n",
              "    }\n",
              "\n",
              "    .colab-df-convert:hover {\n",
              "      background-color: #E2EBFA;\n",
              "      box-shadow: 0px 1px 2px rgba(60, 64, 67, 0.3), 0px 1px 3px 1px rgba(60, 64, 67, 0.15);\n",
              "      fill: #174EA6;\n",
              "    }\n",
              "\n",
              "    [theme=dark] .colab-df-convert {\n",
              "      background-color: #3B4455;\n",
              "      fill: #D2E3FC;\n",
              "    }\n",
              "\n",
              "    [theme=dark] .colab-df-convert:hover {\n",
              "      background-color: #434B5C;\n",
              "      box-shadow: 0px 1px 3px 1px rgba(0, 0, 0, 0.15);\n",
              "      filter: drop-shadow(0px 1px 2px rgba(0, 0, 0, 0.3));\n",
              "      fill: #FFFFFF;\n",
              "    }\n",
              "  </style>\n",
              "\n",
              "      <script>\n",
              "        const buttonEl =\n",
              "          document.querySelector('#df-88f3d5d2-6604-43ae-82e4-fbbf142b1e52 button.colab-df-convert');\n",
              "        buttonEl.style.display =\n",
              "          google.colab.kernel.accessAllowed ? 'block' : 'none';\n",
              "\n",
              "        async function convertToInteractive(key) {\n",
              "          const element = document.querySelector('#df-88f3d5d2-6604-43ae-82e4-fbbf142b1e52');\n",
              "          const dataTable =\n",
              "            await google.colab.kernel.invokeFunction('convertToInteractive',\n",
              "                                                     [key], {});\n",
              "          if (!dataTable) return;\n",
              "\n",
              "          const docLinkHtml = 'Like what you see? Visit the ' +\n",
              "            '<a target=\"_blank\" href=https://colab.research.google.com/notebooks/data_table.ipynb>data table notebook</a>'\n",
              "            + ' to learn more about interactive tables.';\n",
              "          element.innerHTML = '';\n",
              "          dataTable['output_type'] = 'display_data';\n",
              "          await google.colab.output.renderOutput(dataTable, element);\n",
              "          const docLink = document.createElement('div');\n",
              "          docLink.innerHTML = docLinkHtml;\n",
              "          element.appendChild(docLink);\n",
              "        }\n",
              "      </script>\n",
              "    </div>\n",
              "  </div>\n",
              "  "
            ]
          },
          "metadata": {},
          "execution_count": 22
        }
      ]
    },
    {
      "cell_type": "code",
      "source": [
        "q = new_df[new_df['new_state'] == 'TN']\n",
        "q = q.groupby('Year',as_index=False)['Total'].agg('sum')\n",
        "plt.title('Suicides In Tamil Nadu')\n",
        "sns.lineplot(x = q['Year'],y=q['Total'])"
      ],
      "metadata": {
        "colab": {
          "base_uri": "https://localhost:8080/",
          "height": 318
        },
        "id": "6v3oGfLyu9e9",
        "outputId": "740a96c1-e7c3-4162-b59f-5bc0e75b6733"
      },
      "execution_count": null,
      "outputs": [
        {
          "output_type": "execute_result",
          "data": {
            "text/plain": [
              "<matplotlib.axes._subplots.AxesSubplot at 0x7feb43dbdc50>"
            ]
          },
          "metadata": {},
          "execution_count": 23
        },
        {
          "output_type": "display_data",
          "data": {
            "text/plain": [
              "<Figure size 432x288 with 1 Axes>"
            ],
            "image/png": "[encoded data removed]"
          },
          "metadata": {}
        }
      ]
    },
    {
      "cell_type": "code",
      "source": [
        "q = new_df[new_df['new_state'] == 'WB']\n",
        "q = q.groupby('Year',as_index=False)['Total'].agg('sum')\n",
        "plt.title('Suicides In West Bengal')\n",
        "sns.lineplot(x = q['Year'],y=q['Total'])"
      ],
      "metadata": {
        "colab": {
          "base_uri": "https://localhost:8080/",
          "height": 318
        },
        "id": "_mMetsHjwsdZ",
        "outputId": "8ff9e465-2092-4340-fa0d-25142b619201"
      },
      "execution_count": null,
      "outputs": [
        {
          "output_type": "execute_result",
          "data": {
            "text/plain": [
              "<matplotlib.axes._subplots.AxesSubplot at 0x7feb43e460d0>"
            ]
          },
          "metadata": {},
          "execution_count": 24
        },
        {
          "output_type": "display_data",
          "data": {
            "text/plain": [
              "<Figure size 432x288 with 1 Axes>"
            ],
            "image/png": "[encoded data removed]"
          },
          "metadata": {}
        }
      ]
    },
    {
      "cell_type": "code",
      "source": [
        "q"
      ],
      "metadata": {
        "colab": {
          "base_uri": "https://localhost:8080/",
          "height": 426
        },
        "id": "8qNQ2VQ7y2bG",
        "outputId": "6d3c16c8-51bb-4146-fe3f-1bd4a7646c7f"
      },
      "execution_count": null,
      "outputs": [
        {
          "output_type": "execute_result",
          "data": {
            "text/plain": [
              "    Year  Total\n",
              "0   2001  68450\n",
              "1   2002  65035\n",
              "2   2003  66400\n",
              "3   2004  67035\n",
              "4   2005  75075\n",
              "5   2006  78625\n",
              "6   2007  74300\n",
              "7   2008  74260\n",
              "8   2009  73240\n",
              "9   2010  80185\n",
              "10  2011  82460\n",
              "11  2012  44871"
            ],
            "text/html": [
              "\n",
              "  <div id=\"df-14bd3871-91a0-478f-95dd-a5843e9f4f44\">\n",
              "    <div class=\"colab-df-container\">\n",
              "      <div>\n",
              "<style scoped>\n",
              "    .dataframe tbody tr th:only-of-type {\n",
              "        vertical-align: middle;\n",
              "    }\n",
              "\n",
              "    .dataframe tbody tr th {\n",
              "        vertical-align: top;\n",
              "    }\n",
              "\n",
              "    .dataframe thead th {\n",
              "        text-align: right;\n",
              "    }\n",
              "</style>\n",
              "<table border=\"1\" class=\"dataframe\">\n",
              "  <thead>\n",
              "    <tr style=\"text-align: right;\">\n",
              "      <th></th>\n",
              "      <th>Year</th>\n",
              "      <th>Total</th>\n",
              "    </tr>\n",
              "  </thead>\n",
              "  <tbody>\n",
              "    <tr>\n",
              "      <th>0</th>\n",
              "      <td>2001</td>\n",
              "      <td>68450</td>\n",
              "    </tr>\n",
              "    <tr>\n",
              "      <th>1</th>\n",
              "      <td>2002</td>\n",
              "      <td>65035</td>\n",
              "    </tr>\n",
              "    <tr>\n",
              "      <th>2</th>\n",
              "      <td>2003</td>\n",
              "      <td>66400</td>\n",
              "    </tr>\n",
              "    <tr>\n",
              "      <th>3</th>\n",
              "      <td>2004</td>\n",
              "      <td>67035</td>\n",
              "    </tr>\n",
              "    <tr>\n",
              "      <th>4</th>\n",
              "      <td>2005</td>\n",
              "      <td>75075</td>\n",
              "    </tr>\n",
              "    <tr>\n",
              "      <th>5</th>\n",
              "      <td>2006</td>\n",
              "      <td>78625</td>\n",
              "    </tr>\n",
              "    <tr>\n",
              "      <th>6</th>\n",
              "      <td>2007</td>\n",
              "      <td>74300</td>\n",
              "    </tr>\n",
              "    <tr>\n",
              "      <th>7</th>\n",
              "      <td>2008</td>\n",
              "      <td>74260</td>\n",
              "    </tr>\n",
              "    <tr>\n",
              "      <th>8</th>\n",
              "      <td>2009</td>\n",
              "      <td>73240</td>\n",
              "    </tr>\n",
              "    <tr>\n",
              "      <th>9</th>\n",
              "      <td>2010</td>\n",
              "      <td>80185</td>\n",
              "    </tr>\n",
              "    <tr>\n",
              "      <th>10</th>\n",
              "      <td>2011</td>\n",
              "      <td>82460</td>\n",
              "    </tr>\n",
              "    <tr>\n",
              "      <th>11</th>\n",
              "      <td>2012</td>\n",
              "      <td>44871</td>\n",
              "    </tr>\n",
              "  </tbody>\n",
              "</table>\n",
              "</div>\n",
              "      <button class=\"colab-df-convert\" onclick=\"convertToInteractive('df-14bd3871-91a0-478f-95dd-a5843e9f4f44')\"\n",
              "              title=\"Convert this dataframe to an interactive table.\"\n",
              "              style=\"display:none;\">\n",
              "        \n",
              "  <svg xmlns=\"http://www.w3.org/2000/svg\" height=\"24px\"viewBox=\"0 0 24 24\"\n",
              "       width=\"24px\">\n",
              "    <path d=\"M0 0h24v24H0V0z\" fill=\"none\"/>\n",
              "    <path d=\"M18.56 5.44l.94 2.06.94-2.06 2.06-.94-2.06-.94-.94-2.06-.94 2.06-2.06.94zm-11 1L8.5 8.5l.94-2.06 2.06-.94-2.06-.94L8.5 2.5l-.94 2.06-2.06.94zm10 10l.94 2.06.94-2.06 2.06-.94-2.06-.94-.94-2.06-.94 2.06-2.06.94z\"/><path d=\"M17.41 7.96l-1.37-1.37c-.4-.4-.92-.59-1.43-.59-.52 0-1.04.2-1.43.59L10.3 9.45l-7.72 7.72c-.78.78-.78 2.05 0 2.83L4 21.41c.39.39.9.59 1.41.59.51 0 1.02-.2 1.41-.59l7.78-7.78 2.81-2.81c.8-.78.8-2.07 0-2.86zM5.41 20L4 18.59l7.72-7.72 1.47 1.35L5.41 20z\"/>\n",
              "  </svg>\n",
              "      </button>\n",
              "      \n",
              "  <style>\n",
              "    .colab-df-container {\n",
              "      display:flex;\n",
              "      flex-wrap:wrap;\n",
              "      gap: 12px;\n",
              "    }\n",
              "\n",
              "    .colab-df-convert {\n",
              "      background-color: #E8F0FE;\n",
              "      border: none;\n",
              "      border-radius: 50%;\n",
              "      cursor: pointer;\n",
              "      display: none;\n",
              "      fill: #1967D2;\n",
              "      height: 32px;\n",
              "      padding: 0 0 0 0;\n",
              "      width: 32px;\n",
              "    }\n",
              "\n",
              "    .colab-df-convert:hover {\n",
              "      background-color: #E2EBFA;\n",
              "      box-shadow: 0px 1px 2px rgba(60, 64, 67, 0.3), 0px 1px 3px 1px rgba(60, 64, 67, 0.15);\n",
              "      fill: #174EA6;\n",
              "    }\n",
              "\n",
              "    [theme=dark] .colab-df-convert {\n",
              "      background-color: #3B4455;\n",
              "      fill: #D2E3FC;\n",
              "    }\n",
              "\n",
              "    [theme=dark] .colab-df-convert:hover {\n",
              "      background-color: #434B5C;\n",
              "      box-shadow: 0px 1px 3px 1px rgba(0, 0, 0, 0.15);\n",
              "      filter: drop-shadow(0px 1px 2px rgba(0, 0, 0, 0.3));\n",
              "      fill: #FFFFFF;\n",
              "    }\n",
              "  </style>\n",
              "\n",
              "      <script>\n",
              "        const buttonEl =\n",
              "          document.querySelector('#df-14bd3871-91a0-478f-95dd-a5843e9f4f44 button.colab-df-convert');\n",
              "        buttonEl.style.display =\n",
              "          google.colab.kernel.accessAllowed ? 'block' : 'none';\n",
              "\n",
              "        async function convertToInteractive(key) {\n",
              "          const element = document.querySelector('#df-14bd3871-91a0-478f-95dd-a5843e9f4f44');\n",
              "          const dataTable =\n",
              "            await google.colab.kernel.invokeFunction('convertToInteractive',\n",
              "                                                     [key], {});\n",
              "          if (!dataTable) return;\n",
              "\n",
              "          const docLinkHtml = 'Like what you see? Visit the ' +\n",
              "            '<a target=\"_blank\" href=https://colab.research.google.com/notebooks/data_table.ipynb>data table notebook</a>'\n",
              "            + ' to learn more about interactive tables.';\n",
              "          element.innerHTML = '';\n",
              "          dataTable['output_type'] = 'display_data';\n",
              "          await google.colab.output.renderOutput(dataTable, element);\n",
              "          const docLink = document.createElement('div');\n",
              "          docLink.innerHTML = docLinkHtml;\n",
              "          element.appendChild(docLink);\n",
              "        }\n",
              "      </script>\n",
              "    </div>\n",
              "  </div>\n",
              "  "
            ]
          },
          "metadata": {},
          "execution_count": 25
        }
      ]
    },
    {
      "cell_type": "code",
      "source": [
        "q = new_df[(new_df['new_state'] != 'TOTAL (ALL INDIA)')& (new_df['new_state'] != 'TOTAL (STATES)') & (new_df['new_state'] != 'TOTAL (UTs)')]"
      ],
      "metadata": {
        "id": "Mw8O4eo2NSRU"
      },
      "execution_count": null,
      "outputs": []
    },
    {
      "cell_type": "code",
      "source": [
        "q = q.groupby(['Year'],as_index=False)['Total'].agg('sum')\n",
        "q"
      ],
      "metadata": {
        "colab": {
          "base_uri": "https://localhost:8080/",
          "height": 426
        },
        "id": "NpI_VUXazgnt",
        "outputId": "d663af2f-c178-4994-ee67-fdd23711ac64"
      },
      "execution_count": null,
      "outputs": [
        {
          "output_type": "execute_result",
          "data": {
            "text/plain": [
              "    Year   Total\n",
              "0   2001  542440\n",
              "1   2002  551980\n",
              "2   2003  554218\n",
              "3   2004  568349\n",
              "4   2005  569545\n",
              "5   2006  590543\n",
              "6   2007  613119\n",
              "7   2008  625014\n",
              "8   2009  635429\n",
              "9   2010  672926\n",
              "10  2011  677159\n",
              "11  2012  647288"
            ],
            "text/html": [
              "\n",
              "  <div id=\"df-13d07d53-cf16-4caa-af7d-2caca4a8ea83\">\n",
              "    <div class=\"colab-df-container\">\n",
              "      <div>\n",
              "<style scoped>\n",
              "    .dataframe tbody tr th:only-of-type {\n",
              "        vertical-align: middle;\n",
              "    }\n",
              "\n",
              "    .dataframe tbody tr th {\n",
              "        vertical-align: top;\n",
              "    }\n",
              "\n",
              "    .dataframe thead th {\n",
              "        text-align: right;\n",
              "    }\n",
              "</style>\n",
              "<table border=\"1\" class=\"dataframe\">\n",
              "  <thead>\n",
              "    <tr style=\"text-align: right;\">\n",
              "      <th></th>\n",
              "      <th>Year</th>\n",
              "      <th>Total</th>\n",
              "    </tr>\n",
              "  </thead>\n",
              "  <tbody>\n",
              "    <tr>\n",
              "      <th>0</th>\n",
              "      <td>2001</td>\n",
              "      <td>542440</td>\n",
              "    </tr>\n",
              "    <tr>\n",
              "      <th>1</th>\n",
              "      <td>2002</td>\n",
              "      <td>551980</td>\n",
              "    </tr>\n",
              "    <tr>\n",
              "      <th>2</th>\n",
              "      <td>2003</td>\n",
              "      <td>554218</td>\n",
              "    </tr>\n",
              "    <tr>\n",
              "      <th>3</th>\n",
              "      <td>2004</td>\n",
              "      <td>568349</td>\n",
              "    </tr>\n",
              "    <tr>\n",
              "      <th>4</th>\n",
              "      <td>2005</td>\n",
              "      <td>569545</td>\n",
              "    </tr>\n",
              "    <tr>\n",
              "      <th>5</th>\n",
              "      <td>2006</td>\n",
              "      <td>590543</td>\n",
              "    </tr>\n",
              "    <tr>\n",
              "      <th>6</th>\n",
              "      <td>2007</td>\n",
              "      <td>613119</td>\n",
              "    </tr>\n",
              "    <tr>\n",
              "      <th>7</th>\n",
              "      <td>2008</td>\n",
              "      <td>625014</td>\n",
              "    </tr>\n",
              "    <tr>\n",
              "      <th>8</th>\n",
              "      <td>2009</td>\n",
              "      <td>635429</td>\n",
              "    </tr>\n",
              "    <tr>\n",
              "      <th>9</th>\n",
              "      <td>2010</td>\n",
              "      <td>672926</td>\n",
              "    </tr>\n",
              "    <tr>\n",
              "      <th>10</th>\n",
              "      <td>2011</td>\n",
              "      <td>677159</td>\n",
              "    </tr>\n",
              "    <tr>\n",
              "      <th>11</th>\n",
              "      <td>2012</td>\n",
              "      <td>647288</td>\n",
              "    </tr>\n",
              "  </tbody>\n",
              "</table>\n",
              "</div>\n",
              "      <button class=\"colab-df-convert\" onclick=\"convertToInteractive('df-13d07d53-cf16-4caa-af7d-2caca4a8ea83')\"\n",
              "              title=\"Convert this dataframe to an interactive table.\"\n",
              "              style=\"display:none;\">\n",
              "        \n",
              "  <svg xmlns=\"http://www.w3.org/2000/svg\" height=\"24px\"viewBox=\"0 0 24 24\"\n",
              "       width=\"24px\">\n",
              "    <path d=\"M0 0h24v24H0V0z\" fill=\"none\"/>\n",
              "    <path d=\"M18.56 5.44l.94 2.06.94-2.06 2.06-.94-2.06-.94-.94-2.06-.94 2.06-2.06.94zm-11 1L8.5 8.5l.94-2.06 2.06-.94-2.06-.94L8.5 2.5l-.94 2.06-2.06.94zm10 10l.94 2.06.94-2.06 2.06-.94-2.06-.94-.94-2.06-.94 2.06-2.06.94z\"/><path d=\"M17.41 7.96l-1.37-1.37c-.4-.4-.92-.59-1.43-.59-.52 0-1.04.2-1.43.59L10.3 9.45l-7.72 7.72c-.78.78-.78 2.05 0 2.83L4 21.41c.39.39.9.59 1.41.59.51 0 1.02-.2 1.41-.59l7.78-7.78 2.81-2.81c.8-.78.8-2.07 0-2.86zM5.41 20L4 18.59l7.72-7.72 1.47 1.35L5.41 20z\"/>\n",
              "  </svg>\n",
              "      </button>\n",
              "      \n",
              "  <style>\n",
              "    .colab-df-container {\n",
              "      display:flex;\n",
              "      flex-wrap:wrap;\n",
              "      gap: 12px;\n",
              "    }\n",
              "\n",
              "    .colab-df-convert {\n",
              "      background-color: #E8F0FE;\n",
              "      border: none;\n",
              "      border-radius: 50%;\n",
              "      cursor: pointer;\n",
              "      display: none;\n",
              "      fill: #1967D2;\n",
              "      height: 32px;\n",
              "      padding: 0 0 0 0;\n",
              "      width: 32px;\n",
              "    }\n",
              "\n",
              "    .colab-df-convert:hover {\n",
              "      background-color: #E2EBFA;\n",
              "      box-shadow: 0px 1px 2px rgba(60, 64, 67, 0.3), 0px 1px 3px 1px rgba(60, 64, 67, 0.15);\n",
              "      fill: #174EA6;\n",
              "    }\n",
              "\n",
              "    [theme=dark] .colab-df-convert {\n",
              "      background-color: #3B4455;\n",
              "      fill: #D2E3FC;\n",
              "    }\n",
              "\n",
              "    [theme=dark] .colab-df-convert:hover {\n",
              "      background-color: #434B5C;\n",
              "      box-shadow: 0px 1px 3px 1px rgba(0, 0, 0, 0.15);\n",
              "      filter: drop-shadow(0px 1px 2px rgba(0, 0, 0, 0.3));\n",
              "      fill: #FFFFFF;\n",
              "    }\n",
              "  </style>\n",
              "\n",
              "      <script>\n",
              "        const buttonEl =\n",
              "          document.querySelector('#df-13d07d53-cf16-4caa-af7d-2caca4a8ea83 button.colab-df-convert');\n",
              "        buttonEl.style.display =\n",
              "          google.colab.kernel.accessAllowed ? 'block' : 'none';\n",
              "\n",
              "        async function convertToInteractive(key) {\n",
              "          const element = document.querySelector('#df-13d07d53-cf16-4caa-af7d-2caca4a8ea83');\n",
              "          const dataTable =\n",
              "            await google.colab.kernel.invokeFunction('convertToInteractive',\n",
              "                                                     [key], {});\n",
              "          if (!dataTable) return;\n",
              "\n",
              "          const docLinkHtml = 'Like what you see? Visit the ' +\n",
              "            '<a target=\"_blank\" href=https://colab.research.google.com/notebooks/data_table.ipynb>data table notebook</a>'\n",
              "            + ' to learn more about interactive tables.';\n",
              "          element.innerHTML = '';\n",
              "          dataTable['output_type'] = 'display_data';\n",
              "          await google.colab.output.renderOutput(dataTable, element);\n",
              "          const docLink = document.createElement('div');\n",
              "          docLink.innerHTML = docLinkHtml;\n",
              "          element.appendChild(docLink);\n",
              "        }\n",
              "      </script>\n",
              "    </div>\n",
              "  </div>\n",
              "  "
            ]
          },
          "metadata": {},
          "execution_count": 27
        }
      ]
    },
    {
      "cell_type": "code",
      "source": [
        "q[q['Year'] == 2010].sort_values('Total')\n"
      ],
      "metadata": {
        "colab": {
          "base_uri": "https://localhost:8080/",
          "height": 81
        },
        "id": "GNzQLW6Nz7OV",
        "outputId": "c68fd56c-34a8-43fa-c00e-fafc9176e685"
      },
      "execution_count": null,
      "outputs": [
        {
          "output_type": "execute_result",
          "data": {
            "text/plain": [
              "   Year   Total\n",
              "9  2010  672926"
            ],
            "text/html": [
              "\n",
              "  <div id=\"df-04434608-1469-4aa7-a816-e2b214f41f40\">\n",
              "    <div class=\"colab-df-container\">\n",
              "      <div>\n",
              "<style scoped>\n",
              "    .dataframe tbody tr th:only-of-type {\n",
              "        vertical-align: middle;\n",
              "    }\n",
              "\n",
              "    .dataframe tbody tr th {\n",
              "        vertical-align: top;\n",
              "    }\n",
              "\n",
              "    .dataframe thead th {\n",
              "        text-align: right;\n",
              "    }\n",
              "</style>\n",
              "<table border=\"1\" class=\"dataframe\">\n",
              "  <thead>\n",
              "    <tr style=\"text-align: right;\">\n",
              "      <th></th>\n",
              "      <th>Year</th>\n",
              "      <th>Total</th>\n",
              "    </tr>\n",
              "  </thead>\n",
              "  <tbody>\n",
              "    <tr>\n",
              "      <th>9</th>\n",
              "      <td>2010</td>\n",
              "      <td>672926</td>\n",
              "    </tr>\n",
              "  </tbody>\n",
              "</table>\n",
              "</div>\n",
              "      <button class=\"colab-df-convert\" onclick=\"convertToInteractive('df-04434608-1469-4aa7-a816-e2b214f41f40')\"\n",
              "              title=\"Convert this dataframe to an interactive table.\"\n",
              "              style=\"display:none;\">\n",
              "        \n",
              "  <svg xmlns=\"http://www.w3.org/2000/svg\" height=\"24px\"viewBox=\"0 0 24 24\"\n",
              "       width=\"24px\">\n",
              "    <path d=\"M0 0h24v24H0V0z\" fill=\"none\"/>\n",
              "    <path d=\"M18.56 5.44l.94 2.06.94-2.06 2.06-.94-2.06-.94-.94-2.06-.94 2.06-2.06.94zm-11 1L8.5 8.5l.94-2.06 2.06-.94-2.06-.94L8.5 2.5l-.94 2.06-2.06.94zm10 10l.94 2.06.94-2.06 2.06-.94-2.06-.94-.94-2.06-.94 2.06-2.06.94z\"/><path d=\"M17.41 7.96l-1.37-1.37c-.4-.4-.92-.59-1.43-.59-.52 0-1.04.2-1.43.59L10.3 9.45l-7.72 7.72c-.78.78-.78 2.05 0 2.83L4 21.41c.39.39.9.59 1.41.59.51 0 1.02-.2 1.41-.59l7.78-7.78 2.81-2.81c.8-.78.8-2.07 0-2.86zM5.41 20L4 18.59l7.72-7.72 1.47 1.35L5.41 20z\"/>\n",
              "  </svg>\n",
              "      </button>\n",
              "      \n",
              "  <style>\n",
              "    .colab-df-container {\n",
              "      display:flex;\n",
              "      flex-wrap:wrap;\n",
              "      gap: 12px;\n",
              "    }\n",
              "\n",
              "    .colab-df-convert {\n",
              "      background-color: #E8F0FE;\n",
              "      border: none;\n",
              "      border-radius: 50%;\n",
              "      cursor: pointer;\n",
              "      display: none;\n",
              "      fill: #1967D2;\n",
              "      height: 32px;\n",
              "      padding: 0 0 0 0;\n",
              "      width: 32px;\n",
              "    }\n",
              "\n",
              "    .colab-df-convert:hover {\n",
              "      background-color: #E2EBFA;\n",
              "      box-shadow: 0px 1px 2px rgba(60, 64, 67, 0.3), 0px 1px 3px 1px rgba(60, 64, 67, 0.15);\n",
              "      fill: #174EA6;\n",
              "    }\n",
              "\n",
              "    [theme=dark] .colab-df-convert {\n",
              "      background-color: #3B4455;\n",
              "      fill: #D2E3FC;\n",
              "    }\n",
              "\n",
              "    [theme=dark] .colab-df-convert:hover {\n",
              "      background-color: #434B5C;\n",
              "      box-shadow: 0px 1px 3px 1px rgba(0, 0, 0, 0.15);\n",
              "      filter: drop-shadow(0px 1px 2px rgba(0, 0, 0, 0.3));\n",
              "      fill: #FFFFFF;\n",
              "    }\n",
              "  </style>\n",
              "\n",
              "      <script>\n",
              "        const buttonEl =\n",
              "          document.querySelector('#df-04434608-1469-4aa7-a816-e2b214f41f40 button.colab-df-convert');\n",
              "        buttonEl.style.display =\n",
              "          google.colab.kernel.accessAllowed ? 'block' : 'none';\n",
              "\n",
              "        async function convertToInteractive(key) {\n",
              "          const element = document.querySelector('#df-04434608-1469-4aa7-a816-e2b214f41f40');\n",
              "          const dataTable =\n",
              "            await google.colab.kernel.invokeFunction('convertToInteractive',\n",
              "                                                     [key], {});\n",
              "          if (!dataTable) return;\n",
              "\n",
              "          const docLinkHtml = 'Like what you see? Visit the ' +\n",
              "            '<a target=\"_blank\" href=https://colab.research.google.com/notebooks/data_table.ipynb>data table notebook</a>'\n",
              "            + ' to learn more about interactive tables.';\n",
              "          element.innerHTML = '';\n",
              "          dataTable['output_type'] = 'display_data';\n",
              "          await google.colab.output.renderOutput(dataTable, element);\n",
              "          const docLink = document.createElement('div');\n",
              "          docLink.innerHTML = docLinkHtml;\n",
              "          element.appendChild(docLink);\n",
              "        }\n",
              "      </script>\n",
              "    </div>\n",
              "  </div>\n",
              "  "
            ]
          },
          "metadata": {},
          "execution_count": 28
        }
      ]
    },
    {
      "cell_type": "code",
      "source": [
        "plt.figure(figsize=(7,7))\n",
        "plt.pie(q['Total'], labels = q['Year'], autopct='%.0f%%')\n",
        "plt.title(\"Suicide Records Per Year\")\n",
        "\n",
        "plt.show()"
      ],
      "metadata": {
        "colab": {
          "base_uri": "https://localhost:8080/",
          "height": 427
        },
        "id": "I6w7-gDx0dqA",
        "outputId": "6371767b-fe18-4cac-e139-ae475714ccfb"
      },
      "execution_count": null,
      "outputs": [
        {
          "output_type": "display_data",
          "data": {
            "text/plain": [
              "<Figure size 504x504 with 1 Axes>"
            ],
            "image/png": "[encoded data removed]"
          },
          "metadata": {}
        }
      ]
    },
    {
      "cell_type": "code",
      "source": [
        "new_df.columns"
      ],
      "metadata": {
        "colab": {
          "base_uri": "https://localhost:8080/"
        },
        "id": "UMR_NxPQNhY4",
        "outputId": "d8c02b29-0501-4e31-8590-0cdc785da859"
      },
      "execution_count": null,
      "outputs": [
        {
          "output_type": "execute_result",
          "data": {
            "text/plain": [
              "Index(['Year', 'Type_code', 'Type', 'Gender', 'Age_group', 'Total',\n",
              "       'new_state'],\n",
              "      dtype='object')"
            ]
          },
          "metadata": {},
          "execution_count": 30
        }
      ]
    },
    {
      "cell_type": "code",
      "source": [
        "q = new_df.groupby('Age_group',as_index=False )['Total'].agg('sum')\n",
        "q"
      ],
      "metadata": {
        "colab": {
          "base_uri": "https://localhost:8080/",
          "height": 238
        },
        "id": "Q-PA8v0XQJ58",
        "outputId": "2af54c17-957e-49e3-ef1e-d77e41b23502"
      },
      "execution_count": null,
      "outputs": [
        {
          "output_type": "execute_result",
          "data": {
            "text/plain": [
              "  Age_group    Total\n",
              "0    0-100+  8735586\n",
              "1      0-14    98410\n",
              "2     15-29  1534037\n",
              "3     30-44  1471599\n",
              "4     45-59   885177\n",
              "5       60+   346925"
            ],
            "text/html": [
              "\n",
              "  <div id=\"df-776cb03c-2bf8-4e02-860f-a124f1c0122b\">\n",
              "    <div class=\"colab-df-container\">\n",
              "      <div>\n",
              "<style scoped>\n",
              "    .dataframe tbody tr th:only-of-type {\n",
              "        vertical-align: middle;\n",
              "    }\n",
              "\n",
              "    .dataframe tbody tr th {\n",
              "        vertical-align: top;\n",
              "    }\n",
              "\n",
              "    .dataframe thead th {\n",
              "        text-align: right;\n",
              "    }\n",
              "</style>\n",
              "<table border=\"1\" class=\"dataframe\">\n",
              "  <thead>\n",
              "    <tr style=\"text-align: right;\">\n",
              "      <th></th>\n",
              "      <th>Age_group</th>\n",
              "      <th>Total</th>\n",
              "    </tr>\n",
              "  </thead>\n",
              "  <tbody>\n",
              "    <tr>\n",
              "      <th>0</th>\n",
              "      <td>0-100+</td>\n",
              "      <td>8735586</td>\n",
              "    </tr>\n",
              "    <tr>\n",
              "      <th>1</th>\n",
              "      <td>0-14</td>\n",
              "      <td>98410</td>\n",
              "    </tr>\n",
              "    <tr>\n",
              "      <th>2</th>\n",
              "      <td>15-29</td>\n",
              "      <td>1534037</td>\n",
              "    </tr>\n",
              "    <tr>\n",
              "      <th>3</th>\n",
              "      <td>30-44</td>\n",
              "      <td>1471599</td>\n",
              "    </tr>\n",
              "    <tr>\n",
              "      <th>4</th>\n",
              "      <td>45-59</td>\n",
              "      <td>885177</td>\n",
              "    </tr>\n",
              "    <tr>\n",
              "      <th>5</th>\n",
              "      <td>60+</td>\n",
              "      <td>346925</td>\n",
              "    </tr>\n",
              "  </tbody>\n",
              "</table>\n",
              "</div>\n",
              "      <button class=\"colab-df-convert\" onclick=\"convertToInteractive('df-776cb03c-2bf8-4e02-860f-a124f1c0122b')\"\n",
              "              title=\"Convert this dataframe to an interactive table.\"\n",
              "              style=\"display:none;\">\n",
              "        \n",
              "  <svg xmlns=\"http://www.w3.org/2000/svg\" height=\"24px\"viewBox=\"0 0 24 24\"\n",
              "       width=\"24px\">\n",
              "    <path d=\"M0 0h24v24H0V0z\" fill=\"none\"/>\n",
              "    <path d=\"M18.56 5.44l.94 2.06.94-2.06 2.06-.94-2.06-.94-.94-2.06-.94 2.06-2.06.94zm-11 1L8.5 8.5l.94-2.06 2.06-.94-2.06-.94L8.5 2.5l-.94 2.06-2.06.94zm10 10l.94 2.06.94-2.06 2.06-.94-2.06-.94-.94-2.06-.94 2.06-2.06.94z\"/><path d=\"M17.41 7.96l-1.37-1.37c-.4-.4-.92-.59-1.43-.59-.52 0-1.04.2-1.43.59L10.3 9.45l-7.72 7.72c-.78.78-.78 2.05 0 2.83L4 21.41c.39.39.9.59 1.41.59.51 0 1.02-.2 1.41-.59l7.78-7.78 2.81-2.81c.8-.78.8-2.07 0-2.86zM5.41 20L4 18.59l7.72-7.72 1.47 1.35L5.41 20z\"/>\n",
              "  </svg>\n",
              "      </button>\n",
              "      \n",
              "  <style>\n",
              "    .colab-df-container {\n",
              "      display:flex;\n",
              "      flex-wrap:wrap;\n",
              "      gap: 12px;\n",
              "    }\n",
              "\n",
              "    .colab-df-convert {\n",
              "      background-color: #E8F0FE;\n",
              "      border: none;\n",
              "      border-radius: 50%;\n",
              "      cursor: pointer;\n",
              "      display: none;\n",
              "      fill: #1967D2;\n",
              "      height: 32px;\n",
              "      padding: 0 0 0 0;\n",
              "      width: 32px;\n",
              "    }\n",
              "\n",
              "    .colab-df-convert:hover {\n",
              "      background-color: #E2EBFA;\n",
              "      box-shadow: 0px 1px 2px rgba(60, 64, 67, 0.3), 0px 1px 3px 1px rgba(60, 64, 67, 0.15);\n",
              "      fill: #174EA6;\n",
              "    }\n",
              "\n",
              "    [theme=dark] .colab-df-convert {\n",
              "      background-color: #3B4455;\n",
              "      fill: #D2E3FC;\n",
              "    }\n",
              "\n",
              "    [theme=dark] .colab-df-convert:hover {\n",
              "      background-color: #434B5C;\n",
              "      box-shadow: 0px 1px 3px 1px rgba(0, 0, 0, 0.15);\n",
              "      filter: drop-shadow(0px 1px 2px rgba(0, 0, 0, 0.3));\n",
              "      fill: #FFFFFF;\n",
              "    }\n",
              "  </style>\n",
              "\n",
              "      <script>\n",
              "        const buttonEl =\n",
              "          document.querySelector('#df-776cb03c-2bf8-4e02-860f-a124f1c0122b button.colab-df-convert');\n",
              "        buttonEl.style.display =\n",
              "          google.colab.kernel.accessAllowed ? 'block' : 'none';\n",
              "\n",
              "        async function convertToInteractive(key) {\n",
              "          const element = document.querySelector('#df-776cb03c-2bf8-4e02-860f-a124f1c0122b');\n",
              "          const dataTable =\n",
              "            await google.colab.kernel.invokeFunction('convertToInteractive',\n",
              "                                                     [key], {});\n",
              "          if (!dataTable) return;\n",
              "\n",
              "          const docLinkHtml = 'Like what you see? Visit the ' +\n",
              "            '<a target=\"_blank\" href=https://colab.research.google.com/notebooks/data_table.ipynb>data table notebook</a>'\n",
              "            + ' to learn more about interactive tables.';\n",
              "          element.innerHTML = '';\n",
              "          dataTable['output_type'] = 'display_data';\n",
              "          await google.colab.output.renderOutput(dataTable, element);\n",
              "          const docLink = document.createElement('div');\n",
              "          docLink.innerHTML = docLinkHtml;\n",
              "          element.appendChild(docLink);\n",
              "        }\n",
              "      </script>\n",
              "    </div>\n",
              "  </div>\n",
              "  "
            ]
          },
          "metadata": {},
          "execution_count": 31
        }
      ]
    },
    {
      "cell_type": "code",
      "source": [
        "q = new_df[(new_df['new_state'] != 'TOTAL (ALL INDIA)')& (new_df['new_state'] != 'TOTAL (STATES)') & (new_df['new_state'] != 'TOTAL (UTs)')]\n",
        "q = q[q['Age_group']!='0-100+']\n",
        "plt.title(\"Suicides By Age Group and their Gender\")\n",
        "sns.barplot(data = q,x = 'Age_group',y = 'Total',hue='Gender')"
      ],
      "metadata": {
        "colab": {
          "base_uri": "https://localhost:8080/",
          "height": 318
        },
        "id": "-TBZv_S9QVMI",
        "outputId": "c9600d6e-b58a-4c8b-80c1-7b472ca414e1"
      },
      "execution_count": null,
      "outputs": [
        {
          "output_type": "execute_result",
          "data": {
            "text/plain": [
              "<matplotlib.axes._subplots.AxesSubplot at 0x7feb43dc98d0>"
            ]
          },
          "metadata": {},
          "execution_count": 32
        },
        {
          "output_type": "display_data",
          "data": {
            "text/plain": [
              "<Figure size 432x288 with 1 Axes>"
            ],
            "image/png": "[encoded data removed]"
          },
          "metadata": {}
        }
      ]
    },
    {
      "cell_type": "code",
      "source": [
        ""
      ],
      "metadata": {
        "id": "Qtr9KX-USJU9"
      },
      "execution_count": null,
      "outputs": []
    },
    {
      "cell_type": "code",
      "source": [
        "plt.title(\"Suicides By Age Group\")\n",
        "sns.barplot(data = q,x = 'Age_group',y = 'Total')"
      ],
      "metadata": {
        "colab": {
          "base_uri": "https://localhost:8080/",
          "height": 318
        },
        "id": "11xAIb2gRAmG",
        "outputId": "b6fc2477-09f2-4e92-c590-46e8c5b2547b"
      },
      "execution_count": null,
      "outputs": [
        {
          "output_type": "execute_result",
          "data": {
            "text/plain": [
              "<matplotlib.axes._subplots.AxesSubplot at 0x7feb43c9ad90>"
            ]
          },
          "metadata": {},
          "execution_count": 33
        },
        {
          "output_type": "display_data",
          "data": {
            "text/plain": [
              "<Figure size 432x288 with 1 Axes>"
            ],
            "image/png": "[encoded data removed]"
          },
          "metadata": {}
        }
      ]
    },
    {
      "cell_type": "code",
      "source": [
        "sum(q[q['Age_group'] == '0-14']['Total'])"
      ],
      "metadata": {
        "colab": {
          "base_uri": "https://localhost:8080/"
        },
        "id": "2ticIZ_QUVJX",
        "outputId": "596fb829-11d5-4d4d-9bd3-b71c910c3e31"
      },
      "execution_count": null,
      "outputs": [
        {
          "output_type": "execute_result",
          "data": {
            "text/plain": [
              "98410"
            ]
          },
          "metadata": {},
          "execution_count": 34
        }
      ]
    },
    {
      "cell_type": "code",
      "source": [
        "plt.title(\"Suicides By Gender\")\n",
        "sns.barplot(data = q,x = 'Gender',y = 'Total')"
      ],
      "metadata": {
        "colab": {
          "base_uri": "https://localhost:8080/",
          "height": 318
        },
        "id": "0YDs4pwNRHa3",
        "outputId": "49b25fc9-9d1d-4801-a06a-9ab8ce57fdda"
      },
      "execution_count": null,
      "outputs": [
        {
          "output_type": "execute_result",
          "data": {
            "text/plain": [
              "<matplotlib.axes._subplots.AxesSubplot at 0x7feb44cdc150>"
            ]
          },
          "metadata": {},
          "execution_count": 35
        },
        {
          "output_type": "display_data",
          "data": {
            "text/plain": [
              "<Figure size 432x288 with 1 Axes>"
            ],
            "image/png": "[encoded data removed]"
          },
          "metadata": {}
        }
      ]
    },
    {
      "cell_type": "code",
      "source": [
        "# q = new_df[(new_df['new_state'] != 'TOTAL (ALL INDIA)')& (new_df['new_state'] != 'TOTAL (STATES)') & (new_df['new_state'] != 'TOTAL (UTs)')]\n",
        "\n",
        "plt.figure(figsize= (7,7))\n",
        "sns.barplot(data = q,x = 'Gender',y = 'Total',hue='Type_code')\n",
        "plt.title(\"Suicides By gender and reason\")"
      ],
      "metadata": {
        "colab": {
          "base_uri": "https://localhost:8080/",
          "height": 482
        },
        "id": "4PxPWD5GRMyE",
        "outputId": "d164473f-6408-4cb0-f7d4-257b4a3494d1"
      },
      "execution_count": null,
      "outputs": [
        {
          "output_type": "execute_result",
          "data": {
            "text/plain": [
              "Text(0.5, 1.0, 'Suicides By gender and reason')"
            ]
          },
          "metadata": {},
          "execution_count": 36
        },
        {
          "output_type": "display_data",
          "data": {
            "text/plain": [
              "<Figure size 504x504 with 1 Axes>"
            ],
            "image/png": "[encoded data removed]"
          },
          "metadata": {}
        }
      ]
    },
    {
      "cell_type": "code",
      "source": [
        "!pip install squarify"
      ],
      "metadata": {
        "colab": {
          "base_uri": "https://localhost:8080/"
        },
        "id": "UueV-o7ieCGG",
        "outputId": "466d39bd-2b51-44fb-b061-c9c202bc313d"
      },
      "execution_count": null,
      "outputs": [
        {
          "output_type": "stream",
          "name": "stdout",
          "text": [
            "Collecting squarify\n",
            "  Downloading squarify-0.4.3-py3-none-any.whl (4.3 kB)\n",
            "Installing collected packages: squarify\n",
            "Successfully installed squarify-0.4.3\n"
          ]
        }
      ]
    },
    {
      "cell_type": "code",
      "source": [
        "qb['Type'].unique()"
      ],
      "metadata": {
        "colab": {
          "base_uri": "https://localhost:8080/",
          "height": 165
        },
        "id": "2tgsp152el4D",
        "outputId": "52b78b1c-c01e-4fae-e061-1e816ba8e206"
      },
      "execution_count": null,
      "outputs": [
        {
          "output_type": "error",
          "ename": "NameError",
          "evalue": "ignored",
          "traceback": [
            "\u001b[0;31m---------------------------------------------------------------------------\u001b[0m",
            "\u001b[0;31mNameError\u001b[0m                                 Traceback (most recent call last)",
            "\u001b[0;32m<ipython-input-38-33ada17eab7a>\u001b[0m in \u001b[0;36m<module>\u001b[0;34m()\u001b[0m\n\u001b[0;32m----> 1\u001b[0;31m \u001b[0mqb\u001b[0m\u001b[0;34m[\u001b[0m\u001b[0;34m'Type'\u001b[0m\u001b[0;34m]\u001b[0m\u001b[0;34m.\u001b[0m\u001b[0munique\u001b[0m\u001b[0;34m(\u001b[0m\u001b[0;34m)\u001b[0m\u001b[0;34m\u001b[0m\u001b[0;34m\u001b[0m\u001b[0m\n\u001b[0m",
            "\u001b[0;31mNameError\u001b[0m: name 'qb' is not defined"
          ]
        }
      ]
    },
    {
      "cell_type": "code",
      "source": [
        "a = {'By Consuming Insecticides':'Insecticides',\n",
        "     'By Consuming Other Poison':'Poison',\n",
        "       'By Drowning':'Drowning',\n",
        "      'By Fire-Arms':'Fire-Arms'\n",
        "      , 'By Fire/Self Immolation':'Fire Immolation',\n",
        "       'By Hanging':'By Hanging',\n",
        "      'By Jumping from (Building)':'Jump Building',\n",
        "       'By Jumping from (Other sites)':'Jump Other sites',\n",
        "       'By Jumping off Moving Vehicles/Trains':'Jump Moving Vehicles',\n",
        "      'By Machine':'By Machine',\n",
        "       'By Other means':'Other means',\n",
        "      'By Other means (please specify)':'Other means',\n",
        "       'By Over Alcoholism':'Over Alcoholism',\n",
        "      'By Overdose of sleeping pills':'sleeping pills',\n",
        "       'By Self Infliction of injury':'Self Infliction',\n",
        "       'By coming under running vehicles/trains':'under running vehicles',\n",
        "       'By touching electric wires':'electric wires'}"
      ],
      "metadata": {
        "id": "4XeDl9usfQo5"
      },
      "execution_count": null,
      "outputs": []
    },
    {
      "cell_type": "code",
      "source": [
        "import squarify\n",
        "# qb = q[q['Type_code'] == 'Means_adopted']\n",
        "# qb = qb.groupby('Type',as_index=False)['Total'].agg('sum')\n",
        "# qb['Type'] = qb['Type'].apply(lambda x: a[x])\n",
        "plt.figure(figsize=(20,10))\n",
        "plt.title('Means Adopted')\n",
        "\n",
        "squarify.plot(sizes=qb['Total'],label=qb['Type'] , alpha=.8)\n",
        "plt.axis('off')"
      ],
      "metadata": {
        "id": "4bJ-YCK5Y74G"
      },
      "execution_count": null,
      "outputs": []
    },
    {
      "cell_type": "code",
      "source": [
        ""
      ],
      "metadata": {
        "id": "zDwKmqG6a8Qc"
      },
      "execution_count": null,
      "outputs": []
    },
    {
      "cell_type": "code",
      "source": [
        "d = {\n",
        "    'Hr. Secondary/Intermediate/Pre-Universit': 'pre-uni',\n",
        "     'Middle': 'Middle',\n",
        "     'Diploma':'Diploma',\n",
        "     'Matriculate/Secondary':'Secondary',\n",
        "     'No Education':'No Education',\n",
        "      'Post Graduate and Above':'PG',\n",
        "       'Primary':'Primary', 'Graduate':'Graduate',\n",
        "}\n"
      ],
      "metadata": {
        "id": "kNA0_MZJZZ-l"
      },
      "execution_count": null,
      "outputs": []
    },
    {
      "cell_type": "code",
      "source": [
        "qb['Type'] = qb['Type'].apply(lambda x: d[x])"
      ],
      "metadata": {
        "id": "0-xyrk8CZJam"
      },
      "execution_count": null,
      "outputs": []
    },
    {
      "cell_type": "code",
      "source": [
        "\n",
        "plt.figure(figsize= (10,7))\n",
        "sns.barplot(data = qba,x = 'Type',y = 'Total',hue='Gender')\n",
        "plt.title(\"Suicides By gender and Education\")"
      ],
      "metadata": {
        "id": "O_H59AkOXu-u"
      },
      "execution_count": null,
      "outputs": []
    },
    {
      "cell_type": "code",
      "source": [
        "qb = q[q['Type_code'] == 'Social_Status']\n",
        "plt.figure(figsize= (10,7))\n",
        "sns.barplot(data = qb,x = 'Type',y = 'Total',hue='Gender')\n",
        "plt.title(\"Suicides By gender social Status\")"
      ],
      "metadata": {
        "id": "t8o_jzCVR3mG"
      },
      "execution_count": null,
      "outputs": []
    },
    {
      "cell_type": "code",
      "source": [
        "sns.barplot(x = [a],y = [b])"
      ],
      "metadata": {
        "id": "FGDnCd-RRwwp"
      },
      "execution_count": null,
      "outputs": []
    },
    {
      "cell_type": "code",
      "source": [
        "# import seaborn as sns\n",
        "q = new_df[(new_df['new_state'] == 'TOTAL (ALL INDIA)')]\n",
        "d = {\n",
        "    'Hr. Secondary/Intermediate/Pre-Universit': 'pre-uni',\n",
        "     'Middle': 'Middle',\n",
        "     'Diploma':'Diploma',\n",
        "     'Matriculate/Secondary':'Secondary',\n",
        "     'No Education':'No Education',\n",
        "      'Post Graduate and Above':'PG',\n",
        "       'Primary':'Primary', 'Graduate':'Graduate',\n",
        "     'Divorcee':'Divorcee',\n",
        "     'Married':'Married',\n",
        "     'Seperated':'Seperated',\n",
        "     'Widowed/Widower':'Widower',\n",
        "     'Never Married':'Never Married'\n",
        "}\n",
        "q['Type'] = q['Type'].apply(lambda x: d[x])\n",
        "grouped_year = q.groupby([\"Year\",\"Type\"],as_index=False)[\"Total\"].sum()\n",
        "# grouped_year\n",
        "sns.lmplot(x=\"Year\", y=\"Total\", hue=\"Type\", data=grouped_year,height=7, aspect=11.7/8.27);"
      ],
      "metadata": {
        "id": "ekBNrfS-PwZ0"
      },
      "execution_count": null,
      "outputs": []
    },
    {
      "cell_type": "code",
      "source": [
        "# import seaborn as sns\n",
        "q = new_df[(new_df['new_state'] == 'TOTAL (ALL INDIA)')&(new_df['Type_code'] == 'Education_Status') ]\n",
        "d = {\n",
        "    'Hr. Secondary/Intermediate/Pre-Universit': 'pre-uni',\n",
        "     'Middle': 'Middle',\n",
        "     'Diploma':'Diploma',\n",
        "     'Matriculate/Secondary':'Secondary',\n",
        "     'No Education':'No Education',\n",
        "      'Post Graduate and Above':'PG',\n",
        "       'Primary':'Primary', \n",
        "     'Graduate':'Graduate',\n",
        "     'Divorcee':'Divorcee',\n",
        "     'Married':'Married',\n",
        "     'Seperated':'Divorcee',\n",
        "     'Widowed/Widower':'Divorcee',\n",
        "     'Never Married':'Never Married'\n",
        "}\n",
        "       \n",
        "\n",
        "\n",
        "q['Type'] = q['Type'].apply(lambda x: d[x])\n",
        "grouped_year = q.groupby([\"Year\",\"Type\"],as_index=False)[\"Total\"].sum()\n",
        "# grouped_year\n",
        "\n",
        "sns.lmplot(x=\"Year\", y=\"Total\", hue=\"Type\", data=grouped_year,height=7, aspect=11.7/8.27);\n",
        "plt.title('Suicides and Education')"
      ],
      "metadata": {
        "id": "Hh7RTTwRQgfP"
      },
      "execution_count": null,
      "outputs": []
    },
    {
      "cell_type": "code",
      "source": [
        "# import seaborn as sns\n",
        "q = new_df[(new_df['new_state'] == 'TOTAL (ALL INDIA)')&(new_df['Type_code'] == 'Social_Status') ]\n",
        "d = {\n",
        "    'Hr. Secondary/Intermediate/Pre-Universit': 'pre-uni',\n",
        "     'Middle': 'Middle',\n",
        "     'Diploma':'Diploma',\n",
        "     'Matriculate/Secondary':'Secondary',\n",
        "     'No Education':'No Education',\n",
        "      'Post Graduate and Above':'PG',\n",
        "       'Primary':'Primary', \n",
        "     'Graduate':'Graduate',\n",
        "     'Divorcee':'Divorcee',\n",
        "     'Married':'Married',\n",
        "     'Seperated':'Divorcee',\n",
        "     'Widowed/Widower':'Divorcee',\n",
        "     'Never Married':'Never Married'\n",
        "}\n",
        "q['Type'] = q['Type'].apply(lambda x: d[x])\n",
        "grouped_year = q.groupby([\"Year\",\"Type\"],as_index=False)[\"Total\"].sum()\n",
        "# grouped_year\n",
        "\n",
        "sns.lmplot(x=\"Year\", y=\"Total\", hue=\"Type\", data=grouped_year,height=7, aspect=11.7/8.27,);\n",
        "plt.title('Suicides and Marital Status')\n",
        "plt.figure(figsize=(2,2))"
      ],
      "metadata": {
        "id": "pokOyJwoVEbN"
      },
      "execution_count": null,
      "outputs": []
    },
    {
      "cell_type": "code",
      "source": [
        "q = new_df[(new_df['new_state'] != 'TOTAL (ALL INDIA)')& (new_df['new_state'] != 'TOTAL (STATES)') & (new_df['new_state'] != 'TOTAL (UTs)') & (new_df['Age_group'] != '0-100+')]\n",
        "q['Age_group'].unique()\n"
      ],
      "metadata": {
        "id": "eBFgQAPmhYUU"
      },
      "execution_count": null,
      "outputs": []
    },
    {
      "cell_type": "code",
      "source": [
        "f = q.groupby(['new_state','Gender'],as_index=False)['Total'].sum()\n",
        "plt.figure(figsize=(19,9))\n",
        "sns.barplot(x = 'new_state',y = 'Total',hue='Gender',data= f )\n",
        "\n",
        "plt.title('Suicides by Gender in States')\n"
      ],
      "metadata": {
        "id": "v8hylDRxfzlx"
      },
      "execution_count": null,
      "outputs": []
    },
    {
      "cell_type": "code",
      "source": [
        "q = new_df[ (new_df['Age_group']!='0-100+') &(new_df['Type_code']=='Professional_Profile') &(new_df['Total']>0)]\n",
        "q"
      ],
      "metadata": {
        "colab": {
          "base_uri": "https://localhost:8080/",
          "height": 423
        },
        "id": "hVnuDZyZvUau",
        "outputId": "470aa83a-0cbb-4d49-faf9-a362ee5ac88e"
      },
      "execution_count": null,
      "outputs": [
        {
          "output_type": "execute_result",
          "data": {
            "text/plain": [
              "        Year             Type_code                          Type  Gender  \\\n",
              "37      2002  Professional_Profile  Farming/Agriculture Activity    Male   \n",
              "39      2002  Professional_Profile          Service (Government)  Female   \n",
              "40      2002  Professional_Profile          Service (Government)    Male   \n",
              "62      2003  Professional_Profile          Service (Government)    Male   \n",
              "96      2001  Professional_Profile                       Student    Male   \n",
              "...      ...                   ...                           ...     ...   \n",
              "237502  2011  Professional_Profile       Others (Please Specify)    Male   \n",
              "237503  2011  Professional_Profile     Public Sector Undertaking  Female   \n",
              "237504  2011  Professional_Profile     Public Sector Undertaking    Male   \n",
              "237505  2011  Professional_Profile          Service (Government)    Male   \n",
              "237506  2011  Professional_Profile                    Unemployed  Female   \n",
              "\n",
              "       Age_group  Total new_state  \n",
              "37         30-44      3        AN  \n",
              "39         30-44      1        AN  \n",
              "40         30-44      8        AN  \n",
              "62         30-44      7        AN  \n",
              "96          0-14      1        AN  \n",
              "...          ...    ...       ...  \n",
              "237502       60+    195        WB  \n",
              "237503     30-44     61        WB  \n",
              "237504     30-44    245        WB  \n",
              "237505       60+      1        WB  \n",
              "237506       60+      6        WB  \n",
              "\n",
              "[23291 rows x 7 columns]"
            ],
            "text/html": [
              "\n",
              "  <div id=\"df-66f3256a-9fdc-4707-953e-82053c927762\">\n",
              "    <div class=\"colab-df-container\">\n",
              "      <div>\n",
              "<style scoped>\n",
              "    .dataframe tbody tr th:only-of-type {\n",
              "        vertical-align: middle;\n",
              "    }\n",
              "\n",
              "    .dataframe tbody tr th {\n",
              "        vertical-align: top;\n",
              "    }\n",
              "\n",
              "    .dataframe thead th {\n",
              "        text-align: right;\n",
              "    }\n",
              "</style>\n",
              "<table border=\"1\" class=\"dataframe\">\n",
              "  <thead>\n",
              "    <tr style=\"text-align: right;\">\n",
              "      <th></th>\n",
              "      <th>Year</th>\n",
              "      <th>Type_code</th>\n",
              "      <th>Type</th>\n",
              "      <th>Gender</th>\n",
              "      <th>Age_group</th>\n",
              "      <th>Total</th>\n",
              "      <th>new_state</th>\n",
              "    </tr>\n",
              "  </thead>\n",
              "  <tbody>\n",
              "    <tr>\n",
              "      <th>37</th>\n",
              "      <td>2002</td>\n",
              "      <td>Professional_Profile</td>\n",
              "      <td>Farming/Agriculture Activity</td>\n",
              "      <td>Male</td>\n",
              "      <td>30-44</td>\n",
              "      <td>3</td>\n",
              "      <td>AN</td>\n",
              "    </tr>\n",
              "    <tr>\n",
              "      <th>39</th>\n",
              "      <td>2002</td>\n",
              "      <td>Professional_Profile</td>\n",
              "      <td>Service (Government)</td>\n",
              "      <td>Female</td>\n",
              "      <td>30-44</td>\n",
              "      <td>1</td>\n",
              "      <td>AN</td>\n",
              "    </tr>\n",
              "    <tr>\n",
              "      <th>40</th>\n",
              "      <td>2002</td>\n",
              "      <td>Professional_Profile</td>\n",
              "      <td>Service (Government)</td>\n",
              "      <td>Male</td>\n",
              "      <td>30-44</td>\n",
              "      <td>8</td>\n",
              "      <td>AN</td>\n",
              "    </tr>\n",
              "    <tr>\n",
              "      <th>62</th>\n",
              "      <td>2003</td>\n",
              "      <td>Professional_Profile</td>\n",
              "      <td>Service (Government)</td>\n",
              "      <td>Male</td>\n",
              "      <td>30-44</td>\n",
              "      <td>7</td>\n",
              "      <td>AN</td>\n",
              "    </tr>\n",
              "    <tr>\n",
              "      <th>96</th>\n",
              "      <td>2001</td>\n",
              "      <td>Professional_Profile</td>\n",
              "      <td>Student</td>\n",
              "      <td>Male</td>\n",
              "      <td>0-14</td>\n",
              "      <td>1</td>\n",
              "      <td>AN</td>\n",
              "    </tr>\n",
              "    <tr>\n",
              "      <th>...</th>\n",
              "      <td>...</td>\n",
              "      <td>...</td>\n",
              "      <td>...</td>\n",
              "      <td>...</td>\n",
              "      <td>...</td>\n",
              "      <td>...</td>\n",
              "      <td>...</td>\n",
              "    </tr>\n",
              "    <tr>\n",
              "      <th>237502</th>\n",
              "      <td>2011</td>\n",
              "      <td>Professional_Profile</td>\n",
              "      <td>Others (Please Specify)</td>\n",
              "      <td>Male</td>\n",
              "      <td>60+</td>\n",
              "      <td>195</td>\n",
              "      <td>WB</td>\n",
              "    </tr>\n",
              "    <tr>\n",
              "      <th>237503</th>\n",
              "      <td>2011</td>\n",
              "      <td>Professional_Profile</td>\n",
              "      <td>Public Sector Undertaking</td>\n",
              "      <td>Female</td>\n",
              "      <td>30-44</td>\n",
              "      <td>61</td>\n",
              "      <td>WB</td>\n",
              "    </tr>\n",
              "    <tr>\n",
              "      <th>237504</th>\n",
              "      <td>2011</td>\n",
              "      <td>Professional_Profile</td>\n",
              "      <td>Public Sector Undertaking</td>\n",
              "      <td>Male</td>\n",
              "      <td>30-44</td>\n",
              "      <td>245</td>\n",
              "      <td>WB</td>\n",
              "    </tr>\n",
              "    <tr>\n",
              "      <th>237505</th>\n",
              "      <td>2011</td>\n",
              "      <td>Professional_Profile</td>\n",
              "      <td>Service (Government)</td>\n",
              "      <td>Male</td>\n",
              "      <td>60+</td>\n",
              "      <td>1</td>\n",
              "      <td>WB</td>\n",
              "    </tr>\n",
              "    <tr>\n",
              "      <th>237506</th>\n",
              "      <td>2011</td>\n",
              "      <td>Professional_Profile</td>\n",
              "      <td>Unemployed</td>\n",
              "      <td>Female</td>\n",
              "      <td>60+</td>\n",
              "      <td>6</td>\n",
              "      <td>WB</td>\n",
              "    </tr>\n",
              "  </tbody>\n",
              "</table>\n",
              "<p>23291 rows × 7 columns</p>\n",
              "</div>\n",
              "      <button class=\"colab-df-convert\" onclick=\"convertToInteractive('df-66f3256a-9fdc-4707-953e-82053c927762')\"\n",
              "              title=\"Convert this dataframe to an interactive table.\"\n",
              "              style=\"display:none;\">\n",
              "        \n",
              "  <svg xmlns=\"http://www.w3.org/2000/svg\" height=\"24px\"viewBox=\"0 0 24 24\"\n",
              "       width=\"24px\">\n",
              "    <path d=\"M0 0h24v24H0V0z\" fill=\"none\"/>\n",
              "    <path d=\"M18.56 5.44l.94 2.06.94-2.06 2.06-.94-2.06-.94-.94-2.06-.94 2.06-2.06.94zm-11 1L8.5 8.5l.94-2.06 2.06-.94-2.06-.94L8.5 2.5l-.94 2.06-2.06.94zm10 10l.94 2.06.94-2.06 2.06-.94-2.06-.94-.94-2.06-.94 2.06-2.06.94z\"/><path d=\"M17.41 7.96l-1.37-1.37c-.4-.4-.92-.59-1.43-.59-.52 0-1.04.2-1.43.59L10.3 9.45l-7.72 7.72c-.78.78-.78 2.05 0 2.83L4 21.41c.39.39.9.59 1.41.59.51 0 1.02-.2 1.41-.59l7.78-7.78 2.81-2.81c.8-.78.8-2.07 0-2.86zM5.41 20L4 18.59l7.72-7.72 1.47 1.35L5.41 20z\"/>\n",
              "  </svg>\n",
              "      </button>\n",
              "      \n",
              "  <style>\n",
              "    .colab-df-container {\n",
              "      display:flex;\n",
              "      flex-wrap:wrap;\n",
              "      gap: 12px;\n",
              "    }\n",
              "\n",
              "    .colab-df-convert {\n",
              "      background-color: #E8F0FE;\n",
              "      border: none;\n",
              "      border-radius: 50%;\n",
              "      cursor: pointer;\n",
              "      display: none;\n",
              "      fill: #1967D2;\n",
              "      height: 32px;\n",
              "      padding: 0 0 0 0;\n",
              "      width: 32px;\n",
              "    }\n",
              "\n",
              "    .colab-df-convert:hover {\n",
              "      background-color: #E2EBFA;\n",
              "      box-shadow: 0px 1px 2px rgba(60, 64, 67, 0.3), 0px 1px 3px 1px rgba(60, 64, 67, 0.15);\n",
              "      fill: #174EA6;\n",
              "    }\n",
              "\n",
              "    [theme=dark] .colab-df-convert {\n",
              "      background-color: #3B4455;\n",
              "      fill: #D2E3FC;\n",
              "    }\n",
              "\n",
              "    [theme=dark] .colab-df-convert:hover {\n",
              "      background-color: #434B5C;\n",
              "      box-shadow: 0px 1px 3px 1px rgba(0, 0, 0, 0.15);\n",
              "      filter: drop-shadow(0px 1px 2px rgba(0, 0, 0, 0.3));\n",
              "      fill: #FFFFFF;\n",
              "    }\n",
              "  </style>\n",
              "\n",
              "      <script>\n",
              "        const buttonEl =\n",
              "          document.querySelector('#df-66f3256a-9fdc-4707-953e-82053c927762 button.colab-df-convert');\n",
              "        buttonEl.style.display =\n",
              "          google.colab.kernel.accessAllowed ? 'block' : 'none';\n",
              "\n",
              "        async function convertToInteractive(key) {\n",
              "          const element = document.querySelector('#df-66f3256a-9fdc-4707-953e-82053c927762');\n",
              "          const dataTable =\n",
              "            await google.colab.kernel.invokeFunction('convertToInteractive',\n",
              "                                                     [key], {});\n",
              "          if (!dataTable) return;\n",
              "\n",
              "          const docLinkHtml = 'Like what you see? Visit the ' +\n",
              "            '<a target=\"_blank\" href=https://colab.research.google.com/notebooks/data_table.ipynb>data table notebook</a>'\n",
              "            + ' to learn more about interactive tables.';\n",
              "          element.innerHTML = '';\n",
              "          dataTable['output_type'] = 'display_data';\n",
              "          await google.colab.output.renderOutput(dataTable, element);\n",
              "          const docLink = document.createElement('div');\n",
              "          docLink.innerHTML = docLinkHtml;\n",
              "          element.appendChild(docLink);\n",
              "        }\n",
              "      </script>\n",
              "    </div>\n",
              "  </div>\n",
              "  "
            ]
          },
          "metadata": {},
          "execution_count": 52
        }
      ]
    },
    {
      "cell_type": "code",
      "source": [
        "from scipy.stats import chi2_contingency\n",
        "from scipy.stats import chi2\n",
        "# Marital_Situation=df[['Education','Marital_Status']]\n",
        "# q = new_df[new_df['Type_code'] == 'Professional_profile']\n",
        "crosstab = pd.crosstab(q[\"Type\"], q[\"Age_group\"])\n",
        "g = crosstab.plot(kind=\"bar\")\n",
        "# g._legend.remove()\n",
        "stat, p, dof, expected = chi2_contingency(crosstab)\n",
        "print('Degress of freedom = %d' % dof)\n",
        "# print(expected)\n",
        "prob = 0.95\n",
        "critical = chi2.ppf(prob, dof)\n",
        "print('probability=%.3f, critical=%.3f, stat=%.3f' % (prob, critical, stat))\n",
        "\n",
        "if abs(stat) >= critical:\n",
        "\tprint('Dependent (We reject H0)')\n",
        "else:\n",
        "\tprint('Independent (We fail to reject H0)')\n",
        "alpha = 1.0 - prob\n",
        "print('significance=%.3f, p=%.3f' % (alpha, p))\n",
        "if p <= alpha:\n",
        "\tprint('Dependent (We reject H0)')\n",
        "else:\n",
        "\tprint('Independent (We fail to reject H0)')"
      ],
      "metadata": {
        "colab": {
          "base_uri": "https://localhost:8080/",
          "height": 516
        },
        "id": "DGe7daEYluJG",
        "outputId": "1742faf5-8cae-4702-9627-bd89ab7c28c6"
      },
      "execution_count": null,
      "outputs": [
        {
          "output_type": "stream",
          "name": "stdout",
          "text": [
            "Degress of freedom = 40\n",
            "probability=0.950, critical=55.758, stat=3605.792\n",
            "Dependent (We reject H0)\n",
            "significance=0.050, p=0.000\n",
            "Dependent (We reject H0)\n"
          ]
        },
        {
          "output_type": "display_data",
          "data": {
            "text/plain": [
              "<Figure size 432x288 with 1 Axes>"
            ],
            "image/png": "[encoded data removed]"
          },
          "metadata": {}
        }
      ]
    },
    {
      "cell_type": "code",
      "source": [
        "q = new_df[(new_df['new_state'] != 'TOTAL (ALL INDIA)')& (new_df['new_state'] != 'TOTAL (STATES)') & (new_df['new_state'] != 'TOTAL (UTs)') & (new_df['Age_group'] != '0-100+')]\n",
        "q = q.groupby(['Year','Gender'], as_index=False)['Total'].sum()\n",
        "sns.lineplot(x = 'Year',y = 'Total',hue='Gender',data=q)\n",
        "plt.title(\"Suicides All Over India\")\n"
      ],
      "metadata": {
        "id": "Dck7KGez3Xgm"
      },
      "execution_count": null,
      "outputs": []
    },
    {
      "cell_type": "code",
      "source": [
        "crosstab"
      ],
      "metadata": {
        "id": "IaZnJd33m8gh"
      },
      "execution_count": null,
      "outputs": []
    },
    {
      "cell_type": "code",
      "source": [
        "q = new_df[(new_df['new_state'] != 'TOTAL (ALL INDIA)')& (new_df['new_state'] != 'TOTAL (STATES)') & (new_df['new_state'] != 'TOTAL (UTs)') & (new_df['Age_group'] != '0-100+') & (new_df['Total']>0)]\n",
        "crosstab = pd.crosstab(q[\"Gender\"], q[\"new_state\"])\n",
        "g = crosstab.plot(kind=\"bar\")\n",
        "g.get_legend().remove()\n",
        "stat, p, dof, expected = chi2_contingency(crosstab)\n",
        "print('Degress of freedom = %d' % dof)\n",
        "# print(expected)\n",
        "prob = 0.95\n",
        "critical = chi2.ppf(prob, dof)\n",
        "print('probability=%.3f, critical=%.3f, stat=%.3f' % (prob, critical, stat))\n",
        "\n",
        "if abs(stat) >= critical:\n",
        "\tprint('Dependent (We reject H0)')\n",
        "else:\n",
        "\tprint('Independent (We fail to reject H0)')\n",
        "alpha = 1.0 - prob\n",
        "print('significance=%.3f, p=%.3f' % (alpha, p))\n",
        "if p <= alpha:\n",
        "\tprint('Dependent (We reject H0)')\n",
        "else:\n",
        "\tprint('Independent (We fail to reject H0)')"
      ],
      "metadata": {
        "colab": {
          "base_uri": "https://localhost:8080/",
          "height": 402
        },
        "id": "lkEa37iQtzVj",
        "outputId": "215f03d4-7de8-4893-d5e5-1ad3e9fa5dfc"
      },
      "execution_count": null,
      "outputs": [
        {
          "output_type": "stream",
          "name": "stdout",
          "text": [
            "Degress of freedom = 34\n",
            "probability=0.950, critical=48.602, stat=505.034\n",
            "Dependent (We reject H0)\n",
            "significance=0.050, p=0.000\n",
            "Dependent (We reject H0)\n"
          ]
        },
        {
          "output_type": "display_data",
          "data": {
            "text/plain": [
              "<Figure size 432x288 with 1 Axes>"
            ],
            "image/png": "[encoded data removed]"
          },
          "metadata": {}
        }
      ]
    },
    {
      "cell_type": "code",
      "source": [
        "q = new_df[(new_df['new_state'] == 'TOTAL (STATES)')]\n",
        "q = q.groupby(['Year','Gender'], as_index=False)['Total'].sum()\n",
        "sns.lineplot(x = 'Year',y = 'Total',hue='Gender',data=q)\n",
        "plt.title(\"Suicides For States\")"
      ],
      "metadata": {
        "id": "QeA2fkYZuv7v"
      },
      "execution_count": null,
      "outputs": []
    },
    {
      "cell_type": "code",
      "source": [
        "q = new_df[(new_df['new_state'] == 'TOTAL (UTs)')]\n",
        "q = q.groupby(['Year','Gender'], as_index=False)['Total'].sum()\n",
        "sns.lineplot(x = 'Year',y = 'Total',hue='Gender',data=q)\n",
        "plt.title(\"Suicides For union territories\")"
      ],
      "metadata": {
        "id": "pL7T9_Riu2n2"
      },
      "execution_count": null,
      "outputs": []
    },
    {
      "cell_type": "code",
      "source": [
        "q = new_df[(new_df['new_state'] == 'MH')]\n",
        "q"
      ],
      "metadata": {
        "colab": {
          "base_uri": "https://localhost:8080/",
          "height": 423
        },
        "id": "iFTIE__2_J7Z",
        "outputId": "550d1bbd-88af-4588-80d1-ddc3dc7cbf1f"
      },
      "execution_count": null,
      "outputs": [
        {
          "output_type": "execute_result",
          "data": {
            "text/plain": [
              "        Year             Type_code                       Type  Gender  \\\n",
              "118717  2001                Causes       Death of Dear Person  Female   \n",
              "118718  2001                Causes       Death of Dear Person    Male   \n",
              "118719  2001                Causes                    Divorce    Male   \n",
              "118720  2001                Causes              Dowry Dispute  Female   \n",
              "118721  2001                Causes  Fall in Social Reputation    Male   \n",
              "...      ...                   ...                        ...     ...   \n",
              "234546  2012         Means_adopted                   Drowning  Female   \n",
              "234547  2012         Means_adopted            Fire Immolation  Female   \n",
              "234548  2012         Means_adopted                  Fire-Arms    Male   \n",
              "234549  2012  Professional_Profile      Professional Activity    Male   \n",
              "234550  2012  Professional_Profile  Public Sector Undertaking    Male   \n",
              "\n",
              "       Age_group  Total new_state  \n",
              "118717     15-29     19        MH  \n",
              "118718     30-44     18        MH  \n",
              "118719     30-44      8        MH  \n",
              "118720     45-59      1        MH  \n",
              "118721     15-29     21        MH  \n",
              "...          ...    ...       ...  \n",
              "234546       60+     60        MH  \n",
              "234547     30-44    289        MH  \n",
              "234548      0-14      0        MH  \n",
              "234549      0-14      0        MH  \n",
              "234550      0-14      0        MH  \n",
              "\n",
              "[6792 rows x 7 columns]"
            ],
            "text/html": [
              "\n",
              "  <div id=\"df-f4018ecc-dbca-431c-bd23-2ce69abd153e\">\n",
              "    <div class=\"colab-df-container\">\n",
              "      <div>\n",
              "<style scoped>\n",
              "    .dataframe tbody tr th:only-of-type {\n",
              "        vertical-align: middle;\n",
              "    }\n",
              "\n",
              "    .dataframe tbody tr th {\n",
              "        vertical-align: top;\n",
              "    }\n",
              "\n",
              "    .dataframe thead th {\n",
              "        text-align: right;\n",
              "    }\n",
              "</style>\n",
              "<table border=\"1\" class=\"dataframe\">\n",
              "  <thead>\n",
              "    <tr style=\"text-align: right;\">\n",
              "      <th></th>\n",
              "      <th>Year</th>\n",
              "      <th>Type_code</th>\n",
              "      <th>Type</th>\n",
              "      <th>Gender</th>\n",
              "      <th>Age_group</th>\n",
              "      <th>Total</th>\n",
              "      <th>new_state</th>\n",
              "    </tr>\n",
              "  </thead>\n",
              "  <tbody>\n",
              "    <tr>\n",
              "      <th>118717</th>\n",
              "      <td>2001</td>\n",
              "      <td>Causes</td>\n",
              "      <td>Death of Dear Person</td>\n",
              "      <td>Female</td>\n",
              "      <td>15-29</td>\n",
              "      <td>19</td>\n",
              "      <td>MH</td>\n",
              "    </tr>\n",
              "    <tr>\n",
              "      <th>118718</th>\n",
              "      <td>2001</td>\n",
              "      <td>Causes</td>\n",
              "      <td>Death of Dear Person</td>\n",
              "      <td>Male</td>\n",
              "      <td>30-44</td>\n",
              "      <td>18</td>\n",
              "      <td>MH</td>\n",
              "    </tr>\n",
              "    <tr>\n",
              "      <th>118719</th>\n",
              "      <td>2001</td>\n",
              "      <td>Causes</td>\n",
              "      <td>Divorce</td>\n",
              "      <td>Male</td>\n",
              "      <td>30-44</td>\n",
              "      <td>8</td>\n",
              "      <td>MH</td>\n",
              "    </tr>\n",
              "    <tr>\n",
              "      <th>118720</th>\n",
              "      <td>2001</td>\n",
              "      <td>Causes</td>\n",
              "      <td>Dowry Dispute</td>\n",
              "      <td>Female</td>\n",
              "      <td>45-59</td>\n",
              "      <td>1</td>\n",
              "      <td>MH</td>\n",
              "    </tr>\n",
              "    <tr>\n",
              "      <th>118721</th>\n",
              "      <td>2001</td>\n",
              "      <td>Causes</td>\n",
              "      <td>Fall in Social Reputation</td>\n",
              "      <td>Male</td>\n",
              "      <td>15-29</td>\n",
              "      <td>21</td>\n",
              "      <td>MH</td>\n",
              "    </tr>\n",
              "    <tr>\n",
              "      <th>...</th>\n",
              "      <td>...</td>\n",
              "      <td>...</td>\n",
              "      <td>...</td>\n",
              "      <td>...</td>\n",
              "      <td>...</td>\n",
              "      <td>...</td>\n",
              "      <td>...</td>\n",
              "    </tr>\n",
              "    <tr>\n",
              "      <th>234546</th>\n",
              "      <td>2012</td>\n",
              "      <td>Means_adopted</td>\n",
              "      <td>Drowning</td>\n",
              "      <td>Female</td>\n",
              "      <td>60+</td>\n",
              "      <td>60</td>\n",
              "      <td>MH</td>\n",
              "    </tr>\n",
              "    <tr>\n",
              "      <th>234547</th>\n",
              "      <td>2012</td>\n",
              "      <td>Means_adopted</td>\n",
              "      <td>Fire Immolation</td>\n",
              "      <td>Female</td>\n",
              "      <td>30-44</td>\n",
              "      <td>289</td>\n",
              "      <td>MH</td>\n",
              "    </tr>\n",
              "    <tr>\n",
              "      <th>234548</th>\n",
              "      <td>2012</td>\n",
              "      <td>Means_adopted</td>\n",
              "      <td>Fire-Arms</td>\n",
              "      <td>Male</td>\n",
              "      <td>0-14</td>\n",
              "      <td>0</td>\n",
              "      <td>MH</td>\n",
              "    </tr>\n",
              "    <tr>\n",
              "      <th>234549</th>\n",
              "      <td>2012</td>\n",
              "      <td>Professional_Profile</td>\n",
              "      <td>Professional Activity</td>\n",
              "      <td>Male</td>\n",
              "      <td>0-14</td>\n",
              "      <td>0</td>\n",
              "      <td>MH</td>\n",
              "    </tr>\n",
              "    <tr>\n",
              "      <th>234550</th>\n",
              "      <td>2012</td>\n",
              "      <td>Professional_Profile</td>\n",
              "      <td>Public Sector Undertaking</td>\n",
              "      <td>Male</td>\n",
              "      <td>0-14</td>\n",
              "      <td>0</td>\n",
              "      <td>MH</td>\n",
              "    </tr>\n",
              "  </tbody>\n",
              "</table>\n",
              "<p>6792 rows × 7 columns</p>\n",
              "</div>\n",
              "      <button class=\"colab-df-convert\" onclick=\"convertToInteractive('df-f4018ecc-dbca-431c-bd23-2ce69abd153e')\"\n",
              "              title=\"Convert this dataframe to an interactive table.\"\n",
              "              style=\"display:none;\">\n",
              "        \n",
              "  <svg xmlns=\"http://www.w3.org/2000/svg\" height=\"24px\"viewBox=\"0 0 24 24\"\n",
              "       width=\"24px\">\n",
              "    <path d=\"M0 0h24v24H0V0z\" fill=\"none\"/>\n",
              "    <path d=\"M18.56 5.44l.94 2.06.94-2.06 2.06-.94-2.06-.94-.94-2.06-.94 2.06-2.06.94zm-11 1L8.5 8.5l.94-2.06 2.06-.94-2.06-.94L8.5 2.5l-.94 2.06-2.06.94zm10 10l.94 2.06.94-2.06 2.06-.94-2.06-.94-.94-2.06-.94 2.06-2.06.94z\"/><path d=\"M17.41 7.96l-1.37-1.37c-.4-.4-.92-.59-1.43-.59-.52 0-1.04.2-1.43.59L10.3 9.45l-7.72 7.72c-.78.78-.78 2.05 0 2.83L4 21.41c.39.39.9.59 1.41.59.51 0 1.02-.2 1.41-.59l7.78-7.78 2.81-2.81c.8-.78.8-2.07 0-2.86zM5.41 20L4 18.59l7.72-7.72 1.47 1.35L5.41 20z\"/>\n",
              "  </svg>\n",
              "      </button>\n",
              "      \n",
              "  <style>\n",
              "    .colab-df-container {\n",
              "      display:flex;\n",
              "      flex-wrap:wrap;\n",
              "      gap: 12px;\n",
              "    }\n",
              "\n",
              "    .colab-df-convert {\n",
              "      background-color: #E8F0FE;\n",
              "      border: none;\n",
              "      border-radius: 50%;\n",
              "      cursor: pointer;\n",
              "      display: none;\n",
              "      fill: #1967D2;\n",
              "      height: 32px;\n",
              "      padding: 0 0 0 0;\n",
              "      width: 32px;\n",
              "    }\n",
              "\n",
              "    .colab-df-convert:hover {\n",
              "      background-color: #E2EBFA;\n",
              "      box-shadow: 0px 1px 2px rgba(60, 64, 67, 0.3), 0px 1px 3px 1px rgba(60, 64, 67, 0.15);\n",
              "      fill: #174EA6;\n",
              "    }\n",
              "\n",
              "    [theme=dark] .colab-df-convert {\n",
              "      background-color: #3B4455;\n",
              "      fill: #D2E3FC;\n",
              "    }\n",
              "\n",
              "    [theme=dark] .colab-df-convert:hover {\n",
              "      background-color: #434B5C;\n",
              "      box-shadow: 0px 1px 3px 1px rgba(0, 0, 0, 0.15);\n",
              "      filter: drop-shadow(0px 1px 2px rgba(0, 0, 0, 0.3));\n",
              "      fill: #FFFFFF;\n",
              "    }\n",
              "  </style>\n",
              "\n",
              "      <script>\n",
              "        const buttonEl =\n",
              "          document.querySelector('#df-f4018ecc-dbca-431c-bd23-2ce69abd153e button.colab-df-convert');\n",
              "        buttonEl.style.display =\n",
              "          google.colab.kernel.accessAllowed ? 'block' : 'none';\n",
              "\n",
              "        async function convertToInteractive(key) {\n",
              "          const element = document.querySelector('#df-f4018ecc-dbca-431c-bd23-2ce69abd153e');\n",
              "          const dataTable =\n",
              "            await google.colab.kernel.invokeFunction('convertToInteractive',\n",
              "                                                     [key], {});\n",
              "          if (!dataTable) return;\n",
              "\n",
              "          const docLinkHtml = 'Like what you see? Visit the ' +\n",
              "            '<a target=\"_blank\" href=https://colab.research.google.com/notebooks/data_table.ipynb>data table notebook</a>'\n",
              "            + ' to learn more about interactive tables.';\n",
              "          element.innerHTML = '';\n",
              "          dataTable['output_type'] = 'display_data';\n",
              "          await google.colab.output.renderOutput(dataTable, element);\n",
              "          const docLink = document.createElement('div');\n",
              "          docLink.innerHTML = docLinkHtml;\n",
              "          element.appendChild(docLink);\n",
              "        }\n",
              "      </script>\n",
              "    </div>\n",
              "  </div>\n",
              "  "
            ]
          },
          "metadata": {},
          "execution_count": 63
        }
      ]
    },
    {
      "cell_type": "code",
      "source": [
        ""
      ],
      "metadata": {
        "id": "fL-8Z5Sn_QrC"
      },
      "execution_count": null,
      "outputs": []
    }
  ]
}