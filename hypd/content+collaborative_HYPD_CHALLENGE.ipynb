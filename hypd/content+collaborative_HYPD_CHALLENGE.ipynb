{
  "nbformat": 4,
  "nbformat_minor": 0,
  "metadata": {
    "colab": {
      "name": " content+collaborative_HYPD_CHALLENGE",
      "provenance": [],
      "collapsed_sections": [
        "CkyDIRUUG4zR",
        "QGr_VhIhJ-Mx",
        "NjHFCE1i5HTR",
        "gMN1NQgEtpPh"
      ],
      "mount_file_id": "1d6WMRU-PujNhQOU1rAuReA20n_SGr9b-",
      "authorship_tag": "ABX9TyNTiVYsCYruDyvdTymWIGO2",
      "include_colab_link": true
    },
    "kernelspec": {
      "name": "python3",
      "display_name": "Python 3"
    },
    "language_info": {
      "name": "python"
    }
  },
  "cells": [
    {
      "cell_type": "markdown",
      "metadata": {
        "id": "view-in-github",
        "colab_type": "text"
      },
      "source": [
        "<a href=\"https://colab.research.google.com/github/AtufaShireen/Hackathons/blob/main/hypd/content%2Bcollaborative_HYPD_CHALLENGE.ipynb\" target=\"_parent\"><img src=\"https://colab.research.google.com/assets/colab-badge.svg\" alt=\"Open In Colab\"/></a>"
      ]
    },
    {
      "cell_type": "markdown",
      "source": [
        "# Imports"
      ],
      "metadata": {
        "id": "AHcDPWZKEeZh"
      }
    },
    {
      "cell_type": "code",
      "source": [
        "import pandas as pd\n",
        "import numpy as np\n",
        "import nltk\n",
        "nltk.download('punkt')\n",
        "nltk.download('stopwords')\n",
        "import string\n",
        "from nltk import word_tokenize\n",
        "from nltk.corpus import stopwords\n",
        "from sklearn.metrics.pairwise import cosine_similarity"
      ],
      "metadata": {
        "id": "yh-Z2Vu28xIf",
        "colab": {
          "base_uri": "https://localhost:8080/"
        },
        "outputId": "cac325bc-2279-49c4-9b38-6e1f842c6301"
      },
      "execution_count": 1,
      "outputs": [
        {
          "output_type": "stream",
          "name": "stdout",
          "text": [
            "[nltk_data] Downloading package punkt to /root/nltk_data...\n",
            "[nltk_data]   Unzipping tokenizers/punkt.zip.\n",
            "[nltk_data] Downloading package stopwords to /root/nltk_data...\n",
            "[nltk_data]   Unzipping corpora/stopwords.zip.\n"
          ]
        }
      ]
    },
    {
      "cell_type": "markdown",
      "source": [
        "# Reading Data"
      ],
      "metadata": {
        "id": "zAzW9A56ElX-"
      }
    },
    {
      "cell_type": "code",
      "source": [
        "import json\n",
        "f = open('/content/drive/MyDrive/hypd/content_masked.json')\n",
        " \n",
        "# returns JSON object as\n",
        "# a dictionary\n",
        "content = json.load(f)\n",
        "\n"
      ],
      "metadata": {
        "id": "1XpsFvI__pLY"
      },
      "execution_count": 47,
      "outputs": []
    },
    {
      "cell_type": "code",
      "source": [
        "len(content)"
      ],
      "metadata": {
        "colab": {
          "base_uri": "https://localhost:8080/"
        },
        "id": "JpGbcThsIc0S",
        "outputId": "36ba7e0c-17a2-463b-bc3c-f57851b1d0f7"
      },
      "execution_count": 3,
      "outputs": [
        {
          "output_type": "execute_result",
          "data": {
            "text/plain": [
              "7581"
            ]
          },
          "metadata": {},
          "execution_count": 3
        }
      ]
    },
    {
      "cell_type": "code",
      "source": [
        "content[7]"
      ],
      "metadata": {
        "colab": {
          "base_uri": "https://localhost:8080/"
        },
        "id": "VNc0UhClc1Bx",
        "outputId": "82ba8727-7347-45a3-89db-bcb33a71574e"
      },
      "execution_count": 4,
      "outputs": [
        {
          "output_type": "execute_result",
          "data": {
            "text/plain": [
              "{'_id': {'$oid': '*****************bbdc'},\n",
              " 'brand_ids': [{'$oid': '*****************1058'}],\n",
              " 'caption': 'Keeps you active and energetic throughout the day\\n#fast&up #workout #supplement #energy',\n",
              " 'catalog_ids': [{'$oid': '5f92b20f40006497ff42106b'},\n",
              "  {'$oid': '5f9d63bb3ac6177434f48029'},\n",
              "  {'$oid': '5f93e4a040006497ff4210dd'}],\n",
              " 'catalog_info': None,\n",
              " 'category_path': ['/615d825d528b706ef3882b2b/615ea667528b706ef3883322'],\n",
              " 'comment_count': 0,\n",
              " 'created_at': {'$date': '2021-04-21T21:35:05.719Z'},\n",
              " 'hashtags': ['#fast', '#workout', '#supplement', '#energy'],\n",
              " 'influencer_ids': [{'$oid': '*****************033e'}],\n",
              " 'is_active': True,\n",
              " 'is_processed': True,\n",
              " 'label': {'age_groups': ['26-30', '30-35'],\n",
              "  'genders': ['M', 'F'],\n",
              "  'interests': ['workout',\n",
              "   'gym',\n",
              "   'vitamin',\n",
              "   'energy',\n",
              "   'protien',\n",
              "   'hydration']},\n",
              " 'last_sync': {'$date': '2022-02-12T09:34:43.513Z'},\n",
              " 'like_count': 4,\n",
              " 'like_ids': [{'$oid': '*****************bee1'},\n",
              "  {'$oid': '*****************0f4b'},\n",
              "  {'$oid': '*****************607c'},\n",
              "  {'$oid': '*****************cb9e'}],\n",
              " 'liked_by': [{'$oid': '*****************f5c0'},\n",
              "  {'$oid': '*****************e01f'},\n",
              "  {'$oid': '*****************fe9e'},\n",
              "  {'$oid': '*****************8025'}],\n",
              " 'media_type': 'video',\n",
              " 'processed_at': {'$date': '2021-04-21T21:35:49.683Z'},\n",
              " 'series_ids': None,\n",
              " 'sync': None,\n",
              " 'sync_type': 'influencer',\n",
              " 'type': 'pebble',\n",
              " 'view_count': 149}"
            ]
          },
          "metadata": {},
          "execution_count": 4
        }
      ]
    },
    {
      "cell_type": "code",
      "source": [
        "import json\n",
        "f = open('/content/drive/MyDrive/hypd/catalog_masked.json')\n",
        " \n",
        "# returns JSON object as\n",
        "# a dictionary\n",
        "catalog = json.load(f)\n",
        "\n"
      ],
      "metadata": {
        "id": "SZ51QfTr__2_"
      },
      "execution_count": 42,
      "outputs": []
    },
    {
      "cell_type": "code",
      "source": [
        "catalog[6]"
      ],
      "metadata": {
        "colab": {
          "base_uri": "https://localhost:8080/"
        },
        "id": "FrZi5I5hlR-W",
        "outputId": "00fe1784-f7b6-45e7-8b73-7636c775005e"
      },
      "execution_count": 6,
      "outputs": [
        {
          "output_type": "execute_result",
          "data": {
            "text/plain": [
              "{'_id': {'$oid': '*****************de5d'},\n",
              " 'base_price': 1949,\n",
              " 'brand_id': {'$oid': '*****************ddc1'},\n",
              " 'cat_one': '*****************7324',\n",
              " 'cat_three': '*****************f077',\n",
              " 'cat_two': '*****************7cf9',\n",
              " 'keywords': ['dress',\n",
              "  'dresses',\n",
              "  'maxi dress',\n",
              "  'maxi',\n",
              "  'black dress',\n",
              "  'Embroidered dress',\n",
              "  'summer dress',\n",
              "  'black',\n",
              "  'women',\n",
              "  'girls',\n",
              "  'girl',\n",
              "  'western',\n",
              "  'western wear',\n",
              "  'casual',\n",
              "  'Casuals ',\n",
              "  'clothing',\n",
              "  'apparel',\n",
              "  'apparels',\n",
              "  'trendy',\n",
              "  'stylish',\n",
              "  'brand',\n",
              "  'vritta'],\n",
              " 'name': 'Floral Embroidered Maxi Dress - Black',\n",
              " 'retail_price': 1750,\n",
              " 'status': 'Publish'}"
            ]
          },
          "metadata": {},
          "execution_count": 6
        }
      ]
    },
    {
      "cell_type": "markdown",
      "source": [
        "# Product Recommendation To Influencers post"
      ],
      "metadata": {
        "id": "JtNj3g-mc7PD"
      }
    },
    {
      "cell_type": "markdown",
      "source": [
        "## Data Collection"
      ],
      "metadata": {
        "id": "JbXDV4J0FU0C"
      }
    },
    {
      "cell_type": "markdown",
      "source": [
        "* Extracting these values from content.json and creating a dataframe.\n",
        "\n",
        "    * catalog_ids\n",
        "    * hashtags\n",
        "    * interests\n",
        "    * genders\n",
        "    * caption\n",
        "\n",
        "* Extracting these values from catalog.json and creating a dataframe.\n",
        "\n",
        "    * catalog_id\n",
        "    * name\n",
        "    * keywords"
      ],
      "metadata": {
        "id": "XemtUAZdFYjh"
      }
    },
    {
      "cell_type": "code",
      "source": [
        "no_vals = 0\n",
        "content_dict = {\n",
        "    'catalog_id':[],\n",
        "    'hashtags':[],\n",
        "    'interests':[],\n",
        "    'genders':[],\n",
        "    'caption':[]\n",
        "}\n",
        "for i in range(1,len(content)-1):\n",
        "    # print(i)\n",
        "    # print(\"i-\",i)\n",
        "    if content[i]['catalog_ids']!=None:\n",
        "        content_dict['catalog_id'].append([j['$oid'] for j in content[i]['catalog_ids']])\n",
        "        if content[i]['hashtags']!=None:\n",
        "            content_dict['hashtags'].append([k.replace('#','') for k in content[i]['hashtags']])\n",
        "        else:\n",
        "            content_dict['hashtags'].append([None])\n",
        "   \n",
        "        if content[i]['label']!=None:\n",
        "            if content[i]['label']['interests']!=None:\n",
        "                content_dict['interests'].append(content[i]['label']['interests'])\n",
        "            else:\n",
        "                content_dict['interests'].append(None)\n",
        "            genders = content[i]['label']['genders']\n",
        "            if genders!=None:\n",
        "                for j in range(len(genders)):\n",
        "                    if genders[j].lower()=='f':\n",
        "                        genders[j]='girl'\n",
        "                    elif genders[j].lower()=='m':\n",
        "                        genders[j]='boy'\n",
        "                content_dict['genders'].append(genders)\n",
        "            else:\n",
        "                content_dict['genders'].append([None])\n",
        "        else:\n",
        "            no_vals+=1\n",
        "            content_dict['genders'].append([None])\n",
        "            content_dict['interests'].append([None])\n",
        "        content_dict['caption'].append( content[i]['caption'] )"
      ],
      "metadata": {
        "id": "uBEFrjNTChPw"
      },
      "execution_count": 7,
      "outputs": []
    },
    {
      "cell_type": "code",
      "source": [
        "print(no_vals)"
      ],
      "metadata": {
        "colab": {
          "base_uri": "https://localhost:8080/"
        },
        "id": "5syN8JwqTFY3",
        "outputId": "a07c7249-f0a6-4fb7-e062-245e2bc69917"
      },
      "execution_count": 8,
      "outputs": [
        {
          "output_type": "stream",
          "name": "stdout",
          "text": [
            "420\n"
          ]
        }
      ]
    },
    {
      "cell_type": "code",
      "source": [
        "print(len(content_dict['hashtags']))\n",
        "print(len(content_dict['catalog_id']))\n",
        "print(len(content_dict['interests']))\n",
        "print(len(content_dict['genders']))\n",
        "print(len(content_dict['caption']))\n",
        "print(len(content_dict))"
      ],
      "metadata": {
        "colab": {
          "base_uri": "https://localhost:8080/"
        },
        "id": "a-x31_RBc0IJ",
        "outputId": "4d915e1d-bac2-44ca-a7e0-1e9280d1d38c"
      },
      "execution_count": 9,
      "outputs": [
        {
          "output_type": "stream",
          "name": "stdout",
          "text": [
            "5843\n",
            "5843\n",
            "5843\n",
            "5843\n",
            "5843\n",
            "5\n"
          ]
        }
      ]
    },
    {
      "cell_type": "markdown",
      "source": [
        "* arrays lens should be equal to create df of dict of arrays."
      ],
      "metadata": {
        "id": "ywTQC8QOGrjx"
      }
    },
    {
      "cell_type": "code",
      "source": [
        "content_df = pd.DataFrame(content_dict)\n",
        "content_df.head(10)"
      ],
      "metadata": {
        "colab": {
          "base_uri": "https://localhost:8080/",
          "height": 581
        },
        "id": "qgH901faTbXw",
        "outputId": "3a449c30-ca9d-495c-9559-5a0c6a933556"
      },
      "execution_count": 10,
      "outputs": [
        {
          "output_type": "execute_result",
          "data": {
            "text/plain": [
              "                                          catalog_id  \\\n",
              "0                         [6035106e58b8f4136b6e4505]   \n",
              "1  [60094d9352e78c76b023fc9b, 6008556952e78c76b02...   \n",
              "2  [5fbbbb65c94eac4d3ca460cd, 5fbcc096c94eac4d3ca...   \n",
              "3                         [5fda294b0a30d919d2439684]   \n",
              "4  [602a1a177f064048a3e7457d, 602a0df67f064048a3e...   \n",
              "5  [5f92e8fc40006497ff4210a3, 5f93cebf40006497ff4...   \n",
              "6  [5f92b20f40006497ff42106b, 5f9d63bb3ac6177434f...   \n",
              "7                         [5fbb77d8c94eac4d3ca46091]   \n",
              "8                         [5ff585d21beb3405bd1a3ec1]   \n",
              "9                         [5ffebac16a21ca0e6cdd316d]   \n",
              "\n",
              "                                            hashtags  \\\n",
              "0         [beardoil, package, gift, sample, pebbles]   \n",
              "1  [quaclothing, workwear, corporatefashion, offi...   \n",
              "2         [kicaactive, workout, gymwear, activewear]   \n",
              "3         [destello, fashion, trending, ootd, shirt]   \n",
              "4  [mensclothing, floralprint, printedshirt, beac...   \n",
              "5                   [fast, supplements, energy, gym]   \n",
              "6                [fast, workout, supplement, energy]   \n",
              "7      [prolixrbeauty, prolixr, skincare, hydration]   \n",
              "8       [kicaactive, leggings, fitness, workoutwear]   \n",
              "9  [halffullhalfempty, spaghettidress, ootd, fash...   \n",
              "\n",
              "                                           interests      genders  \\\n",
              "0                   [Sample, testers, free products]  [boy, girl]   \n",
              "1  [work wear, work, women, office look, professi...       [girl]   \n",
              "2  [work out, activewear, gym, workout, body toni...       [girl]   \n",
              "3  [shirt, graphic shirt, quirky, orinted shirt, ...        [boy]   \n",
              "4  [tailored , custom, printed shirts, casual, ev...        [boy]   \n",
              "5  [work out, gym, supplements, protien, energy, ...        [boy]   \n",
              "6  [workout, gym, vitamin, energy, protien, hydra...  [boy, girl]   \n",
              "7  [skincare, beauty, makeup, looking good, routi...       [girl]   \n",
              "8  [kica active, kica, fitness, gym wear, active ...       [girl]   \n",
              "9  [striped dress, casual dress, dress, western w...       [girl]   \n",
              "\n",
              "                                             caption  \n",
              "0  A curated box of surprise samples from select ...  \n",
              "1  Ways to Wear Black Cotton Trousers\\n\\nThe tape...  \n",
              "2  She's anything but ordinary. Wearing Kica Acti...  \n",
              "3  Midweek feels. There's so much more to a week ...  \n",
              "4  Vibrant Tropical Shirt from 15 buttons, styled...  \n",
              "5  Experience absolute beast mode during workouts...  \n",
              "6  Keeps you active and energetic throughout the ...  \n",
              "7  Keep your skin hydrated with @prolixr All-New ...  \n",
              "8  A hypnotising flow, and nope we aren’t going t...  \n",
              "9  Dresses with pockets >> ! 😍\\n#halffullhalfempt...  "
            ],
            "text/html": [
              "\n",
              "  <div id=\"df-0ea3bac3-1049-4700-a1d6-a328f6c8741c\">\n",
              "    <div class=\"colab-df-container\">\n",
              "      <div>\n",
              "<style scoped>\n",
              "    .dataframe tbody tr th:only-of-type {\n",
              "        vertical-align: middle;\n",
              "    }\n",
              "\n",
              "    .dataframe tbody tr th {\n",
              "        vertical-align: top;\n",
              "    }\n",
              "\n",
              "    .dataframe thead th {\n",
              "        text-align: right;\n",
              "    }\n",
              "</style>\n",
              "<table border=\"1\" class=\"dataframe\">\n",
              "  <thead>\n",
              "    <tr style=\"text-align: right;\">\n",
              "      <th></th>\n",
              "      <th>catalog_id</th>\n",
              "      <th>hashtags</th>\n",
              "      <th>interests</th>\n",
              "      <th>genders</th>\n",
              "      <th>caption</th>\n",
              "    </tr>\n",
              "  </thead>\n",
              "  <tbody>\n",
              "    <tr>\n",
              "      <th>0</th>\n",
              "      <td>[6035106e58b8f4136b6e4505]</td>\n",
              "      <td>[beardoil, package, gift, sample, pebbles]</td>\n",
              "      <td>[Sample, testers, free products]</td>\n",
              "      <td>[boy, girl]</td>\n",
              "      <td>A curated box of surprise samples from select ...</td>\n",
              "    </tr>\n",
              "    <tr>\n",
              "      <th>1</th>\n",
              "      <td>[60094d9352e78c76b023fc9b, 6008556952e78c76b02...</td>\n",
              "      <td>[quaclothing, workwear, corporatefashion, offi...</td>\n",
              "      <td>[work wear, work, women, office look, professi...</td>\n",
              "      <td>[girl]</td>\n",
              "      <td>Ways to Wear Black Cotton Trousers\\n\\nThe tape...</td>\n",
              "    </tr>\n",
              "    <tr>\n",
              "      <th>2</th>\n",
              "      <td>[5fbbbb65c94eac4d3ca460cd, 5fbcc096c94eac4d3ca...</td>\n",
              "      <td>[kicaactive, workout, gymwear, activewear]</td>\n",
              "      <td>[work out, activewear, gym, workout, body toni...</td>\n",
              "      <td>[girl]</td>\n",
              "      <td>She's anything but ordinary. Wearing Kica Acti...</td>\n",
              "    </tr>\n",
              "    <tr>\n",
              "      <th>3</th>\n",
              "      <td>[5fda294b0a30d919d2439684]</td>\n",
              "      <td>[destello, fashion, trending, ootd, shirt]</td>\n",
              "      <td>[shirt, graphic shirt, quirky, orinted shirt, ...</td>\n",
              "      <td>[boy]</td>\n",
              "      <td>Midweek feels. There's so much more to a week ...</td>\n",
              "    </tr>\n",
              "    <tr>\n",
              "      <th>4</th>\n",
              "      <td>[602a1a177f064048a3e7457d, 602a0df67f064048a3e...</td>\n",
              "      <td>[mensclothing, floralprint, printedshirt, beac...</td>\n",
              "      <td>[tailored , custom, printed shirts, casual, ev...</td>\n",
              "      <td>[boy]</td>\n",
              "      <td>Vibrant Tropical Shirt from 15 buttons, styled...</td>\n",
              "    </tr>\n",
              "    <tr>\n",
              "      <th>5</th>\n",
              "      <td>[5f92e8fc40006497ff4210a3, 5f93cebf40006497ff4...</td>\n",
              "      <td>[fast, supplements, energy, gym]</td>\n",
              "      <td>[work out, gym, supplements, protien, energy, ...</td>\n",
              "      <td>[boy]</td>\n",
              "      <td>Experience absolute beast mode during workouts...</td>\n",
              "    </tr>\n",
              "    <tr>\n",
              "      <th>6</th>\n",
              "      <td>[5f92b20f40006497ff42106b, 5f9d63bb3ac6177434f...</td>\n",
              "      <td>[fast, workout, supplement, energy]</td>\n",
              "      <td>[workout, gym, vitamin, energy, protien, hydra...</td>\n",
              "      <td>[boy, girl]</td>\n",
              "      <td>Keeps you active and energetic throughout the ...</td>\n",
              "    </tr>\n",
              "    <tr>\n",
              "      <th>7</th>\n",
              "      <td>[5fbb77d8c94eac4d3ca46091]</td>\n",
              "      <td>[prolixrbeauty, prolixr, skincare, hydration]</td>\n",
              "      <td>[skincare, beauty, makeup, looking good, routi...</td>\n",
              "      <td>[girl]</td>\n",
              "      <td>Keep your skin hydrated with @prolixr All-New ...</td>\n",
              "    </tr>\n",
              "    <tr>\n",
              "      <th>8</th>\n",
              "      <td>[5ff585d21beb3405bd1a3ec1]</td>\n",
              "      <td>[kicaactive, leggings, fitness, workoutwear]</td>\n",
              "      <td>[kica active, kica, fitness, gym wear, active ...</td>\n",
              "      <td>[girl]</td>\n",
              "      <td>A hypnotising flow, and nope we aren’t going t...</td>\n",
              "    </tr>\n",
              "    <tr>\n",
              "      <th>9</th>\n",
              "      <td>[5ffebac16a21ca0e6cdd316d]</td>\n",
              "      <td>[halffullhalfempty, spaghettidress, ootd, fash...</td>\n",
              "      <td>[striped dress, casual dress, dress, western w...</td>\n",
              "      <td>[girl]</td>\n",
              "      <td>Dresses with pockets &gt;&gt; ! 😍\\n#halffullhalfempt...</td>\n",
              "    </tr>\n",
              "  </tbody>\n",
              "</table>\n",
              "</div>\n",
              "      <button class=\"colab-df-convert\" onclick=\"convertToInteractive('df-0ea3bac3-1049-4700-a1d6-a328f6c8741c')\"\n",
              "              title=\"Convert this dataframe to an interactive table.\"\n",
              "              style=\"display:none;\">\n",
              "        \n",
              "  <svg xmlns=\"http://www.w3.org/2000/svg\" height=\"24px\"viewBox=\"0 0 24 24\"\n",
              "       width=\"24px\">\n",
              "    <path d=\"M0 0h24v24H0V0z\" fill=\"none\"/>\n",
              "    <path d=\"M18.56 5.44l.94 2.06.94-2.06 2.06-.94-2.06-.94-.94-2.06-.94 2.06-2.06.94zm-11 1L8.5 8.5l.94-2.06 2.06-.94-2.06-.94L8.5 2.5l-.94 2.06-2.06.94zm10 10l.94 2.06.94-2.06 2.06-.94-2.06-.94-.94-2.06-.94 2.06-2.06.94z\"/><path d=\"M17.41 7.96l-1.37-1.37c-.4-.4-.92-.59-1.43-.59-.52 0-1.04.2-1.43.59L10.3 9.45l-7.72 7.72c-.78.78-.78 2.05 0 2.83L4 21.41c.39.39.9.59 1.41.59.51 0 1.02-.2 1.41-.59l7.78-7.78 2.81-2.81c.8-.78.8-2.07 0-2.86zM5.41 20L4 18.59l7.72-7.72 1.47 1.35L5.41 20z\"/>\n",
              "  </svg>\n",
              "      </button>\n",
              "      \n",
              "  <style>\n",
              "    .colab-df-container {\n",
              "      display:flex;\n",
              "      flex-wrap:wrap;\n",
              "      gap: 12px;\n",
              "    }\n",
              "\n",
              "    .colab-df-convert {\n",
              "      background-color: #E8F0FE;\n",
              "      border: none;\n",
              "      border-radius: 50%;\n",
              "      cursor: pointer;\n",
              "      display: none;\n",
              "      fill: #1967D2;\n",
              "      height: 32px;\n",
              "      padding: 0 0 0 0;\n",
              "      width: 32px;\n",
              "    }\n",
              "\n",
              "    .colab-df-convert:hover {\n",
              "      background-color: #E2EBFA;\n",
              "      box-shadow: 0px 1px 2px rgba(60, 64, 67, 0.3), 0px 1px 3px 1px rgba(60, 64, 67, 0.15);\n",
              "      fill: #174EA6;\n",
              "    }\n",
              "\n",
              "    [theme=dark] .colab-df-convert {\n",
              "      background-color: #3B4455;\n",
              "      fill: #D2E3FC;\n",
              "    }\n",
              "\n",
              "    [theme=dark] .colab-df-convert:hover {\n",
              "      background-color: #434B5C;\n",
              "      box-shadow: 0px 1px 3px 1px rgba(0, 0, 0, 0.15);\n",
              "      filter: drop-shadow(0px 1px 2px rgba(0, 0, 0, 0.3));\n",
              "      fill: #FFFFFF;\n",
              "    }\n",
              "  </style>\n",
              "\n",
              "      <script>\n",
              "        const buttonEl =\n",
              "          document.querySelector('#df-0ea3bac3-1049-4700-a1d6-a328f6c8741c button.colab-df-convert');\n",
              "        buttonEl.style.display =\n",
              "          google.colab.kernel.accessAllowed ? 'block' : 'none';\n",
              "\n",
              "        async function convertToInteractive(key) {\n",
              "          const element = document.querySelector('#df-0ea3bac3-1049-4700-a1d6-a328f6c8741c');\n",
              "          const dataTable =\n",
              "            await google.colab.kernel.invokeFunction('convertToInteractive',\n",
              "                                                     [key], {});\n",
              "          if (!dataTable) return;\n",
              "\n",
              "          const docLinkHtml = 'Like what you see? Visit the ' +\n",
              "            '<a target=\"_blank\" href=https://colab.research.google.com/notebooks/data_table.ipynb>data table notebook</a>'\n",
              "            + ' to learn more about interactive tables.';\n",
              "          element.innerHTML = '';\n",
              "          dataTable['output_type'] = 'display_data';\n",
              "          await google.colab.output.renderOutput(dataTable, element);\n",
              "          const docLink = document.createElement('div');\n",
              "          docLink.innerHTML = docLinkHtml;\n",
              "          element.appendChild(docLink);\n",
              "        }\n",
              "      </script>\n",
              "    </div>\n",
              "  </div>\n",
              "  "
            ]
          },
          "metadata": {},
          "execution_count": 10
        }
      ]
    },
    {
      "cell_type": "code",
      "source": [
        "\n",
        "content_df.isnull().sum().sum()"
      ],
      "metadata": {
        "colab": {
          "base_uri": "https://localhost:8080/"
        },
        "id": "HHNyS2gqTwdp",
        "outputId": "21ea6f85-46d8-4ddb-ce6f-1c20d464a792"
      },
      "execution_count": 11,
      "outputs": [
        {
          "output_type": "execute_result",
          "data": {
            "text/plain": [
              "0"
            ]
          },
          "metadata": {},
          "execution_count": 11
        }
      ]
    },
    {
      "cell_type": "code",
      "source": [
        "catalog_dict = {\n",
        "    'catalog_id':[],\n",
        "    'name':[],\n",
        "    'keywords':[]\n",
        "}\n",
        "for i in range(len(catalog)):\n",
        "    catalog_dict['catalog_id'].append(catalog[i]['_id']['$oid'][-4:])\n",
        "    catalog_dict['name'].append(catalog[i]['name'])\n",
        "    catalog_dict['keywords'].append(catalog[i]['keywords'])\n"
      ],
      "metadata": {
        "id": "BCp1JEtWmXy2"
      },
      "execution_count": 43,
      "outputs": []
    },
    {
      "cell_type": "code",
      "source": [
        "catalog_df = pd.DataFrame(catalog_dict)\n",
        "catalog_df.head(10)"
      ],
      "metadata": {
        "colab": {
          "base_uri": "https://localhost:8080/",
          "height": 363
        },
        "id": "lGysWfKro9yw",
        "outputId": "a44b4a02-fd05-471d-d328-004ab77ce47e"
      },
      "execution_count": 44,
      "outputs": [
        {
          "output_type": "execute_result",
          "data": {
            "text/plain": [
              "  catalog_id                                          name  \\\n",
              "0       93d0  Moisturising Cream | Shea Butter & Vitamin E   \n",
              "1       94cb                                 Bold Swimsuit   \n",
              "2       93ff                           Onion Seed Hair Oil   \n",
              "3       9548                Maroon Embroidered Shift Dress   \n",
              "4       9548                Maroon Embroidered Shift Dress   \n",
              "5       dcfd       Grey Crop Top With Embroidered Sleeves    \n",
              "6       de5d         Floral Embroidered Maxi Dress - Black   \n",
              "7       df1a                          Engy Blue Stripe Set   \n",
              "8       f00d         Taupe Printed Dress With Tie-Up Belt    \n",
              "9       dd35                        Winona Stripe Jumpsuit   \n",
              "\n",
              "                                            keywords  \n",
              "0  [cream, moisturising, shea, butter, vitamin e,...  \n",
              "1  [swimsuit, gymwear, active wear, swimming cost...  \n",
              "2  [oil, hair fall, growth oil, hair, onion, blac...  \n",
              "3      [one piece, casual, party, long dress, dress]  \n",
              "4      [one piece, casual, party, long dress, dress]  \n",
              "5             [top, casual wear, trendy, women wear]  \n",
              "6  [dress, dresses, maxi dress, maxi, black dress...  \n",
              "7  [coat, coat pant set, office wear, formal wear...  \n",
              "8  [one peice,  casual wear, fit and flare dress,...  \n",
              "9  [women apparel , ladies jumpsuit, strip jumpsu...  "
            ],
            "text/html": [
              "\n",
              "  <div id=\"df-77e6f28e-4d2b-4c27-bdce-ae2ed6e2b263\">\n",
              "    <div class=\"colab-df-container\">\n",
              "      <div>\n",
              "<style scoped>\n",
              "    .dataframe tbody tr th:only-of-type {\n",
              "        vertical-align: middle;\n",
              "    }\n",
              "\n",
              "    .dataframe tbody tr th {\n",
              "        vertical-align: top;\n",
              "    }\n",
              "\n",
              "    .dataframe thead th {\n",
              "        text-align: right;\n",
              "    }\n",
              "</style>\n",
              "<table border=\"1\" class=\"dataframe\">\n",
              "  <thead>\n",
              "    <tr style=\"text-align: right;\">\n",
              "      <th></th>\n",
              "      <th>catalog_id</th>\n",
              "      <th>name</th>\n",
              "      <th>keywords</th>\n",
              "    </tr>\n",
              "  </thead>\n",
              "  <tbody>\n",
              "    <tr>\n",
              "      <th>0</th>\n",
              "      <td>93d0</td>\n",
              "      <td>Moisturising Cream | Shea Butter &amp; Vitamin E</td>\n",
              "      <td>[cream, moisturising, shea, butter, vitamin e,...</td>\n",
              "    </tr>\n",
              "    <tr>\n",
              "      <th>1</th>\n",
              "      <td>94cb</td>\n",
              "      <td>Bold Swimsuit</td>\n",
              "      <td>[swimsuit, gymwear, active wear, swimming cost...</td>\n",
              "    </tr>\n",
              "    <tr>\n",
              "      <th>2</th>\n",
              "      <td>93ff</td>\n",
              "      <td>Onion Seed Hair Oil</td>\n",
              "      <td>[oil, hair fall, growth oil, hair, onion, blac...</td>\n",
              "    </tr>\n",
              "    <tr>\n",
              "      <th>3</th>\n",
              "      <td>9548</td>\n",
              "      <td>Maroon Embroidered Shift Dress</td>\n",
              "      <td>[one piece, casual, party, long dress, dress]</td>\n",
              "    </tr>\n",
              "    <tr>\n",
              "      <th>4</th>\n",
              "      <td>9548</td>\n",
              "      <td>Maroon Embroidered Shift Dress</td>\n",
              "      <td>[one piece, casual, party, long dress, dress]</td>\n",
              "    </tr>\n",
              "    <tr>\n",
              "      <th>5</th>\n",
              "      <td>dcfd</td>\n",
              "      <td>Grey Crop Top With Embroidered Sleeves</td>\n",
              "      <td>[top, casual wear, trendy, women wear]</td>\n",
              "    </tr>\n",
              "    <tr>\n",
              "      <th>6</th>\n",
              "      <td>de5d</td>\n",
              "      <td>Floral Embroidered Maxi Dress - Black</td>\n",
              "      <td>[dress, dresses, maxi dress, maxi, black dress...</td>\n",
              "    </tr>\n",
              "    <tr>\n",
              "      <th>7</th>\n",
              "      <td>df1a</td>\n",
              "      <td>Engy Blue Stripe Set</td>\n",
              "      <td>[coat, coat pant set, office wear, formal wear...</td>\n",
              "    </tr>\n",
              "    <tr>\n",
              "      <th>8</th>\n",
              "      <td>f00d</td>\n",
              "      <td>Taupe Printed Dress With Tie-Up Belt</td>\n",
              "      <td>[one peice,  casual wear, fit and flare dress,...</td>\n",
              "    </tr>\n",
              "    <tr>\n",
              "      <th>9</th>\n",
              "      <td>dd35</td>\n",
              "      <td>Winona Stripe Jumpsuit</td>\n",
              "      <td>[women apparel , ladies jumpsuit, strip jumpsu...</td>\n",
              "    </tr>\n",
              "  </tbody>\n",
              "</table>\n",
              "</div>\n",
              "      <button class=\"colab-df-convert\" onclick=\"convertToInteractive('df-77e6f28e-4d2b-4c27-bdce-ae2ed6e2b263')\"\n",
              "              title=\"Convert this dataframe to an interactive table.\"\n",
              "              style=\"display:none;\">\n",
              "        \n",
              "  <svg xmlns=\"http://www.w3.org/2000/svg\" height=\"24px\"viewBox=\"0 0 24 24\"\n",
              "       width=\"24px\">\n",
              "    <path d=\"M0 0h24v24H0V0z\" fill=\"none\"/>\n",
              "    <path d=\"M18.56 5.44l.94 2.06.94-2.06 2.06-.94-2.06-.94-.94-2.06-.94 2.06-2.06.94zm-11 1L8.5 8.5l.94-2.06 2.06-.94-2.06-.94L8.5 2.5l-.94 2.06-2.06.94zm10 10l.94 2.06.94-2.06 2.06-.94-2.06-.94-.94-2.06-.94 2.06-2.06.94z\"/><path d=\"M17.41 7.96l-1.37-1.37c-.4-.4-.92-.59-1.43-.59-.52 0-1.04.2-1.43.59L10.3 9.45l-7.72 7.72c-.78.78-.78 2.05 0 2.83L4 21.41c.39.39.9.59 1.41.59.51 0 1.02-.2 1.41-.59l7.78-7.78 2.81-2.81c.8-.78.8-2.07 0-2.86zM5.41 20L4 18.59l7.72-7.72 1.47 1.35L5.41 20z\"/>\n",
              "  </svg>\n",
              "      </button>\n",
              "      \n",
              "  <style>\n",
              "    .colab-df-container {\n",
              "      display:flex;\n",
              "      flex-wrap:wrap;\n",
              "      gap: 12px;\n",
              "    }\n",
              "\n",
              "    .colab-df-convert {\n",
              "      background-color: #E8F0FE;\n",
              "      border: none;\n",
              "      border-radius: 50%;\n",
              "      cursor: pointer;\n",
              "      display: none;\n",
              "      fill: #1967D2;\n",
              "      height: 32px;\n",
              "      padding: 0 0 0 0;\n",
              "      width: 32px;\n",
              "    }\n",
              "\n",
              "    .colab-df-convert:hover {\n",
              "      background-color: #E2EBFA;\n",
              "      box-shadow: 0px 1px 2px rgba(60, 64, 67, 0.3), 0px 1px 3px 1px rgba(60, 64, 67, 0.15);\n",
              "      fill: #174EA6;\n",
              "    }\n",
              "\n",
              "    [theme=dark] .colab-df-convert {\n",
              "      background-color: #3B4455;\n",
              "      fill: #D2E3FC;\n",
              "    }\n",
              "\n",
              "    [theme=dark] .colab-df-convert:hover {\n",
              "      background-color: #434B5C;\n",
              "      box-shadow: 0px 1px 3px 1px rgba(0, 0, 0, 0.15);\n",
              "      filter: drop-shadow(0px 1px 2px rgba(0, 0, 0, 0.3));\n",
              "      fill: #FFFFFF;\n",
              "    }\n",
              "  </style>\n",
              "\n",
              "      <script>\n",
              "        const buttonEl =\n",
              "          document.querySelector('#df-77e6f28e-4d2b-4c27-bdce-ae2ed6e2b263 button.colab-df-convert');\n",
              "        buttonEl.style.display =\n",
              "          google.colab.kernel.accessAllowed ? 'block' : 'none';\n",
              "\n",
              "        async function convertToInteractive(key) {\n",
              "          const element = document.querySelector('#df-77e6f28e-4d2b-4c27-bdce-ae2ed6e2b263');\n",
              "          const dataTable =\n",
              "            await google.colab.kernel.invokeFunction('convertToInteractive',\n",
              "                                                     [key], {});\n",
              "          if (!dataTable) return;\n",
              "\n",
              "          const docLinkHtml = 'Like what you see? Visit the ' +\n",
              "            '<a target=\"_blank\" href=https://colab.research.google.com/notebooks/data_table.ipynb>data table notebook</a>'\n",
              "            + ' to learn more about interactive tables.';\n",
              "          element.innerHTML = '';\n",
              "          dataTable['output_type'] = 'display_data';\n",
              "          await google.colab.output.renderOutput(dataTable, element);\n",
              "          const docLink = document.createElement('div');\n",
              "          docLink.innerHTML = docLinkHtml;\n",
              "          element.appendChild(docLink);\n",
              "        }\n",
              "      </script>\n",
              "    </div>\n",
              "  </div>\n",
              "  "
            ]
          },
          "metadata": {},
          "execution_count": 44
        }
      ]
    },
    {
      "cell_type": "code",
      "source": [
        "catalog_df.isnull().sum().sum()"
      ],
      "metadata": {
        "colab": {
          "base_uri": "https://localhost:8080/"
        },
        "id": "OMba5zoCT2nZ",
        "outputId": "e03dddac-122a-485d-b033-ff9fbcc48332"
      },
      "execution_count": 14,
      "outputs": [
        {
          "output_type": "execute_result",
          "data": {
            "text/plain": [
              "0"
            ]
          },
          "metadata": {},
          "execution_count": 14
        }
      ]
    },
    {
      "cell_type": "markdown",
      "source": [
        "## Preprocessing\n",
        "\n",
        "* Lower texts\n",
        "* preprocessing text (only for captions)\n",
        "\n",
        "    * tokenizing\n",
        "    * removing special characters\n",
        "    * removing stop words (added few extra words to nltk stop words like today,tommorow etc.,)\n",
        "\n",
        "* combining these text from content and creating a set (for input)\n",
        "    * hashtags\n",
        "    * interests\n",
        "    * genders\n",
        "    * caption\n",
        "    * catalog_tags"
      ],
      "metadata": {
        "id": "CkyDIRUUG4zR"
      }
    },
    {
      "cell_type": "code",
      "source": [
        "content_df['hashtags'] = content_df['hashtags'].apply(lambda x: [i.lower() for i in x if i!=None])\n",
        "content_df['interests'] = content_df['interests'].apply(lambda x: [i.lower() for i in x if i!=None])\n",
        "content_df['caption'] = content_df['caption'].apply(lambda x: x.lower() if (x!=None) else '')\n"
      ],
      "metadata": {
        "id": "TKMEMLQNi4Mq"
      },
      "execution_count": 15,
      "outputs": []
    },
    {
      "cell_type": "code",
      "source": [
        "content_df.iloc[1]['caption']"
      ],
      "metadata": {
        "colab": {
          "base_uri": "https://localhost:8080/",
          "height": 71
        },
        "id": "ALwsuME8jx8Q",
        "outputId": "89111c2b-8fff-4ff9-ad99-817c11167e31"
      },
      "execution_count": 16,
      "outputs": [
        {
          "output_type": "execute_result",
          "data": {
            "text/plain": [
              "'ways to wear black cotton trousers\\n\\nthe tapered pair is cut to a clean, streamlined silhouette with slanted pockets and natural wood buttons. they’re cut from durable cotton woven with stretch so the slim-leg silhouette is flexible. we show you how to style these black pants in 4 different ways!\\n#quaclothing #workwear #corporatefashion #officelook'"
            ],
            "application/vnd.google.colaboratory.intrinsic+json": {
              "type": "string"
            }
          },
          "metadata": {},
          "execution_count": 16
        }
      ]
    },
    {
      "cell_type": "code",
      "source": [
        "\n",
        "stop_words = stopwords.words('english')\n",
        "stop_words.extend(['get','today','tommorow','yesterday'])\n",
        "\n",
        "def preprocess_sent(x):\n",
        "    x = x.lower()\n",
        "    words = word_tokenize(x)\n",
        "    # words = [char for char in words if char not in string.punctuation]\n",
        "    words = [char for char in words if char.isalpha()]\n",
        "\n",
        "    words = [word for word in words if word not in stop_words]\n",
        "    return words\n"
      ],
      "metadata": {
        "id": "zlLCPyfbfo1x"
      },
      "execution_count": 17,
      "outputs": []
    },
    {
      "cell_type": "code",
      "source": [
        "content_df['caption'] = content_df['caption'].apply(lambda x: preprocess_sent(x))"
      ],
      "metadata": {
        "id": "9K7CDHAGkI-z"
      },
      "execution_count": 18,
      "outputs": []
    },
    {
      "cell_type": "code",
      "source": [
        "def unite(x):\n",
        "    tags = x['hashtags']\n",
        "    # print(tags)\n",
        "    inter = x['interests']\n",
        "    # print(inter)\n",
        "    gen = x['genders']\n",
        "    cap = x['caption']\n",
        "\n",
        "    h = []\n",
        "    h.extend(tags)\n",
        "    h.extend(inter)\n",
        "    h.extend(gen)\n",
        "    h.extend(cap)\n",
        "    return list(set(h))\n"
      ],
      "metadata": {
        "id": "vSTNpnH-ot73"
      },
      "execution_count": 19,
      "outputs": []
    },
    {
      "cell_type": "code",
      "source": [
        "content_df['new_tags'] = content_df.apply(unite,axis=1)"
      ],
      "metadata": {
        "id": "p51q2oyMbmFq"
      },
      "execution_count": 20,
      "outputs": []
    },
    {
      "cell_type": "code",
      "source": [
        "train_df = content_df.drop(['hashtags','interests','genders','caption'],axis=1)\n",
        "train_df.head()"
      ],
      "metadata": {
        "colab": {
          "base_uri": "https://localhost:8080/",
          "height": 206
        },
        "id": "Xf2QTiTpl3ms",
        "outputId": "5da22185-a4a4-405f-b08e-3482cc1a4de6"
      },
      "execution_count": 21,
      "outputs": [
        {
          "output_type": "execute_result",
          "data": {
            "text/plain": [
              "                                          catalog_id  \\\n",
              "0                         [6035106e58b8f4136b6e4505]   \n",
              "1  [60094d9352e78c76b023fc9b, 6008556952e78c76b02...   \n",
              "2  [5fbbbb65c94eac4d3ca460cd, 5fbcc096c94eac4d3ca...   \n",
              "3                         [5fda294b0a30d919d2439684]   \n",
              "4  [602a1a177f064048a3e7457d, 602a0df67f064048a3e...   \n",
              "\n",
              "                                            new_tags  \n",
              "0  [beardoil, hypd, dash, getting, girl, happy, p...  \n",
              "1  [different, women, buttons, stretch, durable, ...  \n",
              "2  [gymwear, gym wear, kicaactive, work out, girl...  \n",
              "3  [casual, much, shirt, graphic shirt, orinted s...  \n",
              "4  [floralprint, buttons, custom, carefully, plan...  "
            ],
            "text/html": [
              "\n",
              "  <div id=\"df-90d0fe0f-377e-4b76-a230-1cbafa0f8de5\">\n",
              "    <div class=\"colab-df-container\">\n",
              "      <div>\n",
              "<style scoped>\n",
              "    .dataframe tbody tr th:only-of-type {\n",
              "        vertical-align: middle;\n",
              "    }\n",
              "\n",
              "    .dataframe tbody tr th {\n",
              "        vertical-align: top;\n",
              "    }\n",
              "\n",
              "    .dataframe thead th {\n",
              "        text-align: right;\n",
              "    }\n",
              "</style>\n",
              "<table border=\"1\" class=\"dataframe\">\n",
              "  <thead>\n",
              "    <tr style=\"text-align: right;\">\n",
              "      <th></th>\n",
              "      <th>catalog_id</th>\n",
              "      <th>new_tags</th>\n",
              "    </tr>\n",
              "  </thead>\n",
              "  <tbody>\n",
              "    <tr>\n",
              "      <th>0</th>\n",
              "      <td>[6035106e58b8f4136b6e4505]</td>\n",
              "      <td>[beardoil, hypd, dash, getting, girl, happy, p...</td>\n",
              "    </tr>\n",
              "    <tr>\n",
              "      <th>1</th>\n",
              "      <td>[60094d9352e78c76b023fc9b, 6008556952e78c76b02...</td>\n",
              "      <td>[different, women, buttons, stretch, durable, ...</td>\n",
              "    </tr>\n",
              "    <tr>\n",
              "      <th>2</th>\n",
              "      <td>[5fbbbb65c94eac4d3ca460cd, 5fbcc096c94eac4d3ca...</td>\n",
              "      <td>[gymwear, gym wear, kicaactive, work out, girl...</td>\n",
              "    </tr>\n",
              "    <tr>\n",
              "      <th>3</th>\n",
              "      <td>[5fda294b0a30d919d2439684]</td>\n",
              "      <td>[casual, much, shirt, graphic shirt, orinted s...</td>\n",
              "    </tr>\n",
              "    <tr>\n",
              "      <th>4</th>\n",
              "      <td>[602a1a177f064048a3e7457d, 602a0df67f064048a3e...</td>\n",
              "      <td>[floralprint, buttons, custom, carefully, plan...</td>\n",
              "    </tr>\n",
              "  </tbody>\n",
              "</table>\n",
              "</div>\n",
              "      <button class=\"colab-df-convert\" onclick=\"convertToInteractive('df-90d0fe0f-377e-4b76-a230-1cbafa0f8de5')\"\n",
              "              title=\"Convert this dataframe to an interactive table.\"\n",
              "              style=\"display:none;\">\n",
              "        \n",
              "  <svg xmlns=\"http://www.w3.org/2000/svg\" height=\"24px\"viewBox=\"0 0 24 24\"\n",
              "       width=\"24px\">\n",
              "    <path d=\"M0 0h24v24H0V0z\" fill=\"none\"/>\n",
              "    <path d=\"M18.56 5.44l.94 2.06.94-2.06 2.06-.94-2.06-.94-.94-2.06-.94 2.06-2.06.94zm-11 1L8.5 8.5l.94-2.06 2.06-.94-2.06-.94L8.5 2.5l-.94 2.06-2.06.94zm10 10l.94 2.06.94-2.06 2.06-.94-2.06-.94-.94-2.06-.94 2.06-2.06.94z\"/><path d=\"M17.41 7.96l-1.37-1.37c-.4-.4-.92-.59-1.43-.59-.52 0-1.04.2-1.43.59L10.3 9.45l-7.72 7.72c-.78.78-.78 2.05 0 2.83L4 21.41c.39.39.9.59 1.41.59.51 0 1.02-.2 1.41-.59l7.78-7.78 2.81-2.81c.8-.78.8-2.07 0-2.86zM5.41 20L4 18.59l7.72-7.72 1.47 1.35L5.41 20z\"/>\n",
              "  </svg>\n",
              "      </button>\n",
              "      \n",
              "  <style>\n",
              "    .colab-df-container {\n",
              "      display:flex;\n",
              "      flex-wrap:wrap;\n",
              "      gap: 12px;\n",
              "    }\n",
              "\n",
              "    .colab-df-convert {\n",
              "      background-color: #E8F0FE;\n",
              "      border: none;\n",
              "      border-radius: 50%;\n",
              "      cursor: pointer;\n",
              "      display: none;\n",
              "      fill: #1967D2;\n",
              "      height: 32px;\n",
              "      padding: 0 0 0 0;\n",
              "      width: 32px;\n",
              "    }\n",
              "\n",
              "    .colab-df-convert:hover {\n",
              "      background-color: #E2EBFA;\n",
              "      box-shadow: 0px 1px 2px rgba(60, 64, 67, 0.3), 0px 1px 3px 1px rgba(60, 64, 67, 0.15);\n",
              "      fill: #174EA6;\n",
              "    }\n",
              "\n",
              "    [theme=dark] .colab-df-convert {\n",
              "      background-color: #3B4455;\n",
              "      fill: #D2E3FC;\n",
              "    }\n",
              "\n",
              "    [theme=dark] .colab-df-convert:hover {\n",
              "      background-color: #434B5C;\n",
              "      box-shadow: 0px 1px 3px 1px rgba(0, 0, 0, 0.15);\n",
              "      filter: drop-shadow(0px 1px 2px rgba(0, 0, 0, 0.3));\n",
              "      fill: #FFFFFF;\n",
              "    }\n",
              "  </style>\n",
              "\n",
              "      <script>\n",
              "        const buttonEl =\n",
              "          document.querySelector('#df-90d0fe0f-377e-4b76-a230-1cbafa0f8de5 button.colab-df-convert');\n",
              "        buttonEl.style.display =\n",
              "          google.colab.kernel.accessAllowed ? 'block' : 'none';\n",
              "\n",
              "        async function convertToInteractive(key) {\n",
              "          const element = document.querySelector('#df-90d0fe0f-377e-4b76-a230-1cbafa0f8de5');\n",
              "          const dataTable =\n",
              "            await google.colab.kernel.invokeFunction('convertToInteractive',\n",
              "                                                     [key], {});\n",
              "          if (!dataTable) return;\n",
              "\n",
              "          const docLinkHtml = 'Like what you see? Visit the ' +\n",
              "            '<a target=\"_blank\" href=https://colab.research.google.com/notebooks/data_table.ipynb>data table notebook</a>'\n",
              "            + ' to learn more about interactive tables.';\n",
              "          element.innerHTML = '';\n",
              "          dataTable['output_type'] = 'display_data';\n",
              "          await google.colab.output.renderOutput(dataTable, element);\n",
              "          const docLink = document.createElement('div');\n",
              "          docLink.innerHTML = docLinkHtml;\n",
              "          element.appendChild(docLink);\n",
              "        }\n",
              "      </script>\n",
              "    </div>\n",
              "  </div>\n",
              "  "
            ]
          },
          "metadata": {},
          "execution_count": 21
        }
      ]
    },
    {
      "cell_type": "markdown",
      "source": [
        "* adding the catalog name to the contents (using catalog dataset, and last 4 unmasked characters of catalog_ids)."
      ],
      "metadata": {
        "id": "np2mCWp6Iv5P"
      }
    },
    {
      "cell_type": "code",
      "source": [
        "train_df = train_df.explode('catalog_id')\n",
        "train_df.head()"
      ],
      "metadata": {
        "colab": {
          "base_uri": "https://localhost:8080/",
          "height": 206
        },
        "id": "NwjpDaSUdte2",
        "outputId": "2174f81a-7172-4550-f848-77ec099eeda8"
      },
      "execution_count": 22,
      "outputs": [
        {
          "output_type": "execute_result",
          "data": {
            "text/plain": [
              "                 catalog_id                                           new_tags\n",
              "0  6035106e58b8f4136b6e4505  [beardoil, hypd, dash, getting, girl, happy, p...\n",
              "1  60094d9352e78c76b023fc9b  [different, women, buttons, stretch, durable, ...\n",
              "1  6008556952e78c76b023fbed  [different, women, buttons, stretch, durable, ...\n",
              "1  6009486752e78c76b023fc8b  [different, women, buttons, stretch, durable, ...\n",
              "2  5fbbbb65c94eac4d3ca460cd  [gymwear, gym wear, kicaactive, work out, girl..."
            ],
            "text/html": [
              "\n",
              "  <div id=\"df-a6057b73-ccbb-404d-8ad4-4795cfbb1ef4\">\n",
              "    <div class=\"colab-df-container\">\n",
              "      <div>\n",
              "<style scoped>\n",
              "    .dataframe tbody tr th:only-of-type {\n",
              "        vertical-align: middle;\n",
              "    }\n",
              "\n",
              "    .dataframe tbody tr th {\n",
              "        vertical-align: top;\n",
              "    }\n",
              "\n",
              "    .dataframe thead th {\n",
              "        text-align: right;\n",
              "    }\n",
              "</style>\n",
              "<table border=\"1\" class=\"dataframe\">\n",
              "  <thead>\n",
              "    <tr style=\"text-align: right;\">\n",
              "      <th></th>\n",
              "      <th>catalog_id</th>\n",
              "      <th>new_tags</th>\n",
              "    </tr>\n",
              "  </thead>\n",
              "  <tbody>\n",
              "    <tr>\n",
              "      <th>0</th>\n",
              "      <td>6035106e58b8f4136b6e4505</td>\n",
              "      <td>[beardoil, hypd, dash, getting, girl, happy, p...</td>\n",
              "    </tr>\n",
              "    <tr>\n",
              "      <th>1</th>\n",
              "      <td>60094d9352e78c76b023fc9b</td>\n",
              "      <td>[different, women, buttons, stretch, durable, ...</td>\n",
              "    </tr>\n",
              "    <tr>\n",
              "      <th>1</th>\n",
              "      <td>6008556952e78c76b023fbed</td>\n",
              "      <td>[different, women, buttons, stretch, durable, ...</td>\n",
              "    </tr>\n",
              "    <tr>\n",
              "      <th>1</th>\n",
              "      <td>6009486752e78c76b023fc8b</td>\n",
              "      <td>[different, women, buttons, stretch, durable, ...</td>\n",
              "    </tr>\n",
              "    <tr>\n",
              "      <th>2</th>\n",
              "      <td>5fbbbb65c94eac4d3ca460cd</td>\n",
              "      <td>[gymwear, gym wear, kicaactive, work out, girl...</td>\n",
              "    </tr>\n",
              "  </tbody>\n",
              "</table>\n",
              "</div>\n",
              "      <button class=\"colab-df-convert\" onclick=\"convertToInteractive('df-a6057b73-ccbb-404d-8ad4-4795cfbb1ef4')\"\n",
              "              title=\"Convert this dataframe to an interactive table.\"\n",
              "              style=\"display:none;\">\n",
              "        \n",
              "  <svg xmlns=\"http://www.w3.org/2000/svg\" height=\"24px\"viewBox=\"0 0 24 24\"\n",
              "       width=\"24px\">\n",
              "    <path d=\"M0 0h24v24H0V0z\" fill=\"none\"/>\n",
              "    <path d=\"M18.56 5.44l.94 2.06.94-2.06 2.06-.94-2.06-.94-.94-2.06-.94 2.06-2.06.94zm-11 1L8.5 8.5l.94-2.06 2.06-.94-2.06-.94L8.5 2.5l-.94 2.06-2.06.94zm10 10l.94 2.06.94-2.06 2.06-.94-2.06-.94-.94-2.06-.94 2.06-2.06.94z\"/><path d=\"M17.41 7.96l-1.37-1.37c-.4-.4-.92-.59-1.43-.59-.52 0-1.04.2-1.43.59L10.3 9.45l-7.72 7.72c-.78.78-.78 2.05 0 2.83L4 21.41c.39.39.9.59 1.41.59.51 0 1.02-.2 1.41-.59l7.78-7.78 2.81-2.81c.8-.78.8-2.07 0-2.86zM5.41 20L4 18.59l7.72-7.72 1.47 1.35L5.41 20z\"/>\n",
              "  </svg>\n",
              "      </button>\n",
              "      \n",
              "  <style>\n",
              "    .colab-df-container {\n",
              "      display:flex;\n",
              "      flex-wrap:wrap;\n",
              "      gap: 12px;\n",
              "    }\n",
              "\n",
              "    .colab-df-convert {\n",
              "      background-color: #E8F0FE;\n",
              "      border: none;\n",
              "      border-radius: 50%;\n",
              "      cursor: pointer;\n",
              "      display: none;\n",
              "      fill: #1967D2;\n",
              "      height: 32px;\n",
              "      padding: 0 0 0 0;\n",
              "      width: 32px;\n",
              "    }\n",
              "\n",
              "    .colab-df-convert:hover {\n",
              "      background-color: #E2EBFA;\n",
              "      box-shadow: 0px 1px 2px rgba(60, 64, 67, 0.3), 0px 1px 3px 1px rgba(60, 64, 67, 0.15);\n",
              "      fill: #174EA6;\n",
              "    }\n",
              "\n",
              "    [theme=dark] .colab-df-convert {\n",
              "      background-color: #3B4455;\n",
              "      fill: #D2E3FC;\n",
              "    }\n",
              "\n",
              "    [theme=dark] .colab-df-convert:hover {\n",
              "      background-color: #434B5C;\n",
              "      box-shadow: 0px 1px 3px 1px rgba(0, 0, 0, 0.15);\n",
              "      filter: drop-shadow(0px 1px 2px rgba(0, 0, 0, 0.3));\n",
              "      fill: #FFFFFF;\n",
              "    }\n",
              "  </style>\n",
              "\n",
              "      <script>\n",
              "        const buttonEl =\n",
              "          document.querySelector('#df-a6057b73-ccbb-404d-8ad4-4795cfbb1ef4 button.colab-df-convert');\n",
              "        buttonEl.style.display =\n",
              "          google.colab.kernel.accessAllowed ? 'block' : 'none';\n",
              "\n",
              "        async function convertToInteractive(key) {\n",
              "          const element = document.querySelector('#df-a6057b73-ccbb-404d-8ad4-4795cfbb1ef4');\n",
              "          const dataTable =\n",
              "            await google.colab.kernel.invokeFunction('convertToInteractive',\n",
              "                                                     [key], {});\n",
              "          if (!dataTable) return;\n",
              "\n",
              "          const docLinkHtml = 'Like what you see? Visit the ' +\n",
              "            '<a target=\"_blank\" href=https://colab.research.google.com/notebooks/data_table.ipynb>data table notebook</a>'\n",
              "            + ' to learn more about interactive tables.';\n",
              "          element.innerHTML = '';\n",
              "          dataTable['output_type'] = 'display_data';\n",
              "          await google.colab.output.renderOutput(dataTable, element);\n",
              "          const docLink = document.createElement('div');\n",
              "          docLink.innerHTML = docLinkHtml;\n",
              "          element.appendChild(docLink);\n",
              "        }\n",
              "      </script>\n",
              "    </div>\n",
              "  </div>\n",
              "  "
            ]
          },
          "metadata": {},
          "execution_count": 22
        }
      ]
    },
    {
      "cell_type": "code",
      "source": [
        "train_df.isnull().sum()\n",
        "train_df.dropna(axis=0,inplace=True)"
      ],
      "metadata": {
        "id": "SrXLWvn8suHi"
      },
      "execution_count": 23,
      "outputs": []
    },
    {
      "cell_type": "code",
      "source": [
        "def cat_name(cat_ids):\n",
        "    bad_ids = []\n",
        "    cat_names = []\n",
        "    for i in range(len(catalog)):\n",
        "        names = []\n",
        "        cat = catalog[i]['_id']\n",
        "        # print('cat',cat)\n",
        "        if cat!=None:\n",
        "            if cat['$oid'][-4:]==cat_ids[-4:]:\n",
        "                try:\n",
        "                    cat_names.append(catalog[i]['name'])\n",
        "                except Exception as e:\n",
        "                    print(e)\n",
        "                    cat_names.append(None)\n",
        "        else:\n",
        "            print('cat is none')\n",
        "    return list(set(cat_names))\n",
        "\n",
        "def flatten_list(lists):\n",
        "    flat_list = []\n",
        "    # Iterate through the outer list\n",
        "    for element in lists:\n",
        "        if type(element) is list:\n",
        "            # If the element is of type list, iterate through the sublist\n",
        "            for item in element:\n",
        "                flat_list.append(item)\n",
        "        else:\n",
        "            flat_list.append(element)\n",
        "    return list(set(flat_list))\n",
        "\n",
        "def cat_tags(cat_ids):\n",
        "    bad_ids = []\n",
        "    cat_names = []\n",
        "    for i in range(len(catalog)):\n",
        "        names = []\n",
        "        cat = catalog[i]['_id']\n",
        "        # print('cat',cat)\n",
        "        if cat!=None:\n",
        "            if cat['$oid'][-4:]==cat_ids[-4:]:\n",
        "                cat_names.append(catalog[i]['keywords'])\n",
        "        else:\n",
        "            print('cat is none')\n",
        "    return flatten_list(cat_names)\n"
      ],
      "metadata": {
        "id": "uQ9TKV5uiCCF"
      },
      "execution_count": 24,
      "outputs": []
    },
    {
      "cell_type": "code",
      "source": [
        "\n",
        "train_df['catalog_name'] = train_df['catalog_id'].apply(lambda x: cat_name(x))\n",
        "train_df['catalog_tags'] = train_df['catalog_id'].apply(lambda x: cat_tags(x))"
      ],
      "metadata": {
        "id": "7Ms4C141kDWd"
      },
      "execution_count": 25,
      "outputs": []
    },
    {
      "cell_type": "code",
      "source": [
        "train_df.head()"
      ],
      "metadata": {
        "colab": {
          "base_uri": "https://localhost:8080/",
          "height": 206
        },
        "id": "w3QNzX4UoJlM",
        "outputId": "aac08333-3fcf-4cef-9a4d-97c37d54fc21"
      },
      "execution_count": 26,
      "outputs": [
        {
          "output_type": "execute_result",
          "data": {
            "text/plain": [
              "                 catalog_id  \\\n",
              "0  6035106e58b8f4136b6e4505   \n",
              "1  60094d9352e78c76b023fc9b   \n",
              "1  6008556952e78c76b023fbed   \n",
              "1  6009486752e78c76b023fc8b   \n",
              "2  5fbbbb65c94eac4d3ca460cd   \n",
              "\n",
              "                                            new_tags  \\\n",
              "0  [beardoil, hypd, dash, getting, girl, happy, p...   \n",
              "1  [different, women, buttons, stretch, durable, ...   \n",
              "1  [different, women, buttons, stretch, durable, ...   \n",
              "1  [different, women, buttons, stretch, durable, ...   \n",
              "2  [gymwear, gym wear, kicaactive, work out, girl...   \n",
              "\n",
              "                           catalog_name  \\\n",
              "0            [Look Under The Pebbles 🥰]   \n",
              "1  [Smart Cotton Crop Trousers - Black]   \n",
              "1       [Ruched Poplin Blouson - Black]   \n",
              "1  [Stretch Wool Tailored Suit - Grey ]   \n",
              "2                      [Cheer Leggings]   \n",
              "\n",
              "                                        catalog_tags  \n",
              "0  [pebble, pebbles, easter, sample, surprise, sa...  \n",
              "1  [women, trendy, fashionista , designer , brand...  \n",
              "1  [women, trendy, fashionista , fashionable , br...  \n",
              "1  [women, trendy, fashionable , brand, style, of...  \n",
              "2     [activewear, gym, fitness,  gymwear, leggings]  "
            ],
            "text/html": [
              "\n",
              "  <div id=\"df-09f6d13d-b803-44db-afae-7ce811220f74\">\n",
              "    <div class=\"colab-df-container\">\n",
              "      <div>\n",
              "<style scoped>\n",
              "    .dataframe tbody tr th:only-of-type {\n",
              "        vertical-align: middle;\n",
              "    }\n",
              "\n",
              "    .dataframe tbody tr th {\n",
              "        vertical-align: top;\n",
              "    }\n",
              "\n",
              "    .dataframe thead th {\n",
              "        text-align: right;\n",
              "    }\n",
              "</style>\n",
              "<table border=\"1\" class=\"dataframe\">\n",
              "  <thead>\n",
              "    <tr style=\"text-align: right;\">\n",
              "      <th></th>\n",
              "      <th>catalog_id</th>\n",
              "      <th>new_tags</th>\n",
              "      <th>catalog_name</th>\n",
              "      <th>catalog_tags</th>\n",
              "    </tr>\n",
              "  </thead>\n",
              "  <tbody>\n",
              "    <tr>\n",
              "      <th>0</th>\n",
              "      <td>6035106e58b8f4136b6e4505</td>\n",
              "      <td>[beardoil, hypd, dash, getting, girl, happy, p...</td>\n",
              "      <td>[Look Under The Pebbles 🥰]</td>\n",
              "      <td>[pebble, pebbles, easter, sample, surprise, sa...</td>\n",
              "    </tr>\n",
              "    <tr>\n",
              "      <th>1</th>\n",
              "      <td>60094d9352e78c76b023fc9b</td>\n",
              "      <td>[different, women, buttons, stretch, durable, ...</td>\n",
              "      <td>[Smart Cotton Crop Trousers - Black]</td>\n",
              "      <td>[women, trendy, fashionista , designer , brand...</td>\n",
              "    </tr>\n",
              "    <tr>\n",
              "      <th>1</th>\n",
              "      <td>6008556952e78c76b023fbed</td>\n",
              "      <td>[different, women, buttons, stretch, durable, ...</td>\n",
              "      <td>[Ruched Poplin Blouson - Black]</td>\n",
              "      <td>[women, trendy, fashionista , fashionable , br...</td>\n",
              "    </tr>\n",
              "    <tr>\n",
              "      <th>1</th>\n",
              "      <td>6009486752e78c76b023fc8b</td>\n",
              "      <td>[different, women, buttons, stretch, durable, ...</td>\n",
              "      <td>[Stretch Wool Tailored Suit - Grey ]</td>\n",
              "      <td>[women, trendy, fashionable , brand, style, of...</td>\n",
              "    </tr>\n",
              "    <tr>\n",
              "      <th>2</th>\n",
              "      <td>5fbbbb65c94eac4d3ca460cd</td>\n",
              "      <td>[gymwear, gym wear, kicaactive, work out, girl...</td>\n",
              "      <td>[Cheer Leggings]</td>\n",
              "      <td>[activewear, gym, fitness,  gymwear, leggings]</td>\n",
              "    </tr>\n",
              "  </tbody>\n",
              "</table>\n",
              "</div>\n",
              "      <button class=\"colab-df-convert\" onclick=\"convertToInteractive('df-09f6d13d-b803-44db-afae-7ce811220f74')\"\n",
              "              title=\"Convert this dataframe to an interactive table.\"\n",
              "              style=\"display:none;\">\n",
              "        \n",
              "  <svg xmlns=\"http://www.w3.org/2000/svg\" height=\"24px\"viewBox=\"0 0 24 24\"\n",
              "       width=\"24px\">\n",
              "    <path d=\"M0 0h24v24H0V0z\" fill=\"none\"/>\n",
              "    <path d=\"M18.56 5.44l.94 2.06.94-2.06 2.06-.94-2.06-.94-.94-2.06-.94 2.06-2.06.94zm-11 1L8.5 8.5l.94-2.06 2.06-.94-2.06-.94L8.5 2.5l-.94 2.06-2.06.94zm10 10l.94 2.06.94-2.06 2.06-.94-2.06-.94-.94-2.06-.94 2.06-2.06.94z\"/><path d=\"M17.41 7.96l-1.37-1.37c-.4-.4-.92-.59-1.43-.59-.52 0-1.04.2-1.43.59L10.3 9.45l-7.72 7.72c-.78.78-.78 2.05 0 2.83L4 21.41c.39.39.9.59 1.41.59.51 0 1.02-.2 1.41-.59l7.78-7.78 2.81-2.81c.8-.78.8-2.07 0-2.86zM5.41 20L4 18.59l7.72-7.72 1.47 1.35L5.41 20z\"/>\n",
              "  </svg>\n",
              "      </button>\n",
              "      \n",
              "  <style>\n",
              "    .colab-df-container {\n",
              "      display:flex;\n",
              "      flex-wrap:wrap;\n",
              "      gap: 12px;\n",
              "    }\n",
              "\n",
              "    .colab-df-convert {\n",
              "      background-color: #E8F0FE;\n",
              "      border: none;\n",
              "      border-radius: 50%;\n",
              "      cursor: pointer;\n",
              "      display: none;\n",
              "      fill: #1967D2;\n",
              "      height: 32px;\n",
              "      padding: 0 0 0 0;\n",
              "      width: 32px;\n",
              "    }\n",
              "\n",
              "    .colab-df-convert:hover {\n",
              "      background-color: #E2EBFA;\n",
              "      box-shadow: 0px 1px 2px rgba(60, 64, 67, 0.3), 0px 1px 3px 1px rgba(60, 64, 67, 0.15);\n",
              "      fill: #174EA6;\n",
              "    }\n",
              "\n",
              "    [theme=dark] .colab-df-convert {\n",
              "      background-color: #3B4455;\n",
              "      fill: #D2E3FC;\n",
              "    }\n",
              "\n",
              "    [theme=dark] .colab-df-convert:hover {\n",
              "      background-color: #434B5C;\n",
              "      box-shadow: 0px 1px 3px 1px rgba(0, 0, 0, 0.15);\n",
              "      filter: drop-shadow(0px 1px 2px rgba(0, 0, 0, 0.3));\n",
              "      fill: #FFFFFF;\n",
              "    }\n",
              "  </style>\n",
              "\n",
              "      <script>\n",
              "        const buttonEl =\n",
              "          document.querySelector('#df-09f6d13d-b803-44db-afae-7ce811220f74 button.colab-df-convert');\n",
              "        buttonEl.style.display =\n",
              "          google.colab.kernel.accessAllowed ? 'block' : 'none';\n",
              "\n",
              "        async function convertToInteractive(key) {\n",
              "          const element = document.querySelector('#df-09f6d13d-b803-44db-afae-7ce811220f74');\n",
              "          const dataTable =\n",
              "            await google.colab.kernel.invokeFunction('convertToInteractive',\n",
              "                                                     [key], {});\n",
              "          if (!dataTable) return;\n",
              "\n",
              "          const docLinkHtml = 'Like what you see? Visit the ' +\n",
              "            '<a target=\"_blank\" href=https://colab.research.google.com/notebooks/data_table.ipynb>data table notebook</a>'\n",
              "            + ' to learn more about interactive tables.';\n",
              "          element.innerHTML = '';\n",
              "          dataTable['output_type'] = 'display_data';\n",
              "          await google.colab.output.renderOutput(dataTable, element);\n",
              "          const docLink = document.createElement('div');\n",
              "          docLink.innerHTML = docLinkHtml;\n",
              "          element.appendChild(docLink);\n",
              "        }\n",
              "      </script>\n",
              "    </div>\n",
              "  </div>\n",
              "  "
            ]
          },
          "metadata": {},
          "execution_count": 26
        }
      ]
    },
    {
      "cell_type": "code",
      "source": [
        "train_df['catalog_name'].iloc[4]"
      ],
      "metadata": {
        "colab": {
          "base_uri": "https://localhost:8080/"
        },
        "id": "5-vWrh6YVkoe",
        "outputId": "e59c6898-5d97-498f-d570-27f08d74042d"
      },
      "execution_count": 27,
      "outputs": [
        {
          "output_type": "execute_result",
          "data": {
            "text/plain": [
              "['Cheer Leggings']"
            ]
          },
          "metadata": {},
          "execution_count": 27
        }
      ]
    },
    {
      "cell_type": "code",
      "source": [
        "train_df.isnull().sum()"
      ],
      "metadata": {
        "colab": {
          "base_uri": "https://localhost:8080/"
        },
        "id": "mAm8kOrBsdqF",
        "outputId": "b0c73027-e4e1-4228-f682-fbb919a52e42"
      },
      "execution_count": 28,
      "outputs": [
        {
          "output_type": "execute_result",
          "data": {
            "text/plain": [
              "catalog_id      0\n",
              "new_tags        0\n",
              "catalog_name    0\n",
              "catalog_tags    0\n",
              "dtype: int64"
            ]
          },
          "metadata": {},
          "execution_count": 28
        }
      ]
    },
    {
      "cell_type": "markdown",
      "source": [
        "* Got the names for every catalog_id, great."
      ],
      "metadata": {
        "id": "abQ0BUlbJjxb"
      }
    },
    {
      "cell_type": "code",
      "source": [
        "def unite_tags(x):\n",
        "    new_tags = x['new_tags']\n",
        "    # print(tags)\n",
        "    catalog_name = x['catalog_name']\n",
        "    # print(inter)\n",
        "    catalog_tags = x['catalog_tags']\n",
        "\n",
        "    h = []\n",
        "    h.extend(new_tags)\n",
        "    h.extend(catalog_name)\n",
        "    h.extend(catalog_tags)\n",
        "    return list(set(h))"
      ],
      "metadata": {
        "id": "xF_FY3NBvXHt"
      },
      "execution_count": 29,
      "outputs": []
    },
    {
      "cell_type": "code",
      "source": [
        "train_df['catalog_new_tags'] = train_df.apply(unite_tags,axis=1)\n",
        "# train_df.drop(['new_tags','catalog_tags'],axis=1,inplace=True)\n",
        "# train_df.head()"
      ],
      "metadata": {
        "id": "8fkyqxFevzCk"
      },
      "execution_count": 30,
      "outputs": []
    },
    {
      "cell_type": "markdown",
      "source": [
        "## Modelling"
      ],
      "metadata": {
        "id": "QGr_VhIhJ-Mx"
      }
    },
    {
      "cell_type": "markdown",
      "source": [
        "* creating corpus"
      ],
      "metadata": {
        "id": "_-1j_f8Yure7"
      }
    },
    {
      "cell_type": "code",
      "source": [
        ""
      ],
      "metadata": {
        "id": "qICGr9ogujPg"
      },
      "execution_count": 30,
      "outputs": []
    },
    {
      "cell_type": "code",
      "source": [
        "train_df['catalog_name'] = train_df['catalog_name'].apply(lambda x: ' '.join(i for i in x))\n",
        "train_df.head()"
      ],
      "metadata": {
        "colab": {
          "base_uri": "https://localhost:8080/",
          "height": 337
        },
        "outputId": "36d3594b-30b3-40f2-9555-ddc88bfcf712",
        "id": "NAUYoHnQujPi"
      },
      "execution_count": 31,
      "outputs": [
        {
          "output_type": "execute_result",
          "data": {
            "text/plain": [
              "                 catalog_id  \\\n",
              "0  6035106e58b8f4136b6e4505   \n",
              "1  60094d9352e78c76b023fc9b   \n",
              "1  6008556952e78c76b023fbed   \n",
              "1  6009486752e78c76b023fc8b   \n",
              "2  5fbbbb65c94eac4d3ca460cd   \n",
              "\n",
              "                                            new_tags  \\\n",
              "0  [beardoil, hypd, dash, getting, girl, happy, p...   \n",
              "1  [different, women, buttons, stretch, durable, ...   \n",
              "1  [different, women, buttons, stretch, durable, ...   \n",
              "1  [different, women, buttons, stretch, durable, ...   \n",
              "2  [gymwear, gym wear, kicaactive, work out, girl...   \n",
              "\n",
              "                         catalog_name  \\\n",
              "0            Look Under The Pebbles 🥰   \n",
              "1  Smart Cotton Crop Trousers - Black   \n",
              "1       Ruched Poplin Blouson - Black   \n",
              "1  Stretch Wool Tailored Suit - Grey    \n",
              "2                      Cheer Leggings   \n",
              "\n",
              "                                        catalog_tags  \\\n",
              "0  [pebble, pebbles, easter, sample, surprise, sa...   \n",
              "1  [women, trendy, fashionista , designer , brand...   \n",
              "1  [women, trendy, fashionista , fashionable , br...   \n",
              "1  [women, trendy, fashionable , brand, style, of...   \n",
              "2     [activewear, gym, fitness,  gymwear, leggings]   \n",
              "\n",
              "                                    catalog_new_tags  \n",
              "0  [Look Under The Pebbles 🥰, beardoil, hypd, das...  \n",
              "1  [women, buttons, trendy, fashionista , stretch...  \n",
              "1  [women, buttons, trendy, fashionista , stretch...  \n",
              "1  [women, buttons, trendy, stretch, durable, fas...  \n",
              "2  [gymwear, gym wear, kicaactive, work out, girl...  "
            ],
            "text/html": [
              "\n",
              "  <div id=\"df-28e912f9-7553-48f9-8633-481d36377600\">\n",
              "    <div class=\"colab-df-container\">\n",
              "      <div>\n",
              "<style scoped>\n",
              "    .dataframe tbody tr th:only-of-type {\n",
              "        vertical-align: middle;\n",
              "    }\n",
              "\n",
              "    .dataframe tbody tr th {\n",
              "        vertical-align: top;\n",
              "    }\n",
              "\n",
              "    .dataframe thead th {\n",
              "        text-align: right;\n",
              "    }\n",
              "</style>\n",
              "<table border=\"1\" class=\"dataframe\">\n",
              "  <thead>\n",
              "    <tr style=\"text-align: right;\">\n",
              "      <th></th>\n",
              "      <th>catalog_id</th>\n",
              "      <th>new_tags</th>\n",
              "      <th>catalog_name</th>\n",
              "      <th>catalog_tags</th>\n",
              "      <th>catalog_new_tags</th>\n",
              "    </tr>\n",
              "  </thead>\n",
              "  <tbody>\n",
              "    <tr>\n",
              "      <th>0</th>\n",
              "      <td>6035106e58b8f4136b6e4505</td>\n",
              "      <td>[beardoil, hypd, dash, getting, girl, happy, p...</td>\n",
              "      <td>Look Under The Pebbles 🥰</td>\n",
              "      <td>[pebble, pebbles, easter, sample, surprise, sa...</td>\n",
              "      <td>[Look Under The Pebbles 🥰, beardoil, hypd, das...</td>\n",
              "    </tr>\n",
              "    <tr>\n",
              "      <th>1</th>\n",
              "      <td>60094d9352e78c76b023fc9b</td>\n",
              "      <td>[different, women, buttons, stretch, durable, ...</td>\n",
              "      <td>Smart Cotton Crop Trousers - Black</td>\n",
              "      <td>[women, trendy, fashionista , designer , brand...</td>\n",
              "      <td>[women, buttons, trendy, fashionista , stretch...</td>\n",
              "    </tr>\n",
              "    <tr>\n",
              "      <th>1</th>\n",
              "      <td>6008556952e78c76b023fbed</td>\n",
              "      <td>[different, women, buttons, stretch, durable, ...</td>\n",
              "      <td>Ruched Poplin Blouson - Black</td>\n",
              "      <td>[women, trendy, fashionista , fashionable , br...</td>\n",
              "      <td>[women, buttons, trendy, fashionista , stretch...</td>\n",
              "    </tr>\n",
              "    <tr>\n",
              "      <th>1</th>\n",
              "      <td>6009486752e78c76b023fc8b</td>\n",
              "      <td>[different, women, buttons, stretch, durable, ...</td>\n",
              "      <td>Stretch Wool Tailored Suit - Grey</td>\n",
              "      <td>[women, trendy, fashionable , brand, style, of...</td>\n",
              "      <td>[women, buttons, trendy, stretch, durable, fas...</td>\n",
              "    </tr>\n",
              "    <tr>\n",
              "      <th>2</th>\n",
              "      <td>5fbbbb65c94eac4d3ca460cd</td>\n",
              "      <td>[gymwear, gym wear, kicaactive, work out, girl...</td>\n",
              "      <td>Cheer Leggings</td>\n",
              "      <td>[activewear, gym, fitness,  gymwear, leggings]</td>\n",
              "      <td>[gymwear, gym wear, kicaactive, work out, girl...</td>\n",
              "    </tr>\n",
              "  </tbody>\n",
              "</table>\n",
              "</div>\n",
              "      <button class=\"colab-df-convert\" onclick=\"convertToInteractive('df-28e912f9-7553-48f9-8633-481d36377600')\"\n",
              "              title=\"Convert this dataframe to an interactive table.\"\n",
              "              style=\"display:none;\">\n",
              "        \n",
              "  <svg xmlns=\"http://www.w3.org/2000/svg\" height=\"24px\"viewBox=\"0 0 24 24\"\n",
              "       width=\"24px\">\n",
              "    <path d=\"M0 0h24v24H0V0z\" fill=\"none\"/>\n",
              "    <path d=\"M18.56 5.44l.94 2.06.94-2.06 2.06-.94-2.06-.94-.94-2.06-.94 2.06-2.06.94zm-11 1L8.5 8.5l.94-2.06 2.06-.94-2.06-.94L8.5 2.5l-.94 2.06-2.06.94zm10 10l.94 2.06.94-2.06 2.06-.94-2.06-.94-.94-2.06-.94 2.06-2.06.94z\"/><path d=\"M17.41 7.96l-1.37-1.37c-.4-.4-.92-.59-1.43-.59-.52 0-1.04.2-1.43.59L10.3 9.45l-7.72 7.72c-.78.78-.78 2.05 0 2.83L4 21.41c.39.39.9.59 1.41.59.51 0 1.02-.2 1.41-.59l7.78-7.78 2.81-2.81c.8-.78.8-2.07 0-2.86zM5.41 20L4 18.59l7.72-7.72 1.47 1.35L5.41 20z\"/>\n",
              "  </svg>\n",
              "      </button>\n",
              "      \n",
              "  <style>\n",
              "    .colab-df-container {\n",
              "      display:flex;\n",
              "      flex-wrap:wrap;\n",
              "      gap: 12px;\n",
              "    }\n",
              "\n",
              "    .colab-df-convert {\n",
              "      background-color: #E8F0FE;\n",
              "      border: none;\n",
              "      border-radius: 50%;\n",
              "      cursor: pointer;\n",
              "      display: none;\n",
              "      fill: #1967D2;\n",
              "      height: 32px;\n",
              "      padding: 0 0 0 0;\n",
              "      width: 32px;\n",
              "    }\n",
              "\n",
              "    .colab-df-convert:hover {\n",
              "      background-color: #E2EBFA;\n",
              "      box-shadow: 0px 1px 2px rgba(60, 64, 67, 0.3), 0px 1px 3px 1px rgba(60, 64, 67, 0.15);\n",
              "      fill: #174EA6;\n",
              "    }\n",
              "\n",
              "    [theme=dark] .colab-df-convert {\n",
              "      background-color: #3B4455;\n",
              "      fill: #D2E3FC;\n",
              "    }\n",
              "\n",
              "    [theme=dark] .colab-df-convert:hover {\n",
              "      background-color: #434B5C;\n",
              "      box-shadow: 0px 1px 3px 1px rgba(0, 0, 0, 0.15);\n",
              "      filter: drop-shadow(0px 1px 2px rgba(0, 0, 0, 0.3));\n",
              "      fill: #FFFFFF;\n",
              "    }\n",
              "  </style>\n",
              "\n",
              "      <script>\n",
              "        const buttonEl =\n",
              "          document.querySelector('#df-28e912f9-7553-48f9-8633-481d36377600 button.colab-df-convert');\n",
              "        buttonEl.style.display =\n",
              "          google.colab.kernel.accessAllowed ? 'block' : 'none';\n",
              "\n",
              "        async function convertToInteractive(key) {\n",
              "          const element = document.querySelector('#df-28e912f9-7553-48f9-8633-481d36377600');\n",
              "          const dataTable =\n",
              "            await google.colab.kernel.invokeFunction('convertToInteractive',\n",
              "                                                     [key], {});\n",
              "          if (!dataTable) return;\n",
              "\n",
              "          const docLinkHtml = 'Like what you see? Visit the ' +\n",
              "            '<a target=\"_blank\" href=https://colab.research.google.com/notebooks/data_table.ipynb>data table notebook</a>'\n",
              "            + ' to learn more about interactive tables.';\n",
              "          element.innerHTML = '';\n",
              "          dataTable['output_type'] = 'display_data';\n",
              "          await google.colab.output.renderOutput(dataTable, element);\n",
              "          const docLink = document.createElement('div');\n",
              "          docLink.innerHTML = docLinkHtml;\n",
              "          element.appendChild(docLink);\n",
              "        }\n",
              "      </script>\n",
              "    </div>\n",
              "  </div>\n",
              "  "
            ]
          },
          "metadata": {},
          "execution_count": 31
        }
      ]
    },
    {
      "cell_type": "code",
      "source": [
        "print('calalog name \\n',train_df.iloc[4]['catalog_name'])\n",
        "print('calalog tags \\n',train_df.iloc[4]['catalog_new_tags'])"
      ],
      "metadata": {
        "colab": {
          "base_uri": "https://localhost:8080/"
        },
        "outputId": "f9109b77-0c87-429a-815e-c7e15bca18d5",
        "id": "ETAUKtiZujPk"
      },
      "execution_count": 32,
      "outputs": [
        {
          "output_type": "stream",
          "name": "stdout",
          "text": [
            "calalog name \n",
            " Cheer Leggings\n",
            "calalog tags \n",
            " ['gymwear', 'gym wear', 'kicaactive', 'work out', 'girl', 'kica', 'body toning', 'earthy', ' gymwear', 'looking', 'pure', 'activewear', 'anything', 'wearing', 'leggings', 'perfection', 'Cheer Leggings', 'gym', 'fitness', 'like', 'ordinary', 'active', 'rusty', 'workout', 'colours']\n"
          ]
        }
      ]
    },
    {
      "cell_type": "code",
      "source": [
        "train_df.shape"
      ],
      "metadata": {
        "colab": {
          "base_uri": "https://localhost:8080/"
        },
        "id": "iGUezbhuA_eQ",
        "outputId": "f38b3ae4-aa6d-4275-a2ed-84cdcd67a444"
      },
      "execution_count": 50,
      "outputs": [
        {
          "output_type": "execute_result",
          "data": {
            "text/plain": [
              "(13132, 5)"
            ]
          },
          "metadata": {},
          "execution_count": 50
        }
      ]
    },
    {
      "cell_type": "code",
      "source": [
        "new_train = train_df.copy()\n",
        "new_train.drop(['catalog_tags','new_tags'],axis=1,inplace=True)\n",
        "new_train['catalog_new_tags_'] = new_train['catalog_new_tags'].apply(lambda x: ' '.join([str(i) for i in x]))\n",
        "new_train = new_train[~new_train.duplicated(subset=['catalog_id','catalog_new_tags_'],keep='first')]"
      ],
      "metadata": {
        "id": "M6FmRyoT_rs9"
      },
      "execution_count": 51,
      "outputs": []
    },
    {
      "cell_type": "code",
      "source": [
        "print(new_train.shape)\n",
        "print(train_df.shape)"
      ],
      "metadata": {
        "colab": {
          "base_uri": "https://localhost:8080/"
        },
        "outputId": "913019d0-9b09-4386-932a-7c10559b4b67",
        "id": "-PABD3PAujPm"
      },
      "execution_count": 52,
      "outputs": [
        {
          "output_type": "stream",
          "name": "stdout",
          "text": [
            "(13108, 4)\n",
            "(13132, 5)\n"
          ]
        }
      ]
    },
    {
      "cell_type": "markdown",
      "source": [
        "## TFIDF"
      ],
      "metadata": {
        "id": "NjHFCE1i5HTR"
      }
    },
    {
      "cell_type": "markdown",
      "source": [
        "### Training"
      ],
      "metadata": {
        "id": "Hld1JH29xMlz"
      }
    },
    {
      "cell_type": "code",
      "source": [
        "new_train['catalog_new_tags']"
      ],
      "metadata": {
        "colab": {
          "base_uri": "https://localhost:8080/"
        },
        "id": "k_hHB8gIBOWW",
        "outputId": "e5030d1d-46d9-4502-8970-e5547c2eb3f0"
      },
      "execution_count": 56,
      "outputs": [
        {
          "output_type": "execute_result",
          "data": {
            "text/plain": [
              "0       [Look Under The Pebbles 🥰, beardoil, hypd, das...\n",
              "1       [women, buttons, trendy, fashionista , stretch...\n",
              "1       [women, buttons, trendy, fashionista , stretch...\n",
              "1       [women, buttons, trendy, stretch, durable, fas...\n",
              "2       [gymwear, gym wear, kicaactive, work out, girl...\n",
              "                              ...                        \n",
              "5841    [facemist, lasting, earth, beauty , function, ...\n",
              "5841    [facemist, lasting, Shikakai, moisture, earth,...\n",
              "5842    [lipbalm , lasting, earth, function, kajal , f...\n",
              "5842    [lipbalm , glossy, women, lasting, trendy, tri...\n",
              "5842    [lipbalm , tint, family, glossy, women, bright...\n",
              "Name: catalog_new_tags, Length: 13108, dtype: object"
            ]
          },
          "metadata": {},
          "execution_count": 56
        }
      ]
    },
    {
      "cell_type": "code",
      "source": [
        "from sklearn.feature_extraction.text import TfidfVectorizer\n",
        "# TF-IDF feature extractor\n",
        "tfidf = TfidfVectorizer()\n",
        "tfidf.fit(new_train['catalog_new_tags_'])\n",
        "tfidf_recipe = tfidf.transform(new_train['catalog_new_tags_'])"
      ],
      "metadata": {
        "id": "qgKkSJOpB6XK"
      },
      "execution_count": 67,
      "outputs": []
    },
    {
      "cell_type": "code",
      "source": [
        "tfidf_recipe"
      ],
      "metadata": {
        "colab": {
          "base_uri": "https://localhost:8080/"
        },
        "id": "yMpdC7yGYGYc",
        "outputId": "d61996ab-5cf1-42b6-d856-66d4b42029a5"
      },
      "execution_count": 68,
      "outputs": [
        {
          "output_type": "execute_result",
          "data": {
            "text/plain": [
              "<13108x11859 sparse matrix of type '<class 'numpy.float64'>'\n",
              "\twith 643714 stored elements in Compressed Sparse Row format>"
            ]
          },
          "metadata": {},
          "execution_count": 68
        }
      ]
    },
    {
      "cell_type": "code",
      "source": [
        "def get_recommendations(n_recs,rec):\n",
        "    ingredients_tfidf = tfidf.transform([rec])\n",
        "    cos_sim = map(lambda x: cosine_similarity(ingredients_tfidf, x), tfidf_recipe)\n",
        "    scores = list(cos_sim)\n",
        "    new_df = new_train[['catalog_id','catalog_name']].copy()\n",
        "    new_df['scores'] = scores\n",
        "    new_df['scores'] = new_df['scores'].apply(lambda x: x[0][0])\n",
        "    new_df = new_df.drop_duplicates(subset=['catalog_name'])\n",
        "    new_df = new_df.sort_values(by='scores',ascending=False)[:n_recs]\n",
        "    return new_df\n",
        "\n",
        "# a = '''\n",
        "# qua stylish pockets workwear suit cut boss lady trendy slanted silhouette cool suits different streamlined girl clean\n",
        "#  corporatefashion stretch grey suit designer work wear pair tapered fashionable  blazer office wear work girls flexible\n",
        "#   woven trousers formals Stretch Wool Tailored Suit - Grey  women ways brand\n",
        "#  cotton durable black buttons formal show pants wear quaclothing office look western professional\n",
        "#   boss lady look fashion  wood style trouser fashionista natural officelook western wear\n",
        "# '''\n",
        "# get_recommendations(5,a)"
      ],
      "metadata": {
        "id": "fUOKjtnrZ7Cj"
      },
      "execution_count": 72,
      "outputs": []
    },
    {
      "cell_type": "markdown",
      "source": [
        "### Prediction"
      ],
      "metadata": {
        "id": "8D-aZIS2xOpm"
      }
    },
    {
      "cell_type": "code",
      "source": [
        "content[8]"
      ],
      "metadata": {
        "id": "0K8dgvwm4Qrs"
      },
      "execution_count": null,
      "outputs": []
    },
    {
      "cell_type": "code",
      "source": [
        "caption = 'Keep your skin hydrated with @prolixr All-New Vitamin-C Serum💥 #prolixrbeauty #prolixr #skincare #hydration'\n",
        "interests =['skincare',\n",
        "   'beauty',\n",
        "   'makeup',\n",
        "   'looking good',\n",
        "   'routine',\n",
        "   'vitamin c',\n",
        "   'prolixr']\n",
        "genders = ['girl']\n",
        "tags = ['prolixrbeauty', 'prolixr', 'skincare', 'hydration']\n",
        "caption = preprocess_sent(caption)\n",
        "\n",
        "h = []\n",
        "h.extend(interests)\n",
        "h.extend(caption)\n",
        "h.extend(genders)\n",
        "h.extend(tags)\n",
        "h = list(set(h))\n"
      ],
      "metadata": {
        "id": "8HHRbJjW1Xw8"
      },
      "execution_count": 74,
      "outputs": []
    },
    {
      "cell_type": "code",
      "source": [
        "input_ = ' '.join(i for i in h)\n",
        "get_recommendations(5,input_)"
      ],
      "metadata": {
        "colab": {
          "base_uri": "https://localhost:8080/",
          "height": 206
        },
        "id": "nXS-sDhS1Xt0",
        "outputId": "86deb25b-7ea6-404d-a445-b4dd9ca75b5a"
      },
      "execution_count": 125,
      "outputs": [
        {
          "output_type": "execute_result",
          "data": {
            "text/plain": [
              "                    catalog_id                       catalog_name    scores\n",
              "7     5fbb77d8c94eac4d3ca46091      Beauty Shield Vitamin C Serum  0.632338\n",
              "433   5f5def66b35d64d69f1b93e7               Vitamin C Face Serum  0.163210\n",
              "1705  60117f8a52e78c76b023fec5            Perfect Skin Bundle Kit  0.148477\n",
              "572   6107a33f8a16dc68df17e427  Vitamin C Professional Face Serum  0.142155\n",
              "572   6105426e8a16dc68df17e3a3    Vitamin C Brightening Face Wash  0.138250"
            ],
            "text/html": [
              "\n",
              "  <div id=\"df-c2e179e0-6cc1-4039-ae33-01d4407e23db\">\n",
              "    <div class=\"colab-df-container\">\n",
              "      <div>\n",
              "<style scoped>\n",
              "    .dataframe tbody tr th:only-of-type {\n",
              "        vertical-align: middle;\n",
              "    }\n",
              "\n",
              "    .dataframe tbody tr th {\n",
              "        vertical-align: top;\n",
              "    }\n",
              "\n",
              "    .dataframe thead th {\n",
              "        text-align: right;\n",
              "    }\n",
              "</style>\n",
              "<table border=\"1\" class=\"dataframe\">\n",
              "  <thead>\n",
              "    <tr style=\"text-align: right;\">\n",
              "      <th></th>\n",
              "      <th>catalog_id</th>\n",
              "      <th>catalog_name</th>\n",
              "      <th>scores</th>\n",
              "    </tr>\n",
              "  </thead>\n",
              "  <tbody>\n",
              "    <tr>\n",
              "      <th>7</th>\n",
              "      <td>5fbb77d8c94eac4d3ca46091</td>\n",
              "      <td>Beauty Shield Vitamin C Serum</td>\n",
              "      <td>0.632338</td>\n",
              "    </tr>\n",
              "    <tr>\n",
              "      <th>433</th>\n",
              "      <td>5f5def66b35d64d69f1b93e7</td>\n",
              "      <td>Vitamin C Face Serum</td>\n",
              "      <td>0.163210</td>\n",
              "    </tr>\n",
              "    <tr>\n",
              "      <th>1705</th>\n",
              "      <td>60117f8a52e78c76b023fec5</td>\n",
              "      <td>Perfect Skin Bundle Kit</td>\n",
              "      <td>0.148477</td>\n",
              "    </tr>\n",
              "    <tr>\n",
              "      <th>572</th>\n",
              "      <td>6107a33f8a16dc68df17e427</td>\n",
              "      <td>Vitamin C Professional Face Serum</td>\n",
              "      <td>0.142155</td>\n",
              "    </tr>\n",
              "    <tr>\n",
              "      <th>572</th>\n",
              "      <td>6105426e8a16dc68df17e3a3</td>\n",
              "      <td>Vitamin C Brightening Face Wash</td>\n",
              "      <td>0.138250</td>\n",
              "    </tr>\n",
              "  </tbody>\n",
              "</table>\n",
              "</div>\n",
              "      <button class=\"colab-df-convert\" onclick=\"convertToInteractive('df-c2e179e0-6cc1-4039-ae33-01d4407e23db')\"\n",
              "              title=\"Convert this dataframe to an interactive table.\"\n",
              "              style=\"display:none;\">\n",
              "        \n",
              "  <svg xmlns=\"http://www.w3.org/2000/svg\" height=\"24px\"viewBox=\"0 0 24 24\"\n",
              "       width=\"24px\">\n",
              "    <path d=\"M0 0h24v24H0V0z\" fill=\"none\"/>\n",
              "    <path d=\"M18.56 5.44l.94 2.06.94-2.06 2.06-.94-2.06-.94-.94-2.06-.94 2.06-2.06.94zm-11 1L8.5 8.5l.94-2.06 2.06-.94-2.06-.94L8.5 2.5l-.94 2.06-2.06.94zm10 10l.94 2.06.94-2.06 2.06-.94-2.06-.94-.94-2.06-.94 2.06-2.06.94z\"/><path d=\"M17.41 7.96l-1.37-1.37c-.4-.4-.92-.59-1.43-.59-.52 0-1.04.2-1.43.59L10.3 9.45l-7.72 7.72c-.78.78-.78 2.05 0 2.83L4 21.41c.39.39.9.59 1.41.59.51 0 1.02-.2 1.41-.59l7.78-7.78 2.81-2.81c.8-.78.8-2.07 0-2.86zM5.41 20L4 18.59l7.72-7.72 1.47 1.35L5.41 20z\"/>\n",
              "  </svg>\n",
              "      </button>\n",
              "      \n",
              "  <style>\n",
              "    .colab-df-container {\n",
              "      display:flex;\n",
              "      flex-wrap:wrap;\n",
              "      gap: 12px;\n",
              "    }\n",
              "\n",
              "    .colab-df-convert {\n",
              "      background-color: #E8F0FE;\n",
              "      border: none;\n",
              "      border-radius: 50%;\n",
              "      cursor: pointer;\n",
              "      display: none;\n",
              "      fill: #1967D2;\n",
              "      height: 32px;\n",
              "      padding: 0 0 0 0;\n",
              "      width: 32px;\n",
              "    }\n",
              "\n",
              "    .colab-df-convert:hover {\n",
              "      background-color: #E2EBFA;\n",
              "      box-shadow: 0px 1px 2px rgba(60, 64, 67, 0.3), 0px 1px 3px 1px rgba(60, 64, 67, 0.15);\n",
              "      fill: #174EA6;\n",
              "    }\n",
              "\n",
              "    [theme=dark] .colab-df-convert {\n",
              "      background-color: #3B4455;\n",
              "      fill: #D2E3FC;\n",
              "    }\n",
              "\n",
              "    [theme=dark] .colab-df-convert:hover {\n",
              "      background-color: #434B5C;\n",
              "      box-shadow: 0px 1px 3px 1px rgba(0, 0, 0, 0.15);\n",
              "      filter: drop-shadow(0px 1px 2px rgba(0, 0, 0, 0.3));\n",
              "      fill: #FFFFFF;\n",
              "    }\n",
              "  </style>\n",
              "\n",
              "      <script>\n",
              "        const buttonEl =\n",
              "          document.querySelector('#df-c2e179e0-6cc1-4039-ae33-01d4407e23db button.colab-df-convert');\n",
              "        buttonEl.style.display =\n",
              "          google.colab.kernel.accessAllowed ? 'block' : 'none';\n",
              "\n",
              "        async function convertToInteractive(key) {\n",
              "          const element = document.querySelector('#df-c2e179e0-6cc1-4039-ae33-01d4407e23db');\n",
              "          const dataTable =\n",
              "            await google.colab.kernel.invokeFunction('convertToInteractive',\n",
              "                                                     [key], {});\n",
              "          if (!dataTable) return;\n",
              "\n",
              "          const docLinkHtml = 'Like what you see? Visit the ' +\n",
              "            '<a target=\"_blank\" href=https://colab.research.google.com/notebooks/data_table.ipynb>data table notebook</a>'\n",
              "            + ' to learn more about interactive tables.';\n",
              "          element.innerHTML = '';\n",
              "          dataTable['output_type'] = 'display_data';\n",
              "          await google.colab.output.renderOutput(dataTable, element);\n",
              "          const docLink = document.createElement('div');\n",
              "          docLink.innerHTML = docLinkHtml;\n",
              "          element.appendChild(docLink);\n",
              "        }\n",
              "      </script>\n",
              "    </div>\n",
              "  </div>\n",
              "  "
            ]
          },
          "metadata": {},
          "execution_count": 125
        }
      ]
    },
    {
      "cell_type": "markdown",
      "source": [
        "## KNN"
      ],
      "metadata": {
        "id": "gMN1NQgEtpPh"
      }
    },
    {
      "cell_type": "markdown",
      "source": [
        "### Training"
      ],
      "metadata": {
        "id": "OYEVuw7a4-Yw"
      }
    },
    {
      "cell_type": "code",
      "source": [
        "from sklearn.neighbors import KNeighborsClassifier\n",
        "from sklearn.neighbors import NearestNeighbors"
      ],
      "metadata": {
        "id": "yVEE4OGstsZ6"
      },
      "execution_count": null,
      "outputs": []
    },
    {
      "cell_type": "code",
      "source": [
        "knn1 = KNeighborsClassifier()\n",
        "knn1.fit(tfidf_recipe,new_train['catalog_name'])"
      ],
      "metadata": {
        "colab": {
          "base_uri": "https://localhost:8080/"
        },
        "id": "mexezcMntsXC",
        "outputId": "32f4d9d7-7d01-48b0-dcb2-1b6c95829404"
      },
      "execution_count": null,
      "outputs": [
        {
          "output_type": "execute_result",
          "data": {
            "text/plain": [
              "KNeighborsClassifier()"
            ]
          },
          "metadata": {},
          "execution_count": 63
        }
      ]
    },
    {
      "cell_type": "markdown",
      "source": [
        "### prediction"
      ],
      "metadata": {
        "id": "a2DfImcM5BWO"
      }
    },
    {
      "cell_type": "code",
      "source": [
        "caption = 'Keep your skin hydrated'\n",
        "interests =['skincare',\n",
        "   'beauty',\n",
        "   'makeup',\n",
        "   'looking good',\n",
        "   'routine',\n",
        "   'vitamin c',\n",
        "   'prolixr']\n",
        "genders = ['girl']\n",
        "tags = ['prolixrbeauty', 'prolixr', 'skincare', 'hydration']\n",
        "caption = preprocess_sent(caption)\n",
        "\n",
        "h = []\n",
        "h.extend(interests)\n",
        "h.extend(caption)\n",
        "h.extend(genders)\n",
        "h.extend(tags)\n",
        "h = list(set(h))\n"
      ],
      "metadata": {
        "id": "BqQcXcW3uxoD"
      },
      "execution_count": null,
      "outputs": []
    },
    {
      "cell_type": "code",
      "source": [
        "new = tfidf.transform(h)"
      ],
      "metadata": {
        "id": "MI51wnFXva9Y"
      },
      "execution_count": null,
      "outputs": []
    },
    {
      "cell_type": "code",
      "source": [
        "knn1.predict(new)"
      ],
      "metadata": {
        "colab": {
          "base_uri": "https://localhost:8080/"
        },
        "id": "yAgAXCeqvk63",
        "outputId": "81a10844-a18c-46ef-b75f-83dfa3fb527a"
      },
      "execution_count": null,
      "outputs": [
        {
          "output_type": "execute_result",
          "data": {
            "text/plain": [
              "array(['Pout Potion Liquid Matte Lipstick - Girl Boss',\n",
              "       'Good On You Hydra Matte Lipstick - Wyld Rose', '',\n",
              "       ' Coffee & Love Scrub', 'Arz Kiya Hai Unisex Hoodie',\n",
              "       'Arz Kiya Hai Unisex Hoodie', 'Very Berry Moisturiser',\n",
              "       'Beauty Shield Vitamin C Serum', '',\n",
              "       'Aqua Marine Foaming Cleanser', '', '',\n",
              "       'Beauty Shield Vitamin C Serum'], dtype=object)"
            ]
          },
          "metadata": {},
          "execution_count": 66
        }
      ]
    },
    {
      "cell_type": "markdown",
      "source": [
        "## Content Recommendation for users"
      ],
      "metadata": {
        "id": "d7xWh-ARZcVt"
      }
    },
    {
      "cell_type": "code",
      "source": [
        "content[0]"
      ],
      "metadata": {
        "colab": {
          "base_uri": "https://localhost:8080/"
        },
        "id": "23R3FgW5eCKd",
        "outputId": "7fee291a-e632-448f-cfab-9a302eacbda3"
      },
      "execution_count": 173,
      "outputs": [
        {
          "output_type": "execute_result",
          "data": {
            "text/plain": [
              "{'_id': {'$oid': '*****************b634'},\n",
              " 'brand_ids': [{'$oid': '*****************be8b'}],\n",
              " 'caption': 'Test pebble',\n",
              " 'catalog_ids': [{'$oid': '5f6362aa6e9f136645ab2d34'}],\n",
              " 'catalog_info': None,\n",
              " 'category_path': None,\n",
              " 'comment_count': 0,\n",
              " 'created_at': {'$date': '2021-04-19T09:47:58.735Z'},\n",
              " 'hashtags': None,\n",
              " 'influencer_ids': [{'$oid': '*****************4055'}],\n",
              " 'is_active': False,\n",
              " 'is_processed': True,\n",
              " 'label': {'age_groups': ['26-30', '30-35'],\n",
              "  'genders': ['M', 'F'],\n",
              "  'interests': ['interest']},\n",
              " 'last_sync': None,\n",
              " 'like_count': 0,\n",
              " 'like_ids': None,\n",
              " 'liked_by': None,\n",
              " 'media_type': 'video',\n",
              " 'processed_at': {'$date': '2021-04-19T09:48:42.575Z'},\n",
              " 'series_ids': None,\n",
              " 'sync': None,\n",
              " 'sync_type': None,\n",
              " 'type': 'pebble',\n",
              " 'view_count': 0}"
            ]
          },
          "metadata": {},
          "execution_count": 173
        }
      ]
    },
    {
      "cell_type": "code",
      "source": [
        "infs =[]\n",
        "for i in range(len(content)):\n",
        "    if content[i]['influencer_ids']!=None: \n",
        "        user_id = [k['$oid'][-4:] for k in content[i]['influencer_ids']]\n",
        "        infs.append(user_id)\n",
        "g = []\n",
        "for i in infs:\n",
        "    for j in i:\n",
        "        g.append(j)\n",
        "print(len(g))\n",
        "print(len(set(g)))\n",
        "unqinfs = list(set(g))"
      ],
      "metadata": {
        "colab": {
          "base_uri": "https://localhost:8080/"
        },
        "id": "zE20g8M8ZjSU",
        "outputId": "bba324ac-c676-419d-95c6-6ea92f179f57"
      },
      "execution_count": 180,
      "outputs": [
        {
          "output_type": "stream",
          "name": "stdout",
          "text": [
            "7687\n",
            "1786\n"
          ]
        }
      ]
    },
    {
      "cell_type": "code",
      "source": [
        "lis = []\n",
        "for i in infs_matrix['interests']:\n",
        "    for j in i:\n",
        "        lis.append(j)"
      ],
      "metadata": {
        "id": "7pu1lZDCHK56"
      },
      "execution_count": 262,
      "outputs": []
    },
    {
      "cell_type": "code",
      "source": [
        "infs_matrix = {\n",
        "    'influencer_id':[],\n",
        "    'like_count':[],\n",
        "    'comment_count':[],\n",
        "    'view_count':[],\n",
        "    'interests':[],\n",
        "    'gender':[],\n",
        "    'catalog_ids':[]\n",
        "}\n",
        "\n",
        "for i in range(len(unqinfs)):\n",
        "    \n",
        "    for j in range(len(content)):\n",
        "            if unqinfs[i] in [k['$oid'][-4:] for k in content[j]['influencer_ids']]:\n",
        "                infs_matrix['influencer_id'].append(unqinfs[i])\n",
        "                infs_matrix['like_count'].append(content[i]['like_count'])\n",
        "                infs_matrix['comment_count'].append(content[i]['comment_count'])\n",
        "                infs_matrix['view_count'].append(content[i]['view_count'])\n",
        "                infs_matrix['interests'].append(content[i]['label']['interests'])\n",
        "                infs_matrix['gender'].append(content[i]['label']['genders'])\n",
        "                if content[j]['catalog_ids']!=None:\n",
        "                    infs_matrix['catalog_ids'].append([g['$oid'][-4:] for g in content[j]['catalog_ids']])\n",
        "                else:\n",
        "                    infs_matrix['catalog_ids'].append('None')\n",
        "with open(\"infs_matrix.json\", \"w\") as outfile:\n",
        "    json.dump(infs_matrix, outfile)"
      ],
      "metadata": {
        "id": "yTBENZF-OGoG"
      },
      "execution_count": 193,
      "outputs": []
    },
    {
      "cell_type": "code",
      "source": [
        "users =[]\n",
        "for i in range(len(content)):\n",
        "    if content[i]['like_count']!=0: \n",
        "        user_id = [k['$oid'][-4:] for k in content[i]['liked_by']]\n",
        "        users.append(user_id)\n",
        "g = []\n",
        "for i in users:\n",
        "    for j in i:\n",
        "        g.append(j[-4:])\n",
        "print(len(g))\n",
        "print(len(set(g)))\n",
        "unqusers = list(set(g))"
      ],
      "metadata": {
        "colab": {
          "base_uri": "https://localhost:8080/"
        },
        "id": "IlMPUaFAVqPn",
        "outputId": "ad9997fa-83db-4711-d1e2-6879280c6582"
      },
      "execution_count": 190,
      "outputs": [
        {
          "output_type": "stream",
          "name": "stdout",
          "text": [
            "73358\n",
            "16723\n"
          ]
        }
      ]
    },
    {
      "cell_type": "code",
      "source": [
        "users_matrix = {\n",
        "    'user_id':[],\n",
        "    'content_id':[],\n",
        "    'influencer_ids':[],\n",
        "    'catalog_ids':[]\n",
        "\n",
        "}\n",
        "for i in range(len(unqusers)):\n",
        "    \n",
        "    for j in range(len(content)):\n",
        "        if content[j]['like_count']!=0:\n",
        "            \n",
        "            if unqusers[i] in [k['$oid'][-4:] for k in content[j]['liked_by']]:\n",
        "                users_matrix['user_id'].append(unqusers[i])\n",
        "                users_matrix['content_id'].append(content[j]['_id']['$oid'][-4:])\n",
        "                users_matrix['influencer_ids'].append([g['$oid'][-4:] for g in content[j]['influencer_ids']])\n",
        "                if content[j]['catalog_ids']!=None:\n",
        "                    users_matrix['catalog_ids'].append([g['$oid'][-4:] for g in content[j]['catalog_ids']])\n",
        "                else:\n",
        "                    users_matrix['catalog_ids'].append('None')\n",
        "with open(\"user_matrix.json\", \"w\") as outfile:\n",
        "    json.dump(users_matrix, outfile)"
      ],
      "metadata": {
        "id": "JzOhOX0JXD2c"
      },
      "execution_count": 191,
      "outputs": []
    },
    {
      "cell_type": "code",
      "source": [
        "for k in users_matrix.keys():\n",
        "    print(len(users_matrix[k]))\n",
        "\n",
        "print('---')\n",
        "for k in inf.keys():\n",
        "    print(len(inf[k]))"
      ],
      "metadata": {
        "colab": {
          "base_uri": "https://localhost:8080/"
        },
        "id": "EBfktiFwfXEm",
        "outputId": "449bd992-848e-4ab2-df44-3f51536a7813"
      },
      "execution_count": 192,
      "outputs": [
        {
          "output_type": "stream",
          "name": "stdout",
          "text": [
            "73176\n",
            "73176\n",
            "73176\n",
            "73176\n"
          ]
        }
      ]
    },
    {
      "cell_type": "code",
      "source": [
        "users_df = pd.DataFrame(users_matrix)\n",
        "users_df.head()"
      ],
      "metadata": {
        "colab": {
          "base_uri": "https://localhost:8080/",
          "height": 206
        },
        "id": "WukwUQ67fRXQ",
        "outputId": "a923fe99-5d31-4e77-b886-ea9960404478"
      },
      "execution_count": 289,
      "outputs": [
        {
          "output_type": "execute_result",
          "data": {
            "text/plain": [
              "  user_id content_id influencer_ids                     catalog_ids\n",
              "0    fdd9       91cc   [faed, 17c8]  [998f, 997d, e0df, 9983, e167]\n",
              "1    fdd9       249a         [8642]                    [c220, c112]\n",
              "2    fdd9       2589         [8642]              [1123, 111c, 117f]\n",
              "3    fdd9       3082         [02bd]                          [1f49]\n",
              "4    7e2d       26c2         [23bf]                            None"
            ],
            "text/html": [
              "\n",
              "  <div id=\"df-d5db805d-6ff6-46d5-8268-7a57cb0a8b44\">\n",
              "    <div class=\"colab-df-container\">\n",
              "      <div>\n",
              "<style scoped>\n",
              "    .dataframe tbody tr th:only-of-type {\n",
              "        vertical-align: middle;\n",
              "    }\n",
              "\n",
              "    .dataframe tbody tr th {\n",
              "        vertical-align: top;\n",
              "    }\n",
              "\n",
              "    .dataframe thead th {\n",
              "        text-align: right;\n",
              "    }\n",
              "</style>\n",
              "<table border=\"1\" class=\"dataframe\">\n",
              "  <thead>\n",
              "    <tr style=\"text-align: right;\">\n",
              "      <th></th>\n",
              "      <th>user_id</th>\n",
              "      <th>content_id</th>\n",
              "      <th>influencer_ids</th>\n",
              "      <th>catalog_ids</th>\n",
              "    </tr>\n",
              "  </thead>\n",
              "  <tbody>\n",
              "    <tr>\n",
              "      <th>0</th>\n",
              "      <td>fdd9</td>\n",
              "      <td>91cc</td>\n",
              "      <td>[faed, 17c8]</td>\n",
              "      <td>[998f, 997d, e0df, 9983, e167]</td>\n",
              "    </tr>\n",
              "    <tr>\n",
              "      <th>1</th>\n",
              "      <td>fdd9</td>\n",
              "      <td>249a</td>\n",
              "      <td>[8642]</td>\n",
              "      <td>[c220, c112]</td>\n",
              "    </tr>\n",
              "    <tr>\n",
              "      <th>2</th>\n",
              "      <td>fdd9</td>\n",
              "      <td>2589</td>\n",
              "      <td>[8642]</td>\n",
              "      <td>[1123, 111c, 117f]</td>\n",
              "    </tr>\n",
              "    <tr>\n",
              "      <th>3</th>\n",
              "      <td>fdd9</td>\n",
              "      <td>3082</td>\n",
              "      <td>[02bd]</td>\n",
              "      <td>[1f49]</td>\n",
              "    </tr>\n",
              "    <tr>\n",
              "      <th>4</th>\n",
              "      <td>7e2d</td>\n",
              "      <td>26c2</td>\n",
              "      <td>[23bf]</td>\n",
              "      <td>None</td>\n",
              "    </tr>\n",
              "  </tbody>\n",
              "</table>\n",
              "</div>\n",
              "      <button class=\"colab-df-convert\" onclick=\"convertToInteractive('df-d5db805d-6ff6-46d5-8268-7a57cb0a8b44')\"\n",
              "              title=\"Convert this dataframe to an interactive table.\"\n",
              "              style=\"display:none;\">\n",
              "        \n",
              "  <svg xmlns=\"http://www.w3.org/2000/svg\" height=\"24px\"viewBox=\"0 0 24 24\"\n",
              "       width=\"24px\">\n",
              "    <path d=\"M0 0h24v24H0V0z\" fill=\"none\"/>\n",
              "    <path d=\"M18.56 5.44l.94 2.06.94-2.06 2.06-.94-2.06-.94-.94-2.06-.94 2.06-2.06.94zm-11 1L8.5 8.5l.94-2.06 2.06-.94-2.06-.94L8.5 2.5l-.94 2.06-2.06.94zm10 10l.94 2.06.94-2.06 2.06-.94-2.06-.94-.94-2.06-.94 2.06-2.06.94z\"/><path d=\"M17.41 7.96l-1.37-1.37c-.4-.4-.92-.59-1.43-.59-.52 0-1.04.2-1.43.59L10.3 9.45l-7.72 7.72c-.78.78-.78 2.05 0 2.83L4 21.41c.39.39.9.59 1.41.59.51 0 1.02-.2 1.41-.59l7.78-7.78 2.81-2.81c.8-.78.8-2.07 0-2.86zM5.41 20L4 18.59l7.72-7.72 1.47 1.35L5.41 20z\"/>\n",
              "  </svg>\n",
              "      </button>\n",
              "      \n",
              "  <style>\n",
              "    .colab-df-container {\n",
              "      display:flex;\n",
              "      flex-wrap:wrap;\n",
              "      gap: 12px;\n",
              "    }\n",
              "\n",
              "    .colab-df-convert {\n",
              "      background-color: #E8F0FE;\n",
              "      border: none;\n",
              "      border-radius: 50%;\n",
              "      cursor: pointer;\n",
              "      display: none;\n",
              "      fill: #1967D2;\n",
              "      height: 32px;\n",
              "      padding: 0 0 0 0;\n",
              "      width: 32px;\n",
              "    }\n",
              "\n",
              "    .colab-df-convert:hover {\n",
              "      background-color: #E2EBFA;\n",
              "      box-shadow: 0px 1px 2px rgba(60, 64, 67, 0.3), 0px 1px 3px 1px rgba(60, 64, 67, 0.15);\n",
              "      fill: #174EA6;\n",
              "    }\n",
              "\n",
              "    [theme=dark] .colab-df-convert {\n",
              "      background-color: #3B4455;\n",
              "      fill: #D2E3FC;\n",
              "    }\n",
              "\n",
              "    [theme=dark] .colab-df-convert:hover {\n",
              "      background-color: #434B5C;\n",
              "      box-shadow: 0px 1px 3px 1px rgba(0, 0, 0, 0.15);\n",
              "      filter: drop-shadow(0px 1px 2px rgba(0, 0, 0, 0.3));\n",
              "      fill: #FFFFFF;\n",
              "    }\n",
              "  </style>\n",
              "\n",
              "      <script>\n",
              "        const buttonEl =\n",
              "          document.querySelector('#df-d5db805d-6ff6-46d5-8268-7a57cb0a8b44 button.colab-df-convert');\n",
              "        buttonEl.style.display =\n",
              "          google.colab.kernel.accessAllowed ? 'block' : 'none';\n",
              "\n",
              "        async function convertToInteractive(key) {\n",
              "          const element = document.querySelector('#df-d5db805d-6ff6-46d5-8268-7a57cb0a8b44');\n",
              "          const dataTable =\n",
              "            await google.colab.kernel.invokeFunction('convertToInteractive',\n",
              "                                                     [key], {});\n",
              "          if (!dataTable) return;\n",
              "\n",
              "          const docLinkHtml = 'Like what you see? Visit the ' +\n",
              "            '<a target=\"_blank\" href=https://colab.research.google.com/notebooks/data_table.ipynb>data table notebook</a>'\n",
              "            + ' to learn more about interactive tables.';\n",
              "          element.innerHTML = '';\n",
              "          dataTable['output_type'] = 'display_data';\n",
              "          await google.colab.output.renderOutput(dataTable, element);\n",
              "          const docLink = document.createElement('div');\n",
              "          docLink.innerHTML = docLinkHtml;\n",
              "          element.appendChild(docLink);\n",
              "        }\n",
              "      </script>\n",
              "    </div>\n",
              "  </div>\n",
              "  "
            ]
          },
          "metadata": {},
          "execution_count": 289
        }
      ]
    },
    {
      "cell_type": "code",
      "source": [
        "user_df = users_df.explode('content_id')\n",
        "# user_df = users_df.explode('influencer_ids')\n",
        "# user_df = users_df.explode('catalog_ids')\n",
        "user_df.head()"
      ],
      "metadata": {
        "colab": {
          "base_uri": "https://localhost:8080/",
          "height": 206
        },
        "id": "EF_jXLOz-b1e",
        "outputId": "661ecef2-396e-4a3c-db13-09b54ed74b8f"
      },
      "execution_count": 290,
      "outputs": [
        {
          "output_type": "execute_result",
          "data": {
            "text/plain": [
              "  user_id content_id influencer_ids                     catalog_ids\n",
              "0    fdd9       91cc   [faed, 17c8]  [998f, 997d, e0df, 9983, e167]\n",
              "1    fdd9       249a         [8642]                    [c220, c112]\n",
              "2    fdd9       2589         [8642]              [1123, 111c, 117f]\n",
              "3    fdd9       3082         [02bd]                          [1f49]\n",
              "4    7e2d       26c2         [23bf]                            None"
            ],
            "text/html": [
              "\n",
              "  <div id=\"df-dfda2ca6-d89e-496b-adc6-15be7c1c6eef\">\n",
              "    <div class=\"colab-df-container\">\n",
              "      <div>\n",
              "<style scoped>\n",
              "    .dataframe tbody tr th:only-of-type {\n",
              "        vertical-align: middle;\n",
              "    }\n",
              "\n",
              "    .dataframe tbody tr th {\n",
              "        vertical-align: top;\n",
              "    }\n",
              "\n",
              "    .dataframe thead th {\n",
              "        text-align: right;\n",
              "    }\n",
              "</style>\n",
              "<table border=\"1\" class=\"dataframe\">\n",
              "  <thead>\n",
              "    <tr style=\"text-align: right;\">\n",
              "      <th></th>\n",
              "      <th>user_id</th>\n",
              "      <th>content_id</th>\n",
              "      <th>influencer_ids</th>\n",
              "      <th>catalog_ids</th>\n",
              "    </tr>\n",
              "  </thead>\n",
              "  <tbody>\n",
              "    <tr>\n",
              "      <th>0</th>\n",
              "      <td>fdd9</td>\n",
              "      <td>91cc</td>\n",
              "      <td>[faed, 17c8]</td>\n",
              "      <td>[998f, 997d, e0df, 9983, e167]</td>\n",
              "    </tr>\n",
              "    <tr>\n",
              "      <th>1</th>\n",
              "      <td>fdd9</td>\n",
              "      <td>249a</td>\n",
              "      <td>[8642]</td>\n",
              "      <td>[c220, c112]</td>\n",
              "    </tr>\n",
              "    <tr>\n",
              "      <th>2</th>\n",
              "      <td>fdd9</td>\n",
              "      <td>2589</td>\n",
              "      <td>[8642]</td>\n",
              "      <td>[1123, 111c, 117f]</td>\n",
              "    </tr>\n",
              "    <tr>\n",
              "      <th>3</th>\n",
              "      <td>fdd9</td>\n",
              "      <td>3082</td>\n",
              "      <td>[02bd]</td>\n",
              "      <td>[1f49]</td>\n",
              "    </tr>\n",
              "    <tr>\n",
              "      <th>4</th>\n",
              "      <td>7e2d</td>\n",
              "      <td>26c2</td>\n",
              "      <td>[23bf]</td>\n",
              "      <td>None</td>\n",
              "    </tr>\n",
              "  </tbody>\n",
              "</table>\n",
              "</div>\n",
              "      <button class=\"colab-df-convert\" onclick=\"convertToInteractive('df-dfda2ca6-d89e-496b-adc6-15be7c1c6eef')\"\n",
              "              title=\"Convert this dataframe to an interactive table.\"\n",
              "              style=\"display:none;\">\n",
              "        \n",
              "  <svg xmlns=\"http://www.w3.org/2000/svg\" height=\"24px\"viewBox=\"0 0 24 24\"\n",
              "       width=\"24px\">\n",
              "    <path d=\"M0 0h24v24H0V0z\" fill=\"none\"/>\n",
              "    <path d=\"M18.56 5.44l.94 2.06.94-2.06 2.06-.94-2.06-.94-.94-2.06-.94 2.06-2.06.94zm-11 1L8.5 8.5l.94-2.06 2.06-.94-2.06-.94L8.5 2.5l-.94 2.06-2.06.94zm10 10l.94 2.06.94-2.06 2.06-.94-2.06-.94-.94-2.06-.94 2.06-2.06.94z\"/><path d=\"M17.41 7.96l-1.37-1.37c-.4-.4-.92-.59-1.43-.59-.52 0-1.04.2-1.43.59L10.3 9.45l-7.72 7.72c-.78.78-.78 2.05 0 2.83L4 21.41c.39.39.9.59 1.41.59.51 0 1.02-.2 1.41-.59l7.78-7.78 2.81-2.81c.8-.78.8-2.07 0-2.86zM5.41 20L4 18.59l7.72-7.72 1.47 1.35L5.41 20z\"/>\n",
              "  </svg>\n",
              "      </button>\n",
              "      \n",
              "  <style>\n",
              "    .colab-df-container {\n",
              "      display:flex;\n",
              "      flex-wrap:wrap;\n",
              "      gap: 12px;\n",
              "    }\n",
              "\n",
              "    .colab-df-convert {\n",
              "      background-color: #E8F0FE;\n",
              "      border: none;\n",
              "      border-radius: 50%;\n",
              "      cursor: pointer;\n",
              "      display: none;\n",
              "      fill: #1967D2;\n",
              "      height: 32px;\n",
              "      padding: 0 0 0 0;\n",
              "      width: 32px;\n",
              "    }\n",
              "\n",
              "    .colab-df-convert:hover {\n",
              "      background-color: #E2EBFA;\n",
              "      box-shadow: 0px 1px 2px rgba(60, 64, 67, 0.3), 0px 1px 3px 1px rgba(60, 64, 67, 0.15);\n",
              "      fill: #174EA6;\n",
              "    }\n",
              "\n",
              "    [theme=dark] .colab-df-convert {\n",
              "      background-color: #3B4455;\n",
              "      fill: #D2E3FC;\n",
              "    }\n",
              "\n",
              "    [theme=dark] .colab-df-convert:hover {\n",
              "      background-color: #434B5C;\n",
              "      box-shadow: 0px 1px 3px 1px rgba(0, 0, 0, 0.15);\n",
              "      filter: drop-shadow(0px 1px 2px rgba(0, 0, 0, 0.3));\n",
              "      fill: #FFFFFF;\n",
              "    }\n",
              "  </style>\n",
              "\n",
              "      <script>\n",
              "        const buttonEl =\n",
              "          document.querySelector('#df-dfda2ca6-d89e-496b-adc6-15be7c1c6eef button.colab-df-convert');\n",
              "        buttonEl.style.display =\n",
              "          google.colab.kernel.accessAllowed ? 'block' : 'none';\n",
              "\n",
              "        async function convertToInteractive(key) {\n",
              "          const element = document.querySelector('#df-dfda2ca6-d89e-496b-adc6-15be7c1c6eef');\n",
              "          const dataTable =\n",
              "            await google.colab.kernel.invokeFunction('convertToInteractive',\n",
              "                                                     [key], {});\n",
              "          if (!dataTable) return;\n",
              "\n",
              "          const docLinkHtml = 'Like what you see? Visit the ' +\n",
              "            '<a target=\"_blank\" href=https://colab.research.google.com/notebooks/data_table.ipynb>data table notebook</a>'\n",
              "            + ' to learn more about interactive tables.';\n",
              "          element.innerHTML = '';\n",
              "          dataTable['output_type'] = 'display_data';\n",
              "          await google.colab.output.renderOutput(dataTable, element);\n",
              "          const docLink = document.createElement('div');\n",
              "          docLink.innerHTML = docLinkHtml;\n",
              "          element.appendChild(docLink);\n",
              "        }\n",
              "      </script>\n",
              "    </div>\n",
              "  </div>\n",
              "  "
            ]
          },
          "metadata": {},
          "execution_count": 290
        }
      ]
    },
    {
      "cell_type": "code",
      "source": [
        "\n",
        "def user_factor1(content_ids):\n",
        "    # user factor 1\n",
        "    # interests : male female\n",
        "    intersts = {'boy':0,'girl':0}\n",
        "    for j in range(len(content_ids)):\n",
        "        for i in range(len(content)):\n",
        "            if content[i]['_id']['$oid'][-4:] == content_ids[j]:\n",
        "                if content[i]['label']:\n",
        "                    print(content[i]['label']['genders'])\n",
        "                    for k in content[i]['label']['genders']:\n",
        "                        if k.lower() == 'm' or k.lower()=='boy' or k.lower()=='male' or k.lower()=='men' or k.lower()=='man':\n",
        "                            intersts['boy']+=1\n",
        "                        else:\n",
        "                            intersts['girl']+=1\n",
        "    return intersts\n"
      ],
      "metadata": {
        "id": "3gZj8G3RDDbZ"
      },
      "execution_count": 301,
      "outputs": []
    },
    {
      "cell_type": "code",
      "source": [
        "user_df[user_df['user_id'] == '7e2d']"
      ],
      "metadata": {
        "colab": {
          "base_uri": "https://localhost:8080/",
          "height": 112
        },
        "id": "uPky-NrELVRt",
        "outputId": "f370fcdc-c5d6-483a-e4bb-5fa20e81d3b1"
      },
      "execution_count": 291,
      "outputs": [
        {
          "output_type": "execute_result",
          "data": {
            "text/plain": [
              "  user_id content_id influencer_ids catalog_ids\n",
              "4    7e2d       26c2         [23bf]        None\n",
              "5    7e2d       21cc         [033e]        None"
            ],
            "text/html": [
              "\n",
              "  <div id=\"df-16fa22c1-7383-484e-9ef5-d5418b52865e\">\n",
              "    <div class=\"colab-df-container\">\n",
              "      <div>\n",
              "<style scoped>\n",
              "    .dataframe tbody tr th:only-of-type {\n",
              "        vertical-align: middle;\n",
              "    }\n",
              "\n",
              "    .dataframe tbody tr th {\n",
              "        vertical-align: top;\n",
              "    }\n",
              "\n",
              "    .dataframe thead th {\n",
              "        text-align: right;\n",
              "    }\n",
              "</style>\n",
              "<table border=\"1\" class=\"dataframe\">\n",
              "  <thead>\n",
              "    <tr style=\"text-align: right;\">\n",
              "      <th></th>\n",
              "      <th>user_id</th>\n",
              "      <th>content_id</th>\n",
              "      <th>influencer_ids</th>\n",
              "      <th>catalog_ids</th>\n",
              "    </tr>\n",
              "  </thead>\n",
              "  <tbody>\n",
              "    <tr>\n",
              "      <th>4</th>\n",
              "      <td>7e2d</td>\n",
              "      <td>26c2</td>\n",
              "      <td>[23bf]</td>\n",
              "      <td>None</td>\n",
              "    </tr>\n",
              "    <tr>\n",
              "      <th>5</th>\n",
              "      <td>7e2d</td>\n",
              "      <td>21cc</td>\n",
              "      <td>[033e]</td>\n",
              "      <td>None</td>\n",
              "    </tr>\n",
              "  </tbody>\n",
              "</table>\n",
              "</div>\n",
              "      <button class=\"colab-df-convert\" onclick=\"convertToInteractive('df-16fa22c1-7383-484e-9ef5-d5418b52865e')\"\n",
              "              title=\"Convert this dataframe to an interactive table.\"\n",
              "              style=\"display:none;\">\n",
              "        \n",
              "  <svg xmlns=\"http://www.w3.org/2000/svg\" height=\"24px\"viewBox=\"0 0 24 24\"\n",
              "       width=\"24px\">\n",
              "    <path d=\"M0 0h24v24H0V0z\" fill=\"none\"/>\n",
              "    <path d=\"M18.56 5.44l.94 2.06.94-2.06 2.06-.94-2.06-.94-.94-2.06-.94 2.06-2.06.94zm-11 1L8.5 8.5l.94-2.06 2.06-.94-2.06-.94L8.5 2.5l-.94 2.06-2.06.94zm10 10l.94 2.06.94-2.06 2.06-.94-2.06-.94-.94-2.06-.94 2.06-2.06.94z\"/><path d=\"M17.41 7.96l-1.37-1.37c-.4-.4-.92-.59-1.43-.59-.52 0-1.04.2-1.43.59L10.3 9.45l-7.72 7.72c-.78.78-.78 2.05 0 2.83L4 21.41c.39.39.9.59 1.41.59.51 0 1.02-.2 1.41-.59l7.78-7.78 2.81-2.81c.8-.78.8-2.07 0-2.86zM5.41 20L4 18.59l7.72-7.72 1.47 1.35L5.41 20z\"/>\n",
              "  </svg>\n",
              "      </button>\n",
              "      \n",
              "  <style>\n",
              "    .colab-df-container {\n",
              "      display:flex;\n",
              "      flex-wrap:wrap;\n",
              "      gap: 12px;\n",
              "    }\n",
              "\n",
              "    .colab-df-convert {\n",
              "      background-color: #E8F0FE;\n",
              "      border: none;\n",
              "      border-radius: 50%;\n",
              "      cursor: pointer;\n",
              "      display: none;\n",
              "      fill: #1967D2;\n",
              "      height: 32px;\n",
              "      padding: 0 0 0 0;\n",
              "      width: 32px;\n",
              "    }\n",
              "\n",
              "    .colab-df-convert:hover {\n",
              "      background-color: #E2EBFA;\n",
              "      box-shadow: 0px 1px 2px rgba(60, 64, 67, 0.3), 0px 1px 3px 1px rgba(60, 64, 67, 0.15);\n",
              "      fill: #174EA6;\n",
              "    }\n",
              "\n",
              "    [theme=dark] .colab-df-convert {\n",
              "      background-color: #3B4455;\n",
              "      fill: #D2E3FC;\n",
              "    }\n",
              "\n",
              "    [theme=dark] .colab-df-convert:hover {\n",
              "      background-color: #434B5C;\n",
              "      box-shadow: 0px 1px 3px 1px rgba(0, 0, 0, 0.15);\n",
              "      filter: drop-shadow(0px 1px 2px rgba(0, 0, 0, 0.3));\n",
              "      fill: #FFFFFF;\n",
              "    }\n",
              "  </style>\n",
              "\n",
              "      <script>\n",
              "        const buttonEl =\n",
              "          document.querySelector('#df-16fa22c1-7383-484e-9ef5-d5418b52865e button.colab-df-convert');\n",
              "        buttonEl.style.display =\n",
              "          google.colab.kernel.accessAllowed ? 'block' : 'none';\n",
              "\n",
              "        async function convertToInteractive(key) {\n",
              "          const element = document.querySelector('#df-16fa22c1-7383-484e-9ef5-d5418b52865e');\n",
              "          const dataTable =\n",
              "            await google.colab.kernel.invokeFunction('convertToInteractive',\n",
              "                                                     [key], {});\n",
              "          if (!dataTable) return;\n",
              "\n",
              "          const docLinkHtml = 'Like what you see? Visit the ' +\n",
              "            '<a target=\"_blank\" href=https://colab.research.google.com/notebooks/data_table.ipynb>data table notebook</a>'\n",
              "            + ' to learn more about interactive tables.';\n",
              "          element.innerHTML = '';\n",
              "          dataTable['output_type'] = 'display_data';\n",
              "          await google.colab.output.renderOutput(dataTable, element);\n",
              "          const docLink = document.createElement('div');\n",
              "          docLink.innerHTML = docLinkHtml;\n",
              "          element.appendChild(docLink);\n",
              "        }\n",
              "      </script>\n",
              "    </div>\n",
              "  </div>\n",
              "  "
            ]
          },
          "metadata": {},
          "execution_count": 291
        }
      ]
    },
    {
      "cell_type": "code",
      "source": [
        ""
      ],
      "metadata": {
        "id": "Nrxce9qSPI2n"
      },
      "execution_count": null,
      "outputs": []
    },
    {
      "cell_type": "code",
      "source": [
        "users_ = {\n",
        "    'id':[],\n",
        "    'score_f':[],\n",
        "    'score_m':[],\n",
        "    'content':[]\n",
        "}\n",
        "for i_ in list(set(user_df['user_id'])):\n",
        "    # print(i_)\n",
        "    df = user_df[user_df['user_id'] == i_]\n",
        "    users_['id'].append(i_)\n",
        "    cont = list(set(df['content_id']))\n",
        "    # print(cont)\n",
        "    users_['content'].append(cont)\n",
        "    score = user_factor1(cont)\n",
        "    users_['score_f'].append(score['girl'])\n",
        "    users_['score_m'].append(score['boy'])"
      ],
      "metadata": {
        "id": "_ZkR50NGH2qV"
      },
      "execution_count": null,
      "outputs": []
    },
    {
      "cell_type": "code",
      "source": [
        "user_df = pd.DataFrame({'user_id':users_['id'],\n",
        "                        'user_f':users_['score_f'],\n",
        "                        'user_m':users_['score_m'],\n",
        "                        'content_id':users_['content']})\n",
        "user_df = user_df.explode('content_id')"
      ],
      "metadata": {
        "id": "YiRmyzfcKNop"
      },
      "execution_count": 337,
      "outputs": []
    },
    {
      "cell_type": "code",
      "source": [
        "user_df.head()"
      ],
      "metadata": {
        "colab": {
          "base_uri": "https://localhost:8080/",
          "height": 206
        },
        "id": "CXRcKWjFTdOv",
        "outputId": "a6cb6b47-f154-425e-8f5c-5c106cab3a72"
      },
      "execution_count": 338,
      "outputs": [
        {
          "output_type": "execute_result",
          "data": {
            "text/plain": [
              "  user_id  user_f  user_m content_id\n",
              "0    7e2d       3       0       26c2\n",
              "0    7e2d       3       0       21cc\n",
              "1    fdd9       3       1       3082\n",
              "1    fdd9       3       1       249a\n",
              "1    fdd9       3       1       2589"
            ],
            "text/html": [
              "\n",
              "  <div id=\"df-c97335ae-1c02-4908-969d-f2d4e3cfd6dc\">\n",
              "    <div class=\"colab-df-container\">\n",
              "      <div>\n",
              "<style scoped>\n",
              "    .dataframe tbody tr th:only-of-type {\n",
              "        vertical-align: middle;\n",
              "    }\n",
              "\n",
              "    .dataframe tbody tr th {\n",
              "        vertical-align: top;\n",
              "    }\n",
              "\n",
              "    .dataframe thead th {\n",
              "        text-align: right;\n",
              "    }\n",
              "</style>\n",
              "<table border=\"1\" class=\"dataframe\">\n",
              "  <thead>\n",
              "    <tr style=\"text-align: right;\">\n",
              "      <th></th>\n",
              "      <th>user_id</th>\n",
              "      <th>user_f</th>\n",
              "      <th>user_m</th>\n",
              "      <th>content_id</th>\n",
              "    </tr>\n",
              "  </thead>\n",
              "  <tbody>\n",
              "    <tr>\n",
              "      <th>0</th>\n",
              "      <td>7e2d</td>\n",
              "      <td>3</td>\n",
              "      <td>0</td>\n",
              "      <td>26c2</td>\n",
              "    </tr>\n",
              "    <tr>\n",
              "      <th>0</th>\n",
              "      <td>7e2d</td>\n",
              "      <td>3</td>\n",
              "      <td>0</td>\n",
              "      <td>21cc</td>\n",
              "    </tr>\n",
              "    <tr>\n",
              "      <th>1</th>\n",
              "      <td>fdd9</td>\n",
              "      <td>3</td>\n",
              "      <td>1</td>\n",
              "      <td>3082</td>\n",
              "    </tr>\n",
              "    <tr>\n",
              "      <th>1</th>\n",
              "      <td>fdd9</td>\n",
              "      <td>3</td>\n",
              "      <td>1</td>\n",
              "      <td>249a</td>\n",
              "    </tr>\n",
              "    <tr>\n",
              "      <th>1</th>\n",
              "      <td>fdd9</td>\n",
              "      <td>3</td>\n",
              "      <td>1</td>\n",
              "      <td>2589</td>\n",
              "    </tr>\n",
              "  </tbody>\n",
              "</table>\n",
              "</div>\n",
              "      <button class=\"colab-df-convert\" onclick=\"convertToInteractive('df-c97335ae-1c02-4908-969d-f2d4e3cfd6dc')\"\n",
              "              title=\"Convert this dataframe to an interactive table.\"\n",
              "              style=\"display:none;\">\n",
              "        \n",
              "  <svg xmlns=\"http://www.w3.org/2000/svg\" height=\"24px\"viewBox=\"0 0 24 24\"\n",
              "       width=\"24px\">\n",
              "    <path d=\"M0 0h24v24H0V0z\" fill=\"none\"/>\n",
              "    <path d=\"M18.56 5.44l.94 2.06.94-2.06 2.06-.94-2.06-.94-.94-2.06-.94 2.06-2.06.94zm-11 1L8.5 8.5l.94-2.06 2.06-.94-2.06-.94L8.5 2.5l-.94 2.06-2.06.94zm10 10l.94 2.06.94-2.06 2.06-.94-2.06-.94-.94-2.06-.94 2.06-2.06.94z\"/><path d=\"M17.41 7.96l-1.37-1.37c-.4-.4-.92-.59-1.43-.59-.52 0-1.04.2-1.43.59L10.3 9.45l-7.72 7.72c-.78.78-.78 2.05 0 2.83L4 21.41c.39.39.9.59 1.41.59.51 0 1.02-.2 1.41-.59l7.78-7.78 2.81-2.81c.8-.78.8-2.07 0-2.86zM5.41 20L4 18.59l7.72-7.72 1.47 1.35L5.41 20z\"/>\n",
              "  </svg>\n",
              "      </button>\n",
              "      \n",
              "  <style>\n",
              "    .colab-df-container {\n",
              "      display:flex;\n",
              "      flex-wrap:wrap;\n",
              "      gap: 12px;\n",
              "    }\n",
              "\n",
              "    .colab-df-convert {\n",
              "      background-color: #E8F0FE;\n",
              "      border: none;\n",
              "      border-radius: 50%;\n",
              "      cursor: pointer;\n",
              "      display: none;\n",
              "      fill: #1967D2;\n",
              "      height: 32px;\n",
              "      padding: 0 0 0 0;\n",
              "      width: 32px;\n",
              "    }\n",
              "\n",
              "    .colab-df-convert:hover {\n",
              "      background-color: #E2EBFA;\n",
              "      box-shadow: 0px 1px 2px rgba(60, 64, 67, 0.3), 0px 1px 3px 1px rgba(60, 64, 67, 0.15);\n",
              "      fill: #174EA6;\n",
              "    }\n",
              "\n",
              "    [theme=dark] .colab-df-convert {\n",
              "      background-color: #3B4455;\n",
              "      fill: #D2E3FC;\n",
              "    }\n",
              "\n",
              "    [theme=dark] .colab-df-convert:hover {\n",
              "      background-color: #434B5C;\n",
              "      box-shadow: 0px 1px 3px 1px rgba(0, 0, 0, 0.15);\n",
              "      filter: drop-shadow(0px 1px 2px rgba(0, 0, 0, 0.3));\n",
              "      fill: #FFFFFF;\n",
              "    }\n",
              "  </style>\n",
              "\n",
              "      <script>\n",
              "        const buttonEl =\n",
              "          document.querySelector('#df-c97335ae-1c02-4908-969d-f2d4e3cfd6dc button.colab-df-convert');\n",
              "        buttonEl.style.display =\n",
              "          google.colab.kernel.accessAllowed ? 'block' : 'none';\n",
              "\n",
              "        async function convertToInteractive(key) {\n",
              "          const element = document.querySelector('#df-c97335ae-1c02-4908-969d-f2d4e3cfd6dc');\n",
              "          const dataTable =\n",
              "            await google.colab.kernel.invokeFunction('convertToInteractive',\n",
              "                                                     [key], {});\n",
              "          if (!dataTable) return;\n",
              "\n",
              "          const docLinkHtml = 'Like what you see? Visit the ' +\n",
              "            '<a target=\"_blank\" href=https://colab.research.google.com/notebooks/data_table.ipynb>data table notebook</a>'\n",
              "            + ' to learn more about interactive tables.';\n",
              "          element.innerHTML = '';\n",
              "          dataTable['output_type'] = 'display_data';\n",
              "          await google.colab.output.renderOutput(dataTable, element);\n",
              "          const docLink = document.createElement('div');\n",
              "          docLink.innerHTML = docLinkHtml;\n",
              "          element.appendChild(docLink);\n",
              "        }\n",
              "      </script>\n",
              "    </div>\n",
              "  </div>\n",
              "  "
            ]
          },
          "metadata": {},
          "execution_count": 338
        }
      ]
    },
    {
      "cell_type": "markdown",
      "source": [
        "##### deriving factors for user to like the post."
      ],
      "metadata": {
        "id": "OEMrgkZLggKQ"
      }
    },
    {
      "cell_type": "code",
      "source": [
        "import re\n",
        "def content_factor_f(content_id):\n",
        "    # how much the content is for specfic gender\n",
        "    k = catalog_df[catalog_df['catalog_id']==content_id]['keywords'].values\n",
        "    flat_list = [x for xs in k for x in xs]\n",
        "    f = list(filter(lambda v: re.match('women|womens|girl|girls|female|females', v), flat_list))\n",
        "    if len(f)!=0:\n",
        "        return 1\n",
        "    else:\n",
        "        return 0\n",
        "\n",
        "import re\n",
        "def content_factor_m(content_id):\n",
        "    # how much the content is for specfic gender\n",
        "    k = catalog_df[catalog_df['catalog_id']==content_id]['keywords'].values\n",
        "    flat_list = [x for xs in k for x in xs]\n",
        "    m = list(filter(lambda v: re.match('men|man|boy|boys|male|males', v), flat_list))\n",
        "    if len(m)!=0:\n",
        "        return 1\n",
        "    else:\n",
        "        return 0"
      ],
      "metadata": {
        "id": "zoUdBHkOSwgp"
      },
      "execution_count": 339,
      "outputs": []
    },
    {
      "cell_type": "code",
      "source": [
        "user_df['content_f'] = user_df['content_id'].apply(lambda x: content_factor_f(x))\n",
        "user_df['content_m'] = user_df['content_id'].apply(lambda x: content_factor_m(x))"
      ],
      "metadata": {
        "id": "g4Cbv5nsBpjD"
      },
      "execution_count": 341,
      "outputs": []
    },
    {
      "cell_type": "code",
      "source": [
        "user_df.head()"
      ],
      "metadata": {
        "colab": {
          "base_uri": "https://localhost:8080/",
          "height": 206
        },
        "id": "jbiRr02hWyOF",
        "outputId": "062b9cc6-31dc-4b8a-b303-b1f259f93e04"
      },
      "execution_count": 344,
      "outputs": [
        {
          "output_type": "execute_result",
          "data": {
            "text/plain": [
              "  user_id  user_f  user_m content_id  content_f  content_m\n",
              "0    7e2d       3       0       26c2          1          0\n",
              "0    7e2d       3       0       21cc          0          0\n",
              "1    fdd9       3       1       3082          0          0\n",
              "1    fdd9       3       1       249a          0          0\n",
              "1    fdd9       3       1       2589          0          0"
            ],
            "text/html": [
              "\n",
              "  <div id=\"df-bd5738f1-e95c-49be-9d83-13ae89133666\">\n",
              "    <div class=\"colab-df-container\">\n",
              "      <div>\n",
              "<style scoped>\n",
              "    .dataframe tbody tr th:only-of-type {\n",
              "        vertical-align: middle;\n",
              "    }\n",
              "\n",
              "    .dataframe tbody tr th {\n",
              "        vertical-align: top;\n",
              "    }\n",
              "\n",
              "    .dataframe thead th {\n",
              "        text-align: right;\n",
              "    }\n",
              "</style>\n",
              "<table border=\"1\" class=\"dataframe\">\n",
              "  <thead>\n",
              "    <tr style=\"text-align: right;\">\n",
              "      <th></th>\n",
              "      <th>user_id</th>\n",
              "      <th>user_f</th>\n",
              "      <th>user_m</th>\n",
              "      <th>content_id</th>\n",
              "      <th>content_f</th>\n",
              "      <th>content_m</th>\n",
              "    </tr>\n",
              "  </thead>\n",
              "  <tbody>\n",
              "    <tr>\n",
              "      <th>0</th>\n",
              "      <td>7e2d</td>\n",
              "      <td>3</td>\n",
              "      <td>0</td>\n",
              "      <td>26c2</td>\n",
              "      <td>1</td>\n",
              "      <td>0</td>\n",
              "    </tr>\n",
              "    <tr>\n",
              "      <th>0</th>\n",
              "      <td>7e2d</td>\n",
              "      <td>3</td>\n",
              "      <td>0</td>\n",
              "      <td>21cc</td>\n",
              "      <td>0</td>\n",
              "      <td>0</td>\n",
              "    </tr>\n",
              "    <tr>\n",
              "      <th>1</th>\n",
              "      <td>fdd9</td>\n",
              "      <td>3</td>\n",
              "      <td>1</td>\n",
              "      <td>3082</td>\n",
              "      <td>0</td>\n",
              "      <td>0</td>\n",
              "    </tr>\n",
              "    <tr>\n",
              "      <th>1</th>\n",
              "      <td>fdd9</td>\n",
              "      <td>3</td>\n",
              "      <td>1</td>\n",
              "      <td>249a</td>\n",
              "      <td>0</td>\n",
              "      <td>0</td>\n",
              "    </tr>\n",
              "    <tr>\n",
              "      <th>1</th>\n",
              "      <td>fdd9</td>\n",
              "      <td>3</td>\n",
              "      <td>1</td>\n",
              "      <td>2589</td>\n",
              "      <td>0</td>\n",
              "      <td>0</td>\n",
              "    </tr>\n",
              "  </tbody>\n",
              "</table>\n",
              "</div>\n",
              "      <button class=\"colab-df-convert\" onclick=\"convertToInteractive('df-bd5738f1-e95c-49be-9d83-13ae89133666')\"\n",
              "              title=\"Convert this dataframe to an interactive table.\"\n",
              "              style=\"display:none;\">\n",
              "        \n",
              "  <svg xmlns=\"http://www.w3.org/2000/svg\" height=\"24px\"viewBox=\"0 0 24 24\"\n",
              "       width=\"24px\">\n",
              "    <path d=\"M0 0h24v24H0V0z\" fill=\"none\"/>\n",
              "    <path d=\"M18.56 5.44l.94 2.06.94-2.06 2.06-.94-2.06-.94-.94-2.06-.94 2.06-2.06.94zm-11 1L8.5 8.5l.94-2.06 2.06-.94-2.06-.94L8.5 2.5l-.94 2.06-2.06.94zm10 10l.94 2.06.94-2.06 2.06-.94-2.06-.94-.94-2.06-.94 2.06-2.06.94z\"/><path d=\"M17.41 7.96l-1.37-1.37c-.4-.4-.92-.59-1.43-.59-.52 0-1.04.2-1.43.59L10.3 9.45l-7.72 7.72c-.78.78-.78 2.05 0 2.83L4 21.41c.39.39.9.59 1.41.59.51 0 1.02-.2 1.41-.59l7.78-7.78 2.81-2.81c.8-.78.8-2.07 0-2.86zM5.41 20L4 18.59l7.72-7.72 1.47 1.35L5.41 20z\"/>\n",
              "  </svg>\n",
              "      </button>\n",
              "      \n",
              "  <style>\n",
              "    .colab-df-container {\n",
              "      display:flex;\n",
              "      flex-wrap:wrap;\n",
              "      gap: 12px;\n",
              "    }\n",
              "\n",
              "    .colab-df-convert {\n",
              "      background-color: #E8F0FE;\n",
              "      border: none;\n",
              "      border-radius: 50%;\n",
              "      cursor: pointer;\n",
              "      display: none;\n",
              "      fill: #1967D2;\n",
              "      height: 32px;\n",
              "      padding: 0 0 0 0;\n",
              "      width: 32px;\n",
              "    }\n",
              "\n",
              "    .colab-df-convert:hover {\n",
              "      background-color: #E2EBFA;\n",
              "      box-shadow: 0px 1px 2px rgba(60, 64, 67, 0.3), 0px 1px 3px 1px rgba(60, 64, 67, 0.15);\n",
              "      fill: #174EA6;\n",
              "    }\n",
              "\n",
              "    [theme=dark] .colab-df-convert {\n",
              "      background-color: #3B4455;\n",
              "      fill: #D2E3FC;\n",
              "    }\n",
              "\n",
              "    [theme=dark] .colab-df-convert:hover {\n",
              "      background-color: #434B5C;\n",
              "      box-shadow: 0px 1px 3px 1px rgba(0, 0, 0, 0.15);\n",
              "      filter: drop-shadow(0px 1px 2px rgba(0, 0, 0, 0.3));\n",
              "      fill: #FFFFFF;\n",
              "    }\n",
              "  </style>\n",
              "\n",
              "      <script>\n",
              "        const buttonEl =\n",
              "          document.querySelector('#df-bd5738f1-e95c-49be-9d83-13ae89133666 button.colab-df-convert');\n",
              "        buttonEl.style.display =\n",
              "          google.colab.kernel.accessAllowed ? 'block' : 'none';\n",
              "\n",
              "        async function convertToInteractive(key) {\n",
              "          const element = document.querySelector('#df-bd5738f1-e95c-49be-9d83-13ae89133666');\n",
              "          const dataTable =\n",
              "            await google.colab.kernel.invokeFunction('convertToInteractive',\n",
              "                                                     [key], {});\n",
              "          if (!dataTable) return;\n",
              "\n",
              "          const docLinkHtml = 'Like what you see? Visit the ' +\n",
              "            '<a target=\"_blank\" href=https://colab.research.google.com/notebooks/data_table.ipynb>data table notebook</a>'\n",
              "            + ' to learn more about interactive tables.';\n",
              "          element.innerHTML = '';\n",
              "          dataTable['output_type'] = 'display_data';\n",
              "          await google.colab.output.renderOutput(dataTable, element);\n",
              "          const docLink = document.createElement('div');\n",
              "          docLink.innerHTML = docLinkHtml;\n",
              "          element.appendChild(docLink);\n",
              "        }\n",
              "      </script>\n",
              "    </div>\n",
              "  </div>\n",
              "  "
            ]
          },
          "metadata": {},
          "execution_count": 344
        }
      ]
    },
    {
      "cell_type": "code",
      "source": [
        "user_df.shape"
      ],
      "metadata": {
        "colab": {
          "base_uri": "https://localhost:8080/"
        },
        "id": "oSuLoPaler0N",
        "outputId": "686b389e-4bac-4839-c9d4-4cd0f81734e5"
      },
      "execution_count": 376,
      "outputs": [
        {
          "output_type": "execute_result",
          "data": {
            "text/plain": [
              "(73170, 6)"
            ]
          },
          "metadata": {},
          "execution_count": 376
        }
      ]
    },
    {
      "cell_type": "code",
      "source": [
        "# user_df = pd.read_csv(\"user_content_df.csv\")"
      ],
      "metadata": {
        "id": "mcqtGwlS_20I"
      },
      "execution_count": 23,
      "outputs": []
    },
    {
      "cell_type": "code",
      "source": [
        "usr_df = user_df.copy()"
      ],
      "metadata": {
        "id": "7sp9A3wuc1o1"
      },
      "execution_count": 24,
      "outputs": []
    },
    {
      "cell_type": "code",
      "source": [
        "def change_fig(df):\n",
        "    if df['user_f'] ==0 and df['user_m'] == 0:\n",
        "        df['user_f'] = 1\n",
        "        df['user_m'] = 1\n",
        "    if df['content_f'] ==0 and df['content_m'] == 0:\n",
        "        df['content_f'] = 1\n",
        "        df['content_m'] = 1\n",
        "    return df"
      ],
      "metadata": {
        "id": "JhwdjFsFeNkN"
      },
      "execution_count": 25,
      "outputs": []
    },
    {
      "cell_type": "code",
      "source": [
        "usr_df = usr_df.apply(lambda x: change_fig(x),axis=1)"
      ],
      "metadata": {
        "id": "-0T5LZKXZsj7"
      },
      "execution_count": 26,
      "outputs": []
    },
    {
      "cell_type": "code",
      "source": [
        "usr_df.iloc[50:60]"
      ],
      "metadata": {
        "colab": {
          "base_uri": "https://localhost:8080/",
          "height": 363
        },
        "id": "rjfY5mqplx1x",
        "outputId": "c8a67fa9-b014-4cdf-8d01-236c67e3e1ea"
      },
      "execution_count": 34,
      "outputs": [
        {
          "output_type": "execute_result",
          "data": {
            "text/plain": [
              "   user_id content_id    score_\n",
              "50    8cc6       b6fa  0.017331\n",
              "51    df2b       62f9  0.069324\n",
              "52    df2b       c08c  0.051993\n",
              "53    df2b       bfd7  0.051993\n",
              "54    11d5       6a7f  0.398614\n",
              "55    11d5       1c7f  0.398614\n",
              "56    11d5       591d  0.398614\n",
              "57    11d5       47c8  0.398614\n",
              "58    11d5       ca36  0.398614\n",
              "59    11d5       9b47  0.398614"
            ],
            "text/html": [
              "\n",
              "  <div id=\"df-1c09de4b-b1ee-42a8-8f6e-aca851168b0f\">\n",
              "    <div class=\"colab-df-container\">\n",
              "      <div>\n",
              "<style scoped>\n",
              "    .dataframe tbody tr th:only-of-type {\n",
              "        vertical-align: middle;\n",
              "    }\n",
              "\n",
              "    .dataframe tbody tr th {\n",
              "        vertical-align: top;\n",
              "    }\n",
              "\n",
              "    .dataframe thead th {\n",
              "        text-align: right;\n",
              "    }\n",
              "</style>\n",
              "<table border=\"1\" class=\"dataframe\">\n",
              "  <thead>\n",
              "    <tr style=\"text-align: right;\">\n",
              "      <th></th>\n",
              "      <th>user_id</th>\n",
              "      <th>content_id</th>\n",
              "      <th>score_</th>\n",
              "    </tr>\n",
              "  </thead>\n",
              "  <tbody>\n",
              "    <tr>\n",
              "      <th>50</th>\n",
              "      <td>8cc6</td>\n",
              "      <td>b6fa</td>\n",
              "      <td>0.017331</td>\n",
              "    </tr>\n",
              "    <tr>\n",
              "      <th>51</th>\n",
              "      <td>df2b</td>\n",
              "      <td>62f9</td>\n",
              "      <td>0.069324</td>\n",
              "    </tr>\n",
              "    <tr>\n",
              "      <th>52</th>\n",
              "      <td>df2b</td>\n",
              "      <td>c08c</td>\n",
              "      <td>0.051993</td>\n",
              "    </tr>\n",
              "    <tr>\n",
              "      <th>53</th>\n",
              "      <td>df2b</td>\n",
              "      <td>bfd7</td>\n",
              "      <td>0.051993</td>\n",
              "    </tr>\n",
              "    <tr>\n",
              "      <th>54</th>\n",
              "      <td>11d5</td>\n",
              "      <td>6a7f</td>\n",
              "      <td>0.398614</td>\n",
              "    </tr>\n",
              "    <tr>\n",
              "      <th>55</th>\n",
              "      <td>11d5</td>\n",
              "      <td>1c7f</td>\n",
              "      <td>0.398614</td>\n",
              "    </tr>\n",
              "    <tr>\n",
              "      <th>56</th>\n",
              "      <td>11d5</td>\n",
              "      <td>591d</td>\n",
              "      <td>0.398614</td>\n",
              "    </tr>\n",
              "    <tr>\n",
              "      <th>57</th>\n",
              "      <td>11d5</td>\n",
              "      <td>47c8</td>\n",
              "      <td>0.398614</td>\n",
              "    </tr>\n",
              "    <tr>\n",
              "      <th>58</th>\n",
              "      <td>11d5</td>\n",
              "      <td>ca36</td>\n",
              "      <td>0.398614</td>\n",
              "    </tr>\n",
              "    <tr>\n",
              "      <th>59</th>\n",
              "      <td>11d5</td>\n",
              "      <td>9b47</td>\n",
              "      <td>0.398614</td>\n",
              "    </tr>\n",
              "  </tbody>\n",
              "</table>\n",
              "</div>\n",
              "      <button class=\"colab-df-convert\" onclick=\"convertToInteractive('df-1c09de4b-b1ee-42a8-8f6e-aca851168b0f')\"\n",
              "              title=\"Convert this dataframe to an interactive table.\"\n",
              "              style=\"display:none;\">\n",
              "        \n",
              "  <svg xmlns=\"http://www.w3.org/2000/svg\" height=\"24px\"viewBox=\"0 0 24 24\"\n",
              "       width=\"24px\">\n",
              "    <path d=\"M0 0h24v24H0V0z\" fill=\"none\"/>\n",
              "    <path d=\"M18.56 5.44l.94 2.06.94-2.06 2.06-.94-2.06-.94-.94-2.06-.94 2.06-2.06.94zm-11 1L8.5 8.5l.94-2.06 2.06-.94-2.06-.94L8.5 2.5l-.94 2.06-2.06.94zm10 10l.94 2.06.94-2.06 2.06-.94-2.06-.94-.94-2.06-.94 2.06-2.06.94z\"/><path d=\"M17.41 7.96l-1.37-1.37c-.4-.4-.92-.59-1.43-.59-.52 0-1.04.2-1.43.59L10.3 9.45l-7.72 7.72c-.78.78-.78 2.05 0 2.83L4 21.41c.39.39.9.59 1.41.59.51 0 1.02-.2 1.41-.59l7.78-7.78 2.81-2.81c.8-.78.8-2.07 0-2.86zM5.41 20L4 18.59l7.72-7.72 1.47 1.35L5.41 20z\"/>\n",
              "  </svg>\n",
              "      </button>\n",
              "      \n",
              "  <style>\n",
              "    .colab-df-container {\n",
              "      display:flex;\n",
              "      flex-wrap:wrap;\n",
              "      gap: 12px;\n",
              "    }\n",
              "\n",
              "    .colab-df-convert {\n",
              "      background-color: #E8F0FE;\n",
              "      border: none;\n",
              "      border-radius: 50%;\n",
              "      cursor: pointer;\n",
              "      display: none;\n",
              "      fill: #1967D2;\n",
              "      height: 32px;\n",
              "      padding: 0 0 0 0;\n",
              "      width: 32px;\n",
              "    }\n",
              "\n",
              "    .colab-df-convert:hover {\n",
              "      background-color: #E2EBFA;\n",
              "      box-shadow: 0px 1px 2px rgba(60, 64, 67, 0.3), 0px 1px 3px 1px rgba(60, 64, 67, 0.15);\n",
              "      fill: #174EA6;\n",
              "    }\n",
              "\n",
              "    [theme=dark] .colab-df-convert {\n",
              "      background-color: #3B4455;\n",
              "      fill: #D2E3FC;\n",
              "    }\n",
              "\n",
              "    [theme=dark] .colab-df-convert:hover {\n",
              "      background-color: #434B5C;\n",
              "      box-shadow: 0px 1px 3px 1px rgba(0, 0, 0, 0.15);\n",
              "      filter: drop-shadow(0px 1px 2px rgba(0, 0, 0, 0.3));\n",
              "      fill: #FFFFFF;\n",
              "    }\n",
              "  </style>\n",
              "\n",
              "      <script>\n",
              "        const buttonEl =\n",
              "          document.querySelector('#df-1c09de4b-b1ee-42a8-8f6e-aca851168b0f button.colab-df-convert');\n",
              "        buttonEl.style.display =\n",
              "          google.colab.kernel.accessAllowed ? 'block' : 'none';\n",
              "\n",
              "        async function convertToInteractive(key) {\n",
              "          const element = document.querySelector('#df-1c09de4b-b1ee-42a8-8f6e-aca851168b0f');\n",
              "          const dataTable =\n",
              "            await google.colab.kernel.invokeFunction('convertToInteractive',\n",
              "                                                     [key], {});\n",
              "          if (!dataTable) return;\n",
              "\n",
              "          const docLinkHtml = 'Like what you see? Visit the ' +\n",
              "            '<a target=\"_blank\" href=https://colab.research.google.com/notebooks/data_table.ipynb>data table notebook</a>'\n",
              "            + ' to learn more about interactive tables.';\n",
              "          element.innerHTML = '';\n",
              "          dataTable['output_type'] = 'display_data';\n",
              "          await google.colab.output.renderOutput(dataTable, element);\n",
              "          const docLink = document.createElement('div');\n",
              "          docLink.innerHTML = docLinkHtml;\n",
              "          element.appendChild(docLink);\n",
              "        }\n",
              "      </script>\n",
              "    </div>\n",
              "  </div>\n",
              "  "
            ]
          },
          "metadata": {},
          "execution_count": 34
        }
      ]
    },
    {
      "cell_type": "code",
      "source": [
        "def score(df):\n",
        "    score = 0\n",
        "    if df['user_f'] >0 and df['content_f'] >0:\n",
        "        score += df['user_f']\n",
        "    if df['user_m'] >0 and df['content_m'] >0:\n",
        "        score += df['user_m']\n",
        "    return score\n",
        "usr_df['score'] = usr_df.apply(lambda x: score(x),axis=1)"
      ],
      "metadata": {
        "id": "4k7DSmAuoTiU"
      },
      "execution_count": 29,
      "outputs": []
    },
    {
      "cell_type": "code",
      "source": [
        "usr_df['score_'] = ((usr_df['score'] - min(usr_df['score'])) / max(usr_df['score']) - min(usr_df['score'])) *10"
      ],
      "metadata": {
        "id": "MU5tYKafqjqk"
      },
      "execution_count": 30,
      "outputs": []
    },
    {
      "cell_type": "code",
      "source": [
        "usr_df.drop(['user_f','user_m','content_f','content_m','score'],axis=1,inplace=True)"
      ],
      "metadata": {
        "id": "WeGPzFSls_vV"
      },
      "execution_count": 32,
      "outputs": []
    },
    {
      "cell_type": "code",
      "source": [
        "usrs_df = usr_df.copy()"
      ],
      "metadata": {
        "id": "pFcDnSue2FeW"
      },
      "execution_count": 33,
      "outputs": []
    },
    {
      "cell_type": "markdown",
      "source": [
        "# SVD\n",
        "R: user matrix\n",
        "\n",
        "U: user feature matrix (how much user likes the feature)\n",
        "\n",
        "Sigma: diagonal matrix\n",
        "\n",
        "V: item feature matrix (content of item)\n"
      ],
      "metadata": {
        "id": "NHMMsdI0uNUJ"
      }
    },
    {
      "cell_type": "code",
      "source": [
        "!pip install surprise"
      ],
      "metadata": {
        "colab": {
          "base_uri": "https://localhost:8080/"
        },
        "id": "ie2jfrJNwPXl",
        "outputId": "6bf867b4-b782-443b-dbea-26a4ad4c747f"
      },
      "execution_count": 36,
      "outputs": [
        {
          "output_type": "stream",
          "name": "stdout",
          "text": [
            "Looking in indexes: https://pypi.org/simple, https://us-python.pkg.dev/colab-wheels/public/simple/\n",
            "Requirement already satisfied: surprise in /usr/local/lib/python3.7/dist-packages (0.1)\n",
            "Requirement already satisfied: scikit-surprise in /usr/local/lib/python3.7/dist-packages (from surprise) (1.1.1)\n",
            "Requirement already satisfied: numpy>=1.11.2 in /usr/local/lib/python3.7/dist-packages (from scikit-surprise->surprise) (1.21.6)\n",
            "Requirement already satisfied: joblib>=0.11 in /usr/local/lib/python3.7/dist-packages (from scikit-surprise->surprise) (1.1.0)\n",
            "Requirement already satisfied: six>=1.10.0 in /usr/local/lib/python3.7/dist-packages (from scikit-surprise->surprise) (1.15.0)\n",
            "Requirement already satisfied: scipy>=1.0.0 in /usr/local/lib/python3.7/dist-packages (from scikit-surprise->surprise) (1.4.1)\n"
          ]
        }
      ]
    },
    {
      "cell_type": "code",
      "source": [
        "usrs_df.head(\n",
        ")"
      ],
      "metadata": {
        "colab": {
          "base_uri": "https://localhost:8080/",
          "height": 206
        },
        "id": "aiKl_o2315qp",
        "outputId": "562e61ff-90d8-4e68-b0e3-b49756fc5a29"
      },
      "execution_count": 37,
      "outputs": [
        {
          "output_type": "execute_result",
          "data": {
            "text/plain": [
              "  user_id content_id    score_\n",
              "0    7e2d       26c2  0.051993\n",
              "1    7e2d       21cc  0.051993\n",
              "2    fdd9       3082  0.069324\n",
              "3    fdd9       249a  0.069324\n",
              "4    fdd9       2589  0.069324"
            ],
            "text/html": [
              "\n",
              "  <div id=\"df-733b06c0-cd18-4da9-9440-7e59c9315eb3\">\n",
              "    <div class=\"colab-df-container\">\n",
              "      <div>\n",
              "<style scoped>\n",
              "    .dataframe tbody tr th:only-of-type {\n",
              "        vertical-align: middle;\n",
              "    }\n",
              "\n",
              "    .dataframe tbody tr th {\n",
              "        vertical-align: top;\n",
              "    }\n",
              "\n",
              "    .dataframe thead th {\n",
              "        text-align: right;\n",
              "    }\n",
              "</style>\n",
              "<table border=\"1\" class=\"dataframe\">\n",
              "  <thead>\n",
              "    <tr style=\"text-align: right;\">\n",
              "      <th></th>\n",
              "      <th>user_id</th>\n",
              "      <th>content_id</th>\n",
              "      <th>score_</th>\n",
              "    </tr>\n",
              "  </thead>\n",
              "  <tbody>\n",
              "    <tr>\n",
              "      <th>0</th>\n",
              "      <td>7e2d</td>\n",
              "      <td>26c2</td>\n",
              "      <td>0.051993</td>\n",
              "    </tr>\n",
              "    <tr>\n",
              "      <th>1</th>\n",
              "      <td>7e2d</td>\n",
              "      <td>21cc</td>\n",
              "      <td>0.051993</td>\n",
              "    </tr>\n",
              "    <tr>\n",
              "      <th>2</th>\n",
              "      <td>fdd9</td>\n",
              "      <td>3082</td>\n",
              "      <td>0.069324</td>\n",
              "    </tr>\n",
              "    <tr>\n",
              "      <th>3</th>\n",
              "      <td>fdd9</td>\n",
              "      <td>249a</td>\n",
              "      <td>0.069324</td>\n",
              "    </tr>\n",
              "    <tr>\n",
              "      <th>4</th>\n",
              "      <td>fdd9</td>\n",
              "      <td>2589</td>\n",
              "      <td>0.069324</td>\n",
              "    </tr>\n",
              "  </tbody>\n",
              "</table>\n",
              "</div>\n",
              "      <button class=\"colab-df-convert\" onclick=\"convertToInteractive('df-733b06c0-cd18-4da9-9440-7e59c9315eb3')\"\n",
              "              title=\"Convert this dataframe to an interactive table.\"\n",
              "              style=\"display:none;\">\n",
              "        \n",
              "  <svg xmlns=\"http://www.w3.org/2000/svg\" height=\"24px\"viewBox=\"0 0 24 24\"\n",
              "       width=\"24px\">\n",
              "    <path d=\"M0 0h24v24H0V0z\" fill=\"none\"/>\n",
              "    <path d=\"M18.56 5.44l.94 2.06.94-2.06 2.06-.94-2.06-.94-.94-2.06-.94 2.06-2.06.94zm-11 1L8.5 8.5l.94-2.06 2.06-.94-2.06-.94L8.5 2.5l-.94 2.06-2.06.94zm10 10l.94 2.06.94-2.06 2.06-.94-2.06-.94-.94-2.06-.94 2.06-2.06.94z\"/><path d=\"M17.41 7.96l-1.37-1.37c-.4-.4-.92-.59-1.43-.59-.52 0-1.04.2-1.43.59L10.3 9.45l-7.72 7.72c-.78.78-.78 2.05 0 2.83L4 21.41c.39.39.9.59 1.41.59.51 0 1.02-.2 1.41-.59l7.78-7.78 2.81-2.81c.8-.78.8-2.07 0-2.86zM5.41 20L4 18.59l7.72-7.72 1.47 1.35L5.41 20z\"/>\n",
              "  </svg>\n",
              "      </button>\n",
              "      \n",
              "  <style>\n",
              "    .colab-df-container {\n",
              "      display:flex;\n",
              "      flex-wrap:wrap;\n",
              "      gap: 12px;\n",
              "    }\n",
              "\n",
              "    .colab-df-convert {\n",
              "      background-color: #E8F0FE;\n",
              "      border: none;\n",
              "      border-radius: 50%;\n",
              "      cursor: pointer;\n",
              "      display: none;\n",
              "      fill: #1967D2;\n",
              "      height: 32px;\n",
              "      padding: 0 0 0 0;\n",
              "      width: 32px;\n",
              "    }\n",
              "\n",
              "    .colab-df-convert:hover {\n",
              "      background-color: #E2EBFA;\n",
              "      box-shadow: 0px 1px 2px rgba(60, 64, 67, 0.3), 0px 1px 3px 1px rgba(60, 64, 67, 0.15);\n",
              "      fill: #174EA6;\n",
              "    }\n",
              "\n",
              "    [theme=dark] .colab-df-convert {\n",
              "      background-color: #3B4455;\n",
              "      fill: #D2E3FC;\n",
              "    }\n",
              "\n",
              "    [theme=dark] .colab-df-convert:hover {\n",
              "      background-color: #434B5C;\n",
              "      box-shadow: 0px 1px 3px 1px rgba(0, 0, 0, 0.15);\n",
              "      filter: drop-shadow(0px 1px 2px rgba(0, 0, 0, 0.3));\n",
              "      fill: #FFFFFF;\n",
              "    }\n",
              "  </style>\n",
              "\n",
              "      <script>\n",
              "        const buttonEl =\n",
              "          document.querySelector('#df-733b06c0-cd18-4da9-9440-7e59c9315eb3 button.colab-df-convert');\n",
              "        buttonEl.style.display =\n",
              "          google.colab.kernel.accessAllowed ? 'block' : 'none';\n",
              "\n",
              "        async function convertToInteractive(key) {\n",
              "          const element = document.querySelector('#df-733b06c0-cd18-4da9-9440-7e59c9315eb3');\n",
              "          const dataTable =\n",
              "            await google.colab.kernel.invokeFunction('convertToInteractive',\n",
              "                                                     [key], {});\n",
              "          if (!dataTable) return;\n",
              "\n",
              "          const docLinkHtml = 'Like what you see? Visit the ' +\n",
              "            '<a target=\"_blank\" href=https://colab.research.google.com/notebooks/data_table.ipynb>data table notebook</a>'\n",
              "            + ' to learn more about interactive tables.';\n",
              "          element.innerHTML = '';\n",
              "          dataTable['output_type'] = 'display_data';\n",
              "          await google.colab.output.renderOutput(dataTable, element);\n",
              "          const docLink = document.createElement('div');\n",
              "          docLink.innerHTML = docLinkHtml;\n",
              "          element.appendChild(docLink);\n",
              "        }\n",
              "      </script>\n",
              "    </div>\n",
              "  </div>\n",
              "  "
            ]
          },
          "metadata": {},
          "execution_count": 37
        }
      ]
    },
    {
      "cell_type": "code",
      "source": [
        "from surprise import Reader,Dataset, SVD,NormalPredictor,Prediction\n",
        "from surprise.model_selection import cross_validate\n",
        "from collections import defaultdict\n",
        "\n",
        "reader = Reader(rating_scale=(0.5,5))\n",
        "data = Dataset.load_from_df(usrs_df[['user_id','content_id','score_']],reader)\n",
        "algo=SVD()\n",
        "cross_validate(algo,data,measures=['RMSE'],cv=5,verbose=True)"
      ],
      "metadata": {
        "colab": {
          "base_uri": "https://localhost:8080/"
        },
        "id": "iRJtLdTU0ovZ",
        "outputId": "c22c0530-f6d4-48c6-83b0-1e053308e351"
      },
      "execution_count": 38,
      "outputs": [
        {
          "output_type": "stream",
          "name": "stdout",
          "text": [
            "Evaluating RMSE of algorithm SVD on 5 split(s).\n",
            "\n",
            "                  Fold 1  Fold 2  Fold 3  Fold 4  Fold 5  Mean    Std     \n",
            "RMSE (testset)    0.6391  0.6296  0.6433  0.6326  0.6342  0.6358  0.0049  \n",
            "Fit time          3.48    6.20    8.91    7.95    3.53    6.01    2.23    \n",
            "Test time         0.23    0.34    0.34    0.25    0.10    0.25    0.09    \n"
          ]
        },
        {
          "output_type": "execute_result",
          "data": {
            "text/plain": [
              "{'fit_time': (3.4786906242370605,\n",
              "  6.199813604354858,\n",
              "  8.905590772628784,\n",
              "  7.948318004608154,\n",
              "  3.5254905223846436),\n",
              " 'test_rmse': array([0.6391443 , 0.62962856, 0.64331769, 0.63261647, 0.63418783]),\n",
              " 'test_time': (0.23139286041259766,\n",
              "  0.3419368267059326,\n",
              "  0.3436920642852783,\n",
              "  0.2549149990081787,\n",
              "  0.09651637077331543)}"
            ]
          },
          "metadata": {},
          "execution_count": 38
        }
      ]
    },
    {
      "cell_type": "code",
      "source": [
        "from surprise.model_selection import GridSearchCV\n",
        "param_grid = {\n",
        "    \"n_epochs\": [5, 10],\n",
        "    \"lr_all\": [0.002, 0.005],\n",
        "    \"reg_all\": [0.4, 0.6]\n",
        "}\n",
        "gs = GridSearchCV(SVD, param_grid, measures=[\"rmse\", \"mae\"], cv=3)\n",
        "\n",
        "gs.fit(data)\n",
        "\n",
        "print(gs.best_score[\"rmse\"])\n",
        "print(gs.best_params[\"rmse\"])"
      ],
      "metadata": {
        "colab": {
          "base_uri": "https://localhost:8080/"
        },
        "id": "BRkn2O3i1y_e",
        "outputId": "6056dcde-44d8-4256-df99-f330275ad4ce"
      },
      "execution_count": 39,
      "outputs": [
        {
          "output_type": "stream",
          "name": "stdout",
          "text": [
            "0.6650719651489758\n",
            "{'n_epochs': 10, 'lr_all': 0.005, 'reg_all': 0.4}\n"
          ]
        }
      ]
    },
    {
      "cell_type": "code",
      "source": [
        "algo = gs.best_estimator['rmse']\n",
        "trainset = data.build_full_trainset()\n",
        "algo.fit(trainset)"
      ],
      "metadata": {
        "colab": {
          "base_uri": "https://localhost:8080/"
        },
        "id": "Be3XhZuJ2tKr",
        "outputId": "122f684f-e01b-4328-d586-498d43b35ef3"
      },
      "execution_count": 40,
      "outputs": [
        {
          "output_type": "execute_result",
          "data": {
            "text/plain": [
              "<surprise.prediction_algorithms.matrix_factorization.SVD at 0x7f9a4355d710>"
            ]
          },
          "metadata": {},
          "execution_count": 40
        }
      ]
    },
    {
      "cell_type": "code",
      "source": [
        "catalog_df.drop_duplicates(subset = ['catalog_id'],inplace=True,keep='first')\n",
        "catalog_df['content_id']=catalog_df['catalog_id']\n",
        "catalog_df.head()"
      ],
      "metadata": {
        "colab": {
          "base_uri": "https://localhost:8080/",
          "height": 206
        },
        "id": "ikJLfGfx4CZl",
        "outputId": "4cbee331-14ab-40fc-df22-dd2a468e72e3"
      },
      "execution_count": 45,
      "outputs": [
        {
          "output_type": "execute_result",
          "data": {
            "text/plain": [
              "  catalog_id                                          name  \\\n",
              "0       93d0  Moisturising Cream | Shea Butter & Vitamin E   \n",
              "1       94cb                                 Bold Swimsuit   \n",
              "2       93ff                           Onion Seed Hair Oil   \n",
              "3       9548                Maroon Embroidered Shift Dress   \n",
              "5       dcfd       Grey Crop Top With Embroidered Sleeves    \n",
              "\n",
              "                                            keywords content_id  \n",
              "0  [cream, moisturising, shea, butter, vitamin e,...       93d0  \n",
              "1  [swimsuit, gymwear, active wear, swimming cost...       94cb  \n",
              "2  [oil, hair fall, growth oil, hair, onion, blac...       93ff  \n",
              "3      [one piece, casual, party, long dress, dress]       9548  \n",
              "5             [top, casual wear, trendy, women wear]       dcfd  "
            ],
            "text/html": [
              "\n",
              "  <div id=\"df-43cc078e-4d0e-4bbc-8c18-0d83b002ef3d\">\n",
              "    <div class=\"colab-df-container\">\n",
              "      <div>\n",
              "<style scoped>\n",
              "    .dataframe tbody tr th:only-of-type {\n",
              "        vertical-align: middle;\n",
              "    }\n",
              "\n",
              "    .dataframe tbody tr th {\n",
              "        vertical-align: top;\n",
              "    }\n",
              "\n",
              "    .dataframe thead th {\n",
              "        text-align: right;\n",
              "    }\n",
              "</style>\n",
              "<table border=\"1\" class=\"dataframe\">\n",
              "  <thead>\n",
              "    <tr style=\"text-align: right;\">\n",
              "      <th></th>\n",
              "      <th>catalog_id</th>\n",
              "      <th>name</th>\n",
              "      <th>keywords</th>\n",
              "      <th>content_id</th>\n",
              "    </tr>\n",
              "  </thead>\n",
              "  <tbody>\n",
              "    <tr>\n",
              "      <th>0</th>\n",
              "      <td>93d0</td>\n",
              "      <td>Moisturising Cream | Shea Butter &amp; Vitamin E</td>\n",
              "      <td>[cream, moisturising, shea, butter, vitamin e,...</td>\n",
              "      <td>93d0</td>\n",
              "    </tr>\n",
              "    <tr>\n",
              "      <th>1</th>\n",
              "      <td>94cb</td>\n",
              "      <td>Bold Swimsuit</td>\n",
              "      <td>[swimsuit, gymwear, active wear, swimming cost...</td>\n",
              "      <td>94cb</td>\n",
              "    </tr>\n",
              "    <tr>\n",
              "      <th>2</th>\n",
              "      <td>93ff</td>\n",
              "      <td>Onion Seed Hair Oil</td>\n",
              "      <td>[oil, hair fall, growth oil, hair, onion, blac...</td>\n",
              "      <td>93ff</td>\n",
              "    </tr>\n",
              "    <tr>\n",
              "      <th>3</th>\n",
              "      <td>9548</td>\n",
              "      <td>Maroon Embroidered Shift Dress</td>\n",
              "      <td>[one piece, casual, party, long dress, dress]</td>\n",
              "      <td>9548</td>\n",
              "    </tr>\n",
              "    <tr>\n",
              "      <th>5</th>\n",
              "      <td>dcfd</td>\n",
              "      <td>Grey Crop Top With Embroidered Sleeves</td>\n",
              "      <td>[top, casual wear, trendy, women wear]</td>\n",
              "      <td>dcfd</td>\n",
              "    </tr>\n",
              "  </tbody>\n",
              "</table>\n",
              "</div>\n",
              "      <button class=\"colab-df-convert\" onclick=\"convertToInteractive('df-43cc078e-4d0e-4bbc-8c18-0d83b002ef3d')\"\n",
              "              title=\"Convert this dataframe to an interactive table.\"\n",
              "              style=\"display:none;\">\n",
              "        \n",
              "  <svg xmlns=\"http://www.w3.org/2000/svg\" height=\"24px\"viewBox=\"0 0 24 24\"\n",
              "       width=\"24px\">\n",
              "    <path d=\"M0 0h24v24H0V0z\" fill=\"none\"/>\n",
              "    <path d=\"M18.56 5.44l.94 2.06.94-2.06 2.06-.94-2.06-.94-.94-2.06-.94 2.06-2.06.94zm-11 1L8.5 8.5l.94-2.06 2.06-.94-2.06-.94L8.5 2.5l-.94 2.06-2.06.94zm10 10l.94 2.06.94-2.06 2.06-.94-2.06-.94-.94-2.06-.94 2.06-2.06.94z\"/><path d=\"M17.41 7.96l-1.37-1.37c-.4-.4-.92-.59-1.43-.59-.52 0-1.04.2-1.43.59L10.3 9.45l-7.72 7.72c-.78.78-.78 2.05 0 2.83L4 21.41c.39.39.9.59 1.41.59.51 0 1.02-.2 1.41-.59l7.78-7.78 2.81-2.81c.8-.78.8-2.07 0-2.86zM5.41 20L4 18.59l7.72-7.72 1.47 1.35L5.41 20z\"/>\n",
              "  </svg>\n",
              "      </button>\n",
              "      \n",
              "  <style>\n",
              "    .colab-df-container {\n",
              "      display:flex;\n",
              "      flex-wrap:wrap;\n",
              "      gap: 12px;\n",
              "    }\n",
              "\n",
              "    .colab-df-convert {\n",
              "      background-color: #E8F0FE;\n",
              "      border: none;\n",
              "      border-radius: 50%;\n",
              "      cursor: pointer;\n",
              "      display: none;\n",
              "      fill: #1967D2;\n",
              "      height: 32px;\n",
              "      padding: 0 0 0 0;\n",
              "      width: 32px;\n",
              "    }\n",
              "\n",
              "    .colab-df-convert:hover {\n",
              "      background-color: #E2EBFA;\n",
              "      box-shadow: 0px 1px 2px rgba(60, 64, 67, 0.3), 0px 1px 3px 1px rgba(60, 64, 67, 0.15);\n",
              "      fill: #174EA6;\n",
              "    }\n",
              "\n",
              "    [theme=dark] .colab-df-convert {\n",
              "      background-color: #3B4455;\n",
              "      fill: #D2E3FC;\n",
              "    }\n",
              "\n",
              "    [theme=dark] .colab-df-convert:hover {\n",
              "      background-color: #434B5C;\n",
              "      box-shadow: 0px 1px 3px 1px rgba(0, 0, 0, 0.15);\n",
              "      filter: drop-shadow(0px 1px 2px rgba(0, 0, 0, 0.3));\n",
              "      fill: #FFFFFF;\n",
              "    }\n",
              "  </style>\n",
              "\n",
              "      <script>\n",
              "        const buttonEl =\n",
              "          document.querySelector('#df-43cc078e-4d0e-4bbc-8c18-0d83b002ef3d button.colab-df-convert');\n",
              "        buttonEl.style.display =\n",
              "          google.colab.kernel.accessAllowed ? 'block' : 'none';\n",
              "\n",
              "        async function convertToInteractive(key) {\n",
              "          const element = document.querySelector('#df-43cc078e-4d0e-4bbc-8c18-0d83b002ef3d');\n",
              "          const dataTable =\n",
              "            await google.colab.kernel.invokeFunction('convertToInteractive',\n",
              "                                                     [key], {});\n",
              "          if (!dataTable) return;\n",
              "\n",
              "          const docLinkHtml = 'Like what you see? Visit the ' +\n",
              "            '<a target=\"_blank\" href=https://colab.research.google.com/notebooks/data_table.ipynb>data table notebook</a>'\n",
              "            + ' to learn more about interactive tables.';\n",
              "          element.innerHTML = '';\n",
              "          dataTable['output_type'] = 'display_data';\n",
              "          await google.colab.output.renderOutput(dataTable, element);\n",
              "          const docLink = document.createElement('div');\n",
              "          docLink.innerHTML = docLinkHtml;\n",
              "          element.appendChild(docLink);\n",
              "        }\n",
              "      </script>\n",
              "    </div>\n",
              "  </div>\n",
              "  "
            ]
          },
          "metadata": {},
          "execution_count": 45
        }
      ]
    },
    {
      "cell_type": "code",
      "source": [
        "def find_cat(x):\n",
        "    s = []\n",
        "    names = []\n",
        "    for i in range(len(content)):\n",
        "        if content[i]['_id']['$oid'][-4:] == x:\n",
        "            if content[i]['catalog_ids']:\n",
        "                s.append([g['$oid'] for g in content[i]['catalog_ids']])\n",
        "    \n",
        "    s = list(set([x for xs in s for x in xs]))\n",
        "    for t in s:\n",
        "        f = catalog_df[catalog_df['catalog_id'] == t[-4:]]['name']\n",
        "        names.append(f)\n",
        "    return names\n",
        "find_cat('3082')"
      ],
      "metadata": {
        "colab": {
          "base_uri": "https://localhost:8080/"
        },
        "id": "dU6VmNC2592V",
        "outputId": "8ce2032e-5536-423a-a5e8-b14598ea4125"
      },
      "execution_count": 48,
      "outputs": [
        {
          "output_type": "execute_result",
          "data": {
            "text/plain": [
              "[1965    Defender For Her Complete Grooming Kit\n",
              " Name: name, dtype: object]"
            ]
          },
          "metadata": {},
          "execution_count": 48
        }
      ]
    },
    {
      "cell_type": "code",
      "source": [
        "# df_data  = pd.merge(usrs_df,catalog_df,how='left', on='content_id')\n",
        "# df_data[df_data['user_id']=='fdd9'].sort_values('score_')[:10]\n",
        "df_data = usrs_df.copy()\n",
        "df_data['catalog_name']= df_data['content_id'].apply(lambda x: find_cat(x))"
      ],
      "metadata": {
        "id": "06TrixFW3XFS"
      },
      "execution_count": 49,
      "outputs": []
    },
    {
      "cell_type": "code",
      "source": [
        "df_data"
      ],
      "metadata": {
        "colab": {
          "base_uri": "https://localhost:8080/",
          "height": 424
        },
        "id": "U4v1Yfuq-OfO",
        "outputId": "68d16386-722f-4f7d-af7f-ce86f05357ff"
      },
      "execution_count": 50,
      "outputs": [
        {
          "output_type": "execute_result",
          "data": {
            "text/plain": [
              "      user_id content_id    score_  \\\n",
              "0        7e2d       26c2  0.051993   \n",
              "1        7e2d       21cc  0.051993   \n",
              "2        fdd9       3082  0.069324   \n",
              "3        fdd9       249a  0.069324   \n",
              "4        fdd9       2589  0.069324   \n",
              "...       ...        ...       ...   \n",
              "73165    f089       7ea7  0.086655   \n",
              "73166    f089       ccc1  0.086655   \n",
              "73167    f089       59de  0.086655   \n",
              "73168    f089       7e41  0.069324   \n",
              "73169    03f3       1d51  0.017331   \n",
              "\n",
              "                                            catalog_name  \n",
              "0                   [[Peach Nude Pink Lip & Cheek Tint]]  \n",
              "1                                                     []  \n",
              "2             [[Defender For Her Complete Grooming Kit]]  \n",
              "3          [[Black Maxi Dress ], [Solid Khaki Jumpsuit]]  \n",
              "4      [[Yellow Halter Shirt], [Black Drama Co-Ord Se...  \n",
              "...                                                  ...  \n",
              "73165  [[Good Morning- Nail Paint Remover], [Ibiza Su...  \n",
              "73166  [[Pout Potion Liquid Matte Lipstick - Drama Qu...  \n",
              "73167                    [[Plant-based Chicken Nuggets]]  \n",
              "73168                                                 []  \n",
              "73169  [[Alcohol Based Disinfectant Sanitizer Spray -...  \n",
              "\n",
              "[73170 rows x 4 columns]"
            ],
            "text/html": [
              "\n",
              "  <div id=\"df-4575b63f-0013-4f62-86c5-f8192dac5f0b\">\n",
              "    <div class=\"colab-df-container\">\n",
              "      <div>\n",
              "<style scoped>\n",
              "    .dataframe tbody tr th:only-of-type {\n",
              "        vertical-align: middle;\n",
              "    }\n",
              "\n",
              "    .dataframe tbody tr th {\n",
              "        vertical-align: top;\n",
              "    }\n",
              "\n",
              "    .dataframe thead th {\n",
              "        text-align: right;\n",
              "    }\n",
              "</style>\n",
              "<table border=\"1\" class=\"dataframe\">\n",
              "  <thead>\n",
              "    <tr style=\"text-align: right;\">\n",
              "      <th></th>\n",
              "      <th>user_id</th>\n",
              "      <th>content_id</th>\n",
              "      <th>score_</th>\n",
              "      <th>catalog_name</th>\n",
              "    </tr>\n",
              "  </thead>\n",
              "  <tbody>\n",
              "    <tr>\n",
              "      <th>0</th>\n",
              "      <td>7e2d</td>\n",
              "      <td>26c2</td>\n",
              "      <td>0.051993</td>\n",
              "      <td>[[Peach Nude Pink Lip &amp; Cheek Tint]]</td>\n",
              "    </tr>\n",
              "    <tr>\n",
              "      <th>1</th>\n",
              "      <td>7e2d</td>\n",
              "      <td>21cc</td>\n",
              "      <td>0.051993</td>\n",
              "      <td>[]</td>\n",
              "    </tr>\n",
              "    <tr>\n",
              "      <th>2</th>\n",
              "      <td>fdd9</td>\n",
              "      <td>3082</td>\n",
              "      <td>0.069324</td>\n",
              "      <td>[[Defender For Her Complete Grooming Kit]]</td>\n",
              "    </tr>\n",
              "    <tr>\n",
              "      <th>3</th>\n",
              "      <td>fdd9</td>\n",
              "      <td>249a</td>\n",
              "      <td>0.069324</td>\n",
              "      <td>[[Black Maxi Dress ], [Solid Khaki Jumpsuit]]</td>\n",
              "    </tr>\n",
              "    <tr>\n",
              "      <th>4</th>\n",
              "      <td>fdd9</td>\n",
              "      <td>2589</td>\n",
              "      <td>0.069324</td>\n",
              "      <td>[[Yellow Halter Shirt], [Black Drama Co-Ord Se...</td>\n",
              "    </tr>\n",
              "    <tr>\n",
              "      <th>...</th>\n",
              "      <td>...</td>\n",
              "      <td>...</td>\n",
              "      <td>...</td>\n",
              "      <td>...</td>\n",
              "    </tr>\n",
              "    <tr>\n",
              "      <th>73165</th>\n",
              "      <td>f089</td>\n",
              "      <td>7ea7</td>\n",
              "      <td>0.086655</td>\n",
              "      <td>[[Good Morning- Nail Paint Remover], [Ibiza Su...</td>\n",
              "    </tr>\n",
              "    <tr>\n",
              "      <th>73166</th>\n",
              "      <td>f089</td>\n",
              "      <td>ccc1</td>\n",
              "      <td>0.086655</td>\n",
              "      <td>[[Pout Potion Liquid Matte Lipstick - Drama Qu...</td>\n",
              "    </tr>\n",
              "    <tr>\n",
              "      <th>73167</th>\n",
              "      <td>f089</td>\n",
              "      <td>59de</td>\n",
              "      <td>0.086655</td>\n",
              "      <td>[[Plant-based Chicken Nuggets]]</td>\n",
              "    </tr>\n",
              "    <tr>\n",
              "      <th>73168</th>\n",
              "      <td>f089</td>\n",
              "      <td>7e41</td>\n",
              "      <td>0.069324</td>\n",
              "      <td>[]</td>\n",
              "    </tr>\n",
              "    <tr>\n",
              "      <th>73169</th>\n",
              "      <td>03f3</td>\n",
              "      <td>1d51</td>\n",
              "      <td>0.017331</td>\n",
              "      <td>[[Alcohol Based Disinfectant Sanitizer Spray -...</td>\n",
              "    </tr>\n",
              "  </tbody>\n",
              "</table>\n",
              "<p>73170 rows × 4 columns</p>\n",
              "</div>\n",
              "      <button class=\"colab-df-convert\" onclick=\"convertToInteractive('df-4575b63f-0013-4f62-86c5-f8192dac5f0b')\"\n",
              "              title=\"Convert this dataframe to an interactive table.\"\n",
              "              style=\"display:none;\">\n",
              "        \n",
              "  <svg xmlns=\"http://www.w3.org/2000/svg\" height=\"24px\"viewBox=\"0 0 24 24\"\n",
              "       width=\"24px\">\n",
              "    <path d=\"M0 0h24v24H0V0z\" fill=\"none\"/>\n",
              "    <path d=\"M18.56 5.44l.94 2.06.94-2.06 2.06-.94-2.06-.94-.94-2.06-.94 2.06-2.06.94zm-11 1L8.5 8.5l.94-2.06 2.06-.94-2.06-.94L8.5 2.5l-.94 2.06-2.06.94zm10 10l.94 2.06.94-2.06 2.06-.94-2.06-.94-.94-2.06-.94 2.06-2.06.94z\"/><path d=\"M17.41 7.96l-1.37-1.37c-.4-.4-.92-.59-1.43-.59-.52 0-1.04.2-1.43.59L10.3 9.45l-7.72 7.72c-.78.78-.78 2.05 0 2.83L4 21.41c.39.39.9.59 1.41.59.51 0 1.02-.2 1.41-.59l7.78-7.78 2.81-2.81c.8-.78.8-2.07 0-2.86zM5.41 20L4 18.59l7.72-7.72 1.47 1.35L5.41 20z\"/>\n",
              "  </svg>\n",
              "      </button>\n",
              "      \n",
              "  <style>\n",
              "    .colab-df-container {\n",
              "      display:flex;\n",
              "      flex-wrap:wrap;\n",
              "      gap: 12px;\n",
              "    }\n",
              "\n",
              "    .colab-df-convert {\n",
              "      background-color: #E8F0FE;\n",
              "      border: none;\n",
              "      border-radius: 50%;\n",
              "      cursor: pointer;\n",
              "      display: none;\n",
              "      fill: #1967D2;\n",
              "      height: 32px;\n",
              "      padding: 0 0 0 0;\n",
              "      width: 32px;\n",
              "    }\n",
              "\n",
              "    .colab-df-convert:hover {\n",
              "      background-color: #E2EBFA;\n",
              "      box-shadow: 0px 1px 2px rgba(60, 64, 67, 0.3), 0px 1px 3px 1px rgba(60, 64, 67, 0.15);\n",
              "      fill: #174EA6;\n",
              "    }\n",
              "\n",
              "    [theme=dark] .colab-df-convert {\n",
              "      background-color: #3B4455;\n",
              "      fill: #D2E3FC;\n",
              "    }\n",
              "\n",
              "    [theme=dark] .colab-df-convert:hover {\n",
              "      background-color: #434B5C;\n",
              "      box-shadow: 0px 1px 3px 1px rgba(0, 0, 0, 0.15);\n",
              "      filter: drop-shadow(0px 1px 2px rgba(0, 0, 0, 0.3));\n",
              "      fill: #FFFFFF;\n",
              "    }\n",
              "  </style>\n",
              "\n",
              "      <script>\n",
              "        const buttonEl =\n",
              "          document.querySelector('#df-4575b63f-0013-4f62-86c5-f8192dac5f0b button.colab-df-convert');\n",
              "        buttonEl.style.display =\n",
              "          google.colab.kernel.accessAllowed ? 'block' : 'none';\n",
              "\n",
              "        async function convertToInteractive(key) {\n",
              "          const element = document.querySelector('#df-4575b63f-0013-4f62-86c5-f8192dac5f0b');\n",
              "          const dataTable =\n",
              "            await google.colab.kernel.invokeFunction('convertToInteractive',\n",
              "                                                     [key], {});\n",
              "          if (!dataTable) return;\n",
              "\n",
              "          const docLinkHtml = 'Like what you see? Visit the ' +\n",
              "            '<a target=\"_blank\" href=https://colab.research.google.com/notebooks/data_table.ipynb>data table notebook</a>'\n",
              "            + ' to learn more about interactive tables.';\n",
              "          element.innerHTML = '';\n",
              "          dataTable['output_type'] = 'display_data';\n",
              "          await google.colab.output.renderOutput(dataTable, element);\n",
              "          const docLink = document.createElement('div');\n",
              "          docLink.innerHTML = docLinkHtml;\n",
              "          element.appendChild(docLink);\n",
              "        }\n",
              "      </script>\n",
              "    </div>\n",
              "  </div>\n",
              "  "
            ]
          },
          "metadata": {},
          "execution_count": 50
        }
      ]
    },
    {
      "cell_type": "code",
      "source": [
        "def get_top_n(predictions, n=10):\n",
        "    \"\"\"Return the top-N recommendation for each user from a set of predictions.\n",
        "\n",
        "    Args:\n",
        "        predictions(list of Prediction objects): The list of predictions, as\n",
        "            returned by the test method of an algorithm.\n",
        "        n(int): The number of recommendation to output for each user. Default\n",
        "            is 10.\n",
        "\n",
        "    Returns:\n",
        "    A dict where keys are user (raw) ids and values are lists of tuples:\n",
        "        [(raw item id, rating estimation), ...] of size n.\n",
        "    \"\"\"\n",
        "\n",
        "    # First map the predictions to each user.\n",
        "    top_n = defaultdict(list)\n",
        "    for uid, iid, true_r, est, _ in predictions:\n",
        "        top_n[uid].append((iid, est))\n",
        "\n",
        "    # Then sort the predictions for each user and retrieve the k highest ones.\n",
        "    for uid, user_ratings in top_n.items():\n",
        "        user_ratings.sort(key=lambda x: x[1], reverse=True)\n",
        "        top_n[uid] = user_ratings[:n]\n",
        "\n",
        "    return top_n"
      ],
      "metadata": {
        "id": "eNJ9IxYl5MAY"
      },
      "execution_count": 51,
      "outputs": []
    },
    {
      "cell_type": "code",
      "source": [
        "testset = trainset.build_anti_testset()\n",
        "predictions = algo.test(testset)\n",
        "\n",
        "top_n = get_top_n(predictions, n=10)\n"
      ],
      "metadata": {
        "id": "6XdazTx19OnD"
      },
      "execution_count": null,
      "outputs": []
    },
    {
      "cell_type": "code",
      "source": [
        "top_n"
      ],
      "metadata": {
        "id": "EfMsqb1f-g6d"
      },
      "execution_count": null,
      "outputs": []
    },
    {
      "cell_type": "code",
      "source": [
        ""
      ],
      "metadata": {
        "id": "DeoUhzkI-udm"
      },
      "execution_count": null,
      "outputs": []
    }
  ]
}