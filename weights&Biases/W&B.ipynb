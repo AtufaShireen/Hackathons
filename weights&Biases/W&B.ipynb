{
  "nbformat": 4,
  "nbformat_minor": 0,
  "metadata": {
    "colab": {
      "name": "W&B",
      "provenance": [],
      "collapsed_sections": []
    },
    "kernelspec": {
      "name": "python3",
      "display_name": "Python 3"
    },
    "language_info": {
      "name": "python"
    },
    "widgets": {
      "application/vnd.jupyter.widget-state+json": {
        "d6cf0fc23ab54cdda1f675cce5d47467": {
          "model_module": "@jupyter-widgets/controls",
          "model_name": "VBoxModel",
          "model_module_version": "1.5.0",
          "state": {
            "_view_name": "VBoxView",
            "_dom_classes": [],
            "_model_name": "VBoxModel",
            "_view_module": "@jupyter-widgets/controls",
            "_model_module_version": "1.5.0",
            "_view_count": null,
            "_view_module_version": "1.5.0",
            "box_style": "",
            "layout": "IPY_MODEL_0725e691d06a427d8a4be7953dd6fd08",
            "_model_module": "@jupyter-widgets/controls",
            "children": [
              "IPY_MODEL_5be0fb502aab4f18b1328ba58504953d",
              "IPY_MODEL_96ba7584aeef4c15880c370e08833c1f"
            ]
          }
        },
        "0725e691d06a427d8a4be7953dd6fd08": {
          "model_module": "@jupyter-widgets/base",
          "model_name": "LayoutModel",
          "model_module_version": "1.2.0",
          "state": {
            "_view_name": "LayoutView",
            "grid_template_rows": null,
            "right": null,
            "justify_content": null,
            "_view_module": "@jupyter-widgets/base",
            "overflow": null,
            "_model_module_version": "1.2.0",
            "_view_count": null,
            "flex_flow": null,
            "width": null,
            "min_width": null,
            "border": null,
            "align_items": null,
            "bottom": null,
            "_model_module": "@jupyter-widgets/base",
            "top": null,
            "grid_column": null,
            "overflow_y": null,
            "overflow_x": null,
            "grid_auto_flow": null,
            "grid_area": null,
            "grid_template_columns": null,
            "flex": null,
            "_model_name": "LayoutModel",
            "justify_items": null,
            "grid_row": null,
            "max_height": null,
            "align_content": null,
            "visibility": null,
            "align_self": null,
            "height": null,
            "min_height": null,
            "padding": null,
            "grid_auto_rows": null,
            "grid_gap": null,
            "max_width": null,
            "order": null,
            "_view_module_version": "1.2.0",
            "grid_template_areas": null,
            "object_position": null,
            "object_fit": null,
            "grid_auto_columns": null,
            "margin": null,
            "display": null,
            "left": null
          }
        },
        "5be0fb502aab4f18b1328ba58504953d": {
          "model_module": "@jupyter-widgets/controls",
          "model_name": "LabelModel",
          "model_module_version": "1.5.0",
          "state": {
            "_view_name": "LabelView",
            "style": "IPY_MODEL_3d38fc6b6e334afa8281f99dbffc384c",
            "_dom_classes": [],
            "description": "",
            "_model_name": "LabelModel",
            "placeholder": "​",
            "_view_module": "@jupyter-widgets/controls",
            "_model_module_version": "1.5.0",
            "value": " 0.01MB of 0.01MB uploaded (0.00MB deduped)\r",
            "_view_count": null,
            "_view_module_version": "1.5.0",
            "description_tooltip": null,
            "_model_module": "@jupyter-widgets/controls",
            "layout": "IPY_MODEL_6a390554b6304953b899dcc70ecc6ac2"
          }
        },
        "96ba7584aeef4c15880c370e08833c1f": {
          "model_module": "@jupyter-widgets/controls",
          "model_name": "FloatProgressModel",
          "model_module_version": "1.5.0",
          "state": {
            "_view_name": "ProgressView",
            "style": "IPY_MODEL_e9d7541099d7438e9e77cdd0233e5349",
            "_dom_classes": [],
            "description": "",
            "_model_name": "FloatProgressModel",
            "bar_style": "",
            "max": 1,
            "_view_module": "@jupyter-widgets/controls",
            "_model_module_version": "1.5.0",
            "value": 1,
            "_view_count": null,
            "_view_module_version": "1.5.0",
            "orientation": "horizontal",
            "min": 0,
            "description_tooltip": null,
            "_model_module": "@jupyter-widgets/controls",
            "layout": "IPY_MODEL_731dac7638124f898d2938c605e0d498"
          }
        },
        "3d38fc6b6e334afa8281f99dbffc384c": {
          "model_module": "@jupyter-widgets/controls",
          "model_name": "DescriptionStyleModel",
          "model_module_version": "1.5.0",
          "state": {
            "_view_name": "StyleView",
            "_model_name": "DescriptionStyleModel",
            "description_width": "",
            "_view_module": "@jupyter-widgets/base",
            "_model_module_version": "1.5.0",
            "_view_count": null,
            "_view_module_version": "1.2.0",
            "_model_module": "@jupyter-widgets/controls"
          }
        },
        "6a390554b6304953b899dcc70ecc6ac2": {
          "model_module": "@jupyter-widgets/base",
          "model_name": "LayoutModel",
          "model_module_version": "1.2.0",
          "state": {
            "_view_name": "LayoutView",
            "grid_template_rows": null,
            "right": null,
            "justify_content": null,
            "_view_module": "@jupyter-widgets/base",
            "overflow": null,
            "_model_module_version": "1.2.0",
            "_view_count": null,
            "flex_flow": null,
            "width": null,
            "min_width": null,
            "border": null,
            "align_items": null,
            "bottom": null,
            "_model_module": "@jupyter-widgets/base",
            "top": null,
            "grid_column": null,
            "overflow_y": null,
            "overflow_x": null,
            "grid_auto_flow": null,
            "grid_area": null,
            "grid_template_columns": null,
            "flex": null,
            "_model_name": "LayoutModel",
            "justify_items": null,
            "grid_row": null,
            "max_height": null,
            "align_content": null,
            "visibility": null,
            "align_self": null,
            "height": null,
            "min_height": null,
            "padding": null,
            "grid_auto_rows": null,
            "grid_gap": null,
            "max_width": null,
            "order": null,
            "_view_module_version": "1.2.0",
            "grid_template_areas": null,
            "object_position": null,
            "object_fit": null,
            "grid_auto_columns": null,
            "margin": null,
            "display": null,
            "left": null
          }
        },
        "e9d7541099d7438e9e77cdd0233e5349": {
          "model_module": "@jupyter-widgets/controls",
          "model_name": "ProgressStyleModel",
          "model_module_version": "1.5.0",
          "state": {
            "_view_name": "StyleView",
            "_model_name": "ProgressStyleModel",
            "description_width": "",
            "_view_module": "@jupyter-widgets/base",
            "_model_module_version": "1.5.0",
            "_view_count": null,
            "_view_module_version": "1.2.0",
            "bar_color": null,
            "_model_module": "@jupyter-widgets/controls"
          }
        },
        "731dac7638124f898d2938c605e0d498": {
          "model_module": "@jupyter-widgets/base",
          "model_name": "LayoutModel",
          "model_module_version": "1.2.0",
          "state": {
            "_view_name": "LayoutView",
            "grid_template_rows": null,
            "right": null,
            "justify_content": null,
            "_view_module": "@jupyter-widgets/base",
            "overflow": null,
            "_model_module_version": "1.2.0",
            "_view_count": null,
            "flex_flow": null,
            "width": null,
            "min_width": null,
            "border": null,
            "align_items": null,
            "bottom": null,
            "_model_module": "@jupyter-widgets/base",
            "top": null,
            "grid_column": null,
            "overflow_y": null,
            "overflow_x": null,
            "grid_auto_flow": null,
            "grid_area": null,
            "grid_template_columns": null,
            "flex": null,
            "_model_name": "LayoutModel",
            "justify_items": null,
            "grid_row": null,
            "max_height": null,
            "align_content": null,
            "visibility": null,
            "align_self": null,
            "height": null,
            "min_height": null,
            "padding": null,
            "grid_auto_rows": null,
            "grid_gap": null,
            "max_width": null,
            "order": null,
            "_view_module_version": "1.2.0",
            "grid_template_areas": null,
            "object_position": null,
            "object_fit": null,
            "grid_auto_columns": null,
            "margin": null,
            "display": null,
            "left": null
          }
        },
        "9b8789cfa35540eda98b2f82f7f2232e": {
          "model_module": "@jupyter-widgets/controls",
          "model_name": "VBoxModel",
          "model_module_version": "1.5.0",
          "state": {
            "_view_name": "VBoxView",
            "_dom_classes": [],
            "_model_name": "VBoxModel",
            "_view_module": "@jupyter-widgets/controls",
            "_model_module_version": "1.5.0",
            "_view_count": null,
            "_view_module_version": "1.5.0",
            "box_style": "",
            "layout": "IPY_MODEL_fe0224053d724a7b843db2b8a8ce3aa5",
            "_model_module": "@jupyter-widgets/controls",
            "children": [
              "IPY_MODEL_0bfa7917f020470493d433bc8c1b964e",
              "IPY_MODEL_8bbc14a42fbe4de69473bad902d1b3af"
            ]
          }
        },
        "fe0224053d724a7b843db2b8a8ce3aa5": {
          "model_module": "@jupyter-widgets/base",
          "model_name": "LayoutModel",
          "model_module_version": "1.2.0",
          "state": {
            "_view_name": "LayoutView",
            "grid_template_rows": null,
            "right": null,
            "justify_content": null,
            "_view_module": "@jupyter-widgets/base",
            "overflow": null,
            "_model_module_version": "1.2.0",
            "_view_count": null,
            "flex_flow": null,
            "width": null,
            "min_width": null,
            "border": null,
            "align_items": null,
            "bottom": null,
            "_model_module": "@jupyter-widgets/base",
            "top": null,
            "grid_column": null,
            "overflow_y": null,
            "overflow_x": null,
            "grid_auto_flow": null,
            "grid_area": null,
            "grid_template_columns": null,
            "flex": null,
            "_model_name": "LayoutModel",
            "justify_items": null,
            "grid_row": null,
            "max_height": null,
            "align_content": null,
            "visibility": null,
            "align_self": null,
            "height": null,
            "min_height": null,
            "padding": null,
            "grid_auto_rows": null,
            "grid_gap": null,
            "max_width": null,
            "order": null,
            "_view_module_version": "1.2.0",
            "grid_template_areas": null,
            "object_position": null,
            "object_fit": null,
            "grid_auto_columns": null,
            "margin": null,
            "display": null,
            "left": null
          }
        },
        "0bfa7917f020470493d433bc8c1b964e": {
          "model_module": "@jupyter-widgets/controls",
          "model_name": "LabelModel",
          "model_module_version": "1.5.0",
          "state": {
            "_view_name": "LabelView",
            "style": "IPY_MODEL_c093aa7816d44bf09da08c197b49ca02",
            "_dom_classes": [],
            "description": "",
            "_model_name": "LabelModel",
            "placeholder": "​",
            "_view_module": "@jupyter-widgets/controls",
            "_model_module_version": "1.5.0",
            "value": " 6.18MB of 6.18MB uploaded (0.00MB deduped)\r",
            "_view_count": null,
            "_view_module_version": "1.5.0",
            "description_tooltip": null,
            "_model_module": "@jupyter-widgets/controls",
            "layout": "IPY_MODEL_fc4e7ef21b2647048e186113c7c81a4e"
          }
        },
        "8bbc14a42fbe4de69473bad902d1b3af": {
          "model_module": "@jupyter-widgets/controls",
          "model_name": "FloatProgressModel",
          "model_module_version": "1.5.0",
          "state": {
            "_view_name": "ProgressView",
            "style": "IPY_MODEL_935f560abaaf4192a3e1b57ac4c56411",
            "_dom_classes": [],
            "description": "",
            "_model_name": "FloatProgressModel",
            "bar_style": "",
            "max": 1,
            "_view_module": "@jupyter-widgets/controls",
            "_model_module_version": "1.5.0",
            "value": 1,
            "_view_count": null,
            "_view_module_version": "1.5.0",
            "orientation": "horizontal",
            "min": 0,
            "description_tooltip": null,
            "_model_module": "@jupyter-widgets/controls",
            "layout": "IPY_MODEL_52dd29dc748045d19e81690f238133db"
          }
        },
        "c093aa7816d44bf09da08c197b49ca02": {
          "model_module": "@jupyter-widgets/controls",
          "model_name": "DescriptionStyleModel",
          "model_module_version": "1.5.0",
          "state": {
            "_view_name": "StyleView",
            "_model_name": "DescriptionStyleModel",
            "description_width": "",
            "_view_module": "@jupyter-widgets/base",
            "_model_module_version": "1.5.0",
            "_view_count": null,
            "_view_module_version": "1.2.0",
            "_model_module": "@jupyter-widgets/controls"
          }
        },
        "fc4e7ef21b2647048e186113c7c81a4e": {
          "model_module": "@jupyter-widgets/base",
          "model_name": "LayoutModel",
          "model_module_version": "1.2.0",
          "state": {
            "_view_name": "LayoutView",
            "grid_template_rows": null,
            "right": null,
            "justify_content": null,
            "_view_module": "@jupyter-widgets/base",
            "overflow": null,
            "_model_module_version": "1.2.0",
            "_view_count": null,
            "flex_flow": null,
            "width": null,
            "min_width": null,
            "border": null,
            "align_items": null,
            "bottom": null,
            "_model_module": "@jupyter-widgets/base",
            "top": null,
            "grid_column": null,
            "overflow_y": null,
            "overflow_x": null,
            "grid_auto_flow": null,
            "grid_area": null,
            "grid_template_columns": null,
            "flex": null,
            "_model_name": "LayoutModel",
            "justify_items": null,
            "grid_row": null,
            "max_height": null,
            "align_content": null,
            "visibility": null,
            "align_self": null,
            "height": null,
            "min_height": null,
            "padding": null,
            "grid_auto_rows": null,
            "grid_gap": null,
            "max_width": null,
            "order": null,
            "_view_module_version": "1.2.0",
            "grid_template_areas": null,
            "object_position": null,
            "object_fit": null,
            "grid_auto_columns": null,
            "margin": null,
            "display": null,
            "left": null
          }
        },
        "935f560abaaf4192a3e1b57ac4c56411": {
          "model_module": "@jupyter-widgets/controls",
          "model_name": "ProgressStyleModel",
          "model_module_version": "1.5.0",
          "state": {
            "_view_name": "StyleView",
            "_model_name": "ProgressStyleModel",
            "description_width": "",
            "_view_module": "@jupyter-widgets/base",
            "_model_module_version": "1.5.0",
            "_view_count": null,
            "_view_module_version": "1.2.0",
            "bar_color": null,
            "_model_module": "@jupyter-widgets/controls"
          }
        },
        "52dd29dc748045d19e81690f238133db": {
          "model_module": "@jupyter-widgets/base",
          "model_name": "LayoutModel",
          "model_module_version": "1.2.0",
          "state": {
            "_view_name": "LayoutView",
            "grid_template_rows": null,
            "right": null,
            "justify_content": null,
            "_view_module": "@jupyter-widgets/base",
            "overflow": null,
            "_model_module_version": "1.2.0",
            "_view_count": null,
            "flex_flow": null,
            "width": null,
            "min_width": null,
            "border": null,
            "align_items": null,
            "bottom": null,
            "_model_module": "@jupyter-widgets/base",
            "top": null,
            "grid_column": null,
            "overflow_y": null,
            "overflow_x": null,
            "grid_auto_flow": null,
            "grid_area": null,
            "grid_template_columns": null,
            "flex": null,
            "_model_name": "LayoutModel",
            "justify_items": null,
            "grid_row": null,
            "max_height": null,
            "align_content": null,
            "visibility": null,
            "align_self": null,
            "height": null,
            "min_height": null,
            "padding": null,
            "grid_auto_rows": null,
            "grid_gap": null,
            "max_width": null,
            "order": null,
            "_view_module_version": "1.2.0",
            "grid_template_areas": null,
            "object_position": null,
            "object_fit": null,
            "grid_auto_columns": null,
            "margin": null,
            "display": null,
            "left": null
          }
        },
        "1fd637c66d6b492ab1a0da0e09b6fda7": {
          "model_module": "@jupyter-widgets/controls",
          "model_name": "VBoxModel",
          "model_module_version": "1.5.0",
          "state": {
            "_view_name": "VBoxView",
            "_dom_classes": [],
            "_model_name": "VBoxModel",
            "_view_module": "@jupyter-widgets/controls",
            "_model_module_version": "1.5.0",
            "_view_count": null,
            "_view_module_version": "1.5.0",
            "box_style": "",
            "layout": "IPY_MODEL_977571a762a44e8e9beb6bde8d6bd34e",
            "_model_module": "@jupyter-widgets/controls",
            "children": [
              "IPY_MODEL_37e7ca65947643cbb47cb110b237d9bb",
              "IPY_MODEL_158a2ae0beb14dd0be2b1ce418aef907"
            ]
          }
        },
        "977571a762a44e8e9beb6bde8d6bd34e": {
          "model_module": "@jupyter-widgets/base",
          "model_name": "LayoutModel",
          "model_module_version": "1.2.0",
          "state": {
            "_view_name": "LayoutView",
            "grid_template_rows": null,
            "right": null,
            "justify_content": null,
            "_view_module": "@jupyter-widgets/base",
            "overflow": null,
            "_model_module_version": "1.2.0",
            "_view_count": null,
            "flex_flow": null,
            "width": null,
            "min_width": null,
            "border": null,
            "align_items": null,
            "bottom": null,
            "_model_module": "@jupyter-widgets/base",
            "top": null,
            "grid_column": null,
            "overflow_y": null,
            "overflow_x": null,
            "grid_auto_flow": null,
            "grid_area": null,
            "grid_template_columns": null,
            "flex": null,
            "_model_name": "LayoutModel",
            "justify_items": null,
            "grid_row": null,
            "max_height": null,
            "align_content": null,
            "visibility": null,
            "align_self": null,
            "height": null,
            "min_height": null,
            "padding": null,
            "grid_auto_rows": null,
            "grid_gap": null,
            "max_width": null,
            "order": null,
            "_view_module_version": "1.2.0",
            "grid_template_areas": null,
            "object_position": null,
            "object_fit": null,
            "grid_auto_columns": null,
            "margin": null,
            "display": null,
            "left": null
          }
        },
        "37e7ca65947643cbb47cb110b237d9bb": {
          "model_module": "@jupyter-widgets/controls",
          "model_name": "LabelModel",
          "model_module_version": "1.5.0",
          "state": {
            "_view_name": "LabelView",
            "style": "IPY_MODEL_c6971b2de74d42ff98ff10a83df3aae9",
            "_dom_classes": [],
            "description": "",
            "_model_name": "LabelModel",
            "placeholder": "​",
            "_view_module": "@jupyter-widgets/controls",
            "_model_module_version": "1.5.0",
            "value": " 0.05MB of 0.05MB uploaded (0.00MB deduped)\r",
            "_view_count": null,
            "_view_module_version": "1.5.0",
            "description_tooltip": null,
            "_model_module": "@jupyter-widgets/controls",
            "layout": "IPY_MODEL_4d1d8526208d4698b05393f334eb6ed5"
          }
        },
        "158a2ae0beb14dd0be2b1ce418aef907": {
          "model_module": "@jupyter-widgets/controls",
          "model_name": "FloatProgressModel",
          "model_module_version": "1.5.0",
          "state": {
            "_view_name": "ProgressView",
            "style": "IPY_MODEL_5ef500cd05b0487ca1340746afb15562",
            "_dom_classes": [],
            "description": "",
            "_model_name": "FloatProgressModel",
            "bar_style": "",
            "max": 1,
            "_view_module": "@jupyter-widgets/controls",
            "_model_module_version": "1.5.0",
            "value": 1,
            "_view_count": null,
            "_view_module_version": "1.5.0",
            "orientation": "horizontal",
            "min": 0,
            "description_tooltip": null,
            "_model_module": "@jupyter-widgets/controls",
            "layout": "IPY_MODEL_2d3a16ba459540aca35221400a1abef1"
          }
        },
        "c6971b2de74d42ff98ff10a83df3aae9": {
          "model_module": "@jupyter-widgets/controls",
          "model_name": "DescriptionStyleModel",
          "model_module_version": "1.5.0",
          "state": {
            "_view_name": "StyleView",
            "_model_name": "DescriptionStyleModel",
            "description_width": "",
            "_view_module": "@jupyter-widgets/base",
            "_model_module_version": "1.5.0",
            "_view_count": null,
            "_view_module_version": "1.2.0",
            "_model_module": "@jupyter-widgets/controls"
          }
        },
        "4d1d8526208d4698b05393f334eb6ed5": {
          "model_module": "@jupyter-widgets/base",
          "model_name": "LayoutModel",
          "model_module_version": "1.2.0",
          "state": {
            "_view_name": "LayoutView",
            "grid_template_rows": null,
            "right": null,
            "justify_content": null,
            "_view_module": "@jupyter-widgets/base",
            "overflow": null,
            "_model_module_version": "1.2.0",
            "_view_count": null,
            "flex_flow": null,
            "width": null,
            "min_width": null,
            "border": null,
            "align_items": null,
            "bottom": null,
            "_model_module": "@jupyter-widgets/base",
            "top": null,
            "grid_column": null,
            "overflow_y": null,
            "overflow_x": null,
            "grid_auto_flow": null,
            "grid_area": null,
            "grid_template_columns": null,
            "flex": null,
            "_model_name": "LayoutModel",
            "justify_items": null,
            "grid_row": null,
            "max_height": null,
            "align_content": null,
            "visibility": null,
            "align_self": null,
            "height": null,
            "min_height": null,
            "padding": null,
            "grid_auto_rows": null,
            "grid_gap": null,
            "max_width": null,
            "order": null,
            "_view_module_version": "1.2.0",
            "grid_template_areas": null,
            "object_position": null,
            "object_fit": null,
            "grid_auto_columns": null,
            "margin": null,
            "display": null,
            "left": null
          }
        },
        "5ef500cd05b0487ca1340746afb15562": {
          "model_module": "@jupyter-widgets/controls",
          "model_name": "ProgressStyleModel",
          "model_module_version": "1.5.0",
          "state": {
            "_view_name": "StyleView",
            "_model_name": "ProgressStyleModel",
            "description_width": "",
            "_view_module": "@jupyter-widgets/base",
            "_model_module_version": "1.5.0",
            "_view_count": null,
            "_view_module_version": "1.2.0",
            "bar_color": null,
            "_model_module": "@jupyter-widgets/controls"
          }
        },
        "2d3a16ba459540aca35221400a1abef1": {
          "model_module": "@jupyter-widgets/base",
          "model_name": "LayoutModel",
          "model_module_version": "1.2.0",
          "state": {
            "_view_name": "LayoutView",
            "grid_template_rows": null,
            "right": null,
            "justify_content": null,
            "_view_module": "@jupyter-widgets/base",
            "overflow": null,
            "_model_module_version": "1.2.0",
            "_view_count": null,
            "flex_flow": null,
            "width": null,
            "min_width": null,
            "border": null,
            "align_items": null,
            "bottom": null,
            "_model_module": "@jupyter-widgets/base",
            "top": null,
            "grid_column": null,
            "overflow_y": null,
            "overflow_x": null,
            "grid_auto_flow": null,
            "grid_area": null,
            "grid_template_columns": null,
            "flex": null,
            "_model_name": "LayoutModel",
            "justify_items": null,
            "grid_row": null,
            "max_height": null,
            "align_content": null,
            "visibility": null,
            "align_self": null,
            "height": null,
            "min_height": null,
            "padding": null,
            "grid_auto_rows": null,
            "grid_gap": null,
            "max_width": null,
            "order": null,
            "_view_module_version": "1.2.0",
            "grid_template_areas": null,
            "object_position": null,
            "object_fit": null,
            "grid_auto_columns": null,
            "margin": null,
            "display": null,
            "left": null
          }
        },
        "708a8b5678aa45198c25f31c6b9d26b9": {
          "model_module": "@jupyter-widgets/controls",
          "model_name": "VBoxModel",
          "model_module_version": "1.5.0",
          "state": {
            "_view_name": "VBoxView",
            "_dom_classes": [],
            "_model_name": "VBoxModel",
            "_view_module": "@jupyter-widgets/controls",
            "_model_module_version": "1.5.0",
            "_view_count": null,
            "_view_module_version": "1.5.0",
            "box_style": "",
            "layout": "IPY_MODEL_ce0736a16b034323b309285c09123f12",
            "_model_module": "@jupyter-widgets/controls",
            "children": [
              "IPY_MODEL_5bbcd7a9ced64fa283f519a3854b7917",
              "IPY_MODEL_7e05bf71df3742598eb1f1d2ce8e904f"
            ]
          }
        },
        "ce0736a16b034323b309285c09123f12": {
          "model_module": "@jupyter-widgets/base",
          "model_name": "LayoutModel",
          "model_module_version": "1.2.0",
          "state": {
            "_view_name": "LayoutView",
            "grid_template_rows": null,
            "right": null,
            "justify_content": null,
            "_view_module": "@jupyter-widgets/base",
            "overflow": null,
            "_model_module_version": "1.2.0",
            "_view_count": null,
            "flex_flow": null,
            "width": null,
            "min_width": null,
            "border": null,
            "align_items": null,
            "bottom": null,
            "_model_module": "@jupyter-widgets/base",
            "top": null,
            "grid_column": null,
            "overflow_y": null,
            "overflow_x": null,
            "grid_auto_flow": null,
            "grid_area": null,
            "grid_template_columns": null,
            "flex": null,
            "_model_name": "LayoutModel",
            "justify_items": null,
            "grid_row": null,
            "max_height": null,
            "align_content": null,
            "visibility": null,
            "align_self": null,
            "height": null,
            "min_height": null,
            "padding": null,
            "grid_auto_rows": null,
            "grid_gap": null,
            "max_width": null,
            "order": null,
            "_view_module_version": "1.2.0",
            "grid_template_areas": null,
            "object_position": null,
            "object_fit": null,
            "grid_auto_columns": null,
            "margin": null,
            "display": null,
            "left": null
          }
        },
        "5bbcd7a9ced64fa283f519a3854b7917": {
          "model_module": "@jupyter-widgets/controls",
          "model_name": "LabelModel",
          "model_module_version": "1.5.0",
          "state": {
            "_view_name": "LabelView",
            "style": "IPY_MODEL_8a85c7d5b6eb4772972690788a717974",
            "_dom_classes": [],
            "description": "",
            "_model_name": "LabelModel",
            "placeholder": "​",
            "_view_module": "@jupyter-widgets/controls",
            "_model_module_version": "1.5.0",
            "value": " 0.05MB of 0.05MB uploaded (0.00MB deduped)\r",
            "_view_count": null,
            "_view_module_version": "1.5.0",
            "description_tooltip": null,
            "_model_module": "@jupyter-widgets/controls",
            "layout": "IPY_MODEL_1fc50f568e1f4a7bbf5bb7a224a0515d"
          }
        },
        "7e05bf71df3742598eb1f1d2ce8e904f": {
          "model_module": "@jupyter-widgets/controls",
          "model_name": "FloatProgressModel",
          "model_module_version": "1.5.0",
          "state": {
            "_view_name": "ProgressView",
            "style": "IPY_MODEL_0975ba0f61f74502ab8f037a7689fb83",
            "_dom_classes": [],
            "description": "",
            "_model_name": "FloatProgressModel",
            "bar_style": "",
            "max": 1,
            "_view_module": "@jupyter-widgets/controls",
            "_model_module_version": "1.5.0",
            "value": 1,
            "_view_count": null,
            "_view_module_version": "1.5.0",
            "orientation": "horizontal",
            "min": 0,
            "description_tooltip": null,
            "_model_module": "@jupyter-widgets/controls",
            "layout": "IPY_MODEL_d9f3ea678ef24c9ea9631e97143b8181"
          }
        },
        "8a85c7d5b6eb4772972690788a717974": {
          "model_module": "@jupyter-widgets/controls",
          "model_name": "DescriptionStyleModel",
          "model_module_version": "1.5.0",
          "state": {
            "_view_name": "StyleView",
            "_model_name": "DescriptionStyleModel",
            "description_width": "",
            "_view_module": "@jupyter-widgets/base",
            "_model_module_version": "1.5.0",
            "_view_count": null,
            "_view_module_version": "1.2.0",
            "_model_module": "@jupyter-widgets/controls"
          }
        },
        "1fc50f568e1f4a7bbf5bb7a224a0515d": {
          "model_module": "@jupyter-widgets/base",
          "model_name": "LayoutModel",
          "model_module_version": "1.2.0",
          "state": {
            "_view_name": "LayoutView",
            "grid_template_rows": null,
            "right": null,
            "justify_content": null,
            "_view_module": "@jupyter-widgets/base",
            "overflow": null,
            "_model_module_version": "1.2.0",
            "_view_count": null,
            "flex_flow": null,
            "width": null,
            "min_width": null,
            "border": null,
            "align_items": null,
            "bottom": null,
            "_model_module": "@jupyter-widgets/base",
            "top": null,
            "grid_column": null,
            "overflow_y": null,
            "overflow_x": null,
            "grid_auto_flow": null,
            "grid_area": null,
            "grid_template_columns": null,
            "flex": null,
            "_model_name": "LayoutModel",
            "justify_items": null,
            "grid_row": null,
            "max_height": null,
            "align_content": null,
            "visibility": null,
            "align_self": null,
            "height": null,
            "min_height": null,
            "padding": null,
            "grid_auto_rows": null,
            "grid_gap": null,
            "max_width": null,
            "order": null,
            "_view_module_version": "1.2.0",
            "grid_template_areas": null,
            "object_position": null,
            "object_fit": null,
            "grid_auto_columns": null,
            "margin": null,
            "display": null,
            "left": null
          }
        },
        "0975ba0f61f74502ab8f037a7689fb83": {
          "model_module": "@jupyter-widgets/controls",
          "model_name": "ProgressStyleModel",
          "model_module_version": "1.5.0",
          "state": {
            "_view_name": "StyleView",
            "_model_name": "ProgressStyleModel",
            "description_width": "",
            "_view_module": "@jupyter-widgets/base",
            "_model_module_version": "1.5.0",
            "_view_count": null,
            "_view_module_version": "1.2.0",
            "bar_color": null,
            "_model_module": "@jupyter-widgets/controls"
          }
        },
        "d9f3ea678ef24c9ea9631e97143b8181": {
          "model_module": "@jupyter-widgets/base",
          "model_name": "LayoutModel",
          "model_module_version": "1.2.0",
          "state": {
            "_view_name": "LayoutView",
            "grid_template_rows": null,
            "right": null,
            "justify_content": null,
            "_view_module": "@jupyter-widgets/base",
            "overflow": null,
            "_model_module_version": "1.2.0",
            "_view_count": null,
            "flex_flow": null,
            "width": null,
            "min_width": null,
            "border": null,
            "align_items": null,
            "bottom": null,
            "_model_module": "@jupyter-widgets/base",
            "top": null,
            "grid_column": null,
            "overflow_y": null,
            "overflow_x": null,
            "grid_auto_flow": null,
            "grid_area": null,
            "grid_template_columns": null,
            "flex": null,
            "_model_name": "LayoutModel",
            "justify_items": null,
            "grid_row": null,
            "max_height": null,
            "align_content": null,
            "visibility": null,
            "align_self": null,
            "height": null,
            "min_height": null,
            "padding": null,
            "grid_auto_rows": null,
            "grid_gap": null,
            "max_width": null,
            "order": null,
            "_view_module_version": "1.2.0",
            "grid_template_areas": null,
            "object_position": null,
            "object_fit": null,
            "grid_auto_columns": null,
            "margin": null,
            "display": null,
            "left": null
          }
        },
        "288aef916dda41feb1e910cfc5edb19b": {
          "model_module": "@jupyter-widgets/controls",
          "model_name": "VBoxModel",
          "model_module_version": "1.5.0",
          "state": {
            "_view_name": "VBoxView",
            "_dom_classes": [],
            "_model_name": "VBoxModel",
            "_view_module": "@jupyter-widgets/controls",
            "_model_module_version": "1.5.0",
            "_view_count": null,
            "_view_module_version": "1.5.0",
            "box_style": "",
            "layout": "IPY_MODEL_5b82bb8330594551955ab593b79ef9ec",
            "_model_module": "@jupyter-widgets/controls",
            "children": [
              "IPY_MODEL_a4deed00f5eb47c2a81f17bd57ba6ccf",
              "IPY_MODEL_71152f9bf05f428fb418686be82b6ffe"
            ]
          }
        },
        "5b82bb8330594551955ab593b79ef9ec": {
          "model_module": "@jupyter-widgets/base",
          "model_name": "LayoutModel",
          "model_module_version": "1.2.0",
          "state": {
            "_view_name": "LayoutView",
            "grid_template_rows": null,
            "right": null,
            "justify_content": null,
            "_view_module": "@jupyter-widgets/base",
            "overflow": null,
            "_model_module_version": "1.2.0",
            "_view_count": null,
            "flex_flow": null,
            "width": null,
            "min_width": null,
            "border": null,
            "align_items": null,
            "bottom": null,
            "_model_module": "@jupyter-widgets/base",
            "top": null,
            "grid_column": null,
            "overflow_y": null,
            "overflow_x": null,
            "grid_auto_flow": null,
            "grid_area": null,
            "grid_template_columns": null,
            "flex": null,
            "_model_name": "LayoutModel",
            "justify_items": null,
            "grid_row": null,
            "max_height": null,
            "align_content": null,
            "visibility": null,
            "align_self": null,
            "height": null,
            "min_height": null,
            "padding": null,
            "grid_auto_rows": null,
            "grid_gap": null,
            "max_width": null,
            "order": null,
            "_view_module_version": "1.2.0",
            "grid_template_areas": null,
            "object_position": null,
            "object_fit": null,
            "grid_auto_columns": null,
            "margin": null,
            "display": null,
            "left": null
          }
        },
        "a4deed00f5eb47c2a81f17bd57ba6ccf": {
          "model_module": "@jupyter-widgets/controls",
          "model_name": "LabelModel",
          "model_module_version": "1.5.0",
          "state": {
            "_view_name": "LabelView",
            "style": "IPY_MODEL_e4276b98b63a432681b5c2fcee37ddc8",
            "_dom_classes": [],
            "description": "",
            "_model_name": "LabelModel",
            "placeholder": "​",
            "_view_module": "@jupyter-widgets/controls",
            "_model_module_version": "1.5.0",
            "value": " 0.05MB of 0.05MB uploaded (0.00MB deduped)\r",
            "_view_count": null,
            "_view_module_version": "1.5.0",
            "description_tooltip": null,
            "_model_module": "@jupyter-widgets/controls",
            "layout": "IPY_MODEL_8f2059053515435d8710ecee3680f357"
          }
        },
        "71152f9bf05f428fb418686be82b6ffe": {
          "model_module": "@jupyter-widgets/controls",
          "model_name": "FloatProgressModel",
          "model_module_version": "1.5.0",
          "state": {
            "_view_name": "ProgressView",
            "style": "IPY_MODEL_7e506a3516154b8aa859cf7f49ca4e32",
            "_dom_classes": [],
            "description": "",
            "_model_name": "FloatProgressModel",
            "bar_style": "",
            "max": 1,
            "_view_module": "@jupyter-widgets/controls",
            "_model_module_version": "1.5.0",
            "value": 1,
            "_view_count": null,
            "_view_module_version": "1.5.0",
            "orientation": "horizontal",
            "min": 0,
            "description_tooltip": null,
            "_model_module": "@jupyter-widgets/controls",
            "layout": "IPY_MODEL_1c2f04b4cdae49028c2b5fd8cff079aa"
          }
        },
        "e4276b98b63a432681b5c2fcee37ddc8": {
          "model_module": "@jupyter-widgets/controls",
          "model_name": "DescriptionStyleModel",
          "model_module_version": "1.5.0",
          "state": {
            "_view_name": "StyleView",
            "_model_name": "DescriptionStyleModel",
            "description_width": "",
            "_view_module": "@jupyter-widgets/base",
            "_model_module_version": "1.5.0",
            "_view_count": null,
            "_view_module_version": "1.2.0",
            "_model_module": "@jupyter-widgets/controls"
          }
        },
        "8f2059053515435d8710ecee3680f357": {
          "model_module": "@jupyter-widgets/base",
          "model_name": "LayoutModel",
          "model_module_version": "1.2.0",
          "state": {
            "_view_name": "LayoutView",
            "grid_template_rows": null,
            "right": null,
            "justify_content": null,
            "_view_module": "@jupyter-widgets/base",
            "overflow": null,
            "_model_module_version": "1.2.0",
            "_view_count": null,
            "flex_flow": null,
            "width": null,
            "min_width": null,
            "border": null,
            "align_items": null,
            "bottom": null,
            "_model_module": "@jupyter-widgets/base",
            "top": null,
            "grid_column": null,
            "overflow_y": null,
            "overflow_x": null,
            "grid_auto_flow": null,
            "grid_area": null,
            "grid_template_columns": null,
            "flex": null,
            "_model_name": "LayoutModel",
            "justify_items": null,
            "grid_row": null,
            "max_height": null,
            "align_content": null,
            "visibility": null,
            "align_self": null,
            "height": null,
            "min_height": null,
            "padding": null,
            "grid_auto_rows": null,
            "grid_gap": null,
            "max_width": null,
            "order": null,
            "_view_module_version": "1.2.0",
            "grid_template_areas": null,
            "object_position": null,
            "object_fit": null,
            "grid_auto_columns": null,
            "margin": null,
            "display": null,
            "left": null
          }
        },
        "7e506a3516154b8aa859cf7f49ca4e32": {
          "model_module": "@jupyter-widgets/controls",
          "model_name": "ProgressStyleModel",
          "model_module_version": "1.5.0",
          "state": {
            "_view_name": "StyleView",
            "_model_name": "ProgressStyleModel",
            "description_width": "",
            "_view_module": "@jupyter-widgets/base",
            "_model_module_version": "1.5.0",
            "_view_count": null,
            "_view_module_version": "1.2.0",
            "bar_color": null,
            "_model_module": "@jupyter-widgets/controls"
          }
        },
        "1c2f04b4cdae49028c2b5fd8cff079aa": {
          "model_module": "@jupyter-widgets/base",
          "model_name": "LayoutModel",
          "model_module_version": "1.2.0",
          "state": {
            "_view_name": "LayoutView",
            "grid_template_rows": null,
            "right": null,
            "justify_content": null,
            "_view_module": "@jupyter-widgets/base",
            "overflow": null,
            "_model_module_version": "1.2.0",
            "_view_count": null,
            "flex_flow": null,
            "width": null,
            "min_width": null,
            "border": null,
            "align_items": null,
            "bottom": null,
            "_model_module": "@jupyter-widgets/base",
            "top": null,
            "grid_column": null,
            "overflow_y": null,
            "overflow_x": null,
            "grid_auto_flow": null,
            "grid_area": null,
            "grid_template_columns": null,
            "flex": null,
            "_model_name": "LayoutModel",
            "justify_items": null,
            "grid_row": null,
            "max_height": null,
            "align_content": null,
            "visibility": null,
            "align_self": null,
            "height": null,
            "min_height": null,
            "padding": null,
            "grid_auto_rows": null,
            "grid_gap": null,
            "max_width": null,
            "order": null,
            "_view_module_version": "1.2.0",
            "grid_template_areas": null,
            "object_position": null,
            "object_fit": null,
            "grid_auto_columns": null,
            "margin": null,
            "display": null,
            "left": null
          }
        },
        "4cab043e5d734b7a8bdd22ff3b7d4720": {
          "model_module": "@jupyter-widgets/controls",
          "model_name": "VBoxModel",
          "model_module_version": "1.5.0",
          "state": {
            "_view_name": "VBoxView",
            "_dom_classes": [],
            "_model_name": "VBoxModel",
            "_view_module": "@jupyter-widgets/controls",
            "_model_module_version": "1.5.0",
            "_view_count": null,
            "_view_module_version": "1.5.0",
            "box_style": "",
            "layout": "IPY_MODEL_1c7b589fd51d4b138ff80179dafa426c",
            "_model_module": "@jupyter-widgets/controls",
            "children": [
              "IPY_MODEL_4950ab7ef1fc44119ddbd4b505aebe3a",
              "IPY_MODEL_7e09fd4d332b432a991c639c730c75a1"
            ]
          }
        },
        "1c7b589fd51d4b138ff80179dafa426c": {
          "model_module": "@jupyter-widgets/base",
          "model_name": "LayoutModel",
          "model_module_version": "1.2.0",
          "state": {
            "_view_name": "LayoutView",
            "grid_template_rows": null,
            "right": null,
            "justify_content": null,
            "_view_module": "@jupyter-widgets/base",
            "overflow": null,
            "_model_module_version": "1.2.0",
            "_view_count": null,
            "flex_flow": null,
            "width": null,
            "min_width": null,
            "border": null,
            "align_items": null,
            "bottom": null,
            "_model_module": "@jupyter-widgets/base",
            "top": null,
            "grid_column": null,
            "overflow_y": null,
            "overflow_x": null,
            "grid_auto_flow": null,
            "grid_area": null,
            "grid_template_columns": null,
            "flex": null,
            "_model_name": "LayoutModel",
            "justify_items": null,
            "grid_row": null,
            "max_height": null,
            "align_content": null,
            "visibility": null,
            "align_self": null,
            "height": null,
            "min_height": null,
            "padding": null,
            "grid_auto_rows": null,
            "grid_gap": null,
            "max_width": null,
            "order": null,
            "_view_module_version": "1.2.0",
            "grid_template_areas": null,
            "object_position": null,
            "object_fit": null,
            "grid_auto_columns": null,
            "margin": null,
            "display": null,
            "left": null
          }
        },
        "4950ab7ef1fc44119ddbd4b505aebe3a": {
          "model_module": "@jupyter-widgets/controls",
          "model_name": "LabelModel",
          "model_module_version": "1.5.0",
          "state": {
            "_view_name": "LabelView",
            "style": "IPY_MODEL_4d8d617d6e1a4f18be600c54147e29cd",
            "_dom_classes": [],
            "description": "",
            "_model_name": "LabelModel",
            "placeholder": "​",
            "_view_module": "@jupyter-widgets/controls",
            "_model_module_version": "1.5.0",
            "value": " 0.05MB of 0.05MB uploaded (0.00MB deduped)\r",
            "_view_count": null,
            "_view_module_version": "1.5.0",
            "description_tooltip": null,
            "_model_module": "@jupyter-widgets/controls",
            "layout": "IPY_MODEL_07de569526a0481f815748dcdf7c9018"
          }
        },
        "7e09fd4d332b432a991c639c730c75a1": {
          "model_module": "@jupyter-widgets/controls",
          "model_name": "FloatProgressModel",
          "model_module_version": "1.5.0",
          "state": {
            "_view_name": "ProgressView",
            "style": "IPY_MODEL_f438191944e04aff87e3fa259f5c2120",
            "_dom_classes": [],
            "description": "",
            "_model_name": "FloatProgressModel",
            "bar_style": "",
            "max": 1,
            "_view_module": "@jupyter-widgets/controls",
            "_model_module_version": "1.5.0",
            "value": 1,
            "_view_count": null,
            "_view_module_version": "1.5.0",
            "orientation": "horizontal",
            "min": 0,
            "description_tooltip": null,
            "_model_module": "@jupyter-widgets/controls",
            "layout": "IPY_MODEL_a9104394ffcc4c52bac55008f272b708"
          }
        },
        "4d8d617d6e1a4f18be600c54147e29cd": {
          "model_module": "@jupyter-widgets/controls",
          "model_name": "DescriptionStyleModel",
          "model_module_version": "1.5.0",
          "state": {
            "_view_name": "StyleView",
            "_model_name": "DescriptionStyleModel",
            "description_width": "",
            "_view_module": "@jupyter-widgets/base",
            "_model_module_version": "1.5.0",
            "_view_count": null,
            "_view_module_version": "1.2.0",
            "_model_module": "@jupyter-widgets/controls"
          }
        },
        "07de569526a0481f815748dcdf7c9018": {
          "model_module": "@jupyter-widgets/base",
          "model_name": "LayoutModel",
          "model_module_version": "1.2.0",
          "state": {
            "_view_name": "LayoutView",
            "grid_template_rows": null,
            "right": null,
            "justify_content": null,
            "_view_module": "@jupyter-widgets/base",
            "overflow": null,
            "_model_module_version": "1.2.0",
            "_view_count": null,
            "flex_flow": null,
            "width": null,
            "min_width": null,
            "border": null,
            "align_items": null,
            "bottom": null,
            "_model_module": "@jupyter-widgets/base",
            "top": null,
            "grid_column": null,
            "overflow_y": null,
            "overflow_x": null,
            "grid_auto_flow": null,
            "grid_area": null,
            "grid_template_columns": null,
            "flex": null,
            "_model_name": "LayoutModel",
            "justify_items": null,
            "grid_row": null,
            "max_height": null,
            "align_content": null,
            "visibility": null,
            "align_self": null,
            "height": null,
            "min_height": null,
            "padding": null,
            "grid_auto_rows": null,
            "grid_gap": null,
            "max_width": null,
            "order": null,
            "_view_module_version": "1.2.0",
            "grid_template_areas": null,
            "object_position": null,
            "object_fit": null,
            "grid_auto_columns": null,
            "margin": null,
            "display": null,
            "left": null
          }
        },
        "f438191944e04aff87e3fa259f5c2120": {
          "model_module": "@jupyter-widgets/controls",
          "model_name": "ProgressStyleModel",
          "model_module_version": "1.5.0",
          "state": {
            "_view_name": "StyleView",
            "_model_name": "ProgressStyleModel",
            "description_width": "",
            "_view_module": "@jupyter-widgets/base",
            "_model_module_version": "1.5.0",
            "_view_count": null,
            "_view_module_version": "1.2.0",
            "bar_color": null,
            "_model_module": "@jupyter-widgets/controls"
          }
        },
        "a9104394ffcc4c52bac55008f272b708": {
          "model_module": "@jupyter-widgets/base",
          "model_name": "LayoutModel",
          "model_module_version": "1.2.0",
          "state": {
            "_view_name": "LayoutView",
            "grid_template_rows": null,
            "right": null,
            "justify_content": null,
            "_view_module": "@jupyter-widgets/base",
            "overflow": null,
            "_model_module_version": "1.2.0",
            "_view_count": null,
            "flex_flow": null,
            "width": null,
            "min_width": null,
            "border": null,
            "align_items": null,
            "bottom": null,
            "_model_module": "@jupyter-widgets/base",
            "top": null,
            "grid_column": null,
            "overflow_y": null,
            "overflow_x": null,
            "grid_auto_flow": null,
            "grid_area": null,
            "grid_template_columns": null,
            "flex": null,
            "_model_name": "LayoutModel",
            "justify_items": null,
            "grid_row": null,
            "max_height": null,
            "align_content": null,
            "visibility": null,
            "align_self": null,
            "height": null,
            "min_height": null,
            "padding": null,
            "grid_auto_rows": null,
            "grid_gap": null,
            "max_width": null,
            "order": null,
            "_view_module_version": "1.2.0",
            "grid_template_areas": null,
            "object_position": null,
            "object_fit": null,
            "grid_auto_columns": null,
            "margin": null,
            "display": null,
            "left": null
          }
        },
        "b7c3b6d2687942d1b91b793665a9df94": {
          "model_module": "@jupyter-widgets/controls",
          "model_name": "VBoxModel",
          "model_module_version": "1.5.0",
          "state": {
            "_view_name": "VBoxView",
            "_dom_classes": [],
            "_model_name": "VBoxModel",
            "_view_module": "@jupyter-widgets/controls",
            "_model_module_version": "1.5.0",
            "_view_count": null,
            "_view_module_version": "1.5.0",
            "box_style": "",
            "layout": "IPY_MODEL_3599467862bc4a89bf8ecebaaa678219",
            "_model_module": "@jupyter-widgets/controls",
            "children": [
              "IPY_MODEL_58b3e21a7df046308220ab8d58a5f1a5",
              "IPY_MODEL_614a082cdf504d52a478418ae859a8a6"
            ]
          }
        },
        "3599467862bc4a89bf8ecebaaa678219": {
          "model_module": "@jupyter-widgets/base",
          "model_name": "LayoutModel",
          "model_module_version": "1.2.0",
          "state": {
            "_view_name": "LayoutView",
            "grid_template_rows": null,
            "right": null,
            "justify_content": null,
            "_view_module": "@jupyter-widgets/base",
            "overflow": null,
            "_model_module_version": "1.2.0",
            "_view_count": null,
            "flex_flow": null,
            "width": null,
            "min_width": null,
            "border": null,
            "align_items": null,
            "bottom": null,
            "_model_module": "@jupyter-widgets/base",
            "top": null,
            "grid_column": null,
            "overflow_y": null,
            "overflow_x": null,
            "grid_auto_flow": null,
            "grid_area": null,
            "grid_template_columns": null,
            "flex": null,
            "_model_name": "LayoutModel",
            "justify_items": null,
            "grid_row": null,
            "max_height": null,
            "align_content": null,
            "visibility": null,
            "align_self": null,
            "height": null,
            "min_height": null,
            "padding": null,
            "grid_auto_rows": null,
            "grid_gap": null,
            "max_width": null,
            "order": null,
            "_view_module_version": "1.2.0",
            "grid_template_areas": null,
            "object_position": null,
            "object_fit": null,
            "grid_auto_columns": null,
            "margin": null,
            "display": null,
            "left": null
          }
        },
        "58b3e21a7df046308220ab8d58a5f1a5": {
          "model_module": "@jupyter-widgets/controls",
          "model_name": "LabelModel",
          "model_module_version": "1.5.0",
          "state": {
            "_view_name": "LabelView",
            "style": "IPY_MODEL_ae2af20c1ee74fee8722ebf6d32dc61c",
            "_dom_classes": [],
            "description": "",
            "_model_name": "LabelModel",
            "placeholder": "​",
            "_view_module": "@jupyter-widgets/controls",
            "_model_module_version": "1.5.0",
            "value": " 0.05MB of 0.05MB uploaded (0.00MB deduped)\r",
            "_view_count": null,
            "_view_module_version": "1.5.0",
            "description_tooltip": null,
            "_model_module": "@jupyter-widgets/controls",
            "layout": "IPY_MODEL_ccf8ff5da2ee4373a6ec5104ffda7fac"
          }
        },
        "614a082cdf504d52a478418ae859a8a6": {
          "model_module": "@jupyter-widgets/controls",
          "model_name": "FloatProgressModel",
          "model_module_version": "1.5.0",
          "state": {
            "_view_name": "ProgressView",
            "style": "IPY_MODEL_9f3ed333cbad45b2b8ae6250956a6f50",
            "_dom_classes": [],
            "description": "",
            "_model_name": "FloatProgressModel",
            "bar_style": "",
            "max": 1,
            "_view_module": "@jupyter-widgets/controls",
            "_model_module_version": "1.5.0",
            "value": 1,
            "_view_count": null,
            "_view_module_version": "1.5.0",
            "orientation": "horizontal",
            "min": 0,
            "description_tooltip": null,
            "_model_module": "@jupyter-widgets/controls",
            "layout": "IPY_MODEL_de0209f75ba04bc2a395b89714bcb3fe"
          }
        },
        "ae2af20c1ee74fee8722ebf6d32dc61c": {
          "model_module": "@jupyter-widgets/controls",
          "model_name": "DescriptionStyleModel",
          "model_module_version": "1.5.0",
          "state": {
            "_view_name": "StyleView",
            "_model_name": "DescriptionStyleModel",
            "description_width": "",
            "_view_module": "@jupyter-widgets/base",
            "_model_module_version": "1.5.0",
            "_view_count": null,
            "_view_module_version": "1.2.0",
            "_model_module": "@jupyter-widgets/controls"
          }
        },
        "ccf8ff5da2ee4373a6ec5104ffda7fac": {
          "model_module": "@jupyter-widgets/base",
          "model_name": "LayoutModel",
          "model_module_version": "1.2.0",
          "state": {
            "_view_name": "LayoutView",
            "grid_template_rows": null,
            "right": null,
            "justify_content": null,
            "_view_module": "@jupyter-widgets/base",
            "overflow": null,
            "_model_module_version": "1.2.0",
            "_view_count": null,
            "flex_flow": null,
            "width": null,
            "min_width": null,
            "border": null,
            "align_items": null,
            "bottom": null,
            "_model_module": "@jupyter-widgets/base",
            "top": null,
            "grid_column": null,
            "overflow_y": null,
            "overflow_x": null,
            "grid_auto_flow": null,
            "grid_area": null,
            "grid_template_columns": null,
            "flex": null,
            "_model_name": "LayoutModel",
            "justify_items": null,
            "grid_row": null,
            "max_height": null,
            "align_content": null,
            "visibility": null,
            "align_self": null,
            "height": null,
            "min_height": null,
            "padding": null,
            "grid_auto_rows": null,
            "grid_gap": null,
            "max_width": null,
            "order": null,
            "_view_module_version": "1.2.0",
            "grid_template_areas": null,
            "object_position": null,
            "object_fit": null,
            "grid_auto_columns": null,
            "margin": null,
            "display": null,
            "left": null
          }
        },
        "9f3ed333cbad45b2b8ae6250956a6f50": {
          "model_module": "@jupyter-widgets/controls",
          "model_name": "ProgressStyleModel",
          "model_module_version": "1.5.0",
          "state": {
            "_view_name": "StyleView",
            "_model_name": "ProgressStyleModel",
            "description_width": "",
            "_view_module": "@jupyter-widgets/base",
            "_model_module_version": "1.5.0",
            "_view_count": null,
            "_view_module_version": "1.2.0",
            "bar_color": null,
            "_model_module": "@jupyter-widgets/controls"
          }
        },
        "de0209f75ba04bc2a395b89714bcb3fe": {
          "model_module": "@jupyter-widgets/base",
          "model_name": "LayoutModel",
          "model_module_version": "1.2.0",
          "state": {
            "_view_name": "LayoutView",
            "grid_template_rows": null,
            "right": null,
            "justify_content": null,
            "_view_module": "@jupyter-widgets/base",
            "overflow": null,
            "_model_module_version": "1.2.0",
            "_view_count": null,
            "flex_flow": null,
            "width": null,
            "min_width": null,
            "border": null,
            "align_items": null,
            "bottom": null,
            "_model_module": "@jupyter-widgets/base",
            "top": null,
            "grid_column": null,
            "overflow_y": null,
            "overflow_x": null,
            "grid_auto_flow": null,
            "grid_area": null,
            "grid_template_columns": null,
            "flex": null,
            "_model_name": "LayoutModel",
            "justify_items": null,
            "grid_row": null,
            "max_height": null,
            "align_content": null,
            "visibility": null,
            "align_self": null,
            "height": null,
            "min_height": null,
            "padding": null,
            "grid_auto_rows": null,
            "grid_gap": null,
            "max_width": null,
            "order": null,
            "_view_module_version": "1.2.0",
            "grid_template_areas": null,
            "object_position": null,
            "object_fit": null,
            "grid_auto_columns": null,
            "margin": null,
            "display": null,
            "left": null
          }
        },
        "1bea4dcea6d5413fbb80adc251adb455": {
          "model_module": "@jupyter-widgets/controls",
          "model_name": "VBoxModel",
          "model_module_version": "1.5.0",
          "state": {
            "_view_name": "VBoxView",
            "_dom_classes": [],
            "_model_name": "VBoxModel",
            "_view_module": "@jupyter-widgets/controls",
            "_model_module_version": "1.5.0",
            "_view_count": null,
            "_view_module_version": "1.5.0",
            "box_style": "",
            "layout": "IPY_MODEL_301b51485b6f4ff79095afff1af8461e",
            "_model_module": "@jupyter-widgets/controls",
            "children": [
              "IPY_MODEL_6f8085e5b0eb4343932ecda69ae7cecf",
              "IPY_MODEL_f78ad9715d244ec393f2aa0f83993a3a"
            ]
          }
        },
        "301b51485b6f4ff79095afff1af8461e": {
          "model_module": "@jupyter-widgets/base",
          "model_name": "LayoutModel",
          "model_module_version": "1.2.0",
          "state": {
            "_view_name": "LayoutView",
            "grid_template_rows": null,
            "right": null,
            "justify_content": null,
            "_view_module": "@jupyter-widgets/base",
            "overflow": null,
            "_model_module_version": "1.2.0",
            "_view_count": null,
            "flex_flow": null,
            "width": null,
            "min_width": null,
            "border": null,
            "align_items": null,
            "bottom": null,
            "_model_module": "@jupyter-widgets/base",
            "top": null,
            "grid_column": null,
            "overflow_y": null,
            "overflow_x": null,
            "grid_auto_flow": null,
            "grid_area": null,
            "grid_template_columns": null,
            "flex": null,
            "_model_name": "LayoutModel",
            "justify_items": null,
            "grid_row": null,
            "max_height": null,
            "align_content": null,
            "visibility": null,
            "align_self": null,
            "height": null,
            "min_height": null,
            "padding": null,
            "grid_auto_rows": null,
            "grid_gap": null,
            "max_width": null,
            "order": null,
            "_view_module_version": "1.2.0",
            "grid_template_areas": null,
            "object_position": null,
            "object_fit": null,
            "grid_auto_columns": null,
            "margin": null,
            "display": null,
            "left": null
          }
        },
        "6f8085e5b0eb4343932ecda69ae7cecf": {
          "model_module": "@jupyter-widgets/controls",
          "model_name": "LabelModel",
          "model_module_version": "1.5.0",
          "state": {
            "_view_name": "LabelView",
            "style": "IPY_MODEL_3ede9780ad6a40ee951e779f7b091f97",
            "_dom_classes": [],
            "description": "",
            "_model_name": "LabelModel",
            "placeholder": "​",
            "_view_module": "@jupyter-widgets/controls",
            "_model_module_version": "1.5.0",
            "value": " 0.05MB of 0.05MB uploaded (0.00MB deduped)\r",
            "_view_count": null,
            "_view_module_version": "1.5.0",
            "description_tooltip": null,
            "_model_module": "@jupyter-widgets/controls",
            "layout": "IPY_MODEL_a3f840d091914603aaa18d2f1c99fc81"
          }
        },
        "f78ad9715d244ec393f2aa0f83993a3a": {
          "model_module": "@jupyter-widgets/controls",
          "model_name": "FloatProgressModel",
          "model_module_version": "1.5.0",
          "state": {
            "_view_name": "ProgressView",
            "style": "IPY_MODEL_a3eecab198914abbbf76c19f64a27086",
            "_dom_classes": [],
            "description": "",
            "_model_name": "FloatProgressModel",
            "bar_style": "",
            "max": 1,
            "_view_module": "@jupyter-widgets/controls",
            "_model_module_version": "1.5.0",
            "value": 1,
            "_view_count": null,
            "_view_module_version": "1.5.0",
            "orientation": "horizontal",
            "min": 0,
            "description_tooltip": null,
            "_model_module": "@jupyter-widgets/controls",
            "layout": "IPY_MODEL_1d18bf6d782b49a38b5d4923e050e120"
          }
        },
        "3ede9780ad6a40ee951e779f7b091f97": {
          "model_module": "@jupyter-widgets/controls",
          "model_name": "DescriptionStyleModel",
          "model_module_version": "1.5.0",
          "state": {
            "_view_name": "StyleView",
            "_model_name": "DescriptionStyleModel",
            "description_width": "",
            "_view_module": "@jupyter-widgets/base",
            "_model_module_version": "1.5.0",
            "_view_count": null,
            "_view_module_version": "1.2.0",
            "_model_module": "@jupyter-widgets/controls"
          }
        },
        "a3f840d091914603aaa18d2f1c99fc81": {
          "model_module": "@jupyter-widgets/base",
          "model_name": "LayoutModel",
          "model_module_version": "1.2.0",
          "state": {
            "_view_name": "LayoutView",
            "grid_template_rows": null,
            "right": null,
            "justify_content": null,
            "_view_module": "@jupyter-widgets/base",
            "overflow": null,
            "_model_module_version": "1.2.0",
            "_view_count": null,
            "flex_flow": null,
            "width": null,
            "min_width": null,
            "border": null,
            "align_items": null,
            "bottom": null,
            "_model_module": "@jupyter-widgets/base",
            "top": null,
            "grid_column": null,
            "overflow_y": null,
            "overflow_x": null,
            "grid_auto_flow": null,
            "grid_area": null,
            "grid_template_columns": null,
            "flex": null,
            "_model_name": "LayoutModel",
            "justify_items": null,
            "grid_row": null,
            "max_height": null,
            "align_content": null,
            "visibility": null,
            "align_self": null,
            "height": null,
            "min_height": null,
            "padding": null,
            "grid_auto_rows": null,
            "grid_gap": null,
            "max_width": null,
            "order": null,
            "_view_module_version": "1.2.0",
            "grid_template_areas": null,
            "object_position": null,
            "object_fit": null,
            "grid_auto_columns": null,
            "margin": null,
            "display": null,
            "left": null
          }
        },
        "a3eecab198914abbbf76c19f64a27086": {
          "model_module": "@jupyter-widgets/controls",
          "model_name": "ProgressStyleModel",
          "model_module_version": "1.5.0",
          "state": {
            "_view_name": "StyleView",
            "_model_name": "ProgressStyleModel",
            "description_width": "",
            "_view_module": "@jupyter-widgets/base",
            "_model_module_version": "1.5.0",
            "_view_count": null,
            "_view_module_version": "1.2.0",
            "bar_color": null,
            "_model_module": "@jupyter-widgets/controls"
          }
        },
        "1d18bf6d782b49a38b5d4923e050e120": {
          "model_module": "@jupyter-widgets/base",
          "model_name": "LayoutModel",
          "model_module_version": "1.2.0",
          "state": {
            "_view_name": "LayoutView",
            "grid_template_rows": null,
            "right": null,
            "justify_content": null,
            "_view_module": "@jupyter-widgets/base",
            "overflow": null,
            "_model_module_version": "1.2.0",
            "_view_count": null,
            "flex_flow": null,
            "width": null,
            "min_width": null,
            "border": null,
            "align_items": null,
            "bottom": null,
            "_model_module": "@jupyter-widgets/base",
            "top": null,
            "grid_column": null,
            "overflow_y": null,
            "overflow_x": null,
            "grid_auto_flow": null,
            "grid_area": null,
            "grid_template_columns": null,
            "flex": null,
            "_model_name": "LayoutModel",
            "justify_items": null,
            "grid_row": null,
            "max_height": null,
            "align_content": null,
            "visibility": null,
            "align_self": null,
            "height": null,
            "min_height": null,
            "padding": null,
            "grid_auto_rows": null,
            "grid_gap": null,
            "max_width": null,
            "order": null,
            "_view_module_version": "1.2.0",
            "grid_template_areas": null,
            "object_position": null,
            "object_fit": null,
            "grid_auto_columns": null,
            "margin": null,
            "display": null,
            "left": null
          }
        },
        "4670dc456514474c88c4625b6ecfbb3f": {
          "model_module": "@jupyter-widgets/controls",
          "model_name": "VBoxModel",
          "model_module_version": "1.5.0",
          "state": {
            "_view_name": "VBoxView",
            "_dom_classes": [],
            "_model_name": "VBoxModel",
            "_view_module": "@jupyter-widgets/controls",
            "_model_module_version": "1.5.0",
            "_view_count": null,
            "_view_module_version": "1.5.0",
            "box_style": "",
            "layout": "IPY_MODEL_3ed1d9b5b0884fc788c36694ec21926a",
            "_model_module": "@jupyter-widgets/controls",
            "children": [
              "IPY_MODEL_8c5a357818fd4c23ae7e825dcca488f4",
              "IPY_MODEL_0721617711c9471ea83294137af743b2"
            ]
          }
        },
        "3ed1d9b5b0884fc788c36694ec21926a": {
          "model_module": "@jupyter-widgets/base",
          "model_name": "LayoutModel",
          "model_module_version": "1.2.0",
          "state": {
            "_view_name": "LayoutView",
            "grid_template_rows": null,
            "right": null,
            "justify_content": null,
            "_view_module": "@jupyter-widgets/base",
            "overflow": null,
            "_model_module_version": "1.2.0",
            "_view_count": null,
            "flex_flow": null,
            "width": null,
            "min_width": null,
            "border": null,
            "align_items": null,
            "bottom": null,
            "_model_module": "@jupyter-widgets/base",
            "top": null,
            "grid_column": null,
            "overflow_y": null,
            "overflow_x": null,
            "grid_auto_flow": null,
            "grid_area": null,
            "grid_template_columns": null,
            "flex": null,
            "_model_name": "LayoutModel",
            "justify_items": null,
            "grid_row": null,
            "max_height": null,
            "align_content": null,
            "visibility": null,
            "align_self": null,
            "height": null,
            "min_height": null,
            "padding": null,
            "grid_auto_rows": null,
            "grid_gap": null,
            "max_width": null,
            "order": null,
            "_view_module_version": "1.2.0",
            "grid_template_areas": null,
            "object_position": null,
            "object_fit": null,
            "grid_auto_columns": null,
            "margin": null,
            "display": null,
            "left": null
          }
        },
        "8c5a357818fd4c23ae7e825dcca488f4": {
          "model_module": "@jupyter-widgets/controls",
          "model_name": "LabelModel",
          "model_module_version": "1.5.0",
          "state": {
            "_view_name": "LabelView",
            "style": "IPY_MODEL_aaeaa9095bd549d4a4ab056a70e84339",
            "_dom_classes": [],
            "description": "",
            "_model_name": "LabelModel",
            "placeholder": "​",
            "_view_module": "@jupyter-widgets/controls",
            "_model_module_version": "1.5.0",
            "value": " 0.05MB of 0.05MB uploaded (0.00MB deduped)\r",
            "_view_count": null,
            "_view_module_version": "1.5.0",
            "description_tooltip": null,
            "_model_module": "@jupyter-widgets/controls",
            "layout": "IPY_MODEL_7339e3096e4245e6965a4e245aa5f584"
          }
        },
        "0721617711c9471ea83294137af743b2": {
          "model_module": "@jupyter-widgets/controls",
          "model_name": "FloatProgressModel",
          "model_module_version": "1.5.0",
          "state": {
            "_view_name": "ProgressView",
            "style": "IPY_MODEL_0d15c5fecdc5437d9d299f35f26cde74",
            "_dom_classes": [],
            "description": "",
            "_model_name": "FloatProgressModel",
            "bar_style": "",
            "max": 1,
            "_view_module": "@jupyter-widgets/controls",
            "_model_module_version": "1.5.0",
            "value": 1,
            "_view_count": null,
            "_view_module_version": "1.5.0",
            "orientation": "horizontal",
            "min": 0,
            "description_tooltip": null,
            "_model_module": "@jupyter-widgets/controls",
            "layout": "IPY_MODEL_5170b1ee08fb4808917e28b852c876ee"
          }
        },
        "aaeaa9095bd549d4a4ab056a70e84339": {
          "model_module": "@jupyter-widgets/controls",
          "model_name": "DescriptionStyleModel",
          "model_module_version": "1.5.0",
          "state": {
            "_view_name": "StyleView",
            "_model_name": "DescriptionStyleModel",
            "description_width": "",
            "_view_module": "@jupyter-widgets/base",
            "_model_module_version": "1.5.0",
            "_view_count": null,
            "_view_module_version": "1.2.0",
            "_model_module": "@jupyter-widgets/controls"
          }
        },
        "7339e3096e4245e6965a4e245aa5f584": {
          "model_module": "@jupyter-widgets/base",
          "model_name": "LayoutModel",
          "model_module_version": "1.2.0",
          "state": {
            "_view_name": "LayoutView",
            "grid_template_rows": null,
            "right": null,
            "justify_content": null,
            "_view_module": "@jupyter-widgets/base",
            "overflow": null,
            "_model_module_version": "1.2.0",
            "_view_count": null,
            "flex_flow": null,
            "width": null,
            "min_width": null,
            "border": null,
            "align_items": null,
            "bottom": null,
            "_model_module": "@jupyter-widgets/base",
            "top": null,
            "grid_column": null,
            "overflow_y": null,
            "overflow_x": null,
            "grid_auto_flow": null,
            "grid_area": null,
            "grid_template_columns": null,
            "flex": null,
            "_model_name": "LayoutModel",
            "justify_items": null,
            "grid_row": null,
            "max_height": null,
            "align_content": null,
            "visibility": null,
            "align_self": null,
            "height": null,
            "min_height": null,
            "padding": null,
            "grid_auto_rows": null,
            "grid_gap": null,
            "max_width": null,
            "order": null,
            "_view_module_version": "1.2.0",
            "grid_template_areas": null,
            "object_position": null,
            "object_fit": null,
            "grid_auto_columns": null,
            "margin": null,
            "display": null,
            "left": null
          }
        },
        "0d15c5fecdc5437d9d299f35f26cde74": {
          "model_module": "@jupyter-widgets/controls",
          "model_name": "ProgressStyleModel",
          "model_module_version": "1.5.0",
          "state": {
            "_view_name": "StyleView",
            "_model_name": "ProgressStyleModel",
            "description_width": "",
            "_view_module": "@jupyter-widgets/base",
            "_model_module_version": "1.5.0",
            "_view_count": null,
            "_view_module_version": "1.2.0",
            "bar_color": null,
            "_model_module": "@jupyter-widgets/controls"
          }
        },
        "5170b1ee08fb4808917e28b852c876ee": {
          "model_module": "@jupyter-widgets/base",
          "model_name": "LayoutModel",
          "model_module_version": "1.2.0",
          "state": {
            "_view_name": "LayoutView",
            "grid_template_rows": null,
            "right": null,
            "justify_content": null,
            "_view_module": "@jupyter-widgets/base",
            "overflow": null,
            "_model_module_version": "1.2.0",
            "_view_count": null,
            "flex_flow": null,
            "width": null,
            "min_width": null,
            "border": null,
            "align_items": null,
            "bottom": null,
            "_model_module": "@jupyter-widgets/base",
            "top": null,
            "grid_column": null,
            "overflow_y": null,
            "overflow_x": null,
            "grid_auto_flow": null,
            "grid_area": null,
            "grid_template_columns": null,
            "flex": null,
            "_model_name": "LayoutModel",
            "justify_items": null,
            "grid_row": null,
            "max_height": null,
            "align_content": null,
            "visibility": null,
            "align_self": null,
            "height": null,
            "min_height": null,
            "padding": null,
            "grid_auto_rows": null,
            "grid_gap": null,
            "max_width": null,
            "order": null,
            "_view_module_version": "1.2.0",
            "grid_template_areas": null,
            "object_position": null,
            "object_fit": null,
            "grid_auto_columns": null,
            "margin": null,
            "display": null,
            "left": null
          }
        },
        "b050eb459716420ca01d2b770edf1692": {
          "model_module": "@jupyter-widgets/controls",
          "model_name": "VBoxModel",
          "model_module_version": "1.5.0",
          "state": {
            "_view_name": "VBoxView",
            "_dom_classes": [],
            "_model_name": "VBoxModel",
            "_view_module": "@jupyter-widgets/controls",
            "_model_module_version": "1.5.0",
            "_view_count": null,
            "_view_module_version": "1.5.0",
            "box_style": "",
            "layout": "IPY_MODEL_8cca0b1787a84e7b985c5ddd83eb8198",
            "_model_module": "@jupyter-widgets/controls",
            "children": [
              "IPY_MODEL_aca2c91fc40542718f48fb7fc8cecdcd",
              "IPY_MODEL_f263bc7f5cc3415fa8a3f7f98299f982"
            ]
          }
        },
        "8cca0b1787a84e7b985c5ddd83eb8198": {
          "model_module": "@jupyter-widgets/base",
          "model_name": "LayoutModel",
          "model_module_version": "1.2.0",
          "state": {
            "_view_name": "LayoutView",
            "grid_template_rows": null,
            "right": null,
            "justify_content": null,
            "_view_module": "@jupyter-widgets/base",
            "overflow": null,
            "_model_module_version": "1.2.0",
            "_view_count": null,
            "flex_flow": null,
            "width": null,
            "min_width": null,
            "border": null,
            "align_items": null,
            "bottom": null,
            "_model_module": "@jupyter-widgets/base",
            "top": null,
            "grid_column": null,
            "overflow_y": null,
            "overflow_x": null,
            "grid_auto_flow": null,
            "grid_area": null,
            "grid_template_columns": null,
            "flex": null,
            "_model_name": "LayoutModel",
            "justify_items": null,
            "grid_row": null,
            "max_height": null,
            "align_content": null,
            "visibility": null,
            "align_self": null,
            "height": null,
            "min_height": null,
            "padding": null,
            "grid_auto_rows": null,
            "grid_gap": null,
            "max_width": null,
            "order": null,
            "_view_module_version": "1.2.0",
            "grid_template_areas": null,
            "object_position": null,
            "object_fit": null,
            "grid_auto_columns": null,
            "margin": null,
            "display": null,
            "left": null
          }
        },
        "aca2c91fc40542718f48fb7fc8cecdcd": {
          "model_module": "@jupyter-widgets/controls",
          "model_name": "LabelModel",
          "model_module_version": "1.5.0",
          "state": {
            "_view_name": "LabelView",
            "style": "IPY_MODEL_10bb541880484a6faffd40307054e89b",
            "_dom_classes": [],
            "description": "",
            "_model_name": "LabelModel",
            "placeholder": "​",
            "_view_module": "@jupyter-widgets/controls",
            "_model_module_version": "1.5.0",
            "value": " 0.05MB of 0.05MB uploaded (0.00MB deduped)\r",
            "_view_count": null,
            "_view_module_version": "1.5.0",
            "description_tooltip": null,
            "_model_module": "@jupyter-widgets/controls",
            "layout": "IPY_MODEL_a0208aacd322469f9e51dc1300a073ac"
          }
        },
        "f263bc7f5cc3415fa8a3f7f98299f982": {
          "model_module": "@jupyter-widgets/controls",
          "model_name": "FloatProgressModel",
          "model_module_version": "1.5.0",
          "state": {
            "_view_name": "ProgressView",
            "style": "IPY_MODEL_3115e25a3baa4ba38cee86c512e38ba7",
            "_dom_classes": [],
            "description": "",
            "_model_name": "FloatProgressModel",
            "bar_style": "",
            "max": 1,
            "_view_module": "@jupyter-widgets/controls",
            "_model_module_version": "1.5.0",
            "value": 1,
            "_view_count": null,
            "_view_module_version": "1.5.0",
            "orientation": "horizontal",
            "min": 0,
            "description_tooltip": null,
            "_model_module": "@jupyter-widgets/controls",
            "layout": "IPY_MODEL_f7d1c63975cd47478a1b4f2688b30f32"
          }
        },
        "10bb541880484a6faffd40307054e89b": {
          "model_module": "@jupyter-widgets/controls",
          "model_name": "DescriptionStyleModel",
          "model_module_version": "1.5.0",
          "state": {
            "_view_name": "StyleView",
            "_model_name": "DescriptionStyleModel",
            "description_width": "",
            "_view_module": "@jupyter-widgets/base",
            "_model_module_version": "1.5.0",
            "_view_count": null,
            "_view_module_version": "1.2.0",
            "_model_module": "@jupyter-widgets/controls"
          }
        },
        "a0208aacd322469f9e51dc1300a073ac": {
          "model_module": "@jupyter-widgets/base",
          "model_name": "LayoutModel",
          "model_module_version": "1.2.0",
          "state": {
            "_view_name": "LayoutView",
            "grid_template_rows": null,
            "right": null,
            "justify_content": null,
            "_view_module": "@jupyter-widgets/base",
            "overflow": null,
            "_model_module_version": "1.2.0",
            "_view_count": null,
            "flex_flow": null,
            "width": null,
            "min_width": null,
            "border": null,
            "align_items": null,
            "bottom": null,
            "_model_module": "@jupyter-widgets/base",
            "top": null,
            "grid_column": null,
            "overflow_y": null,
            "overflow_x": null,
            "grid_auto_flow": null,
            "grid_area": null,
            "grid_template_columns": null,
            "flex": null,
            "_model_name": "LayoutModel",
            "justify_items": null,
            "grid_row": null,
            "max_height": null,
            "align_content": null,
            "visibility": null,
            "align_self": null,
            "height": null,
            "min_height": null,
            "padding": null,
            "grid_auto_rows": null,
            "grid_gap": null,
            "max_width": null,
            "order": null,
            "_view_module_version": "1.2.0",
            "grid_template_areas": null,
            "object_position": null,
            "object_fit": null,
            "grid_auto_columns": null,
            "margin": null,
            "display": null,
            "left": null
          }
        },
        "3115e25a3baa4ba38cee86c512e38ba7": {
          "model_module": "@jupyter-widgets/controls",
          "model_name": "ProgressStyleModel",
          "model_module_version": "1.5.0",
          "state": {
            "_view_name": "StyleView",
            "_model_name": "ProgressStyleModel",
            "description_width": "",
            "_view_module": "@jupyter-widgets/base",
            "_model_module_version": "1.5.0",
            "_view_count": null,
            "_view_module_version": "1.2.0",
            "bar_color": null,
            "_model_module": "@jupyter-widgets/controls"
          }
        },
        "f7d1c63975cd47478a1b4f2688b30f32": {
          "model_module": "@jupyter-widgets/base",
          "model_name": "LayoutModel",
          "model_module_version": "1.2.0",
          "state": {
            "_view_name": "LayoutView",
            "grid_template_rows": null,
            "right": null,
            "justify_content": null,
            "_view_module": "@jupyter-widgets/base",
            "overflow": null,
            "_model_module_version": "1.2.0",
            "_view_count": null,
            "flex_flow": null,
            "width": null,
            "min_width": null,
            "border": null,
            "align_items": null,
            "bottom": null,
            "_model_module": "@jupyter-widgets/base",
            "top": null,
            "grid_column": null,
            "overflow_y": null,
            "overflow_x": null,
            "grid_auto_flow": null,
            "grid_area": null,
            "grid_template_columns": null,
            "flex": null,
            "_model_name": "LayoutModel",
            "justify_items": null,
            "grid_row": null,
            "max_height": null,
            "align_content": null,
            "visibility": null,
            "align_self": null,
            "height": null,
            "min_height": null,
            "padding": null,
            "grid_auto_rows": null,
            "grid_gap": null,
            "max_width": null,
            "order": null,
            "_view_module_version": "1.2.0",
            "grid_template_areas": null,
            "object_position": null,
            "object_fit": null,
            "grid_auto_columns": null,
            "margin": null,
            "display": null,
            "left": null
          }
        },
        "6a39bc8f92264866b7993098667c026b": {
          "model_module": "@jupyter-widgets/controls",
          "model_name": "VBoxModel",
          "model_module_version": "1.5.0",
          "state": {
            "_view_name": "VBoxView",
            "_dom_classes": [],
            "_model_name": "VBoxModel",
            "_view_module": "@jupyter-widgets/controls",
            "_model_module_version": "1.5.0",
            "_view_count": null,
            "_view_module_version": "1.5.0",
            "box_style": "",
            "layout": "IPY_MODEL_6d682496ff2141ad97f8f2be9bf5cc79",
            "_model_module": "@jupyter-widgets/controls",
            "children": [
              "IPY_MODEL_ae4f1f3f3761427a818b085e9cfeeb5e",
              "IPY_MODEL_840f4dd1e3d44edd908f5da86aefb0ef"
            ]
          }
        },
        "6d682496ff2141ad97f8f2be9bf5cc79": {
          "model_module": "@jupyter-widgets/base",
          "model_name": "LayoutModel",
          "model_module_version": "1.2.0",
          "state": {
            "_view_name": "LayoutView",
            "grid_template_rows": null,
            "right": null,
            "justify_content": null,
            "_view_module": "@jupyter-widgets/base",
            "overflow": null,
            "_model_module_version": "1.2.0",
            "_view_count": null,
            "flex_flow": null,
            "width": null,
            "min_width": null,
            "border": null,
            "align_items": null,
            "bottom": null,
            "_model_module": "@jupyter-widgets/base",
            "top": null,
            "grid_column": null,
            "overflow_y": null,
            "overflow_x": null,
            "grid_auto_flow": null,
            "grid_area": null,
            "grid_template_columns": null,
            "flex": null,
            "_model_name": "LayoutModel",
            "justify_items": null,
            "grid_row": null,
            "max_height": null,
            "align_content": null,
            "visibility": null,
            "align_self": null,
            "height": null,
            "min_height": null,
            "padding": null,
            "grid_auto_rows": null,
            "grid_gap": null,
            "max_width": null,
            "order": null,
            "_view_module_version": "1.2.0",
            "grid_template_areas": null,
            "object_position": null,
            "object_fit": null,
            "grid_auto_columns": null,
            "margin": null,
            "display": null,
            "left": null
          }
        },
        "ae4f1f3f3761427a818b085e9cfeeb5e": {
          "model_module": "@jupyter-widgets/controls",
          "model_name": "LabelModel",
          "model_module_version": "1.5.0",
          "state": {
            "_view_name": "LabelView",
            "style": "IPY_MODEL_5455cc92d1174f049559c94b60ae88fd",
            "_dom_classes": [],
            "description": "",
            "_model_name": "LabelModel",
            "placeholder": "​",
            "_view_module": "@jupyter-widgets/controls",
            "_model_module_version": "1.5.0",
            "value": " 0.05MB of 0.05MB uploaded (0.00MB deduped)\r",
            "_view_count": null,
            "_view_module_version": "1.5.0",
            "description_tooltip": null,
            "_model_module": "@jupyter-widgets/controls",
            "layout": "IPY_MODEL_61e35262e51c4a16b48051be1a02e75d"
          }
        },
        "840f4dd1e3d44edd908f5da86aefb0ef": {
          "model_module": "@jupyter-widgets/controls",
          "model_name": "FloatProgressModel",
          "model_module_version": "1.5.0",
          "state": {
            "_view_name": "ProgressView",
            "style": "IPY_MODEL_decc6a255b9d4314992bda0e948ef9cf",
            "_dom_classes": [],
            "description": "",
            "_model_name": "FloatProgressModel",
            "bar_style": "",
            "max": 1,
            "_view_module": "@jupyter-widgets/controls",
            "_model_module_version": "1.5.0",
            "value": 1,
            "_view_count": null,
            "_view_module_version": "1.5.0",
            "orientation": "horizontal",
            "min": 0,
            "description_tooltip": null,
            "_model_module": "@jupyter-widgets/controls",
            "layout": "IPY_MODEL_3c2ceeb9bf634a5faebc2e620d5b94d2"
          }
        },
        "5455cc92d1174f049559c94b60ae88fd": {
          "model_module": "@jupyter-widgets/controls",
          "model_name": "DescriptionStyleModel",
          "model_module_version": "1.5.0",
          "state": {
            "_view_name": "StyleView",
            "_model_name": "DescriptionStyleModel",
            "description_width": "",
            "_view_module": "@jupyter-widgets/base",
            "_model_module_version": "1.5.0",
            "_view_count": null,
            "_view_module_version": "1.2.0",
            "_model_module": "@jupyter-widgets/controls"
          }
        },
        "61e35262e51c4a16b48051be1a02e75d": {
          "model_module": "@jupyter-widgets/base",
          "model_name": "LayoutModel",
          "model_module_version": "1.2.0",
          "state": {
            "_view_name": "LayoutView",
            "grid_template_rows": null,
            "right": null,
            "justify_content": null,
            "_view_module": "@jupyter-widgets/base",
            "overflow": null,
            "_model_module_version": "1.2.0",
            "_view_count": null,
            "flex_flow": null,
            "width": null,
            "min_width": null,
            "border": null,
            "align_items": null,
            "bottom": null,
            "_model_module": "@jupyter-widgets/base",
            "top": null,
            "grid_column": null,
            "overflow_y": null,
            "overflow_x": null,
            "grid_auto_flow": null,
            "grid_area": null,
            "grid_template_columns": null,
            "flex": null,
            "_model_name": "LayoutModel",
            "justify_items": null,
            "grid_row": null,
            "max_height": null,
            "align_content": null,
            "visibility": null,
            "align_self": null,
            "height": null,
            "min_height": null,
            "padding": null,
            "grid_auto_rows": null,
            "grid_gap": null,
            "max_width": null,
            "order": null,
            "_view_module_version": "1.2.0",
            "grid_template_areas": null,
            "object_position": null,
            "object_fit": null,
            "grid_auto_columns": null,
            "margin": null,
            "display": null,
            "left": null
          }
        },
        "decc6a255b9d4314992bda0e948ef9cf": {
          "model_module": "@jupyter-widgets/controls",
          "model_name": "ProgressStyleModel",
          "model_module_version": "1.5.0",
          "state": {
            "_view_name": "StyleView",
            "_model_name": "ProgressStyleModel",
            "description_width": "",
            "_view_module": "@jupyter-widgets/base",
            "_model_module_version": "1.5.0",
            "_view_count": null,
            "_view_module_version": "1.2.0",
            "bar_color": null,
            "_model_module": "@jupyter-widgets/controls"
          }
        },
        "3c2ceeb9bf634a5faebc2e620d5b94d2": {
          "model_module": "@jupyter-widgets/base",
          "model_name": "LayoutModel",
          "model_module_version": "1.2.0",
          "state": {
            "_view_name": "LayoutView",
            "grid_template_rows": null,
            "right": null,
            "justify_content": null,
            "_view_module": "@jupyter-widgets/base",
            "overflow": null,
            "_model_module_version": "1.2.0",
            "_view_count": null,
            "flex_flow": null,
            "width": null,
            "min_width": null,
            "border": null,
            "align_items": null,
            "bottom": null,
            "_model_module": "@jupyter-widgets/base",
            "top": null,
            "grid_column": null,
            "overflow_y": null,
            "overflow_x": null,
            "grid_auto_flow": null,
            "grid_area": null,
            "grid_template_columns": null,
            "flex": null,
            "_model_name": "LayoutModel",
            "justify_items": null,
            "grid_row": null,
            "max_height": null,
            "align_content": null,
            "visibility": null,
            "align_self": null,
            "height": null,
            "min_height": null,
            "padding": null,
            "grid_auto_rows": null,
            "grid_gap": null,
            "max_width": null,
            "order": null,
            "_view_module_version": "1.2.0",
            "grid_template_areas": null,
            "object_position": null,
            "object_fit": null,
            "grid_auto_columns": null,
            "margin": null,
            "display": null,
            "left": null
          }
        },
        "8896c3dd1ddf4531aaf961075767c5ad": {
          "model_module": "@jupyter-widgets/controls",
          "model_name": "VBoxModel",
          "model_module_version": "1.5.0",
          "state": {
            "_view_name": "VBoxView",
            "_dom_classes": [],
            "_model_name": "VBoxModel",
            "_view_module": "@jupyter-widgets/controls",
            "_model_module_version": "1.5.0",
            "_view_count": null,
            "_view_module_version": "1.5.0",
            "box_style": "",
            "layout": "IPY_MODEL_649e75c692e74652b058d36240c84117",
            "_model_module": "@jupyter-widgets/controls",
            "children": [
              "IPY_MODEL_c160fdb8302b41be80224b9cb908df3b",
              "IPY_MODEL_73f68103ea7d45b5959504301731619a"
            ]
          }
        },
        "649e75c692e74652b058d36240c84117": {
          "model_module": "@jupyter-widgets/base",
          "model_name": "LayoutModel",
          "model_module_version": "1.2.0",
          "state": {
            "_view_name": "LayoutView",
            "grid_template_rows": null,
            "right": null,
            "justify_content": null,
            "_view_module": "@jupyter-widgets/base",
            "overflow": null,
            "_model_module_version": "1.2.0",
            "_view_count": null,
            "flex_flow": null,
            "width": null,
            "min_width": null,
            "border": null,
            "align_items": null,
            "bottom": null,
            "_model_module": "@jupyter-widgets/base",
            "top": null,
            "grid_column": null,
            "overflow_y": null,
            "overflow_x": null,
            "grid_auto_flow": null,
            "grid_area": null,
            "grid_template_columns": null,
            "flex": null,
            "_model_name": "LayoutModel",
            "justify_items": null,
            "grid_row": null,
            "max_height": null,
            "align_content": null,
            "visibility": null,
            "align_self": null,
            "height": null,
            "min_height": null,
            "padding": null,
            "grid_auto_rows": null,
            "grid_gap": null,
            "max_width": null,
            "order": null,
            "_view_module_version": "1.2.0",
            "grid_template_areas": null,
            "object_position": null,
            "object_fit": null,
            "grid_auto_columns": null,
            "margin": null,
            "display": null,
            "left": null
          }
        },
        "c160fdb8302b41be80224b9cb908df3b": {
          "model_module": "@jupyter-widgets/controls",
          "model_name": "LabelModel",
          "model_module_version": "1.5.0",
          "state": {
            "_view_name": "LabelView",
            "style": "IPY_MODEL_432c58ab3b544249bd48cd393c7bd4ed",
            "_dom_classes": [],
            "description": "",
            "_model_name": "LabelModel",
            "placeholder": "​",
            "_view_module": "@jupyter-widgets/controls",
            "_model_module_version": "1.5.0",
            "value": " 0.05MB of 0.05MB uploaded (0.00MB deduped)\r",
            "_view_count": null,
            "_view_module_version": "1.5.0",
            "description_tooltip": null,
            "_model_module": "@jupyter-widgets/controls",
            "layout": "IPY_MODEL_60d8c1d0a46d4d689f974011832d19d1"
          }
        },
        "73f68103ea7d45b5959504301731619a": {
          "model_module": "@jupyter-widgets/controls",
          "model_name": "FloatProgressModel",
          "model_module_version": "1.5.0",
          "state": {
            "_view_name": "ProgressView",
            "style": "IPY_MODEL_aa970d7198854060ac4c150552ae17b0",
            "_dom_classes": [],
            "description": "",
            "_model_name": "FloatProgressModel",
            "bar_style": "",
            "max": 1,
            "_view_module": "@jupyter-widgets/controls",
            "_model_module_version": "1.5.0",
            "value": 1,
            "_view_count": null,
            "_view_module_version": "1.5.0",
            "orientation": "horizontal",
            "min": 0,
            "description_tooltip": null,
            "_model_module": "@jupyter-widgets/controls",
            "layout": "IPY_MODEL_34efad04914b417a8f45885e11fcfc58"
          }
        },
        "432c58ab3b544249bd48cd393c7bd4ed": {
          "model_module": "@jupyter-widgets/controls",
          "model_name": "DescriptionStyleModel",
          "model_module_version": "1.5.0",
          "state": {
            "_view_name": "StyleView",
            "_model_name": "DescriptionStyleModel",
            "description_width": "",
            "_view_module": "@jupyter-widgets/base",
            "_model_module_version": "1.5.0",
            "_view_count": null,
            "_view_module_version": "1.2.0",
            "_model_module": "@jupyter-widgets/controls"
          }
        },
        "60d8c1d0a46d4d689f974011832d19d1": {
          "model_module": "@jupyter-widgets/base",
          "model_name": "LayoutModel",
          "model_module_version": "1.2.0",
          "state": {
            "_view_name": "LayoutView",
            "grid_template_rows": null,
            "right": null,
            "justify_content": null,
            "_view_module": "@jupyter-widgets/base",
            "overflow": null,
            "_model_module_version": "1.2.0",
            "_view_count": null,
            "flex_flow": null,
            "width": null,
            "min_width": null,
            "border": null,
            "align_items": null,
            "bottom": null,
            "_model_module": "@jupyter-widgets/base",
            "top": null,
            "grid_column": null,
            "overflow_y": null,
            "overflow_x": null,
            "grid_auto_flow": null,
            "grid_area": null,
            "grid_template_columns": null,
            "flex": null,
            "_model_name": "LayoutModel",
            "justify_items": null,
            "grid_row": null,
            "max_height": null,
            "align_content": null,
            "visibility": null,
            "align_self": null,
            "height": null,
            "min_height": null,
            "padding": null,
            "grid_auto_rows": null,
            "grid_gap": null,
            "max_width": null,
            "order": null,
            "_view_module_version": "1.2.0",
            "grid_template_areas": null,
            "object_position": null,
            "object_fit": null,
            "grid_auto_columns": null,
            "margin": null,
            "display": null,
            "left": null
          }
        },
        "aa970d7198854060ac4c150552ae17b0": {
          "model_module": "@jupyter-widgets/controls",
          "model_name": "ProgressStyleModel",
          "model_module_version": "1.5.0",
          "state": {
            "_view_name": "StyleView",
            "_model_name": "ProgressStyleModel",
            "description_width": "",
            "_view_module": "@jupyter-widgets/base",
            "_model_module_version": "1.5.0",
            "_view_count": null,
            "_view_module_version": "1.2.0",
            "bar_color": null,
            "_model_module": "@jupyter-widgets/controls"
          }
        },
        "34efad04914b417a8f45885e11fcfc58": {
          "model_module": "@jupyter-widgets/base",
          "model_name": "LayoutModel",
          "model_module_version": "1.2.0",
          "state": {
            "_view_name": "LayoutView",
            "grid_template_rows": null,
            "right": null,
            "justify_content": null,
            "_view_module": "@jupyter-widgets/base",
            "overflow": null,
            "_model_module_version": "1.2.0",
            "_view_count": null,
            "flex_flow": null,
            "width": null,
            "min_width": null,
            "border": null,
            "align_items": null,
            "bottom": null,
            "_model_module": "@jupyter-widgets/base",
            "top": null,
            "grid_column": null,
            "overflow_y": null,
            "overflow_x": null,
            "grid_auto_flow": null,
            "grid_area": null,
            "grid_template_columns": null,
            "flex": null,
            "_model_name": "LayoutModel",
            "justify_items": null,
            "grid_row": null,
            "max_height": null,
            "align_content": null,
            "visibility": null,
            "align_self": null,
            "height": null,
            "min_height": null,
            "padding": null,
            "grid_auto_rows": null,
            "grid_gap": null,
            "max_width": null,
            "order": null,
            "_view_module_version": "1.2.0",
            "grid_template_areas": null,
            "object_position": null,
            "object_fit": null,
            "grid_auto_columns": null,
            "margin": null,
            "display": null,
            "left": null
          }
        },
        "c09bfb7383f14354aafed0503ca2d559": {
          "model_module": "@jupyter-widgets/controls",
          "model_name": "VBoxModel",
          "model_module_version": "1.5.0",
          "state": {
            "_view_name": "VBoxView",
            "_dom_classes": [],
            "_model_name": "VBoxModel",
            "_view_module": "@jupyter-widgets/controls",
            "_model_module_version": "1.5.0",
            "_view_count": null,
            "_view_module_version": "1.5.0",
            "box_style": "",
            "layout": "IPY_MODEL_f4aa4a59092b4004993629b39f95f846",
            "_model_module": "@jupyter-widgets/controls",
            "children": [
              "IPY_MODEL_0e61e75c2d2c48d8b94d2ba236b70c18",
              "IPY_MODEL_3de9e4ce1c8741af932bcaa4d1663d8a"
            ]
          }
        },
        "f4aa4a59092b4004993629b39f95f846": {
          "model_module": "@jupyter-widgets/base",
          "model_name": "LayoutModel",
          "model_module_version": "1.2.0",
          "state": {
            "_view_name": "LayoutView",
            "grid_template_rows": null,
            "right": null,
            "justify_content": null,
            "_view_module": "@jupyter-widgets/base",
            "overflow": null,
            "_model_module_version": "1.2.0",
            "_view_count": null,
            "flex_flow": null,
            "width": null,
            "min_width": null,
            "border": null,
            "align_items": null,
            "bottom": null,
            "_model_module": "@jupyter-widgets/base",
            "top": null,
            "grid_column": null,
            "overflow_y": null,
            "overflow_x": null,
            "grid_auto_flow": null,
            "grid_area": null,
            "grid_template_columns": null,
            "flex": null,
            "_model_name": "LayoutModel",
            "justify_items": null,
            "grid_row": null,
            "max_height": null,
            "align_content": null,
            "visibility": null,
            "align_self": null,
            "height": null,
            "min_height": null,
            "padding": null,
            "grid_auto_rows": null,
            "grid_gap": null,
            "max_width": null,
            "order": null,
            "_view_module_version": "1.2.0",
            "grid_template_areas": null,
            "object_position": null,
            "object_fit": null,
            "grid_auto_columns": null,
            "margin": null,
            "display": null,
            "left": null
          }
        },
        "0e61e75c2d2c48d8b94d2ba236b70c18": {
          "model_module": "@jupyter-widgets/controls",
          "model_name": "LabelModel",
          "model_module_version": "1.5.0",
          "state": {
            "_view_name": "LabelView",
            "style": "IPY_MODEL_d9306b5420a54906a59ed17de6c57747",
            "_dom_classes": [],
            "description": "",
            "_model_name": "LabelModel",
            "placeholder": "​",
            "_view_module": "@jupyter-widgets/controls",
            "_model_module_version": "1.5.0",
            "value": " 0.05MB of 0.05MB uploaded (0.00MB deduped)\r",
            "_view_count": null,
            "_view_module_version": "1.5.0",
            "description_tooltip": null,
            "_model_module": "@jupyter-widgets/controls",
            "layout": "IPY_MODEL_b4357351a9fc4456af87b2e32fb7adc9"
          }
        },
        "3de9e4ce1c8741af932bcaa4d1663d8a": {
          "model_module": "@jupyter-widgets/controls",
          "model_name": "FloatProgressModel",
          "model_module_version": "1.5.0",
          "state": {
            "_view_name": "ProgressView",
            "style": "IPY_MODEL_f052f9c154f54a8db8873ddc56979082",
            "_dom_classes": [],
            "description": "",
            "_model_name": "FloatProgressModel",
            "bar_style": "",
            "max": 1,
            "_view_module": "@jupyter-widgets/controls",
            "_model_module_version": "1.5.0",
            "value": 1,
            "_view_count": null,
            "_view_module_version": "1.5.0",
            "orientation": "horizontal",
            "min": 0,
            "description_tooltip": null,
            "_model_module": "@jupyter-widgets/controls",
            "layout": "IPY_MODEL_4b1b1660796a4402bd32c8c1393715ca"
          }
        },
        "d9306b5420a54906a59ed17de6c57747": {
          "model_module": "@jupyter-widgets/controls",
          "model_name": "DescriptionStyleModel",
          "model_module_version": "1.5.0",
          "state": {
            "_view_name": "StyleView",
            "_model_name": "DescriptionStyleModel",
            "description_width": "",
            "_view_module": "@jupyter-widgets/base",
            "_model_module_version": "1.5.0",
            "_view_count": null,
            "_view_module_version": "1.2.0",
            "_model_module": "@jupyter-widgets/controls"
          }
        },
        "b4357351a9fc4456af87b2e32fb7adc9": {
          "model_module": "@jupyter-widgets/base",
          "model_name": "LayoutModel",
          "model_module_version": "1.2.0",
          "state": {
            "_view_name": "LayoutView",
            "grid_template_rows": null,
            "right": null,
            "justify_content": null,
            "_view_module": "@jupyter-widgets/base",
            "overflow": null,
            "_model_module_version": "1.2.0",
            "_view_count": null,
            "flex_flow": null,
            "width": null,
            "min_width": null,
            "border": null,
            "align_items": null,
            "bottom": null,
            "_model_module": "@jupyter-widgets/base",
            "top": null,
            "grid_column": null,
            "overflow_y": null,
            "overflow_x": null,
            "grid_auto_flow": null,
            "grid_area": null,
            "grid_template_columns": null,
            "flex": null,
            "_model_name": "LayoutModel",
            "justify_items": null,
            "grid_row": null,
            "max_height": null,
            "align_content": null,
            "visibility": null,
            "align_self": null,
            "height": null,
            "min_height": null,
            "padding": null,
            "grid_auto_rows": null,
            "grid_gap": null,
            "max_width": null,
            "order": null,
            "_view_module_version": "1.2.0",
            "grid_template_areas": null,
            "object_position": null,
            "object_fit": null,
            "grid_auto_columns": null,
            "margin": null,
            "display": null,
            "left": null
          }
        },
        "f052f9c154f54a8db8873ddc56979082": {
          "model_module": "@jupyter-widgets/controls",
          "model_name": "ProgressStyleModel",
          "model_module_version": "1.5.0",
          "state": {
            "_view_name": "StyleView",
            "_model_name": "ProgressStyleModel",
            "description_width": "",
            "_view_module": "@jupyter-widgets/base",
            "_model_module_version": "1.5.0",
            "_view_count": null,
            "_view_module_version": "1.2.0",
            "bar_color": null,
            "_model_module": "@jupyter-widgets/controls"
          }
        },
        "4b1b1660796a4402bd32c8c1393715ca": {
          "model_module": "@jupyter-widgets/base",
          "model_name": "LayoutModel",
          "model_module_version": "1.2.0",
          "state": {
            "_view_name": "LayoutView",
            "grid_template_rows": null,
            "right": null,
            "justify_content": null,
            "_view_module": "@jupyter-widgets/base",
            "overflow": null,
            "_model_module_version": "1.2.0",
            "_view_count": null,
            "flex_flow": null,
            "width": null,
            "min_width": null,
            "border": null,
            "align_items": null,
            "bottom": null,
            "_model_module": "@jupyter-widgets/base",
            "top": null,
            "grid_column": null,
            "overflow_y": null,
            "overflow_x": null,
            "grid_auto_flow": null,
            "grid_area": null,
            "grid_template_columns": null,
            "flex": null,
            "_model_name": "LayoutModel",
            "justify_items": null,
            "grid_row": null,
            "max_height": null,
            "align_content": null,
            "visibility": null,
            "align_self": null,
            "height": null,
            "min_height": null,
            "padding": null,
            "grid_auto_rows": null,
            "grid_gap": null,
            "max_width": null,
            "order": null,
            "_view_module_version": "1.2.0",
            "grid_template_areas": null,
            "object_position": null,
            "object_fit": null,
            "grid_auto_columns": null,
            "margin": null,
            "display": null,
            "left": null
          }
        },
        "1fbfae4db456486ba466b06826b79cfe": {
          "model_module": "@jupyter-widgets/controls",
          "model_name": "VBoxModel",
          "model_module_version": "1.5.0",
          "state": {
            "_view_name": "VBoxView",
            "_dom_classes": [],
            "_model_name": "VBoxModel",
            "_view_module": "@jupyter-widgets/controls",
            "_model_module_version": "1.5.0",
            "_view_count": null,
            "_view_module_version": "1.5.0",
            "box_style": "",
            "layout": "IPY_MODEL_83c46eb735794c1e853dc54150651e10",
            "_model_module": "@jupyter-widgets/controls",
            "children": [
              "IPY_MODEL_56324793797b4946ab0dc84f6a90648b",
              "IPY_MODEL_8a293edcfe1c48bc8ad1b8b13c805d3a"
            ]
          }
        },
        "83c46eb735794c1e853dc54150651e10": {
          "model_module": "@jupyter-widgets/base",
          "model_name": "LayoutModel",
          "model_module_version": "1.2.0",
          "state": {
            "_view_name": "LayoutView",
            "grid_template_rows": null,
            "right": null,
            "justify_content": null,
            "_view_module": "@jupyter-widgets/base",
            "overflow": null,
            "_model_module_version": "1.2.0",
            "_view_count": null,
            "flex_flow": null,
            "width": null,
            "min_width": null,
            "border": null,
            "align_items": null,
            "bottom": null,
            "_model_module": "@jupyter-widgets/base",
            "top": null,
            "grid_column": null,
            "overflow_y": null,
            "overflow_x": null,
            "grid_auto_flow": null,
            "grid_area": null,
            "grid_template_columns": null,
            "flex": null,
            "_model_name": "LayoutModel",
            "justify_items": null,
            "grid_row": null,
            "max_height": null,
            "align_content": null,
            "visibility": null,
            "align_self": null,
            "height": null,
            "min_height": null,
            "padding": null,
            "grid_auto_rows": null,
            "grid_gap": null,
            "max_width": null,
            "order": null,
            "_view_module_version": "1.2.0",
            "grid_template_areas": null,
            "object_position": null,
            "object_fit": null,
            "grid_auto_columns": null,
            "margin": null,
            "display": null,
            "left": null
          }
        },
        "56324793797b4946ab0dc84f6a90648b": {
          "model_module": "@jupyter-widgets/controls",
          "model_name": "LabelModel",
          "model_module_version": "1.5.0",
          "state": {
            "_view_name": "LabelView",
            "style": "IPY_MODEL_5627ba04e27c47e3aa07f223a781f976",
            "_dom_classes": [],
            "description": "",
            "_model_name": "LabelModel",
            "placeholder": "​",
            "_view_module": "@jupyter-widgets/controls",
            "_model_module_version": "1.5.0",
            "value": " 0.05MB of 0.05MB uploaded (0.00MB deduped)\r",
            "_view_count": null,
            "_view_module_version": "1.5.0",
            "description_tooltip": null,
            "_model_module": "@jupyter-widgets/controls",
            "layout": "IPY_MODEL_a1004904473940029ecaf61d8717aa02"
          }
        },
        "8a293edcfe1c48bc8ad1b8b13c805d3a": {
          "model_module": "@jupyter-widgets/controls",
          "model_name": "FloatProgressModel",
          "model_module_version": "1.5.0",
          "state": {
            "_view_name": "ProgressView",
            "style": "IPY_MODEL_fd3c52c9e33f4e20b21cc537ab03aadc",
            "_dom_classes": [],
            "description": "",
            "_model_name": "FloatProgressModel",
            "bar_style": "",
            "max": 1,
            "_view_module": "@jupyter-widgets/controls",
            "_model_module_version": "1.5.0",
            "value": 1,
            "_view_count": null,
            "_view_module_version": "1.5.0",
            "orientation": "horizontal",
            "min": 0,
            "description_tooltip": null,
            "_model_module": "@jupyter-widgets/controls",
            "layout": "IPY_MODEL_eda3eddb7809401c8a5b865a2f6db460"
          }
        },
        "5627ba04e27c47e3aa07f223a781f976": {
          "model_module": "@jupyter-widgets/controls",
          "model_name": "DescriptionStyleModel",
          "model_module_version": "1.5.0",
          "state": {
            "_view_name": "StyleView",
            "_model_name": "DescriptionStyleModel",
            "description_width": "",
            "_view_module": "@jupyter-widgets/base",
            "_model_module_version": "1.5.0",
            "_view_count": null,
            "_view_module_version": "1.2.0",
            "_model_module": "@jupyter-widgets/controls"
          }
        },
        "a1004904473940029ecaf61d8717aa02": {
          "model_module": "@jupyter-widgets/base",
          "model_name": "LayoutModel",
          "model_module_version": "1.2.0",
          "state": {
            "_view_name": "LayoutView",
            "grid_template_rows": null,
            "right": null,
            "justify_content": null,
            "_view_module": "@jupyter-widgets/base",
            "overflow": null,
            "_model_module_version": "1.2.0",
            "_view_count": null,
            "flex_flow": null,
            "width": null,
            "min_width": null,
            "border": null,
            "align_items": null,
            "bottom": null,
            "_model_module": "@jupyter-widgets/base",
            "top": null,
            "grid_column": null,
            "overflow_y": null,
            "overflow_x": null,
            "grid_auto_flow": null,
            "grid_area": null,
            "grid_template_columns": null,
            "flex": null,
            "_model_name": "LayoutModel",
            "justify_items": null,
            "grid_row": null,
            "max_height": null,
            "align_content": null,
            "visibility": null,
            "align_self": null,
            "height": null,
            "min_height": null,
            "padding": null,
            "grid_auto_rows": null,
            "grid_gap": null,
            "max_width": null,
            "order": null,
            "_view_module_version": "1.2.0",
            "grid_template_areas": null,
            "object_position": null,
            "object_fit": null,
            "grid_auto_columns": null,
            "margin": null,
            "display": null,
            "left": null
          }
        },
        "fd3c52c9e33f4e20b21cc537ab03aadc": {
          "model_module": "@jupyter-widgets/controls",
          "model_name": "ProgressStyleModel",
          "model_module_version": "1.5.0",
          "state": {
            "_view_name": "StyleView",
            "_model_name": "ProgressStyleModel",
            "description_width": "",
            "_view_module": "@jupyter-widgets/base",
            "_model_module_version": "1.5.0",
            "_view_count": null,
            "_view_module_version": "1.2.0",
            "bar_color": null,
            "_model_module": "@jupyter-widgets/controls"
          }
        },
        "eda3eddb7809401c8a5b865a2f6db460": {
          "model_module": "@jupyter-widgets/base",
          "model_name": "LayoutModel",
          "model_module_version": "1.2.0",
          "state": {
            "_view_name": "LayoutView",
            "grid_template_rows": null,
            "right": null,
            "justify_content": null,
            "_view_module": "@jupyter-widgets/base",
            "overflow": null,
            "_model_module_version": "1.2.0",
            "_view_count": null,
            "flex_flow": null,
            "width": null,
            "min_width": null,
            "border": null,
            "align_items": null,
            "bottom": null,
            "_model_module": "@jupyter-widgets/base",
            "top": null,
            "grid_column": null,
            "overflow_y": null,
            "overflow_x": null,
            "grid_auto_flow": null,
            "grid_area": null,
            "grid_template_columns": null,
            "flex": null,
            "_model_name": "LayoutModel",
            "justify_items": null,
            "grid_row": null,
            "max_height": null,
            "align_content": null,
            "visibility": null,
            "align_self": null,
            "height": null,
            "min_height": null,
            "padding": null,
            "grid_auto_rows": null,
            "grid_gap": null,
            "max_width": null,
            "order": null,
            "_view_module_version": "1.2.0",
            "grid_template_areas": null,
            "object_position": null,
            "object_fit": null,
            "grid_auto_columns": null,
            "margin": null,
            "display": null,
            "left": null
          }
        },
        "d351b2a14ad6424ea8d231ac6e4d4d62": {
          "model_module": "@jupyter-widgets/controls",
          "model_name": "VBoxModel",
          "model_module_version": "1.5.0",
          "state": {
            "_view_name": "VBoxView",
            "_dom_classes": [],
            "_model_name": "VBoxModel",
            "_view_module": "@jupyter-widgets/controls",
            "_model_module_version": "1.5.0",
            "_view_count": null,
            "_view_module_version": "1.5.0",
            "box_style": "",
            "layout": "IPY_MODEL_24a538864e214862845c553c3f63a991",
            "_model_module": "@jupyter-widgets/controls",
            "children": [
              "IPY_MODEL_8c18d49008934468885ee2ffacbed1f5",
              "IPY_MODEL_9ba958c7d49345dfbcc879a56c0429d5"
            ]
          }
        },
        "24a538864e214862845c553c3f63a991": {
          "model_module": "@jupyter-widgets/base",
          "model_name": "LayoutModel",
          "model_module_version": "1.2.0",
          "state": {
            "_view_name": "LayoutView",
            "grid_template_rows": null,
            "right": null,
            "justify_content": null,
            "_view_module": "@jupyter-widgets/base",
            "overflow": null,
            "_model_module_version": "1.2.0",
            "_view_count": null,
            "flex_flow": null,
            "width": null,
            "min_width": null,
            "border": null,
            "align_items": null,
            "bottom": null,
            "_model_module": "@jupyter-widgets/base",
            "top": null,
            "grid_column": null,
            "overflow_y": null,
            "overflow_x": null,
            "grid_auto_flow": null,
            "grid_area": null,
            "grid_template_columns": null,
            "flex": null,
            "_model_name": "LayoutModel",
            "justify_items": null,
            "grid_row": null,
            "max_height": null,
            "align_content": null,
            "visibility": null,
            "align_self": null,
            "height": null,
            "min_height": null,
            "padding": null,
            "grid_auto_rows": null,
            "grid_gap": null,
            "max_width": null,
            "order": null,
            "_view_module_version": "1.2.0",
            "grid_template_areas": null,
            "object_position": null,
            "object_fit": null,
            "grid_auto_columns": null,
            "margin": null,
            "display": null,
            "left": null
          }
        },
        "8c18d49008934468885ee2ffacbed1f5": {
          "model_module": "@jupyter-widgets/controls",
          "model_name": "LabelModel",
          "model_module_version": "1.5.0",
          "state": {
            "_view_name": "LabelView",
            "style": "IPY_MODEL_6a4b6407780940959d2f29d5b8fafb36",
            "_dom_classes": [],
            "description": "",
            "_model_name": "LabelModel",
            "placeholder": "​",
            "_view_module": "@jupyter-widgets/controls",
            "_model_module_version": "1.5.0",
            "value": " 0.05MB of 0.05MB uploaded (0.00MB deduped)\r",
            "_view_count": null,
            "_view_module_version": "1.5.0",
            "description_tooltip": null,
            "_model_module": "@jupyter-widgets/controls",
            "layout": "IPY_MODEL_c86d1b3af7ce4fac9a0f29bfb39b821a"
          }
        },
        "9ba958c7d49345dfbcc879a56c0429d5": {
          "model_module": "@jupyter-widgets/controls",
          "model_name": "FloatProgressModel",
          "model_module_version": "1.5.0",
          "state": {
            "_view_name": "ProgressView",
            "style": "IPY_MODEL_9d48ef47d2a4431a86bfd4833992a5c7",
            "_dom_classes": [],
            "description": "",
            "_model_name": "FloatProgressModel",
            "bar_style": "",
            "max": 1,
            "_view_module": "@jupyter-widgets/controls",
            "_model_module_version": "1.5.0",
            "value": 1,
            "_view_count": null,
            "_view_module_version": "1.5.0",
            "orientation": "horizontal",
            "min": 0,
            "description_tooltip": null,
            "_model_module": "@jupyter-widgets/controls",
            "layout": "IPY_MODEL_252e08b20ec147f497b00b949f346950"
          }
        },
        "6a4b6407780940959d2f29d5b8fafb36": {
          "model_module": "@jupyter-widgets/controls",
          "model_name": "DescriptionStyleModel",
          "model_module_version": "1.5.0",
          "state": {
            "_view_name": "StyleView",
            "_model_name": "DescriptionStyleModel",
            "description_width": "",
            "_view_module": "@jupyter-widgets/base",
            "_model_module_version": "1.5.0",
            "_view_count": null,
            "_view_module_version": "1.2.0",
            "_model_module": "@jupyter-widgets/controls"
          }
        },
        "c86d1b3af7ce4fac9a0f29bfb39b821a": {
          "model_module": "@jupyter-widgets/base",
          "model_name": "LayoutModel",
          "model_module_version": "1.2.0",
          "state": {
            "_view_name": "LayoutView",
            "grid_template_rows": null,
            "right": null,
            "justify_content": null,
            "_view_module": "@jupyter-widgets/base",
            "overflow": null,
            "_model_module_version": "1.2.0",
            "_view_count": null,
            "flex_flow": null,
            "width": null,
            "min_width": null,
            "border": null,
            "align_items": null,
            "bottom": null,
            "_model_module": "@jupyter-widgets/base",
            "top": null,
            "grid_column": null,
            "overflow_y": null,
            "overflow_x": null,
            "grid_auto_flow": null,
            "grid_area": null,
            "grid_template_columns": null,
            "flex": null,
            "_model_name": "LayoutModel",
            "justify_items": null,
            "grid_row": null,
            "max_height": null,
            "align_content": null,
            "visibility": null,
            "align_self": null,
            "height": null,
            "min_height": null,
            "padding": null,
            "grid_auto_rows": null,
            "grid_gap": null,
            "max_width": null,
            "order": null,
            "_view_module_version": "1.2.0",
            "grid_template_areas": null,
            "object_position": null,
            "object_fit": null,
            "grid_auto_columns": null,
            "margin": null,
            "display": null,
            "left": null
          }
        },
        "9d48ef47d2a4431a86bfd4833992a5c7": {
          "model_module": "@jupyter-widgets/controls",
          "model_name": "ProgressStyleModel",
          "model_module_version": "1.5.0",
          "state": {
            "_view_name": "StyleView",
            "_model_name": "ProgressStyleModel",
            "description_width": "",
            "_view_module": "@jupyter-widgets/base",
            "_model_module_version": "1.5.0",
            "_view_count": null,
            "_view_module_version": "1.2.0",
            "bar_color": null,
            "_model_module": "@jupyter-widgets/controls"
          }
        },
        "252e08b20ec147f497b00b949f346950": {
          "model_module": "@jupyter-widgets/base",
          "model_name": "LayoutModel",
          "model_module_version": "1.2.0",
          "state": {
            "_view_name": "LayoutView",
            "grid_template_rows": null,
            "right": null,
            "justify_content": null,
            "_view_module": "@jupyter-widgets/base",
            "overflow": null,
            "_model_module_version": "1.2.0",
            "_view_count": null,
            "flex_flow": null,
            "width": null,
            "min_width": null,
            "border": null,
            "align_items": null,
            "bottom": null,
            "_model_module": "@jupyter-widgets/base",
            "top": null,
            "grid_column": null,
            "overflow_y": null,
            "overflow_x": null,
            "grid_auto_flow": null,
            "grid_area": null,
            "grid_template_columns": null,
            "flex": null,
            "_model_name": "LayoutModel",
            "justify_items": null,
            "grid_row": null,
            "max_height": null,
            "align_content": null,
            "visibility": null,
            "align_self": null,
            "height": null,
            "min_height": null,
            "padding": null,
            "grid_auto_rows": null,
            "grid_gap": null,
            "max_width": null,
            "order": null,
            "_view_module_version": "1.2.0",
            "grid_template_areas": null,
            "object_position": null,
            "object_fit": null,
            "grid_auto_columns": null,
            "margin": null,
            "display": null,
            "left": null
          }
        },
        "b0b9bb7598cc4e84b56d976c795e0758": {
          "model_module": "@jupyter-widgets/controls",
          "model_name": "VBoxModel",
          "model_module_version": "1.5.0",
          "state": {
            "_view_name": "VBoxView",
            "_dom_classes": [],
            "_model_name": "VBoxModel",
            "_view_module": "@jupyter-widgets/controls",
            "_model_module_version": "1.5.0",
            "_view_count": null,
            "_view_module_version": "1.5.0",
            "box_style": "",
            "layout": "IPY_MODEL_ed517e62228847f7bfb0d9307d4d2248",
            "_model_module": "@jupyter-widgets/controls",
            "children": [
              "IPY_MODEL_f530174a2cfa431eb76d3b1327d1dc65",
              "IPY_MODEL_8285e8543025485e9edc45aa16979e6e"
            ]
          }
        },
        "ed517e62228847f7bfb0d9307d4d2248": {
          "model_module": "@jupyter-widgets/base",
          "model_name": "LayoutModel",
          "model_module_version": "1.2.0",
          "state": {
            "_view_name": "LayoutView",
            "grid_template_rows": null,
            "right": null,
            "justify_content": null,
            "_view_module": "@jupyter-widgets/base",
            "overflow": null,
            "_model_module_version": "1.2.0",
            "_view_count": null,
            "flex_flow": null,
            "width": null,
            "min_width": null,
            "border": null,
            "align_items": null,
            "bottom": null,
            "_model_module": "@jupyter-widgets/base",
            "top": null,
            "grid_column": null,
            "overflow_y": null,
            "overflow_x": null,
            "grid_auto_flow": null,
            "grid_area": null,
            "grid_template_columns": null,
            "flex": null,
            "_model_name": "LayoutModel",
            "justify_items": null,
            "grid_row": null,
            "max_height": null,
            "align_content": null,
            "visibility": null,
            "align_self": null,
            "height": null,
            "min_height": null,
            "padding": null,
            "grid_auto_rows": null,
            "grid_gap": null,
            "max_width": null,
            "order": null,
            "_view_module_version": "1.2.0",
            "grid_template_areas": null,
            "object_position": null,
            "object_fit": null,
            "grid_auto_columns": null,
            "margin": null,
            "display": null,
            "left": null
          }
        },
        "f530174a2cfa431eb76d3b1327d1dc65": {
          "model_module": "@jupyter-widgets/controls",
          "model_name": "LabelModel",
          "model_module_version": "1.5.0",
          "state": {
            "_view_name": "LabelView",
            "style": "IPY_MODEL_ce036f03b49747b0b062ea4939f53987",
            "_dom_classes": [],
            "description": "",
            "_model_name": "LabelModel",
            "placeholder": "​",
            "_view_module": "@jupyter-widgets/controls",
            "_model_module_version": "1.5.0",
            "value": " 0.05MB of 0.05MB uploaded (0.00MB deduped)\r",
            "_view_count": null,
            "_view_module_version": "1.5.0",
            "description_tooltip": null,
            "_model_module": "@jupyter-widgets/controls",
            "layout": "IPY_MODEL_e4ff0eda2a9d423f8247dff1cd989ac4"
          }
        },
        "8285e8543025485e9edc45aa16979e6e": {
          "model_module": "@jupyter-widgets/controls",
          "model_name": "FloatProgressModel",
          "model_module_version": "1.5.0",
          "state": {
            "_view_name": "ProgressView",
            "style": "IPY_MODEL_6154006656964f92a06626800b963a34",
            "_dom_classes": [],
            "description": "",
            "_model_name": "FloatProgressModel",
            "bar_style": "",
            "max": 1,
            "_view_module": "@jupyter-widgets/controls",
            "_model_module_version": "1.5.0",
            "value": 1,
            "_view_count": null,
            "_view_module_version": "1.5.0",
            "orientation": "horizontal",
            "min": 0,
            "description_tooltip": null,
            "_model_module": "@jupyter-widgets/controls",
            "layout": "IPY_MODEL_15da3ee103d94aafae215a0cb4b57225"
          }
        },
        "ce036f03b49747b0b062ea4939f53987": {
          "model_module": "@jupyter-widgets/controls",
          "model_name": "DescriptionStyleModel",
          "model_module_version": "1.5.0",
          "state": {
            "_view_name": "StyleView",
            "_model_name": "DescriptionStyleModel",
            "description_width": "",
            "_view_module": "@jupyter-widgets/base",
            "_model_module_version": "1.5.0",
            "_view_count": null,
            "_view_module_version": "1.2.0",
            "_model_module": "@jupyter-widgets/controls"
          }
        },
        "e4ff0eda2a9d423f8247dff1cd989ac4": {
          "model_module": "@jupyter-widgets/base",
          "model_name": "LayoutModel",
          "model_module_version": "1.2.0",
          "state": {
            "_view_name": "LayoutView",
            "grid_template_rows": null,
            "right": null,
            "justify_content": null,
            "_view_module": "@jupyter-widgets/base",
            "overflow": null,
            "_model_module_version": "1.2.0",
            "_view_count": null,
            "flex_flow": null,
            "width": null,
            "min_width": null,
            "border": null,
            "align_items": null,
            "bottom": null,
            "_model_module": "@jupyter-widgets/base",
            "top": null,
            "grid_column": null,
            "overflow_y": null,
            "overflow_x": null,
            "grid_auto_flow": null,
            "grid_area": null,
            "grid_template_columns": null,
            "flex": null,
            "_model_name": "LayoutModel",
            "justify_items": null,
            "grid_row": null,
            "max_height": null,
            "align_content": null,
            "visibility": null,
            "align_self": null,
            "height": null,
            "min_height": null,
            "padding": null,
            "grid_auto_rows": null,
            "grid_gap": null,
            "max_width": null,
            "order": null,
            "_view_module_version": "1.2.0",
            "grid_template_areas": null,
            "object_position": null,
            "object_fit": null,
            "grid_auto_columns": null,
            "margin": null,
            "display": null,
            "left": null
          }
        },
        "6154006656964f92a06626800b963a34": {
          "model_module": "@jupyter-widgets/controls",
          "model_name": "ProgressStyleModel",
          "model_module_version": "1.5.0",
          "state": {
            "_view_name": "StyleView",
            "_model_name": "ProgressStyleModel",
            "description_width": "",
            "_view_module": "@jupyter-widgets/base",
            "_model_module_version": "1.5.0",
            "_view_count": null,
            "_view_module_version": "1.2.0",
            "bar_color": null,
            "_model_module": "@jupyter-widgets/controls"
          }
        },
        "15da3ee103d94aafae215a0cb4b57225": {
          "model_module": "@jupyter-widgets/base",
          "model_name": "LayoutModel",
          "model_module_version": "1.2.0",
          "state": {
            "_view_name": "LayoutView",
            "grid_template_rows": null,
            "right": null,
            "justify_content": null,
            "_view_module": "@jupyter-widgets/base",
            "overflow": null,
            "_model_module_version": "1.2.0",
            "_view_count": null,
            "flex_flow": null,
            "width": null,
            "min_width": null,
            "border": null,
            "align_items": null,
            "bottom": null,
            "_model_module": "@jupyter-widgets/base",
            "top": null,
            "grid_column": null,
            "overflow_y": null,
            "overflow_x": null,
            "grid_auto_flow": null,
            "grid_area": null,
            "grid_template_columns": null,
            "flex": null,
            "_model_name": "LayoutModel",
            "justify_items": null,
            "grid_row": null,
            "max_height": null,
            "align_content": null,
            "visibility": null,
            "align_self": null,
            "height": null,
            "min_height": null,
            "padding": null,
            "grid_auto_rows": null,
            "grid_gap": null,
            "max_width": null,
            "order": null,
            "_view_module_version": "1.2.0",
            "grid_template_areas": null,
            "object_position": null,
            "object_fit": null,
            "grid_auto_columns": null,
            "margin": null,
            "display": null,
            "left": null
          }
        },
        "c524777d11e6493584a8750e87e9f548": {
          "model_module": "@jupyter-widgets/controls",
          "model_name": "VBoxModel",
          "model_module_version": "1.5.0",
          "state": {
            "_view_name": "VBoxView",
            "_dom_classes": [],
            "_model_name": "VBoxModel",
            "_view_module": "@jupyter-widgets/controls",
            "_model_module_version": "1.5.0",
            "_view_count": null,
            "_view_module_version": "1.5.0",
            "box_style": "",
            "layout": "IPY_MODEL_5ba5505a8d40484799a6aa6a19871c26",
            "_model_module": "@jupyter-widgets/controls",
            "children": [
              "IPY_MODEL_306a87d73ae1435fa7ee52f36f5dfa6e",
              "IPY_MODEL_c23cbfc381eb4112b0266d37ba3dabbf"
            ]
          }
        },
        "5ba5505a8d40484799a6aa6a19871c26": {
          "model_module": "@jupyter-widgets/base",
          "model_name": "LayoutModel",
          "model_module_version": "1.2.0",
          "state": {
            "_view_name": "LayoutView",
            "grid_template_rows": null,
            "right": null,
            "justify_content": null,
            "_view_module": "@jupyter-widgets/base",
            "overflow": null,
            "_model_module_version": "1.2.0",
            "_view_count": null,
            "flex_flow": null,
            "width": null,
            "min_width": null,
            "border": null,
            "align_items": null,
            "bottom": null,
            "_model_module": "@jupyter-widgets/base",
            "top": null,
            "grid_column": null,
            "overflow_y": null,
            "overflow_x": null,
            "grid_auto_flow": null,
            "grid_area": null,
            "grid_template_columns": null,
            "flex": null,
            "_model_name": "LayoutModel",
            "justify_items": null,
            "grid_row": null,
            "max_height": null,
            "align_content": null,
            "visibility": null,
            "align_self": null,
            "height": null,
            "min_height": null,
            "padding": null,
            "grid_auto_rows": null,
            "grid_gap": null,
            "max_width": null,
            "order": null,
            "_view_module_version": "1.2.0",
            "grid_template_areas": null,
            "object_position": null,
            "object_fit": null,
            "grid_auto_columns": null,
            "margin": null,
            "display": null,
            "left": null
          }
        },
        "306a87d73ae1435fa7ee52f36f5dfa6e": {
          "model_module": "@jupyter-widgets/controls",
          "model_name": "LabelModel",
          "model_module_version": "1.5.0",
          "state": {
            "_view_name": "LabelView",
            "style": "IPY_MODEL_b022dfe1ddd144aa96c7e172c62b5355",
            "_dom_classes": [],
            "description": "",
            "_model_name": "LabelModel",
            "placeholder": "​",
            "_view_module": "@jupyter-widgets/controls",
            "_model_module_version": "1.5.0",
            "value": " 0.05MB of 0.05MB uploaded (0.00MB deduped)\r",
            "_view_count": null,
            "_view_module_version": "1.5.0",
            "description_tooltip": null,
            "_model_module": "@jupyter-widgets/controls",
            "layout": "IPY_MODEL_dd92979937e84621be3f30f1b4c498e1"
          }
        },
        "c23cbfc381eb4112b0266d37ba3dabbf": {
          "model_module": "@jupyter-widgets/controls",
          "model_name": "FloatProgressModel",
          "model_module_version": "1.5.0",
          "state": {
            "_view_name": "ProgressView",
            "style": "IPY_MODEL_6d67b82b2a5a400b9e46d5628ed4ffcf",
            "_dom_classes": [],
            "description": "",
            "_model_name": "FloatProgressModel",
            "bar_style": "",
            "max": 1,
            "_view_module": "@jupyter-widgets/controls",
            "_model_module_version": "1.5.0",
            "value": 1,
            "_view_count": null,
            "_view_module_version": "1.5.0",
            "orientation": "horizontal",
            "min": 0,
            "description_tooltip": null,
            "_model_module": "@jupyter-widgets/controls",
            "layout": "IPY_MODEL_6917141cba194aaea1731b667642a3dd"
          }
        },
        "b022dfe1ddd144aa96c7e172c62b5355": {
          "model_module": "@jupyter-widgets/controls",
          "model_name": "DescriptionStyleModel",
          "model_module_version": "1.5.0",
          "state": {
            "_view_name": "StyleView",
            "_model_name": "DescriptionStyleModel",
            "description_width": "",
            "_view_module": "@jupyter-widgets/base",
            "_model_module_version": "1.5.0",
            "_view_count": null,
            "_view_module_version": "1.2.0",
            "_model_module": "@jupyter-widgets/controls"
          }
        },
        "dd92979937e84621be3f30f1b4c498e1": {
          "model_module": "@jupyter-widgets/base",
          "model_name": "LayoutModel",
          "model_module_version": "1.2.0",
          "state": {
            "_view_name": "LayoutView",
            "grid_template_rows": null,
            "right": null,
            "justify_content": null,
            "_view_module": "@jupyter-widgets/base",
            "overflow": null,
            "_model_module_version": "1.2.0",
            "_view_count": null,
            "flex_flow": null,
            "width": null,
            "min_width": null,
            "border": null,
            "align_items": null,
            "bottom": null,
            "_model_module": "@jupyter-widgets/base",
            "top": null,
            "grid_column": null,
            "overflow_y": null,
            "overflow_x": null,
            "grid_auto_flow": null,
            "grid_area": null,
            "grid_template_columns": null,
            "flex": null,
            "_model_name": "LayoutModel",
            "justify_items": null,
            "grid_row": null,
            "max_height": null,
            "align_content": null,
            "visibility": null,
            "align_self": null,
            "height": null,
            "min_height": null,
            "padding": null,
            "grid_auto_rows": null,
            "grid_gap": null,
            "max_width": null,
            "order": null,
            "_view_module_version": "1.2.0",
            "grid_template_areas": null,
            "object_position": null,
            "object_fit": null,
            "grid_auto_columns": null,
            "margin": null,
            "display": null,
            "left": null
          }
        },
        "6d67b82b2a5a400b9e46d5628ed4ffcf": {
          "model_module": "@jupyter-widgets/controls",
          "model_name": "ProgressStyleModel",
          "model_module_version": "1.5.0",
          "state": {
            "_view_name": "StyleView",
            "_model_name": "ProgressStyleModel",
            "description_width": "",
            "_view_module": "@jupyter-widgets/base",
            "_model_module_version": "1.5.0",
            "_view_count": null,
            "_view_module_version": "1.2.0",
            "bar_color": null,
            "_model_module": "@jupyter-widgets/controls"
          }
        },
        "6917141cba194aaea1731b667642a3dd": {
          "model_module": "@jupyter-widgets/base",
          "model_name": "LayoutModel",
          "model_module_version": "1.2.0",
          "state": {
            "_view_name": "LayoutView",
            "grid_template_rows": null,
            "right": null,
            "justify_content": null,
            "_view_module": "@jupyter-widgets/base",
            "overflow": null,
            "_model_module_version": "1.2.0",
            "_view_count": null,
            "flex_flow": null,
            "width": null,
            "min_width": null,
            "border": null,
            "align_items": null,
            "bottom": null,
            "_model_module": "@jupyter-widgets/base",
            "top": null,
            "grid_column": null,
            "overflow_y": null,
            "overflow_x": null,
            "grid_auto_flow": null,
            "grid_area": null,
            "grid_template_columns": null,
            "flex": null,
            "_model_name": "LayoutModel",
            "justify_items": null,
            "grid_row": null,
            "max_height": null,
            "align_content": null,
            "visibility": null,
            "align_self": null,
            "height": null,
            "min_height": null,
            "padding": null,
            "grid_auto_rows": null,
            "grid_gap": null,
            "max_width": null,
            "order": null,
            "_view_module_version": "1.2.0",
            "grid_template_areas": null,
            "object_position": null,
            "object_fit": null,
            "grid_auto_columns": null,
            "margin": null,
            "display": null,
            "left": null
          }
        },
        "74eee2f99c4c4900929cc71b17e7de5c": {
          "model_module": "@jupyter-widgets/controls",
          "model_name": "VBoxModel",
          "model_module_version": "1.5.0",
          "state": {
            "_view_name": "VBoxView",
            "_dom_classes": [],
            "_model_name": "VBoxModel",
            "_view_module": "@jupyter-widgets/controls",
            "_model_module_version": "1.5.0",
            "_view_count": null,
            "_view_module_version": "1.5.0",
            "box_style": "",
            "layout": "IPY_MODEL_a5cdb14e8614443792f71d7e056aba10",
            "_model_module": "@jupyter-widgets/controls",
            "children": [
              "IPY_MODEL_f199f15b525d49eb93b618127b8e1a4e",
              "IPY_MODEL_868ff0862ce849f5ae46d2e126e9b400"
            ]
          }
        },
        "a5cdb14e8614443792f71d7e056aba10": {
          "model_module": "@jupyter-widgets/base",
          "model_name": "LayoutModel",
          "model_module_version": "1.2.0",
          "state": {
            "_view_name": "LayoutView",
            "grid_template_rows": null,
            "right": null,
            "justify_content": null,
            "_view_module": "@jupyter-widgets/base",
            "overflow": null,
            "_model_module_version": "1.2.0",
            "_view_count": null,
            "flex_flow": null,
            "width": null,
            "min_width": null,
            "border": null,
            "align_items": null,
            "bottom": null,
            "_model_module": "@jupyter-widgets/base",
            "top": null,
            "grid_column": null,
            "overflow_y": null,
            "overflow_x": null,
            "grid_auto_flow": null,
            "grid_area": null,
            "grid_template_columns": null,
            "flex": null,
            "_model_name": "LayoutModel",
            "justify_items": null,
            "grid_row": null,
            "max_height": null,
            "align_content": null,
            "visibility": null,
            "align_self": null,
            "height": null,
            "min_height": null,
            "padding": null,
            "grid_auto_rows": null,
            "grid_gap": null,
            "max_width": null,
            "order": null,
            "_view_module_version": "1.2.0",
            "grid_template_areas": null,
            "object_position": null,
            "object_fit": null,
            "grid_auto_columns": null,
            "margin": null,
            "display": null,
            "left": null
          }
        },
        "f199f15b525d49eb93b618127b8e1a4e": {
          "model_module": "@jupyter-widgets/controls",
          "model_name": "LabelModel",
          "model_module_version": "1.5.0",
          "state": {
            "_view_name": "LabelView",
            "style": "IPY_MODEL_00910102516e4db495e89533a9d083c1",
            "_dom_classes": [],
            "description": "",
            "_model_name": "LabelModel",
            "placeholder": "​",
            "_view_module": "@jupyter-widgets/controls",
            "_model_module_version": "1.5.0",
            "value": " 0.05MB of 0.05MB uploaded (0.00MB deduped)\r",
            "_view_count": null,
            "_view_module_version": "1.5.0",
            "description_tooltip": null,
            "_model_module": "@jupyter-widgets/controls",
            "layout": "IPY_MODEL_8cb68ff3bade4622bd62d5ee64573241"
          }
        },
        "868ff0862ce849f5ae46d2e126e9b400": {
          "model_module": "@jupyter-widgets/controls",
          "model_name": "FloatProgressModel",
          "model_module_version": "1.5.0",
          "state": {
            "_view_name": "ProgressView",
            "style": "IPY_MODEL_baddeaafa0f449878a5813d0559cdbe2",
            "_dom_classes": [],
            "description": "",
            "_model_name": "FloatProgressModel",
            "bar_style": "",
            "max": 1,
            "_view_module": "@jupyter-widgets/controls",
            "_model_module_version": "1.5.0",
            "value": 1,
            "_view_count": null,
            "_view_module_version": "1.5.0",
            "orientation": "horizontal",
            "min": 0,
            "description_tooltip": null,
            "_model_module": "@jupyter-widgets/controls",
            "layout": "IPY_MODEL_951ab1cd733a4b33aa3660a24590164a"
          }
        },
        "00910102516e4db495e89533a9d083c1": {
          "model_module": "@jupyter-widgets/controls",
          "model_name": "DescriptionStyleModel",
          "model_module_version": "1.5.0",
          "state": {
            "_view_name": "StyleView",
            "_model_name": "DescriptionStyleModel",
            "description_width": "",
            "_view_module": "@jupyter-widgets/base",
            "_model_module_version": "1.5.0",
            "_view_count": null,
            "_view_module_version": "1.2.0",
            "_model_module": "@jupyter-widgets/controls"
          }
        },
        "8cb68ff3bade4622bd62d5ee64573241": {
          "model_module": "@jupyter-widgets/base",
          "model_name": "LayoutModel",
          "model_module_version": "1.2.0",
          "state": {
            "_view_name": "LayoutView",
            "grid_template_rows": null,
            "right": null,
            "justify_content": null,
            "_view_module": "@jupyter-widgets/base",
            "overflow": null,
            "_model_module_version": "1.2.0",
            "_view_count": null,
            "flex_flow": null,
            "width": null,
            "min_width": null,
            "border": null,
            "align_items": null,
            "bottom": null,
            "_model_module": "@jupyter-widgets/base",
            "top": null,
            "grid_column": null,
            "overflow_y": null,
            "overflow_x": null,
            "grid_auto_flow": null,
            "grid_area": null,
            "grid_template_columns": null,
            "flex": null,
            "_model_name": "LayoutModel",
            "justify_items": null,
            "grid_row": null,
            "max_height": null,
            "align_content": null,
            "visibility": null,
            "align_self": null,
            "height": null,
            "min_height": null,
            "padding": null,
            "grid_auto_rows": null,
            "grid_gap": null,
            "max_width": null,
            "order": null,
            "_view_module_version": "1.2.0",
            "grid_template_areas": null,
            "object_position": null,
            "object_fit": null,
            "grid_auto_columns": null,
            "margin": null,
            "display": null,
            "left": null
          }
        },
        "baddeaafa0f449878a5813d0559cdbe2": {
          "model_module": "@jupyter-widgets/controls",
          "model_name": "ProgressStyleModel",
          "model_module_version": "1.5.0",
          "state": {
            "_view_name": "StyleView",
            "_model_name": "ProgressStyleModel",
            "description_width": "",
            "_view_module": "@jupyter-widgets/base",
            "_model_module_version": "1.5.0",
            "_view_count": null,
            "_view_module_version": "1.2.0",
            "bar_color": null,
            "_model_module": "@jupyter-widgets/controls"
          }
        },
        "951ab1cd733a4b33aa3660a24590164a": {
          "model_module": "@jupyter-widgets/base",
          "model_name": "LayoutModel",
          "model_module_version": "1.2.0",
          "state": {
            "_view_name": "LayoutView",
            "grid_template_rows": null,
            "right": null,
            "justify_content": null,
            "_view_module": "@jupyter-widgets/base",
            "overflow": null,
            "_model_module_version": "1.2.0",
            "_view_count": null,
            "flex_flow": null,
            "width": null,
            "min_width": null,
            "border": null,
            "align_items": null,
            "bottom": null,
            "_model_module": "@jupyter-widgets/base",
            "top": null,
            "grid_column": null,
            "overflow_y": null,
            "overflow_x": null,
            "grid_auto_flow": null,
            "grid_area": null,
            "grid_template_columns": null,
            "flex": null,
            "_model_name": "LayoutModel",
            "justify_items": null,
            "grid_row": null,
            "max_height": null,
            "align_content": null,
            "visibility": null,
            "align_self": null,
            "height": null,
            "min_height": null,
            "padding": null,
            "grid_auto_rows": null,
            "grid_gap": null,
            "max_width": null,
            "order": null,
            "_view_module_version": "1.2.0",
            "grid_template_areas": null,
            "object_position": null,
            "object_fit": null,
            "grid_auto_columns": null,
            "margin": null,
            "display": null,
            "left": null
          }
        },
        "7bfc431a7fbf4735a81abb5c844a3e19": {
          "model_module": "@jupyter-widgets/controls",
          "model_name": "VBoxModel",
          "model_module_version": "1.5.0",
          "state": {
            "_view_name": "VBoxView",
            "_dom_classes": [],
            "_model_name": "VBoxModel",
            "_view_module": "@jupyter-widgets/controls",
            "_model_module_version": "1.5.0",
            "_view_count": null,
            "_view_module_version": "1.5.0",
            "box_style": "",
            "layout": "IPY_MODEL_680e1a3ca57a484ba5658cf400183b16",
            "_model_module": "@jupyter-widgets/controls",
            "children": [
              "IPY_MODEL_35a2011eb6ec47329d763ace63c24ccf",
              "IPY_MODEL_a47d4f9eec7c425eb56ff7126f3a065f"
            ]
          }
        },
        "680e1a3ca57a484ba5658cf400183b16": {
          "model_module": "@jupyter-widgets/base",
          "model_name": "LayoutModel",
          "model_module_version": "1.2.0",
          "state": {
            "_view_name": "LayoutView",
            "grid_template_rows": null,
            "right": null,
            "justify_content": null,
            "_view_module": "@jupyter-widgets/base",
            "overflow": null,
            "_model_module_version": "1.2.0",
            "_view_count": null,
            "flex_flow": null,
            "width": null,
            "min_width": null,
            "border": null,
            "align_items": null,
            "bottom": null,
            "_model_module": "@jupyter-widgets/base",
            "top": null,
            "grid_column": null,
            "overflow_y": null,
            "overflow_x": null,
            "grid_auto_flow": null,
            "grid_area": null,
            "grid_template_columns": null,
            "flex": null,
            "_model_name": "LayoutModel",
            "justify_items": null,
            "grid_row": null,
            "max_height": null,
            "align_content": null,
            "visibility": null,
            "align_self": null,
            "height": null,
            "min_height": null,
            "padding": null,
            "grid_auto_rows": null,
            "grid_gap": null,
            "max_width": null,
            "order": null,
            "_view_module_version": "1.2.0",
            "grid_template_areas": null,
            "object_position": null,
            "object_fit": null,
            "grid_auto_columns": null,
            "margin": null,
            "display": null,
            "left": null
          }
        },
        "35a2011eb6ec47329d763ace63c24ccf": {
          "model_module": "@jupyter-widgets/controls",
          "model_name": "LabelModel",
          "model_module_version": "1.5.0",
          "state": {
            "_view_name": "LabelView",
            "style": "IPY_MODEL_114a406a2b184449bc3f4cf38aead6b0",
            "_dom_classes": [],
            "description": "",
            "_model_name": "LabelModel",
            "placeholder": "​",
            "_view_module": "@jupyter-widgets/controls",
            "_model_module_version": "1.5.0",
            "value": " 0.05MB of 0.05MB uploaded (0.00MB deduped)\r",
            "_view_count": null,
            "_view_module_version": "1.5.0",
            "description_tooltip": null,
            "_model_module": "@jupyter-widgets/controls",
            "layout": "IPY_MODEL_57d6ae71b3db421fb482123a42f35301"
          }
        },
        "a47d4f9eec7c425eb56ff7126f3a065f": {
          "model_module": "@jupyter-widgets/controls",
          "model_name": "FloatProgressModel",
          "model_module_version": "1.5.0",
          "state": {
            "_view_name": "ProgressView",
            "style": "IPY_MODEL_ba4ef2568de54054b36776dca21cb995",
            "_dom_classes": [],
            "description": "",
            "_model_name": "FloatProgressModel",
            "bar_style": "",
            "max": 1,
            "_view_module": "@jupyter-widgets/controls",
            "_model_module_version": "1.5.0",
            "value": 1,
            "_view_count": null,
            "_view_module_version": "1.5.0",
            "orientation": "horizontal",
            "min": 0,
            "description_tooltip": null,
            "_model_module": "@jupyter-widgets/controls",
            "layout": "IPY_MODEL_39ca12120d8a480081e4ad00c15d203b"
          }
        },
        "114a406a2b184449bc3f4cf38aead6b0": {
          "model_module": "@jupyter-widgets/controls",
          "model_name": "DescriptionStyleModel",
          "model_module_version": "1.5.0",
          "state": {
            "_view_name": "StyleView",
            "_model_name": "DescriptionStyleModel",
            "description_width": "",
            "_view_module": "@jupyter-widgets/base",
            "_model_module_version": "1.5.0",
            "_view_count": null,
            "_view_module_version": "1.2.0",
            "_model_module": "@jupyter-widgets/controls"
          }
        },
        "57d6ae71b3db421fb482123a42f35301": {
          "model_module": "@jupyter-widgets/base",
          "model_name": "LayoutModel",
          "model_module_version": "1.2.0",
          "state": {
            "_view_name": "LayoutView",
            "grid_template_rows": null,
            "right": null,
            "justify_content": null,
            "_view_module": "@jupyter-widgets/base",
            "overflow": null,
            "_model_module_version": "1.2.0",
            "_view_count": null,
            "flex_flow": null,
            "width": null,
            "min_width": null,
            "border": null,
            "align_items": null,
            "bottom": null,
            "_model_module": "@jupyter-widgets/base",
            "top": null,
            "grid_column": null,
            "overflow_y": null,
            "overflow_x": null,
            "grid_auto_flow": null,
            "grid_area": null,
            "grid_template_columns": null,
            "flex": null,
            "_model_name": "LayoutModel",
            "justify_items": null,
            "grid_row": null,
            "max_height": null,
            "align_content": null,
            "visibility": null,
            "align_self": null,
            "height": null,
            "min_height": null,
            "padding": null,
            "grid_auto_rows": null,
            "grid_gap": null,
            "max_width": null,
            "order": null,
            "_view_module_version": "1.2.0",
            "grid_template_areas": null,
            "object_position": null,
            "object_fit": null,
            "grid_auto_columns": null,
            "margin": null,
            "display": null,
            "left": null
          }
        },
        "ba4ef2568de54054b36776dca21cb995": {
          "model_module": "@jupyter-widgets/controls",
          "model_name": "ProgressStyleModel",
          "model_module_version": "1.5.0",
          "state": {
            "_view_name": "StyleView",
            "_model_name": "ProgressStyleModel",
            "description_width": "",
            "_view_module": "@jupyter-widgets/base",
            "_model_module_version": "1.5.0",
            "_view_count": null,
            "_view_module_version": "1.2.0",
            "bar_color": null,
            "_model_module": "@jupyter-widgets/controls"
          }
        },
        "39ca12120d8a480081e4ad00c15d203b": {
          "model_module": "@jupyter-widgets/base",
          "model_name": "LayoutModel",
          "model_module_version": "1.2.0",
          "state": {
            "_view_name": "LayoutView",
            "grid_template_rows": null,
            "right": null,
            "justify_content": null,
            "_view_module": "@jupyter-widgets/base",
            "overflow": null,
            "_model_module_version": "1.2.0",
            "_view_count": null,
            "flex_flow": null,
            "width": null,
            "min_width": null,
            "border": null,
            "align_items": null,
            "bottom": null,
            "_model_module": "@jupyter-widgets/base",
            "top": null,
            "grid_column": null,
            "overflow_y": null,
            "overflow_x": null,
            "grid_auto_flow": null,
            "grid_area": null,
            "grid_template_columns": null,
            "flex": null,
            "_model_name": "LayoutModel",
            "justify_items": null,
            "grid_row": null,
            "max_height": null,
            "align_content": null,
            "visibility": null,
            "align_self": null,
            "height": null,
            "min_height": null,
            "padding": null,
            "grid_auto_rows": null,
            "grid_gap": null,
            "max_width": null,
            "order": null,
            "_view_module_version": "1.2.0",
            "grid_template_areas": null,
            "object_position": null,
            "object_fit": null,
            "grid_auto_columns": null,
            "margin": null,
            "display": null,
            "left": null
          }
        },
        "bc84762bf07e4cad9f76e06f9ae947b9": {
          "model_module": "@jupyter-widgets/controls",
          "model_name": "VBoxModel",
          "model_module_version": "1.5.0",
          "state": {
            "_view_name": "VBoxView",
            "_dom_classes": [],
            "_model_name": "VBoxModel",
            "_view_module": "@jupyter-widgets/controls",
            "_model_module_version": "1.5.0",
            "_view_count": null,
            "_view_module_version": "1.5.0",
            "box_style": "",
            "layout": "IPY_MODEL_8661a11f43324e0a811d2cd9c76783da",
            "_model_module": "@jupyter-widgets/controls",
            "children": [
              "IPY_MODEL_3e1d4cf085e94352a9bff390a7b46203",
              "IPY_MODEL_21c78d3bb905468bb6c40fc1389deb89"
            ]
          }
        },
        "8661a11f43324e0a811d2cd9c76783da": {
          "model_module": "@jupyter-widgets/base",
          "model_name": "LayoutModel",
          "model_module_version": "1.2.0",
          "state": {
            "_view_name": "LayoutView",
            "grid_template_rows": null,
            "right": null,
            "justify_content": null,
            "_view_module": "@jupyter-widgets/base",
            "overflow": null,
            "_model_module_version": "1.2.0",
            "_view_count": null,
            "flex_flow": null,
            "width": null,
            "min_width": null,
            "border": null,
            "align_items": null,
            "bottom": null,
            "_model_module": "@jupyter-widgets/base",
            "top": null,
            "grid_column": null,
            "overflow_y": null,
            "overflow_x": null,
            "grid_auto_flow": null,
            "grid_area": null,
            "grid_template_columns": null,
            "flex": null,
            "_model_name": "LayoutModel",
            "justify_items": null,
            "grid_row": null,
            "max_height": null,
            "align_content": null,
            "visibility": null,
            "align_self": null,
            "height": null,
            "min_height": null,
            "padding": null,
            "grid_auto_rows": null,
            "grid_gap": null,
            "max_width": null,
            "order": null,
            "_view_module_version": "1.2.0",
            "grid_template_areas": null,
            "object_position": null,
            "object_fit": null,
            "grid_auto_columns": null,
            "margin": null,
            "display": null,
            "left": null
          }
        },
        "3e1d4cf085e94352a9bff390a7b46203": {
          "model_module": "@jupyter-widgets/controls",
          "model_name": "LabelModel",
          "model_module_version": "1.5.0",
          "state": {
            "_view_name": "LabelView",
            "style": "IPY_MODEL_632989ab1e894bfe8c58bc3b73cd83c3",
            "_dom_classes": [],
            "description": "",
            "_model_name": "LabelModel",
            "placeholder": "​",
            "_view_module": "@jupyter-widgets/controls",
            "_model_module_version": "1.5.0",
            "value": " 0.05MB of 0.05MB uploaded (0.00MB deduped)\r",
            "_view_count": null,
            "_view_module_version": "1.5.0",
            "description_tooltip": null,
            "_model_module": "@jupyter-widgets/controls",
            "layout": "IPY_MODEL_baf12fdbbe824133842889b715f9e22a"
          }
        },
        "21c78d3bb905468bb6c40fc1389deb89": {
          "model_module": "@jupyter-widgets/controls",
          "model_name": "FloatProgressModel",
          "model_module_version": "1.5.0",
          "state": {
            "_view_name": "ProgressView",
            "style": "IPY_MODEL_37c1072e42d642da94de720e65dba2f0",
            "_dom_classes": [],
            "description": "",
            "_model_name": "FloatProgressModel",
            "bar_style": "",
            "max": 1,
            "_view_module": "@jupyter-widgets/controls",
            "_model_module_version": "1.5.0",
            "value": 1,
            "_view_count": null,
            "_view_module_version": "1.5.0",
            "orientation": "horizontal",
            "min": 0,
            "description_tooltip": null,
            "_model_module": "@jupyter-widgets/controls",
            "layout": "IPY_MODEL_f25ae21016d54c1eb5a9ba0e86cdfe95"
          }
        },
        "632989ab1e894bfe8c58bc3b73cd83c3": {
          "model_module": "@jupyter-widgets/controls",
          "model_name": "DescriptionStyleModel",
          "model_module_version": "1.5.0",
          "state": {
            "_view_name": "StyleView",
            "_model_name": "DescriptionStyleModel",
            "description_width": "",
            "_view_module": "@jupyter-widgets/base",
            "_model_module_version": "1.5.0",
            "_view_count": null,
            "_view_module_version": "1.2.0",
            "_model_module": "@jupyter-widgets/controls"
          }
        },
        "baf12fdbbe824133842889b715f9e22a": {
          "model_module": "@jupyter-widgets/base",
          "model_name": "LayoutModel",
          "model_module_version": "1.2.0",
          "state": {
            "_view_name": "LayoutView",
            "grid_template_rows": null,
            "right": null,
            "justify_content": null,
            "_view_module": "@jupyter-widgets/base",
            "overflow": null,
            "_model_module_version": "1.2.0",
            "_view_count": null,
            "flex_flow": null,
            "width": null,
            "min_width": null,
            "border": null,
            "align_items": null,
            "bottom": null,
            "_model_module": "@jupyter-widgets/base",
            "top": null,
            "grid_column": null,
            "overflow_y": null,
            "overflow_x": null,
            "grid_auto_flow": null,
            "grid_area": null,
            "grid_template_columns": null,
            "flex": null,
            "_model_name": "LayoutModel",
            "justify_items": null,
            "grid_row": null,
            "max_height": null,
            "align_content": null,
            "visibility": null,
            "align_self": null,
            "height": null,
            "min_height": null,
            "padding": null,
            "grid_auto_rows": null,
            "grid_gap": null,
            "max_width": null,
            "order": null,
            "_view_module_version": "1.2.0",
            "grid_template_areas": null,
            "object_position": null,
            "object_fit": null,
            "grid_auto_columns": null,
            "margin": null,
            "display": null,
            "left": null
          }
        },
        "37c1072e42d642da94de720e65dba2f0": {
          "model_module": "@jupyter-widgets/controls",
          "model_name": "ProgressStyleModel",
          "model_module_version": "1.5.0",
          "state": {
            "_view_name": "StyleView",
            "_model_name": "ProgressStyleModel",
            "description_width": "",
            "_view_module": "@jupyter-widgets/base",
            "_model_module_version": "1.5.0",
            "_view_count": null,
            "_view_module_version": "1.2.0",
            "bar_color": null,
            "_model_module": "@jupyter-widgets/controls"
          }
        },
        "f25ae21016d54c1eb5a9ba0e86cdfe95": {
          "model_module": "@jupyter-widgets/base",
          "model_name": "LayoutModel",
          "model_module_version": "1.2.0",
          "state": {
            "_view_name": "LayoutView",
            "grid_template_rows": null,
            "right": null,
            "justify_content": null,
            "_view_module": "@jupyter-widgets/base",
            "overflow": null,
            "_model_module_version": "1.2.0",
            "_view_count": null,
            "flex_flow": null,
            "width": null,
            "min_width": null,
            "border": null,
            "align_items": null,
            "bottom": null,
            "_model_module": "@jupyter-widgets/base",
            "top": null,
            "grid_column": null,
            "overflow_y": null,
            "overflow_x": null,
            "grid_auto_flow": null,
            "grid_area": null,
            "grid_template_columns": null,
            "flex": null,
            "_model_name": "LayoutModel",
            "justify_items": null,
            "grid_row": null,
            "max_height": null,
            "align_content": null,
            "visibility": null,
            "align_self": null,
            "height": null,
            "min_height": null,
            "padding": null,
            "grid_auto_rows": null,
            "grid_gap": null,
            "max_width": null,
            "order": null,
            "_view_module_version": "1.2.0",
            "grid_template_areas": null,
            "object_position": null,
            "object_fit": null,
            "grid_auto_columns": null,
            "margin": null,
            "display": null,
            "left": null
          }
        },
        "c7270b81ab904230af19219f4f8a2896": {
          "model_module": "@jupyter-widgets/controls",
          "model_name": "VBoxModel",
          "model_module_version": "1.5.0",
          "state": {
            "_view_name": "VBoxView",
            "_dom_classes": [],
            "_model_name": "VBoxModel",
            "_view_module": "@jupyter-widgets/controls",
            "_model_module_version": "1.5.0",
            "_view_count": null,
            "_view_module_version": "1.5.0",
            "box_style": "",
            "layout": "IPY_MODEL_ba89e4beec0a4419bdaaa7ea5fdfc7a2",
            "_model_module": "@jupyter-widgets/controls",
            "children": [
              "IPY_MODEL_62b85806f87940cda906646030cc81ea",
              "IPY_MODEL_1a69f425f0ff46ebb25a75c0483a770e"
            ]
          }
        },
        "ba89e4beec0a4419bdaaa7ea5fdfc7a2": {
          "model_module": "@jupyter-widgets/base",
          "model_name": "LayoutModel",
          "model_module_version": "1.2.0",
          "state": {
            "_view_name": "LayoutView",
            "grid_template_rows": null,
            "right": null,
            "justify_content": null,
            "_view_module": "@jupyter-widgets/base",
            "overflow": null,
            "_model_module_version": "1.2.0",
            "_view_count": null,
            "flex_flow": null,
            "width": null,
            "min_width": null,
            "border": null,
            "align_items": null,
            "bottom": null,
            "_model_module": "@jupyter-widgets/base",
            "top": null,
            "grid_column": null,
            "overflow_y": null,
            "overflow_x": null,
            "grid_auto_flow": null,
            "grid_area": null,
            "grid_template_columns": null,
            "flex": null,
            "_model_name": "LayoutModel",
            "justify_items": null,
            "grid_row": null,
            "max_height": null,
            "align_content": null,
            "visibility": null,
            "align_self": null,
            "height": null,
            "min_height": null,
            "padding": null,
            "grid_auto_rows": null,
            "grid_gap": null,
            "max_width": null,
            "order": null,
            "_view_module_version": "1.2.0",
            "grid_template_areas": null,
            "object_position": null,
            "object_fit": null,
            "grid_auto_columns": null,
            "margin": null,
            "display": null,
            "left": null
          }
        },
        "62b85806f87940cda906646030cc81ea": {
          "model_module": "@jupyter-widgets/controls",
          "model_name": "LabelModel",
          "model_module_version": "1.5.0",
          "state": {
            "_view_name": "LabelView",
            "style": "IPY_MODEL_d7484bf3913a4ed19354cde67c14f712",
            "_dom_classes": [],
            "description": "",
            "_model_name": "LabelModel",
            "placeholder": "​",
            "_view_module": "@jupyter-widgets/controls",
            "_model_module_version": "1.5.0",
            "value": " 0.05MB of 0.05MB uploaded (0.00MB deduped)\r",
            "_view_count": null,
            "_view_module_version": "1.5.0",
            "description_tooltip": null,
            "_model_module": "@jupyter-widgets/controls",
            "layout": "IPY_MODEL_6a044c4aa7e54feaa6f2f588b4853074"
          }
        },
        "1a69f425f0ff46ebb25a75c0483a770e": {
          "model_module": "@jupyter-widgets/controls",
          "model_name": "FloatProgressModel",
          "model_module_version": "1.5.0",
          "state": {
            "_view_name": "ProgressView",
            "style": "IPY_MODEL_d3bde407762c4a678c8ccbfa33ac05fc",
            "_dom_classes": [],
            "description": "",
            "_model_name": "FloatProgressModel",
            "bar_style": "",
            "max": 1,
            "_view_module": "@jupyter-widgets/controls",
            "_model_module_version": "1.5.0",
            "value": 1,
            "_view_count": null,
            "_view_module_version": "1.5.0",
            "orientation": "horizontal",
            "min": 0,
            "description_tooltip": null,
            "_model_module": "@jupyter-widgets/controls",
            "layout": "IPY_MODEL_9e0080c283da4294be221142b7ffc7e7"
          }
        },
        "d7484bf3913a4ed19354cde67c14f712": {
          "model_module": "@jupyter-widgets/controls",
          "model_name": "DescriptionStyleModel",
          "model_module_version": "1.5.0",
          "state": {
            "_view_name": "StyleView",
            "_model_name": "DescriptionStyleModel",
            "description_width": "",
            "_view_module": "@jupyter-widgets/base",
            "_model_module_version": "1.5.0",
            "_view_count": null,
            "_view_module_version": "1.2.0",
            "_model_module": "@jupyter-widgets/controls"
          }
        },
        "6a044c4aa7e54feaa6f2f588b4853074": {
          "model_module": "@jupyter-widgets/base",
          "model_name": "LayoutModel",
          "model_module_version": "1.2.0",
          "state": {
            "_view_name": "LayoutView",
            "grid_template_rows": null,
            "right": null,
            "justify_content": null,
            "_view_module": "@jupyter-widgets/base",
            "overflow": null,
            "_model_module_version": "1.2.0",
            "_view_count": null,
            "flex_flow": null,
            "width": null,
            "min_width": null,
            "border": null,
            "align_items": null,
            "bottom": null,
            "_model_module": "@jupyter-widgets/base",
            "top": null,
            "grid_column": null,
            "overflow_y": null,
            "overflow_x": null,
            "grid_auto_flow": null,
            "grid_area": null,
            "grid_template_columns": null,
            "flex": null,
            "_model_name": "LayoutModel",
            "justify_items": null,
            "grid_row": null,
            "max_height": null,
            "align_content": null,
            "visibility": null,
            "align_self": null,
            "height": null,
            "min_height": null,
            "padding": null,
            "grid_auto_rows": null,
            "grid_gap": null,
            "max_width": null,
            "order": null,
            "_view_module_version": "1.2.0",
            "grid_template_areas": null,
            "object_position": null,
            "object_fit": null,
            "grid_auto_columns": null,
            "margin": null,
            "display": null,
            "left": null
          }
        },
        "d3bde407762c4a678c8ccbfa33ac05fc": {
          "model_module": "@jupyter-widgets/controls",
          "model_name": "ProgressStyleModel",
          "model_module_version": "1.5.0",
          "state": {
            "_view_name": "StyleView",
            "_model_name": "ProgressStyleModel",
            "description_width": "",
            "_view_module": "@jupyter-widgets/base",
            "_model_module_version": "1.5.0",
            "_view_count": null,
            "_view_module_version": "1.2.0",
            "bar_color": null,
            "_model_module": "@jupyter-widgets/controls"
          }
        },
        "9e0080c283da4294be221142b7ffc7e7": {
          "model_module": "@jupyter-widgets/base",
          "model_name": "LayoutModel",
          "model_module_version": "1.2.0",
          "state": {
            "_view_name": "LayoutView",
            "grid_template_rows": null,
            "right": null,
            "justify_content": null,
            "_view_module": "@jupyter-widgets/base",
            "overflow": null,
            "_model_module_version": "1.2.0",
            "_view_count": null,
            "flex_flow": null,
            "width": null,
            "min_width": null,
            "border": null,
            "align_items": null,
            "bottom": null,
            "_model_module": "@jupyter-widgets/base",
            "top": null,
            "grid_column": null,
            "overflow_y": null,
            "overflow_x": null,
            "grid_auto_flow": null,
            "grid_area": null,
            "grid_template_columns": null,
            "flex": null,
            "_model_name": "LayoutModel",
            "justify_items": null,
            "grid_row": null,
            "max_height": null,
            "align_content": null,
            "visibility": null,
            "align_self": null,
            "height": null,
            "min_height": null,
            "padding": null,
            "grid_auto_rows": null,
            "grid_gap": null,
            "max_width": null,
            "order": null,
            "_view_module_version": "1.2.0",
            "grid_template_areas": null,
            "object_position": null,
            "object_fit": null,
            "grid_auto_columns": null,
            "margin": null,
            "display": null,
            "left": null
          }
        },
        "c2f83efa60844b69baaae808f419fe26": {
          "model_module": "@jupyter-widgets/controls",
          "model_name": "VBoxModel",
          "model_module_version": "1.5.0",
          "state": {
            "_view_name": "VBoxView",
            "_dom_classes": [],
            "_model_name": "VBoxModel",
            "_view_module": "@jupyter-widgets/controls",
            "_model_module_version": "1.5.0",
            "_view_count": null,
            "_view_module_version": "1.5.0",
            "box_style": "",
            "layout": "IPY_MODEL_528cc667c3294efebedac6bd5e0e36ec",
            "_model_module": "@jupyter-widgets/controls",
            "children": [
              "IPY_MODEL_2e6a80394d264dc79146f545d3cb57fe",
              "IPY_MODEL_f5474b8d1dbe4f778a0aa69682c630b4"
            ]
          }
        },
        "528cc667c3294efebedac6bd5e0e36ec": {
          "model_module": "@jupyter-widgets/base",
          "model_name": "LayoutModel",
          "model_module_version": "1.2.0",
          "state": {
            "_view_name": "LayoutView",
            "grid_template_rows": null,
            "right": null,
            "justify_content": null,
            "_view_module": "@jupyter-widgets/base",
            "overflow": null,
            "_model_module_version": "1.2.0",
            "_view_count": null,
            "flex_flow": null,
            "width": null,
            "min_width": null,
            "border": null,
            "align_items": null,
            "bottom": null,
            "_model_module": "@jupyter-widgets/base",
            "top": null,
            "grid_column": null,
            "overflow_y": null,
            "overflow_x": null,
            "grid_auto_flow": null,
            "grid_area": null,
            "grid_template_columns": null,
            "flex": null,
            "_model_name": "LayoutModel",
            "justify_items": null,
            "grid_row": null,
            "max_height": null,
            "align_content": null,
            "visibility": null,
            "align_self": null,
            "height": null,
            "min_height": null,
            "padding": null,
            "grid_auto_rows": null,
            "grid_gap": null,
            "max_width": null,
            "order": null,
            "_view_module_version": "1.2.0",
            "grid_template_areas": null,
            "object_position": null,
            "object_fit": null,
            "grid_auto_columns": null,
            "margin": null,
            "display": null,
            "left": null
          }
        },
        "2e6a80394d264dc79146f545d3cb57fe": {
          "model_module": "@jupyter-widgets/controls",
          "model_name": "LabelModel",
          "model_module_version": "1.5.0",
          "state": {
            "_view_name": "LabelView",
            "style": "IPY_MODEL_a8982e0ac48f4904b8cea0189f9e4140",
            "_dom_classes": [],
            "description": "",
            "_model_name": "LabelModel",
            "placeholder": "​",
            "_view_module": "@jupyter-widgets/controls",
            "_model_module_version": "1.5.0",
            "value": " 0.05MB of 0.05MB uploaded (0.00MB deduped)\r",
            "_view_count": null,
            "_view_module_version": "1.5.0",
            "description_tooltip": null,
            "_model_module": "@jupyter-widgets/controls",
            "layout": "IPY_MODEL_6d1400ff5c0b4bcea35b1b1413b61d42"
          }
        },
        "f5474b8d1dbe4f778a0aa69682c630b4": {
          "model_module": "@jupyter-widgets/controls",
          "model_name": "FloatProgressModel",
          "model_module_version": "1.5.0",
          "state": {
            "_view_name": "ProgressView",
            "style": "IPY_MODEL_4ee62e91065b4a2fa69aedec1d9cfb6d",
            "_dom_classes": [],
            "description": "",
            "_model_name": "FloatProgressModel",
            "bar_style": "",
            "max": 1,
            "_view_module": "@jupyter-widgets/controls",
            "_model_module_version": "1.5.0",
            "value": 1,
            "_view_count": null,
            "_view_module_version": "1.5.0",
            "orientation": "horizontal",
            "min": 0,
            "description_tooltip": null,
            "_model_module": "@jupyter-widgets/controls",
            "layout": "IPY_MODEL_d53665334b0d4aaabb37dc79991beefd"
          }
        },
        "a8982e0ac48f4904b8cea0189f9e4140": {
          "model_module": "@jupyter-widgets/controls",
          "model_name": "DescriptionStyleModel",
          "model_module_version": "1.5.0",
          "state": {
            "_view_name": "StyleView",
            "_model_name": "DescriptionStyleModel",
            "description_width": "",
            "_view_module": "@jupyter-widgets/base",
            "_model_module_version": "1.5.0",
            "_view_count": null,
            "_view_module_version": "1.2.0",
            "_model_module": "@jupyter-widgets/controls"
          }
        },
        "6d1400ff5c0b4bcea35b1b1413b61d42": {
          "model_module": "@jupyter-widgets/base",
          "model_name": "LayoutModel",
          "model_module_version": "1.2.0",
          "state": {
            "_view_name": "LayoutView",
            "grid_template_rows": null,
            "right": null,
            "justify_content": null,
            "_view_module": "@jupyter-widgets/base",
            "overflow": null,
            "_model_module_version": "1.2.0",
            "_view_count": null,
            "flex_flow": null,
            "width": null,
            "min_width": null,
            "border": null,
            "align_items": null,
            "bottom": null,
            "_model_module": "@jupyter-widgets/base",
            "top": null,
            "grid_column": null,
            "overflow_y": null,
            "overflow_x": null,
            "grid_auto_flow": null,
            "grid_area": null,
            "grid_template_columns": null,
            "flex": null,
            "_model_name": "LayoutModel",
            "justify_items": null,
            "grid_row": null,
            "max_height": null,
            "align_content": null,
            "visibility": null,
            "align_self": null,
            "height": null,
            "min_height": null,
            "padding": null,
            "grid_auto_rows": null,
            "grid_gap": null,
            "max_width": null,
            "order": null,
            "_view_module_version": "1.2.0",
            "grid_template_areas": null,
            "object_position": null,
            "object_fit": null,
            "grid_auto_columns": null,
            "margin": null,
            "display": null,
            "left": null
          }
        },
        "4ee62e91065b4a2fa69aedec1d9cfb6d": {
          "model_module": "@jupyter-widgets/controls",
          "model_name": "ProgressStyleModel",
          "model_module_version": "1.5.0",
          "state": {
            "_view_name": "StyleView",
            "_model_name": "ProgressStyleModel",
            "description_width": "",
            "_view_module": "@jupyter-widgets/base",
            "_model_module_version": "1.5.0",
            "_view_count": null,
            "_view_module_version": "1.2.0",
            "bar_color": null,
            "_model_module": "@jupyter-widgets/controls"
          }
        },
        "d53665334b0d4aaabb37dc79991beefd": {
          "model_module": "@jupyter-widgets/base",
          "model_name": "LayoutModel",
          "model_module_version": "1.2.0",
          "state": {
            "_view_name": "LayoutView",
            "grid_template_rows": null,
            "right": null,
            "justify_content": null,
            "_view_module": "@jupyter-widgets/base",
            "overflow": null,
            "_model_module_version": "1.2.0",
            "_view_count": null,
            "flex_flow": null,
            "width": null,
            "min_width": null,
            "border": null,
            "align_items": null,
            "bottom": null,
            "_model_module": "@jupyter-widgets/base",
            "top": null,
            "grid_column": null,
            "overflow_y": null,
            "overflow_x": null,
            "grid_auto_flow": null,
            "grid_area": null,
            "grid_template_columns": null,
            "flex": null,
            "_model_name": "LayoutModel",
            "justify_items": null,
            "grid_row": null,
            "max_height": null,
            "align_content": null,
            "visibility": null,
            "align_self": null,
            "height": null,
            "min_height": null,
            "padding": null,
            "grid_auto_rows": null,
            "grid_gap": null,
            "max_width": null,
            "order": null,
            "_view_module_version": "1.2.0",
            "grid_template_areas": null,
            "object_position": null,
            "object_fit": null,
            "grid_auto_columns": null,
            "margin": null,
            "display": null,
            "left": null
          }
        },
        "21ea9f72a87840df903314b4337482fe": {
          "model_module": "@jupyter-widgets/controls",
          "model_name": "VBoxModel",
          "model_module_version": "1.5.0",
          "state": {
            "_view_name": "VBoxView",
            "_dom_classes": [],
            "_model_name": "VBoxModel",
            "_view_module": "@jupyter-widgets/controls",
            "_model_module_version": "1.5.0",
            "_view_count": null,
            "_view_module_version": "1.5.0",
            "box_style": "",
            "layout": "IPY_MODEL_1008b34bd1924bd8aec536cf0fff268f",
            "_model_module": "@jupyter-widgets/controls",
            "children": [
              "IPY_MODEL_479a42cfeb2744b88723a6e1eb5bd832",
              "IPY_MODEL_77b2e74a4e4a40b7b83990c00fba36cd"
            ]
          }
        },
        "1008b34bd1924bd8aec536cf0fff268f": {
          "model_module": "@jupyter-widgets/base",
          "model_name": "LayoutModel",
          "model_module_version": "1.2.0",
          "state": {
            "_view_name": "LayoutView",
            "grid_template_rows": null,
            "right": null,
            "justify_content": null,
            "_view_module": "@jupyter-widgets/base",
            "overflow": null,
            "_model_module_version": "1.2.0",
            "_view_count": null,
            "flex_flow": null,
            "width": null,
            "min_width": null,
            "border": null,
            "align_items": null,
            "bottom": null,
            "_model_module": "@jupyter-widgets/base",
            "top": null,
            "grid_column": null,
            "overflow_y": null,
            "overflow_x": null,
            "grid_auto_flow": null,
            "grid_area": null,
            "grid_template_columns": null,
            "flex": null,
            "_model_name": "LayoutModel",
            "justify_items": null,
            "grid_row": null,
            "max_height": null,
            "align_content": null,
            "visibility": null,
            "align_self": null,
            "height": null,
            "min_height": null,
            "padding": null,
            "grid_auto_rows": null,
            "grid_gap": null,
            "max_width": null,
            "order": null,
            "_view_module_version": "1.2.0",
            "grid_template_areas": null,
            "object_position": null,
            "object_fit": null,
            "grid_auto_columns": null,
            "margin": null,
            "display": null,
            "left": null
          }
        },
        "479a42cfeb2744b88723a6e1eb5bd832": {
          "model_module": "@jupyter-widgets/controls",
          "model_name": "LabelModel",
          "model_module_version": "1.5.0",
          "state": {
            "_view_name": "LabelView",
            "style": "IPY_MODEL_96079965c4a64517bf0fe58d7743c11e",
            "_dom_classes": [],
            "description": "",
            "_model_name": "LabelModel",
            "placeholder": "​",
            "_view_module": "@jupyter-widgets/controls",
            "_model_module_version": "1.5.0",
            "value": " 0.05MB of 0.05MB uploaded (0.00MB deduped)\r",
            "_view_count": null,
            "_view_module_version": "1.5.0",
            "description_tooltip": null,
            "_model_module": "@jupyter-widgets/controls",
            "layout": "IPY_MODEL_701c95f9ce7949deabe4cfeaf4fb1298"
          }
        },
        "77b2e74a4e4a40b7b83990c00fba36cd": {
          "model_module": "@jupyter-widgets/controls",
          "model_name": "FloatProgressModel",
          "model_module_version": "1.5.0",
          "state": {
            "_view_name": "ProgressView",
            "style": "IPY_MODEL_c258996400a44f2b9ab754730ec60613",
            "_dom_classes": [],
            "description": "",
            "_model_name": "FloatProgressModel",
            "bar_style": "",
            "max": 1,
            "_view_module": "@jupyter-widgets/controls",
            "_model_module_version": "1.5.0",
            "value": 1,
            "_view_count": null,
            "_view_module_version": "1.5.0",
            "orientation": "horizontal",
            "min": 0,
            "description_tooltip": null,
            "_model_module": "@jupyter-widgets/controls",
            "layout": "IPY_MODEL_1812b647d78e4a7899f4d437c640050d"
          }
        },
        "96079965c4a64517bf0fe58d7743c11e": {
          "model_module": "@jupyter-widgets/controls",
          "model_name": "DescriptionStyleModel",
          "model_module_version": "1.5.0",
          "state": {
            "_view_name": "StyleView",
            "_model_name": "DescriptionStyleModel",
            "description_width": "",
            "_view_module": "@jupyter-widgets/base",
            "_model_module_version": "1.5.0",
            "_view_count": null,
            "_view_module_version": "1.2.0",
            "_model_module": "@jupyter-widgets/controls"
          }
        },
        "701c95f9ce7949deabe4cfeaf4fb1298": {
          "model_module": "@jupyter-widgets/base",
          "model_name": "LayoutModel",
          "model_module_version": "1.2.0",
          "state": {
            "_view_name": "LayoutView",
            "grid_template_rows": null,
            "right": null,
            "justify_content": null,
            "_view_module": "@jupyter-widgets/base",
            "overflow": null,
            "_model_module_version": "1.2.0",
            "_view_count": null,
            "flex_flow": null,
            "width": null,
            "min_width": null,
            "border": null,
            "align_items": null,
            "bottom": null,
            "_model_module": "@jupyter-widgets/base",
            "top": null,
            "grid_column": null,
            "overflow_y": null,
            "overflow_x": null,
            "grid_auto_flow": null,
            "grid_area": null,
            "grid_template_columns": null,
            "flex": null,
            "_model_name": "LayoutModel",
            "justify_items": null,
            "grid_row": null,
            "max_height": null,
            "align_content": null,
            "visibility": null,
            "align_self": null,
            "height": null,
            "min_height": null,
            "padding": null,
            "grid_auto_rows": null,
            "grid_gap": null,
            "max_width": null,
            "order": null,
            "_view_module_version": "1.2.0",
            "grid_template_areas": null,
            "object_position": null,
            "object_fit": null,
            "grid_auto_columns": null,
            "margin": null,
            "display": null,
            "left": null
          }
        },
        "c258996400a44f2b9ab754730ec60613": {
          "model_module": "@jupyter-widgets/controls",
          "model_name": "ProgressStyleModel",
          "model_module_version": "1.5.0",
          "state": {
            "_view_name": "StyleView",
            "_model_name": "ProgressStyleModel",
            "description_width": "",
            "_view_module": "@jupyter-widgets/base",
            "_model_module_version": "1.5.0",
            "_view_count": null,
            "_view_module_version": "1.2.0",
            "bar_color": null,
            "_model_module": "@jupyter-widgets/controls"
          }
        },
        "1812b647d78e4a7899f4d437c640050d": {
          "model_module": "@jupyter-widgets/base",
          "model_name": "LayoutModel",
          "model_module_version": "1.2.0",
          "state": {
            "_view_name": "LayoutView",
            "grid_template_rows": null,
            "right": null,
            "justify_content": null,
            "_view_module": "@jupyter-widgets/base",
            "overflow": null,
            "_model_module_version": "1.2.0",
            "_view_count": null,
            "flex_flow": null,
            "width": null,
            "min_width": null,
            "border": null,
            "align_items": null,
            "bottom": null,
            "_model_module": "@jupyter-widgets/base",
            "top": null,
            "grid_column": null,
            "overflow_y": null,
            "overflow_x": null,
            "grid_auto_flow": null,
            "grid_area": null,
            "grid_template_columns": null,
            "flex": null,
            "_model_name": "LayoutModel",
            "justify_items": null,
            "grid_row": null,
            "max_height": null,
            "align_content": null,
            "visibility": null,
            "align_self": null,
            "height": null,
            "min_height": null,
            "padding": null,
            "grid_auto_rows": null,
            "grid_gap": null,
            "max_width": null,
            "order": null,
            "_view_module_version": "1.2.0",
            "grid_template_areas": null,
            "object_position": null,
            "object_fit": null,
            "grid_auto_columns": null,
            "margin": null,
            "display": null,
            "left": null
          }
        },
        "9c192c18b28e4fefb8da28c1c5b68888": {
          "model_module": "@jupyter-widgets/controls",
          "model_name": "VBoxModel",
          "model_module_version": "1.5.0",
          "state": {
            "_view_name": "VBoxView",
            "_dom_classes": [],
            "_model_name": "VBoxModel",
            "_view_module": "@jupyter-widgets/controls",
            "_model_module_version": "1.5.0",
            "_view_count": null,
            "_view_module_version": "1.5.0",
            "box_style": "",
            "layout": "IPY_MODEL_c0656836506f438b80c3085d891c75c1",
            "_model_module": "@jupyter-widgets/controls",
            "children": [
              "IPY_MODEL_2da9bfa0ea5f4f91a121d69e083386c2",
              "IPY_MODEL_7a68ecc7aa0d45a4bf318004f549dfda"
            ]
          }
        },
        "c0656836506f438b80c3085d891c75c1": {
          "model_module": "@jupyter-widgets/base",
          "model_name": "LayoutModel",
          "model_module_version": "1.2.0",
          "state": {
            "_view_name": "LayoutView",
            "grid_template_rows": null,
            "right": null,
            "justify_content": null,
            "_view_module": "@jupyter-widgets/base",
            "overflow": null,
            "_model_module_version": "1.2.0",
            "_view_count": null,
            "flex_flow": null,
            "width": null,
            "min_width": null,
            "border": null,
            "align_items": null,
            "bottom": null,
            "_model_module": "@jupyter-widgets/base",
            "top": null,
            "grid_column": null,
            "overflow_y": null,
            "overflow_x": null,
            "grid_auto_flow": null,
            "grid_area": null,
            "grid_template_columns": null,
            "flex": null,
            "_model_name": "LayoutModel",
            "justify_items": null,
            "grid_row": null,
            "max_height": null,
            "align_content": null,
            "visibility": null,
            "align_self": null,
            "height": null,
            "min_height": null,
            "padding": null,
            "grid_auto_rows": null,
            "grid_gap": null,
            "max_width": null,
            "order": null,
            "_view_module_version": "1.2.0",
            "grid_template_areas": null,
            "object_position": null,
            "object_fit": null,
            "grid_auto_columns": null,
            "margin": null,
            "display": null,
            "left": null
          }
        },
        "2da9bfa0ea5f4f91a121d69e083386c2": {
          "model_module": "@jupyter-widgets/controls",
          "model_name": "LabelModel",
          "model_module_version": "1.5.0",
          "state": {
            "_view_name": "LabelView",
            "style": "IPY_MODEL_485589e95bfd49eab8dd98e02e615dc7",
            "_dom_classes": [],
            "description": "",
            "_model_name": "LabelModel",
            "placeholder": "​",
            "_view_module": "@jupyter-widgets/controls",
            "_model_module_version": "1.5.0",
            "value": " 0.05MB of 0.05MB uploaded (0.00MB deduped)\r",
            "_view_count": null,
            "_view_module_version": "1.5.0",
            "description_tooltip": null,
            "_model_module": "@jupyter-widgets/controls",
            "layout": "IPY_MODEL_69db8f9d40d74d868f807ee664b13131"
          }
        },
        "7a68ecc7aa0d45a4bf318004f549dfda": {
          "model_module": "@jupyter-widgets/controls",
          "model_name": "FloatProgressModel",
          "model_module_version": "1.5.0",
          "state": {
            "_view_name": "ProgressView",
            "style": "IPY_MODEL_b8c848bdc5444417a294db7a3eaf7f6a",
            "_dom_classes": [],
            "description": "",
            "_model_name": "FloatProgressModel",
            "bar_style": "",
            "max": 1,
            "_view_module": "@jupyter-widgets/controls",
            "_model_module_version": "1.5.0",
            "value": 1,
            "_view_count": null,
            "_view_module_version": "1.5.0",
            "orientation": "horizontal",
            "min": 0,
            "description_tooltip": null,
            "_model_module": "@jupyter-widgets/controls",
            "layout": "IPY_MODEL_8af90baf53e64e068ca895a0338e58a7"
          }
        },
        "485589e95bfd49eab8dd98e02e615dc7": {
          "model_module": "@jupyter-widgets/controls",
          "model_name": "DescriptionStyleModel",
          "model_module_version": "1.5.0",
          "state": {
            "_view_name": "StyleView",
            "_model_name": "DescriptionStyleModel",
            "description_width": "",
            "_view_module": "@jupyter-widgets/base",
            "_model_module_version": "1.5.0",
            "_view_count": null,
            "_view_module_version": "1.2.0",
            "_model_module": "@jupyter-widgets/controls"
          }
        },
        "69db8f9d40d74d868f807ee664b13131": {
          "model_module": "@jupyter-widgets/base",
          "model_name": "LayoutModel",
          "model_module_version": "1.2.0",
          "state": {
            "_view_name": "LayoutView",
            "grid_template_rows": null,
            "right": null,
            "justify_content": null,
            "_view_module": "@jupyter-widgets/base",
            "overflow": null,
            "_model_module_version": "1.2.0",
            "_view_count": null,
            "flex_flow": null,
            "width": null,
            "min_width": null,
            "border": null,
            "align_items": null,
            "bottom": null,
            "_model_module": "@jupyter-widgets/base",
            "top": null,
            "grid_column": null,
            "overflow_y": null,
            "overflow_x": null,
            "grid_auto_flow": null,
            "grid_area": null,
            "grid_template_columns": null,
            "flex": null,
            "_model_name": "LayoutModel",
            "justify_items": null,
            "grid_row": null,
            "max_height": null,
            "align_content": null,
            "visibility": null,
            "align_self": null,
            "height": null,
            "min_height": null,
            "padding": null,
            "grid_auto_rows": null,
            "grid_gap": null,
            "max_width": null,
            "order": null,
            "_view_module_version": "1.2.0",
            "grid_template_areas": null,
            "object_position": null,
            "object_fit": null,
            "grid_auto_columns": null,
            "margin": null,
            "display": null,
            "left": null
          }
        },
        "b8c848bdc5444417a294db7a3eaf7f6a": {
          "model_module": "@jupyter-widgets/controls",
          "model_name": "ProgressStyleModel",
          "model_module_version": "1.5.0",
          "state": {
            "_view_name": "StyleView",
            "_model_name": "ProgressStyleModel",
            "description_width": "",
            "_view_module": "@jupyter-widgets/base",
            "_model_module_version": "1.5.0",
            "_view_count": null,
            "_view_module_version": "1.2.0",
            "bar_color": null,
            "_model_module": "@jupyter-widgets/controls"
          }
        },
        "8af90baf53e64e068ca895a0338e58a7": {
          "model_module": "@jupyter-widgets/base",
          "model_name": "LayoutModel",
          "model_module_version": "1.2.0",
          "state": {
            "_view_name": "LayoutView",
            "grid_template_rows": null,
            "right": null,
            "justify_content": null,
            "_view_module": "@jupyter-widgets/base",
            "overflow": null,
            "_model_module_version": "1.2.0",
            "_view_count": null,
            "flex_flow": null,
            "width": null,
            "min_width": null,
            "border": null,
            "align_items": null,
            "bottom": null,
            "_model_module": "@jupyter-widgets/base",
            "top": null,
            "grid_column": null,
            "overflow_y": null,
            "overflow_x": null,
            "grid_auto_flow": null,
            "grid_area": null,
            "grid_template_columns": null,
            "flex": null,
            "_model_name": "LayoutModel",
            "justify_items": null,
            "grid_row": null,
            "max_height": null,
            "align_content": null,
            "visibility": null,
            "align_self": null,
            "height": null,
            "min_height": null,
            "padding": null,
            "grid_auto_rows": null,
            "grid_gap": null,
            "max_width": null,
            "order": null,
            "_view_module_version": "1.2.0",
            "grid_template_areas": null,
            "object_position": null,
            "object_fit": null,
            "grid_auto_columns": null,
            "margin": null,
            "display": null,
            "left": null
          }
        },
        "292e518dc4634de6b50e4f1e504e4f35": {
          "model_module": "@jupyter-widgets/controls",
          "model_name": "VBoxModel",
          "model_module_version": "1.5.0",
          "state": {
            "_view_name": "VBoxView",
            "_dom_classes": [],
            "_model_name": "VBoxModel",
            "_view_module": "@jupyter-widgets/controls",
            "_model_module_version": "1.5.0",
            "_view_count": null,
            "_view_module_version": "1.5.0",
            "box_style": "",
            "layout": "IPY_MODEL_de4198198be64922903b7cfb1db52329",
            "_model_module": "@jupyter-widgets/controls",
            "children": [
              "IPY_MODEL_9492f371fa1d4b6d96537a8373a37122",
              "IPY_MODEL_7fca9d3e248d429a86b69f329f67f268"
            ]
          }
        },
        "de4198198be64922903b7cfb1db52329": {
          "model_module": "@jupyter-widgets/base",
          "model_name": "LayoutModel",
          "model_module_version": "1.2.0",
          "state": {
            "_view_name": "LayoutView",
            "grid_template_rows": null,
            "right": null,
            "justify_content": null,
            "_view_module": "@jupyter-widgets/base",
            "overflow": null,
            "_model_module_version": "1.2.0",
            "_view_count": null,
            "flex_flow": null,
            "width": null,
            "min_width": null,
            "border": null,
            "align_items": null,
            "bottom": null,
            "_model_module": "@jupyter-widgets/base",
            "top": null,
            "grid_column": null,
            "overflow_y": null,
            "overflow_x": null,
            "grid_auto_flow": null,
            "grid_area": null,
            "grid_template_columns": null,
            "flex": null,
            "_model_name": "LayoutModel",
            "justify_items": null,
            "grid_row": null,
            "max_height": null,
            "align_content": null,
            "visibility": null,
            "align_self": null,
            "height": null,
            "min_height": null,
            "padding": null,
            "grid_auto_rows": null,
            "grid_gap": null,
            "max_width": null,
            "order": null,
            "_view_module_version": "1.2.0",
            "grid_template_areas": null,
            "object_position": null,
            "object_fit": null,
            "grid_auto_columns": null,
            "margin": null,
            "display": null,
            "left": null
          }
        },
        "9492f371fa1d4b6d96537a8373a37122": {
          "model_module": "@jupyter-widgets/controls",
          "model_name": "LabelModel",
          "model_module_version": "1.5.0",
          "state": {
            "_view_name": "LabelView",
            "style": "IPY_MODEL_41c453d2aca54fa493b025d5a0788c67",
            "_dom_classes": [],
            "description": "",
            "_model_name": "LabelModel",
            "placeholder": "​",
            "_view_module": "@jupyter-widgets/controls",
            "_model_module_version": "1.5.0",
            "value": " 0.05MB of 0.05MB uploaded (0.00MB deduped)\r",
            "_view_count": null,
            "_view_module_version": "1.5.0",
            "description_tooltip": null,
            "_model_module": "@jupyter-widgets/controls",
            "layout": "IPY_MODEL_143e2b084f1f4a589274c0e779e65c13"
          }
        },
        "7fca9d3e248d429a86b69f329f67f268": {
          "model_module": "@jupyter-widgets/controls",
          "model_name": "FloatProgressModel",
          "model_module_version": "1.5.0",
          "state": {
            "_view_name": "ProgressView",
            "style": "IPY_MODEL_5fd2126893104ffea99cf273eb176ee4",
            "_dom_classes": [],
            "description": "",
            "_model_name": "FloatProgressModel",
            "bar_style": "",
            "max": 1,
            "_view_module": "@jupyter-widgets/controls",
            "_model_module_version": "1.5.0",
            "value": 1,
            "_view_count": null,
            "_view_module_version": "1.5.0",
            "orientation": "horizontal",
            "min": 0,
            "description_tooltip": null,
            "_model_module": "@jupyter-widgets/controls",
            "layout": "IPY_MODEL_a1e2f79f5d104155bc42cee740cae493"
          }
        },
        "41c453d2aca54fa493b025d5a0788c67": {
          "model_module": "@jupyter-widgets/controls",
          "model_name": "DescriptionStyleModel",
          "model_module_version": "1.5.0",
          "state": {
            "_view_name": "StyleView",
            "_model_name": "DescriptionStyleModel",
            "description_width": "",
            "_view_module": "@jupyter-widgets/base",
            "_model_module_version": "1.5.0",
            "_view_count": null,
            "_view_module_version": "1.2.0",
            "_model_module": "@jupyter-widgets/controls"
          }
        },
        "143e2b084f1f4a589274c0e779e65c13": {
          "model_module": "@jupyter-widgets/base",
          "model_name": "LayoutModel",
          "model_module_version": "1.2.0",
          "state": {
            "_view_name": "LayoutView",
            "grid_template_rows": null,
            "right": null,
            "justify_content": null,
            "_view_module": "@jupyter-widgets/base",
            "overflow": null,
            "_model_module_version": "1.2.0",
            "_view_count": null,
            "flex_flow": null,
            "width": null,
            "min_width": null,
            "border": null,
            "align_items": null,
            "bottom": null,
            "_model_module": "@jupyter-widgets/base",
            "top": null,
            "grid_column": null,
            "overflow_y": null,
            "overflow_x": null,
            "grid_auto_flow": null,
            "grid_area": null,
            "grid_template_columns": null,
            "flex": null,
            "_model_name": "LayoutModel",
            "justify_items": null,
            "grid_row": null,
            "max_height": null,
            "align_content": null,
            "visibility": null,
            "align_self": null,
            "height": null,
            "min_height": null,
            "padding": null,
            "grid_auto_rows": null,
            "grid_gap": null,
            "max_width": null,
            "order": null,
            "_view_module_version": "1.2.0",
            "grid_template_areas": null,
            "object_position": null,
            "object_fit": null,
            "grid_auto_columns": null,
            "margin": null,
            "display": null,
            "left": null
          }
        },
        "5fd2126893104ffea99cf273eb176ee4": {
          "model_module": "@jupyter-widgets/controls",
          "model_name": "ProgressStyleModel",
          "model_module_version": "1.5.0",
          "state": {
            "_view_name": "StyleView",
            "_model_name": "ProgressStyleModel",
            "description_width": "",
            "_view_module": "@jupyter-widgets/base",
            "_model_module_version": "1.5.0",
            "_view_count": null,
            "_view_module_version": "1.2.0",
            "bar_color": null,
            "_model_module": "@jupyter-widgets/controls"
          }
        },
        "a1e2f79f5d104155bc42cee740cae493": {
          "model_module": "@jupyter-widgets/base",
          "model_name": "LayoutModel",
          "model_module_version": "1.2.0",
          "state": {
            "_view_name": "LayoutView",
            "grid_template_rows": null,
            "right": null,
            "justify_content": null,
            "_view_module": "@jupyter-widgets/base",
            "overflow": null,
            "_model_module_version": "1.2.0",
            "_view_count": null,
            "flex_flow": null,
            "width": null,
            "min_width": null,
            "border": null,
            "align_items": null,
            "bottom": null,
            "_model_module": "@jupyter-widgets/base",
            "top": null,
            "grid_column": null,
            "overflow_y": null,
            "overflow_x": null,
            "grid_auto_flow": null,
            "grid_area": null,
            "grid_template_columns": null,
            "flex": null,
            "_model_name": "LayoutModel",
            "justify_items": null,
            "grid_row": null,
            "max_height": null,
            "align_content": null,
            "visibility": null,
            "align_self": null,
            "height": null,
            "min_height": null,
            "padding": null,
            "grid_auto_rows": null,
            "grid_gap": null,
            "max_width": null,
            "order": null,
            "_view_module_version": "1.2.0",
            "grid_template_areas": null,
            "object_position": null,
            "object_fit": null,
            "grid_auto_columns": null,
            "margin": null,
            "display": null,
            "left": null
          }
        },
        "4a6634ada551454fbc86799277531f6d": {
          "model_module": "@jupyter-widgets/controls",
          "model_name": "VBoxModel",
          "model_module_version": "1.5.0",
          "state": {
            "_view_name": "VBoxView",
            "_dom_classes": [],
            "_model_name": "VBoxModel",
            "_view_module": "@jupyter-widgets/controls",
            "_model_module_version": "1.5.0",
            "_view_count": null,
            "_view_module_version": "1.5.0",
            "box_style": "",
            "layout": "IPY_MODEL_a0939b94cf1f457ea3596706216b0825",
            "_model_module": "@jupyter-widgets/controls",
            "children": [
              "IPY_MODEL_bea498baf1db45c5b0e6ad674954ed82",
              "IPY_MODEL_72d56e1422684b7882a03a924c7c2fd8"
            ]
          }
        },
        "a0939b94cf1f457ea3596706216b0825": {
          "model_module": "@jupyter-widgets/base",
          "model_name": "LayoutModel",
          "model_module_version": "1.2.0",
          "state": {
            "_view_name": "LayoutView",
            "grid_template_rows": null,
            "right": null,
            "justify_content": null,
            "_view_module": "@jupyter-widgets/base",
            "overflow": null,
            "_model_module_version": "1.2.0",
            "_view_count": null,
            "flex_flow": null,
            "width": null,
            "min_width": null,
            "border": null,
            "align_items": null,
            "bottom": null,
            "_model_module": "@jupyter-widgets/base",
            "top": null,
            "grid_column": null,
            "overflow_y": null,
            "overflow_x": null,
            "grid_auto_flow": null,
            "grid_area": null,
            "grid_template_columns": null,
            "flex": null,
            "_model_name": "LayoutModel",
            "justify_items": null,
            "grid_row": null,
            "max_height": null,
            "align_content": null,
            "visibility": null,
            "align_self": null,
            "height": null,
            "min_height": null,
            "padding": null,
            "grid_auto_rows": null,
            "grid_gap": null,
            "max_width": null,
            "order": null,
            "_view_module_version": "1.2.0",
            "grid_template_areas": null,
            "object_position": null,
            "object_fit": null,
            "grid_auto_columns": null,
            "margin": null,
            "display": null,
            "left": null
          }
        },
        "bea498baf1db45c5b0e6ad674954ed82": {
          "model_module": "@jupyter-widgets/controls",
          "model_name": "LabelModel",
          "model_module_version": "1.5.0",
          "state": {
            "_view_name": "LabelView",
            "style": "IPY_MODEL_1126d392de434490a2b436123ee7a544",
            "_dom_classes": [],
            "description": "",
            "_model_name": "LabelModel",
            "placeholder": "​",
            "_view_module": "@jupyter-widgets/controls",
            "_model_module_version": "1.5.0",
            "value": " 0.05MB of 0.05MB uploaded (0.00MB deduped)\r",
            "_view_count": null,
            "_view_module_version": "1.5.0",
            "description_tooltip": null,
            "_model_module": "@jupyter-widgets/controls",
            "layout": "IPY_MODEL_3c12dd2ba909498b89f0e76bd6ed5cc2"
          }
        },
        "72d56e1422684b7882a03a924c7c2fd8": {
          "model_module": "@jupyter-widgets/controls",
          "model_name": "FloatProgressModel",
          "model_module_version": "1.5.0",
          "state": {
            "_view_name": "ProgressView",
            "style": "IPY_MODEL_1c8862cf1c5342a68fe82d1e02555c1f",
            "_dom_classes": [],
            "description": "",
            "_model_name": "FloatProgressModel",
            "bar_style": "",
            "max": 1,
            "_view_module": "@jupyter-widgets/controls",
            "_model_module_version": "1.5.0",
            "value": 1,
            "_view_count": null,
            "_view_module_version": "1.5.0",
            "orientation": "horizontal",
            "min": 0,
            "description_tooltip": null,
            "_model_module": "@jupyter-widgets/controls",
            "layout": "IPY_MODEL_24b9b89ac7014c2498aeddb66133f7cd"
          }
        },
        "1126d392de434490a2b436123ee7a544": {
          "model_module": "@jupyter-widgets/controls",
          "model_name": "DescriptionStyleModel",
          "model_module_version": "1.5.0",
          "state": {
            "_view_name": "StyleView",
            "_model_name": "DescriptionStyleModel",
            "description_width": "",
            "_view_module": "@jupyter-widgets/base",
            "_model_module_version": "1.5.0",
            "_view_count": null,
            "_view_module_version": "1.2.0",
            "_model_module": "@jupyter-widgets/controls"
          }
        },
        "3c12dd2ba909498b89f0e76bd6ed5cc2": {
          "model_module": "@jupyter-widgets/base",
          "model_name": "LayoutModel",
          "model_module_version": "1.2.0",
          "state": {
            "_view_name": "LayoutView",
            "grid_template_rows": null,
            "right": null,
            "justify_content": null,
            "_view_module": "@jupyter-widgets/base",
            "overflow": null,
            "_model_module_version": "1.2.0",
            "_view_count": null,
            "flex_flow": null,
            "width": null,
            "min_width": null,
            "border": null,
            "align_items": null,
            "bottom": null,
            "_model_module": "@jupyter-widgets/base",
            "top": null,
            "grid_column": null,
            "overflow_y": null,
            "overflow_x": null,
            "grid_auto_flow": null,
            "grid_area": null,
            "grid_template_columns": null,
            "flex": null,
            "_model_name": "LayoutModel",
            "justify_items": null,
            "grid_row": null,
            "max_height": null,
            "align_content": null,
            "visibility": null,
            "align_self": null,
            "height": null,
            "min_height": null,
            "padding": null,
            "grid_auto_rows": null,
            "grid_gap": null,
            "max_width": null,
            "order": null,
            "_view_module_version": "1.2.0",
            "grid_template_areas": null,
            "object_position": null,
            "object_fit": null,
            "grid_auto_columns": null,
            "margin": null,
            "display": null,
            "left": null
          }
        },
        "1c8862cf1c5342a68fe82d1e02555c1f": {
          "model_module": "@jupyter-widgets/controls",
          "model_name": "ProgressStyleModel",
          "model_module_version": "1.5.0",
          "state": {
            "_view_name": "StyleView",
            "_model_name": "ProgressStyleModel",
            "description_width": "",
            "_view_module": "@jupyter-widgets/base",
            "_model_module_version": "1.5.0",
            "_view_count": null,
            "_view_module_version": "1.2.0",
            "bar_color": null,
            "_model_module": "@jupyter-widgets/controls"
          }
        },
        "24b9b89ac7014c2498aeddb66133f7cd": {
          "model_module": "@jupyter-widgets/base",
          "model_name": "LayoutModel",
          "model_module_version": "1.2.0",
          "state": {
            "_view_name": "LayoutView",
            "grid_template_rows": null,
            "right": null,
            "justify_content": null,
            "_view_module": "@jupyter-widgets/base",
            "overflow": null,
            "_model_module_version": "1.2.0",
            "_view_count": null,
            "flex_flow": null,
            "width": null,
            "min_width": null,
            "border": null,
            "align_items": null,
            "bottom": null,
            "_model_module": "@jupyter-widgets/base",
            "top": null,
            "grid_column": null,
            "overflow_y": null,
            "overflow_x": null,
            "grid_auto_flow": null,
            "grid_area": null,
            "grid_template_columns": null,
            "flex": null,
            "_model_name": "LayoutModel",
            "justify_items": null,
            "grid_row": null,
            "max_height": null,
            "align_content": null,
            "visibility": null,
            "align_self": null,
            "height": null,
            "min_height": null,
            "padding": null,
            "grid_auto_rows": null,
            "grid_gap": null,
            "max_width": null,
            "order": null,
            "_view_module_version": "1.2.0",
            "grid_template_areas": null,
            "object_position": null,
            "object_fit": null,
            "grid_auto_columns": null,
            "margin": null,
            "display": null,
            "left": null
          }
        },
        "e500f45889734a7792992283836c3939": {
          "model_module": "@jupyter-widgets/controls",
          "model_name": "VBoxModel",
          "model_module_version": "1.5.0",
          "state": {
            "_view_name": "VBoxView",
            "_dom_classes": [],
            "_model_name": "VBoxModel",
            "_view_module": "@jupyter-widgets/controls",
            "_model_module_version": "1.5.0",
            "_view_count": null,
            "_view_module_version": "1.5.0",
            "box_style": "",
            "layout": "IPY_MODEL_d09ccdb714c34ed899a013ecc5cd9c93",
            "_model_module": "@jupyter-widgets/controls",
            "children": [
              "IPY_MODEL_bfd2c120608446d2a9e5f00e74455463",
              "IPY_MODEL_3788af6ccdb94356b41e7674ffa61173"
            ]
          }
        },
        "d09ccdb714c34ed899a013ecc5cd9c93": {
          "model_module": "@jupyter-widgets/base",
          "model_name": "LayoutModel",
          "model_module_version": "1.2.0",
          "state": {
            "_view_name": "LayoutView",
            "grid_template_rows": null,
            "right": null,
            "justify_content": null,
            "_view_module": "@jupyter-widgets/base",
            "overflow": null,
            "_model_module_version": "1.2.0",
            "_view_count": null,
            "flex_flow": null,
            "width": null,
            "min_width": null,
            "border": null,
            "align_items": null,
            "bottom": null,
            "_model_module": "@jupyter-widgets/base",
            "top": null,
            "grid_column": null,
            "overflow_y": null,
            "overflow_x": null,
            "grid_auto_flow": null,
            "grid_area": null,
            "grid_template_columns": null,
            "flex": null,
            "_model_name": "LayoutModel",
            "justify_items": null,
            "grid_row": null,
            "max_height": null,
            "align_content": null,
            "visibility": null,
            "align_self": null,
            "height": null,
            "min_height": null,
            "padding": null,
            "grid_auto_rows": null,
            "grid_gap": null,
            "max_width": null,
            "order": null,
            "_view_module_version": "1.2.0",
            "grid_template_areas": null,
            "object_position": null,
            "object_fit": null,
            "grid_auto_columns": null,
            "margin": null,
            "display": null,
            "left": null
          }
        },
        "bfd2c120608446d2a9e5f00e74455463": {
          "model_module": "@jupyter-widgets/controls",
          "model_name": "LabelModel",
          "model_module_version": "1.5.0",
          "state": {
            "_view_name": "LabelView",
            "style": "IPY_MODEL_bc38314025e24375a6a209f2f86580b2",
            "_dom_classes": [],
            "description": "",
            "_model_name": "LabelModel",
            "placeholder": "​",
            "_view_module": "@jupyter-widgets/controls",
            "_model_module_version": "1.5.0",
            "value": " 0.05MB of 0.05MB uploaded (0.00MB deduped)\r",
            "_view_count": null,
            "_view_module_version": "1.5.0",
            "description_tooltip": null,
            "_model_module": "@jupyter-widgets/controls",
            "layout": "IPY_MODEL_39b0b44fdf884fc68e394666b3b9caf6"
          }
        },
        "3788af6ccdb94356b41e7674ffa61173": {
          "model_module": "@jupyter-widgets/controls",
          "model_name": "FloatProgressModel",
          "model_module_version": "1.5.0",
          "state": {
            "_view_name": "ProgressView",
            "style": "IPY_MODEL_cf8a0ab2b6a64244a3ba5a0f6446c03f",
            "_dom_classes": [],
            "description": "",
            "_model_name": "FloatProgressModel",
            "bar_style": "",
            "max": 1,
            "_view_module": "@jupyter-widgets/controls",
            "_model_module_version": "1.5.0",
            "value": 1,
            "_view_count": null,
            "_view_module_version": "1.5.0",
            "orientation": "horizontal",
            "min": 0,
            "description_tooltip": null,
            "_model_module": "@jupyter-widgets/controls",
            "layout": "IPY_MODEL_f0cc2a9fdec74a4a82e577dd66a4a22f"
          }
        },
        "bc38314025e24375a6a209f2f86580b2": {
          "model_module": "@jupyter-widgets/controls",
          "model_name": "DescriptionStyleModel",
          "model_module_version": "1.5.0",
          "state": {
            "_view_name": "StyleView",
            "_model_name": "DescriptionStyleModel",
            "description_width": "",
            "_view_module": "@jupyter-widgets/base",
            "_model_module_version": "1.5.0",
            "_view_count": null,
            "_view_module_version": "1.2.0",
            "_model_module": "@jupyter-widgets/controls"
          }
        },
        "39b0b44fdf884fc68e394666b3b9caf6": {
          "model_module": "@jupyter-widgets/base",
          "model_name": "LayoutModel",
          "model_module_version": "1.2.0",
          "state": {
            "_view_name": "LayoutView",
            "grid_template_rows": null,
            "right": null,
            "justify_content": null,
            "_view_module": "@jupyter-widgets/base",
            "overflow": null,
            "_model_module_version": "1.2.0",
            "_view_count": null,
            "flex_flow": null,
            "width": null,
            "min_width": null,
            "border": null,
            "align_items": null,
            "bottom": null,
            "_model_module": "@jupyter-widgets/base",
            "top": null,
            "grid_column": null,
            "overflow_y": null,
            "overflow_x": null,
            "grid_auto_flow": null,
            "grid_area": null,
            "grid_template_columns": null,
            "flex": null,
            "_model_name": "LayoutModel",
            "justify_items": null,
            "grid_row": null,
            "max_height": null,
            "align_content": null,
            "visibility": null,
            "align_self": null,
            "height": null,
            "min_height": null,
            "padding": null,
            "grid_auto_rows": null,
            "grid_gap": null,
            "max_width": null,
            "order": null,
            "_view_module_version": "1.2.0",
            "grid_template_areas": null,
            "object_position": null,
            "object_fit": null,
            "grid_auto_columns": null,
            "margin": null,
            "display": null,
            "left": null
          }
        },
        "cf8a0ab2b6a64244a3ba5a0f6446c03f": {
          "model_module": "@jupyter-widgets/controls",
          "model_name": "ProgressStyleModel",
          "model_module_version": "1.5.0",
          "state": {
            "_view_name": "StyleView",
            "_model_name": "ProgressStyleModel",
            "description_width": "",
            "_view_module": "@jupyter-widgets/base",
            "_model_module_version": "1.5.0",
            "_view_count": null,
            "_view_module_version": "1.2.0",
            "bar_color": null,
            "_model_module": "@jupyter-widgets/controls"
          }
        },
        "f0cc2a9fdec74a4a82e577dd66a4a22f": {
          "model_module": "@jupyter-widgets/base",
          "model_name": "LayoutModel",
          "model_module_version": "1.2.0",
          "state": {
            "_view_name": "LayoutView",
            "grid_template_rows": null,
            "right": null,
            "justify_content": null,
            "_view_module": "@jupyter-widgets/base",
            "overflow": null,
            "_model_module_version": "1.2.0",
            "_view_count": null,
            "flex_flow": null,
            "width": null,
            "min_width": null,
            "border": null,
            "align_items": null,
            "bottom": null,
            "_model_module": "@jupyter-widgets/base",
            "top": null,
            "grid_column": null,
            "overflow_y": null,
            "overflow_x": null,
            "grid_auto_flow": null,
            "grid_area": null,
            "grid_template_columns": null,
            "flex": null,
            "_model_name": "LayoutModel",
            "justify_items": null,
            "grid_row": null,
            "max_height": null,
            "align_content": null,
            "visibility": null,
            "align_self": null,
            "height": null,
            "min_height": null,
            "padding": null,
            "grid_auto_rows": null,
            "grid_gap": null,
            "max_width": null,
            "order": null,
            "_view_module_version": "1.2.0",
            "grid_template_areas": null,
            "object_position": null,
            "object_fit": null,
            "grid_auto_columns": null,
            "margin": null,
            "display": null,
            "left": null
          }
        },
        "15aced9ee3204ac28e342571a97897b5": {
          "model_module": "@jupyter-widgets/controls",
          "model_name": "VBoxModel",
          "model_module_version": "1.5.0",
          "state": {
            "_view_name": "VBoxView",
            "_dom_classes": [],
            "_model_name": "VBoxModel",
            "_view_module": "@jupyter-widgets/controls",
            "_model_module_version": "1.5.0",
            "_view_count": null,
            "_view_module_version": "1.5.0",
            "box_style": "",
            "layout": "IPY_MODEL_54b17fab5e0f4c4995282f92b9679be7",
            "_model_module": "@jupyter-widgets/controls",
            "children": [
              "IPY_MODEL_87acf99cef2c45dd9bed6dc745396610",
              "IPY_MODEL_58207e5ad3cb45dd91101380724fb263"
            ]
          }
        },
        "54b17fab5e0f4c4995282f92b9679be7": {
          "model_module": "@jupyter-widgets/base",
          "model_name": "LayoutModel",
          "model_module_version": "1.2.0",
          "state": {
            "_view_name": "LayoutView",
            "grid_template_rows": null,
            "right": null,
            "justify_content": null,
            "_view_module": "@jupyter-widgets/base",
            "overflow": null,
            "_model_module_version": "1.2.0",
            "_view_count": null,
            "flex_flow": null,
            "width": null,
            "min_width": null,
            "border": null,
            "align_items": null,
            "bottom": null,
            "_model_module": "@jupyter-widgets/base",
            "top": null,
            "grid_column": null,
            "overflow_y": null,
            "overflow_x": null,
            "grid_auto_flow": null,
            "grid_area": null,
            "grid_template_columns": null,
            "flex": null,
            "_model_name": "LayoutModel",
            "justify_items": null,
            "grid_row": null,
            "max_height": null,
            "align_content": null,
            "visibility": null,
            "align_self": null,
            "height": null,
            "min_height": null,
            "padding": null,
            "grid_auto_rows": null,
            "grid_gap": null,
            "max_width": null,
            "order": null,
            "_view_module_version": "1.2.0",
            "grid_template_areas": null,
            "object_position": null,
            "object_fit": null,
            "grid_auto_columns": null,
            "margin": null,
            "display": null,
            "left": null
          }
        },
        "87acf99cef2c45dd9bed6dc745396610": {
          "model_module": "@jupyter-widgets/controls",
          "model_name": "LabelModel",
          "model_module_version": "1.5.0",
          "state": {
            "_view_name": "LabelView",
            "style": "IPY_MODEL_a8b763f1d01e40a68e6b774962871475",
            "_dom_classes": [],
            "description": "",
            "_model_name": "LabelModel",
            "placeholder": "​",
            "_view_module": "@jupyter-widgets/controls",
            "_model_module_version": "1.5.0",
            "value": " 0.05MB of 0.05MB uploaded (0.00MB deduped)\r",
            "_view_count": null,
            "_view_module_version": "1.5.0",
            "description_tooltip": null,
            "_model_module": "@jupyter-widgets/controls",
            "layout": "IPY_MODEL_4bcc1388c7514e10945b8b81d748bc89"
          }
        },
        "58207e5ad3cb45dd91101380724fb263": {
          "model_module": "@jupyter-widgets/controls",
          "model_name": "FloatProgressModel",
          "model_module_version": "1.5.0",
          "state": {
            "_view_name": "ProgressView",
            "style": "IPY_MODEL_d408404dd1be477f8e81fa4cd390b004",
            "_dom_classes": [],
            "description": "",
            "_model_name": "FloatProgressModel",
            "bar_style": "",
            "max": 1,
            "_view_module": "@jupyter-widgets/controls",
            "_model_module_version": "1.5.0",
            "value": 1,
            "_view_count": null,
            "_view_module_version": "1.5.0",
            "orientation": "horizontal",
            "min": 0,
            "description_tooltip": null,
            "_model_module": "@jupyter-widgets/controls",
            "layout": "IPY_MODEL_3789d767661343f0ab205574ba14c91e"
          }
        },
        "a8b763f1d01e40a68e6b774962871475": {
          "model_module": "@jupyter-widgets/controls",
          "model_name": "DescriptionStyleModel",
          "model_module_version": "1.5.0",
          "state": {
            "_view_name": "StyleView",
            "_model_name": "DescriptionStyleModel",
            "description_width": "",
            "_view_module": "@jupyter-widgets/base",
            "_model_module_version": "1.5.0",
            "_view_count": null,
            "_view_module_version": "1.2.0",
            "_model_module": "@jupyter-widgets/controls"
          }
        },
        "4bcc1388c7514e10945b8b81d748bc89": {
          "model_module": "@jupyter-widgets/base",
          "model_name": "LayoutModel",
          "model_module_version": "1.2.0",
          "state": {
            "_view_name": "LayoutView",
            "grid_template_rows": null,
            "right": null,
            "justify_content": null,
            "_view_module": "@jupyter-widgets/base",
            "overflow": null,
            "_model_module_version": "1.2.0",
            "_view_count": null,
            "flex_flow": null,
            "width": null,
            "min_width": null,
            "border": null,
            "align_items": null,
            "bottom": null,
            "_model_module": "@jupyter-widgets/base",
            "top": null,
            "grid_column": null,
            "overflow_y": null,
            "overflow_x": null,
            "grid_auto_flow": null,
            "grid_area": null,
            "grid_template_columns": null,
            "flex": null,
            "_model_name": "LayoutModel",
            "justify_items": null,
            "grid_row": null,
            "max_height": null,
            "align_content": null,
            "visibility": null,
            "align_self": null,
            "height": null,
            "min_height": null,
            "padding": null,
            "grid_auto_rows": null,
            "grid_gap": null,
            "max_width": null,
            "order": null,
            "_view_module_version": "1.2.0",
            "grid_template_areas": null,
            "object_position": null,
            "object_fit": null,
            "grid_auto_columns": null,
            "margin": null,
            "display": null,
            "left": null
          }
        },
        "d408404dd1be477f8e81fa4cd390b004": {
          "model_module": "@jupyter-widgets/controls",
          "model_name": "ProgressStyleModel",
          "model_module_version": "1.5.0",
          "state": {
            "_view_name": "StyleView",
            "_model_name": "ProgressStyleModel",
            "description_width": "",
            "_view_module": "@jupyter-widgets/base",
            "_model_module_version": "1.5.0",
            "_view_count": null,
            "_view_module_version": "1.2.0",
            "bar_color": null,
            "_model_module": "@jupyter-widgets/controls"
          }
        },
        "3789d767661343f0ab205574ba14c91e": {
          "model_module": "@jupyter-widgets/base",
          "model_name": "LayoutModel",
          "model_module_version": "1.2.0",
          "state": {
            "_view_name": "LayoutView",
            "grid_template_rows": null,
            "right": null,
            "justify_content": null,
            "_view_module": "@jupyter-widgets/base",
            "overflow": null,
            "_model_module_version": "1.2.0",
            "_view_count": null,
            "flex_flow": null,
            "width": null,
            "min_width": null,
            "border": null,
            "align_items": null,
            "bottom": null,
            "_model_module": "@jupyter-widgets/base",
            "top": null,
            "grid_column": null,
            "overflow_y": null,
            "overflow_x": null,
            "grid_auto_flow": null,
            "grid_area": null,
            "grid_template_columns": null,
            "flex": null,
            "_model_name": "LayoutModel",
            "justify_items": null,
            "grid_row": null,
            "max_height": null,
            "align_content": null,
            "visibility": null,
            "align_self": null,
            "height": null,
            "min_height": null,
            "padding": null,
            "grid_auto_rows": null,
            "grid_gap": null,
            "max_width": null,
            "order": null,
            "_view_module_version": "1.2.0",
            "grid_template_areas": null,
            "object_position": null,
            "object_fit": null,
            "grid_auto_columns": null,
            "margin": null,
            "display": null,
            "left": null
          }
        },
        "428b2d9a30234cc0b4e1fd4a1c614323": {
          "model_module": "@jupyter-widgets/controls",
          "model_name": "VBoxModel",
          "model_module_version": "1.5.0",
          "state": {
            "_view_name": "VBoxView",
            "_dom_classes": [],
            "_model_name": "VBoxModel",
            "_view_module": "@jupyter-widgets/controls",
            "_model_module_version": "1.5.0",
            "_view_count": null,
            "_view_module_version": "1.5.0",
            "box_style": "",
            "layout": "IPY_MODEL_778d0da1ce0844f18afafebc9c71cceb",
            "_model_module": "@jupyter-widgets/controls",
            "children": [
              "IPY_MODEL_32ddcbc0a0024e13b456507bb7ed441f",
              "IPY_MODEL_d21aab65435a48b0b5f33ec78fc08746"
            ]
          }
        },
        "778d0da1ce0844f18afafebc9c71cceb": {
          "model_module": "@jupyter-widgets/base",
          "model_name": "LayoutModel",
          "model_module_version": "1.2.0",
          "state": {
            "_view_name": "LayoutView",
            "grid_template_rows": null,
            "right": null,
            "justify_content": null,
            "_view_module": "@jupyter-widgets/base",
            "overflow": null,
            "_model_module_version": "1.2.0",
            "_view_count": null,
            "flex_flow": null,
            "width": null,
            "min_width": null,
            "border": null,
            "align_items": null,
            "bottom": null,
            "_model_module": "@jupyter-widgets/base",
            "top": null,
            "grid_column": null,
            "overflow_y": null,
            "overflow_x": null,
            "grid_auto_flow": null,
            "grid_area": null,
            "grid_template_columns": null,
            "flex": null,
            "_model_name": "LayoutModel",
            "justify_items": null,
            "grid_row": null,
            "max_height": null,
            "align_content": null,
            "visibility": null,
            "align_self": null,
            "height": null,
            "min_height": null,
            "padding": null,
            "grid_auto_rows": null,
            "grid_gap": null,
            "max_width": null,
            "order": null,
            "_view_module_version": "1.2.0",
            "grid_template_areas": null,
            "object_position": null,
            "object_fit": null,
            "grid_auto_columns": null,
            "margin": null,
            "display": null,
            "left": null
          }
        },
        "32ddcbc0a0024e13b456507bb7ed441f": {
          "model_module": "@jupyter-widgets/controls",
          "model_name": "LabelModel",
          "model_module_version": "1.5.0",
          "state": {
            "_view_name": "LabelView",
            "style": "IPY_MODEL_8040d4df93344949b93b4c56bfbe37dc",
            "_dom_classes": [],
            "description": "",
            "_model_name": "LabelModel",
            "placeholder": "​",
            "_view_module": "@jupyter-widgets/controls",
            "_model_module_version": "1.5.0",
            "value": " 0.05MB of 0.05MB uploaded (0.00MB deduped)\r",
            "_view_count": null,
            "_view_module_version": "1.5.0",
            "description_tooltip": null,
            "_model_module": "@jupyter-widgets/controls",
            "layout": "IPY_MODEL_65b48ace344345e785b5df26c5feec89"
          }
        },
        "d21aab65435a48b0b5f33ec78fc08746": {
          "model_module": "@jupyter-widgets/controls",
          "model_name": "FloatProgressModel",
          "model_module_version": "1.5.0",
          "state": {
            "_view_name": "ProgressView",
            "style": "IPY_MODEL_5c067d757bfc48f0902f0d30439552da",
            "_dom_classes": [],
            "description": "",
            "_model_name": "FloatProgressModel",
            "bar_style": "",
            "max": 1,
            "_view_module": "@jupyter-widgets/controls",
            "_model_module_version": "1.5.0",
            "value": 1,
            "_view_count": null,
            "_view_module_version": "1.5.0",
            "orientation": "horizontal",
            "min": 0,
            "description_tooltip": null,
            "_model_module": "@jupyter-widgets/controls",
            "layout": "IPY_MODEL_aa917c5736e84df39117e13dbc4ff7fc"
          }
        },
        "8040d4df93344949b93b4c56bfbe37dc": {
          "model_module": "@jupyter-widgets/controls",
          "model_name": "DescriptionStyleModel",
          "model_module_version": "1.5.0",
          "state": {
            "_view_name": "StyleView",
            "_model_name": "DescriptionStyleModel",
            "description_width": "",
            "_view_module": "@jupyter-widgets/base",
            "_model_module_version": "1.5.0",
            "_view_count": null,
            "_view_module_version": "1.2.0",
            "_model_module": "@jupyter-widgets/controls"
          }
        },
        "65b48ace344345e785b5df26c5feec89": {
          "model_module": "@jupyter-widgets/base",
          "model_name": "LayoutModel",
          "model_module_version": "1.2.0",
          "state": {
            "_view_name": "LayoutView",
            "grid_template_rows": null,
            "right": null,
            "justify_content": null,
            "_view_module": "@jupyter-widgets/base",
            "overflow": null,
            "_model_module_version": "1.2.0",
            "_view_count": null,
            "flex_flow": null,
            "width": null,
            "min_width": null,
            "border": null,
            "align_items": null,
            "bottom": null,
            "_model_module": "@jupyter-widgets/base",
            "top": null,
            "grid_column": null,
            "overflow_y": null,
            "overflow_x": null,
            "grid_auto_flow": null,
            "grid_area": null,
            "grid_template_columns": null,
            "flex": null,
            "_model_name": "LayoutModel",
            "justify_items": null,
            "grid_row": null,
            "max_height": null,
            "align_content": null,
            "visibility": null,
            "align_self": null,
            "height": null,
            "min_height": null,
            "padding": null,
            "grid_auto_rows": null,
            "grid_gap": null,
            "max_width": null,
            "order": null,
            "_view_module_version": "1.2.0",
            "grid_template_areas": null,
            "object_position": null,
            "object_fit": null,
            "grid_auto_columns": null,
            "margin": null,
            "display": null,
            "left": null
          }
        },
        "5c067d757bfc48f0902f0d30439552da": {
          "model_module": "@jupyter-widgets/controls",
          "model_name": "ProgressStyleModel",
          "model_module_version": "1.5.0",
          "state": {
            "_view_name": "StyleView",
            "_model_name": "ProgressStyleModel",
            "description_width": "",
            "_view_module": "@jupyter-widgets/base",
            "_model_module_version": "1.5.0",
            "_view_count": null,
            "_view_module_version": "1.2.0",
            "bar_color": null,
            "_model_module": "@jupyter-widgets/controls"
          }
        },
        "aa917c5736e84df39117e13dbc4ff7fc": {
          "model_module": "@jupyter-widgets/base",
          "model_name": "LayoutModel",
          "model_module_version": "1.2.0",
          "state": {
            "_view_name": "LayoutView",
            "grid_template_rows": null,
            "right": null,
            "justify_content": null,
            "_view_module": "@jupyter-widgets/base",
            "overflow": null,
            "_model_module_version": "1.2.0",
            "_view_count": null,
            "flex_flow": null,
            "width": null,
            "min_width": null,
            "border": null,
            "align_items": null,
            "bottom": null,
            "_model_module": "@jupyter-widgets/base",
            "top": null,
            "grid_column": null,
            "overflow_y": null,
            "overflow_x": null,
            "grid_auto_flow": null,
            "grid_area": null,
            "grid_template_columns": null,
            "flex": null,
            "_model_name": "LayoutModel",
            "justify_items": null,
            "grid_row": null,
            "max_height": null,
            "align_content": null,
            "visibility": null,
            "align_self": null,
            "height": null,
            "min_height": null,
            "padding": null,
            "grid_auto_rows": null,
            "grid_gap": null,
            "max_width": null,
            "order": null,
            "_view_module_version": "1.2.0",
            "grid_template_areas": null,
            "object_position": null,
            "object_fit": null,
            "grid_auto_columns": null,
            "margin": null,
            "display": null,
            "left": null
          }
        },
        "9de25e798dd14c1aa176cbb517343aa0": {
          "model_module": "@jupyter-widgets/controls",
          "model_name": "VBoxModel",
          "model_module_version": "1.5.0",
          "state": {
            "_view_name": "VBoxView",
            "_dom_classes": [],
            "_model_name": "VBoxModel",
            "_view_module": "@jupyter-widgets/controls",
            "_model_module_version": "1.5.0",
            "_view_count": null,
            "_view_module_version": "1.5.0",
            "box_style": "",
            "layout": "IPY_MODEL_c0aa56b0a02240fb8cc36d12fb9670a5",
            "_model_module": "@jupyter-widgets/controls",
            "children": [
              "IPY_MODEL_a010219e2d1a4567a8bbd2f0b30adfca",
              "IPY_MODEL_3dd61decfc314b148e0a582c4ae6aeba"
            ]
          }
        },
        "c0aa56b0a02240fb8cc36d12fb9670a5": {
          "model_module": "@jupyter-widgets/base",
          "model_name": "LayoutModel",
          "model_module_version": "1.2.0",
          "state": {
            "_view_name": "LayoutView",
            "grid_template_rows": null,
            "right": null,
            "justify_content": null,
            "_view_module": "@jupyter-widgets/base",
            "overflow": null,
            "_model_module_version": "1.2.0",
            "_view_count": null,
            "flex_flow": null,
            "width": null,
            "min_width": null,
            "border": null,
            "align_items": null,
            "bottom": null,
            "_model_module": "@jupyter-widgets/base",
            "top": null,
            "grid_column": null,
            "overflow_y": null,
            "overflow_x": null,
            "grid_auto_flow": null,
            "grid_area": null,
            "grid_template_columns": null,
            "flex": null,
            "_model_name": "LayoutModel",
            "justify_items": null,
            "grid_row": null,
            "max_height": null,
            "align_content": null,
            "visibility": null,
            "align_self": null,
            "height": null,
            "min_height": null,
            "padding": null,
            "grid_auto_rows": null,
            "grid_gap": null,
            "max_width": null,
            "order": null,
            "_view_module_version": "1.2.0",
            "grid_template_areas": null,
            "object_position": null,
            "object_fit": null,
            "grid_auto_columns": null,
            "margin": null,
            "display": null,
            "left": null
          }
        },
        "a010219e2d1a4567a8bbd2f0b30adfca": {
          "model_module": "@jupyter-widgets/controls",
          "model_name": "LabelModel",
          "model_module_version": "1.5.0",
          "state": {
            "_view_name": "LabelView",
            "style": "IPY_MODEL_c22df324ce914523a1266311a9ee2aa8",
            "_dom_classes": [],
            "description": "",
            "_model_name": "LabelModel",
            "placeholder": "​",
            "_view_module": "@jupyter-widgets/controls",
            "_model_module_version": "1.5.0",
            "value": " 0.05MB of 0.05MB uploaded (0.00MB deduped)\r",
            "_view_count": null,
            "_view_module_version": "1.5.0",
            "description_tooltip": null,
            "_model_module": "@jupyter-widgets/controls",
            "layout": "IPY_MODEL_b61b2236a2104ae1a9a89fdbebf2d483"
          }
        },
        "3dd61decfc314b148e0a582c4ae6aeba": {
          "model_module": "@jupyter-widgets/controls",
          "model_name": "FloatProgressModel",
          "model_module_version": "1.5.0",
          "state": {
            "_view_name": "ProgressView",
            "style": "IPY_MODEL_7e721d24d29642d9b1ccc91879a3bc43",
            "_dom_classes": [],
            "description": "",
            "_model_name": "FloatProgressModel",
            "bar_style": "",
            "max": 1,
            "_view_module": "@jupyter-widgets/controls",
            "_model_module_version": "1.5.0",
            "value": 1,
            "_view_count": null,
            "_view_module_version": "1.5.0",
            "orientation": "horizontal",
            "min": 0,
            "description_tooltip": null,
            "_model_module": "@jupyter-widgets/controls",
            "layout": "IPY_MODEL_45392644173147a18c430e1402fa0a7e"
          }
        },
        "c22df324ce914523a1266311a9ee2aa8": {
          "model_module": "@jupyter-widgets/controls",
          "model_name": "DescriptionStyleModel",
          "model_module_version": "1.5.0",
          "state": {
            "_view_name": "StyleView",
            "_model_name": "DescriptionStyleModel",
            "description_width": "",
            "_view_module": "@jupyter-widgets/base",
            "_model_module_version": "1.5.0",
            "_view_count": null,
            "_view_module_version": "1.2.0",
            "_model_module": "@jupyter-widgets/controls"
          }
        },
        "b61b2236a2104ae1a9a89fdbebf2d483": {
          "model_module": "@jupyter-widgets/base",
          "model_name": "LayoutModel",
          "model_module_version": "1.2.0",
          "state": {
            "_view_name": "LayoutView",
            "grid_template_rows": null,
            "right": null,
            "justify_content": null,
            "_view_module": "@jupyter-widgets/base",
            "overflow": null,
            "_model_module_version": "1.2.0",
            "_view_count": null,
            "flex_flow": null,
            "width": null,
            "min_width": null,
            "border": null,
            "align_items": null,
            "bottom": null,
            "_model_module": "@jupyter-widgets/base",
            "top": null,
            "grid_column": null,
            "overflow_y": null,
            "overflow_x": null,
            "grid_auto_flow": null,
            "grid_area": null,
            "grid_template_columns": null,
            "flex": null,
            "_model_name": "LayoutModel",
            "justify_items": null,
            "grid_row": null,
            "max_height": null,
            "align_content": null,
            "visibility": null,
            "align_self": null,
            "height": null,
            "min_height": null,
            "padding": null,
            "grid_auto_rows": null,
            "grid_gap": null,
            "max_width": null,
            "order": null,
            "_view_module_version": "1.2.0",
            "grid_template_areas": null,
            "object_position": null,
            "object_fit": null,
            "grid_auto_columns": null,
            "margin": null,
            "display": null,
            "left": null
          }
        },
        "7e721d24d29642d9b1ccc91879a3bc43": {
          "model_module": "@jupyter-widgets/controls",
          "model_name": "ProgressStyleModel",
          "model_module_version": "1.5.0",
          "state": {
            "_view_name": "StyleView",
            "_model_name": "ProgressStyleModel",
            "description_width": "",
            "_view_module": "@jupyter-widgets/base",
            "_model_module_version": "1.5.0",
            "_view_count": null,
            "_view_module_version": "1.2.0",
            "bar_color": null,
            "_model_module": "@jupyter-widgets/controls"
          }
        },
        "45392644173147a18c430e1402fa0a7e": {
          "model_module": "@jupyter-widgets/base",
          "model_name": "LayoutModel",
          "model_module_version": "1.2.0",
          "state": {
            "_view_name": "LayoutView",
            "grid_template_rows": null,
            "right": null,
            "justify_content": null,
            "_view_module": "@jupyter-widgets/base",
            "overflow": null,
            "_model_module_version": "1.2.0",
            "_view_count": null,
            "flex_flow": null,
            "width": null,
            "min_width": null,
            "border": null,
            "align_items": null,
            "bottom": null,
            "_model_module": "@jupyter-widgets/base",
            "top": null,
            "grid_column": null,
            "overflow_y": null,
            "overflow_x": null,
            "grid_auto_flow": null,
            "grid_area": null,
            "grid_template_columns": null,
            "flex": null,
            "_model_name": "LayoutModel",
            "justify_items": null,
            "grid_row": null,
            "max_height": null,
            "align_content": null,
            "visibility": null,
            "align_self": null,
            "height": null,
            "min_height": null,
            "padding": null,
            "grid_auto_rows": null,
            "grid_gap": null,
            "max_width": null,
            "order": null,
            "_view_module_version": "1.2.0",
            "grid_template_areas": null,
            "object_position": null,
            "object_fit": null,
            "grid_auto_columns": null,
            "margin": null,
            "display": null,
            "left": null
          }
        },
        "d223e4dcfc534b4198a6b31c26fe5ef8": {
          "model_module": "@jupyter-widgets/controls",
          "model_name": "VBoxModel",
          "model_module_version": "1.5.0",
          "state": {
            "_view_name": "VBoxView",
            "_dom_classes": [],
            "_model_name": "VBoxModel",
            "_view_module": "@jupyter-widgets/controls",
            "_model_module_version": "1.5.0",
            "_view_count": null,
            "_view_module_version": "1.5.0",
            "box_style": "",
            "layout": "IPY_MODEL_c8be44542e40495e9cf060bb0d77cb7b",
            "_model_module": "@jupyter-widgets/controls",
            "children": [
              "IPY_MODEL_431fafed483b4bb3b869931fa27630be",
              "IPY_MODEL_d15e7496af7840a1b621a8d0494e8b4a"
            ]
          }
        },
        "c8be44542e40495e9cf060bb0d77cb7b": {
          "model_module": "@jupyter-widgets/base",
          "model_name": "LayoutModel",
          "model_module_version": "1.2.0",
          "state": {
            "_view_name": "LayoutView",
            "grid_template_rows": null,
            "right": null,
            "justify_content": null,
            "_view_module": "@jupyter-widgets/base",
            "overflow": null,
            "_model_module_version": "1.2.0",
            "_view_count": null,
            "flex_flow": null,
            "width": null,
            "min_width": null,
            "border": null,
            "align_items": null,
            "bottom": null,
            "_model_module": "@jupyter-widgets/base",
            "top": null,
            "grid_column": null,
            "overflow_y": null,
            "overflow_x": null,
            "grid_auto_flow": null,
            "grid_area": null,
            "grid_template_columns": null,
            "flex": null,
            "_model_name": "LayoutModel",
            "justify_items": null,
            "grid_row": null,
            "max_height": null,
            "align_content": null,
            "visibility": null,
            "align_self": null,
            "height": null,
            "min_height": null,
            "padding": null,
            "grid_auto_rows": null,
            "grid_gap": null,
            "max_width": null,
            "order": null,
            "_view_module_version": "1.2.0",
            "grid_template_areas": null,
            "object_position": null,
            "object_fit": null,
            "grid_auto_columns": null,
            "margin": null,
            "display": null,
            "left": null
          }
        },
        "431fafed483b4bb3b869931fa27630be": {
          "model_module": "@jupyter-widgets/controls",
          "model_name": "LabelModel",
          "model_module_version": "1.5.0",
          "state": {
            "_view_name": "LabelView",
            "style": "IPY_MODEL_764bf6b008d44873ae1c3f93cb4437ec",
            "_dom_classes": [],
            "description": "",
            "_model_name": "LabelModel",
            "placeholder": "​",
            "_view_module": "@jupyter-widgets/controls",
            "_model_module_version": "1.5.0",
            "value": " 0.05MB of 0.05MB uploaded (0.00MB deduped)\r",
            "_view_count": null,
            "_view_module_version": "1.5.0",
            "description_tooltip": null,
            "_model_module": "@jupyter-widgets/controls",
            "layout": "IPY_MODEL_fccf84f4f8b1428c80d56495cec111f6"
          }
        },
        "d15e7496af7840a1b621a8d0494e8b4a": {
          "model_module": "@jupyter-widgets/controls",
          "model_name": "FloatProgressModel",
          "model_module_version": "1.5.0",
          "state": {
            "_view_name": "ProgressView",
            "style": "IPY_MODEL_ebe8a7946de34c7ea89d8fe31a9601c7",
            "_dom_classes": [],
            "description": "",
            "_model_name": "FloatProgressModel",
            "bar_style": "",
            "max": 1,
            "_view_module": "@jupyter-widgets/controls",
            "_model_module_version": "1.5.0",
            "value": 1,
            "_view_count": null,
            "_view_module_version": "1.5.0",
            "orientation": "horizontal",
            "min": 0,
            "description_tooltip": null,
            "_model_module": "@jupyter-widgets/controls",
            "layout": "IPY_MODEL_503299969d52405bbb0cfca106c67bc2"
          }
        },
        "764bf6b008d44873ae1c3f93cb4437ec": {
          "model_module": "@jupyter-widgets/controls",
          "model_name": "DescriptionStyleModel",
          "model_module_version": "1.5.0",
          "state": {
            "_view_name": "StyleView",
            "_model_name": "DescriptionStyleModel",
            "description_width": "",
            "_view_module": "@jupyter-widgets/base",
            "_model_module_version": "1.5.0",
            "_view_count": null,
            "_view_module_version": "1.2.0",
            "_model_module": "@jupyter-widgets/controls"
          }
        },
        "fccf84f4f8b1428c80d56495cec111f6": {
          "model_module": "@jupyter-widgets/base",
          "model_name": "LayoutModel",
          "model_module_version": "1.2.0",
          "state": {
            "_view_name": "LayoutView",
            "grid_template_rows": null,
            "right": null,
            "justify_content": null,
            "_view_module": "@jupyter-widgets/base",
            "overflow": null,
            "_model_module_version": "1.2.0",
            "_view_count": null,
            "flex_flow": null,
            "width": null,
            "min_width": null,
            "border": null,
            "align_items": null,
            "bottom": null,
            "_model_module": "@jupyter-widgets/base",
            "top": null,
            "grid_column": null,
            "overflow_y": null,
            "overflow_x": null,
            "grid_auto_flow": null,
            "grid_area": null,
            "grid_template_columns": null,
            "flex": null,
            "_model_name": "LayoutModel",
            "justify_items": null,
            "grid_row": null,
            "max_height": null,
            "align_content": null,
            "visibility": null,
            "align_self": null,
            "height": null,
            "min_height": null,
            "padding": null,
            "grid_auto_rows": null,
            "grid_gap": null,
            "max_width": null,
            "order": null,
            "_view_module_version": "1.2.0",
            "grid_template_areas": null,
            "object_position": null,
            "object_fit": null,
            "grid_auto_columns": null,
            "margin": null,
            "display": null,
            "left": null
          }
        },
        "ebe8a7946de34c7ea89d8fe31a9601c7": {
          "model_module": "@jupyter-widgets/controls",
          "model_name": "ProgressStyleModel",
          "model_module_version": "1.5.0",
          "state": {
            "_view_name": "StyleView",
            "_model_name": "ProgressStyleModel",
            "description_width": "",
            "_view_module": "@jupyter-widgets/base",
            "_model_module_version": "1.5.0",
            "_view_count": null,
            "_view_module_version": "1.2.0",
            "bar_color": null,
            "_model_module": "@jupyter-widgets/controls"
          }
        },
        "503299969d52405bbb0cfca106c67bc2": {
          "model_module": "@jupyter-widgets/base",
          "model_name": "LayoutModel",
          "model_module_version": "1.2.0",
          "state": {
            "_view_name": "LayoutView",
            "grid_template_rows": null,
            "right": null,
            "justify_content": null,
            "_view_module": "@jupyter-widgets/base",
            "overflow": null,
            "_model_module_version": "1.2.0",
            "_view_count": null,
            "flex_flow": null,
            "width": null,
            "min_width": null,
            "border": null,
            "align_items": null,
            "bottom": null,
            "_model_module": "@jupyter-widgets/base",
            "top": null,
            "grid_column": null,
            "overflow_y": null,
            "overflow_x": null,
            "grid_auto_flow": null,
            "grid_area": null,
            "grid_template_columns": null,
            "flex": null,
            "_model_name": "LayoutModel",
            "justify_items": null,
            "grid_row": null,
            "max_height": null,
            "align_content": null,
            "visibility": null,
            "align_self": null,
            "height": null,
            "min_height": null,
            "padding": null,
            "grid_auto_rows": null,
            "grid_gap": null,
            "max_width": null,
            "order": null,
            "_view_module_version": "1.2.0",
            "grid_template_areas": null,
            "object_position": null,
            "object_fit": null,
            "grid_auto_columns": null,
            "margin": null,
            "display": null,
            "left": null
          }
        },
        "1af7461f73af4d9cb197e56f7fd841cb": {
          "model_module": "@jupyter-widgets/controls",
          "model_name": "VBoxModel",
          "model_module_version": "1.5.0",
          "state": {
            "_view_name": "VBoxView",
            "_dom_classes": [],
            "_model_name": "VBoxModel",
            "_view_module": "@jupyter-widgets/controls",
            "_model_module_version": "1.5.0",
            "_view_count": null,
            "_view_module_version": "1.5.0",
            "box_style": "",
            "layout": "IPY_MODEL_aaa049c4bf354d85ac0bac53b900a542",
            "_model_module": "@jupyter-widgets/controls",
            "children": [
              "IPY_MODEL_1dbec6a0d5a248a4878268228ca5acba",
              "IPY_MODEL_c55fed44633e4b38a2a99ee159905a86"
            ]
          }
        },
        "aaa049c4bf354d85ac0bac53b900a542": {
          "model_module": "@jupyter-widgets/base",
          "model_name": "LayoutModel",
          "model_module_version": "1.2.0",
          "state": {
            "_view_name": "LayoutView",
            "grid_template_rows": null,
            "right": null,
            "justify_content": null,
            "_view_module": "@jupyter-widgets/base",
            "overflow": null,
            "_model_module_version": "1.2.0",
            "_view_count": null,
            "flex_flow": null,
            "width": null,
            "min_width": null,
            "border": null,
            "align_items": null,
            "bottom": null,
            "_model_module": "@jupyter-widgets/base",
            "top": null,
            "grid_column": null,
            "overflow_y": null,
            "overflow_x": null,
            "grid_auto_flow": null,
            "grid_area": null,
            "grid_template_columns": null,
            "flex": null,
            "_model_name": "LayoutModel",
            "justify_items": null,
            "grid_row": null,
            "max_height": null,
            "align_content": null,
            "visibility": null,
            "align_self": null,
            "height": null,
            "min_height": null,
            "padding": null,
            "grid_auto_rows": null,
            "grid_gap": null,
            "max_width": null,
            "order": null,
            "_view_module_version": "1.2.0",
            "grid_template_areas": null,
            "object_position": null,
            "object_fit": null,
            "grid_auto_columns": null,
            "margin": null,
            "display": null,
            "left": null
          }
        },
        "1dbec6a0d5a248a4878268228ca5acba": {
          "model_module": "@jupyter-widgets/controls",
          "model_name": "LabelModel",
          "model_module_version": "1.5.0",
          "state": {
            "_view_name": "LabelView",
            "style": "IPY_MODEL_94e4767e77b24113acfe407e67ff4055",
            "_dom_classes": [],
            "description": "",
            "_model_name": "LabelModel",
            "placeholder": "​",
            "_view_module": "@jupyter-widgets/controls",
            "_model_module_version": "1.5.0",
            "value": " 0.05MB of 0.05MB uploaded (0.00MB deduped)\r",
            "_view_count": null,
            "_view_module_version": "1.5.0",
            "description_tooltip": null,
            "_model_module": "@jupyter-widgets/controls",
            "layout": "IPY_MODEL_063cf77911ef48fba934cecaad0a0ed5"
          }
        },
        "c55fed44633e4b38a2a99ee159905a86": {
          "model_module": "@jupyter-widgets/controls",
          "model_name": "FloatProgressModel",
          "model_module_version": "1.5.0",
          "state": {
            "_view_name": "ProgressView",
            "style": "IPY_MODEL_d6e32283d88149e499f5a5d931cc0d45",
            "_dom_classes": [],
            "description": "",
            "_model_name": "FloatProgressModel",
            "bar_style": "",
            "max": 1,
            "_view_module": "@jupyter-widgets/controls",
            "_model_module_version": "1.5.0",
            "value": 1,
            "_view_count": null,
            "_view_module_version": "1.5.0",
            "orientation": "horizontal",
            "min": 0,
            "description_tooltip": null,
            "_model_module": "@jupyter-widgets/controls",
            "layout": "IPY_MODEL_576d3d979c1a4295918575c8c4a139b0"
          }
        },
        "94e4767e77b24113acfe407e67ff4055": {
          "model_module": "@jupyter-widgets/controls",
          "model_name": "DescriptionStyleModel",
          "model_module_version": "1.5.0",
          "state": {
            "_view_name": "StyleView",
            "_model_name": "DescriptionStyleModel",
            "description_width": "",
            "_view_module": "@jupyter-widgets/base",
            "_model_module_version": "1.5.0",
            "_view_count": null,
            "_view_module_version": "1.2.0",
            "_model_module": "@jupyter-widgets/controls"
          }
        },
        "063cf77911ef48fba934cecaad0a0ed5": {
          "model_module": "@jupyter-widgets/base",
          "model_name": "LayoutModel",
          "model_module_version": "1.2.0",
          "state": {
            "_view_name": "LayoutView",
            "grid_template_rows": null,
            "right": null,
            "justify_content": null,
            "_view_module": "@jupyter-widgets/base",
            "overflow": null,
            "_model_module_version": "1.2.0",
            "_view_count": null,
            "flex_flow": null,
            "width": null,
            "min_width": null,
            "border": null,
            "align_items": null,
            "bottom": null,
            "_model_module": "@jupyter-widgets/base",
            "top": null,
            "grid_column": null,
            "overflow_y": null,
            "overflow_x": null,
            "grid_auto_flow": null,
            "grid_area": null,
            "grid_template_columns": null,
            "flex": null,
            "_model_name": "LayoutModel",
            "justify_items": null,
            "grid_row": null,
            "max_height": null,
            "align_content": null,
            "visibility": null,
            "align_self": null,
            "height": null,
            "min_height": null,
            "padding": null,
            "grid_auto_rows": null,
            "grid_gap": null,
            "max_width": null,
            "order": null,
            "_view_module_version": "1.2.0",
            "grid_template_areas": null,
            "object_position": null,
            "object_fit": null,
            "grid_auto_columns": null,
            "margin": null,
            "display": null,
            "left": null
          }
        },
        "d6e32283d88149e499f5a5d931cc0d45": {
          "model_module": "@jupyter-widgets/controls",
          "model_name": "ProgressStyleModel",
          "model_module_version": "1.5.0",
          "state": {
            "_view_name": "StyleView",
            "_model_name": "ProgressStyleModel",
            "description_width": "",
            "_view_module": "@jupyter-widgets/base",
            "_model_module_version": "1.5.0",
            "_view_count": null,
            "_view_module_version": "1.2.0",
            "bar_color": null,
            "_model_module": "@jupyter-widgets/controls"
          }
        },
        "576d3d979c1a4295918575c8c4a139b0": {
          "model_module": "@jupyter-widgets/base",
          "model_name": "LayoutModel",
          "model_module_version": "1.2.0",
          "state": {
            "_view_name": "LayoutView",
            "grid_template_rows": null,
            "right": null,
            "justify_content": null,
            "_view_module": "@jupyter-widgets/base",
            "overflow": null,
            "_model_module_version": "1.2.0",
            "_view_count": null,
            "flex_flow": null,
            "width": null,
            "min_width": null,
            "border": null,
            "align_items": null,
            "bottom": null,
            "_model_module": "@jupyter-widgets/base",
            "top": null,
            "grid_column": null,
            "overflow_y": null,
            "overflow_x": null,
            "grid_auto_flow": null,
            "grid_area": null,
            "grid_template_columns": null,
            "flex": null,
            "_model_name": "LayoutModel",
            "justify_items": null,
            "grid_row": null,
            "max_height": null,
            "align_content": null,
            "visibility": null,
            "align_self": null,
            "height": null,
            "min_height": null,
            "padding": null,
            "grid_auto_rows": null,
            "grid_gap": null,
            "max_width": null,
            "order": null,
            "_view_module_version": "1.2.0",
            "grid_template_areas": null,
            "object_position": null,
            "object_fit": null,
            "grid_auto_columns": null,
            "margin": null,
            "display": null,
            "left": null
          }
        },
        "42b43e1c0c134bdd98ea9bbfdfe39074": {
          "model_module": "@jupyter-widgets/controls",
          "model_name": "VBoxModel",
          "model_module_version": "1.5.0",
          "state": {
            "_view_name": "VBoxView",
            "_dom_classes": [],
            "_model_name": "VBoxModel",
            "_view_module": "@jupyter-widgets/controls",
            "_model_module_version": "1.5.0",
            "_view_count": null,
            "_view_module_version": "1.5.0",
            "box_style": "",
            "layout": "IPY_MODEL_ebd58c9391d34eb78617a4e9a5f334b2",
            "_model_module": "@jupyter-widgets/controls",
            "children": [
              "IPY_MODEL_a56b1578fd0042b9bc5356b0ab4d1502",
              "IPY_MODEL_00282b82e14f406a9f8f5608bc2c37cc"
            ]
          }
        },
        "ebd58c9391d34eb78617a4e9a5f334b2": {
          "model_module": "@jupyter-widgets/base",
          "model_name": "LayoutModel",
          "model_module_version": "1.2.0",
          "state": {
            "_view_name": "LayoutView",
            "grid_template_rows": null,
            "right": null,
            "justify_content": null,
            "_view_module": "@jupyter-widgets/base",
            "overflow": null,
            "_model_module_version": "1.2.0",
            "_view_count": null,
            "flex_flow": null,
            "width": null,
            "min_width": null,
            "border": null,
            "align_items": null,
            "bottom": null,
            "_model_module": "@jupyter-widgets/base",
            "top": null,
            "grid_column": null,
            "overflow_y": null,
            "overflow_x": null,
            "grid_auto_flow": null,
            "grid_area": null,
            "grid_template_columns": null,
            "flex": null,
            "_model_name": "LayoutModel",
            "justify_items": null,
            "grid_row": null,
            "max_height": null,
            "align_content": null,
            "visibility": null,
            "align_self": null,
            "height": null,
            "min_height": null,
            "padding": null,
            "grid_auto_rows": null,
            "grid_gap": null,
            "max_width": null,
            "order": null,
            "_view_module_version": "1.2.0",
            "grid_template_areas": null,
            "object_position": null,
            "object_fit": null,
            "grid_auto_columns": null,
            "margin": null,
            "display": null,
            "left": null
          }
        },
        "a56b1578fd0042b9bc5356b0ab4d1502": {
          "model_module": "@jupyter-widgets/controls",
          "model_name": "LabelModel",
          "model_module_version": "1.5.0",
          "state": {
            "_view_name": "LabelView",
            "style": "IPY_MODEL_a440adf1e1a74244af74b9efee887975",
            "_dom_classes": [],
            "description": "",
            "_model_name": "LabelModel",
            "placeholder": "​",
            "_view_module": "@jupyter-widgets/controls",
            "_model_module_version": "1.5.0",
            "value": " 0.05MB of 0.05MB uploaded (0.00MB deduped)\r",
            "_view_count": null,
            "_view_module_version": "1.5.0",
            "description_tooltip": null,
            "_model_module": "@jupyter-widgets/controls",
            "layout": "IPY_MODEL_9f049f338567425880063eba0456d42b"
          }
        },
        "00282b82e14f406a9f8f5608bc2c37cc": {
          "model_module": "@jupyter-widgets/controls",
          "model_name": "FloatProgressModel",
          "model_module_version": "1.5.0",
          "state": {
            "_view_name": "ProgressView",
            "style": "IPY_MODEL_eb65db32413b405c80a2261b71c2f22d",
            "_dom_classes": [],
            "description": "",
            "_model_name": "FloatProgressModel",
            "bar_style": "",
            "max": 1,
            "_view_module": "@jupyter-widgets/controls",
            "_model_module_version": "1.5.0",
            "value": 1,
            "_view_count": null,
            "_view_module_version": "1.5.0",
            "orientation": "horizontal",
            "min": 0,
            "description_tooltip": null,
            "_model_module": "@jupyter-widgets/controls",
            "layout": "IPY_MODEL_aae38fedc8e545f78af2be082eb17167"
          }
        },
        "a440adf1e1a74244af74b9efee887975": {
          "model_module": "@jupyter-widgets/controls",
          "model_name": "DescriptionStyleModel",
          "model_module_version": "1.5.0",
          "state": {
            "_view_name": "StyleView",
            "_model_name": "DescriptionStyleModel",
            "description_width": "",
            "_view_module": "@jupyter-widgets/base",
            "_model_module_version": "1.5.0",
            "_view_count": null,
            "_view_module_version": "1.2.0",
            "_model_module": "@jupyter-widgets/controls"
          }
        },
        "9f049f338567425880063eba0456d42b": {
          "model_module": "@jupyter-widgets/base",
          "model_name": "LayoutModel",
          "model_module_version": "1.2.0",
          "state": {
            "_view_name": "LayoutView",
            "grid_template_rows": null,
            "right": null,
            "justify_content": null,
            "_view_module": "@jupyter-widgets/base",
            "overflow": null,
            "_model_module_version": "1.2.0",
            "_view_count": null,
            "flex_flow": null,
            "width": null,
            "min_width": null,
            "border": null,
            "align_items": null,
            "bottom": null,
            "_model_module": "@jupyter-widgets/base",
            "top": null,
            "grid_column": null,
            "overflow_y": null,
            "overflow_x": null,
            "grid_auto_flow": null,
            "grid_area": null,
            "grid_template_columns": null,
            "flex": null,
            "_model_name": "LayoutModel",
            "justify_items": null,
            "grid_row": null,
            "max_height": null,
            "align_content": null,
            "visibility": null,
            "align_self": null,
            "height": null,
            "min_height": null,
            "padding": null,
            "grid_auto_rows": null,
            "grid_gap": null,
            "max_width": null,
            "order": null,
            "_view_module_version": "1.2.0",
            "grid_template_areas": null,
            "object_position": null,
            "object_fit": null,
            "grid_auto_columns": null,
            "margin": null,
            "display": null,
            "left": null
          }
        },
        "eb65db32413b405c80a2261b71c2f22d": {
          "model_module": "@jupyter-widgets/controls",
          "model_name": "ProgressStyleModel",
          "model_module_version": "1.5.0",
          "state": {
            "_view_name": "StyleView",
            "_model_name": "ProgressStyleModel",
            "description_width": "",
            "_view_module": "@jupyter-widgets/base",
            "_model_module_version": "1.5.0",
            "_view_count": null,
            "_view_module_version": "1.2.0",
            "bar_color": null,
            "_model_module": "@jupyter-widgets/controls"
          }
        },
        "aae38fedc8e545f78af2be082eb17167": {
          "model_module": "@jupyter-widgets/base",
          "model_name": "LayoutModel",
          "model_module_version": "1.2.0",
          "state": {
            "_view_name": "LayoutView",
            "grid_template_rows": null,
            "right": null,
            "justify_content": null,
            "_view_module": "@jupyter-widgets/base",
            "overflow": null,
            "_model_module_version": "1.2.0",
            "_view_count": null,
            "flex_flow": null,
            "width": null,
            "min_width": null,
            "border": null,
            "align_items": null,
            "bottom": null,
            "_model_module": "@jupyter-widgets/base",
            "top": null,
            "grid_column": null,
            "overflow_y": null,
            "overflow_x": null,
            "grid_auto_flow": null,
            "grid_area": null,
            "grid_template_columns": null,
            "flex": null,
            "_model_name": "LayoutModel",
            "justify_items": null,
            "grid_row": null,
            "max_height": null,
            "align_content": null,
            "visibility": null,
            "align_self": null,
            "height": null,
            "min_height": null,
            "padding": null,
            "grid_auto_rows": null,
            "grid_gap": null,
            "max_width": null,
            "order": null,
            "_view_module_version": "1.2.0",
            "grid_template_areas": null,
            "object_position": null,
            "object_fit": null,
            "grid_auto_columns": null,
            "margin": null,
            "display": null,
            "left": null
          }
        },
        "dd5facd710c244658acc018ff9f72b94": {
          "model_module": "@jupyter-widgets/controls",
          "model_name": "VBoxModel",
          "model_module_version": "1.5.0",
          "state": {
            "_view_name": "VBoxView",
            "_dom_classes": [],
            "_model_name": "VBoxModel",
            "_view_module": "@jupyter-widgets/controls",
            "_model_module_version": "1.5.0",
            "_view_count": null,
            "_view_module_version": "1.5.0",
            "box_style": "",
            "layout": "IPY_MODEL_d095328195444a74b8e193fe2f102315",
            "_model_module": "@jupyter-widgets/controls",
            "children": [
              "IPY_MODEL_467691c7d9b24681af34d543466220f8",
              "IPY_MODEL_4c9459d8b661407ab8cb0248f939f0f3"
            ]
          }
        },
        "d095328195444a74b8e193fe2f102315": {
          "model_module": "@jupyter-widgets/base",
          "model_name": "LayoutModel",
          "model_module_version": "1.2.0",
          "state": {
            "_view_name": "LayoutView",
            "grid_template_rows": null,
            "right": null,
            "justify_content": null,
            "_view_module": "@jupyter-widgets/base",
            "overflow": null,
            "_model_module_version": "1.2.0",
            "_view_count": null,
            "flex_flow": null,
            "width": null,
            "min_width": null,
            "border": null,
            "align_items": null,
            "bottom": null,
            "_model_module": "@jupyter-widgets/base",
            "top": null,
            "grid_column": null,
            "overflow_y": null,
            "overflow_x": null,
            "grid_auto_flow": null,
            "grid_area": null,
            "grid_template_columns": null,
            "flex": null,
            "_model_name": "LayoutModel",
            "justify_items": null,
            "grid_row": null,
            "max_height": null,
            "align_content": null,
            "visibility": null,
            "align_self": null,
            "height": null,
            "min_height": null,
            "padding": null,
            "grid_auto_rows": null,
            "grid_gap": null,
            "max_width": null,
            "order": null,
            "_view_module_version": "1.2.0",
            "grid_template_areas": null,
            "object_position": null,
            "object_fit": null,
            "grid_auto_columns": null,
            "margin": null,
            "display": null,
            "left": null
          }
        },
        "467691c7d9b24681af34d543466220f8": {
          "model_module": "@jupyter-widgets/controls",
          "model_name": "LabelModel",
          "model_module_version": "1.5.0",
          "state": {
            "_view_name": "LabelView",
            "style": "IPY_MODEL_4ee09835498449eab749469dbf0c3450",
            "_dom_classes": [],
            "description": "",
            "_model_name": "LabelModel",
            "placeholder": "​",
            "_view_module": "@jupyter-widgets/controls",
            "_model_module_version": "1.5.0",
            "value": " 0.05MB of 0.05MB uploaded (0.00MB deduped)\r",
            "_view_count": null,
            "_view_module_version": "1.5.0",
            "description_tooltip": null,
            "_model_module": "@jupyter-widgets/controls",
            "layout": "IPY_MODEL_a51ca8d03a3f4ea2b1ffdcd35476c7a9"
          }
        },
        "4c9459d8b661407ab8cb0248f939f0f3": {
          "model_module": "@jupyter-widgets/controls",
          "model_name": "FloatProgressModel",
          "model_module_version": "1.5.0",
          "state": {
            "_view_name": "ProgressView",
            "style": "IPY_MODEL_c65fc2d6e3b14f4ea506f56c3effafdc",
            "_dom_classes": [],
            "description": "",
            "_model_name": "FloatProgressModel",
            "bar_style": "",
            "max": 1,
            "_view_module": "@jupyter-widgets/controls",
            "_model_module_version": "1.5.0",
            "value": 1,
            "_view_count": null,
            "_view_module_version": "1.5.0",
            "orientation": "horizontal",
            "min": 0,
            "description_tooltip": null,
            "_model_module": "@jupyter-widgets/controls",
            "layout": "IPY_MODEL_cf09724d51cd499b8cad3fdcaf9a7e36"
          }
        },
        "4ee09835498449eab749469dbf0c3450": {
          "model_module": "@jupyter-widgets/controls",
          "model_name": "DescriptionStyleModel",
          "model_module_version": "1.5.0",
          "state": {
            "_view_name": "StyleView",
            "_model_name": "DescriptionStyleModel",
            "description_width": "",
            "_view_module": "@jupyter-widgets/base",
            "_model_module_version": "1.5.0",
            "_view_count": null,
            "_view_module_version": "1.2.0",
            "_model_module": "@jupyter-widgets/controls"
          }
        },
        "a51ca8d03a3f4ea2b1ffdcd35476c7a9": {
          "model_module": "@jupyter-widgets/base",
          "model_name": "LayoutModel",
          "model_module_version": "1.2.0",
          "state": {
            "_view_name": "LayoutView",
            "grid_template_rows": null,
            "right": null,
            "justify_content": null,
            "_view_module": "@jupyter-widgets/base",
            "overflow": null,
            "_model_module_version": "1.2.0",
            "_view_count": null,
            "flex_flow": null,
            "width": null,
            "min_width": null,
            "border": null,
            "align_items": null,
            "bottom": null,
            "_model_module": "@jupyter-widgets/base",
            "top": null,
            "grid_column": null,
            "overflow_y": null,
            "overflow_x": null,
            "grid_auto_flow": null,
            "grid_area": null,
            "grid_template_columns": null,
            "flex": null,
            "_model_name": "LayoutModel",
            "justify_items": null,
            "grid_row": null,
            "max_height": null,
            "align_content": null,
            "visibility": null,
            "align_self": null,
            "height": null,
            "min_height": null,
            "padding": null,
            "grid_auto_rows": null,
            "grid_gap": null,
            "max_width": null,
            "order": null,
            "_view_module_version": "1.2.0",
            "grid_template_areas": null,
            "object_position": null,
            "object_fit": null,
            "grid_auto_columns": null,
            "margin": null,
            "display": null,
            "left": null
          }
        },
        "c65fc2d6e3b14f4ea506f56c3effafdc": {
          "model_module": "@jupyter-widgets/controls",
          "model_name": "ProgressStyleModel",
          "model_module_version": "1.5.0",
          "state": {
            "_view_name": "StyleView",
            "_model_name": "ProgressStyleModel",
            "description_width": "",
            "_view_module": "@jupyter-widgets/base",
            "_model_module_version": "1.5.0",
            "_view_count": null,
            "_view_module_version": "1.2.0",
            "bar_color": null,
            "_model_module": "@jupyter-widgets/controls"
          }
        },
        "cf09724d51cd499b8cad3fdcaf9a7e36": {
          "model_module": "@jupyter-widgets/base",
          "model_name": "LayoutModel",
          "model_module_version": "1.2.0",
          "state": {
            "_view_name": "LayoutView",
            "grid_template_rows": null,
            "right": null,
            "justify_content": null,
            "_view_module": "@jupyter-widgets/base",
            "overflow": null,
            "_model_module_version": "1.2.0",
            "_view_count": null,
            "flex_flow": null,
            "width": null,
            "min_width": null,
            "border": null,
            "align_items": null,
            "bottom": null,
            "_model_module": "@jupyter-widgets/base",
            "top": null,
            "grid_column": null,
            "overflow_y": null,
            "overflow_x": null,
            "grid_auto_flow": null,
            "grid_area": null,
            "grid_template_columns": null,
            "flex": null,
            "_model_name": "LayoutModel",
            "justify_items": null,
            "grid_row": null,
            "max_height": null,
            "align_content": null,
            "visibility": null,
            "align_self": null,
            "height": null,
            "min_height": null,
            "padding": null,
            "grid_auto_rows": null,
            "grid_gap": null,
            "max_width": null,
            "order": null,
            "_view_module_version": "1.2.0",
            "grid_template_areas": null,
            "object_position": null,
            "object_fit": null,
            "grid_auto_columns": null,
            "margin": null,
            "display": null,
            "left": null
          }
        },
        "61ca049203ab4970a0f1d13a1ea7ec8b": {
          "model_module": "@jupyter-widgets/controls",
          "model_name": "VBoxModel",
          "model_module_version": "1.5.0",
          "state": {
            "_view_name": "VBoxView",
            "_dom_classes": [],
            "_model_name": "VBoxModel",
            "_view_module": "@jupyter-widgets/controls",
            "_model_module_version": "1.5.0",
            "_view_count": null,
            "_view_module_version": "1.5.0",
            "box_style": "",
            "layout": "IPY_MODEL_481318b32ba94ba7b99f7021f49cb450",
            "_model_module": "@jupyter-widgets/controls",
            "children": [
              "IPY_MODEL_b784613205f547308c1a5e1f57cf582c",
              "IPY_MODEL_32cecb56abb742a99816963815b1a8bc"
            ]
          }
        },
        "481318b32ba94ba7b99f7021f49cb450": {
          "model_module": "@jupyter-widgets/base",
          "model_name": "LayoutModel",
          "model_module_version": "1.2.0",
          "state": {
            "_view_name": "LayoutView",
            "grid_template_rows": null,
            "right": null,
            "justify_content": null,
            "_view_module": "@jupyter-widgets/base",
            "overflow": null,
            "_model_module_version": "1.2.0",
            "_view_count": null,
            "flex_flow": null,
            "width": null,
            "min_width": null,
            "border": null,
            "align_items": null,
            "bottom": null,
            "_model_module": "@jupyter-widgets/base",
            "top": null,
            "grid_column": null,
            "overflow_y": null,
            "overflow_x": null,
            "grid_auto_flow": null,
            "grid_area": null,
            "grid_template_columns": null,
            "flex": null,
            "_model_name": "LayoutModel",
            "justify_items": null,
            "grid_row": null,
            "max_height": null,
            "align_content": null,
            "visibility": null,
            "align_self": null,
            "height": null,
            "min_height": null,
            "padding": null,
            "grid_auto_rows": null,
            "grid_gap": null,
            "max_width": null,
            "order": null,
            "_view_module_version": "1.2.0",
            "grid_template_areas": null,
            "object_position": null,
            "object_fit": null,
            "grid_auto_columns": null,
            "margin": null,
            "display": null,
            "left": null
          }
        },
        "b784613205f547308c1a5e1f57cf582c": {
          "model_module": "@jupyter-widgets/controls",
          "model_name": "LabelModel",
          "model_module_version": "1.5.0",
          "state": {
            "_view_name": "LabelView",
            "style": "IPY_MODEL_a22780680e3f4d53a2c9a9c4002118fb",
            "_dom_classes": [],
            "description": "",
            "_model_name": "LabelModel",
            "placeholder": "​",
            "_view_module": "@jupyter-widgets/controls",
            "_model_module_version": "1.5.0",
            "value": " 0.04MB of 0.04MB uploaded (0.00MB deduped)\r",
            "_view_count": null,
            "_view_module_version": "1.5.0",
            "description_tooltip": null,
            "_model_module": "@jupyter-widgets/controls",
            "layout": "IPY_MODEL_ff925d1167404a03b68ae54064ea7db1"
          }
        },
        "32cecb56abb742a99816963815b1a8bc": {
          "model_module": "@jupyter-widgets/controls",
          "model_name": "FloatProgressModel",
          "model_module_version": "1.5.0",
          "state": {
            "_view_name": "ProgressView",
            "style": "IPY_MODEL_a82ceba78e0e4c12a89b3b9d96beb559",
            "_dom_classes": [],
            "description": "",
            "_model_name": "FloatProgressModel",
            "bar_style": "",
            "max": 1,
            "_view_module": "@jupyter-widgets/controls",
            "_model_module_version": "1.5.0",
            "value": 1,
            "_view_count": null,
            "_view_module_version": "1.5.0",
            "orientation": "horizontal",
            "min": 0,
            "description_tooltip": null,
            "_model_module": "@jupyter-widgets/controls",
            "layout": "IPY_MODEL_6638e37ebed545b7a4104d0dfb4c6de7"
          }
        },
        "a22780680e3f4d53a2c9a9c4002118fb": {
          "model_module": "@jupyter-widgets/controls",
          "model_name": "DescriptionStyleModel",
          "model_module_version": "1.5.0",
          "state": {
            "_view_name": "StyleView",
            "_model_name": "DescriptionStyleModel",
            "description_width": "",
            "_view_module": "@jupyter-widgets/base",
            "_model_module_version": "1.5.0",
            "_view_count": null,
            "_view_module_version": "1.2.0",
            "_model_module": "@jupyter-widgets/controls"
          }
        },
        "ff925d1167404a03b68ae54064ea7db1": {
          "model_module": "@jupyter-widgets/base",
          "model_name": "LayoutModel",
          "model_module_version": "1.2.0",
          "state": {
            "_view_name": "LayoutView",
            "grid_template_rows": null,
            "right": null,
            "justify_content": null,
            "_view_module": "@jupyter-widgets/base",
            "overflow": null,
            "_model_module_version": "1.2.0",
            "_view_count": null,
            "flex_flow": null,
            "width": null,
            "min_width": null,
            "border": null,
            "align_items": null,
            "bottom": null,
            "_model_module": "@jupyter-widgets/base",
            "top": null,
            "grid_column": null,
            "overflow_y": null,
            "overflow_x": null,
            "grid_auto_flow": null,
            "grid_area": null,
            "grid_template_columns": null,
            "flex": null,
            "_model_name": "LayoutModel",
            "justify_items": null,
            "grid_row": null,
            "max_height": null,
            "align_content": null,
            "visibility": null,
            "align_self": null,
            "height": null,
            "min_height": null,
            "padding": null,
            "grid_auto_rows": null,
            "grid_gap": null,
            "max_width": null,
            "order": null,
            "_view_module_version": "1.2.0",
            "grid_template_areas": null,
            "object_position": null,
            "object_fit": null,
            "grid_auto_columns": null,
            "margin": null,
            "display": null,
            "left": null
          }
        },
        "a82ceba78e0e4c12a89b3b9d96beb559": {
          "model_module": "@jupyter-widgets/controls",
          "model_name": "ProgressStyleModel",
          "model_module_version": "1.5.0",
          "state": {
            "_view_name": "StyleView",
            "_model_name": "ProgressStyleModel",
            "description_width": "",
            "_view_module": "@jupyter-widgets/base",
            "_model_module_version": "1.5.0",
            "_view_count": null,
            "_view_module_version": "1.2.0",
            "bar_color": null,
            "_model_module": "@jupyter-widgets/controls"
          }
        },
        "6638e37ebed545b7a4104d0dfb4c6de7": {
          "model_module": "@jupyter-widgets/base",
          "model_name": "LayoutModel",
          "model_module_version": "1.2.0",
          "state": {
            "_view_name": "LayoutView",
            "grid_template_rows": null,
            "right": null,
            "justify_content": null,
            "_view_module": "@jupyter-widgets/base",
            "overflow": null,
            "_model_module_version": "1.2.0",
            "_view_count": null,
            "flex_flow": null,
            "width": null,
            "min_width": null,
            "border": null,
            "align_items": null,
            "bottom": null,
            "_model_module": "@jupyter-widgets/base",
            "top": null,
            "grid_column": null,
            "overflow_y": null,
            "overflow_x": null,
            "grid_auto_flow": null,
            "grid_area": null,
            "grid_template_columns": null,
            "flex": null,
            "_model_name": "LayoutModel",
            "justify_items": null,
            "grid_row": null,
            "max_height": null,
            "align_content": null,
            "visibility": null,
            "align_self": null,
            "height": null,
            "min_height": null,
            "padding": null,
            "grid_auto_rows": null,
            "grid_gap": null,
            "max_width": null,
            "order": null,
            "_view_module_version": "1.2.0",
            "grid_template_areas": null,
            "object_position": null,
            "object_fit": null,
            "grid_auto_columns": null,
            "margin": null,
            "display": null,
            "left": null
          }
        },
        "54b3e83cec514baf9ace5ce54f7a6d7e": {
          "model_module": "@jupyter-widgets/controls",
          "model_name": "VBoxModel",
          "model_module_version": "1.5.0",
          "state": {
            "_view_name": "VBoxView",
            "_dom_classes": [],
            "_model_name": "VBoxModel",
            "_view_module": "@jupyter-widgets/controls",
            "_model_module_version": "1.5.0",
            "_view_count": null,
            "_view_module_version": "1.5.0",
            "box_style": "",
            "layout": "IPY_MODEL_e5d339679eab4ecd8eeb63755fd9f570",
            "_model_module": "@jupyter-widgets/controls",
            "children": [
              "IPY_MODEL_05274788231647a6a2a734c8c7b5edeb",
              "IPY_MODEL_f8466130688c41da8df8bf038e1a31d7"
            ]
          }
        },
        "e5d339679eab4ecd8eeb63755fd9f570": {
          "model_module": "@jupyter-widgets/base",
          "model_name": "LayoutModel",
          "model_module_version": "1.2.0",
          "state": {
            "_view_name": "LayoutView",
            "grid_template_rows": null,
            "right": null,
            "justify_content": null,
            "_view_module": "@jupyter-widgets/base",
            "overflow": null,
            "_model_module_version": "1.2.0",
            "_view_count": null,
            "flex_flow": null,
            "width": null,
            "min_width": null,
            "border": null,
            "align_items": null,
            "bottom": null,
            "_model_module": "@jupyter-widgets/base",
            "top": null,
            "grid_column": null,
            "overflow_y": null,
            "overflow_x": null,
            "grid_auto_flow": null,
            "grid_area": null,
            "grid_template_columns": null,
            "flex": null,
            "_model_name": "LayoutModel",
            "justify_items": null,
            "grid_row": null,
            "max_height": null,
            "align_content": null,
            "visibility": null,
            "align_self": null,
            "height": null,
            "min_height": null,
            "padding": null,
            "grid_auto_rows": null,
            "grid_gap": null,
            "max_width": null,
            "order": null,
            "_view_module_version": "1.2.0",
            "grid_template_areas": null,
            "object_position": null,
            "object_fit": null,
            "grid_auto_columns": null,
            "margin": null,
            "display": null,
            "left": null
          }
        },
        "05274788231647a6a2a734c8c7b5edeb": {
          "model_module": "@jupyter-widgets/controls",
          "model_name": "LabelModel",
          "model_module_version": "1.5.0",
          "state": {
            "_view_name": "LabelView",
            "style": "IPY_MODEL_8979d1ab82a646f4a0ff78235ee2b70d",
            "_dom_classes": [],
            "description": "",
            "_model_name": "LabelModel",
            "placeholder": "​",
            "_view_module": "@jupyter-widgets/controls",
            "_model_module_version": "1.5.0",
            "value": " 0.05MB of 0.05MB uploaded (0.00MB deduped)\r",
            "_view_count": null,
            "_view_module_version": "1.5.0",
            "description_tooltip": null,
            "_model_module": "@jupyter-widgets/controls",
            "layout": "IPY_MODEL_8f4178c5911b4d9aa168ba8b3a69596f"
          }
        },
        "f8466130688c41da8df8bf038e1a31d7": {
          "model_module": "@jupyter-widgets/controls",
          "model_name": "FloatProgressModel",
          "model_module_version": "1.5.0",
          "state": {
            "_view_name": "ProgressView",
            "style": "IPY_MODEL_6469f0b0c76540acb1369b59e9e0e723",
            "_dom_classes": [],
            "description": "",
            "_model_name": "FloatProgressModel",
            "bar_style": "",
            "max": 1,
            "_view_module": "@jupyter-widgets/controls",
            "_model_module_version": "1.5.0",
            "value": 1,
            "_view_count": null,
            "_view_module_version": "1.5.0",
            "orientation": "horizontal",
            "min": 0,
            "description_tooltip": null,
            "_model_module": "@jupyter-widgets/controls",
            "layout": "IPY_MODEL_f71b63e5728746ee81d2b16d080011e6"
          }
        },
        "8979d1ab82a646f4a0ff78235ee2b70d": {
          "model_module": "@jupyter-widgets/controls",
          "model_name": "DescriptionStyleModel",
          "model_module_version": "1.5.0",
          "state": {
            "_view_name": "StyleView",
            "_model_name": "DescriptionStyleModel",
            "description_width": "",
            "_view_module": "@jupyter-widgets/base",
            "_model_module_version": "1.5.0",
            "_view_count": null,
            "_view_module_version": "1.2.0",
            "_model_module": "@jupyter-widgets/controls"
          }
        },
        "8f4178c5911b4d9aa168ba8b3a69596f": {
          "model_module": "@jupyter-widgets/base",
          "model_name": "LayoutModel",
          "model_module_version": "1.2.0",
          "state": {
            "_view_name": "LayoutView",
            "grid_template_rows": null,
            "right": null,
            "justify_content": null,
            "_view_module": "@jupyter-widgets/base",
            "overflow": null,
            "_model_module_version": "1.2.0",
            "_view_count": null,
            "flex_flow": null,
            "width": null,
            "min_width": null,
            "border": null,
            "align_items": null,
            "bottom": null,
            "_model_module": "@jupyter-widgets/base",
            "top": null,
            "grid_column": null,
            "overflow_y": null,
            "overflow_x": null,
            "grid_auto_flow": null,
            "grid_area": null,
            "grid_template_columns": null,
            "flex": null,
            "_model_name": "LayoutModel",
            "justify_items": null,
            "grid_row": null,
            "max_height": null,
            "align_content": null,
            "visibility": null,
            "align_self": null,
            "height": null,
            "min_height": null,
            "padding": null,
            "grid_auto_rows": null,
            "grid_gap": null,
            "max_width": null,
            "order": null,
            "_view_module_version": "1.2.0",
            "grid_template_areas": null,
            "object_position": null,
            "object_fit": null,
            "grid_auto_columns": null,
            "margin": null,
            "display": null,
            "left": null
          }
        },
        "6469f0b0c76540acb1369b59e9e0e723": {
          "model_module": "@jupyter-widgets/controls",
          "model_name": "ProgressStyleModel",
          "model_module_version": "1.5.0",
          "state": {
            "_view_name": "StyleView",
            "_model_name": "ProgressStyleModel",
            "description_width": "",
            "_view_module": "@jupyter-widgets/base",
            "_model_module_version": "1.5.0",
            "_view_count": null,
            "_view_module_version": "1.2.0",
            "bar_color": null,
            "_model_module": "@jupyter-widgets/controls"
          }
        },
        "f71b63e5728746ee81d2b16d080011e6": {
          "model_module": "@jupyter-widgets/base",
          "model_name": "LayoutModel",
          "model_module_version": "1.2.0",
          "state": {
            "_view_name": "LayoutView",
            "grid_template_rows": null,
            "right": null,
            "justify_content": null,
            "_view_module": "@jupyter-widgets/base",
            "overflow": null,
            "_model_module_version": "1.2.0",
            "_view_count": null,
            "flex_flow": null,
            "width": null,
            "min_width": null,
            "border": null,
            "align_items": null,
            "bottom": null,
            "_model_module": "@jupyter-widgets/base",
            "top": null,
            "grid_column": null,
            "overflow_y": null,
            "overflow_x": null,
            "grid_auto_flow": null,
            "grid_area": null,
            "grid_template_columns": null,
            "flex": null,
            "_model_name": "LayoutModel",
            "justify_items": null,
            "grid_row": null,
            "max_height": null,
            "align_content": null,
            "visibility": null,
            "align_self": null,
            "height": null,
            "min_height": null,
            "padding": null,
            "grid_auto_rows": null,
            "grid_gap": null,
            "max_width": null,
            "order": null,
            "_view_module_version": "1.2.0",
            "grid_template_areas": null,
            "object_position": null,
            "object_fit": null,
            "grid_auto_columns": null,
            "margin": null,
            "display": null,
            "left": null
          }
        },
        "afd415a4b908431980a8f56067f7a2f9": {
          "model_module": "@jupyter-widgets/controls",
          "model_name": "VBoxModel",
          "model_module_version": "1.5.0",
          "state": {
            "_view_name": "VBoxView",
            "_dom_classes": [],
            "_model_name": "VBoxModel",
            "_view_module": "@jupyter-widgets/controls",
            "_model_module_version": "1.5.0",
            "_view_count": null,
            "_view_module_version": "1.5.0",
            "box_style": "",
            "layout": "IPY_MODEL_ffe1c184ac4d487287811649105407f8",
            "_model_module": "@jupyter-widgets/controls",
            "children": [
              "IPY_MODEL_07e7a8881bcf4718a0d9c0652855bdcb",
              "IPY_MODEL_5f8218c59db64053b10e8aac8de59c62"
            ]
          }
        },
        "ffe1c184ac4d487287811649105407f8": {
          "model_module": "@jupyter-widgets/base",
          "model_name": "LayoutModel",
          "model_module_version": "1.2.0",
          "state": {
            "_view_name": "LayoutView",
            "grid_template_rows": null,
            "right": null,
            "justify_content": null,
            "_view_module": "@jupyter-widgets/base",
            "overflow": null,
            "_model_module_version": "1.2.0",
            "_view_count": null,
            "flex_flow": null,
            "width": null,
            "min_width": null,
            "border": null,
            "align_items": null,
            "bottom": null,
            "_model_module": "@jupyter-widgets/base",
            "top": null,
            "grid_column": null,
            "overflow_y": null,
            "overflow_x": null,
            "grid_auto_flow": null,
            "grid_area": null,
            "grid_template_columns": null,
            "flex": null,
            "_model_name": "LayoutModel",
            "justify_items": null,
            "grid_row": null,
            "max_height": null,
            "align_content": null,
            "visibility": null,
            "align_self": null,
            "height": null,
            "min_height": null,
            "padding": null,
            "grid_auto_rows": null,
            "grid_gap": null,
            "max_width": null,
            "order": null,
            "_view_module_version": "1.2.0",
            "grid_template_areas": null,
            "object_position": null,
            "object_fit": null,
            "grid_auto_columns": null,
            "margin": null,
            "display": null,
            "left": null
          }
        },
        "07e7a8881bcf4718a0d9c0652855bdcb": {
          "model_module": "@jupyter-widgets/controls",
          "model_name": "LabelModel",
          "model_module_version": "1.5.0",
          "state": {
            "_view_name": "LabelView",
            "style": "IPY_MODEL_1b78a68b83824ef38230b5e610aa9682",
            "_dom_classes": [],
            "description": "",
            "_model_name": "LabelModel",
            "placeholder": "​",
            "_view_module": "@jupyter-widgets/controls",
            "_model_module_version": "1.5.0",
            "value": " 0.05MB of 0.05MB uploaded (0.00MB deduped)\r",
            "_view_count": null,
            "_view_module_version": "1.5.0",
            "description_tooltip": null,
            "_model_module": "@jupyter-widgets/controls",
            "layout": "IPY_MODEL_a2b607f2259d44fe8d5a39e966c2b91a"
          }
        },
        "5f8218c59db64053b10e8aac8de59c62": {
          "model_module": "@jupyter-widgets/controls",
          "model_name": "FloatProgressModel",
          "model_module_version": "1.5.0",
          "state": {
            "_view_name": "ProgressView",
            "style": "IPY_MODEL_5bfe2bf3bdb74ed3a885f01ade90e42b",
            "_dom_classes": [],
            "description": "",
            "_model_name": "FloatProgressModel",
            "bar_style": "",
            "max": 1,
            "_view_module": "@jupyter-widgets/controls",
            "_model_module_version": "1.5.0",
            "value": 1,
            "_view_count": null,
            "_view_module_version": "1.5.0",
            "orientation": "horizontal",
            "min": 0,
            "description_tooltip": null,
            "_model_module": "@jupyter-widgets/controls",
            "layout": "IPY_MODEL_44eead4accdb45ceb3c2368f963fb5e6"
          }
        },
        "1b78a68b83824ef38230b5e610aa9682": {
          "model_module": "@jupyter-widgets/controls",
          "model_name": "DescriptionStyleModel",
          "model_module_version": "1.5.0",
          "state": {
            "_view_name": "StyleView",
            "_model_name": "DescriptionStyleModel",
            "description_width": "",
            "_view_module": "@jupyter-widgets/base",
            "_model_module_version": "1.5.0",
            "_view_count": null,
            "_view_module_version": "1.2.0",
            "_model_module": "@jupyter-widgets/controls"
          }
        },
        "a2b607f2259d44fe8d5a39e966c2b91a": {
          "model_module": "@jupyter-widgets/base",
          "model_name": "LayoutModel",
          "model_module_version": "1.2.0",
          "state": {
            "_view_name": "LayoutView",
            "grid_template_rows": null,
            "right": null,
            "justify_content": null,
            "_view_module": "@jupyter-widgets/base",
            "overflow": null,
            "_model_module_version": "1.2.0",
            "_view_count": null,
            "flex_flow": null,
            "width": null,
            "min_width": null,
            "border": null,
            "align_items": null,
            "bottom": null,
            "_model_module": "@jupyter-widgets/base",
            "top": null,
            "grid_column": null,
            "overflow_y": null,
            "overflow_x": null,
            "grid_auto_flow": null,
            "grid_area": null,
            "grid_template_columns": null,
            "flex": null,
            "_model_name": "LayoutModel",
            "justify_items": null,
            "grid_row": null,
            "max_height": null,
            "align_content": null,
            "visibility": null,
            "align_self": null,
            "height": null,
            "min_height": null,
            "padding": null,
            "grid_auto_rows": null,
            "grid_gap": null,
            "max_width": null,
            "order": null,
            "_view_module_version": "1.2.0",
            "grid_template_areas": null,
            "object_position": null,
            "object_fit": null,
            "grid_auto_columns": null,
            "margin": null,
            "display": null,
            "left": null
          }
        },
        "5bfe2bf3bdb74ed3a885f01ade90e42b": {
          "model_module": "@jupyter-widgets/controls",
          "model_name": "ProgressStyleModel",
          "model_module_version": "1.5.0",
          "state": {
            "_view_name": "StyleView",
            "_model_name": "ProgressStyleModel",
            "description_width": "",
            "_view_module": "@jupyter-widgets/base",
            "_model_module_version": "1.5.0",
            "_view_count": null,
            "_view_module_version": "1.2.0",
            "bar_color": null,
            "_model_module": "@jupyter-widgets/controls"
          }
        },
        "44eead4accdb45ceb3c2368f963fb5e6": {
          "model_module": "@jupyter-widgets/base",
          "model_name": "LayoutModel",
          "model_module_version": "1.2.0",
          "state": {
            "_view_name": "LayoutView",
            "grid_template_rows": null,
            "right": null,
            "justify_content": null,
            "_view_module": "@jupyter-widgets/base",
            "overflow": null,
            "_model_module_version": "1.2.0",
            "_view_count": null,
            "flex_flow": null,
            "width": null,
            "min_width": null,
            "border": null,
            "align_items": null,
            "bottom": null,
            "_model_module": "@jupyter-widgets/base",
            "top": null,
            "grid_column": null,
            "overflow_y": null,
            "overflow_x": null,
            "grid_auto_flow": null,
            "grid_area": null,
            "grid_template_columns": null,
            "flex": null,
            "_model_name": "LayoutModel",
            "justify_items": null,
            "grid_row": null,
            "max_height": null,
            "align_content": null,
            "visibility": null,
            "align_self": null,
            "height": null,
            "min_height": null,
            "padding": null,
            "grid_auto_rows": null,
            "grid_gap": null,
            "max_width": null,
            "order": null,
            "_view_module_version": "1.2.0",
            "grid_template_areas": null,
            "object_position": null,
            "object_fit": null,
            "grid_auto_columns": null,
            "margin": null,
            "display": null,
            "left": null
          }
        },
        "d9942f1a375540e487a3002f8a694d09": {
          "model_module": "@jupyter-widgets/controls",
          "model_name": "VBoxModel",
          "model_module_version": "1.5.0",
          "state": {
            "_view_name": "VBoxView",
            "_dom_classes": [],
            "_model_name": "VBoxModel",
            "_view_module": "@jupyter-widgets/controls",
            "_model_module_version": "1.5.0",
            "_view_count": null,
            "_view_module_version": "1.5.0",
            "box_style": "",
            "layout": "IPY_MODEL_e13d74dbfe7848de914e0595b4f4d456",
            "_model_module": "@jupyter-widgets/controls",
            "children": [
              "IPY_MODEL_2c7f814bb8d44bb1a0157c5e8ee743d8",
              "IPY_MODEL_44247c869a714925acc9141ae6f1b652"
            ]
          }
        },
        "e13d74dbfe7848de914e0595b4f4d456": {
          "model_module": "@jupyter-widgets/base",
          "model_name": "LayoutModel",
          "model_module_version": "1.2.0",
          "state": {
            "_view_name": "LayoutView",
            "grid_template_rows": null,
            "right": null,
            "justify_content": null,
            "_view_module": "@jupyter-widgets/base",
            "overflow": null,
            "_model_module_version": "1.2.0",
            "_view_count": null,
            "flex_flow": null,
            "width": null,
            "min_width": null,
            "border": null,
            "align_items": null,
            "bottom": null,
            "_model_module": "@jupyter-widgets/base",
            "top": null,
            "grid_column": null,
            "overflow_y": null,
            "overflow_x": null,
            "grid_auto_flow": null,
            "grid_area": null,
            "grid_template_columns": null,
            "flex": null,
            "_model_name": "LayoutModel",
            "justify_items": null,
            "grid_row": null,
            "max_height": null,
            "align_content": null,
            "visibility": null,
            "align_self": null,
            "height": null,
            "min_height": null,
            "padding": null,
            "grid_auto_rows": null,
            "grid_gap": null,
            "max_width": null,
            "order": null,
            "_view_module_version": "1.2.0",
            "grid_template_areas": null,
            "object_position": null,
            "object_fit": null,
            "grid_auto_columns": null,
            "margin": null,
            "display": null,
            "left": null
          }
        },
        "2c7f814bb8d44bb1a0157c5e8ee743d8": {
          "model_module": "@jupyter-widgets/controls",
          "model_name": "LabelModel",
          "model_module_version": "1.5.0",
          "state": {
            "_view_name": "LabelView",
            "style": "IPY_MODEL_42d28fc5c0e64de7baecfd6594823470",
            "_dom_classes": [],
            "description": "",
            "_model_name": "LabelModel",
            "placeholder": "​",
            "_view_module": "@jupyter-widgets/controls",
            "_model_module_version": "1.5.0",
            "value": " 0.05MB of 0.05MB uploaded (0.00MB deduped)\r",
            "_view_count": null,
            "_view_module_version": "1.5.0",
            "description_tooltip": null,
            "_model_module": "@jupyter-widgets/controls",
            "layout": "IPY_MODEL_dd9dc0312acd4e50a3e4f76906ec91f2"
          }
        },
        "44247c869a714925acc9141ae6f1b652": {
          "model_module": "@jupyter-widgets/controls",
          "model_name": "FloatProgressModel",
          "model_module_version": "1.5.0",
          "state": {
            "_view_name": "ProgressView",
            "style": "IPY_MODEL_bfa489147eaa49ef8089a32fa4f20a81",
            "_dom_classes": [],
            "description": "",
            "_model_name": "FloatProgressModel",
            "bar_style": "",
            "max": 1,
            "_view_module": "@jupyter-widgets/controls",
            "_model_module_version": "1.5.0",
            "value": 1,
            "_view_count": null,
            "_view_module_version": "1.5.0",
            "orientation": "horizontal",
            "min": 0,
            "description_tooltip": null,
            "_model_module": "@jupyter-widgets/controls",
            "layout": "IPY_MODEL_1fd39b5b370044718b9c79d712d334e8"
          }
        },
        "42d28fc5c0e64de7baecfd6594823470": {
          "model_module": "@jupyter-widgets/controls",
          "model_name": "DescriptionStyleModel",
          "model_module_version": "1.5.0",
          "state": {
            "_view_name": "StyleView",
            "_model_name": "DescriptionStyleModel",
            "description_width": "",
            "_view_module": "@jupyter-widgets/base",
            "_model_module_version": "1.5.0",
            "_view_count": null,
            "_view_module_version": "1.2.0",
            "_model_module": "@jupyter-widgets/controls"
          }
        },
        "dd9dc0312acd4e50a3e4f76906ec91f2": {
          "model_module": "@jupyter-widgets/base",
          "model_name": "LayoutModel",
          "model_module_version": "1.2.0",
          "state": {
            "_view_name": "LayoutView",
            "grid_template_rows": null,
            "right": null,
            "justify_content": null,
            "_view_module": "@jupyter-widgets/base",
            "overflow": null,
            "_model_module_version": "1.2.0",
            "_view_count": null,
            "flex_flow": null,
            "width": null,
            "min_width": null,
            "border": null,
            "align_items": null,
            "bottom": null,
            "_model_module": "@jupyter-widgets/base",
            "top": null,
            "grid_column": null,
            "overflow_y": null,
            "overflow_x": null,
            "grid_auto_flow": null,
            "grid_area": null,
            "grid_template_columns": null,
            "flex": null,
            "_model_name": "LayoutModel",
            "justify_items": null,
            "grid_row": null,
            "max_height": null,
            "align_content": null,
            "visibility": null,
            "align_self": null,
            "height": null,
            "min_height": null,
            "padding": null,
            "grid_auto_rows": null,
            "grid_gap": null,
            "max_width": null,
            "order": null,
            "_view_module_version": "1.2.0",
            "grid_template_areas": null,
            "object_position": null,
            "object_fit": null,
            "grid_auto_columns": null,
            "margin": null,
            "display": null,
            "left": null
          }
        },
        "bfa489147eaa49ef8089a32fa4f20a81": {
          "model_module": "@jupyter-widgets/controls",
          "model_name": "ProgressStyleModel",
          "model_module_version": "1.5.0",
          "state": {
            "_view_name": "StyleView",
            "_model_name": "ProgressStyleModel",
            "description_width": "",
            "_view_module": "@jupyter-widgets/base",
            "_model_module_version": "1.5.0",
            "_view_count": null,
            "_view_module_version": "1.2.0",
            "bar_color": null,
            "_model_module": "@jupyter-widgets/controls"
          }
        },
        "1fd39b5b370044718b9c79d712d334e8": {
          "model_module": "@jupyter-widgets/base",
          "model_name": "LayoutModel",
          "model_module_version": "1.2.0",
          "state": {
            "_view_name": "LayoutView",
            "grid_template_rows": null,
            "right": null,
            "justify_content": null,
            "_view_module": "@jupyter-widgets/base",
            "overflow": null,
            "_model_module_version": "1.2.0",
            "_view_count": null,
            "flex_flow": null,
            "width": null,
            "min_width": null,
            "border": null,
            "align_items": null,
            "bottom": null,
            "_model_module": "@jupyter-widgets/base",
            "top": null,
            "grid_column": null,
            "overflow_y": null,
            "overflow_x": null,
            "grid_auto_flow": null,
            "grid_area": null,
            "grid_template_columns": null,
            "flex": null,
            "_model_name": "LayoutModel",
            "justify_items": null,
            "grid_row": null,
            "max_height": null,
            "align_content": null,
            "visibility": null,
            "align_self": null,
            "height": null,
            "min_height": null,
            "padding": null,
            "grid_auto_rows": null,
            "grid_gap": null,
            "max_width": null,
            "order": null,
            "_view_module_version": "1.2.0",
            "grid_template_areas": null,
            "object_position": null,
            "object_fit": null,
            "grid_auto_columns": null,
            "margin": null,
            "display": null,
            "left": null
          }
        },
        "847bed74968440f98a6a289bec163887": {
          "model_module": "@jupyter-widgets/controls",
          "model_name": "VBoxModel",
          "model_module_version": "1.5.0",
          "state": {
            "_view_name": "VBoxView",
            "_dom_classes": [],
            "_model_name": "VBoxModel",
            "_view_module": "@jupyter-widgets/controls",
            "_model_module_version": "1.5.0",
            "_view_count": null,
            "_view_module_version": "1.5.0",
            "box_style": "",
            "layout": "IPY_MODEL_b5132838dbfe437ba298dd420daf55d3",
            "_model_module": "@jupyter-widgets/controls",
            "children": [
              "IPY_MODEL_2b3f1c6395be4315a899623f802053ea",
              "IPY_MODEL_e3aaa76209db4a109b3b6726ac90da85"
            ]
          }
        },
        "b5132838dbfe437ba298dd420daf55d3": {
          "model_module": "@jupyter-widgets/base",
          "model_name": "LayoutModel",
          "model_module_version": "1.2.0",
          "state": {
            "_view_name": "LayoutView",
            "grid_template_rows": null,
            "right": null,
            "justify_content": null,
            "_view_module": "@jupyter-widgets/base",
            "overflow": null,
            "_model_module_version": "1.2.0",
            "_view_count": null,
            "flex_flow": null,
            "width": null,
            "min_width": null,
            "border": null,
            "align_items": null,
            "bottom": null,
            "_model_module": "@jupyter-widgets/base",
            "top": null,
            "grid_column": null,
            "overflow_y": null,
            "overflow_x": null,
            "grid_auto_flow": null,
            "grid_area": null,
            "grid_template_columns": null,
            "flex": null,
            "_model_name": "LayoutModel",
            "justify_items": null,
            "grid_row": null,
            "max_height": null,
            "align_content": null,
            "visibility": null,
            "align_self": null,
            "height": null,
            "min_height": null,
            "padding": null,
            "grid_auto_rows": null,
            "grid_gap": null,
            "max_width": null,
            "order": null,
            "_view_module_version": "1.2.0",
            "grid_template_areas": null,
            "object_position": null,
            "object_fit": null,
            "grid_auto_columns": null,
            "margin": null,
            "display": null,
            "left": null
          }
        },
        "2b3f1c6395be4315a899623f802053ea": {
          "model_module": "@jupyter-widgets/controls",
          "model_name": "LabelModel",
          "model_module_version": "1.5.0",
          "state": {
            "_view_name": "LabelView",
            "style": "IPY_MODEL_03c57ca6545b48edb76a91eacf9ff99c",
            "_dom_classes": [],
            "description": "",
            "_model_name": "LabelModel",
            "placeholder": "​",
            "_view_module": "@jupyter-widgets/controls",
            "_model_module_version": "1.5.0",
            "value": " 0.04MB of 0.04MB uploaded (0.00MB deduped)\r",
            "_view_count": null,
            "_view_module_version": "1.5.0",
            "description_tooltip": null,
            "_model_module": "@jupyter-widgets/controls",
            "layout": "IPY_MODEL_f4c8c5e553a04f9696e8f38517aceffa"
          }
        },
        "e3aaa76209db4a109b3b6726ac90da85": {
          "model_module": "@jupyter-widgets/controls",
          "model_name": "FloatProgressModel",
          "model_module_version": "1.5.0",
          "state": {
            "_view_name": "ProgressView",
            "style": "IPY_MODEL_5fd3ed4678c443a5afa4cf96156aec4b",
            "_dom_classes": [],
            "description": "",
            "_model_name": "FloatProgressModel",
            "bar_style": "",
            "max": 1,
            "_view_module": "@jupyter-widgets/controls",
            "_model_module_version": "1.5.0",
            "value": 1,
            "_view_count": null,
            "_view_module_version": "1.5.0",
            "orientation": "horizontal",
            "min": 0,
            "description_tooltip": null,
            "_model_module": "@jupyter-widgets/controls",
            "layout": "IPY_MODEL_76505bad42c841399d6a7771870afebf"
          }
        },
        "03c57ca6545b48edb76a91eacf9ff99c": {
          "model_module": "@jupyter-widgets/controls",
          "model_name": "DescriptionStyleModel",
          "model_module_version": "1.5.0",
          "state": {
            "_view_name": "StyleView",
            "_model_name": "DescriptionStyleModel",
            "description_width": "",
            "_view_module": "@jupyter-widgets/base",
            "_model_module_version": "1.5.0",
            "_view_count": null,
            "_view_module_version": "1.2.0",
            "_model_module": "@jupyter-widgets/controls"
          }
        },
        "f4c8c5e553a04f9696e8f38517aceffa": {
          "model_module": "@jupyter-widgets/base",
          "model_name": "LayoutModel",
          "model_module_version": "1.2.0",
          "state": {
            "_view_name": "LayoutView",
            "grid_template_rows": null,
            "right": null,
            "justify_content": null,
            "_view_module": "@jupyter-widgets/base",
            "overflow": null,
            "_model_module_version": "1.2.0",
            "_view_count": null,
            "flex_flow": null,
            "width": null,
            "min_width": null,
            "border": null,
            "align_items": null,
            "bottom": null,
            "_model_module": "@jupyter-widgets/base",
            "top": null,
            "grid_column": null,
            "overflow_y": null,
            "overflow_x": null,
            "grid_auto_flow": null,
            "grid_area": null,
            "grid_template_columns": null,
            "flex": null,
            "_model_name": "LayoutModel",
            "justify_items": null,
            "grid_row": null,
            "max_height": null,
            "align_content": null,
            "visibility": null,
            "align_self": null,
            "height": null,
            "min_height": null,
            "padding": null,
            "grid_auto_rows": null,
            "grid_gap": null,
            "max_width": null,
            "order": null,
            "_view_module_version": "1.2.0",
            "grid_template_areas": null,
            "object_position": null,
            "object_fit": null,
            "grid_auto_columns": null,
            "margin": null,
            "display": null,
            "left": null
          }
        },
        "5fd3ed4678c443a5afa4cf96156aec4b": {
          "model_module": "@jupyter-widgets/controls",
          "model_name": "ProgressStyleModel",
          "model_module_version": "1.5.0",
          "state": {
            "_view_name": "StyleView",
            "_model_name": "ProgressStyleModel",
            "description_width": "",
            "_view_module": "@jupyter-widgets/base",
            "_model_module_version": "1.5.0",
            "_view_count": null,
            "_view_module_version": "1.2.0",
            "bar_color": null,
            "_model_module": "@jupyter-widgets/controls"
          }
        },
        "76505bad42c841399d6a7771870afebf": {
          "model_module": "@jupyter-widgets/base",
          "model_name": "LayoutModel",
          "model_module_version": "1.2.0",
          "state": {
            "_view_name": "LayoutView",
            "grid_template_rows": null,
            "right": null,
            "justify_content": null,
            "_view_module": "@jupyter-widgets/base",
            "overflow": null,
            "_model_module_version": "1.2.0",
            "_view_count": null,
            "flex_flow": null,
            "width": null,
            "min_width": null,
            "border": null,
            "align_items": null,
            "bottom": null,
            "_model_module": "@jupyter-widgets/base",
            "top": null,
            "grid_column": null,
            "overflow_y": null,
            "overflow_x": null,
            "grid_auto_flow": null,
            "grid_area": null,
            "grid_template_columns": null,
            "flex": null,
            "_model_name": "LayoutModel",
            "justify_items": null,
            "grid_row": null,
            "max_height": null,
            "align_content": null,
            "visibility": null,
            "align_self": null,
            "height": null,
            "min_height": null,
            "padding": null,
            "grid_auto_rows": null,
            "grid_gap": null,
            "max_width": null,
            "order": null,
            "_view_module_version": "1.2.0",
            "grid_template_areas": null,
            "object_position": null,
            "object_fit": null,
            "grid_auto_columns": null,
            "margin": null,
            "display": null,
            "left": null
          }
        },
        "f1f3664e15fd494fb53d2d9114c233f8": {
          "model_module": "@jupyter-widgets/controls",
          "model_name": "VBoxModel",
          "model_module_version": "1.5.0",
          "state": {
            "_view_name": "VBoxView",
            "_dom_classes": [],
            "_model_name": "VBoxModel",
            "_view_module": "@jupyter-widgets/controls",
            "_model_module_version": "1.5.0",
            "_view_count": null,
            "_view_module_version": "1.5.0",
            "box_style": "",
            "layout": "IPY_MODEL_8bb4129bcdd94dfcb7ea086f7003207c",
            "_model_module": "@jupyter-widgets/controls",
            "children": [
              "IPY_MODEL_3560214dceb24ee7bdf73778233f198c",
              "IPY_MODEL_4debb3c6341140569a12f3072fd87654"
            ]
          }
        },
        "8bb4129bcdd94dfcb7ea086f7003207c": {
          "model_module": "@jupyter-widgets/base",
          "model_name": "LayoutModel",
          "model_module_version": "1.2.0",
          "state": {
            "_view_name": "LayoutView",
            "grid_template_rows": null,
            "right": null,
            "justify_content": null,
            "_view_module": "@jupyter-widgets/base",
            "overflow": null,
            "_model_module_version": "1.2.0",
            "_view_count": null,
            "flex_flow": null,
            "width": null,
            "min_width": null,
            "border": null,
            "align_items": null,
            "bottom": null,
            "_model_module": "@jupyter-widgets/base",
            "top": null,
            "grid_column": null,
            "overflow_y": null,
            "overflow_x": null,
            "grid_auto_flow": null,
            "grid_area": null,
            "grid_template_columns": null,
            "flex": null,
            "_model_name": "LayoutModel",
            "justify_items": null,
            "grid_row": null,
            "max_height": null,
            "align_content": null,
            "visibility": null,
            "align_self": null,
            "height": null,
            "min_height": null,
            "padding": null,
            "grid_auto_rows": null,
            "grid_gap": null,
            "max_width": null,
            "order": null,
            "_view_module_version": "1.2.0",
            "grid_template_areas": null,
            "object_position": null,
            "object_fit": null,
            "grid_auto_columns": null,
            "margin": null,
            "display": null,
            "left": null
          }
        },
        "3560214dceb24ee7bdf73778233f198c": {
          "model_module": "@jupyter-widgets/controls",
          "model_name": "LabelModel",
          "model_module_version": "1.5.0",
          "state": {
            "_view_name": "LabelView",
            "style": "IPY_MODEL_ac723ee8c64e455ab4a25057621a064f",
            "_dom_classes": [],
            "description": "",
            "_model_name": "LabelModel",
            "placeholder": "​",
            "_view_module": "@jupyter-widgets/controls",
            "_model_module_version": "1.5.0",
            "value": " 0.05MB of 0.05MB uploaded (0.00MB deduped)\r",
            "_view_count": null,
            "_view_module_version": "1.5.0",
            "description_tooltip": null,
            "_model_module": "@jupyter-widgets/controls",
            "layout": "IPY_MODEL_6f019599024347fbb58e90342e89dc1b"
          }
        },
        "4debb3c6341140569a12f3072fd87654": {
          "model_module": "@jupyter-widgets/controls",
          "model_name": "FloatProgressModel",
          "model_module_version": "1.5.0",
          "state": {
            "_view_name": "ProgressView",
            "style": "IPY_MODEL_8bf5d49fe82a467c80788d2ad91bb870",
            "_dom_classes": [],
            "description": "",
            "_model_name": "FloatProgressModel",
            "bar_style": "",
            "max": 1,
            "_view_module": "@jupyter-widgets/controls",
            "_model_module_version": "1.5.0",
            "value": 1,
            "_view_count": null,
            "_view_module_version": "1.5.0",
            "orientation": "horizontal",
            "min": 0,
            "description_tooltip": null,
            "_model_module": "@jupyter-widgets/controls",
            "layout": "IPY_MODEL_53c6ca288d58426db4fef336541595ac"
          }
        },
        "ac723ee8c64e455ab4a25057621a064f": {
          "model_module": "@jupyter-widgets/controls",
          "model_name": "DescriptionStyleModel",
          "model_module_version": "1.5.0",
          "state": {
            "_view_name": "StyleView",
            "_model_name": "DescriptionStyleModel",
            "description_width": "",
            "_view_module": "@jupyter-widgets/base",
            "_model_module_version": "1.5.0",
            "_view_count": null,
            "_view_module_version": "1.2.0",
            "_model_module": "@jupyter-widgets/controls"
          }
        },
        "6f019599024347fbb58e90342e89dc1b": {
          "model_module": "@jupyter-widgets/base",
          "model_name": "LayoutModel",
          "model_module_version": "1.2.0",
          "state": {
            "_view_name": "LayoutView",
            "grid_template_rows": null,
            "right": null,
            "justify_content": null,
            "_view_module": "@jupyter-widgets/base",
            "overflow": null,
            "_model_module_version": "1.2.0",
            "_view_count": null,
            "flex_flow": null,
            "width": null,
            "min_width": null,
            "border": null,
            "align_items": null,
            "bottom": null,
            "_model_module": "@jupyter-widgets/base",
            "top": null,
            "grid_column": null,
            "overflow_y": null,
            "overflow_x": null,
            "grid_auto_flow": null,
            "grid_area": null,
            "grid_template_columns": null,
            "flex": null,
            "_model_name": "LayoutModel",
            "justify_items": null,
            "grid_row": null,
            "max_height": null,
            "align_content": null,
            "visibility": null,
            "align_self": null,
            "height": null,
            "min_height": null,
            "padding": null,
            "grid_auto_rows": null,
            "grid_gap": null,
            "max_width": null,
            "order": null,
            "_view_module_version": "1.2.0",
            "grid_template_areas": null,
            "object_position": null,
            "object_fit": null,
            "grid_auto_columns": null,
            "margin": null,
            "display": null,
            "left": null
          }
        },
        "8bf5d49fe82a467c80788d2ad91bb870": {
          "model_module": "@jupyter-widgets/controls",
          "model_name": "ProgressStyleModel",
          "model_module_version": "1.5.0",
          "state": {
            "_view_name": "StyleView",
            "_model_name": "ProgressStyleModel",
            "description_width": "",
            "_view_module": "@jupyter-widgets/base",
            "_model_module_version": "1.5.0",
            "_view_count": null,
            "_view_module_version": "1.2.0",
            "bar_color": null,
            "_model_module": "@jupyter-widgets/controls"
          }
        },
        "53c6ca288d58426db4fef336541595ac": {
          "model_module": "@jupyter-widgets/base",
          "model_name": "LayoutModel",
          "model_module_version": "1.2.0",
          "state": {
            "_view_name": "LayoutView",
            "grid_template_rows": null,
            "right": null,
            "justify_content": null,
            "_view_module": "@jupyter-widgets/base",
            "overflow": null,
            "_model_module_version": "1.2.0",
            "_view_count": null,
            "flex_flow": null,
            "width": null,
            "min_width": null,
            "border": null,
            "align_items": null,
            "bottom": null,
            "_model_module": "@jupyter-widgets/base",
            "top": null,
            "grid_column": null,
            "overflow_y": null,
            "overflow_x": null,
            "grid_auto_flow": null,
            "grid_area": null,
            "grid_template_columns": null,
            "flex": null,
            "_model_name": "LayoutModel",
            "justify_items": null,
            "grid_row": null,
            "max_height": null,
            "align_content": null,
            "visibility": null,
            "align_self": null,
            "height": null,
            "min_height": null,
            "padding": null,
            "grid_auto_rows": null,
            "grid_gap": null,
            "max_width": null,
            "order": null,
            "_view_module_version": "1.2.0",
            "grid_template_areas": null,
            "object_position": null,
            "object_fit": null,
            "grid_auto_columns": null,
            "margin": null,
            "display": null,
            "left": null
          }
        },
        "64af01c2ac914738b26ecae2b5e58ceb": {
          "model_module": "@jupyter-widgets/controls",
          "model_name": "VBoxModel",
          "model_module_version": "1.5.0",
          "state": {
            "_view_name": "VBoxView",
            "_dom_classes": [],
            "_model_name": "VBoxModel",
            "_view_module": "@jupyter-widgets/controls",
            "_model_module_version": "1.5.0",
            "_view_count": null,
            "_view_module_version": "1.5.0",
            "box_style": "",
            "layout": "IPY_MODEL_e6b18ab62e334c139b58f81df87fa8b3",
            "_model_module": "@jupyter-widgets/controls",
            "children": [
              "IPY_MODEL_1a0618d7116940e38d5d1f9483b0abea",
              "IPY_MODEL_70ab9927e0d24dddb05d59bfb9f6b6cb"
            ]
          }
        },
        "e6b18ab62e334c139b58f81df87fa8b3": {
          "model_module": "@jupyter-widgets/base",
          "model_name": "LayoutModel",
          "model_module_version": "1.2.0",
          "state": {
            "_view_name": "LayoutView",
            "grid_template_rows": null,
            "right": null,
            "justify_content": null,
            "_view_module": "@jupyter-widgets/base",
            "overflow": null,
            "_model_module_version": "1.2.0",
            "_view_count": null,
            "flex_flow": null,
            "width": null,
            "min_width": null,
            "border": null,
            "align_items": null,
            "bottom": null,
            "_model_module": "@jupyter-widgets/base",
            "top": null,
            "grid_column": null,
            "overflow_y": null,
            "overflow_x": null,
            "grid_auto_flow": null,
            "grid_area": null,
            "grid_template_columns": null,
            "flex": null,
            "_model_name": "LayoutModel",
            "justify_items": null,
            "grid_row": null,
            "max_height": null,
            "align_content": null,
            "visibility": null,
            "align_self": null,
            "height": null,
            "min_height": null,
            "padding": null,
            "grid_auto_rows": null,
            "grid_gap": null,
            "max_width": null,
            "order": null,
            "_view_module_version": "1.2.0",
            "grid_template_areas": null,
            "object_position": null,
            "object_fit": null,
            "grid_auto_columns": null,
            "margin": null,
            "display": null,
            "left": null
          }
        },
        "1a0618d7116940e38d5d1f9483b0abea": {
          "model_module": "@jupyter-widgets/controls",
          "model_name": "LabelModel",
          "model_module_version": "1.5.0",
          "state": {
            "_view_name": "LabelView",
            "style": "IPY_MODEL_f8dc9c160a8347fbbd19826ceee3bc92",
            "_dom_classes": [],
            "description": "",
            "_model_name": "LabelModel",
            "placeholder": "​",
            "_view_module": "@jupyter-widgets/controls",
            "_model_module_version": "1.5.0",
            "value": " 0.05MB of 0.05MB uploaded (0.00MB deduped)\r",
            "_view_count": null,
            "_view_module_version": "1.5.0",
            "description_tooltip": null,
            "_model_module": "@jupyter-widgets/controls",
            "layout": "IPY_MODEL_bffb8a31845b4798af7a428a6a36559e"
          }
        },
        "70ab9927e0d24dddb05d59bfb9f6b6cb": {
          "model_module": "@jupyter-widgets/controls",
          "model_name": "FloatProgressModel",
          "model_module_version": "1.5.0",
          "state": {
            "_view_name": "ProgressView",
            "style": "IPY_MODEL_0a82c97ad8ea427ca1737e2a568f63a5",
            "_dom_classes": [],
            "description": "",
            "_model_name": "FloatProgressModel",
            "bar_style": "",
            "max": 1,
            "_view_module": "@jupyter-widgets/controls",
            "_model_module_version": "1.5.0",
            "value": 1,
            "_view_count": null,
            "_view_module_version": "1.5.0",
            "orientation": "horizontal",
            "min": 0,
            "description_tooltip": null,
            "_model_module": "@jupyter-widgets/controls",
            "layout": "IPY_MODEL_5ead9d95b68742fdb1a3e4a04d68e1af"
          }
        },
        "f8dc9c160a8347fbbd19826ceee3bc92": {
          "model_module": "@jupyter-widgets/controls",
          "model_name": "DescriptionStyleModel",
          "model_module_version": "1.5.0",
          "state": {
            "_view_name": "StyleView",
            "_model_name": "DescriptionStyleModel",
            "description_width": "",
            "_view_module": "@jupyter-widgets/base",
            "_model_module_version": "1.5.0",
            "_view_count": null,
            "_view_module_version": "1.2.0",
            "_model_module": "@jupyter-widgets/controls"
          }
        },
        "bffb8a31845b4798af7a428a6a36559e": {
          "model_module": "@jupyter-widgets/base",
          "model_name": "LayoutModel",
          "model_module_version": "1.2.0",
          "state": {
            "_view_name": "LayoutView",
            "grid_template_rows": null,
            "right": null,
            "justify_content": null,
            "_view_module": "@jupyter-widgets/base",
            "overflow": null,
            "_model_module_version": "1.2.0",
            "_view_count": null,
            "flex_flow": null,
            "width": null,
            "min_width": null,
            "border": null,
            "align_items": null,
            "bottom": null,
            "_model_module": "@jupyter-widgets/base",
            "top": null,
            "grid_column": null,
            "overflow_y": null,
            "overflow_x": null,
            "grid_auto_flow": null,
            "grid_area": null,
            "grid_template_columns": null,
            "flex": null,
            "_model_name": "LayoutModel",
            "justify_items": null,
            "grid_row": null,
            "max_height": null,
            "align_content": null,
            "visibility": null,
            "align_self": null,
            "height": null,
            "min_height": null,
            "padding": null,
            "grid_auto_rows": null,
            "grid_gap": null,
            "max_width": null,
            "order": null,
            "_view_module_version": "1.2.0",
            "grid_template_areas": null,
            "object_position": null,
            "object_fit": null,
            "grid_auto_columns": null,
            "margin": null,
            "display": null,
            "left": null
          }
        },
        "0a82c97ad8ea427ca1737e2a568f63a5": {
          "model_module": "@jupyter-widgets/controls",
          "model_name": "ProgressStyleModel",
          "model_module_version": "1.5.0",
          "state": {
            "_view_name": "StyleView",
            "_model_name": "ProgressStyleModel",
            "description_width": "",
            "_view_module": "@jupyter-widgets/base",
            "_model_module_version": "1.5.0",
            "_view_count": null,
            "_view_module_version": "1.2.0",
            "bar_color": null,
            "_model_module": "@jupyter-widgets/controls"
          }
        },
        "5ead9d95b68742fdb1a3e4a04d68e1af": {
          "model_module": "@jupyter-widgets/base",
          "model_name": "LayoutModel",
          "model_module_version": "1.2.0",
          "state": {
            "_view_name": "LayoutView",
            "grid_template_rows": null,
            "right": null,
            "justify_content": null,
            "_view_module": "@jupyter-widgets/base",
            "overflow": null,
            "_model_module_version": "1.2.0",
            "_view_count": null,
            "flex_flow": null,
            "width": null,
            "min_width": null,
            "border": null,
            "align_items": null,
            "bottom": null,
            "_model_module": "@jupyter-widgets/base",
            "top": null,
            "grid_column": null,
            "overflow_y": null,
            "overflow_x": null,
            "grid_auto_flow": null,
            "grid_area": null,
            "grid_template_columns": null,
            "flex": null,
            "_model_name": "LayoutModel",
            "justify_items": null,
            "grid_row": null,
            "max_height": null,
            "align_content": null,
            "visibility": null,
            "align_self": null,
            "height": null,
            "min_height": null,
            "padding": null,
            "grid_auto_rows": null,
            "grid_gap": null,
            "max_width": null,
            "order": null,
            "_view_module_version": "1.2.0",
            "grid_template_areas": null,
            "object_position": null,
            "object_fit": null,
            "grid_auto_columns": null,
            "margin": null,
            "display": null,
            "left": null
          }
        },
        "6cb346ef12ae48768a36743de392eb7b": {
          "model_module": "@jupyter-widgets/controls",
          "model_name": "VBoxModel",
          "model_module_version": "1.5.0",
          "state": {
            "_view_name": "VBoxView",
            "_dom_classes": [],
            "_model_name": "VBoxModel",
            "_view_module": "@jupyter-widgets/controls",
            "_model_module_version": "1.5.0",
            "_view_count": null,
            "_view_module_version": "1.5.0",
            "box_style": "",
            "layout": "IPY_MODEL_279a0ffd43134f15b690402dd0d15971",
            "_model_module": "@jupyter-widgets/controls",
            "children": [
              "IPY_MODEL_44de38a3115b45f099cf7299d608be90",
              "IPY_MODEL_51a86d6879b2407488f2947e1cd8cd8f"
            ]
          }
        },
        "279a0ffd43134f15b690402dd0d15971": {
          "model_module": "@jupyter-widgets/base",
          "model_name": "LayoutModel",
          "model_module_version": "1.2.0",
          "state": {
            "_view_name": "LayoutView",
            "grid_template_rows": null,
            "right": null,
            "justify_content": null,
            "_view_module": "@jupyter-widgets/base",
            "overflow": null,
            "_model_module_version": "1.2.0",
            "_view_count": null,
            "flex_flow": null,
            "width": null,
            "min_width": null,
            "border": null,
            "align_items": null,
            "bottom": null,
            "_model_module": "@jupyter-widgets/base",
            "top": null,
            "grid_column": null,
            "overflow_y": null,
            "overflow_x": null,
            "grid_auto_flow": null,
            "grid_area": null,
            "grid_template_columns": null,
            "flex": null,
            "_model_name": "LayoutModel",
            "justify_items": null,
            "grid_row": null,
            "max_height": null,
            "align_content": null,
            "visibility": null,
            "align_self": null,
            "height": null,
            "min_height": null,
            "padding": null,
            "grid_auto_rows": null,
            "grid_gap": null,
            "max_width": null,
            "order": null,
            "_view_module_version": "1.2.0",
            "grid_template_areas": null,
            "object_position": null,
            "object_fit": null,
            "grid_auto_columns": null,
            "margin": null,
            "display": null,
            "left": null
          }
        },
        "44de38a3115b45f099cf7299d608be90": {
          "model_module": "@jupyter-widgets/controls",
          "model_name": "LabelModel",
          "model_module_version": "1.5.0",
          "state": {
            "_view_name": "LabelView",
            "style": "IPY_MODEL_58cff2db90e2453e921c6af2f2033da2",
            "_dom_classes": [],
            "description": "",
            "_model_name": "LabelModel",
            "placeholder": "​",
            "_view_module": "@jupyter-widgets/controls",
            "_model_module_version": "1.5.0",
            "value": " 0.05MB of 0.05MB uploaded (0.00MB deduped)\r",
            "_view_count": null,
            "_view_module_version": "1.5.0",
            "description_tooltip": null,
            "_model_module": "@jupyter-widgets/controls",
            "layout": "IPY_MODEL_40ab0586a3244fecac644839fe63e099"
          }
        },
        "51a86d6879b2407488f2947e1cd8cd8f": {
          "model_module": "@jupyter-widgets/controls",
          "model_name": "FloatProgressModel",
          "model_module_version": "1.5.0",
          "state": {
            "_view_name": "ProgressView",
            "style": "IPY_MODEL_8b7eb3ac92b04c2f98822c1e0ea858e5",
            "_dom_classes": [],
            "description": "",
            "_model_name": "FloatProgressModel",
            "bar_style": "",
            "max": 1,
            "_view_module": "@jupyter-widgets/controls",
            "_model_module_version": "1.5.0",
            "value": 1,
            "_view_count": null,
            "_view_module_version": "1.5.0",
            "orientation": "horizontal",
            "min": 0,
            "description_tooltip": null,
            "_model_module": "@jupyter-widgets/controls",
            "layout": "IPY_MODEL_ca235cc3b97e444c84f197298af16646"
          }
        },
        "58cff2db90e2453e921c6af2f2033da2": {
          "model_module": "@jupyter-widgets/controls",
          "model_name": "DescriptionStyleModel",
          "model_module_version": "1.5.0",
          "state": {
            "_view_name": "StyleView",
            "_model_name": "DescriptionStyleModel",
            "description_width": "",
            "_view_module": "@jupyter-widgets/base",
            "_model_module_version": "1.5.0",
            "_view_count": null,
            "_view_module_version": "1.2.0",
            "_model_module": "@jupyter-widgets/controls"
          }
        },
        "40ab0586a3244fecac644839fe63e099": {
          "model_module": "@jupyter-widgets/base",
          "model_name": "LayoutModel",
          "model_module_version": "1.2.0",
          "state": {
            "_view_name": "LayoutView",
            "grid_template_rows": null,
            "right": null,
            "justify_content": null,
            "_view_module": "@jupyter-widgets/base",
            "overflow": null,
            "_model_module_version": "1.2.0",
            "_view_count": null,
            "flex_flow": null,
            "width": null,
            "min_width": null,
            "border": null,
            "align_items": null,
            "bottom": null,
            "_model_module": "@jupyter-widgets/base",
            "top": null,
            "grid_column": null,
            "overflow_y": null,
            "overflow_x": null,
            "grid_auto_flow": null,
            "grid_area": null,
            "grid_template_columns": null,
            "flex": null,
            "_model_name": "LayoutModel",
            "justify_items": null,
            "grid_row": null,
            "max_height": null,
            "align_content": null,
            "visibility": null,
            "align_self": null,
            "height": null,
            "min_height": null,
            "padding": null,
            "grid_auto_rows": null,
            "grid_gap": null,
            "max_width": null,
            "order": null,
            "_view_module_version": "1.2.0",
            "grid_template_areas": null,
            "object_position": null,
            "object_fit": null,
            "grid_auto_columns": null,
            "margin": null,
            "display": null,
            "left": null
          }
        },
        "8b7eb3ac92b04c2f98822c1e0ea858e5": {
          "model_module": "@jupyter-widgets/controls",
          "model_name": "ProgressStyleModel",
          "model_module_version": "1.5.0",
          "state": {
            "_view_name": "StyleView",
            "_model_name": "ProgressStyleModel",
            "description_width": "",
            "_view_module": "@jupyter-widgets/base",
            "_model_module_version": "1.5.0",
            "_view_count": null,
            "_view_module_version": "1.2.0",
            "bar_color": null,
            "_model_module": "@jupyter-widgets/controls"
          }
        },
        "ca235cc3b97e444c84f197298af16646": {
          "model_module": "@jupyter-widgets/base",
          "model_name": "LayoutModel",
          "model_module_version": "1.2.0",
          "state": {
            "_view_name": "LayoutView",
            "grid_template_rows": null,
            "right": null,
            "justify_content": null,
            "_view_module": "@jupyter-widgets/base",
            "overflow": null,
            "_model_module_version": "1.2.0",
            "_view_count": null,
            "flex_flow": null,
            "width": null,
            "min_width": null,
            "border": null,
            "align_items": null,
            "bottom": null,
            "_model_module": "@jupyter-widgets/base",
            "top": null,
            "grid_column": null,
            "overflow_y": null,
            "overflow_x": null,
            "grid_auto_flow": null,
            "grid_area": null,
            "grid_template_columns": null,
            "flex": null,
            "_model_name": "LayoutModel",
            "justify_items": null,
            "grid_row": null,
            "max_height": null,
            "align_content": null,
            "visibility": null,
            "align_self": null,
            "height": null,
            "min_height": null,
            "padding": null,
            "grid_auto_rows": null,
            "grid_gap": null,
            "max_width": null,
            "order": null,
            "_view_module_version": "1.2.0",
            "grid_template_areas": null,
            "object_position": null,
            "object_fit": null,
            "grid_auto_columns": null,
            "margin": null,
            "display": null,
            "left": null
          }
        },
        "5e487cbea23340469744e4c2b05d4352": {
          "model_module": "@jupyter-widgets/controls",
          "model_name": "VBoxModel",
          "model_module_version": "1.5.0",
          "state": {
            "_view_name": "VBoxView",
            "_dom_classes": [],
            "_model_name": "VBoxModel",
            "_view_module": "@jupyter-widgets/controls",
            "_model_module_version": "1.5.0",
            "_view_count": null,
            "_view_module_version": "1.5.0",
            "box_style": "",
            "layout": "IPY_MODEL_d36d88e676fe46198301be59110b9c02",
            "_model_module": "@jupyter-widgets/controls",
            "children": [
              "IPY_MODEL_55a314a067b04394958064c66023204b",
              "IPY_MODEL_15d2cb5abad84147858400e4bcc64025"
            ]
          }
        },
        "d36d88e676fe46198301be59110b9c02": {
          "model_module": "@jupyter-widgets/base",
          "model_name": "LayoutModel",
          "model_module_version": "1.2.0",
          "state": {
            "_view_name": "LayoutView",
            "grid_template_rows": null,
            "right": null,
            "justify_content": null,
            "_view_module": "@jupyter-widgets/base",
            "overflow": null,
            "_model_module_version": "1.2.0",
            "_view_count": null,
            "flex_flow": null,
            "width": null,
            "min_width": null,
            "border": null,
            "align_items": null,
            "bottom": null,
            "_model_module": "@jupyter-widgets/base",
            "top": null,
            "grid_column": null,
            "overflow_y": null,
            "overflow_x": null,
            "grid_auto_flow": null,
            "grid_area": null,
            "grid_template_columns": null,
            "flex": null,
            "_model_name": "LayoutModel",
            "justify_items": null,
            "grid_row": null,
            "max_height": null,
            "align_content": null,
            "visibility": null,
            "align_self": null,
            "height": null,
            "min_height": null,
            "padding": null,
            "grid_auto_rows": null,
            "grid_gap": null,
            "max_width": null,
            "order": null,
            "_view_module_version": "1.2.0",
            "grid_template_areas": null,
            "object_position": null,
            "object_fit": null,
            "grid_auto_columns": null,
            "margin": null,
            "display": null,
            "left": null
          }
        },
        "55a314a067b04394958064c66023204b": {
          "model_module": "@jupyter-widgets/controls",
          "model_name": "LabelModel",
          "model_module_version": "1.5.0",
          "state": {
            "_view_name": "LabelView",
            "style": "IPY_MODEL_2f6821b602034488b2b5de0f42a62873",
            "_dom_classes": [],
            "description": "",
            "_model_name": "LabelModel",
            "placeholder": "​",
            "_view_module": "@jupyter-widgets/controls",
            "_model_module_version": "1.5.0",
            "value": " 0.05MB of 0.05MB uploaded (0.00MB deduped)\r",
            "_view_count": null,
            "_view_module_version": "1.5.0",
            "description_tooltip": null,
            "_model_module": "@jupyter-widgets/controls",
            "layout": "IPY_MODEL_9ada2081567840bcb4169b41cacd8e13"
          }
        },
        "15d2cb5abad84147858400e4bcc64025": {
          "model_module": "@jupyter-widgets/controls",
          "model_name": "FloatProgressModel",
          "model_module_version": "1.5.0",
          "state": {
            "_view_name": "ProgressView",
            "style": "IPY_MODEL_a4f41d5869c740f7870d87536538541f",
            "_dom_classes": [],
            "description": "",
            "_model_name": "FloatProgressModel",
            "bar_style": "",
            "max": 1,
            "_view_module": "@jupyter-widgets/controls",
            "_model_module_version": "1.5.0",
            "value": 1,
            "_view_count": null,
            "_view_module_version": "1.5.0",
            "orientation": "horizontal",
            "min": 0,
            "description_tooltip": null,
            "_model_module": "@jupyter-widgets/controls",
            "layout": "IPY_MODEL_5aa0e91a08dc428691e1f74140d4aa8e"
          }
        },
        "2f6821b602034488b2b5de0f42a62873": {
          "model_module": "@jupyter-widgets/controls",
          "model_name": "DescriptionStyleModel",
          "model_module_version": "1.5.0",
          "state": {
            "_view_name": "StyleView",
            "_model_name": "DescriptionStyleModel",
            "description_width": "",
            "_view_module": "@jupyter-widgets/base",
            "_model_module_version": "1.5.0",
            "_view_count": null,
            "_view_module_version": "1.2.0",
            "_model_module": "@jupyter-widgets/controls"
          }
        },
        "9ada2081567840bcb4169b41cacd8e13": {
          "model_module": "@jupyter-widgets/base",
          "model_name": "LayoutModel",
          "model_module_version": "1.2.0",
          "state": {
            "_view_name": "LayoutView",
            "grid_template_rows": null,
            "right": null,
            "justify_content": null,
            "_view_module": "@jupyter-widgets/base",
            "overflow": null,
            "_model_module_version": "1.2.0",
            "_view_count": null,
            "flex_flow": null,
            "width": null,
            "min_width": null,
            "border": null,
            "align_items": null,
            "bottom": null,
            "_model_module": "@jupyter-widgets/base",
            "top": null,
            "grid_column": null,
            "overflow_y": null,
            "overflow_x": null,
            "grid_auto_flow": null,
            "grid_area": null,
            "grid_template_columns": null,
            "flex": null,
            "_model_name": "LayoutModel",
            "justify_items": null,
            "grid_row": null,
            "max_height": null,
            "align_content": null,
            "visibility": null,
            "align_self": null,
            "height": null,
            "min_height": null,
            "padding": null,
            "grid_auto_rows": null,
            "grid_gap": null,
            "max_width": null,
            "order": null,
            "_view_module_version": "1.2.0",
            "grid_template_areas": null,
            "object_position": null,
            "object_fit": null,
            "grid_auto_columns": null,
            "margin": null,
            "display": null,
            "left": null
          }
        },
        "a4f41d5869c740f7870d87536538541f": {
          "model_module": "@jupyter-widgets/controls",
          "model_name": "ProgressStyleModel",
          "model_module_version": "1.5.0",
          "state": {
            "_view_name": "StyleView",
            "_model_name": "ProgressStyleModel",
            "description_width": "",
            "_view_module": "@jupyter-widgets/base",
            "_model_module_version": "1.5.0",
            "_view_count": null,
            "_view_module_version": "1.2.0",
            "bar_color": null,
            "_model_module": "@jupyter-widgets/controls"
          }
        },
        "5aa0e91a08dc428691e1f74140d4aa8e": {
          "model_module": "@jupyter-widgets/base",
          "model_name": "LayoutModel",
          "model_module_version": "1.2.0",
          "state": {
            "_view_name": "LayoutView",
            "grid_template_rows": null,
            "right": null,
            "justify_content": null,
            "_view_module": "@jupyter-widgets/base",
            "overflow": null,
            "_model_module_version": "1.2.0",
            "_view_count": null,
            "flex_flow": null,
            "width": null,
            "min_width": null,
            "border": null,
            "align_items": null,
            "bottom": null,
            "_model_module": "@jupyter-widgets/base",
            "top": null,
            "grid_column": null,
            "overflow_y": null,
            "overflow_x": null,
            "grid_auto_flow": null,
            "grid_area": null,
            "grid_template_columns": null,
            "flex": null,
            "_model_name": "LayoutModel",
            "justify_items": null,
            "grid_row": null,
            "max_height": null,
            "align_content": null,
            "visibility": null,
            "align_self": null,
            "height": null,
            "min_height": null,
            "padding": null,
            "grid_auto_rows": null,
            "grid_gap": null,
            "max_width": null,
            "order": null,
            "_view_module_version": "1.2.0",
            "grid_template_areas": null,
            "object_position": null,
            "object_fit": null,
            "grid_auto_columns": null,
            "margin": null,
            "display": null,
            "left": null
          }
        },
        "263e03826c4748f6bb66a826eac94de1": {
          "model_module": "@jupyter-widgets/controls",
          "model_name": "VBoxModel",
          "model_module_version": "1.5.0",
          "state": {
            "_view_name": "VBoxView",
            "_dom_classes": [],
            "_model_name": "VBoxModel",
            "_view_module": "@jupyter-widgets/controls",
            "_model_module_version": "1.5.0",
            "_view_count": null,
            "_view_module_version": "1.5.0",
            "box_style": "",
            "layout": "IPY_MODEL_b523f0d9572043e086b5dee6b0dd1a3b",
            "_model_module": "@jupyter-widgets/controls",
            "children": [
              "IPY_MODEL_2920b672082a429fb2ddb347246e2e9d",
              "IPY_MODEL_0402183547b240b396716d936b7fc18c"
            ]
          }
        },
        "b523f0d9572043e086b5dee6b0dd1a3b": {
          "model_module": "@jupyter-widgets/base",
          "model_name": "LayoutModel",
          "model_module_version": "1.2.0",
          "state": {
            "_view_name": "LayoutView",
            "grid_template_rows": null,
            "right": null,
            "justify_content": null,
            "_view_module": "@jupyter-widgets/base",
            "overflow": null,
            "_model_module_version": "1.2.0",
            "_view_count": null,
            "flex_flow": null,
            "width": null,
            "min_width": null,
            "border": null,
            "align_items": null,
            "bottom": null,
            "_model_module": "@jupyter-widgets/base",
            "top": null,
            "grid_column": null,
            "overflow_y": null,
            "overflow_x": null,
            "grid_auto_flow": null,
            "grid_area": null,
            "grid_template_columns": null,
            "flex": null,
            "_model_name": "LayoutModel",
            "justify_items": null,
            "grid_row": null,
            "max_height": null,
            "align_content": null,
            "visibility": null,
            "align_self": null,
            "height": null,
            "min_height": null,
            "padding": null,
            "grid_auto_rows": null,
            "grid_gap": null,
            "max_width": null,
            "order": null,
            "_view_module_version": "1.2.0",
            "grid_template_areas": null,
            "object_position": null,
            "object_fit": null,
            "grid_auto_columns": null,
            "margin": null,
            "display": null,
            "left": null
          }
        },
        "2920b672082a429fb2ddb347246e2e9d": {
          "model_module": "@jupyter-widgets/controls",
          "model_name": "LabelModel",
          "model_module_version": "1.5.0",
          "state": {
            "_view_name": "LabelView",
            "style": "IPY_MODEL_d6472bbeeb514c198232b38e1c95a3d6",
            "_dom_classes": [],
            "description": "",
            "_model_name": "LabelModel",
            "placeholder": "​",
            "_view_module": "@jupyter-widgets/controls",
            "_model_module_version": "1.5.0",
            "value": " 0.05MB of 0.05MB uploaded (0.00MB deduped)\r",
            "_view_count": null,
            "_view_module_version": "1.5.0",
            "description_tooltip": null,
            "_model_module": "@jupyter-widgets/controls",
            "layout": "IPY_MODEL_0e0c1920ae5a48c09afc9ceb7a52a6bd"
          }
        },
        "0402183547b240b396716d936b7fc18c": {
          "model_module": "@jupyter-widgets/controls",
          "model_name": "FloatProgressModel",
          "model_module_version": "1.5.0",
          "state": {
            "_view_name": "ProgressView",
            "style": "IPY_MODEL_a45f462621b34557b511992a7fee9858",
            "_dom_classes": [],
            "description": "",
            "_model_name": "FloatProgressModel",
            "bar_style": "",
            "max": 1,
            "_view_module": "@jupyter-widgets/controls",
            "_model_module_version": "1.5.0",
            "value": 1,
            "_view_count": null,
            "_view_module_version": "1.5.0",
            "orientation": "horizontal",
            "min": 0,
            "description_tooltip": null,
            "_model_module": "@jupyter-widgets/controls",
            "layout": "IPY_MODEL_26ac8e04d4b34fca8feff95d96f686c0"
          }
        },
        "d6472bbeeb514c198232b38e1c95a3d6": {
          "model_module": "@jupyter-widgets/controls",
          "model_name": "DescriptionStyleModel",
          "model_module_version": "1.5.0",
          "state": {
            "_view_name": "StyleView",
            "_model_name": "DescriptionStyleModel",
            "description_width": "",
            "_view_module": "@jupyter-widgets/base",
            "_model_module_version": "1.5.0",
            "_view_count": null,
            "_view_module_version": "1.2.0",
            "_model_module": "@jupyter-widgets/controls"
          }
        },
        "0e0c1920ae5a48c09afc9ceb7a52a6bd": {
          "model_module": "@jupyter-widgets/base",
          "model_name": "LayoutModel",
          "model_module_version": "1.2.0",
          "state": {
            "_view_name": "LayoutView",
            "grid_template_rows": null,
            "right": null,
            "justify_content": null,
            "_view_module": "@jupyter-widgets/base",
            "overflow": null,
            "_model_module_version": "1.2.0",
            "_view_count": null,
            "flex_flow": null,
            "width": null,
            "min_width": null,
            "border": null,
            "align_items": null,
            "bottom": null,
            "_model_module": "@jupyter-widgets/base",
            "top": null,
            "grid_column": null,
            "overflow_y": null,
            "overflow_x": null,
            "grid_auto_flow": null,
            "grid_area": null,
            "grid_template_columns": null,
            "flex": null,
            "_model_name": "LayoutModel",
            "justify_items": null,
            "grid_row": null,
            "max_height": null,
            "align_content": null,
            "visibility": null,
            "align_self": null,
            "height": null,
            "min_height": null,
            "padding": null,
            "grid_auto_rows": null,
            "grid_gap": null,
            "max_width": null,
            "order": null,
            "_view_module_version": "1.2.0",
            "grid_template_areas": null,
            "object_position": null,
            "object_fit": null,
            "grid_auto_columns": null,
            "margin": null,
            "display": null,
            "left": null
          }
        },
        "a45f462621b34557b511992a7fee9858": {
          "model_module": "@jupyter-widgets/controls",
          "model_name": "ProgressStyleModel",
          "model_module_version": "1.5.0",
          "state": {
            "_view_name": "StyleView",
            "_model_name": "ProgressStyleModel",
            "description_width": "",
            "_view_module": "@jupyter-widgets/base",
            "_model_module_version": "1.5.0",
            "_view_count": null,
            "_view_module_version": "1.2.0",
            "bar_color": null,
            "_model_module": "@jupyter-widgets/controls"
          }
        },
        "26ac8e04d4b34fca8feff95d96f686c0": {
          "model_module": "@jupyter-widgets/base",
          "model_name": "LayoutModel",
          "model_module_version": "1.2.0",
          "state": {
            "_view_name": "LayoutView",
            "grid_template_rows": null,
            "right": null,
            "justify_content": null,
            "_view_module": "@jupyter-widgets/base",
            "overflow": null,
            "_model_module_version": "1.2.0",
            "_view_count": null,
            "flex_flow": null,
            "width": null,
            "min_width": null,
            "border": null,
            "align_items": null,
            "bottom": null,
            "_model_module": "@jupyter-widgets/base",
            "top": null,
            "grid_column": null,
            "overflow_y": null,
            "overflow_x": null,
            "grid_auto_flow": null,
            "grid_area": null,
            "grid_template_columns": null,
            "flex": null,
            "_model_name": "LayoutModel",
            "justify_items": null,
            "grid_row": null,
            "max_height": null,
            "align_content": null,
            "visibility": null,
            "align_self": null,
            "height": null,
            "min_height": null,
            "padding": null,
            "grid_auto_rows": null,
            "grid_gap": null,
            "max_width": null,
            "order": null,
            "_view_module_version": "1.2.0",
            "grid_template_areas": null,
            "object_position": null,
            "object_fit": null,
            "grid_auto_columns": null,
            "margin": null,
            "display": null,
            "left": null
          }
        },
        "1b2adc6fdee34b1eb2e1ed6547705e4e": {
          "model_module": "@jupyter-widgets/controls",
          "model_name": "VBoxModel",
          "model_module_version": "1.5.0",
          "state": {
            "_view_name": "VBoxView",
            "_dom_classes": [],
            "_model_name": "VBoxModel",
            "_view_module": "@jupyter-widgets/controls",
            "_model_module_version": "1.5.0",
            "_view_count": null,
            "_view_module_version": "1.5.0",
            "box_style": "",
            "layout": "IPY_MODEL_43f4e45e38114b20a9b30519f3b87ba2",
            "_model_module": "@jupyter-widgets/controls",
            "children": [
              "IPY_MODEL_d6ee708396dd49ec8b96c68df93a1825",
              "IPY_MODEL_70436a3056e34236a72233e5e3b8f7fc"
            ]
          }
        },
        "43f4e45e38114b20a9b30519f3b87ba2": {
          "model_module": "@jupyter-widgets/base",
          "model_name": "LayoutModel",
          "model_module_version": "1.2.0",
          "state": {
            "_view_name": "LayoutView",
            "grid_template_rows": null,
            "right": null,
            "justify_content": null,
            "_view_module": "@jupyter-widgets/base",
            "overflow": null,
            "_model_module_version": "1.2.0",
            "_view_count": null,
            "flex_flow": null,
            "width": null,
            "min_width": null,
            "border": null,
            "align_items": null,
            "bottom": null,
            "_model_module": "@jupyter-widgets/base",
            "top": null,
            "grid_column": null,
            "overflow_y": null,
            "overflow_x": null,
            "grid_auto_flow": null,
            "grid_area": null,
            "grid_template_columns": null,
            "flex": null,
            "_model_name": "LayoutModel",
            "justify_items": null,
            "grid_row": null,
            "max_height": null,
            "align_content": null,
            "visibility": null,
            "align_self": null,
            "height": null,
            "min_height": null,
            "padding": null,
            "grid_auto_rows": null,
            "grid_gap": null,
            "max_width": null,
            "order": null,
            "_view_module_version": "1.2.0",
            "grid_template_areas": null,
            "object_position": null,
            "object_fit": null,
            "grid_auto_columns": null,
            "margin": null,
            "display": null,
            "left": null
          }
        },
        "d6ee708396dd49ec8b96c68df93a1825": {
          "model_module": "@jupyter-widgets/controls",
          "model_name": "LabelModel",
          "model_module_version": "1.5.0",
          "state": {
            "_view_name": "LabelView",
            "style": "IPY_MODEL_d71893e5831441679e416ad67a2e830c",
            "_dom_classes": [],
            "description": "",
            "_model_name": "LabelModel",
            "placeholder": "​",
            "_view_module": "@jupyter-widgets/controls",
            "_model_module_version": "1.5.0",
            "value": " 0.05MB of 0.05MB uploaded (0.00MB deduped)\r",
            "_view_count": null,
            "_view_module_version": "1.5.0",
            "description_tooltip": null,
            "_model_module": "@jupyter-widgets/controls",
            "layout": "IPY_MODEL_8ed1f7cd86d94a6ba4e39e915245d52b"
          }
        },
        "70436a3056e34236a72233e5e3b8f7fc": {
          "model_module": "@jupyter-widgets/controls",
          "model_name": "FloatProgressModel",
          "model_module_version": "1.5.0",
          "state": {
            "_view_name": "ProgressView",
            "style": "IPY_MODEL_e866fee4b9eb4ef68e049dfb4289ae25",
            "_dom_classes": [],
            "description": "",
            "_model_name": "FloatProgressModel",
            "bar_style": "",
            "max": 1,
            "_view_module": "@jupyter-widgets/controls",
            "_model_module_version": "1.5.0",
            "value": 1,
            "_view_count": null,
            "_view_module_version": "1.5.0",
            "orientation": "horizontal",
            "min": 0,
            "description_tooltip": null,
            "_model_module": "@jupyter-widgets/controls",
            "layout": "IPY_MODEL_2db98045f4254f9e95ca9ec4f52be14c"
          }
        },
        "d71893e5831441679e416ad67a2e830c": {
          "model_module": "@jupyter-widgets/controls",
          "model_name": "DescriptionStyleModel",
          "model_module_version": "1.5.0",
          "state": {
            "_view_name": "StyleView",
            "_model_name": "DescriptionStyleModel",
            "description_width": "",
            "_view_module": "@jupyter-widgets/base",
            "_model_module_version": "1.5.0",
            "_view_count": null,
            "_view_module_version": "1.2.0",
            "_model_module": "@jupyter-widgets/controls"
          }
        },
        "8ed1f7cd86d94a6ba4e39e915245d52b": {
          "model_module": "@jupyter-widgets/base",
          "model_name": "LayoutModel",
          "model_module_version": "1.2.0",
          "state": {
            "_view_name": "LayoutView",
            "grid_template_rows": null,
            "right": null,
            "justify_content": null,
            "_view_module": "@jupyter-widgets/base",
            "overflow": null,
            "_model_module_version": "1.2.0",
            "_view_count": null,
            "flex_flow": null,
            "width": null,
            "min_width": null,
            "border": null,
            "align_items": null,
            "bottom": null,
            "_model_module": "@jupyter-widgets/base",
            "top": null,
            "grid_column": null,
            "overflow_y": null,
            "overflow_x": null,
            "grid_auto_flow": null,
            "grid_area": null,
            "grid_template_columns": null,
            "flex": null,
            "_model_name": "LayoutModel",
            "justify_items": null,
            "grid_row": null,
            "max_height": null,
            "align_content": null,
            "visibility": null,
            "align_self": null,
            "height": null,
            "min_height": null,
            "padding": null,
            "grid_auto_rows": null,
            "grid_gap": null,
            "max_width": null,
            "order": null,
            "_view_module_version": "1.2.0",
            "grid_template_areas": null,
            "object_position": null,
            "object_fit": null,
            "grid_auto_columns": null,
            "margin": null,
            "display": null,
            "left": null
          }
        },
        "e866fee4b9eb4ef68e049dfb4289ae25": {
          "model_module": "@jupyter-widgets/controls",
          "model_name": "ProgressStyleModel",
          "model_module_version": "1.5.0",
          "state": {
            "_view_name": "StyleView",
            "_model_name": "ProgressStyleModel",
            "description_width": "",
            "_view_module": "@jupyter-widgets/base",
            "_model_module_version": "1.5.0",
            "_view_count": null,
            "_view_module_version": "1.2.0",
            "bar_color": null,
            "_model_module": "@jupyter-widgets/controls"
          }
        },
        "2db98045f4254f9e95ca9ec4f52be14c": {
          "model_module": "@jupyter-widgets/base",
          "model_name": "LayoutModel",
          "model_module_version": "1.2.0",
          "state": {
            "_view_name": "LayoutView",
            "grid_template_rows": null,
            "right": null,
            "justify_content": null,
            "_view_module": "@jupyter-widgets/base",
            "overflow": null,
            "_model_module_version": "1.2.0",
            "_view_count": null,
            "flex_flow": null,
            "width": null,
            "min_width": null,
            "border": null,
            "align_items": null,
            "bottom": null,
            "_model_module": "@jupyter-widgets/base",
            "top": null,
            "grid_column": null,
            "overflow_y": null,
            "overflow_x": null,
            "grid_auto_flow": null,
            "grid_area": null,
            "grid_template_columns": null,
            "flex": null,
            "_model_name": "LayoutModel",
            "justify_items": null,
            "grid_row": null,
            "max_height": null,
            "align_content": null,
            "visibility": null,
            "align_self": null,
            "height": null,
            "min_height": null,
            "padding": null,
            "grid_auto_rows": null,
            "grid_gap": null,
            "max_width": null,
            "order": null,
            "_view_module_version": "1.2.0",
            "grid_template_areas": null,
            "object_position": null,
            "object_fit": null,
            "grid_auto_columns": null,
            "margin": null,
            "display": null,
            "left": null
          }
        },
        "4de5835b966d477ab4777515fb263bb2": {
          "model_module": "@jupyter-widgets/controls",
          "model_name": "VBoxModel",
          "model_module_version": "1.5.0",
          "state": {
            "_view_name": "VBoxView",
            "_dom_classes": [],
            "_model_name": "VBoxModel",
            "_view_module": "@jupyter-widgets/controls",
            "_model_module_version": "1.5.0",
            "_view_count": null,
            "_view_module_version": "1.5.0",
            "box_style": "",
            "layout": "IPY_MODEL_f647a6a6a5ed4b238b014f0e82d5fab3",
            "_model_module": "@jupyter-widgets/controls",
            "children": [
              "IPY_MODEL_86d2b6af22c94af68a773b63b9ad1106",
              "IPY_MODEL_c0ee3bcabed6489692dde9c4958da864"
            ]
          }
        },
        "f647a6a6a5ed4b238b014f0e82d5fab3": {
          "model_module": "@jupyter-widgets/base",
          "model_name": "LayoutModel",
          "model_module_version": "1.2.0",
          "state": {
            "_view_name": "LayoutView",
            "grid_template_rows": null,
            "right": null,
            "justify_content": null,
            "_view_module": "@jupyter-widgets/base",
            "overflow": null,
            "_model_module_version": "1.2.0",
            "_view_count": null,
            "flex_flow": null,
            "width": null,
            "min_width": null,
            "border": null,
            "align_items": null,
            "bottom": null,
            "_model_module": "@jupyter-widgets/base",
            "top": null,
            "grid_column": null,
            "overflow_y": null,
            "overflow_x": null,
            "grid_auto_flow": null,
            "grid_area": null,
            "grid_template_columns": null,
            "flex": null,
            "_model_name": "LayoutModel",
            "justify_items": null,
            "grid_row": null,
            "max_height": null,
            "align_content": null,
            "visibility": null,
            "align_self": null,
            "height": null,
            "min_height": null,
            "padding": null,
            "grid_auto_rows": null,
            "grid_gap": null,
            "max_width": null,
            "order": null,
            "_view_module_version": "1.2.0",
            "grid_template_areas": null,
            "object_position": null,
            "object_fit": null,
            "grid_auto_columns": null,
            "margin": null,
            "display": null,
            "left": null
          }
        },
        "86d2b6af22c94af68a773b63b9ad1106": {
          "model_module": "@jupyter-widgets/controls",
          "model_name": "LabelModel",
          "model_module_version": "1.5.0",
          "state": {
            "_view_name": "LabelView",
            "style": "IPY_MODEL_308b9e529ceb49bf9f026640fc160f31",
            "_dom_classes": [],
            "description": "",
            "_model_name": "LabelModel",
            "placeholder": "​",
            "_view_module": "@jupyter-widgets/controls",
            "_model_module_version": "1.5.0",
            "value": " 0.05MB of 0.05MB uploaded (0.00MB deduped)\r",
            "_view_count": null,
            "_view_module_version": "1.5.0",
            "description_tooltip": null,
            "_model_module": "@jupyter-widgets/controls",
            "layout": "IPY_MODEL_63eb735f69944948bb814e2f9c68c55e"
          }
        },
        "c0ee3bcabed6489692dde9c4958da864": {
          "model_module": "@jupyter-widgets/controls",
          "model_name": "FloatProgressModel",
          "model_module_version": "1.5.0",
          "state": {
            "_view_name": "ProgressView",
            "style": "IPY_MODEL_fe7179c97f1e4ca1acd5a4382726925c",
            "_dom_classes": [],
            "description": "",
            "_model_name": "FloatProgressModel",
            "bar_style": "",
            "max": 1,
            "_view_module": "@jupyter-widgets/controls",
            "_model_module_version": "1.5.0",
            "value": 1,
            "_view_count": null,
            "_view_module_version": "1.5.0",
            "orientation": "horizontal",
            "min": 0,
            "description_tooltip": null,
            "_model_module": "@jupyter-widgets/controls",
            "layout": "IPY_MODEL_33fcd67c0a1244c1a5ef37d38482c5b8"
          }
        },
        "308b9e529ceb49bf9f026640fc160f31": {
          "model_module": "@jupyter-widgets/controls",
          "model_name": "DescriptionStyleModel",
          "model_module_version": "1.5.0",
          "state": {
            "_view_name": "StyleView",
            "_model_name": "DescriptionStyleModel",
            "description_width": "",
            "_view_module": "@jupyter-widgets/base",
            "_model_module_version": "1.5.0",
            "_view_count": null,
            "_view_module_version": "1.2.0",
            "_model_module": "@jupyter-widgets/controls"
          }
        },
        "63eb735f69944948bb814e2f9c68c55e": {
          "model_module": "@jupyter-widgets/base",
          "model_name": "LayoutModel",
          "model_module_version": "1.2.0",
          "state": {
            "_view_name": "LayoutView",
            "grid_template_rows": null,
            "right": null,
            "justify_content": null,
            "_view_module": "@jupyter-widgets/base",
            "overflow": null,
            "_model_module_version": "1.2.0",
            "_view_count": null,
            "flex_flow": null,
            "width": null,
            "min_width": null,
            "border": null,
            "align_items": null,
            "bottom": null,
            "_model_module": "@jupyter-widgets/base",
            "top": null,
            "grid_column": null,
            "overflow_y": null,
            "overflow_x": null,
            "grid_auto_flow": null,
            "grid_area": null,
            "grid_template_columns": null,
            "flex": null,
            "_model_name": "LayoutModel",
            "justify_items": null,
            "grid_row": null,
            "max_height": null,
            "align_content": null,
            "visibility": null,
            "align_self": null,
            "height": null,
            "min_height": null,
            "padding": null,
            "grid_auto_rows": null,
            "grid_gap": null,
            "max_width": null,
            "order": null,
            "_view_module_version": "1.2.0",
            "grid_template_areas": null,
            "object_position": null,
            "object_fit": null,
            "grid_auto_columns": null,
            "margin": null,
            "display": null,
            "left": null
          }
        },
        "fe7179c97f1e4ca1acd5a4382726925c": {
          "model_module": "@jupyter-widgets/controls",
          "model_name": "ProgressStyleModel",
          "model_module_version": "1.5.0",
          "state": {
            "_view_name": "StyleView",
            "_model_name": "ProgressStyleModel",
            "description_width": "",
            "_view_module": "@jupyter-widgets/base",
            "_model_module_version": "1.5.0",
            "_view_count": null,
            "_view_module_version": "1.2.0",
            "bar_color": null,
            "_model_module": "@jupyter-widgets/controls"
          }
        },
        "33fcd67c0a1244c1a5ef37d38482c5b8": {
          "model_module": "@jupyter-widgets/base",
          "model_name": "LayoutModel",
          "model_module_version": "1.2.0",
          "state": {
            "_view_name": "LayoutView",
            "grid_template_rows": null,
            "right": null,
            "justify_content": null,
            "_view_module": "@jupyter-widgets/base",
            "overflow": null,
            "_model_module_version": "1.2.0",
            "_view_count": null,
            "flex_flow": null,
            "width": null,
            "min_width": null,
            "border": null,
            "align_items": null,
            "bottom": null,
            "_model_module": "@jupyter-widgets/base",
            "top": null,
            "grid_column": null,
            "overflow_y": null,
            "overflow_x": null,
            "grid_auto_flow": null,
            "grid_area": null,
            "grid_template_columns": null,
            "flex": null,
            "_model_name": "LayoutModel",
            "justify_items": null,
            "grid_row": null,
            "max_height": null,
            "align_content": null,
            "visibility": null,
            "align_self": null,
            "height": null,
            "min_height": null,
            "padding": null,
            "grid_auto_rows": null,
            "grid_gap": null,
            "max_width": null,
            "order": null,
            "_view_module_version": "1.2.0",
            "grid_template_areas": null,
            "object_position": null,
            "object_fit": null,
            "grid_auto_columns": null,
            "margin": null,
            "display": null,
            "left": null
          }
        },
        "d12f7d848bf74957b18b5307b26da7c1": {
          "model_module": "@jupyter-widgets/controls",
          "model_name": "VBoxModel",
          "model_module_version": "1.5.0",
          "state": {
            "_view_name": "VBoxView",
            "_dom_classes": [],
            "_model_name": "VBoxModel",
            "_view_module": "@jupyter-widgets/controls",
            "_model_module_version": "1.5.0",
            "_view_count": null,
            "_view_module_version": "1.5.0",
            "box_style": "",
            "layout": "IPY_MODEL_c92ca722f4d242c7b5ef475fa5c6822d",
            "_model_module": "@jupyter-widgets/controls",
            "children": [
              "IPY_MODEL_d0f599dc0ef1481aa3cc381a65ce713e",
              "IPY_MODEL_48df6727a31f4d79a7fac785192e4f0f"
            ]
          }
        },
        "c92ca722f4d242c7b5ef475fa5c6822d": {
          "model_module": "@jupyter-widgets/base",
          "model_name": "LayoutModel",
          "model_module_version": "1.2.0",
          "state": {
            "_view_name": "LayoutView",
            "grid_template_rows": null,
            "right": null,
            "justify_content": null,
            "_view_module": "@jupyter-widgets/base",
            "overflow": null,
            "_model_module_version": "1.2.0",
            "_view_count": null,
            "flex_flow": null,
            "width": null,
            "min_width": null,
            "border": null,
            "align_items": null,
            "bottom": null,
            "_model_module": "@jupyter-widgets/base",
            "top": null,
            "grid_column": null,
            "overflow_y": null,
            "overflow_x": null,
            "grid_auto_flow": null,
            "grid_area": null,
            "grid_template_columns": null,
            "flex": null,
            "_model_name": "LayoutModel",
            "justify_items": null,
            "grid_row": null,
            "max_height": null,
            "align_content": null,
            "visibility": null,
            "align_self": null,
            "height": null,
            "min_height": null,
            "padding": null,
            "grid_auto_rows": null,
            "grid_gap": null,
            "max_width": null,
            "order": null,
            "_view_module_version": "1.2.0",
            "grid_template_areas": null,
            "object_position": null,
            "object_fit": null,
            "grid_auto_columns": null,
            "margin": null,
            "display": null,
            "left": null
          }
        },
        "d0f599dc0ef1481aa3cc381a65ce713e": {
          "model_module": "@jupyter-widgets/controls",
          "model_name": "LabelModel",
          "model_module_version": "1.5.0",
          "state": {
            "_view_name": "LabelView",
            "style": "IPY_MODEL_a8775c961c8b466fadb20dddaa76377f",
            "_dom_classes": [],
            "description": "",
            "_model_name": "LabelModel",
            "placeholder": "​",
            "_view_module": "@jupyter-widgets/controls",
            "_model_module_version": "1.5.0",
            "value": " 0.05MB of 0.05MB uploaded (0.00MB deduped)\r",
            "_view_count": null,
            "_view_module_version": "1.5.0",
            "description_tooltip": null,
            "_model_module": "@jupyter-widgets/controls",
            "layout": "IPY_MODEL_b5aa1942472844ce8a536768a0a2fb1f"
          }
        },
        "48df6727a31f4d79a7fac785192e4f0f": {
          "model_module": "@jupyter-widgets/controls",
          "model_name": "FloatProgressModel",
          "model_module_version": "1.5.0",
          "state": {
            "_view_name": "ProgressView",
            "style": "IPY_MODEL_3de618a782bc4ed0a572087893b72a31",
            "_dom_classes": [],
            "description": "",
            "_model_name": "FloatProgressModel",
            "bar_style": "",
            "max": 1,
            "_view_module": "@jupyter-widgets/controls",
            "_model_module_version": "1.5.0",
            "value": 1,
            "_view_count": null,
            "_view_module_version": "1.5.0",
            "orientation": "horizontal",
            "min": 0,
            "description_tooltip": null,
            "_model_module": "@jupyter-widgets/controls",
            "layout": "IPY_MODEL_a0d07a3430b94b4aab5825526f296fd3"
          }
        },
        "a8775c961c8b466fadb20dddaa76377f": {
          "model_module": "@jupyter-widgets/controls",
          "model_name": "DescriptionStyleModel",
          "model_module_version": "1.5.0",
          "state": {
            "_view_name": "StyleView",
            "_model_name": "DescriptionStyleModel",
            "description_width": "",
            "_view_module": "@jupyter-widgets/base",
            "_model_module_version": "1.5.0",
            "_view_count": null,
            "_view_module_version": "1.2.0",
            "_model_module": "@jupyter-widgets/controls"
          }
        },
        "b5aa1942472844ce8a536768a0a2fb1f": {
          "model_module": "@jupyter-widgets/base",
          "model_name": "LayoutModel",
          "model_module_version": "1.2.0",
          "state": {
            "_view_name": "LayoutView",
            "grid_template_rows": null,
            "right": null,
            "justify_content": null,
            "_view_module": "@jupyter-widgets/base",
            "overflow": null,
            "_model_module_version": "1.2.0",
            "_view_count": null,
            "flex_flow": null,
            "width": null,
            "min_width": null,
            "border": null,
            "align_items": null,
            "bottom": null,
            "_model_module": "@jupyter-widgets/base",
            "top": null,
            "grid_column": null,
            "overflow_y": null,
            "overflow_x": null,
            "grid_auto_flow": null,
            "grid_area": null,
            "grid_template_columns": null,
            "flex": null,
            "_model_name": "LayoutModel",
            "justify_items": null,
            "grid_row": null,
            "max_height": null,
            "align_content": null,
            "visibility": null,
            "align_self": null,
            "height": null,
            "min_height": null,
            "padding": null,
            "grid_auto_rows": null,
            "grid_gap": null,
            "max_width": null,
            "order": null,
            "_view_module_version": "1.2.0",
            "grid_template_areas": null,
            "object_position": null,
            "object_fit": null,
            "grid_auto_columns": null,
            "margin": null,
            "display": null,
            "left": null
          }
        },
        "3de618a782bc4ed0a572087893b72a31": {
          "model_module": "@jupyter-widgets/controls",
          "model_name": "ProgressStyleModel",
          "model_module_version": "1.5.0",
          "state": {
            "_view_name": "StyleView",
            "_model_name": "ProgressStyleModel",
            "description_width": "",
            "_view_module": "@jupyter-widgets/base",
            "_model_module_version": "1.5.0",
            "_view_count": null,
            "_view_module_version": "1.2.0",
            "bar_color": null,
            "_model_module": "@jupyter-widgets/controls"
          }
        },
        "a0d07a3430b94b4aab5825526f296fd3": {
          "model_module": "@jupyter-widgets/base",
          "model_name": "LayoutModel",
          "model_module_version": "1.2.0",
          "state": {
            "_view_name": "LayoutView",
            "grid_template_rows": null,
            "right": null,
            "justify_content": null,
            "_view_module": "@jupyter-widgets/base",
            "overflow": null,
            "_model_module_version": "1.2.0",
            "_view_count": null,
            "flex_flow": null,
            "width": null,
            "min_width": null,
            "border": null,
            "align_items": null,
            "bottom": null,
            "_model_module": "@jupyter-widgets/base",
            "top": null,
            "grid_column": null,
            "overflow_y": null,
            "overflow_x": null,
            "grid_auto_flow": null,
            "grid_area": null,
            "grid_template_columns": null,
            "flex": null,
            "_model_name": "LayoutModel",
            "justify_items": null,
            "grid_row": null,
            "max_height": null,
            "align_content": null,
            "visibility": null,
            "align_self": null,
            "height": null,
            "min_height": null,
            "padding": null,
            "grid_auto_rows": null,
            "grid_gap": null,
            "max_width": null,
            "order": null,
            "_view_module_version": "1.2.0",
            "grid_template_areas": null,
            "object_position": null,
            "object_fit": null,
            "grid_auto_columns": null,
            "margin": null,
            "display": null,
            "left": null
          }
        },
        "dd7cc4f85171476c8eb9c10750decbc2": {
          "model_module": "@jupyter-widgets/controls",
          "model_name": "VBoxModel",
          "model_module_version": "1.5.0",
          "state": {
            "_view_name": "VBoxView",
            "_dom_classes": [],
            "_model_name": "VBoxModel",
            "_view_module": "@jupyter-widgets/controls",
            "_model_module_version": "1.5.0",
            "_view_count": null,
            "_view_module_version": "1.5.0",
            "box_style": "",
            "layout": "IPY_MODEL_bbac335bc25c4b60864aba4abaab6aa6",
            "_model_module": "@jupyter-widgets/controls",
            "children": [
              "IPY_MODEL_19f39653362e40f1904b9e8ff0056a5e",
              "IPY_MODEL_9e1eaa6b9b0849eaa9ea775793e97085"
            ]
          }
        },
        "bbac335bc25c4b60864aba4abaab6aa6": {
          "model_module": "@jupyter-widgets/base",
          "model_name": "LayoutModel",
          "model_module_version": "1.2.0",
          "state": {
            "_view_name": "LayoutView",
            "grid_template_rows": null,
            "right": null,
            "justify_content": null,
            "_view_module": "@jupyter-widgets/base",
            "overflow": null,
            "_model_module_version": "1.2.0",
            "_view_count": null,
            "flex_flow": null,
            "width": null,
            "min_width": null,
            "border": null,
            "align_items": null,
            "bottom": null,
            "_model_module": "@jupyter-widgets/base",
            "top": null,
            "grid_column": null,
            "overflow_y": null,
            "overflow_x": null,
            "grid_auto_flow": null,
            "grid_area": null,
            "grid_template_columns": null,
            "flex": null,
            "_model_name": "LayoutModel",
            "justify_items": null,
            "grid_row": null,
            "max_height": null,
            "align_content": null,
            "visibility": null,
            "align_self": null,
            "height": null,
            "min_height": null,
            "padding": null,
            "grid_auto_rows": null,
            "grid_gap": null,
            "max_width": null,
            "order": null,
            "_view_module_version": "1.2.0",
            "grid_template_areas": null,
            "object_position": null,
            "object_fit": null,
            "grid_auto_columns": null,
            "margin": null,
            "display": null,
            "left": null
          }
        },
        "19f39653362e40f1904b9e8ff0056a5e": {
          "model_module": "@jupyter-widgets/controls",
          "model_name": "LabelModel",
          "model_module_version": "1.5.0",
          "state": {
            "_view_name": "LabelView",
            "style": "IPY_MODEL_f17ccb8cff2d44c68efda235e5ed05ec",
            "_dom_classes": [],
            "description": "",
            "_model_name": "LabelModel",
            "placeholder": "​",
            "_view_module": "@jupyter-widgets/controls",
            "_model_module_version": "1.5.0",
            "value": " 0.05MB of 0.05MB uploaded (0.00MB deduped)\r",
            "_view_count": null,
            "_view_module_version": "1.5.0",
            "description_tooltip": null,
            "_model_module": "@jupyter-widgets/controls",
            "layout": "IPY_MODEL_2ca361f7032b499fa6a2678e9b61b3e3"
          }
        },
        "9e1eaa6b9b0849eaa9ea775793e97085": {
          "model_module": "@jupyter-widgets/controls",
          "model_name": "FloatProgressModel",
          "model_module_version": "1.5.0",
          "state": {
            "_view_name": "ProgressView",
            "style": "IPY_MODEL_7b0c654ea9c842558b8cdf26ce9ee2fc",
            "_dom_classes": [],
            "description": "",
            "_model_name": "FloatProgressModel",
            "bar_style": "",
            "max": 1,
            "_view_module": "@jupyter-widgets/controls",
            "_model_module_version": "1.5.0",
            "value": 1,
            "_view_count": null,
            "_view_module_version": "1.5.0",
            "orientation": "horizontal",
            "min": 0,
            "description_tooltip": null,
            "_model_module": "@jupyter-widgets/controls",
            "layout": "IPY_MODEL_62920b956ac7414faa6144ecce8f64d3"
          }
        },
        "f17ccb8cff2d44c68efda235e5ed05ec": {
          "model_module": "@jupyter-widgets/controls",
          "model_name": "DescriptionStyleModel",
          "model_module_version": "1.5.0",
          "state": {
            "_view_name": "StyleView",
            "_model_name": "DescriptionStyleModel",
            "description_width": "",
            "_view_module": "@jupyter-widgets/base",
            "_model_module_version": "1.5.0",
            "_view_count": null,
            "_view_module_version": "1.2.0",
            "_model_module": "@jupyter-widgets/controls"
          }
        },
        "2ca361f7032b499fa6a2678e9b61b3e3": {
          "model_module": "@jupyter-widgets/base",
          "model_name": "LayoutModel",
          "model_module_version": "1.2.0",
          "state": {
            "_view_name": "LayoutView",
            "grid_template_rows": null,
            "right": null,
            "justify_content": null,
            "_view_module": "@jupyter-widgets/base",
            "overflow": null,
            "_model_module_version": "1.2.0",
            "_view_count": null,
            "flex_flow": null,
            "width": null,
            "min_width": null,
            "border": null,
            "align_items": null,
            "bottom": null,
            "_model_module": "@jupyter-widgets/base",
            "top": null,
            "grid_column": null,
            "overflow_y": null,
            "overflow_x": null,
            "grid_auto_flow": null,
            "grid_area": null,
            "grid_template_columns": null,
            "flex": null,
            "_model_name": "LayoutModel",
            "justify_items": null,
            "grid_row": null,
            "max_height": null,
            "align_content": null,
            "visibility": null,
            "align_self": null,
            "height": null,
            "min_height": null,
            "padding": null,
            "grid_auto_rows": null,
            "grid_gap": null,
            "max_width": null,
            "order": null,
            "_view_module_version": "1.2.0",
            "grid_template_areas": null,
            "object_position": null,
            "object_fit": null,
            "grid_auto_columns": null,
            "margin": null,
            "display": null,
            "left": null
          }
        },
        "7b0c654ea9c842558b8cdf26ce9ee2fc": {
          "model_module": "@jupyter-widgets/controls",
          "model_name": "ProgressStyleModel",
          "model_module_version": "1.5.0",
          "state": {
            "_view_name": "StyleView",
            "_model_name": "ProgressStyleModel",
            "description_width": "",
            "_view_module": "@jupyter-widgets/base",
            "_model_module_version": "1.5.0",
            "_view_count": null,
            "_view_module_version": "1.2.0",
            "bar_color": null,
            "_model_module": "@jupyter-widgets/controls"
          }
        },
        "62920b956ac7414faa6144ecce8f64d3": {
          "model_module": "@jupyter-widgets/base",
          "model_name": "LayoutModel",
          "model_module_version": "1.2.0",
          "state": {
            "_view_name": "LayoutView",
            "grid_template_rows": null,
            "right": null,
            "justify_content": null,
            "_view_module": "@jupyter-widgets/base",
            "overflow": null,
            "_model_module_version": "1.2.0",
            "_view_count": null,
            "flex_flow": null,
            "width": null,
            "min_width": null,
            "border": null,
            "align_items": null,
            "bottom": null,
            "_model_module": "@jupyter-widgets/base",
            "top": null,
            "grid_column": null,
            "overflow_y": null,
            "overflow_x": null,
            "grid_auto_flow": null,
            "grid_area": null,
            "grid_template_columns": null,
            "flex": null,
            "_model_name": "LayoutModel",
            "justify_items": null,
            "grid_row": null,
            "max_height": null,
            "align_content": null,
            "visibility": null,
            "align_self": null,
            "height": null,
            "min_height": null,
            "padding": null,
            "grid_auto_rows": null,
            "grid_gap": null,
            "max_width": null,
            "order": null,
            "_view_module_version": "1.2.0",
            "grid_template_areas": null,
            "object_position": null,
            "object_fit": null,
            "grid_auto_columns": null,
            "margin": null,
            "display": null,
            "left": null
          }
        },
        "4b3d4bf0ac15444cba9dd652007f622d": {
          "model_module": "@jupyter-widgets/controls",
          "model_name": "VBoxModel",
          "model_module_version": "1.5.0",
          "state": {
            "_view_name": "VBoxView",
            "_dom_classes": [],
            "_model_name": "VBoxModel",
            "_view_module": "@jupyter-widgets/controls",
            "_model_module_version": "1.5.0",
            "_view_count": null,
            "_view_module_version": "1.5.0",
            "box_style": "",
            "layout": "IPY_MODEL_9c86602182d045db8248b9e8293c0129",
            "_model_module": "@jupyter-widgets/controls",
            "children": [
              "IPY_MODEL_d5b44cf7d027417e9c0a8753d4faba29",
              "IPY_MODEL_146cf68e5a114a8bb97c6e59ace5fe34"
            ]
          }
        },
        "9c86602182d045db8248b9e8293c0129": {
          "model_module": "@jupyter-widgets/base",
          "model_name": "LayoutModel",
          "model_module_version": "1.2.0",
          "state": {
            "_view_name": "LayoutView",
            "grid_template_rows": null,
            "right": null,
            "justify_content": null,
            "_view_module": "@jupyter-widgets/base",
            "overflow": null,
            "_model_module_version": "1.2.0",
            "_view_count": null,
            "flex_flow": null,
            "width": null,
            "min_width": null,
            "border": null,
            "align_items": null,
            "bottom": null,
            "_model_module": "@jupyter-widgets/base",
            "top": null,
            "grid_column": null,
            "overflow_y": null,
            "overflow_x": null,
            "grid_auto_flow": null,
            "grid_area": null,
            "grid_template_columns": null,
            "flex": null,
            "_model_name": "LayoutModel",
            "justify_items": null,
            "grid_row": null,
            "max_height": null,
            "align_content": null,
            "visibility": null,
            "align_self": null,
            "height": null,
            "min_height": null,
            "padding": null,
            "grid_auto_rows": null,
            "grid_gap": null,
            "max_width": null,
            "order": null,
            "_view_module_version": "1.2.0",
            "grid_template_areas": null,
            "object_position": null,
            "object_fit": null,
            "grid_auto_columns": null,
            "margin": null,
            "display": null,
            "left": null
          }
        },
        "d5b44cf7d027417e9c0a8753d4faba29": {
          "model_module": "@jupyter-widgets/controls",
          "model_name": "LabelModel",
          "model_module_version": "1.5.0",
          "state": {
            "_view_name": "LabelView",
            "style": "IPY_MODEL_50b00a07d5d340b7a5f8d6b497166519",
            "_dom_classes": [],
            "description": "",
            "_model_name": "LabelModel",
            "placeholder": "​",
            "_view_module": "@jupyter-widgets/controls",
            "_model_module_version": "1.5.0",
            "value": " 0.05MB of 0.05MB uploaded (0.00MB deduped)\r",
            "_view_count": null,
            "_view_module_version": "1.5.0",
            "description_tooltip": null,
            "_model_module": "@jupyter-widgets/controls",
            "layout": "IPY_MODEL_6afb2e2719fa4fb68a5d3ed022d354ce"
          }
        },
        "146cf68e5a114a8bb97c6e59ace5fe34": {
          "model_module": "@jupyter-widgets/controls",
          "model_name": "FloatProgressModel",
          "model_module_version": "1.5.0",
          "state": {
            "_view_name": "ProgressView",
            "style": "IPY_MODEL_fb39bc8ded6b4172971d816f549b6ba0",
            "_dom_classes": [],
            "description": "",
            "_model_name": "FloatProgressModel",
            "bar_style": "",
            "max": 1,
            "_view_module": "@jupyter-widgets/controls",
            "_model_module_version": "1.5.0",
            "value": 1,
            "_view_count": null,
            "_view_module_version": "1.5.0",
            "orientation": "horizontal",
            "min": 0,
            "description_tooltip": null,
            "_model_module": "@jupyter-widgets/controls",
            "layout": "IPY_MODEL_669c840db9b742fab5416fe8c0249c04"
          }
        },
        "50b00a07d5d340b7a5f8d6b497166519": {
          "model_module": "@jupyter-widgets/controls",
          "model_name": "DescriptionStyleModel",
          "model_module_version": "1.5.0",
          "state": {
            "_view_name": "StyleView",
            "_model_name": "DescriptionStyleModel",
            "description_width": "",
            "_view_module": "@jupyter-widgets/base",
            "_model_module_version": "1.5.0",
            "_view_count": null,
            "_view_module_version": "1.2.0",
            "_model_module": "@jupyter-widgets/controls"
          }
        },
        "6afb2e2719fa4fb68a5d3ed022d354ce": {
          "model_module": "@jupyter-widgets/base",
          "model_name": "LayoutModel",
          "model_module_version": "1.2.0",
          "state": {
            "_view_name": "LayoutView",
            "grid_template_rows": null,
            "right": null,
            "justify_content": null,
            "_view_module": "@jupyter-widgets/base",
            "overflow": null,
            "_model_module_version": "1.2.0",
            "_view_count": null,
            "flex_flow": null,
            "width": null,
            "min_width": null,
            "border": null,
            "align_items": null,
            "bottom": null,
            "_model_module": "@jupyter-widgets/base",
            "top": null,
            "grid_column": null,
            "overflow_y": null,
            "overflow_x": null,
            "grid_auto_flow": null,
            "grid_area": null,
            "grid_template_columns": null,
            "flex": null,
            "_model_name": "LayoutModel",
            "justify_items": null,
            "grid_row": null,
            "max_height": null,
            "align_content": null,
            "visibility": null,
            "align_self": null,
            "height": null,
            "min_height": null,
            "padding": null,
            "grid_auto_rows": null,
            "grid_gap": null,
            "max_width": null,
            "order": null,
            "_view_module_version": "1.2.0",
            "grid_template_areas": null,
            "object_position": null,
            "object_fit": null,
            "grid_auto_columns": null,
            "margin": null,
            "display": null,
            "left": null
          }
        },
        "fb39bc8ded6b4172971d816f549b6ba0": {
          "model_module": "@jupyter-widgets/controls",
          "model_name": "ProgressStyleModel",
          "model_module_version": "1.5.0",
          "state": {
            "_view_name": "StyleView",
            "_model_name": "ProgressStyleModel",
            "description_width": "",
            "_view_module": "@jupyter-widgets/base",
            "_model_module_version": "1.5.0",
            "_view_count": null,
            "_view_module_version": "1.2.0",
            "bar_color": null,
            "_model_module": "@jupyter-widgets/controls"
          }
        },
        "669c840db9b742fab5416fe8c0249c04": {
          "model_module": "@jupyter-widgets/base",
          "model_name": "LayoutModel",
          "model_module_version": "1.2.0",
          "state": {
            "_view_name": "LayoutView",
            "grid_template_rows": null,
            "right": null,
            "justify_content": null,
            "_view_module": "@jupyter-widgets/base",
            "overflow": null,
            "_model_module_version": "1.2.0",
            "_view_count": null,
            "flex_flow": null,
            "width": null,
            "min_width": null,
            "border": null,
            "align_items": null,
            "bottom": null,
            "_model_module": "@jupyter-widgets/base",
            "top": null,
            "grid_column": null,
            "overflow_y": null,
            "overflow_x": null,
            "grid_auto_flow": null,
            "grid_area": null,
            "grid_template_columns": null,
            "flex": null,
            "_model_name": "LayoutModel",
            "justify_items": null,
            "grid_row": null,
            "max_height": null,
            "align_content": null,
            "visibility": null,
            "align_self": null,
            "height": null,
            "min_height": null,
            "padding": null,
            "grid_auto_rows": null,
            "grid_gap": null,
            "max_width": null,
            "order": null,
            "_view_module_version": "1.2.0",
            "grid_template_areas": null,
            "object_position": null,
            "object_fit": null,
            "grid_auto_columns": null,
            "margin": null,
            "display": null,
            "left": null
          }
        },
        "cd00538a114d4f378463f2a9d864d12f": {
          "model_module": "@jupyter-widgets/controls",
          "model_name": "VBoxModel",
          "model_module_version": "1.5.0",
          "state": {
            "_view_name": "VBoxView",
            "_dom_classes": [],
            "_model_name": "VBoxModel",
            "_view_module": "@jupyter-widgets/controls",
            "_model_module_version": "1.5.0",
            "_view_count": null,
            "_view_module_version": "1.5.0",
            "box_style": "",
            "layout": "IPY_MODEL_494c507ec6f44235bad38342bad27772",
            "_model_module": "@jupyter-widgets/controls",
            "children": [
              "IPY_MODEL_d1f42f7e2218462e96e1c9f4ec0c5415",
              "IPY_MODEL_869716b633f74413aaa4c123e6befe7f"
            ]
          }
        },
        "494c507ec6f44235bad38342bad27772": {
          "model_module": "@jupyter-widgets/base",
          "model_name": "LayoutModel",
          "model_module_version": "1.2.0",
          "state": {
            "_view_name": "LayoutView",
            "grid_template_rows": null,
            "right": null,
            "justify_content": null,
            "_view_module": "@jupyter-widgets/base",
            "overflow": null,
            "_model_module_version": "1.2.0",
            "_view_count": null,
            "flex_flow": null,
            "width": null,
            "min_width": null,
            "border": null,
            "align_items": null,
            "bottom": null,
            "_model_module": "@jupyter-widgets/base",
            "top": null,
            "grid_column": null,
            "overflow_y": null,
            "overflow_x": null,
            "grid_auto_flow": null,
            "grid_area": null,
            "grid_template_columns": null,
            "flex": null,
            "_model_name": "LayoutModel",
            "justify_items": null,
            "grid_row": null,
            "max_height": null,
            "align_content": null,
            "visibility": null,
            "align_self": null,
            "height": null,
            "min_height": null,
            "padding": null,
            "grid_auto_rows": null,
            "grid_gap": null,
            "max_width": null,
            "order": null,
            "_view_module_version": "1.2.0",
            "grid_template_areas": null,
            "object_position": null,
            "object_fit": null,
            "grid_auto_columns": null,
            "margin": null,
            "display": null,
            "left": null
          }
        },
        "d1f42f7e2218462e96e1c9f4ec0c5415": {
          "model_module": "@jupyter-widgets/controls",
          "model_name": "LabelModel",
          "model_module_version": "1.5.0",
          "state": {
            "_view_name": "LabelView",
            "style": "IPY_MODEL_b92e560f4f094ff4b26c9622bd42e655",
            "_dom_classes": [],
            "description": "",
            "_model_name": "LabelModel",
            "placeholder": "​",
            "_view_module": "@jupyter-widgets/controls",
            "_model_module_version": "1.5.0",
            "value": " 0.04MB of 0.04MB uploaded (0.00MB deduped)\r",
            "_view_count": null,
            "_view_module_version": "1.5.0",
            "description_tooltip": null,
            "_model_module": "@jupyter-widgets/controls",
            "layout": "IPY_MODEL_4408292ff733450f90d46376ef33d436"
          }
        },
        "869716b633f74413aaa4c123e6befe7f": {
          "model_module": "@jupyter-widgets/controls",
          "model_name": "FloatProgressModel",
          "model_module_version": "1.5.0",
          "state": {
            "_view_name": "ProgressView",
            "style": "IPY_MODEL_d78e029db7b04b7fb278a0881922f43c",
            "_dom_classes": [],
            "description": "",
            "_model_name": "FloatProgressModel",
            "bar_style": "",
            "max": 1,
            "_view_module": "@jupyter-widgets/controls",
            "_model_module_version": "1.5.0",
            "value": 1,
            "_view_count": null,
            "_view_module_version": "1.5.0",
            "orientation": "horizontal",
            "min": 0,
            "description_tooltip": null,
            "_model_module": "@jupyter-widgets/controls",
            "layout": "IPY_MODEL_bcfd1a67351d44138c938adfb80903f5"
          }
        },
        "b92e560f4f094ff4b26c9622bd42e655": {
          "model_module": "@jupyter-widgets/controls",
          "model_name": "DescriptionStyleModel",
          "model_module_version": "1.5.0",
          "state": {
            "_view_name": "StyleView",
            "_model_name": "DescriptionStyleModel",
            "description_width": "",
            "_view_module": "@jupyter-widgets/base",
            "_model_module_version": "1.5.0",
            "_view_count": null,
            "_view_module_version": "1.2.0",
            "_model_module": "@jupyter-widgets/controls"
          }
        },
        "4408292ff733450f90d46376ef33d436": {
          "model_module": "@jupyter-widgets/base",
          "model_name": "LayoutModel",
          "model_module_version": "1.2.0",
          "state": {
            "_view_name": "LayoutView",
            "grid_template_rows": null,
            "right": null,
            "justify_content": null,
            "_view_module": "@jupyter-widgets/base",
            "overflow": null,
            "_model_module_version": "1.2.0",
            "_view_count": null,
            "flex_flow": null,
            "width": null,
            "min_width": null,
            "border": null,
            "align_items": null,
            "bottom": null,
            "_model_module": "@jupyter-widgets/base",
            "top": null,
            "grid_column": null,
            "overflow_y": null,
            "overflow_x": null,
            "grid_auto_flow": null,
            "grid_area": null,
            "grid_template_columns": null,
            "flex": null,
            "_model_name": "LayoutModel",
            "justify_items": null,
            "grid_row": null,
            "max_height": null,
            "align_content": null,
            "visibility": null,
            "align_self": null,
            "height": null,
            "min_height": null,
            "padding": null,
            "grid_auto_rows": null,
            "grid_gap": null,
            "max_width": null,
            "order": null,
            "_view_module_version": "1.2.0",
            "grid_template_areas": null,
            "object_position": null,
            "object_fit": null,
            "grid_auto_columns": null,
            "margin": null,
            "display": null,
            "left": null
          }
        },
        "d78e029db7b04b7fb278a0881922f43c": {
          "model_module": "@jupyter-widgets/controls",
          "model_name": "ProgressStyleModel",
          "model_module_version": "1.5.0",
          "state": {
            "_view_name": "StyleView",
            "_model_name": "ProgressStyleModel",
            "description_width": "",
            "_view_module": "@jupyter-widgets/base",
            "_model_module_version": "1.5.0",
            "_view_count": null,
            "_view_module_version": "1.2.0",
            "bar_color": null,
            "_model_module": "@jupyter-widgets/controls"
          }
        },
        "bcfd1a67351d44138c938adfb80903f5": {
          "model_module": "@jupyter-widgets/base",
          "model_name": "LayoutModel",
          "model_module_version": "1.2.0",
          "state": {
            "_view_name": "LayoutView",
            "grid_template_rows": null,
            "right": null,
            "justify_content": null,
            "_view_module": "@jupyter-widgets/base",
            "overflow": null,
            "_model_module_version": "1.2.0",
            "_view_count": null,
            "flex_flow": null,
            "width": null,
            "min_width": null,
            "border": null,
            "align_items": null,
            "bottom": null,
            "_model_module": "@jupyter-widgets/base",
            "top": null,
            "grid_column": null,
            "overflow_y": null,
            "overflow_x": null,
            "grid_auto_flow": null,
            "grid_area": null,
            "grid_template_columns": null,
            "flex": null,
            "_model_name": "LayoutModel",
            "justify_items": null,
            "grid_row": null,
            "max_height": null,
            "align_content": null,
            "visibility": null,
            "align_self": null,
            "height": null,
            "min_height": null,
            "padding": null,
            "grid_auto_rows": null,
            "grid_gap": null,
            "max_width": null,
            "order": null,
            "_view_module_version": "1.2.0",
            "grid_template_areas": null,
            "object_position": null,
            "object_fit": null,
            "grid_auto_columns": null,
            "margin": null,
            "display": null,
            "left": null
          }
        },
        "60394318abce4abf9f4344d62e25a2dc": {
          "model_module": "@jupyter-widgets/controls",
          "model_name": "VBoxModel",
          "model_module_version": "1.5.0",
          "state": {
            "_view_name": "VBoxView",
            "_dom_classes": [],
            "_model_name": "VBoxModel",
            "_view_module": "@jupyter-widgets/controls",
            "_model_module_version": "1.5.0",
            "_view_count": null,
            "_view_module_version": "1.5.0",
            "box_style": "",
            "layout": "IPY_MODEL_9d6a051c259448c6ac573550f3db3721",
            "_model_module": "@jupyter-widgets/controls",
            "children": [
              "IPY_MODEL_34cf539026fd49abad0ffa594a820914",
              "IPY_MODEL_a19f2d060daa49778b967a8a85294d95"
            ]
          }
        },
        "9d6a051c259448c6ac573550f3db3721": {
          "model_module": "@jupyter-widgets/base",
          "model_name": "LayoutModel",
          "model_module_version": "1.2.0",
          "state": {
            "_view_name": "LayoutView",
            "grid_template_rows": null,
            "right": null,
            "justify_content": null,
            "_view_module": "@jupyter-widgets/base",
            "overflow": null,
            "_model_module_version": "1.2.0",
            "_view_count": null,
            "flex_flow": null,
            "width": null,
            "min_width": null,
            "border": null,
            "align_items": null,
            "bottom": null,
            "_model_module": "@jupyter-widgets/base",
            "top": null,
            "grid_column": null,
            "overflow_y": null,
            "overflow_x": null,
            "grid_auto_flow": null,
            "grid_area": null,
            "grid_template_columns": null,
            "flex": null,
            "_model_name": "LayoutModel",
            "justify_items": null,
            "grid_row": null,
            "max_height": null,
            "align_content": null,
            "visibility": null,
            "align_self": null,
            "height": null,
            "min_height": null,
            "padding": null,
            "grid_auto_rows": null,
            "grid_gap": null,
            "max_width": null,
            "order": null,
            "_view_module_version": "1.2.0",
            "grid_template_areas": null,
            "object_position": null,
            "object_fit": null,
            "grid_auto_columns": null,
            "margin": null,
            "display": null,
            "left": null
          }
        },
        "34cf539026fd49abad0ffa594a820914": {
          "model_module": "@jupyter-widgets/controls",
          "model_name": "LabelModel",
          "model_module_version": "1.5.0",
          "state": {
            "_view_name": "LabelView",
            "style": "IPY_MODEL_36d6a19e42e44b1996d8d955717c783e",
            "_dom_classes": [],
            "description": "",
            "_model_name": "LabelModel",
            "placeholder": "​",
            "_view_module": "@jupyter-widgets/controls",
            "_model_module_version": "1.5.0",
            "value": " 0.05MB of 0.05MB uploaded (0.00MB deduped)\r",
            "_view_count": null,
            "_view_module_version": "1.5.0",
            "description_tooltip": null,
            "_model_module": "@jupyter-widgets/controls",
            "layout": "IPY_MODEL_c8d444f6387f4821991ed289c905b52b"
          }
        },
        "a19f2d060daa49778b967a8a85294d95": {
          "model_module": "@jupyter-widgets/controls",
          "model_name": "FloatProgressModel",
          "model_module_version": "1.5.0",
          "state": {
            "_view_name": "ProgressView",
            "style": "IPY_MODEL_ad22236934054c729945465f8505ed74",
            "_dom_classes": [],
            "description": "",
            "_model_name": "FloatProgressModel",
            "bar_style": "",
            "max": 1,
            "_view_module": "@jupyter-widgets/controls",
            "_model_module_version": "1.5.0",
            "value": 1,
            "_view_count": null,
            "_view_module_version": "1.5.0",
            "orientation": "horizontal",
            "min": 0,
            "description_tooltip": null,
            "_model_module": "@jupyter-widgets/controls",
            "layout": "IPY_MODEL_e6af420db9784f26827aa7fa04ef6518"
          }
        },
        "36d6a19e42e44b1996d8d955717c783e": {
          "model_module": "@jupyter-widgets/controls",
          "model_name": "DescriptionStyleModel",
          "model_module_version": "1.5.0",
          "state": {
            "_view_name": "StyleView",
            "_model_name": "DescriptionStyleModel",
            "description_width": "",
            "_view_module": "@jupyter-widgets/base",
            "_model_module_version": "1.5.0",
            "_view_count": null,
            "_view_module_version": "1.2.0",
            "_model_module": "@jupyter-widgets/controls"
          }
        },
        "c8d444f6387f4821991ed289c905b52b": {
          "model_module": "@jupyter-widgets/base",
          "model_name": "LayoutModel",
          "model_module_version": "1.2.0",
          "state": {
            "_view_name": "LayoutView",
            "grid_template_rows": null,
            "right": null,
            "justify_content": null,
            "_view_module": "@jupyter-widgets/base",
            "overflow": null,
            "_model_module_version": "1.2.0",
            "_view_count": null,
            "flex_flow": null,
            "width": null,
            "min_width": null,
            "border": null,
            "align_items": null,
            "bottom": null,
            "_model_module": "@jupyter-widgets/base",
            "top": null,
            "grid_column": null,
            "overflow_y": null,
            "overflow_x": null,
            "grid_auto_flow": null,
            "grid_area": null,
            "grid_template_columns": null,
            "flex": null,
            "_model_name": "LayoutModel",
            "justify_items": null,
            "grid_row": null,
            "max_height": null,
            "align_content": null,
            "visibility": null,
            "align_self": null,
            "height": null,
            "min_height": null,
            "padding": null,
            "grid_auto_rows": null,
            "grid_gap": null,
            "max_width": null,
            "order": null,
            "_view_module_version": "1.2.0",
            "grid_template_areas": null,
            "object_position": null,
            "object_fit": null,
            "grid_auto_columns": null,
            "margin": null,
            "display": null,
            "left": null
          }
        },
        "ad22236934054c729945465f8505ed74": {
          "model_module": "@jupyter-widgets/controls",
          "model_name": "ProgressStyleModel",
          "model_module_version": "1.5.0",
          "state": {
            "_view_name": "StyleView",
            "_model_name": "ProgressStyleModel",
            "description_width": "",
            "_view_module": "@jupyter-widgets/base",
            "_model_module_version": "1.5.0",
            "_view_count": null,
            "_view_module_version": "1.2.0",
            "bar_color": null,
            "_model_module": "@jupyter-widgets/controls"
          }
        },
        "e6af420db9784f26827aa7fa04ef6518": {
          "model_module": "@jupyter-widgets/base",
          "model_name": "LayoutModel",
          "model_module_version": "1.2.0",
          "state": {
            "_view_name": "LayoutView",
            "grid_template_rows": null,
            "right": null,
            "justify_content": null,
            "_view_module": "@jupyter-widgets/base",
            "overflow": null,
            "_model_module_version": "1.2.0",
            "_view_count": null,
            "flex_flow": null,
            "width": null,
            "min_width": null,
            "border": null,
            "align_items": null,
            "bottom": null,
            "_model_module": "@jupyter-widgets/base",
            "top": null,
            "grid_column": null,
            "overflow_y": null,
            "overflow_x": null,
            "grid_auto_flow": null,
            "grid_area": null,
            "grid_template_columns": null,
            "flex": null,
            "_model_name": "LayoutModel",
            "justify_items": null,
            "grid_row": null,
            "max_height": null,
            "align_content": null,
            "visibility": null,
            "align_self": null,
            "height": null,
            "min_height": null,
            "padding": null,
            "grid_auto_rows": null,
            "grid_gap": null,
            "max_width": null,
            "order": null,
            "_view_module_version": "1.2.0",
            "grid_template_areas": null,
            "object_position": null,
            "object_fit": null,
            "grid_auto_columns": null,
            "margin": null,
            "display": null,
            "left": null
          }
        },
        "1b4919f68db54ba1a7d2ef30ddcd978f": {
          "model_module": "@jupyter-widgets/controls",
          "model_name": "VBoxModel",
          "model_module_version": "1.5.0",
          "state": {
            "_view_name": "VBoxView",
            "_dom_classes": [],
            "_model_name": "VBoxModel",
            "_view_module": "@jupyter-widgets/controls",
            "_model_module_version": "1.5.0",
            "_view_count": null,
            "_view_module_version": "1.5.0",
            "box_style": "",
            "layout": "IPY_MODEL_4b090fd44e0347398a28762991ba44be",
            "_model_module": "@jupyter-widgets/controls",
            "children": [
              "IPY_MODEL_9fb39da968454d6c959b5331a648ba85",
              "IPY_MODEL_864415358c3f4c409e8372908954ddac"
            ]
          }
        },
        "4b090fd44e0347398a28762991ba44be": {
          "model_module": "@jupyter-widgets/base",
          "model_name": "LayoutModel",
          "model_module_version": "1.2.0",
          "state": {
            "_view_name": "LayoutView",
            "grid_template_rows": null,
            "right": null,
            "justify_content": null,
            "_view_module": "@jupyter-widgets/base",
            "overflow": null,
            "_model_module_version": "1.2.0",
            "_view_count": null,
            "flex_flow": null,
            "width": null,
            "min_width": null,
            "border": null,
            "align_items": null,
            "bottom": null,
            "_model_module": "@jupyter-widgets/base",
            "top": null,
            "grid_column": null,
            "overflow_y": null,
            "overflow_x": null,
            "grid_auto_flow": null,
            "grid_area": null,
            "grid_template_columns": null,
            "flex": null,
            "_model_name": "LayoutModel",
            "justify_items": null,
            "grid_row": null,
            "max_height": null,
            "align_content": null,
            "visibility": null,
            "align_self": null,
            "height": null,
            "min_height": null,
            "padding": null,
            "grid_auto_rows": null,
            "grid_gap": null,
            "max_width": null,
            "order": null,
            "_view_module_version": "1.2.0",
            "grid_template_areas": null,
            "object_position": null,
            "object_fit": null,
            "grid_auto_columns": null,
            "margin": null,
            "display": null,
            "left": null
          }
        },
        "9fb39da968454d6c959b5331a648ba85": {
          "model_module": "@jupyter-widgets/controls",
          "model_name": "LabelModel",
          "model_module_version": "1.5.0",
          "state": {
            "_view_name": "LabelView",
            "style": "IPY_MODEL_ffb8a5b363d1459d8b812004b3848baa",
            "_dom_classes": [],
            "description": "",
            "_model_name": "LabelModel",
            "placeholder": "​",
            "_view_module": "@jupyter-widgets/controls",
            "_model_module_version": "1.5.0",
            "value": " 0.01MB of 0.01MB uploaded (0.00MB deduped)\r",
            "_view_count": null,
            "_view_module_version": "1.5.0",
            "description_tooltip": null,
            "_model_module": "@jupyter-widgets/controls",
            "layout": "IPY_MODEL_aba06953ea2e481abe65e65f5b1492bf"
          }
        },
        "864415358c3f4c409e8372908954ddac": {
          "model_module": "@jupyter-widgets/controls",
          "model_name": "FloatProgressModel",
          "model_module_version": "1.5.0",
          "state": {
            "_view_name": "ProgressView",
            "style": "IPY_MODEL_65bfcbb610f64c1eb09f0c367e5173be",
            "_dom_classes": [],
            "description": "",
            "_model_name": "FloatProgressModel",
            "bar_style": "",
            "max": 1,
            "_view_module": "@jupyter-widgets/controls",
            "_model_module_version": "1.5.0",
            "value": 1,
            "_view_count": null,
            "_view_module_version": "1.5.0",
            "orientation": "horizontal",
            "min": 0,
            "description_tooltip": null,
            "_model_module": "@jupyter-widgets/controls",
            "layout": "IPY_MODEL_bf9269ee90844f22995991dd163b87dd"
          }
        },
        "ffb8a5b363d1459d8b812004b3848baa": {
          "model_module": "@jupyter-widgets/controls",
          "model_name": "DescriptionStyleModel",
          "model_module_version": "1.5.0",
          "state": {
            "_view_name": "StyleView",
            "_model_name": "DescriptionStyleModel",
            "description_width": "",
            "_view_module": "@jupyter-widgets/base",
            "_model_module_version": "1.5.0",
            "_view_count": null,
            "_view_module_version": "1.2.0",
            "_model_module": "@jupyter-widgets/controls"
          }
        },
        "aba06953ea2e481abe65e65f5b1492bf": {
          "model_module": "@jupyter-widgets/base",
          "model_name": "LayoutModel",
          "model_module_version": "1.2.0",
          "state": {
            "_view_name": "LayoutView",
            "grid_template_rows": null,
            "right": null,
            "justify_content": null,
            "_view_module": "@jupyter-widgets/base",
            "overflow": null,
            "_model_module_version": "1.2.0",
            "_view_count": null,
            "flex_flow": null,
            "width": null,
            "min_width": null,
            "border": null,
            "align_items": null,
            "bottom": null,
            "_model_module": "@jupyter-widgets/base",
            "top": null,
            "grid_column": null,
            "overflow_y": null,
            "overflow_x": null,
            "grid_auto_flow": null,
            "grid_area": null,
            "grid_template_columns": null,
            "flex": null,
            "_model_name": "LayoutModel",
            "justify_items": null,
            "grid_row": null,
            "max_height": null,
            "align_content": null,
            "visibility": null,
            "align_self": null,
            "height": null,
            "min_height": null,
            "padding": null,
            "grid_auto_rows": null,
            "grid_gap": null,
            "max_width": null,
            "order": null,
            "_view_module_version": "1.2.0",
            "grid_template_areas": null,
            "object_position": null,
            "object_fit": null,
            "grid_auto_columns": null,
            "margin": null,
            "display": null,
            "left": null
          }
        },
        "65bfcbb610f64c1eb09f0c367e5173be": {
          "model_module": "@jupyter-widgets/controls",
          "model_name": "ProgressStyleModel",
          "model_module_version": "1.5.0",
          "state": {
            "_view_name": "StyleView",
            "_model_name": "ProgressStyleModel",
            "description_width": "",
            "_view_module": "@jupyter-widgets/base",
            "_model_module_version": "1.5.0",
            "_view_count": null,
            "_view_module_version": "1.2.0",
            "bar_color": null,
            "_model_module": "@jupyter-widgets/controls"
          }
        },
        "bf9269ee90844f22995991dd163b87dd": {
          "model_module": "@jupyter-widgets/base",
          "model_name": "LayoutModel",
          "model_module_version": "1.2.0",
          "state": {
            "_view_name": "LayoutView",
            "grid_template_rows": null,
            "right": null,
            "justify_content": null,
            "_view_module": "@jupyter-widgets/base",
            "overflow": null,
            "_model_module_version": "1.2.0",
            "_view_count": null,
            "flex_flow": null,
            "width": null,
            "min_width": null,
            "border": null,
            "align_items": null,
            "bottom": null,
            "_model_module": "@jupyter-widgets/base",
            "top": null,
            "grid_column": null,
            "overflow_y": null,
            "overflow_x": null,
            "grid_auto_flow": null,
            "grid_area": null,
            "grid_template_columns": null,
            "flex": null,
            "_model_name": "LayoutModel",
            "justify_items": null,
            "grid_row": null,
            "max_height": null,
            "align_content": null,
            "visibility": null,
            "align_self": null,
            "height": null,
            "min_height": null,
            "padding": null,
            "grid_auto_rows": null,
            "grid_gap": null,
            "max_width": null,
            "order": null,
            "_view_module_version": "1.2.0",
            "grid_template_areas": null,
            "object_position": null,
            "object_fit": null,
            "grid_auto_columns": null,
            "margin": null,
            "display": null,
            "left": null
          }
        },
        "271767c272a04751bdb90ef2842f307f": {
          "model_module": "@jupyter-widgets/controls",
          "model_name": "VBoxModel",
          "model_module_version": "1.5.0",
          "state": {
            "_view_name": "VBoxView",
            "_dom_classes": [],
            "_model_name": "VBoxModel",
            "_view_module": "@jupyter-widgets/controls",
            "_model_module_version": "1.5.0",
            "_view_count": null,
            "_view_module_version": "1.5.0",
            "box_style": "",
            "layout": "IPY_MODEL_00af6fa0bff049189c1db63b06f93ceb",
            "_model_module": "@jupyter-widgets/controls",
            "children": [
              "IPY_MODEL_7fe149183ff64026a94e4d7019086faf",
              "IPY_MODEL_52e8d4782c0c4a75ad60af660e6d1b7d"
            ]
          }
        },
        "00af6fa0bff049189c1db63b06f93ceb": {
          "model_module": "@jupyter-widgets/base",
          "model_name": "LayoutModel",
          "model_module_version": "1.2.0",
          "state": {
            "_view_name": "LayoutView",
            "grid_template_rows": null,
            "right": null,
            "justify_content": null,
            "_view_module": "@jupyter-widgets/base",
            "overflow": null,
            "_model_module_version": "1.2.0",
            "_view_count": null,
            "flex_flow": null,
            "width": null,
            "min_width": null,
            "border": null,
            "align_items": null,
            "bottom": null,
            "_model_module": "@jupyter-widgets/base",
            "top": null,
            "grid_column": null,
            "overflow_y": null,
            "overflow_x": null,
            "grid_auto_flow": null,
            "grid_area": null,
            "grid_template_columns": null,
            "flex": null,
            "_model_name": "LayoutModel",
            "justify_items": null,
            "grid_row": null,
            "max_height": null,
            "align_content": null,
            "visibility": null,
            "align_self": null,
            "height": null,
            "min_height": null,
            "padding": null,
            "grid_auto_rows": null,
            "grid_gap": null,
            "max_width": null,
            "order": null,
            "_view_module_version": "1.2.0",
            "grid_template_areas": null,
            "object_position": null,
            "object_fit": null,
            "grid_auto_columns": null,
            "margin": null,
            "display": null,
            "left": null
          }
        },
        "7fe149183ff64026a94e4d7019086faf": {
          "model_module": "@jupyter-widgets/controls",
          "model_name": "LabelModel",
          "model_module_version": "1.5.0",
          "state": {
            "_view_name": "LabelView",
            "style": "IPY_MODEL_27bfa587274c4a8dad18d7092c63511b",
            "_dom_classes": [],
            "description": "",
            "_model_name": "LabelModel",
            "placeholder": "​",
            "_view_module": "@jupyter-widgets/controls",
            "_model_module_version": "1.5.0",
            "value": " 0.01MB of 0.01MB uploaded (0.00MB deduped)\r",
            "_view_count": null,
            "_view_module_version": "1.5.0",
            "description_tooltip": null,
            "_model_module": "@jupyter-widgets/controls",
            "layout": "IPY_MODEL_fd02dae2c0034045943f015120b013e7"
          }
        },
        "52e8d4782c0c4a75ad60af660e6d1b7d": {
          "model_module": "@jupyter-widgets/controls",
          "model_name": "FloatProgressModel",
          "model_module_version": "1.5.0",
          "state": {
            "_view_name": "ProgressView",
            "style": "IPY_MODEL_10fb5d7588d64149b9f046ce3b0b7d9d",
            "_dom_classes": [],
            "description": "",
            "_model_name": "FloatProgressModel",
            "bar_style": "",
            "max": 1,
            "_view_module": "@jupyter-widgets/controls",
            "_model_module_version": "1.5.0",
            "value": 1,
            "_view_count": null,
            "_view_module_version": "1.5.0",
            "orientation": "horizontal",
            "min": 0,
            "description_tooltip": null,
            "_model_module": "@jupyter-widgets/controls",
            "layout": "IPY_MODEL_7da78fe5532840029a7ef6436b4efb8a"
          }
        },
        "27bfa587274c4a8dad18d7092c63511b": {
          "model_module": "@jupyter-widgets/controls",
          "model_name": "DescriptionStyleModel",
          "model_module_version": "1.5.0",
          "state": {
            "_view_name": "StyleView",
            "_model_name": "DescriptionStyleModel",
            "description_width": "",
            "_view_module": "@jupyter-widgets/base",
            "_model_module_version": "1.5.0",
            "_view_count": null,
            "_view_module_version": "1.2.0",
            "_model_module": "@jupyter-widgets/controls"
          }
        },
        "fd02dae2c0034045943f015120b013e7": {
          "model_module": "@jupyter-widgets/base",
          "model_name": "LayoutModel",
          "model_module_version": "1.2.0",
          "state": {
            "_view_name": "LayoutView",
            "grid_template_rows": null,
            "right": null,
            "justify_content": null,
            "_view_module": "@jupyter-widgets/base",
            "overflow": null,
            "_model_module_version": "1.2.0",
            "_view_count": null,
            "flex_flow": null,
            "width": null,
            "min_width": null,
            "border": null,
            "align_items": null,
            "bottom": null,
            "_model_module": "@jupyter-widgets/base",
            "top": null,
            "grid_column": null,
            "overflow_y": null,
            "overflow_x": null,
            "grid_auto_flow": null,
            "grid_area": null,
            "grid_template_columns": null,
            "flex": null,
            "_model_name": "LayoutModel",
            "justify_items": null,
            "grid_row": null,
            "max_height": null,
            "align_content": null,
            "visibility": null,
            "align_self": null,
            "height": null,
            "min_height": null,
            "padding": null,
            "grid_auto_rows": null,
            "grid_gap": null,
            "max_width": null,
            "order": null,
            "_view_module_version": "1.2.0",
            "grid_template_areas": null,
            "object_position": null,
            "object_fit": null,
            "grid_auto_columns": null,
            "margin": null,
            "display": null,
            "left": null
          }
        },
        "10fb5d7588d64149b9f046ce3b0b7d9d": {
          "model_module": "@jupyter-widgets/controls",
          "model_name": "ProgressStyleModel",
          "model_module_version": "1.5.0",
          "state": {
            "_view_name": "StyleView",
            "_model_name": "ProgressStyleModel",
            "description_width": "",
            "_view_module": "@jupyter-widgets/base",
            "_model_module_version": "1.5.0",
            "_view_count": null,
            "_view_module_version": "1.2.0",
            "bar_color": null,
            "_model_module": "@jupyter-widgets/controls"
          }
        },
        "7da78fe5532840029a7ef6436b4efb8a": {
          "model_module": "@jupyter-widgets/base",
          "model_name": "LayoutModel",
          "model_module_version": "1.2.0",
          "state": {
            "_view_name": "LayoutView",
            "grid_template_rows": null,
            "right": null,
            "justify_content": null,
            "_view_module": "@jupyter-widgets/base",
            "overflow": null,
            "_model_module_version": "1.2.0",
            "_view_count": null,
            "flex_flow": null,
            "width": null,
            "min_width": null,
            "border": null,
            "align_items": null,
            "bottom": null,
            "_model_module": "@jupyter-widgets/base",
            "top": null,
            "grid_column": null,
            "overflow_y": null,
            "overflow_x": null,
            "grid_auto_flow": null,
            "grid_area": null,
            "grid_template_columns": null,
            "flex": null,
            "_model_name": "LayoutModel",
            "justify_items": null,
            "grid_row": null,
            "max_height": null,
            "align_content": null,
            "visibility": null,
            "align_self": null,
            "height": null,
            "min_height": null,
            "padding": null,
            "grid_auto_rows": null,
            "grid_gap": null,
            "max_width": null,
            "order": null,
            "_view_module_version": "1.2.0",
            "grid_template_areas": null,
            "object_position": null,
            "object_fit": null,
            "grid_auto_columns": null,
            "margin": null,
            "display": null,
            "left": null
          }
        }
      }
    }
  },
  "cells": [
    {
      "cell_type": "markdown",
      "metadata": {
        "id": "bn2AsN_8OF9C"
      },
      "source": [
        "<img src=\"https://wandb.me/logo-im-png\" width=\"400\" alt=\"Weights & Biases\" />\n",
        "<!--- @wandbcode{beans-XXX} -->\n",
        "\n",
        "Use Weights & Biases for machine learning experiment tracking, dataset versioning, and project collaboration.\n",
        "\n",
        "\n",
        "<img src=\"https://wandb.me/mini-diagram\" width=\"650\" alt=\"Weights & Biases\" />\n",
        "\n",
        "\n",
        "## What this notebook covers with Weights and Biases:\n",
        "* Metrics logging \n",
        "* Exploratory Data Analysis (EDA)\n",
        "* W&B plots such as Confusion Matrices, ROC curves & PR curves\n",
        "* HyperParameter search with W&B Sweeps\n",
        "\n"
      ]
    },
    {
      "cell_type": "markdown",
      "metadata": {
        "id": "mNu4MLLEWoGm"
      },
      "source": [
        "# ✅ Sign Up\n",
        "\n",
        "Sign up to a free [Weights & Biases account here](https://wandb.ai/signup)"
      ]
    },
    {
      "cell_type": "markdown",
      "metadata": {
        "id": "R_vAHpRh9hi2"
      },
      "source": [
        "# Kaggle Competition Page\n",
        "\n",
        "[Submit to the Competition here](https://www.kaggle.com/t/87d1cc8a1e1d423caa627baecba62365)"
      ]
    },
    {
      "cell_type": "markdown",
      "metadata": {
        "id": "GFmx5yiSHodB"
      },
      "source": [
        "# 🚀 Installing and importing"
      ]
    },
    {
      "cell_type": "code",
      "execution_count": null,
      "metadata": {
        "id": "32x5NdqZE2e1",
        "colab": {
          "base_uri": "https://localhost:8080/"
        },
        "outputId": "161464a0-62e5-4ae2-dfdc-76c1c25efcb6"
      },
      "outputs": [
        {
          "output_type": "stream",
          "name": "stdout",
          "text": [
            "\u001b[K     |████████████████████████████████| 1.7 MB 4.4 MB/s \n",
            "\u001b[K     |████████████████████████████████| 144 kB 45.1 MB/s \n",
            "\u001b[K     |████████████████████████████████| 181 kB 35.6 MB/s \n",
            "\u001b[K     |████████████████████████████████| 63 kB 1.6 MB/s \n",
            "\u001b[?25h  Building wheel for pathtools (setup.py) ... \u001b[?25l\u001b[?25hdone\n",
            "\u001b[K     |████████████████████████████████| 23.2 MB 2.4 MB/s \n",
            "\u001b[?25h"
          ]
        }
      ],
      "source": [
        "!pip install -q --upgrade wandb\n",
        "!pip install -q scikit-learn==1.0.1"
      ]
    },
    {
      "cell_type": "code",
      "source": [
        "!pip install catboost"
      ],
      "metadata": {
        "colab": {
          "base_uri": "https://localhost:8080/"
        },
        "id": "jkNrgMNp8wZe",
        "outputId": "d280f4d9-7278-452a-fb4e-c75a4e693174"
      },
      "execution_count": null,
      "outputs": [
        {
          "output_type": "stream",
          "name": "stdout",
          "text": [
            "Collecting catboost\n",
            "  Downloading catboost-1.0.4-cp37-none-manylinux1_x86_64.whl (76.1 MB)\n",
            "\u001b[K     |████████████████████████████████| 76.1 MB 61 kB/s \n",
            "\u001b[?25hRequirement already satisfied: numpy>=1.16.0 in /usr/local/lib/python3.7/dist-packages (from catboost) (1.21.5)\n",
            "Requirement already satisfied: six in /usr/local/lib/python3.7/dist-packages (from catboost) (1.15.0)\n",
            "Requirement already satisfied: graphviz in /usr/local/lib/python3.7/dist-packages (from catboost) (0.10.1)\n",
            "Requirement already satisfied: plotly in /usr/local/lib/python3.7/dist-packages (from catboost) (5.5.0)\n",
            "Requirement already satisfied: pandas>=0.24.0 in /usr/local/lib/python3.7/dist-packages (from catboost) (1.3.5)\n",
            "Requirement already satisfied: scipy in /usr/local/lib/python3.7/dist-packages (from catboost) (1.4.1)\n",
            "Requirement already satisfied: matplotlib in /usr/local/lib/python3.7/dist-packages (from catboost) (3.2.2)\n",
            "Requirement already satisfied: python-dateutil>=2.7.3 in /usr/local/lib/python3.7/dist-packages (from pandas>=0.24.0->catboost) (2.8.2)\n",
            "Requirement already satisfied: pytz>=2017.3 in /usr/local/lib/python3.7/dist-packages (from pandas>=0.24.0->catboost) (2018.9)\n",
            "Requirement already satisfied: pyparsing!=2.0.4,!=2.1.2,!=2.1.6,>=2.0.1 in /usr/local/lib/python3.7/dist-packages (from matplotlib->catboost) (3.0.7)\n",
            "Requirement already satisfied: kiwisolver>=1.0.1 in /usr/local/lib/python3.7/dist-packages (from matplotlib->catboost) (1.3.2)\n",
            "Requirement already satisfied: cycler>=0.10 in /usr/local/lib/python3.7/dist-packages (from matplotlib->catboost) (0.11.0)\n",
            "Requirement already satisfied: tenacity>=6.2.0 in /usr/local/lib/python3.7/dist-packages (from plotly->catboost) (8.0.1)\n",
            "Installing collected packages: catboost\n",
            "Successfully installed catboost-1.0.4\n"
          ]
        }
      ]
    },
    {
      "cell_type": "code",
      "execution_count": null,
      "metadata": {
        "id": "PQV_RY7nauWI"
      },
      "outputs": [],
      "source": [
        "import os\n",
        "import wandb\n",
        "import pandas as pd\n",
        "import numpy as np\n",
        "from sklearn import preprocessing\n",
        "from sklearn.ensemble import RandomForestClassifier\n",
        "from sklearn.metrics import accuracy_score, precision_score, recall_score, f1_score"
      ]
    },
    {
      "cell_type": "markdown",
      "metadata": {
        "id": "19z3oXf7t6Ng"
      },
      "source": [
        "A useful logging function to log multiple metrics to W&B at once"
      ]
    },
    {
      "cell_type": "code",
      "execution_count": null,
      "metadata": {
        "id": "kwReo5oqkqbh"
      },
      "outputs": [],
      "source": [
        "def log_metrics(labels, preds, is_val=True):\n",
        "  if is_val: pref = 'validation'\n",
        "  else: pref = 'train'\n",
        "  \n",
        "  metrics = {}\n",
        "  metrics[f\"{pref}/accuracy_score\"] = accuracy_score(y_val, y_pred)\n",
        "  metrics[f\"{pref}/precision\"] = precision_score(y_val, y_pred, average=\"weighted\")\n",
        "  metrics[f\"{pref}/recall\"] = recall_score(y_val, y_pred, average=\"weighted\")\n",
        "  metrics[f\"{pref}/f1_score\"] = f1_score(y_val, y_pred, average=\"weighted\")\n",
        "\n",
        "  for k in metrics.keys():\n",
        "    print(f'{k} : {metrics[k]}')\n",
        "    wandb.summary[f\"{k}\"] = metrics[k]\n",
        "\n",
        "  #wandb.log(metrics)"
      ]
    },
    {
      "cell_type": "markdown",
      "metadata": {
        "id": "UK-8urUht2VY"
      },
      "source": [
        "Set some constants "
      ]
    },
    {
      "cell_type": "code",
      "execution_count": null,
      "metadata": {
        "id": "ECCOZJy_Lx5O"
      },
      "outputs": [],
      "source": [
        "PROJECT = 'beans-tabular-IIT-G'\n",
        "DATA_DIR = '/content/drive/MyDrive/W&B'\n",
        "ARTIFACT_PATH = 'wandb_fc/beans-tabular-pydata-tunisia/beans_competition_dataset:latest'"
      ]
    },
    {
      "cell_type": "markdown",
      "metadata": {
        "id": "iHlJ_rz_Izr7"
      },
      "source": [
        "# 💾 Data\n",
        "#### Download and Load the Data\n",
        "`train.csv` and `val.csv` data will be downloaded to `DATA_DIR`\n"
      ]
    },
    {
      "cell_type": "code",
      "execution_count": null,
      "metadata": {
        "id": "kxu2Zl3wHpcU",
        "colab": {
          "base_uri": "https://localhost:8080/",
          "height": 159,
          "referenced_widgets": [
            "d6cf0fc23ab54cdda1f675cce5d47467",
            "0725e691d06a427d8a4be7953dd6fd08",
            "5be0fb502aab4f18b1328ba58504953d",
            "96ba7584aeef4c15880c370e08833c1f",
            "3d38fc6b6e334afa8281f99dbffc384c",
            "6a390554b6304953b899dcc70ecc6ac2",
            "e9d7541099d7438e9e77cdd0233e5349",
            "731dac7638124f898d2938c605e0d498"
          ]
        },
        "outputId": "dfc66178-9ad0-429f-d3d3-6727b4edb306"
      },
      "outputs": [
        {
          "output_type": "stream",
          "name": "stderr",
          "text": [
            "\u001b[34m\u001b[1mwandb\u001b[0m: Currently logged in as: \u001b[33matufa\u001b[0m (use `wandb login --relogin` to force relogin)\n"
          ]
        },
        {
          "output_type": "display_data",
          "data": {
            "text/html": [
              "\n",
              "                    Syncing run <strong><a href=\"https://wandb.ai/atufa/beans-tabular-IIT-G/runs/280gdb7h\" target=\"_blank\">crisp-snow-2</a></strong> to <a href=\"https://wandb.ai/atufa/beans-tabular-IIT-G\" target=\"_blank\">Weights & Biases</a> (<a href=\"https://docs.wandb.com/integrations/jupyter.html\" target=\"_blank\">docs</a>).<br/>\n",
              "\n",
              "                "
            ],
            "text/plain": [
              "<IPython.core.display.HTML object>"
            ]
          },
          "metadata": {}
        },
        {
          "output_type": "display_data",
          "data": {
            "text/html": [
              "<br/>Waiting for W&B process to finish, PID 456... <strong style=\"color:green\">(success).</strong>"
            ],
            "text/plain": [
              "<IPython.core.display.HTML object>"
            ]
          },
          "metadata": {}
        },
        {
          "output_type": "display_data",
          "data": {
            "application/vnd.jupyter.widget-view+json": {
              "model_id": "d6cf0fc23ab54cdda1f675cce5d47467",
              "version_minor": 0,
              "version_major": 2
            },
            "text/plain": [
              "VBox(children=(Label(value=' 0.00MB of 0.00MB uploaded (0.00MB deduped)\\r'), FloatProgress(value=1.0, max=1.0)…"
            ]
          },
          "metadata": {}
        },
        {
          "output_type": "display_data",
          "data": {
            "text/html": [
              "<style>\n",
              "    table.wandb td:nth-child(1) { padding: 0 10px; text-align: right }\n",
              "    .wandb-row { display: flex; flex-direction: row; flex-wrap: wrap; width: 100% }\n",
              "    .wandb-col { display: flex; flex-direction: column; flex-basis: 100%; flex: 1; padding: 10px; }\n",
              "    </style>\n",
              "<div class=\"wandb-row\"><div class=\"wandb-col\">\n",
              "</div><div class=\"wandb-col\">\n",
              "</div></div>\n",
              "Synced 4 W&B file(s), 0 media file(s), 0 artifact file(s) and 0 other file(s)\n",
              "<br/>Synced <strong style=\"color:#cdcd00\">crisp-snow-2</strong>: <a href=\"https://wandb.ai/atufa/beans-tabular-IIT-G/runs/280gdb7h\" target=\"_blank\">https://wandb.ai/atufa/beans-tabular-IIT-G/runs/280gdb7h</a><br/>\n",
              "Find logs at: <code>./wandb/run-20220221_191125-280gdb7h/logs</code><br/>\n"
            ],
            "text/plain": [
              "<IPython.core.display.HTML object>"
            ]
          },
          "metadata": {}
        }
      ],
      "source": [
        "wandb.init(project=PROJECT, job_type='download_dataset')\n",
        "artifact = wandb.use_artifact(ARTIFACT_PATH, type='dataset')\n",
        "artifact_dir = artifact.download(DATA_DIR)\n",
        "wandb.finish()"
      ]
    },
    {
      "cell_type": "code",
      "execution_count": null,
      "metadata": {
        "id": "baxhbeeeJOM1",
        "colab": {
          "base_uri": "https://localhost:8080/",
          "height": 270
        },
        "outputId": "ab2fef9a-cd2d-4cb0-c32b-bee26397ea5d"
      },
      "outputs": [
        {
          "output_type": "execute_result",
          "data": {
            "text/html": [
              "\n",
              "  <div id=\"df-9646f785-6ec9-49b9-b1b2-fe8006a3126f\">\n",
              "    <div class=\"colab-df-container\">\n",
              "      <div>\n",
              "<style scoped>\n",
              "    .dataframe tbody tr th:only-of-type {\n",
              "        vertical-align: middle;\n",
              "    }\n",
              "\n",
              "    .dataframe tbody tr th {\n",
              "        vertical-align: top;\n",
              "    }\n",
              "\n",
              "    .dataframe thead th {\n",
              "        text-align: right;\n",
              "    }\n",
              "</style>\n",
              "<table border=\"1\" class=\"dataframe\">\n",
              "  <thead>\n",
              "    <tr style=\"text-align: right;\">\n",
              "      <th></th>\n",
              "      <th>Area</th>\n",
              "      <th>Perimeter</th>\n",
              "      <th>MajorAxisLength</th>\n",
              "      <th>MinorAxisLength</th>\n",
              "      <th>AspectRation</th>\n",
              "      <th>Eccentricity</th>\n",
              "      <th>ConvexArea</th>\n",
              "      <th>EquivDiameter</th>\n",
              "      <th>Extent</th>\n",
              "      <th>Solidity</th>\n",
              "      <th>roundness</th>\n",
              "      <th>Compactness</th>\n",
              "      <th>ShapeFactor1</th>\n",
              "      <th>ShapeFactor2</th>\n",
              "      <th>ShapeFactor3</th>\n",
              "      <th>ShapeFactor4</th>\n",
              "      <th>Class</th>\n",
              "      <th>id</th>\n",
              "    </tr>\n",
              "  </thead>\n",
              "  <tbody>\n",
              "    <tr>\n",
              "      <th>0</th>\n",
              "      <td>44738</td>\n",
              "      <td>810.865</td>\n",
              "      <td>324.986219</td>\n",
              "      <td>175.677420</td>\n",
              "      <td>1.849903</td>\n",
              "      <td>0.841300</td>\n",
              "      <td>45116</td>\n",
              "      <td>238.667532</td>\n",
              "      <td>0.800981</td>\n",
              "      <td>0.991622</td>\n",
              "      <td>0.855046</td>\n",
              "      <td>0.734393</td>\n",
              "      <td>0.007264</td>\n",
              "      <td>0.001303</td>\n",
              "      <td>0.539333</td>\n",
              "      <td>0.997713</td>\n",
              "      <td>HOROZ</td>\n",
              "      <td>5537</td>\n",
              "    </tr>\n",
              "    <tr>\n",
              "      <th>1</th>\n",
              "      <td>-41818</td>\n",
              "      <td>780.604</td>\n",
              "      <td>307.299549</td>\n",
              "      <td>174.250451</td>\n",
              "      <td>1.763551</td>\n",
              "      <td>0.823692</td>\n",
              "      <td>42245</td>\n",
              "      <td>230.747332</td>\n",
              "      <td>0.788528</td>\n",
              "      <td>0.989892</td>\n",
              "      <td>0.862406</td>\n",
              "      <td>0.750887</td>\n",
              "      <td>0.007348</td>\n",
              "      <td>0.001441</td>\n",
              "      <td>0.563832</td>\n",
              "      <td>0.994346</td>\n",
              "      <td>SIRA</td>\n",
              "      <td>5428</td>\n",
              "    </tr>\n",
              "    <tr>\n",
              "      <th>2</th>\n",
              "      <td>37884</td>\n",
              "      <td>703.214</td>\n",
              "      <td>246.514878</td>\n",
              "      <td>195.983905</td>\n",
              "      <td>1.257832</td>\n",
              "      <td>0.606585</td>\n",
              "      <td>38173</td>\n",
              "      <td>219.625606</td>\n",
              "      <td>0.799494</td>\n",
              "      <td>0.992429</td>\n",
              "      <td>0.962699</td>\n",
              "      <td>0.890922</td>\n",
              "      <td>0.006507</td>\n",
              "      <td>0.002529</td>\n",
              "      <td>0.793743</td>\n",
              "      <td>0.998395</td>\n",
              "      <td>SEKER</td>\n",
              "      <td>4133</td>\n",
              "    </tr>\n",
              "    <tr>\n",
              "      <th>3</th>\n",
              "      <td>-47174</td>\n",
              "      <td>808.254</td>\n",
              "      <td>300.465722</td>\n",
              "      <td>200.607132</td>\n",
              "      <td>1.497782</td>\n",
              "      <td>0.744472</td>\n",
              "      <td>47646</td>\n",
              "      <td>245.079176</td>\n",
              "      <td>0.751753</td>\n",
              "      <td>0.990094</td>\n",
              "      <td>0.907438</td>\n",
              "      <td>0.815664</td>\n",
              "      <td>0.006369</td>\n",
              "      <td>0.001739</td>\n",
              "      <td>0.665308</td>\n",
              "      <td>0.996487</td>\n",
              "      <td>SIRA</td>\n",
              "      <td>486</td>\n",
              "    </tr>\n",
              "    <tr>\n",
              "      <th>4</th>\n",
              "      <td>-42946</td>\n",
              "      <td>751.381</td>\n",
              "      <td>258.600293</td>\n",
              "      <td>211.657134</td>\n",
              "      <td>1.221789</td>\n",
              "      <td>0.574546</td>\n",
              "      <td>43341</td>\n",
              "      <td>233.838717</td>\n",
              "      <td>0.761535</td>\n",
              "      <td>0.990886</td>\n",
              "      <td>0.955899</td>\n",
              "      <td>0.904248</td>\n",
              "      <td>0.006022</td>\n",
              "      <td>0.002483</td>\n",
              "      <td>0.817664</td>\n",
              "      <td>0.999012</td>\n",
              "      <td>SEKER</td>\n",
              "      <td>6565</td>\n",
              "    </tr>\n",
              "  </tbody>\n",
              "</table>\n",
              "</div>\n",
              "      <button class=\"colab-df-convert\" onclick=\"convertToInteractive('df-9646f785-6ec9-49b9-b1b2-fe8006a3126f')\"\n",
              "              title=\"Convert this dataframe to an interactive table.\"\n",
              "              style=\"display:none;\">\n",
              "        \n",
              "  <svg xmlns=\"http://www.w3.org/2000/svg\" height=\"24px\"viewBox=\"0 0 24 24\"\n",
              "       width=\"24px\">\n",
              "    <path d=\"M0 0h24v24H0V0z\" fill=\"none\"/>\n",
              "    <path d=\"M18.56 5.44l.94 2.06.94-2.06 2.06-.94-2.06-.94-.94-2.06-.94 2.06-2.06.94zm-11 1L8.5 8.5l.94-2.06 2.06-.94-2.06-.94L8.5 2.5l-.94 2.06-2.06.94zm10 10l.94 2.06.94-2.06 2.06-.94-2.06-.94-.94-2.06-.94 2.06-2.06.94z\"/><path d=\"M17.41 7.96l-1.37-1.37c-.4-.4-.92-.59-1.43-.59-.52 0-1.04.2-1.43.59L10.3 9.45l-7.72 7.72c-.78.78-.78 2.05 0 2.83L4 21.41c.39.39.9.59 1.41.59.51 0 1.02-.2 1.41-.59l7.78-7.78 2.81-2.81c.8-.78.8-2.07 0-2.86zM5.41 20L4 18.59l7.72-7.72 1.47 1.35L5.41 20z\"/>\n",
              "  </svg>\n",
              "      </button>\n",
              "      \n",
              "  <style>\n",
              "    .colab-df-container {\n",
              "      display:flex;\n",
              "      flex-wrap:wrap;\n",
              "      gap: 12px;\n",
              "    }\n",
              "\n",
              "    .colab-df-convert {\n",
              "      background-color: #E8F0FE;\n",
              "      border: none;\n",
              "      border-radius: 50%;\n",
              "      cursor: pointer;\n",
              "      display: none;\n",
              "      fill: #1967D2;\n",
              "      height: 32px;\n",
              "      padding: 0 0 0 0;\n",
              "      width: 32px;\n",
              "    }\n",
              "\n",
              "    .colab-df-convert:hover {\n",
              "      background-color: #E2EBFA;\n",
              "      box-shadow: 0px 1px 2px rgba(60, 64, 67, 0.3), 0px 1px 3px 1px rgba(60, 64, 67, 0.15);\n",
              "      fill: #174EA6;\n",
              "    }\n",
              "\n",
              "    [theme=dark] .colab-df-convert {\n",
              "      background-color: #3B4455;\n",
              "      fill: #D2E3FC;\n",
              "    }\n",
              "\n",
              "    [theme=dark] .colab-df-convert:hover {\n",
              "      background-color: #434B5C;\n",
              "      box-shadow: 0px 1px 3px 1px rgba(0, 0, 0, 0.15);\n",
              "      filter: drop-shadow(0px 1px 2px rgba(0, 0, 0, 0.3));\n",
              "      fill: #FFFFFF;\n",
              "    }\n",
              "  </style>\n",
              "\n",
              "      <script>\n",
              "        const buttonEl =\n",
              "          document.querySelector('#df-9646f785-6ec9-49b9-b1b2-fe8006a3126f button.colab-df-convert');\n",
              "        buttonEl.style.display =\n",
              "          google.colab.kernel.accessAllowed ? 'block' : 'none';\n",
              "\n",
              "        async function convertToInteractive(key) {\n",
              "          const element = document.querySelector('#df-9646f785-6ec9-49b9-b1b2-fe8006a3126f');\n",
              "          const dataTable =\n",
              "            await google.colab.kernel.invokeFunction('convertToInteractive',\n",
              "                                                     [key], {});\n",
              "          if (!dataTable) return;\n",
              "\n",
              "          const docLinkHtml = 'Like what you see? Visit the ' +\n",
              "            '<a target=\"_blank\" href=https://colab.research.google.com/notebooks/data_table.ipynb>data table notebook</a>'\n",
              "            + ' to learn more about interactive tables.';\n",
              "          element.innerHTML = '';\n",
              "          dataTable['output_type'] = 'display_data';\n",
              "          await google.colab.output.renderOutput(dataTable, element);\n",
              "          const docLink = document.createElement('div');\n",
              "          docLink.innerHTML = docLinkHtml;\n",
              "          element.appendChild(docLink);\n",
              "        }\n",
              "      </script>\n",
              "    </div>\n",
              "  </div>\n",
              "  "
            ],
            "text/plain": [
              "    Area  Perimeter  MajorAxisLength  ...  ShapeFactor4  Class    id\n",
              "0  44738    810.865       324.986219  ...      0.997713  HOROZ  5537\n",
              "1 -41818    780.604       307.299549  ...      0.994346   SIRA  5428\n",
              "2  37884    703.214       246.514878  ...      0.998395  SEKER  4133\n",
              "3 -47174    808.254       300.465722  ...      0.996487   SIRA   486\n",
              "4 -42946    751.381       258.600293  ...      0.999012  SEKER  6565\n",
              "\n",
              "[5 rows x 18 columns]"
            ]
          },
          "metadata": {},
          "execution_count": 8
        }
      ],
      "source": [
        "# Read csvs to DataFrame\n",
        "train_df = pd.read_csv(f'{DATA_DIR}/train_c.csv')\n",
        "train_df = train_df.sample(frac=1)  # shuffle the train data\n",
        "train_df.reset_index(inplace=True, drop=True)\n",
        "\n",
        "val_df = pd.read_csv(f'{DATA_DIR}/val.csv')\n",
        "test_df = pd.read_csv(f'{DATA_DIR}/test_no_label.csv')\n",
        "\n",
        "train_df.head()"
      ]
    },
    {
      "cell_type": "code",
      "execution_count": null,
      "metadata": {
        "id": "5RrvVCnw53JU",
        "colab": {
          "base_uri": "https://localhost:8080/",
          "height": 488
        },
        "outputId": "8503ebbc-dc76-4b65-ee91-b65039eeb04a"
      },
      "outputs": [
        {
          "output_type": "execute_result",
          "data": {
            "text/html": [
              "\n",
              "  <div id=\"df-54388c0b-cc2b-4be8-8a50-497143a6971c\">\n",
              "    <div class=\"colab-df-container\">\n",
              "      <div>\n",
              "<style scoped>\n",
              "    .dataframe tbody tr th:only-of-type {\n",
              "        vertical-align: middle;\n",
              "    }\n",
              "\n",
              "    .dataframe tbody tr th {\n",
              "        vertical-align: top;\n",
              "    }\n",
              "\n",
              "    .dataframe thead th {\n",
              "        text-align: right;\n",
              "    }\n",
              "</style>\n",
              "<table border=\"1\" class=\"dataframe\">\n",
              "  <thead>\n",
              "    <tr style=\"text-align: right;\">\n",
              "      <th></th>\n",
              "      <th>Area</th>\n",
              "      <th>Perimeter</th>\n",
              "      <th>MajorAxisLength</th>\n",
              "      <th>MinorAxisLength</th>\n",
              "      <th>AspectRation</th>\n",
              "      <th>Eccentricity</th>\n",
              "      <th>ConvexArea</th>\n",
              "      <th>EquivDiameter</th>\n",
              "      <th>Extent</th>\n",
              "      <th>Solidity</th>\n",
              "      <th>roundness</th>\n",
              "      <th>Compactness</th>\n",
              "      <th>ShapeFactor1</th>\n",
              "      <th>ShapeFactor2</th>\n",
              "      <th>ShapeFactor3</th>\n",
              "      <th>ShapeFactor4</th>\n",
              "      <th>id</th>\n",
              "    </tr>\n",
              "  </thead>\n",
              "  <tbody>\n",
              "    <tr>\n",
              "      <th>0</th>\n",
              "      <td>68008</td>\n",
              "      <td>996.629</td>\n",
              "      <td>371.705881</td>\n",
              "      <td>234.441758</td>\n",
              "      <td>1.585493</td>\n",
              "      <td>0.776012</td>\n",
              "      <td>69070</td>\n",
              "      <td>294.262595</td>\n",
              "      <td>0.725465</td>\n",
              "      <td>0.984624</td>\n",
              "      <td>0.860405</td>\n",
              "      <td>0.791654</td>\n",
              "      <td>0.005466</td>\n",
              "      <td>0.001324</td>\n",
              "      <td>0.626717</td>\n",
              "      <td>0.993655</td>\n",
              "      <td>0</td>\n",
              "    </tr>\n",
              "    <tr>\n",
              "      <th>1</th>\n",
              "      <td>33169</td>\n",
              "      <td>676.789</td>\n",
              "      <td>242.434085</td>\n",
              "      <td>174.652218</td>\n",
              "      <td>1.388096</td>\n",
              "      <td>0.693547</td>\n",
              "      <td>33629</td>\n",
              "      <td>205.504458</td>\n",
              "      <td>0.766701</td>\n",
              "      <td>0.986321</td>\n",
              "      <td>0.909988</td>\n",
              "      <td>0.847671</td>\n",
              "      <td>0.007309</td>\n",
              "      <td>0.002328</td>\n",
              "      <td>0.718547</td>\n",
              "      <td>0.997412</td>\n",
              "      <td>1</td>\n",
              "    </tr>\n",
              "    <tr>\n",
              "      <th>2</th>\n",
              "      <td>32279</td>\n",
              "      <td>670.977</td>\n",
              "      <td>250.820564</td>\n",
              "      <td>164.181397</td>\n",
              "      <td>1.527704</td>\n",
              "      <td>0.755995</td>\n",
              "      <td>32662</td>\n",
              "      <td>202.728635</td>\n",
              "      <td>0.757190</td>\n",
              "      <td>0.988274</td>\n",
              "      <td>0.900979</td>\n",
              "      <td>0.808262</td>\n",
              "      <td>0.007770</td>\n",
              "      <td>0.002046</td>\n",
              "      <td>0.653287</td>\n",
              "      <td>0.998029</td>\n",
              "      <td>2</td>\n",
              "    </tr>\n",
              "    <tr>\n",
              "      <th>3</th>\n",
              "      <td>47480</td>\n",
              "      <td>809.477</td>\n",
              "      <td>308.172912</td>\n",
              "      <td>197.172445</td>\n",
              "      <td>1.562961</td>\n",
              "      <td>0.768532</td>\n",
              "      <td>47977</td>\n",
              "      <td>245.872759</td>\n",
              "      <td>0.811915</td>\n",
              "      <td>0.989641</td>\n",
              "      <td>0.910566</td>\n",
              "      <td>0.797840</td>\n",
              "      <td>0.006491</td>\n",
              "      <td>0.001622</td>\n",
              "      <td>0.636549</td>\n",
              "      <td>0.994902</td>\n",
              "      <td>3</td>\n",
              "    </tr>\n",
              "    <tr>\n",
              "      <th>4</th>\n",
              "      <td>35615</td>\n",
              "      <td>692.536</td>\n",
              "      <td>233.003591</td>\n",
              "      <td>195.224650</td>\n",
              "      <td>1.193515</td>\n",
              "      <td>0.545883</td>\n",
              "      <td>36004</td>\n",
              "      <td>212.947004</td>\n",
              "      <td>0.743342</td>\n",
              "      <td>0.989196</td>\n",
              "      <td>0.933164</td>\n",
              "      <td>0.913922</td>\n",
              "      <td>0.006542</td>\n",
              "      <td>0.002815</td>\n",
              "      <td>0.835253</td>\n",
              "      <td>0.996887</td>\n",
              "      <td>4</td>\n",
              "    </tr>\n",
              "    <tr>\n",
              "      <th>...</th>\n",
              "      <td>...</td>\n",
              "      <td>...</td>\n",
              "      <td>...</td>\n",
              "      <td>...</td>\n",
              "      <td>...</td>\n",
              "      <td>...</td>\n",
              "      <td>...</td>\n",
              "      <td>...</td>\n",
              "      <td>...</td>\n",
              "      <td>...</td>\n",
              "      <td>...</td>\n",
              "      <td>...</td>\n",
              "      <td>...</td>\n",
              "      <td>...</td>\n",
              "      <td>...</td>\n",
              "      <td>...</td>\n",
              "      <td>...</td>\n",
              "    </tr>\n",
              "    <tr>\n",
              "      <th>3398</th>\n",
              "      <td>38491</td>\n",
              "      <td>745.466</td>\n",
              "      <td>278.802822</td>\n",
              "      <td>176.662392</td>\n",
              "      <td>1.578167</td>\n",
              "      <td>0.773623</td>\n",
              "      <td>39247</td>\n",
              "      <td>221.378100</td>\n",
              "      <td>0.726341</td>\n",
              "      <td>0.980737</td>\n",
              "      <td>0.870389</td>\n",
              "      <td>0.794031</td>\n",
              "      <td>0.007243</td>\n",
              "      <td>0.001776</td>\n",
              "      <td>0.630485</td>\n",
              "      <td>0.995011</td>\n",
              "      <td>3398</td>\n",
              "    </tr>\n",
              "    <tr>\n",
              "      <th>3399</th>\n",
              "      <td>43489</td>\n",
              "      <td>769.887</td>\n",
              "      <td>285.884484</td>\n",
              "      <td>194.201811</td>\n",
              "      <td>1.472100</td>\n",
              "      <td>0.733859</td>\n",
              "      <td>43893</td>\n",
              "      <td>235.312377</td>\n",
              "      <td>0.807415</td>\n",
              "      <td>0.990796</td>\n",
              "      <td>0.922009</td>\n",
              "      <td>0.823103</td>\n",
              "      <td>0.006574</td>\n",
              "      <td>0.001861</td>\n",
              "      <td>0.677499</td>\n",
              "      <td>0.997346</td>\n",
              "      <td>3399</td>\n",
              "    </tr>\n",
              "    <tr>\n",
              "      <th>3400</th>\n",
              "      <td>50400</td>\n",
              "      <td>857.430</td>\n",
              "      <td>327.844472</td>\n",
              "      <td>198.024117</td>\n",
              "      <td>1.655579</td>\n",
              "      <td>0.796970</td>\n",
              "      <td>51001</td>\n",
              "      <td>253.320495</td>\n",
              "      <td>0.686695</td>\n",
              "      <td>0.988216</td>\n",
              "      <td>0.861476</td>\n",
              "      <td>0.772685</td>\n",
              "      <td>0.006505</td>\n",
              "      <td>0.001430</td>\n",
              "      <td>0.597042</td>\n",
              "      <td>0.988450</td>\n",
              "      <td>3400</td>\n",
              "    </tr>\n",
              "    <tr>\n",
              "      <th>3401</th>\n",
              "      <td>43378</td>\n",
              "      <td>787.214</td>\n",
              "      <td>304.180475</td>\n",
              "      <td>182.437741</td>\n",
              "      <td>1.667311</td>\n",
              "      <td>0.800174</td>\n",
              "      <td>43943</td>\n",
              "      <td>235.011883</td>\n",
              "      <td>0.774801</td>\n",
              "      <td>0.987142</td>\n",
              "      <td>0.879617</td>\n",
              "      <td>0.772607</td>\n",
              "      <td>0.007012</td>\n",
              "      <td>0.001541</td>\n",
              "      <td>0.596921</td>\n",
              "      <td>0.995253</td>\n",
              "      <td>3401</td>\n",
              "    </tr>\n",
              "    <tr>\n",
              "      <th>3402</th>\n",
              "      <td>24192</td>\n",
              "      <td>577.564</td>\n",
              "      <td>212.468124</td>\n",
              "      <td>145.446570</td>\n",
              "      <td>1.460798</td>\n",
              "      <td>0.728959</td>\n",
              "      <td>24463</td>\n",
              "      <td>175.505587</td>\n",
              "      <td>0.776280</td>\n",
              "      <td>0.988922</td>\n",
              "      <td>0.911342</td>\n",
              "      <td>0.826033</td>\n",
              "      <td>0.008783</td>\n",
              "      <td>0.002522</td>\n",
              "      <td>0.682330</td>\n",
              "      <td>0.996746</td>\n",
              "      <td>3402</td>\n",
              "    </tr>\n",
              "  </tbody>\n",
              "</table>\n",
              "<p>3403 rows × 17 columns</p>\n",
              "</div>\n",
              "      <button class=\"colab-df-convert\" onclick=\"convertToInteractive('df-54388c0b-cc2b-4be8-8a50-497143a6971c')\"\n",
              "              title=\"Convert this dataframe to an interactive table.\"\n",
              "              style=\"display:none;\">\n",
              "        \n",
              "  <svg xmlns=\"http://www.w3.org/2000/svg\" height=\"24px\"viewBox=\"0 0 24 24\"\n",
              "       width=\"24px\">\n",
              "    <path d=\"M0 0h24v24H0V0z\" fill=\"none\"/>\n",
              "    <path d=\"M18.56 5.44l.94 2.06.94-2.06 2.06-.94-2.06-.94-.94-2.06-.94 2.06-2.06.94zm-11 1L8.5 8.5l.94-2.06 2.06-.94-2.06-.94L8.5 2.5l-.94 2.06-2.06.94zm10 10l.94 2.06.94-2.06 2.06-.94-2.06-.94-.94-2.06-.94 2.06-2.06.94z\"/><path d=\"M17.41 7.96l-1.37-1.37c-.4-.4-.92-.59-1.43-.59-.52 0-1.04.2-1.43.59L10.3 9.45l-7.72 7.72c-.78.78-.78 2.05 0 2.83L4 21.41c.39.39.9.59 1.41.59.51 0 1.02-.2 1.41-.59l7.78-7.78 2.81-2.81c.8-.78.8-2.07 0-2.86zM5.41 20L4 18.59l7.72-7.72 1.47 1.35L5.41 20z\"/>\n",
              "  </svg>\n",
              "      </button>\n",
              "      \n",
              "  <style>\n",
              "    .colab-df-container {\n",
              "      display:flex;\n",
              "      flex-wrap:wrap;\n",
              "      gap: 12px;\n",
              "    }\n",
              "\n",
              "    .colab-df-convert {\n",
              "      background-color: #E8F0FE;\n",
              "      border: none;\n",
              "      border-radius: 50%;\n",
              "      cursor: pointer;\n",
              "      display: none;\n",
              "      fill: #1967D2;\n",
              "      height: 32px;\n",
              "      padding: 0 0 0 0;\n",
              "      width: 32px;\n",
              "    }\n",
              "\n",
              "    .colab-df-convert:hover {\n",
              "      background-color: #E2EBFA;\n",
              "      box-shadow: 0px 1px 2px rgba(60, 64, 67, 0.3), 0px 1px 3px 1px rgba(60, 64, 67, 0.15);\n",
              "      fill: #174EA6;\n",
              "    }\n",
              "\n",
              "    [theme=dark] .colab-df-convert {\n",
              "      background-color: #3B4455;\n",
              "      fill: #D2E3FC;\n",
              "    }\n",
              "\n",
              "    [theme=dark] .colab-df-convert:hover {\n",
              "      background-color: #434B5C;\n",
              "      box-shadow: 0px 1px 3px 1px rgba(0, 0, 0, 0.15);\n",
              "      filter: drop-shadow(0px 1px 2px rgba(0, 0, 0, 0.3));\n",
              "      fill: #FFFFFF;\n",
              "    }\n",
              "  </style>\n",
              "\n",
              "      <script>\n",
              "        const buttonEl =\n",
              "          document.querySelector('#df-54388c0b-cc2b-4be8-8a50-497143a6971c button.colab-df-convert');\n",
              "        buttonEl.style.display =\n",
              "          google.colab.kernel.accessAllowed ? 'block' : 'none';\n",
              "\n",
              "        async function convertToInteractive(key) {\n",
              "          const element = document.querySelector('#df-54388c0b-cc2b-4be8-8a50-497143a6971c');\n",
              "          const dataTable =\n",
              "            await google.colab.kernel.invokeFunction('convertToInteractive',\n",
              "                                                     [key], {});\n",
              "          if (!dataTable) return;\n",
              "\n",
              "          const docLinkHtml = 'Like what you see? Visit the ' +\n",
              "            '<a target=\"_blank\" href=https://colab.research.google.com/notebooks/data_table.ipynb>data table notebook</a>'\n",
              "            + ' to learn more about interactive tables.';\n",
              "          element.innerHTML = '';\n",
              "          dataTable['output_type'] = 'display_data';\n",
              "          await google.colab.output.renderOutput(dataTable, element);\n",
              "          const docLink = document.createElement('div');\n",
              "          docLink.innerHTML = docLinkHtml;\n",
              "          element.appendChild(docLink);\n",
              "        }\n",
              "      </script>\n",
              "    </div>\n",
              "  </div>\n",
              "  "
            ],
            "text/plain": [
              "       Area  Perimeter  MajorAxisLength  ...  ShapeFactor3  ShapeFactor4    id\n",
              "0     68008    996.629       371.705881  ...      0.626717      0.993655     0\n",
              "1     33169    676.789       242.434085  ...      0.718547      0.997412     1\n",
              "2     32279    670.977       250.820564  ...      0.653287      0.998029     2\n",
              "3     47480    809.477       308.172912  ...      0.636549      0.994902     3\n",
              "4     35615    692.536       233.003591  ...      0.835253      0.996887     4\n",
              "...     ...        ...              ...  ...           ...           ...   ...\n",
              "3398  38491    745.466       278.802822  ...      0.630485      0.995011  3398\n",
              "3399  43489    769.887       285.884484  ...      0.677499      0.997346  3399\n",
              "3400  50400    857.430       327.844472  ...      0.597042      0.988450  3400\n",
              "3401  43378    787.214       304.180475  ...      0.596921      0.995253  3401\n",
              "3402  24192    577.564       212.468124  ...      0.682330      0.996746  3402\n",
              "\n",
              "[3403 rows x 17 columns]"
            ]
          },
          "metadata": {},
          "execution_count": 9
        }
      ],
      "source": [
        "test_df"
      ]
    },
    {
      "cell_type": "markdown",
      "metadata": {
        "id": "QatMlpq6VUCD"
      },
      "source": [
        "#### Prep Data\n",
        "Extract the X,y values and encode the classes into integer values"
      ]
    },
    {
      "cell_type": "code",
      "execution_count": null,
      "metadata": {
        "id": "Wg-B02o5VzBG",
        "colab": {
          "base_uri": "https://localhost:8080/"
        },
        "outputId": "dab1ac61-2130-47c6-8d8d-90a8cbad94ad"
      },
      "outputs": [
        {
          "output_type": "execute_result",
          "data": {
            "text/plain": [
              "['CALI', 'CALI', 'BOMBAY']"
            ]
          },
          "metadata": {},
          "execution_count": 10
        }
      ],
      "source": [
        "le = preprocessing.LabelEncoder()\n",
        "\n",
        "y_train_txt = train_df['Class'].values.tolist()\n",
        "le.fit(y_train_txt)\n",
        "labels = le.classes_\n",
        "\n",
        "X_train = train_df.iloc[:,:-2].values.tolist()\n",
        "y_train = le.transform(y_train_txt)\n",
        "\n",
        "X_val = val_df.iloc[:,:-2].values.tolist()\n",
        "y_val_txt = val_df['Class'].values.tolist()\n",
        "y_val = le.transform(y_val_txt)\n",
        "\n",
        "X_test = test_df.iloc[:,:-1].values.tolist()\n",
        "\n",
        "labels = train_df['Class'].unique()\n",
        "\n",
        "list(le.inverse_transform([2, 2, 1]))"
      ]
    },
    {
      "cell_type": "markdown",
      "metadata": {
        "id": "GZfOpabjL4kf"
      },
      "source": [
        "# 🖼️ EDA with W&B Tables\n",
        "Log the train and validation datasets to W&B Tables for EDA"
      ]
    },
    {
      "cell_type": "code",
      "execution_count": null,
      "metadata": {
        "id": "dD_7X40vHpQ0",
        "colab": {
          "base_uri": "https://localhost:8080/",
          "height": 141,
          "referenced_widgets": [
            "9b8789cfa35540eda98b2f82f7f2232e",
            "fe0224053d724a7b843db2b8a8ce3aa5",
            "0bfa7917f020470493d433bc8c1b964e",
            "8bbc14a42fbe4de69473bad902d1b3af",
            "c093aa7816d44bf09da08c197b49ca02",
            "fc4e7ef21b2647048e186113c7c81a4e",
            "935f560abaaf4192a3e1b57ac4c56411",
            "52dd29dc748045d19e81690f238133db"
          ]
        },
        "outputId": "bd5e1877-d163-49f8-a117-0b098e1cb3b8"
      },
      "outputs": [
        {
          "output_type": "display_data",
          "data": {
            "text/html": [
              "\n",
              "                    Syncing run <strong><a href=\"https://wandb.ai/atufa/beans-tabular-IIT-G/runs/2u4q62hs\" target=\"_blank\">neat-frog-3</a></strong> to <a href=\"https://wandb.ai/atufa/beans-tabular-IIT-G\" target=\"_blank\">Weights & Biases</a> (<a href=\"https://docs.wandb.com/integrations/jupyter.html\" target=\"_blank\">docs</a>).<br/>\n",
              "\n",
              "                "
            ],
            "text/plain": [
              "<IPython.core.display.HTML object>"
            ]
          },
          "metadata": {}
        },
        {
          "output_type": "display_data",
          "data": {
            "text/html": [
              "<br/>Waiting for W&B process to finish, PID 534... <strong style=\"color:green\">(success).</strong>"
            ],
            "text/plain": [
              "<IPython.core.display.HTML object>"
            ]
          },
          "metadata": {}
        },
        {
          "output_type": "display_data",
          "data": {
            "application/vnd.jupyter.widget-view+json": {
              "model_id": "9b8789cfa35540eda98b2f82f7f2232e",
              "version_minor": 0,
              "version_major": 2
            },
            "text/plain": [
              "VBox(children=(Label(value=' 5.19MB of 6.17MB uploaded (0.00MB deduped)\\r'), FloatProgress(value=0.84110574953…"
            ]
          },
          "metadata": {}
        },
        {
          "output_type": "display_data",
          "data": {
            "text/html": [
              "<style>\n",
              "    table.wandb td:nth-child(1) { padding: 0 10px; text-align: right }\n",
              "    .wandb-row { display: flex; flex-direction: row; flex-wrap: wrap; width: 100% }\n",
              "    .wandb-col { display: flex; flex-direction: column; flex-basis: 100%; flex: 1; padding: 10px; }\n",
              "    </style>\n",
              "<div class=\"wandb-row\"><div class=\"wandb-col\">\n",
              "</div><div class=\"wandb-col\">\n",
              "</div></div>\n",
              "Synced 4 W&B file(s), 2 media file(s), 2 artifact file(s) and 0 other file(s)\n",
              "<br/>Synced <strong style=\"color:#cdcd00\">neat-frog-3</strong>: <a href=\"https://wandb.ai/atufa/beans-tabular-IIT-G/runs/2u4q62hs\" target=\"_blank\">https://wandb.ai/atufa/beans-tabular-IIT-G/runs/2u4q62hs</a><br/>\n",
              "Find logs at: <code>./wandb/run-20220221_191208-2u4q62hs/logs</code><br/>\n"
            ],
            "text/plain": [
              "<IPython.core.display.HTML object>"
            ]
          },
          "metadata": {}
        }
      ],
      "source": [
        "wandb.init(project=PROJECT, job_type='log_dataset')\n",
        "wandb.log({'Datasets/train_ds':train_df})\n",
        "wandb.log({'Datasets/val_ds':val_df})\n",
        "wandb.finish()"
      ]
    },
    {
      "cell_type": "markdown",
      "metadata": {
        "id": "L5ni9t9sfArq"
      },
      "source": [
        "#👟 Train\n",
        "Train a [`RandomForestClassifier`](https://scikit-learn.org/stable/modules/generated/sklearn.ensemble.RandomForestClassifier.html#sklearn.ensemble.RandomForestClassifier) from sci-kit learn"
      ]
    },
    {
      "cell_type": "code",
      "execution_count": null,
      "metadata": {
        "id": "K2OZsuwfkVMv",
        "colab": {
          "base_uri": "https://localhost:8080/",
          "height": 34
        },
        "outputId": "0df7d056-2637-47fc-ac2b-ba93693e8026"
      },
      "outputs": [
        {
          "output_type": "display_data",
          "data": {
            "text/html": [
              "\n",
              "                    Syncing run <strong><a href=\"https://wandb.ai/atufa/beans-tabular-IIT-G/runs/cmcqvo32\" target=\"_blank\">glorious-glade-4</a></strong> to <a href=\"https://wandb.ai/atufa/beans-tabular-IIT-G\" target=\"_blank\">Weights & Biases</a> (<a href=\"https://docs.wandb.com/integrations/jupyter.html\" target=\"_blank\">docs</a>).<br/>\n",
              "\n",
              "                "
            ],
            "text/plain": [
              "<IPython.core.display.HTML object>"
            ]
          },
          "metadata": {}
        }
      ],
      "source": [
        "wandb.init(project=PROJECT)\n",
        "\n",
        "model = RandomForestClassifier()\n",
        "\n",
        "# ✍️ Log your Models parameter config to W&B\n",
        "wandb.config.update(model.get_params())\n",
        "\n",
        "model.fit(X_train, y_train)\n",
        "\n",
        "y_pred_train = model.predict(X_train)\n",
        "y_pred = model.predict(X_val)\n",
        "y_probas = model.predict_proba(X_val)\n",
        "\n",
        "importances = model.feature_importances_\n",
        "indices = np.argsort(importances)[::-1]"
      ]
    },
    {
      "cell_type": "markdown",
      "metadata": {
        "id": "ckURDaqhrhui"
      },
      "source": [
        "✍️ Log your model's Metrics to W&B"
      ]
    },
    {
      "cell_type": "code",
      "execution_count": null,
      "metadata": {
        "id": "9b7099kdmHmp",
        "colab": {
          "base_uri": "https://localhost:8080/"
        },
        "outputId": "268cd09d-fc56-4d09-e588-5a7145164463"
      },
      "outputs": [
        {
          "output_type": "stream",
          "name": "stdout",
          "text": [
            "validation/accuracy_score : 0.9298642533936652\n",
            "validation/precision : 0.9297594811862108\n",
            "validation/recall : 0.9298642533936652\n",
            "validation/f1_score : 0.9297881117888325\n"
          ]
        }
      ],
      "source": [
        "log_metrics(y_val, y_pred)"
      ]
    },
    {
      "cell_type": "markdown",
      "metadata": {
        "id": "j9FEchN-sXsn"
      },
      "source": [
        "#🤩 Visualize Model Performance in W&B\n",
        "Weights & Biases have charting functions for popular model evaluation charts including confusion matrices, ROC curves, PR curves and more.\n",
        "[Check out wandb charts documentation here $\\rightarrow$](https://docs.wandb.ai/guides/track/log/plots#model-evaluation-charts)"
      ]
    },
    {
      "cell_type": "markdown",
      "metadata": {
        "id": "a7wQwS8voSB3"
      },
      "source": [
        "**Confusion Matrix**\n"
      ]
    },
    {
      "cell_type": "code",
      "execution_count": null,
      "metadata": {
        "id": "-0T95FIJmQXM"
      },
      "outputs": [],
      "source": [
        "wandb.log({\"confusion Matrix\" : wandb.plot.confusion_matrix(y_probas, y_val, class_names=labels)})"
      ]
    },
    {
      "cell_type": "markdown",
      "metadata": {
        "id": "ATGYTRKnnQBD"
      },
      "source": [
        "**ROC Curve**\n"
      ]
    },
    {
      "cell_type": "code",
      "execution_count": null,
      "metadata": {
        "id": "OO8_V_AanPq9"
      },
      "outputs": [],
      "source": [
        "wandb.log({\"ROC Curve\": wandb.plot.roc_curve(y_val, y_probas, labels=labels, title='ROC Curve')})"
      ]
    },
    {
      "cell_type": "markdown",
      "metadata": {
        "id": "hZq5a6RpoapA"
      },
      "source": [
        "**Precision Recall Curve**"
      ]
    },
    {
      "cell_type": "code",
      "execution_count": null,
      "metadata": {
        "id": "31ZEnsbRocJl"
      },
      "outputs": [],
      "source": [
        "wandb.log({\"Precision-Recall\": wandb.plot.pr_curve(y_val, y_probas, labels=labels, title='Precision-Recall')})"
      ]
    },
    {
      "cell_type": "markdown",
      "metadata": {
        "id": "pV66Jrrdolhz"
      },
      "source": [
        "**Feature Importances**\n",
        "\n",
        "Evaluates and plots the importance of each feature for the classification task. Only works with classifiers that have a `feature_importances_` attribute, like trees."
      ]
    },
    {
      "cell_type": "code",
      "execution_count": null,
      "metadata": {
        "id": "Wv-ED9j_qCZA"
      },
      "outputs": [],
      "source": [
        "feat_names = train_df.columns.values\n",
        "imps = []\n",
        "feats = []\n",
        "for i in indices:\n",
        "  imps.append(importances[i])\n",
        "  feats.append(feat_names[i])\n",
        "\n",
        "fi_data = pd.DataFrame({\"Feature\":feats, \"Importance\":imps})"
      ]
    },
    {
      "cell_type": "code",
      "execution_count": null,
      "metadata": {
        "id": "AEdaNt9tpqTO"
      },
      "outputs": [],
      "source": [
        "table = wandb.Table(data=fi_data, columns = [\"Feature\", \"Importance\"])\n",
        "wandb.log({\"Feature Importance\" : wandb.plot.bar(table, \"Feature\",\n",
        "                               \"Importance\", title=\"Feature Importance\")})"
      ]
    },
    {
      "cell_type": "markdown",
      "metadata": {
        "id": "YqO3vXwAuXUT"
      },
      "source": [
        "#### 🏁 Finish W&B Run\n",
        "When you're finished with your logging for a run make sure to call `wandb.finish()` to avoid logging metrics from your next experiment to the wrong run"
      ]
    },
    {
      "cell_type": "code",
      "execution_count": null,
      "metadata": {
        "id": "TIHtZ-QEuVV8",
        "colab": {
          "base_uri": "https://localhost:8080/",
          "height": 269,
          "referenced_widgets": [
            "1fd637c66d6b492ab1a0da0e09b6fda7",
            "977571a762a44e8e9beb6bde8d6bd34e",
            "37e7ca65947643cbb47cb110b237d9bb",
            "158a2ae0beb14dd0be2b1ce418aef907",
            "c6971b2de74d42ff98ff10a83df3aae9",
            "4d1d8526208d4698b05393f334eb6ed5",
            "5ef500cd05b0487ca1340746afb15562",
            "2d3a16ba459540aca35221400a1abef1"
          ]
        },
        "outputId": "f48ea50c-bb94-4dce-c62f-b00c79010684"
      },
      "outputs": [
        {
          "output_type": "display_data",
          "data": {
            "text/html": [
              "<br/>Waiting for W&B process to finish, PID 577... <strong style=\"color:green\">(success).</strong>"
            ],
            "text/plain": [
              "<IPython.core.display.HTML object>"
            ]
          },
          "metadata": {}
        },
        {
          "output_type": "display_data",
          "data": {
            "application/vnd.jupyter.widget-view+json": {
              "model_id": "1fd637c66d6b492ab1a0da0e09b6fda7",
              "version_minor": 0,
              "version_major": 2
            },
            "text/plain": [
              "VBox(children=(Label(value=' 0.04MB of 0.04MB uploaded (0.00MB deduped)\\r'), FloatProgress(value=1.0, max=1.0)…"
            ]
          },
          "metadata": {}
        },
        {
          "output_type": "display_data",
          "data": {
            "text/html": [
              "<style>\n",
              "    table.wandb td:nth-child(1) { padding: 0 10px; text-align: right }\n",
              "    .wandb-row { display: flex; flex-direction: row; flex-wrap: wrap; width: 100% }\n",
              "    .wandb-col { display: flex; flex-direction: column; flex-basis: 100%; flex: 1; padding: 10px; }\n",
              "    </style>\n",
              "<div class=\"wandb-row\"><div class=\"wandb-col\">\n",
              "</div><div class=\"wandb-col\">\n",
              "<h3>Run summary:</h3><br/><table class=\"wandb\"><tr><td>validation/accuracy_score</td><td>0.92986</td></tr><tr><td>validation/f1_score</td><td>0.92979</td></tr><tr><td>validation/precision</td><td>0.92976</td></tr><tr><td>validation/recall</td><td>0.92986</td></tr></table>\n",
              "</div></div>\n",
              "Synced 5 W&B file(s), 4 media file(s), 4 artifact file(s) and 0 other file(s)\n",
              "<br/>Synced <strong style=\"color:#cdcd00\">glorious-glade-4</strong>: <a href=\"https://wandb.ai/atufa/beans-tabular-IIT-G/runs/cmcqvo32\" target=\"_blank\">https://wandb.ai/atufa/beans-tabular-IIT-G/runs/cmcqvo32</a><br/>\n",
              "Find logs at: <code>./wandb/run-20220221_191228-cmcqvo32/logs</code><br/>\n"
            ],
            "text/plain": [
              "<IPython.core.display.HTML object>"
            ]
          },
          "metadata": {}
        }
      ],
      "source": [
        "wandb.finish()"
      ]
    },
    {
      "cell_type": "markdown",
      "metadata": {
        "id": "_DesBwID32HJ"
      },
      "source": [
        "# Submission"
      ]
    },
    {
      "cell_type": "code",
      "execution_count": null,
      "metadata": {
        "id": "FZq_oR8f30yY"
      },
      "outputs": [],
      "source": [
        "y_pred_test = model.predict(X_test)\n",
        "y_pred_test = list(le.inverse_transform(y_pred_test))\n",
        "ids = test_df.id.values\n",
        "\n",
        "submission_df = pd.DataFrame({'Id':ids, 'Predicted':y_pred_test})\n",
        "submission_df.to_csv('submission.csv', index=False)"
      ]
    },
    {
      "cell_type": "markdown",
      "metadata": {
        "id": "OvVBjQTbpFhV"
      },
      "source": [
        "# 🧪 HyperParameter Sweep\n",
        "\n",
        "Weights and Biases also enables you to do hyperparameter sweeps, either with our own [Sweeps functionality](https://docs.wandb.ai/guides/sweeps/python-api)."
      ]
    },
    {
      "cell_type": "markdown",
      "metadata": {
        "id": "-ixD36XLozvk"
      },
      "source": [
        "#### Sweep Train Function\n",
        "A W&B Sweep needs to passed in a config and a training function to run."
      ]
    },
    {
      "cell_type": "markdown",
      "source": [
        "* RandomForest"
      ],
      "metadata": {
        "id": "RJGRT7Fn8924"
      }
    },
    {
      "cell_type": "code",
      "execution_count": null,
      "metadata": {
        "id": "V6TwD4gSsrwo"
      },
      "outputs": [],
      "source": [
        "def train():     \n",
        "    with wandb.init() as _:\n",
        "      model = RandomForestClassifier(\n",
        "          \n",
        "          n_estimators=wandb.config['n_estimators'],   # n_estimators parameter will now be set by W&B\n",
        "          max_depth=wandb.config['max_depth']     # max_depth parameter will now be set by W&B\n",
        "          \n",
        "          # [Optional] add additional model parameters here\n",
        "          \n",
        "          )\n",
        "    \n",
        "      \n",
        "      # ✍️ Log your Models parameter config to W&B\n",
        "      wandb.config['model_type'] = 'random_forest'\n",
        "      wandb.config.update(model.get_params())\n",
        "\n",
        "      model.fit(X_train, y_train)\n",
        "\n",
        "      y_pred_train = model.predict(X_train)\n",
        "      y_pred = model.predict(X_val)\n",
        "      y_probas = model.predict_proba(X_val)\n",
        "        \n",
        "      # Log validation summary metrics to W&B\n",
        "      wandb.summary[\"validation/accuracy\"] = accuracy_score(y_val, y_pred)\n",
        "      wandb.summary[\"validation/precision\"] = precision_score(y_val, y_pred, average=\"weighted\")\n",
        "      wandb.summary[\"validation/recall\"] = recall_score(y_val, y_pred, average=\"weighted\")\n",
        "      wandb.summary[\"validation/f1_score\"] = f1_score(y_val, y_pred, average=\"weighted\")\n",
        "    \n",
        "      # Make test set predictions and save as csv  \n",
        "      y_pred_test = model.predict(X_test)\n",
        "      y_pred_test = list(le.inverse_transform(y_pred_test))\n",
        "\n",
        "      submission_df = pd.DataFrame({'Id':test_df.id.values, 'Predicted':y_pred_test})\n",
        "      submission_df.to_csv('submission.csv', index=False)\n",
        "        \n",
        "      wandb.log_artifact('submission.csv', name=f'{wandb.run.id}_submission', type='submission')"
      ]
    },
    {
      "cell_type": "markdown",
      "source": [
        "* Catboost Classifier"
      ],
      "metadata": {
        "id": "vGlj1yYH9AXJ"
      }
    },
    {
      "cell_type": "code",
      "source": [
        "from catboost import CatBoostClassifier\n",
        "def train_cat():     \n",
        "    with wandb.init() as _:\n",
        "      model = CatBoostClassifier(verbose=False,bootstrap_type='Bernoulli',iterations=200,\n",
        "                                   colsample_bylevel=wandb.config[\"colsample_bylevel\"],\n",
        "                                   depth=wandb.config[\"depth\"],\n",
        "                                   boosting_type=\"Ordered\",\n",
        "                                   subsample=wandb.config[\"subsample\"],\n",
        "                                   random_state=0)\n",
        "\n",
        "      \n",
        "      # ✍️ Log your Models parameter config to W&B\n",
        "      wandb.config['model_type'] = 'catboost_model'\n",
        "      wandb.config.update(model.get_params())\n",
        "\n",
        "      model.fit(X_train, y_train)\n",
        "\n",
        "      y_pred_train = model.predict(X_train)\n",
        "      y_pred = model.predict(X_val)\n",
        "      y_probas = model.predict_proba(X_val)\n",
        "        \n",
        "      # Log validation summary metrics to W&B\n",
        "      wandb.summary[\"validation/accuracy\"] = accuracy_score(y_val, y_pred)\n",
        "      wandb.summary[\"validation/precision\"] = precision_score(y_val, y_pred, average=\"weighted\")\n",
        "      wandb.summary[\"validation/recall\"] = recall_score(y_val, y_pred, average=\"weighted\")\n",
        "      wandb.summary[\"validation/f1_score\"] = f1_score(y_val, y_pred, average=\"weighted\")\n",
        "    \n",
        "      # Make test set predictions and save as csv  \n",
        "      y_pred_test = model.predict(X_test)\n",
        "      y_pred_test = list(le.inverse_transform(y_pred_test))\n",
        "\n",
        "      submission_df = pd.DataFrame({'Id':test_df.id.values, 'Predicted':y_pred_test})\n",
        "      submission_df.to_csv('submission.csv', index=False)\n",
        "        \n",
        "      wandb.log_artifact('submission.csv', name=f'{wandb.run.id}_submission', type='submission')"
      ],
      "metadata": {
        "id": "EWTxN-UG9CVY"
      },
      "execution_count": null,
      "outputs": []
    },
    {
      "cell_type": "markdown",
      "metadata": {
        "id": "DHaoTUwkqxNl",
        "tags": []
      },
      "source": [
        "💡 **Tip**\n",
        "\n",
        "The `train` function above uses Sci-Kit Learn's [`RandomForestClassifier`](https://scikit-learn.org/stable/modules/generated/sklearn.ensemble.RandomForestClassifier.html#sklearn.ensemble.RandomForestClassifier) but you can also modify the code to user other models such as `DecisionTreeClassifier` or `AdaBoostClassifier` or other boosting models such as [`XGBoost`](https://xgboost.readthedocs.io/en/latest/get_started.html). \n",
        "\n",
        "Note that you'll likely have to chanage the argument names in the `sweep_config` when using these models in a sweep.\n",
        "\n",
        "\n",
        "```\n",
        "from sklearn.tree import DecisionTreeClassifier\n",
        "from sklearn.ensemble import AdaBoostClassifier\n",
        "\n",
        "model = DecisionTreeClassifier()\n",
        "model = AdaBoostClassifier()\n",
        "```\n",
        "\n",
        "\n",
        "\n",
        "#### Sweep Config\n",
        "Define the name of your sweep, how you'd like to sweep and what parameters to sweep over. See the [Sweep Configuration Docs](https://docs.wandb.ai/guides/sweeps/configuration) here for more advanced functionality"
      ]
    },
    {
      "cell_type": "markdown",
      "source": [
        "* Catboost"
      ],
      "metadata": {
        "id": "64mu52Hg9Zhv"
      }
    },
    {
      "cell_type": "code",
      "execution_count": null,
      "metadata": {
        "id": "gmPoRCjOsrzQ"
      },
      "outputs": [],
      "source": [
        "sweep_config_cat = {\n",
        "  \"name\" : \"beans_sweep_cat\",\n",
        "  \"method\" : \"random\",\n",
        "  \"parameters\" : {\n",
        "    \"colsample_bylevel\" :{\n",
        "      \"min\": 0.3,\n",
        "      \"max\": 0.9\n",
        "    },\n",
        "    \"subsample\" :{\n",
        "      \"min\": 0.2,\n",
        "      \"max\": 0.9\n",
        "    },\n",
        "    \"depth\":{\n",
        "        \"min\":5,\n",
        "        \"max\":10\n",
        "    },\n",
        "\n",
        "    # [Optional] add additional parameters here\n",
        "\n",
        "  }\n",
        "}\n",
        "\n",
        "sweep_id_cat = wandb.sweep(sweep_config_cat, project=PROJECT)"
      ]
    },
    {
      "cell_type": "markdown",
      "source": [
        "* RandomForest"
      ],
      "metadata": {
        "id": "BBLXCPHb9cTm"
      }
    },
    {
      "cell_type": "code",
      "source": [
        "sweep_config_rand = {\n",
        "  \"name\" : \"beans_sweep_rand\",\n",
        "  \"method\" : \"random\",\n",
        "  \"parameters\" : {\n",
        "    \"n_estimators\" :{\n",
        "      \"min\": 10,\n",
        "      \"max\": 400\n",
        "    },\n",
        "    \"max_depth\" :{\n",
        "      \"min\": 2,\n",
        "      \"max\": 100\n",
        "    },\n",
        "\n",
        "    # [Optional] add additional parameters here\n",
        "\n",
        "  }\n",
        "}\n",
        "\n",
        "sweep_id_rand = wandb.sweep(sweep_config_rand, project=PROJECT)"
      ],
      "metadata": {
        "colab": {
          "base_uri": "https://localhost:8080/"
        },
        "id": "o1bbLKWO9evw",
        "outputId": "4315850c-6d5e-4756-c801-10fd67ae6973"
      },
      "execution_count": null,
      "outputs": [
        {
          "output_type": "stream",
          "name": "stdout",
          "text": [
            "Create sweep with ID: ddxglsl1\n",
            "Sweep URL: https://wandb.ai/atufa/beans-tabular-IIT-G/sweeps/ddxglsl1\n"
          ]
        }
      ]
    },
    {
      "cell_type": "markdown",
      "metadata": {
        "id": "jlWEExyQosPw"
      },
      "source": [
        "💡 **Tip**\n",
        "\n",
        "The above `sweeps_config` is very simple, consider sweeping over additional parameters - don't forget to modify your `train` function to pass these additional parameters to your model\n",
        "\n",
        "#### Run Sweep\n",
        "Now we define the number of experiments we'd like to run using `N_RUNS`, pass the sweep_id and the training function and then start the sweep\n"
      ]
    },
    {
      "cell_type": "markdown",
      "source": [
        "* random Forest"
      ],
      "metadata": {
        "id": "a3bEoISF_VIp"
      }
    },
    {
      "cell_type": "code",
      "execution_count": null,
      "metadata": {
        "id": "ZvEEKlALsrsN",
        "colab": {
          "base_uri": "https://localhost:8080/",
          "height": 1000,
          "referenced_widgets": [
            "708a8b5678aa45198c25f31c6b9d26b9",
            "ce0736a16b034323b309285c09123f12",
            "5bbcd7a9ced64fa283f519a3854b7917",
            "7e05bf71df3742598eb1f1d2ce8e904f",
            "8a85c7d5b6eb4772972690788a717974",
            "1fc50f568e1f4a7bbf5bb7a224a0515d",
            "0975ba0f61f74502ab8f037a7689fb83",
            "d9f3ea678ef24c9ea9631e97143b8181",
            "288aef916dda41feb1e910cfc5edb19b",
            "5b82bb8330594551955ab593b79ef9ec",
            "a4deed00f5eb47c2a81f17bd57ba6ccf",
            "71152f9bf05f428fb418686be82b6ffe",
            "e4276b98b63a432681b5c2fcee37ddc8",
            "8f2059053515435d8710ecee3680f357",
            "7e506a3516154b8aa859cf7f49ca4e32",
            "1c2f04b4cdae49028c2b5fd8cff079aa",
            "4cab043e5d734b7a8bdd22ff3b7d4720",
            "1c7b589fd51d4b138ff80179dafa426c",
            "4950ab7ef1fc44119ddbd4b505aebe3a",
            "7e09fd4d332b432a991c639c730c75a1",
            "4d8d617d6e1a4f18be600c54147e29cd",
            "07de569526a0481f815748dcdf7c9018",
            "f438191944e04aff87e3fa259f5c2120",
            "a9104394ffcc4c52bac55008f272b708",
            "b7c3b6d2687942d1b91b793665a9df94",
            "3599467862bc4a89bf8ecebaaa678219",
            "58b3e21a7df046308220ab8d58a5f1a5",
            "614a082cdf504d52a478418ae859a8a6",
            "ae2af20c1ee74fee8722ebf6d32dc61c",
            "ccf8ff5da2ee4373a6ec5104ffda7fac",
            "9f3ed333cbad45b2b8ae6250956a6f50",
            "de0209f75ba04bc2a395b89714bcb3fe",
            "1bea4dcea6d5413fbb80adc251adb455",
            "301b51485b6f4ff79095afff1af8461e",
            "6f8085e5b0eb4343932ecda69ae7cecf",
            "f78ad9715d244ec393f2aa0f83993a3a",
            "3ede9780ad6a40ee951e779f7b091f97",
            "a3f840d091914603aaa18d2f1c99fc81",
            "a3eecab198914abbbf76c19f64a27086",
            "1d18bf6d782b49a38b5d4923e050e120",
            "4670dc456514474c88c4625b6ecfbb3f",
            "3ed1d9b5b0884fc788c36694ec21926a",
            "8c5a357818fd4c23ae7e825dcca488f4",
            "0721617711c9471ea83294137af743b2",
            "aaeaa9095bd549d4a4ab056a70e84339",
            "7339e3096e4245e6965a4e245aa5f584",
            "0d15c5fecdc5437d9d299f35f26cde74",
            "5170b1ee08fb4808917e28b852c876ee",
            "b050eb459716420ca01d2b770edf1692",
            "8cca0b1787a84e7b985c5ddd83eb8198",
            "aca2c91fc40542718f48fb7fc8cecdcd",
            "f263bc7f5cc3415fa8a3f7f98299f982",
            "10bb541880484a6faffd40307054e89b",
            "a0208aacd322469f9e51dc1300a073ac",
            "3115e25a3baa4ba38cee86c512e38ba7",
            "f7d1c63975cd47478a1b4f2688b30f32",
            "6a39bc8f92264866b7993098667c026b",
            "6d682496ff2141ad97f8f2be9bf5cc79",
            "ae4f1f3f3761427a818b085e9cfeeb5e",
            "840f4dd1e3d44edd908f5da86aefb0ef",
            "5455cc92d1174f049559c94b60ae88fd",
            "61e35262e51c4a16b48051be1a02e75d",
            "decc6a255b9d4314992bda0e948ef9cf",
            "3c2ceeb9bf634a5faebc2e620d5b94d2",
            "8896c3dd1ddf4531aaf961075767c5ad",
            "649e75c692e74652b058d36240c84117",
            "c160fdb8302b41be80224b9cb908df3b",
            "73f68103ea7d45b5959504301731619a",
            "432c58ab3b544249bd48cd393c7bd4ed",
            "60d8c1d0a46d4d689f974011832d19d1",
            "aa970d7198854060ac4c150552ae17b0",
            "34efad04914b417a8f45885e11fcfc58",
            "c09bfb7383f14354aafed0503ca2d559",
            "f4aa4a59092b4004993629b39f95f846",
            "0e61e75c2d2c48d8b94d2ba236b70c18",
            "3de9e4ce1c8741af932bcaa4d1663d8a",
            "d9306b5420a54906a59ed17de6c57747",
            "b4357351a9fc4456af87b2e32fb7adc9",
            "f052f9c154f54a8db8873ddc56979082",
            "4b1b1660796a4402bd32c8c1393715ca",
            "1fbfae4db456486ba466b06826b79cfe",
            "83c46eb735794c1e853dc54150651e10",
            "56324793797b4946ab0dc84f6a90648b",
            "8a293edcfe1c48bc8ad1b8b13c805d3a",
            "5627ba04e27c47e3aa07f223a781f976",
            "a1004904473940029ecaf61d8717aa02",
            "fd3c52c9e33f4e20b21cc537ab03aadc",
            "eda3eddb7809401c8a5b865a2f6db460",
            "d351b2a14ad6424ea8d231ac6e4d4d62",
            "24a538864e214862845c553c3f63a991",
            "8c18d49008934468885ee2ffacbed1f5",
            "9ba958c7d49345dfbcc879a56c0429d5",
            "6a4b6407780940959d2f29d5b8fafb36",
            "c86d1b3af7ce4fac9a0f29bfb39b821a",
            "9d48ef47d2a4431a86bfd4833992a5c7",
            "252e08b20ec147f497b00b949f346950",
            "b0b9bb7598cc4e84b56d976c795e0758",
            "ed517e62228847f7bfb0d9307d4d2248",
            "f530174a2cfa431eb76d3b1327d1dc65",
            "8285e8543025485e9edc45aa16979e6e",
            "ce036f03b49747b0b062ea4939f53987",
            "e4ff0eda2a9d423f8247dff1cd989ac4",
            "6154006656964f92a06626800b963a34",
            "15da3ee103d94aafae215a0cb4b57225",
            "c524777d11e6493584a8750e87e9f548",
            "5ba5505a8d40484799a6aa6a19871c26",
            "306a87d73ae1435fa7ee52f36f5dfa6e",
            "c23cbfc381eb4112b0266d37ba3dabbf",
            "b022dfe1ddd144aa96c7e172c62b5355",
            "dd92979937e84621be3f30f1b4c498e1",
            "6d67b82b2a5a400b9e46d5628ed4ffcf",
            "6917141cba194aaea1731b667642a3dd",
            "74eee2f99c4c4900929cc71b17e7de5c",
            "a5cdb14e8614443792f71d7e056aba10",
            "f199f15b525d49eb93b618127b8e1a4e",
            "868ff0862ce849f5ae46d2e126e9b400",
            "00910102516e4db495e89533a9d083c1",
            "8cb68ff3bade4622bd62d5ee64573241",
            "baddeaafa0f449878a5813d0559cdbe2",
            "951ab1cd733a4b33aa3660a24590164a",
            "7bfc431a7fbf4735a81abb5c844a3e19",
            "680e1a3ca57a484ba5658cf400183b16",
            "35a2011eb6ec47329d763ace63c24ccf",
            "a47d4f9eec7c425eb56ff7126f3a065f",
            "114a406a2b184449bc3f4cf38aead6b0",
            "57d6ae71b3db421fb482123a42f35301",
            "ba4ef2568de54054b36776dca21cb995",
            "39ca12120d8a480081e4ad00c15d203b",
            "bc84762bf07e4cad9f76e06f9ae947b9",
            "8661a11f43324e0a811d2cd9c76783da",
            "3e1d4cf085e94352a9bff390a7b46203",
            "21c78d3bb905468bb6c40fc1389deb89",
            "632989ab1e894bfe8c58bc3b73cd83c3",
            "baf12fdbbe824133842889b715f9e22a",
            "37c1072e42d642da94de720e65dba2f0",
            "f25ae21016d54c1eb5a9ba0e86cdfe95",
            "c7270b81ab904230af19219f4f8a2896",
            "ba89e4beec0a4419bdaaa7ea5fdfc7a2",
            "62b85806f87940cda906646030cc81ea",
            "1a69f425f0ff46ebb25a75c0483a770e",
            "d7484bf3913a4ed19354cde67c14f712",
            "6a044c4aa7e54feaa6f2f588b4853074",
            "d3bde407762c4a678c8ccbfa33ac05fc",
            "9e0080c283da4294be221142b7ffc7e7",
            "c2f83efa60844b69baaae808f419fe26",
            "528cc667c3294efebedac6bd5e0e36ec",
            "2e6a80394d264dc79146f545d3cb57fe",
            "f5474b8d1dbe4f778a0aa69682c630b4",
            "a8982e0ac48f4904b8cea0189f9e4140",
            "6d1400ff5c0b4bcea35b1b1413b61d42",
            "4ee62e91065b4a2fa69aedec1d9cfb6d",
            "d53665334b0d4aaabb37dc79991beefd",
            "21ea9f72a87840df903314b4337482fe",
            "1008b34bd1924bd8aec536cf0fff268f",
            "479a42cfeb2744b88723a6e1eb5bd832",
            "77b2e74a4e4a40b7b83990c00fba36cd",
            "96079965c4a64517bf0fe58d7743c11e",
            "701c95f9ce7949deabe4cfeaf4fb1298",
            "c258996400a44f2b9ab754730ec60613",
            "1812b647d78e4a7899f4d437c640050d",
            "9c192c18b28e4fefb8da28c1c5b68888",
            "c0656836506f438b80c3085d891c75c1",
            "2da9bfa0ea5f4f91a121d69e083386c2",
            "7a68ecc7aa0d45a4bf318004f549dfda",
            "485589e95bfd49eab8dd98e02e615dc7",
            "69db8f9d40d74d868f807ee664b13131",
            "b8c848bdc5444417a294db7a3eaf7f6a",
            "8af90baf53e64e068ca895a0338e58a7",
            "292e518dc4634de6b50e4f1e504e4f35",
            "de4198198be64922903b7cfb1db52329",
            "9492f371fa1d4b6d96537a8373a37122",
            "7fca9d3e248d429a86b69f329f67f268",
            "41c453d2aca54fa493b025d5a0788c67",
            "143e2b084f1f4a589274c0e779e65c13",
            "5fd2126893104ffea99cf273eb176ee4",
            "a1e2f79f5d104155bc42cee740cae493",
            "4a6634ada551454fbc86799277531f6d",
            "a0939b94cf1f457ea3596706216b0825",
            "bea498baf1db45c5b0e6ad674954ed82",
            "72d56e1422684b7882a03a924c7c2fd8",
            "1126d392de434490a2b436123ee7a544",
            "3c12dd2ba909498b89f0e76bd6ed5cc2",
            "1c8862cf1c5342a68fe82d1e02555c1f",
            "24b9b89ac7014c2498aeddb66133f7cd",
            "e500f45889734a7792992283836c3939",
            "d09ccdb714c34ed899a013ecc5cd9c93",
            "bfd2c120608446d2a9e5f00e74455463",
            "3788af6ccdb94356b41e7674ffa61173",
            "bc38314025e24375a6a209f2f86580b2",
            "39b0b44fdf884fc68e394666b3b9caf6",
            "cf8a0ab2b6a64244a3ba5a0f6446c03f",
            "f0cc2a9fdec74a4a82e577dd66a4a22f",
            "15aced9ee3204ac28e342571a97897b5",
            "54b17fab5e0f4c4995282f92b9679be7",
            "87acf99cef2c45dd9bed6dc745396610",
            "58207e5ad3cb45dd91101380724fb263",
            "a8b763f1d01e40a68e6b774962871475",
            "4bcc1388c7514e10945b8b81d748bc89",
            "d408404dd1be477f8e81fa4cd390b004",
            "3789d767661343f0ab205574ba14c91e",
            "428b2d9a30234cc0b4e1fd4a1c614323",
            "778d0da1ce0844f18afafebc9c71cceb",
            "32ddcbc0a0024e13b456507bb7ed441f",
            "d21aab65435a48b0b5f33ec78fc08746",
            "8040d4df93344949b93b4c56bfbe37dc",
            "65b48ace344345e785b5df26c5feec89",
            "5c067d757bfc48f0902f0d30439552da",
            "aa917c5736e84df39117e13dbc4ff7fc",
            "9de25e798dd14c1aa176cbb517343aa0",
            "c0aa56b0a02240fb8cc36d12fb9670a5",
            "a010219e2d1a4567a8bbd2f0b30adfca",
            "3dd61decfc314b148e0a582c4ae6aeba",
            "c22df324ce914523a1266311a9ee2aa8",
            "b61b2236a2104ae1a9a89fdbebf2d483",
            "7e721d24d29642d9b1ccc91879a3bc43",
            "45392644173147a18c430e1402fa0a7e",
            "d223e4dcfc534b4198a6b31c26fe5ef8",
            "c8be44542e40495e9cf060bb0d77cb7b",
            "431fafed483b4bb3b869931fa27630be",
            "d15e7496af7840a1b621a8d0494e8b4a",
            "764bf6b008d44873ae1c3f93cb4437ec",
            "fccf84f4f8b1428c80d56495cec111f6",
            "ebe8a7946de34c7ea89d8fe31a9601c7",
            "503299969d52405bbb0cfca106c67bc2",
            "1af7461f73af4d9cb197e56f7fd841cb",
            "aaa049c4bf354d85ac0bac53b900a542",
            "1dbec6a0d5a248a4878268228ca5acba",
            "c55fed44633e4b38a2a99ee159905a86",
            "94e4767e77b24113acfe407e67ff4055",
            "063cf77911ef48fba934cecaad0a0ed5",
            "d6e32283d88149e499f5a5d931cc0d45",
            "576d3d979c1a4295918575c8c4a139b0",
            "42b43e1c0c134bdd98ea9bbfdfe39074",
            "ebd58c9391d34eb78617a4e9a5f334b2",
            "a56b1578fd0042b9bc5356b0ab4d1502",
            "00282b82e14f406a9f8f5608bc2c37cc",
            "a440adf1e1a74244af74b9efee887975",
            "9f049f338567425880063eba0456d42b",
            "eb65db32413b405c80a2261b71c2f22d",
            "aae38fedc8e545f78af2be082eb17167",
            "dd5facd710c244658acc018ff9f72b94",
            "d095328195444a74b8e193fe2f102315",
            "467691c7d9b24681af34d543466220f8",
            "4c9459d8b661407ab8cb0248f939f0f3",
            "4ee09835498449eab749469dbf0c3450",
            "a51ca8d03a3f4ea2b1ffdcd35476c7a9",
            "c65fc2d6e3b14f4ea506f56c3effafdc",
            "cf09724d51cd499b8cad3fdcaf9a7e36",
            "61ca049203ab4970a0f1d13a1ea7ec8b",
            "481318b32ba94ba7b99f7021f49cb450",
            "b784613205f547308c1a5e1f57cf582c",
            "32cecb56abb742a99816963815b1a8bc",
            "a22780680e3f4d53a2c9a9c4002118fb",
            "ff925d1167404a03b68ae54064ea7db1",
            "a82ceba78e0e4c12a89b3b9d96beb559",
            "6638e37ebed545b7a4104d0dfb4c6de7",
            "54b3e83cec514baf9ace5ce54f7a6d7e",
            "e5d339679eab4ecd8eeb63755fd9f570",
            "05274788231647a6a2a734c8c7b5edeb",
            "f8466130688c41da8df8bf038e1a31d7",
            "8979d1ab82a646f4a0ff78235ee2b70d",
            "8f4178c5911b4d9aa168ba8b3a69596f",
            "6469f0b0c76540acb1369b59e9e0e723",
            "f71b63e5728746ee81d2b16d080011e6",
            "afd415a4b908431980a8f56067f7a2f9",
            "ffe1c184ac4d487287811649105407f8",
            "07e7a8881bcf4718a0d9c0652855bdcb",
            "5f8218c59db64053b10e8aac8de59c62",
            "1b78a68b83824ef38230b5e610aa9682",
            "a2b607f2259d44fe8d5a39e966c2b91a",
            "5bfe2bf3bdb74ed3a885f01ade90e42b",
            "44eead4accdb45ceb3c2368f963fb5e6",
            "d9942f1a375540e487a3002f8a694d09",
            "e13d74dbfe7848de914e0595b4f4d456",
            "2c7f814bb8d44bb1a0157c5e8ee743d8",
            "44247c869a714925acc9141ae6f1b652",
            "42d28fc5c0e64de7baecfd6594823470",
            "dd9dc0312acd4e50a3e4f76906ec91f2",
            "bfa489147eaa49ef8089a32fa4f20a81",
            "1fd39b5b370044718b9c79d712d334e8",
            "847bed74968440f98a6a289bec163887",
            "b5132838dbfe437ba298dd420daf55d3",
            "2b3f1c6395be4315a899623f802053ea",
            "e3aaa76209db4a109b3b6726ac90da85",
            "03c57ca6545b48edb76a91eacf9ff99c",
            "f4c8c5e553a04f9696e8f38517aceffa",
            "5fd3ed4678c443a5afa4cf96156aec4b",
            "76505bad42c841399d6a7771870afebf",
            "f1f3664e15fd494fb53d2d9114c233f8",
            "8bb4129bcdd94dfcb7ea086f7003207c",
            "3560214dceb24ee7bdf73778233f198c",
            "4debb3c6341140569a12f3072fd87654",
            "ac723ee8c64e455ab4a25057621a064f",
            "6f019599024347fbb58e90342e89dc1b",
            "8bf5d49fe82a467c80788d2ad91bb870",
            "53c6ca288d58426db4fef336541595ac",
            "64af01c2ac914738b26ecae2b5e58ceb",
            "e6b18ab62e334c139b58f81df87fa8b3",
            "1a0618d7116940e38d5d1f9483b0abea",
            "70ab9927e0d24dddb05d59bfb9f6b6cb",
            "f8dc9c160a8347fbbd19826ceee3bc92",
            "bffb8a31845b4798af7a428a6a36559e",
            "0a82c97ad8ea427ca1737e2a568f63a5",
            "5ead9d95b68742fdb1a3e4a04d68e1af",
            "6cb346ef12ae48768a36743de392eb7b",
            "279a0ffd43134f15b690402dd0d15971",
            "44de38a3115b45f099cf7299d608be90",
            "51a86d6879b2407488f2947e1cd8cd8f",
            "58cff2db90e2453e921c6af2f2033da2",
            "40ab0586a3244fecac644839fe63e099",
            "8b7eb3ac92b04c2f98822c1e0ea858e5",
            "ca235cc3b97e444c84f197298af16646",
            "5e487cbea23340469744e4c2b05d4352",
            "d36d88e676fe46198301be59110b9c02",
            "55a314a067b04394958064c66023204b",
            "15d2cb5abad84147858400e4bcc64025",
            "2f6821b602034488b2b5de0f42a62873",
            "9ada2081567840bcb4169b41cacd8e13",
            "a4f41d5869c740f7870d87536538541f",
            "5aa0e91a08dc428691e1f74140d4aa8e",
            "263e03826c4748f6bb66a826eac94de1",
            "b523f0d9572043e086b5dee6b0dd1a3b",
            "2920b672082a429fb2ddb347246e2e9d",
            "0402183547b240b396716d936b7fc18c",
            "d6472bbeeb514c198232b38e1c95a3d6",
            "0e0c1920ae5a48c09afc9ceb7a52a6bd",
            "a45f462621b34557b511992a7fee9858",
            "26ac8e04d4b34fca8feff95d96f686c0",
            "1b2adc6fdee34b1eb2e1ed6547705e4e",
            "43f4e45e38114b20a9b30519f3b87ba2",
            "d6ee708396dd49ec8b96c68df93a1825",
            "70436a3056e34236a72233e5e3b8f7fc",
            "d71893e5831441679e416ad67a2e830c",
            "8ed1f7cd86d94a6ba4e39e915245d52b",
            "e866fee4b9eb4ef68e049dfb4289ae25",
            "2db98045f4254f9e95ca9ec4f52be14c",
            "4de5835b966d477ab4777515fb263bb2",
            "f647a6a6a5ed4b238b014f0e82d5fab3",
            "86d2b6af22c94af68a773b63b9ad1106",
            "c0ee3bcabed6489692dde9c4958da864",
            "308b9e529ceb49bf9f026640fc160f31",
            "63eb735f69944948bb814e2f9c68c55e",
            "fe7179c97f1e4ca1acd5a4382726925c",
            "33fcd67c0a1244c1a5ef37d38482c5b8",
            "d12f7d848bf74957b18b5307b26da7c1",
            "c92ca722f4d242c7b5ef475fa5c6822d",
            "d0f599dc0ef1481aa3cc381a65ce713e",
            "48df6727a31f4d79a7fac785192e4f0f",
            "a8775c961c8b466fadb20dddaa76377f",
            "b5aa1942472844ce8a536768a0a2fb1f",
            "3de618a782bc4ed0a572087893b72a31",
            "a0d07a3430b94b4aab5825526f296fd3",
            "dd7cc4f85171476c8eb9c10750decbc2",
            "bbac335bc25c4b60864aba4abaab6aa6",
            "19f39653362e40f1904b9e8ff0056a5e",
            "9e1eaa6b9b0849eaa9ea775793e97085",
            "f17ccb8cff2d44c68efda235e5ed05ec",
            "2ca361f7032b499fa6a2678e9b61b3e3",
            "7b0c654ea9c842558b8cdf26ce9ee2fc",
            "62920b956ac7414faa6144ecce8f64d3",
            "4b3d4bf0ac15444cba9dd652007f622d",
            "9c86602182d045db8248b9e8293c0129",
            "d5b44cf7d027417e9c0a8753d4faba29",
            "146cf68e5a114a8bb97c6e59ace5fe34",
            "50b00a07d5d340b7a5f8d6b497166519",
            "6afb2e2719fa4fb68a5d3ed022d354ce",
            "fb39bc8ded6b4172971d816f549b6ba0",
            "669c840db9b742fab5416fe8c0249c04",
            "cd00538a114d4f378463f2a9d864d12f",
            "494c507ec6f44235bad38342bad27772",
            "d1f42f7e2218462e96e1c9f4ec0c5415",
            "869716b633f74413aaa4c123e6befe7f",
            "b92e560f4f094ff4b26c9622bd42e655",
            "4408292ff733450f90d46376ef33d436",
            "d78e029db7b04b7fb278a0881922f43c",
            "bcfd1a67351d44138c938adfb80903f5",
            "60394318abce4abf9f4344d62e25a2dc",
            "9d6a051c259448c6ac573550f3db3721",
            "34cf539026fd49abad0ffa594a820914",
            "a19f2d060daa49778b967a8a85294d95",
            "36d6a19e42e44b1996d8d955717c783e",
            "c8d444f6387f4821991ed289c905b52b",
            "ad22236934054c729945465f8505ed74",
            "e6af420db9784f26827aa7fa04ef6518"
          ]
        },
        "outputId": "226bd8b1-9ecc-481d-ac11-cb3a94180c99"
      },
      "outputs": [
        {
          "output_type": "stream",
          "name": "stderr",
          "text": [
            "\u001b[34m\u001b[1mwandb\u001b[0m: Agent Starting Run: dird7hww with config:\n",
            "\u001b[34m\u001b[1mwandb\u001b[0m: \tmax_depth: 11\n",
            "\u001b[34m\u001b[1mwandb\u001b[0m: \tn_estimators: 210\n"
          ]
        },
        {
          "output_type": "display_data",
          "data": {
            "text/html": [
              "\n",
              "                    Syncing run <strong><a href=\"https://wandb.ai/atufa/beans-tabular-IIT-G/runs/dird7hww\" target=\"_blank\">feasible-sweep-1</a></strong> to <a href=\"https://wandb.ai/atufa/beans-tabular-IIT-G\" target=\"_blank\">Weights & Biases</a> (<a href=\"https://docs.wandb.com/integrations/jupyter.html\" target=\"_blank\">docs</a>).<br/>\n",
              "Sweep page: <a href=\"https://wandb.ai/atufa/beans-tabular-IIT-G/sweeps/vj8odfk2\" target=\"_blank\">https://wandb.ai/atufa/beans-tabular-IIT-G/sweeps/vj8odfk2</a><br/>\n",
              "\n",
              "                "
            ],
            "text/plain": [
              "<IPython.core.display.HTML object>"
            ]
          },
          "metadata": {}
        },
        {
          "output_type": "stream",
          "name": "stderr",
          "text": [
            "\u001b[34m\u001b[1mwandb\u001b[0m: \u001b[33mWARNING\u001b[0m Config item 'max_depth' was locked by 'sweep' (ignored update).\n",
            "\u001b[34m\u001b[1mwandb\u001b[0m: \u001b[33mWARNING\u001b[0m Config item 'n_estimators' was locked by 'sweep' (ignored update).\n"
          ]
        },
        {
          "output_type": "display_data",
          "data": {
            "text/html": [
              "<br/>Waiting for W&B process to finish, PID 670... <strong style=\"color:green\">(success).</strong>"
            ],
            "text/plain": [
              "<IPython.core.display.HTML object>"
            ]
          },
          "metadata": {}
        },
        {
          "output_type": "display_data",
          "data": {
            "application/vnd.jupyter.widget-view+json": {
              "model_id": "708a8b5678aa45198c25f31c6b9d26b9",
              "version_minor": 0,
              "version_major": 2
            },
            "text/plain": [
              "VBox(children=(Label(value=' 0.04MB of 0.04MB uploaded (0.00MB deduped)\\r'), FloatProgress(value=1.0, max=1.0)…"
            ]
          },
          "metadata": {}
        },
        {
          "output_type": "display_data",
          "data": {
            "text/html": [
              "<style>\n",
              "    table.wandb td:nth-child(1) { padding: 0 10px; text-align: right }\n",
              "    .wandb-row { display: flex; flex-direction: row; flex-wrap: wrap; width: 100% }\n",
              "    .wandb-col { display: flex; flex-direction: column; flex-basis: 100%; flex: 1; padding: 10px; }\n",
              "    </style>\n",
              "<div class=\"wandb-row\"><div class=\"wandb-col\">\n",
              "</div><div class=\"wandb-col\">\n",
              "<h3>Run summary:</h3><br/><table class=\"wandb\"><tr><td>validation/accuracy</td><td>0.92986</td></tr><tr><td>validation/f1_score</td><td>0.92976</td></tr><tr><td>validation/precision</td><td>0.92974</td></tr><tr><td>validation/recall</td><td>0.92986</td></tr></table>\n",
              "</div></div>\n",
              "Synced 5 W&B file(s), 0 media file(s), 1 artifact file(s) and 0 other file(s)\n",
              "<br/>Synced <strong style=\"color:#cdcd00\">feasible-sweep-1</strong>: <a href=\"https://wandb.ai/atufa/beans-tabular-IIT-G/runs/dird7hww\" target=\"_blank\">https://wandb.ai/atufa/beans-tabular-IIT-G/runs/dird7hww</a><br/>\n",
              "Find logs at: <code>./wandb/run-20220221_191621-dird7hww/logs</code><br/>\n"
            ],
            "text/plain": [
              "<IPython.core.display.HTML object>"
            ]
          },
          "metadata": {}
        },
        {
          "output_type": "stream",
          "name": "stderr",
          "text": [
            "\u001b[34m\u001b[1mwandb\u001b[0m: Agent Starting Run: srx0dbzi with config:\n",
            "\u001b[34m\u001b[1mwandb\u001b[0m: \tmax_depth: 79\n",
            "\u001b[34m\u001b[1mwandb\u001b[0m: \tn_estimators: 48\n"
          ]
        },
        {
          "output_type": "display_data",
          "data": {
            "text/html": [
              "\n",
              "                    Syncing run <strong><a href=\"https://wandb.ai/atufa/beans-tabular-IIT-G/runs/srx0dbzi\" target=\"_blank\">golden-sweep-2</a></strong> to <a href=\"https://wandb.ai/atufa/beans-tabular-IIT-G\" target=\"_blank\">Weights & Biases</a> (<a href=\"https://docs.wandb.com/integrations/jupyter.html\" target=\"_blank\">docs</a>).<br/>\n",
              "Sweep page: <a href=\"https://wandb.ai/atufa/beans-tabular-IIT-G/sweeps/vj8odfk2\" target=\"_blank\">https://wandb.ai/atufa/beans-tabular-IIT-G/sweeps/vj8odfk2</a><br/>\n",
              "\n",
              "                "
            ],
            "text/plain": [
              "<IPython.core.display.HTML object>"
            ]
          },
          "metadata": {}
        },
        {
          "output_type": "stream",
          "name": "stderr",
          "text": [
            "\u001b[34m\u001b[1mwandb\u001b[0m: \u001b[33mWARNING\u001b[0m Config item 'max_depth' was locked by 'sweep' (ignored update).\n",
            "\u001b[34m\u001b[1mwandb\u001b[0m: \u001b[33mWARNING\u001b[0m Config item 'n_estimators' was locked by 'sweep' (ignored update).\n"
          ]
        },
        {
          "output_type": "display_data",
          "data": {
            "text/html": [
              "<br/>Waiting for W&B process to finish, PID 712... <strong style=\"color:green\">(success).</strong>"
            ],
            "text/plain": [
              "<IPython.core.display.HTML object>"
            ]
          },
          "metadata": {}
        },
        {
          "output_type": "display_data",
          "data": {
            "application/vnd.jupyter.widget-view+json": {
              "model_id": "288aef916dda41feb1e910cfc5edb19b",
              "version_minor": 0,
              "version_major": 2
            },
            "text/plain": [
              "VBox(children=(Label(value=' 0.04MB of 0.04MB uploaded (0.00MB deduped)\\r'), FloatProgress(value=1.0, max=1.0)…"
            ]
          },
          "metadata": {}
        },
        {
          "output_type": "display_data",
          "data": {
            "text/html": [
              "<style>\n",
              "    table.wandb td:nth-child(1) { padding: 0 10px; text-align: right }\n",
              "    .wandb-row { display: flex; flex-direction: row; flex-wrap: wrap; width: 100% }\n",
              "    .wandb-col { display: flex; flex-direction: column; flex-basis: 100%; flex: 1; padding: 10px; }\n",
              "    </style>\n",
              "<div class=\"wandb-row\"><div class=\"wandb-col\">\n",
              "</div><div class=\"wandb-col\">\n",
              "<h3>Run summary:</h3><br/><table class=\"wandb\"><tr><td>validation/accuracy</td><td>0.92902</td></tr><tr><td>validation/f1_score</td><td>0.92885</td></tr><tr><td>validation/precision</td><td>0.92876</td></tr><tr><td>validation/recall</td><td>0.92902</td></tr></table>\n",
              "</div></div>\n",
              "Synced 5 W&B file(s), 0 media file(s), 1 artifact file(s) and 0 other file(s)\n",
              "<br/>Synced <strong style=\"color:#cdcd00\">golden-sweep-2</strong>: <a href=\"https://wandb.ai/atufa/beans-tabular-IIT-G/runs/srx0dbzi\" target=\"_blank\">https://wandb.ai/atufa/beans-tabular-IIT-G/runs/srx0dbzi</a><br/>\n",
              "Find logs at: <code>./wandb/run-20220221_191641-srx0dbzi/logs</code><br/>\n"
            ],
            "text/plain": [
              "<IPython.core.display.HTML object>"
            ]
          },
          "metadata": {}
        },
        {
          "output_type": "stream",
          "name": "stderr",
          "text": [
            "\u001b[34m\u001b[1mwandb\u001b[0m: Agent Starting Run: 8n6lddwj with config:\n",
            "\u001b[34m\u001b[1mwandb\u001b[0m: \tmax_depth: 10\n",
            "\u001b[34m\u001b[1mwandb\u001b[0m: \tn_estimators: 204\n"
          ]
        },
        {
          "output_type": "display_data",
          "data": {
            "text/html": [
              "\n",
              "                    Syncing run <strong><a href=\"https://wandb.ai/atufa/beans-tabular-IIT-G/runs/8n6lddwj\" target=\"_blank\">apricot-sweep-3</a></strong> to <a href=\"https://wandb.ai/atufa/beans-tabular-IIT-G\" target=\"_blank\">Weights & Biases</a> (<a href=\"https://docs.wandb.com/integrations/jupyter.html\" target=\"_blank\">docs</a>).<br/>\n",
              "Sweep page: <a href=\"https://wandb.ai/atufa/beans-tabular-IIT-G/sweeps/vj8odfk2\" target=\"_blank\">https://wandb.ai/atufa/beans-tabular-IIT-G/sweeps/vj8odfk2</a><br/>\n",
              "\n",
              "                "
            ],
            "text/plain": [
              "<IPython.core.display.HTML object>"
            ]
          },
          "metadata": {}
        },
        {
          "output_type": "stream",
          "name": "stderr",
          "text": [
            "\u001b[34m\u001b[1mwandb\u001b[0m: \u001b[33mWARNING\u001b[0m Config item 'max_depth' was locked by 'sweep' (ignored update).\n",
            "\u001b[34m\u001b[1mwandb\u001b[0m: \u001b[33mWARNING\u001b[0m Config item 'n_estimators' was locked by 'sweep' (ignored update).\n"
          ]
        },
        {
          "output_type": "display_data",
          "data": {
            "text/html": [
              "<br/>Waiting for W&B process to finish, PID 756... <strong style=\"color:green\">(success).</strong>"
            ],
            "text/plain": [
              "<IPython.core.display.HTML object>"
            ]
          },
          "metadata": {}
        },
        {
          "output_type": "display_data",
          "data": {
            "application/vnd.jupyter.widget-view+json": {
              "model_id": "4cab043e5d734b7a8bdd22ff3b7d4720",
              "version_minor": 0,
              "version_major": 2
            },
            "text/plain": [
              "VBox(children=(Label(value=' 0.04MB of 0.04MB uploaded (0.00MB deduped)\\r'), FloatProgress(value=1.0, max=1.0)…"
            ]
          },
          "metadata": {}
        },
        {
          "output_type": "display_data",
          "data": {
            "text/html": [
              "<style>\n",
              "    table.wandb td:nth-child(1) { padding: 0 10px; text-align: right }\n",
              "    .wandb-row { display: flex; flex-direction: row; flex-wrap: wrap; width: 100% }\n",
              "    .wandb-col { display: flex; flex-direction: column; flex-basis: 100%; flex: 1; padding: 10px; }\n",
              "    </style>\n",
              "<div class=\"wandb-row\"><div class=\"wandb-col\">\n",
              "</div><div class=\"wandb-col\">\n",
              "<h3>Run summary:</h3><br/><table class=\"wandb\"><tr><td>validation/accuracy</td><td>0.93213</td></tr><tr><td>validation/f1_score</td><td>0.93215</td></tr><tr><td>validation/precision</td><td>0.93223</td></tr><tr><td>validation/recall</td><td>0.93213</td></tr></table>\n",
              "</div></div>\n",
              "Synced 5 W&B file(s), 0 media file(s), 1 artifact file(s) and 0 other file(s)\n",
              "<br/>Synced <strong style=\"color:#cdcd00\">apricot-sweep-3</strong>: <a href=\"https://wandb.ai/atufa/beans-tabular-IIT-G/runs/8n6lddwj\" target=\"_blank\">https://wandb.ai/atufa/beans-tabular-IIT-G/runs/8n6lddwj</a><br/>\n",
              "Find logs at: <code>./wandb/run-20220221_191656-8n6lddwj/logs</code><br/>\n"
            ],
            "text/plain": [
              "<IPython.core.display.HTML object>"
            ]
          },
          "metadata": {}
        },
        {
          "output_type": "stream",
          "name": "stderr",
          "text": [
            "\u001b[34m\u001b[1mwandb\u001b[0m: Agent Starting Run: 4okefv4o with config:\n",
            "\u001b[34m\u001b[1mwandb\u001b[0m: \tmax_depth: 28\n",
            "\u001b[34m\u001b[1mwandb\u001b[0m: \tn_estimators: 147\n"
          ]
        },
        {
          "output_type": "display_data",
          "data": {
            "text/html": [
              "\n",
              "                    Syncing run <strong><a href=\"https://wandb.ai/atufa/beans-tabular-IIT-G/runs/4okefv4o\" target=\"_blank\">glorious-sweep-4</a></strong> to <a href=\"https://wandb.ai/atufa/beans-tabular-IIT-G\" target=\"_blank\">Weights & Biases</a> (<a href=\"https://docs.wandb.com/integrations/jupyter.html\" target=\"_blank\">docs</a>).<br/>\n",
              "Sweep page: <a href=\"https://wandb.ai/atufa/beans-tabular-IIT-G/sweeps/vj8odfk2\" target=\"_blank\">https://wandb.ai/atufa/beans-tabular-IIT-G/sweeps/vj8odfk2</a><br/>\n",
              "\n",
              "                "
            ],
            "text/plain": [
              "<IPython.core.display.HTML object>"
            ]
          },
          "metadata": {}
        },
        {
          "output_type": "stream",
          "name": "stderr",
          "text": [
            "\u001b[34m\u001b[1mwandb\u001b[0m: \u001b[33mWARNING\u001b[0m Config item 'max_depth' was locked by 'sweep' (ignored update).\n",
            "\u001b[34m\u001b[1mwandb\u001b[0m: \u001b[33mWARNING\u001b[0m Config item 'n_estimators' was locked by 'sweep' (ignored update).\n"
          ]
        },
        {
          "output_type": "display_data",
          "data": {
            "text/html": [
              "<br/>Waiting for W&B process to finish, PID 796... <strong style=\"color:green\">(success).</strong>"
            ],
            "text/plain": [
              "<IPython.core.display.HTML object>"
            ]
          },
          "metadata": {}
        },
        {
          "output_type": "display_data",
          "data": {
            "application/vnd.jupyter.widget-view+json": {
              "model_id": "b7c3b6d2687942d1b91b793665a9df94",
              "version_minor": 0,
              "version_major": 2
            },
            "text/plain": [
              "VBox(children=(Label(value=' 0.04MB of 0.04MB uploaded (0.00MB deduped)\\r'), FloatProgress(value=1.0, max=1.0)…"
            ]
          },
          "metadata": {}
        },
        {
          "output_type": "display_data",
          "data": {
            "text/html": [
              "<style>\n",
              "    table.wandb td:nth-child(1) { padding: 0 10px; text-align: right }\n",
              "    .wandb-row { display: flex; flex-direction: row; flex-wrap: wrap; width: 100% }\n",
              "    .wandb-col { display: flex; flex-direction: column; flex-basis: 100%; flex: 1; padding: 10px; }\n",
              "    </style>\n",
              "<div class=\"wandb-row\"><div class=\"wandb-col\">\n",
              "</div><div class=\"wandb-col\">\n",
              "<h3>Run summary:</h3><br/><table class=\"wandb\"><tr><td>validation/accuracy</td><td>0.93043</td></tr><tr><td>validation/f1_score</td><td>0.93032</td></tr><tr><td>validation/precision</td><td>0.93029</td></tr><tr><td>validation/recall</td><td>0.93043</td></tr></table>\n",
              "</div></div>\n",
              "Synced 5 W&B file(s), 0 media file(s), 1 artifact file(s) and 0 other file(s)\n",
              "<br/>Synced <strong style=\"color:#cdcd00\">glorious-sweep-4</strong>: <a href=\"https://wandb.ai/atufa/beans-tabular-IIT-G/runs/4okefv4o\" target=\"_blank\">https://wandb.ai/atufa/beans-tabular-IIT-G/runs/4okefv4o</a><br/>\n",
              "Find logs at: <code>./wandb/run-20220221_191717-4okefv4o/logs</code><br/>\n"
            ],
            "text/plain": [
              "<IPython.core.display.HTML object>"
            ]
          },
          "metadata": {}
        },
        {
          "output_type": "stream",
          "name": "stderr",
          "text": [
            "\u001b[34m\u001b[1mwandb\u001b[0m: Agent Starting Run: ppb2vyek with config:\n",
            "\u001b[34m\u001b[1mwandb\u001b[0m: \tmax_depth: 60\n",
            "\u001b[34m\u001b[1mwandb\u001b[0m: \tn_estimators: 176\n"
          ]
        },
        {
          "output_type": "display_data",
          "data": {
            "text/html": [
              "\n",
              "                    Syncing run <strong><a href=\"https://wandb.ai/atufa/beans-tabular-IIT-G/runs/ppb2vyek\" target=\"_blank\">worldly-sweep-5</a></strong> to <a href=\"https://wandb.ai/atufa/beans-tabular-IIT-G\" target=\"_blank\">Weights & Biases</a> (<a href=\"https://docs.wandb.com/integrations/jupyter.html\" target=\"_blank\">docs</a>).<br/>\n",
              "Sweep page: <a href=\"https://wandb.ai/atufa/beans-tabular-IIT-G/sweeps/vj8odfk2\" target=\"_blank\">https://wandb.ai/atufa/beans-tabular-IIT-G/sweeps/vj8odfk2</a><br/>\n",
              "\n",
              "                "
            ],
            "text/plain": [
              "<IPython.core.display.HTML object>"
            ]
          },
          "metadata": {}
        },
        {
          "output_type": "stream",
          "name": "stderr",
          "text": [
            "\u001b[34m\u001b[1mwandb\u001b[0m: \u001b[33mWARNING\u001b[0m Config item 'max_depth' was locked by 'sweep' (ignored update).\n",
            "\u001b[34m\u001b[1mwandb\u001b[0m: \u001b[33mWARNING\u001b[0m Config item 'n_estimators' was locked by 'sweep' (ignored update).\n"
          ]
        },
        {
          "output_type": "display_data",
          "data": {
            "text/html": [
              "<br/>Waiting for W&B process to finish, PID 840... <strong style=\"color:green\">(success).</strong>"
            ],
            "text/plain": [
              "<IPython.core.display.HTML object>"
            ]
          },
          "metadata": {}
        },
        {
          "output_type": "display_data",
          "data": {
            "application/vnd.jupyter.widget-view+json": {
              "model_id": "1bea4dcea6d5413fbb80adc251adb455",
              "version_minor": 0,
              "version_major": 2
            },
            "text/plain": [
              "VBox(children=(Label(value=' 0.04MB of 0.04MB uploaded (0.00MB deduped)\\r'), FloatProgress(value=1.0, max=1.0)…"
            ]
          },
          "metadata": {}
        },
        {
          "output_type": "display_data",
          "data": {
            "text/html": [
              "<style>\n",
              "    table.wandb td:nth-child(1) { padding: 0 10px; text-align: right }\n",
              "    .wandb-row { display: flex; flex-direction: row; flex-wrap: wrap; width: 100% }\n",
              "    .wandb-col { display: flex; flex-direction: column; flex-basis: 100%; flex: 1; padding: 10px; }\n",
              "    </style>\n",
              "<div class=\"wandb-row\"><div class=\"wandb-col\">\n",
              "</div><div class=\"wandb-col\">\n",
              "<h3>Run summary:</h3><br/><table class=\"wandb\"><tr><td>validation/accuracy</td><td>0.92958</td></tr><tr><td>validation/f1_score</td><td>0.92947</td></tr><tr><td>validation/precision</td><td>0.92942</td></tr><tr><td>validation/recall</td><td>0.92958</td></tr></table>\n",
              "</div></div>\n",
              "Synced 5 W&B file(s), 0 media file(s), 1 artifact file(s) and 0 other file(s)\n",
              "<br/>Synced <strong style=\"color:#cdcd00\">worldly-sweep-5</strong>: <a href=\"https://wandb.ai/atufa/beans-tabular-IIT-G/runs/ppb2vyek\" target=\"_blank\">https://wandb.ai/atufa/beans-tabular-IIT-G/runs/ppb2vyek</a><br/>\n",
              "Find logs at: <code>./wandb/run-20220221_191737-ppb2vyek/logs</code><br/>\n"
            ],
            "text/plain": [
              "<IPython.core.display.HTML object>"
            ]
          },
          "metadata": {}
        },
        {
          "output_type": "stream",
          "name": "stderr",
          "text": [
            "\u001b[34m\u001b[1mwandb\u001b[0m: Agent Starting Run: p1zs0wzc with config:\n",
            "\u001b[34m\u001b[1mwandb\u001b[0m: \tmax_depth: 78\n",
            "\u001b[34m\u001b[1mwandb\u001b[0m: \tn_estimators: 240\n"
          ]
        },
        {
          "output_type": "display_data",
          "data": {
            "text/html": [
              "\n",
              "                    Syncing run <strong><a href=\"https://wandb.ai/atufa/beans-tabular-IIT-G/runs/p1zs0wzc\" target=\"_blank\">major-sweep-6</a></strong> to <a href=\"https://wandb.ai/atufa/beans-tabular-IIT-G\" target=\"_blank\">Weights & Biases</a> (<a href=\"https://docs.wandb.com/integrations/jupyter.html\" target=\"_blank\">docs</a>).<br/>\n",
              "Sweep page: <a href=\"https://wandb.ai/atufa/beans-tabular-IIT-G/sweeps/vj8odfk2\" target=\"_blank\">https://wandb.ai/atufa/beans-tabular-IIT-G/sweeps/vj8odfk2</a><br/>\n",
              "\n",
              "                "
            ],
            "text/plain": [
              "<IPython.core.display.HTML object>"
            ]
          },
          "metadata": {}
        },
        {
          "output_type": "stream",
          "name": "stderr",
          "text": [
            "\u001b[34m\u001b[1mwandb\u001b[0m: \u001b[33mWARNING\u001b[0m Config item 'max_depth' was locked by 'sweep' (ignored update).\n",
            "\u001b[34m\u001b[1mwandb\u001b[0m: \u001b[33mWARNING\u001b[0m Config item 'n_estimators' was locked by 'sweep' (ignored update).\n"
          ]
        },
        {
          "output_type": "display_data",
          "data": {
            "text/html": [
              "<br/>Waiting for W&B process to finish, PID 884... <strong style=\"color:green\">(success).</strong>"
            ],
            "text/plain": [
              "<IPython.core.display.HTML object>"
            ]
          },
          "metadata": {}
        },
        {
          "output_type": "display_data",
          "data": {
            "application/vnd.jupyter.widget-view+json": {
              "model_id": "4670dc456514474c88c4625b6ecfbb3f",
              "version_minor": 0,
              "version_major": 2
            },
            "text/plain": [
              "VBox(children=(Label(value=' 0.04MB of 0.04MB uploaded (0.00MB deduped)\\r'), FloatProgress(value=1.0, max=1.0)…"
            ]
          },
          "metadata": {}
        },
        {
          "output_type": "display_data",
          "data": {
            "text/html": [
              "<style>\n",
              "    table.wandb td:nth-child(1) { padding: 0 10px; text-align: right }\n",
              "    .wandb-row { display: flex; flex-direction: row; flex-wrap: wrap; width: 100% }\n",
              "    .wandb-col { display: flex; flex-direction: column; flex-basis: 100%; flex: 1; padding: 10px; }\n",
              "    </style>\n",
              "<div class=\"wandb-row\"><div class=\"wandb-col\">\n",
              "</div><div class=\"wandb-col\">\n",
              "<h3>Run summary:</h3><br/><table class=\"wandb\"><tr><td>validation/accuracy</td><td>0.93071</td></tr><tr><td>validation/f1_score</td><td>0.93062</td></tr><tr><td>validation/precision</td><td>0.9306</td></tr><tr><td>validation/recall</td><td>0.93071</td></tr></table>\n",
              "</div></div>\n",
              "Synced 5 W&B file(s), 0 media file(s), 1 artifact file(s) and 0 other file(s)\n",
              "<br/>Synced <strong style=\"color:#cdcd00\">major-sweep-6</strong>: <a href=\"https://wandb.ai/atufa/beans-tabular-IIT-G/runs/p1zs0wzc\" target=\"_blank\">https://wandb.ai/atufa/beans-tabular-IIT-G/runs/p1zs0wzc</a><br/>\n",
              "Find logs at: <code>./wandb/run-20220221_191758-p1zs0wzc/logs</code><br/>\n"
            ],
            "text/plain": [
              "<IPython.core.display.HTML object>"
            ]
          },
          "metadata": {}
        },
        {
          "output_type": "stream",
          "name": "stderr",
          "text": [
            "\u001b[34m\u001b[1mwandb\u001b[0m: Agent Starting Run: 18lpzu0i with config:\n",
            "\u001b[34m\u001b[1mwandb\u001b[0m: \tmax_depth: 70\n",
            "\u001b[34m\u001b[1mwandb\u001b[0m: \tn_estimators: 64\n"
          ]
        },
        {
          "output_type": "display_data",
          "data": {
            "text/html": [
              "\n",
              "                    Syncing run <strong><a href=\"https://wandb.ai/atufa/beans-tabular-IIT-G/runs/18lpzu0i\" target=\"_blank\">dry-sweep-7</a></strong> to <a href=\"https://wandb.ai/atufa/beans-tabular-IIT-G\" target=\"_blank\">Weights & Biases</a> (<a href=\"https://docs.wandb.com/integrations/jupyter.html\" target=\"_blank\">docs</a>).<br/>\n",
              "Sweep page: <a href=\"https://wandb.ai/atufa/beans-tabular-IIT-G/sweeps/vj8odfk2\" target=\"_blank\">https://wandb.ai/atufa/beans-tabular-IIT-G/sweeps/vj8odfk2</a><br/>\n",
              "\n",
              "                "
            ],
            "text/plain": [
              "<IPython.core.display.HTML object>"
            ]
          },
          "metadata": {}
        },
        {
          "output_type": "stream",
          "name": "stderr",
          "text": [
            "\u001b[34m\u001b[1mwandb\u001b[0m: \u001b[33mWARNING\u001b[0m Config item 'max_depth' was locked by 'sweep' (ignored update).\n",
            "\u001b[34m\u001b[1mwandb\u001b[0m: \u001b[33mWARNING\u001b[0m Config item 'n_estimators' was locked by 'sweep' (ignored update).\n"
          ]
        },
        {
          "output_type": "display_data",
          "data": {
            "text/html": [
              "<br/>Waiting for W&B process to finish, PID 924... <strong style=\"color:green\">(success).</strong>"
            ],
            "text/plain": [
              "<IPython.core.display.HTML object>"
            ]
          },
          "metadata": {}
        },
        {
          "output_type": "display_data",
          "data": {
            "application/vnd.jupyter.widget-view+json": {
              "model_id": "b050eb459716420ca01d2b770edf1692",
              "version_minor": 0,
              "version_major": 2
            },
            "text/plain": [
              "VBox(children=(Label(value=' 0.04MB of 0.04MB uploaded (0.00MB deduped)\\r'), FloatProgress(value=1.0, max=1.0)…"
            ]
          },
          "metadata": {}
        },
        {
          "output_type": "display_data",
          "data": {
            "text/html": [
              "<style>\n",
              "    table.wandb td:nth-child(1) { padding: 0 10px; text-align: right }\n",
              "    .wandb-row { display: flex; flex-direction: row; flex-wrap: wrap; width: 100% }\n",
              "    .wandb-col { display: flex; flex-direction: column; flex-basis: 100%; flex: 1; padding: 10px; }\n",
              "    </style>\n",
              "<div class=\"wandb-row\"><div class=\"wandb-col\">\n",
              "</div><div class=\"wandb-col\">\n",
              "<h3>Run summary:</h3><br/><table class=\"wandb\"><tr><td>validation/accuracy</td><td>0.93269</td></tr><tr><td>validation/f1_score</td><td>0.93252</td></tr><tr><td>validation/precision</td><td>0.93245</td></tr><tr><td>validation/recall</td><td>0.93269</td></tr></table>\n",
              "</div></div>\n",
              "Synced 5 W&B file(s), 0 media file(s), 1 artifact file(s) and 0 other file(s)\n",
              "<br/>Synced <strong style=\"color:#cdcd00\">dry-sweep-7</strong>: <a href=\"https://wandb.ai/atufa/beans-tabular-IIT-G/runs/18lpzu0i\" target=\"_blank\">https://wandb.ai/atufa/beans-tabular-IIT-G/runs/18lpzu0i</a><br/>\n",
              "Find logs at: <code>./wandb/run-20220221_191818-18lpzu0i/logs</code><br/>\n"
            ],
            "text/plain": [
              "<IPython.core.display.HTML object>"
            ]
          },
          "metadata": {}
        },
        {
          "output_type": "stream",
          "name": "stderr",
          "text": [
            "\u001b[34m\u001b[1mwandb\u001b[0m: Agent Starting Run: t6tda16w with config:\n",
            "\u001b[34m\u001b[1mwandb\u001b[0m: \tmax_depth: 13\n",
            "\u001b[34m\u001b[1mwandb\u001b[0m: \tn_estimators: 33\n"
          ]
        },
        {
          "output_type": "display_data",
          "data": {
            "text/html": [
              "\n",
              "                    Syncing run <strong><a href=\"https://wandb.ai/atufa/beans-tabular-IIT-G/runs/t6tda16w\" target=\"_blank\">visionary-sweep-8</a></strong> to <a href=\"https://wandb.ai/atufa/beans-tabular-IIT-G\" target=\"_blank\">Weights & Biases</a> (<a href=\"https://docs.wandb.com/integrations/jupyter.html\" target=\"_blank\">docs</a>).<br/>\n",
              "Sweep page: <a href=\"https://wandb.ai/atufa/beans-tabular-IIT-G/sweeps/vj8odfk2\" target=\"_blank\">https://wandb.ai/atufa/beans-tabular-IIT-G/sweeps/vj8odfk2</a><br/>\n",
              "\n",
              "                "
            ],
            "text/plain": [
              "<IPython.core.display.HTML object>"
            ]
          },
          "metadata": {}
        },
        {
          "output_type": "stream",
          "name": "stderr",
          "text": [
            "\u001b[34m\u001b[1mwandb\u001b[0m: \u001b[33mWARNING\u001b[0m Config item 'max_depth' was locked by 'sweep' (ignored update).\n",
            "\u001b[34m\u001b[1mwandb\u001b[0m: \u001b[33mWARNING\u001b[0m Config item 'n_estimators' was locked by 'sweep' (ignored update).\n"
          ]
        },
        {
          "output_type": "display_data",
          "data": {
            "text/html": [
              "<br/>Waiting for W&B process to finish, PID 964... <strong style=\"color:green\">(success).</strong>"
            ],
            "text/plain": [
              "<IPython.core.display.HTML object>"
            ]
          },
          "metadata": {}
        },
        {
          "output_type": "display_data",
          "data": {
            "application/vnd.jupyter.widget-view+json": {
              "model_id": "6a39bc8f92264866b7993098667c026b",
              "version_minor": 0,
              "version_major": 2
            },
            "text/plain": [
              "VBox(children=(Label(value=' 0.04MB of 0.04MB uploaded (0.00MB deduped)\\r'), FloatProgress(value=1.0, max=1.0)…"
            ]
          },
          "metadata": {}
        },
        {
          "output_type": "display_data",
          "data": {
            "text/html": [
              "<style>\n",
              "    table.wandb td:nth-child(1) { padding: 0 10px; text-align: right }\n",
              "    .wandb-row { display: flex; flex-direction: row; flex-wrap: wrap; width: 100% }\n",
              "    .wandb-col { display: flex; flex-direction: column; flex-basis: 100%; flex: 1; padding: 10px; }\n",
              "    </style>\n",
              "<div class=\"wandb-row\"><div class=\"wandb-col\">\n",
              "</div><div class=\"wandb-col\">\n",
              "<h3>Run summary:</h3><br/><table class=\"wandb\"><tr><td>validation/accuracy</td><td>0.92902</td></tr><tr><td>validation/f1_score</td><td>0.92886</td></tr><tr><td>validation/precision</td><td>0.92879</td></tr><tr><td>validation/recall</td><td>0.92902</td></tr></table>\n",
              "</div></div>\n",
              "Synced 5 W&B file(s), 0 media file(s), 1 artifact file(s) and 0 other file(s)\n",
              "<br/>Synced <strong style=\"color:#cdcd00\">visionary-sweep-8</strong>: <a href=\"https://wandb.ai/atufa/beans-tabular-IIT-G/runs/t6tda16w\" target=\"_blank\">https://wandb.ai/atufa/beans-tabular-IIT-G/runs/t6tda16w</a><br/>\n",
              "Find logs at: <code>./wandb/run-20220221_191834-t6tda16w/logs</code><br/>\n"
            ],
            "text/plain": [
              "<IPython.core.display.HTML object>"
            ]
          },
          "metadata": {}
        },
        {
          "output_type": "stream",
          "name": "stderr",
          "text": [
            "\u001b[34m\u001b[1mwandb\u001b[0m: Agent Starting Run: 23cfcxou with config:\n",
            "\u001b[34m\u001b[1mwandb\u001b[0m: \tmax_depth: 57\n",
            "\u001b[34m\u001b[1mwandb\u001b[0m: \tn_estimators: 149\n"
          ]
        },
        {
          "output_type": "display_data",
          "data": {
            "text/html": [
              "\n",
              "                    Syncing run <strong><a href=\"https://wandb.ai/atufa/beans-tabular-IIT-G/runs/23cfcxou\" target=\"_blank\">celestial-sweep-9</a></strong> to <a href=\"https://wandb.ai/atufa/beans-tabular-IIT-G\" target=\"_blank\">Weights & Biases</a> (<a href=\"https://docs.wandb.com/integrations/jupyter.html\" target=\"_blank\">docs</a>).<br/>\n",
              "Sweep page: <a href=\"https://wandb.ai/atufa/beans-tabular-IIT-G/sweeps/vj8odfk2\" target=\"_blank\">https://wandb.ai/atufa/beans-tabular-IIT-G/sweeps/vj8odfk2</a><br/>\n",
              "\n",
              "                "
            ],
            "text/plain": [
              "<IPython.core.display.HTML object>"
            ]
          },
          "metadata": {}
        },
        {
          "output_type": "stream",
          "name": "stderr",
          "text": [
            "\u001b[34m\u001b[1mwandb\u001b[0m: \u001b[33mWARNING\u001b[0m Config item 'max_depth' was locked by 'sweep' (ignored update).\n",
            "\u001b[34m\u001b[1mwandb\u001b[0m: \u001b[33mWARNING\u001b[0m Config item 'n_estimators' was locked by 'sweep' (ignored update).\n"
          ]
        },
        {
          "output_type": "display_data",
          "data": {
            "text/html": [
              "<br/>Waiting for W&B process to finish, PID 1006... <strong style=\"color:green\">(success).</strong>"
            ],
            "text/plain": [
              "<IPython.core.display.HTML object>"
            ]
          },
          "metadata": {}
        },
        {
          "output_type": "display_data",
          "data": {
            "application/vnd.jupyter.widget-view+json": {
              "model_id": "8896c3dd1ddf4531aaf961075767c5ad",
              "version_minor": 0,
              "version_major": 2
            },
            "text/plain": [
              "VBox(children=(Label(value=' 0.04MB of 0.04MB uploaded (0.00MB deduped)\\r'), FloatProgress(value=1.0, max=1.0)…"
            ]
          },
          "metadata": {}
        },
        {
          "output_type": "display_data",
          "data": {
            "text/html": [
              "<style>\n",
              "    table.wandb td:nth-child(1) { padding: 0 10px; text-align: right }\n",
              "    .wandb-row { display: flex; flex-direction: row; flex-wrap: wrap; width: 100% }\n",
              "    .wandb-col { display: flex; flex-direction: column; flex-basis: 100%; flex: 1; padding: 10px; }\n",
              "    </style>\n",
              "<div class=\"wandb-row\"><div class=\"wandb-col\">\n",
              "</div><div class=\"wandb-col\">\n",
              "<h3>Run summary:</h3><br/><table class=\"wandb\"><tr><td>validation/accuracy</td><td>0.92704</td></tr><tr><td>validation/f1_score</td><td>0.92696</td></tr><tr><td>validation/precision</td><td>0.92697</td></tr><tr><td>validation/recall</td><td>0.92704</td></tr></table>\n",
              "</div></div>\n",
              "Synced 5 W&B file(s), 0 media file(s), 1 artifact file(s) and 0 other file(s)\n",
              "<br/>Synced <strong style=\"color:#cdcd00\">celestial-sweep-9</strong>: <a href=\"https://wandb.ai/atufa/beans-tabular-IIT-G/runs/23cfcxou\" target=\"_blank\">https://wandb.ai/atufa/beans-tabular-IIT-G/runs/23cfcxou</a><br/>\n",
              "Find logs at: <code>./wandb/run-20220221_191850-23cfcxou/logs</code><br/>\n"
            ],
            "text/plain": [
              "<IPython.core.display.HTML object>"
            ]
          },
          "metadata": {}
        },
        {
          "output_type": "stream",
          "name": "stderr",
          "text": [
            "\u001b[34m\u001b[1mwandb\u001b[0m: Agent Starting Run: xmyhulor with config:\n",
            "\u001b[34m\u001b[1mwandb\u001b[0m: \tmax_depth: 85\n",
            "\u001b[34m\u001b[1mwandb\u001b[0m: \tn_estimators: 325\n"
          ]
        },
        {
          "output_type": "display_data",
          "data": {
            "text/html": [
              "\n",
              "                    Syncing run <strong><a href=\"https://wandb.ai/atufa/beans-tabular-IIT-G/runs/xmyhulor\" target=\"_blank\">curious-sweep-10</a></strong> to <a href=\"https://wandb.ai/atufa/beans-tabular-IIT-G\" target=\"_blank\">Weights & Biases</a> (<a href=\"https://docs.wandb.com/integrations/jupyter.html\" target=\"_blank\">docs</a>).<br/>\n",
              "Sweep page: <a href=\"https://wandb.ai/atufa/beans-tabular-IIT-G/sweeps/vj8odfk2\" target=\"_blank\">https://wandb.ai/atufa/beans-tabular-IIT-G/sweeps/vj8odfk2</a><br/>\n",
              "\n",
              "                "
            ],
            "text/plain": [
              "<IPython.core.display.HTML object>"
            ]
          },
          "metadata": {}
        },
        {
          "output_type": "stream",
          "name": "stderr",
          "text": [
            "\u001b[34m\u001b[1mwandb\u001b[0m: \u001b[33mWARNING\u001b[0m Config item 'max_depth' was locked by 'sweep' (ignored update).\n",
            "\u001b[34m\u001b[1mwandb\u001b[0m: \u001b[33mWARNING\u001b[0m Config item 'n_estimators' was locked by 'sweep' (ignored update).\n"
          ]
        },
        {
          "output_type": "display_data",
          "data": {
            "text/html": [
              "<br/>Waiting for W&B process to finish, PID 1048... <strong style=\"color:green\">(success).</strong>"
            ],
            "text/plain": [
              "<IPython.core.display.HTML object>"
            ]
          },
          "metadata": {}
        },
        {
          "output_type": "display_data",
          "data": {
            "application/vnd.jupyter.widget-view+json": {
              "model_id": "c09bfb7383f14354aafed0503ca2d559",
              "version_minor": 0,
              "version_major": 2
            },
            "text/plain": [
              "VBox(children=(Label(value=' 0.04MB of 0.04MB uploaded (0.00MB deduped)\\r'), FloatProgress(value=1.0, max=1.0)…"
            ]
          },
          "metadata": {}
        },
        {
          "output_type": "display_data",
          "data": {
            "text/html": [
              "<style>\n",
              "    table.wandb td:nth-child(1) { padding: 0 10px; text-align: right }\n",
              "    .wandb-row { display: flex; flex-direction: row; flex-wrap: wrap; width: 100% }\n",
              "    .wandb-col { display: flex; flex-direction: column; flex-basis: 100%; flex: 1; padding: 10px; }\n",
              "    </style>\n",
              "<div class=\"wandb-row\"><div class=\"wandb-col\">\n",
              "</div><div class=\"wandb-col\">\n",
              "<h3>Run summary:</h3><br/><table class=\"wandb\"><tr><td>validation/accuracy</td><td>0.93213</td></tr><tr><td>validation/f1_score</td><td>0.93202</td></tr><tr><td>validation/precision</td><td>0.93197</td></tr><tr><td>validation/recall</td><td>0.93213</td></tr></table>\n",
              "</div></div>\n",
              "Synced 5 W&B file(s), 0 media file(s), 1 artifact file(s) and 0 other file(s)\n",
              "<br/>Synced <strong style=\"color:#cdcd00\">curious-sweep-10</strong>: <a href=\"https://wandb.ai/atufa/beans-tabular-IIT-G/runs/xmyhulor\" target=\"_blank\">https://wandb.ai/atufa/beans-tabular-IIT-G/runs/xmyhulor</a><br/>\n",
              "Find logs at: <code>./wandb/run-20220221_191910-xmyhulor/logs</code><br/>\n"
            ],
            "text/plain": [
              "<IPython.core.display.HTML object>"
            ]
          },
          "metadata": {}
        },
        {
          "output_type": "stream",
          "name": "stderr",
          "text": [
            "\u001b[34m\u001b[1mwandb\u001b[0m: Agent Starting Run: 0yt2df83 with config:\n",
            "\u001b[34m\u001b[1mwandb\u001b[0m: \tmax_depth: 97\n",
            "\u001b[34m\u001b[1mwandb\u001b[0m: \tn_estimators: 19\n"
          ]
        },
        {
          "output_type": "display_data",
          "data": {
            "text/html": [
              "\n",
              "                    Syncing run <strong><a href=\"https://wandb.ai/atufa/beans-tabular-IIT-G/runs/0yt2df83\" target=\"_blank\">astral-sweep-11</a></strong> to <a href=\"https://wandb.ai/atufa/beans-tabular-IIT-G\" target=\"_blank\">Weights & Biases</a> (<a href=\"https://docs.wandb.com/integrations/jupyter.html\" target=\"_blank\">docs</a>).<br/>\n",
              "Sweep page: <a href=\"https://wandb.ai/atufa/beans-tabular-IIT-G/sweeps/vj8odfk2\" target=\"_blank\">https://wandb.ai/atufa/beans-tabular-IIT-G/sweeps/vj8odfk2</a><br/>\n",
              "\n",
              "                "
            ],
            "text/plain": [
              "<IPython.core.display.HTML object>"
            ]
          },
          "metadata": {}
        },
        {
          "output_type": "stream",
          "name": "stderr",
          "text": [
            "\u001b[34m\u001b[1mwandb\u001b[0m: \u001b[33mWARNING\u001b[0m Config item 'max_depth' was locked by 'sweep' (ignored update).\n",
            "\u001b[34m\u001b[1mwandb\u001b[0m: \u001b[33mWARNING\u001b[0m Config item 'n_estimators' was locked by 'sweep' (ignored update).\n"
          ]
        },
        {
          "output_type": "display_data",
          "data": {
            "text/html": [
              "<br/>Waiting for W&B process to finish, PID 1088... <strong style=\"color:green\">(success).</strong>"
            ],
            "text/plain": [
              "<IPython.core.display.HTML object>"
            ]
          },
          "metadata": {}
        },
        {
          "output_type": "display_data",
          "data": {
            "application/vnd.jupyter.widget-view+json": {
              "model_id": "1fbfae4db456486ba466b06826b79cfe",
              "version_minor": 0,
              "version_major": 2
            },
            "text/plain": [
              "VBox(children=(Label(value=' 0.04MB of 0.04MB uploaded (0.00MB deduped)\\r'), FloatProgress(value=1.0, max=1.0)…"
            ]
          },
          "metadata": {}
        },
        {
          "output_type": "display_data",
          "data": {
            "text/html": [
              "<style>\n",
              "    table.wandb td:nth-child(1) { padding: 0 10px; text-align: right }\n",
              "    .wandb-row { display: flex; flex-direction: row; flex-wrap: wrap; width: 100% }\n",
              "    .wandb-col { display: flex; flex-direction: column; flex-basis: 100%; flex: 1; padding: 10px; }\n",
              "    </style>\n",
              "<div class=\"wandb-row\"><div class=\"wandb-col\">\n",
              "</div><div class=\"wandb-col\">\n",
              "<h3>Run summary:</h3><br/><table class=\"wandb\"><tr><td>validation/accuracy</td><td>0.92251</td></tr><tr><td>validation/f1_score</td><td>0.92225</td></tr><tr><td>validation/precision</td><td>0.92221</td></tr><tr><td>validation/recall</td><td>0.92251</td></tr></table>\n",
              "</div></div>\n",
              "Synced 5 W&B file(s), 0 media file(s), 1 artifact file(s) and 0 other file(s)\n",
              "<br/>Synced <strong style=\"color:#cdcd00\">astral-sweep-11</strong>: <a href=\"https://wandb.ai/atufa/beans-tabular-IIT-G/runs/0yt2df83\" target=\"_blank\">https://wandb.ai/atufa/beans-tabular-IIT-G/runs/0yt2df83</a><br/>\n",
              "Find logs at: <code>./wandb/run-20220221_191936-0yt2df83/logs</code><br/>\n"
            ],
            "text/plain": [
              "<IPython.core.display.HTML object>"
            ]
          },
          "metadata": {}
        },
        {
          "output_type": "stream",
          "name": "stderr",
          "text": [
            "\u001b[34m\u001b[1mwandb\u001b[0m: Agent Starting Run: 817q031u with config:\n",
            "\u001b[34m\u001b[1mwandb\u001b[0m: \tmax_depth: 80\n",
            "\u001b[34m\u001b[1mwandb\u001b[0m: \tn_estimators: 102\n"
          ]
        },
        {
          "output_type": "display_data",
          "data": {
            "text/html": [
              "\n",
              "                    Syncing run <strong><a href=\"https://wandb.ai/atufa/beans-tabular-IIT-G/runs/817q031u\" target=\"_blank\">gallant-sweep-12</a></strong> to <a href=\"https://wandb.ai/atufa/beans-tabular-IIT-G\" target=\"_blank\">Weights & Biases</a> (<a href=\"https://docs.wandb.com/integrations/jupyter.html\" target=\"_blank\">docs</a>).<br/>\n",
              "Sweep page: <a href=\"https://wandb.ai/atufa/beans-tabular-IIT-G/sweeps/vj8odfk2\" target=\"_blank\">https://wandb.ai/atufa/beans-tabular-IIT-G/sweeps/vj8odfk2</a><br/>\n",
              "\n",
              "                "
            ],
            "text/plain": [
              "<IPython.core.display.HTML object>"
            ]
          },
          "metadata": {}
        },
        {
          "output_type": "stream",
          "name": "stderr",
          "text": [
            "\u001b[34m\u001b[1mwandb\u001b[0m: \u001b[33mWARNING\u001b[0m Config item 'max_depth' was locked by 'sweep' (ignored update).\n",
            "\u001b[34m\u001b[1mwandb\u001b[0m: \u001b[33mWARNING\u001b[0m Config item 'n_estimators' was locked by 'sweep' (ignored update).\n"
          ]
        },
        {
          "output_type": "display_data",
          "data": {
            "text/html": [
              "<br/>Waiting for W&B process to finish, PID 1130... <strong style=\"color:green\">(success).</strong>"
            ],
            "text/plain": [
              "<IPython.core.display.HTML object>"
            ]
          },
          "metadata": {}
        },
        {
          "output_type": "display_data",
          "data": {
            "application/vnd.jupyter.widget-view+json": {
              "model_id": "d351b2a14ad6424ea8d231ac6e4d4d62",
              "version_minor": 0,
              "version_major": 2
            },
            "text/plain": [
              "VBox(children=(Label(value=' 0.04MB of 0.04MB uploaded (0.00MB deduped)\\r'), FloatProgress(value=1.0, max=1.0)…"
            ]
          },
          "metadata": {}
        },
        {
          "output_type": "display_data",
          "data": {
            "text/html": [
              "<style>\n",
              "    table.wandb td:nth-child(1) { padding: 0 10px; text-align: right }\n",
              "    .wandb-row { display: flex; flex-direction: row; flex-wrap: wrap; width: 100% }\n",
              "    .wandb-col { display: flex; flex-direction: column; flex-basis: 100%; flex: 1; padding: 10px; }\n",
              "    </style>\n",
              "<div class=\"wandb-row\"><div class=\"wandb-col\">\n",
              "</div><div class=\"wandb-col\">\n",
              "<h3>Run summary:</h3><br/><table class=\"wandb\"><tr><td>validation/accuracy</td><td>0.93015</td></tr><tr><td>validation/f1_score</td><td>0.93004</td></tr><tr><td>validation/precision</td><td>0.93002</td></tr><tr><td>validation/recall</td><td>0.93015</td></tr></table>\n",
              "</div></div>\n",
              "Synced 5 W&B file(s), 0 media file(s), 1 artifact file(s) and 0 other file(s)\n",
              "<br/>Synced <strong style=\"color:#cdcd00\">gallant-sweep-12</strong>: <a href=\"https://wandb.ai/atufa/beans-tabular-IIT-G/runs/817q031u\" target=\"_blank\">https://wandb.ai/atufa/beans-tabular-IIT-G/runs/817q031u</a><br/>\n",
              "Find logs at: <code>./wandb/run-20220221_191951-817q031u/logs</code><br/>\n"
            ],
            "text/plain": [
              "<IPython.core.display.HTML object>"
            ]
          },
          "metadata": {}
        },
        {
          "output_type": "stream",
          "name": "stderr",
          "text": [
            "\u001b[34m\u001b[1mwandb\u001b[0m: Sweep Agent: Waiting for job.\n",
            "\u001b[34m\u001b[1mwandb\u001b[0m: Job received.\n",
            "\u001b[34m\u001b[1mwandb\u001b[0m: Agent Starting Run: otytvxvd with config:\n",
            "\u001b[34m\u001b[1mwandb\u001b[0m: \tmax_depth: 13\n",
            "\u001b[34m\u001b[1mwandb\u001b[0m: \tn_estimators: 254\n"
          ]
        },
        {
          "output_type": "display_data",
          "data": {
            "text/html": [
              "\n",
              "                    Syncing run <strong><a href=\"https://wandb.ai/atufa/beans-tabular-IIT-G/runs/otytvxvd\" target=\"_blank\">dazzling-sweep-13</a></strong> to <a href=\"https://wandb.ai/atufa/beans-tabular-IIT-G\" target=\"_blank\">Weights & Biases</a> (<a href=\"https://docs.wandb.com/integrations/jupyter.html\" target=\"_blank\">docs</a>).<br/>\n",
              "Sweep page: <a href=\"https://wandb.ai/atufa/beans-tabular-IIT-G/sweeps/vj8odfk2\" target=\"_blank\">https://wandb.ai/atufa/beans-tabular-IIT-G/sweeps/vj8odfk2</a><br/>\n",
              "\n",
              "                "
            ],
            "text/plain": [
              "<IPython.core.display.HTML object>"
            ]
          },
          "metadata": {}
        },
        {
          "output_type": "stream",
          "name": "stderr",
          "text": [
            "\u001b[34m\u001b[1mwandb\u001b[0m: \u001b[33mWARNING\u001b[0m Config item 'max_depth' was locked by 'sweep' (ignored update).\n",
            "\u001b[34m\u001b[1mwandb\u001b[0m: \u001b[33mWARNING\u001b[0m Config item 'n_estimators' was locked by 'sweep' (ignored update).\n"
          ]
        },
        {
          "output_type": "display_data",
          "data": {
            "text/html": [
              "<br/>Waiting for W&B process to finish, PID 1170... <strong style=\"color:green\">(success).</strong>"
            ],
            "text/plain": [
              "<IPython.core.display.HTML object>"
            ]
          },
          "metadata": {}
        },
        {
          "output_type": "display_data",
          "data": {
            "application/vnd.jupyter.widget-view+json": {
              "model_id": "b0b9bb7598cc4e84b56d976c795e0758",
              "version_minor": 0,
              "version_major": 2
            },
            "text/plain": [
              "VBox(children=(Label(value=' 0.04MB of 0.04MB uploaded (0.00MB deduped)\\r'), FloatProgress(value=1.0, max=1.0)…"
            ]
          },
          "metadata": {}
        },
        {
          "output_type": "display_data",
          "data": {
            "text/html": [
              "<style>\n",
              "    table.wandb td:nth-child(1) { padding: 0 10px; text-align: right }\n",
              "    .wandb-row { display: flex; flex-direction: row; flex-wrap: wrap; width: 100% }\n",
              "    .wandb-col { display: flex; flex-direction: column; flex-basis: 100%; flex: 1; padding: 10px; }\n",
              "    </style>\n",
              "<div class=\"wandb-row\"><div class=\"wandb-col\">\n",
              "</div><div class=\"wandb-col\">\n",
              "<h3>Run summary:</h3><br/><table class=\"wandb\"><tr><td>validation/accuracy</td><td>0.93269</td></tr><tr><td>validation/f1_score</td><td>0.93265</td></tr><tr><td>validation/precision</td><td>0.93263</td></tr><tr><td>validation/recall</td><td>0.93269</td></tr></table>\n",
              "</div></div>\n",
              "Synced 5 W&B file(s), 0 media file(s), 1 artifact file(s) and 0 other file(s)\n",
              "<br/>Synced <strong style=\"color:#cdcd00\">dazzling-sweep-13</strong>: <a href=\"https://wandb.ai/atufa/beans-tabular-IIT-G/runs/otytvxvd\" target=\"_blank\">https://wandb.ai/atufa/beans-tabular-IIT-G/runs/otytvxvd</a><br/>\n",
              "Find logs at: <code>./wandb/run-20220221_192016-otytvxvd/logs</code><br/>\n"
            ],
            "text/plain": [
              "<IPython.core.display.HTML object>"
            ]
          },
          "metadata": {}
        },
        {
          "output_type": "stream",
          "name": "stderr",
          "text": [
            "\u001b[34m\u001b[1mwandb\u001b[0m: Agent Starting Run: kcdonnbo with config:\n",
            "\u001b[34m\u001b[1mwandb\u001b[0m: \tmax_depth: 66\n",
            "\u001b[34m\u001b[1mwandb\u001b[0m: \tn_estimators: 248\n"
          ]
        },
        {
          "output_type": "display_data",
          "data": {
            "text/html": [
              "\n",
              "                    Syncing run <strong><a href=\"https://wandb.ai/atufa/beans-tabular-IIT-G/runs/kcdonnbo\" target=\"_blank\">lively-sweep-14</a></strong> to <a href=\"https://wandb.ai/atufa/beans-tabular-IIT-G\" target=\"_blank\">Weights & Biases</a> (<a href=\"https://docs.wandb.com/integrations/jupyter.html\" target=\"_blank\">docs</a>).<br/>\n",
              "Sweep page: <a href=\"https://wandb.ai/atufa/beans-tabular-IIT-G/sweeps/vj8odfk2\" target=\"_blank\">https://wandb.ai/atufa/beans-tabular-IIT-G/sweeps/vj8odfk2</a><br/>\n",
              "\n",
              "                "
            ],
            "text/plain": [
              "<IPython.core.display.HTML object>"
            ]
          },
          "metadata": {}
        },
        {
          "output_type": "stream",
          "name": "stderr",
          "text": [
            "\u001b[34m\u001b[1mwandb\u001b[0m: \u001b[33mWARNING\u001b[0m Config item 'max_depth' was locked by 'sweep' (ignored update).\n",
            "\u001b[34m\u001b[1mwandb\u001b[0m: \u001b[33mWARNING\u001b[0m Config item 'n_estimators' was locked by 'sweep' (ignored update).\n"
          ]
        },
        {
          "output_type": "display_data",
          "data": {
            "text/html": [
              "<br/>Waiting for W&B process to finish, PID 1210... <strong style=\"color:green\">(success).</strong>"
            ],
            "text/plain": [
              "<IPython.core.display.HTML object>"
            ]
          },
          "metadata": {}
        },
        {
          "output_type": "display_data",
          "data": {
            "application/vnd.jupyter.widget-view+json": {
              "model_id": "c524777d11e6493584a8750e87e9f548",
              "version_minor": 0,
              "version_major": 2
            },
            "text/plain": [
              "VBox(children=(Label(value=' 0.04MB of 0.04MB uploaded (0.00MB deduped)\\r'), FloatProgress(value=1.0, max=1.0)…"
            ]
          },
          "metadata": {}
        },
        {
          "output_type": "display_data",
          "data": {
            "text/html": [
              "<style>\n",
              "    table.wandb td:nth-child(1) { padding: 0 10px; text-align: right }\n",
              "    .wandb-row { display: flex; flex-direction: row; flex-wrap: wrap; width: 100% }\n",
              "    .wandb-col { display: flex; flex-direction: column; flex-basis: 100%; flex: 1; padding: 10px; }\n",
              "    </style>\n",
              "<div class=\"wandb-row\"><div class=\"wandb-col\">\n",
              "</div><div class=\"wandb-col\">\n",
              "<h3>Run summary:</h3><br/><table class=\"wandb\"><tr><td>validation/accuracy</td><td>0.93298</td></tr><tr><td>validation/f1_score</td><td>0.93285</td></tr><tr><td>validation/precision</td><td>0.93279</td></tr><tr><td>validation/recall</td><td>0.93298</td></tr></table>\n",
              "</div></div>\n",
              "Synced 5 W&B file(s), 0 media file(s), 1 artifact file(s) and 0 other file(s)\n",
              "<br/>Synced <strong style=\"color:#cdcd00\">lively-sweep-14</strong>: <a href=\"https://wandb.ai/atufa/beans-tabular-IIT-G/runs/kcdonnbo\" target=\"_blank\">https://wandb.ai/atufa/beans-tabular-IIT-G/runs/kcdonnbo</a><br/>\n",
              "Find logs at: <code>./wandb/run-20220221_192037-kcdonnbo/logs</code><br/>\n"
            ],
            "text/plain": [
              "<IPython.core.display.HTML object>"
            ]
          },
          "metadata": {}
        },
        {
          "output_type": "stream",
          "name": "stderr",
          "text": [
            "\u001b[34m\u001b[1mwandb\u001b[0m: Agent Starting Run: s77jqui5 with config:\n",
            "\u001b[34m\u001b[1mwandb\u001b[0m: \tmax_depth: 22\n",
            "\u001b[34m\u001b[1mwandb\u001b[0m: \tn_estimators: 227\n"
          ]
        },
        {
          "output_type": "display_data",
          "data": {
            "text/html": [
              "\n",
              "                    Syncing run <strong><a href=\"https://wandb.ai/atufa/beans-tabular-IIT-G/runs/s77jqui5\" target=\"_blank\">ethereal-sweep-15</a></strong> to <a href=\"https://wandb.ai/atufa/beans-tabular-IIT-G\" target=\"_blank\">Weights & Biases</a> (<a href=\"https://docs.wandb.com/integrations/jupyter.html\" target=\"_blank\">docs</a>).<br/>\n",
              "Sweep page: <a href=\"https://wandb.ai/atufa/beans-tabular-IIT-G/sweeps/vj8odfk2\" target=\"_blank\">https://wandb.ai/atufa/beans-tabular-IIT-G/sweeps/vj8odfk2</a><br/>\n",
              "\n",
              "                "
            ],
            "text/plain": [
              "<IPython.core.display.HTML object>"
            ]
          },
          "metadata": {}
        },
        {
          "output_type": "stream",
          "name": "stderr",
          "text": [
            "\u001b[34m\u001b[1mwandb\u001b[0m: \u001b[33mWARNING\u001b[0m Config item 'max_depth' was locked by 'sweep' (ignored update).\n",
            "\u001b[34m\u001b[1mwandb\u001b[0m: \u001b[33mWARNING\u001b[0m Config item 'n_estimators' was locked by 'sweep' (ignored update).\n"
          ]
        },
        {
          "output_type": "display_data",
          "data": {
            "text/html": [
              "<br/>Waiting for W&B process to finish, PID 1252... <strong style=\"color:green\">(success).</strong>"
            ],
            "text/plain": [
              "<IPython.core.display.HTML object>"
            ]
          },
          "metadata": {}
        },
        {
          "output_type": "display_data",
          "data": {
            "application/vnd.jupyter.widget-view+json": {
              "model_id": "74eee2f99c4c4900929cc71b17e7de5c",
              "version_minor": 0,
              "version_major": 2
            },
            "text/plain": [
              "VBox(children=(Label(value=' 0.04MB of 0.04MB uploaded (0.00MB deduped)\\r'), FloatProgress(value=1.0, max=1.0)…"
            ]
          },
          "metadata": {}
        },
        {
          "output_type": "display_data",
          "data": {
            "text/html": [
              "<style>\n",
              "    table.wandb td:nth-child(1) { padding: 0 10px; text-align: right }\n",
              "    .wandb-row { display: flex; flex-direction: row; flex-wrap: wrap; width: 100% }\n",
              "    .wandb-col { display: flex; flex-direction: column; flex-basis: 100%; flex: 1; padding: 10px; }\n",
              "    </style>\n",
              "<div class=\"wandb-row\"><div class=\"wandb-col\">\n",
              "</div><div class=\"wandb-col\">\n",
              "<h3>Run summary:</h3><br/><table class=\"wandb\"><tr><td>validation/accuracy</td><td>0.93043</td></tr><tr><td>validation/f1_score</td><td>0.93028</td></tr><tr><td>validation/precision</td><td>0.93021</td></tr><tr><td>validation/recall</td><td>0.93043</td></tr></table>\n",
              "</div></div>\n",
              "Synced 5 W&B file(s), 0 media file(s), 1 artifact file(s) and 0 other file(s)\n",
              "<br/>Synced <strong style=\"color:#cdcd00\">ethereal-sweep-15</strong>: <a href=\"https://wandb.ai/atufa/beans-tabular-IIT-G/runs/s77jqui5\" target=\"_blank\">https://wandb.ai/atufa/beans-tabular-IIT-G/runs/s77jqui5</a><br/>\n",
              "Find logs at: <code>./wandb/run-20220221_192103-s77jqui5/logs</code><br/>\n"
            ],
            "text/plain": [
              "<IPython.core.display.HTML object>"
            ]
          },
          "metadata": {}
        },
        {
          "output_type": "stream",
          "name": "stderr",
          "text": [
            "\u001b[34m\u001b[1mwandb\u001b[0m: Sweep Agent: Waiting for job.\n",
            "\u001b[34m\u001b[1mwandb\u001b[0m: Job received.\n",
            "\u001b[34m\u001b[1mwandb\u001b[0m: Agent Starting Run: qoastsyy with config:\n",
            "\u001b[34m\u001b[1mwandb\u001b[0m: \tmax_depth: 79\n",
            "\u001b[34m\u001b[1mwandb\u001b[0m: \tn_estimators: 83\n"
          ]
        },
        {
          "output_type": "display_data",
          "data": {
            "text/html": [
              "\n",
              "                    Syncing run <strong><a href=\"https://wandb.ai/atufa/beans-tabular-IIT-G/runs/qoastsyy\" target=\"_blank\">stoic-sweep-16</a></strong> to <a href=\"https://wandb.ai/atufa/beans-tabular-IIT-G\" target=\"_blank\">Weights & Biases</a> (<a href=\"https://docs.wandb.com/integrations/jupyter.html\" target=\"_blank\">docs</a>).<br/>\n",
              "Sweep page: <a href=\"https://wandb.ai/atufa/beans-tabular-IIT-G/sweeps/vj8odfk2\" target=\"_blank\">https://wandb.ai/atufa/beans-tabular-IIT-G/sweeps/vj8odfk2</a><br/>\n",
              "\n",
              "                "
            ],
            "text/plain": [
              "<IPython.core.display.HTML object>"
            ]
          },
          "metadata": {}
        },
        {
          "output_type": "stream",
          "name": "stderr",
          "text": [
            "\u001b[34m\u001b[1mwandb\u001b[0m: \u001b[33mWARNING\u001b[0m Config item 'max_depth' was locked by 'sweep' (ignored update).\n",
            "\u001b[34m\u001b[1mwandb\u001b[0m: \u001b[33mWARNING\u001b[0m Config item 'n_estimators' was locked by 'sweep' (ignored update).\n"
          ]
        },
        {
          "output_type": "display_data",
          "data": {
            "text/html": [
              "<br/>Waiting for W&B process to finish, PID 1292... <strong style=\"color:green\">(success).</strong>"
            ],
            "text/plain": [
              "<IPython.core.display.HTML object>"
            ]
          },
          "metadata": {}
        },
        {
          "output_type": "display_data",
          "data": {
            "application/vnd.jupyter.widget-view+json": {
              "model_id": "7bfc431a7fbf4735a81abb5c844a3e19",
              "version_minor": 0,
              "version_major": 2
            },
            "text/plain": [
              "VBox(children=(Label(value=' 0.04MB of 0.04MB uploaded (0.00MB deduped)\\r'), FloatProgress(value=1.0, max=1.0)…"
            ]
          },
          "metadata": {}
        },
        {
          "output_type": "display_data",
          "data": {
            "text/html": [
              "<style>\n",
              "    table.wandb td:nth-child(1) { padding: 0 10px; text-align: right }\n",
              "    .wandb-row { display: flex; flex-direction: row; flex-wrap: wrap; width: 100% }\n",
              "    .wandb-col { display: flex; flex-direction: column; flex-basis: 100%; flex: 1; padding: 10px; }\n",
              "    </style>\n",
              "<div class=\"wandb-row\"><div class=\"wandb-col\">\n",
              "</div><div class=\"wandb-col\">\n",
              "<h3>Run summary:</h3><br/><table class=\"wandb\"><tr><td>validation/accuracy</td><td>0.93128</td></tr><tr><td>validation/f1_score</td><td>0.93115</td></tr><tr><td>validation/precision</td><td>0.93115</td></tr><tr><td>validation/recall</td><td>0.93128</td></tr></table>\n",
              "</div></div>\n",
              "Synced 5 W&B file(s), 0 media file(s), 1 artifact file(s) and 0 other file(s)\n",
              "<br/>Synced <strong style=\"color:#cdcd00\">stoic-sweep-16</strong>: <a href=\"https://wandb.ai/atufa/beans-tabular-IIT-G/runs/qoastsyy\" target=\"_blank\">https://wandb.ai/atufa/beans-tabular-IIT-G/runs/qoastsyy</a><br/>\n",
              "Find logs at: <code>./wandb/run-20220221_192133-qoastsyy/logs</code><br/>\n"
            ],
            "text/plain": [
              "<IPython.core.display.HTML object>"
            ]
          },
          "metadata": {}
        },
        {
          "output_type": "stream",
          "name": "stderr",
          "text": [
            "\u001b[34m\u001b[1mwandb\u001b[0m: Sweep Agent: Waiting for job.\n",
            "\u001b[34m\u001b[1mwandb\u001b[0m: Job received.\n",
            "\u001b[34m\u001b[1mwandb\u001b[0m: Agent Starting Run: gb0xgfee with config:\n",
            "\u001b[34m\u001b[1mwandb\u001b[0m: \tmax_depth: 28\n",
            "\u001b[34m\u001b[1mwandb\u001b[0m: \tn_estimators: 345\n"
          ]
        },
        {
          "output_type": "display_data",
          "data": {
            "text/html": [
              "\n",
              "                    Syncing run <strong><a href=\"https://wandb.ai/atufa/beans-tabular-IIT-G/runs/gb0xgfee\" target=\"_blank\">icy-sweep-17</a></strong> to <a href=\"https://wandb.ai/atufa/beans-tabular-IIT-G\" target=\"_blank\">Weights & Biases</a> (<a href=\"https://docs.wandb.com/integrations/jupyter.html\" target=\"_blank\">docs</a>).<br/>\n",
              "Sweep page: <a href=\"https://wandb.ai/atufa/beans-tabular-IIT-G/sweeps/vj8odfk2\" target=\"_blank\">https://wandb.ai/atufa/beans-tabular-IIT-G/sweeps/vj8odfk2</a><br/>\n",
              "\n",
              "                "
            ],
            "text/plain": [
              "<IPython.core.display.HTML object>"
            ]
          },
          "metadata": {}
        },
        {
          "output_type": "stream",
          "name": "stderr",
          "text": [
            "\u001b[34m\u001b[1mwandb\u001b[0m: \u001b[33mWARNING\u001b[0m Config item 'max_depth' was locked by 'sweep' (ignored update).\n",
            "\u001b[34m\u001b[1mwandb\u001b[0m: \u001b[33mWARNING\u001b[0m Config item 'n_estimators' was locked by 'sweep' (ignored update).\n"
          ]
        },
        {
          "output_type": "display_data",
          "data": {
            "text/html": [
              "<br/>Waiting for W&B process to finish, PID 1338... <strong style=\"color:green\">(success).</strong>"
            ],
            "text/plain": [
              "<IPython.core.display.HTML object>"
            ]
          },
          "metadata": {}
        },
        {
          "output_type": "display_data",
          "data": {
            "application/vnd.jupyter.widget-view+json": {
              "model_id": "bc84762bf07e4cad9f76e06f9ae947b9",
              "version_minor": 0,
              "version_major": 2
            },
            "text/plain": [
              "VBox(children=(Label(value=' 0.04MB of 0.04MB uploaded (0.00MB deduped)\\r'), FloatProgress(value=1.0, max=1.0)…"
            ]
          },
          "metadata": {}
        },
        {
          "output_type": "display_data",
          "data": {
            "text/html": [
              "<style>\n",
              "    table.wandb td:nth-child(1) { padding: 0 10px; text-align: right }\n",
              "    .wandb-row { display: flex; flex-direction: row; flex-wrap: wrap; width: 100% }\n",
              "    .wandb-col { display: flex; flex-direction: column; flex-basis: 100%; flex: 1; padding: 10px; }\n",
              "    </style>\n",
              "<div class=\"wandb-row\"><div class=\"wandb-col\">\n",
              "</div><div class=\"wandb-col\">\n",
              "<h3>Run summary:</h3><br/><table class=\"wandb\"><tr><td>validation/accuracy</td><td>0.93043</td></tr><tr><td>validation/f1_score</td><td>0.93037</td></tr><tr><td>validation/precision</td><td>0.93037</td></tr><tr><td>validation/recall</td><td>0.93043</td></tr></table>\n",
              "</div></div>\n",
              "Synced 5 W&B file(s), 0 media file(s), 1 artifact file(s) and 0 other file(s)\n",
              "<br/>Synced <strong style=\"color:#cdcd00\">icy-sweep-17</strong>: <a href=\"https://wandb.ai/atufa/beans-tabular-IIT-G/runs/gb0xgfee\" target=\"_blank\">https://wandb.ai/atufa/beans-tabular-IIT-G/runs/gb0xgfee</a><br/>\n",
              "Find logs at: <code>./wandb/run-20220221_192159-gb0xgfee/logs</code><br/>\n"
            ],
            "text/plain": [
              "<IPython.core.display.HTML object>"
            ]
          },
          "metadata": {}
        },
        {
          "output_type": "stream",
          "name": "stderr",
          "text": [
            "\u001b[34m\u001b[1mwandb\u001b[0m: Agent Starting Run: dv6lgtih with config:\n",
            "\u001b[34m\u001b[1mwandb\u001b[0m: \tmax_depth: 29\n",
            "\u001b[34m\u001b[1mwandb\u001b[0m: \tn_estimators: 300\n"
          ]
        },
        {
          "output_type": "display_data",
          "data": {
            "text/html": [
              "\n",
              "                    Syncing run <strong><a href=\"https://wandb.ai/atufa/beans-tabular-IIT-G/runs/dv6lgtih\" target=\"_blank\">wild-sweep-18</a></strong> to <a href=\"https://wandb.ai/atufa/beans-tabular-IIT-G\" target=\"_blank\">Weights & Biases</a> (<a href=\"https://docs.wandb.com/integrations/jupyter.html\" target=\"_blank\">docs</a>).<br/>\n",
              "Sweep page: <a href=\"https://wandb.ai/atufa/beans-tabular-IIT-G/sweeps/vj8odfk2\" target=\"_blank\">https://wandb.ai/atufa/beans-tabular-IIT-G/sweeps/vj8odfk2</a><br/>\n",
              "\n",
              "                "
            ],
            "text/plain": [
              "<IPython.core.display.HTML object>"
            ]
          },
          "metadata": {}
        },
        {
          "output_type": "stream",
          "name": "stderr",
          "text": [
            "\u001b[34m\u001b[1mwandb\u001b[0m: \u001b[33mWARNING\u001b[0m Config item 'max_depth' was locked by 'sweep' (ignored update).\n",
            "\u001b[34m\u001b[1mwandb\u001b[0m: \u001b[33mWARNING\u001b[0m Config item 'n_estimators' was locked by 'sweep' (ignored update).\n"
          ]
        },
        {
          "output_type": "display_data",
          "data": {
            "text/html": [
              "<br/>Waiting for W&B process to finish, PID 1382... <strong style=\"color:green\">(success).</strong>"
            ],
            "text/plain": [
              "<IPython.core.display.HTML object>"
            ]
          },
          "metadata": {}
        },
        {
          "output_type": "display_data",
          "data": {
            "application/vnd.jupyter.widget-view+json": {
              "model_id": "c7270b81ab904230af19219f4f8a2896",
              "version_minor": 0,
              "version_major": 2
            },
            "text/plain": [
              "VBox(children=(Label(value=' 0.04MB of 0.04MB uploaded (0.00MB deduped)\\r'), FloatProgress(value=1.0, max=1.0)…"
            ]
          },
          "metadata": {}
        },
        {
          "output_type": "display_data",
          "data": {
            "text/html": [
              "<style>\n",
              "    table.wandb td:nth-child(1) { padding: 0 10px; text-align: right }\n",
              "    .wandb-row { display: flex; flex-direction: row; flex-wrap: wrap; width: 100% }\n",
              "    .wandb-col { display: flex; flex-direction: column; flex-basis: 100%; flex: 1; padding: 10px; }\n",
              "    </style>\n",
              "<div class=\"wandb-row\"><div class=\"wandb-col\">\n",
              "</div><div class=\"wandb-col\">\n",
              "<h3>Run summary:</h3><br/><table class=\"wandb\"><tr><td>validation/accuracy</td><td>0.93213</td></tr><tr><td>validation/f1_score</td><td>0.93195</td></tr><tr><td>validation/precision</td><td>0.93189</td></tr><tr><td>validation/recall</td><td>0.93213</td></tr></table>\n",
              "</div></div>\n",
              "Synced 5 W&B file(s), 0 media file(s), 1 artifact file(s) and 0 other file(s)\n",
              "<br/>Synced <strong style=\"color:#cdcd00\">wild-sweep-18</strong>: <a href=\"https://wandb.ai/atufa/beans-tabular-IIT-G/runs/dv6lgtih\" target=\"_blank\">https://wandb.ai/atufa/beans-tabular-IIT-G/runs/dv6lgtih</a><br/>\n",
              "Find logs at: <code>./wandb/run-20220221_192225-dv6lgtih/logs</code><br/>\n"
            ],
            "text/plain": [
              "<IPython.core.display.HTML object>"
            ]
          },
          "metadata": {}
        },
        {
          "output_type": "stream",
          "name": "stderr",
          "text": [
            "\u001b[34m\u001b[1mwandb\u001b[0m: Agent Starting Run: 1wvhmqzs with config:\n",
            "\u001b[34m\u001b[1mwandb\u001b[0m: \tmax_depth: 20\n",
            "\u001b[34m\u001b[1mwandb\u001b[0m: \tn_estimators: 47\n"
          ]
        },
        {
          "output_type": "display_data",
          "data": {
            "text/html": [
              "\n",
              "                    Syncing run <strong><a href=\"https://wandb.ai/atufa/beans-tabular-IIT-G/runs/1wvhmqzs\" target=\"_blank\">olive-sweep-19</a></strong> to <a href=\"https://wandb.ai/atufa/beans-tabular-IIT-G\" target=\"_blank\">Weights & Biases</a> (<a href=\"https://docs.wandb.com/integrations/jupyter.html\" target=\"_blank\">docs</a>).<br/>\n",
              "Sweep page: <a href=\"https://wandb.ai/atufa/beans-tabular-IIT-G/sweeps/vj8odfk2\" target=\"_blank\">https://wandb.ai/atufa/beans-tabular-IIT-G/sweeps/vj8odfk2</a><br/>\n",
              "\n",
              "                "
            ],
            "text/plain": [
              "<IPython.core.display.HTML object>"
            ]
          },
          "metadata": {}
        },
        {
          "output_type": "stream",
          "name": "stderr",
          "text": [
            "\u001b[34m\u001b[1mwandb\u001b[0m: \u001b[33mWARNING\u001b[0m Config item 'max_depth' was locked by 'sweep' (ignored update).\n",
            "\u001b[34m\u001b[1mwandb\u001b[0m: \u001b[33mWARNING\u001b[0m Config item 'n_estimators' was locked by 'sweep' (ignored update).\n"
          ]
        },
        {
          "output_type": "display_data",
          "data": {
            "text/html": [
              "<br/>Waiting for W&B process to finish, PID 1430... <strong style=\"color:green\">(success).</strong>"
            ],
            "text/plain": [
              "<IPython.core.display.HTML object>"
            ]
          },
          "metadata": {}
        },
        {
          "output_type": "display_data",
          "data": {
            "application/vnd.jupyter.widget-view+json": {
              "model_id": "c2f83efa60844b69baaae808f419fe26",
              "version_minor": 0,
              "version_major": 2
            },
            "text/plain": [
              "VBox(children=(Label(value=' 0.04MB of 0.04MB uploaded (0.00MB deduped)\\r'), FloatProgress(value=1.0, max=1.0)…"
            ]
          },
          "metadata": {}
        },
        {
          "output_type": "display_data",
          "data": {
            "text/html": [
              "<style>\n",
              "    table.wandb td:nth-child(1) { padding: 0 10px; text-align: right }\n",
              "    .wandb-row { display: flex; flex-direction: row; flex-wrap: wrap; width: 100% }\n",
              "    .wandb-col { display: flex; flex-direction: column; flex-basis: 100%; flex: 1; padding: 10px; }\n",
              "    </style>\n",
              "<div class=\"wandb-row\"><div class=\"wandb-col\">\n",
              "</div><div class=\"wandb-col\">\n",
              "<h3>Run summary:</h3><br/><table class=\"wandb\"><tr><td>validation/accuracy</td><td>0.93156</td></tr><tr><td>validation/f1_score</td><td>0.93141</td></tr><tr><td>validation/precision</td><td>0.93142</td></tr><tr><td>validation/recall</td><td>0.93156</td></tr></table>\n",
              "</div></div>\n",
              "Synced 5 W&B file(s), 0 media file(s), 1 artifact file(s) and 0 other file(s)\n",
              "<br/>Synced <strong style=\"color:#cdcd00\">olive-sweep-19</strong>: <a href=\"https://wandb.ai/atufa/beans-tabular-IIT-G/runs/1wvhmqzs\" target=\"_blank\">https://wandb.ai/atufa/beans-tabular-IIT-G/runs/1wvhmqzs</a><br/>\n",
              "Find logs at: <code>./wandb/run-20220221_192255-1wvhmqzs/logs</code><br/>\n"
            ],
            "text/plain": [
              "<IPython.core.display.HTML object>"
            ]
          },
          "metadata": {}
        },
        {
          "output_type": "stream",
          "name": "stderr",
          "text": [
            "\u001b[34m\u001b[1mwandb\u001b[0m: Agent Starting Run: im8xu4id with config:\n",
            "\u001b[34m\u001b[1mwandb\u001b[0m: \tmax_depth: 87\n",
            "\u001b[34m\u001b[1mwandb\u001b[0m: \tn_estimators: 117\n"
          ]
        },
        {
          "output_type": "display_data",
          "data": {
            "text/html": [
              "\n",
              "                    Syncing run <strong><a href=\"https://wandb.ai/atufa/beans-tabular-IIT-G/runs/im8xu4id\" target=\"_blank\">glowing-sweep-20</a></strong> to <a href=\"https://wandb.ai/atufa/beans-tabular-IIT-G\" target=\"_blank\">Weights & Biases</a> (<a href=\"https://docs.wandb.com/integrations/jupyter.html\" target=\"_blank\">docs</a>).<br/>\n",
              "Sweep page: <a href=\"https://wandb.ai/atufa/beans-tabular-IIT-G/sweeps/vj8odfk2\" target=\"_blank\">https://wandb.ai/atufa/beans-tabular-IIT-G/sweeps/vj8odfk2</a><br/>\n",
              "\n",
              "                "
            ],
            "text/plain": [
              "<IPython.core.display.HTML object>"
            ]
          },
          "metadata": {}
        },
        {
          "output_type": "stream",
          "name": "stderr",
          "text": [
            "\u001b[34m\u001b[1mwandb\u001b[0m: \u001b[33mWARNING\u001b[0m Config item 'max_depth' was locked by 'sweep' (ignored update).\n",
            "\u001b[34m\u001b[1mwandb\u001b[0m: \u001b[33mWARNING\u001b[0m Config item 'n_estimators' was locked by 'sweep' (ignored update).\n"
          ]
        },
        {
          "output_type": "display_data",
          "data": {
            "text/html": [
              "<br/>Waiting for W&B process to finish, PID 1472... <strong style=\"color:green\">(success).</strong>"
            ],
            "text/plain": [
              "<IPython.core.display.HTML object>"
            ]
          },
          "metadata": {}
        },
        {
          "output_type": "display_data",
          "data": {
            "application/vnd.jupyter.widget-view+json": {
              "model_id": "21ea9f72a87840df903314b4337482fe",
              "version_minor": 0,
              "version_major": 2
            },
            "text/plain": [
              "VBox(children=(Label(value=' 0.04MB of 0.04MB uploaded (0.00MB deduped)\\r'), FloatProgress(value=1.0, max=1.0)…"
            ]
          },
          "metadata": {}
        },
        {
          "output_type": "display_data",
          "data": {
            "text/html": [
              "<style>\n",
              "    table.wandb td:nth-child(1) { padding: 0 10px; text-align: right }\n",
              "    .wandb-row { display: flex; flex-direction: row; flex-wrap: wrap; width: 100% }\n",
              "    .wandb-col { display: flex; flex-direction: column; flex-basis: 100%; flex: 1; padding: 10px; }\n",
              "    </style>\n",
              "<div class=\"wandb-row\"><div class=\"wandb-col\">\n",
              "</div><div class=\"wandb-col\">\n",
              "<h3>Run summary:</h3><br/><table class=\"wandb\"><tr><td>validation/accuracy</td><td>0.93241</td></tr><tr><td>validation/f1_score</td><td>0.93228</td></tr><tr><td>validation/precision</td><td>0.93223</td></tr><tr><td>validation/recall</td><td>0.93241</td></tr></table>\n",
              "</div></div>\n",
              "Synced 5 W&B file(s), 0 media file(s), 1 artifact file(s) and 0 other file(s)\n",
              "<br/>Synced <strong style=\"color:#cdcd00\">glowing-sweep-20</strong>: <a href=\"https://wandb.ai/atufa/beans-tabular-IIT-G/runs/im8xu4id\" target=\"_blank\">https://wandb.ai/atufa/beans-tabular-IIT-G/runs/im8xu4id</a><br/>\n",
              "Find logs at: <code>./wandb/run-20220221_192310-im8xu4id/logs</code><br/>\n"
            ],
            "text/plain": [
              "<IPython.core.display.HTML object>"
            ]
          },
          "metadata": {}
        },
        {
          "output_type": "stream",
          "name": "stderr",
          "text": [
            "\u001b[34m\u001b[1mwandb\u001b[0m: Agent Starting Run: h4n8vzs6 with config:\n",
            "\u001b[34m\u001b[1mwandb\u001b[0m: \tmax_depth: 86\n",
            "\u001b[34m\u001b[1mwandb\u001b[0m: \tn_estimators: 289\n"
          ]
        },
        {
          "output_type": "display_data",
          "data": {
            "text/html": [
              "\n",
              "                    Syncing run <strong><a href=\"https://wandb.ai/atufa/beans-tabular-IIT-G/runs/h4n8vzs6\" target=\"_blank\">azure-sweep-21</a></strong> to <a href=\"https://wandb.ai/atufa/beans-tabular-IIT-G\" target=\"_blank\">Weights & Biases</a> (<a href=\"https://docs.wandb.com/integrations/jupyter.html\" target=\"_blank\">docs</a>).<br/>\n",
              "Sweep page: <a href=\"https://wandb.ai/atufa/beans-tabular-IIT-G/sweeps/vj8odfk2\" target=\"_blank\">https://wandb.ai/atufa/beans-tabular-IIT-G/sweeps/vj8odfk2</a><br/>\n",
              "\n",
              "                "
            ],
            "text/plain": [
              "<IPython.core.display.HTML object>"
            ]
          },
          "metadata": {}
        },
        {
          "output_type": "stream",
          "name": "stderr",
          "text": [
            "\u001b[34m\u001b[1mwandb\u001b[0m: \u001b[33mWARNING\u001b[0m Config item 'max_depth' was locked by 'sweep' (ignored update).\n",
            "\u001b[34m\u001b[1mwandb\u001b[0m: \u001b[33mWARNING\u001b[0m Config item 'n_estimators' was locked by 'sweep' (ignored update).\n"
          ]
        },
        {
          "output_type": "display_data",
          "data": {
            "text/html": [
              "<br/>Waiting for W&B process to finish, PID 1512... <strong style=\"color:green\">(success).</strong>"
            ],
            "text/plain": [
              "<IPython.core.display.HTML object>"
            ]
          },
          "metadata": {}
        },
        {
          "output_type": "display_data",
          "data": {
            "application/vnd.jupyter.widget-view+json": {
              "model_id": "9c192c18b28e4fefb8da28c1c5b68888",
              "version_minor": 0,
              "version_major": 2
            },
            "text/plain": [
              "VBox(children=(Label(value=' 0.04MB of 0.04MB uploaded (0.00MB deduped)\\r'), FloatProgress(value=1.0, max=1.0)…"
            ]
          },
          "metadata": {}
        },
        {
          "output_type": "display_data",
          "data": {
            "text/html": [
              "<style>\n",
              "    table.wandb td:nth-child(1) { padding: 0 10px; text-align: right }\n",
              "    .wandb-row { display: flex; flex-direction: row; flex-wrap: wrap; width: 100% }\n",
              "    .wandb-col { display: flex; flex-direction: column; flex-basis: 100%; flex: 1; padding: 10px; }\n",
              "    </style>\n",
              "<div class=\"wandb-row\"><div class=\"wandb-col\">\n",
              "</div><div class=\"wandb-col\">\n",
              "<h3>Run summary:</h3><br/><table class=\"wandb\"><tr><td>validation/accuracy</td><td>0.93156</td></tr><tr><td>validation/f1_score</td><td>0.93146</td></tr><tr><td>validation/precision</td><td>0.93144</td></tr><tr><td>validation/recall</td><td>0.93156</td></tr></table>\n",
              "</div></div>\n",
              "Synced 5 W&B file(s), 0 media file(s), 1 artifact file(s) and 0 other file(s)\n",
              "<br/>Synced <strong style=\"color:#cdcd00\">azure-sweep-21</strong>: <a href=\"https://wandb.ai/atufa/beans-tabular-IIT-G/runs/h4n8vzs6\" target=\"_blank\">https://wandb.ai/atufa/beans-tabular-IIT-G/runs/h4n8vzs6</a><br/>\n",
              "Find logs at: <code>./wandb/run-20220221_192331-h4n8vzs6/logs</code><br/>\n"
            ],
            "text/plain": [
              "<IPython.core.display.HTML object>"
            ]
          },
          "metadata": {}
        },
        {
          "output_type": "stream",
          "name": "stderr",
          "text": [
            "\u001b[34m\u001b[1mwandb\u001b[0m: Agent Starting Run: l892kq6h with config:\n",
            "\u001b[34m\u001b[1mwandb\u001b[0m: \tmax_depth: 94\n",
            "\u001b[34m\u001b[1mwandb\u001b[0m: \tn_estimators: 259\n"
          ]
        },
        {
          "output_type": "display_data",
          "data": {
            "text/html": [
              "\n",
              "                    Syncing run <strong><a href=\"https://wandb.ai/atufa/beans-tabular-IIT-G/runs/l892kq6h\" target=\"_blank\">dutiful-sweep-22</a></strong> to <a href=\"https://wandb.ai/atufa/beans-tabular-IIT-G\" target=\"_blank\">Weights & Biases</a> (<a href=\"https://docs.wandb.com/integrations/jupyter.html\" target=\"_blank\">docs</a>).<br/>\n",
              "Sweep page: <a href=\"https://wandb.ai/atufa/beans-tabular-IIT-G/sweeps/vj8odfk2\" target=\"_blank\">https://wandb.ai/atufa/beans-tabular-IIT-G/sweeps/vj8odfk2</a><br/>\n",
              "\n",
              "                "
            ],
            "text/plain": [
              "<IPython.core.display.HTML object>"
            ]
          },
          "metadata": {}
        },
        {
          "output_type": "stream",
          "name": "stderr",
          "text": [
            "\u001b[34m\u001b[1mwandb\u001b[0m: \u001b[33mWARNING\u001b[0m Config item 'max_depth' was locked by 'sweep' (ignored update).\n",
            "\u001b[34m\u001b[1mwandb\u001b[0m: \u001b[33mWARNING\u001b[0m Config item 'n_estimators' was locked by 'sweep' (ignored update).\n"
          ]
        },
        {
          "output_type": "display_data",
          "data": {
            "text/html": [
              "<br/>Waiting for W&B process to finish, PID 1554... <strong style=\"color:green\">(success).</strong>"
            ],
            "text/plain": [
              "<IPython.core.display.HTML object>"
            ]
          },
          "metadata": {}
        },
        {
          "output_type": "display_data",
          "data": {
            "application/vnd.jupyter.widget-view+json": {
              "model_id": "292e518dc4634de6b50e4f1e504e4f35",
              "version_minor": 0,
              "version_major": 2
            },
            "text/plain": [
              "VBox(children=(Label(value=' 0.04MB of 0.04MB uploaded (0.00MB deduped)\\r'), FloatProgress(value=1.0, max=1.0)…"
            ]
          },
          "metadata": {}
        },
        {
          "output_type": "display_data",
          "data": {
            "text/html": [
              "<style>\n",
              "    table.wandb td:nth-child(1) { padding: 0 10px; text-align: right }\n",
              "    .wandb-row { display: flex; flex-direction: row; flex-wrap: wrap; width: 100% }\n",
              "    .wandb-col { display: flex; flex-direction: column; flex-basis: 100%; flex: 1; padding: 10px; }\n",
              "    </style>\n",
              "<div class=\"wandb-row\"><div class=\"wandb-col\">\n",
              "</div><div class=\"wandb-col\">\n",
              "<h3>Run summary:</h3><br/><table class=\"wandb\"><tr><td>validation/accuracy</td><td>0.93184</td></tr><tr><td>validation/f1_score</td><td>0.93179</td></tr><tr><td>validation/precision</td><td>0.93179</td></tr><tr><td>validation/recall</td><td>0.93184</td></tr></table>\n",
              "</div></div>\n",
              "Synced 5 W&B file(s), 0 media file(s), 1 artifact file(s) and 0 other file(s)\n",
              "<br/>Synced <strong style=\"color:#cdcd00\">dutiful-sweep-22</strong>: <a href=\"https://wandb.ai/atufa/beans-tabular-IIT-G/runs/l892kq6h\" target=\"_blank\">https://wandb.ai/atufa/beans-tabular-IIT-G/runs/l892kq6h</a><br/>\n",
              "Find logs at: <code>./wandb/run-20220221_192357-l892kq6h/logs</code><br/>\n"
            ],
            "text/plain": [
              "<IPython.core.display.HTML object>"
            ]
          },
          "metadata": {}
        },
        {
          "output_type": "stream",
          "name": "stderr",
          "text": [
            "\u001b[34m\u001b[1mwandb\u001b[0m: Agent Starting Run: ggd0rq0e with config:\n",
            "\u001b[34m\u001b[1mwandb\u001b[0m: \tmax_depth: 73\n",
            "\u001b[34m\u001b[1mwandb\u001b[0m: \tn_estimators: 126\n"
          ]
        },
        {
          "output_type": "display_data",
          "data": {
            "text/html": [
              "\n",
              "                    Syncing run <strong><a href=\"https://wandb.ai/atufa/beans-tabular-IIT-G/runs/ggd0rq0e\" target=\"_blank\">skilled-sweep-23</a></strong> to <a href=\"https://wandb.ai/atufa/beans-tabular-IIT-G\" target=\"_blank\">Weights & Biases</a> (<a href=\"https://docs.wandb.com/integrations/jupyter.html\" target=\"_blank\">docs</a>).<br/>\n",
              "Sweep page: <a href=\"https://wandb.ai/atufa/beans-tabular-IIT-G/sweeps/vj8odfk2\" target=\"_blank\">https://wandb.ai/atufa/beans-tabular-IIT-G/sweeps/vj8odfk2</a><br/>\n",
              "\n",
              "                "
            ],
            "text/plain": [
              "<IPython.core.display.HTML object>"
            ]
          },
          "metadata": {}
        },
        {
          "output_type": "stream",
          "name": "stderr",
          "text": [
            "\u001b[34m\u001b[1mwandb\u001b[0m: \u001b[33mWARNING\u001b[0m Config item 'max_depth' was locked by 'sweep' (ignored update).\n",
            "\u001b[34m\u001b[1mwandb\u001b[0m: \u001b[33mWARNING\u001b[0m Config item 'n_estimators' was locked by 'sweep' (ignored update).\n"
          ]
        },
        {
          "output_type": "display_data",
          "data": {
            "text/html": [
              "<br/>Waiting for W&B process to finish, PID 1596... <strong style=\"color:green\">(success).</strong>"
            ],
            "text/plain": [
              "<IPython.core.display.HTML object>"
            ]
          },
          "metadata": {}
        },
        {
          "output_type": "display_data",
          "data": {
            "application/vnd.jupyter.widget-view+json": {
              "model_id": "4a6634ada551454fbc86799277531f6d",
              "version_minor": 0,
              "version_major": 2
            },
            "text/plain": [
              "VBox(children=(Label(value=' 0.04MB of 0.04MB uploaded (0.00MB deduped)\\r'), FloatProgress(value=1.0, max=1.0)…"
            ]
          },
          "metadata": {}
        },
        {
          "output_type": "display_data",
          "data": {
            "text/html": [
              "<style>\n",
              "    table.wandb td:nth-child(1) { padding: 0 10px; text-align: right }\n",
              "    .wandb-row { display: flex; flex-direction: row; flex-wrap: wrap; width: 100% }\n",
              "    .wandb-col { display: flex; flex-direction: column; flex-basis: 100%; flex: 1; padding: 10px; }\n",
              "    </style>\n",
              "<div class=\"wandb-row\"><div class=\"wandb-col\">\n",
              "</div><div class=\"wandb-col\">\n",
              "<h3>Run summary:</h3><br/><table class=\"wandb\"><tr><td>validation/accuracy</td><td>0.93071</td></tr><tr><td>validation/f1_score</td><td>0.93058</td></tr><tr><td>validation/precision</td><td>0.93056</td></tr><tr><td>validation/recall</td><td>0.93071</td></tr></table>\n",
              "</div></div>\n",
              "Synced 5 W&B file(s), 0 media file(s), 1 artifact file(s) and 0 other file(s)\n",
              "<br/>Synced <strong style=\"color:#cdcd00\">skilled-sweep-23</strong>: <a href=\"https://wandb.ai/atufa/beans-tabular-IIT-G/runs/ggd0rq0e\" target=\"_blank\">https://wandb.ai/atufa/beans-tabular-IIT-G/runs/ggd0rq0e</a><br/>\n",
              "Find logs at: <code>./wandb/run-20220221_192423-ggd0rq0e/logs</code><br/>\n"
            ],
            "text/plain": [
              "<IPython.core.display.HTML object>"
            ]
          },
          "metadata": {}
        },
        {
          "output_type": "stream",
          "name": "stderr",
          "text": [
            "\u001b[34m\u001b[1mwandb\u001b[0m: Agent Starting Run: bmxfnsrs with config:\n",
            "\u001b[34m\u001b[1mwandb\u001b[0m: \tmax_depth: 52\n",
            "\u001b[34m\u001b[1mwandb\u001b[0m: \tn_estimators: 107\n"
          ]
        },
        {
          "output_type": "display_data",
          "data": {
            "text/html": [
              "\n",
              "                    Syncing run <strong><a href=\"https://wandb.ai/atufa/beans-tabular-IIT-G/runs/bmxfnsrs\" target=\"_blank\">honest-sweep-24</a></strong> to <a href=\"https://wandb.ai/atufa/beans-tabular-IIT-G\" target=\"_blank\">Weights & Biases</a> (<a href=\"https://docs.wandb.com/integrations/jupyter.html\" target=\"_blank\">docs</a>).<br/>\n",
              "Sweep page: <a href=\"https://wandb.ai/atufa/beans-tabular-IIT-G/sweeps/vj8odfk2\" target=\"_blank\">https://wandb.ai/atufa/beans-tabular-IIT-G/sweeps/vj8odfk2</a><br/>\n",
              "\n",
              "                "
            ],
            "text/plain": [
              "<IPython.core.display.HTML object>"
            ]
          },
          "metadata": {}
        },
        {
          "output_type": "stream",
          "name": "stderr",
          "text": [
            "\u001b[34m\u001b[1mwandb\u001b[0m: \u001b[33mWARNING\u001b[0m Config item 'max_depth' was locked by 'sweep' (ignored update).\n",
            "\u001b[34m\u001b[1mwandb\u001b[0m: \u001b[33mWARNING\u001b[0m Config item 'n_estimators' was locked by 'sweep' (ignored update).\n"
          ]
        },
        {
          "output_type": "display_data",
          "data": {
            "text/html": [
              "<br/>Waiting for W&B process to finish, PID 1640... <strong style=\"color:green\">(success).</strong>"
            ],
            "text/plain": [
              "<IPython.core.display.HTML object>"
            ]
          },
          "metadata": {}
        },
        {
          "output_type": "display_data",
          "data": {
            "application/vnd.jupyter.widget-view+json": {
              "model_id": "e500f45889734a7792992283836c3939",
              "version_minor": 0,
              "version_major": 2
            },
            "text/plain": [
              "VBox(children=(Label(value=' 0.04MB of 0.04MB uploaded (0.00MB deduped)\\r'), FloatProgress(value=1.0, max=1.0)…"
            ]
          },
          "metadata": {}
        },
        {
          "output_type": "display_data",
          "data": {
            "text/html": [
              "<style>\n",
              "    table.wandb td:nth-child(1) { padding: 0 10px; text-align: right }\n",
              "    .wandb-row { display: flex; flex-direction: row; flex-wrap: wrap; width: 100% }\n",
              "    .wandb-col { display: flex; flex-direction: column; flex-basis: 100%; flex: 1; padding: 10px; }\n",
              "    </style>\n",
              "<div class=\"wandb-row\"><div class=\"wandb-col\">\n",
              "</div><div class=\"wandb-col\">\n",
              "<h3>Run summary:</h3><br/><table class=\"wandb\"><tr><td>validation/accuracy</td><td>0.931</td></tr><tr><td>validation/f1_score</td><td>0.93088</td></tr><tr><td>validation/precision</td><td>0.93083</td></tr><tr><td>validation/recall</td><td>0.931</td></tr></table>\n",
              "</div></div>\n",
              "Synced 5 W&B file(s), 0 media file(s), 1 artifact file(s) and 0 other file(s)\n",
              "<br/>Synced <strong style=\"color:#cdcd00\">honest-sweep-24</strong>: <a href=\"https://wandb.ai/atufa/beans-tabular-IIT-G/runs/bmxfnsrs\" target=\"_blank\">https://wandb.ai/atufa/beans-tabular-IIT-G/runs/bmxfnsrs</a><br/>\n",
              "Find logs at: <code>./wandb/run-20220221_192444-bmxfnsrs/logs</code><br/>\n"
            ],
            "text/plain": [
              "<IPython.core.display.HTML object>"
            ]
          },
          "metadata": {}
        },
        {
          "output_type": "stream",
          "name": "stderr",
          "text": [
            "\u001b[34m\u001b[1mwandb\u001b[0m: Agent Starting Run: wbxpdwrp with config:\n",
            "\u001b[34m\u001b[1mwandb\u001b[0m: \tmax_depth: 4\n",
            "\u001b[34m\u001b[1mwandb\u001b[0m: \tn_estimators: 80\n"
          ]
        },
        {
          "output_type": "display_data",
          "data": {
            "text/html": [
              "\n",
              "                    Syncing run <strong><a href=\"https://wandb.ai/atufa/beans-tabular-IIT-G/runs/wbxpdwrp\" target=\"_blank\">good-sweep-25</a></strong> to <a href=\"https://wandb.ai/atufa/beans-tabular-IIT-G\" target=\"_blank\">Weights & Biases</a> (<a href=\"https://docs.wandb.com/integrations/jupyter.html\" target=\"_blank\">docs</a>).<br/>\n",
              "Sweep page: <a href=\"https://wandb.ai/atufa/beans-tabular-IIT-G/sweeps/vj8odfk2\" target=\"_blank\">https://wandb.ai/atufa/beans-tabular-IIT-G/sweeps/vj8odfk2</a><br/>\n",
              "\n",
              "                "
            ],
            "text/plain": [
              "<IPython.core.display.HTML object>"
            ]
          },
          "metadata": {}
        },
        {
          "output_type": "stream",
          "name": "stderr",
          "text": [
            "\u001b[34m\u001b[1mwandb\u001b[0m: \u001b[33mWARNING\u001b[0m Config item 'max_depth' was locked by 'sweep' (ignored update).\n",
            "\u001b[34m\u001b[1mwandb\u001b[0m: \u001b[33mWARNING\u001b[0m Config item 'n_estimators' was locked by 'sweep' (ignored update).\n"
          ]
        },
        {
          "output_type": "display_data",
          "data": {
            "text/html": [
              "<br/>Waiting for W&B process to finish, PID 1686... <strong style=\"color:green\">(success).</strong>"
            ],
            "text/plain": [
              "<IPython.core.display.HTML object>"
            ]
          },
          "metadata": {}
        },
        {
          "output_type": "display_data",
          "data": {
            "application/vnd.jupyter.widget-view+json": {
              "model_id": "15aced9ee3204ac28e342571a97897b5",
              "version_minor": 0,
              "version_major": 2
            },
            "text/plain": [
              "VBox(children=(Label(value=' 0.04MB of 0.04MB uploaded (0.00MB deduped)\\r'), FloatProgress(value=1.0, max=1.0)…"
            ]
          },
          "metadata": {}
        },
        {
          "output_type": "display_data",
          "data": {
            "text/html": [
              "<style>\n",
              "    table.wandb td:nth-child(1) { padding: 0 10px; text-align: right }\n",
              "    .wandb-row { display: flex; flex-direction: row; flex-wrap: wrap; width: 100% }\n",
              "    .wandb-col { display: flex; flex-direction: column; flex-basis: 100%; flex: 1; padding: 10px; }\n",
              "    </style>\n",
              "<div class=\"wandb-row\"><div class=\"wandb-col\">\n",
              "</div><div class=\"wandb-col\">\n",
              "<h3>Run summary:</h3><br/><table class=\"wandb\"><tr><td>validation/accuracy</td><td>0.89395</td></tr><tr><td>validation/f1_score</td><td>0.89386</td></tr><tr><td>validation/precision</td><td>0.89842</td></tr><tr><td>validation/recall</td><td>0.89395</td></tr></table>\n",
              "</div></div>\n",
              "Synced 5 W&B file(s), 0 media file(s), 1 artifact file(s) and 0 other file(s)\n",
              "<br/>Synced <strong style=\"color:#cdcd00\">good-sweep-25</strong>: <a href=\"https://wandb.ai/atufa/beans-tabular-IIT-G/runs/wbxpdwrp\" target=\"_blank\">https://wandb.ai/atufa/beans-tabular-IIT-G/runs/wbxpdwrp</a><br/>\n",
              "Find logs at: <code>./wandb/run-20220221_192504-wbxpdwrp/logs</code><br/>\n"
            ],
            "text/plain": [
              "<IPython.core.display.HTML object>"
            ]
          },
          "metadata": {}
        },
        {
          "output_type": "stream",
          "name": "stderr",
          "text": [
            "\u001b[34m\u001b[1mwandb\u001b[0m: Agent Starting Run: r2cm38pm with config:\n",
            "\u001b[34m\u001b[1mwandb\u001b[0m: \tmax_depth: 60\n",
            "\u001b[34m\u001b[1mwandb\u001b[0m: \tn_estimators: 199\n"
          ]
        },
        {
          "output_type": "display_data",
          "data": {
            "text/html": [
              "\n",
              "                    Syncing run <strong><a href=\"https://wandb.ai/atufa/beans-tabular-IIT-G/runs/r2cm38pm\" target=\"_blank\">wobbly-sweep-26</a></strong> to <a href=\"https://wandb.ai/atufa/beans-tabular-IIT-G\" target=\"_blank\">Weights & Biases</a> (<a href=\"https://docs.wandb.com/integrations/jupyter.html\" target=\"_blank\">docs</a>).<br/>\n",
              "Sweep page: <a href=\"https://wandb.ai/atufa/beans-tabular-IIT-G/sweeps/vj8odfk2\" target=\"_blank\">https://wandb.ai/atufa/beans-tabular-IIT-G/sweeps/vj8odfk2</a><br/>\n",
              "\n",
              "                "
            ],
            "text/plain": [
              "<IPython.core.display.HTML object>"
            ]
          },
          "metadata": {}
        },
        {
          "output_type": "stream",
          "name": "stderr",
          "text": [
            "\u001b[34m\u001b[1mwandb\u001b[0m: \u001b[33mWARNING\u001b[0m Config item 'max_depth' was locked by 'sweep' (ignored update).\n",
            "\u001b[34m\u001b[1mwandb\u001b[0m: \u001b[33mWARNING\u001b[0m Config item 'n_estimators' was locked by 'sweep' (ignored update).\n"
          ]
        },
        {
          "output_type": "display_data",
          "data": {
            "text/html": [
              "<br/>Waiting for W&B process to finish, PID 1726... <strong style=\"color:green\">(success).</strong>"
            ],
            "text/plain": [
              "<IPython.core.display.HTML object>"
            ]
          },
          "metadata": {}
        },
        {
          "output_type": "display_data",
          "data": {
            "application/vnd.jupyter.widget-view+json": {
              "model_id": "428b2d9a30234cc0b4e1fd4a1c614323",
              "version_minor": 0,
              "version_major": 2
            },
            "text/plain": [
              "VBox(children=(Label(value=' 0.04MB of 0.04MB uploaded (0.00MB deduped)\\r'), FloatProgress(value=1.0, max=1.0)…"
            ]
          },
          "metadata": {}
        },
        {
          "output_type": "display_data",
          "data": {
            "text/html": [
              "<style>\n",
              "    table.wandb td:nth-child(1) { padding: 0 10px; text-align: right }\n",
              "    .wandb-row { display: flex; flex-direction: row; flex-wrap: wrap; width: 100% }\n",
              "    .wandb-col { display: flex; flex-direction: column; flex-basis: 100%; flex: 1; padding: 10px; }\n",
              "    </style>\n",
              "<div class=\"wandb-row\"><div class=\"wandb-col\">\n",
              "</div><div class=\"wandb-col\">\n",
              "<h3>Run summary:</h3><br/><table class=\"wandb\"><tr><td>validation/accuracy</td><td>0.92986</td></tr><tr><td>validation/f1_score</td><td>0.92967</td></tr><tr><td>validation/precision</td><td>0.92962</td></tr><tr><td>validation/recall</td><td>0.92986</td></tr></table>\n",
              "</div></div>\n",
              "Synced 5 W&B file(s), 0 media file(s), 1 artifact file(s) and 0 other file(s)\n",
              "<br/>Synced <strong style=\"color:#cdcd00\">wobbly-sweep-26</strong>: <a href=\"https://wandb.ai/atufa/beans-tabular-IIT-G/runs/r2cm38pm\" target=\"_blank\">https://wandb.ai/atufa/beans-tabular-IIT-G/runs/r2cm38pm</a><br/>\n",
              "Find logs at: <code>./wandb/run-20220221_192524-r2cm38pm/logs</code><br/>\n"
            ],
            "text/plain": [
              "<IPython.core.display.HTML object>"
            ]
          },
          "metadata": {}
        },
        {
          "output_type": "stream",
          "name": "stderr",
          "text": [
            "\u001b[34m\u001b[1mwandb\u001b[0m: Agent Starting Run: ini7kz6m with config:\n",
            "\u001b[34m\u001b[1mwandb\u001b[0m: \tmax_depth: 41\n",
            "\u001b[34m\u001b[1mwandb\u001b[0m: \tn_estimators: 241\n"
          ]
        },
        {
          "output_type": "display_data",
          "data": {
            "text/html": [
              "\n",
              "                    Syncing run <strong><a href=\"https://wandb.ai/atufa/beans-tabular-IIT-G/runs/ini7kz6m\" target=\"_blank\">lunar-sweep-27</a></strong> to <a href=\"https://wandb.ai/atufa/beans-tabular-IIT-G\" target=\"_blank\">Weights & Biases</a> (<a href=\"https://docs.wandb.com/integrations/jupyter.html\" target=\"_blank\">docs</a>).<br/>\n",
              "Sweep page: <a href=\"https://wandb.ai/atufa/beans-tabular-IIT-G/sweeps/vj8odfk2\" target=\"_blank\">https://wandb.ai/atufa/beans-tabular-IIT-G/sweeps/vj8odfk2</a><br/>\n",
              "\n",
              "                "
            ],
            "text/plain": [
              "<IPython.core.display.HTML object>"
            ]
          },
          "metadata": {}
        },
        {
          "output_type": "stream",
          "name": "stderr",
          "text": [
            "\u001b[34m\u001b[1mwandb\u001b[0m: \u001b[33mWARNING\u001b[0m Config item 'max_depth' was locked by 'sweep' (ignored update).\n",
            "\u001b[34m\u001b[1mwandb\u001b[0m: \u001b[33mWARNING\u001b[0m Config item 'n_estimators' was locked by 'sweep' (ignored update).\n"
          ]
        },
        {
          "output_type": "display_data",
          "data": {
            "text/html": [
              "<br/>Waiting for W&B process to finish, PID 1766... <strong style=\"color:green\">(success).</strong>"
            ],
            "text/plain": [
              "<IPython.core.display.HTML object>"
            ]
          },
          "metadata": {}
        },
        {
          "output_type": "display_data",
          "data": {
            "application/vnd.jupyter.widget-view+json": {
              "model_id": "9de25e798dd14c1aa176cbb517343aa0",
              "version_minor": 0,
              "version_major": 2
            },
            "text/plain": [
              "VBox(children=(Label(value=' 0.04MB of 0.04MB uploaded (0.00MB deduped)\\r'), FloatProgress(value=1.0, max=1.0)…"
            ]
          },
          "metadata": {}
        },
        {
          "output_type": "display_data",
          "data": {
            "text/html": [
              "<style>\n",
              "    table.wandb td:nth-child(1) { padding: 0 10px; text-align: right }\n",
              "    .wandb-row { display: flex; flex-direction: row; flex-wrap: wrap; width: 100% }\n",
              "    .wandb-col { display: flex; flex-direction: column; flex-basis: 100%; flex: 1; padding: 10px; }\n",
              "    </style>\n",
              "<div class=\"wandb-row\"><div class=\"wandb-col\">\n",
              "</div><div class=\"wandb-col\">\n",
              "<h3>Run summary:</h3><br/><table class=\"wandb\"><tr><td>validation/accuracy</td><td>0.931</td></tr><tr><td>validation/f1_score</td><td>0.9309</td></tr><tr><td>validation/precision</td><td>0.93086</td></tr><tr><td>validation/recall</td><td>0.931</td></tr></table>\n",
              "</div></div>\n",
              "Synced 5 W&B file(s), 0 media file(s), 1 artifact file(s) and 0 other file(s)\n",
              "<br/>Synced <strong style=\"color:#cdcd00\">lunar-sweep-27</strong>: <a href=\"https://wandb.ai/atufa/beans-tabular-IIT-G/runs/ini7kz6m\" target=\"_blank\">https://wandb.ai/atufa/beans-tabular-IIT-G/runs/ini7kz6m</a><br/>\n",
              "Find logs at: <code>./wandb/run-20220221_192550-ini7kz6m/logs</code><br/>\n"
            ],
            "text/plain": [
              "<IPython.core.display.HTML object>"
            ]
          },
          "metadata": {}
        },
        {
          "output_type": "stream",
          "name": "stderr",
          "text": [
            "\u001b[34m\u001b[1mwandb\u001b[0m: Agent Starting Run: 8ykbzmtv with config:\n",
            "\u001b[34m\u001b[1mwandb\u001b[0m: \tmax_depth: 82\n",
            "\u001b[34m\u001b[1mwandb\u001b[0m: \tn_estimators: 21\n"
          ]
        },
        {
          "output_type": "display_data",
          "data": {
            "text/html": [
              "\n",
              "                    Syncing run <strong><a href=\"https://wandb.ai/atufa/beans-tabular-IIT-G/runs/8ykbzmtv\" target=\"_blank\">copper-sweep-28</a></strong> to <a href=\"https://wandb.ai/atufa/beans-tabular-IIT-G\" target=\"_blank\">Weights & Biases</a> (<a href=\"https://docs.wandb.com/integrations/jupyter.html\" target=\"_blank\">docs</a>).<br/>\n",
              "Sweep page: <a href=\"https://wandb.ai/atufa/beans-tabular-IIT-G/sweeps/vj8odfk2\" target=\"_blank\">https://wandb.ai/atufa/beans-tabular-IIT-G/sweeps/vj8odfk2</a><br/>\n",
              "\n",
              "                "
            ],
            "text/plain": [
              "<IPython.core.display.HTML object>"
            ]
          },
          "metadata": {}
        },
        {
          "output_type": "stream",
          "name": "stderr",
          "text": [
            "\u001b[34m\u001b[1mwandb\u001b[0m: \u001b[33mWARNING\u001b[0m Config item 'max_depth' was locked by 'sweep' (ignored update).\n",
            "\u001b[34m\u001b[1mwandb\u001b[0m: \u001b[33mWARNING\u001b[0m Config item 'n_estimators' was locked by 'sweep' (ignored update).\n"
          ]
        },
        {
          "output_type": "display_data",
          "data": {
            "text/html": [
              "<br/>Waiting for W&B process to finish, PID 1808... <strong style=\"color:green\">(success).</strong>"
            ],
            "text/plain": [
              "<IPython.core.display.HTML object>"
            ]
          },
          "metadata": {}
        },
        {
          "output_type": "display_data",
          "data": {
            "application/vnd.jupyter.widget-view+json": {
              "model_id": "d223e4dcfc534b4198a6b31c26fe5ef8",
              "version_minor": 0,
              "version_major": 2
            },
            "text/plain": [
              "VBox(children=(Label(value=' 0.04MB of 0.04MB uploaded (0.00MB deduped)\\r'), FloatProgress(value=1.0, max=1.0)…"
            ]
          },
          "metadata": {}
        },
        {
          "output_type": "display_data",
          "data": {
            "text/html": [
              "<style>\n",
              "    table.wandb td:nth-child(1) { padding: 0 10px; text-align: right }\n",
              "    .wandb-row { display: flex; flex-direction: row; flex-wrap: wrap; width: 100% }\n",
              "    .wandb-col { display: flex; flex-direction: column; flex-basis: 100%; flex: 1; padding: 10px; }\n",
              "    </style>\n",
              "<div class=\"wandb-row\"><div class=\"wandb-col\">\n",
              "</div><div class=\"wandb-col\">\n",
              "<h3>Run summary:</h3><br/><table class=\"wandb\"><tr><td>validation/accuracy</td><td>0.93071</td></tr><tr><td>validation/f1_score</td><td>0.93056</td></tr><tr><td>validation/precision</td><td>0.93052</td></tr><tr><td>validation/recall</td><td>0.93071</td></tr></table>\n",
              "</div></div>\n",
              "Synced 5 W&B file(s), 0 media file(s), 1 artifact file(s) and 0 other file(s)\n",
              "<br/>Synced <strong style=\"color:#cdcd00\">copper-sweep-28</strong>: <a href=\"https://wandb.ai/atufa/beans-tabular-IIT-G/runs/8ykbzmtv\" target=\"_blank\">https://wandb.ai/atufa/beans-tabular-IIT-G/runs/8ykbzmtv</a><br/>\n",
              "Find logs at: <code>./wandb/run-20220221_192616-8ykbzmtv/logs</code><br/>\n"
            ],
            "text/plain": [
              "<IPython.core.display.HTML object>"
            ]
          },
          "metadata": {}
        },
        {
          "output_type": "stream",
          "name": "stderr",
          "text": [
            "\u001b[34m\u001b[1mwandb\u001b[0m: Agent Starting Run: dzc30kfd with config:\n",
            "\u001b[34m\u001b[1mwandb\u001b[0m: \tmax_depth: 81\n",
            "\u001b[34m\u001b[1mwandb\u001b[0m: \tn_estimators: 32\n"
          ]
        },
        {
          "output_type": "display_data",
          "data": {
            "text/html": [
              "\n",
              "                    Syncing run <strong><a href=\"https://wandb.ai/atufa/beans-tabular-IIT-G/runs/dzc30kfd\" target=\"_blank\">breezy-sweep-29</a></strong> to <a href=\"https://wandb.ai/atufa/beans-tabular-IIT-G\" target=\"_blank\">Weights & Biases</a> (<a href=\"https://docs.wandb.com/integrations/jupyter.html\" target=\"_blank\">docs</a>).<br/>\n",
              "Sweep page: <a href=\"https://wandb.ai/atufa/beans-tabular-IIT-G/sweeps/vj8odfk2\" target=\"_blank\">https://wandb.ai/atufa/beans-tabular-IIT-G/sweeps/vj8odfk2</a><br/>\n",
              "\n",
              "                "
            ],
            "text/plain": [
              "<IPython.core.display.HTML object>"
            ]
          },
          "metadata": {}
        },
        {
          "output_type": "stream",
          "name": "stderr",
          "text": [
            "\u001b[34m\u001b[1mwandb\u001b[0m: \u001b[33mWARNING\u001b[0m Config item 'max_depth' was locked by 'sweep' (ignored update).\n",
            "\u001b[34m\u001b[1mwandb\u001b[0m: \u001b[33mWARNING\u001b[0m Config item 'n_estimators' was locked by 'sweep' (ignored update).\n"
          ]
        },
        {
          "output_type": "display_data",
          "data": {
            "text/html": [
              "<br/>Waiting for W&B process to finish, PID 1848... <strong style=\"color:green\">(success).</strong>"
            ],
            "text/plain": [
              "<IPython.core.display.HTML object>"
            ]
          },
          "metadata": {}
        },
        {
          "output_type": "display_data",
          "data": {
            "application/vnd.jupyter.widget-view+json": {
              "model_id": "1af7461f73af4d9cb197e56f7fd841cb",
              "version_minor": 0,
              "version_major": 2
            },
            "text/plain": [
              "VBox(children=(Label(value=' 0.04MB of 0.04MB uploaded (0.00MB deduped)\\r'), FloatProgress(value=1.0, max=1.0)…"
            ]
          },
          "metadata": {}
        },
        {
          "output_type": "display_data",
          "data": {
            "text/html": [
              "<style>\n",
              "    table.wandb td:nth-child(1) { padding: 0 10px; text-align: right }\n",
              "    .wandb-row { display: flex; flex-direction: row; flex-wrap: wrap; width: 100% }\n",
              "    .wandb-col { display: flex; flex-direction: column; flex-basis: 100%; flex: 1; padding: 10px; }\n",
              "    </style>\n",
              "<div class=\"wandb-row\"><div class=\"wandb-col\">\n",
              "</div><div class=\"wandb-col\">\n",
              "<h3>Run summary:</h3><br/><table class=\"wandb\"><tr><td>validation/accuracy</td><td>0.93269</td></tr><tr><td>validation/f1_score</td><td>0.93262</td></tr><tr><td>validation/precision</td><td>0.93263</td></tr><tr><td>validation/recall</td><td>0.93269</td></tr></table>\n",
              "</div></div>\n",
              "Synced 5 W&B file(s), 0 media file(s), 1 artifact file(s) and 0 other file(s)\n",
              "<br/>Synced <strong style=\"color:#cdcd00\">breezy-sweep-29</strong>: <a href=\"https://wandb.ai/atufa/beans-tabular-IIT-G/runs/dzc30kfd\" target=\"_blank\">https://wandb.ai/atufa/beans-tabular-IIT-G/runs/dzc30kfd</a><br/>\n",
              "Find logs at: <code>./wandb/run-20220221_192631-dzc30kfd/logs</code><br/>\n"
            ],
            "text/plain": [
              "<IPython.core.display.HTML object>"
            ]
          },
          "metadata": {}
        },
        {
          "output_type": "stream",
          "name": "stderr",
          "text": [
            "\u001b[34m\u001b[1mwandb\u001b[0m: Agent Starting Run: 4ve8wzer with config:\n",
            "\u001b[34m\u001b[1mwandb\u001b[0m: \tmax_depth: 61\n",
            "\u001b[34m\u001b[1mwandb\u001b[0m: \tn_estimators: 382\n"
          ]
        },
        {
          "output_type": "display_data",
          "data": {
            "text/html": [
              "\n",
              "                    Syncing run <strong><a href=\"https://wandb.ai/atufa/beans-tabular-IIT-G/runs/4ve8wzer\" target=\"_blank\">elated-sweep-30</a></strong> to <a href=\"https://wandb.ai/atufa/beans-tabular-IIT-G\" target=\"_blank\">Weights & Biases</a> (<a href=\"https://docs.wandb.com/integrations/jupyter.html\" target=\"_blank\">docs</a>).<br/>\n",
              "Sweep page: <a href=\"https://wandb.ai/atufa/beans-tabular-IIT-G/sweeps/vj8odfk2\" target=\"_blank\">https://wandb.ai/atufa/beans-tabular-IIT-G/sweeps/vj8odfk2</a><br/>\n",
              "\n",
              "                "
            ],
            "text/plain": [
              "<IPython.core.display.HTML object>"
            ]
          },
          "metadata": {}
        },
        {
          "output_type": "stream",
          "name": "stderr",
          "text": [
            "\u001b[34m\u001b[1mwandb\u001b[0m: \u001b[33mWARNING\u001b[0m Config item 'max_depth' was locked by 'sweep' (ignored update).\n",
            "\u001b[34m\u001b[1mwandb\u001b[0m: \u001b[33mWARNING\u001b[0m Config item 'n_estimators' was locked by 'sweep' (ignored update).\n"
          ]
        },
        {
          "output_type": "display_data",
          "data": {
            "text/html": [
              "<br/>Waiting for W&B process to finish, PID 1890... <strong style=\"color:green\">(success).</strong>"
            ],
            "text/plain": [
              "<IPython.core.display.HTML object>"
            ]
          },
          "metadata": {}
        },
        {
          "output_type": "display_data",
          "data": {
            "application/vnd.jupyter.widget-view+json": {
              "model_id": "42b43e1c0c134bdd98ea9bbfdfe39074",
              "version_minor": 0,
              "version_major": 2
            },
            "text/plain": [
              "VBox(children=(Label(value=' 0.04MB of 0.04MB uploaded (0.00MB deduped)\\r'), FloatProgress(value=1.0, max=1.0)…"
            ]
          },
          "metadata": {}
        },
        {
          "output_type": "display_data",
          "data": {
            "text/html": [
              "<style>\n",
              "    table.wandb td:nth-child(1) { padding: 0 10px; text-align: right }\n",
              "    .wandb-row { display: flex; flex-direction: row; flex-wrap: wrap; width: 100% }\n",
              "    .wandb-col { display: flex; flex-direction: column; flex-basis: 100%; flex: 1; padding: 10px; }\n",
              "    </style>\n",
              "<div class=\"wandb-row\"><div class=\"wandb-col\">\n",
              "</div><div class=\"wandb-col\">\n",
              "<h3>Run summary:</h3><br/><table class=\"wandb\"><tr><td>validation/accuracy</td><td>0.93382</td></tr><tr><td>validation/f1_score</td><td>0.93373</td></tr><tr><td>validation/precision</td><td>0.93369</td></tr><tr><td>validation/recall</td><td>0.93382</td></tr></table>\n",
              "</div></div>\n",
              "Synced 5 W&B file(s), 0 media file(s), 1 artifact file(s) and 0 other file(s)\n",
              "<br/>Synced <strong style=\"color:#cdcd00\">elated-sweep-30</strong>: <a href=\"https://wandb.ai/atufa/beans-tabular-IIT-G/runs/4ve8wzer\" target=\"_blank\">https://wandb.ai/atufa/beans-tabular-IIT-G/runs/4ve8wzer</a><br/>\n",
              "Find logs at: <code>./wandb/run-20220221_192651-4ve8wzer/logs</code><br/>\n"
            ],
            "text/plain": [
              "<IPython.core.display.HTML object>"
            ]
          },
          "metadata": {}
        },
        {
          "output_type": "stream",
          "name": "stderr",
          "text": [
            "\u001b[34m\u001b[1mwandb\u001b[0m: Agent Starting Run: rw0frxyp with config:\n",
            "\u001b[34m\u001b[1mwandb\u001b[0m: \tmax_depth: 11\n",
            "\u001b[34m\u001b[1mwandb\u001b[0m: \tn_estimators: 215\n"
          ]
        },
        {
          "output_type": "display_data",
          "data": {
            "text/html": [
              "\n",
              "                    Syncing run <strong><a href=\"https://wandb.ai/atufa/beans-tabular-IIT-G/runs/rw0frxyp\" target=\"_blank\">northern-sweep-31</a></strong> to <a href=\"https://wandb.ai/atufa/beans-tabular-IIT-G\" target=\"_blank\">Weights & Biases</a> (<a href=\"https://docs.wandb.com/integrations/jupyter.html\" target=\"_blank\">docs</a>).<br/>\n",
              "Sweep page: <a href=\"https://wandb.ai/atufa/beans-tabular-IIT-G/sweeps/vj8odfk2\" target=\"_blank\">https://wandb.ai/atufa/beans-tabular-IIT-G/sweeps/vj8odfk2</a><br/>\n",
              "\n",
              "                "
            ],
            "text/plain": [
              "<IPython.core.display.HTML object>"
            ]
          },
          "metadata": {}
        },
        {
          "output_type": "stream",
          "name": "stderr",
          "text": [
            "\u001b[34m\u001b[1mwandb\u001b[0m: \u001b[33mWARNING\u001b[0m Config item 'max_depth' was locked by 'sweep' (ignored update).\n",
            "\u001b[34m\u001b[1mwandb\u001b[0m: \u001b[33mWARNING\u001b[0m Config item 'n_estimators' was locked by 'sweep' (ignored update).\n"
          ]
        },
        {
          "output_type": "display_data",
          "data": {
            "text/html": [
              "<br/>Waiting for W&B process to finish, PID 1930... <strong style=\"color:green\">(success).</strong>"
            ],
            "text/plain": [
              "<IPython.core.display.HTML object>"
            ]
          },
          "metadata": {}
        },
        {
          "output_type": "display_data",
          "data": {
            "application/vnd.jupyter.widget-view+json": {
              "model_id": "dd5facd710c244658acc018ff9f72b94",
              "version_minor": 0,
              "version_major": 2
            },
            "text/plain": [
              "VBox(children=(Label(value=' 0.04MB of 0.04MB uploaded (0.00MB deduped)\\r'), FloatProgress(value=1.0, max=1.0)…"
            ]
          },
          "metadata": {}
        },
        {
          "output_type": "display_data",
          "data": {
            "text/html": [
              "<style>\n",
              "    table.wandb td:nth-child(1) { padding: 0 10px; text-align: right }\n",
              "    .wandb-row { display: flex; flex-direction: row; flex-wrap: wrap; width: 100% }\n",
              "    .wandb-col { display: flex; flex-direction: column; flex-basis: 100%; flex: 1; padding: 10px; }\n",
              "    </style>\n",
              "<div class=\"wandb-row\"><div class=\"wandb-col\">\n",
              "</div><div class=\"wandb-col\">\n",
              "<h3>Run summary:</h3><br/><table class=\"wandb\"><tr><td>validation/accuracy</td><td>0.93184</td></tr><tr><td>validation/f1_score</td><td>0.93174</td></tr><tr><td>validation/precision</td><td>0.93171</td></tr><tr><td>validation/recall</td><td>0.93184</td></tr></table>\n",
              "</div></div>\n",
              "Synced 5 W&B file(s), 0 media file(s), 1 artifact file(s) and 0 other file(s)\n",
              "<br/>Synced <strong style=\"color:#cdcd00\">northern-sweep-31</strong>: <a href=\"https://wandb.ai/atufa/beans-tabular-IIT-G/runs/rw0frxyp\" target=\"_blank\">https://wandb.ai/atufa/beans-tabular-IIT-G/runs/rw0frxyp</a><br/>\n",
              "Find logs at: <code>./wandb/run-20220221_192722-rw0frxyp/logs</code><br/>\n"
            ],
            "text/plain": [
              "<IPython.core.display.HTML object>"
            ]
          },
          "metadata": {}
        },
        {
          "output_type": "stream",
          "name": "stderr",
          "text": [
            "\u001b[34m\u001b[1mwandb\u001b[0m: Agent Starting Run: eakli17q with config:\n",
            "\u001b[34m\u001b[1mwandb\u001b[0m: \tmax_depth: 3\n",
            "\u001b[34m\u001b[1mwandb\u001b[0m: \tn_estimators: 179\n"
          ]
        },
        {
          "output_type": "display_data",
          "data": {
            "text/html": [
              "\n",
              "                    Syncing run <strong><a href=\"https://wandb.ai/atufa/beans-tabular-IIT-G/runs/eakli17q\" target=\"_blank\">jolly-sweep-32</a></strong> to <a href=\"https://wandb.ai/atufa/beans-tabular-IIT-G\" target=\"_blank\">Weights & Biases</a> (<a href=\"https://docs.wandb.com/integrations/jupyter.html\" target=\"_blank\">docs</a>).<br/>\n",
              "Sweep page: <a href=\"https://wandb.ai/atufa/beans-tabular-IIT-G/sweeps/vj8odfk2\" target=\"_blank\">https://wandb.ai/atufa/beans-tabular-IIT-G/sweeps/vj8odfk2</a><br/>\n",
              "\n",
              "                "
            ],
            "text/plain": [
              "<IPython.core.display.HTML object>"
            ]
          },
          "metadata": {}
        },
        {
          "output_type": "stream",
          "name": "stderr",
          "text": [
            "\u001b[34m\u001b[1mwandb\u001b[0m: \u001b[33mWARNING\u001b[0m Config item 'max_depth' was locked by 'sweep' (ignored update).\n",
            "\u001b[34m\u001b[1mwandb\u001b[0m: \u001b[33mWARNING\u001b[0m Config item 'n_estimators' was locked by 'sweep' (ignored update).\n",
            "/usr/local/lib/python3.7/dist-packages/sklearn/metrics/_classification.py:1308: UndefinedMetricWarning: Precision is ill-defined and being set to 0.0 in labels with no predicted samples. Use `zero_division` parameter to control this behavior.\n",
            "  _warn_prf(average, modifier, msg_start, len(result))\n"
          ]
        },
        {
          "output_type": "display_data",
          "data": {
            "text/html": [
              "<br/>Waiting for W&B process to finish, PID 1970... <strong style=\"color:green\">(success).</strong>"
            ],
            "text/plain": [
              "<IPython.core.display.HTML object>"
            ]
          },
          "metadata": {}
        },
        {
          "output_type": "display_data",
          "data": {
            "application/vnd.jupyter.widget-view+json": {
              "model_id": "61ca049203ab4970a0f1d13a1ea7ec8b",
              "version_minor": 0,
              "version_major": 2
            },
            "text/plain": [
              "VBox(children=(Label(value=' 0.04MB of 0.04MB uploaded (0.00MB deduped)\\r'), FloatProgress(value=1.0, max=1.0)…"
            ]
          },
          "metadata": {}
        },
        {
          "output_type": "display_data",
          "data": {
            "text/html": [
              "<style>\n",
              "    table.wandb td:nth-child(1) { padding: 0 10px; text-align: right }\n",
              "    .wandb-row { display: flex; flex-direction: row; flex-wrap: wrap; width: 100% }\n",
              "    .wandb-col { display: flex; flex-direction: column; flex-basis: 100%; flex: 1; padding: 10px; }\n",
              "    </style>\n",
              "<div class=\"wandb-row\"><div class=\"wandb-col\">\n",
              "</div><div class=\"wandb-col\">\n",
              "<h3>Run summary:</h3><br/><table class=\"wandb\"><tr><td>validation/accuracy</td><td>0.79553</td></tr><tr><td>validation/f1_score</td><td>0.75903</td></tr><tr><td>validation/precision</td><td>0.81727</td></tr><tr><td>validation/recall</td><td>0.79553</td></tr></table>\n",
              "</div></div>\n",
              "Synced 5 W&B file(s), 0 media file(s), 1 artifact file(s) and 0 other file(s)\n",
              "<br/>Synced <strong style=\"color:#cdcd00\">jolly-sweep-32</strong>: <a href=\"https://wandb.ai/atufa/beans-tabular-IIT-G/runs/eakli17q\" target=\"_blank\">https://wandb.ai/atufa/beans-tabular-IIT-G/runs/eakli17q</a><br/>\n",
              "Find logs at: <code>./wandb/run-20220221_192748-eakli17q/logs</code><br/>\n"
            ],
            "text/plain": [
              "<IPython.core.display.HTML object>"
            ]
          },
          "metadata": {}
        },
        {
          "output_type": "stream",
          "name": "stderr",
          "text": [
            "\u001b[34m\u001b[1mwandb\u001b[0m: Agent Starting Run: baa8mop3 with config:\n",
            "\u001b[34m\u001b[1mwandb\u001b[0m: \tmax_depth: 74\n",
            "\u001b[34m\u001b[1mwandb\u001b[0m: \tn_estimators: 16\n"
          ]
        },
        {
          "output_type": "display_data",
          "data": {
            "text/html": [
              "\n",
              "                    Syncing run <strong><a href=\"https://wandb.ai/atufa/beans-tabular-IIT-G/runs/baa8mop3\" target=\"_blank\">dark-sweep-33</a></strong> to <a href=\"https://wandb.ai/atufa/beans-tabular-IIT-G\" target=\"_blank\">Weights & Biases</a> (<a href=\"https://docs.wandb.com/integrations/jupyter.html\" target=\"_blank\">docs</a>).<br/>\n",
              "Sweep page: <a href=\"https://wandb.ai/atufa/beans-tabular-IIT-G/sweeps/vj8odfk2\" target=\"_blank\">https://wandb.ai/atufa/beans-tabular-IIT-G/sweeps/vj8odfk2</a><br/>\n",
              "\n",
              "                "
            ],
            "text/plain": [
              "<IPython.core.display.HTML object>"
            ]
          },
          "metadata": {}
        },
        {
          "output_type": "stream",
          "name": "stderr",
          "text": [
            "\u001b[34m\u001b[1mwandb\u001b[0m: \u001b[33mWARNING\u001b[0m Config item 'max_depth' was locked by 'sweep' (ignored update).\n",
            "\u001b[34m\u001b[1mwandb\u001b[0m: \u001b[33mWARNING\u001b[0m Config item 'n_estimators' was locked by 'sweep' (ignored update).\n"
          ]
        },
        {
          "output_type": "display_data",
          "data": {
            "text/html": [
              "<br/>Waiting for W&B process to finish, PID 2012... <strong style=\"color:green\">(success).</strong>"
            ],
            "text/plain": [
              "<IPython.core.display.HTML object>"
            ]
          },
          "metadata": {}
        },
        {
          "output_type": "display_data",
          "data": {
            "application/vnd.jupyter.widget-view+json": {
              "model_id": "54b3e83cec514baf9ace5ce54f7a6d7e",
              "version_minor": 0,
              "version_major": 2
            },
            "text/plain": [
              "VBox(children=(Label(value=' 0.04MB of 0.04MB uploaded (0.00MB deduped)\\r'), FloatProgress(value=1.0, max=1.0)…"
            ]
          },
          "metadata": {}
        },
        {
          "output_type": "display_data",
          "data": {
            "text/html": [
              "<style>\n",
              "    table.wandb td:nth-child(1) { padding: 0 10px; text-align: right }\n",
              "    .wandb-row { display: flex; flex-direction: row; flex-wrap: wrap; width: 100% }\n",
              "    .wandb-col { display: flex; flex-direction: column; flex-basis: 100%; flex: 1; padding: 10px; }\n",
              "    </style>\n",
              "<div class=\"wandb-row\"><div class=\"wandb-col\">\n",
              "</div><div class=\"wandb-col\">\n",
              "<h3>Run summary:</h3><br/><table class=\"wandb\"><tr><td>validation/accuracy</td><td>0.92421</td></tr><tr><td>validation/f1_score</td><td>0.92404</td></tr><tr><td>validation/precision</td><td>0.9241</td></tr><tr><td>validation/recall</td><td>0.92421</td></tr></table>\n",
              "</div></div>\n",
              "Synced 5 W&B file(s), 0 media file(s), 1 artifact file(s) and 0 other file(s)\n",
              "<br/>Synced <strong style=\"color:#cdcd00\">dark-sweep-33</strong>: <a href=\"https://wandb.ai/atufa/beans-tabular-IIT-G/runs/baa8mop3\" target=\"_blank\">https://wandb.ai/atufa/beans-tabular-IIT-G/runs/baa8mop3</a><br/>\n",
              "Find logs at: <code>./wandb/run-20220221_192808-baa8mop3/logs</code><br/>\n"
            ],
            "text/plain": [
              "<IPython.core.display.HTML object>"
            ]
          },
          "metadata": {}
        },
        {
          "output_type": "stream",
          "name": "stderr",
          "text": [
            "\u001b[34m\u001b[1mwandb\u001b[0m: Agent Starting Run: 0cxv9qkn with config:\n",
            "\u001b[34m\u001b[1mwandb\u001b[0m: \tmax_depth: 97\n",
            "\u001b[34m\u001b[1mwandb\u001b[0m: \tn_estimators: 331\n"
          ]
        },
        {
          "output_type": "display_data",
          "data": {
            "text/html": [
              "\n",
              "                    Syncing run <strong><a href=\"https://wandb.ai/atufa/beans-tabular-IIT-G/runs/0cxv9qkn\" target=\"_blank\">fine-sweep-34</a></strong> to <a href=\"https://wandb.ai/atufa/beans-tabular-IIT-G\" target=\"_blank\">Weights & Biases</a> (<a href=\"https://docs.wandb.com/integrations/jupyter.html\" target=\"_blank\">docs</a>).<br/>\n",
              "Sweep page: <a href=\"https://wandb.ai/atufa/beans-tabular-IIT-G/sweeps/vj8odfk2\" target=\"_blank\">https://wandb.ai/atufa/beans-tabular-IIT-G/sweeps/vj8odfk2</a><br/>\n",
              "\n",
              "                "
            ],
            "text/plain": [
              "<IPython.core.display.HTML object>"
            ]
          },
          "metadata": {}
        },
        {
          "output_type": "stream",
          "name": "stderr",
          "text": [
            "\u001b[34m\u001b[1mwandb\u001b[0m: \u001b[33mWARNING\u001b[0m Config item 'max_depth' was locked by 'sweep' (ignored update).\n",
            "\u001b[34m\u001b[1mwandb\u001b[0m: \u001b[33mWARNING\u001b[0m Config item 'n_estimators' was locked by 'sweep' (ignored update).\n"
          ]
        },
        {
          "output_type": "display_data",
          "data": {
            "text/html": [
              "<br/>Waiting for W&B process to finish, PID 2052... <strong style=\"color:green\">(success).</strong>"
            ],
            "text/plain": [
              "<IPython.core.display.HTML object>"
            ]
          },
          "metadata": {}
        },
        {
          "output_type": "display_data",
          "data": {
            "application/vnd.jupyter.widget-view+json": {
              "model_id": "afd415a4b908431980a8f56067f7a2f9",
              "version_minor": 0,
              "version_major": 2
            },
            "text/plain": [
              "VBox(children=(Label(value=' 0.04MB of 0.04MB uploaded (0.00MB deduped)\\r'), FloatProgress(value=1.0, max=1.0)…"
            ]
          },
          "metadata": {}
        },
        {
          "output_type": "display_data",
          "data": {
            "text/html": [
              "<style>\n",
              "    table.wandb td:nth-child(1) { padding: 0 10px; text-align: right }\n",
              "    .wandb-row { display: flex; flex-direction: row; flex-wrap: wrap; width: 100% }\n",
              "    .wandb-col { display: flex; flex-direction: column; flex-basis: 100%; flex: 1; padding: 10px; }\n",
              "    </style>\n",
              "<div class=\"wandb-row\"><div class=\"wandb-col\">\n",
              "</div><div class=\"wandb-col\">\n",
              "<h3>Run summary:</h3><br/><table class=\"wandb\"><tr><td>validation/accuracy</td><td>0.93156</td></tr><tr><td>validation/f1_score</td><td>0.93143</td></tr><tr><td>validation/precision</td><td>0.93139</td></tr><tr><td>validation/recall</td><td>0.93156</td></tr></table>\n",
              "</div></div>\n",
              "Synced 5 W&B file(s), 0 media file(s), 1 artifact file(s) and 0 other file(s)\n",
              "<br/>Synced <strong style=\"color:#cdcd00\">fine-sweep-34</strong>: <a href=\"https://wandb.ai/atufa/beans-tabular-IIT-G/runs/0cxv9qkn\" target=\"_blank\">https://wandb.ai/atufa/beans-tabular-IIT-G/runs/0cxv9qkn</a><br/>\n",
              "Find logs at: <code>./wandb/run-20220221_192829-0cxv9qkn/logs</code><br/>\n"
            ],
            "text/plain": [
              "<IPython.core.display.HTML object>"
            ]
          },
          "metadata": {}
        },
        {
          "output_type": "stream",
          "name": "stderr",
          "text": [
            "\u001b[34m\u001b[1mwandb\u001b[0m: Agent Starting Run: bx11r2ay with config:\n",
            "\u001b[34m\u001b[1mwandb\u001b[0m: \tmax_depth: 38\n",
            "\u001b[34m\u001b[1mwandb\u001b[0m: \tn_estimators: 196\n"
          ]
        },
        {
          "output_type": "display_data",
          "data": {
            "text/html": [
              "\n",
              "                    Syncing run <strong><a href=\"https://wandb.ai/atufa/beans-tabular-IIT-G/runs/bx11r2ay\" target=\"_blank\">clean-sweep-35</a></strong> to <a href=\"https://wandb.ai/atufa/beans-tabular-IIT-G\" target=\"_blank\">Weights & Biases</a> (<a href=\"https://docs.wandb.com/integrations/jupyter.html\" target=\"_blank\">docs</a>).<br/>\n",
              "Sweep page: <a href=\"https://wandb.ai/atufa/beans-tabular-IIT-G/sweeps/vj8odfk2\" target=\"_blank\">https://wandb.ai/atufa/beans-tabular-IIT-G/sweeps/vj8odfk2</a><br/>\n",
              "\n",
              "                "
            ],
            "text/plain": [
              "<IPython.core.display.HTML object>"
            ]
          },
          "metadata": {}
        },
        {
          "output_type": "stream",
          "name": "stderr",
          "text": [
            "\u001b[34m\u001b[1mwandb\u001b[0m: \u001b[33mWARNING\u001b[0m Config item 'max_depth' was locked by 'sweep' (ignored update).\n",
            "\u001b[34m\u001b[1mwandb\u001b[0m: \u001b[33mWARNING\u001b[0m Config item 'n_estimators' was locked by 'sweep' (ignored update).\n"
          ]
        },
        {
          "output_type": "display_data",
          "data": {
            "text/html": [
              "<br/>Waiting for W&B process to finish, PID 2094... <strong style=\"color:green\">(success).</strong>"
            ],
            "text/plain": [
              "<IPython.core.display.HTML object>"
            ]
          },
          "metadata": {}
        },
        {
          "output_type": "display_data",
          "data": {
            "application/vnd.jupyter.widget-view+json": {
              "model_id": "d9942f1a375540e487a3002f8a694d09",
              "version_minor": 0,
              "version_major": 2
            },
            "text/plain": [
              "VBox(children=(Label(value=' 0.04MB of 0.04MB uploaded (0.00MB deduped)\\r'), FloatProgress(value=1.0, max=1.0)…"
            ]
          },
          "metadata": {}
        },
        {
          "output_type": "display_data",
          "data": {
            "text/html": [
              "<style>\n",
              "    table.wandb td:nth-child(1) { padding: 0 10px; text-align: right }\n",
              "    .wandb-row { display: flex; flex-direction: row; flex-wrap: wrap; width: 100% }\n",
              "    .wandb-col { display: flex; flex-direction: column; flex-basis: 100%; flex: 1; padding: 10px; }\n",
              "    </style>\n",
              "<div class=\"wandb-row\"><div class=\"wandb-col\">\n",
              "</div><div class=\"wandb-col\">\n",
              "<h3>Run summary:</h3><br/><table class=\"wandb\"><tr><td>validation/accuracy</td><td>0.93269</td></tr><tr><td>validation/f1_score</td><td>0.93254</td></tr><tr><td>validation/precision</td><td>0.93249</td></tr><tr><td>validation/recall</td><td>0.93269</td></tr></table>\n",
              "</div></div>\n",
              "Synced 5 W&B file(s), 0 media file(s), 1 artifact file(s) and 0 other file(s)\n",
              "<br/>Synced <strong style=\"color:#cdcd00\">clean-sweep-35</strong>: <a href=\"https://wandb.ai/atufa/beans-tabular-IIT-G/runs/bx11r2ay\" target=\"_blank\">https://wandb.ai/atufa/beans-tabular-IIT-G/runs/bx11r2ay</a><br/>\n",
              "Find logs at: <code>./wandb/run-20220221_192900-bx11r2ay/logs</code><br/>\n"
            ],
            "text/plain": [
              "<IPython.core.display.HTML object>"
            ]
          },
          "metadata": {}
        },
        {
          "output_type": "stream",
          "name": "stderr",
          "text": [
            "\u001b[34m\u001b[1mwandb\u001b[0m: Agent Starting Run: jul23lew with config:\n",
            "\u001b[34m\u001b[1mwandb\u001b[0m: \tmax_depth: 3\n",
            "\u001b[34m\u001b[1mwandb\u001b[0m: \tn_estimators: 171\n"
          ]
        },
        {
          "output_type": "display_data",
          "data": {
            "text/html": [
              "\n",
              "                    Syncing run <strong><a href=\"https://wandb.ai/atufa/beans-tabular-IIT-G/runs/jul23lew\" target=\"_blank\">fanciful-sweep-36</a></strong> to <a href=\"https://wandb.ai/atufa/beans-tabular-IIT-G\" target=\"_blank\">Weights & Biases</a> (<a href=\"https://docs.wandb.com/integrations/jupyter.html\" target=\"_blank\">docs</a>).<br/>\n",
              "Sweep page: <a href=\"https://wandb.ai/atufa/beans-tabular-IIT-G/sweeps/vj8odfk2\" target=\"_blank\">https://wandb.ai/atufa/beans-tabular-IIT-G/sweeps/vj8odfk2</a><br/>\n",
              "\n",
              "                "
            ],
            "text/plain": [
              "<IPython.core.display.HTML object>"
            ]
          },
          "metadata": {}
        },
        {
          "output_type": "stream",
          "name": "stderr",
          "text": [
            "\u001b[34m\u001b[1mwandb\u001b[0m: \u001b[33mWARNING\u001b[0m Config item 'max_depth' was locked by 'sweep' (ignored update).\n",
            "\u001b[34m\u001b[1mwandb\u001b[0m: \u001b[33mWARNING\u001b[0m Config item 'n_estimators' was locked by 'sweep' (ignored update).\n",
            "/usr/local/lib/python3.7/dist-packages/sklearn/metrics/_classification.py:1308: UndefinedMetricWarning: Precision is ill-defined and being set to 0.0 in labels with no predicted samples. Use `zero_division` parameter to control this behavior.\n",
            "  _warn_prf(average, modifier, msg_start, len(result))\n"
          ]
        },
        {
          "output_type": "display_data",
          "data": {
            "text/html": [
              "<br/>Waiting for W&B process to finish, PID 2134... <strong style=\"color:green\">(success).</strong>"
            ],
            "text/plain": [
              "<IPython.core.display.HTML object>"
            ]
          },
          "metadata": {}
        },
        {
          "output_type": "display_data",
          "data": {
            "application/vnd.jupyter.widget-view+json": {
              "model_id": "847bed74968440f98a6a289bec163887",
              "version_minor": 0,
              "version_major": 2
            },
            "text/plain": [
              "VBox(children=(Label(value=' 0.04MB of 0.04MB uploaded (0.00MB deduped)\\r'), FloatProgress(value=1.0, max=1.0)…"
            ]
          },
          "metadata": {}
        },
        {
          "output_type": "display_data",
          "data": {
            "text/html": [
              "<style>\n",
              "    table.wandb td:nth-child(1) { padding: 0 10px; text-align: right }\n",
              "    .wandb-row { display: flex; flex-direction: row; flex-wrap: wrap; width: 100% }\n",
              "    .wandb-col { display: flex; flex-direction: column; flex-basis: 100%; flex: 1; padding: 10px; }\n",
              "    </style>\n",
              "<div class=\"wandb-row\"><div class=\"wandb-col\">\n",
              "</div><div class=\"wandb-col\">\n",
              "<h3>Run summary:</h3><br/><table class=\"wandb\"><tr><td>validation/accuracy</td><td>0.79836</td></tr><tr><td>validation/f1_score</td><td>0.76334</td></tr><tr><td>validation/precision</td><td>0.82251</td></tr><tr><td>validation/recall</td><td>0.79836</td></tr></table>\n",
              "</div></div>\n",
              "Synced 5 W&B file(s), 0 media file(s), 1 artifact file(s) and 0 other file(s)\n",
              "<br/>Synced <strong style=\"color:#cdcd00\">fanciful-sweep-36</strong>: <a href=\"https://wandb.ai/atufa/beans-tabular-IIT-G/runs/jul23lew\" target=\"_blank\">https://wandb.ai/atufa/beans-tabular-IIT-G/runs/jul23lew</a><br/>\n",
              "Find logs at: <code>./wandb/run-20220221_192925-jul23lew/logs</code><br/>\n"
            ],
            "text/plain": [
              "<IPython.core.display.HTML object>"
            ]
          },
          "metadata": {}
        },
        {
          "output_type": "stream",
          "name": "stderr",
          "text": [
            "\u001b[34m\u001b[1mwandb\u001b[0m: Agent Starting Run: gltwvvfk with config:\n",
            "\u001b[34m\u001b[1mwandb\u001b[0m: \tmax_depth: 16\n",
            "\u001b[34m\u001b[1mwandb\u001b[0m: \tn_estimators: 324\n"
          ]
        },
        {
          "output_type": "display_data",
          "data": {
            "text/html": [
              "\n",
              "                    Syncing run <strong><a href=\"https://wandb.ai/atufa/beans-tabular-IIT-G/runs/gltwvvfk\" target=\"_blank\">toasty-sweep-37</a></strong> to <a href=\"https://wandb.ai/atufa/beans-tabular-IIT-G\" target=\"_blank\">Weights & Biases</a> (<a href=\"https://docs.wandb.com/integrations/jupyter.html\" target=\"_blank\">docs</a>).<br/>\n",
              "Sweep page: <a href=\"https://wandb.ai/atufa/beans-tabular-IIT-G/sweeps/vj8odfk2\" target=\"_blank\">https://wandb.ai/atufa/beans-tabular-IIT-G/sweeps/vj8odfk2</a><br/>\n",
              "\n",
              "                "
            ],
            "text/plain": [
              "<IPython.core.display.HTML object>"
            ]
          },
          "metadata": {}
        },
        {
          "output_type": "stream",
          "name": "stderr",
          "text": [
            "\u001b[34m\u001b[1mwandb\u001b[0m: \u001b[33mWARNING\u001b[0m Config item 'max_depth' was locked by 'sweep' (ignored update).\n",
            "\u001b[34m\u001b[1mwandb\u001b[0m: \u001b[33mWARNING\u001b[0m Config item 'n_estimators' was locked by 'sweep' (ignored update).\n"
          ]
        },
        {
          "output_type": "display_data",
          "data": {
            "text/html": [
              "<br/>Waiting for W&B process to finish, PID 2174... <strong style=\"color:green\">(success).</strong>"
            ],
            "text/plain": [
              "<IPython.core.display.HTML object>"
            ]
          },
          "metadata": {}
        },
        {
          "output_type": "display_data",
          "data": {
            "application/vnd.jupyter.widget-view+json": {
              "model_id": "f1f3664e15fd494fb53d2d9114c233f8",
              "version_minor": 0,
              "version_major": 2
            },
            "text/plain": [
              "VBox(children=(Label(value=' 0.04MB of 0.04MB uploaded (0.00MB deduped)\\r'), FloatProgress(value=1.0, max=1.0)…"
            ]
          },
          "metadata": {}
        },
        {
          "output_type": "display_data",
          "data": {
            "text/html": [
              "<style>\n",
              "    table.wandb td:nth-child(1) { padding: 0 10px; text-align: right }\n",
              "    .wandb-row { display: flex; flex-direction: row; flex-wrap: wrap; width: 100% }\n",
              "    .wandb-col { display: flex; flex-direction: column; flex-basis: 100%; flex: 1; padding: 10px; }\n",
              "    </style>\n",
              "<div class=\"wandb-row\"><div class=\"wandb-col\">\n",
              "</div><div class=\"wandb-col\">\n",
              "<h3>Run summary:</h3><br/><table class=\"wandb\"><tr><td>validation/accuracy</td><td>0.93213</td></tr><tr><td>validation/f1_score</td><td>0.93205</td></tr><tr><td>validation/precision</td><td>0.93204</td></tr><tr><td>validation/recall</td><td>0.93213</td></tr></table>\n",
              "</div></div>\n",
              "Synced 5 W&B file(s), 0 media file(s), 1 artifact file(s) and 0 other file(s)\n",
              "<br/>Synced <strong style=\"color:#cdcd00\">toasty-sweep-37</strong>: <a href=\"https://wandb.ai/atufa/beans-tabular-IIT-G/runs/gltwvvfk\" target=\"_blank\">https://wandb.ai/atufa/beans-tabular-IIT-G/runs/gltwvvfk</a><br/>\n",
              "Find logs at: <code>./wandb/run-20220221_192946-gltwvvfk/logs</code><br/>\n"
            ],
            "text/plain": [
              "<IPython.core.display.HTML object>"
            ]
          },
          "metadata": {}
        },
        {
          "output_type": "stream",
          "name": "stderr",
          "text": [
            "\u001b[34m\u001b[1mwandb\u001b[0m: Agent Starting Run: 1myd7te0 with config:\n",
            "\u001b[34m\u001b[1mwandb\u001b[0m: \tmax_depth: 29\n",
            "\u001b[34m\u001b[1mwandb\u001b[0m: \tn_estimators: 303\n"
          ]
        },
        {
          "output_type": "display_data",
          "data": {
            "text/html": [
              "\n",
              "                    Syncing run <strong><a href=\"https://wandb.ai/atufa/beans-tabular-IIT-G/runs/1myd7te0\" target=\"_blank\">clear-sweep-38</a></strong> to <a href=\"https://wandb.ai/atufa/beans-tabular-IIT-G\" target=\"_blank\">Weights & Biases</a> (<a href=\"https://docs.wandb.com/integrations/jupyter.html\" target=\"_blank\">docs</a>).<br/>\n",
              "Sweep page: <a href=\"https://wandb.ai/atufa/beans-tabular-IIT-G/sweeps/vj8odfk2\" target=\"_blank\">https://wandb.ai/atufa/beans-tabular-IIT-G/sweeps/vj8odfk2</a><br/>\n",
              "\n",
              "                "
            ],
            "text/plain": [
              "<IPython.core.display.HTML object>"
            ]
          },
          "metadata": {}
        },
        {
          "output_type": "stream",
          "name": "stderr",
          "text": [
            "\u001b[34m\u001b[1mwandb\u001b[0m: \u001b[33mWARNING\u001b[0m Config item 'max_depth' was locked by 'sweep' (ignored update).\n",
            "\u001b[34m\u001b[1mwandb\u001b[0m: \u001b[33mWARNING\u001b[0m Config item 'n_estimators' was locked by 'sweep' (ignored update).\n"
          ]
        },
        {
          "output_type": "display_data",
          "data": {
            "text/html": [
              "<br/>Waiting for W&B process to finish, PID 2216... <strong style=\"color:green\">(success).</strong>"
            ],
            "text/plain": [
              "<IPython.core.display.HTML object>"
            ]
          },
          "metadata": {}
        },
        {
          "output_type": "display_data",
          "data": {
            "application/vnd.jupyter.widget-view+json": {
              "model_id": "64af01c2ac914738b26ecae2b5e58ceb",
              "version_minor": 0,
              "version_major": 2
            },
            "text/plain": [
              "VBox(children=(Label(value=' 0.04MB of 0.04MB uploaded (0.00MB deduped)\\r'), FloatProgress(value=1.0, max=1.0)…"
            ]
          },
          "metadata": {}
        },
        {
          "output_type": "display_data",
          "data": {
            "text/html": [
              "<style>\n",
              "    table.wandb td:nth-child(1) { padding: 0 10px; text-align: right }\n",
              "    .wandb-row { display: flex; flex-direction: row; flex-wrap: wrap; width: 100% }\n",
              "    .wandb-col { display: flex; flex-direction: column; flex-basis: 100%; flex: 1; padding: 10px; }\n",
              "    </style>\n",
              "<div class=\"wandb-row\"><div class=\"wandb-col\">\n",
              "</div><div class=\"wandb-col\">\n",
              "<h3>Run summary:</h3><br/><table class=\"wandb\"><tr><td>validation/accuracy</td><td>0.93269</td></tr><tr><td>validation/f1_score</td><td>0.93256</td></tr><tr><td>validation/precision</td><td>0.9325</td></tr><tr><td>validation/recall</td><td>0.93269</td></tr></table>\n",
              "</div></div>\n",
              "Synced 5 W&B file(s), 0 media file(s), 1 artifact file(s) and 0 other file(s)\n",
              "<br/>Synced <strong style=\"color:#cdcd00\">clear-sweep-38</strong>: <a href=\"https://wandb.ai/atufa/beans-tabular-IIT-G/runs/1myd7te0\" target=\"_blank\">https://wandb.ai/atufa/beans-tabular-IIT-G/runs/1myd7te0</a><br/>\n",
              "Find logs at: <code>./wandb/run-20220221_193017-1myd7te0/logs</code><br/>\n"
            ],
            "text/plain": [
              "<IPython.core.display.HTML object>"
            ]
          },
          "metadata": {}
        },
        {
          "output_type": "stream",
          "name": "stderr",
          "text": [
            "\u001b[34m\u001b[1mwandb\u001b[0m: Agent Starting Run: wky31lsr with config:\n",
            "\u001b[34m\u001b[1mwandb\u001b[0m: \tmax_depth: 43\n",
            "\u001b[34m\u001b[1mwandb\u001b[0m: \tn_estimators: 149\n"
          ]
        },
        {
          "output_type": "display_data",
          "data": {
            "text/html": [
              "\n",
              "                    Syncing run <strong><a href=\"https://wandb.ai/atufa/beans-tabular-IIT-G/runs/wky31lsr\" target=\"_blank\">easy-sweep-39</a></strong> to <a href=\"https://wandb.ai/atufa/beans-tabular-IIT-G\" target=\"_blank\">Weights & Biases</a> (<a href=\"https://docs.wandb.com/integrations/jupyter.html\" target=\"_blank\">docs</a>).<br/>\n",
              "Sweep page: <a href=\"https://wandb.ai/atufa/beans-tabular-IIT-G/sweeps/vj8odfk2\" target=\"_blank\">https://wandb.ai/atufa/beans-tabular-IIT-G/sweeps/vj8odfk2</a><br/>\n",
              "\n",
              "                "
            ],
            "text/plain": [
              "<IPython.core.display.HTML object>"
            ]
          },
          "metadata": {}
        },
        {
          "output_type": "stream",
          "name": "stderr",
          "text": [
            "\u001b[34m\u001b[1mwandb\u001b[0m: \u001b[33mWARNING\u001b[0m Config item 'max_depth' was locked by 'sweep' (ignored update).\n",
            "\u001b[34m\u001b[1mwandb\u001b[0m: \u001b[33mWARNING\u001b[0m Config item 'n_estimators' was locked by 'sweep' (ignored update).\n"
          ]
        },
        {
          "output_type": "display_data",
          "data": {
            "text/html": [
              "<br/>Waiting for W&B process to finish, PID 2258... <strong style=\"color:green\">(success).</strong>"
            ],
            "text/plain": [
              "<IPython.core.display.HTML object>"
            ]
          },
          "metadata": {}
        },
        {
          "output_type": "display_data",
          "data": {
            "application/vnd.jupyter.widget-view+json": {
              "model_id": "6cb346ef12ae48768a36743de392eb7b",
              "version_minor": 0,
              "version_major": 2
            },
            "text/plain": [
              "VBox(children=(Label(value=' 0.04MB of 0.04MB uploaded (0.00MB deduped)\\r'), FloatProgress(value=1.0, max=1.0)…"
            ]
          },
          "metadata": {}
        },
        {
          "output_type": "display_data",
          "data": {
            "text/html": [
              "<style>\n",
              "    table.wandb td:nth-child(1) { padding: 0 10px; text-align: right }\n",
              "    .wandb-row { display: flex; flex-direction: row; flex-wrap: wrap; width: 100% }\n",
              "    .wandb-col { display: flex; flex-direction: column; flex-basis: 100%; flex: 1; padding: 10px; }\n",
              "    </style>\n",
              "<div class=\"wandb-row\"><div class=\"wandb-col\">\n",
              "</div><div class=\"wandb-col\">\n",
              "<h3>Run summary:</h3><br/><table class=\"wandb\"><tr><td>validation/accuracy</td><td>0.93156</td></tr><tr><td>validation/f1_score</td><td>0.93145</td></tr><tr><td>validation/precision</td><td>0.93145</td></tr><tr><td>validation/recall</td><td>0.93156</td></tr></table>\n",
              "</div></div>\n",
              "Synced 5 W&B file(s), 0 media file(s), 1 artifact file(s) and 0 other file(s)\n",
              "<br/>Synced <strong style=\"color:#cdcd00\">easy-sweep-39</strong>: <a href=\"https://wandb.ai/atufa/beans-tabular-IIT-G/runs/wky31lsr\" target=\"_blank\">https://wandb.ai/atufa/beans-tabular-IIT-G/runs/wky31lsr</a><br/>\n",
              "Find logs at: <code>./wandb/run-20220221_193047-wky31lsr/logs</code><br/>\n"
            ],
            "text/plain": [
              "<IPython.core.display.HTML object>"
            ]
          },
          "metadata": {}
        },
        {
          "output_type": "stream",
          "name": "stderr",
          "text": [
            "\u001b[34m\u001b[1mwandb\u001b[0m: Agent Starting Run: ve1llz08 with config:\n",
            "\u001b[34m\u001b[1mwandb\u001b[0m: \tmax_depth: 68\n",
            "\u001b[34m\u001b[1mwandb\u001b[0m: \tn_estimators: 250\n"
          ]
        },
        {
          "output_type": "display_data",
          "data": {
            "text/html": [
              "\n",
              "                    Syncing run <strong><a href=\"https://wandb.ai/atufa/beans-tabular-IIT-G/runs/ve1llz08\" target=\"_blank\">vague-sweep-40</a></strong> to <a href=\"https://wandb.ai/atufa/beans-tabular-IIT-G\" target=\"_blank\">Weights & Biases</a> (<a href=\"https://docs.wandb.com/integrations/jupyter.html\" target=\"_blank\">docs</a>).<br/>\n",
              "Sweep page: <a href=\"https://wandb.ai/atufa/beans-tabular-IIT-G/sweeps/vj8odfk2\" target=\"_blank\">https://wandb.ai/atufa/beans-tabular-IIT-G/sweeps/vj8odfk2</a><br/>\n",
              "\n",
              "                "
            ],
            "text/plain": [
              "<IPython.core.display.HTML object>"
            ]
          },
          "metadata": {}
        },
        {
          "output_type": "stream",
          "name": "stderr",
          "text": [
            "\u001b[34m\u001b[1mwandb\u001b[0m: \u001b[33mWARNING\u001b[0m Config item 'max_depth' was locked by 'sweep' (ignored update).\n",
            "\u001b[34m\u001b[1mwandb\u001b[0m: \u001b[33mWARNING\u001b[0m Config item 'n_estimators' was locked by 'sweep' (ignored update).\n"
          ]
        },
        {
          "output_type": "display_data",
          "data": {
            "text/html": [
              "<br/>Waiting for W&B process to finish, PID 2300... <strong style=\"color:green\">(success).</strong>"
            ],
            "text/plain": [
              "<IPython.core.display.HTML object>"
            ]
          },
          "metadata": {}
        },
        {
          "output_type": "display_data",
          "data": {
            "application/vnd.jupyter.widget-view+json": {
              "model_id": "5e487cbea23340469744e4c2b05d4352",
              "version_minor": 0,
              "version_major": 2
            },
            "text/plain": [
              "VBox(children=(Label(value=' 0.04MB of 0.04MB uploaded (0.00MB deduped)\\r'), FloatProgress(value=1.0, max=1.0)…"
            ]
          },
          "metadata": {}
        },
        {
          "output_type": "display_data",
          "data": {
            "text/html": [
              "<style>\n",
              "    table.wandb td:nth-child(1) { padding: 0 10px; text-align: right }\n",
              "    .wandb-row { display: flex; flex-direction: row; flex-wrap: wrap; width: 100% }\n",
              "    .wandb-col { display: flex; flex-direction: column; flex-basis: 100%; flex: 1; padding: 10px; }\n",
              "    </style>\n",
              "<div class=\"wandb-row\"><div class=\"wandb-col\">\n",
              "</div><div class=\"wandb-col\">\n",
              "<h3>Run summary:</h3><br/><table class=\"wandb\"><tr><td>validation/accuracy</td><td>0.931</td></tr><tr><td>validation/f1_score</td><td>0.93091</td></tr><tr><td>validation/precision</td><td>0.93089</td></tr><tr><td>validation/recall</td><td>0.931</td></tr></table>\n",
              "</div></div>\n",
              "Synced 5 W&B file(s), 0 media file(s), 1 artifact file(s) and 0 other file(s)\n",
              "<br/>Synced <strong style=\"color:#cdcd00\">vague-sweep-40</strong>: <a href=\"https://wandb.ai/atufa/beans-tabular-IIT-G/runs/ve1llz08\" target=\"_blank\">https://wandb.ai/atufa/beans-tabular-IIT-G/runs/ve1llz08</a><br/>\n",
              "Find logs at: <code>./wandb/run-20220221_193113-ve1llz08/logs</code><br/>\n"
            ],
            "text/plain": [
              "<IPython.core.display.HTML object>"
            ]
          },
          "metadata": {}
        },
        {
          "output_type": "stream",
          "name": "stderr",
          "text": [
            "\u001b[34m\u001b[1mwandb\u001b[0m: Agent Starting Run: hboq1u32 with config:\n",
            "\u001b[34m\u001b[1mwandb\u001b[0m: \tmax_depth: 90\n",
            "\u001b[34m\u001b[1mwandb\u001b[0m: \tn_estimators: 191\n"
          ]
        },
        {
          "output_type": "display_data",
          "data": {
            "text/html": [
              "\n",
              "                    Syncing run <strong><a href=\"https://wandb.ai/atufa/beans-tabular-IIT-G/runs/hboq1u32\" target=\"_blank\">sparkling-sweep-41</a></strong> to <a href=\"https://wandb.ai/atufa/beans-tabular-IIT-G\" target=\"_blank\">Weights & Biases</a> (<a href=\"https://docs.wandb.com/integrations/jupyter.html\" target=\"_blank\">docs</a>).<br/>\n",
              "Sweep page: <a href=\"https://wandb.ai/atufa/beans-tabular-IIT-G/sweeps/vj8odfk2\" target=\"_blank\">https://wandb.ai/atufa/beans-tabular-IIT-G/sweeps/vj8odfk2</a><br/>\n",
              "\n",
              "                "
            ],
            "text/plain": [
              "<IPython.core.display.HTML object>"
            ]
          },
          "metadata": {}
        },
        {
          "output_type": "stream",
          "name": "stderr",
          "text": [
            "\u001b[34m\u001b[1mwandb\u001b[0m: \u001b[33mWARNING\u001b[0m Config item 'max_depth' was locked by 'sweep' (ignored update).\n",
            "\u001b[34m\u001b[1mwandb\u001b[0m: \u001b[33mWARNING\u001b[0m Config item 'n_estimators' was locked by 'sweep' (ignored update).\n"
          ]
        },
        {
          "output_type": "display_data",
          "data": {
            "text/html": [
              "<br/>Waiting for W&B process to finish, PID 2342... <strong style=\"color:green\">(success).</strong>"
            ],
            "text/plain": [
              "<IPython.core.display.HTML object>"
            ]
          },
          "metadata": {}
        },
        {
          "output_type": "display_data",
          "data": {
            "application/vnd.jupyter.widget-view+json": {
              "model_id": "263e03826c4748f6bb66a826eac94de1",
              "version_minor": 0,
              "version_major": 2
            },
            "text/plain": [
              "VBox(children=(Label(value=' 0.04MB of 0.04MB uploaded (0.00MB deduped)\\r'), FloatProgress(value=1.0, max=1.0)…"
            ]
          },
          "metadata": {}
        },
        {
          "output_type": "display_data",
          "data": {
            "text/html": [
              "<style>\n",
              "    table.wandb td:nth-child(1) { padding: 0 10px; text-align: right }\n",
              "    .wandb-row { display: flex; flex-direction: row; flex-wrap: wrap; width: 100% }\n",
              "    .wandb-col { display: flex; flex-direction: column; flex-basis: 100%; flex: 1; padding: 10px; }\n",
              "    </style>\n",
              "<div class=\"wandb-row\"><div class=\"wandb-col\">\n",
              "</div><div class=\"wandb-col\">\n",
              "<h3>Run summary:</h3><br/><table class=\"wandb\"><tr><td>validation/accuracy</td><td>0.931</td></tr><tr><td>validation/f1_score</td><td>0.9309</td></tr><tr><td>validation/precision</td><td>0.93086</td></tr><tr><td>validation/recall</td><td>0.931</td></tr></table>\n",
              "</div></div>\n",
              "Synced 5 W&B file(s), 0 media file(s), 1 artifact file(s) and 0 other file(s)\n",
              "<br/>Synced <strong style=\"color:#cdcd00\">sparkling-sweep-41</strong>: <a href=\"https://wandb.ai/atufa/beans-tabular-IIT-G/runs/hboq1u32\" target=\"_blank\">https://wandb.ai/atufa/beans-tabular-IIT-G/runs/hboq1u32</a><br/>\n",
              "Find logs at: <code>./wandb/run-20220221_193139-hboq1u32/logs</code><br/>\n"
            ],
            "text/plain": [
              "<IPython.core.display.HTML object>"
            ]
          },
          "metadata": {}
        },
        {
          "output_type": "stream",
          "name": "stderr",
          "text": [
            "\u001b[34m\u001b[1mwandb\u001b[0m: Agent Starting Run: cjws0mzl with config:\n",
            "\u001b[34m\u001b[1mwandb\u001b[0m: \tmax_depth: 72\n",
            "\u001b[34m\u001b[1mwandb\u001b[0m: \tn_estimators: 84\n"
          ]
        },
        {
          "output_type": "display_data",
          "data": {
            "text/html": [
              "\n",
              "                    Syncing run <strong><a href=\"https://wandb.ai/atufa/beans-tabular-IIT-G/runs/cjws0mzl\" target=\"_blank\">copper-sweep-42</a></strong> to <a href=\"https://wandb.ai/atufa/beans-tabular-IIT-G\" target=\"_blank\">Weights & Biases</a> (<a href=\"https://docs.wandb.com/integrations/jupyter.html\" target=\"_blank\">docs</a>).<br/>\n",
              "Sweep page: <a href=\"https://wandb.ai/atufa/beans-tabular-IIT-G/sweeps/vj8odfk2\" target=\"_blank\">https://wandb.ai/atufa/beans-tabular-IIT-G/sweeps/vj8odfk2</a><br/>\n",
              "\n",
              "                "
            ],
            "text/plain": [
              "<IPython.core.display.HTML object>"
            ]
          },
          "metadata": {}
        },
        {
          "output_type": "stream",
          "name": "stderr",
          "text": [
            "\u001b[34m\u001b[1mwandb\u001b[0m: \u001b[33mWARNING\u001b[0m Config item 'max_depth' was locked by 'sweep' (ignored update).\n",
            "\u001b[34m\u001b[1mwandb\u001b[0m: \u001b[33mWARNING\u001b[0m Config item 'n_estimators' was locked by 'sweep' (ignored update).\n"
          ]
        },
        {
          "output_type": "display_data",
          "data": {
            "text/html": [
              "<br/>Waiting for W&B process to finish, PID 2384... <strong style=\"color:green\">(success).</strong>"
            ],
            "text/plain": [
              "<IPython.core.display.HTML object>"
            ]
          },
          "metadata": {}
        },
        {
          "output_type": "display_data",
          "data": {
            "application/vnd.jupyter.widget-view+json": {
              "model_id": "1b2adc6fdee34b1eb2e1ed6547705e4e",
              "version_minor": 0,
              "version_major": 2
            },
            "text/plain": [
              "VBox(children=(Label(value=' 0.04MB of 0.04MB uploaded (0.00MB deduped)\\r'), FloatProgress(value=1.0, max=1.0)…"
            ]
          },
          "metadata": {}
        },
        {
          "output_type": "display_data",
          "data": {
            "text/html": [
              "<style>\n",
              "    table.wandb td:nth-child(1) { padding: 0 10px; text-align: right }\n",
              "    .wandb-row { display: flex; flex-direction: row; flex-wrap: wrap; width: 100% }\n",
              "    .wandb-col { display: flex; flex-direction: column; flex-basis: 100%; flex: 1; padding: 10px; }\n",
              "    </style>\n",
              "<div class=\"wandb-row\"><div class=\"wandb-col\">\n",
              "</div><div class=\"wandb-col\">\n",
              "<h3>Run summary:</h3><br/><table class=\"wandb\"><tr><td>validation/accuracy</td><td>0.93156</td></tr><tr><td>validation/f1_score</td><td>0.93138</td></tr><tr><td>validation/precision</td><td>0.93128</td></tr><tr><td>validation/recall</td><td>0.93156</td></tr></table>\n",
              "</div></div>\n",
              "Synced 5 W&B file(s), 0 media file(s), 1 artifact file(s) and 0 other file(s)\n",
              "<br/>Synced <strong style=\"color:#cdcd00\">copper-sweep-42</strong>: <a href=\"https://wandb.ai/atufa/beans-tabular-IIT-G/runs/cjws0mzl\" target=\"_blank\">https://wandb.ai/atufa/beans-tabular-IIT-G/runs/cjws0mzl</a><br/>\n",
              "Find logs at: <code>./wandb/run-20220221_193204-cjws0mzl/logs</code><br/>\n"
            ],
            "text/plain": [
              "<IPython.core.display.HTML object>"
            ]
          },
          "metadata": {}
        },
        {
          "output_type": "stream",
          "name": "stderr",
          "text": [
            "\u001b[34m\u001b[1mwandb\u001b[0m: Agent Starting Run: hlkuj42w with config:\n",
            "\u001b[34m\u001b[1mwandb\u001b[0m: \tmax_depth: 31\n",
            "\u001b[34m\u001b[1mwandb\u001b[0m: \tn_estimators: 235\n"
          ]
        },
        {
          "output_type": "display_data",
          "data": {
            "text/html": [
              "\n",
              "                    Syncing run <strong><a href=\"https://wandb.ai/atufa/beans-tabular-IIT-G/runs/hlkuj42w\" target=\"_blank\">deep-sweep-43</a></strong> to <a href=\"https://wandb.ai/atufa/beans-tabular-IIT-G\" target=\"_blank\">Weights & Biases</a> (<a href=\"https://docs.wandb.com/integrations/jupyter.html\" target=\"_blank\">docs</a>).<br/>\n",
              "Sweep page: <a href=\"https://wandb.ai/atufa/beans-tabular-IIT-G/sweeps/vj8odfk2\" target=\"_blank\">https://wandb.ai/atufa/beans-tabular-IIT-G/sweeps/vj8odfk2</a><br/>\n",
              "\n",
              "                "
            ],
            "text/plain": [
              "<IPython.core.display.HTML object>"
            ]
          },
          "metadata": {}
        },
        {
          "output_type": "stream",
          "name": "stderr",
          "text": [
            "\u001b[34m\u001b[1mwandb\u001b[0m: \u001b[33mWARNING\u001b[0m Config item 'max_depth' was locked by 'sweep' (ignored update).\n",
            "\u001b[34m\u001b[1mwandb\u001b[0m: \u001b[33mWARNING\u001b[0m Config item 'n_estimators' was locked by 'sweep' (ignored update).\n"
          ]
        },
        {
          "output_type": "display_data",
          "data": {
            "text/html": [
              "<br/>Waiting for W&B process to finish, PID 2424... <strong style=\"color:green\">(success).</strong>"
            ],
            "text/plain": [
              "<IPython.core.display.HTML object>"
            ]
          },
          "metadata": {}
        },
        {
          "output_type": "display_data",
          "data": {
            "application/vnd.jupyter.widget-view+json": {
              "model_id": "4de5835b966d477ab4777515fb263bb2",
              "version_minor": 0,
              "version_major": 2
            },
            "text/plain": [
              "VBox(children=(Label(value=' 0.04MB of 0.04MB uploaded (0.00MB deduped)\\r'), FloatProgress(value=1.0, max=1.0)…"
            ]
          },
          "metadata": {}
        },
        {
          "output_type": "display_data",
          "data": {
            "text/html": [
              "<style>\n",
              "    table.wandb td:nth-child(1) { padding: 0 10px; text-align: right }\n",
              "    .wandb-row { display: flex; flex-direction: row; flex-wrap: wrap; width: 100% }\n",
              "    .wandb-col { display: flex; flex-direction: column; flex-basis: 100%; flex: 1; padding: 10px; }\n",
              "    </style>\n",
              "<div class=\"wandb-row\"><div class=\"wandb-col\">\n",
              "</div><div class=\"wandb-col\">\n",
              "<h3>Run summary:</h3><br/><table class=\"wandb\"><tr><td>validation/accuracy</td><td>0.93382</td></tr><tr><td>validation/f1_score</td><td>0.93368</td></tr><tr><td>validation/precision</td><td>0.93361</td></tr><tr><td>validation/recall</td><td>0.93382</td></tr></table>\n",
              "</div></div>\n",
              "Synced 5 W&B file(s), 0 media file(s), 1 artifact file(s) and 0 other file(s)\n",
              "<br/>Synced <strong style=\"color:#cdcd00\">deep-sweep-43</strong>: <a href=\"https://wandb.ai/atufa/beans-tabular-IIT-G/runs/hlkuj42w\" target=\"_blank\">https://wandb.ai/atufa/beans-tabular-IIT-G/runs/hlkuj42w</a><br/>\n",
              "Find logs at: <code>./wandb/run-20220221_193225-hlkuj42w/logs</code><br/>\n"
            ],
            "text/plain": [
              "<IPython.core.display.HTML object>"
            ]
          },
          "metadata": {}
        },
        {
          "output_type": "stream",
          "name": "stderr",
          "text": [
            "\u001b[34m\u001b[1mwandb\u001b[0m: Agent Starting Run: v8a9ya79 with config:\n",
            "\u001b[34m\u001b[1mwandb\u001b[0m: \tmax_depth: 41\n",
            "\u001b[34m\u001b[1mwandb\u001b[0m: \tn_estimators: 194\n"
          ]
        },
        {
          "output_type": "display_data",
          "data": {
            "text/html": [
              "\n",
              "                    Syncing run <strong><a href=\"https://wandb.ai/atufa/beans-tabular-IIT-G/runs/v8a9ya79\" target=\"_blank\">fiery-sweep-44</a></strong> to <a href=\"https://wandb.ai/atufa/beans-tabular-IIT-G\" target=\"_blank\">Weights & Biases</a> (<a href=\"https://docs.wandb.com/integrations/jupyter.html\" target=\"_blank\">docs</a>).<br/>\n",
              "Sweep page: <a href=\"https://wandb.ai/atufa/beans-tabular-IIT-G/sweeps/vj8odfk2\" target=\"_blank\">https://wandb.ai/atufa/beans-tabular-IIT-G/sweeps/vj8odfk2</a><br/>\n",
              "\n",
              "                "
            ],
            "text/plain": [
              "<IPython.core.display.HTML object>"
            ]
          },
          "metadata": {}
        },
        {
          "output_type": "stream",
          "name": "stderr",
          "text": [
            "\u001b[34m\u001b[1mwandb\u001b[0m: \u001b[33mWARNING\u001b[0m Config item 'max_depth' was locked by 'sweep' (ignored update).\n",
            "\u001b[34m\u001b[1mwandb\u001b[0m: \u001b[33mWARNING\u001b[0m Config item 'n_estimators' was locked by 'sweep' (ignored update).\n"
          ]
        },
        {
          "output_type": "display_data",
          "data": {
            "text/html": [
              "<br/>Waiting for W&B process to finish, PID 2464... <strong style=\"color:green\">(success).</strong>"
            ],
            "text/plain": [
              "<IPython.core.display.HTML object>"
            ]
          },
          "metadata": {}
        },
        {
          "output_type": "display_data",
          "data": {
            "application/vnd.jupyter.widget-view+json": {
              "model_id": "d12f7d848bf74957b18b5307b26da7c1",
              "version_minor": 0,
              "version_major": 2
            },
            "text/plain": [
              "VBox(children=(Label(value=' 0.04MB of 0.04MB uploaded (0.00MB deduped)\\r'), FloatProgress(value=1.0, max=1.0)…"
            ]
          },
          "metadata": {}
        },
        {
          "output_type": "display_data",
          "data": {
            "text/html": [
              "<style>\n",
              "    table.wandb td:nth-child(1) { padding: 0 10px; text-align: right }\n",
              "    .wandb-row { display: flex; flex-direction: row; flex-wrap: wrap; width: 100% }\n",
              "    .wandb-col { display: flex; flex-direction: column; flex-basis: 100%; flex: 1; padding: 10px; }\n",
              "    </style>\n",
              "<div class=\"wandb-row\"><div class=\"wandb-col\">\n",
              "</div><div class=\"wandb-col\">\n",
              "<h3>Run summary:</h3><br/><table class=\"wandb\"><tr><td>validation/accuracy</td><td>0.93269</td></tr><tr><td>validation/f1_score</td><td>0.9326</td></tr><tr><td>validation/precision</td><td>0.93258</td></tr><tr><td>validation/recall</td><td>0.93269</td></tr></table>\n",
              "</div></div>\n",
              "Synced 5 W&B file(s), 0 media file(s), 1 artifact file(s) and 0 other file(s)\n",
              "<br/>Synced <strong style=\"color:#cdcd00\">fiery-sweep-44</strong>: <a href=\"https://wandb.ai/atufa/beans-tabular-IIT-G/runs/v8a9ya79\" target=\"_blank\">https://wandb.ai/atufa/beans-tabular-IIT-G/runs/v8a9ya79</a><br/>\n",
              "Find logs at: <code>./wandb/run-20220221_193250-v8a9ya79/logs</code><br/>\n"
            ],
            "text/plain": [
              "<IPython.core.display.HTML object>"
            ]
          },
          "metadata": {}
        },
        {
          "output_type": "stream",
          "name": "stderr",
          "text": [
            "\u001b[34m\u001b[1mwandb\u001b[0m: Agent Starting Run: rrgorwmm with config:\n",
            "\u001b[34m\u001b[1mwandb\u001b[0m: \tmax_depth: 59\n",
            "\u001b[34m\u001b[1mwandb\u001b[0m: \tn_estimators: 399\n"
          ]
        },
        {
          "output_type": "display_data",
          "data": {
            "text/html": [
              "\n",
              "                    Syncing run <strong><a href=\"https://wandb.ai/atufa/beans-tabular-IIT-G/runs/rrgorwmm\" target=\"_blank\">curious-sweep-45</a></strong> to <a href=\"https://wandb.ai/atufa/beans-tabular-IIT-G\" target=\"_blank\">Weights & Biases</a> (<a href=\"https://docs.wandb.com/integrations/jupyter.html\" target=\"_blank\">docs</a>).<br/>\n",
              "Sweep page: <a href=\"https://wandb.ai/atufa/beans-tabular-IIT-G/sweeps/vj8odfk2\" target=\"_blank\">https://wandb.ai/atufa/beans-tabular-IIT-G/sweeps/vj8odfk2</a><br/>\n",
              "\n",
              "                "
            ],
            "text/plain": [
              "<IPython.core.display.HTML object>"
            ]
          },
          "metadata": {}
        },
        {
          "output_type": "stream",
          "name": "stderr",
          "text": [
            "\u001b[34m\u001b[1mwandb\u001b[0m: \u001b[33mWARNING\u001b[0m Config item 'max_depth' was locked by 'sweep' (ignored update).\n",
            "\u001b[34m\u001b[1mwandb\u001b[0m: \u001b[33mWARNING\u001b[0m Config item 'n_estimators' was locked by 'sweep' (ignored update).\n"
          ]
        },
        {
          "output_type": "display_data",
          "data": {
            "text/html": [
              "<br/>Waiting for W&B process to finish, PID 2508... <strong style=\"color:green\">(success).</strong>"
            ],
            "text/plain": [
              "<IPython.core.display.HTML object>"
            ]
          },
          "metadata": {}
        },
        {
          "output_type": "display_data",
          "data": {
            "application/vnd.jupyter.widget-view+json": {
              "model_id": "dd7cc4f85171476c8eb9c10750decbc2",
              "version_minor": 0,
              "version_major": 2
            },
            "text/plain": [
              "VBox(children=(Label(value=' 0.04MB of 0.04MB uploaded (0.00MB deduped)\\r'), FloatProgress(value=1.0, max=1.0)…"
            ]
          },
          "metadata": {}
        },
        {
          "output_type": "display_data",
          "data": {
            "text/html": [
              "<style>\n",
              "    table.wandb td:nth-child(1) { padding: 0 10px; text-align: right }\n",
              "    .wandb-row { display: flex; flex-direction: row; flex-wrap: wrap; width: 100% }\n",
              "    .wandb-col { display: flex; flex-direction: column; flex-basis: 100%; flex: 1; padding: 10px; }\n",
              "    </style>\n",
              "<div class=\"wandb-row\"><div class=\"wandb-col\">\n",
              "</div><div class=\"wandb-col\">\n",
              "<h3>Run summary:</h3><br/><table class=\"wandb\"><tr><td>validation/accuracy</td><td>0.93128</td></tr><tr><td>validation/f1_score</td><td>0.93123</td></tr><tr><td>validation/precision</td><td>0.93122</td></tr><tr><td>validation/recall</td><td>0.93128</td></tr></table>\n",
              "</div></div>\n",
              "Synced 5 W&B file(s), 0 media file(s), 1 artifact file(s) and 0 other file(s)\n",
              "<br/>Synced <strong style=\"color:#cdcd00\">curious-sweep-45</strong>: <a href=\"https://wandb.ai/atufa/beans-tabular-IIT-G/runs/rrgorwmm\" target=\"_blank\">https://wandb.ai/atufa/beans-tabular-IIT-G/runs/rrgorwmm</a><br/>\n",
              "Find logs at: <code>./wandb/run-20220221_193316-rrgorwmm/logs</code><br/>\n"
            ],
            "text/plain": [
              "<IPython.core.display.HTML object>"
            ]
          },
          "metadata": {}
        },
        {
          "output_type": "stream",
          "name": "stderr",
          "text": [
            "\u001b[34m\u001b[1mwandb\u001b[0m: Agent Starting Run: qdkg2l8n with config:\n",
            "\u001b[34m\u001b[1mwandb\u001b[0m: \tmax_depth: 100\n",
            "\u001b[34m\u001b[1mwandb\u001b[0m: \tn_estimators: 398\n"
          ]
        },
        {
          "output_type": "display_data",
          "data": {
            "text/html": [
              "\n",
              "                    Syncing run <strong><a href=\"https://wandb.ai/atufa/beans-tabular-IIT-G/runs/qdkg2l8n\" target=\"_blank\">vocal-sweep-46</a></strong> to <a href=\"https://wandb.ai/atufa/beans-tabular-IIT-G\" target=\"_blank\">Weights & Biases</a> (<a href=\"https://docs.wandb.com/integrations/jupyter.html\" target=\"_blank\">docs</a>).<br/>\n",
              "Sweep page: <a href=\"https://wandb.ai/atufa/beans-tabular-IIT-G/sweeps/vj8odfk2\" target=\"_blank\">https://wandb.ai/atufa/beans-tabular-IIT-G/sweeps/vj8odfk2</a><br/>\n",
              "\n",
              "                "
            ],
            "text/plain": [
              "<IPython.core.display.HTML object>"
            ]
          },
          "metadata": {}
        },
        {
          "output_type": "stream",
          "name": "stderr",
          "text": [
            "\u001b[34m\u001b[1mwandb\u001b[0m: \u001b[33mWARNING\u001b[0m Config item 'max_depth' was locked by 'sweep' (ignored update).\n",
            "\u001b[34m\u001b[1mwandb\u001b[0m: \u001b[33mWARNING\u001b[0m Config item 'n_estimators' was locked by 'sweep' (ignored update).\n"
          ]
        },
        {
          "output_type": "display_data",
          "data": {
            "text/html": [
              "<br/>Waiting for W&B process to finish, PID 2548... <strong style=\"color:green\">(success).</strong>"
            ],
            "text/plain": [
              "<IPython.core.display.HTML object>"
            ]
          },
          "metadata": {}
        },
        {
          "output_type": "display_data",
          "data": {
            "application/vnd.jupyter.widget-view+json": {
              "model_id": "4b3d4bf0ac15444cba9dd652007f622d",
              "version_minor": 0,
              "version_major": 2
            },
            "text/plain": [
              "VBox(children=(Label(value=' 0.04MB of 0.04MB uploaded (0.00MB deduped)\\r'), FloatProgress(value=1.0, max=1.0)…"
            ]
          },
          "metadata": {}
        },
        {
          "output_type": "display_data",
          "data": {
            "text/html": [
              "<style>\n",
              "    table.wandb td:nth-child(1) { padding: 0 10px; text-align: right }\n",
              "    .wandb-row { display: flex; flex-direction: row; flex-wrap: wrap; width: 100% }\n",
              "    .wandb-col { display: flex; flex-direction: column; flex-basis: 100%; flex: 1; padding: 10px; }\n",
              "    </style>\n",
              "<div class=\"wandb-row\"><div class=\"wandb-col\">\n",
              "</div><div class=\"wandb-col\">\n",
              "<h3>Run summary:</h3><br/><table class=\"wandb\"><tr><td>validation/accuracy</td><td>0.93043</td></tr><tr><td>validation/f1_score</td><td>0.9303</td></tr><tr><td>validation/precision</td><td>0.93029</td></tr><tr><td>validation/recall</td><td>0.93043</td></tr></table>\n",
              "</div></div>\n",
              "Synced 5 W&B file(s), 0 media file(s), 1 artifact file(s) and 0 other file(s)\n",
              "<br/>Synced <strong style=\"color:#cdcd00\">vocal-sweep-46</strong>: <a href=\"https://wandb.ai/atufa/beans-tabular-IIT-G/runs/qdkg2l8n\" target=\"_blank\">https://wandb.ai/atufa/beans-tabular-IIT-G/runs/qdkg2l8n</a><br/>\n",
              "Find logs at: <code>./wandb/run-20220221_193346-qdkg2l8n/logs</code><br/>\n"
            ],
            "text/plain": [
              "<IPython.core.display.HTML object>"
            ]
          },
          "metadata": {}
        },
        {
          "output_type": "stream",
          "name": "stderr",
          "text": [
            "\u001b[34m\u001b[1mwandb\u001b[0m: Agent Starting Run: umevtcb6 with config:\n",
            "\u001b[34m\u001b[1mwandb\u001b[0m: \tmax_depth: 3\n",
            "\u001b[34m\u001b[1mwandb\u001b[0m: \tn_estimators: 195\n"
          ]
        },
        {
          "output_type": "display_data",
          "data": {
            "text/html": [
              "\n",
              "                    Syncing run <strong><a href=\"https://wandb.ai/atufa/beans-tabular-IIT-G/runs/umevtcb6\" target=\"_blank\">floral-sweep-47</a></strong> to <a href=\"https://wandb.ai/atufa/beans-tabular-IIT-G\" target=\"_blank\">Weights & Biases</a> (<a href=\"https://docs.wandb.com/integrations/jupyter.html\" target=\"_blank\">docs</a>).<br/>\n",
              "Sweep page: <a href=\"https://wandb.ai/atufa/beans-tabular-IIT-G/sweeps/vj8odfk2\" target=\"_blank\">https://wandb.ai/atufa/beans-tabular-IIT-G/sweeps/vj8odfk2</a><br/>\n",
              "\n",
              "                "
            ],
            "text/plain": [
              "<IPython.core.display.HTML object>"
            ]
          },
          "metadata": {}
        },
        {
          "output_type": "stream",
          "name": "stderr",
          "text": [
            "\u001b[34m\u001b[1mwandb\u001b[0m: \u001b[33mWARNING\u001b[0m Config item 'max_depth' was locked by 'sweep' (ignored update).\n",
            "\u001b[34m\u001b[1mwandb\u001b[0m: \u001b[33mWARNING\u001b[0m Config item 'n_estimators' was locked by 'sweep' (ignored update).\n",
            "/usr/local/lib/python3.7/dist-packages/sklearn/metrics/_classification.py:1308: UndefinedMetricWarning: Precision is ill-defined and being set to 0.0 in labels with no predicted samples. Use `zero_division` parameter to control this behavior.\n",
            "  _warn_prf(average, modifier, msg_start, len(result))\n"
          ]
        },
        {
          "output_type": "display_data",
          "data": {
            "text/html": [
              "<br/>Waiting for W&B process to finish, PID 2590... <strong style=\"color:green\">(success).</strong>"
            ],
            "text/plain": [
              "<IPython.core.display.HTML object>"
            ]
          },
          "metadata": {}
        },
        {
          "output_type": "display_data",
          "data": {
            "application/vnd.jupyter.widget-view+json": {
              "model_id": "cd00538a114d4f378463f2a9d864d12f",
              "version_minor": 0,
              "version_major": 2
            },
            "text/plain": [
              "VBox(children=(Label(value=' 0.04MB of 0.04MB uploaded (0.00MB deduped)\\r'), FloatProgress(value=1.0, max=1.0)…"
            ]
          },
          "metadata": {}
        },
        {
          "output_type": "display_data",
          "data": {
            "text/html": [
              "<style>\n",
              "    table.wandb td:nth-child(1) { padding: 0 10px; text-align: right }\n",
              "    .wandb-row { display: flex; flex-direction: row; flex-wrap: wrap; width: 100% }\n",
              "    .wandb-col { display: flex; flex-direction: column; flex-basis: 100%; flex: 1; padding: 10px; }\n",
              "    </style>\n",
              "<div class=\"wandb-row\"><div class=\"wandb-col\">\n",
              "</div><div class=\"wandb-col\">\n",
              "<h3>Run summary:</h3><br/><table class=\"wandb\"><tr><td>validation/accuracy</td><td>0.79893</td></tr><tr><td>validation/f1_score</td><td>0.76252</td></tr><tr><td>validation/precision</td><td>0.81994</td></tr><tr><td>validation/recall</td><td>0.79893</td></tr></table>\n",
              "</div></div>\n",
              "Synced 5 W&B file(s), 0 media file(s), 1 artifact file(s) and 0 other file(s)\n",
              "<br/>Synced <strong style=\"color:#cdcd00\">floral-sweep-47</strong>: <a href=\"https://wandb.ai/atufa/beans-tabular-IIT-G/runs/umevtcb6\" target=\"_blank\">https://wandb.ai/atufa/beans-tabular-IIT-G/runs/umevtcb6</a><br/>\n",
              "Find logs at: <code>./wandb/run-20220221_193417-umevtcb6/logs</code><br/>\n"
            ],
            "text/plain": [
              "<IPython.core.display.HTML object>"
            ]
          },
          "metadata": {}
        },
        {
          "output_type": "stream",
          "name": "stderr",
          "text": [
            "\u001b[34m\u001b[1mwandb\u001b[0m: Agent Starting Run: dw3lo25t with config:\n",
            "\u001b[34m\u001b[1mwandb\u001b[0m: \tmax_depth: 97\n",
            "\u001b[34m\u001b[1mwandb\u001b[0m: \tn_estimators: 112\n"
          ]
        },
        {
          "output_type": "display_data",
          "data": {
            "text/html": [
              "\n",
              "                    Syncing run <strong><a href=\"https://wandb.ai/atufa/beans-tabular-IIT-G/runs/dw3lo25t\" target=\"_blank\">drawn-sweep-48</a></strong> to <a href=\"https://wandb.ai/atufa/beans-tabular-IIT-G\" target=\"_blank\">Weights & Biases</a> (<a href=\"https://docs.wandb.com/integrations/jupyter.html\" target=\"_blank\">docs</a>).<br/>\n",
              "Sweep page: <a href=\"https://wandb.ai/atufa/beans-tabular-IIT-G/sweeps/vj8odfk2\" target=\"_blank\">https://wandb.ai/atufa/beans-tabular-IIT-G/sweeps/vj8odfk2</a><br/>\n",
              "\n",
              "                "
            ],
            "text/plain": [
              "<IPython.core.display.HTML object>"
            ]
          },
          "metadata": {}
        },
        {
          "output_type": "stream",
          "name": "stderr",
          "text": [
            "\u001b[34m\u001b[1mwandb\u001b[0m: \u001b[33mWARNING\u001b[0m Config item 'max_depth' was locked by 'sweep' (ignored update).\n",
            "\u001b[34m\u001b[1mwandb\u001b[0m: \u001b[33mWARNING\u001b[0m Config item 'n_estimators' was locked by 'sweep' (ignored update).\n"
          ]
        },
        {
          "output_type": "display_data",
          "data": {
            "text/html": [
              "<br/>Waiting for W&B process to finish, PID 2630... <strong style=\"color:green\">(success).</strong>"
            ],
            "text/plain": [
              "<IPython.core.display.HTML object>"
            ]
          },
          "metadata": {}
        },
        {
          "output_type": "display_data",
          "data": {
            "application/vnd.jupyter.widget-view+json": {
              "model_id": "60394318abce4abf9f4344d62e25a2dc",
              "version_minor": 0,
              "version_major": 2
            },
            "text/plain": [
              "VBox(children=(Label(value=' 0.04MB of 0.04MB uploaded (0.00MB deduped)\\r'), FloatProgress(value=1.0, max=1.0)…"
            ]
          },
          "metadata": {}
        },
        {
          "output_type": "display_data",
          "data": {
            "text/html": [
              "<style>\n",
              "    table.wandb td:nth-child(1) { padding: 0 10px; text-align: right }\n",
              "    .wandb-row { display: flex; flex-direction: row; flex-wrap: wrap; width: 100% }\n",
              "    .wandb-col { display: flex; flex-direction: column; flex-basis: 100%; flex: 1; padding: 10px; }\n",
              "    </style>\n",
              "<div class=\"wandb-row\"><div class=\"wandb-col\">\n",
              "</div><div class=\"wandb-col\">\n",
              "<h3>Run summary:</h3><br/><table class=\"wandb\"><tr><td>validation/accuracy</td><td>0.93269</td></tr><tr><td>validation/f1_score</td><td>0.93249</td></tr><tr><td>validation/precision</td><td>0.93244</td></tr><tr><td>validation/recall</td><td>0.93269</td></tr></table>\n",
              "</div></div>\n",
              "Synced 5 W&B file(s), 0 media file(s), 1 artifact file(s) and 0 other file(s)\n",
              "<br/>Synced <strong style=\"color:#cdcd00\">drawn-sweep-48</strong>: <a href=\"https://wandb.ai/atufa/beans-tabular-IIT-G/runs/dw3lo25t\" target=\"_blank\">https://wandb.ai/atufa/beans-tabular-IIT-G/runs/dw3lo25t</a><br/>\n",
              "Find logs at: <code>./wandb/run-20220221_193438-dw3lo25t/logs</code><br/>\n"
            ],
            "text/plain": [
              "<IPython.core.display.HTML object>"
            ]
          },
          "metadata": {}
        },
        {
          "output_type": "stream",
          "name": "stderr",
          "text": [
            "\u001b[34m\u001b[1mwandb\u001b[0m: Ctrl + C detected. Stopping sweep.\n"
          ]
        }
      ],
      "source": [
        "N_RUNS = 50 # number of runs to execute\n",
        "wandb.agent(sweep_id_rand, project=PROJECT, function=train, count=N_RUNS)"
      ]
    },
    {
      "cell_type": "markdown",
      "source": [
        "* catboost"
      ],
      "metadata": {
        "id": "F5IZwJMq_1TA"
      }
    },
    {
      "cell_type": "code",
      "source": [
        "N_RUNS = 20 # number of runs to execute\n",
        "wandb.agent(sweep_id_cat, project=PROJECT, function=train_cat, count=N_RUNS)"
      ],
      "metadata": {
        "id": "v-a9tKrF_cDS"
      },
      "execution_count": null,
      "outputs": []
    },
    {
      "cell_type": "markdown",
      "source": [
        "* Select a Sweep and log the plots for it\n",
        "** Since i didnot stored the models, stored predictions instead, use the sweep id to check params."
      ],
      "metadata": {
        "id": "ipzDf63WQfsL"
      }
    },
    {
      "cell_type": "code",
      "source": [
        "final_model_params = {\n",
        "    'random_state':42,\n",
        "     'colsample_bylevel':0.8,\n",
        "     'depth':8,'boosting_type':'Ordered'\n",
        "     ,'bootstrap_type':'Bernoulli','subsample':0.7,\n",
        "     'iterations':600\n",
        "}\n",
        "model = CatBoostClassifier()\n",
        "model.set_param(**final_model_params)\n",
        "y_pred = model.predict(X_val)\n",
        "log_metrics(y_val, y_pred)"
      ],
      "metadata": {
        "id": "r6Ru3jx3QvgV"
      },
      "execution_count": null,
      "outputs": []
    },
    {
      "cell_type": "markdown",
      "source": [
        "![Screenshot (103).png](data:image/png;base64,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)"
      ],
      "metadata": {
        "id": "4DL7jC9YQRDO"
      }
    },
    {
      "cell_type": "markdown",
      "metadata": {
        "id": "vS5T2CwNbDp6"
      },
      "source": [
        "# Get Submission Files From a Sweeps Run\n",
        "\n",
        "You can download the test set predictions from each Sweeps run via Artifacts. Or you can find which parameters resulted in the best trained model, and replicate that training using the training and prediction code in the first part of this notebook."
      ]
    },
    {
      "cell_type": "code",
      "execution_count": null,
      "metadata": {
        "id": "BtziyaFWbDp7"
      },
      "outputs": [],
      "source": [
        "# Find the run_id of the best performing Sweeps run, it can be found in the URL in the W&B UI\n",
        "RUN_ID = '4ve8wzer'"
      ]
    },
    {
      "cell_type": "code",
      "execution_count": null,
      "metadata": {
        "id": "eyuzYz8qbDp7",
        "colab": {
          "base_uri": "https://localhost:8080/",
          "height": 317,
          "referenced_widgets": [
            "1b4919f68db54ba1a7d2ef30ddcd978f",
            "4b090fd44e0347398a28762991ba44be",
            "9fb39da968454d6c959b5331a648ba85",
            "864415358c3f4c409e8372908954ddac",
            "ffb8a5b363d1459d8b812004b3848baa",
            "aba06953ea2e481abe65e65f5b1492bf",
            "65bfcbb610f64c1eb09f0c367e5173be",
            "bf9269ee90844f22995991dd163b87dd",
            "271767c272a04751bdb90ef2842f307f",
            "00af6fa0bff049189c1db63b06f93ceb",
            "7fe149183ff64026a94e4d7019086faf",
            "52e8d4782c0c4a75ad60af660e6d1b7d",
            "27bfa587274c4a8dad18d7092c63511b",
            "fd02dae2c0034045943f015120b013e7",
            "10fb5d7588d64149b9f046ce3b0b7d9d",
            "7da78fe5532840029a7ef6436b4efb8a"
          ]
        },
        "outputId": "7c27b500-bc19-4de6-b26f-65142e06303c"
      },
      "outputs": [
        {
          "output_type": "stream",
          "name": "stderr",
          "text": [
            "\u001b[34m\u001b[1mwandb\u001b[0m: \u001b[33mWARNING\u001b[0m Ignored wandb.init() arg project when running a sweep.\n"
          ]
        },
        {
          "output_type": "display_data",
          "data": {
            "text/html": [
              "Finishing last run (ID:dw3lo25t) before initializing another..."
            ],
            "text/plain": [
              "<IPython.core.display.HTML object>"
            ]
          },
          "metadata": {}
        },
        {
          "output_type": "display_data",
          "data": {
            "text/html": [
              "<br/>Waiting for W&B process to finish, PID 2708... <strong style=\"color:green\">(success).</strong>"
            ],
            "text/plain": [
              "<IPython.core.display.HTML object>"
            ]
          },
          "metadata": {}
        },
        {
          "output_type": "display_data",
          "data": {
            "application/vnd.jupyter.widget-view+json": {
              "model_id": "1b4919f68db54ba1a7d2ef30ddcd978f",
              "version_minor": 0,
              "version_major": 2
            },
            "text/plain": [
              "VBox(children=(Label(value=' 0.00MB of 0.00MB uploaded (0.00MB deduped)\\r'), FloatProgress(value=1.0, max=1.0)…"
            ]
          },
          "metadata": {}
        },
        {
          "output_type": "display_data",
          "data": {
            "text/html": [
              "<style>\n",
              "    table.wandb td:nth-child(1) { padding: 0 10px; text-align: right }\n",
              "    .wandb-row { display: flex; flex-direction: row; flex-wrap: wrap; width: 100% }\n",
              "    .wandb-col { display: flex; flex-direction: column; flex-basis: 100%; flex: 1; padding: 10px; }\n",
              "    </style>\n",
              "<div class=\"wandb-row\"><div class=\"wandb-col\">\n",
              "</div><div class=\"wandb-col\">\n",
              "</div></div>\n",
              "Synced 5 W&B file(s), 0 media file(s), 0 artifact file(s) and 0 other file(s)\n",
              "<br/>Synced <strong style=\"color:#cdcd00\">drawn-sweep-48</strong>: <a href=\"https://wandb.ai/atufa/beans-tabular-IIT-G/runs/dw3lo25t\" target=\"_blank\">https://wandb.ai/atufa/beans-tabular-IIT-G/runs/dw3lo25t</a><br/>\n",
              "Find logs at: <code>./wandb/run-20220221_195026-dw3lo25t/logs</code><br/>\n"
            ],
            "text/plain": [
              "<IPython.core.display.HTML object>"
            ]
          },
          "metadata": {}
        },
        {
          "output_type": "display_data",
          "data": {
            "text/html": [
              "Successfully finished last run (ID:dw3lo25t). Initializing new run:<br/>"
            ],
            "text/plain": [
              "<IPython.core.display.HTML object>"
            ]
          },
          "metadata": {}
        },
        {
          "output_type": "display_data",
          "data": {
            "text/html": [
              "\n",
              "                    Syncing run <strong><a href=\"https://wandb.ai/atufa/beans-tabular-IIT-G/runs/dw3lo25t\" target=\"_blank\">drawn-sweep-48</a></strong> to <a href=\"https://wandb.ai/atufa/beans-tabular-IIT-G\" target=\"_blank\">Weights & Biases</a> (<a href=\"https://docs.wandb.com/integrations/jupyter.html\" target=\"_blank\">docs</a>).<br/>\n",
              "Sweep page: <a href=\"https://wandb.ai/atufa/beans-tabular-IIT-G/sweeps/vj8odfk2\" target=\"_blank\">https://wandb.ai/atufa/beans-tabular-IIT-G/sweeps/vj8odfk2</a><br/>\n",
              "\n",
              "                "
            ],
            "text/plain": [
              "<IPython.core.display.HTML object>"
            ]
          },
          "metadata": {}
        },
        {
          "output_type": "display_data",
          "data": {
            "text/html": [
              "<br/>Waiting for W&B process to finish, PID 2776... <strong style=\"color:green\">(success).</strong>"
            ],
            "text/plain": [
              "<IPython.core.display.HTML object>"
            ]
          },
          "metadata": {}
        },
        {
          "output_type": "display_data",
          "data": {
            "application/vnd.jupyter.widget-view+json": {
              "model_id": "271767c272a04751bdb90ef2842f307f",
              "version_minor": 0,
              "version_major": 2
            },
            "text/plain": [
              "VBox(children=(Label(value=' 0.00MB of 0.00MB uploaded (0.00MB deduped)\\r'), FloatProgress(value=1.0, max=1.0)…"
            ]
          },
          "metadata": {}
        },
        {
          "output_type": "display_data",
          "data": {
            "text/html": [
              "<style>\n",
              "    table.wandb td:nth-child(1) { padding: 0 10px; text-align: right }\n",
              "    .wandb-row { display: flex; flex-direction: row; flex-wrap: wrap; width: 100% }\n",
              "    .wandb-col { display: flex; flex-direction: column; flex-basis: 100%; flex: 1; padding: 10px; }\n",
              "    </style>\n",
              "<div class=\"wandb-row\"><div class=\"wandb-col\">\n",
              "</div><div class=\"wandb-col\">\n",
              "</div></div>\n",
              "Synced 4 W&B file(s), 0 media file(s), 0 artifact file(s) and 0 other file(s)\n",
              "<br/>Synced <strong style=\"color:#cdcd00\">drawn-sweep-48</strong>: <a href=\"https://wandb.ai/atufa/beans-tabular-IIT-G/runs/dw3lo25t\" target=\"_blank\">https://wandb.ai/atufa/beans-tabular-IIT-G/runs/dw3lo25t</a><br/>\n",
              "Find logs at: <code>./wandb/run-20220221_195319-dw3lo25t/logs</code><br/>\n"
            ],
            "text/plain": [
              "<IPython.core.display.HTML object>"
            ]
          },
          "metadata": {}
        }
      ],
      "source": [
        "# Download the submission file from artifacts\n",
        "wandb.init(project=PROJECT, job_type='download_submission')\n",
        "artifact = wandb.use_artifact(f'{wandb.run.entity}/{PROJECT}/{RUN_ID}_submission:latest', type='submission')\n",
        "artifact_dir = artifact.download('my_submissions')\n",
        "wandb.finish()"
      ]
    }
  ]
}