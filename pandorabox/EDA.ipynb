{
 "cells": [
  {
   "cell_type": "code",
   "execution_count": 1,
   "id": "c90f5230-eaec-4fb5-ab36-8393bba0faf6",
   "metadata": {},
   "outputs": [],
   "source": [
    "import pandas as pd\n",
    "import numpy as np\n",
    "import matplotlib.pyplot as plt\n",
    "import seaborn as sns\n",
    "\n",
    "import os"
   ]
  },
  {
   "cell_type": "code",
   "execution_count": 2,
   "id": "1735edf4-41a3-45fc-9a06-c9da896842bb",
   "metadata": {},
   "outputs": [
    {
     "name": "stdout",
     "output_type": "stream",
     "text": [
      "total 1065520\n",
      "-rw-r--r--@ 1 sagar  staff   223M Aug  9 16:05 app_usage.csv\n",
      "-rw-r--r--@ 1 sagar  staff   145M Sep  8 11:27 app_metadata.csv\n",
      "-rw-r--r--@ 1 sagar  staff   130M Sep  8 17:39 app_installs.csv\n",
      "-rw-r--r--@ 1 sagar  staff    16M Aug  9 16:06 user_metadata.csv\n",
      "-rw-r--r--@ 1 sagar  staff   4.1M Aug  9 16:01 actual_set.csv\n",
      "-rw-r--r--@ 1 sagar  staff   2.2M Sep  8 11:49 sample_submission.csv\n",
      "-rw-r--r--@ 1 sagar  staff   274K Aug  9 16:06 validation_data.csv\n",
      "-rw-r--r--@ 1 sagar  staff   692B Sep  8 17:41 IndusOS_Data Dictionary.csv\n"
     ]
    }
   ],
   "source": [
    "! ls -ltSh ./data/"
   ]
  },
  {
   "cell_type": "raw",
   "id": "7fabed31-aed7-4cf3-a2b0-e87fab3a2a78",
   "metadata": {},
   "source": [
    "# files of use\n",
    "\n",
    "-rw-r--r--@ 1 sagar  staff   223M Aug  9 16:05 app_usage.csv\n",
    "-rw-r--r--@ 1 sagar  staff   145M Sep  8 11:27 app_metadata.csv\n",
    "-rw-r--r--@ 1 sagar  staff   130M Sep  8 17:39 app_installs.csv\n",
    "-rw-r--r--@ 1 sagar  staff    16M Aug  9 16:06 user_metadata.csv"
   ]
  },
  {
   "cell_type": "raw",
   "id": "5f3308e0-9515-4ded-9285-f4ba9fc8d3af",
   "metadata": {},
   "source": [
    "df_actual_set = pd.read_csv(\"./data/actual_set.csv\") \n",
    "# For participants to validate their model and results"
   ]
  },
  {
   "cell_type": "raw",
   "id": "00d6e0cd-0efa-4470-8827-585c845b65b6",
   "metadata": {},
   "source": [
    "1. app metadata: Metadata about the app\n",
    "2. user metadata: Metadata about the user\n",
    "3. app installs: apps installed by a user in the last six months\n",
    "4. app usage: apps used by the user in the last one week.\n",
    "5. actual set: For participants to validate their model and results\n",
    "6. validation set: UIDs on which participants need to predict top four recommendations from the universe of apps in apps metadata. \n",
    "7. data dictionary: check this file for more details about the datasets\n",
    "8. sample submission: schema to submit the final results"
   ]
  },
  {
   "cell_type": "code",
   "execution_count": 3,
   "id": "7b740a26-6262-422f-9ac1-e0ac9bcfd725",
   "metadata": {},
   "outputs": [
    {
     "name": "stdout",
     "output_type": "stream",
     "text": [
      " 7569650 ./data/app_usage.csv\n"
     ]
    }
   ],
   "source": [
    "! wc -l ./data/app_usage.csv"
   ]
  },
  {
   "cell_type": "code",
   "execution_count": 4,
   "id": "47d0f4ef-a8bd-43ae-a25f-29c916280ef9",
   "metadata": {},
   "outputs": [],
   "source": [
    "df_app_usage = pd.read_csv(\"./data/app_usage.csv\")"
   ]
  },
  {
   "cell_type": "code",
   "execution_count": 5,
   "id": "bf088348-9f4b-4a92-a748-3aa04d08e2b3",
   "metadata": {},
   "outputs": [],
   "source": [
    "df_app_usage[\"time_spent\"] = df_app_usage[\"time_spent\"] / 3600  # convert to hours"
   ]
  },
  {
   "cell_type": "code",
   "execution_count": 6,
   "id": "e691d568-4c99-4dd5-a352-6e77977fcf63",
   "metadata": {},
   "outputs": [],
   "source": [
    "df_app_usage[\"app_use_date\"] = pd.to_datetime(df_app_usage[\"app_use_date\"])"
   ]
  },
  {
   "cell_type": "code",
   "execution_count": 7,
   "id": "0bb99f32-0bb4-4dd2-97a8-30da7e595a9d",
   "metadata": {},
   "outputs": [
    {
     "data": {
      "text/html": [
       "<div>\n",
       "<style scoped>\n",
       "    .dataframe tbody tr th:only-of-type {\n",
       "        vertical-align: middle;\n",
       "    }\n",
       "\n",
       "    .dataframe tbody tr th {\n",
       "        vertical-align: top;\n",
       "    }\n",
       "\n",
       "    .dataframe thead th {\n",
       "        text-align: right;\n",
       "    }\n",
       "</style>\n",
       "<table border=\"1\" class=\"dataframe\">\n",
       "  <thead>\n",
       "    <tr style=\"text-align: right;\">\n",
       "      <th></th>\n",
       "      <th>app_use_date</th>\n",
       "      <th>uid</th>\n",
       "      <th>item_id</th>\n",
       "      <th>time_spent</th>\n",
       "    </tr>\n",
       "  </thead>\n",
       "  <tbody>\n",
       "    <tr>\n",
       "      <th>0</th>\n",
       "      <td>2022-07-31</td>\n",
       "      <td>185459</td>\n",
       "      <td>601235</td>\n",
       "      <td>605.614167</td>\n",
       "    </tr>\n",
       "    <tr>\n",
       "      <th>1</th>\n",
       "      <td>2022-07-31</td>\n",
       "      <td>164721</td>\n",
       "      <td>601235</td>\n",
       "      <td>1347.483056</td>\n",
       "    </tr>\n",
       "    <tr>\n",
       "      <th>2</th>\n",
       "      <td>2022-07-25</td>\n",
       "      <td>22949</td>\n",
       "      <td>601235</td>\n",
       "      <td>285.198056</td>\n",
       "    </tr>\n",
       "    <tr>\n",
       "      <th>3</th>\n",
       "      <td>2022-07-26</td>\n",
       "      <td>1773</td>\n",
       "      <td>601235</td>\n",
       "      <td>116.603611</td>\n",
       "    </tr>\n",
       "    <tr>\n",
       "      <th>4</th>\n",
       "      <td>2022-07-29</td>\n",
       "      <td>12539</td>\n",
       "      <td>601235</td>\n",
       "      <td>447.067778</td>\n",
       "    </tr>\n",
       "    <tr>\n",
       "      <th>...</th>\n",
       "      <td>...</td>\n",
       "      <td>...</td>\n",
       "      <td>...</td>\n",
       "      <td>...</td>\n",
       "    </tr>\n",
       "    <tr>\n",
       "      <th>7569644</th>\n",
       "      <td>2022-07-31</td>\n",
       "      <td>149113</td>\n",
       "      <td>141827</td>\n",
       "      <td>15.344722</td>\n",
       "    </tr>\n",
       "    <tr>\n",
       "      <th>7569645</th>\n",
       "      <td>2022-07-30</td>\n",
       "      <td>90717</td>\n",
       "      <td>160056</td>\n",
       "      <td>225.179444</td>\n",
       "    </tr>\n",
       "    <tr>\n",
       "      <th>7569646</th>\n",
       "      <td>2022-07-29</td>\n",
       "      <td>205313</td>\n",
       "      <td>160056</td>\n",
       "      <td>14.168333</td>\n",
       "    </tr>\n",
       "    <tr>\n",
       "      <th>7569647</th>\n",
       "      <td>2022-07-30</td>\n",
       "      <td>217754</td>\n",
       "      <td>753277</td>\n",
       "      <td>491.966667</td>\n",
       "    </tr>\n",
       "    <tr>\n",
       "      <th>7569648</th>\n",
       "      <td>2022-07-27</td>\n",
       "      <td>217754</td>\n",
       "      <td>753277</td>\n",
       "      <td>1109.356111</td>\n",
       "    </tr>\n",
       "  </tbody>\n",
       "</table>\n",
       "<p>7569649 rows × 4 columns</p>\n",
       "</div>"
      ],
      "text/plain": [
       "        app_use_date     uid  item_id   time_spent\n",
       "0         2022-07-31  185459   601235   605.614167\n",
       "1         2022-07-31  164721   601235  1347.483056\n",
       "2         2022-07-25   22949   601235   285.198056\n",
       "3         2022-07-26    1773   601235   116.603611\n",
       "4         2022-07-29   12539   601235   447.067778\n",
       "...              ...     ...      ...          ...\n",
       "7569644   2022-07-31  149113   141827    15.344722\n",
       "7569645   2022-07-30   90717   160056   225.179444\n",
       "7569646   2022-07-29  205313   160056    14.168333\n",
       "7569647   2022-07-30  217754   753277   491.966667\n",
       "7569648   2022-07-27  217754   753277  1109.356111\n",
       "\n",
       "[7569649 rows x 4 columns]"
      ]
     },
     "execution_count": 7,
     "metadata": {},
     "output_type": "execute_result"
    }
   ],
   "source": [
    "df_app_usage"
   ]
  },
  {
   "cell_type": "code",
   "execution_count": 8,
   "id": "9930baa2-849f-4ba8-8733-7072fa00f153",
   "metadata": {},
   "outputs": [
    {
     "data": {
      "text/plain": [
       "app_use_date    datetime64[ns]\n",
       "uid                      int64\n",
       "item_id                  int64\n",
       "time_spent             float64\n",
       "dtype: object"
      ]
     },
     "execution_count": 8,
     "metadata": {},
     "output_type": "execute_result"
    }
   ],
   "source": [
    "df_app_usage.dtypes"
   ]
  },
  {
   "cell_type": "markdown",
   "id": "91bb1440-9ff8-4b82-beb8-9e8910496986",
   "metadata": {},
   "source": [
    "assuming time spent is in seconds"
   ]
  },
  {
   "cell_type": "markdown",
   "id": "c4344808-7f0b-4f4b-935f-5b30243cec48",
   "metadata": {},
   "source": [
    "# app_usage"
   ]
  },
  {
   "cell_type": "markdown",
   "id": "faff8576-65b8-4d4b-b7aa-a0e0331815f6",
   "metadata": {},
   "source": [
    "## uid"
   ]
  },
  {
   "cell_type": "code",
   "execution_count": 9,
   "id": "2bf72b70-736e-4245-96e9-9c940620a70b",
   "metadata": {},
   "outputs": [
    {
     "data": {
      "text/plain": [
       "238640"
      ]
     },
     "execution_count": 9,
     "metadata": {},
     "output_type": "execute_result"
    }
   ],
   "source": [
    "df_app_usage[\"uid\"].nunique()"
   ]
  },
  {
   "cell_type": "markdown",
   "id": "d9344dd9-543a-4d8a-be72-6e03bedc07db",
   "metadata": {},
   "source": [
    "## item_id"
   ]
  },
  {
   "cell_type": "code",
   "execution_count": 10,
   "id": "3ce38080-bace-4814-bb8f-370ed854e6de",
   "metadata": {},
   "outputs": [
    {
     "data": {
      "text/plain": [
       "50679"
      ]
     },
     "execution_count": 10,
     "metadata": {},
     "output_type": "execute_result"
    }
   ],
   "source": [
    "df_app_usage[\"item_id\"].nunique()"
   ]
  },
  {
   "cell_type": "markdown",
   "id": "c7861c30-7464-4a95-9cd1-e5512582b62c",
   "metadata": {},
   "source": [
    "## date"
   ]
  },
  {
   "cell_type": "code",
   "execution_count": 11,
   "id": "b434aba9-3c80-4714-966e-fc2a59d20bc1",
   "metadata": {},
   "outputs": [
    {
     "data": {
      "text/plain": [
       "array([2022])"
      ]
     },
     "execution_count": 11,
     "metadata": {},
     "output_type": "execute_result"
    }
   ],
   "source": [
    "df_app_usage[\"app_use_date\"].dt.year.unique()"
   ]
  },
  {
   "cell_type": "code",
   "execution_count": 12,
   "id": "117c18f9-de1d-4b77-83c0-df35a2aed8de",
   "metadata": {},
   "outputs": [
    {
     "data": {
      "text/plain": [
       "array([7])"
      ]
     },
     "execution_count": 12,
     "metadata": {},
     "output_type": "execute_result"
    }
   ],
   "source": [
    "df_app_usage[\"app_use_date\"].dt.month.unique()"
   ]
  },
  {
   "cell_type": "code",
   "execution_count": 13,
   "id": "123cf02f-52d6-43e7-b68f-bca089188416",
   "metadata": {},
   "outputs": [
    {
     "data": {
      "text/plain": [
       "array([25, 26, 27, 28, 29, 30, 31])"
      ]
     },
     "execution_count": 13,
     "metadata": {},
     "output_type": "execute_result"
    }
   ],
   "source": [
    "np.sort(df_app_usage[\"app_use_date\"].dt.day.unique())"
   ]
  },
  {
   "cell_type": "code",
   "execution_count": 14,
   "id": "db667249-b025-4105-a251-60b38170de9c",
   "metadata": {},
   "outputs": [
    {
     "data": {
      "text/plain": [
       "194958    258\n",
       "42337     257\n",
       "218895    255\n",
       "210942    248\n",
       "125082    247\n",
       "159922    244\n",
       "194044    231\n",
       "161297    226\n",
       "174622    226\n",
       "100345    221\n",
       "Name: uid, dtype: int64"
      ]
     },
     "execution_count": 14,
     "metadata": {},
     "output_type": "execute_result"
    }
   ],
   "source": [
    "df_app_usage[\"uid\"].value_counts().head(10)"
   ]
  },
  {
   "cell_type": "code",
   "execution_count": 15,
   "id": "2e4ac407-7331-4143-8c6f-321a8d2fe527",
   "metadata": {},
   "outputs": [
    {
     "data": {
      "text/plain": [
       "20875     1111767\n",
       "5526       502772\n",
       "25349      442085\n",
       "145569     237136\n",
       "62222      211751\n",
       "145082     154038\n",
       "589378     137077\n",
       "55824      115264\n",
       "55857      108118\n",
       "69229      105557\n",
       "Name: item_id, dtype: int64"
      ]
     },
     "execution_count": 15,
     "metadata": {},
     "output_type": "execute_result"
    }
   ],
   "source": [
    "df_app_usage[\"item_id\"].value_counts().head(10)"
   ]
  },
  {
   "cell_type": "markdown",
   "id": "7909e947-e38f-479e-be4a-6b7d15485564",
   "metadata": {},
   "source": [
    "## per user x apps"
   ]
  },
  {
   "cell_type": "code",
   "execution_count": 16,
   "id": "dfc47330-2568-4057-8456-60b15ba27dd1",
   "metadata": {},
   "outputs": [
    {
     "data": {
      "text/html": [
       "<div>\n",
       "<style scoped>\n",
       "    .dataframe tbody tr th:only-of-type {\n",
       "        vertical-align: middle;\n",
       "    }\n",
       "\n",
       "    .dataframe tbody tr th {\n",
       "        vertical-align: top;\n",
       "    }\n",
       "\n",
       "    .dataframe thead th {\n",
       "        text-align: right;\n",
       "    }\n",
       "</style>\n",
       "<table border=\"1\" class=\"dataframe\">\n",
       "  <thead>\n",
       "    <tr style=\"text-align: right;\">\n",
       "      <th></th>\n",
       "      <th>uid</th>\n",
       "      <th>nunique_items</th>\n",
       "    </tr>\n",
       "  </thead>\n",
       "  <tbody>\n",
       "    <tr>\n",
       "      <th>0</th>\n",
       "      <td>42337</td>\n",
       "      <td>257</td>\n",
       "    </tr>\n",
       "    <tr>\n",
       "      <th>1</th>\n",
       "      <td>158521</td>\n",
       "      <td>196</td>\n",
       "    </tr>\n",
       "    <tr>\n",
       "      <th>2</th>\n",
       "      <td>141072</td>\n",
       "      <td>181</td>\n",
       "    </tr>\n",
       "    <tr>\n",
       "      <th>3</th>\n",
       "      <td>161297</td>\n",
       "      <td>165</td>\n",
       "    </tr>\n",
       "    <tr>\n",
       "      <th>4</th>\n",
       "      <td>210942</td>\n",
       "      <td>164</td>\n",
       "    </tr>\n",
       "    <tr>\n",
       "      <th>...</th>\n",
       "      <td>...</td>\n",
       "      <td>...</td>\n",
       "    </tr>\n",
       "    <tr>\n",
       "      <th>238635</th>\n",
       "      <td>91866</td>\n",
       "      <td>1</td>\n",
       "    </tr>\n",
       "    <tr>\n",
       "      <th>238636</th>\n",
       "      <td>141506</td>\n",
       "      <td>1</td>\n",
       "    </tr>\n",
       "    <tr>\n",
       "      <th>238637</th>\n",
       "      <td>271549</td>\n",
       "      <td>1</td>\n",
       "    </tr>\n",
       "    <tr>\n",
       "      <th>238638</th>\n",
       "      <td>191683</td>\n",
       "      <td>1</td>\n",
       "    </tr>\n",
       "    <tr>\n",
       "      <th>238639</th>\n",
       "      <td>119141</td>\n",
       "      <td>1</td>\n",
       "    </tr>\n",
       "  </tbody>\n",
       "</table>\n",
       "<p>238640 rows × 2 columns</p>\n",
       "</div>"
      ],
      "text/plain": [
       "           uid  nunique_items\n",
       "0        42337            257\n",
       "1       158521            196\n",
       "2       141072            181\n",
       "3       161297            165\n",
       "4       210942            164\n",
       "...        ...            ...\n",
       "238635   91866              1\n",
       "238636  141506              1\n",
       "238637  271549              1\n",
       "238638  191683              1\n",
       "238639  119141              1\n",
       "\n",
       "[238640 rows x 2 columns]"
      ]
     },
     "execution_count": 16,
     "metadata": {},
     "output_type": "execute_result"
    }
   ],
   "source": [
    "df_unique_items_per_user = (\n",
    "    df_app_usage.groupby(\"uid\", as_index=False)\n",
    "    .agg(nunique_items=(\"item_id\", \"nunique\"))\n",
    "    .sort_values(by=\"nunique_items\", ignore_index=True, ascending=False)\n",
    ")\n",
    "df_unique_items_per_user"
   ]
  },
  {
   "cell_type": "code",
   "execution_count": 17,
   "id": "25e5a59b-5a25-479c-b294-fcae4d2a6597",
   "metadata": {},
   "outputs": [
    {
     "data": {
      "image/png": "[encoded data removed]",
      "text/plain": [
       "<Figure size 640x480 with 1 Axes>"
      ]
     },
     "metadata": {},
     "output_type": "display_data"
    }
   ],
   "source": [
    "sns.boxplot(x=\"nunique_items\", data=df_unique_items_per_user)\n",
    "plt.show()"
   ]
  },
  {
   "cell_type": "code",
   "execution_count": 18,
   "id": "0fdb6a10-f207-4c39-98af-22f7fc063ff6",
   "metadata": {},
   "outputs": [
    {
     "data": {
      "image/png": "[encoded data removed]",
      "text/plain": [
       "<Figure size 640x480 with 1 Axes>"
      ]
     },
     "metadata": {},
     "output_type": "display_data"
    }
   ],
   "source": [
    "df_unique_items_per_user[\"percent_items\"] = (\n",
    "    df_unique_items_per_user[\"nunique_items\"] / df_app_usage[\"item_id\"].nunique()\n",
    ")\n",
    "\n",
    "sns.boxplot(x=\"percent_items\", data=df_unique_items_per_user)\n",
    "plt.show()"
   ]
  },
  {
   "cell_type": "markdown",
   "id": "77fcaef0-095f-4a55-a2ac-3bfc2cedd2c0",
   "metadata": {},
   "source": [
    "## per item x users"
   ]
  },
  {
   "cell_type": "code",
   "execution_count": 19,
   "id": "05e3c826-adde-4a2f-8332-8a453f327377",
   "metadata": {},
   "outputs": [
    {
     "data": {
      "text/html": [
       "<div>\n",
       "<style scoped>\n",
       "    .dataframe tbody tr th:only-of-type {\n",
       "        vertical-align: middle;\n",
       "    }\n",
       "\n",
       "    .dataframe tbody tr th {\n",
       "        vertical-align: top;\n",
       "    }\n",
       "\n",
       "    .dataframe thead th {\n",
       "        text-align: right;\n",
       "    }\n",
       "</style>\n",
       "<table border=\"1\" class=\"dataframe\">\n",
       "  <thead>\n",
       "    <tr style=\"text-align: right;\">\n",
       "      <th></th>\n",
       "      <th>item_id</th>\n",
       "      <th>nunique_users</th>\n",
       "    </tr>\n",
       "  </thead>\n",
       "  <tbody>\n",
       "    <tr>\n",
       "      <th>0</th>\n",
       "      <td>20875</td>\n",
       "      <td>214482</td>\n",
       "    </tr>\n",
       "    <tr>\n",
       "      <th>1</th>\n",
       "      <td>25349</td>\n",
       "      <td>106537</td>\n",
       "    </tr>\n",
       "    <tr>\n",
       "      <th>2</th>\n",
       "      <td>5526</td>\n",
       "      <td>98841</td>\n",
       "    </tr>\n",
       "    <tr>\n",
       "      <th>3</th>\n",
       "      <td>145569</td>\n",
       "      <td>75527</td>\n",
       "    </tr>\n",
       "    <tr>\n",
       "      <th>4</th>\n",
       "      <td>62222</td>\n",
       "      <td>70298</td>\n",
       "    </tr>\n",
       "    <tr>\n",
       "      <th>...</th>\n",
       "      <td>...</td>\n",
       "      <td>...</td>\n",
       "    </tr>\n",
       "    <tr>\n",
       "      <th>50674</th>\n",
       "      <td>757488</td>\n",
       "      <td>1</td>\n",
       "    </tr>\n",
       "    <tr>\n",
       "      <th>50675</th>\n",
       "      <td>757472</td>\n",
       "      <td>1</td>\n",
       "    </tr>\n",
       "    <tr>\n",
       "      <th>50676</th>\n",
       "      <td>757460</td>\n",
       "      <td>1</td>\n",
       "    </tr>\n",
       "    <tr>\n",
       "      <th>50677</th>\n",
       "      <td>757347</td>\n",
       "      <td>1</td>\n",
       "    </tr>\n",
       "    <tr>\n",
       "      <th>50678</th>\n",
       "      <td>931293</td>\n",
       "      <td>1</td>\n",
       "    </tr>\n",
       "  </tbody>\n",
       "</table>\n",
       "<p>50679 rows × 2 columns</p>\n",
       "</div>"
      ],
      "text/plain": [
       "       item_id  nunique_users\n",
       "0        20875         214482\n",
       "1        25349         106537\n",
       "2         5526          98841\n",
       "3       145569          75527\n",
       "4        62222          70298\n",
       "...        ...            ...\n",
       "50674   757488              1\n",
       "50675   757472              1\n",
       "50676   757460              1\n",
       "50677   757347              1\n",
       "50678   931293              1\n",
       "\n",
       "[50679 rows x 2 columns]"
      ]
     },
     "execution_count": 19,
     "metadata": {},
     "output_type": "execute_result"
    }
   ],
   "source": [
    "df_unique_users_per_item = (\n",
    "    df_app_usage.groupby(\"item_id\", as_index=False)\n",
    "    .agg(nunique_users=(\"uid\", \"nunique\"))\n",
    "    .sort_values(by=\"nunique_users\", ignore_index=True, ascending=False)\n",
    ")\n",
    "df_unique_users_per_item"
   ]
  },
  {
   "cell_type": "code",
   "execution_count": 20,
   "id": "02c43931-d6ce-4e49-81c3-c75ec8fa63ae",
   "metadata": {},
   "outputs": [
    {
     "data": {
      "image/png": "[encoded data removed]",
      "text/plain": [
       "<Figure size 640x480 with 1 Axes>"
      ]
     },
     "metadata": {},
     "output_type": "display_data"
    }
   ],
   "source": [
    "sns.boxplot(x=\"nunique_users\", data=df_unique_users_per_item)\n",
    "plt.show()"
   ]
  },
  {
   "cell_type": "markdown",
   "id": "79e9c1c9-e6f6-467d-a71f-0ff8859691c3",
   "metadata": {},
   "source": [
    "1. There are some apps that are being used by majority of the users\n",
    "1. There is no point in recommending such items it seems like these are utility or pre-installed apps that the user has\n",
    "1. We can skip these items altogether from recommendations\n"
   ]
  },
  {
   "cell_type": "code",
   "execution_count": 21,
   "id": "1515357d-5d08-43b6-a94d-4b23c30e1a4e",
   "metadata": {},
   "outputs": [
    {
     "data": {
      "image/png": "[encoded data removed]",
      "text/plain": [
       "<Figure size 640x480 with 1 Axes>"
      ]
     },
     "metadata": {},
     "output_type": "display_data"
    }
   ],
   "source": [
    "df_unique_users_per_item[\"percent_users\"] = (\n",
    "    df_unique_users_per_item[\"nunique_users\"] / df_app_usage[\"uid\"].nunique()\n",
    ")\n",
    "\n",
    "sns.boxplot(x=\"percent_users\", data=df_unique_users_per_item)\n",
    "plt.show()"
   ]
  },
  {
   "cell_type": "code",
   "execution_count": 22,
   "id": "50c88524-a7b8-4333-bae6-c080c8edf52b",
   "metadata": {},
   "outputs": [
    {
     "data": {
      "image/png": "[encoded data removed]",
      "text/plain": [
       "<Figure size 640x480 with 1 Axes>"
      ]
     },
     "metadata": {},
     "output_type": "display_data"
    }
   ],
   "source": [
    "plt.hist(df_app_usage[\"time_spent\"], bins=100)\n",
    "plt.show()"
   ]
  },
  {
   "cell_type": "code",
   "execution_count": 23,
   "id": "43b5b14f-d6cb-4b28-bcb3-8c54b8d507ee",
   "metadata": {},
   "outputs": [
    {
     "data": {
      "image/png": "[encoded data removed]",
      "text/plain": [
       "<Figure size 640x480 with 1 Axes>"
      ]
     },
     "metadata": {},
     "output_type": "display_data"
    }
   ],
   "source": [
    "sns.boxplot(x=\"time_spent\", data=df_app_usage)\n",
    "plt.show()"
   ]
  },
  {
   "cell_type": "markdown",
   "id": "2128455a-b70d-4cdd-8086-e4f6997cdabf",
   "metadata": {},
   "source": [
    "## unique users interacting on daily basis"
   ]
  },
  {
   "cell_type": "code",
   "execution_count": 24,
   "id": "6fd71b5d-1d14-475c-9cdf-ca50c5189d8a",
   "metadata": {},
   "outputs": [
    {
     "data": {
      "text/html": [
       "<div>\n",
       "<style scoped>\n",
       "    .dataframe tbody tr th:only-of-type {\n",
       "        vertical-align: middle;\n",
       "    }\n",
       "\n",
       "    .dataframe tbody tr th {\n",
       "        vertical-align: top;\n",
       "    }\n",
       "\n",
       "    .dataframe thead th {\n",
       "        text-align: right;\n",
       "    }\n",
       "</style>\n",
       "<table border=\"1\" class=\"dataframe\">\n",
       "  <thead>\n",
       "    <tr style=\"text-align: right;\">\n",
       "      <th></th>\n",
       "      <th>uid_count</th>\n",
       "    </tr>\n",
       "    <tr>\n",
       "      <th>app_use_date</th>\n",
       "      <th></th>\n",
       "    </tr>\n",
       "  </thead>\n",
       "  <tbody>\n",
       "    <tr>\n",
       "      <th>2022-07-25</th>\n",
       "      <td>181090</td>\n",
       "    </tr>\n",
       "    <tr>\n",
       "      <th>2022-07-26</th>\n",
       "      <td>188634</td>\n",
       "    </tr>\n",
       "    <tr>\n",
       "      <th>2022-07-27</th>\n",
       "      <td>190549</td>\n",
       "    </tr>\n",
       "    <tr>\n",
       "      <th>2022-07-28</th>\n",
       "      <td>192654</td>\n",
       "    </tr>\n",
       "    <tr>\n",
       "      <th>2022-07-29</th>\n",
       "      <td>194293</td>\n",
       "    </tr>\n",
       "    <tr>\n",
       "      <th>2022-07-30</th>\n",
       "      <td>197013</td>\n",
       "    </tr>\n",
       "    <tr>\n",
       "      <th>2022-07-31</th>\n",
       "      <td>200691</td>\n",
       "    </tr>\n",
       "  </tbody>\n",
       "</table>\n",
       "</div>"
      ],
      "text/plain": [
       "              uid_count\n",
       "app_use_date           \n",
       "2022-07-25       181090\n",
       "2022-07-26       188634\n",
       "2022-07-27       190549\n",
       "2022-07-28       192654\n",
       "2022-07-29       194293\n",
       "2022-07-30       197013\n",
       "2022-07-31       200691"
      ]
     },
     "execution_count": 24,
     "metadata": {},
     "output_type": "execute_result"
    }
   ],
   "source": [
    "df_app_usage.groupby(\"app_use_date\").agg(uid_count=(\"uid\", \"nunique\"))"
   ]
  },
  {
   "cell_type": "markdown",
   "id": "637990f5-eb2b-4391-aba2-8394b81efb8e",
   "metadata": {},
   "source": [
    "## unique items being interacted with on daily basis"
   ]
  },
  {
   "cell_type": "code",
   "execution_count": 25,
   "id": "3bc12d47-951e-44a3-83a6-038b63afbd30",
   "metadata": {},
   "outputs": [
    {
     "data": {
      "text/html": [
       "<div>\n",
       "<style scoped>\n",
       "    .dataframe tbody tr th:only-of-type {\n",
       "        vertical-align: middle;\n",
       "    }\n",
       "\n",
       "    .dataframe tbody tr th {\n",
       "        vertical-align: top;\n",
       "    }\n",
       "\n",
       "    .dataframe thead th {\n",
       "        text-align: right;\n",
       "    }\n",
       "</style>\n",
       "<table border=\"1\" class=\"dataframe\">\n",
       "  <thead>\n",
       "    <tr style=\"text-align: right;\">\n",
       "      <th></th>\n",
       "      <th>item_id_count</th>\n",
       "    </tr>\n",
       "    <tr>\n",
       "      <th>app_use_date</th>\n",
       "      <th></th>\n",
       "    </tr>\n",
       "  </thead>\n",
       "  <tbody>\n",
       "    <tr>\n",
       "      <th>2022-07-25</th>\n",
       "      <td>21518</td>\n",
       "    </tr>\n",
       "    <tr>\n",
       "      <th>2022-07-26</th>\n",
       "      <td>24033</td>\n",
       "    </tr>\n",
       "    <tr>\n",
       "      <th>2022-07-27</th>\n",
       "      <td>24514</td>\n",
       "    </tr>\n",
       "    <tr>\n",
       "      <th>2022-07-28</th>\n",
       "      <td>24592</td>\n",
       "    </tr>\n",
       "    <tr>\n",
       "      <th>2022-07-29</th>\n",
       "      <td>25041</td>\n",
       "    </tr>\n",
       "    <tr>\n",
       "      <th>2022-07-30</th>\n",
       "      <td>25408</td>\n",
       "    </tr>\n",
       "    <tr>\n",
       "      <th>2022-07-31</th>\n",
       "      <td>25874</td>\n",
       "    </tr>\n",
       "  </tbody>\n",
       "</table>\n",
       "</div>"
      ],
      "text/plain": [
       "              item_id_count\n",
       "app_use_date               \n",
       "2022-07-25            21518\n",
       "2022-07-26            24033\n",
       "2022-07-27            24514\n",
       "2022-07-28            24592\n",
       "2022-07-29            25041\n",
       "2022-07-30            25408\n",
       "2022-07-31            25874"
      ]
     },
     "execution_count": 25,
     "metadata": {},
     "output_type": "execute_result"
    }
   ],
   "source": [
    "df_app_usage.groupby(\"app_use_date\").agg(item_id_count=(\"item_id\", \"nunique\"))"
   ]
  },
  {
   "cell_type": "markdown",
   "id": "e65b5b30-811a-4a83-a292-fd3ff2dc953e",
   "metadata": {},
   "source": [
    "## median app_usage_time per day"
   ]
  },
  {
   "cell_type": "code",
   "execution_count": 26,
   "id": "2140d94d-5a51-4d05-9459-f3205411d1d5",
   "metadata": {},
   "outputs": [
    {
     "data": {
      "text/html": [
       "<div>\n",
       "<style scoped>\n",
       "    .dataframe tbody tr th:only-of-type {\n",
       "        vertical-align: middle;\n",
       "    }\n",
       "\n",
       "    .dataframe tbody tr th {\n",
       "        vertical-align: top;\n",
       "    }\n",
       "\n",
       "    .dataframe thead th {\n",
       "        text-align: right;\n",
       "    }\n",
       "</style>\n",
       "<table border=\"1\" class=\"dataframe\">\n",
       "  <thead>\n",
       "    <tr style=\"text-align: right;\">\n",
       "      <th></th>\n",
       "      <th>app_use_date</th>\n",
       "      <th>median_app_usage_time</th>\n",
       "    </tr>\n",
       "  </thead>\n",
       "  <tbody>\n",
       "    <tr>\n",
       "      <th>0</th>\n",
       "      <td>2022-07-25</td>\n",
       "      <td>91.712500</td>\n",
       "    </tr>\n",
       "    <tr>\n",
       "      <th>1</th>\n",
       "      <td>2022-07-26</td>\n",
       "      <td>81.669722</td>\n",
       "    </tr>\n",
       "    <tr>\n",
       "      <th>2</th>\n",
       "      <td>2022-07-27</td>\n",
       "      <td>81.571667</td>\n",
       "    </tr>\n",
       "    <tr>\n",
       "      <th>3</th>\n",
       "      <td>2022-07-28</td>\n",
       "      <td>80.899028</td>\n",
       "    </tr>\n",
       "    <tr>\n",
       "      <th>4</th>\n",
       "      <td>2022-07-29</td>\n",
       "      <td>81.363333</td>\n",
       "    </tr>\n",
       "    <tr>\n",
       "      <th>5</th>\n",
       "      <td>2022-07-30</td>\n",
       "      <td>80.815833</td>\n",
       "    </tr>\n",
       "    <tr>\n",
       "      <th>6</th>\n",
       "      <td>2022-07-31</td>\n",
       "      <td>80.933889</td>\n",
       "    </tr>\n",
       "  </tbody>\n",
       "</table>\n",
       "</div>"
      ],
      "text/plain": [
       "  app_use_date  median_app_usage_time\n",
       "0   2022-07-25              91.712500\n",
       "1   2022-07-26              81.669722\n",
       "2   2022-07-27              81.571667\n",
       "3   2022-07-28              80.899028\n",
       "4   2022-07-29              81.363333\n",
       "5   2022-07-30              80.815833\n",
       "6   2022-07-31              80.933889"
      ]
     },
     "execution_count": 26,
     "metadata": {},
     "output_type": "execute_result"
    }
   ],
   "source": [
    "df_app_usage.groupby([\"app_use_date\"], as_index=False).agg(\n",
    "    median_app_usage_time=(\"time_spent\", \"median\")\n",
    ")"
   ]
  },
  {
   "cell_type": "markdown",
   "id": "b44d40db-10d4-4fe8-af8d-1ea21f8aabba",
   "metadata": {},
   "source": [
    "## mean app_usage_time per day"
   ]
  },
  {
   "cell_type": "code",
   "execution_count": 27,
   "id": "7a313adc-2a30-4345-87f5-1d6e1e322997",
   "metadata": {},
   "outputs": [
    {
     "data": {
      "text/html": [
       "<div>\n",
       "<style scoped>\n",
       "    .dataframe tbody tr th:only-of-type {\n",
       "        vertical-align: middle;\n",
       "    }\n",
       "\n",
       "    .dataframe tbody tr th {\n",
       "        vertical-align: top;\n",
       "    }\n",
       "\n",
       "    .dataframe thead th {\n",
       "        text-align: right;\n",
       "    }\n",
       "</style>\n",
       "<table border=\"1\" class=\"dataframe\">\n",
       "  <thead>\n",
       "    <tr style=\"text-align: right;\">\n",
       "      <th></th>\n",
       "      <th>app_use_date</th>\n",
       "      <th>mean_app_usage_time</th>\n",
       "    </tr>\n",
       "  </thead>\n",
       "  <tbody>\n",
       "    <tr>\n",
       "      <th>0</th>\n",
       "      <td>2022-07-25</td>\n",
       "      <td>365.414905</td>\n",
       "    </tr>\n",
       "    <tr>\n",
       "      <th>1</th>\n",
       "      <td>2022-07-26</td>\n",
       "      <td>347.259845</td>\n",
       "    </tr>\n",
       "    <tr>\n",
       "      <th>2</th>\n",
       "      <td>2022-07-27</td>\n",
       "      <td>349.029364</td>\n",
       "    </tr>\n",
       "    <tr>\n",
       "      <th>3</th>\n",
       "      <td>2022-07-28</td>\n",
       "      <td>348.774830</td>\n",
       "    </tr>\n",
       "    <tr>\n",
       "      <th>4</th>\n",
       "      <td>2022-07-29</td>\n",
       "      <td>348.856208</td>\n",
       "    </tr>\n",
       "    <tr>\n",
       "      <th>5</th>\n",
       "      <td>2022-07-30</td>\n",
       "      <td>349.392161</td>\n",
       "    </tr>\n",
       "    <tr>\n",
       "      <th>6</th>\n",
       "      <td>2022-07-31</td>\n",
       "      <td>350.525219</td>\n",
       "    </tr>\n",
       "  </tbody>\n",
       "</table>\n",
       "</div>"
      ],
      "text/plain": [
       "  app_use_date  mean_app_usage_time\n",
       "0   2022-07-25           365.414905\n",
       "1   2022-07-26           347.259845\n",
       "2   2022-07-27           349.029364\n",
       "3   2022-07-28           348.774830\n",
       "4   2022-07-29           348.856208\n",
       "5   2022-07-30           349.392161\n",
       "6   2022-07-31           350.525219"
      ]
     },
     "execution_count": 27,
     "metadata": {},
     "output_type": "execute_result"
    }
   ],
   "source": [
    "df_app_usage.groupby([\"app_use_date\"], as_index=False).agg(\n",
    "    mean_app_usage_time=(\"time_spent\", \"mean\")\n",
    ")"
   ]
  },
  {
   "cell_type": "markdown",
   "id": "05ee1f85-fefa-447d-9a8c-9491d5c8816f",
   "metadata": {},
   "source": [
    "## total interactions per day"
   ]
  },
  {
   "cell_type": "code",
   "execution_count": 28,
   "id": "6e5de81e-0bda-4791-8285-4bb57d736ba9",
   "metadata": {},
   "outputs": [
    {
     "data": {
      "text/html": [
       "<div>\n",
       "<style scoped>\n",
       "    .dataframe tbody tr th:only-of-type {\n",
       "        vertical-align: middle;\n",
       "    }\n",
       "\n",
       "    .dataframe tbody tr th {\n",
       "        vertical-align: top;\n",
       "    }\n",
       "\n",
       "    .dataframe thead th {\n",
       "        text-align: right;\n",
       "    }\n",
       "</style>\n",
       "<table border=\"1\" class=\"dataframe\">\n",
       "  <thead>\n",
       "    <tr style=\"text-align: right;\">\n",
       "      <th></th>\n",
       "      <th>app_use_date</th>\n",
       "      <th>interactions</th>\n",
       "    </tr>\n",
       "  </thead>\n",
       "  <tbody>\n",
       "    <tr>\n",
       "      <th>0</th>\n",
       "      <td>2022-07-25</td>\n",
       "      <td>925491</td>\n",
       "    </tr>\n",
       "    <tr>\n",
       "      <th>1</th>\n",
       "      <td>2022-07-26</td>\n",
       "      <td>1067193</td>\n",
       "    </tr>\n",
       "    <tr>\n",
       "      <th>2</th>\n",
       "      <td>2022-07-27</td>\n",
       "      <td>1078545</td>\n",
       "    </tr>\n",
       "    <tr>\n",
       "      <th>3</th>\n",
       "      <td>2022-07-28</td>\n",
       "      <td>1092174</td>\n",
       "    </tr>\n",
       "    <tr>\n",
       "      <th>4</th>\n",
       "      <td>2022-07-29</td>\n",
       "      <td>1105597</td>\n",
       "    </tr>\n",
       "    <tr>\n",
       "      <th>5</th>\n",
       "      <td>2022-07-30</td>\n",
       "      <td>1132945</td>\n",
       "    </tr>\n",
       "    <tr>\n",
       "      <th>6</th>\n",
       "      <td>2022-07-31</td>\n",
       "      <td>1167704</td>\n",
       "    </tr>\n",
       "  </tbody>\n",
       "</table>\n",
       "</div>"
      ],
      "text/plain": [
       "  app_use_date  interactions\n",
       "0   2022-07-25        925491\n",
       "1   2022-07-26       1067193\n",
       "2   2022-07-27       1078545\n",
       "3   2022-07-28       1092174\n",
       "4   2022-07-29       1105597\n",
       "5   2022-07-30       1132945\n",
       "6   2022-07-31       1167704"
      ]
     },
     "execution_count": 28,
     "metadata": {},
     "output_type": "execute_result"
    }
   ],
   "source": [
    "df_app_usage.groupby(\"app_use_date\", as_index=False).agg(\n",
    "    interactions=(\"item_id\", \"count\")\n",
    ")"
   ]
  },
  {
   "cell_type": "markdown",
   "id": "19eef9a8-ec46-4dd9-9e77-3abdf42e3c52",
   "metadata": {},
   "source": [
    "# app_metadata"
   ]
  },
  {
   "cell_type": "code",
   "execution_count": 29,
   "id": "7a16aa74-792f-4851-8252-8b59658cb163",
   "metadata": {},
   "outputs": [
    {
     "name": "stdout",
     "output_type": "stream",
     "text": [
      "  102753 ./data/app_metadata.csv\n"
     ]
    }
   ],
   "source": [
    "! wc -l ./data/app_metadata.csv"
   ]
  },
  {
   "cell_type": "code",
   "execution_count": 30,
   "id": "9fbc10fe-a314-4656-86eb-1431b4c3d161",
   "metadata": {},
   "outputs": [],
   "source": [
    "df_app_meta = pd.read_csv(\n",
    "    \"./data/app_metadata.csv\",\n",
    ")"
   ]
  },
  {
   "cell_type": "code",
   "execution_count": 31,
   "id": "ce714c2c-afd6-456d-9b3b-a02bbb2552fb",
   "metadata": {},
   "outputs": [
    {
     "data": {
      "text/html": [
       "<div>\n",
       "<style scoped>\n",
       "    .dataframe tbody tr th:only-of-type {\n",
       "        vertical-align: middle;\n",
       "    }\n",
       "\n",
       "    .dataframe tbody tr th {\n",
       "        vertical-align: top;\n",
       "    }\n",
       "\n",
       "    .dataframe thead th {\n",
       "        text-align: right;\n",
       "    }\n",
       "</style>\n",
       "<table border=\"1\" class=\"dataframe\">\n",
       "  <thead>\n",
       "    <tr style=\"text-align: right;\">\n",
       "      <th></th>\n",
       "      <th>item_id</th>\n",
       "      <th>category</th>\n",
       "      <th>description</th>\n",
       "    </tr>\n",
       "  </thead>\n",
       "  <tbody>\n",
       "    <tr>\n",
       "      <th>0</th>\n",
       "      <td>593676</td>\n",
       "      <td>HEALTH_AND_FITNESS</td>\n",
       "      <td>Abs Workout, designed by professional fitness ...</td>\n",
       "    </tr>\n",
       "    <tr>\n",
       "      <th>1</th>\n",
       "      <td>601235</td>\n",
       "      <td>GAME</td>\n",
       "      <td>The best building game on android is free to d...</td>\n",
       "    </tr>\n",
       "    <tr>\n",
       "      <th>2</th>\n",
       "      <td>860079</td>\n",
       "      <td>COMMUNICATION</td>\n",
       "      <td>Tamil Actress Stickers app has 200 + Tamil her...</td>\n",
       "    </tr>\n",
       "    <tr>\n",
       "      <th>3</th>\n",
       "      <td>64855</td>\n",
       "      <td>VIDEO_PLAYERS</td>\n",
       "      <td>The simplest VLC Remote you'll ever find. Peri...</td>\n",
       "    </tr>\n",
       "    <tr>\n",
       "      <th>4</th>\n",
       "      <td>597756</td>\n",
       "      <td>MEDICAL</td>\n",
       "      <td>This is the official mobile app of the Nationa...</td>\n",
       "    </tr>\n",
       "    <tr>\n",
       "      <th>...</th>\n",
       "      <td>...</td>\n",
       "      <td>...</td>\n",
       "      <td>...</td>\n",
       "    </tr>\n",
       "    <tr>\n",
       "      <th>98594</th>\n",
       "      <td>683377</td>\n",
       "      <td>TOOLS</td>\n",
       "      <td>endoscope app for android an app to connect wi...</td>\n",
       "    </tr>\n",
       "    <tr>\n",
       "      <th>98595</th>\n",
       "      <td>862905</td>\n",
       "      <td>FINANCE</td>\n",
       "      <td>Acerca de esta app&lt;br&gt;La App OCA está pensada ...</td>\n",
       "    </tr>\n",
       "    <tr>\n",
       "      <th>98596</th>\n",
       "      <td>165878</td>\n",
       "      <td>MUSIC_AND_AUDIO</td>\n",
       "      <td>This app provides free downloading of audio sh...</td>\n",
       "    </tr>\n",
       "    <tr>\n",
       "      <th>98597</th>\n",
       "      <td>683417</td>\n",
       "      <td>PHOTOGRAPHY</td>\n",
       "      <td>&lt;b&gt;Water Paint : Colour Effect&lt;/b&gt;&lt;br&gt;&lt;br&gt;Want...</td>\n",
       "    </tr>\n",
       "    <tr>\n",
       "      <th>98598</th>\n",
       "      <td>703224</td>\n",
       "      <td>GAME</td>\n",
       "      <td>DIAMOND CRUSH with spectacular graphics and ex...</td>\n",
       "    </tr>\n",
       "  </tbody>\n",
       "</table>\n",
       "<p>98599 rows × 3 columns</p>\n",
       "</div>"
      ],
      "text/plain": [
       "      item_id            category  \\\n",
       "0      593676  HEALTH_AND_FITNESS   \n",
       "1      601235                GAME   \n",
       "2      860079       COMMUNICATION   \n",
       "3       64855       VIDEO_PLAYERS   \n",
       "4      597756             MEDICAL   \n",
       "...       ...                 ...   \n",
       "98594  683377               TOOLS   \n",
       "98595  862905             FINANCE   \n",
       "98596  165878     MUSIC_AND_AUDIO   \n",
       "98597  683417         PHOTOGRAPHY   \n",
       "98598  703224                GAME   \n",
       "\n",
       "                                             description  \n",
       "0      Abs Workout, designed by professional fitness ...  \n",
       "1      The best building game on android is free to d...  \n",
       "2      Tamil Actress Stickers app has 200 + Tamil her...  \n",
       "3      The simplest VLC Remote you'll ever find. Peri...  \n",
       "4      This is the official mobile app of the Nationa...  \n",
       "...                                                  ...  \n",
       "98594  endoscope app for android an app to connect wi...  \n",
       "98595  Acerca de esta app<br>La App OCA está pensada ...  \n",
       "98596  This app provides free downloading of audio sh...  \n",
       "98597  <b>Water Paint : Colour Effect</b><br><br>Want...  \n",
       "98598  DIAMOND CRUSH with spectacular graphics and ex...  \n",
       "\n",
       "[98599 rows x 3 columns]"
      ]
     },
     "execution_count": 31,
     "metadata": {},
     "output_type": "execute_result"
    }
   ],
   "source": [
    "df_app_meta"
   ]
  },
  {
   "cell_type": "code",
   "execution_count": 32,
   "id": "d59b8aee-99eb-48e1-8a1c-99757cddcda4",
   "metadata": {},
   "outputs": [
    {
     "data": {
      "text/plain": [
       "item_id        object\n",
       "category       object\n",
       "description    object\n",
       "dtype: object"
      ]
     },
     "execution_count": 32,
     "metadata": {},
     "output_type": "execute_result"
    }
   ],
   "source": [
    "df_app_meta.dtypes"
   ]
  },
  {
   "cell_type": "markdown",
   "id": "94940e3d-786d-4d3d-9626-46257ef1e883",
   "metadata": {},
   "source": [
    "## dirty entries"
   ]
  },
  {
   "cell_type": "code",
   "execution_count": 33,
   "id": "2d2fc145-111c-4bdf-b0b5-816151e8814a",
   "metadata": {},
   "outputs": [
    {
     "data": {
      "text/html": [
       "<div>\n",
       "<style scoped>\n",
       "    .dataframe tbody tr th:only-of-type {\n",
       "        vertical-align: middle;\n",
       "    }\n",
       "\n",
       "    .dataframe tbody tr th {\n",
       "        vertical-align: top;\n",
       "    }\n",
       "\n",
       "    .dataframe thead th {\n",
       "        text-align: right;\n",
       "    }\n",
       "</style>\n",
       "<table border=\"1\" class=\"dataframe\">\n",
       "  <thead>\n",
       "    <tr style=\"text-align: right;\">\n",
       "      <th></th>\n",
       "      <th>item_id</th>\n",
       "      <th>category</th>\n",
       "      <th>description</th>\n",
       "    </tr>\n",
       "  </thead>\n",
       "  <tbody>\n",
       "    <tr>\n",
       "      <th>1009</th>\n",
       "      <td>So</td>\n",
       "      <td>want a faster video downloader</td>\n",
       "      <td>the latest short-form videos</td>\n",
       "    </tr>\n",
       "    <tr>\n",
       "      <th>1010</th>\n",
       "      <td>- That b!ggest video site on earth</td>\n",
       "      <td>YouTube</td>\n",
       "      <td>Instagram</td>\n",
       "    </tr>\n",
       "    <tr>\n",
       "      <th>1011</th>\n",
       "      <td>- All formats supported - MP4</td>\n",
       "      <td>MP3</td>\n",
       "      <td>MAV</td>\n",
       "    </tr>\n",
       "    <tr>\n",
       "      <th>1012</th>\n",
       "      <td>WMV</td>\n",
       "      <td>APK</td>\n",
       "      <td>etc.</td>\n",
       "    </tr>\n",
       "    <tr>\n",
       "      <th>1013</th>\n",
       "      <td>With the same video resolution</td>\n",
       "      <td>improves video clarity by 30 percent</td>\n",
       "      <td>plus free panoramic sound effects.</td>\n",
       "    </tr>\n",
       "    <tr>\n",
       "      <th>2075</th>\n",
       "      <td>Intelligent Cloud Engine reads everything on y...</td>\n",
       "      <td>idle storage and detect useless large files f...</td>\n",
       "      <td>thus releasing plenty of free space on your d...</td>\n",
       "    </tr>\n",
       "    <tr>\n",
       "      <th>2076</th>\n",
       "      <td>By cleaning unnecessary processes and apps whi...</td>\n",
       "      <td>the memory booster of Multi Clean can free up...</td>\n",
       "      <td>which also saves much more battery power. Wit...</td>\n",
       "    </tr>\n",
       "    <tr>\n",
       "      <th>2077</th>\n",
       "      <td>This cleaner has an accelerator which can dete...</td>\n",
       "      <td>which and cause overheating. By using the mem...</td>\n",
       "      <td>it can cool down your Android device super-fast.</td>\n",
       "    </tr>\n",
       "    <tr>\n",
       "      <th>22874</th>\n",
       "      <td>Waterfall Live Wallpaper – beautiful free live...</td>\n",
       "      <td>set of 9 HD backgrounds</td>\n",
       "      <td>tons of settings and much more.</td>\n",
       "    </tr>\n",
       "    <tr>\n",
       "      <th>22875</th>\n",
       "      <td>* Suitable for 99% mobile phone devices like S...</td>\n",
       "      <td>LG</td>\n",
       "      <td>Motorola</td>\n",
       "    </tr>\n",
       "    <tr>\n",
       "      <th>22876</th>\n",
       "      <td>This live wallpaper has been tested on latest ...</td>\n",
       "      <td>Samsung Galaxy S4</td>\n",
       "      <td>S5</td>\n",
       "    </tr>\n",
       "    <tr>\n",
       "      <th>22877</th>\n",
       "      <td>* This app is not affiliated with or endorsed ...</td>\n",
       "      <td>LG</td>\n",
       "      <td>Motorola</td>\n",
       "    </tr>\n",
       "    <tr>\n",
       "      <th>22878</th>\n",
       "      <td>If you have any query regarding Icon</td>\n",
       "      <td>Screenshot</td>\n",
       "      <td>background or any graphics then Waterfall liv...</td>\n",
       "    </tr>\n",
       "    <tr>\n",
       "      <th>30050</th>\n",
       "      <td>Create Your DVD Movie Collection: Play The Dow...</td>\n",
       "      <td>Home Theater</td>\n",
       "      <td>Smartphone or Television. We Also Provide The...</td>\n",
       "    </tr>\n",
       "    <tr>\n",
       "      <th>44848</th>\n",
       "      <td>~ Rotate</td>\n",
       "      <td>scale</td>\n",
       "      <td>zoom in</td>\n",
       "    </tr>\n",
       "    <tr>\n",
       "      <th>44849</th>\n",
       "      <td>~ Share your images via WhatsApp</td>\n",
       "      <td>Telegram</td>\n",
       "      <td>Line</td>\n",
       "    </tr>\n",
       "    <tr>\n",
       "      <th>48093</th>\n",
       "      <td>&gt; Test match mode featuring ‘mini-innings’ whe...</td>\n",
       "      <td>12</td>\n",
       "      <td>15 over’s per day</td>\n",
       "    </tr>\n",
       "  </tbody>\n",
       "</table>\n",
       "</div>"
      ],
      "text/plain": [
       "                                                 item_id  \\\n",
       "1009                                                  So   \n",
       "1010                  - That b!ggest video site on earth   \n",
       "1011                       - All formats supported - MP4   \n",
       "1012                                                 WMV   \n",
       "1013                      With the same video resolution   \n",
       "2075   Intelligent Cloud Engine reads everything on y...   \n",
       "2076   By cleaning unnecessary processes and apps whi...   \n",
       "2077   This cleaner has an accelerator which can dete...   \n",
       "22874  Waterfall Live Wallpaper – beautiful free live...   \n",
       "22875  * Suitable for 99% mobile phone devices like S...   \n",
       "22876  This live wallpaper has been tested on latest ...   \n",
       "22877  * This app is not affiliated with or endorsed ...   \n",
       "22878               If you have any query regarding Icon   \n",
       "30050  Create Your DVD Movie Collection: Play The Dow...   \n",
       "44848                                           ~ Rotate   \n",
       "44849                   ~ Share your images via WhatsApp   \n",
       "48093  > Test match mode featuring ‘mini-innings’ whe...   \n",
       "\n",
       "                                                category  \\\n",
       "1009                      want a faster video downloader   \n",
       "1010                                             YouTube   \n",
       "1011                                                 MP3   \n",
       "1012                                                 APK   \n",
       "1013                improves video clarity by 30 percent   \n",
       "2075    idle storage and detect useless large files f...   \n",
       "2076    the memory booster of Multi Clean can free up...   \n",
       "2077    which and cause overheating. By using the mem...   \n",
       "22874                            set of 9 HD backgrounds   \n",
       "22875                                                 LG   \n",
       "22876                                  Samsung Galaxy S4   \n",
       "22877                                                 LG   \n",
       "22878                                         Screenshot   \n",
       "30050                                       Home Theater   \n",
       "44848                                              scale   \n",
       "44849                                           Telegram   \n",
       "48093                                                 12   \n",
       "\n",
       "                                             description  \n",
       "1009                        the latest short-form videos  \n",
       "1010                                           Instagram  \n",
       "1011                                                 MAV  \n",
       "1012                                                etc.  \n",
       "1013                  plus free panoramic sound effects.  \n",
       "2075    thus releasing plenty of free space on your d...  \n",
       "2076    which also saves much more battery power. Wit...  \n",
       "2077    it can cool down your Android device super-fast.  \n",
       "22874                    tons of settings and much more.  \n",
       "22875                                           Motorola  \n",
       "22876                                                 S5  \n",
       "22877                                           Motorola  \n",
       "22878   background or any graphics then Waterfall liv...  \n",
       "30050   Smartphone or Television. We Also Provide The...  \n",
       "44848                                            zoom in  \n",
       "44849                                               Line  \n",
       "48093                                  15 over’s per day  "
      ]
     },
     "execution_count": 33,
     "metadata": {},
     "output_type": "execute_result"
    }
   ],
   "source": [
    "df_app_meta[~df_app_meta[\"item_id\"].apply(lambda x: x.isdigit())]"
   ]
  },
  {
   "cell_type": "markdown",
   "id": "fb333ee2-e981-4eb5-9e1c-0b7ad9f177b3",
   "metadata": {},
   "source": [
    "## cleaning dirty entries"
   ]
  },
  {
   "cell_type": "code",
   "execution_count": 34,
   "id": "4d1c27ab-3254-4a78-9898-f5ed808cf6c9",
   "metadata": {},
   "outputs": [],
   "source": [
    "clean_ix = df_app_meta[df_app_meta[\"item_id\"].apply(lambda x: x.isdigit())].index\n",
    "\n",
    "df_app_meta = df_app_meta.loc[clean_ix, :]\n",
    "df_app_meta[\"item_id\"] = df_app_meta[\"item_id\"].astype(int)"
   ]
  },
  {
   "cell_type": "code",
   "execution_count": 35,
   "id": "42bc6b46-c27e-4427-accd-64103b1be391",
   "metadata": {},
   "outputs": [],
   "source": [
    "df_app_meta = df_app_meta.reset_index(drop=True)"
   ]
  },
  {
   "cell_type": "code",
   "execution_count": 36,
   "id": "e500834d-fb02-4ee6-915e-925b5da69b29",
   "metadata": {},
   "outputs": [
    {
     "data": {
      "text/plain": [
       "item_id         int64\n",
       "category       object\n",
       "description    object\n",
       "dtype: object"
      ]
     },
     "execution_count": 36,
     "metadata": {},
     "output_type": "execute_result"
    }
   ],
   "source": [
    "df_app_meta.dtypes"
   ]
  },
  {
   "cell_type": "markdown",
   "id": "65814666-8611-47f8-8dfb-28823356e3c6",
   "metadata": {},
   "source": [
    "## check if one app belongs to multiple categories"
   ]
  },
  {
   "cell_type": "code",
   "execution_count": 37,
   "id": "255e7463-edaa-4974-9083-410ae51ce3a7",
   "metadata": {},
   "outputs": [
    {
     "data": {
      "text/plain": [
       "True"
      ]
     },
     "execution_count": 37,
     "metadata": {},
     "output_type": "execute_result"
    }
   ],
   "source": [
    "df_app_meta[\"item_id\"].nunique() == df_app_meta.shape[0]"
   ]
  },
  {
   "cell_type": "markdown",
   "id": "316f8851-7f9a-4c9c-856d-0cd2234cd240",
   "metadata": {},
   "source": [
    "one app belongs to only one category"
   ]
  },
  {
   "cell_type": "markdown",
   "id": "99721800-0fff-40e0-8815-164b9d5405f6",
   "metadata": {},
   "source": [
    "## check number of categories"
   ]
  },
  {
   "cell_type": "code",
   "execution_count": 38,
   "id": "8f359b5b-ab49-4750-a7e2-b98dfa40521a",
   "metadata": {},
   "outputs": [
    {
     "data": {
      "text/plain": [
       "37"
      ]
     },
     "execution_count": 38,
     "metadata": {},
     "output_type": "execute_result"
    }
   ],
   "source": [
    "df_app_meta[\"category\"].nunique()"
   ]
  },
  {
   "cell_type": "markdown",
   "id": "f6540139-77d6-4255-b73c-16e84e01beb3",
   "metadata": {},
   "source": [
    "## check number of items intersection with item inventory"
   ]
  },
  {
   "cell_type": "code",
   "execution_count": 39,
   "id": "3dcdc36e-8f75-4053-92ea-2b0fa3cceaf7",
   "metadata": {},
   "outputs": [
    {
     "data": {
      "text/plain": [
       "50679"
      ]
     },
     "execution_count": 39,
     "metadata": {},
     "output_type": "execute_result"
    }
   ],
   "source": [
    "df_app_usage[\"item_id\"].nunique()"
   ]
  },
  {
   "cell_type": "code",
   "execution_count": 40,
   "id": "0044ce2a-5a5c-455b-b43e-9779c959feaa",
   "metadata": {},
   "outputs": [
    {
     "data": {
      "text/plain": [
       "50640"
      ]
     },
     "execution_count": 40,
     "metadata": {},
     "output_type": "execute_result"
    }
   ],
   "source": [
    "len(set(df_app_usage[\"item_id\"]).intersection(set(df_app_meta[\"item_id\"])))"
   ]
  },
  {
   "cell_type": "code",
   "execution_count": 41,
   "id": "e9b85038-4696-490a-97bb-fa53a7b0816e",
   "metadata": {},
   "outputs": [
    {
     "data": {
      "text/plain": [
       "39"
      ]
     },
     "execution_count": 41,
     "metadata": {},
     "output_type": "execute_result"
    }
   ],
   "source": [
    "len(set(df_app_usage[\"item_id\"]).difference(set(df_app_meta[\"item_id\"])))"
   ]
  },
  {
   "cell_type": "code",
   "execution_count": 42,
   "id": "d058d254-d35d-42b3-9efc-97caf90625d6",
   "metadata": {},
   "outputs": [],
   "source": [
    "apps_in_usage_not_in_meta = list(\n",
    "    set(df_app_usage[\"item_id\"]).difference(set(df_app_meta[\"item_id\"]))\n",
    ")"
   ]
  },
  {
   "cell_type": "code",
   "execution_count": 43,
   "id": "922fd606-45d5-4c5f-9d8a-d2bb76885d1c",
   "metadata": {},
   "outputs": [
    {
     "data": {
      "text/plain": [
       "47942"
      ]
     },
     "execution_count": 43,
     "metadata": {},
     "output_type": "execute_result"
    }
   ],
   "source": [
    "len(set(df_app_meta[\"item_id\"]).difference(set(df_app_usage[\"item_id\"])))"
   ]
  },
  {
   "cell_type": "code",
   "execution_count": 44,
   "id": "397eed55-7da3-4645-9da0-5128ac8798fc",
   "metadata": {},
   "outputs": [
    {
     "data": {
      "text/plain": [
       "50679"
      ]
     },
     "execution_count": 44,
     "metadata": {},
     "output_type": "execute_result"
    }
   ],
   "source": [
    "50679"
   ]
  },
  {
   "cell_type": "markdown",
   "id": "9c06c2a2-a10d-4982-86bc-932d4e2b36d3",
   "metadata": {},
   "source": [
    "We have metadata of all the item_ids in interactions table"
   ]
  },
  {
   "cell_type": "markdown",
   "id": "ee9746b0-879a-4a14-885a-76462085b1d9",
   "metadata": {},
   "source": [
    "## meta of apps which are in app_usage but not in app_metadata"
   ]
  },
  {
   "cell_type": "code",
   "execution_count": 45,
   "id": "3b68ad58-6918-4707-9c9a-e77afeef2d35",
   "metadata": {},
   "outputs": [
    {
     "data": {
      "text/html": [
       "<div>\n",
       "<style scoped>\n",
       "    .dataframe tbody tr th:only-of-type {\n",
       "        vertical-align: middle;\n",
       "    }\n",
       "\n",
       "    .dataframe tbody tr th {\n",
       "        vertical-align: top;\n",
       "    }\n",
       "\n",
       "    .dataframe thead th {\n",
       "        text-align: right;\n",
       "    }\n",
       "</style>\n",
       "<table border=\"1\" class=\"dataframe\">\n",
       "  <thead>\n",
       "    <tr style=\"text-align: right;\">\n",
       "      <th></th>\n",
       "      <th>item_id</th>\n",
       "      <th>category</th>\n",
       "      <th>description</th>\n",
       "    </tr>\n",
       "  </thead>\n",
       "  <tbody>\n",
       "  </tbody>\n",
       "</table>\n",
       "</div>"
      ],
      "text/plain": [
       "Empty DataFrame\n",
       "Columns: [item_id, category, description]\n",
       "Index: []"
      ]
     },
     "execution_count": 45,
     "metadata": {},
     "output_type": "execute_result"
    }
   ],
   "source": [
    "df_app_meta[df_app_meta[\"item_id\"].isin(apps_in_usage_not_in_meta)]"
   ]
  },
  {
   "cell_type": "markdown",
   "id": "0b26570e-4dff-405d-aec5-fc1507d8699f",
   "metadata": {},
   "source": [
    "## meta of apps which are additional and not present in app_usage"
   ]
  },
  {
   "cell_type": "code",
   "execution_count": 46,
   "id": "2ad727ce-19a1-4966-bd73-239da28bd9f6",
   "metadata": {},
   "outputs": [
    {
     "data": {
      "text/html": [
       "<div>\n",
       "<style scoped>\n",
       "    .dataframe tbody tr th:only-of-type {\n",
       "        vertical-align: middle;\n",
       "    }\n",
       "\n",
       "    .dataframe tbody tr th {\n",
       "        vertical-align: top;\n",
       "    }\n",
       "\n",
       "    .dataframe thead th {\n",
       "        text-align: right;\n",
       "    }\n",
       "</style>\n",
       "<table border=\"1\" class=\"dataframe\">\n",
       "  <thead>\n",
       "    <tr style=\"text-align: right;\">\n",
       "      <th></th>\n",
       "      <th>item_id</th>\n",
       "      <th>category</th>\n",
       "      <th>description</th>\n",
       "    </tr>\n",
       "  </thead>\n",
       "  <tbody>\n",
       "    <tr>\n",
       "      <th>0</th>\n",
       "      <td>593676</td>\n",
       "      <td>HEALTH_AND_FITNESS</td>\n",
       "      <td>Abs Workout, designed by professional fitness ...</td>\n",
       "    </tr>\n",
       "    <tr>\n",
       "      <th>2</th>\n",
       "      <td>860079</td>\n",
       "      <td>COMMUNICATION</td>\n",
       "      <td>Tamil Actress Stickers app has 200 + Tamil her...</td>\n",
       "    </tr>\n",
       "    <tr>\n",
       "      <th>3</th>\n",
       "      <td>64855</td>\n",
       "      <td>VIDEO_PLAYERS</td>\n",
       "      <td>The simplest VLC Remote you'll ever find. Peri...</td>\n",
       "    </tr>\n",
       "    <tr>\n",
       "      <th>5</th>\n",
       "      <td>824740</td>\n",
       "      <td>BUSINESS</td>\n",
       "      <td>Agni provides online recharge facility for mob...</td>\n",
       "    </tr>\n",
       "    <tr>\n",
       "      <th>6</th>\n",
       "      <td>64866</td>\n",
       "      <td>PRODUCTIVITY</td>\n",
       "      <td>\"Secret video recording camera is a spy camera...</td>\n",
       "    </tr>\n",
       "    <tr>\n",
       "      <th>...</th>\n",
       "      <td>...</td>\n",
       "      <td>...</td>\n",
       "      <td>...</td>\n",
       "    </tr>\n",
       "    <tr>\n",
       "      <th>98576</th>\n",
       "      <td>683373</td>\n",
       "      <td>COMMUNICATION</td>\n",
       "      <td>This tool will read caller name and sms conten...</td>\n",
       "    </tr>\n",
       "    <tr>\n",
       "      <th>98577</th>\n",
       "      <td>683377</td>\n",
       "      <td>TOOLS</td>\n",
       "      <td>endoscope app for android an app to connect wi...</td>\n",
       "    </tr>\n",
       "    <tr>\n",
       "      <th>98578</th>\n",
       "      <td>862905</td>\n",
       "      <td>FINANCE</td>\n",
       "      <td>Acerca de esta app&lt;br&gt;La App OCA está pensada ...</td>\n",
       "    </tr>\n",
       "    <tr>\n",
       "      <th>98580</th>\n",
       "      <td>683417</td>\n",
       "      <td>PHOTOGRAPHY</td>\n",
       "      <td>&lt;b&gt;Water Paint : Colour Effect&lt;/b&gt;&lt;br&gt;&lt;br&gt;Want...</td>\n",
       "    </tr>\n",
       "    <tr>\n",
       "      <th>98581</th>\n",
       "      <td>703224</td>\n",
       "      <td>GAME</td>\n",
       "      <td>DIAMOND CRUSH with spectacular graphics and ex...</td>\n",
       "    </tr>\n",
       "  </tbody>\n",
       "</table>\n",
       "<p>47942 rows × 3 columns</p>\n",
       "</div>"
      ],
      "text/plain": [
       "       item_id            category  \\\n",
       "0       593676  HEALTH_AND_FITNESS   \n",
       "2       860079       COMMUNICATION   \n",
       "3        64855       VIDEO_PLAYERS   \n",
       "5       824740            BUSINESS   \n",
       "6        64866        PRODUCTIVITY   \n",
       "...        ...                 ...   \n",
       "98576   683373       COMMUNICATION   \n",
       "98577   683377               TOOLS   \n",
       "98578   862905             FINANCE   \n",
       "98580   683417         PHOTOGRAPHY   \n",
       "98581   703224                GAME   \n",
       "\n",
       "                                             description  \n",
       "0      Abs Workout, designed by professional fitness ...  \n",
       "2      Tamil Actress Stickers app has 200 + Tamil her...  \n",
       "3      The simplest VLC Remote you'll ever find. Peri...  \n",
       "5      Agni provides online recharge facility for mob...  \n",
       "6      \"Secret video recording camera is a spy camera...  \n",
       "...                                                  ...  \n",
       "98576  This tool will read caller name and sms conten...  \n",
       "98577  endoscope app for android an app to connect wi...  \n",
       "98578  Acerca de esta app<br>La App OCA está pensada ...  \n",
       "98580  <b>Water Paint : Colour Effect</b><br><br>Want...  \n",
       "98581  DIAMOND CRUSH with spectacular graphics and ex...  \n",
       "\n",
       "[47942 rows x 3 columns]"
      ]
     },
     "execution_count": 46,
     "metadata": {},
     "output_type": "execute_result"
    }
   ],
   "source": [
    "df_app_meta[~df_app_meta[\"item_id\"].isin(set(df_app_usage[\"item_id\"].tolist()))]"
   ]
  },
  {
   "cell_type": "markdown",
   "id": "60ee975c-6193-4699-aafe-9c3f707cf3a0",
   "metadata": {},
   "source": [
    "## item_id and meta information of apps which are in app_usage table"
   ]
  },
  {
   "cell_type": "code",
   "execution_count": 47,
   "id": "0f7b6f32-1160-4353-84ba-c04647b39a88",
   "metadata": {},
   "outputs": [
    {
     "data": {
      "text/html": [
       "<div>\n",
       "<style scoped>\n",
       "    .dataframe tbody tr th:only-of-type {\n",
       "        vertical-align: middle;\n",
       "    }\n",
       "\n",
       "    .dataframe tbody tr th {\n",
       "        vertical-align: top;\n",
       "    }\n",
       "\n",
       "    .dataframe thead th {\n",
       "        text-align: right;\n",
       "    }\n",
       "</style>\n",
       "<table border=\"1\" class=\"dataframe\">\n",
       "  <thead>\n",
       "    <tr style=\"text-align: right;\">\n",
       "      <th></th>\n",
       "      <th>item_id</th>\n",
       "      <th>category</th>\n",
       "      <th>description</th>\n",
       "    </tr>\n",
       "  </thead>\n",
       "  <tbody>\n",
       "    <tr>\n",
       "      <th>1</th>\n",
       "      <td>601235</td>\n",
       "      <td>GAME</td>\n",
       "      <td>The best building game on android is free to d...</td>\n",
       "    </tr>\n",
       "    <tr>\n",
       "      <th>4</th>\n",
       "      <td>597756</td>\n",
       "      <td>MEDICAL</td>\n",
       "      <td>This is the official mobile app of the Nationa...</td>\n",
       "    </tr>\n",
       "    <tr>\n",
       "      <th>7</th>\n",
       "      <td>930055</td>\n",
       "      <td>EDUCATION</td>\n",
       "      <td>We bring you the power of conversational AI in...</td>\n",
       "    </tr>\n",
       "    <tr>\n",
       "      <th>8</th>\n",
       "      <td>860078</td>\n",
       "      <td>PRODUCTIVITY</td>\n",
       "      <td>Digital India ka Apna CamScanner, ab Ghar pe p...</td>\n",
       "    </tr>\n",
       "    <tr>\n",
       "      <th>14</th>\n",
       "      <td>651710</td>\n",
       "      <td>GAME</td>\n",
       "      <td>Escape Game Jail Prison Break is the new point...</td>\n",
       "    </tr>\n",
       "    <tr>\n",
       "      <th>...</th>\n",
       "      <td>...</td>\n",
       "      <td>...</td>\n",
       "      <td>...</td>\n",
       "    </tr>\n",
       "    <tr>\n",
       "      <th>98565</th>\n",
       "      <td>157958</td>\n",
       "      <td>HEALTH_AND_FITNESS</td>\n",
       "      <td>Fitness &amp;amp; Bodybuilding  help you burn fat,...</td>\n",
       "    </tr>\n",
       "    <tr>\n",
       "      <th>98566</th>\n",
       "      <td>601017</td>\n",
       "      <td>TOOLS</td>\n",
       "      <td>UserLAnd is an open-source app which allows yo...</td>\n",
       "    </tr>\n",
       "    <tr>\n",
       "      <th>98568</th>\n",
       "      <td>753277</td>\n",
       "      <td>SPORTS</td>\n",
       "      <td>This interval timer can be used for a wide ran...</td>\n",
       "    </tr>\n",
       "    <tr>\n",
       "      <th>98572</th>\n",
       "      <td>835283</td>\n",
       "      <td>ENTERTAINMENT</td>\n",
       "      <td>Do you like clear slimes? Want to learn how to...</td>\n",
       "    </tr>\n",
       "    <tr>\n",
       "      <th>98579</th>\n",
       "      <td>165878</td>\n",
       "      <td>MUSIC_AND_AUDIO</td>\n",
       "      <td>This app provides free downloading of audio sh...</td>\n",
       "    </tr>\n",
       "  </tbody>\n",
       "</table>\n",
       "<p>50640 rows × 3 columns</p>\n",
       "</div>"
      ],
      "text/plain": [
       "       item_id            category  \\\n",
       "1       601235                GAME   \n",
       "4       597756             MEDICAL   \n",
       "7       930055           EDUCATION   \n",
       "8       860078        PRODUCTIVITY   \n",
       "14      651710                GAME   \n",
       "...        ...                 ...   \n",
       "98565   157958  HEALTH_AND_FITNESS   \n",
       "98566   601017               TOOLS   \n",
       "98568   753277              SPORTS   \n",
       "98572   835283       ENTERTAINMENT   \n",
       "98579   165878     MUSIC_AND_AUDIO   \n",
       "\n",
       "                                             description  \n",
       "1      The best building game on android is free to d...  \n",
       "4      This is the official mobile app of the Nationa...  \n",
       "7      We bring you the power of conversational AI in...  \n",
       "8      Digital India ka Apna CamScanner, ab Ghar pe p...  \n",
       "14     Escape Game Jail Prison Break is the new point...  \n",
       "...                                                  ...  \n",
       "98565  Fitness &amp; Bodybuilding  help you burn fat,...  \n",
       "98566  UserLAnd is an open-source app which allows yo...  \n",
       "98568  This interval timer can be used for a wide ran...  \n",
       "98572  Do you like clear slimes? Want to learn how to...  \n",
       "98579  This app provides free downloading of audio sh...  \n",
       "\n",
       "[50640 rows x 3 columns]"
      ]
     },
     "execution_count": 47,
     "metadata": {},
     "output_type": "execute_result"
    }
   ],
   "source": [
    "df_app_meta[df_app_meta[\"item_id\"].isin(set(df_app_usage[\"item_id\"].tolist()))]"
   ]
  },
  {
   "cell_type": "markdown",
   "id": "d44bc5b5-9796-4297-9b33-70c102955ed2",
   "metadata": {},
   "source": [
    "## description"
   ]
  },
  {
   "cell_type": "code",
   "execution_count": 48,
   "id": "63e8f9cf-c2ef-47c9-a16e-4039db725f14",
   "metadata": {},
   "outputs": [],
   "source": [
    "# todo"
   ]
  },
  {
   "cell_type": "markdown",
   "id": "46ab505e-57b2-427c-96dc-56a015c33526",
   "metadata": {},
   "source": [
    "# app_installs"
   ]
  },
  {
   "cell_type": "code",
   "execution_count": 49,
   "id": "ac8039f1-213e-415c-9172-45423fedc456",
   "metadata": {},
   "outputs": [
    {
     "name": "stdout",
     "output_type": "stream",
     "text": [
      " 3767270 ./data/app_installs.csv\n"
     ]
    }
   ],
   "source": [
    "! wc -l ./data/app_installs.csv"
   ]
  },
  {
   "cell_type": "code",
   "execution_count": 50,
   "id": "fa6c395c-7bbb-4463-a418-2d40cee0c46b",
   "metadata": {},
   "outputs": [],
   "source": [
    "df_app_inst = pd.read_csv(\"./data/app_installs.csv\")"
   ]
  },
  {
   "cell_type": "code",
   "execution_count": 51,
   "id": "83fae2dd-e999-40e2-9acb-3f2dd62e31dd",
   "metadata": {},
   "outputs": [
    {
     "data": {
      "text/html": [
       "<div>\n",
       "<style scoped>\n",
       "    .dataframe tbody tr th:only-of-type {\n",
       "        vertical-align: middle;\n",
       "    }\n",
       "\n",
       "    .dataframe tbody tr th {\n",
       "        vertical-align: top;\n",
       "    }\n",
       "\n",
       "    .dataframe thead th {\n",
       "        text-align: right;\n",
       "    }\n",
       "</style>\n",
       "<table border=\"1\" class=\"dataframe\">\n",
       "  <thead>\n",
       "    <tr style=\"text-align: right;\">\n",
       "      <th></th>\n",
       "      <th>uid</th>\n",
       "      <th>item_id</th>\n",
       "      <th>status</th>\n",
       "      <th>install_date</th>\n",
       "    </tr>\n",
       "  </thead>\n",
       "  <tbody>\n",
       "    <tr>\n",
       "      <th>0</th>\n",
       "      <td>64190</td>\n",
       "      <td>593676</td>\n",
       "      <td>uninstalled</td>\n",
       "      <td>2022-07-01</td>\n",
       "    </tr>\n",
       "    <tr>\n",
       "      <th>1</th>\n",
       "      <td>45556</td>\n",
       "      <td>593676</td>\n",
       "      <td>uninstalled</td>\n",
       "      <td>2022-05-21</td>\n",
       "    </tr>\n",
       "    <tr>\n",
       "      <th>2</th>\n",
       "      <td>49642</td>\n",
       "      <td>601235</td>\n",
       "      <td>uninstalled</td>\n",
       "      <td>2022-07-07</td>\n",
       "    </tr>\n",
       "    <tr>\n",
       "      <th>3</th>\n",
       "      <td>1773</td>\n",
       "      <td>601235</td>\n",
       "      <td>uninstalled</td>\n",
       "      <td>2022-07-23</td>\n",
       "    </tr>\n",
       "    <tr>\n",
       "      <th>4</th>\n",
       "      <td>163462</td>\n",
       "      <td>601235</td>\n",
       "      <td>uninstalled</td>\n",
       "      <td>2022-04-18</td>\n",
       "    </tr>\n",
       "    <tr>\n",
       "      <th>...</th>\n",
       "      <td>...</td>\n",
       "      <td>...</td>\n",
       "      <td>...</td>\n",
       "      <td>...</td>\n",
       "    </tr>\n",
       "    <tr>\n",
       "      <th>3767264</th>\n",
       "      <td>257363</td>\n",
       "      <td>902907</td>\n",
       "      <td>uninstalled</td>\n",
       "      <td>2022-07-20</td>\n",
       "    </tr>\n",
       "    <tr>\n",
       "      <th>3767265</th>\n",
       "      <td>267842</td>\n",
       "      <td>902907</td>\n",
       "      <td>uninstalled</td>\n",
       "      <td>2022-05-15</td>\n",
       "    </tr>\n",
       "    <tr>\n",
       "      <th>3767266</th>\n",
       "      <td>200614</td>\n",
       "      <td>902907</td>\n",
       "      <td>uninstalled</td>\n",
       "      <td>2022-05-15</td>\n",
       "    </tr>\n",
       "    <tr>\n",
       "      <th>3767267</th>\n",
       "      <td>250849</td>\n",
       "      <td>902907</td>\n",
       "      <td>uninstalled</td>\n",
       "      <td>2022-04-25</td>\n",
       "    </tr>\n",
       "    <tr>\n",
       "      <th>3767268</th>\n",
       "      <td>250157</td>\n",
       "      <td>904621</td>\n",
       "      <td>uninstalled</td>\n",
       "      <td>2022-06-27</td>\n",
       "    </tr>\n",
       "  </tbody>\n",
       "</table>\n",
       "<p>3767269 rows × 4 columns</p>\n",
       "</div>"
      ],
      "text/plain": [
       "            uid  item_id       status install_date\n",
       "0         64190   593676  uninstalled   2022-07-01\n",
       "1         45556   593676  uninstalled   2022-05-21\n",
       "2         49642   601235  uninstalled   2022-07-07\n",
       "3          1773   601235  uninstalled   2022-07-23\n",
       "4        163462   601235  uninstalled   2022-04-18\n",
       "...         ...      ...          ...          ...\n",
       "3767264  257363   902907  uninstalled   2022-07-20\n",
       "3767265  267842   902907  uninstalled   2022-05-15\n",
       "3767266  200614   902907  uninstalled   2022-05-15\n",
       "3767267  250849   902907  uninstalled   2022-04-25\n",
       "3767268  250157   904621  uninstalled   2022-06-27\n",
       "\n",
       "[3767269 rows x 4 columns]"
      ]
     },
     "execution_count": 51,
     "metadata": {},
     "output_type": "execute_result"
    }
   ],
   "source": [
    "df_app_inst"
   ]
  },
  {
   "cell_type": "code",
   "execution_count": 52,
   "id": "b03f4309-ce04-4431-8d65-0b29d89c56b5",
   "metadata": {},
   "outputs": [
    {
     "data": {
      "text/plain": [
       "uid              int64\n",
       "item_id          int64\n",
       "status          object\n",
       "install_date    object\n",
       "dtype: object"
      ]
     },
     "execution_count": 52,
     "metadata": {},
     "output_type": "execute_result"
    }
   ],
   "source": [
    "df_app_inst.dtypes"
   ]
  },
  {
   "cell_type": "markdown",
   "id": "9b9dc1ab-7215-4d02-bc3e-a370b1e51f68",
   "metadata": {},
   "source": [
    "## date"
   ]
  },
  {
   "cell_type": "code",
   "execution_count": 53,
   "id": "52d01740-7bfa-4ae4-a86b-bb5eea5d2a9f",
   "metadata": {},
   "outputs": [],
   "source": [
    "df_app_inst[\"install_date\"] = pd.to_datetime(df_app_inst[\"install_date\"])"
   ]
  },
  {
   "cell_type": "code",
   "execution_count": 54,
   "id": "3454cb8f-e9e2-4726-94b5-f50bb6630af1",
   "metadata": {},
   "outputs": [
    {
     "data": {
      "text/plain": [
       "array([ 1,  2,  3,  4,  5,  6,  7,  8,  9, 10, 11, 12, 13, 14, 15, 16, 17,\n",
       "       18, 19, 20, 21, 22, 23, 24, 25, 26, 27, 28, 29, 30, 31])"
      ]
     },
     "execution_count": 54,
     "metadata": {},
     "output_type": "execute_result"
    }
   ],
   "source": [
    "np.sort(df_app_inst[\"install_date\"].dt.day.unique())"
   ]
  },
  {
   "cell_type": "code",
   "execution_count": 55,
   "id": "91addee8-9158-4041-85a3-2a0ca5f912c0",
   "metadata": {},
   "outputs": [
    {
     "data": {
      "text/plain": [
       "array([2, 3, 4, 5, 6, 7])"
      ]
     },
     "execution_count": 55,
     "metadata": {},
     "output_type": "execute_result"
    }
   ],
   "source": [
    "np.sort(df_app_inst[\"install_date\"].dt.month.unique())"
   ]
  },
  {
   "cell_type": "code",
   "execution_count": 56,
   "id": "e4be1163-de8d-40cb-99d0-2953ff6c7c5b",
   "metadata": {},
   "outputs": [
    {
     "data": {
      "text/plain": [
       "array([2022])"
      ]
     },
     "execution_count": 56,
     "metadata": {},
     "output_type": "execute_result"
    }
   ],
   "source": [
    "np.sort(df_app_inst[\"install_date\"].dt.year.unique())"
   ]
  },
  {
   "cell_type": "markdown",
   "id": "bdc89af4-736b-44a6-8540-0b353a5ce478",
   "metadata": {},
   "source": [
    "## status"
   ]
  },
  {
   "cell_type": "code",
   "execution_count": 57,
   "id": "6761fbd9-8763-4fa1-b67d-c8b3938d099e",
   "metadata": {},
   "outputs": [
    {
     "data": {
      "text/plain": [
       "uninstalled    3415552\n",
       "installed       351717\n",
       "Name: status, dtype: int64"
      ]
     },
     "execution_count": 57,
     "metadata": {},
     "output_type": "execute_result"
    }
   ],
   "source": [
    "df_app_inst[\"status\"].value_counts()"
   ]
  },
  {
   "cell_type": "code",
   "execution_count": 58,
   "id": "5c9e3a50-aa15-42a9-9051-8103dd9456c6",
   "metadata": {},
   "outputs": [
    {
     "data": {
      "text/plain": [
       "array(['uninstalled', 'installed'], dtype=object)"
      ]
     },
     "execution_count": 58,
     "metadata": {},
     "output_type": "execute_result"
    }
   ],
   "source": [
    "df_app_inst[\"status\"].unique()"
   ]
  },
  {
   "cell_type": "markdown",
   "id": "9634f2e3-b26e-421a-8f07-b3c46d41c00c",
   "metadata": {},
   "source": [
    "## user_id"
   ]
  },
  {
   "cell_type": "markdown",
   "id": "8b1bb3b7-1651-43c5-a66f-870b82ecf663",
   "metadata": {},
   "source": [
    "### checking if users in app_installs are present in interactions table "
   ]
  },
  {
   "cell_type": "code",
   "execution_count": 59,
   "id": "86f920ab-37d9-4b74-b635-e4f48bf52359",
   "metadata": {},
   "outputs": [
    {
     "data": {
      "text/plain": [
       "211834"
      ]
     },
     "execution_count": 59,
     "metadata": {},
     "output_type": "execute_result"
    }
   ],
   "source": [
    "df_app_inst[\"uid\"].nunique()"
   ]
  },
  {
   "cell_type": "code",
   "execution_count": 60,
   "id": "7804cc24-bc82-4a79-b326-5c56616b9a65",
   "metadata": {},
   "outputs": [
    {
     "data": {
      "text/plain": [
       "0.8846357831612093"
      ]
     },
     "execution_count": 60,
     "metadata": {},
     "output_type": "execute_result"
    }
   ],
   "source": [
    "len(set(df_app_inst[\"uid\"])) / len(\n",
    "    set(df_app_inst[\"uid\"]).union(set(df_app_usage[\"uid\"]))\n",
    ")"
   ]
  },
  {
   "cell_type": "markdown",
   "id": "41fdd8ac-7517-4411-a8c0-57f313dcb85e",
   "metadata": {},
   "source": [
    "there is 88% overlap in user ids of app installs and app usage tables"
   ]
  },
  {
   "cell_type": "code",
   "execution_count": 61,
   "id": "145e88fe-7d54-4d03-a08a-f0cff41b9da8",
   "metadata": {},
   "outputs": [
    {
     "data": {
      "text/plain": [
       "819"
      ]
     },
     "execution_count": 61,
     "metadata": {},
     "output_type": "execute_result"
    }
   ],
   "source": [
    "len(set(df_app_inst[\"uid\"]).difference(set(df_app_usage[\"uid\"])))"
   ]
  },
  {
   "cell_type": "markdown",
   "id": "67869886-70db-4ba5-8bc0-16d1203d31ed",
   "metadata": {},
   "source": [
    "only 819 users in app installs table are not present in interactions table"
   ]
  },
  {
   "cell_type": "code",
   "execution_count": 62,
   "id": "174eb2e9-0f6e-4c1c-b9b6-2ec7bfe90b33",
   "metadata": {},
   "outputs": [
    {
     "data": {
      "text/plain": [
       "27625"
      ]
     },
     "execution_count": 62,
     "metadata": {},
     "output_type": "execute_result"
    }
   ],
   "source": [
    "len(set(df_app_usage[\"uid\"]).difference(set(df_app_inst[\"uid\"])))"
   ]
  },
  {
   "cell_type": "markdown",
   "id": "499aa2be-1a0b-4bf3-98a6-1f1c5f6b7aa9",
   "metadata": {},
   "source": [
    "27625 users in app installs table are not present in app usage tables"
   ]
  },
  {
   "cell_type": "markdown",
   "id": "daa7a168-0d3b-45b2-82e3-0ea23d16e0b5",
   "metadata": {},
   "source": [
    "## item_id"
   ]
  },
  {
   "cell_type": "code",
   "execution_count": 63,
   "id": "19559212-12b0-44da-bace-a22b24cbd7e4",
   "metadata": {},
   "outputs": [
    {
     "data": {
      "text/plain": [
       "80375"
      ]
     },
     "execution_count": 63,
     "metadata": {},
     "output_type": "execute_result"
    }
   ],
   "source": [
    "df_app_inst[\"item_id\"].nunique()"
   ]
  },
  {
   "cell_type": "code",
   "execution_count": 64,
   "id": "de74dc5f-a294-4c4a-88b4-4ddde97e136c",
   "metadata": {},
   "outputs": [
    {
     "data": {
      "text/plain": [
       "0.8694829078321074"
      ]
     },
     "execution_count": 64,
     "metadata": {},
     "output_type": "execute_result"
    }
   ],
   "source": [
    "len(set(df_app_inst[\"item_id\"])) / len(\n",
    "    set(df_app_inst[\"item_id\"]).union(set(df_app_usage[\"item_id\"]))\n",
    ")"
   ]
  },
  {
   "cell_type": "markdown",
   "id": "a79d8186-e4dc-4acf-9603-3325d3bddebb",
   "metadata": {},
   "source": [
    "there is 86% overlap in item ids of app installs and app usage tables"
   ]
  },
  {
   "cell_type": "code",
   "execution_count": 65,
   "id": "cba37be3-deec-4da8-8e4e-f9c0782841ee",
   "metadata": {},
   "outputs": [
    {
     "data": {
      "text/plain": [
       "41761"
      ]
     },
     "execution_count": 65,
     "metadata": {},
     "output_type": "execute_result"
    }
   ],
   "source": [
    "len(set(df_app_inst[\"item_id\"]).difference(set(df_app_usage[\"item_id\"])))"
   ]
  },
  {
   "cell_type": "markdown",
   "id": "35edf8f1-f948-4613-a79b-41338d453524",
   "metadata": {},
   "source": [
    "41761 items in app installs table are not present in interactions table"
   ]
  },
  {
   "cell_type": "code",
   "execution_count": 66,
   "id": "b16820ca-21ee-4420-b761-d9c65fe0c8d6",
   "metadata": {},
   "outputs": [
    {
     "data": {
      "text/plain": [
       "12065"
      ]
     },
     "execution_count": 66,
     "metadata": {},
     "output_type": "execute_result"
    }
   ],
   "source": [
    "len(set(df_app_usage[\"item_id\"]).difference(set(df_app_inst[\"item_id\"])))"
   ]
  },
  {
   "cell_type": "markdown",
   "id": "79a84747-bb2b-46fc-baa7-fb49b769c451",
   "metadata": {},
   "source": [
    "12065 items in app installs table are not present in app usage tables"
   ]
  },
  {
   "cell_type": "markdown",
   "id": "ada0d5eb-415e-4955-9b27-b5a7e383787c",
   "metadata": {},
   "source": [
    "## status"
   ]
  },
  {
   "cell_type": "code",
   "execution_count": 67,
   "id": "93a73163-e99d-42b8-91fb-c5d8847077e2",
   "metadata": {},
   "outputs": [],
   "source": [
    "df_unis = df_app_inst[df_app_inst[\"status\"] == \"uninstalled\"]\n",
    "df_inis = df_app_inst[df_app_inst[\"status\"] == \"installed\"]"
   ]
  },
  {
   "cell_type": "code",
   "execution_count": 68,
   "id": "46430a7a-89d0-41da-bafb-4e78fc2396d1",
   "metadata": {},
   "outputs": [
    {
     "data": {
      "text/plain": [
       "(3415552, 4)"
      ]
     },
     "execution_count": 68,
     "metadata": {},
     "output_type": "execute_result"
    }
   ],
   "source": [
    "df_unis.shape"
   ]
  },
  {
   "cell_type": "code",
   "execution_count": 69,
   "id": "0fe2613a-8aa2-472c-8c96-cdb5d5602c89",
   "metadata": {},
   "outputs": [
    {
     "data": {
      "text/plain": [
       "(351717, 4)"
      ]
     },
     "execution_count": 69,
     "metadata": {},
     "output_type": "execute_result"
    }
   ],
   "source": [
    "df_inis.shape"
   ]
  },
  {
   "cell_type": "markdown",
   "id": "e925028a-1fb0-4617-8806-0a691b422cd7",
   "metadata": {},
   "source": [
    "# app install uninstall per level analysis"
   ]
  },
  {
   "cell_type": "markdown",
   "id": "d17c60e5-c558-45df-b6fe-b4036894eed2",
   "metadata": {},
   "source": [
    "## ITEM level"
   ]
  },
  {
   "cell_type": "markdown",
   "id": "d66dd9d0-eb78-4186-b54d-ca951e0471ba",
   "metadata": {},
   "source": [
    "### app uninstall percentage - item level"
   ]
  },
  {
   "cell_type": "code",
   "execution_count": 70,
   "id": "12028916-bad8-493e-850e-9700e486ccef",
   "metadata": {},
   "outputs": [
    {
     "data": {
      "text/html": [
       "<div>\n",
       "<style scoped>\n",
       "    .dataframe tbody tr th:only-of-type {\n",
       "        vertical-align: middle;\n",
       "    }\n",
       "\n",
       "    .dataframe tbody tr th {\n",
       "        vertical-align: top;\n",
       "    }\n",
       "\n",
       "    .dataframe thead th {\n",
       "        text-align: right;\n",
       "    }\n",
       "</style>\n",
       "<table border=\"1\" class=\"dataframe\">\n",
       "  <thead>\n",
       "    <tr style=\"text-align: right;\">\n",
       "      <th></th>\n",
       "      <th>item_id</th>\n",
       "      <th>num_uninstalls</th>\n",
       "      <th>unis_perc_global_item</th>\n",
       "    </tr>\n",
       "  </thead>\n",
       "  <tbody>\n",
       "    <tr>\n",
       "      <th>0</th>\n",
       "      <td>589549</td>\n",
       "      <td>57380</td>\n",
       "      <td>0.713904</td>\n",
       "    </tr>\n",
       "    <tr>\n",
       "      <th>1</th>\n",
       "      <td>589378</td>\n",
       "      <td>54917</td>\n",
       "      <td>0.683260</td>\n",
       "    </tr>\n",
       "    <tr>\n",
       "      <th>2</th>\n",
       "      <td>589482</td>\n",
       "      <td>51221</td>\n",
       "      <td>0.637275</td>\n",
       "    </tr>\n",
       "    <tr>\n",
       "      <th>3</th>\n",
       "      <td>145082</td>\n",
       "      <td>33289</td>\n",
       "      <td>0.414171</td>\n",
       "    </tr>\n",
       "    <tr>\n",
       "      <th>4</th>\n",
       "      <td>145569</td>\n",
       "      <td>28814</td>\n",
       "      <td>0.358495</td>\n",
       "    </tr>\n",
       "    <tr>\n",
       "      <th>...</th>\n",
       "      <td>...</td>\n",
       "      <td>...</td>\n",
       "      <td>...</td>\n",
       "    </tr>\n",
       "    <tr>\n",
       "      <th>78480</th>\n",
       "      <td>830233</td>\n",
       "      <td>1</td>\n",
       "      <td>0.000012</td>\n",
       "    </tr>\n",
       "    <tr>\n",
       "      <th>78481</th>\n",
       "      <td>860549</td>\n",
       "      <td>1</td>\n",
       "      <td>0.000012</td>\n",
       "    </tr>\n",
       "    <tr>\n",
       "      <th>78482</th>\n",
       "      <td>161965</td>\n",
       "      <td>1</td>\n",
       "      <td>0.000012</td>\n",
       "    </tr>\n",
       "    <tr>\n",
       "      <th>78483</th>\n",
       "      <td>36653</td>\n",
       "      <td>1</td>\n",
       "      <td>0.000012</td>\n",
       "    </tr>\n",
       "    <tr>\n",
       "      <th>78484</th>\n",
       "      <td>904621</td>\n",
       "      <td>1</td>\n",
       "      <td>0.000012</td>\n",
       "    </tr>\n",
       "  </tbody>\n",
       "</table>\n",
       "<p>78485 rows × 3 columns</p>\n",
       "</div>"
      ],
      "text/plain": [
       "       item_id  num_uninstalls  unis_perc_global_item\n",
       "0       589549           57380               0.713904\n",
       "1       589378           54917               0.683260\n",
       "2       589482           51221               0.637275\n",
       "3       145082           33289               0.414171\n",
       "4       145569           28814               0.358495\n",
       "...        ...             ...                    ...\n",
       "78480   830233               1               0.000012\n",
       "78481   860549               1               0.000012\n",
       "78482   161965               1               0.000012\n",
       "78483    36653               1               0.000012\n",
       "78484   904621               1               0.000012\n",
       "\n",
       "[78485 rows x 3 columns]"
      ]
     },
     "execution_count": 70,
     "metadata": {},
     "output_type": "execute_result"
    }
   ],
   "source": [
    "df_app_unis_global_item = (\n",
    "    df_unis[\"item_id\"]\n",
    "    .value_counts()\n",
    "    .reset_index()\n",
    "    .rename(columns={\"index\": \"item_id\", \"item_id\": \"num_uninstalls\"})\n",
    ")\n",
    "\n",
    "df_app_unis_global_item[\"unis_perc_global_item\"] = (\n",
    "    df_app_unis_global_item[\"num_uninstalls\"] / df_app_inst[\"item_id\"].nunique()\n",
    ")\n",
    "\n",
    "\n",
    "df_app_unis_global_item"
   ]
  },
  {
   "cell_type": "markdown",
   "id": "53d83a3b-b643-4c09-8f96-f633028b04fc",
   "metadata": {},
   "source": [
    "### app install percentage - item level"
   ]
  },
  {
   "cell_type": "code",
   "execution_count": 71,
   "id": "e7251cc8-f80f-4f4a-bb4a-5974026f21ee",
   "metadata": {},
   "outputs": [
    {
     "data": {
      "text/html": [
       "<div>\n",
       "<style scoped>\n",
       "    .dataframe tbody tr th:only-of-type {\n",
       "        vertical-align: middle;\n",
       "    }\n",
       "\n",
       "    .dataframe tbody tr th {\n",
       "        vertical-align: top;\n",
       "    }\n",
       "\n",
       "    .dataframe thead th {\n",
       "        text-align: right;\n",
       "    }\n",
       "</style>\n",
       "<table border=\"1\" class=\"dataframe\">\n",
       "  <thead>\n",
       "    <tr style=\"text-align: right;\">\n",
       "      <th></th>\n",
       "      <th>item_id</th>\n",
       "      <th>num_installs</th>\n",
       "      <th>inis_perc_global_item</th>\n",
       "    </tr>\n",
       "  </thead>\n",
       "  <tbody>\n",
       "    <tr>\n",
       "      <th>0</th>\n",
       "      <td>20875</td>\n",
       "      <td>31825</td>\n",
       "      <td>0.395956</td>\n",
       "    </tr>\n",
       "    <tr>\n",
       "      <th>1</th>\n",
       "      <td>25349</td>\n",
       "      <td>18265</td>\n",
       "      <td>0.227247</td>\n",
       "    </tr>\n",
       "    <tr>\n",
       "      <th>2</th>\n",
       "      <td>145569</td>\n",
       "      <td>11496</td>\n",
       "      <td>0.143030</td>\n",
       "    </tr>\n",
       "    <tr>\n",
       "      <th>3</th>\n",
       "      <td>589378</td>\n",
       "      <td>11129</td>\n",
       "      <td>0.138463</td>\n",
       "    </tr>\n",
       "    <tr>\n",
       "      <th>4</th>\n",
       "      <td>145082</td>\n",
       "      <td>10446</td>\n",
       "      <td>0.129966</td>\n",
       "    </tr>\n",
       "    <tr>\n",
       "      <th>...</th>\n",
       "      <td>...</td>\n",
       "      <td>...</td>\n",
       "      <td>...</td>\n",
       "    </tr>\n",
       "    <tr>\n",
       "      <th>14016</th>\n",
       "      <td>824987</td>\n",
       "      <td>1</td>\n",
       "      <td>0.000012</td>\n",
       "    </tr>\n",
       "    <tr>\n",
       "      <th>14017</th>\n",
       "      <td>124827</td>\n",
       "      <td>1</td>\n",
       "      <td>0.000012</td>\n",
       "    </tr>\n",
       "    <tr>\n",
       "      <th>14018</th>\n",
       "      <td>741182</td>\n",
       "      <td>1</td>\n",
       "      <td>0.000012</td>\n",
       "    </tr>\n",
       "    <tr>\n",
       "      <th>14019</th>\n",
       "      <td>589149</td>\n",
       "      <td>1</td>\n",
       "      <td>0.000012</td>\n",
       "    </tr>\n",
       "    <tr>\n",
       "      <th>14020</th>\n",
       "      <td>819126</td>\n",
       "      <td>1</td>\n",
       "      <td>0.000012</td>\n",
       "    </tr>\n",
       "  </tbody>\n",
       "</table>\n",
       "<p>14021 rows × 3 columns</p>\n",
       "</div>"
      ],
      "text/plain": [
       "       item_id  num_installs  inis_perc_global_item\n",
       "0        20875         31825               0.395956\n",
       "1        25349         18265               0.227247\n",
       "2       145569         11496               0.143030\n",
       "3       589378         11129               0.138463\n",
       "4       145082         10446               0.129966\n",
       "...        ...           ...                    ...\n",
       "14016   824987             1               0.000012\n",
       "14017   124827             1               0.000012\n",
       "14018   741182             1               0.000012\n",
       "14019   589149             1               0.000012\n",
       "14020   819126             1               0.000012\n",
       "\n",
       "[14021 rows x 3 columns]"
      ]
     },
     "execution_count": 71,
     "metadata": {},
     "output_type": "execute_result"
    }
   ],
   "source": [
    "df_app_inis_global_item = (\n",
    "    df_inis[\"item_id\"]\n",
    "    .value_counts()\n",
    "    .reset_index()\n",
    "    .rename(columns={\"index\": \"item_id\", \"item_id\": \"num_installs\"})\n",
    ")\n",
    "\n",
    "df_app_inis_global_item[\"inis_perc_global_item\"] = (\n",
    "    df_app_inis_global_item[\"num_installs\"] / df_app_inst[\"item_id\"].nunique()\n",
    ")\n",
    "\n",
    "\n",
    "df_app_inis_global_item"
   ]
  },
  {
   "cell_type": "markdown",
   "id": "922cc3e2-ac1d-4989-a106-5c55067165ad",
   "metadata": {},
   "source": [
    "## USER level"
   ]
  },
  {
   "cell_type": "markdown",
   "id": "cc7d3f84-f337-464f-9bf0-4f315a146e26",
   "metadata": {},
   "source": [
    "### app uninstall percentage - user level"
   ]
  },
  {
   "cell_type": "code",
   "execution_count": 72,
   "id": "4322be32-e7e8-4f9e-87be-856e1c4e9a69",
   "metadata": {},
   "outputs": [
    {
     "data": {
      "text/html": [
       "<div>\n",
       "<style scoped>\n",
       "    .dataframe tbody tr th:only-of-type {\n",
       "        vertical-align: middle;\n",
       "    }\n",
       "\n",
       "    .dataframe tbody tr th {\n",
       "        vertical-align: top;\n",
       "    }\n",
       "\n",
       "    .dataframe thead th {\n",
       "        text-align: right;\n",
       "    }\n",
       "</style>\n",
       "<table border=\"1\" class=\"dataframe\">\n",
       "  <thead>\n",
       "    <tr style=\"text-align: right;\">\n",
       "      <th></th>\n",
       "      <th>uid</th>\n",
       "      <th>num_uninstalls</th>\n",
       "      <th>unis_perc_global_user</th>\n",
       "    </tr>\n",
       "  </thead>\n",
       "  <tbody>\n",
       "    <tr>\n",
       "      <th>0</th>\n",
       "      <td>197026</td>\n",
       "      <td>1021</td>\n",
       "      <td>0.004820</td>\n",
       "    </tr>\n",
       "    <tr>\n",
       "      <th>1</th>\n",
       "      <td>243820</td>\n",
       "      <td>1007</td>\n",
       "      <td>0.004754</td>\n",
       "    </tr>\n",
       "    <tr>\n",
       "      <th>2</th>\n",
       "      <td>83942</td>\n",
       "      <td>725</td>\n",
       "      <td>0.003422</td>\n",
       "    </tr>\n",
       "    <tr>\n",
       "      <th>3</th>\n",
       "      <td>74627</td>\n",
       "      <td>722</td>\n",
       "      <td>0.003408</td>\n",
       "    </tr>\n",
       "    <tr>\n",
       "      <th>4</th>\n",
       "      <td>112543</td>\n",
       "      <td>646</td>\n",
       "      <td>0.003050</td>\n",
       "    </tr>\n",
       "    <tr>\n",
       "      <th>...</th>\n",
       "      <td>...</td>\n",
       "      <td>...</td>\n",
       "      <td>...</td>\n",
       "    </tr>\n",
       "    <tr>\n",
       "      <th>208201</th>\n",
       "      <td>132145</td>\n",
       "      <td>1</td>\n",
       "      <td>0.000005</td>\n",
       "    </tr>\n",
       "    <tr>\n",
       "      <th>208202</th>\n",
       "      <td>209728</td>\n",
       "      <td>1</td>\n",
       "      <td>0.000005</td>\n",
       "    </tr>\n",
       "    <tr>\n",
       "      <th>208203</th>\n",
       "      <td>227685</td>\n",
       "      <td>1</td>\n",
       "      <td>0.000005</td>\n",
       "    </tr>\n",
       "    <tr>\n",
       "      <th>208204</th>\n",
       "      <td>59713</td>\n",
       "      <td>1</td>\n",
       "      <td>0.000005</td>\n",
       "    </tr>\n",
       "    <tr>\n",
       "      <th>208205</th>\n",
       "      <td>295128</td>\n",
       "      <td>1</td>\n",
       "      <td>0.000005</td>\n",
       "    </tr>\n",
       "  </tbody>\n",
       "</table>\n",
       "<p>208206 rows × 3 columns</p>\n",
       "</div>"
      ],
      "text/plain": [
       "           uid  num_uninstalls  unis_perc_global_user\n",
       "0       197026            1021               0.004820\n",
       "1       243820            1007               0.004754\n",
       "2        83942             725               0.003422\n",
       "3        74627             722               0.003408\n",
       "4       112543             646               0.003050\n",
       "...        ...             ...                    ...\n",
       "208201  132145               1               0.000005\n",
       "208202  209728               1               0.000005\n",
       "208203  227685               1               0.000005\n",
       "208204   59713               1               0.000005\n",
       "208205  295128               1               0.000005\n",
       "\n",
       "[208206 rows x 3 columns]"
      ]
     },
     "execution_count": 72,
     "metadata": {},
     "output_type": "execute_result"
    }
   ],
   "source": [
    "df_app_unis_global_user = (\n",
    "    df_unis[\"uid\"]\n",
    "    .value_counts()\n",
    "    .reset_index()\n",
    "    .rename(columns={\"index\": \"uid\", \"uid\": \"num_uninstalls\"})\n",
    ")\n",
    "\n",
    "df_app_unis_global_user[\"unis_perc_global_user\"] = (\n",
    "    df_app_unis_global_user[\"num_uninstalls\"] / df_app_inst[\"uid\"].nunique()\n",
    ")\n",
    "\n",
    "\n",
    "df_app_unis_global_user"
   ]
  },
  {
   "cell_type": "markdown",
   "id": "fd2d6557-6d1c-4a0a-a43d-a680704396d4",
   "metadata": {},
   "source": [
    "### app install percentage - user level"
   ]
  },
  {
   "cell_type": "code",
   "execution_count": 73,
   "id": "1412c815-e76c-4bdf-bd30-3452c7e8a59f",
   "metadata": {},
   "outputs": [
    {
     "data": {
      "text/html": [
       "<div>\n",
       "<style scoped>\n",
       "    .dataframe tbody tr th:only-of-type {\n",
       "        vertical-align: middle;\n",
       "    }\n",
       "\n",
       "    .dataframe tbody tr th {\n",
       "        vertical-align: top;\n",
       "    }\n",
       "\n",
       "    .dataframe thead th {\n",
       "        text-align: right;\n",
       "    }\n",
       "</style>\n",
       "<table border=\"1\" class=\"dataframe\">\n",
       "  <thead>\n",
       "    <tr style=\"text-align: right;\">\n",
       "      <th></th>\n",
       "      <th>uid</th>\n",
       "      <th>num_installs</th>\n",
       "      <th>inis_perc_global_user</th>\n",
       "    </tr>\n",
       "  </thead>\n",
       "  <tbody>\n",
       "    <tr>\n",
       "      <th>0</th>\n",
       "      <td>223221</td>\n",
       "      <td>466</td>\n",
       "      <td>0.002200</td>\n",
       "    </tr>\n",
       "    <tr>\n",
       "      <th>1</th>\n",
       "      <td>116589</td>\n",
       "      <td>165</td>\n",
       "      <td>0.000779</td>\n",
       "    </tr>\n",
       "    <tr>\n",
       "      <th>2</th>\n",
       "      <td>144677</td>\n",
       "      <td>137</td>\n",
       "      <td>0.000647</td>\n",
       "    </tr>\n",
       "    <tr>\n",
       "      <th>3</th>\n",
       "      <td>12</td>\n",
       "      <td>127</td>\n",
       "      <td>0.000600</td>\n",
       "    </tr>\n",
       "    <tr>\n",
       "      <th>4</th>\n",
       "      <td>160997</td>\n",
       "      <td>123</td>\n",
       "      <td>0.000581</td>\n",
       "    </tr>\n",
       "    <tr>\n",
       "      <th>...</th>\n",
       "      <td>...</td>\n",
       "      <td>...</td>\n",
       "      <td>...</td>\n",
       "    </tr>\n",
       "    <tr>\n",
       "      <th>111155</th>\n",
       "      <td>284325</td>\n",
       "      <td>1</td>\n",
       "      <td>0.000005</td>\n",
       "    </tr>\n",
       "    <tr>\n",
       "      <th>111156</th>\n",
       "      <td>3366</td>\n",
       "      <td>1</td>\n",
       "      <td>0.000005</td>\n",
       "    </tr>\n",
       "    <tr>\n",
       "      <th>111157</th>\n",
       "      <td>291567</td>\n",
       "      <td>1</td>\n",
       "      <td>0.000005</td>\n",
       "    </tr>\n",
       "    <tr>\n",
       "      <th>111158</th>\n",
       "      <td>5165</td>\n",
       "      <td>1</td>\n",
       "      <td>0.000005</td>\n",
       "    </tr>\n",
       "    <tr>\n",
       "      <th>111159</th>\n",
       "      <td>216277</td>\n",
       "      <td>1</td>\n",
       "      <td>0.000005</td>\n",
       "    </tr>\n",
       "  </tbody>\n",
       "</table>\n",
       "<p>111160 rows × 3 columns</p>\n",
       "</div>"
      ],
      "text/plain": [
       "           uid  num_installs  inis_perc_global_user\n",
       "0       223221           466               0.002200\n",
       "1       116589           165               0.000779\n",
       "2       144677           137               0.000647\n",
       "3           12           127               0.000600\n",
       "4       160997           123               0.000581\n",
       "...        ...           ...                    ...\n",
       "111155  284325             1               0.000005\n",
       "111156    3366             1               0.000005\n",
       "111157  291567             1               0.000005\n",
       "111158    5165             1               0.000005\n",
       "111159  216277             1               0.000005\n",
       "\n",
       "[111160 rows x 3 columns]"
      ]
     },
     "execution_count": 73,
     "metadata": {},
     "output_type": "execute_result"
    }
   ],
   "source": [
    "df_app_inis_global_user = (\n",
    "    df_inis[\"uid\"]\n",
    "    .value_counts()\n",
    "    .reset_index()\n",
    "    .rename(columns={\"index\": \"uid\", \"uid\": \"num_installs\"})\n",
    ")\n",
    "\n",
    "df_app_inis_global_user[\"inis_perc_global_user\"] = (\n",
    "    df_app_inis_global_user[\"num_installs\"] / df_app_inst[\"uid\"].nunique()\n",
    ")\n",
    "\n",
    "\n",
    "df_app_inis_global_user"
   ]
  },
  {
   "cell_type": "markdown",
   "id": "58cc8145-1fc5-40a0-83f5-24163a7aeb10",
   "metadata": {},
   "source": [
    "## number of installs and uninstalls per app"
   ]
  },
  {
   "cell_type": "code",
   "execution_count": 74,
   "id": "7c1888c2-06c2-4d29-9aa4-7522bca455dc",
   "metadata": {},
   "outputs": [
    {
     "data": {
      "text/html": [
       "<div>\n",
       "<style scoped>\n",
       "    .dataframe tbody tr th:only-of-type {\n",
       "        vertical-align: middle;\n",
       "    }\n",
       "\n",
       "    .dataframe tbody tr th {\n",
       "        vertical-align: top;\n",
       "    }\n",
       "\n",
       "    .dataframe thead th {\n",
       "        text-align: right;\n",
       "    }\n",
       "</style>\n",
       "<table border=\"1\" class=\"dataframe\">\n",
       "  <thead>\n",
       "    <tr style=\"text-align: right;\">\n",
       "      <th></th>\n",
       "      <th>item_id</th>\n",
       "      <th>num_installs</th>\n",
       "      <th>inis_perc_global_item</th>\n",
       "      <th>num_uninstalls</th>\n",
       "      <th>unis_perc_global_item</th>\n",
       "      <th>ratio_iu_item</th>\n",
       "    </tr>\n",
       "  </thead>\n",
       "  <tbody>\n",
       "    <tr>\n",
       "      <th>0</th>\n",
       "      <td>20875</td>\n",
       "      <td>31825.0</td>\n",
       "      <td>0.395956</td>\n",
       "      <td>8263.0</td>\n",
       "      <td>0.102806</td>\n",
       "      <td>3.851041</td>\n",
       "    </tr>\n",
       "    <tr>\n",
       "      <th>1</th>\n",
       "      <td>25349</td>\n",
       "      <td>18265.0</td>\n",
       "      <td>0.227247</td>\n",
       "      <td>25555.0</td>\n",
       "      <td>0.317947</td>\n",
       "      <td>0.714705</td>\n",
       "    </tr>\n",
       "    <tr>\n",
       "      <th>2</th>\n",
       "      <td>145569</td>\n",
       "      <td>11496.0</td>\n",
       "      <td>0.143030</td>\n",
       "      <td>28814.0</td>\n",
       "      <td>0.358495</td>\n",
       "      <td>0.398959</td>\n",
       "    </tr>\n",
       "    <tr>\n",
       "      <th>3</th>\n",
       "      <td>589378</td>\n",
       "      <td>11129.0</td>\n",
       "      <td>0.138463</td>\n",
       "      <td>54917.0</td>\n",
       "      <td>0.683260</td>\n",
       "      <td>0.202648</td>\n",
       "    </tr>\n",
       "    <tr>\n",
       "      <th>4</th>\n",
       "      <td>145082</td>\n",
       "      <td>10446.0</td>\n",
       "      <td>0.129966</td>\n",
       "      <td>33289.0</td>\n",
       "      <td>0.414171</td>\n",
       "      <td>0.313788</td>\n",
       "    </tr>\n",
       "    <tr>\n",
       "      <th>...</th>\n",
       "      <td>...</td>\n",
       "      <td>...</td>\n",
       "      <td>...</td>\n",
       "      <td>...</td>\n",
       "      <td>...</td>\n",
       "      <td>...</td>\n",
       "    </tr>\n",
       "    <tr>\n",
       "      <th>80370</th>\n",
       "      <td>830233</td>\n",
       "      <td>0.0</td>\n",
       "      <td>0.000000</td>\n",
       "      <td>1.0</td>\n",
       "      <td>0.000012</td>\n",
       "      <td>0.000000</td>\n",
       "    </tr>\n",
       "    <tr>\n",
       "      <th>80371</th>\n",
       "      <td>860549</td>\n",
       "      <td>0.0</td>\n",
       "      <td>0.000000</td>\n",
       "      <td>1.0</td>\n",
       "      <td>0.000012</td>\n",
       "      <td>0.000000</td>\n",
       "    </tr>\n",
       "    <tr>\n",
       "      <th>80372</th>\n",
       "      <td>161965</td>\n",
       "      <td>0.0</td>\n",
       "      <td>0.000000</td>\n",
       "      <td>1.0</td>\n",
       "      <td>0.000012</td>\n",
       "      <td>0.000000</td>\n",
       "    </tr>\n",
       "    <tr>\n",
       "      <th>80373</th>\n",
       "      <td>36653</td>\n",
       "      <td>0.0</td>\n",
       "      <td>0.000000</td>\n",
       "      <td>1.0</td>\n",
       "      <td>0.000012</td>\n",
       "      <td>0.000000</td>\n",
       "    </tr>\n",
       "    <tr>\n",
       "      <th>80374</th>\n",
       "      <td>904621</td>\n",
       "      <td>0.0</td>\n",
       "      <td>0.000000</td>\n",
       "      <td>1.0</td>\n",
       "      <td>0.000012</td>\n",
       "      <td>0.000000</td>\n",
       "    </tr>\n",
       "  </tbody>\n",
       "</table>\n",
       "<p>80375 rows × 6 columns</p>\n",
       "</div>"
      ],
      "text/plain": [
       "       item_id  num_installs  inis_perc_global_item  num_uninstalls  \\\n",
       "0        20875       31825.0               0.395956          8263.0   \n",
       "1        25349       18265.0               0.227247         25555.0   \n",
       "2       145569       11496.0               0.143030         28814.0   \n",
       "3       589378       11129.0               0.138463         54917.0   \n",
       "4       145082       10446.0               0.129966         33289.0   \n",
       "...        ...           ...                    ...             ...   \n",
       "80370   830233           0.0               0.000000             1.0   \n",
       "80371   860549           0.0               0.000000             1.0   \n",
       "80372   161965           0.0               0.000000             1.0   \n",
       "80373    36653           0.0               0.000000             1.0   \n",
       "80374   904621           0.0               0.000000             1.0   \n",
       "\n",
       "       unis_perc_global_item  ratio_iu_item  \n",
       "0                   0.102806       3.851041  \n",
       "1                   0.317947       0.714705  \n",
       "2                   0.358495       0.398959  \n",
       "3                   0.683260       0.202648  \n",
       "4                   0.414171       0.313788  \n",
       "...                      ...            ...  \n",
       "80370               0.000012       0.000000  \n",
       "80371               0.000012       0.000000  \n",
       "80372               0.000012       0.000000  \n",
       "80373               0.000012       0.000000  \n",
       "80374               0.000012       0.000000  \n",
       "\n",
       "[80375 rows x 6 columns]"
      ]
     },
     "execution_count": 74,
     "metadata": {},
     "output_type": "execute_result"
    }
   ],
   "source": [
    "df_item_level_iu = df_app_inis_global_item.merge(\n",
    "    df_app_unis_global_item, on=\"item_id\", how=\"outer\"\n",
    ").fillna(0)\n",
    "\n",
    "df_item_level_iu[\"ratio_iu_item\"] = df_item_level_iu[\"num_installs\"] / (\n",
    "    df_item_level_iu[\"num_uninstalls\"] + 1\n",
    ")\n",
    "\n",
    "df_item_level_iu"
   ]
  },
  {
   "cell_type": "markdown",
   "id": "7e4cb7c1-accc-4326-9003-b94d49e79087",
   "metadata": {},
   "source": [
    "- Based on number of installs of apps we can understand if the app is new to the app store\n",
    "    - or is not being discovered"
   ]
  },
  {
   "cell_type": "code",
   "execution_count": 75,
   "id": "7a2aeb80-64bb-4f00-a536-5546caa77afe",
   "metadata": {},
   "outputs": [
    {
     "data": {
      "text/html": [
       "<div>\n",
       "<style scoped>\n",
       "    .dataframe tbody tr th:only-of-type {\n",
       "        vertical-align: middle;\n",
       "    }\n",
       "\n",
       "    .dataframe tbody tr th {\n",
       "        vertical-align: top;\n",
       "    }\n",
       "\n",
       "    .dataframe thead th {\n",
       "        text-align: right;\n",
       "    }\n",
       "</style>\n",
       "<table border=\"1\" class=\"dataframe\">\n",
       "  <thead>\n",
       "    <tr style=\"text-align: right;\">\n",
       "      <th></th>\n",
       "      <th>uid</th>\n",
       "      <th>num_installs</th>\n",
       "      <th>inis_perc_global_user</th>\n",
       "      <th>num_uninstalls</th>\n",
       "      <th>unis_perc_global_user</th>\n",
       "      <th>ratio_iu_user</th>\n",
       "    </tr>\n",
       "  </thead>\n",
       "  <tbody>\n",
       "    <tr>\n",
       "      <th>0</th>\n",
       "      <td>223221</td>\n",
       "      <td>466.0</td>\n",
       "      <td>0.002200</td>\n",
       "      <td>2.0</td>\n",
       "      <td>0.000009</td>\n",
       "      <td>155.333333</td>\n",
       "    </tr>\n",
       "    <tr>\n",
       "      <th>1</th>\n",
       "      <td>116589</td>\n",
       "      <td>165.0</td>\n",
       "      <td>0.000779</td>\n",
       "      <td>0.0</td>\n",
       "      <td>0.000000</td>\n",
       "      <td>165.000000</td>\n",
       "    </tr>\n",
       "    <tr>\n",
       "      <th>2</th>\n",
       "      <td>144677</td>\n",
       "      <td>137.0</td>\n",
       "      <td>0.000647</td>\n",
       "      <td>58.0</td>\n",
       "      <td>0.000274</td>\n",
       "      <td>2.322034</td>\n",
       "    </tr>\n",
       "    <tr>\n",
       "      <th>3</th>\n",
       "      <td>12</td>\n",
       "      <td>127.0</td>\n",
       "      <td>0.000600</td>\n",
       "      <td>21.0</td>\n",
       "      <td>0.000099</td>\n",
       "      <td>5.772727</td>\n",
       "    </tr>\n",
       "    <tr>\n",
       "      <th>4</th>\n",
       "      <td>160997</td>\n",
       "      <td>123.0</td>\n",
       "      <td>0.000581</td>\n",
       "      <td>30.0</td>\n",
       "      <td>0.000142</td>\n",
       "      <td>3.967742</td>\n",
       "    </tr>\n",
       "    <tr>\n",
       "      <th>...</th>\n",
       "      <td>...</td>\n",
       "      <td>...</td>\n",
       "      <td>...</td>\n",
       "      <td>...</td>\n",
       "      <td>...</td>\n",
       "      <td>...</td>\n",
       "    </tr>\n",
       "    <tr>\n",
       "      <th>211829</th>\n",
       "      <td>252384</td>\n",
       "      <td>0.0</td>\n",
       "      <td>0.000000</td>\n",
       "      <td>1.0</td>\n",
       "      <td>0.000005</td>\n",
       "      <td>0.000000</td>\n",
       "    </tr>\n",
       "    <tr>\n",
       "      <th>211830</th>\n",
       "      <td>132145</td>\n",
       "      <td>0.0</td>\n",
       "      <td>0.000000</td>\n",
       "      <td>1.0</td>\n",
       "      <td>0.000005</td>\n",
       "      <td>0.000000</td>\n",
       "    </tr>\n",
       "    <tr>\n",
       "      <th>211831</th>\n",
       "      <td>209728</td>\n",
       "      <td>0.0</td>\n",
       "      <td>0.000000</td>\n",
       "      <td>1.0</td>\n",
       "      <td>0.000005</td>\n",
       "      <td>0.000000</td>\n",
       "    </tr>\n",
       "    <tr>\n",
       "      <th>211832</th>\n",
       "      <td>59713</td>\n",
       "      <td>0.0</td>\n",
       "      <td>0.000000</td>\n",
       "      <td>1.0</td>\n",
       "      <td>0.000005</td>\n",
       "      <td>0.000000</td>\n",
       "    </tr>\n",
       "    <tr>\n",
       "      <th>211833</th>\n",
       "      <td>295128</td>\n",
       "      <td>0.0</td>\n",
       "      <td>0.000000</td>\n",
       "      <td>1.0</td>\n",
       "      <td>0.000005</td>\n",
       "      <td>0.000000</td>\n",
       "    </tr>\n",
       "  </tbody>\n",
       "</table>\n",
       "<p>211834 rows × 6 columns</p>\n",
       "</div>"
      ],
      "text/plain": [
       "           uid  num_installs  inis_perc_global_user  num_uninstalls  \\\n",
       "0       223221         466.0               0.002200             2.0   \n",
       "1       116589         165.0               0.000779             0.0   \n",
       "2       144677         137.0               0.000647            58.0   \n",
       "3           12         127.0               0.000600            21.0   \n",
       "4       160997         123.0               0.000581            30.0   \n",
       "...        ...           ...                    ...             ...   \n",
       "211829  252384           0.0               0.000000             1.0   \n",
       "211830  132145           0.0               0.000000             1.0   \n",
       "211831  209728           0.0               0.000000             1.0   \n",
       "211832   59713           0.0               0.000000             1.0   \n",
       "211833  295128           0.0               0.000000             1.0   \n",
       "\n",
       "        unis_perc_global_user  ratio_iu_user  \n",
       "0                    0.000009     155.333333  \n",
       "1                    0.000000     165.000000  \n",
       "2                    0.000274       2.322034  \n",
       "3                    0.000099       5.772727  \n",
       "4                    0.000142       3.967742  \n",
       "...                       ...            ...  \n",
       "211829               0.000005       0.000000  \n",
       "211830               0.000005       0.000000  \n",
       "211831               0.000005       0.000000  \n",
       "211832               0.000005       0.000000  \n",
       "211833               0.000005       0.000000  \n",
       "\n",
       "[211834 rows x 6 columns]"
      ]
     },
     "execution_count": 75,
     "metadata": {},
     "output_type": "execute_result"
    }
   ],
   "source": [
    "df_user_level_iu = df_app_inis_global_user.merge(\n",
    "    df_app_unis_global_user, on=\"uid\", how=\"outer\"\n",
    ").fillna(0)\n",
    "\n",
    "df_user_level_iu[\"ratio_iu_user\"] = df_user_level_iu[\"num_installs\"] / (\n",
    "    df_user_level_iu[\"num_uninstalls\"] + 1\n",
    ")\n",
    "\n",
    "df_user_level_iu"
   ]
  },
  {
   "cell_type": "markdown",
   "id": "15affdc9-79ab-4d09-bcde-714a8dd47d6f",
   "metadata": {},
   "source": [
    "- Based on number of installs by we can understand if the user is new to the current app store\n",
    "    - also possibility of : user has not discovered relevant apps \n"
   ]
  }
 ],
 "metadata": {
  "kernelspec": {
   "display_name": "Python 3.8.9 64-bit",
   "language": "python",
   "name": "python3"
  },
  "language_info": {
   "codemirror_mode": {
    "name": "ipython",
    "version": 3
   },
   "file_extension": ".py",
   "mimetype": "text/x-python",
   "name": "python",
   "nbconvert_exporter": "python",
   "pygments_lexer": "ipython3",
   "version": "3.8.9"
  },
  "toc-autonumbering": true,
  "vscode": {
   "interpreter": {
    "hash": "31f2aee4e71d21fbe5cf8b01ff0e069b9275f58929596ceb00d14d90e3e16cd6"
   }
  }
 },
 "nbformat": 4,
 "nbformat_minor": 5
}
