{
 "cells": [
  {
   "cell_type": "code",
   "execution_count": 1,
   "metadata": {},
   "outputs": [],
   "source": [
    "import tensorflow as tf\n",
    "import tensorflow.keras as keras\n",
    "import matplotlib.pyplot as plt\n",
    "# %matplotlib inline\n",
    "import numpy as np\n",
    "import pandas as pd"
   ]
  },
  {
   "cell_type": "code",
   "execution_count": 2,
   "metadata": {},
   "outputs": [
    {
     "name": "stdout",
     "output_type": "stream",
     "text": [
      "(7043, 21)\n"
     ]
    },
    {
     "data": {
      "text/html": [
       "<div>\n",
       "<style scoped>\n",
       "    .dataframe tbody tr th:only-of-type {\n",
       "        vertical-align: middle;\n",
       "    }\n",
       "\n",
       "    .dataframe tbody tr th {\n",
       "        vertical-align: top;\n",
       "    }\n",
       "\n",
       "    .dataframe thead th {\n",
       "        text-align: right;\n",
       "    }\n",
       "</style>\n",
       "<table border=\"1\" class=\"dataframe\">\n",
       "  <thead>\n",
       "    <tr style=\"text-align: right;\">\n",
       "      <th></th>\n",
       "      <th>customerID</th>\n",
       "      <th>gender</th>\n",
       "      <th>SeniorCitizen</th>\n",
       "      <th>Partner</th>\n",
       "      <th>Dependents</th>\n",
       "      <th>tenure</th>\n",
       "      <th>PhoneService</th>\n",
       "      <th>MultipleLines</th>\n",
       "      <th>InternetService</th>\n",
       "      <th>OnlineSecurity</th>\n",
       "      <th>...</th>\n",
       "      <th>DeviceProtection</th>\n",
       "      <th>TechSupport</th>\n",
       "      <th>StreamingTV</th>\n",
       "      <th>StreamingMovies</th>\n",
       "      <th>Contract</th>\n",
       "      <th>PaperlessBilling</th>\n",
       "      <th>PaymentMethod</th>\n",
       "      <th>MonthlyCharges</th>\n",
       "      <th>TotalCharges</th>\n",
       "      <th>Churn</th>\n",
       "    </tr>\n",
       "  </thead>\n",
       "  <tbody>\n",
       "    <tr>\n",
       "      <th>0</th>\n",
       "      <td>7590-VHVEG</td>\n",
       "      <td>Female</td>\n",
       "      <td>0</td>\n",
       "      <td>Yes</td>\n",
       "      <td>No</td>\n",
       "      <td>1</td>\n",
       "      <td>No</td>\n",
       "      <td>No phone service</td>\n",
       "      <td>DSL</td>\n",
       "      <td>No</td>\n",
       "      <td>...</td>\n",
       "      <td>No</td>\n",
       "      <td>No</td>\n",
       "      <td>No</td>\n",
       "      <td>No</td>\n",
       "      <td>Month-to-month</td>\n",
       "      <td>Yes</td>\n",
       "      <td>Electronic check</td>\n",
       "      <td>29.85</td>\n",
       "      <td>29.85</td>\n",
       "      <td>No</td>\n",
       "    </tr>\n",
       "    <tr>\n",
       "      <th>1</th>\n",
       "      <td>5575-GNVDE</td>\n",
       "      <td>Male</td>\n",
       "      <td>0</td>\n",
       "      <td>No</td>\n",
       "      <td>No</td>\n",
       "      <td>34</td>\n",
       "      <td>Yes</td>\n",
       "      <td>No</td>\n",
       "      <td>DSL</td>\n",
       "      <td>Yes</td>\n",
       "      <td>...</td>\n",
       "      <td>Yes</td>\n",
       "      <td>No</td>\n",
       "      <td>No</td>\n",
       "      <td>No</td>\n",
       "      <td>One year</td>\n",
       "      <td>No</td>\n",
       "      <td>Mailed check</td>\n",
       "      <td>56.95</td>\n",
       "      <td>1889.5</td>\n",
       "      <td>No</td>\n",
       "    </tr>\n",
       "    <tr>\n",
       "      <th>2</th>\n",
       "      <td>3668-QPYBK</td>\n",
       "      <td>Male</td>\n",
       "      <td>0</td>\n",
       "      <td>No</td>\n",
       "      <td>No</td>\n",
       "      <td>2</td>\n",
       "      <td>Yes</td>\n",
       "      <td>No</td>\n",
       "      <td>DSL</td>\n",
       "      <td>Yes</td>\n",
       "      <td>...</td>\n",
       "      <td>No</td>\n",
       "      <td>No</td>\n",
       "      <td>No</td>\n",
       "      <td>No</td>\n",
       "      <td>Month-to-month</td>\n",
       "      <td>Yes</td>\n",
       "      <td>Mailed check</td>\n",
       "      <td>53.85</td>\n",
       "      <td>108.15</td>\n",
       "      <td>Yes</td>\n",
       "    </tr>\n",
       "    <tr>\n",
       "      <th>3</th>\n",
       "      <td>7795-CFOCW</td>\n",
       "      <td>Male</td>\n",
       "      <td>0</td>\n",
       "      <td>No</td>\n",
       "      <td>No</td>\n",
       "      <td>45</td>\n",
       "      <td>No</td>\n",
       "      <td>No phone service</td>\n",
       "      <td>DSL</td>\n",
       "      <td>Yes</td>\n",
       "      <td>...</td>\n",
       "      <td>Yes</td>\n",
       "      <td>Yes</td>\n",
       "      <td>No</td>\n",
       "      <td>No</td>\n",
       "      <td>One year</td>\n",
       "      <td>No</td>\n",
       "      <td>Bank transfer (automatic)</td>\n",
       "      <td>42.30</td>\n",
       "      <td>1840.75</td>\n",
       "      <td>No</td>\n",
       "    </tr>\n",
       "    <tr>\n",
       "      <th>4</th>\n",
       "      <td>9237-HQITU</td>\n",
       "      <td>Female</td>\n",
       "      <td>0</td>\n",
       "      <td>No</td>\n",
       "      <td>No</td>\n",
       "      <td>2</td>\n",
       "      <td>Yes</td>\n",
       "      <td>No</td>\n",
       "      <td>Fiber optic</td>\n",
       "      <td>No</td>\n",
       "      <td>...</td>\n",
       "      <td>No</td>\n",
       "      <td>No</td>\n",
       "      <td>No</td>\n",
       "      <td>No</td>\n",
       "      <td>Month-to-month</td>\n",
       "      <td>Yes</td>\n",
       "      <td>Electronic check</td>\n",
       "      <td>70.70</td>\n",
       "      <td>151.65</td>\n",
       "      <td>Yes</td>\n",
       "    </tr>\n",
       "  </tbody>\n",
       "</table>\n",
       "<p>5 rows × 21 columns</p>\n",
       "</div>"
      ],
      "text/plain": [
       "   customerID  gender  SeniorCitizen Partner Dependents  tenure PhoneService  \\\n",
       "0  7590-VHVEG  Female              0     Yes         No       1           No   \n",
       "1  5575-GNVDE    Male              0      No         No      34          Yes   \n",
       "2  3668-QPYBK    Male              0      No         No       2          Yes   \n",
       "3  7795-CFOCW    Male              0      No         No      45           No   \n",
       "4  9237-HQITU  Female              0      No         No       2          Yes   \n",
       "\n",
       "      MultipleLines InternetService OnlineSecurity  ... DeviceProtection  \\\n",
       "0  No phone service             DSL             No  ...               No   \n",
       "1                No             DSL            Yes  ...              Yes   \n",
       "2                No             DSL            Yes  ...               No   \n",
       "3  No phone service             DSL            Yes  ...              Yes   \n",
       "4                No     Fiber optic             No  ...               No   \n",
       "\n",
       "  TechSupport StreamingTV StreamingMovies        Contract PaperlessBilling  \\\n",
       "0          No          No              No  Month-to-month              Yes   \n",
       "1          No          No              No        One year               No   \n",
       "2          No          No              No  Month-to-month              Yes   \n",
       "3         Yes          No              No        One year               No   \n",
       "4          No          No              No  Month-to-month              Yes   \n",
       "\n",
       "               PaymentMethod MonthlyCharges  TotalCharges Churn  \n",
       "0           Electronic check          29.85         29.85    No  \n",
       "1               Mailed check          56.95        1889.5    No  \n",
       "2               Mailed check          53.85        108.15   Yes  \n",
       "3  Bank transfer (automatic)          42.30       1840.75    No  \n",
       "4           Electronic check          70.70        151.65   Yes  \n",
       "\n",
       "[5 rows x 21 columns]"
      ]
     },
     "execution_count": 2,
     "metadata": {},
     "output_type": "execute_result"
    }
   ],
   "source": [
    "df = pd.read_csv(\"customer_churn.csv\")\n",
    "print(df.shape)\n",
    "df.head()"
   ]
  },
  {
   "cell_type": "code",
   "execution_count": 3,
   "metadata": {},
   "outputs": [],
   "source": [
    "df.drop('customerID',axis=1,inplace=True)"
   ]
  },
  {
   "cell_type": "code",
   "execution_count": 4,
   "metadata": {},
   "outputs": [
    {
     "data": {
      "text/html": [
       "<div>\n",
       "<style scoped>\n",
       "    .dataframe tbody tr th:only-of-type {\n",
       "        vertical-align: middle;\n",
       "    }\n",
       "\n",
       "    .dataframe tbody tr th {\n",
       "        vertical-align: top;\n",
       "    }\n",
       "\n",
       "    .dataframe thead th {\n",
       "        text-align: right;\n",
       "    }\n",
       "</style>\n",
       "<table border=\"1\" class=\"dataframe\">\n",
       "  <thead>\n",
       "    <tr style=\"text-align: right;\">\n",
       "      <th></th>\n",
       "      <th>gender</th>\n",
       "      <th>SeniorCitizen</th>\n",
       "      <th>Partner</th>\n",
       "      <th>Dependents</th>\n",
       "      <th>tenure</th>\n",
       "      <th>PhoneService</th>\n",
       "      <th>MultipleLines</th>\n",
       "      <th>InternetService</th>\n",
       "      <th>OnlineSecurity</th>\n",
       "      <th>OnlineBackup</th>\n",
       "      <th>DeviceProtection</th>\n",
       "      <th>TechSupport</th>\n",
       "      <th>StreamingTV</th>\n",
       "      <th>StreamingMovies</th>\n",
       "      <th>Contract</th>\n",
       "      <th>PaperlessBilling</th>\n",
       "      <th>PaymentMethod</th>\n",
       "      <th>MonthlyCharges</th>\n",
       "      <th>TotalCharges</th>\n",
       "      <th>Churn</th>\n",
       "    </tr>\n",
       "  </thead>\n",
       "  <tbody>\n",
       "    <tr>\n",
       "      <th>488</th>\n",
       "      <td>Female</td>\n",
       "      <td>0</td>\n",
       "      <td>Yes</td>\n",
       "      <td>Yes</td>\n",
       "      <td>0</td>\n",
       "      <td>No</td>\n",
       "      <td>No phone service</td>\n",
       "      <td>DSL</td>\n",
       "      <td>Yes</td>\n",
       "      <td>No</td>\n",
       "      <td>Yes</td>\n",
       "      <td>Yes</td>\n",
       "      <td>Yes</td>\n",
       "      <td>No</td>\n",
       "      <td>Two year</td>\n",
       "      <td>Yes</td>\n",
       "      <td>Bank transfer (automatic)</td>\n",
       "      <td>52.55</td>\n",
       "      <td></td>\n",
       "      <td>No</td>\n",
       "    </tr>\n",
       "    <tr>\n",
       "      <th>753</th>\n",
       "      <td>Male</td>\n",
       "      <td>0</td>\n",
       "      <td>No</td>\n",
       "      <td>Yes</td>\n",
       "      <td>0</td>\n",
       "      <td>Yes</td>\n",
       "      <td>No</td>\n",
       "      <td>No</td>\n",
       "      <td>No internet service</td>\n",
       "      <td>No internet service</td>\n",
       "      <td>No internet service</td>\n",
       "      <td>No internet service</td>\n",
       "      <td>No internet service</td>\n",
       "      <td>No internet service</td>\n",
       "      <td>Two year</td>\n",
       "      <td>No</td>\n",
       "      <td>Mailed check</td>\n",
       "      <td>20.25</td>\n",
       "      <td></td>\n",
       "      <td>No</td>\n",
       "    </tr>\n",
       "    <tr>\n",
       "      <th>936</th>\n",
       "      <td>Female</td>\n",
       "      <td>0</td>\n",
       "      <td>Yes</td>\n",
       "      <td>Yes</td>\n",
       "      <td>0</td>\n",
       "      <td>Yes</td>\n",
       "      <td>No</td>\n",
       "      <td>DSL</td>\n",
       "      <td>Yes</td>\n",
       "      <td>Yes</td>\n",
       "      <td>Yes</td>\n",
       "      <td>No</td>\n",
       "      <td>Yes</td>\n",
       "      <td>Yes</td>\n",
       "      <td>Two year</td>\n",
       "      <td>No</td>\n",
       "      <td>Mailed check</td>\n",
       "      <td>80.85</td>\n",
       "      <td></td>\n",
       "      <td>No</td>\n",
       "    </tr>\n",
       "    <tr>\n",
       "      <th>1082</th>\n",
       "      <td>Male</td>\n",
       "      <td>0</td>\n",
       "      <td>Yes</td>\n",
       "      <td>Yes</td>\n",
       "      <td>0</td>\n",
       "      <td>Yes</td>\n",
       "      <td>Yes</td>\n",
       "      <td>No</td>\n",
       "      <td>No internet service</td>\n",
       "      <td>No internet service</td>\n",
       "      <td>No internet service</td>\n",
       "      <td>No internet service</td>\n",
       "      <td>No internet service</td>\n",
       "      <td>No internet service</td>\n",
       "      <td>Two year</td>\n",
       "      <td>No</td>\n",
       "      <td>Mailed check</td>\n",
       "      <td>25.75</td>\n",
       "      <td></td>\n",
       "      <td>No</td>\n",
       "    </tr>\n",
       "    <tr>\n",
       "      <th>1340</th>\n",
       "      <td>Female</td>\n",
       "      <td>0</td>\n",
       "      <td>Yes</td>\n",
       "      <td>Yes</td>\n",
       "      <td>0</td>\n",
       "      <td>No</td>\n",
       "      <td>No phone service</td>\n",
       "      <td>DSL</td>\n",
       "      <td>Yes</td>\n",
       "      <td>Yes</td>\n",
       "      <td>Yes</td>\n",
       "      <td>Yes</td>\n",
       "      <td>Yes</td>\n",
       "      <td>No</td>\n",
       "      <td>Two year</td>\n",
       "      <td>No</td>\n",
       "      <td>Credit card (automatic)</td>\n",
       "      <td>56.05</td>\n",
       "      <td></td>\n",
       "      <td>No</td>\n",
       "    </tr>\n",
       "    <tr>\n",
       "      <th>3331</th>\n",
       "      <td>Male</td>\n",
       "      <td>0</td>\n",
       "      <td>Yes</td>\n",
       "      <td>Yes</td>\n",
       "      <td>0</td>\n",
       "      <td>Yes</td>\n",
       "      <td>No</td>\n",
       "      <td>No</td>\n",
       "      <td>No internet service</td>\n",
       "      <td>No internet service</td>\n",
       "      <td>No internet service</td>\n",
       "      <td>No internet service</td>\n",
       "      <td>No internet service</td>\n",
       "      <td>No internet service</td>\n",
       "      <td>Two year</td>\n",
       "      <td>No</td>\n",
       "      <td>Mailed check</td>\n",
       "      <td>19.85</td>\n",
       "      <td></td>\n",
       "      <td>No</td>\n",
       "    </tr>\n",
       "    <tr>\n",
       "      <th>3826</th>\n",
       "      <td>Male</td>\n",
       "      <td>0</td>\n",
       "      <td>Yes</td>\n",
       "      <td>Yes</td>\n",
       "      <td>0</td>\n",
       "      <td>Yes</td>\n",
       "      <td>Yes</td>\n",
       "      <td>No</td>\n",
       "      <td>No internet service</td>\n",
       "      <td>No internet service</td>\n",
       "      <td>No internet service</td>\n",
       "      <td>No internet service</td>\n",
       "      <td>No internet service</td>\n",
       "      <td>No internet service</td>\n",
       "      <td>Two year</td>\n",
       "      <td>No</td>\n",
       "      <td>Mailed check</td>\n",
       "      <td>25.35</td>\n",
       "      <td></td>\n",
       "      <td>No</td>\n",
       "    </tr>\n",
       "    <tr>\n",
       "      <th>4380</th>\n",
       "      <td>Female</td>\n",
       "      <td>0</td>\n",
       "      <td>Yes</td>\n",
       "      <td>Yes</td>\n",
       "      <td>0</td>\n",
       "      <td>Yes</td>\n",
       "      <td>No</td>\n",
       "      <td>No</td>\n",
       "      <td>No internet service</td>\n",
       "      <td>No internet service</td>\n",
       "      <td>No internet service</td>\n",
       "      <td>No internet service</td>\n",
       "      <td>No internet service</td>\n",
       "      <td>No internet service</td>\n",
       "      <td>Two year</td>\n",
       "      <td>No</td>\n",
       "      <td>Mailed check</td>\n",
       "      <td>20.00</td>\n",
       "      <td></td>\n",
       "      <td>No</td>\n",
       "    </tr>\n",
       "    <tr>\n",
       "      <th>5218</th>\n",
       "      <td>Male</td>\n",
       "      <td>0</td>\n",
       "      <td>Yes</td>\n",
       "      <td>Yes</td>\n",
       "      <td>0</td>\n",
       "      <td>Yes</td>\n",
       "      <td>No</td>\n",
       "      <td>No</td>\n",
       "      <td>No internet service</td>\n",
       "      <td>No internet service</td>\n",
       "      <td>No internet service</td>\n",
       "      <td>No internet service</td>\n",
       "      <td>No internet service</td>\n",
       "      <td>No internet service</td>\n",
       "      <td>One year</td>\n",
       "      <td>Yes</td>\n",
       "      <td>Mailed check</td>\n",
       "      <td>19.70</td>\n",
       "      <td></td>\n",
       "      <td>No</td>\n",
       "    </tr>\n",
       "    <tr>\n",
       "      <th>6670</th>\n",
       "      <td>Female</td>\n",
       "      <td>0</td>\n",
       "      <td>Yes</td>\n",
       "      <td>Yes</td>\n",
       "      <td>0</td>\n",
       "      <td>Yes</td>\n",
       "      <td>Yes</td>\n",
       "      <td>DSL</td>\n",
       "      <td>No</td>\n",
       "      <td>Yes</td>\n",
       "      <td>Yes</td>\n",
       "      <td>Yes</td>\n",
       "      <td>Yes</td>\n",
       "      <td>No</td>\n",
       "      <td>Two year</td>\n",
       "      <td>No</td>\n",
       "      <td>Mailed check</td>\n",
       "      <td>73.35</td>\n",
       "      <td></td>\n",
       "      <td>No</td>\n",
       "    </tr>\n",
       "    <tr>\n",
       "      <th>6754</th>\n",
       "      <td>Male</td>\n",
       "      <td>0</td>\n",
       "      <td>No</td>\n",
       "      <td>Yes</td>\n",
       "      <td>0</td>\n",
       "      <td>Yes</td>\n",
       "      <td>Yes</td>\n",
       "      <td>DSL</td>\n",
       "      <td>Yes</td>\n",
       "      <td>Yes</td>\n",
       "      <td>No</td>\n",
       "      <td>Yes</td>\n",
       "      <td>No</td>\n",
       "      <td>No</td>\n",
       "      <td>Two year</td>\n",
       "      <td>Yes</td>\n",
       "      <td>Bank transfer (automatic)</td>\n",
       "      <td>61.90</td>\n",
       "      <td></td>\n",
       "      <td>No</td>\n",
       "    </tr>\n",
       "  </tbody>\n",
       "</table>\n",
       "</div>"
      ],
      "text/plain": [
       "      gender  SeniorCitizen Partner Dependents  tenure PhoneService  \\\n",
       "488   Female              0     Yes        Yes       0           No   \n",
       "753     Male              0      No        Yes       0          Yes   \n",
       "936   Female              0     Yes        Yes       0          Yes   \n",
       "1082    Male              0     Yes        Yes       0          Yes   \n",
       "1340  Female              0     Yes        Yes       0           No   \n",
       "3331    Male              0     Yes        Yes       0          Yes   \n",
       "3826    Male              0     Yes        Yes       0          Yes   \n",
       "4380  Female              0     Yes        Yes       0          Yes   \n",
       "5218    Male              0     Yes        Yes       0          Yes   \n",
       "6670  Female              0     Yes        Yes       0          Yes   \n",
       "6754    Male              0      No        Yes       0          Yes   \n",
       "\n",
       "         MultipleLines InternetService       OnlineSecurity  \\\n",
       "488   No phone service             DSL                  Yes   \n",
       "753                 No              No  No internet service   \n",
       "936                 No             DSL                  Yes   \n",
       "1082               Yes              No  No internet service   \n",
       "1340  No phone service             DSL                  Yes   \n",
       "3331                No              No  No internet service   \n",
       "3826               Yes              No  No internet service   \n",
       "4380                No              No  No internet service   \n",
       "5218                No              No  No internet service   \n",
       "6670               Yes             DSL                   No   \n",
       "6754               Yes             DSL                  Yes   \n",
       "\n",
       "             OnlineBackup     DeviceProtection          TechSupport  \\\n",
       "488                    No                  Yes                  Yes   \n",
       "753   No internet service  No internet service  No internet service   \n",
       "936                   Yes                  Yes                   No   \n",
       "1082  No internet service  No internet service  No internet service   \n",
       "1340                  Yes                  Yes                  Yes   \n",
       "3331  No internet service  No internet service  No internet service   \n",
       "3826  No internet service  No internet service  No internet service   \n",
       "4380  No internet service  No internet service  No internet service   \n",
       "5218  No internet service  No internet service  No internet service   \n",
       "6670                  Yes                  Yes                  Yes   \n",
       "6754                  Yes                   No                  Yes   \n",
       "\n",
       "              StreamingTV      StreamingMovies  Contract PaperlessBilling  \\\n",
       "488                   Yes                   No  Two year              Yes   \n",
       "753   No internet service  No internet service  Two year               No   \n",
       "936                   Yes                  Yes  Two year               No   \n",
       "1082  No internet service  No internet service  Two year               No   \n",
       "1340                  Yes                   No  Two year               No   \n",
       "3331  No internet service  No internet service  Two year               No   \n",
       "3826  No internet service  No internet service  Two year               No   \n",
       "4380  No internet service  No internet service  Two year               No   \n",
       "5218  No internet service  No internet service  One year              Yes   \n",
       "6670                  Yes                   No  Two year               No   \n",
       "6754                   No                   No  Two year              Yes   \n",
       "\n",
       "                  PaymentMethod  MonthlyCharges TotalCharges Churn  \n",
       "488   Bank transfer (automatic)           52.55                 No  \n",
       "753                Mailed check           20.25                 No  \n",
       "936                Mailed check           80.85                 No  \n",
       "1082               Mailed check           25.75                 No  \n",
       "1340    Credit card (automatic)           56.05                 No  \n",
       "3331               Mailed check           19.85                 No  \n",
       "3826               Mailed check           25.35                 No  \n",
       "4380               Mailed check           20.00                 No  \n",
       "5218               Mailed check           19.70                 No  \n",
       "6670               Mailed check           73.35                 No  \n",
       "6754  Bank transfer (automatic)           61.90                 No  "
      ]
     },
     "execution_count": 4,
     "metadata": {},
     "output_type": "execute_result"
    }
   ],
   "source": [
    "df[pd.to_numeric(df.TotalCharges,errors='coerce').isnull()]"
   ]
  },
  {
   "cell_type": "code",
   "execution_count": 5,
   "metadata": {},
   "outputs": [],
   "source": [
    "df1 = df[df.TotalCharges!=' ']"
   ]
  },
  {
   "cell_type": "code",
   "execution_count": 6,
   "metadata": {},
   "outputs": [
    {
     "name": "stderr",
     "output_type": "stream",
     "text": [
      "c:\\projects\\digit_prediction\\venv\\lib\\site-packages\\pandas\\core\\generic.py:5516: SettingWithCopyWarning: \n",
      "A value is trying to be set on a copy of a slice from a DataFrame.\n",
      "Try using .loc[row_indexer,col_indexer] = value instead\n",
      "\n",
      "See the caveats in the documentation: https://pandas.pydata.org/pandas-docs/stable/user_guide/indexing.html#returning-a-view-versus-a-copy\n",
      "  self[name] = value\n"
     ]
    }
   ],
   "source": [
    "df1.TotalCharges = pd.to_numeric(df1.TotalCharges)"
   ]
  },
  {
   "cell_type": "code",
   "execution_count": 7,
   "metadata": {},
   "outputs": [
    {
     "name": "stderr",
     "output_type": "stream",
     "text": [
      "c:\\projects\\digit_prediction\\venv\\lib\\site-packages\\pandas\\core\\frame.py:5244: SettingWithCopyWarning: \n",
      "A value is trying to be set on a copy of a slice from a DataFrame\n",
      "\n",
      "See the caveats in the documentation: https://pandas.pydata.org/pandas-docs/stable/user_guide/indexing.html#returning-a-view-versus-a-copy\n",
      "  method=method,\n"
     ]
    }
   ],
   "source": [
    "df1.replace('No internet service','No',inplace=True)\n",
    "df1.replace('No phone service','No',inplace=True)"
   ]
  },
  {
   "cell_type": "code",
   "execution_count": 8,
   "metadata": {},
   "outputs": [
    {
     "name": "stderr",
     "output_type": "stream",
     "text": [
      "c:\\projects\\digit_prediction\\venv\\lib\\site-packages\\pandas\\core\\generic.py:6619: SettingWithCopyWarning: \n",
      "A value is trying to be set on a copy of a slice from a DataFrame\n",
      "\n",
      "See the caveats in the documentation: https://pandas.pydata.org/pandas-docs/stable/user_guide/indexing.html#returning-a-view-versus-a-copy\n",
      "  return self._update_inplace(result)\n"
     ]
    }
   ],
   "source": [
    "yes_no_columns = ['Partner','Dependents','PhoneService','MultipleLines','OnlineSecurity','OnlineBackup',\n",
    "                  'DeviceProtection','TechSupport','StreamingTV','StreamingMovies','PaperlessBilling','Churn']\n",
    "for col in yes_no_columns:\n",
    "    df1[col].replace({'Yes': 1,'No': 0},inplace=True)"
   ]
  },
  {
   "cell_type": "code",
   "execution_count": 9,
   "metadata": {},
   "outputs": [],
   "source": [
    "df1['gender'].replace({'Female':1,'Male':0},inplace=True)\n"
   ]
  },
  {
   "cell_type": "code",
   "execution_count": 10,
   "metadata": {},
   "outputs": [
    {
     "data": {
      "text/plain": [
       "Index(['gender', 'SeniorCitizen', 'Partner', 'Dependents', 'tenure',\n",
       "       'PhoneService', 'MultipleLines', 'OnlineSecurity', 'OnlineBackup',\n",
       "       'DeviceProtection', 'TechSupport', 'StreamingTV', 'StreamingMovies',\n",
       "       'PaperlessBilling', 'MonthlyCharges', 'TotalCharges', 'Churn',\n",
       "       'InternetService_DSL', 'InternetService_Fiber optic',\n",
       "       'InternetService_No', 'Contract_Month-to-month', 'Contract_One year',\n",
       "       'Contract_Two year', 'PaymentMethod_Bank transfer (automatic)',\n",
       "       'PaymentMethod_Credit card (automatic)',\n",
       "       'PaymentMethod_Electronic check', 'PaymentMethod_Mailed check'],\n",
       "      dtype='object')"
      ]
     },
     "execution_count": 10,
     "metadata": {},
     "output_type": "execute_result"
    }
   ],
   "source": [
    "df2 = pd.get_dummies(data=df1, columns=['InternetService','Contract','PaymentMethod'])\n",
    "df2.columns"
   ]
  },
  {
   "cell_type": "code",
   "execution_count": 11,
   "metadata": {},
   "outputs": [],
   "source": [
    "cols_to_scale = ['tenure','MonthlyCharges','TotalCharges']\n",
    "\n",
    "from sklearn.preprocessing import MinMaxScaler\n",
    "scaler = MinMaxScaler()\n",
    "df2[cols_to_scale] = scaler.fit_transform(df2[cols_to_scale])"
   ]
  },
  {
   "cell_type": "code",
   "execution_count": 12,
   "metadata": {},
   "outputs": [
    {
     "name": "stdout",
     "output_type": "stream",
     "text": [
      "gender: [1 0]\n",
      "SeniorCitizen: [0 1]\n",
      "Partner: [1 0]\n",
      "Dependents: [0 1]\n",
      "tenure: [0.         0.46478873 0.01408451 0.61971831 0.09859155 0.29577465\n",
      " 0.12676056 0.38028169 0.85915493 0.16901408 0.21126761 0.8028169\n",
      " 0.67605634 0.33802817 0.95774648 0.71830986 0.98591549 0.28169014\n",
      " 0.15492958 0.4084507  0.64788732 1.         0.22535211 0.36619718\n",
      " 0.05633803 0.63380282 0.14084507 0.97183099 0.87323944 0.5915493\n",
      " 0.1971831  0.83098592 0.23943662 0.91549296 0.11267606 0.02816901\n",
      " 0.42253521 0.69014085 0.88732394 0.77464789 0.08450704 0.57746479\n",
      " 0.47887324 0.66197183 0.3943662  0.90140845 0.52112676 0.94366197\n",
      " 0.43661972 0.76056338 0.50704225 0.49295775 0.56338028 0.07042254\n",
      " 0.04225352 0.45070423 0.92957746 0.30985915 0.78873239 0.84507042\n",
      " 0.18309859 0.26760563 0.73239437 0.54929577 0.81690141 0.32394366\n",
      " 0.6056338  0.25352113 0.74647887 0.70422535 0.35211268 0.53521127]\n",
      "PhoneService: [0 1]\n",
      "MultipleLines: [0 1]\n",
      "OnlineSecurity: [0 1]\n",
      "OnlineBackup: [1 0]\n",
      "DeviceProtection: [0 1]\n",
      "TechSupport: [0 1]\n",
      "StreamingTV: [0 1]\n",
      "StreamingMovies: [0 1]\n",
      "PaperlessBilling: [1 0]\n",
      "MonthlyCharges: [0.11542289 0.38507463 0.35422886 ... 0.44626866 0.25820896 0.60149254]\n",
      "TotalCharges: [0.0012751  0.21586661 0.01031041 ... 0.03780868 0.03321025 0.78764136]\n",
      "Churn: [0 1]\n",
      "InternetService_DSL: [1 0]\n",
      "InternetService_Fiber optic: [0 1]\n",
      "InternetService_No: [0 1]\n",
      "Contract_Month-to-month: [1 0]\n",
      "Contract_One year: [0 1]\n",
      "Contract_Two year: [0 1]\n",
      "PaymentMethod_Bank transfer (automatic): [0 1]\n",
      "PaymentMethod_Credit card (automatic): [0 1]\n",
      "PaymentMethod_Electronic check: [1 0]\n",
      "PaymentMethod_Mailed check: [0 1]\n"
     ]
    }
   ],
   "source": [
    "for col in df2:\n",
    "    print(f'{col}: {df2[col].unique()}')\n"
   ]
  },
  {
   "cell_type": "code",
   "execution_count": 13,
   "metadata": {},
   "outputs": [],
   "source": [
    "X = df2.drop('Churn',axis='columns')\n",
    "y = df2['Churn']\n",
    "\n",
    "from sklearn.model_selection import train_test_split\n",
    "x_train, X_test, y_train, y_test = train_test_split(X,y,test_size=0.2,random_state=5)\n"
   ]
  },
  {
   "cell_type": "code",
   "execution_count": 14,
   "metadata": {},
   "outputs": [
    {
     "data": {
      "text/plain": [
       "26"
      ]
     },
     "execution_count": 14,
     "metadata": {},
     "output_type": "execute_result"
    }
   ],
   "source": [
    "x_train.shape\n",
    "len(x_train.columns)"
   ]
  },
  {
   "cell_type": "code",
   "execution_count": 15,
   "metadata": {},
   "outputs": [],
   "source": [
    "model = keras.Sequential([\n",
    "    keras.layers.Dense(26,input_shape=(26,),activation='relu'),\n",
    "    # keras.layers.Dense(15,activation='relu'),\n",
    "    keras.layers.Dense(1,activation='sigmoid'),\n",
    "])"
   ]
  },
  {
   "cell_type": "code",
   "execution_count": 16,
   "metadata": {},
   "outputs": [],
   "source": [
    "model.compile(optimizer='adam',loss='binary_crossentropy',metrics=['accuracy'])"
   ]
  },
  {
   "cell_type": "code",
   "execution_count": 17,
   "metadata": {},
   "outputs": [
    {
     "name": "stdout",
     "output_type": "stream",
     "text": [
      "Epoch 1/5\n",
      "176/176 [==============================] - 9s 4ms/step - loss: 0.5080 - accuracy: 0.7524\n",
      "Epoch 2/5\n",
      "176/176 [==============================] - 1s 4ms/step - loss: 0.4267 - accuracy: 0.7948\n",
      "Epoch 3/5\n",
      "176/176 [==============================] - 1s 4ms/step - loss: 0.4174 - accuracy: 0.7998\n",
      "Epoch 4/5\n",
      "176/176 [==============================] - 1s 4ms/step - loss: 0.4143 - accuracy: 0.8060\n",
      "Epoch 5/5\n",
      "176/176 [==============================] - 1s 4ms/step - loss: 0.4126 - accuracy: 0.8043\n"
     ]
    },
    {
     "data": {
      "text/plain": [
       "<keras.callbacks.History at 0x1818b5ba348>"
      ]
     },
     "execution_count": 17,
     "metadata": {},
     "output_type": "execute_result"
    }
   ],
   "source": [
    "model.fit(np.array(x_train),np.array(y_train),epochs=5)"
   ]
  },
  {
   "cell_type": "code",
   "execution_count": 18,
   "metadata": {},
   "outputs": [
    {
     "name": "stdout",
     "output_type": "stream",
     "text": [
      "44/44 [==============================] - 0s 3ms/step - loss: 0.4466 - accuracy: 0.7854\n"
     ]
    },
    {
     "data": {
      "text/plain": [
       "[0.4465620815753937, 0.7853589057922363]"
      ]
     },
     "execution_count": 18,
     "metadata": {},
     "output_type": "execute_result"
    }
   ],
   "source": [
    "model.evaluate(np.array(X_test),np.array(y_test))"
   ]
  },
  {
   "cell_type": "code",
   "execution_count": 19,
   "metadata": {},
   "outputs": [],
   "source": [
    "yp = model.predict(np.array(X_test))"
   ]
  },
  {
   "cell_type": "code",
   "execution_count": 20,
   "metadata": {},
   "outputs": [],
   "source": [
    "ypred = []\n",
    "for i in yp:\n",
    "    if i>0.5:\n",
    "        ypred.append(1)\n",
    "    else:\n",
    "        ypred.append(0)"
   ]
  },
  {
   "cell_type": "code",
   "execution_count": 21,
   "metadata": {},
   "outputs": [
    {
     "data": {
      "text/plain": [
       "[0, 0, 0, 1, 0, 1, 0, 1, 0, 0]"
      ]
     },
     "execution_count": 21,
     "metadata": {},
     "output_type": "execute_result"
    }
   ],
   "source": [
    "ypred[:10]"
   ]
  },
  {
   "cell_type": "code",
   "execution_count": 22,
   "metadata": {},
   "outputs": [],
   "source": [
    "from sklearn.metrics import confusion_matrix, classification_report\n",
    "import seaborn as sns\n",
    "cm = tf.math.confusion_matrix(labels=y_test,predictions=ypred)"
   ]
  },
  {
   "cell_type": "code",
   "execution_count": 23,
   "metadata": {},
   "outputs": [
    {
     "data": {
      "text/plain": [
       "Text(69.0, 0.5, 'Truth')"
      ]
     },
     "execution_count": 23,
     "metadata": {},
     "output_type": "execute_result"
    },
    {
     "data": {
      "image/png": "[encoded data removed]",
      "text/plain": [
       "<Figure size 720x504 with 2 Axes>"
      ]
     },
     "metadata": {
      "needs_background": "light"
     },
     "output_type": "display_data"
    }
   ],
   "source": [
    "plt.figure(figsize = (10,7))\n",
    "sns.heatmap(cm, annot=True, fmt='d')\n",
    "plt.xlabel('Predicted')\n",
    "plt.ylabel('Truth')"
   ]
  },
  {
   "cell_type": "code",
   "execution_count": 34,
   "metadata": {},
   "outputs": [],
   "source": [
    "def ANN(x_train,y_train,x_test,y_test,loss,weights):\n",
    "    model = keras.Sequential(\n",
    "        [\n",
    "            keras.layers.Dense(26, input_dim=x_train.shape[1],activation='relu'),\n",
    "            keras.layers.Dense(15,activation='relu'),\n",
    "            keras.layers.Dense(1,activation='sigmoid'),\n",
    "        ]\n",
    "    )\n",
    "    model.compile(optimizer='adam',loss=loss,metrics=['AUC'])\n",
    "    if weights==-1:\n",
    "        model.fit(np.array(x_train),np.array(y_train),epochs=60)\n",
    "    else:\n",
    "        model.fit(np.array(x_train),np.array(y_train),epochs=60,class_weight=weights)\n",
    "    print(model.evaluate(np.array(x_test),np.array(y_test)))\n",
    "    ypreds = model.predict(np.array(x_test))\n",
    "    ypreds = np.round(ypreds)\n",
    "    print('classification report :',classification_report(y_test,ypreds))\n",
    "    return ypreds"
   ]
  },
  {
   "cell_type": "code",
   "execution_count": 25,
   "metadata": {},
   "outputs": [],
   "source": [
    "import math\n",
    "def create_class_weight(labels_dict,mu=0.15):\n",
    "    total = np.sum(list(labels_dict.values()))\n",
    "    keys = labels_dict.keys()\n",
    "    class_weight = dict()\n",
    "    \n",
    "    for key in keys:\n",
    "        score = math.log(mu*total/float(labels_dict[key]))\n",
    "        class_weight[key] = score if score > 1.0 else 1.0\n",
    "    \n",
    "    return class_weight"
   ]
  },
  {
   "cell_type": "code",
   "execution_count": 40,
   "metadata": {},
   "outputs": [],
   "source": [
    "X = df2.drop('Churn',axis='columns')\n",
    "y = df2['Churn']\n",
    "\n",
    "from sklearn.model_selection import train_test_split\n",
    "x_train, x_test, y_train, y_test = train_test_split(X,y,test_size=0.2,random_state=5,stratify=y)\n"
   ]
  },
  {
   "cell_type": "code",
   "execution_count": 41,
   "metadata": {},
   "outputs": [
    {
     "data": {
      "text/plain": [
       "{0: 4130, 1: 1495}"
      ]
     },
     "execution_count": 41,
     "metadata": {},
     "output_type": "execute_result"
    }
   ],
   "source": [
    "dict(y_train.value_counts())"
   ]
  },
  {
   "cell_type": "code",
   "execution_count": 42,
   "metadata": {},
   "outputs": [
    {
     "data": {
      "text/plain": [
       "2.8501026694045173"
      ]
     },
     "execution_count": 42,
     "metadata": {},
     "output_type": "execute_result"
    }
   ],
   "source": [
    "4164 / 1461"
   ]
  },
  {
   "cell_type": "code",
   "execution_count": 38,
   "metadata": {},
   "outputs": [
    {
     "data": {
      "text/plain": [
       "{0: 1.3385629582987006, 1: 2.354714158428992}"
      ]
     },
     "execution_count": 38,
     "metadata": {},
     "output_type": "execute_result"
    }
   ],
   "source": [
    "create_class_weight(a,2.8)"
   ]
  },
  {
   "cell_type": "code",
   "execution_count": 37,
   "metadata": {},
   "outputs": [
    {
     "data": {
      "text/plain": [
       "{0: 1.0020907216774877, 1: 2.018241921807779}"
      ]
     },
     "execution_count": 37,
     "metadata": {},
     "output_type": "execute_result"
    }
   ],
   "source": [
    "create_class_weight(a,2)"
   ]
  },
  {
   "cell_type": "code",
   "execution_count": 29,
   "metadata": {},
   "outputs": [],
   "source": [
    "a = dict(y_train.value_counts())\n",
    "w = create_class_weight(a,2.8)"
   ]
  },
  {
   "cell_type": "code",
   "execution_count": 35,
   "metadata": {},
   "outputs": [
    {
     "name": "stdout",
     "output_type": "stream",
     "text": [
      "Epoch 1/60\n",
      "176/176 [==============================] - 1s 6ms/step - loss: 0.8975 - auc: 0.7776\n",
      "Epoch 2/60\n",
      "176/176 [==============================] - 1s 5ms/step - loss: 0.7958 - auc: 0.8281\n",
      "Epoch 3/60\n",
      "176/176 [==============================] - 1s 5ms/step - loss: 0.7779 - auc: 0.8371\n",
      "Epoch 4/60\n",
      "176/176 [==============================] - 1s 5ms/step - loss: 0.7716 - auc: 0.8399\n",
      "Epoch 5/60\n",
      "176/176 [==============================] - 1s 5ms/step - loss: 0.7643 - auc: 0.8432\n",
      "Epoch 6/60\n",
      "176/176 [==============================] - 1s 5ms/step - loss: 0.7606 - auc: 0.8451\n",
      "Epoch 7/60\n",
      "176/176 [==============================] - 1s 5ms/step - loss: 0.7595 - auc: 0.8453\n",
      "Epoch 8/60\n",
      "176/176 [==============================] - 1s 6ms/step - loss: 0.7561 - auc: 0.8468\n",
      "Epoch 9/60\n",
      "176/176 [==============================] - 1s 5ms/step - loss: 0.7545 - auc: 0.8476\n",
      "Epoch 10/60\n",
      "176/176 [==============================] - 1s 5ms/step - loss: 0.7512 - auc: 0.8490\n",
      "Epoch 11/60\n",
      "176/176 [==============================] - 1s 5ms/step - loss: 0.7491 - auc: 0.8501\n",
      "Epoch 12/60\n",
      "176/176 [==============================] - 1s 5ms/step - loss: 0.7465 - auc: 0.8512\n",
      "Epoch 13/60\n",
      "176/176 [==============================] - 1s 5ms/step - loss: 0.7436 - auc: 0.8527\n",
      "Epoch 14/60\n",
      "176/176 [==============================] - 1s 5ms/step - loss: 0.7407 - auc: 0.8542\n",
      "Epoch 15/60\n",
      "176/176 [==============================] - 1s 5ms/step - loss: 0.7395 - auc: 0.8542\n",
      "Epoch 16/60\n",
      "176/176 [==============================] - 1s 5ms/step - loss: 0.7362 - auc: 0.8559\n",
      "Epoch 17/60\n",
      "176/176 [==============================] - 1s 5ms/step - loss: 0.7379 - auc: 0.8551\n",
      "Epoch 18/60\n",
      "176/176 [==============================] - 1s 5ms/step - loss: 0.7331 - auc: 0.8573\n",
      "Epoch 19/60\n",
      "176/176 [==============================] - 1s 5ms/step - loss: 0.7327 - auc: 0.8572\n",
      "Epoch 20/60\n",
      "176/176 [==============================] - 1s 5ms/step - loss: 0.7312 - auc: 0.8580\n",
      "Epoch 21/60\n",
      "176/176 [==============================] - 1s 5ms/step - loss: 0.7280 - auc: 0.8592\n",
      "Epoch 22/60\n",
      "176/176 [==============================] - 1s 5ms/step - loss: 0.7256 - auc: 0.8605\n",
      "Epoch 23/60\n",
      "176/176 [==============================] - 1s 5ms/step - loss: 0.7243 - auc: 0.8607\n",
      "Epoch 24/60\n",
      "176/176 [==============================] - 1s 5ms/step - loss: 0.7220 - auc: 0.8618\n",
      "Epoch 25/60\n",
      "176/176 [==============================] - 1s 5ms/step - loss: 0.7200 - auc: 0.8623\n",
      "Epoch 26/60\n",
      "176/176 [==============================] - 1s 5ms/step - loss: 0.7190 - auc: 0.8630\n",
      "Epoch 27/60\n",
      "176/176 [==============================] - 1s 5ms/step - loss: 0.7167 - auc: 0.8641\n",
      "Epoch 28/60\n",
      "176/176 [==============================] - 1s 5ms/step - loss: 0.7145 - auc: 0.8645\n",
      "Epoch 29/60\n",
      "176/176 [==============================] - 1s 5ms/step - loss: 0.7129 - auc: 0.8656\n",
      "Epoch 30/60\n",
      "176/176 [==============================] - 1s 6ms/step - loss: 0.7101 - auc: 0.8665\n",
      "Epoch 31/60\n",
      "176/176 [==============================] - 1s 5ms/step - loss: 0.7083 - auc: 0.8674\n",
      "Epoch 32/60\n",
      "176/176 [==============================] - 1s 5ms/step - loss: 0.7085 - auc: 0.8672\n",
      "Epoch 33/60\n",
      "176/176 [==============================] - 1s 5ms/step - loss: 0.7056 - auc: 0.8686\n",
      "Epoch 34/60\n",
      "176/176 [==============================] - 1s 5ms/step - loss: 0.7052 - auc: 0.8685\n",
      "Epoch 35/60\n",
      "176/176 [==============================] - 1s 5ms/step - loss: 0.7022 - auc: 0.8699\n",
      "Epoch 36/60\n",
      "176/176 [==============================] - 1s 5ms/step - loss: 0.7016 - auc: 0.8698\n",
      "Epoch 37/60\n",
      "176/176 [==============================] - 1s 5ms/step - loss: 0.7011 - auc: 0.8702\n",
      "Epoch 38/60\n",
      "176/176 [==============================] - 1s 5ms/step - loss: 0.6965 - auc: 0.8720\n",
      "Epoch 39/60\n",
      "176/176 [==============================] - 1s 5ms/step - loss: 0.6948 - auc: 0.8726\n",
      "Epoch 40/60\n",
      "176/176 [==============================] - 1s 5ms/step - loss: 0.6929 - auc: 0.8733\n",
      "Epoch 41/60\n",
      "176/176 [==============================] - 1s 5ms/step - loss: 0.6897 - auc: 0.8749\n",
      "Epoch 42/60\n",
      "176/176 [==============================] - 1s 5ms/step - loss: 0.6904 - auc: 0.8743\n",
      "Epoch 43/60\n",
      "176/176 [==============================] - 1s 5ms/step - loss: 0.6880 - auc: 0.8752\n",
      "Epoch 44/60\n",
      "176/176 [==============================] - 1s 5ms/step - loss: 0.6904 - auc: 0.8744\n",
      "Epoch 45/60\n",
      "176/176 [==============================] - 1s 5ms/step - loss: 0.6852 - auc: 0.8765\n",
      "Epoch 46/60\n",
      "176/176 [==============================] - 1s 5ms/step - loss: 0.6832 - auc: 0.8770\n",
      "Epoch 47/60\n",
      "176/176 [==============================] - 1s 5ms/step - loss: 0.6806 - auc: 0.8780\n",
      "Epoch 48/60\n",
      "176/176 [==============================] - 1s 5ms/step - loss: 0.6809 - auc: 0.8782\n",
      "Epoch 49/60\n",
      "176/176 [==============================] - 1s 5ms/step - loss: 0.6778 - auc: 0.8792\n",
      "Epoch 50/60\n",
      "176/176 [==============================] - 1s 5ms/step - loss: 0.6783 - auc: 0.8791\n",
      "Epoch 51/60\n",
      "176/176 [==============================] - 1s 5ms/step - loss: 0.6769 - auc: 0.8795\n",
      "Epoch 52/60\n",
      "176/176 [==============================] - 1s 5ms/step - loss: 0.6767 - auc: 0.8794\n",
      "Epoch 53/60\n",
      "176/176 [==============================] - 1s 5ms/step - loss: 0.6741 - auc: 0.8807\n",
      "Epoch 54/60\n",
      "176/176 [==============================] - 1s 5ms/step - loss: 0.6730 - auc: 0.8809\n",
      "Epoch 55/60\n",
      "176/176 [==============================] - 1s 5ms/step - loss: 0.6716 - auc: 0.8815\n",
      "Epoch 56/60\n",
      "176/176 [==============================] - 1s 5ms/step - loss: 0.6693 - auc: 0.8824\n",
      "Epoch 57/60\n",
      "176/176 [==============================] - 1s 5ms/step - loss: 0.6684 - auc: 0.8826\n",
      "Epoch 58/60\n",
      "176/176 [==============================] - 1s 5ms/step - loss: 0.6682 - auc: 0.8827\n",
      "Epoch 59/60\n",
      "176/176 [==============================] - 1s 5ms/step - loss: 0.6647 - auc: 0.8840\n",
      "Epoch 60/60\n",
      "176/176 [==============================] - 1s 5ms/step - loss: 0.6669 - auc: 0.8832\n",
      "44/44 [==============================] - 0s 4ms/step - loss: 0.4619 - auc: 0.8258\n",
      "[0.4619396924972534, 0.8257722854614258]\n",
      "classification report :               precision    recall  f1-score   support\n",
      "\n",
      "           0       0.86      0.82      0.84      1033\n",
      "           1       0.56      0.63      0.59       374\n",
      "\n",
      "    accuracy                           0.77      1407\n",
      "   macro avg       0.71      0.73      0.72      1407\n",
      "weighted avg       0.78      0.77      0.77      1407\n",
      "\n"
     ]
    }
   ],
   "source": [
    "ypreds = ANN(x_train,y_train,x_test,y_test,'binary_crossentropy',w)"
   ]
  },
  {
   "cell_type": "code",
   "execution_count": 32,
   "metadata": {},
   "outputs": [
    {
     "name": "stdout",
     "output_type": "stream",
     "text": [
      "Epoch 1/10\n",
      "176/176 [==============================] - 2s 6ms/step - loss: 0.5165 - auc: 0.7314\n",
      "Epoch 2/10\n",
      "176/176 [==============================] - 1s 5ms/step - loss: 0.4328 - auc: 0.8311\n",
      "Epoch 3/10\n",
      "176/176 [==============================] - 1s 5ms/step - loss: 0.4253 - auc: 0.8380\n",
      "Epoch 4/10\n",
      "176/176 [==============================] - 1s 5ms/step - loss: 0.4220 - auc: 0.8408\n",
      "Epoch 5/10\n",
      "176/176 [==============================] - 1s 5ms/step - loss: 0.4191 - auc: 0.8435\n",
      "Epoch 6/10\n",
      "176/176 [==============================] - 1s 5ms/step - loss: 0.4190 - auc: 0.8435\n",
      "Epoch 7/10\n",
      "176/176 [==============================] - 1s 5ms/step - loss: 0.4169 - auc: 0.8450\n",
      "Epoch 8/10\n",
      "176/176 [==============================] - 1s 5ms/step - loss: 0.4157 - auc: 0.8461\n",
      "Epoch 9/10\n",
      "176/176 [==============================] - 1s 5ms/step - loss: 0.4153 - auc: 0.8464\n",
      "Epoch 10/10\n",
      "176/176 [==============================] - 1s 5ms/step - loss: 0.4146 - auc: 0.8470\n",
      "44/44 [==============================] - 0s 4ms/step - loss: 0.4170 - auc: 0.8459\n",
      "[0.4169995188713074, 0.8459033966064453]\n",
      "classification report :               precision    recall  f1-score   support\n",
      "\n",
      "           0       0.83      0.88      0.86      1033\n",
      "           1       0.62      0.51      0.56       374\n",
      "\n",
      "    accuracy                           0.79      1407\n",
      "   macro avg       0.72      0.70      0.71      1407\n",
      "weighted avg       0.78      0.79      0.78      1407\n",
      "\n"
     ]
    }
   ],
   "source": [
    "ypreds = ANN(x_train,y_train,x_test,y_test,'binary_crossentropy',-1)"
   ]
  },
  {
   "cell_type": "code",
   "execution_count": 33,
   "metadata": {},
   "outputs": [
    {
     "name": "stdout",
     "output_type": "stream",
     "text": [
      "Epoch 1/10\n",
      "176/176 [==============================] - 2s 6ms/step - loss: 0.5084 - auc: 0.7426\n",
      "Epoch 2/10\n",
      "176/176 [==============================] - 1s 6ms/step - loss: 0.4315 - auc: 0.8325\n",
      "Epoch 3/10\n",
      "176/176 [==============================] - 1s 5ms/step - loss: 0.4250 - auc: 0.8384\n",
      "Epoch 4/10\n",
      "176/176 [==============================] - 1s 5ms/step - loss: 0.4223 - auc: 0.8408\n",
      "Epoch 5/10\n",
      "176/176 [==============================] - 1s 5ms/step - loss: 0.4192 - auc: 0.8433\n",
      "Epoch 6/10\n",
      "176/176 [==============================] - 1s 5ms/step - loss: 0.4182 - auc: 0.8443\n",
      "Epoch 7/10\n",
      "176/176 [==============================] - 1s 6ms/step - loss: 0.4165 - auc: 0.8456\n",
      "Epoch 8/10\n",
      "176/176 [==============================] - 1s 6ms/step - loss: 0.4151 - auc: 0.8468\n",
      "Epoch 9/10\n",
      "176/176 [==============================] - 1s 6ms/step - loss: 0.4139 - auc: 0.8479\n",
      "Epoch 10/10\n",
      "176/176 [==============================] - 1s 6ms/step - loss: 0.4124 - auc: 0.8491\n",
      "44/44 [==============================] - 0s 4ms/step - loss: 0.4235 - auc: 0.8460\n",
      "[0.42353183031082153, 0.8459693193435669]\n",
      "classification report :               precision    recall  f1-score   support\n",
      "\n",
      "           0       0.81      0.94      0.87      1033\n",
      "           1       0.69      0.39      0.50       374\n",
      "\n",
      "    accuracy                           0.79      1407\n",
      "   macro avg       0.75      0.66      0.68      1407\n",
      "weighted avg       0.78      0.79      0.77      1407\n",
      "\n"
     ]
    }
   ],
   "source": [
    "ypreds = ANN(x_train,y_train,x_test,y_test,'binary_crossentropy',{0:1,1:1})"
   ]
  },
  {
   "cell_type": "code",
   "execution_count": 46,
   "metadata": {},
   "outputs": [],
   "source": [
    "df2_0 = df2[df2['Churn']==0]\n",
    "df2_1 = df2[df2['Churn']==1]"
   ]
  },
  {
   "cell_type": "code",
   "execution_count": 50,
   "metadata": {},
   "outputs": [
    {
     "name": "stdout",
     "output_type": "stream",
     "text": [
      "(1869, 27)\n",
      "(5163, 27)\n"
     ]
    }
   ],
   "source": [
    "print(df2_1.shape)\n",
    "print(df2_0.shape)"
   ]
  },
  {
   "cell_type": "code",
   "execution_count": 48,
   "metadata": {},
   "outputs": [
    {
     "data": {
      "text/plain": [
       "Index(['gender', 'SeniorCitizen', 'Partner', 'Dependents', 'tenure',\n",
       "       'PhoneService', 'MultipleLines', 'OnlineSecurity', 'OnlineBackup',\n",
       "       'DeviceProtection', 'TechSupport', 'StreamingTV', 'StreamingMovies',\n",
       "       'PaperlessBilling', 'MonthlyCharges', 'TotalCharges', 'Churn',\n",
       "       'InternetService_DSL', 'InternetService_Fiber optic',\n",
       "       'InternetService_No', 'Contract_Month-to-month', 'Contract_One year',\n",
       "       'Contract_Two year', 'PaymentMethod_Bank transfer (automatic)',\n",
       "       'PaymentMethod_Credit card (automatic)',\n",
       "       'PaymentMethod_Electronic check', 'PaymentMethod_Mailed check'],\n",
       "      dtype='object')"
      ]
     },
     "execution_count": 48,
     "metadata": {},
     "output_type": "execute_result"
    }
   ],
   "source": [
    "df_under_0 = df2_0.sample(df2_1.shape[0])\n",
    "pd.concat()"
   ]
  },
  {
   "cell_type": "markdown",
   "metadata": {},
   "source": [
    "HANDLING IMBALANCED DATASET"
   ]
  },
  {
   "cell_type": "markdown",
   "metadata": {},
   "source": [
    "RANDOM UNDERSAMPLING"
   ]
  },
  {
   "cell_type": "code",
   "execution_count": 51,
   "metadata": {},
   "outputs": [],
   "source": [
    "# Class count\n",
    "count_class_0, count_class_1 = df1.Churn.value_counts()\n",
    "\n",
    "# Divide by class\n",
    "df_class_0 = df2[df2['Churn'] == 0]\n",
    "df_class_1 = df2[df2['Churn'] == 1]"
   ]
  },
  {
   "cell_type": "code",
   "execution_count": 52,
   "metadata": {},
   "outputs": [
    {
     "name": "stdout",
     "output_type": "stream",
     "text": [
      "Random under-sampling:\n",
      "0    1869\n",
      "1    1869\n",
      "Name: Churn, dtype: int64\n"
     ]
    }
   ],
   "source": [
    "# Undersample 0-class and concat the DataFrames of both class\n",
    "df_class_0_under = df_class_0.sample(count_class_1)\n",
    "df_test_under = pd.concat([df_class_0_under, df_class_1], axis=0)\n",
    "\n",
    "print('Random under-sampling:')\n",
    "print(df_test_under.Churn.value_counts())"
   ]
  },
  {
   "cell_type": "code",
   "execution_count": 54,
   "metadata": {},
   "outputs": [],
   "source": [
    "X = df_test_under.drop('Churn',axis='columns')\n",
    "y = df_test_under['Churn']\n",
    "\n",
    "from sklearn.model_selection import train_test_split\n",
    "x_train, x_test, y_train, y_test = train_test_split(X, y, test_size=0.2, random_state=15, stratify=y)"
   ]
  },
  {
   "cell_type": "code",
   "execution_count": 55,
   "metadata": {},
   "outputs": [
    {
     "data": {
      "text/plain": [
       "0    1495\n",
       "1    1495\n",
       "Name: Churn, dtype: int64"
      ]
     },
     "execution_count": 55,
     "metadata": {},
     "output_type": "execute_result"
    }
   ],
   "source": [
    "# Number of classes in training Data\n",
    "y_train.value_counts()"
   ]
  },
  {
   "cell_type": "code",
   "execution_count": 56,
   "metadata": {},
   "outputs": [
    {
     "name": "stdout",
     "output_type": "stream",
     "text": [
      "Epoch 1/60\n",
      "94/94 [==============================] - 2s 9ms/step - loss: 0.6478 - auc: 0.6954\n",
      "Epoch 2/60\n",
      "94/94 [==============================] - 1s 8ms/step - loss: 0.5430 - auc: 0.8070\n",
      "Epoch 3/60\n",
      "94/94 [==============================] - 1s 8ms/step - loss: 0.5085 - auc: 0.8293\n",
      "Epoch 4/60\n",
      "94/94 [==============================] - 1s 8ms/step - loss: 0.4988 - auc: 0.8356\n",
      "Epoch 5/60\n",
      "94/94 [==============================] - 1s 8ms/step - loss: 0.4943 - auc: 0.8381\n",
      "Epoch 6/60\n",
      "94/94 [==============================] - 1s 8ms/step - loss: 0.4896 - auc: 0.8417\n",
      "Epoch 7/60\n",
      "94/94 [==============================] - 1s 8ms/step - loss: 0.4861 - auc: 0.8438\n",
      "Epoch 8/60\n",
      "94/94 [==============================] - 1s 9ms/step - loss: 0.4834 - auc: 0.8460\n",
      "Epoch 9/60\n",
      "94/94 [==============================] - 1s 8ms/step - loss: 0.4821 - auc: 0.8466\n",
      "Epoch 10/60\n",
      "94/94 [==============================] - 1s 8ms/step - loss: 0.4808 - auc: 0.8476\n",
      "Epoch 11/60\n",
      "94/94 [==============================] - 1s 8ms/step - loss: 0.4780 - auc: 0.8498\n",
      "Epoch 12/60\n",
      "94/94 [==============================] - 1s 8ms/step - loss: 0.4782 - auc: 0.8493\n",
      "Epoch 13/60\n",
      "94/94 [==============================] - 1s 7ms/step - loss: 0.4757 - auc: 0.8511\n",
      "Epoch 14/60\n",
      "94/94 [==============================] - 1s 6ms/step - loss: 0.4743 - auc: 0.8521\n",
      "Epoch 15/60\n",
      "94/94 [==============================] - 1s 5ms/step - loss: 0.4735 - auc: 0.8530\n",
      "Epoch 16/60\n",
      "94/94 [==============================] - 1s 5ms/step - loss: 0.4708 - auc: 0.8546\n",
      "Epoch 17/60\n",
      "94/94 [==============================] - 0s 5ms/step - loss: 0.4707 - auc: 0.8549\n",
      "Epoch 18/60\n",
      "94/94 [==============================] - 0s 5ms/step - loss: 0.4715 - auc: 0.8541\n",
      "Epoch 19/60\n",
      "94/94 [==============================] - 0s 5ms/step - loss: 0.4680 - auc: 0.8567\n",
      "Epoch 20/60\n",
      "94/94 [==============================] - 0s 5ms/step - loss: 0.4665 - auc: 0.8577\n",
      "Epoch 21/60\n",
      "94/94 [==============================] - 0s 5ms/step - loss: 0.4663 - auc: 0.8578\n",
      "Epoch 22/60\n",
      "94/94 [==============================] - 0s 5ms/step - loss: 0.4660 - auc: 0.8581\n",
      "Epoch 23/60\n",
      "94/94 [==============================] - 0s 5ms/step - loss: 0.4651 - auc: 0.8587\n",
      "Epoch 24/60\n",
      "94/94 [==============================] - 0s 5ms/step - loss: 0.4627 - auc: 0.8602\n",
      "Epoch 25/60\n",
      "94/94 [==============================] - 1s 6ms/step - loss: 0.4618 - auc: 0.8609\n",
      "Epoch 26/60\n",
      "94/94 [==============================] - 0s 5ms/step - loss: 0.4616 - auc: 0.8608\n",
      "Epoch 27/60\n",
      "94/94 [==============================] - 1s 5ms/step - loss: 0.4609 - auc: 0.8614\n",
      "Epoch 28/60\n",
      "94/94 [==============================] - 1s 6ms/step - loss: 0.4612 - auc: 0.8615\n",
      "Epoch 29/60\n",
      "94/94 [==============================] - 1s 5ms/step - loss: 0.4589 - auc: 0.8629\n",
      "Epoch 30/60\n",
      "94/94 [==============================] - 0s 5ms/step - loss: 0.4575 - auc: 0.8642\n",
      "Epoch 31/60\n",
      "94/94 [==============================] - 1s 5ms/step - loss: 0.4573 - auc: 0.8638\n",
      "Epoch 32/60\n",
      "94/94 [==============================] - 0s 5ms/step - loss: 0.4566 - auc: 0.8641\n",
      "Epoch 33/60\n",
      "94/94 [==============================] - 0s 5ms/step - loss: 0.4534 - auc: 0.8663\n",
      "Epoch 34/60\n",
      "94/94 [==============================] - 0s 5ms/step - loss: 0.4533 - auc: 0.8665\n",
      "Epoch 35/60\n",
      "94/94 [==============================] - 0s 5ms/step - loss: 0.4528 - auc: 0.8669\n",
      "Epoch 36/60\n",
      "94/94 [==============================] - 0s 5ms/step - loss: 0.4526 - auc: 0.8671\n",
      "Epoch 37/60\n",
      "94/94 [==============================] - 0s 5ms/step - loss: 0.4510 - auc: 0.8682\n",
      "Epoch 38/60\n",
      "94/94 [==============================] - 0s 5ms/step - loss: 0.4503 - auc: 0.8685\n",
      "Epoch 39/60\n",
      "94/94 [==============================] - 0s 5ms/step - loss: 0.4489 - auc: 0.8693\n",
      "Epoch 40/60\n",
      "94/94 [==============================] - 0s 5ms/step - loss: 0.4508 - auc: 0.8678\n",
      "Epoch 41/60\n",
      "94/94 [==============================] - 0s 5ms/step - loss: 0.4497 - auc: 0.8691\n",
      "Epoch 42/60\n",
      "94/94 [==============================] - 0s 5ms/step - loss: 0.4472 - auc: 0.8704\n",
      "Epoch 43/60\n",
      "94/94 [==============================] - 1s 5ms/step - loss: 0.4456 - auc: 0.8712\n",
      "Epoch 44/60\n",
      "94/94 [==============================] - 0s 5ms/step - loss: 0.4451 - auc: 0.8719\n",
      "Epoch 45/60\n",
      "94/94 [==============================] - 0s 5ms/step - loss: 0.4475 - auc: 0.8700\n",
      "Epoch 46/60\n",
      "94/94 [==============================] - 0s 5ms/step - loss: 0.4444 - auc: 0.8723\n",
      "Epoch 47/60\n",
      "94/94 [==============================] - 0s 5ms/step - loss: 0.4433 - auc: 0.8729\n",
      "Epoch 48/60\n",
      "94/94 [==============================] - 0s 5ms/step - loss: 0.4424 - auc: 0.8733\n",
      "Epoch 49/60\n",
      "94/94 [==============================] - 0s 5ms/step - loss: 0.4409 - auc: 0.8743\n",
      "Epoch 50/60\n",
      "94/94 [==============================] - 0s 5ms/step - loss: 0.4405 - auc: 0.8752\n",
      "Epoch 51/60\n",
      "94/94 [==============================] - 0s 5ms/step - loss: 0.4384 - auc: 0.8761\n",
      "Epoch 52/60\n",
      "94/94 [==============================] - 0s 5ms/step - loss: 0.4383 - auc: 0.8759\n",
      "Epoch 53/60\n",
      "94/94 [==============================] - 0s 5ms/step - loss: 0.4364 - auc: 0.8772\n",
      "Epoch 54/60\n",
      "94/94 [==============================] - 0s 5ms/step - loss: 0.4365 - auc: 0.8770\n",
      "Epoch 55/60\n",
      "94/94 [==============================] - 0s 5ms/step - loss: 0.4360 - auc: 0.8778\n",
      "Epoch 56/60\n",
      "94/94 [==============================] - 0s 5ms/step - loss: 0.4370 - auc: 0.8770\n",
      "Epoch 57/60\n",
      "94/94 [==============================] - 0s 5ms/step - loss: 0.4359 - auc: 0.8773\n",
      "Epoch 58/60\n",
      "94/94 [==============================] - 0s 5ms/step - loss: 0.4342 - auc: 0.8789\n",
      "Epoch 59/60\n",
      "94/94 [==============================] - 0s 5ms/step - loss: 0.4356 - auc: 0.8779\n",
      "Epoch 60/60\n",
      "94/94 [==============================] - 0s 5ms/step - loss: 0.4310 - auc: 0.8807\n",
      "24/24 [==============================] - 0s 5ms/step - loss: 0.4989 - auc: 0.8435\n",
      "[0.4989011585712433, 0.8435078859329224]\n",
      "classification report :               precision    recall  f1-score   support\n",
      "\n",
      "           0       0.76      0.73      0.75       374\n",
      "           1       0.74      0.77      0.76       374\n",
      "\n",
      "    accuracy                           0.75       748\n",
      "   macro avg       0.75      0.75      0.75       748\n",
      "weighted avg       0.75      0.75      0.75       748\n",
      "\n"
     ]
    }
   ],
   "source": [
    "y_preds = ANN(x_train, y_train, x_test, y_test, 'binary_crossentropy', -1)"
   ]
  },
  {
   "cell_type": "markdown",
   "metadata": {},
   "source": [
    "RANDOM OVERSAMPLING"
   ]
  },
  {
   "cell_type": "code",
   "execution_count": 57,
   "metadata": {},
   "outputs": [
    {
     "name": "stdout",
     "output_type": "stream",
     "text": [
      "Random over-sampling:\n",
      "0    5163\n",
      "1    5163\n",
      "Name: Churn, dtype: int64\n"
     ]
    }
   ],
   "source": [
    "# Oversample 1-class and concat the DataFrames of both classes\n",
    "df_class_1_over = df_class_1.sample(count_class_0, replace=True)\n",
    "df_test_over = pd.concat([df_class_0, df_class_1_over], axis=0)\n",
    "\n",
    "print('Random over-sampling:')\n",
    "print(df_test_over.Churn.value_counts())"
   ]
  },
  {
   "cell_type": "code",
   "execution_count": 59,
   "metadata": {},
   "outputs": [],
   "source": [
    "X = df_test_over.drop('Churn',axis='columns')\n",
    "y = df_test_over['Churn']\n",
    "\n",
    "from sklearn.model_selection import train_test_split\n",
    "x_train, x_test, y_train, y_test = train_test_split(X, y, test_size=0.2, random_state=15, stratify=y)"
   ]
  },
  {
   "cell_type": "code",
   "execution_count": 60,
   "metadata": {},
   "outputs": [
    {
     "name": "stdout",
     "output_type": "stream",
     "text": [
      "Epoch 1/60\n",
      "259/259 [==============================] - 3s 9ms/step - loss: 0.5538 - auc: 0.7992\n",
      "Epoch 2/60\n",
      "259/259 [==============================] - 2s 8ms/step - loss: 0.4911 - auc: 0.8411\n",
      "Epoch 3/60\n",
      "259/259 [==============================] - 2s 8ms/step - loss: 0.4839 - auc: 0.8453\n",
      "Epoch 4/60\n",
      "259/259 [==============================] - 2s 8ms/step - loss: 0.4799 - auc: 0.8477\n",
      "Epoch 5/60\n",
      "259/259 [==============================] - 2s 8ms/step - loss: 0.4757 - auc: 0.8508\n",
      "Epoch 6/60\n",
      "259/259 [==============================] - 2s 7ms/step - loss: 0.4737 - auc: 0.8516\n",
      "Epoch 7/60\n",
      "259/259 [==============================] - 1s 5ms/step - loss: 0.4707 - auc: 0.8537\n",
      "Epoch 8/60\n",
      "259/259 [==============================] - 1s 5ms/step - loss: 0.4678 - auc: 0.8555\n",
      "Epoch 9/60\n",
      "259/259 [==============================] - 1s 5ms/step - loss: 0.4652 - auc: 0.8576\n",
      "Epoch 10/60\n",
      "259/259 [==============================] - 1s 5ms/step - loss: 0.4622 - auc: 0.8591\n",
      "Epoch 11/60\n",
      "259/259 [==============================] - 1s 5ms/step - loss: 0.4601 - auc: 0.8603\n",
      "Epoch 12/60\n",
      "259/259 [==============================] - 1s 5ms/step - loss: 0.4588 - auc: 0.8615\n",
      "Epoch 13/60\n",
      "259/259 [==============================] - 1s 5ms/step - loss: 0.4564 - auc: 0.8630\n",
      "Epoch 14/60\n",
      "259/259 [==============================] - 1s 5ms/step - loss: 0.4546 - auc: 0.8643\n",
      "Epoch 15/60\n",
      "259/259 [==============================] - 1s 5ms/step - loss: 0.4514 - auc: 0.8663\n",
      "Epoch 16/60\n",
      "259/259 [==============================] - 1s 5ms/step - loss: 0.4509 - auc: 0.8662\n",
      "Epoch 17/60\n",
      "259/259 [==============================] - 1s 5ms/step - loss: 0.4491 - auc: 0.8675\n",
      "Epoch 18/60\n",
      "259/259 [==============================] - 1s 5ms/step - loss: 0.4472 - auc: 0.8685\n",
      "Epoch 19/60\n",
      "259/259 [==============================] - 1s 5ms/step - loss: 0.4455 - auc: 0.8695\n",
      "Epoch 20/60\n",
      "259/259 [==============================] - 1s 5ms/step - loss: 0.4430 - auc: 0.8712\n",
      "Epoch 21/60\n",
      "259/259 [==============================] - 1s 6ms/step - loss: 0.4418 - auc: 0.8715\n",
      "Epoch 22/60\n",
      "259/259 [==============================] - 1s 6ms/step - loss: 0.4402 - auc: 0.8727\n",
      "Epoch 23/60\n",
      "259/259 [==============================] - 1s 6ms/step - loss: 0.4382 - auc: 0.8736\n",
      "Epoch 24/60\n",
      "259/259 [==============================] - 1s 6ms/step - loss: 0.4368 - auc: 0.8746\n",
      "Epoch 25/60\n",
      "259/259 [==============================] - 1s 6ms/step - loss: 0.4358 - auc: 0.8753\n",
      "Epoch 26/60\n",
      "259/259 [==============================] - 1s 6ms/step - loss: 0.4342 - auc: 0.8759\n",
      "Epoch 27/60\n",
      "259/259 [==============================] - 1s 6ms/step - loss: 0.4325 - auc: 0.8768\n",
      "Epoch 28/60\n",
      "259/259 [==============================] - 1s 6ms/step - loss: 0.4305 - auc: 0.8779\n",
      "Epoch 29/60\n",
      "259/259 [==============================] - 1s 6ms/step - loss: 0.4285 - auc: 0.8790\n",
      "Epoch 30/60\n",
      "259/259 [==============================] - 1s 6ms/step - loss: 0.4277 - auc: 0.8795\n",
      "Epoch 31/60\n",
      "259/259 [==============================] - 1s 5ms/step - loss: 0.4255 - auc: 0.8811\n",
      "Epoch 32/60\n",
      "259/259 [==============================] - 1s 5ms/step - loss: 0.4235 - auc: 0.8823\n",
      "Epoch 33/60\n",
      "259/259 [==============================] - 1s 5ms/step - loss: 0.4242 - auc: 0.8813\n",
      "Epoch 34/60\n",
      "259/259 [==============================] - 1s 6ms/step - loss: 0.4223 - auc: 0.8826\n",
      "Epoch 35/60\n",
      "259/259 [==============================] - 1s 6ms/step - loss: 0.4212 - auc: 0.8831\n",
      "Epoch 36/60\n",
      "259/259 [==============================] - 2s 6ms/step - loss: 0.4210 - auc: 0.8832\n",
      "Epoch 37/60\n",
      "259/259 [==============================] - 1s 6ms/step - loss: 0.4180 - auc: 0.8849\n",
      "Epoch 38/60\n",
      "259/259 [==============================] - 1s 5ms/step - loss: 0.4161 - auc: 0.8862\n",
      "Epoch 39/60\n",
      "259/259 [==============================] - 1s 5ms/step - loss: 0.4161 - auc: 0.8861\n",
      "Epoch 40/60\n",
      "259/259 [==============================] - 1s 6ms/step - loss: 0.4147 - auc: 0.8869\n",
      "Epoch 41/60\n",
      "259/259 [==============================] - 1s 5ms/step - loss: 0.4124 - auc: 0.8882\n",
      "Epoch 42/60\n",
      "259/259 [==============================] - 1s 5ms/step - loss: 0.4117 - auc: 0.8885\n",
      "Epoch 43/60\n",
      "259/259 [==============================] - 1s 6ms/step - loss: 0.4116 - auc: 0.8879\n",
      "Epoch 44/60\n",
      "259/259 [==============================] - 1s 6ms/step - loss: 0.4100 - auc: 0.8890\n",
      "Epoch 45/60\n",
      "259/259 [==============================] - 1s 6ms/step - loss: 0.4083 - auc: 0.8901\n",
      "Epoch 46/60\n",
      "259/259 [==============================] - 1s 5ms/step - loss: 0.4084 - auc: 0.8899\n",
      "Epoch 47/60\n",
      "259/259 [==============================] - 1s 5ms/step - loss: 0.4079 - auc: 0.8900\n",
      "Epoch 48/60\n",
      "259/259 [==============================] - 1s 5ms/step - loss: 0.4067 - auc: 0.8910\n",
      "Epoch 49/60\n",
      "259/259 [==============================] - 1s 5ms/step - loss: 0.4053 - auc: 0.8914\n",
      "Epoch 50/60\n",
      "259/259 [==============================] - 1s 6ms/step - loss: 0.4058 - auc: 0.8912\n",
      "Epoch 51/60\n",
      "259/259 [==============================] - 1s 5ms/step - loss: 0.4044 - auc: 0.8918\n",
      "Epoch 52/60\n",
      "259/259 [==============================] - 1s 5ms/step - loss: 0.4024 - auc: 0.8933\n",
      "Epoch 53/60\n",
      "259/259 [==============================] - 1s 5ms/step - loss: 0.4014 - auc: 0.8938\n",
      "Epoch 54/60\n",
      "259/259 [==============================] - 1s 5ms/step - loss: 0.4010 - auc: 0.8937\n",
      "Epoch 55/60\n",
      "259/259 [==============================] - 1s 6ms/step - loss: 0.4001 - auc: 0.8945\n",
      "Epoch 56/60\n",
      "259/259 [==============================] - 1s 6ms/step - loss: 0.3992 - auc: 0.8948\n",
      "Epoch 57/60\n",
      "259/259 [==============================] - 2s 6ms/step - loss: 0.3978 - auc: 0.8958\n",
      "Epoch 58/60\n",
      "259/259 [==============================] - 1s 5ms/step - loss: 0.3956 - auc: 0.8971\n",
      "Epoch 59/60\n",
      "259/259 [==============================] - 1s 6ms/step - loss: 0.3960 - auc: 0.8965\n",
      "Epoch 60/60\n",
      "259/259 [==============================] - 2s 6ms/step - loss: 0.3964 - auc: 0.8964\n",
      "65/65 [==============================] - 0s 4ms/step - loss: 0.4800 - auc: 0.8508\n",
      "[0.47999057173728943, 0.8508248925209045]\n",
      "classification report :               precision    recall  f1-score   support\n",
      "\n",
      "           0       0.78      0.73      0.75      1033\n",
      "           1       0.75      0.79      0.77      1033\n",
      "\n",
      "    accuracy                           0.76      2066\n",
      "   macro avg       0.76      0.76      0.76      2066\n",
      "weighted avg       0.76      0.76      0.76      2066\n",
      "\n"
     ]
    }
   ],
   "source": [
    "y_preds = ANN(x_train, y_train, x_test, y_test, 'binary_crossentropy', -1)"
   ]
  },
  {
   "cell_type": "markdown",
   "metadata": {},
   "source": [
    "SMOTE"
   ]
  },
  {
   "cell_type": "code",
   "execution_count": 62,
   "metadata": {},
   "outputs": [
    {
     "data": {
      "text/plain": [
       "0    5163\n",
       "1    5163\n",
       "Name: Churn, dtype: int64"
      ]
     },
     "execution_count": 62,
     "metadata": {},
     "output_type": "execute_result"
    }
   ],
   "source": [
    "X = df2.drop('Churn',axis='columns')\n",
    "y = df2['Churn']\n",
    "from imblearn.over_sampling import SMOTE\n",
    "\n",
    "smote = SMOTE(sampling_strategy='minority')\n",
    "X_sm, y_sm = smote.fit_resample(X, y)\n",
    "\n",
    "y_sm.value_counts()"
   ]
  },
  {
   "cell_type": "code",
   "execution_count": 63,
   "metadata": {},
   "outputs": [],
   "source": [
    "from sklearn.model_selection import train_test_split\n",
    "X_train, X_test, y_train, y_test = train_test_split(X_sm, y_sm, test_size=0.2, random_state=15, stratify=y_sm)"
   ]
  },
  {
   "cell_type": "code",
   "execution_count": 64,
   "metadata": {},
   "outputs": [
    {
     "name": "stdout",
     "output_type": "stream",
     "text": [
      "Epoch 1/60\n",
      "259/259 [==============================] - 3s 9ms/step - loss: 0.5292 - auc: 0.8113\n",
      "Epoch 2/60\n",
      "259/259 [==============================] - 2s 8ms/step - loss: 0.4757 - auc: 0.8503\n",
      "Epoch 3/60\n",
      "259/259 [==============================] - 2s 8ms/step - loss: 0.4658 - auc: 0.8572\n",
      "Epoch 4/60\n",
      "259/259 [==============================] - 2s 8ms/step - loss: 0.4589 - auc: 0.8617\n",
      "Epoch 5/60\n",
      "259/259 [==============================] - 2s 8ms/step - loss: 0.4547 - auc: 0.8650\n",
      "Epoch 6/60\n",
      "259/259 [==============================] - 2s 8ms/step - loss: 0.4500 - auc: 0.8679\n",
      "Epoch 7/60\n",
      "259/259 [==============================] - 2s 7ms/step - loss: 0.4447 - auc: 0.8711\n",
      "Epoch 8/60\n",
      "259/259 [==============================] - 2s 6ms/step - loss: 0.4426 - auc: 0.8725\n",
      "Epoch 9/60\n",
      "259/259 [==============================] - 1s 5ms/step - loss: 0.4373 - auc: 0.8758\n",
      "Epoch 10/60\n",
      "259/259 [==============================] - 1s 5ms/step - loss: 0.4348 - auc: 0.8774\n",
      "Epoch 11/60\n",
      "259/259 [==============================] - 1s 6ms/step - loss: 0.4321 - auc: 0.8787\n",
      "Epoch 12/60\n",
      "259/259 [==============================] - 1s 5ms/step - loss: 0.4278 - auc: 0.8814\n",
      "Epoch 13/60\n",
      "259/259 [==============================] - 1s 6ms/step - loss: 0.4269 - auc: 0.8820\n",
      "Epoch 14/60\n",
      "259/259 [==============================] - 1s 6ms/step - loss: 0.4253 - auc: 0.8827\n",
      "Epoch 15/60\n",
      "259/259 [==============================] - 1s 5ms/step - loss: 0.4218 - auc: 0.8849\n",
      "Epoch 16/60\n",
      "259/259 [==============================] - 1s 6ms/step - loss: 0.4185 - auc: 0.8867\n",
      "Epoch 17/60\n",
      "259/259 [==============================] - 1s 5ms/step - loss: 0.4173 - auc: 0.8874\n",
      "Epoch 18/60\n",
      "259/259 [==============================] - 2s 6ms/step - loss: 0.4139 - auc: 0.8896\n",
      "Epoch 19/60\n",
      "259/259 [==============================] - 1s 5ms/step - loss: 0.4115 - auc: 0.8907\n",
      "Epoch 20/60\n",
      "259/259 [==============================] - 1s 5ms/step - loss: 0.4094 - auc: 0.8920\n",
      "Epoch 21/60\n",
      "259/259 [==============================] - 1s 5ms/step - loss: 0.4097 - auc: 0.8915\n",
      "Epoch 22/60\n",
      "259/259 [==============================] - 1s 5ms/step - loss: 0.4058 - auc: 0.8942\n",
      "Epoch 23/60\n",
      "259/259 [==============================] - 1s 6ms/step - loss: 0.4044 - auc: 0.8950\n",
      "Epoch 24/60\n",
      "259/259 [==============================] - 1s 5ms/step - loss: 0.4005 - auc: 0.8969\n",
      "Epoch 25/60\n",
      "259/259 [==============================] - 1s 5ms/step - loss: 0.4001 - auc: 0.8975\n",
      "Epoch 26/60\n",
      "259/259 [==============================] - 1s 5ms/step - loss: 0.3992 - auc: 0.8977\n",
      "Epoch 27/60\n",
      "259/259 [==============================] - 1s 5ms/step - loss: 0.3992 - auc: 0.8977\n",
      "Epoch 28/60\n",
      "259/259 [==============================] - 1s 5ms/step - loss: 0.3953 - auc: 0.8996\n",
      "Epoch 29/60\n",
      "259/259 [==============================] - 1s 5ms/step - loss: 0.3953 - auc: 0.8995\n",
      "Epoch 30/60\n",
      "259/259 [==============================] - 1s 5ms/step - loss: 0.3920 - auc: 0.9019\n",
      "Epoch 31/60\n",
      "259/259 [==============================] - 1s 6ms/step - loss: 0.3914 - auc: 0.9015\n",
      "Epoch 32/60\n",
      "259/259 [==============================] - 1s 5ms/step - loss: 0.3903 - auc: 0.9023\n",
      "Epoch 33/60\n",
      "259/259 [==============================] - 1s 5ms/step - loss: 0.3880 - auc: 0.9036\n",
      "Epoch 34/60\n",
      "259/259 [==============================] - 1s 5ms/step - loss: 0.3858 - auc: 0.9048\n",
      "Epoch 35/60\n",
      "259/259 [==============================] - 1s 5ms/step - loss: 0.3861 - auc: 0.9044\n",
      "Epoch 36/60\n",
      "259/259 [==============================] - 1s 5ms/step - loss: 0.3857 - auc: 0.9049\n",
      "Epoch 37/60\n",
      "259/259 [==============================] - 1s 5ms/step - loss: 0.3830 - auc: 0.9063\n",
      "Epoch 38/60\n",
      "259/259 [==============================] - 1s 5ms/step - loss: 0.3812 - auc: 0.9068\n",
      "Epoch 39/60\n",
      "259/259 [==============================] - 1s 5ms/step - loss: 0.3819 - auc: 0.9063\n",
      "Epoch 40/60\n",
      "259/259 [==============================] - 1s 5ms/step - loss: 0.3785 - auc: 0.9085\n",
      "Epoch 41/60\n",
      "259/259 [==============================] - 1s 5ms/step - loss: 0.3796 - auc: 0.9077\n",
      "Epoch 42/60\n",
      "259/259 [==============================] - 1s 5ms/step - loss: 0.3767 - auc: 0.9093\n",
      "Epoch 43/60\n",
      "259/259 [==============================] - 1s 5ms/step - loss: 0.3772 - auc: 0.9092\n",
      "Epoch 44/60\n",
      "259/259 [==============================] - 1s 5ms/step - loss: 0.3730 - auc: 0.9111\n",
      "Epoch 45/60\n",
      "259/259 [==============================] - 1s 5ms/step - loss: 0.3753 - auc: 0.9099\n",
      "Epoch 46/60\n",
      "259/259 [==============================] - 1s 5ms/step - loss: 0.3732 - auc: 0.9112\n",
      "Epoch 47/60\n",
      "259/259 [==============================] - 1s 5ms/step - loss: 0.3719 - auc: 0.9117\n",
      "Epoch 48/60\n",
      "259/259 [==============================] - 1s 5ms/step - loss: 0.3717 - auc: 0.9118\n",
      "Epoch 49/60\n",
      "259/259 [==============================] - 1s 5ms/step - loss: 0.3716 - auc: 0.9117\n",
      "Epoch 50/60\n",
      "259/259 [==============================] - 1s 5ms/step - loss: 0.3698 - auc: 0.9128\n",
      "Epoch 51/60\n",
      "259/259 [==============================] - 1s 5ms/step - loss: 0.3688 - auc: 0.9133\n",
      "Epoch 52/60\n",
      "259/259 [==============================] - 1s 5ms/step - loss: 0.3692 - auc: 0.9132\n",
      "Epoch 53/60\n",
      "259/259 [==============================] - 1s 5ms/step - loss: 0.3674 - auc: 0.9140\n",
      "Epoch 54/60\n",
      "259/259 [==============================] - 1s 5ms/step - loss: 0.3674 - auc: 0.9139\n",
      "Epoch 55/60\n",
      "259/259 [==============================] - 2s 9ms/step - loss: 0.3660 - auc: 0.9145\n",
      "Epoch 56/60\n",
      "259/259 [==============================] - 3s 13ms/step - loss: 0.3638 - auc: 0.9159\n",
      "Epoch 57/60\n",
      "259/259 [==============================] - 3s 13ms/step - loss: 0.3625 - auc: 0.9165\n",
      "Epoch 58/60\n",
      "259/259 [==============================] - 4s 14ms/step - loss: 0.3624 - auc: 0.9162\n",
      "Epoch 59/60\n",
      "259/259 [==============================] - 3s 13ms/step - loss: 0.3621 - auc: 0.9166\n",
      "Epoch 60/60\n",
      "259/259 [==============================] - 3s 13ms/step - loss: 0.3641 - auc: 0.9154\n",
      "65/65 [==============================] - 1s 10ms/step - loss: 0.4270 - auc: 0.8876\n",
      "[0.42695504426956177, 0.8876175880432129]\n",
      "classification report :               precision    recall  f1-score   support\n",
      "\n",
      "           0       0.81      0.79      0.80      1033\n",
      "           1       0.79      0.81      0.80      1033\n",
      "\n",
      "    accuracy                           0.80      2066\n",
      "   macro avg       0.80      0.80      0.80      2066\n",
      "weighted avg       0.80      0.80      0.80      2066\n",
      "\n"
     ]
    }
   ],
   "source": [
    "y_preds = ANN(X_train, y_train, X_test, y_test, 'binary_crossentropy', -1)"
   ]
  },
  {
   "cell_type": "markdown",
   "metadata": {},
   "source": [
    "Ensemble with undersampling"
   ]
  },
  {
   "cell_type": "code",
   "execution_count": 65,
   "metadata": {},
   "outputs": [],
   "source": [
    "\n",
    "# Regain Original features and labels\n",
    "X = df2.drop('Churn',axis='columns')\n",
    "y = df2['Churn']\n"
   ]
  },
  {
   "cell_type": "code",
   "execution_count": 66,
   "metadata": {},
   "outputs": [],
   "source": [
    "from sklearn.model_selection import train_test_split\n",
    "X_train, X_test, y_train, y_test = train_test_split(X, y, test_size=0.2, random_state=15, stratify=y)\n"
   ]
  },
  {
   "cell_type": "code",
   "execution_count": 67,
   "metadata": {},
   "outputs": [
    {
     "data": {
      "text/plain": [
       "0    4130\n",
       "1    1495\n",
       "Name: Churn, dtype: int64"
      ]
     },
     "execution_count": 67,
     "metadata": {},
     "output_type": "execute_result"
    }
   ],
   "source": [
    "y_train.value_counts()"
   ]
  },
  {
   "cell_type": "code",
   "execution_count": 68,
   "metadata": {},
   "outputs": [],
   "source": [
    "df3 = X_train.copy()\n",
    "df3['Churn'] = y_train"
   ]
  },
  {
   "cell_type": "code",
   "execution_count": 69,
   "metadata": {},
   "outputs": [],
   "source": [
    "df3_class0 = df3[df3.Churn==0]\n",
    "df3_class1 = df3[df3.Churn==1]\n"
   ]
  },
  {
   "cell_type": "code",
   "execution_count": 70,
   "metadata": {},
   "outputs": [],
   "source": [
    "def get_train_batch(df_majority, df_minority, start, end):\n",
    "    df_train = pd.concat([df_majority[start:end], df_minority], axis=0)\n",
    "\n",
    "    X_train = df_train.drop('Churn', axis='columns')\n",
    "    y_train = df_train.Churn\n",
    "    return X_train, y_train    "
   ]
  },
  {
   "cell_type": "code",
   "execution_count": 71,
   "metadata": {},
   "outputs": [
    {
     "name": "stdout",
     "output_type": "stream",
     "text": [
      "Epoch 1/60\n",
      "94/94 [==============================] - 3s 14ms/step - loss: 0.5948 - auc: 0.7694\n",
      "Epoch 2/60\n",
      "94/94 [==============================] - 1s 13ms/step - loss: 0.5106 - auc: 0.8265\n",
      "Epoch 3/60\n",
      "94/94 [==============================] - 1s 13ms/step - loss: 0.4951 - auc: 0.8379\n",
      "Epoch 4/60\n",
      "94/94 [==============================] - 1s 13ms/step - loss: 0.4899 - auc: 0.8415\n",
      "Epoch 5/60\n",
      "94/94 [==============================] - 1s 13ms/step - loss: 0.4829 - auc: 0.8469\n",
      "Epoch 6/60\n",
      "94/94 [==============================] - 1s 13ms/step - loss: 0.4811 - auc: 0.8479\n",
      "Epoch 7/60\n",
      "94/94 [==============================] - 1s 13ms/step - loss: 0.4788 - auc: 0.8502\n",
      "Epoch 8/60\n",
      "94/94 [==============================] - 1s 13ms/step - loss: 0.4753 - auc: 0.8525\n",
      "Epoch 9/60\n",
      "94/94 [==============================] - 1s 13ms/step - loss: 0.4738 - auc: 0.8535\n",
      "Epoch 10/60\n",
      "94/94 [==============================] - 1s 13ms/step - loss: 0.4723 - auc: 0.8544\n",
      "Epoch 11/60\n",
      "94/94 [==============================] - 1s 13ms/step - loss: 0.4711 - auc: 0.8552\n",
      "Epoch 12/60\n",
      "94/94 [==============================] - 1s 13ms/step - loss: 0.4688 - auc: 0.8567\n",
      "Epoch 13/60\n",
      "94/94 [==============================] - 1s 13ms/step - loss: 0.4681 - auc: 0.8568\n",
      "Epoch 14/60\n",
      "94/94 [==============================] - 1s 13ms/step - loss: 0.4671 - auc: 0.8576\n",
      "Epoch 15/60\n",
      "94/94 [==============================] - 1s 13ms/step - loss: 0.4661 - auc: 0.8586\n",
      "Epoch 16/60\n",
      "94/94 [==============================] - 1s 13ms/step - loss: 0.4656 - auc: 0.8586\n",
      "Epoch 17/60\n",
      "94/94 [==============================] - 1s 13ms/step - loss: 0.4633 - auc: 0.8602\n",
      "Epoch 18/60\n",
      "94/94 [==============================] - 1s 13ms/step - loss: 0.4622 - auc: 0.8609\n",
      "Epoch 19/60\n",
      "94/94 [==============================] - 1s 13ms/step - loss: 0.4615 - auc: 0.8614\n",
      "Epoch 20/60\n",
      "94/94 [==============================] - 1s 13ms/step - loss: 0.4598 - auc: 0.8628\n",
      "Epoch 21/60\n",
      "94/94 [==============================] - 1s 13ms/step - loss: 0.4591 - auc: 0.8631\n",
      "Epoch 22/60\n",
      "94/94 [==============================] - 1s 13ms/step - loss: 0.4580 - auc: 0.8634\n",
      "Epoch 23/60\n",
      "94/94 [==============================] - 1s 13ms/step - loss: 0.4569 - auc: 0.8645\n",
      "Epoch 24/60\n",
      "94/94 [==============================] - 1s 13ms/step - loss: 0.4563 - auc: 0.8646\n",
      "Epoch 25/60\n",
      "94/94 [==============================] - 1s 13ms/step - loss: 0.4546 - auc: 0.8660\n",
      "Epoch 26/60\n",
      "94/94 [==============================] - 1s 13ms/step - loss: 0.4550 - auc: 0.8655\n",
      "Epoch 27/60\n",
      "94/94 [==============================] - 1s 13ms/step - loss: 0.4532 - auc: 0.8667\n",
      "Epoch 28/60\n",
      "94/94 [==============================] - 1s 14ms/step - loss: 0.4547 - auc: 0.8657\n",
      "Epoch 29/60\n",
      "94/94 [==============================] - 1s 13ms/step - loss: 0.4503 - auc: 0.8689\n",
      "Epoch 30/60\n",
      "94/94 [==============================] - 1s 13ms/step - loss: 0.4493 - auc: 0.8691\n",
      "Epoch 31/60\n",
      "94/94 [==============================] - 1s 13ms/step - loss: 0.4490 - auc: 0.8694\n",
      "Epoch 32/60\n",
      "94/94 [==============================] - 1s 13ms/step - loss: 0.4467 - auc: 0.8712\n",
      "Epoch 33/60\n",
      "94/94 [==============================] - 1s 13ms/step - loss: 0.4478 - auc: 0.8699\n",
      "Epoch 34/60\n",
      "94/94 [==============================] - 1s 13ms/step - loss: 0.4465 - auc: 0.8707\n",
      "Epoch 35/60\n",
      "94/94 [==============================] - 1s 13ms/step - loss: 0.4447 - auc: 0.8723\n",
      "Epoch 36/60\n",
      "94/94 [==============================] - 1s 13ms/step - loss: 0.4432 - auc: 0.8730\n",
      "Epoch 37/60\n",
      "94/94 [==============================] - 1s 13ms/step - loss: 0.4425 - auc: 0.8735\n",
      "Epoch 38/60\n",
      "94/94 [==============================] - 1s 13ms/step - loss: 0.4424 - auc: 0.8734\n",
      "Epoch 39/60\n",
      "94/94 [==============================] - 1s 13ms/step - loss: 0.4410 - auc: 0.8746\n",
      "Epoch 40/60\n",
      "94/94 [==============================] - 1s 13ms/step - loss: 0.4400 - auc: 0.8753\n",
      "Epoch 41/60\n",
      "94/94 [==============================] - 1s 13ms/step - loss: 0.4386 - auc: 0.8761\n",
      "Epoch 42/60\n",
      "94/94 [==============================] - 1s 13ms/step - loss: 0.4382 - auc: 0.8764\n",
      "Epoch 43/60\n",
      "94/94 [==============================] - 1s 13ms/step - loss: 0.4365 - auc: 0.8776\n",
      "Epoch 44/60\n",
      "94/94 [==============================] - 1s 13ms/step - loss: 0.4350 - auc: 0.8785\n",
      "Epoch 45/60\n",
      "94/94 [==============================] - 1s 13ms/step - loss: 0.4349 - auc: 0.8784\n",
      "Epoch 46/60\n",
      "94/94 [==============================] - 1s 13ms/step - loss: 0.4364 - auc: 0.8774\n",
      "Epoch 47/60\n",
      "94/94 [==============================] - 1s 13ms/step - loss: 0.4339 - auc: 0.8789\n",
      "Epoch 48/60\n",
      "94/94 [==============================] - 1s 14ms/step - loss: 0.4322 - auc: 0.8804\n",
      "Epoch 49/60\n",
      "94/94 [==============================] - 1s 13ms/step - loss: 0.4304 - auc: 0.8815\n",
      "Epoch 50/60\n",
      "94/94 [==============================] - 1s 13ms/step - loss: 0.4309 - auc: 0.8809\n",
      "Epoch 51/60\n",
      "94/94 [==============================] - 1s 13ms/step - loss: 0.4295 - auc: 0.8823\n",
      "Epoch 52/60\n",
      "94/94 [==============================] - 1s 13ms/step - loss: 0.4282 - auc: 0.8828\n",
      "Epoch 53/60\n",
      "94/94 [==============================] - 1s 13ms/step - loss: 0.4275 - auc: 0.8828\n",
      "Epoch 54/60\n",
      "94/94 [==============================] - 1s 13ms/step - loss: 0.4268 - auc: 0.8835\n",
      "Epoch 55/60\n",
      "94/94 [==============================] - 1s 13ms/step - loss: 0.4258 - auc: 0.8842\n",
      "Epoch 56/60\n",
      "94/94 [==============================] - 1s 13ms/step - loss: 0.4251 - auc: 0.8847\n",
      "Epoch 57/60\n",
      "94/94 [==============================] - 1s 13ms/step - loss: 0.4243 - auc: 0.8848\n",
      "Epoch 58/60\n",
      "94/94 [==============================] - 1s 13ms/step - loss: 0.4222 - auc: 0.8865\n",
      "Epoch 59/60\n",
      "94/94 [==============================] - 1s 13ms/step - loss: 0.4224 - auc: 0.8861\n",
      "Epoch 60/60\n",
      "94/94 [==============================] - 1s 13ms/step - loss: 0.4212 - auc: 0.8868\n",
      "44/44 [==============================] - 1s 10ms/step - loss: 0.5279 - auc: 0.8168\n",
      "[0.5279244184494019, 0.8168281316757202]\n",
      "classification report :               precision    recall  f1-score   support\n",
      "\n",
      "           0       0.89      0.75      0.81      1033\n",
      "           1       0.51      0.74      0.61       374\n",
      "\n",
      "    accuracy                           0.75      1407\n",
      "   macro avg       0.70      0.74      0.71      1407\n",
      "weighted avg       0.79      0.75      0.76      1407\n",
      "\n"
     ]
    }
   ],
   "source": [
    "X_train, y_train = get_train_batch(df3_class0, df3_class1, 0, 1495)\n",
    "\n",
    "y_pred1 = ANN(X_train, y_train, X_test, y_test, 'binary_crossentropy', -1)"
   ]
  },
  {
   "cell_type": "code",
   "execution_count": 72,
   "metadata": {},
   "outputs": [
    {
     "name": "stdout",
     "output_type": "stream",
     "text": [
      "Epoch 1/60\n",
      "94/94 [==============================] - 2s 12ms/step - loss: 0.6400 - auc: 0.7351\n",
      "Epoch 2/60\n",
      "94/94 [==============================] - 1s 13ms/step - loss: 0.5360 - auc: 0.8121\n",
      "Epoch 3/60\n",
      "94/94 [==============================] - 1s 12ms/step - loss: 0.4988 - auc: 0.8328\n",
      "Epoch 4/60\n",
      "94/94 [==============================] - 1s 13ms/step - loss: 0.4858 - auc: 0.8431\n",
      "Epoch 5/60\n",
      "94/94 [==============================] - 1s 13ms/step - loss: 0.4834 - auc: 0.8443\n",
      "Epoch 6/60\n",
      "94/94 [==============================] - 1s 14ms/step - loss: 0.4804 - auc: 0.8474\n",
      "Epoch 7/60\n",
      "94/94 [==============================] - 1s 13ms/step - loss: 0.4761 - auc: 0.8493\n",
      "Epoch 8/60\n",
      "94/94 [==============================] - 1s 13ms/step - loss: 0.4730 - auc: 0.8527\n",
      "Epoch 9/60\n",
      "94/94 [==============================] - 1s 14ms/step - loss: 0.4730 - auc: 0.8514\n",
      "Epoch 10/60\n",
      "94/94 [==============================] - 1s 13ms/step - loss: 0.4685 - auc: 0.8550\n",
      "Epoch 11/60\n",
      "94/94 [==============================] - 1s 13ms/step - loss: 0.4666 - auc: 0.8568\n",
      "Epoch 12/60\n",
      "94/94 [==============================] - 1s 12ms/step - loss: 0.4652 - auc: 0.8575\n",
      "Epoch 13/60\n",
      "94/94 [==============================] - 1s 13ms/step - loss: 0.4628 - auc: 0.8594\n",
      "Epoch 14/60\n",
      "94/94 [==============================] - 1s 13ms/step - loss: 0.4614 - auc: 0.8606\n",
      "Epoch 15/60\n",
      "94/94 [==============================] - 1s 13ms/step - loss: 0.4603 - auc: 0.8607\n",
      "Epoch 16/60\n",
      "94/94 [==============================] - 1s 14ms/step - loss: 0.4576 - auc: 0.8628\n",
      "Epoch 17/60\n",
      "94/94 [==============================] - 1s 13ms/step - loss: 0.4594 - auc: 0.8612\n",
      "Epoch 18/60\n",
      "94/94 [==============================] - 1s 13ms/step - loss: 0.4537 - auc: 0.8655\n",
      "Epoch 19/60\n",
      "94/94 [==============================] - 1s 13ms/step - loss: 0.4534 - auc: 0.8653\n",
      "Epoch 20/60\n",
      "94/94 [==============================] - 1s 13ms/step - loss: 0.4529 - auc: 0.8657\n",
      "Epoch 21/60\n",
      "94/94 [==============================] - 1s 13ms/step - loss: 0.4501 - auc: 0.8680\n",
      "Epoch 22/60\n",
      "94/94 [==============================] - 1s 13ms/step - loss: 0.4508 - auc: 0.8675\n",
      "Epoch 23/60\n",
      "94/94 [==============================] - 1s 13ms/step - loss: 0.4491 - auc: 0.8686\n",
      "Epoch 24/60\n",
      "94/94 [==============================] - 1s 14ms/step - loss: 0.4450 - auc: 0.8708\n",
      "Epoch 25/60\n",
      "94/94 [==============================] - 1s 14ms/step - loss: 0.4451 - auc: 0.8714\n",
      "Epoch 26/60\n",
      "94/94 [==============================] - 1s 13ms/step - loss: 0.4446 - auc: 0.8705\n",
      "Epoch 27/60\n",
      "94/94 [==============================] - 1s 13ms/step - loss: 0.4427 - auc: 0.8725\n",
      "Epoch 28/60\n",
      "94/94 [==============================] - 1s 13ms/step - loss: 0.4413 - auc: 0.8731\n",
      "Epoch 29/60\n",
      "94/94 [==============================] - 1s 13ms/step - loss: 0.4396 - auc: 0.8745\n",
      "Epoch 30/60\n",
      "94/94 [==============================] - 1s 13ms/step - loss: 0.4392 - auc: 0.8745\n",
      "Epoch 31/60\n",
      "94/94 [==============================] - 1s 14ms/step - loss: 0.4373 - auc: 0.8761\n",
      "Epoch 32/60\n",
      "94/94 [==============================] - 1s 13ms/step - loss: 0.4368 - auc: 0.8758\n",
      "Epoch 33/60\n",
      "94/94 [==============================] - 1s 13ms/step - loss: 0.4352 - auc: 0.8771\n",
      "Epoch 34/60\n",
      "94/94 [==============================] - 1s 13ms/step - loss: 0.4342 - auc: 0.8774\n",
      "Epoch 35/60\n",
      "94/94 [==============================] - 1s 13ms/step - loss: 0.4320 - auc: 0.8791\n",
      "Epoch 36/60\n",
      "94/94 [==============================] - 1s 13ms/step - loss: 0.4327 - auc: 0.8782\n",
      "Epoch 37/60\n",
      "94/94 [==============================] - 1s 13ms/step - loss: 0.4292 - auc: 0.8809\n",
      "Epoch 38/60\n",
      "94/94 [==============================] - 1s 14ms/step - loss: 0.4305 - auc: 0.8801\n",
      "Epoch 39/60\n",
      "94/94 [==============================] - 1s 13ms/step - loss: 0.4273 - auc: 0.8819\n",
      "Epoch 40/60\n",
      "94/94 [==============================] - 1s 13ms/step - loss: 0.4267 - auc: 0.8820\n",
      "Epoch 41/60\n",
      "94/94 [==============================] - 1s 13ms/step - loss: 0.4253 - auc: 0.8834\n",
      "Epoch 42/60\n",
      "94/94 [==============================] - 1s 14ms/step - loss: 0.4242 - auc: 0.8836\n",
      "Epoch 43/60\n",
      "94/94 [==============================] - 1s 13ms/step - loss: 0.4238 - auc: 0.8843\n",
      "Epoch 44/60\n",
      "94/94 [==============================] - 1s 14ms/step - loss: 0.4236 - auc: 0.8842\n",
      "Epoch 45/60\n",
      "94/94 [==============================] - 1s 14ms/step - loss: 0.4249 - auc: 0.8834\n",
      "Epoch 46/60\n",
      "94/94 [==============================] - 1s 13ms/step - loss: 0.4224 - auc: 0.8852\n",
      "Epoch 47/60\n",
      "94/94 [==============================] - 1s 13ms/step - loss: 0.4214 - auc: 0.8852\n",
      "Epoch 48/60\n",
      "94/94 [==============================] - 1s 14ms/step - loss: 0.4172 - auc: 0.8881\n",
      "Epoch 49/60\n",
      "94/94 [==============================] - 1s 13ms/step - loss: 0.4176 - auc: 0.8877\n",
      "Epoch 50/60\n",
      "94/94 [==============================] - 1s 13ms/step - loss: 0.4181 - auc: 0.8872\n",
      "Epoch 51/60\n",
      "94/94 [==============================] - 1s 13ms/step - loss: 0.4164 - auc: 0.8881\n",
      "Epoch 52/60\n",
      "94/94 [==============================] - 1s 13ms/step - loss: 0.4148 - auc: 0.8894\n",
      "Epoch 53/60\n",
      "94/94 [==============================] - 1s 13ms/step - loss: 0.4132 - auc: 0.8901\n",
      "Epoch 54/60\n",
      "94/94 [==============================] - 1s 14ms/step - loss: 0.4142 - auc: 0.8896\n",
      "Epoch 55/60\n",
      "94/94 [==============================] - 1s 13ms/step - loss: 0.4134 - auc: 0.8904\n",
      "Epoch 56/60\n",
      "94/94 [==============================] - 1s 13ms/step - loss: 0.4118 - auc: 0.8907\n",
      "Epoch 57/60\n",
      "94/94 [==============================] - 1s 13ms/step - loss: 0.4113 - auc: 0.8909\n",
      "Epoch 58/60\n",
      "94/94 [==============================] - 1s 14ms/step - loss: 0.4095 - auc: 0.8923\n",
      "Epoch 59/60\n",
      "94/94 [==============================] - 1s 13ms/step - loss: 0.4070 - auc: 0.8937\n",
      "Epoch 60/60\n",
      "94/94 [==============================] - 1s 13ms/step - loss: 0.4067 - auc: 0.8938\n",
      "44/44 [==============================] - 1s 10ms/step - loss: 0.6192 - auc: 0.8101\n",
      "[0.619204044342041, 0.8100814819335938]\n",
      "classification report :               precision    recall  f1-score   support\n",
      "\n",
      "           0       0.90      0.64      0.75      1033\n",
      "           1       0.45      0.81      0.58       374\n",
      "\n",
      "    accuracy                           0.69      1407\n",
      "   macro avg       0.68      0.73      0.67      1407\n",
      "weighted avg       0.78      0.69      0.71      1407\n",
      "\n"
     ]
    }
   ],
   "source": [
    "X_train, y_train = get_train_batch(df3_class0, df3_class1, 1495, 2990)\n",
    "\n",
    "y_pred2 = ANN(X_train, y_train, X_test, y_test, 'binary_crossentropy', -1)"
   ]
  },
  {
   "cell_type": "code",
   "execution_count": 73,
   "metadata": {},
   "outputs": [
    {
     "name": "stdout",
     "output_type": "stream",
     "text": [
      "Epoch 1/60\n",
      "83/83 [==============================] - 2s 13ms/step - loss: 0.6439 - auc: 0.6828\n",
      "Epoch 2/60\n",
      "83/83 [==============================] - 1s 13ms/step - loss: 0.5479 - auc: 0.8029\n",
      "Epoch 3/60\n",
      "83/83 [==============================] - 1s 13ms/step - loss: 0.5057 - auc: 0.8282\n",
      "Epoch 4/60\n",
      "83/83 [==============================] - 1s 14ms/step - loss: 0.4887 - auc: 0.8377\n",
      "Epoch 5/60\n",
      "83/83 [==============================] - 1s 13ms/step - loss: 0.4813 - auc: 0.8417\n",
      "Epoch 6/60\n",
      "83/83 [==============================] - 1s 13ms/step - loss: 0.4768 - auc: 0.8436\n",
      "Epoch 7/60\n",
      "83/83 [==============================] - 1s 14ms/step - loss: 0.4721 - auc: 0.8473\n",
      "Epoch 8/60\n",
      "83/83 [==============================] - 1s 13ms/step - loss: 0.4706 - auc: 0.8473\n",
      "Epoch 9/60\n",
      "83/83 [==============================] - 1s 14ms/step - loss: 0.4690 - auc: 0.8483\n",
      "Epoch 10/60\n",
      "83/83 [==============================] - 1s 13ms/step - loss: 0.4679 - auc: 0.8489\n",
      "Epoch 11/60\n",
      "83/83 [==============================] - 1s 13ms/step - loss: 0.4706 - auc: 0.8465\n",
      "Epoch 12/60\n",
      "83/83 [==============================] - 1s 12ms/step - loss: 0.4631 - auc: 0.8536\n",
      "Epoch 13/60\n",
      "83/83 [==============================] - 1s 13ms/step - loss: 0.4623 - auc: 0.8536\n",
      "Epoch 14/60\n",
      "83/83 [==============================] - 1s 12ms/step - loss: 0.4608 - auc: 0.8546\n",
      "Epoch 15/60\n",
      "83/83 [==============================] - 1s 12ms/step - loss: 0.4591 - auc: 0.8558\n",
      "Epoch 16/60\n",
      "83/83 [==============================] - 1s 12ms/step - loss: 0.4587 - auc: 0.8563\n",
      "Epoch 17/60\n",
      "83/83 [==============================] - 1s 13ms/step - loss: 0.4585 - auc: 0.8559\n",
      "Epoch 18/60\n",
      "83/83 [==============================] - 1s 13ms/step - loss: 0.4545 - auc: 0.8593\n",
      "Epoch 19/60\n",
      "83/83 [==============================] - 1s 12ms/step - loss: 0.4522 - auc: 0.8610\n",
      "Epoch 20/60\n",
      "83/83 [==============================] - 1s 13ms/step - loss: 0.4506 - auc: 0.8621\n",
      "Epoch 21/60\n",
      "83/83 [==============================] - 1s 12ms/step - loss: 0.4493 - auc: 0.8636\n",
      "Epoch 22/60\n",
      "83/83 [==============================] - 1s 12ms/step - loss: 0.4497 - auc: 0.8629\n",
      "Epoch 23/60\n",
      "83/83 [==============================] - 1s 13ms/step - loss: 0.4467 - auc: 0.8650\n",
      "Epoch 24/60\n",
      "83/83 [==============================] - 1s 13ms/step - loss: 0.4444 - auc: 0.8667\n",
      "Epoch 25/60\n",
      "83/83 [==============================] - 1s 13ms/step - loss: 0.4438 - auc: 0.8673\n",
      "Epoch 26/60\n",
      "83/83 [==============================] - 1s 13ms/step - loss: 0.4424 - auc: 0.8677\n",
      "Epoch 27/60\n",
      "83/83 [==============================] - 1s 13ms/step - loss: 0.4413 - auc: 0.8687\n",
      "Epoch 28/60\n",
      "83/83 [==============================] - 1s 13ms/step - loss: 0.4390 - auc: 0.8702\n",
      "Epoch 29/60\n",
      "83/83 [==============================] - 1s 13ms/step - loss: 0.4377 - auc: 0.8712\n",
      "Epoch 30/60\n",
      "83/83 [==============================] - 1s 13ms/step - loss: 0.4372 - auc: 0.8715\n",
      "Epoch 31/60\n",
      "83/83 [==============================] - 1s 13ms/step - loss: 0.4362 - auc: 0.8712\n",
      "Epoch 32/60\n",
      "83/83 [==============================] - 1s 12ms/step - loss: 0.4336 - auc: 0.8738\n",
      "Epoch 33/60\n",
      "83/83 [==============================] - 1s 13ms/step - loss: 0.4326 - auc: 0.8748\n",
      "Epoch 34/60\n",
      "83/83 [==============================] - 1s 13ms/step - loss: 0.4309 - auc: 0.8752\n",
      "Epoch 35/60\n",
      "83/83 [==============================] - 1s 12ms/step - loss: 0.4302 - auc: 0.8764\n",
      "Epoch 36/60\n",
      "83/83 [==============================] - 1s 13ms/step - loss: 0.4291 - auc: 0.8771\n",
      "Epoch 37/60\n",
      "83/83 [==============================] - 1s 14ms/step - loss: 0.4269 - auc: 0.8782\n",
      "Epoch 38/60\n",
      "83/83 [==============================] - 1s 13ms/step - loss: 0.4270 - auc: 0.8779\n",
      "Epoch 39/60\n",
      "83/83 [==============================] - 1s 13ms/step - loss: 0.4250 - auc: 0.8794\n",
      "Epoch 40/60\n",
      "83/83 [==============================] - 1s 13ms/step - loss: 0.4270 - auc: 0.8778\n",
      "Epoch 41/60\n",
      "83/83 [==============================] - 1s 13ms/step - loss: 0.4233 - auc: 0.8810\n",
      "Epoch 42/60\n",
      "83/83 [==============================] - 1s 13ms/step - loss: 0.4223 - auc: 0.8814\n",
      "Epoch 43/60\n",
      "83/83 [==============================] - 1s 13ms/step - loss: 0.4200 - auc: 0.8825\n",
      "Epoch 44/60\n",
      "83/83 [==============================] - 1s 12ms/step - loss: 0.4189 - auc: 0.8835\n",
      "Epoch 45/60\n",
      "83/83 [==============================] - 1s 13ms/step - loss: 0.4184 - auc: 0.8835\n",
      "Epoch 46/60\n",
      "83/83 [==============================] - 1s 13ms/step - loss: 0.4202 - auc: 0.8816\n",
      "Epoch 47/60\n",
      "83/83 [==============================] - 1s 14ms/step - loss: 0.4157 - auc: 0.8855\n",
      "Epoch 48/60\n",
      "83/83 [==============================] - 1s 13ms/step - loss: 0.4156 - auc: 0.8850\n",
      "Epoch 49/60\n",
      "83/83 [==============================] - 1s 13ms/step - loss: 0.4142 - auc: 0.8861\n",
      "Epoch 50/60\n",
      "83/83 [==============================] - 1s 13ms/step - loss: 0.4135 - auc: 0.8867\n",
      "Epoch 51/60\n",
      "83/83 [==============================] - 1s 13ms/step - loss: 0.4129 - auc: 0.8865\n",
      "Epoch 52/60\n",
      "83/83 [==============================] - 1s 14ms/step - loss: 0.4107 - auc: 0.8881\n",
      "Epoch 53/60\n",
      "83/83 [==============================] - 1s 14ms/step - loss: 0.4101 - auc: 0.8888\n",
      "Epoch 54/60\n",
      "83/83 [==============================] - 1s 13ms/step - loss: 0.4096 - auc: 0.8888\n",
      "Epoch 55/60\n",
      "83/83 [==============================] - 1s 13ms/step - loss: 0.4075 - auc: 0.8901\n",
      "Epoch 56/60\n",
      "83/83 [==============================] - 1s 13ms/step - loss: 0.4059 - auc: 0.8909\n",
      "Epoch 57/60\n",
      "83/83 [==============================] - 1s 13ms/step - loss: 0.4060 - auc: 0.8914\n",
      "Epoch 58/60\n",
      "83/83 [==============================] - 1s 13ms/step - loss: 0.4044 - auc: 0.8916\n",
      "Epoch 59/60\n",
      "83/83 [==============================] - 1s 13ms/step - loss: 0.4019 - auc: 0.8943\n",
      "Epoch 60/60\n",
      "83/83 [==============================] - 1s 14ms/step - loss: 0.4042 - auc: 0.8918\n",
      "44/44 [==============================] - 1s 9ms/step - loss: 0.5822 - auc: 0.8163\n",
      "[0.5822011828422546, 0.8163376450538635]\n",
      "classification report :               precision    recall  f1-score   support\n",
      "\n",
      "           0       0.91      0.66      0.76      1033\n",
      "           1       0.46      0.81      0.59       374\n",
      "\n",
      "    accuracy                           0.70      1407\n",
      "   macro avg       0.68      0.73      0.67      1407\n",
      "weighted avg       0.79      0.70      0.71      1407\n",
      "\n"
     ]
    }
   ],
   "source": [
    "X_train, y_train = get_train_batch(df3_class0, df3_class1, 2990, 4130)\n",
    "\n",
    "y_pred3 = ANN(X_train, y_train, X_test, y_test, 'binary_crossentropy', -1)"
   ]
  },
  {
   "cell_type": "code",
   "execution_count": 74,
   "metadata": {},
   "outputs": [],
   "source": [
    "y_pred_final = y_pred1.copy()\n",
    "for i in range(len(y_pred1)):\n",
    "    n_ones = y_pred1[i] + y_pred2[i] + y_pred3[i]\n",
    "    if n_ones>1:\n",
    "        y_pred_final[i] = 1\n",
    "    else:\n",
    "        y_pred_final[i] = 0"
   ]
  },
  {
   "cell_type": "code",
   "execution_count": 75,
   "metadata": {},
   "outputs": [
    {
     "name": "stdout",
     "output_type": "stream",
     "text": [
      "              precision    recall  f1-score   support\n",
      "\n",
      "           0       0.90      0.69      0.78      1033\n",
      "           1       0.47      0.79      0.59       374\n",
      "\n",
      "    accuracy                           0.71      1407\n",
      "   macro avg       0.69      0.74      0.68      1407\n",
      "weighted avg       0.79      0.71      0.73      1407\n",
      "\n"
     ]
    }
   ],
   "source": [
    "cl_rep = classification_report(y_test, y_pred_final)\n",
    "print(cl_rep)"
   ]
  },
  {
   "cell_type": "code",
   "execution_count": 76,
   "metadata": {},
   "outputs": [],
   "source": [
    "from sklearn.linear_model import LogisticRegression"
   ]
  },
  {
   "cell_type": "code",
   "execution_count": 77,
   "metadata": {},
   "outputs": [],
   "source": [
    "X_train, y_train = get_train_batch(df3_class0, df3_class1, 0, 1495)\n",
    "\n",
    "model1 = LogisticRegression()\n",
    "model1.fit(X_train, y_train)\n",
    "y_pred1 = model1.predict(X_test)"
   ]
  },
  {
   "cell_type": "code",
   "execution_count": 78,
   "metadata": {},
   "outputs": [],
   "source": [
    "X_train, y_train = get_train_batch(df3_class0, df3_class1, 1495, 2990)\n",
    "\n",
    "model2 = LogisticRegression()\n",
    "model2.fit(X_train, y_train)\n",
    "y_pred2 = model2.predict(X_test)\n"
   ]
  },
  {
   "cell_type": "code",
   "execution_count": 79,
   "metadata": {},
   "outputs": [],
   "source": [
    "X_train, y_train = get_train_batch(df3_class0, df3_class1, 2990, 4130)\n",
    "\n",
    "model3 = LogisticRegression()\n",
    "model3.fit(X_train, y_train)\n",
    "y_pred3 = model3.predict(X_test)"
   ]
  },
  {
   "cell_type": "code",
   "execution_count": 80,
   "metadata": {},
   "outputs": [],
   "source": [
    "y_pred_final = y_pred1.copy()\n",
    "for i in range(len(y_pred1)):\n",
    "    n_ones = y_pred1[i] + y_pred2[i] + y_pred3[i]\n",
    "    if n_ones>1:\n",
    "        y_pred_final[i] = 1\n",
    "    else:\n",
    "        y_pred_final[i] = 0"
   ]
  },
  {
   "cell_type": "code",
   "execution_count": 81,
   "metadata": {},
   "outputs": [
    {
     "name": "stdout",
     "output_type": "stream",
     "text": [
      "              precision    recall  f1-score   support\n",
      "\n",
      "           0       0.91      0.71      0.80      1033\n",
      "           1       0.50      0.80      0.62       374\n",
      "\n",
      "    accuracy                           0.73      1407\n",
      "   macro avg       0.70      0.76      0.71      1407\n",
      "weighted avg       0.80      0.73      0.75      1407\n",
      "\n"
     ]
    }
   ],
   "source": [
    "cl_rep = classification_report(y_test, y_pred_final)\n",
    "print(cl_rep)"
   ]
  },
  {
   "cell_type": "code",
   "execution_count": null,
   "metadata": {},
   "outputs": [],
   "source": []
  }
 ],
 "metadata": {
  "interpreter": {
   "hash": "cce9d1a04fcd683270bf1e298cc129a69c67dd91fb9ebfb7d5a67245bd3cbf78"
  },
  "kernelspec": {
   "display_name": "Python 3.7.9 ('venv': venv)",
   "language": "python",
   "name": "python3"
  },
  "language_info": {
   "codemirror_mode": {
    "name": "ipython",
    "version": 3
   },
   "file_extension": ".py",
   "mimetype": "text/x-python",
   "name": "python",
   "nbconvert_exporter": "python",
   "pygments_lexer": "ipython3",
   "version": "3.7.9"
  },
  "orig_nbformat": 4
 },
 "nbformat": 4,
 "nbformat_minor": 2
}
